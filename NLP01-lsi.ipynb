{
 "cells": [
  {
   "cell_type": "markdown",
   "id": "0047097e-bca0-4aab-ba94-abe9ce36b39a",
   "metadata": {
    "tags": []
   },
   "source": [
    "# LSI"
   ]
  },
  {
   "cell_type": "code",
   "execution_count": 1,
   "id": "592c7b5c",
   "metadata": {},
   "outputs": [],
   "source": [
    "import warnings\n",
    "warnings.filterwarnings('ignore')"
   ]
  },
  {
   "cell_type": "code",
   "execution_count": 2,
   "id": "6a6cf55d",
   "metadata": {},
   "outputs": [],
   "source": [
    "import pandas as pd"
   ]
  },
  {
   "cell_type": "code",
   "execution_count": 3,
   "id": "2c27f2e4",
   "metadata": {},
   "outputs": [],
   "source": [
    "import numpy as np"
   ]
  },
  {
   "cell_type": "code",
   "execution_count": 4,
   "id": "b172c4ce",
   "metadata": {},
   "outputs": [],
   "source": [
    "import pycaret as pc"
   ]
  },
  {
   "cell_type": "code",
   "execution_count": 5,
   "id": "e26aed0b",
   "metadata": {},
   "outputs": [],
   "source": [
    "import sklearn as sk"
   ]
  },
  {
   "cell_type": "code",
   "execution_count": 6,
   "id": "d88eab67",
   "metadata": {},
   "outputs": [],
   "source": [
    "from pycaret.nlp import *"
   ]
  },
  {
   "cell_type": "code",
   "execution_count": 7,
   "id": "b0da1c9a",
   "metadata": {},
   "outputs": [],
   "source": [
    "pd.set_option('display.max_columns', None)"
   ]
  },
  {
   "cell_type": "code",
   "execution_count": 8,
   "id": "2144cf21",
   "metadata": {},
   "outputs": [
    {
     "name": "stdout",
     "output_type": "stream",
     "text": [
      "Tokenization took: 39.55 ms\n",
      "Type conversion took: 45.39 ms\n",
      "Parser memory cleanup took: 0.01 ms\n"
     ]
    }
   ],
   "source": [
    "data = pd.read_csv(\"./kiva.csv\", sep=',', decimal='.', verbose= True, engine='c') "
   ]
  },
  {
   "cell_type": "code",
   "execution_count": 9,
   "id": "29221518",
   "metadata": {},
   "outputs": [
    {
     "data": {
      "text/plain": [
       "(6818, 7)"
      ]
     },
     "execution_count": 9,
     "metadata": {},
     "output_type": "execute_result"
    }
   ],
   "source": [
    "data.shape"
   ]
  },
  {
   "cell_type": "code",
   "execution_count": 10,
   "id": "623b9caa",
   "metadata": {},
   "outputs": [
    {
     "data": {
      "text/html": [
       "<div>\n",
       "<style scoped>\n",
       "    .dataframe tbody tr th:only-of-type {\n",
       "        vertical-align: middle;\n",
       "    }\n",
       "\n",
       "    .dataframe tbody tr th {\n",
       "        vertical-align: top;\n",
       "    }\n",
       "\n",
       "    .dataframe thead th {\n",
       "        text-align: right;\n",
       "    }\n",
       "</style>\n",
       "<table border=\"1\" class=\"dataframe\">\n",
       "  <thead>\n",
       "    <tr style=\"text-align: right;\">\n",
       "      <th></th>\n",
       "      <th>country</th>\n",
       "      <th>en</th>\n",
       "      <th>gender</th>\n",
       "      <th>loan_amount</th>\n",
       "      <th>nonpayment</th>\n",
       "      <th>sector</th>\n",
       "      <th>status</th>\n",
       "    </tr>\n",
       "  </thead>\n",
       "  <tbody>\n",
       "    <tr>\n",
       "      <th>0</th>\n",
       "      <td>Dominican Republic</td>\n",
       "      <td>\"Banco Esperanza\" is a group of 10 women looki...</td>\n",
       "      <td>F</td>\n",
       "      <td>1225</td>\n",
       "      <td>partner</td>\n",
       "      <td>Retail</td>\n",
       "      <td>0</td>\n",
       "    </tr>\n",
       "    <tr>\n",
       "      <th>1</th>\n",
       "      <td>Dominican Republic</td>\n",
       "      <td>\"Caminemos Hacia Adelante\" or \"Walking Forward...</td>\n",
       "      <td>F</td>\n",
       "      <td>1975</td>\n",
       "      <td>lender</td>\n",
       "      <td>Clothing</td>\n",
       "      <td>0</td>\n",
       "    </tr>\n",
       "    <tr>\n",
       "      <th>2</th>\n",
       "      <td>Dominican Republic</td>\n",
       "      <td>\"Creciendo Por La Union\" is a group of 10 peop...</td>\n",
       "      <td>F</td>\n",
       "      <td>2175</td>\n",
       "      <td>partner</td>\n",
       "      <td>Clothing</td>\n",
       "      <td>0</td>\n",
       "    </tr>\n",
       "    <tr>\n",
       "      <th>3</th>\n",
       "      <td>Dominican Republic</td>\n",
       "      <td>\"Cristo Vive\" (\"Christ lives\" is a group of 10...</td>\n",
       "      <td>F</td>\n",
       "      <td>1425</td>\n",
       "      <td>partner</td>\n",
       "      <td>Clothing</td>\n",
       "      <td>0</td>\n",
       "    </tr>\n",
       "    <tr>\n",
       "      <th>4</th>\n",
       "      <td>Dominican Republic</td>\n",
       "      <td>\"Cristo Vive\" is a large group of 35 people, 2...</td>\n",
       "      <td>F</td>\n",
       "      <td>4025</td>\n",
       "      <td>partner</td>\n",
       "      <td>Food</td>\n",
       "      <td>0</td>\n",
       "    </tr>\n",
       "  </tbody>\n",
       "</table>\n",
       "</div>"
      ],
      "text/plain": [
       "              country                                                 en  \\\n",
       "0  Dominican Republic  \"Banco Esperanza\" is a group of 10 women looki...   \n",
       "1  Dominican Republic  \"Caminemos Hacia Adelante\" or \"Walking Forward...   \n",
       "2  Dominican Republic  \"Creciendo Por La Union\" is a group of 10 peop...   \n",
       "3  Dominican Republic  \"Cristo Vive\" (\"Christ lives\" is a group of 10...   \n",
       "4  Dominican Republic  \"Cristo Vive\" is a large group of 35 people, 2...   \n",
       "\n",
       "  gender  loan_amount nonpayment    sector  status  \n",
       "0      F         1225    partner    Retail       0  \n",
       "1      F         1975     lender  Clothing       0  \n",
       "2      F         2175    partner  Clothing       0  \n",
       "3      F         1425    partner  Clothing       0  \n",
       "4      F         4025    partner      Food       0  "
      ]
     },
     "execution_count": 10,
     "metadata": {},
     "output_type": "execute_result"
    }
   ],
   "source": [
    "data.head()"
   ]
  },
  {
   "cell_type": "code",
   "execution_count": 11,
   "id": "289bc422",
   "metadata": {},
   "outputs": [],
   "source": [
    "data = data.sample(1000, random_state=786).reset_index(drop=True)"
   ]
  },
  {
   "cell_type": "code",
   "execution_count": 12,
   "id": "7662b5b7",
   "metadata": {},
   "outputs": [
    {
     "data": {
      "text/plain": [
       "(1000, 7)"
      ]
     },
     "execution_count": 12,
     "metadata": {},
     "output_type": "execute_result"
    }
   ],
   "source": [
    "data.shape"
   ]
  },
  {
   "cell_type": "code",
   "execution_count": 13,
   "id": "34e732d7",
   "metadata": {},
   "outputs": [
    {
     "data": {
      "text/html": [
       "<style type=\"text/css\">\n",
       "</style>\n",
       "<table id=\"T_09788_\">\n",
       "  <thead>\n",
       "    <tr>\n",
       "      <th class=\"col_heading level0 col0\" >Description</th>\n",
       "      <th class=\"col_heading level0 col1\" >Value</th>\n",
       "    </tr>\n",
       "  </thead>\n",
       "  <tbody>\n",
       "    <tr>\n",
       "      <td id=\"T_09788_row0_col0\" class=\"data row0 col0\" >session_id</td>\n",
       "      <td id=\"T_09788_row0_col1\" class=\"data row0 col1\" >101</td>\n",
       "    </tr>\n",
       "    <tr>\n",
       "      <td id=\"T_09788_row1_col0\" class=\"data row1 col0\" >Documents</td>\n",
       "      <td id=\"T_09788_row1_col1\" class=\"data row1 col1\" >1000</td>\n",
       "    </tr>\n",
       "    <tr>\n",
       "      <td id=\"T_09788_row2_col0\" class=\"data row2 col0\" >Vocab Size</td>\n",
       "      <td id=\"T_09788_row2_col1\" class=\"data row2 col1\" >4636</td>\n",
       "    </tr>\n",
       "    <tr>\n",
       "      <td id=\"T_09788_row3_col0\" class=\"data row3 col0\" >Custom Stopwords</td>\n",
       "      <td id=\"T_09788_row3_col1\" class=\"data row3 col1\" >True</td>\n",
       "    </tr>\n",
       "  </tbody>\n",
       "</table>\n"
      ],
      "text/plain": [
       "<pandas.io.formats.style.Styler at 0x13d57b070>"
      ]
     },
     "metadata": {},
     "output_type": "display_data"
    }
   ],
   "source": [
    "exp_nlp101 = setup(data = data, \n",
    "                   target = 'en', \n",
    "                   custom_stopwords = ['loan', 'income', 'usd', 'many', 'also', 'make', 'business', 'buy', \n",
    "                                       'sell', 'purchase','year', 'people', 'able', 'enable', 'old', 'woman',\n",
    "                                       'child', 'school'],\n",
    "                   session_id = 101,\n",
    "                   log_experiment = True,\n",
    "                   experiment_name = 'EX001')"
   ]
  },
  {
   "cell_type": "raw",
   "id": "04563699",
   "metadata": {},
   "source": [
    "data: pandas.Dataframe\n",
    "target: str - name of column containing text\n",
    "custom_stopwords: list\n",
    "html: bool, default = True - prevents runtime display of monitor\n",
    "session_id: int\n",
    "log_experiment: bool - MLFlow \n",
    "experiment_name: str \n",
    "experiment_custom_tags: dict - passed to the mlflow.set_tags to add new custom tags for the experiment\n",
    "log_plots: bool - certain plots are logged automatically in the MLFlow   \n",
    "log_data: bool - dataset is logged on the MLflow\n",
    "verbose: bool, default = True\n",
    "    Returns: Global variables that can be changed using the set_config function    "
   ]
  },
  {
   "cell_type": "code",
   "execution_count": 14,
   "id": "56a5ccec",
   "metadata": {},
   "outputs": [],
   "source": [
    "lsi = create_model('lsi', num_topics = 4, multi_core = True)"
   ]
  },
  {
   "cell_type": "raw",
   "id": "8b0c3ccc",
   "metadata": {},
   "source": [
    "Models available in the model library (ID - Name):\n",
    "'lda' - Latent Dirichlet Allocation\n",
    "'lsi' - Latent Semantic Indexing\n",
    "'hdp' - Hierarchical Dirichlet Process\n",
    "'rp'  - Random Projections\n",
    "'nmf' - Non-Negative Matrix Factorization"
   ]
  },
  {
   "cell_type": "raw",
   "id": "20314d7b",
   "metadata": {},
   "source": [
    "multi_core: bool\n",
    "topic_num: str - Topic number to be passed as a string\n",
    "save: string - Plot is saved as png file in the specified directory when the path to the directory is specified\n",
    "system: bool - Must remain True all times\n",
    "display_format: str - To display plots in Streamlit (https://www.streamlit.io/), set this to ‘streamlit’.    "
   ]
  },
  {
   "cell_type": "code",
   "execution_count": 15,
   "id": "60bb22d8",
   "metadata": {},
   "outputs": [
    {
     "name": "stdout",
     "output_type": "stream",
     "text": [
      "LsiModel(num_terms=4636, num_topics=4, decay=1.0, chunksize=20000)\n"
     ]
    }
   ],
   "source": [
    "print(lsi)"
   ]
  },
  {
   "cell_type": "code",
   "execution_count": 16,
   "id": "4d32dc82",
   "metadata": {},
   "outputs": [],
   "source": [
    "lsi_results = assign_model(lsi)"
   ]
  },
  {
   "cell_type": "code",
   "execution_count": 17,
   "id": "1d931907",
   "metadata": {},
   "outputs": [
    {
     "data": {
      "text/html": [
       "<div>\n",
       "<style scoped>\n",
       "    .dataframe tbody tr th:only-of-type {\n",
       "        vertical-align: middle;\n",
       "    }\n",
       "\n",
       "    .dataframe tbody tr th {\n",
       "        vertical-align: top;\n",
       "    }\n",
       "\n",
       "    .dataframe thead th {\n",
       "        text-align: right;\n",
       "    }\n",
       "</style>\n",
       "<table border=\"1\" class=\"dataframe\">\n",
       "  <thead>\n",
       "    <tr style=\"text-align: right;\">\n",
       "      <th></th>\n",
       "      <th>country</th>\n",
       "      <th>en</th>\n",
       "      <th>gender</th>\n",
       "      <th>loan_amount</th>\n",
       "      <th>nonpayment</th>\n",
       "      <th>sector</th>\n",
       "      <th>status</th>\n",
       "      <th>Topic_0</th>\n",
       "      <th>Topic_1</th>\n",
       "      <th>Topic_2</th>\n",
       "      <th>Topic_3</th>\n",
       "      <th>Dominant_Topic</th>\n",
       "    </tr>\n",
       "  </thead>\n",
       "  <tbody>\n",
       "    <tr>\n",
       "      <th>0</th>\n",
       "      <td>Kenya</td>\n",
       "      <td>praxide marry primary train tailor operate sma...</td>\n",
       "      <td>F</td>\n",
       "      <td>75</td>\n",
       "      <td>partner</td>\n",
       "      <td>Services</td>\n",
       "      <td>0</td>\n",
       "      <td>1.664004</td>\n",
       "      <td>-0.906823</td>\n",
       "      <td>-0.320738</td>\n",
       "      <td>1.404916</td>\n",
       "      <td>Topic 0</td>\n",
       "    </tr>\n",
       "    <tr>\n",
       "      <th>1</th>\n",
       "      <td>Kenya</td>\n",
       "      <td>gynaecology practitioner run live wife biologi...</td>\n",
       "      <td>M</td>\n",
       "      <td>1200</td>\n",
       "      <td>partner</td>\n",
       "      <td>Health</td>\n",
       "      <td>0</td>\n",
       "      <td>1.631761</td>\n",
       "      <td>-0.804836</td>\n",
       "      <td>0.423694</td>\n",
       "      <td>-0.297599</td>\n",
       "      <td>Topic 0</td>\n",
       "    </tr>\n",
       "    <tr>\n",
       "      <th>2</th>\n",
       "      <td>Dominican Republic</td>\n",
       "      <td>live boy girl range new use clothing support f...</td>\n",
       "      <td>F</td>\n",
       "      <td>150</td>\n",
       "      <td>partner</td>\n",
       "      <td>Clothing</td>\n",
       "      <td>0</td>\n",
       "      <td>2.422495</td>\n",
       "      <td>-0.606486</td>\n",
       "      <td>0.091512</td>\n",
       "      <td>0.380948</td>\n",
       "      <td>Topic 0</td>\n",
       "    </tr>\n",
       "    <tr>\n",
       "      <th>3</th>\n",
       "      <td>Kenya</td>\n",
       "      <td>phanice marry daughter secondary boy primary f...</td>\n",
       "      <td>F</td>\n",
       "      <td>150</td>\n",
       "      <td>lender</td>\n",
       "      <td>Services</td>\n",
       "      <td>1</td>\n",
       "      <td>1.336836</td>\n",
       "      <td>-0.750611</td>\n",
       "      <td>-0.180911</td>\n",
       "      <td>0.824824</td>\n",
       "      <td>Topic 0</td>\n",
       "    </tr>\n",
       "    <tr>\n",
       "      <th>4</th>\n",
       "      <td>Kenya</td>\n",
       "      <td>hotel last get good return competition increas...</td>\n",
       "      <td>F</td>\n",
       "      <td>300</td>\n",
       "      <td>lender</td>\n",
       "      <td>Food</td>\n",
       "      <td>1</td>\n",
       "      <td>1.163861</td>\n",
       "      <td>-0.906079</td>\n",
       "      <td>-0.120361</td>\n",
       "      <td>1.259996</td>\n",
       "      <td>Topic 3</td>\n",
       "    </tr>\n",
       "  </tbody>\n",
       "</table>\n",
       "</div>"
      ],
      "text/plain": [
       "              country                                                 en  \\\n",
       "0               Kenya  praxide marry primary train tailor operate sma...   \n",
       "1               Kenya  gynaecology practitioner run live wife biologi...   \n",
       "2  Dominican Republic  live boy girl range new use clothing support f...   \n",
       "3               Kenya  phanice marry daughter secondary boy primary f...   \n",
       "4               Kenya  hotel last get good return competition increas...   \n",
       "\n",
       "  gender  loan_amount nonpayment    sector  status   Topic_0   Topic_1  \\\n",
       "0      F           75    partner  Services       0  1.664004 -0.906823   \n",
       "1      M         1200    partner    Health       0  1.631761 -0.804836   \n",
       "2      F          150    partner  Clothing       0  2.422495 -0.606486   \n",
       "3      F          150     lender  Services       1  1.336836 -0.750611   \n",
       "4      F          300     lender      Food       1  1.163861 -0.906079   \n",
       "\n",
       "    Topic_2   Topic_3 Dominant_Topic  \n",
       "0 -0.320738  1.404916        Topic 0  \n",
       "1  0.423694 -0.297599        Topic 0  \n",
       "2  0.091512  0.380948        Topic 0  \n",
       "3 -0.180911  0.824824        Topic 0  \n",
       "4 -0.120361  1.259996        Topic 3  "
      ]
     },
     "execution_count": 17,
     "metadata": {},
     "output_type": "execute_result"
    }
   ],
   "source": [
    "lsi_results.head()"
   ]
  },
  {
   "cell_type": "code",
   "execution_count": 18,
   "id": "36a71f3e",
   "metadata": {},
   "outputs": [
    {
     "data": {
      "text/html": [
       "        <script type=\"text/javascript\">\n",
       "        window.PlotlyConfig = {MathJaxConfig: 'local'};\n",
       "        if (window.MathJax) {MathJax.Hub.Config({SVG: {font: \"STIX-Web\"}});}\n",
       "        if (typeof require !== 'undefined') {\n",
       "        require.undef(\"plotly\");\n",
       "        requirejs.config({\n",
       "            paths: {\n",
       "                'plotly': ['https://cdn.plot.ly/plotly-2.11.1.min']\n",
       "            }\n",
       "        });\n",
       "        require(['plotly'], function(Plotly) {\n",
       "            window._Plotly = Plotly;\n",
       "        });\n",
       "        }\n",
       "        </script>\n",
       "        "
      ]
     },
     "metadata": {},
     "output_type": "display_data"
    },
    {
     "data": {
      "application/vnd.plotly.v1+json": {
       "config": {
        "linkText": "Export to plot.ly",
        "plotlyServerURL": "https://plot.ly",
        "showLink": true
       },
       "data": [
        {
         "marker": {
          "color": "rgba(255, 153, 51, 0.6)",
          "line": {
           "color": "rgba(255, 153, 51, 1.0)",
           "width": 1
          }
         },
         "name": "count",
         "orientation": "v",
         "text": "",
         "type": "bar",
         "x": [
          "work",
          "family",
          "use",
          "start",
          "help",
          "group",
          "husband",
          "live",
          "small",
          "product",
          "well",
          "increase",
          "home",
          "customer",
          "good",
          "community",
          "marry",
          "need",
          "member",
          "request",
          "order",
          "hope",
          "expand",
          "new",
          "want",
          "time",
          "stock",
          "pay",
          "store",
          "provide",
          "grow",
          "go",
          "money",
          "get",
          "give",
          "improve",
          "market",
          "hard",
          "support",
          "sale",
          "clothing",
          "ago",
          "life",
          "entrepreneur",
          "run",
          "mother",
          "repay",
          "shop",
          "client",
          "first",
          "take",
          "clothe",
          "profit",
          "plan",
          "food",
          "area",
          "high",
          "continue",
          "education",
          "service",
          "house",
          "item",
          "capital",
          "invest",
          "large",
          "demand",
          "say",
          "day",
          "meet",
          "local",
          "operate",
          "offer",
          "fee",
          "month",
          "receive",
          "wife",
          "young",
          "supply",
          "currently",
          "age",
          "open",
          "keep",
          "begin",
          "still",
          "intend",
          "earn",
          "enough",
          "save",
          "experience",
          "milk",
          "attend",
          "second",
          "son",
          "farm",
          "daughter",
          "merchandise",
          "allow",
          "primary",
          "farmer",
          "due"
         ],
         "y": [
          584,
          526,
          509,
          476,
          434,
          421,
          417,
          402,
          396,
          387,
          370,
          335,
          311,
          306,
          306,
          301,
          298,
          287,
          259,
          258,
          254,
          244,
          240,
          240,
          236,
          235,
          234,
          233,
          232,
          220,
          214,
          206,
          204,
          198,
          197,
          196,
          188,
          188,
          187,
          184,
          180,
          178,
          177,
          176,
          174,
          172,
          171,
          169,
          169,
          169,
          168,
          167,
          165,
          165,
          163,
          159,
          154,
          152,
          149,
          147,
          142,
          140,
          139,
          139,
          135,
          134,
          132,
          128,
          128,
          127,
          126,
          125,
          125,
          124,
          124,
          122,
          120,
          118,
          115,
          114,
          114,
          113,
          111,
          111,
          110,
          110,
          109,
          105,
          104,
          103,
          102,
          101,
          101,
          100,
          98,
          98,
          97,
          96,
          95,
          94
         ]
        }
       ],
       "layout": {
        "autosize": true,
        "legend": {
         "bgcolor": "#F5F6F9",
         "font": {
          "color": "#4D5663"
         }
        },
        "paper_bgcolor": "#F5F6F9",
        "plot_bgcolor": "#F5F6F9",
        "template": {
         "data": {
          "bar": [
           {
            "error_x": {
             "color": "#2a3f5f"
            },
            "error_y": {
             "color": "#2a3f5f"
            },
            "marker": {
             "line": {
              "color": "#E5ECF6",
              "width": 0.5
             },
             "pattern": {
              "fillmode": "overlay",
              "size": 10,
              "solidity": 0.2
             }
            },
            "type": "bar"
           }
          ],
          "barpolar": [
           {
            "marker": {
             "line": {
              "color": "#E5ECF6",
              "width": 0.5
             },
             "pattern": {
              "fillmode": "overlay",
              "size": 10,
              "solidity": 0.2
             }
            },
            "type": "barpolar"
           }
          ],
          "carpet": [
           {
            "aaxis": {
             "endlinecolor": "#2a3f5f",
             "gridcolor": "white",
             "linecolor": "white",
             "minorgridcolor": "white",
             "startlinecolor": "#2a3f5f"
            },
            "baxis": {
             "endlinecolor": "#2a3f5f",
             "gridcolor": "white",
             "linecolor": "white",
             "minorgridcolor": "white",
             "startlinecolor": "#2a3f5f"
            },
            "type": "carpet"
           }
          ],
          "choropleth": [
           {
            "colorbar": {
             "outlinewidth": 0,
             "ticks": ""
            },
            "type": "choropleth"
           }
          ],
          "contour": [
           {
            "colorbar": {
             "outlinewidth": 0,
             "ticks": ""
            },
            "colorscale": [
             [
              0,
              "#0d0887"
             ],
             [
              0.1111111111111111,
              "#46039f"
             ],
             [
              0.2222222222222222,
              "#7201a8"
             ],
             [
              0.3333333333333333,
              "#9c179e"
             ],
             [
              0.4444444444444444,
              "#bd3786"
             ],
             [
              0.5555555555555556,
              "#d8576b"
             ],
             [
              0.6666666666666666,
              "#ed7953"
             ],
             [
              0.7777777777777778,
              "#fb9f3a"
             ],
             [
              0.8888888888888888,
              "#fdca26"
             ],
             [
              1,
              "#f0f921"
             ]
            ],
            "type": "contour"
           }
          ],
          "contourcarpet": [
           {
            "colorbar": {
             "outlinewidth": 0,
             "ticks": ""
            },
            "type": "contourcarpet"
           }
          ],
          "heatmap": [
           {
            "colorbar": {
             "outlinewidth": 0,
             "ticks": ""
            },
            "colorscale": [
             [
              0,
              "#0d0887"
             ],
             [
              0.1111111111111111,
              "#46039f"
             ],
             [
              0.2222222222222222,
              "#7201a8"
             ],
             [
              0.3333333333333333,
              "#9c179e"
             ],
             [
              0.4444444444444444,
              "#bd3786"
             ],
             [
              0.5555555555555556,
              "#d8576b"
             ],
             [
              0.6666666666666666,
              "#ed7953"
             ],
             [
              0.7777777777777778,
              "#fb9f3a"
             ],
             [
              0.8888888888888888,
              "#fdca26"
             ],
             [
              1,
              "#f0f921"
             ]
            ],
            "type": "heatmap"
           }
          ],
          "heatmapgl": [
           {
            "colorbar": {
             "outlinewidth": 0,
             "ticks": ""
            },
            "colorscale": [
             [
              0,
              "#0d0887"
             ],
             [
              0.1111111111111111,
              "#46039f"
             ],
             [
              0.2222222222222222,
              "#7201a8"
             ],
             [
              0.3333333333333333,
              "#9c179e"
             ],
             [
              0.4444444444444444,
              "#bd3786"
             ],
             [
              0.5555555555555556,
              "#d8576b"
             ],
             [
              0.6666666666666666,
              "#ed7953"
             ],
             [
              0.7777777777777778,
              "#fb9f3a"
             ],
             [
              0.8888888888888888,
              "#fdca26"
             ],
             [
              1,
              "#f0f921"
             ]
            ],
            "type": "heatmapgl"
           }
          ],
          "histogram": [
           {
            "marker": {
             "pattern": {
              "fillmode": "overlay",
              "size": 10,
              "solidity": 0.2
             }
            },
            "type": "histogram"
           }
          ],
          "histogram2d": [
           {
            "colorbar": {
             "outlinewidth": 0,
             "ticks": ""
            },
            "colorscale": [
             [
              0,
              "#0d0887"
             ],
             [
              0.1111111111111111,
              "#46039f"
             ],
             [
              0.2222222222222222,
              "#7201a8"
             ],
             [
              0.3333333333333333,
              "#9c179e"
             ],
             [
              0.4444444444444444,
              "#bd3786"
             ],
             [
              0.5555555555555556,
              "#d8576b"
             ],
             [
              0.6666666666666666,
              "#ed7953"
             ],
             [
              0.7777777777777778,
              "#fb9f3a"
             ],
             [
              0.8888888888888888,
              "#fdca26"
             ],
             [
              1,
              "#f0f921"
             ]
            ],
            "type": "histogram2d"
           }
          ],
          "histogram2dcontour": [
           {
            "colorbar": {
             "outlinewidth": 0,
             "ticks": ""
            },
            "colorscale": [
             [
              0,
              "#0d0887"
             ],
             [
              0.1111111111111111,
              "#46039f"
             ],
             [
              0.2222222222222222,
              "#7201a8"
             ],
             [
              0.3333333333333333,
              "#9c179e"
             ],
             [
              0.4444444444444444,
              "#bd3786"
             ],
             [
              0.5555555555555556,
              "#d8576b"
             ],
             [
              0.6666666666666666,
              "#ed7953"
             ],
             [
              0.7777777777777778,
              "#fb9f3a"
             ],
             [
              0.8888888888888888,
              "#fdca26"
             ],
             [
              1,
              "#f0f921"
             ]
            ],
            "type": "histogram2dcontour"
           }
          ],
          "mesh3d": [
           {
            "colorbar": {
             "outlinewidth": 0,
             "ticks": ""
            },
            "type": "mesh3d"
           }
          ],
          "parcoords": [
           {
            "line": {
             "colorbar": {
              "outlinewidth": 0,
              "ticks": ""
             }
            },
            "type": "parcoords"
           }
          ],
          "pie": [
           {
            "automargin": true,
            "type": "pie"
           }
          ],
          "scatter": [
           {
            "fillpattern": {
             "fillmode": "overlay",
             "size": 10,
             "solidity": 0.2
            },
            "type": "scatter"
           }
          ],
          "scatter3d": [
           {
            "line": {
             "colorbar": {
              "outlinewidth": 0,
              "ticks": ""
             }
            },
            "marker": {
             "colorbar": {
              "outlinewidth": 0,
              "ticks": ""
             }
            },
            "type": "scatter3d"
           }
          ],
          "scattercarpet": [
           {
            "marker": {
             "colorbar": {
              "outlinewidth": 0,
              "ticks": ""
             }
            },
            "type": "scattercarpet"
           }
          ],
          "scattergeo": [
           {
            "marker": {
             "colorbar": {
              "outlinewidth": 0,
              "ticks": ""
             }
            },
            "type": "scattergeo"
           }
          ],
          "scattergl": [
           {
            "marker": {
             "colorbar": {
              "outlinewidth": 0,
              "ticks": ""
             }
            },
            "type": "scattergl"
           }
          ],
          "scattermapbox": [
           {
            "marker": {
             "colorbar": {
              "outlinewidth": 0,
              "ticks": ""
             }
            },
            "type": "scattermapbox"
           }
          ],
          "scatterpolar": [
           {
            "marker": {
             "colorbar": {
              "outlinewidth": 0,
              "ticks": ""
             }
            },
            "type": "scatterpolar"
           }
          ],
          "scatterpolargl": [
           {
            "marker": {
             "colorbar": {
              "outlinewidth": 0,
              "ticks": ""
             }
            },
            "type": "scatterpolargl"
           }
          ],
          "scatterternary": [
           {
            "marker": {
             "colorbar": {
              "outlinewidth": 0,
              "ticks": ""
             }
            },
            "type": "scatterternary"
           }
          ],
          "surface": [
           {
            "colorbar": {
             "outlinewidth": 0,
             "ticks": ""
            },
            "colorscale": [
             [
              0,
              "#0d0887"
             ],
             [
              0.1111111111111111,
              "#46039f"
             ],
             [
              0.2222222222222222,
              "#7201a8"
             ],
             [
              0.3333333333333333,
              "#9c179e"
             ],
             [
              0.4444444444444444,
              "#bd3786"
             ],
             [
              0.5555555555555556,
              "#d8576b"
             ],
             [
              0.6666666666666666,
              "#ed7953"
             ],
             [
              0.7777777777777778,
              "#fb9f3a"
             ],
             [
              0.8888888888888888,
              "#fdca26"
             ],
             [
              1,
              "#f0f921"
             ]
            ],
            "type": "surface"
           }
          ],
          "table": [
           {
            "cells": {
             "fill": {
              "color": "#EBF0F8"
             },
             "line": {
              "color": "white"
             }
            },
            "header": {
             "fill": {
              "color": "#C8D4E3"
             },
             "line": {
              "color": "white"
             }
            },
            "type": "table"
           }
          ]
         },
         "layout": {
          "annotationdefaults": {
           "arrowcolor": "#2a3f5f",
           "arrowhead": 0,
           "arrowwidth": 1
          },
          "autotypenumbers": "strict",
          "coloraxis": {
           "colorbar": {
            "outlinewidth": 0,
            "ticks": ""
           }
          },
          "colorscale": {
           "diverging": [
            [
             0,
             "#8e0152"
            ],
            [
             0.1,
             "#c51b7d"
            ],
            [
             0.2,
             "#de77ae"
            ],
            [
             0.3,
             "#f1b6da"
            ],
            [
             0.4,
             "#fde0ef"
            ],
            [
             0.5,
             "#f7f7f7"
            ],
            [
             0.6,
             "#e6f5d0"
            ],
            [
             0.7,
             "#b8e186"
            ],
            [
             0.8,
             "#7fbc41"
            ],
            [
             0.9,
             "#4d9221"
            ],
            [
             1,
             "#276419"
            ]
           ],
           "sequential": [
            [
             0,
             "#0d0887"
            ],
            [
             0.1111111111111111,
             "#46039f"
            ],
            [
             0.2222222222222222,
             "#7201a8"
            ],
            [
             0.3333333333333333,
             "#9c179e"
            ],
            [
             0.4444444444444444,
             "#bd3786"
            ],
            [
             0.5555555555555556,
             "#d8576b"
            ],
            [
             0.6666666666666666,
             "#ed7953"
            ],
            [
             0.7777777777777778,
             "#fb9f3a"
            ],
            [
             0.8888888888888888,
             "#fdca26"
            ],
            [
             1,
             "#f0f921"
            ]
           ],
           "sequentialminus": [
            [
             0,
             "#0d0887"
            ],
            [
             0.1111111111111111,
             "#46039f"
            ],
            [
             0.2222222222222222,
             "#7201a8"
            ],
            [
             0.3333333333333333,
             "#9c179e"
            ],
            [
             0.4444444444444444,
             "#bd3786"
            ],
            [
             0.5555555555555556,
             "#d8576b"
            ],
            [
             0.6666666666666666,
             "#ed7953"
            ],
            [
             0.7777777777777778,
             "#fb9f3a"
            ],
            [
             0.8888888888888888,
             "#fdca26"
            ],
            [
             1,
             "#f0f921"
            ]
           ]
          },
          "colorway": [
           "#636efa",
           "#EF553B",
           "#00cc96",
           "#ab63fa",
           "#FFA15A",
           "#19d3f3",
           "#FF6692",
           "#B6E880",
           "#FF97FF",
           "#FECB52"
          ],
          "font": {
           "color": "#2a3f5f"
          },
          "geo": {
           "bgcolor": "white",
           "lakecolor": "white",
           "landcolor": "#E5ECF6",
           "showlakes": true,
           "showland": true,
           "subunitcolor": "white"
          },
          "hoverlabel": {
           "align": "left"
          },
          "hovermode": "closest",
          "mapbox": {
           "style": "light"
          },
          "paper_bgcolor": "white",
          "plot_bgcolor": "#E5ECF6",
          "polar": {
           "angularaxis": {
            "gridcolor": "white",
            "linecolor": "white",
            "ticks": ""
           },
           "bgcolor": "#E5ECF6",
           "radialaxis": {
            "gridcolor": "white",
            "linecolor": "white",
            "ticks": ""
           }
          },
          "scene": {
           "xaxis": {
            "backgroundcolor": "#E5ECF6",
            "gridcolor": "white",
            "gridwidth": 2,
            "linecolor": "white",
            "showbackground": true,
            "ticks": "",
            "zerolinecolor": "white"
           },
           "yaxis": {
            "backgroundcolor": "#E5ECF6",
            "gridcolor": "white",
            "gridwidth": 2,
            "linecolor": "white",
            "showbackground": true,
            "ticks": "",
            "zerolinecolor": "white"
           },
           "zaxis": {
            "backgroundcolor": "#E5ECF6",
            "gridcolor": "white",
            "gridwidth": 2,
            "linecolor": "white",
            "showbackground": true,
            "ticks": "",
            "zerolinecolor": "white"
           }
          },
          "shapedefaults": {
           "line": {
            "color": "#2a3f5f"
           }
          },
          "ternary": {
           "aaxis": {
            "gridcolor": "white",
            "linecolor": "white",
            "ticks": ""
           },
           "baxis": {
            "gridcolor": "white",
            "linecolor": "white",
            "ticks": ""
           },
           "bgcolor": "#E5ECF6",
           "caxis": {
            "gridcolor": "white",
            "linecolor": "white",
            "ticks": ""
           }
          },
          "title": {
           "x": 0.05
          },
          "xaxis": {
           "automargin": true,
           "gridcolor": "white",
           "linecolor": "white",
           "ticks": "",
           "title": {
            "standoff": 15
           },
           "zerolinecolor": "white",
           "zerolinewidth": 2
          },
          "yaxis": {
           "automargin": true,
           "gridcolor": "white",
           "linecolor": "white",
           "ticks": "",
           "title": {
            "standoff": 15
           },
           "zerolinecolor": "white",
           "zerolinewidth": 2
          }
         }
        },
        "title": {
         "font": {
          "color": "#4D5663"
         },
         "text": "Topic 0: Top 100 words after removing stop words"
        },
        "xaxis": {
         "autorange": true,
         "gridcolor": "#E1E5ED",
         "linecolor": "black",
         "range": [
          -0.5,
          99.5
         ],
         "showgrid": true,
         "tickfont": {
          "color": "#4D5663"
         },
         "title": {
          "font": {
           "color": "#4D5663"
          },
          "text": ""
         },
         "type": "category",
         "zerolinecolor": "#E1E5ED"
        },
        "yaxis": {
         "autorange": true,
         "gridcolor": "#E1E5ED",
         "linecolor": "black",
         "range": [
          0,
          614.7368421052631
         ],
         "showgrid": true,
         "tickfont": {
          "color": "#4D5663"
         },
         "title": {
          "font": {
           "color": "#4D5663"
          },
          "text": "Count"
         },
         "type": "linear",
         "zerolinecolor": "#E1E5ED"
        }
       }
      },
      "image/png": "[encoded data removed]",
      "text/html": [
       "<div>                            <div id=\"e879c260-1270-4653-ae01-28992be9a7bf\" class=\"plotly-graph-div\" style=\"height:525px; width:100%;\"></div>            <script type=\"text/javascript\">                require([\"plotly\"], function(Plotly) {                    window.PLOTLYENV=window.PLOTLYENV || {};\n",
       "                    window.PLOTLYENV.BASE_URL='https://plot.ly';                                    if (document.getElementById(\"e879c260-1270-4653-ae01-28992be9a7bf\")) {                    Plotly.newPlot(                        \"e879c260-1270-4653-ae01-28992be9a7bf\",                        [{\"marker\":{\"color\":\"rgba(255, 153, 51, 0.6)\",\"line\":{\"color\":\"rgba(255, 153, 51, 1.0)\",\"width\":1}},\"name\":\"count\",\"orientation\":\"v\",\"text\":\"\",\"x\":[\"work\",\"family\",\"use\",\"start\",\"help\",\"group\",\"husband\",\"live\",\"small\",\"product\",\"well\",\"increase\",\"home\",\"customer\",\"good\",\"community\",\"marry\",\"need\",\"member\",\"request\",\"order\",\"hope\",\"expand\",\"new\",\"want\",\"time\",\"stock\",\"pay\",\"store\",\"provide\",\"grow\",\"go\",\"money\",\"get\",\"give\",\"improve\",\"market\",\"hard\",\"support\",\"sale\",\"clothing\",\"ago\",\"life\",\"entrepreneur\",\"run\",\"mother\",\"repay\",\"shop\",\"client\",\"first\",\"take\",\"clothe\",\"profit\",\"plan\",\"food\",\"area\",\"high\",\"continue\",\"education\",\"service\",\"house\",\"item\",\"capital\",\"invest\",\"large\",\"demand\",\"say\",\"day\",\"meet\",\"local\",\"operate\",\"offer\",\"fee\",\"month\",\"receive\",\"wife\",\"young\",\"supply\",\"currently\",\"age\",\"open\",\"keep\",\"begin\",\"still\",\"intend\",\"earn\",\"enough\",\"save\",\"experience\",\"milk\",\"attend\",\"second\",\"son\",\"farm\",\"daughter\",\"merchandise\",\"allow\",\"primary\",\"farmer\",\"due\"],\"y\":[584,526,509,476,434,421,417,402,396,387,370,335,311,306,306,301,298,287,259,258,254,244,240,240,236,235,234,233,232,220,214,206,204,198,197,196,188,188,187,184,180,178,177,176,174,172,171,169,169,169,168,167,165,165,163,159,154,152,149,147,142,140,139,139,135,134,132,128,128,127,126,125,125,124,124,122,120,118,115,114,114,113,111,111,110,110,109,105,104,103,102,101,101,100,98,98,97,96,95,94],\"type\":\"bar\"}],                        {\"legend\":{\"bgcolor\":\"#F5F6F9\",\"font\":{\"color\":\"#4D5663\"}},\"paper_bgcolor\":\"#F5F6F9\",\"plot_bgcolor\":\"#F5F6F9\",\"template\":{\"data\":{\"barpolar\":[{\"marker\":{\"line\":{\"color\":\"#E5ECF6\",\"width\":0.5},\"pattern\":{\"fillmode\":\"overlay\",\"size\":10,\"solidity\":0.2}},\"type\":\"barpolar\"}],\"bar\":[{\"error_x\":{\"color\":\"#2a3f5f\"},\"error_y\":{\"color\":\"#2a3f5f\"},\"marker\":{\"line\":{\"color\":\"#E5ECF6\",\"width\":0.5},\"pattern\":{\"fillmode\":\"overlay\",\"size\":10,\"solidity\":0.2}},\"type\":\"bar\"}],\"carpet\":[{\"aaxis\":{\"endlinecolor\":\"#2a3f5f\",\"gridcolor\":\"white\",\"linecolor\":\"white\",\"minorgridcolor\":\"white\",\"startlinecolor\":\"#2a3f5f\"},\"baxis\":{\"endlinecolor\":\"#2a3f5f\",\"gridcolor\":\"white\",\"linecolor\":\"white\",\"minorgridcolor\":\"white\",\"startlinecolor\":\"#2a3f5f\"},\"type\":\"carpet\"}],\"choropleth\":[{\"colorbar\":{\"outlinewidth\":0,\"ticks\":\"\"},\"type\":\"choropleth\"}],\"contourcarpet\":[{\"colorbar\":{\"outlinewidth\":0,\"ticks\":\"\"},\"type\":\"contourcarpet\"}],\"contour\":[{\"colorbar\":{\"outlinewidth\":0,\"ticks\":\"\"},\"colorscale\":[[0.0,\"#0d0887\"],[0.1111111111111111,\"#46039f\"],[0.2222222222222222,\"#7201a8\"],[0.3333333333333333,\"#9c179e\"],[0.4444444444444444,\"#bd3786\"],[0.5555555555555556,\"#d8576b\"],[0.6666666666666666,\"#ed7953\"],[0.7777777777777778,\"#fb9f3a\"],[0.8888888888888888,\"#fdca26\"],[1.0,\"#f0f921\"]],\"type\":\"contour\"}],\"heatmapgl\":[{\"colorbar\":{\"outlinewidth\":0,\"ticks\":\"\"},\"colorscale\":[[0.0,\"#0d0887\"],[0.1111111111111111,\"#46039f\"],[0.2222222222222222,\"#7201a8\"],[0.3333333333333333,\"#9c179e\"],[0.4444444444444444,\"#bd3786\"],[0.5555555555555556,\"#d8576b\"],[0.6666666666666666,\"#ed7953\"],[0.7777777777777778,\"#fb9f3a\"],[0.8888888888888888,\"#fdca26\"],[1.0,\"#f0f921\"]],\"type\":\"heatmapgl\"}],\"heatmap\":[{\"colorbar\":{\"outlinewidth\":0,\"ticks\":\"\"},\"colorscale\":[[0.0,\"#0d0887\"],[0.1111111111111111,\"#46039f\"],[0.2222222222222222,\"#7201a8\"],[0.3333333333333333,\"#9c179e\"],[0.4444444444444444,\"#bd3786\"],[0.5555555555555556,\"#d8576b\"],[0.6666666666666666,\"#ed7953\"],[0.7777777777777778,\"#fb9f3a\"],[0.8888888888888888,\"#fdca26\"],[1.0,\"#f0f921\"]],\"type\":\"heatmap\"}],\"histogram2dcontour\":[{\"colorbar\":{\"outlinewidth\":0,\"ticks\":\"\"},\"colorscale\":[[0.0,\"#0d0887\"],[0.1111111111111111,\"#46039f\"],[0.2222222222222222,\"#7201a8\"],[0.3333333333333333,\"#9c179e\"],[0.4444444444444444,\"#bd3786\"],[0.5555555555555556,\"#d8576b\"],[0.6666666666666666,\"#ed7953\"],[0.7777777777777778,\"#fb9f3a\"],[0.8888888888888888,\"#fdca26\"],[1.0,\"#f0f921\"]],\"type\":\"histogram2dcontour\"}],\"histogram2d\":[{\"colorbar\":{\"outlinewidth\":0,\"ticks\":\"\"},\"colorscale\":[[0.0,\"#0d0887\"],[0.1111111111111111,\"#46039f\"],[0.2222222222222222,\"#7201a8\"],[0.3333333333333333,\"#9c179e\"],[0.4444444444444444,\"#bd3786\"],[0.5555555555555556,\"#d8576b\"],[0.6666666666666666,\"#ed7953\"],[0.7777777777777778,\"#fb9f3a\"],[0.8888888888888888,\"#fdca26\"],[1.0,\"#f0f921\"]],\"type\":\"histogram2d\"}],\"histogram\":[{\"marker\":{\"pattern\":{\"fillmode\":\"overlay\",\"size\":10,\"solidity\":0.2}},\"type\":\"histogram\"}],\"mesh3d\":[{\"colorbar\":{\"outlinewidth\":0,\"ticks\":\"\"},\"type\":\"mesh3d\"}],\"parcoords\":[{\"line\":{\"colorbar\":{\"outlinewidth\":0,\"ticks\":\"\"}},\"type\":\"parcoords\"}],\"pie\":[{\"automargin\":true,\"type\":\"pie\"}],\"scatter3d\":[{\"line\":{\"colorbar\":{\"outlinewidth\":0,\"ticks\":\"\"}},\"marker\":{\"colorbar\":{\"outlinewidth\":0,\"ticks\":\"\"}},\"type\":\"scatter3d\"}],\"scattercarpet\":[{\"marker\":{\"colorbar\":{\"outlinewidth\":0,\"ticks\":\"\"}},\"type\":\"scattercarpet\"}],\"scattergeo\":[{\"marker\":{\"colorbar\":{\"outlinewidth\":0,\"ticks\":\"\"}},\"type\":\"scattergeo\"}],\"scattergl\":[{\"marker\":{\"colorbar\":{\"outlinewidth\":0,\"ticks\":\"\"}},\"type\":\"scattergl\"}],\"scattermapbox\":[{\"marker\":{\"colorbar\":{\"outlinewidth\":0,\"ticks\":\"\"}},\"type\":\"scattermapbox\"}],\"scatterpolargl\":[{\"marker\":{\"colorbar\":{\"outlinewidth\":0,\"ticks\":\"\"}},\"type\":\"scatterpolargl\"}],\"scatterpolar\":[{\"marker\":{\"colorbar\":{\"outlinewidth\":0,\"ticks\":\"\"}},\"type\":\"scatterpolar\"}],\"scatter\":[{\"fillpattern\":{\"fillmode\":\"overlay\",\"size\":10,\"solidity\":0.2},\"type\":\"scatter\"}],\"scatterternary\":[{\"marker\":{\"colorbar\":{\"outlinewidth\":0,\"ticks\":\"\"}},\"type\":\"scatterternary\"}],\"surface\":[{\"colorbar\":{\"outlinewidth\":0,\"ticks\":\"\"},\"colorscale\":[[0.0,\"#0d0887\"],[0.1111111111111111,\"#46039f\"],[0.2222222222222222,\"#7201a8\"],[0.3333333333333333,\"#9c179e\"],[0.4444444444444444,\"#bd3786\"],[0.5555555555555556,\"#d8576b\"],[0.6666666666666666,\"#ed7953\"],[0.7777777777777778,\"#fb9f3a\"],[0.8888888888888888,\"#fdca26\"],[1.0,\"#f0f921\"]],\"type\":\"surface\"}],\"table\":[{\"cells\":{\"fill\":{\"color\":\"#EBF0F8\"},\"line\":{\"color\":\"white\"}},\"header\":{\"fill\":{\"color\":\"#C8D4E3\"},\"line\":{\"color\":\"white\"}},\"type\":\"table\"}]},\"layout\":{\"annotationdefaults\":{\"arrowcolor\":\"#2a3f5f\",\"arrowhead\":0,\"arrowwidth\":1},\"autotypenumbers\":\"strict\",\"coloraxis\":{\"colorbar\":{\"outlinewidth\":0,\"ticks\":\"\"}},\"colorscale\":{\"diverging\":[[0,\"#8e0152\"],[0.1,\"#c51b7d\"],[0.2,\"#de77ae\"],[0.3,\"#f1b6da\"],[0.4,\"#fde0ef\"],[0.5,\"#f7f7f7\"],[0.6,\"#e6f5d0\"],[0.7,\"#b8e186\"],[0.8,\"#7fbc41\"],[0.9,\"#4d9221\"],[1,\"#276419\"]],\"sequential\":[[0.0,\"#0d0887\"],[0.1111111111111111,\"#46039f\"],[0.2222222222222222,\"#7201a8\"],[0.3333333333333333,\"#9c179e\"],[0.4444444444444444,\"#bd3786\"],[0.5555555555555556,\"#d8576b\"],[0.6666666666666666,\"#ed7953\"],[0.7777777777777778,\"#fb9f3a\"],[0.8888888888888888,\"#fdca26\"],[1.0,\"#f0f921\"]],\"sequentialminus\":[[0.0,\"#0d0887\"],[0.1111111111111111,\"#46039f\"],[0.2222222222222222,\"#7201a8\"],[0.3333333333333333,\"#9c179e\"],[0.4444444444444444,\"#bd3786\"],[0.5555555555555556,\"#d8576b\"],[0.6666666666666666,\"#ed7953\"],[0.7777777777777778,\"#fb9f3a\"],[0.8888888888888888,\"#fdca26\"],[1.0,\"#f0f921\"]]},\"colorway\":[\"#636efa\",\"#EF553B\",\"#00cc96\",\"#ab63fa\",\"#FFA15A\",\"#19d3f3\",\"#FF6692\",\"#B6E880\",\"#FF97FF\",\"#FECB52\"],\"font\":{\"color\":\"#2a3f5f\"},\"geo\":{\"bgcolor\":\"white\",\"lakecolor\":\"white\",\"landcolor\":\"#E5ECF6\",\"showlakes\":true,\"showland\":true,\"subunitcolor\":\"white\"},\"hoverlabel\":{\"align\":\"left\"},\"hovermode\":\"closest\",\"mapbox\":{\"style\":\"light\"},\"paper_bgcolor\":\"white\",\"plot_bgcolor\":\"#E5ECF6\",\"polar\":{\"angularaxis\":{\"gridcolor\":\"white\",\"linecolor\":\"white\",\"ticks\":\"\"},\"bgcolor\":\"#E5ECF6\",\"radialaxis\":{\"gridcolor\":\"white\",\"linecolor\":\"white\",\"ticks\":\"\"}},\"scene\":{\"xaxis\":{\"backgroundcolor\":\"#E5ECF6\",\"gridcolor\":\"white\",\"gridwidth\":2,\"linecolor\":\"white\",\"showbackground\":true,\"ticks\":\"\",\"zerolinecolor\":\"white\"},\"yaxis\":{\"backgroundcolor\":\"#E5ECF6\",\"gridcolor\":\"white\",\"gridwidth\":2,\"linecolor\":\"white\",\"showbackground\":true,\"ticks\":\"\",\"zerolinecolor\":\"white\"},\"zaxis\":{\"backgroundcolor\":\"#E5ECF6\",\"gridcolor\":\"white\",\"gridwidth\":2,\"linecolor\":\"white\",\"showbackground\":true,\"ticks\":\"\",\"zerolinecolor\":\"white\"}},\"shapedefaults\":{\"line\":{\"color\":\"#2a3f5f\"}},\"ternary\":{\"aaxis\":{\"gridcolor\":\"white\",\"linecolor\":\"white\",\"ticks\":\"\"},\"baxis\":{\"gridcolor\":\"white\",\"linecolor\":\"white\",\"ticks\":\"\"},\"bgcolor\":\"#E5ECF6\",\"caxis\":{\"gridcolor\":\"white\",\"linecolor\":\"white\",\"ticks\":\"\"}},\"title\":{\"x\":0.05},\"xaxis\":{\"automargin\":true,\"gridcolor\":\"white\",\"linecolor\":\"white\",\"ticks\":\"\",\"title\":{\"standoff\":15},\"zerolinecolor\":\"white\",\"zerolinewidth\":2},\"yaxis\":{\"automargin\":true,\"gridcolor\":\"white\",\"linecolor\":\"white\",\"ticks\":\"\",\"title\":{\"standoff\":15},\"zerolinecolor\":\"white\",\"zerolinewidth\":2}}},\"title\":{\"font\":{\"color\":\"#4D5663\"},\"text\":\"Topic 0: Top 100 words after removing stop words\"},\"xaxis\":{\"gridcolor\":\"#E1E5ED\",\"linecolor\":\"black\",\"showgrid\":true,\"tickfont\":{\"color\":\"#4D5663\"},\"title\":{\"font\":{\"color\":\"#4D5663\"},\"text\":\"\"},\"zerolinecolor\":\"#E1E5ED\"},\"yaxis\":{\"gridcolor\":\"#E1E5ED\",\"linecolor\":\"black\",\"showgrid\":true,\"tickfont\":{\"color\":\"#4D5663\"},\"title\":{\"font\":{\"color\":\"#4D5663\"},\"text\":\"Count\"},\"zerolinecolor\":\"#E1E5ED\"}},                        {\"showLink\": true, \"linkText\": \"Export to plot.ly\", \"plotlyServerURL\": \"https://plot.ly\", \"responsive\": true}                    ).then(function(){\n",
       "                            \n",
       "var gd = document.getElementById('e879c260-1270-4653-ae01-28992be9a7bf');\n",
       "var x = new MutationObserver(function (mutations, observer) {{\n",
       "        var display = window.getComputedStyle(gd).display;\n",
       "        if (!display || display === 'none') {{\n",
       "            console.log([gd, 'removed!']);\n",
       "            Plotly.purge(gd);\n",
       "            observer.disconnect();\n",
       "        }}\n",
       "}});\n",
       "\n",
       "// Listen for the removal of the full notebook cells\n",
       "var notebookContainer = gd.closest('#notebook-container');\n",
       "if (notebookContainer) {{\n",
       "    x.observe(notebookContainer, {childList: true});\n",
       "}}\n",
       "\n",
       "// Listen for the clearing of the current output cell\n",
       "var outputEl = gd.closest('.output');\n",
       "if (outputEl) {{\n",
       "    x.observe(outputEl, {childList: true});\n",
       "}}\n",
       "\n",
       "                        })                };                });            </script>        </div>"
      ]
     },
     "metadata": {},
     "output_type": "display_data"
    }
   ],
   "source": [
    "plot_model(lsi)"
   ]
  },
  {
   "cell_type": "raw",
   "id": "ba224c76",
   "metadata": {},
   "source": [
    "List of available plots (ID - Name):\n",
    "Word Token Frequency - 'frequency'\n",
    "Word Distribution Plot - 'distribution'\n",
    "Bigram Frequency Plot - 'bigram'\n",
    "Trigram Frequency Plot - 'trigram'\n",
    "Sentiment Polarity Plot - 'sentiment'\n",
    "Part of Speech Frequency - 'pos'\n",
    "t-SNE (3d) Dimension Plot - 'tsne'\n",
    "Topic Model (pyLDAvis) - 'topic_model'\n",
    "Topic Infer Distribution - 'topic_distribution'\n",
    "Wordcloud - 'wordcloud'\n",
    "UMAP Dimensionality Plot - 'umap'"
   ]
  },
  {
   "cell_type": "code",
   "execution_count": 19,
   "id": "02305ba3",
   "metadata": {},
   "outputs": [
    {
     "data": {
      "text/html": [
       "        <script type=\"text/javascript\">\n",
       "        window.PlotlyConfig = {MathJaxConfig: 'local'};\n",
       "        if (window.MathJax) {MathJax.Hub.Config({SVG: {font: \"STIX-Web\"}});}\n",
       "        if (typeof require !== 'undefined') {\n",
       "        require.undef(\"plotly\");\n",
       "        requirejs.config({\n",
       "            paths: {\n",
       "                'plotly': ['https://cdn.plot.ly/plotly-2.11.1.min']\n",
       "            }\n",
       "        });\n",
       "        require(['plotly'], function(Plotly) {\n",
       "            window._Plotly = Plotly;\n",
       "        });\n",
       "        }\n",
       "        </script>\n",
       "        "
      ]
     },
     "metadata": {},
     "output_type": "display_data"
    },
    {
     "data": {
      "application/vnd.plotly.v1+json": {
       "config": {
        "linkText": "Export to plot.ly",
        "plotlyServerURL": "https://plot.ly",
        "showLink": true
       },
       "data": [
        {
         "marker": {
          "color": "rgba(255, 153, 51, 0.6)",
          "line": {
           "color": "rgba(255, 153, 51, 1.0)",
           "width": 1
          }
         },
         "name": "count",
         "orientation": "v",
         "text": "",
         "type": "bar",
         "x": [
          "work hard",
          "pay fee",
          "hard work",
          "increase stock",
          "start small",
          "group member",
          "husband work",
          "support family",
          "start ago",
          "member group",
          "live husband",
          "programs_information_microfinance_ecuador services_please_visit_href",
          "provide family",
          "mifex_offers_client microinsurance_access_training_educational",
          "microinsurance_access_training_educational programs_information_microfinance_ecuador",
          "run small",
          "may_represent_higher_default risk_willing_accept_additional",
          "plan use",
          "kenya_security_situation_communitie businesses_lenders_entrepreneur_aware",
          "well life",
          "businesses_lenders_entrepreneur_aware may_represent_higher_default",
          "risk_willing_accept_additional risk_making",
          "high demand",
          "provide well",
          "pay back",
          "operate small",
          "help husband",
          "enough money",
          "small store",
          "beauty product",
          "customer need",
          "intend use",
          "husband help",
          "want expand",
          "quality life",
          "request budget",
          "local community",
          "save money",
          "attract new",
          "large quantity",
          "add stock",
          "increase revenue",
          "family member",
          "increase profit",
          "rural area",
          "sale increase",
          "family need",
          "start help",
          "store home",
          "therefore request",
          "use clothe",
          "improve family",
          "need order",
          "meet customer",
          "marry primary",
          "improve quality",
          "familys need",
          "increase sale",
          "request second",
          "decide start",
          "boy girl",
          "month ago",
          "use money",
          "meet need",
          "continue grow",
          "use clothing",
          "small shop",
          "repay time",
          "local market",
          "bear ago",
          "good education",
          "continue improve",
          "use new",
          "meet demand",
          "help increase",
          "long time",
          "new product",
          "request use",
          "family live",
          "begin ago",
          "variety product",
          "marry live",
          "use follow",
          "help support",
          "give well",
          "family well",
          "receive first",
          "separate husband",
          "customer demand",
          "save enough",
          "keep work",
          "life family",
          "help family",
          "children education",
          "offer product",
          "money earn",
          "request intend",
          "well know",
          "join group",
          "wife work"
         ],
         "y": [
          70,
          63,
          62,
          48,
          48,
          47,
          46,
          41,
          40,
          38,
          38,
          38,
          35,
          34,
          32,
          29,
          28,
          28,
          28,
          28,
          28,
          28,
          27,
          27,
          25,
          25,
          24,
          24,
          24,
          24,
          24,
          23,
          22,
          22,
          21,
          21,
          21,
          20,
          19,
          19,
          19,
          19,
          18,
          18,
          18,
          18,
          18,
          18,
          18,
          18,
          18,
          18,
          18,
          18,
          18,
          17,
          17,
          17,
          17,
          16,
          16,
          16,
          16,
          16,
          16,
          16,
          16,
          16,
          16,
          16,
          16,
          15,
          15,
          15,
          15,
          15,
          15,
          15,
          14,
          14,
          14,
          14,
          14,
          14,
          14,
          14,
          14,
          14,
          14,
          14,
          14,
          14,
          13,
          13,
          13,
          13,
          13,
          13,
          13,
          13
         ]
        }
       ],
       "layout": {
        "autosize": true,
        "legend": {
         "bgcolor": "#F5F6F9",
         "font": {
          "color": "#4D5663"
         }
        },
        "paper_bgcolor": "#F5F6F9",
        "plot_bgcolor": "#F5F6F9",
        "template": {
         "data": {
          "bar": [
           {
            "error_x": {
             "color": "#2a3f5f"
            },
            "error_y": {
             "color": "#2a3f5f"
            },
            "marker": {
             "line": {
              "color": "#E5ECF6",
              "width": 0.5
             },
             "pattern": {
              "fillmode": "overlay",
              "size": 10,
              "solidity": 0.2
             }
            },
            "type": "bar"
           }
          ],
          "barpolar": [
           {
            "marker": {
             "line": {
              "color": "#E5ECF6",
              "width": 0.5
             },
             "pattern": {
              "fillmode": "overlay",
              "size": 10,
              "solidity": 0.2
             }
            },
            "type": "barpolar"
           }
          ],
          "carpet": [
           {
            "aaxis": {
             "endlinecolor": "#2a3f5f",
             "gridcolor": "white",
             "linecolor": "white",
             "minorgridcolor": "white",
             "startlinecolor": "#2a3f5f"
            },
            "baxis": {
             "endlinecolor": "#2a3f5f",
             "gridcolor": "white",
             "linecolor": "white",
             "minorgridcolor": "white",
             "startlinecolor": "#2a3f5f"
            },
            "type": "carpet"
           }
          ],
          "choropleth": [
           {
            "colorbar": {
             "outlinewidth": 0,
             "ticks": ""
            },
            "type": "choropleth"
           }
          ],
          "contour": [
           {
            "colorbar": {
             "outlinewidth": 0,
             "ticks": ""
            },
            "colorscale": [
             [
              0,
              "#0d0887"
             ],
             [
              0.1111111111111111,
              "#46039f"
             ],
             [
              0.2222222222222222,
              "#7201a8"
             ],
             [
              0.3333333333333333,
              "#9c179e"
             ],
             [
              0.4444444444444444,
              "#bd3786"
             ],
             [
              0.5555555555555556,
              "#d8576b"
             ],
             [
              0.6666666666666666,
              "#ed7953"
             ],
             [
              0.7777777777777778,
              "#fb9f3a"
             ],
             [
              0.8888888888888888,
              "#fdca26"
             ],
             [
              1,
              "#f0f921"
             ]
            ],
            "type": "contour"
           }
          ],
          "contourcarpet": [
           {
            "colorbar": {
             "outlinewidth": 0,
             "ticks": ""
            },
            "type": "contourcarpet"
           }
          ],
          "heatmap": [
           {
            "colorbar": {
             "outlinewidth": 0,
             "ticks": ""
            },
            "colorscale": [
             [
              0,
              "#0d0887"
             ],
             [
              0.1111111111111111,
              "#46039f"
             ],
             [
              0.2222222222222222,
              "#7201a8"
             ],
             [
              0.3333333333333333,
              "#9c179e"
             ],
             [
              0.4444444444444444,
              "#bd3786"
             ],
             [
              0.5555555555555556,
              "#d8576b"
             ],
             [
              0.6666666666666666,
              "#ed7953"
             ],
             [
              0.7777777777777778,
              "#fb9f3a"
             ],
             [
              0.8888888888888888,
              "#fdca26"
             ],
             [
              1,
              "#f0f921"
             ]
            ],
            "type": "heatmap"
           }
          ],
          "heatmapgl": [
           {
            "colorbar": {
             "outlinewidth": 0,
             "ticks": ""
            },
            "colorscale": [
             [
              0,
              "#0d0887"
             ],
             [
              0.1111111111111111,
              "#46039f"
             ],
             [
              0.2222222222222222,
              "#7201a8"
             ],
             [
              0.3333333333333333,
              "#9c179e"
             ],
             [
              0.4444444444444444,
              "#bd3786"
             ],
             [
              0.5555555555555556,
              "#d8576b"
             ],
             [
              0.6666666666666666,
              "#ed7953"
             ],
             [
              0.7777777777777778,
              "#fb9f3a"
             ],
             [
              0.8888888888888888,
              "#fdca26"
             ],
             [
              1,
              "#f0f921"
             ]
            ],
            "type": "heatmapgl"
           }
          ],
          "histogram": [
           {
            "marker": {
             "pattern": {
              "fillmode": "overlay",
              "size": 10,
              "solidity": 0.2
             }
            },
            "type": "histogram"
           }
          ],
          "histogram2d": [
           {
            "colorbar": {
             "outlinewidth": 0,
             "ticks": ""
            },
            "colorscale": [
             [
              0,
              "#0d0887"
             ],
             [
              0.1111111111111111,
              "#46039f"
             ],
             [
              0.2222222222222222,
              "#7201a8"
             ],
             [
              0.3333333333333333,
              "#9c179e"
             ],
             [
              0.4444444444444444,
              "#bd3786"
             ],
             [
              0.5555555555555556,
              "#d8576b"
             ],
             [
              0.6666666666666666,
              "#ed7953"
             ],
             [
              0.7777777777777778,
              "#fb9f3a"
             ],
             [
              0.8888888888888888,
              "#fdca26"
             ],
             [
              1,
              "#f0f921"
             ]
            ],
            "type": "histogram2d"
           }
          ],
          "histogram2dcontour": [
           {
            "colorbar": {
             "outlinewidth": 0,
             "ticks": ""
            },
            "colorscale": [
             [
              0,
              "#0d0887"
             ],
             [
              0.1111111111111111,
              "#46039f"
             ],
             [
              0.2222222222222222,
              "#7201a8"
             ],
             [
              0.3333333333333333,
              "#9c179e"
             ],
             [
              0.4444444444444444,
              "#bd3786"
             ],
             [
              0.5555555555555556,
              "#d8576b"
             ],
             [
              0.6666666666666666,
              "#ed7953"
             ],
             [
              0.7777777777777778,
              "#fb9f3a"
             ],
             [
              0.8888888888888888,
              "#fdca26"
             ],
             [
              1,
              "#f0f921"
             ]
            ],
            "type": "histogram2dcontour"
           }
          ],
          "mesh3d": [
           {
            "colorbar": {
             "outlinewidth": 0,
             "ticks": ""
            },
            "type": "mesh3d"
           }
          ],
          "parcoords": [
           {
            "line": {
             "colorbar": {
              "outlinewidth": 0,
              "ticks": ""
             }
            },
            "type": "parcoords"
           }
          ],
          "pie": [
           {
            "automargin": true,
            "type": "pie"
           }
          ],
          "scatter": [
           {
            "fillpattern": {
             "fillmode": "overlay",
             "size": 10,
             "solidity": 0.2
            },
            "type": "scatter"
           }
          ],
          "scatter3d": [
           {
            "line": {
             "colorbar": {
              "outlinewidth": 0,
              "ticks": ""
             }
            },
            "marker": {
             "colorbar": {
              "outlinewidth": 0,
              "ticks": ""
             }
            },
            "type": "scatter3d"
           }
          ],
          "scattercarpet": [
           {
            "marker": {
             "colorbar": {
              "outlinewidth": 0,
              "ticks": ""
             }
            },
            "type": "scattercarpet"
           }
          ],
          "scattergeo": [
           {
            "marker": {
             "colorbar": {
              "outlinewidth": 0,
              "ticks": ""
             }
            },
            "type": "scattergeo"
           }
          ],
          "scattergl": [
           {
            "marker": {
             "colorbar": {
              "outlinewidth": 0,
              "ticks": ""
             }
            },
            "type": "scattergl"
           }
          ],
          "scattermapbox": [
           {
            "marker": {
             "colorbar": {
              "outlinewidth": 0,
              "ticks": ""
             }
            },
            "type": "scattermapbox"
           }
          ],
          "scatterpolar": [
           {
            "marker": {
             "colorbar": {
              "outlinewidth": 0,
              "ticks": ""
             }
            },
            "type": "scatterpolar"
           }
          ],
          "scatterpolargl": [
           {
            "marker": {
             "colorbar": {
              "outlinewidth": 0,
              "ticks": ""
             }
            },
            "type": "scatterpolargl"
           }
          ],
          "scatterternary": [
           {
            "marker": {
             "colorbar": {
              "outlinewidth": 0,
              "ticks": ""
             }
            },
            "type": "scatterternary"
           }
          ],
          "surface": [
           {
            "colorbar": {
             "outlinewidth": 0,
             "ticks": ""
            },
            "colorscale": [
             [
              0,
              "#0d0887"
             ],
             [
              0.1111111111111111,
              "#46039f"
             ],
             [
              0.2222222222222222,
              "#7201a8"
             ],
             [
              0.3333333333333333,
              "#9c179e"
             ],
             [
              0.4444444444444444,
              "#bd3786"
             ],
             [
              0.5555555555555556,
              "#d8576b"
             ],
             [
              0.6666666666666666,
              "#ed7953"
             ],
             [
              0.7777777777777778,
              "#fb9f3a"
             ],
             [
              0.8888888888888888,
              "#fdca26"
             ],
             [
              1,
              "#f0f921"
             ]
            ],
            "type": "surface"
           }
          ],
          "table": [
           {
            "cells": {
             "fill": {
              "color": "#EBF0F8"
             },
             "line": {
              "color": "white"
             }
            },
            "header": {
             "fill": {
              "color": "#C8D4E3"
             },
             "line": {
              "color": "white"
             }
            },
            "type": "table"
           }
          ]
         },
         "layout": {
          "annotationdefaults": {
           "arrowcolor": "#2a3f5f",
           "arrowhead": 0,
           "arrowwidth": 1
          },
          "autotypenumbers": "strict",
          "coloraxis": {
           "colorbar": {
            "outlinewidth": 0,
            "ticks": ""
           }
          },
          "colorscale": {
           "diverging": [
            [
             0,
             "#8e0152"
            ],
            [
             0.1,
             "#c51b7d"
            ],
            [
             0.2,
             "#de77ae"
            ],
            [
             0.3,
             "#f1b6da"
            ],
            [
             0.4,
             "#fde0ef"
            ],
            [
             0.5,
             "#f7f7f7"
            ],
            [
             0.6,
             "#e6f5d0"
            ],
            [
             0.7,
             "#b8e186"
            ],
            [
             0.8,
             "#7fbc41"
            ],
            [
             0.9,
             "#4d9221"
            ],
            [
             1,
             "#276419"
            ]
           ],
           "sequential": [
            [
             0,
             "#0d0887"
            ],
            [
             0.1111111111111111,
             "#46039f"
            ],
            [
             0.2222222222222222,
             "#7201a8"
            ],
            [
             0.3333333333333333,
             "#9c179e"
            ],
            [
             0.4444444444444444,
             "#bd3786"
            ],
            [
             0.5555555555555556,
             "#d8576b"
            ],
            [
             0.6666666666666666,
             "#ed7953"
            ],
            [
             0.7777777777777778,
             "#fb9f3a"
            ],
            [
             0.8888888888888888,
             "#fdca26"
            ],
            [
             1,
             "#f0f921"
            ]
           ],
           "sequentialminus": [
            [
             0,
             "#0d0887"
            ],
            [
             0.1111111111111111,
             "#46039f"
            ],
            [
             0.2222222222222222,
             "#7201a8"
            ],
            [
             0.3333333333333333,
             "#9c179e"
            ],
            [
             0.4444444444444444,
             "#bd3786"
            ],
            [
             0.5555555555555556,
             "#d8576b"
            ],
            [
             0.6666666666666666,
             "#ed7953"
            ],
            [
             0.7777777777777778,
             "#fb9f3a"
            ],
            [
             0.8888888888888888,
             "#fdca26"
            ],
            [
             1,
             "#f0f921"
            ]
           ]
          },
          "colorway": [
           "#636efa",
           "#EF553B",
           "#00cc96",
           "#ab63fa",
           "#FFA15A",
           "#19d3f3",
           "#FF6692",
           "#B6E880",
           "#FF97FF",
           "#FECB52"
          ],
          "font": {
           "color": "#2a3f5f"
          },
          "geo": {
           "bgcolor": "white",
           "lakecolor": "white",
           "landcolor": "#E5ECF6",
           "showlakes": true,
           "showland": true,
           "subunitcolor": "white"
          },
          "hoverlabel": {
           "align": "left"
          },
          "hovermode": "closest",
          "mapbox": {
           "style": "light"
          },
          "paper_bgcolor": "white",
          "plot_bgcolor": "#E5ECF6",
          "polar": {
           "angularaxis": {
            "gridcolor": "white",
            "linecolor": "white",
            "ticks": ""
           },
           "bgcolor": "#E5ECF6",
           "radialaxis": {
            "gridcolor": "white",
            "linecolor": "white",
            "ticks": ""
           }
          },
          "scene": {
           "xaxis": {
            "backgroundcolor": "#E5ECF6",
            "gridcolor": "white",
            "gridwidth": 2,
            "linecolor": "white",
            "showbackground": true,
            "ticks": "",
            "zerolinecolor": "white"
           },
           "yaxis": {
            "backgroundcolor": "#E5ECF6",
            "gridcolor": "white",
            "gridwidth": 2,
            "linecolor": "white",
            "showbackground": true,
            "ticks": "",
            "zerolinecolor": "white"
           },
           "zaxis": {
            "backgroundcolor": "#E5ECF6",
            "gridcolor": "white",
            "gridwidth": 2,
            "linecolor": "white",
            "showbackground": true,
            "ticks": "",
            "zerolinecolor": "white"
           }
          },
          "shapedefaults": {
           "line": {
            "color": "#2a3f5f"
           }
          },
          "ternary": {
           "aaxis": {
            "gridcolor": "white",
            "linecolor": "white",
            "ticks": ""
           },
           "baxis": {
            "gridcolor": "white",
            "linecolor": "white",
            "ticks": ""
           },
           "bgcolor": "#E5ECF6",
           "caxis": {
            "gridcolor": "white",
            "linecolor": "white",
            "ticks": ""
           }
          },
          "title": {
           "x": 0.05
          },
          "xaxis": {
           "automargin": true,
           "gridcolor": "white",
           "linecolor": "white",
           "ticks": "",
           "title": {
            "standoff": 15
           },
           "zerolinecolor": "white",
           "zerolinewidth": 2
          },
          "yaxis": {
           "automargin": true,
           "gridcolor": "white",
           "linecolor": "white",
           "ticks": "",
           "title": {
            "standoff": 15
           },
           "zerolinecolor": "white",
           "zerolinewidth": 2
          }
         }
        },
        "title": {
         "font": {
          "color": "#4D5663"
         },
         "text": "Topic 0: Top 100 bigrams after removing stop words"
        },
        "xaxis": {
         "autorange": true,
         "gridcolor": "#E1E5ED",
         "linecolor": "black",
         "range": [
          -0.5,
          99.5
         ],
         "showgrid": true,
         "tickfont": {
          "color": "#4D5663"
         },
         "title": {
          "font": {
           "color": "#4D5663"
          },
          "text": ""
         },
         "type": "category",
         "zerolinecolor": "#E1E5ED"
        },
        "yaxis": {
         "autorange": true,
         "gridcolor": "#E1E5ED",
         "linecolor": "black",
         "range": [
          0,
          73.6842105263158
         ],
         "showgrid": true,
         "tickfont": {
          "color": "#4D5663"
         },
         "title": {
          "font": {
           "color": "#4D5663"
          },
          "text": "Count"
         },
         "type": "linear",
         "zerolinecolor": "#E1E5ED"
        }
       }
      },
      "image/png": "[encoded data removed]",
      "text/html": [
       "<div>                            <div id=\"ac50450f-a8cb-4787-b1af-dbdfb695bb9b\" class=\"plotly-graph-div\" style=\"height:525px; width:100%;\"></div>            <script type=\"text/javascript\">                require([\"plotly\"], function(Plotly) {                    window.PLOTLYENV=window.PLOTLYENV || {};\n",
       "                    window.PLOTLYENV.BASE_URL='https://plot.ly';                                    if (document.getElementById(\"ac50450f-a8cb-4787-b1af-dbdfb695bb9b\")) {                    Plotly.newPlot(                        \"ac50450f-a8cb-4787-b1af-dbdfb695bb9b\",                        [{\"marker\":{\"color\":\"rgba(255, 153, 51, 0.6)\",\"line\":{\"color\":\"rgba(255, 153, 51, 1.0)\",\"width\":1}},\"name\":\"count\",\"orientation\":\"v\",\"text\":\"\",\"x\":[\"work hard\",\"pay fee\",\"hard work\",\"increase stock\",\"start small\",\"group member\",\"husband work\",\"support family\",\"start ago\",\"member group\",\"live husband\",\"programs_information_microfinance_ecuador services_please_visit_href\",\"provide family\",\"mifex_offers_client microinsurance_access_training_educational\",\"microinsurance_access_training_educational programs_information_microfinance_ecuador\",\"run small\",\"may_represent_higher_default risk_willing_accept_additional\",\"plan use\",\"kenya_security_situation_communitie businesses_lenders_entrepreneur_aware\",\"well life\",\"businesses_lenders_entrepreneur_aware may_represent_higher_default\",\"risk_willing_accept_additional risk_making\",\"high demand\",\"provide well\",\"pay back\",\"operate small\",\"help husband\",\"enough money\",\"small store\",\"beauty product\",\"customer need\",\"intend use\",\"husband help\",\"want expand\",\"quality life\",\"request budget\",\"local community\",\"save money\",\"attract new\",\"large quantity\",\"add stock\",\"increase revenue\",\"family member\",\"increase profit\",\"rural area\",\"sale increase\",\"family need\",\"start help\",\"store home\",\"therefore request\",\"use clothe\",\"improve family\",\"need order\",\"meet customer\",\"marry primary\",\"improve quality\",\"familys need\",\"increase sale\",\"request second\",\"decide start\",\"boy girl\",\"month ago\",\"use money\",\"meet need\",\"continue grow\",\"use clothing\",\"small shop\",\"repay time\",\"local market\",\"bear ago\",\"good education\",\"continue improve\",\"use new\",\"meet demand\",\"help increase\",\"long time\",\"new product\",\"request use\",\"family live\",\"begin ago\",\"variety product\",\"marry live\",\"use follow\",\"help support\",\"give well\",\"family well\",\"receive first\",\"separate husband\",\"customer demand\",\"save enough\",\"keep work\",\"life family\",\"help family\",\"children education\",\"offer product\",\"money earn\",\"request intend\",\"well know\",\"join group\",\"wife work\"],\"y\":[70,63,62,48,48,47,46,41,40,38,38,38,35,34,32,29,28,28,28,28,28,28,27,27,25,25,24,24,24,24,24,23,22,22,21,21,21,20,19,19,19,19,18,18,18,18,18,18,18,18,18,18,18,18,18,17,17,17,17,16,16,16,16,16,16,16,16,16,16,16,16,15,15,15,15,15,15,15,14,14,14,14,14,14,14,14,14,14,14,14,14,14,13,13,13,13,13,13,13,13],\"type\":\"bar\"}],                        {\"legend\":{\"bgcolor\":\"#F5F6F9\",\"font\":{\"color\":\"#4D5663\"}},\"paper_bgcolor\":\"#F5F6F9\",\"plot_bgcolor\":\"#F5F6F9\",\"template\":{\"data\":{\"barpolar\":[{\"marker\":{\"line\":{\"color\":\"#E5ECF6\",\"width\":0.5},\"pattern\":{\"fillmode\":\"overlay\",\"size\":10,\"solidity\":0.2}},\"type\":\"barpolar\"}],\"bar\":[{\"error_x\":{\"color\":\"#2a3f5f\"},\"error_y\":{\"color\":\"#2a3f5f\"},\"marker\":{\"line\":{\"color\":\"#E5ECF6\",\"width\":0.5},\"pattern\":{\"fillmode\":\"overlay\",\"size\":10,\"solidity\":0.2}},\"type\":\"bar\"}],\"carpet\":[{\"aaxis\":{\"endlinecolor\":\"#2a3f5f\",\"gridcolor\":\"white\",\"linecolor\":\"white\",\"minorgridcolor\":\"white\",\"startlinecolor\":\"#2a3f5f\"},\"baxis\":{\"endlinecolor\":\"#2a3f5f\",\"gridcolor\":\"white\",\"linecolor\":\"white\",\"minorgridcolor\":\"white\",\"startlinecolor\":\"#2a3f5f\"},\"type\":\"carpet\"}],\"choropleth\":[{\"colorbar\":{\"outlinewidth\":0,\"ticks\":\"\"},\"type\":\"choropleth\"}],\"contourcarpet\":[{\"colorbar\":{\"outlinewidth\":0,\"ticks\":\"\"},\"type\":\"contourcarpet\"}],\"contour\":[{\"colorbar\":{\"outlinewidth\":0,\"ticks\":\"\"},\"colorscale\":[[0.0,\"#0d0887\"],[0.1111111111111111,\"#46039f\"],[0.2222222222222222,\"#7201a8\"],[0.3333333333333333,\"#9c179e\"],[0.4444444444444444,\"#bd3786\"],[0.5555555555555556,\"#d8576b\"],[0.6666666666666666,\"#ed7953\"],[0.7777777777777778,\"#fb9f3a\"],[0.8888888888888888,\"#fdca26\"],[1.0,\"#f0f921\"]],\"type\":\"contour\"}],\"heatmapgl\":[{\"colorbar\":{\"outlinewidth\":0,\"ticks\":\"\"},\"colorscale\":[[0.0,\"#0d0887\"],[0.1111111111111111,\"#46039f\"],[0.2222222222222222,\"#7201a8\"],[0.3333333333333333,\"#9c179e\"],[0.4444444444444444,\"#bd3786\"],[0.5555555555555556,\"#d8576b\"],[0.6666666666666666,\"#ed7953\"],[0.7777777777777778,\"#fb9f3a\"],[0.8888888888888888,\"#fdca26\"],[1.0,\"#f0f921\"]],\"type\":\"heatmapgl\"}],\"heatmap\":[{\"colorbar\":{\"outlinewidth\":0,\"ticks\":\"\"},\"colorscale\":[[0.0,\"#0d0887\"],[0.1111111111111111,\"#46039f\"],[0.2222222222222222,\"#7201a8\"],[0.3333333333333333,\"#9c179e\"],[0.4444444444444444,\"#bd3786\"],[0.5555555555555556,\"#d8576b\"],[0.6666666666666666,\"#ed7953\"],[0.7777777777777778,\"#fb9f3a\"],[0.8888888888888888,\"#fdca26\"],[1.0,\"#f0f921\"]],\"type\":\"heatmap\"}],\"histogram2dcontour\":[{\"colorbar\":{\"outlinewidth\":0,\"ticks\":\"\"},\"colorscale\":[[0.0,\"#0d0887\"],[0.1111111111111111,\"#46039f\"],[0.2222222222222222,\"#7201a8\"],[0.3333333333333333,\"#9c179e\"],[0.4444444444444444,\"#bd3786\"],[0.5555555555555556,\"#d8576b\"],[0.6666666666666666,\"#ed7953\"],[0.7777777777777778,\"#fb9f3a\"],[0.8888888888888888,\"#fdca26\"],[1.0,\"#f0f921\"]],\"type\":\"histogram2dcontour\"}],\"histogram2d\":[{\"colorbar\":{\"outlinewidth\":0,\"ticks\":\"\"},\"colorscale\":[[0.0,\"#0d0887\"],[0.1111111111111111,\"#46039f\"],[0.2222222222222222,\"#7201a8\"],[0.3333333333333333,\"#9c179e\"],[0.4444444444444444,\"#bd3786\"],[0.5555555555555556,\"#d8576b\"],[0.6666666666666666,\"#ed7953\"],[0.7777777777777778,\"#fb9f3a\"],[0.8888888888888888,\"#fdca26\"],[1.0,\"#f0f921\"]],\"type\":\"histogram2d\"}],\"histogram\":[{\"marker\":{\"pattern\":{\"fillmode\":\"overlay\",\"size\":10,\"solidity\":0.2}},\"type\":\"histogram\"}],\"mesh3d\":[{\"colorbar\":{\"outlinewidth\":0,\"ticks\":\"\"},\"type\":\"mesh3d\"}],\"parcoords\":[{\"line\":{\"colorbar\":{\"outlinewidth\":0,\"ticks\":\"\"}},\"type\":\"parcoords\"}],\"pie\":[{\"automargin\":true,\"type\":\"pie\"}],\"scatter3d\":[{\"line\":{\"colorbar\":{\"outlinewidth\":0,\"ticks\":\"\"}},\"marker\":{\"colorbar\":{\"outlinewidth\":0,\"ticks\":\"\"}},\"type\":\"scatter3d\"}],\"scattercarpet\":[{\"marker\":{\"colorbar\":{\"outlinewidth\":0,\"ticks\":\"\"}},\"type\":\"scattercarpet\"}],\"scattergeo\":[{\"marker\":{\"colorbar\":{\"outlinewidth\":0,\"ticks\":\"\"}},\"type\":\"scattergeo\"}],\"scattergl\":[{\"marker\":{\"colorbar\":{\"outlinewidth\":0,\"ticks\":\"\"}},\"type\":\"scattergl\"}],\"scattermapbox\":[{\"marker\":{\"colorbar\":{\"outlinewidth\":0,\"ticks\":\"\"}},\"type\":\"scattermapbox\"}],\"scatterpolargl\":[{\"marker\":{\"colorbar\":{\"outlinewidth\":0,\"ticks\":\"\"}},\"type\":\"scatterpolargl\"}],\"scatterpolar\":[{\"marker\":{\"colorbar\":{\"outlinewidth\":0,\"ticks\":\"\"}},\"type\":\"scatterpolar\"}],\"scatter\":[{\"fillpattern\":{\"fillmode\":\"overlay\",\"size\":10,\"solidity\":0.2},\"type\":\"scatter\"}],\"scatterternary\":[{\"marker\":{\"colorbar\":{\"outlinewidth\":0,\"ticks\":\"\"}},\"type\":\"scatterternary\"}],\"surface\":[{\"colorbar\":{\"outlinewidth\":0,\"ticks\":\"\"},\"colorscale\":[[0.0,\"#0d0887\"],[0.1111111111111111,\"#46039f\"],[0.2222222222222222,\"#7201a8\"],[0.3333333333333333,\"#9c179e\"],[0.4444444444444444,\"#bd3786\"],[0.5555555555555556,\"#d8576b\"],[0.6666666666666666,\"#ed7953\"],[0.7777777777777778,\"#fb9f3a\"],[0.8888888888888888,\"#fdca26\"],[1.0,\"#f0f921\"]],\"type\":\"surface\"}],\"table\":[{\"cells\":{\"fill\":{\"color\":\"#EBF0F8\"},\"line\":{\"color\":\"white\"}},\"header\":{\"fill\":{\"color\":\"#C8D4E3\"},\"line\":{\"color\":\"white\"}},\"type\":\"table\"}]},\"layout\":{\"annotationdefaults\":{\"arrowcolor\":\"#2a3f5f\",\"arrowhead\":0,\"arrowwidth\":1},\"autotypenumbers\":\"strict\",\"coloraxis\":{\"colorbar\":{\"outlinewidth\":0,\"ticks\":\"\"}},\"colorscale\":{\"diverging\":[[0,\"#8e0152\"],[0.1,\"#c51b7d\"],[0.2,\"#de77ae\"],[0.3,\"#f1b6da\"],[0.4,\"#fde0ef\"],[0.5,\"#f7f7f7\"],[0.6,\"#e6f5d0\"],[0.7,\"#b8e186\"],[0.8,\"#7fbc41\"],[0.9,\"#4d9221\"],[1,\"#276419\"]],\"sequential\":[[0.0,\"#0d0887\"],[0.1111111111111111,\"#46039f\"],[0.2222222222222222,\"#7201a8\"],[0.3333333333333333,\"#9c179e\"],[0.4444444444444444,\"#bd3786\"],[0.5555555555555556,\"#d8576b\"],[0.6666666666666666,\"#ed7953\"],[0.7777777777777778,\"#fb9f3a\"],[0.8888888888888888,\"#fdca26\"],[1.0,\"#f0f921\"]],\"sequentialminus\":[[0.0,\"#0d0887\"],[0.1111111111111111,\"#46039f\"],[0.2222222222222222,\"#7201a8\"],[0.3333333333333333,\"#9c179e\"],[0.4444444444444444,\"#bd3786\"],[0.5555555555555556,\"#d8576b\"],[0.6666666666666666,\"#ed7953\"],[0.7777777777777778,\"#fb9f3a\"],[0.8888888888888888,\"#fdca26\"],[1.0,\"#f0f921\"]]},\"colorway\":[\"#636efa\",\"#EF553B\",\"#00cc96\",\"#ab63fa\",\"#FFA15A\",\"#19d3f3\",\"#FF6692\",\"#B6E880\",\"#FF97FF\",\"#FECB52\"],\"font\":{\"color\":\"#2a3f5f\"},\"geo\":{\"bgcolor\":\"white\",\"lakecolor\":\"white\",\"landcolor\":\"#E5ECF6\",\"showlakes\":true,\"showland\":true,\"subunitcolor\":\"white\"},\"hoverlabel\":{\"align\":\"left\"},\"hovermode\":\"closest\",\"mapbox\":{\"style\":\"light\"},\"paper_bgcolor\":\"white\",\"plot_bgcolor\":\"#E5ECF6\",\"polar\":{\"angularaxis\":{\"gridcolor\":\"white\",\"linecolor\":\"white\",\"ticks\":\"\"},\"bgcolor\":\"#E5ECF6\",\"radialaxis\":{\"gridcolor\":\"white\",\"linecolor\":\"white\",\"ticks\":\"\"}},\"scene\":{\"xaxis\":{\"backgroundcolor\":\"#E5ECF6\",\"gridcolor\":\"white\",\"gridwidth\":2,\"linecolor\":\"white\",\"showbackground\":true,\"ticks\":\"\",\"zerolinecolor\":\"white\"},\"yaxis\":{\"backgroundcolor\":\"#E5ECF6\",\"gridcolor\":\"white\",\"gridwidth\":2,\"linecolor\":\"white\",\"showbackground\":true,\"ticks\":\"\",\"zerolinecolor\":\"white\"},\"zaxis\":{\"backgroundcolor\":\"#E5ECF6\",\"gridcolor\":\"white\",\"gridwidth\":2,\"linecolor\":\"white\",\"showbackground\":true,\"ticks\":\"\",\"zerolinecolor\":\"white\"}},\"shapedefaults\":{\"line\":{\"color\":\"#2a3f5f\"}},\"ternary\":{\"aaxis\":{\"gridcolor\":\"white\",\"linecolor\":\"white\",\"ticks\":\"\"},\"baxis\":{\"gridcolor\":\"white\",\"linecolor\":\"white\",\"ticks\":\"\"},\"bgcolor\":\"#E5ECF6\",\"caxis\":{\"gridcolor\":\"white\",\"linecolor\":\"white\",\"ticks\":\"\"}},\"title\":{\"x\":0.05},\"xaxis\":{\"automargin\":true,\"gridcolor\":\"white\",\"linecolor\":\"white\",\"ticks\":\"\",\"title\":{\"standoff\":15},\"zerolinecolor\":\"white\",\"zerolinewidth\":2},\"yaxis\":{\"automargin\":true,\"gridcolor\":\"white\",\"linecolor\":\"white\",\"ticks\":\"\",\"title\":{\"standoff\":15},\"zerolinecolor\":\"white\",\"zerolinewidth\":2}}},\"title\":{\"font\":{\"color\":\"#4D5663\"},\"text\":\"Topic 0: Top 100 bigrams after removing stop words\"},\"xaxis\":{\"gridcolor\":\"#E1E5ED\",\"linecolor\":\"black\",\"showgrid\":true,\"tickfont\":{\"color\":\"#4D5663\"},\"title\":{\"font\":{\"color\":\"#4D5663\"},\"text\":\"\"},\"zerolinecolor\":\"#E1E5ED\"},\"yaxis\":{\"gridcolor\":\"#E1E5ED\",\"linecolor\":\"black\",\"showgrid\":true,\"tickfont\":{\"color\":\"#4D5663\"},\"title\":{\"font\":{\"color\":\"#4D5663\"},\"text\":\"Count\"},\"zerolinecolor\":\"#E1E5ED\"}},                        {\"showLink\": true, \"linkText\": \"Export to plot.ly\", \"plotlyServerURL\": \"https://plot.ly\", \"responsive\": true}                    ).then(function(){\n",
       "                            \n",
       "var gd = document.getElementById('ac50450f-a8cb-4787-b1af-dbdfb695bb9b');\n",
       "var x = new MutationObserver(function (mutations, observer) {{\n",
       "        var display = window.getComputedStyle(gd).display;\n",
       "        if (!display || display === 'none') {{\n",
       "            console.log([gd, 'removed!']);\n",
       "            Plotly.purge(gd);\n",
       "            observer.disconnect();\n",
       "        }}\n",
       "}});\n",
       "\n",
       "// Listen for the removal of the full notebook cells\n",
       "var notebookContainer = gd.closest('#notebook-container');\n",
       "if (notebookContainer) {{\n",
       "    x.observe(notebookContainer, {childList: true});\n",
       "}}\n",
       "\n",
       "// Listen for the clearing of the current output cell\n",
       "var outputEl = gd.closest('.output');\n",
       "if (outputEl) {{\n",
       "    x.observe(outputEl, {childList: true});\n",
       "}}\n",
       "\n",
       "                        })                };                });            </script>        </div>"
      ]
     },
     "metadata": {},
     "output_type": "display_data"
    }
   ],
   "source": [
    "plot_model(model=lsi, plot = 'bigram')"
   ]
  },
  {
   "cell_type": "code",
   "execution_count": 20,
   "id": "2fb4fa3d",
   "metadata": {},
   "outputs": [
    {
     "data": {
      "text/html": [
       "        <script type=\"text/javascript\">\n",
       "        window.PlotlyConfig = {MathJaxConfig: 'local'};\n",
       "        if (window.MathJax) {MathJax.Hub.Config({SVG: {font: \"STIX-Web\"}});}\n",
       "        if (typeof require !== 'undefined') {\n",
       "        require.undef(\"plotly\");\n",
       "        requirejs.config({\n",
       "            paths: {\n",
       "                'plotly': ['https://cdn.plot.ly/plotly-2.11.1.min']\n",
       "            }\n",
       "        });\n",
       "        require(['plotly'], function(Plotly) {\n",
       "            window._Plotly = Plotly;\n",
       "        });\n",
       "        }\n",
       "        </script>\n",
       "        "
      ]
     },
     "metadata": {},
     "output_type": "display_data"
    },
    {
     "data": {
      "application/vnd.plotly.v1+json": {
       "config": {
        "linkText": "Export to plot.ly",
        "plotlyServerURL": "https://plot.ly",
        "showLink": true
       },
       "data": [
        {
         "marker": {
          "color": "rgba(255, 153, 51, 0.6)",
          "line": {
           "color": "rgba(255, 153, 51, 1.0)",
           "width": 1
          }
         },
         "name": "count",
         "orientation": "v",
         "text": "",
         "type": "bar",
         "x": [
          "vive",
          "actividade",
          "ante",
          "anteriore",
          "era",
          "familiar",
          "haca",
          "mejore",
          "mifex_offers_client",
          "pablo",
          "periodo",
          "services_please_visit_href",
          "servirn",
          "vender"
         ],
         "y": [
          2,
          1,
          1,
          1,
          1,
          1,
          1,
          1,
          1,
          1,
          1,
          1,
          1,
          1
         ]
        }
       ],
       "layout": {
        "autosize": true,
        "legend": {
         "bgcolor": "#F5F6F9",
         "font": {
          "color": "#4D5663"
         }
        },
        "paper_bgcolor": "#F5F6F9",
        "plot_bgcolor": "#F5F6F9",
        "template": {
         "data": {
          "bar": [
           {
            "error_x": {
             "color": "#2a3f5f"
            },
            "error_y": {
             "color": "#2a3f5f"
            },
            "marker": {
             "line": {
              "color": "#E5ECF6",
              "width": 0.5
             },
             "pattern": {
              "fillmode": "overlay",
              "size": 10,
              "solidity": 0.2
             }
            },
            "type": "bar"
           }
          ],
          "barpolar": [
           {
            "marker": {
             "line": {
              "color": "#E5ECF6",
              "width": 0.5
             },
             "pattern": {
              "fillmode": "overlay",
              "size": 10,
              "solidity": 0.2
             }
            },
            "type": "barpolar"
           }
          ],
          "carpet": [
           {
            "aaxis": {
             "endlinecolor": "#2a3f5f",
             "gridcolor": "white",
             "linecolor": "white",
             "minorgridcolor": "white",
             "startlinecolor": "#2a3f5f"
            },
            "baxis": {
             "endlinecolor": "#2a3f5f",
             "gridcolor": "white",
             "linecolor": "white",
             "minorgridcolor": "white",
             "startlinecolor": "#2a3f5f"
            },
            "type": "carpet"
           }
          ],
          "choropleth": [
           {
            "colorbar": {
             "outlinewidth": 0,
             "ticks": ""
            },
            "type": "choropleth"
           }
          ],
          "contour": [
           {
            "colorbar": {
             "outlinewidth": 0,
             "ticks": ""
            },
            "colorscale": [
             [
              0,
              "#0d0887"
             ],
             [
              0.1111111111111111,
              "#46039f"
             ],
             [
              0.2222222222222222,
              "#7201a8"
             ],
             [
              0.3333333333333333,
              "#9c179e"
             ],
             [
              0.4444444444444444,
              "#bd3786"
             ],
             [
              0.5555555555555556,
              "#d8576b"
             ],
             [
              0.6666666666666666,
              "#ed7953"
             ],
             [
              0.7777777777777778,
              "#fb9f3a"
             ],
             [
              0.8888888888888888,
              "#fdca26"
             ],
             [
              1,
              "#f0f921"
             ]
            ],
            "type": "contour"
           }
          ],
          "contourcarpet": [
           {
            "colorbar": {
             "outlinewidth": 0,
             "ticks": ""
            },
            "type": "contourcarpet"
           }
          ],
          "heatmap": [
           {
            "colorbar": {
             "outlinewidth": 0,
             "ticks": ""
            },
            "colorscale": [
             [
              0,
              "#0d0887"
             ],
             [
              0.1111111111111111,
              "#46039f"
             ],
             [
              0.2222222222222222,
              "#7201a8"
             ],
             [
              0.3333333333333333,
              "#9c179e"
             ],
             [
              0.4444444444444444,
              "#bd3786"
             ],
             [
              0.5555555555555556,
              "#d8576b"
             ],
             [
              0.6666666666666666,
              "#ed7953"
             ],
             [
              0.7777777777777778,
              "#fb9f3a"
             ],
             [
              0.8888888888888888,
              "#fdca26"
             ],
             [
              1,
              "#f0f921"
             ]
            ],
            "type": "heatmap"
           }
          ],
          "heatmapgl": [
           {
            "colorbar": {
             "outlinewidth": 0,
             "ticks": ""
            },
            "colorscale": [
             [
              0,
              "#0d0887"
             ],
             [
              0.1111111111111111,
              "#46039f"
             ],
             [
              0.2222222222222222,
              "#7201a8"
             ],
             [
              0.3333333333333333,
              "#9c179e"
             ],
             [
              0.4444444444444444,
              "#bd3786"
             ],
             [
              0.5555555555555556,
              "#d8576b"
             ],
             [
              0.6666666666666666,
              "#ed7953"
             ],
             [
              0.7777777777777778,
              "#fb9f3a"
             ],
             [
              0.8888888888888888,
              "#fdca26"
             ],
             [
              1,
              "#f0f921"
             ]
            ],
            "type": "heatmapgl"
           }
          ],
          "histogram": [
           {
            "marker": {
             "pattern": {
              "fillmode": "overlay",
              "size": 10,
              "solidity": 0.2
             }
            },
            "type": "histogram"
           }
          ],
          "histogram2d": [
           {
            "colorbar": {
             "outlinewidth": 0,
             "ticks": ""
            },
            "colorscale": [
             [
              0,
              "#0d0887"
             ],
             [
              0.1111111111111111,
              "#46039f"
             ],
             [
              0.2222222222222222,
              "#7201a8"
             ],
             [
              0.3333333333333333,
              "#9c179e"
             ],
             [
              0.4444444444444444,
              "#bd3786"
             ],
             [
              0.5555555555555556,
              "#d8576b"
             ],
             [
              0.6666666666666666,
              "#ed7953"
             ],
             [
              0.7777777777777778,
              "#fb9f3a"
             ],
             [
              0.8888888888888888,
              "#fdca26"
             ],
             [
              1,
              "#f0f921"
             ]
            ],
            "type": "histogram2d"
           }
          ],
          "histogram2dcontour": [
           {
            "colorbar": {
             "outlinewidth": 0,
             "ticks": ""
            },
            "colorscale": [
             [
              0,
              "#0d0887"
             ],
             [
              0.1111111111111111,
              "#46039f"
             ],
             [
              0.2222222222222222,
              "#7201a8"
             ],
             [
              0.3333333333333333,
              "#9c179e"
             ],
             [
              0.4444444444444444,
              "#bd3786"
             ],
             [
              0.5555555555555556,
              "#d8576b"
             ],
             [
              0.6666666666666666,
              "#ed7953"
             ],
             [
              0.7777777777777778,
              "#fb9f3a"
             ],
             [
              0.8888888888888888,
              "#fdca26"
             ],
             [
              1,
              "#f0f921"
             ]
            ],
            "type": "histogram2dcontour"
           }
          ],
          "mesh3d": [
           {
            "colorbar": {
             "outlinewidth": 0,
             "ticks": ""
            },
            "type": "mesh3d"
           }
          ],
          "parcoords": [
           {
            "line": {
             "colorbar": {
              "outlinewidth": 0,
              "ticks": ""
             }
            },
            "type": "parcoords"
           }
          ],
          "pie": [
           {
            "automargin": true,
            "type": "pie"
           }
          ],
          "scatter": [
           {
            "fillpattern": {
             "fillmode": "overlay",
             "size": 10,
             "solidity": 0.2
            },
            "type": "scatter"
           }
          ],
          "scatter3d": [
           {
            "line": {
             "colorbar": {
              "outlinewidth": 0,
              "ticks": ""
             }
            },
            "marker": {
             "colorbar": {
              "outlinewidth": 0,
              "ticks": ""
             }
            },
            "type": "scatter3d"
           }
          ],
          "scattercarpet": [
           {
            "marker": {
             "colorbar": {
              "outlinewidth": 0,
              "ticks": ""
             }
            },
            "type": "scattercarpet"
           }
          ],
          "scattergeo": [
           {
            "marker": {
             "colorbar": {
              "outlinewidth": 0,
              "ticks": ""
             }
            },
            "type": "scattergeo"
           }
          ],
          "scattergl": [
           {
            "marker": {
             "colorbar": {
              "outlinewidth": 0,
              "ticks": ""
             }
            },
            "type": "scattergl"
           }
          ],
          "scattermapbox": [
           {
            "marker": {
             "colorbar": {
              "outlinewidth": 0,
              "ticks": ""
             }
            },
            "type": "scattermapbox"
           }
          ],
          "scatterpolar": [
           {
            "marker": {
             "colorbar": {
              "outlinewidth": 0,
              "ticks": ""
             }
            },
            "type": "scatterpolar"
           }
          ],
          "scatterpolargl": [
           {
            "marker": {
             "colorbar": {
              "outlinewidth": 0,
              "ticks": ""
             }
            },
            "type": "scatterpolargl"
           }
          ],
          "scatterternary": [
           {
            "marker": {
             "colorbar": {
              "outlinewidth": 0,
              "ticks": ""
             }
            },
            "type": "scatterternary"
           }
          ],
          "surface": [
           {
            "colorbar": {
             "outlinewidth": 0,
             "ticks": ""
            },
            "colorscale": [
             [
              0,
              "#0d0887"
             ],
             [
              0.1111111111111111,
              "#46039f"
             ],
             [
              0.2222222222222222,
              "#7201a8"
             ],
             [
              0.3333333333333333,
              "#9c179e"
             ],
             [
              0.4444444444444444,
              "#bd3786"
             ],
             [
              0.5555555555555556,
              "#d8576b"
             ],
             [
              0.6666666666666666,
              "#ed7953"
             ],
             [
              0.7777777777777778,
              "#fb9f3a"
             ],
             [
              0.8888888888888888,
              "#fdca26"
             ],
             [
              1,
              "#f0f921"
             ]
            ],
            "type": "surface"
           }
          ],
          "table": [
           {
            "cells": {
             "fill": {
              "color": "#EBF0F8"
             },
             "line": {
              "color": "white"
             }
            },
            "header": {
             "fill": {
              "color": "#C8D4E3"
             },
             "line": {
              "color": "white"
             }
            },
            "type": "table"
           }
          ]
         },
         "layout": {
          "annotationdefaults": {
           "arrowcolor": "#2a3f5f",
           "arrowhead": 0,
           "arrowwidth": 1
          },
          "autotypenumbers": "strict",
          "coloraxis": {
           "colorbar": {
            "outlinewidth": 0,
            "ticks": ""
           }
          },
          "colorscale": {
           "diverging": [
            [
             0,
             "#8e0152"
            ],
            [
             0.1,
             "#c51b7d"
            ],
            [
             0.2,
             "#de77ae"
            ],
            [
             0.3,
             "#f1b6da"
            ],
            [
             0.4,
             "#fde0ef"
            ],
            [
             0.5,
             "#f7f7f7"
            ],
            [
             0.6,
             "#e6f5d0"
            ],
            [
             0.7,
             "#b8e186"
            ],
            [
             0.8,
             "#7fbc41"
            ],
            [
             0.9,
             "#4d9221"
            ],
            [
             1,
             "#276419"
            ]
           ],
           "sequential": [
            [
             0,
             "#0d0887"
            ],
            [
             0.1111111111111111,
             "#46039f"
            ],
            [
             0.2222222222222222,
             "#7201a8"
            ],
            [
             0.3333333333333333,
             "#9c179e"
            ],
            [
             0.4444444444444444,
             "#bd3786"
            ],
            [
             0.5555555555555556,
             "#d8576b"
            ],
            [
             0.6666666666666666,
             "#ed7953"
            ],
            [
             0.7777777777777778,
             "#fb9f3a"
            ],
            [
             0.8888888888888888,
             "#fdca26"
            ],
            [
             1,
             "#f0f921"
            ]
           ],
           "sequentialminus": [
            [
             0,
             "#0d0887"
            ],
            [
             0.1111111111111111,
             "#46039f"
            ],
            [
             0.2222222222222222,
             "#7201a8"
            ],
            [
             0.3333333333333333,
             "#9c179e"
            ],
            [
             0.4444444444444444,
             "#bd3786"
            ],
            [
             0.5555555555555556,
             "#d8576b"
            ],
            [
             0.6666666666666666,
             "#ed7953"
            ],
            [
             0.7777777777777778,
             "#fb9f3a"
            ],
            [
             0.8888888888888888,
             "#fdca26"
            ],
            [
             1,
             "#f0f921"
            ]
           ]
          },
          "colorway": [
           "#636efa",
           "#EF553B",
           "#00cc96",
           "#ab63fa",
           "#FFA15A",
           "#19d3f3",
           "#FF6692",
           "#B6E880",
           "#FF97FF",
           "#FECB52"
          ],
          "font": {
           "color": "#2a3f5f"
          },
          "geo": {
           "bgcolor": "white",
           "lakecolor": "white",
           "landcolor": "#E5ECF6",
           "showlakes": true,
           "showland": true,
           "subunitcolor": "white"
          },
          "hoverlabel": {
           "align": "left"
          },
          "hovermode": "closest",
          "mapbox": {
           "style": "light"
          },
          "paper_bgcolor": "white",
          "plot_bgcolor": "#E5ECF6",
          "polar": {
           "angularaxis": {
            "gridcolor": "white",
            "linecolor": "white",
            "ticks": ""
           },
           "bgcolor": "#E5ECF6",
           "radialaxis": {
            "gridcolor": "white",
            "linecolor": "white",
            "ticks": ""
           }
          },
          "scene": {
           "xaxis": {
            "backgroundcolor": "#E5ECF6",
            "gridcolor": "white",
            "gridwidth": 2,
            "linecolor": "white",
            "showbackground": true,
            "ticks": "",
            "zerolinecolor": "white"
           },
           "yaxis": {
            "backgroundcolor": "#E5ECF6",
            "gridcolor": "white",
            "gridwidth": 2,
            "linecolor": "white",
            "showbackground": true,
            "ticks": "",
            "zerolinecolor": "white"
           },
           "zaxis": {
            "backgroundcolor": "#E5ECF6",
            "gridcolor": "white",
            "gridwidth": 2,
            "linecolor": "white",
            "showbackground": true,
            "ticks": "",
            "zerolinecolor": "white"
           }
          },
          "shapedefaults": {
           "line": {
            "color": "#2a3f5f"
           }
          },
          "ternary": {
           "aaxis": {
            "gridcolor": "white",
            "linecolor": "white",
            "ticks": ""
           },
           "baxis": {
            "gridcolor": "white",
            "linecolor": "white",
            "ticks": ""
           },
           "bgcolor": "#E5ECF6",
           "caxis": {
            "gridcolor": "white",
            "linecolor": "white",
            "ticks": ""
           }
          },
          "title": {
           "x": 0.05
          },
          "xaxis": {
           "automargin": true,
           "gridcolor": "white",
           "linecolor": "white",
           "ticks": "",
           "title": {
            "standoff": 15
           },
           "zerolinecolor": "white",
           "zerolinewidth": 2
          },
          "yaxis": {
           "automargin": true,
           "gridcolor": "white",
           "linecolor": "white",
           "ticks": "",
           "title": {
            "standoff": 15
           },
           "zerolinecolor": "white",
           "zerolinewidth": 2
          }
         }
        },
        "title": {
         "font": {
          "color": "#4D5663"
         },
         "text": "Topic 2: Top 100 words after removing stop words"
        },
        "xaxis": {
         "autorange": true,
         "gridcolor": "#E1E5ED",
         "linecolor": "black",
         "range": [
          -0.5,
          13.5
         ],
         "showgrid": true,
         "tickfont": {
          "color": "#4D5663"
         },
         "title": {
          "font": {
           "color": "#4D5663"
          },
          "text": ""
         },
         "type": "category",
         "zerolinecolor": "#E1E5ED"
        },
        "yaxis": {
         "autorange": true,
         "gridcolor": "#E1E5ED",
         "linecolor": "black",
         "range": [
          0,
          2.1052631578947367
         ],
         "showgrid": true,
         "tickfont": {
          "color": "#4D5663"
         },
         "title": {
          "font": {
           "color": "#4D5663"
          },
          "text": "Count"
         },
         "type": "linear",
         "zerolinecolor": "#E1E5ED"
        }
       }
      },
      "image/png": "[encoded data removed]",
      "text/html": [
       "<div>                            <div id=\"332f9a28-0958-4958-97ef-c8c54822af16\" class=\"plotly-graph-div\" style=\"height:525px; width:100%;\"></div>            <script type=\"text/javascript\">                require([\"plotly\"], function(Plotly) {                    window.PLOTLYENV=window.PLOTLYENV || {};\n",
       "                    window.PLOTLYENV.BASE_URL='https://plot.ly';                                    if (document.getElementById(\"332f9a28-0958-4958-97ef-c8c54822af16\")) {                    Plotly.newPlot(                        \"332f9a28-0958-4958-97ef-c8c54822af16\",                        [{\"marker\":{\"color\":\"rgba(255, 153, 51, 0.6)\",\"line\":{\"color\":\"rgba(255, 153, 51, 1.0)\",\"width\":1}},\"name\":\"count\",\"orientation\":\"v\",\"text\":\"\",\"x\":[\"vive\",\"actividade\",\"ante\",\"anteriore\",\"era\",\"familiar\",\"haca\",\"mejore\",\"mifex_offers_client\",\"pablo\",\"periodo\",\"services_please_visit_href\",\"servirn\",\"vender\"],\"y\":[2,1,1,1,1,1,1,1,1,1,1,1,1,1],\"type\":\"bar\"}],                        {\"legend\":{\"bgcolor\":\"#F5F6F9\",\"font\":{\"color\":\"#4D5663\"}},\"paper_bgcolor\":\"#F5F6F9\",\"plot_bgcolor\":\"#F5F6F9\",\"template\":{\"data\":{\"barpolar\":[{\"marker\":{\"line\":{\"color\":\"#E5ECF6\",\"width\":0.5},\"pattern\":{\"fillmode\":\"overlay\",\"size\":10,\"solidity\":0.2}},\"type\":\"barpolar\"}],\"bar\":[{\"error_x\":{\"color\":\"#2a3f5f\"},\"error_y\":{\"color\":\"#2a3f5f\"},\"marker\":{\"line\":{\"color\":\"#E5ECF6\",\"width\":0.5},\"pattern\":{\"fillmode\":\"overlay\",\"size\":10,\"solidity\":0.2}},\"type\":\"bar\"}],\"carpet\":[{\"aaxis\":{\"endlinecolor\":\"#2a3f5f\",\"gridcolor\":\"white\",\"linecolor\":\"white\",\"minorgridcolor\":\"white\",\"startlinecolor\":\"#2a3f5f\"},\"baxis\":{\"endlinecolor\":\"#2a3f5f\",\"gridcolor\":\"white\",\"linecolor\":\"white\",\"minorgridcolor\":\"white\",\"startlinecolor\":\"#2a3f5f\"},\"type\":\"carpet\"}],\"choropleth\":[{\"colorbar\":{\"outlinewidth\":0,\"ticks\":\"\"},\"type\":\"choropleth\"}],\"contourcarpet\":[{\"colorbar\":{\"outlinewidth\":0,\"ticks\":\"\"},\"type\":\"contourcarpet\"}],\"contour\":[{\"colorbar\":{\"outlinewidth\":0,\"ticks\":\"\"},\"colorscale\":[[0.0,\"#0d0887\"],[0.1111111111111111,\"#46039f\"],[0.2222222222222222,\"#7201a8\"],[0.3333333333333333,\"#9c179e\"],[0.4444444444444444,\"#bd3786\"],[0.5555555555555556,\"#d8576b\"],[0.6666666666666666,\"#ed7953\"],[0.7777777777777778,\"#fb9f3a\"],[0.8888888888888888,\"#fdca26\"],[1.0,\"#f0f921\"]],\"type\":\"contour\"}],\"heatmapgl\":[{\"colorbar\":{\"outlinewidth\":0,\"ticks\":\"\"},\"colorscale\":[[0.0,\"#0d0887\"],[0.1111111111111111,\"#46039f\"],[0.2222222222222222,\"#7201a8\"],[0.3333333333333333,\"#9c179e\"],[0.4444444444444444,\"#bd3786\"],[0.5555555555555556,\"#d8576b\"],[0.6666666666666666,\"#ed7953\"],[0.7777777777777778,\"#fb9f3a\"],[0.8888888888888888,\"#fdca26\"],[1.0,\"#f0f921\"]],\"type\":\"heatmapgl\"}],\"heatmap\":[{\"colorbar\":{\"outlinewidth\":0,\"ticks\":\"\"},\"colorscale\":[[0.0,\"#0d0887\"],[0.1111111111111111,\"#46039f\"],[0.2222222222222222,\"#7201a8\"],[0.3333333333333333,\"#9c179e\"],[0.4444444444444444,\"#bd3786\"],[0.5555555555555556,\"#d8576b\"],[0.6666666666666666,\"#ed7953\"],[0.7777777777777778,\"#fb9f3a\"],[0.8888888888888888,\"#fdca26\"],[1.0,\"#f0f921\"]],\"type\":\"heatmap\"}],\"histogram2dcontour\":[{\"colorbar\":{\"outlinewidth\":0,\"ticks\":\"\"},\"colorscale\":[[0.0,\"#0d0887\"],[0.1111111111111111,\"#46039f\"],[0.2222222222222222,\"#7201a8\"],[0.3333333333333333,\"#9c179e\"],[0.4444444444444444,\"#bd3786\"],[0.5555555555555556,\"#d8576b\"],[0.6666666666666666,\"#ed7953\"],[0.7777777777777778,\"#fb9f3a\"],[0.8888888888888888,\"#fdca26\"],[1.0,\"#f0f921\"]],\"type\":\"histogram2dcontour\"}],\"histogram2d\":[{\"colorbar\":{\"outlinewidth\":0,\"ticks\":\"\"},\"colorscale\":[[0.0,\"#0d0887\"],[0.1111111111111111,\"#46039f\"],[0.2222222222222222,\"#7201a8\"],[0.3333333333333333,\"#9c179e\"],[0.4444444444444444,\"#bd3786\"],[0.5555555555555556,\"#d8576b\"],[0.6666666666666666,\"#ed7953\"],[0.7777777777777778,\"#fb9f3a\"],[0.8888888888888888,\"#fdca26\"],[1.0,\"#f0f921\"]],\"type\":\"histogram2d\"}],\"histogram\":[{\"marker\":{\"pattern\":{\"fillmode\":\"overlay\",\"size\":10,\"solidity\":0.2}},\"type\":\"histogram\"}],\"mesh3d\":[{\"colorbar\":{\"outlinewidth\":0,\"ticks\":\"\"},\"type\":\"mesh3d\"}],\"parcoords\":[{\"line\":{\"colorbar\":{\"outlinewidth\":0,\"ticks\":\"\"}},\"type\":\"parcoords\"}],\"pie\":[{\"automargin\":true,\"type\":\"pie\"}],\"scatter3d\":[{\"line\":{\"colorbar\":{\"outlinewidth\":0,\"ticks\":\"\"}},\"marker\":{\"colorbar\":{\"outlinewidth\":0,\"ticks\":\"\"}},\"type\":\"scatter3d\"}],\"scattercarpet\":[{\"marker\":{\"colorbar\":{\"outlinewidth\":0,\"ticks\":\"\"}},\"type\":\"scattercarpet\"}],\"scattergeo\":[{\"marker\":{\"colorbar\":{\"outlinewidth\":0,\"ticks\":\"\"}},\"type\":\"scattergeo\"}],\"scattergl\":[{\"marker\":{\"colorbar\":{\"outlinewidth\":0,\"ticks\":\"\"}},\"type\":\"scattergl\"}],\"scattermapbox\":[{\"marker\":{\"colorbar\":{\"outlinewidth\":0,\"ticks\":\"\"}},\"type\":\"scattermapbox\"}],\"scatterpolargl\":[{\"marker\":{\"colorbar\":{\"outlinewidth\":0,\"ticks\":\"\"}},\"type\":\"scatterpolargl\"}],\"scatterpolar\":[{\"marker\":{\"colorbar\":{\"outlinewidth\":0,\"ticks\":\"\"}},\"type\":\"scatterpolar\"}],\"scatter\":[{\"fillpattern\":{\"fillmode\":\"overlay\",\"size\":10,\"solidity\":0.2},\"type\":\"scatter\"}],\"scatterternary\":[{\"marker\":{\"colorbar\":{\"outlinewidth\":0,\"ticks\":\"\"}},\"type\":\"scatterternary\"}],\"surface\":[{\"colorbar\":{\"outlinewidth\":0,\"ticks\":\"\"},\"colorscale\":[[0.0,\"#0d0887\"],[0.1111111111111111,\"#46039f\"],[0.2222222222222222,\"#7201a8\"],[0.3333333333333333,\"#9c179e\"],[0.4444444444444444,\"#bd3786\"],[0.5555555555555556,\"#d8576b\"],[0.6666666666666666,\"#ed7953\"],[0.7777777777777778,\"#fb9f3a\"],[0.8888888888888888,\"#fdca26\"],[1.0,\"#f0f921\"]],\"type\":\"surface\"}],\"table\":[{\"cells\":{\"fill\":{\"color\":\"#EBF0F8\"},\"line\":{\"color\":\"white\"}},\"header\":{\"fill\":{\"color\":\"#C8D4E3\"},\"line\":{\"color\":\"white\"}},\"type\":\"table\"}]},\"layout\":{\"annotationdefaults\":{\"arrowcolor\":\"#2a3f5f\",\"arrowhead\":0,\"arrowwidth\":1},\"autotypenumbers\":\"strict\",\"coloraxis\":{\"colorbar\":{\"outlinewidth\":0,\"ticks\":\"\"}},\"colorscale\":{\"diverging\":[[0,\"#8e0152\"],[0.1,\"#c51b7d\"],[0.2,\"#de77ae\"],[0.3,\"#f1b6da\"],[0.4,\"#fde0ef\"],[0.5,\"#f7f7f7\"],[0.6,\"#e6f5d0\"],[0.7,\"#b8e186\"],[0.8,\"#7fbc41\"],[0.9,\"#4d9221\"],[1,\"#276419\"]],\"sequential\":[[0.0,\"#0d0887\"],[0.1111111111111111,\"#46039f\"],[0.2222222222222222,\"#7201a8\"],[0.3333333333333333,\"#9c179e\"],[0.4444444444444444,\"#bd3786\"],[0.5555555555555556,\"#d8576b\"],[0.6666666666666666,\"#ed7953\"],[0.7777777777777778,\"#fb9f3a\"],[0.8888888888888888,\"#fdca26\"],[1.0,\"#f0f921\"]],\"sequentialminus\":[[0.0,\"#0d0887\"],[0.1111111111111111,\"#46039f\"],[0.2222222222222222,\"#7201a8\"],[0.3333333333333333,\"#9c179e\"],[0.4444444444444444,\"#bd3786\"],[0.5555555555555556,\"#d8576b\"],[0.6666666666666666,\"#ed7953\"],[0.7777777777777778,\"#fb9f3a\"],[0.8888888888888888,\"#fdca26\"],[1.0,\"#f0f921\"]]},\"colorway\":[\"#636efa\",\"#EF553B\",\"#00cc96\",\"#ab63fa\",\"#FFA15A\",\"#19d3f3\",\"#FF6692\",\"#B6E880\",\"#FF97FF\",\"#FECB52\"],\"font\":{\"color\":\"#2a3f5f\"},\"geo\":{\"bgcolor\":\"white\",\"lakecolor\":\"white\",\"landcolor\":\"#E5ECF6\",\"showlakes\":true,\"showland\":true,\"subunitcolor\":\"white\"},\"hoverlabel\":{\"align\":\"left\"},\"hovermode\":\"closest\",\"mapbox\":{\"style\":\"light\"},\"paper_bgcolor\":\"white\",\"plot_bgcolor\":\"#E5ECF6\",\"polar\":{\"angularaxis\":{\"gridcolor\":\"white\",\"linecolor\":\"white\",\"ticks\":\"\"},\"bgcolor\":\"#E5ECF6\",\"radialaxis\":{\"gridcolor\":\"white\",\"linecolor\":\"white\",\"ticks\":\"\"}},\"scene\":{\"xaxis\":{\"backgroundcolor\":\"#E5ECF6\",\"gridcolor\":\"white\",\"gridwidth\":2,\"linecolor\":\"white\",\"showbackground\":true,\"ticks\":\"\",\"zerolinecolor\":\"white\"},\"yaxis\":{\"backgroundcolor\":\"#E5ECF6\",\"gridcolor\":\"white\",\"gridwidth\":2,\"linecolor\":\"white\",\"showbackground\":true,\"ticks\":\"\",\"zerolinecolor\":\"white\"},\"zaxis\":{\"backgroundcolor\":\"#E5ECF6\",\"gridcolor\":\"white\",\"gridwidth\":2,\"linecolor\":\"white\",\"showbackground\":true,\"ticks\":\"\",\"zerolinecolor\":\"white\"}},\"shapedefaults\":{\"line\":{\"color\":\"#2a3f5f\"}},\"ternary\":{\"aaxis\":{\"gridcolor\":\"white\",\"linecolor\":\"white\",\"ticks\":\"\"},\"baxis\":{\"gridcolor\":\"white\",\"linecolor\":\"white\",\"ticks\":\"\"},\"bgcolor\":\"#E5ECF6\",\"caxis\":{\"gridcolor\":\"white\",\"linecolor\":\"white\",\"ticks\":\"\"}},\"title\":{\"x\":0.05},\"xaxis\":{\"automargin\":true,\"gridcolor\":\"white\",\"linecolor\":\"white\",\"ticks\":\"\",\"title\":{\"standoff\":15},\"zerolinecolor\":\"white\",\"zerolinewidth\":2},\"yaxis\":{\"automargin\":true,\"gridcolor\":\"white\",\"linecolor\":\"white\",\"ticks\":\"\",\"title\":{\"standoff\":15},\"zerolinecolor\":\"white\",\"zerolinewidth\":2}}},\"title\":{\"font\":{\"color\":\"#4D5663\"},\"text\":\"Topic 2: Top 100 words after removing stop words\"},\"xaxis\":{\"gridcolor\":\"#E1E5ED\",\"linecolor\":\"black\",\"showgrid\":true,\"tickfont\":{\"color\":\"#4D5663\"},\"title\":{\"font\":{\"color\":\"#4D5663\"},\"text\":\"\"},\"zerolinecolor\":\"#E1E5ED\"},\"yaxis\":{\"gridcolor\":\"#E1E5ED\",\"linecolor\":\"black\",\"showgrid\":true,\"tickfont\":{\"color\":\"#4D5663\"},\"title\":{\"font\":{\"color\":\"#4D5663\"},\"text\":\"Count\"},\"zerolinecolor\":\"#E1E5ED\"}},                        {\"showLink\": true, \"linkText\": \"Export to plot.ly\", \"plotlyServerURL\": \"https://plot.ly\", \"responsive\": true}                    ).then(function(){\n",
       "                            \n",
       "var gd = document.getElementById('332f9a28-0958-4958-97ef-c8c54822af16');\n",
       "var x = new MutationObserver(function (mutations, observer) {{\n",
       "        var display = window.getComputedStyle(gd).display;\n",
       "        if (!display || display === 'none') {{\n",
       "            console.log([gd, 'removed!']);\n",
       "            Plotly.purge(gd);\n",
       "            observer.disconnect();\n",
       "        }}\n",
       "}});\n",
       "\n",
       "// Listen for the removal of the full notebook cells\n",
       "var notebookContainer = gd.closest('#notebook-container');\n",
       "if (notebookContainer) {{\n",
       "    x.observe(notebookContainer, {childList: true});\n",
       "}}\n",
       "\n",
       "// Listen for the clearing of the current output cell\n",
       "var outputEl = gd.closest('.output');\n",
       "if (outputEl) {{\n",
       "    x.observe(outputEl, {childList: true});\n",
       "}}\n",
       "\n",
       "                        })                };                });            </script>        </div>"
      ]
     },
     "metadata": {},
     "output_type": "display_data"
    }
   ],
   "source": [
    "plot_model(lsi, plot = 'frequency', topic_num = 'Topic 2')"
   ]
  },
  {
   "cell_type": "code",
   "execution_count": 21,
   "id": "7bb2e0d1",
   "metadata": {},
   "outputs": [
    {
     "data": {
      "text/html": [
       "        <script type=\"text/javascript\">\n",
       "        window.PlotlyConfig = {MathJaxConfig: 'local'};\n",
       "        if (window.MathJax) {MathJax.Hub.Config({SVG: {font: \"STIX-Web\"}});}\n",
       "        if (typeof require !== 'undefined') {\n",
       "        require.undef(\"plotly\");\n",
       "        requirejs.config({\n",
       "            paths: {\n",
       "                'plotly': ['https://cdn.plot.ly/plotly-2.11.1.min']\n",
       "            }\n",
       "        });\n",
       "        require(['plotly'], function(Plotly) {\n",
       "            window._Plotly = Plotly;\n",
       "        });\n",
       "        }\n",
       "        </script>\n",
       "        "
      ]
     },
     "metadata": {},
     "output_type": "display_data"
    },
    {
     "data": {
      "application/vnd.plotly.v1+json": {
       "config": {
        "plotlyServerURL": "https://plot.ly"
       },
       "data": [
        {
         "alignmentgroup": "True",
         "customdata": [
          [
           "use, work, small, family, group, help, rice, start, live, husband"
          ],
          [
           "rice, farmer, land, sector, small, crop, work, farm, area, start"
          ],
          [
           "group, member, product, use, home, help, work, pay, order, husband"
          ],
          [
           "work, group, stock, family, high, increase, member, request, husband, home"
          ]
         ],
         "hovertemplate": "Topic=%{x}<br>Documents=%{y}<br>Keyword=%{customdata[0]}<extra></extra>",
         "legendgroup": "",
         "marker": {
          "color": "#636efa",
          "pattern": {
           "shape": ""
          }
         },
         "name": "",
         "offsetgroup": "",
         "orientation": "v",
         "showlegend": false,
         "textposition": "auto",
         "type": "bar",
         "x": [
          "Topic 0",
          "Topic 1",
          "Topic 2",
          "Topic 3"
         ],
         "xaxis": "x",
         "y": [
          946,
          24,
          2,
          28
         ],
         "yaxis": "y"
        }
       ],
       "layout": {
        "autosize": true,
        "barmode": "relative",
        "legend": {
         "tracegroupgap": 0
        },
        "template": {
         "data": {
          "bar": [
           {
            "error_x": {
             "color": "#2a3f5f"
            },
            "error_y": {
             "color": "#2a3f5f"
            },
            "marker": {
             "line": {
              "color": "#E5ECF6",
              "width": 0.5
             },
             "pattern": {
              "fillmode": "overlay",
              "size": 10,
              "solidity": 0.2
             }
            },
            "type": "bar"
           }
          ],
          "barpolar": [
           {
            "marker": {
             "line": {
              "color": "#E5ECF6",
              "width": 0.5
             },
             "pattern": {
              "fillmode": "overlay",
              "size": 10,
              "solidity": 0.2
             }
            },
            "type": "barpolar"
           }
          ],
          "carpet": [
           {
            "aaxis": {
             "endlinecolor": "#2a3f5f",
             "gridcolor": "white",
             "linecolor": "white",
             "minorgridcolor": "white",
             "startlinecolor": "#2a3f5f"
            },
            "baxis": {
             "endlinecolor": "#2a3f5f",
             "gridcolor": "white",
             "linecolor": "white",
             "minorgridcolor": "white",
             "startlinecolor": "#2a3f5f"
            },
            "type": "carpet"
           }
          ],
          "choropleth": [
           {
            "colorbar": {
             "outlinewidth": 0,
             "ticks": ""
            },
            "type": "choropleth"
           }
          ],
          "contour": [
           {
            "colorbar": {
             "outlinewidth": 0,
             "ticks": ""
            },
            "colorscale": [
             [
              0,
              "#0d0887"
             ],
             [
              0.1111111111111111,
              "#46039f"
             ],
             [
              0.2222222222222222,
              "#7201a8"
             ],
             [
              0.3333333333333333,
              "#9c179e"
             ],
             [
              0.4444444444444444,
              "#bd3786"
             ],
             [
              0.5555555555555556,
              "#d8576b"
             ],
             [
              0.6666666666666666,
              "#ed7953"
             ],
             [
              0.7777777777777778,
              "#fb9f3a"
             ],
             [
              0.8888888888888888,
              "#fdca26"
             ],
             [
              1,
              "#f0f921"
             ]
            ],
            "type": "contour"
           }
          ],
          "contourcarpet": [
           {
            "colorbar": {
             "outlinewidth": 0,
             "ticks": ""
            },
            "type": "contourcarpet"
           }
          ],
          "heatmap": [
           {
            "colorbar": {
             "outlinewidth": 0,
             "ticks": ""
            },
            "colorscale": [
             [
              0,
              "#0d0887"
             ],
             [
              0.1111111111111111,
              "#46039f"
             ],
             [
              0.2222222222222222,
              "#7201a8"
             ],
             [
              0.3333333333333333,
              "#9c179e"
             ],
             [
              0.4444444444444444,
              "#bd3786"
             ],
             [
              0.5555555555555556,
              "#d8576b"
             ],
             [
              0.6666666666666666,
              "#ed7953"
             ],
             [
              0.7777777777777778,
              "#fb9f3a"
             ],
             [
              0.8888888888888888,
              "#fdca26"
             ],
             [
              1,
              "#f0f921"
             ]
            ],
            "type": "heatmap"
           }
          ],
          "heatmapgl": [
           {
            "colorbar": {
             "outlinewidth": 0,
             "ticks": ""
            },
            "colorscale": [
             [
              0,
              "#0d0887"
             ],
             [
              0.1111111111111111,
              "#46039f"
             ],
             [
              0.2222222222222222,
              "#7201a8"
             ],
             [
              0.3333333333333333,
              "#9c179e"
             ],
             [
              0.4444444444444444,
              "#bd3786"
             ],
             [
              0.5555555555555556,
              "#d8576b"
             ],
             [
              0.6666666666666666,
              "#ed7953"
             ],
             [
              0.7777777777777778,
              "#fb9f3a"
             ],
             [
              0.8888888888888888,
              "#fdca26"
             ],
             [
              1,
              "#f0f921"
             ]
            ],
            "type": "heatmapgl"
           }
          ],
          "histogram": [
           {
            "marker": {
             "pattern": {
              "fillmode": "overlay",
              "size": 10,
              "solidity": 0.2
             }
            },
            "type": "histogram"
           }
          ],
          "histogram2d": [
           {
            "colorbar": {
             "outlinewidth": 0,
             "ticks": ""
            },
            "colorscale": [
             [
              0,
              "#0d0887"
             ],
             [
              0.1111111111111111,
              "#46039f"
             ],
             [
              0.2222222222222222,
              "#7201a8"
             ],
             [
              0.3333333333333333,
              "#9c179e"
             ],
             [
              0.4444444444444444,
              "#bd3786"
             ],
             [
              0.5555555555555556,
              "#d8576b"
             ],
             [
              0.6666666666666666,
              "#ed7953"
             ],
             [
              0.7777777777777778,
              "#fb9f3a"
             ],
             [
              0.8888888888888888,
              "#fdca26"
             ],
             [
              1,
              "#f0f921"
             ]
            ],
            "type": "histogram2d"
           }
          ],
          "histogram2dcontour": [
           {
            "colorbar": {
             "outlinewidth": 0,
             "ticks": ""
            },
            "colorscale": [
             [
              0,
              "#0d0887"
             ],
             [
              0.1111111111111111,
              "#46039f"
             ],
             [
              0.2222222222222222,
              "#7201a8"
             ],
             [
              0.3333333333333333,
              "#9c179e"
             ],
             [
              0.4444444444444444,
              "#bd3786"
             ],
             [
              0.5555555555555556,
              "#d8576b"
             ],
             [
              0.6666666666666666,
              "#ed7953"
             ],
             [
              0.7777777777777778,
              "#fb9f3a"
             ],
             [
              0.8888888888888888,
              "#fdca26"
             ],
             [
              1,
              "#f0f921"
             ]
            ],
            "type": "histogram2dcontour"
           }
          ],
          "mesh3d": [
           {
            "colorbar": {
             "outlinewidth": 0,
             "ticks": ""
            },
            "type": "mesh3d"
           }
          ],
          "parcoords": [
           {
            "line": {
             "colorbar": {
              "outlinewidth": 0,
              "ticks": ""
             }
            },
            "type": "parcoords"
           }
          ],
          "pie": [
           {
            "automargin": true,
            "type": "pie"
           }
          ],
          "scatter": [
           {
            "fillpattern": {
             "fillmode": "overlay",
             "size": 10,
             "solidity": 0.2
            },
            "type": "scatter"
           }
          ],
          "scatter3d": [
           {
            "line": {
             "colorbar": {
              "outlinewidth": 0,
              "ticks": ""
             }
            },
            "marker": {
             "colorbar": {
              "outlinewidth": 0,
              "ticks": ""
             }
            },
            "type": "scatter3d"
           }
          ],
          "scattercarpet": [
           {
            "marker": {
             "colorbar": {
              "outlinewidth": 0,
              "ticks": ""
             }
            },
            "type": "scattercarpet"
           }
          ],
          "scattergeo": [
           {
            "marker": {
             "colorbar": {
              "outlinewidth": 0,
              "ticks": ""
             }
            },
            "type": "scattergeo"
           }
          ],
          "scattergl": [
           {
            "marker": {
             "colorbar": {
              "outlinewidth": 0,
              "ticks": ""
             }
            },
            "type": "scattergl"
           }
          ],
          "scattermapbox": [
           {
            "marker": {
             "colorbar": {
              "outlinewidth": 0,
              "ticks": ""
             }
            },
            "type": "scattermapbox"
           }
          ],
          "scatterpolar": [
           {
            "marker": {
             "colorbar": {
              "outlinewidth": 0,
              "ticks": ""
             }
            },
            "type": "scatterpolar"
           }
          ],
          "scatterpolargl": [
           {
            "marker": {
             "colorbar": {
              "outlinewidth": 0,
              "ticks": ""
             }
            },
            "type": "scatterpolargl"
           }
          ],
          "scatterternary": [
           {
            "marker": {
             "colorbar": {
              "outlinewidth": 0,
              "ticks": ""
             }
            },
            "type": "scatterternary"
           }
          ],
          "surface": [
           {
            "colorbar": {
             "outlinewidth": 0,
             "ticks": ""
            },
            "colorscale": [
             [
              0,
              "#0d0887"
             ],
             [
              0.1111111111111111,
              "#46039f"
             ],
             [
              0.2222222222222222,
              "#7201a8"
             ],
             [
              0.3333333333333333,
              "#9c179e"
             ],
             [
              0.4444444444444444,
              "#bd3786"
             ],
             [
              0.5555555555555556,
              "#d8576b"
             ],
             [
              0.6666666666666666,
              "#ed7953"
             ],
             [
              0.7777777777777778,
              "#fb9f3a"
             ],
             [
              0.8888888888888888,
              "#fdca26"
             ],
             [
              1,
              "#f0f921"
             ]
            ],
            "type": "surface"
           }
          ],
          "table": [
           {
            "cells": {
             "fill": {
              "color": "#EBF0F8"
             },
             "line": {
              "color": "white"
             }
            },
            "header": {
             "fill": {
              "color": "#C8D4E3"
             },
             "line": {
              "color": "white"
             }
            },
            "type": "table"
           }
          ]
         },
         "layout": {
          "annotationdefaults": {
           "arrowcolor": "#2a3f5f",
           "arrowhead": 0,
           "arrowwidth": 1
          },
          "autotypenumbers": "strict",
          "coloraxis": {
           "colorbar": {
            "outlinewidth": 0,
            "ticks": ""
           }
          },
          "colorscale": {
           "diverging": [
            [
             0,
             "#8e0152"
            ],
            [
             0.1,
             "#c51b7d"
            ],
            [
             0.2,
             "#de77ae"
            ],
            [
             0.3,
             "#f1b6da"
            ],
            [
             0.4,
             "#fde0ef"
            ],
            [
             0.5,
             "#f7f7f7"
            ],
            [
             0.6,
             "#e6f5d0"
            ],
            [
             0.7,
             "#b8e186"
            ],
            [
             0.8,
             "#7fbc41"
            ],
            [
             0.9,
             "#4d9221"
            ],
            [
             1,
             "#276419"
            ]
           ],
           "sequential": [
            [
             0,
             "#0d0887"
            ],
            [
             0.1111111111111111,
             "#46039f"
            ],
            [
             0.2222222222222222,
             "#7201a8"
            ],
            [
             0.3333333333333333,
             "#9c179e"
            ],
            [
             0.4444444444444444,
             "#bd3786"
            ],
            [
             0.5555555555555556,
             "#d8576b"
            ],
            [
             0.6666666666666666,
             "#ed7953"
            ],
            [
             0.7777777777777778,
             "#fb9f3a"
            ],
            [
             0.8888888888888888,
             "#fdca26"
            ],
            [
             1,
             "#f0f921"
            ]
           ],
           "sequentialminus": [
            [
             0,
             "#0d0887"
            ],
            [
             0.1111111111111111,
             "#46039f"
            ],
            [
             0.2222222222222222,
             "#7201a8"
            ],
            [
             0.3333333333333333,
             "#9c179e"
            ],
            [
             0.4444444444444444,
             "#bd3786"
            ],
            [
             0.5555555555555556,
             "#d8576b"
            ],
            [
             0.6666666666666666,
             "#ed7953"
            ],
            [
             0.7777777777777778,
             "#fb9f3a"
            ],
            [
             0.8888888888888888,
             "#fdca26"
            ],
            [
             1,
             "#f0f921"
            ]
           ]
          },
          "colorway": [
           "#636efa",
           "#EF553B",
           "#00cc96",
           "#ab63fa",
           "#FFA15A",
           "#19d3f3",
           "#FF6692",
           "#B6E880",
           "#FF97FF",
           "#FECB52"
          ],
          "font": {
           "color": "#2a3f5f"
          },
          "geo": {
           "bgcolor": "white",
           "lakecolor": "white",
           "landcolor": "#E5ECF6",
           "showlakes": true,
           "showland": true,
           "subunitcolor": "white"
          },
          "hoverlabel": {
           "align": "left"
          },
          "hovermode": "closest",
          "mapbox": {
           "style": "light"
          },
          "paper_bgcolor": "white",
          "plot_bgcolor": "#E5ECF6",
          "polar": {
           "angularaxis": {
            "gridcolor": "white",
            "linecolor": "white",
            "ticks": ""
           },
           "bgcolor": "#E5ECF6",
           "radialaxis": {
            "gridcolor": "white",
            "linecolor": "white",
            "ticks": ""
           }
          },
          "scene": {
           "xaxis": {
            "backgroundcolor": "#E5ECF6",
            "gridcolor": "white",
            "gridwidth": 2,
            "linecolor": "white",
            "showbackground": true,
            "ticks": "",
            "zerolinecolor": "white"
           },
           "yaxis": {
            "backgroundcolor": "#E5ECF6",
            "gridcolor": "white",
            "gridwidth": 2,
            "linecolor": "white",
            "showbackground": true,
            "ticks": "",
            "zerolinecolor": "white"
           },
           "zaxis": {
            "backgroundcolor": "#E5ECF6",
            "gridcolor": "white",
            "gridwidth": 2,
            "linecolor": "white",
            "showbackground": true,
            "ticks": "",
            "zerolinecolor": "white"
           }
          },
          "shapedefaults": {
           "line": {
            "color": "#2a3f5f"
           }
          },
          "ternary": {
           "aaxis": {
            "gridcolor": "white",
            "linecolor": "white",
            "ticks": ""
           },
           "baxis": {
            "gridcolor": "white",
            "linecolor": "white",
            "ticks": ""
           },
           "bgcolor": "#E5ECF6",
           "caxis": {
            "gridcolor": "white",
            "linecolor": "white",
            "ticks": ""
           }
          },
          "title": {
           "x": 0.05
          },
          "xaxis": {
           "automargin": true,
           "gridcolor": "white",
           "linecolor": "white",
           "ticks": "",
           "title": {
            "standoff": 15
           },
           "zerolinecolor": "white",
           "zerolinewidth": 2
          },
          "yaxis": {
           "automargin": true,
           "gridcolor": "white",
           "linecolor": "white",
           "ticks": "",
           "title": {
            "standoff": 15
           },
           "zerolinecolor": "white",
           "zerolinewidth": 2
          }
         }
        },
        "title": {
         "text": "Document Distribution by Topics"
        },
        "xaxis": {
         "anchor": "y",
         "autorange": true,
         "domain": [
          0,
          1
         ],
         "range": [
          -0.5,
          3.5
         ],
         "title": {
          "text": "Topic"
         },
         "type": "category"
        },
        "yaxis": {
         "anchor": "x",
         "autorange": true,
         "domain": [
          0,
          1
         ],
         "range": [
          0,
          995.7894736842105
         ],
         "title": {
          "text": "Documents"
         },
         "type": "linear"
        }
       }
      },
      "image/png": "[encoded data removed]",
      "text/html": [
       "<div>                            <div id=\"1894b91f-6bb7-424b-842b-c83c7111a132\" class=\"plotly-graph-div\" style=\"height:525px; width:100%;\"></div>            <script type=\"text/javascript\">                require([\"plotly\"], function(Plotly) {                    window.PLOTLYENV=window.PLOTLYENV || {};                                    if (document.getElementById(\"1894b91f-6bb7-424b-842b-c83c7111a132\")) {                    Plotly.newPlot(                        \"1894b91f-6bb7-424b-842b-c83c7111a132\",                        [{\"alignmentgroup\":\"True\",\"customdata\":[[\"use, work, small, family, group, help, rice, start, live, husband\"],[\"rice, farmer, land, sector, small, crop, work, farm, area, start\"],[\"group, member, product, use, home, help, work, pay, order, husband\"],[\"work, group, stock, family, high, increase, member, request, husband, home\"]],\"hovertemplate\":\"Topic=%{x}<br>Documents=%{y}<br>Keyword=%{customdata[0]}<extra></extra>\",\"legendgroup\":\"\",\"marker\":{\"color\":\"#636efa\",\"pattern\":{\"shape\":\"\"}},\"name\":\"\",\"offsetgroup\":\"\",\"orientation\":\"v\",\"showlegend\":false,\"textposition\":\"auto\",\"x\":[\"Topic 0\",\"Topic 1\",\"Topic 2\",\"Topic 3\"],\"xaxis\":\"x\",\"y\":[946,24,2,28],\"yaxis\":\"y\",\"type\":\"bar\"}],                        {\"template\":{\"data\":{\"histogram2dcontour\":[{\"type\":\"histogram2dcontour\",\"colorbar\":{\"outlinewidth\":0,\"ticks\":\"\"},\"colorscale\":[[0.0,\"#0d0887\"],[0.1111111111111111,\"#46039f\"],[0.2222222222222222,\"#7201a8\"],[0.3333333333333333,\"#9c179e\"],[0.4444444444444444,\"#bd3786\"],[0.5555555555555556,\"#d8576b\"],[0.6666666666666666,\"#ed7953\"],[0.7777777777777778,\"#fb9f3a\"],[0.8888888888888888,\"#fdca26\"],[1.0,\"#f0f921\"]]}],\"choropleth\":[{\"type\":\"choropleth\",\"colorbar\":{\"outlinewidth\":0,\"ticks\":\"\"}}],\"histogram2d\":[{\"type\":\"histogram2d\",\"colorbar\":{\"outlinewidth\":0,\"ticks\":\"\"},\"colorscale\":[[0.0,\"#0d0887\"],[0.1111111111111111,\"#46039f\"],[0.2222222222222222,\"#7201a8\"],[0.3333333333333333,\"#9c179e\"],[0.4444444444444444,\"#bd3786\"],[0.5555555555555556,\"#d8576b\"],[0.6666666666666666,\"#ed7953\"],[0.7777777777777778,\"#fb9f3a\"],[0.8888888888888888,\"#fdca26\"],[1.0,\"#f0f921\"]]}],\"heatmap\":[{\"type\":\"heatmap\",\"colorbar\":{\"outlinewidth\":0,\"ticks\":\"\"},\"colorscale\":[[0.0,\"#0d0887\"],[0.1111111111111111,\"#46039f\"],[0.2222222222222222,\"#7201a8\"],[0.3333333333333333,\"#9c179e\"],[0.4444444444444444,\"#bd3786\"],[0.5555555555555556,\"#d8576b\"],[0.6666666666666666,\"#ed7953\"],[0.7777777777777778,\"#fb9f3a\"],[0.8888888888888888,\"#fdca26\"],[1.0,\"#f0f921\"]]}],\"heatmapgl\":[{\"type\":\"heatmapgl\",\"colorbar\":{\"outlinewidth\":0,\"ticks\":\"\"},\"colorscale\":[[0.0,\"#0d0887\"],[0.1111111111111111,\"#46039f\"],[0.2222222222222222,\"#7201a8\"],[0.3333333333333333,\"#9c179e\"],[0.4444444444444444,\"#bd3786\"],[0.5555555555555556,\"#d8576b\"],[0.6666666666666666,\"#ed7953\"],[0.7777777777777778,\"#fb9f3a\"],[0.8888888888888888,\"#fdca26\"],[1.0,\"#f0f921\"]]}],\"contourcarpet\":[{\"type\":\"contourcarpet\",\"colorbar\":{\"outlinewidth\":0,\"ticks\":\"\"}}],\"contour\":[{\"type\":\"contour\",\"colorbar\":{\"outlinewidth\":0,\"ticks\":\"\"},\"colorscale\":[[0.0,\"#0d0887\"],[0.1111111111111111,\"#46039f\"],[0.2222222222222222,\"#7201a8\"],[0.3333333333333333,\"#9c179e\"],[0.4444444444444444,\"#bd3786\"],[0.5555555555555556,\"#d8576b\"],[0.6666666666666666,\"#ed7953\"],[0.7777777777777778,\"#fb9f3a\"],[0.8888888888888888,\"#fdca26\"],[1.0,\"#f0f921\"]]}],\"surface\":[{\"type\":\"surface\",\"colorbar\":{\"outlinewidth\":0,\"ticks\":\"\"},\"colorscale\":[[0.0,\"#0d0887\"],[0.1111111111111111,\"#46039f\"],[0.2222222222222222,\"#7201a8\"],[0.3333333333333333,\"#9c179e\"],[0.4444444444444444,\"#bd3786\"],[0.5555555555555556,\"#d8576b\"],[0.6666666666666666,\"#ed7953\"],[0.7777777777777778,\"#fb9f3a\"],[0.8888888888888888,\"#fdca26\"],[1.0,\"#f0f921\"]]}],\"mesh3d\":[{\"type\":\"mesh3d\",\"colorbar\":{\"outlinewidth\":0,\"ticks\":\"\"}}],\"scatter\":[{\"fillpattern\":{\"fillmode\":\"overlay\",\"size\":10,\"solidity\":0.2},\"type\":\"scatter\"}],\"parcoords\":[{\"type\":\"parcoords\",\"line\":{\"colorbar\":{\"outlinewidth\":0,\"ticks\":\"\"}}}],\"scatterpolargl\":[{\"type\":\"scatterpolargl\",\"marker\":{\"colorbar\":{\"outlinewidth\":0,\"ticks\":\"\"}}}],\"bar\":[{\"error_x\":{\"color\":\"#2a3f5f\"},\"error_y\":{\"color\":\"#2a3f5f\"},\"marker\":{\"line\":{\"color\":\"#E5ECF6\",\"width\":0.5},\"pattern\":{\"fillmode\":\"overlay\",\"size\":10,\"solidity\":0.2}},\"type\":\"bar\"}],\"scattergeo\":[{\"type\":\"scattergeo\",\"marker\":{\"colorbar\":{\"outlinewidth\":0,\"ticks\":\"\"}}}],\"scatterpolar\":[{\"type\":\"scatterpolar\",\"marker\":{\"colorbar\":{\"outlinewidth\":0,\"ticks\":\"\"}}}],\"histogram\":[{\"marker\":{\"pattern\":{\"fillmode\":\"overlay\",\"size\":10,\"solidity\":0.2}},\"type\":\"histogram\"}],\"scattergl\":[{\"type\":\"scattergl\",\"marker\":{\"colorbar\":{\"outlinewidth\":0,\"ticks\":\"\"}}}],\"scatter3d\":[{\"type\":\"scatter3d\",\"line\":{\"colorbar\":{\"outlinewidth\":0,\"ticks\":\"\"}},\"marker\":{\"colorbar\":{\"outlinewidth\":0,\"ticks\":\"\"}}}],\"scattermapbox\":[{\"type\":\"scattermapbox\",\"marker\":{\"colorbar\":{\"outlinewidth\":0,\"ticks\":\"\"}}}],\"scatterternary\":[{\"type\":\"scatterternary\",\"marker\":{\"colorbar\":{\"outlinewidth\":0,\"ticks\":\"\"}}}],\"scattercarpet\":[{\"type\":\"scattercarpet\",\"marker\":{\"colorbar\":{\"outlinewidth\":0,\"ticks\":\"\"}}}],\"carpet\":[{\"aaxis\":{\"endlinecolor\":\"#2a3f5f\",\"gridcolor\":\"white\",\"linecolor\":\"white\",\"minorgridcolor\":\"white\",\"startlinecolor\":\"#2a3f5f\"},\"baxis\":{\"endlinecolor\":\"#2a3f5f\",\"gridcolor\":\"white\",\"linecolor\":\"white\",\"minorgridcolor\":\"white\",\"startlinecolor\":\"#2a3f5f\"},\"type\":\"carpet\"}],\"table\":[{\"cells\":{\"fill\":{\"color\":\"#EBF0F8\"},\"line\":{\"color\":\"white\"}},\"header\":{\"fill\":{\"color\":\"#C8D4E3\"},\"line\":{\"color\":\"white\"}},\"type\":\"table\"}],\"barpolar\":[{\"marker\":{\"line\":{\"color\":\"#E5ECF6\",\"width\":0.5},\"pattern\":{\"fillmode\":\"overlay\",\"size\":10,\"solidity\":0.2}},\"type\":\"barpolar\"}],\"pie\":[{\"automargin\":true,\"type\":\"pie\"}]},\"layout\":{\"autotypenumbers\":\"strict\",\"colorway\":[\"#636efa\",\"#EF553B\",\"#00cc96\",\"#ab63fa\",\"#FFA15A\",\"#19d3f3\",\"#FF6692\",\"#B6E880\",\"#FF97FF\",\"#FECB52\"],\"font\":{\"color\":\"#2a3f5f\"},\"hovermode\":\"closest\",\"hoverlabel\":{\"align\":\"left\"},\"paper_bgcolor\":\"white\",\"plot_bgcolor\":\"#E5ECF6\",\"polar\":{\"bgcolor\":\"#E5ECF6\",\"angularaxis\":{\"gridcolor\":\"white\",\"linecolor\":\"white\",\"ticks\":\"\"},\"radialaxis\":{\"gridcolor\":\"white\",\"linecolor\":\"white\",\"ticks\":\"\"}},\"ternary\":{\"bgcolor\":\"#E5ECF6\",\"aaxis\":{\"gridcolor\":\"white\",\"linecolor\":\"white\",\"ticks\":\"\"},\"baxis\":{\"gridcolor\":\"white\",\"linecolor\":\"white\",\"ticks\":\"\"},\"caxis\":{\"gridcolor\":\"white\",\"linecolor\":\"white\",\"ticks\":\"\"}},\"coloraxis\":{\"colorbar\":{\"outlinewidth\":0,\"ticks\":\"\"}},\"colorscale\":{\"sequential\":[[0.0,\"#0d0887\"],[0.1111111111111111,\"#46039f\"],[0.2222222222222222,\"#7201a8\"],[0.3333333333333333,\"#9c179e\"],[0.4444444444444444,\"#bd3786\"],[0.5555555555555556,\"#d8576b\"],[0.6666666666666666,\"#ed7953\"],[0.7777777777777778,\"#fb9f3a\"],[0.8888888888888888,\"#fdca26\"],[1.0,\"#f0f921\"]],\"sequentialminus\":[[0.0,\"#0d0887\"],[0.1111111111111111,\"#46039f\"],[0.2222222222222222,\"#7201a8\"],[0.3333333333333333,\"#9c179e\"],[0.4444444444444444,\"#bd3786\"],[0.5555555555555556,\"#d8576b\"],[0.6666666666666666,\"#ed7953\"],[0.7777777777777778,\"#fb9f3a\"],[0.8888888888888888,\"#fdca26\"],[1.0,\"#f0f921\"]],\"diverging\":[[0,\"#8e0152\"],[0.1,\"#c51b7d\"],[0.2,\"#de77ae\"],[0.3,\"#f1b6da\"],[0.4,\"#fde0ef\"],[0.5,\"#f7f7f7\"],[0.6,\"#e6f5d0\"],[0.7,\"#b8e186\"],[0.8,\"#7fbc41\"],[0.9,\"#4d9221\"],[1,\"#276419\"]]},\"xaxis\":{\"gridcolor\":\"white\",\"linecolor\":\"white\",\"ticks\":\"\",\"title\":{\"standoff\":15},\"zerolinecolor\":\"white\",\"automargin\":true,\"zerolinewidth\":2},\"yaxis\":{\"gridcolor\":\"white\",\"linecolor\":\"white\",\"ticks\":\"\",\"title\":{\"standoff\":15},\"zerolinecolor\":\"white\",\"automargin\":true,\"zerolinewidth\":2},\"scene\":{\"xaxis\":{\"backgroundcolor\":\"#E5ECF6\",\"gridcolor\":\"white\",\"linecolor\":\"white\",\"showbackground\":true,\"ticks\":\"\",\"zerolinecolor\":\"white\",\"gridwidth\":2},\"yaxis\":{\"backgroundcolor\":\"#E5ECF6\",\"gridcolor\":\"white\",\"linecolor\":\"white\",\"showbackground\":true,\"ticks\":\"\",\"zerolinecolor\":\"white\",\"gridwidth\":2},\"zaxis\":{\"backgroundcolor\":\"#E5ECF6\",\"gridcolor\":\"white\",\"linecolor\":\"white\",\"showbackground\":true,\"ticks\":\"\",\"zerolinecolor\":\"white\",\"gridwidth\":2}},\"shapedefaults\":{\"line\":{\"color\":\"#2a3f5f\"}},\"annotationdefaults\":{\"arrowcolor\":\"#2a3f5f\",\"arrowhead\":0,\"arrowwidth\":1},\"geo\":{\"bgcolor\":\"white\",\"landcolor\":\"#E5ECF6\",\"subunitcolor\":\"white\",\"showland\":true,\"showlakes\":true,\"lakecolor\":\"white\"},\"title\":{\"x\":0.05},\"mapbox\":{\"style\":\"light\"}}},\"xaxis\":{\"anchor\":\"y\",\"domain\":[0.0,1.0],\"title\":{\"text\":\"Topic\"}},\"yaxis\":{\"anchor\":\"x\",\"domain\":[0.0,1.0],\"title\":{\"text\":\"Documents\"}},\"legend\":{\"tracegroupgap\":0},\"title\":{\"text\":\"Document Distribution by Topics\"},\"barmode\":\"relative\"},                        {\"responsive\": true}                    ).then(function(){\n",
       "                            \n",
       "var gd = document.getElementById('1894b91f-6bb7-424b-842b-c83c7111a132');\n",
       "var x = new MutationObserver(function (mutations, observer) {{\n",
       "        var display = window.getComputedStyle(gd).display;\n",
       "        if (!display || display === 'none') {{\n",
       "            console.log([gd, 'removed!']);\n",
       "            Plotly.purge(gd);\n",
       "            observer.disconnect();\n",
       "        }}\n",
       "}});\n",
       "\n",
       "// Listen for the removal of the full notebook cells\n",
       "var notebookContainer = gd.closest('#notebook-container');\n",
       "if (notebookContainer) {{\n",
       "    x.observe(notebookContainer, {childList: true});\n",
       "}}\n",
       "\n",
       "// Listen for the clearing of the current output cell\n",
       "var outputEl = gd.closest('.output');\n",
       "if (outputEl) {{\n",
       "    x.observe(outputEl, {childList: true});\n",
       "}}\n",
       "\n",
       "                        })                };                });            </script>        </div>"
      ]
     },
     "metadata": {},
     "output_type": "display_data"
    }
   ],
   "source": [
    "plot_model(lsi, plot = 'topic_distribution')"
   ]
  },
  {
   "cell_type": "code",
   "execution_count": 22,
   "id": "ef375231",
   "metadata": {
    "scrolled": true
   },
   "outputs": [
    {
     "data": {
      "text/html": [
       "        <script type=\"text/javascript\">\n",
       "        window.PlotlyConfig = {MathJaxConfig: 'local'};\n",
       "        if (window.MathJax) {MathJax.Hub.Config({SVG: {font: \"STIX-Web\"}});}\n",
       "        if (typeof require !== 'undefined') {\n",
       "        require.undef(\"plotly\");\n",
       "        requirejs.config({\n",
       "            paths: {\n",
       "                'plotly': ['https://cdn.plot.ly/plotly-2.11.1.min']\n",
       "            }\n",
       "        });\n",
       "        require(['plotly'], function(Plotly) {\n",
       "            window._Plotly = Plotly;\n",
       "        });\n",
       "        }\n",
       "        </script>\n",
       "        "
      ]
     },
     "metadata": {},
     "output_type": "display_data"
    },
    {
     "data": {
      "application/vnd.plotly.v1+json": {
       "config": {
        "plotlyServerURL": "https://plot.ly"
       },
       "data": [
        {
         "hovertemplate": "Dominant_Topic=Topic 0<br>0=%{x}<br>1=%{y}<br>2=%{z}<extra></extra>",
         "legendgroup": "Topic 0",
         "marker": {
          "color": "#636efa",
          "opacity": 0.7,
          "symbol": "circle"
         },
         "mode": "markers",
         "name": "Topic 0",
         "scene": "scene",
         "showlegend": true,
         "type": "scatter3d",
         "x": [
          6.001829147338867,
          -4.778372764587402,
          -3.7392525672912598,
          1.4080777168273926,
          2.192953109741211,
          -1.2149271965026855,
          -8.305623054504395,
          -3.8964951038360596,
          -4.267335891723633,
          -6.372071743011475,
          5.267628192901611,
          -1.6395015716552734,
          -8.60438060760498,
          -4.086887836456299,
          -7.149917125701904,
          -0.361798495054245,
          3.578003406524658,
          -1.4424715042114258,
          4.616064548492432,
          -6.825150489807129,
          4.930667877197266,
          -2.1688599586486816,
          1.1815788745880127,
          6.141861438751221,
          5.718390941619873,
          1.9944796562194824,
          5.228160858154297,
          3.09076189994812,
          -1.2012659311294556,
          1.1074342727661133,
          1.7381349802017212,
          0.3267080783843994,
          -3.4117636680603027,
          -7.940670013427734,
          -6.235749244689941,
          -1.4172202348709106,
          -1.9999476671218872,
          4.546195983886719,
          -7.951354026794434,
          2.1907641887664795,
          3.2734644412994385,
          1.713593602180481,
          -0.6341820955276489,
          1.9520800113677979,
          -3.3581783771514893,
          -2.6483523845672607,
          3.3558666706085205,
          -0.5877718925476074,
          -0.5711732506752014,
          1.4112846851348877,
          4.578512191772461,
          -7.014801025390625,
          -0.8084805011749268,
          -7.007964611053467,
          3.4638495445251465,
          -3.4383010864257812,
          1.1455878019332886,
          3.7680869102478027,
          1.4497952461242676,
          -2.604661703109741,
          5.892529487609863,
          5.684525012969971,
          3.2176003456115723,
          -1.6384540796279907,
          0.5273888111114502,
          -2.7011771202087402,
          -0.8411045074462891,
          2.1608102321624756,
          0.5698314905166626,
          -0.4071042537689209,
          4.051991939544678,
          2.618170976638794,
          -5.183659076690674,
          0.9854193925857544,
          3.840928316116333,
          2.6598308086395264,
          5.258362293243408,
          -0.96585613489151,
          2.9146628379821777,
          -4.634398460388184,
          3.7956650257110596,
          -0.04883559048175812,
          -2.7712767124176025,
          -7.683533668518066,
          -4.193605422973633,
          -2.2612061500549316,
          3.4840574264526367,
          -7.177612781524658,
          0.13682766258716583,
          4.5130133628845215,
          -0.4138166308403015,
          -0.4786216914653778,
          3.674257755279541,
          3.072540044784546,
          5.713766098022461,
          -0.8732741475105286,
          3.3808910846710205,
          0.22547389566898346,
          2.5609183311462402,
          -6.019314289093018,
          -7.845655918121338,
          -6.008455276489258,
          -3.235189914703369,
          -4.286032199859619,
          -3.0830440521240234,
          2.382812738418579,
          3.7343266010284424,
          0.25054827332496643,
          4.230710029602051,
          -4.322865962982178,
          0.6559169292449951,
          -0.9984946250915527,
          -2.471888303756714,
          1.181169867515564,
          3.4047677516937256,
          -3.9233365058898926,
          2.203991174697876,
          -7.039844036102295,
          0.9286286234855652,
          2.012557029724121,
          1.7995476722717285,
          -4.930397987365723,
          -0.9259502291679382,
          -4.007643699645996,
          0.4531513750553131,
          5.600405693054199,
          6.4615912437438965,
          1.6108956336975098,
          5.196483612060547,
          -1.6220673322677612,
          -1.5632503032684326,
          -2.5433542728424072,
          -1.8807411193847656,
          -0.02977066859602928,
          -5.209747314453125,
          -7.564445495605469,
          -1.9220541715621948,
          6.2876973152160645,
          -6.782597064971924,
          -2.5700864791870117,
          2.7729709148406982,
          4.626178741455078,
          3.638044834136963,
          3.6539361476898193,
          3.343046188354492,
          -1.3190960884094238,
          -6.221253871917725,
          -3.340420961380005,
          -1.0763729810714722,
          2.222242593765259,
          2.581923484802246,
          4.981382369995117,
          4.515778541564941,
          2.420849323272705,
          -1.342139482498169,
          3.4170966148376465,
          3.380768060684204,
          2.088883638381958,
          -4.705590724945068,
          -0.27571648359298706,
          -7.657163619995117,
          1.5150009393692017,
          0.20604996383190155,
          -3.1837127208709717,
          -3.3986093997955322,
          -5.516824245452881,
          -4.266358852386475,
          4.245916843414307,
          -5.513869285583496,
          -3.1684505939483643,
          -3.2269225120544434,
          0.389019638299942,
          0.8201801776885986,
          5.804972171783447,
          2.3032689094543457,
          -3.9226222038269043,
          1.9403433799743652,
          4.015892505645752,
          -1.185261845588684,
          3.868370771408081,
          -5.398861885070801,
          3.407149314880371,
          -2.046006917953491,
          4.362610340118408,
          -0.6459642648696899,
          -3.5999138355255127,
          -2.756477117538452,
          4.899914741516113,
          -6.976441383361816,
          -2.5055038928985596,
          -0.8148168325424194,
          4.881528377532959,
          3.3736343383789062,
          -1.388646125793457,
          1.4623562097549438,
          1.6152652502059937,
          5.028061866760254,
          -2.5648276805877686,
          -0.9361215233802795,
          1.2303826808929443,
          -5.8080525398254395,
          -6.5762410163879395,
          2.633301258087158,
          -3.149700403213501,
          1.5369142293930054,
          -5.244915962219238,
          -3.7863147258758545,
          4.374387264251709,
          -4.660017967224121,
          3.2963767051696777,
          -2.2966532707214355,
          2.71195125579834,
          2.0064358711242676,
          -0.26103705167770386,
          4.321929454803467,
          5.912214756011963,
          3.6964869499206543,
          -5.7960991859436035,
          4.9807562828063965,
          3.794126272201538,
          -2.22475266456604,
          -5.214371204376221,
          -5.514281749725342,
          -2.683913469314575,
          3.923079490661621,
          0.9334073662757874,
          3.2541959285736084,
          -5.966443061828613,
          -1.5686417818069458,
          -5.601443290710449,
          -4.238855361938477,
          2.1050174236297607,
          -5.399446964263916,
          -6.933445453643799,
          -3.2282633781433105,
          -1.597927451133728,
          -8.127530097961426,
          -3.096453905105591,
          -0.4025210440158844,
          -3.627044916152954,
          -6.7762885093688965,
          2.8737893104553223,
          5.146713733673096,
          -2.6381607055664062,
          -2.673997640609741,
          -4.29189920425415,
          -2.805936098098755,
          -6.533462047576904,
          3.077805995941162,
          0.35028403997421265,
          1.0602436065673828,
          0.8408284187316895,
          -3.6766297817230225,
          4.463512420654297,
          2.855856418609619,
          4.7088117599487305,
          -1.668676495552063,
          -1.139627456665039,
          3.1780314445495605,
          0.983637809753418,
          3.166982889175415,
          -3.933156967163086,
          -3.1863982677459717,
          3.8138833045959473,
          -0.49974778294563293,
          0.7571043968200684,
          -2.774404764175415,
          -2.451225519180298,
          6.667206287384033,
          -1.1844329833984375,
          -6.736835956573486,
          -6.839939117431641,
          5.982143878936768,
          3.894127607345581,
          2.1210505962371826,
          -4.4338483810424805,
          -2.421971559524536,
          0.750088095664978,
          5.72627592086792,
          4.382308006286621,
          5.761613368988037,
          -0.9572851061820984,
          -0.9096491932868958,
          -4.213769912719727,
          2.918881416320801,
          -2.152984619140625,
          3.3161911964416504,
          2.9971837997436523,
          1.6218801736831665,
          -2.686901807785034,
          -6.180555820465088,
          1.8343178033828735,
          4.4186248779296875,
          -1.7498975992202759,
          -3.600661516189575,
          -3.5485951900482178,
          -7.6705498695373535,
          1.490994930267334,
          4.091023921966553,
          6.097970962524414,
          2.73229718208313,
          -7.37568998336792,
          -8.853686332702637,
          -1.7147361040115356,
          3.7217626571655273,
          -0.7372382879257202,
          -2.7202017307281494,
          2.9948678016662598,
          -4.360417366027832,
          -0.6053600907325745,
          6.224655628204346,
          -1.3947746753692627,
          -6.3342366218566895,
          0.9417448043823242,
          3.093259811401367,
          -0.17286083102226257,
          -1.6409353017807007,
          -4.403293609619141,
          -6.885200500488281,
          -6.739224910736084,
          -2.167346477508545,
          0.1390797346830368,
          -7.8922247886657715,
          -3.2726049423217773,
          3.6532180309295654,
          -0.24347922205924988,
          4.110778331756592,
          -6.568719387054443,
          1.6091634035110474,
          -2.7231948375701904,
          -8.209189414978027,
          5.150179862976074,
          -0.8434774875640869,
          -3.1054816246032715,
          2.571668863296509,
          6.674617290496826,
          3.4141993522644043,
          -1.6583526134490967,
          3.335261344909668,
          6.075188159942627,
          3.8705759048461914,
          -2.340940237045288,
          3.5574467182159424,
          0.05189136415719986,
          6.467630386352539,
          -0.7396544814109802,
          4.553639888763428,
          4.255910873413086,
          -5.035372734069824,
          -0.38965949416160583,
          5.923418045043945,
          1.1653270721435547,
          -3.7970786094665527,
          3.6529810428619385,
          -4.208327293395996,
          -2.70611310005188,
          -3.480313539505005,
          -3.4255359172821045,
          2.6814165115356445,
          -7.172332763671875,
          -7.982414722442627,
          -0.8496053814888,
          2.81347918510437,
          -3.9270071983337402,
          2.6579246520996094,
          2.1328084468841553,
          -6.538381099700928,
          -8.346183776855469,
          0.7378396391868591,
          -0.32652074098587036,
          2.8677637577056885,
          -6.482478618621826,
          -4.585681915283203,
          -6.902915954589844,
          -3.782184600830078,
          4.313727378845215,
          -5.064853668212891,
          -7.139669418334961,
          3.262732982635498,
          3.4234507083892822,
          -0.4023396968841553,
          2.2790236473083496,
          -5.777903079986572,
          -4.624853610992432,
          -3.348269462585449,
          -0.4000353217124939,
          4.014402389526367,
          -0.99888676404953,
          4.6494622230529785,
          -0.5526909232139587,
          -6.932174205780029,
          3.935953140258789,
          6.26517391204834,
          1.3863204717636108,
          -3.264197826385498,
          0.8481423258781433,
          -1.9961519241333008,
          0.0954815074801445,
          5.214623928070068,
          3.0476133823394775,
          -0.6219882965087891,
          5.126465797424316,
          2.628309965133667,
          2.2358481884002686,
          -5.181131839752197,
          2.334045648574829,
          -0.9685049653053284,
          -3.746285915374756,
          1.4562677145004272,
          -2.3412997722625732,
          3.534468173980713,
          1.2328928709030151,
          -8.250033378601074,
          -2.6810495853424072,
          2.0395493507385254,
          -0.6856169700622559,
          -5.719554901123047,
          -1.9577375650405884,
          3.7313618659973145,
          3.577057361602783,
          0.5362581610679626,
          6.559205055236816,
          -0.5324714779853821,
          -3.9160027503967285,
          5.907938003540039,
          -0.48865488171577454,
          2.7518997192382812,
          4.865683078765869,
          -5.232640743255615,
          3.103501319885254,
          -2.4863858222961426,
          -5.808850288391113,
          6.714634895324707,
          5.090001583099365,
          5.146435260772705,
          -5.3648200035095215,
          1.9768970012664795,
          -0.1984948068857193,
          -8.083934783935547,
          3.75154709815979,
          -1.8747787475585938,
          4.915703773498535,
          3.1894350051879883,
          -6.35842752456665,
          -3.299018144607544,
          -2.363105058670044,
          3.721536159515381,
          -1.8925232887268066,
          6.671170711517334,
          -3.11588716506958,
          -3.3906240463256836,
          -5.961155891418457,
          -7.683696746826172,
          -2.2619359493255615,
          4.1857171058654785,
          4.347947597503662,
          -2.816258430480957,
          -3.3104116916656494,
          -0.6768258213996887,
          0.5784397125244141,
          3.6596527099609375,
          -7.441366672515869,
          -3.3957109451293945,
          4.44407320022583,
          -1.817252516746521,
          1.401222825050354,
          -6.70816707611084,
          4.157262325286865,
          -1.6950784921646118,
          2.4559710025787354,
          -5.21459436416626,
          -2.599958896636963,
          3.289353132247925,
          2.5048842430114746,
          -1.6721408367156982,
          3.093308448791504,
          4.709228038787842,
          4.1971259117126465,
          1.6613370180130005,
          0.27687910199165344,
          -4.366799354553223,
          -5.40731143951416,
          -5.926015377044678,
          -7.751826763153076,
          2.462141990661621,
          -0.6351116299629211,
          0.728960394859314,
          -4.603990077972412,
          0.8978220224380493,
          4.11728572845459,
          2.241450548171997,
          -1.0464165210723877,
          -3.968090295791626,
          2.971064567565918,
          4.416333198547363,
          -6.968813419342041,
          1.312787652015686,
          -0.21991290152072906,
          6.365265846252441,
          -3.2954654693603516,
          2.4874656200408936,
          1.68009352684021,
          -6.906439781188965,
          4.3834733963012695,
          3.4065041542053223,
          -3.529757022857666,
          -4.536243438720703,
          -0.16099688410758972,
          -0.5072378516197205,
          3.0108578205108643,
          3.397947072982788,
          -0.5102351307868958,
          3.3453755378723145,
          3.389296293258667,
          -4.170822620391846,
          1.7151439189910889,
          6.076711177825928,
          3.046771287918091,
          1.921664834022522,
          -1.2584948539733887,
          -0.8889452219009399,
          -3.8219008445739746,
          -0.5383957028388977,
          -5.266705513000488,
          -7.473255634307861,
          -3.4800848960876465,
          -4.440275192260742,
          1.235758900642395,
          -7.443697929382324,
          4.841744422912598,
          1.748249888420105,
          -2.1541192531585693,
          2.0380682945251465,
          4.5715484619140625,
          2.1234469413757324,
          -0.7686790227890015,
          5.20794677734375,
          -7.3306169509887695,
          3.830606698989868,
          1.6362417936325073,
          -0.36403727531433105,
          -1.1498661041259766,
          3.0435643196105957,
          3.814060926437378,
          -0.08766157925128937,
          3.6905598640441895,
          -5.570427417755127,
          5.0267744064331055,
          -1.4535263776779175,
          -5.890744686126709,
          3.298755168914795,
          1.8337610960006714,
          0.6202895641326904,
          0.843295693397522,
          3.357898473739624,
          -6.6133713722229,
          4.05703067779541,
          -1.7388713359832764,
          -5.963886260986328,
          0.21877117455005646,
          -0.8760776519775391,
          -2.7776856422424316,
          -5.631444931030273,
          -6.445006370544434,
          4.081680774688721,
          4.921955108642578,
          -2.5054731369018555,
          4.333274841308594,
          6.068706035614014,
          -1.8217941522598267,
          -7.120308876037598,
          -8.9197998046875,
          1.2382513284683228,
          2.0961592197418213,
          3.588944911956787,
          -5.3913116455078125,
          4.275952339172363,
          -6.521590709686279,
          0.04648219048976898,
          3.604433298110962,
          4.2867960929870605,
          4.294667720794678,
          -4.625187873840332,
          -3.879723072052002,
          -3.958531141281128,
          -0.25267452001571655,
          -1.0719760656356812,
          6.668051242828369,
          4.6992268562316895,
          -0.486062228679657,
          5.832609176635742,
          3.065547227859497,
          -1.0732020139694214,
          -6.310243606567383,
          1.6161423921585083,
          5.117001533508301,
          -4.486042022705078,
          -3.0179603099823,
          5.628829002380371,
          0.7171223759651184,
          -6.354765892028809,
          -6.621770858764648,
          3.3467319011688232,
          -0.22656579315662384,
          -6.434356689453125,
          -2.8503429889678955,
          -5.093557357788086,
          -4.435956001281738,
          -4.392597198486328,
          -0.6828217506408691,
          -0.8577244281768799,
          3.8889846801757812,
          -4.15565299987793,
          -7.083316326141357,
          1.5192209482192993,
          2.148761749267578,
          5.203721046447754,
          -2.6440258026123047,
          3.7483012676239014,
          -6.127444744110107,
          3.436563014984131,
          -5.0897955894470215,
          4.013441562652588,
          4.877011299133301,
          1.442319393157959,
          2.848134994506836,
          1.1740838289260864,
          -3.1225218772888184,
          1.2855198383331299,
          -0.489791601896286,
          -0.499496728181839,
          3.2162435054779053,
          4.133935928344727,
          2.211472511291504,
          -0.21812120079994202,
          -5.180930137634277,
          2.68052339553833,
          6.295663833618164,
          3.0779964923858643,
          -0.4605940878391266,
          1.5319701433181763,
          5.747851848602295,
          5.14260721206665,
          -1.646580457687378,
          -2.6353490352630615,
          -3.3129992485046387,
          -1.539547085762024,
          2.133159637451172,
          -3.037278890609741,
          -2.434706926345825,
          -6.7499847412109375,
          -7.533815383911133,
          3.289125919342041,
          3.123337507247925,
          -4.159585952758789,
          -1.1889972686767578,
          6.581353187561035,
          3.221122980117798,
          2.3816733360290527,
          3.11503267288208,
          0.055427514016628265,
          -3.505253314971924,
          6.166447162628174,
          -6.119979381561279,
          4.149396896362305,
          -6.829585075378418,
          -3.165330410003662,
          -6.448013782501221,
          -2.7675459384918213,
          -2.682335376739502,
          4.493089199066162,
          -3.8896000385284424,
          -0.31702855229377747,
          -3.4472625255584717,
          -3.7519683837890625,
          0.4672892987728119,
          1.3641908168792725,
          -0.7907909154891968,
          3.789137840270996,
          -1.4935023784637451,
          -3.217410087585449,
          5.753426551818848,
          -0.2059570848941803,
          3.3224687576293945,
          3.9660797119140625,
          0.252494752407074,
          2.590517520904541,
          6.224627494812012,
          2.204969644546509,
          2.7144391536712646,
          5.1400580406188965,
          0.874557375907898,
          3.2129290103912354,
          -0.33154091238975525,
          3.6678755283355713,
          2.8276336193084717,
          -6.2942705154418945,
          3.141749382019043,
          -3.255686044692993,
          0.8594772219657898,
          -3.794708490371704,
          0.7183389067649841,
          -1.4726576805114746,
          -3.556119680404663,
          -3.378922462463379,
          5.187434673309326,
          0.16970059275627136,
          5.866008281707764,
          1.9649254083633423,
          1.1296128034591675,
          -6.723677158355713,
          3.2838921546936035,
          3.162666082382202,
          0.5966662764549255,
          -3.6320130825042725,
          0.8634243607521057,
          4.462226390838623,
          4.356692790985107,
          2.866450071334839,
          -1.9747998714447021,
          4.242393970489502,
          1.3442145586013794,
          -1.3135722875595093,
          4.783477783203125,
          3.9850759506225586,
          5.153253555297852,
          -5.922430515289307,
          -0.17764146625995636,
          -6.170557022094727,
          -7.806339740753174,
          -7.135456085205078,
          -2.3903121948242188,
          -1.2413007020950317,
          -0.4373911917209625,
          -5.198044300079346,
          -6.661404609680176,
          -5.735177516937256,
          -6.924147605895996,
          -1.1074188947677612,
          -4.245418548583984,
          0.40465545654296875,
          -3.461310863494873,
          5.265397548675537,
          -4.301483154296875,
          4.3390703201293945,
          -7.26276159286499,
          -0.9481533169746399,
          -1.550085425376892,
          0.9317840337753296,
          2.5474584102630615,
          -3.9784891605377197,
          -2.931424140930176,
          -6.405573844909668,
          -6.293249130249023,
          -2.2920444011688232,
          -0.1814117729663849,
          1.4065600633621216,
          1.0114331245422363,
          2.6378469467163086,
          -0.8469724655151367,
          5.396650314331055,
          -1.4605309963226318,
          -0.3541659116744995,
          -1.4108179807662964,
          5.193846225738525,
          -7.384692668914795,
          4.78164529800415,
          2.1366732120513916,
          0.8781686425209045,
          0.7843357920646667,
          3.160759925842285,
          -6.041830062866211,
          0.5639167428016663,
          -1.8268043994903564,
          -1.0492680072784424,
          1.658498764038086,
          4.568235874176025,
          -2.3875558376312256,
          5.922833442687988,
          5.047388076782227,
          -3.9746763706207275,
          -1.936070203781128,
          1.243190050125122,
          5.263089656829834,
          -5.0375142097473145,
          3.107651472091675,
          -1.853736162185669,
          5.814148902893066,
          -0.7866114974021912,
          -4.1604132652282715,
          3.3875136375427246,
          -6.090683937072754,
          0.8206005096435547,
          2.8142528533935547,
          1.4218817949295044,
          4.7092156410217285,
          2.528485059738159,
          3.9625210762023926,
          -0.007006406784057617,
          2.374389410018921,
          -2.5264456272125244,
          -5.428689002990723,
          4.061818599700928,
          4.892542362213135,
          -1.3146729469299316,
          -9.025181770324707,
          -4.873337268829346,
          -1.7311939001083374,
          -7.7815446853637695,
          -1.245116114616394,
          1.529056191444397,
          -2.55016827583313,
          -2.018305540084839,
          -4.953371047973633,
          1.8802292346954346,
          -2.928891658782959,
          4.985632419586182,
          4.925237655639648,
          -1.6951161623001099,
          -4.205295562744141,
          -3.845257520675659,
          -7.574875354766846,
          3.5189478397369385,
          5.3455705642700195,
          3.8299624919891357,
          -6.7502031326293945,
          -4.273090362548828,
          3.8382272720336914,
          -5.757747173309326,
          -1.4295991659164429,
          -5.237832069396973,
          -2.8013155460357666,
          -6.313922882080078,
          -4.021091461181641,
          0.6857557892799377,
          2.0261480808258057,
          -3.7284655570983887,
          -2.9430642127990723,
          1.6881455183029175,
          1.1550167798995972,
          -2.0035223960876465,
          5.711536884307861,
          -1.45180344581604,
          4.709161758422852,
          -6.577812194824219,
          2.842857837677002,
          -2.0112273693084717,
          2.4074652194976807,
          0.4882200360298157,
          -7.963143825531006,
          3.575010061264038,
          4.647104740142822,
          -2.18562388420105,
          4.3657941818237305,
          -7.616040229797363,
          1.0471913814544678,
          3.0967676639556885,
          -3.128725290298462,
          -2.2324037551879883,
          2.3721542358398438,
          -2.5474300384521484,
          -0.9375430941581726,
          4.095730781555176,
          5.709851264953613,
          2.246975898742676,
          -1.745277762413025,
          -3.01764178276062,
          -5.984134674072266,
          -3.3045809268951416,
          -5.195337772369385,
          -3.7665932178497314,
          -7.734262943267822,
          1.3459736108779907,
          -0.053323980420827866,
          -1.6937280893325806,
          1.6924465894699097,
          6.708878993988037,
          2.3187673091888428,
          -1.365892767906189,
          -5.0489115715026855,
          -0.6191005706787109,
          5.912873268127441,
          -3.643120527267456,
          2.2762255668640137,
          5.695079326629639,
          3.6717662811279297,
          2.6992390155792236,
          -1.658037543296814,
          -4.906814098358154,
          -3.4964232444763184,
          4.406139373779297,
          3.5083980560302734,
          1.455820918083191,
          -2.437917709350586,
          -5.655182838439941,
          1.8233518600463867,
          -2.607121706008911,
          -3.3021254539489746,
          -0.0905391126871109,
          -6.099976062774658,
          3.935589551925659,
          3.2159814834594727,
          0.6478695273399353,
          0.6941386461257935,
          4.878117084503174,
          2.4780356884002686,
          -0.8116984963417053,
          2.606856107711792,
          1.6771469116210938,
          6.182146072387695,
          -2.0708303451538086,
          2.545858860015869,
          -5.571102142333984,
          -5.3618645668029785,
          -4.967752456665039,
          3.6254780292510986,
          -4.238797664642334,
          0.6207641959190369,
          -6.908811092376709,
          0.7370010018348694,
          1.7033013105392456,
          4.833935737609863,
          -7.522674083709717,
          5.490252494812012,
          -8.16188907623291,
          1.5820221900939941,
          -4.416236400604248,
          -6.373000144958496,
          0.4149594008922577,
          1.0840280055999756,
          -1.0990968942642212,
          1.0083810091018677,
          2.796719551086426,
          -5.4020609855651855,
          -3.2550816535949707,
          3.3543150424957275,
          -3.315001964569092,
          6.470024108886719,
          -3.1693921089172363,
          1.4522528648376465,
          3.5457348823547363,
          -1.3805724382400513,
          -2.8937277793884277,
          -4.373501777648926,
          -4.984797954559326,
          3.800706624984741
         ],
         "y": [
          -2.4757823944091797,
          -3.8025481700897217,
          -1.497843861579895,
          1.695256233215332,
          -3.98142147064209,
          -3.077314615249634,
          -3.2329859733581543,
          -3.2022643089294434,
          -4.641375541687012,
          2.7272603511810303,
          3.84428071975708,
          0.6655720472335815,
          -3.442807912826538,
          -3.151071310043335,
          -6.099548816680908,
          5.0767502784729,
          3.1389236450195312,
          -1.893170714378357,
          2.9704604148864746,
          0.27178114652633667,
          -2.8990659713745117,
          -2.2113184928894043,
          -1.0212923288345337,
          -1.080345630645752,
          -2.76564621925354,
          -1.013399600982666,
          -1.513037085533142,
          2.316807985305786,
          -3.1915998458862305,
          -2.996480703353882,
          -0.08759299665689468,
          3.014230251312256,
          1.4023349285125732,
          0.12116289883852005,
          -4.350857734680176,
          -2.7874341011047363,
          1.1024881601333618,
          3.6431949138641357,
          -3.6917364597320557,
          4.476004123687744,
          1.1708688735961914,
          5.273846626281738,
          5.23093318939209,
          4.81037712097168,
          6.009428024291992,
          0.022988853976130486,
          2.707871437072754,
          5.90709114074707,
          5.874209880828857,
          -0.6726913452148438,
          -0.12401122599840164,
          -0.6095132231712341,
          5.958842754364014,
          -5.945958137512207,
          4.323007106781006,
          2.585660457611084,
          1.5276408195495605,
          3.940446376800537,
          0.5110964775085449,
          3.9741363525390625,
          2.2142763137817383,
          -2.7375452518463135,
          6.857283592224121,
          -5.148824214935303,
          3.1166775226593018,
          3.6818864345550537,
          2.866600751876831,
          5.091224670410156,
          -4.527451992034912,
          5.412905216217041,
          -6.347479820251465,
          -7.288674354553223,
          1.2729164361953735,
          1.5115160942077637,
          4.085653305053711,
          -6.202285289764404,
          -2.8280529975891113,
          2.2016987800598145,
          2.401390314102173,
          -5.256956100463867,
          -4.168196201324463,
          2.187643527984619,
          4.329427719116211,
          -3.20395827293396,
          -4.070886611938477,
          -3.5265262126922607,
          7.2814836502075195,
          -0.7021717429161072,
          -5.220118999481201,
          3.3570282459259033,
          4.349384784698486,
          -2.2612197399139404,
          -1.1336442232131958,
          -7.0612874031066895,
          2.188473701477051,
          -4.9310431480407715,
          -2.665055990219116,
          7.445610046386719,
          -0.8235515356063843,
          -2.464995861053467,
          -3.8048980236053467,
          -4.344925880432129,
          -0.6816328763961792,
          0.43005770444869995,
          -0.24196723103523254,
          -3.3623623847961426,
          3.0646331310272217,
          2.6463844776153564,
          4.8695902824401855,
          -2.956650495529175,
          1.580069899559021,
          2.435375213623047,
          3.386366128921509,
          -0.3677467405796051,
          6.450244426727295,
          -0.5021762251853943,
          -1.2068803310394287,
          3.2400240898132324,
          7.177921295166016,
          2.805710792541504,
          2.5288383960723877,
          -3.9458322525024414,
          3.0328238010406494,
          -4.908185005187988,
          -1.087642788887024,
          0.04186484217643738,
          3.407116413116455,
          -5.121360778808594,
          -1.3995692729949951,
          -5.350287437438965,
          1.500453233718872,
          -2.934739589691162,
          4.755557537078857,
          5.238404750823975,
          -5.3501057624816895,
          -1.3068442344665527,
          -1.1426668167114258,
          0.41762328147888184,
          3.1671998500823975,
          3.901601552963257,
          -3.355618715286255,
          2.646517276763916,
          0.31249934434890747,
          4.5174970626831055,
          1.905461072921753,
          -2.5650856494903564,
          -2.5040626525878906,
          3.242579460144043,
          -2.6254072189331055,
          -0.940565824508667,
          -0.6309496760368347,
          3.1417348384857178,
          0.6286741495132446,
          1.3386865854263306,
          -3.363511323928833,
          -1.9122076034545898,
          -6.577063083648682,
          -0.3676086664199829,
          -6.026277542114258,
          2.463088035583496,
          -0.7852784395217896,
          -0.5628920793533325,
          2.307868242263794,
          2.288691759109497,
          5.999624252319336,
          -3.6635921001434326,
          2.45961332321167,
          5.510488033294678,
          -3.729686737060547,
          6.530239105224609,
          4.845033168792725,
          1.800801396369934,
          -0.4879212975502014,
          2.288585662841797,
          -4.278195381164551,
          3.1225028038024902,
          -1.0513944625854492,
          3.3409910202026367,
          -2.344818353652954,
          -6.167280197143555,
          -2.1032016277313232,
          7.169345855712891,
          -1.0536648035049438,
          -0.21888934075832367,
          5.31966495513916,
          0.9799591302871704,
          0.4029799699783325,
          -3.4818544387817383,
          1.0758466720581055,
          1.0545622110366821,
          1.8390649557113647,
          3.3342769145965576,
          4.406590461730957,
          -2.6922121047973633,
          0.5273736119270325,
          6.237549781799316,
          -5.4867706298828125,
          1.0594756603240967,
          -2.6001482009887695,
          1.3330183029174805,
          -6.351605415344238,
          -1.5541423559188843,
          -7.189376354217529,
          0.7364272475242615,
          -7.342759609222412,
          -2.920654058456421,
          -4.483975887298584,
          3.929964065551758,
          2.2829208374023438,
          -5.62716007232666,
          7.250699520111084,
          -4.450780868530273,
          -3.6541736125946045,
          -4.757234573364258,
          -6.145629405975342,
          5.673635959625244,
          -1.7696975469589233,
          -5.523657321929932,
          4.252163887023926,
          3.5621018409729004,
          7.278031826019287,
          1.141148567199707,
          -5.004871845245361,
          -3.802081346511841,
          0.7621262073516846,
          -1.3822301626205444,
          -3.808234930038452,
          -2.4865617752075195,
          -1.1181336641311646,
          -3.747009515762329,
          -3.6019976139068604,
          0.6814727783203125,
          -3.606532096862793,
          -0.6737382411956787,
          1.0440466403961182,
          3.5620617866516113,
          -2.8613240718841553,
          -0.23481082916259766,
          -1.7564977407455444,
          -4.371374130249023,
          -2.9406096935272217,
          -4.473087787628174,
          3.4400222301483154,
          0.6806914806365967,
          -3.8814897537231445,
          0.4161294102668762,
          3.4050045013427734,
          4.551048278808594,
          3.286754608154297,
          1.611655592918396,
          4.965939044952393,
          3.039499044418335,
          2.0612382888793945,
          -7.293328285217285,
          0.45853158831596375,
          -1.8097771406173706,
          -0.999880850315094,
          5.226566791534424,
          -3.635244846343994,
          -1.3145443201065063,
          -1.0848548412322998,
          2.602200508117676,
          5.489800930023193,
          3.8638174533843994,
          5.7545881271362305,
          2.171416997909546,
          -0.04239099100232124,
          -3.6661694049835205,
          0.07105591148138046,
          0.5909460186958313,
          3.9068667888641357,
          -2.6732521057128906,
          -1.7864203453063965,
          -3.6838531494140625,
          -7.2666850090026855,
          1.4675413370132446,
          -1.0304145812988281,
          -1.049759030342102,
          -2.418292760848999,
          -1.5283697843551636,
          3.729196786880493,
          -4.829041957855225,
          -4.733262538909912,
          0.452921986579895,
          1.4150869846343994,
          4.755092620849609,
          -1.4212619066238403,
          4.891070365905762,
          -3.587726354598999,
          5.208792209625244,
          -2.432739734649658,
          3.9943931102752686,
          2.758596181869507,
          -4.939048767089844,
          6.241035461425781,
          5.210087299346924,
          2.242063283920288,
          -4.406782627105713,
          -5.966582298278809,
          1.6395362615585327,
          -5.474435806274414,
          -3.855070114135742,
          -3.286895990371704,
          5.291750907897949,
          3.096312999725342,
          6.305844306945801,
          -2.419485569000244,
          -3.9667088985443115,
          2.965453863143921,
          5.718738555908203,
          2.1781206130981445,
          3.378909111022949,
          0.5837063789367676,
          1.4965288639068604,
          -5.121580123901367,
          -1.2894257307052612,
          5.696275234222412,
          -3.9619572162628174,
          0.06970682740211487,
          3.18070125579834,
          -3.256908655166626,
          -1.2269299030303955,
          0.14358599483966827,
          2.505654811859131,
          4.516671657562256,
          5.95192289352417,
          -1.1114099025726318,
          -5.807493209838867,
          3.5268170833587646,
          -0.10955693572759628,
          -2.9548180103302,
          -4.091157913208008,
          0.8866081237792969,
          6.646853923797607,
          -5.669490337371826,
          0.0685630515217781,
          3.3370521068573,
          -4.4300103187561035,
          -0.43769529461860657,
          0.8297426104545593,
          2.8476786613464355,
          -2.3273568153381348,
          4.012523651123047,
          -3.078599452972412,
          2.7989025115966797,
          5.371506690979004,
          -6.689642429351807,
          -5.119442939758301,
          -0.3633192181587219,
          0.7289683222770691,
          1.338860034942627,
          -7.186859607696533,
          2.3701791763305664,
          4.516271114349365,
          0.022747661918401718,
          -2.2375800609588623,
          -4.325318813323975,
          -1.430898666381836,
          -4.038368225097656,
          -6.0829291343688965,
          -0.00036805274430662394,
          -4.4335856437683105,
          -7.431098937988281,
          0.7902361750602722,
          6.406396389007568,
          4.3545708656311035,
          -1.3392287492752075,
          -2.945981025695801,
          -1.1933035850524902,
          -2.0866851806640625,
          1.424801230430603,
          0.8365434408187866,
          -3.7502293586730957,
          -6.104974746704102,
          -4.537612438201904,
          -4.934726715087891,
          -4.336172103881836,
          -2.530349016189575,
          4.6748785972595215,
          6.907135009765625,
          3.4257144927978516,
          2.4085474014282227,
          -2.636585235595703,
          2.3372802734375,
          1.6549220085144043,
          -4.780581474304199,
          0.543347954750061,
          -2.3733179569244385,
          -1.9989893436431885,
          5.630742073059082,
          3.1523613929748535,
          3.3686046600341797,
          -1.2198065519332886,
          -3.055847644805908,
          4.391536712646484,
          5.901063442230225,
          -2.506528377532959,
          5.118274688720703,
          3.970366954803467,
          -2.9295461177825928,
          -2.1462364196777344,
          -4.022960186004639,
          -6.1974077224731445,
          -0.20723272860050201,
          1.870019793510437,
          5.916311264038086,
          0.320220023393631,
          -3.7681031227111816,
          1.7299432754516602,
          -3.0271060466766357,
          6.553387641906738,
          6.076841354370117,
          2.903270959854126,
          5.00547981262207,
          -0.9404550790786743,
          5.24405574798584,
          -4.347851753234863,
          7.63024377822876,
          2.8951711654663086,
          3.153468132019043,
          7.802096843719482,
          -0.12127562612295151,
          5.023173809051514,
          5.9217376708984375,
          2.380985736846924,
          -3.32371187210083,
          3.4270684719085693,
          -0.12267454713582993,
          -0.9730472564697266,
          -1.273879885673523,
          -2.4335262775421143,
          -4.829715728759766,
          0.054395031183958054,
          -1.1161373853683472,
          -4.343052864074707,
          -5.17064094543457,
          -7.6057820320129395,
          -3.565540313720703,
          -2.3180365562438965,
          3.9331629276275635,
          -3.0478105545043945,
          -4.811045169830322,
          -4.3869500160217285,
          1.447356939315796,
          1.1059281826019287,
          5.221167087554932,
          1.363098382949829,
          -3.4969775676727295,
          4.174444198608398,
          -2.4531946182250977,
          -1.3322434425354004,
          -4.085052490234375,
          -3.8643341064453125,
          4.432806491851807,
          -6.214680194854736,
          6.095785617828369,
          1.4093303680419922,
          6.484792232513428,
          0.2715633809566498,
          -1.3051338195800781,
          -5.305282115936279,
          -3.3971328735351562,
          3.597353219985962,
          2.4217660427093506,
          -0.3886156678199768,
          5.12826681137085,
          -6.09854793548584,
          -7.089064598083496,
          -3.3027167320251465,
          -7.949110507965088,
          1.49451744556427,
          -2.6290225982666016,
          -5.007380962371826,
          -5.458384037017822,
          7.3523478507995605,
          -7.4637298583984375,
          3.5085887908935547,
          -4.567572116851807,
          -3.457227945327759,
          3.7633416652679443,
          2.2040083408355713,
          3.33595871925354,
          -2.406954288482666,
          -6.152007579803467,
          -4.384645462036133,
          5.943098545074463,
          3.4282751083374023,
          -4.400032043457031,
          6.790732383728027,
          -5.745442867279053,
          -0.28394171595573425,
          0.5051013231277466,
          -3.5908100605010986,
          5.8155198097229,
          4.416757583618164,
          0.7527695298194885,
          5.321807384490967,
          4.7620697021484375,
          4.9731340408325195,
          1.6090600490570068,
          -3.2523138523101807,
          -1.193304181098938,
          3.3835630416870117,
          -6.087583065032959,
          -4.3183488845825195,
          0.8655431270599365,
          -4.218453884124756,
          2.4821982383728027,
          -4.464141845703125,
          4.186180591583252,
          2.946824789047241,
          2.0266852378845215,
          -1.8784401416778564,
          1.167258620262146,
          1.753957986831665,
          -4.236423969268799,
          -4.313773155212402,
          -1.575906753540039,
          1.257154107093811,
          -0.11657781153917313,
          0.07840734720230103,
          -6.042205810546875,
          6.049514293670654,
          -0.6396482586860657,
          -6.138499736785889,
          -1.2238528728485107,
          -2.7750651836395264,
          5.282966136932373,
          -6.137310028076172,
          -0.21523071825504303,
          -4.176747798919678,
          -4.440945148468018,
          -0.7793658971786499,
          2.5864522457122803,
          -7.487321376800537,
          1.951795220375061,
          -3.794799566268921,
          0.43013328313827515,
          -3.2827601432800293,
          -0.2582989037036896,
          -4.250805377960205,
          -4.834073066711426,
          -5.636395454406738,
          -6.4109578132629395,
          -4.871121406555176,
          2.850720167160034,
          -5.5195159912109375,
          -6.038421154022217,
          -2.1889021396636963,
          -4.2883124351501465,
          2.358785390853882,
          5.142198085784912,
          -2.4800539016723633,
          -0.7535214424133301,
          4.026777267456055,
          3.1150171756744385,
          3.912416458129883,
          3.1034300327301025,
          -5.299289703369141,
          6.954855442047119,
          3.7630600929260254,
          -3.054600715637207,
          -5.159935474395752,
          3.6691200733184814,
          1.5279337167739868,
          3.0109639167785645,
          1.5284144878387451,
          4.215205669403076,
          5.466782093048096,
          -2.4434547424316406,
          -2.2836313247680664,
          -3.2775189876556396,
          -0.587888240814209,
          -0.9983440041542053,
          3.1641368865966797,
          -4.977038383483887,
          4.071871757507324,
          2.8178369998931885,
          7.312394618988037,
          0.3542272448539734,
          -5.584371089935303,
          -5.4974517822265625,
          -3.8015215396881104,
          3.4754860401153564,
          4.648932456970215,
          6.77973747253418,
          -1.913953185081482,
          4.372217655181885,
          -0.04568677023053169,
          -1.5986311435699463,
          -2.600184917449951,
          -4.140049934387207,
          -0.3058025538921356,
          0.5212391018867493,
          -1.400646686553955,
          -5.12832498550415,
          1.1688666343688965,
          1.6844017505645752,
          -0.7343105673789978,
          5.96396017074585,
          4.421433448791504,
          -1.657050371170044,
          -2.083251476287842,
          -4.5840744972229,
          3.8385868072509766,
          1.3409769535064697,
          -4.114293575286865,
          4.487504959106445,
          -3.9152748584747314,
          7.164819240570068,
          4.8322906494140625,
          2.898435115814209,
          -2.6136648654937744,
          -2.257685422897339,
          3.0111618041992188,
          -4.18269157409668,
          -4.265753269195557,
          6.905879020690918,
          -4.793982028961182,
          -2.7456812858581543,
          1.9929710626602173,
          -5.110818386077881,
          1.736735224723816,
          -2.7136995792388916,
          6.596255779266357,
          -1.8474138975143433,
          1.5289489030838013,
          6.81988525390625,
          -2.494727849960327,
          4.39802360534668,
          1.8750813007354736,
          -1.101750373840332,
          -4.4020562171936035,
          4.7134246826171875,
          -2.3555822372436523,
          1.9619801044464111,
          -4.386224746704102,
          -2.8463265895843506,
          -7.973637580871582,
          5.530869483947754,
          0.3860779404640198,
          -0.22698469460010529,
          3.146959066390991,
          -2.245269298553467,
          3.022183418273926,
          2.2425661087036133,
          -2.182852268218994,
          -4.591060161590576,
          1.834358811378479,
          -0.6414802670478821,
          -0.6989762187004089,
          3.7140533924102783,
          -1.905248761177063,
          6.783768653869629,
          2.8576877117156982,
          0.7144224047660828,
          2.3668432235717773,
          -1.7279495000839233,
          6.372434139251709,
          -3.5059642791748047,
          5.621401309967041,
          -2.0676846504211426,
          -0.8009063005447388,
          -4.260068893432617,
          -6.296529769897461,
          -4.7332940101623535,
          -4.3369011878967285,
          1.8854093551635742,
          0.021272258833050728,
          4.888370513916016,
          -1.576879620552063,
          -2.218768835067749,
          5.586832523345947,
          2.1288156509399414,
          3.3761942386627197,
          -1.3004428148269653,
          3.1342034339904785,
          4.7807183265686035,
          1.6764763593673706,
          -3.8576228618621826,
          2.434645175933838,
          2.550847291946411,
          4.884136199951172,
          6.53096342086792,
          3.464597225189209,
          5.1045145988464355,
          0.07907629758119583,
          5.221121311187744,
          2.418802499771118,
          4.972187519073486,
          -1.9699136018753052,
          -0.9235826134681702,
          6.468056678771973,
          4.493871212005615,
          -4.7584733963012695,
          -3.3224945068359375,
          -2.448180675506592,
          -1.8120206594467163,
          0.5248960852622986,
          -3.602108955383301,
          -1.7296143770217896,
          5.9186320304870605,
          -3.0225319862365723,
          -1.4484459161758423,
          6.236252784729004,
          3.5713460445404053,
          2.9309775829315186,
          0.6881884932518005,
          -1.587918996810913,
          6.324918270111084,
          3.8850934505462646,
          -1.5493779182434082,
          2.7526180744171143,
          -2.2429044246673584,
          2.291471242904663,
          1.190772533416748,
          2.68764066696167,
          -0.3822852075099945,
          -4.0107741355896,
          5.026734828948975,
          -6.083906173706055,
          -2.6660659313201904,
          -3.1666479110717773,
          -4.612975597381592,
          -5.5418171882629395,
          -4.386533260345459,
          -0.8976468443870544,
          1.8061269521713257,
          -6.05065393447876,
          2.96416974067688,
          -6.0820441246032715,
          4.042619228363037,
          -2.914677619934082,
          -4.852295875549316,
          -2.233691692352295,
          -3.488172769546509,
          -5.824813365936279,
          3.854931592941284,
          3.0022549629211426,
          -4.9178338050842285,
          2.27333664894104,
          -2.6115493774414062,
          -3.5752644538879395,
          -2.6206722259521484,
          2.687379837036133,
          -4.4590983390808105,
          -2.141115427017212,
          3.2033474445343018,
          -1.0818108320236206,
          6.231820106506348,
          2.5082080364227295,
          0.17477354407310486,
          -5.56878137588501,
          2.2824554443359375,
          3.2191383838653564,
          5.043119430541992,
          6.345442295074463,
          -2.9241044521331787,
          -8.21382999420166,
          -3.562351703643799,
          -2.877138376235962,
          -2.942561388015747,
          -1.5376787185668945,
          -2.6824190616607666,
          -1.4116524457931519,
          1.1731740236282349,
          4.05824613571167,
          5.959394454956055,
          1.476654052734375,
          -6.413045883178711,
          -2.3589627742767334,
          -3.9868054389953613,
          7.868194103240967,
          3.7966830730438232,
          -0.04410472512245178,
          -3.4422409534454346,
          -6.615688800811768,
          4.521006107330322,
          1.1674292087554932,
          -4.282313823699951,
          -0.8820362687110901,
          -3.3596818447113037,
          4.936710834503174,
          -4.046250820159912,
          1.9179902076721191,
          -0.3526494801044464,
          -1.0046669244766235,
          2.6261909008026123,
          4.443239212036133,
          -4.198089122772217,
          2.635352849960327,
          -1.2626235485076904,
          7.014203071594238,
          6.008879661560059,
          5.250690937042236,
          3.508603811264038,
          -0.6114233732223511,
          3.25081205368042,
          -1.7598342895507812,
          4.531954765319824,
          0.3738364577293396,
          0.033917512744665146,
          1.0218596458435059,
          -4.161683559417725,
          -3.2055718898773193,
          -3.0704925060272217,
          -5.590449333190918,
          7.510861396789551,
          -1.3565038442611694,
          3.3526358604431152,
          -0.8590660095214844,
          2.765486240386963,
          7.456982135772705,
          -5.118369102478027,
          -1.0057542324066162,
          1.8615158796310425,
          2.7426235675811768,
          -3.124091863632202,
          -3.301839828491211,
          -2.644934892654419,
          2.6366679668426514,
          3.343430280685425,
          0.24785958230495453,
          -4.064626216888428,
          0.7418006062507629,
          -4.051006317138672,
          -2.714655637741089,
          4.097935676574707,
          -5.218045234680176,
          -4.692281723022461,
          -1.9839463233947754,
          -2.0892014503479004,
          2.2745065689086914,
          -4.987178325653076,
          -2.318105459213257,
          2.983931303024292,
          6.298542499542236,
          -4.121761798858643,
          -3.8840839862823486,
          -1.1759557723999023,
          2.4717986583709717,
          1.54961359500885,
          -5.532181739807129,
          3.508617639541626,
          -5.853835105895996,
          3.3317830562591553,
          6.60019063949585,
          -0.14044156670570374,
          -2.1876602172851562,
          0.69207763671875,
          3.089556932449341,
          3.5356855392456055,
          2.041919469833374,
          -0.11649593710899353,
          2.250566005706787,
          -1.3523343801498413,
          -3.898453950881958,
          6.289181709289551,
          -4.356597900390625,
          3.0003714561462402,
          7.22501277923584,
          -5.029801845550537,
          -6.9359283447265625,
          -1.1588445901870728,
          5.427108287811279,
          -4.289530277252197,
          3.2905099391937256,
          -5.001368522644043,
          -0.5650745034217834,
          1.1235947608947754,
          1.3054742813110352,
          -0.03761274740099907,
          -0.47260433435440063,
          2.2780537605285645,
          6.804037094116211,
          4.339683532714844,
          3.2074735164642334,
          5.3243937492370605,
          -3.4606099128723145,
          -4.058137893676758,
          2.0463616847991943,
          2.3267321586608887,
          1.3924381732940674,
          -0.6161628365516663,
          1.80122709274292,
          -0.17317962646484375,
          3.40976619720459,
          1.4915046691894531,
          -0.03578105568885803,
          1.233122706413269,
          1.5526305437088013,
          2.7270753383636475,
          5.113804817199707,
          -0.7906351089477539,
          -5.231059551239014,
          -4.311683654785156,
          0.7653284668922424,
          6.612210273742676,
          7.354579448699951,
          -3.9765992164611816,
          -0.9771478176116943,
          -2.2504734992980957,
          -0.9687350988388062,
          -0.6862722635269165,
          -4.289620876312256,
          -0.04053540900349617,
          -2.8241817951202393,
          -3.949441432952881,
          5.685702323913574,
          -0.39762020111083984,
          -3.9719231128692627,
          5.149878978729248,
          3.457439661026001,
          -5.08313512802124,
          1.7197407484054565,
          -3.794025421142578,
          -4.625814914703369,
          -3.270411252975464,
          -3.0012521743774414,
          -3.031585931777954,
          -5.84073543548584,
          -3.6484196186065674,
          2.4289228916168213,
          -1.7312170267105103,
          0.163497656583786,
          5.679622650146484,
          -3.611865997314453,
          -3.8558106422424316,
          -1.5301685333251953,
          -5.659069061279297,
          3.4848549365997314,
          6.904670238494873,
          -0.5147241950035095,
          -5.314271450042725,
          5.1276535987854,
          6.508215427398682,
          -2.9157469272613525,
          3.2185964584350586,
          -2.6196670532226562,
          -2.629096031188965,
          4.7410359382629395,
          -1.8701136112213135,
          5.845263481140137,
          -2.804811716079712,
          0.7914817333221436,
          3.6641461849212646
         ],
         "z": [
          1.2252215147018433,
          2.7986409664154053,
          2.34145450592041,
          -0.43917137384414673,
          3.5633785724639893,
          7.271881580352783,
          -4.7288689613342285,
          1.2513716220855713,
          6.296678066253662,
          -3.480006694793701,
          5.925772190093994,
          -2.046632766723633,
          -4.986388206481934,
          1.222779393196106,
          5.410716533660889,
          -1.3999494314193726,
          -0.7233595252037048,
          0.6194478273391724,
          7.919259548187256,
          -6.896556854248047,
          4.31807279586792,
          -4.428910255432129,
          3.7002108097076416,
          2.7861218452453613,
          0.6066229343414307,
          4.979068279266357,
          1.0107917785644531,
          4.2390265464782715,
          4.0722246170043945,
          6.171357154846191,
          -2.2549896240234375,
          -2.411850690841675,
          -5.682984828948975,
          -5.492665767669678,
          -0.11698601394891739,
          7.114047050476074,
          -1.9052397012710571,
          8.801671981811523,
          -5.615842342376709,
          3.198246479034424,
          2.7122955322265625,
          -0.15858222544193268,
          -2.554762125015259,
          -0.2032364010810852,
          -2.2711150646209717,
          3.601396322250366,
          1.1770707368850708,
          -2.615318775177002,
          -0.13928183913230896,
          7.857985019683838,
          -1.6261022090911865,
          -5.017973899841309,
          -2.944549798965454,
          5.990501403808594,
          7.645364284515381,
          1.0125728845596313,
          -0.34345102310180664,
          10.362472534179688,
          -3.874237537384033,
          0.1813402771949768,
          1.9887707233428955,
          0.5468385219573975,
          -1.3202565908432007,
          4.375779151916504,
          -1.0412310361862183,
          -3.894524097442627,
          0.7443012595176697,
          0.524012565612793,
          5.21315336227417,
          -2.5318050384521484,
          -0.06425006687641144,
          -3.285170555114746,
          -4.533188819885254,
          0.4260384738445282,
          9.419464111328125,
          -3.749969482421875,
          2.0878825187683105,
          -4.209202289581299,
          2.102494716644287,
          6.00001335144043,
          -2.1054532527923584,
          -3.1574532985687256,
          -2.5576043128967285,
          -5.206263065338135,
          2.0875327587127686,
          6.934066295623779,
          -1.3523675203323364,
          -5.185080051422119,
          -4.567149639129639,
          8.520524024963379,
          4.201550006866455,
          7.3473615646362305,
          6.675535202026367,
          -2.5873730182647705,
          0.6529339551925659,
          -3.805081605911255,
          5.303829669952393,
          -1.6678324937820435,
          3.7926158905029297,
          -5.077188968658447,
          -5.607911109924316,
          -4.152695655822754,
          2.7925751209259033,
          -1.060300588607788,
          2.926931619644165,
          4.266756057739258,
          9.95727252960205,
          -3.6380133628845215,
          3.094604730606079,
          -1.2654286623001099,
          -1.8907103538513184,
          -2.11708402633667,
          -1.976537823677063,
          7.216254711151123,
          0.46679258346557617,
          -1.2927086353302002,
          3.5641896724700928,
          -4.427743911743164,
          -1.9958460330963135,
          0.5366159677505493,
          0.3349619507789612,
          2.859225273132324,
          -4.294171333312988,
          6.1599531173706055,
          6.709881782531738,
          2.9435312747955322,
          3.3747098445892334,
          -4.326345443725586,
          1.363897442817688,
          4.340602874755859,
          -7.973641395568848,
          -1.7807071208953857,
          -3.9146981239318848,
          -2.3645269870758057,
          -4.522899627685547,
          -6.905355930328369,
          -2.461108446121216,
          4.2135009765625,
          -4.922265529632568,
          -1.4267604351043701,
          4.752890586853027,
          4.631718158721924,
          0.896701455116272,
          8.437283515930176,
          2.4753007888793945,
          7.146037578582764,
          -5.341455936431885,
          -1.8065518140792847,
          5.200869083404541,
          3.0393946170806885,
          -2.1824190616607666,
          6.316959857940674,
          -1.3726500272750854,
          -1.5952774286270142,
          -1.7442163228988647,
          -3.918609857559204,
          -2.503478527069092,
          8.019039154052734,
          5.899358749389648,
          -4.39200496673584,
          -6.196945667266846,
          6.966280460357666,
          -2.563297986984253,
          -6.270816802978516,
          -0.03616153448820114,
          -1.3378233909606934,
          -5.779051780700684,
          3.0938854217529297,
          -1.2233637571334839,
          -1.5384601354599,
          -1.087142825126648,
          -0.9354615807533264,
          -4.758567810058594,
          1.7174456119537354,
          3.238642454147339,
          -3.389587163925171,
          -4.014213562011719,
          9.307905197143555,
          1.6075482368469238,
          -3.4582340717315674,
          -6.574489593505859,
          -1.372033953666687,
          -2.6857638359069824,
          -1.2801569700241089,
          1.1553956270217896,
          -7.124048233032227,
          2.370227813720703,
          6.0114336013793945,
          -6.387098789215088,
          -2.088029623031616,
          -4.166416645050049,
          7.220665454864502,
          7.450959205627441,
          4.422014236450195,
          -1.7541351318359375,
          -1.4871102571487427,
          -1.8434627056121826,
          -1.9631609916687012,
          5.08797025680542,
          -1.3370031118392944,
          5.617397785186768,
          -6.9991068840026855,
          -3.4308226108551025,
          3.326795816421509,
          -3.899702548980713,
          -0.7977322936058044,
          3.7392616271972656,
          6.739879131317139,
          -6.816462993621826,
          -2.7898385524749756,
          -1.7641642093658447,
          5.555248737335205,
          3.76287841796875,
          5.486515045166016,
          0.31573739647865295,
          -1.0187851190567017,
          3.5365240573883057,
          5.257256507873535,
          6.23443603515625,
          9.502166748046875,
          -0.5482065081596375,
          -4.784696102142334,
          4.614740371704102,
          2.321453809738159,
          -0.08976748585700989,
          1.9279712438583374,
          -2.6277594566345215,
          -2.2043633460998535,
          0.813598096370697,
          -0.7933864593505859,
          3.81954026222229,
          -0.1247929185628891,
          -0.949211835861206,
          -5.321990489959717,
          -5.812867641448975,
          -1.5518237352371216,
          -3.9470579624176025,
          -6.21942138671875,
          4.424056529998779,
          1.8524713516235352,
          -4.069430351257324,
          -3.374311923980713,
          4.863243579864502,
          2.063244581222534,
          6.65681266784668,
          -1.116830587387085,
          -2.679267406463623,
          -4.294132232666016,
          2.639488935470581,
          -5.41088342666626,
          2.801335334777832,
          -1.1699079275131226,
          -6.195881366729736,
          -2.475604295730591,
          3.0663421154022217,
          -1.237596869468689,
          0.5634145736694336,
          2.4702422618865967,
          -2.530094623565674,
          3.3896090984344482,
          -1.8996508121490479,
          0.8067203760147095,
          -1.6263200044631958,
          10.304827690124512,
          -0.2781248688697815,
          -2.4530434608459473,
          3.1365387439727783,
          5.120211601257324,
          -10.448673248291016,
          -1.6331101655960083,
          -4.121732711791992,
          -6.39484167098999,
          2.2337703704833984,
          5.9247026443481445,
          -3.7756669521331787,
          -5.540247917175293,
          -4.874724388122559,
          1.9892637729644775,
          1.9516453742980957,
          -1.6626911163330078,
          1.8642209768295288,
          -3.9302210807800293,
          -4.106774806976318,
          -5.182223796844482,
          1.907831072807312,
          1.4613556861877441,
          -3.3542449474334717,
          6.576885223388672,
          3.409648895263672,
          -2.0503664016723633,
          -2.1829593181610107,
          -0.9376123547554016,
          8.774979591369629,
          4.345564365386963,
          0.11094887554645538,
          -0.40387803316116333,
          -5.178518295288086,
          -0.9381076097488403,
          -0.5496190786361694,
          3.225677728652954,
          -0.6814599633216858,
          -5.274366855621338,
          -4.908266067504883,
          -3.4589152336120605,
          10.015087127685547,
          -2.692220449447632,
          -6.2137451171875,
          -3.3972108364105225,
          -3.7268660068511963,
          -0.35052362084388733,
          0.4309772253036499,
          -1.5680381059646606,
          -6.485653877258301,
          0.7089374661445618,
          -3.555307388305664,
          -4.882396697998047,
          -3.396684408187866,
          3.504067897796631,
          -5.595614433288574,
          -5.7699408531188965,
          -5.442197322845459,
          -4.442996978759766,
          -5.711631774902344,
          -3.1690380573272705,
          8.437312126159668,
          1.8663489818572998,
          -1.6430598497390747,
          4.604010581970215,
          -1.2158719301223755,
          3.2046473026275635,
          -4.035120487213135,
          6.001958847045898,
          -1.4261220693588257,
          0.20202603936195374,
          -3.8798041343688965,
          -10.45405101776123,
          3.751368522644043,
          -3.0390446186065674,
          -1.0991406440734863,
          4.922643661499023,
          5.758403301239014,
          -4.46259880065918,
          8.30739688873291,
          5.597541809082031,
          3.465662717819214,
          2.643528699874878,
          -2.2347679138183594,
          -2.0753767490386963,
          -7.444504737854004,
          -0.888688862323761,
          3.5960488319396973,
          -3.8422601222991943,
          -5.883828639984131,
          8.437209129333496,
          -1.1155624389648438,
          -5.376832485198975,
          1.853186011314392,
          -1.2492656707763672,
          5.566661357879639,
          5.191214561462402,
          -5.679948806762695,
          -5.442348480224609,
          -3.1952483654022217,
          -4.945512294769287,
          -1.1338276863098145,
          2.277935028076172,
          -5.149464130401611,
          -4.231085300445557,
          3.9193837642669678,
          7.296902179718018,
          2.0658364295959473,
          -6.350330352783203,
          2.8162331581115723,
          5.457718372344971,
          6.244178771972656,
          -1.6379172801971436,
          1.88056480884552,
          -6.05144739151001,
          7.102134704589844,
          -1.0500125885009766,
          -3.829535722732544,
          2.0241899490356445,
          -5.4629225730896,
          1.6809636354446411,
          -5.555908203125,
          5.0248847007751465,
          -0.5162719488143921,
          7.327057361602783,
          -1.387025237083435,
          0.9835763573646545,
          -4.360856056213379,
          9.49216365814209,
          2.69417142868042,
          -1.4779545068740845,
          -1.220379114151001,
          0.9424159526824951,
          4.1790571212768555,
          3.006338119506836,
          6.193315505981445,
          -4.464589595794678,
          7.2551350593566895,
          4.977447509765625,
          -3.7655110359191895,
          3.060497283935547,
          -5.055503845214844,
          -0.6372916102409363,
          -2.44321870803833,
          4.49159049987793,
          -0.34491488337516785,
          -5.518624305725098,
          0.1810029000043869,
          -1.333870530128479,
          -4.596915245056152,
          -1.8709478378295898,
          4.764585494995117,
          1.9380759000778198,
          1.1555864810943604,
          -1.6146260499954224,
          9.771917343139648,
          3.7709357738494873,
          2.2259140014648438,
          3.5652525424957275,
          3.373201608657837,
          -0.6643617749214172,
          2.0486485958099365,
          7.550403118133545,
          2.541440486907959,
          -0.6983984112739563,
          -7.358226299285889,
          -2.7473950386047363,
          -4.28516960144043,
          -4.743024826049805,
          -10.524970054626465,
          1.3205580711364746,
          0.5140527486801147,
          -4.5937299728393555,
          -2.066953182220459,
          7.7819061279296875,
          -6.480513572692871,
          9.904176712036133,
          3.092837333679199,
          -1.5539406538009644,
          -3.213507652282715,
          -4.892202377319336,
          -8.134021759033203,
          -2.364440679550171,
          7.833708763122559,
          -2.3216190338134766,
          -0.6884152293205261,
          -6.304790496826172,
          -5.439883708953857,
          -0.5343015789985657,
          -5.273438930511475,
          1.0689254999160767,
          -3.5600426197052,
          0.8037489056587219,
          -2.5754873752593994,
          0.6313486695289612,
          -2.0170834064483643,
          0.5792285203933716,
          -1.4390990734100342,
          -5.928519248962402,
          -2.691602945327759,
          8.736656188964844,
          -3.7799923419952393,
          0.4919094145298004,
          5.863184452056885,
          -3.0134012699127197,
          3.0156567096710205,
          -2.2298576831817627,
          -6.572436809539795,
          -6.044148921966553,
          -3.3083584308624268,
          -3.7961196899414062,
          -1.9842661619186401,
          -1.282414436340332,
          8.022146224975586,
          5.761531829833984,
          3.4970881938934326,
          0.28447699546813965,
          1.6743768453598022,
          -5.205641746520996,
          -6.442988872528076,
          4.59174919128418,
          5.38437032699585,
          0.03249432519078255,
          -1.3852834701538086,
          3.8410720825195312,
          -1.2144436836242676,
          -1.715281367301941,
          7.907315731048584,
          -1.9009544849395752,
          1.4496690034866333,
          -1.8190975189208984,
          2.717444896697998,
          -3.7433760166168213,
          0.37758928537368774,
          3.410776138305664,
          -1.2165354490280151,
          -3.4575302600860596,
          -2.089479923248291,
          -3.02754282951355,
          -5.941869735717773,
          -1.3345160484313965,
          -3.333991527557373,
          -3.3500285148620605,
          3.1458005905151367,
          -2.746289014816284,
          -5.067974090576172,
          2.9695379734039307,
          2.2058041095733643,
          -5.5011796951293945,
          3.0779998302459717,
          2.0196056365966797,
          -6.012485027313232,
          -0.8677052855491638,
          -0.48298266530036926,
          2.8737361431121826,
          -1.3095533847808838,
          -2.8613884449005127,
          -3.2111599445343018,
          5.819049835205078,
          2.507157564163208,
          -7.448653221130371,
          5.157477855682373,
          -5.816605567932129,
          -5.191137313842773,
          1.2968037128448486,
          5.1991286277771,
          -0.848591148853302,
          -4.363473415374756,
          -2.770045280456543,
          7.473120212554932,
          4.2024688720703125,
          -3.6114766597747803,
          -2.396024227142334,
          4.764191150665283,
          -5.7311320304870605,
          2.9599764347076416,
          -2.671903133392334,
          -5.070793151855469,
          -3.36181378364563,
          -3.390371322631836,
          -1.8541513681411743,
          5.607968330383301,
          5.377020359039307,
          5.65848970413208,
          -2.583719491958618,
          3.6275343894958496,
          -5.928959846496582,
          0.944298505783081,
          -0.8480212092399597,
          7.30927848815918,
          -5.142213821411133,
          7.063877582550049,
          -5.202744483947754,
          2.7101705074310303,
          0.49338117241859436,
          4.755324840545654,
          -1.7030514478683472,
          4.550416469573975,
          -5.760769844055176,
          5.652864456176758,
          -5.201534271240234,
          0.5515319108963013,
          7.494008541107178,
          -1.6612721681594849,
          8.434138298034668,
          -0.9658815860748291,
          -4.731210708618164,
          -5.959035873413086,
          -4.845097541809082,
          7.0854573249816895,
          3.830785036087036,
          5.848227500915527,
          4.794272422790527,
          9.06241226196289,
          -3.4677934646606445,
          -2.916992664337158,
          7.393700122833252,
          0.2695345878601074,
          -0.07973209768533707,
          1.7918789386749268,
          -0.017491990700364113,
          -1.3294479846954346,
          -2.229182720184326,
          -4.137839317321777,
          -0.46066421270370483,
          -0.8442294597625732,
          -4.246697902679443,
          1.3893321752548218,
          -3.0899739265441895,
          -2.8089070320129395,
          -4.296597957611084,
          -2.71771240234375,
          4.8549933433532715,
          -6.033667087554932,
          -5.390039443969727,
          2.3953959941864014,
          -3.060763359069824,
          -4.0132904052734375,
          -4.500059604644775,
          4.360246658325195,
          4.58028507232666,
          -5.562106132507324,
          -7.500172138214111,
          1.8822977542877197,
          -1.6473946571350098,
          1.7903852462768555,
          -0.0897960439324379,
          -0.44685953855514526,
          5.970127105712891,
          2.8141307830810547,
          -6.301965236663818,
          0.5039685368537903,
          -4.3272504806518555,
          0.5598272681236267,
          0.017941316589713097,
          5.643722057342529,
          -5.6087422370910645,
          2.51073956489563,
          -5.081010341644287,
          -0.7750409245491028,
          -1.7201136350631714,
          3.054666519165039,
          4.551054954528809,
          0.5231083631515503,
          -0.5841109156608582,
          -1.866505742073059,
          0.46168646216392517,
          -4.894824981689453,
          2.234732151031494,
          5.675592422485352,
          1.3656364679336548,
          5.522894859313965,
          -5.63845682144165,
          -4.302687168121338,
          0.8461406826972961,
          -1.6085312366485596,
          1.3687649965286255,
          -1.8068828582763672,
          2.8596749305725098,
          4.602705478668213,
          4.337507724761963,
          -6.64793062210083,
          -5.879432678222656,
          3.783494710922241,
          3.7965805530548096,
          -1.325940489768982,
          -5.123963356018066,
          -4.409131050109863,
          -4.431451797485352,
          -2.48545241355896,
          -1.4010894298553467,
          0.5613195300102234,
          -2.3079707622528076,
          2.951078176498413,
          2.3994758129119873,
          -1.3152656555175781,
          5.749382019042969,
          2.687227725982666,
          -6.4423017501831055,
          2.7941231727600098,
          -0.2133338451385498,
          0.7150564789772034,
          -5.4168243408203125,
          6.185054779052734,
          -3.1639857292175293,
          3.081851005554199,
          -1.5450712442398071,
          -1.491398811340332,
          -6.555851936340332,
          -0.7147395610809326,
          0.8189487457275391,
          0.17438577115535736,
          -5.5913472175598145,
          -1.013102412223816,
          1.4459261894226074,
          7.364469051361084,
          3.8513400554656982,
          0.7422510385513306,
          1.4255462884902954,
          1.5514086484909058,
          0.897077739238739,
          8.986930847167969,
          2.841622829437256,
          2.981722116470337,
          -1.1687005758285522,
          1.4693907499313354,
          1.9639402627944946,
          -0.8480194807052612,
          -5.343118667602539,
          1.0675009489059448,
          3.671159505844116,
          -2.2609877586364746,
          6.09511137008667,
          -5.0603346824646,
          5.575163841247559,
          -6.965911388397217,
          -4.853198051452637,
          2.0449860095977783,
          -3.0936267375946045,
          4.371951103210449,
          -1.2822544574737549,
          -1.5170304775238037,
          5.835830211639404,
          -3.5876286029815674,
          5.493686199188232,
          -3.215142250061035,
          2.9059386253356934,
          -4.947304725646973,
          -2.7154581546783447,
          3.1356313228607178,
          5.488832950592041,
          0.5412536859512329,
          1.2281173467636108,
          8.661996841430664,
          1.0886883735656738,
          -4.096888542175293,
          -3.5011191368103027,
          0.3272629380226135,
          -1.6558613777160645,
          7.199828624725342,
          -1.3850826025009155,
          -2.0104312896728516,
          0.8442471623420715,
          -6.425726413726807,
          -5.35121488571167,
          5.41038179397583,
          -4.876753330230713,
          5.492696285247803,
          -4.004683971405029,
          2.506883382797241,
          5.25800085067749,
          -6.291487216949463,
          -6.203402042388916,
          5.982790946960449,
          -6.065645694732666,
          -1.8971105813980103,
          6.180042266845703,
          -1.3545504808425903,
          -5.936965465545654,
          0.4861558973789215,
          2.003384590148926,
          8.11864185333252,
          -5.526939868927002,
          4.294875621795654,
          -0.7207180261611938,
          6.169053077697754,
          1.4723126888275146,
          -4.095833778381348,
          3.2090702056884766,
          5.156746864318848,
          -3.4687023162841797,
          0.6200642585754395,
          3.353813886642456,
          3.040853977203369,
          6.523059368133545,
          -2.061436891555786,
          7.4470438957214355,
          2.1102850437164307,
          -4.4936628341674805,
          -4.884847640991211,
          4.609071254730225,
          1.03211510181427,
          -6.262956619262695,
          7.751426696777344,
          3.4632890224456787,
          -5.41917085647583,
          -4.109792232513428,
          4.571972846984863,
          -3.6263375282287598,
          2.1753666400909424,
          0.4685932397842407,
          -2.7297496795654297,
          3.442471742630005,
          -2.060325860977173,
          1.3332020044326782,
          5.290980815887451,
          -0.685874879360199,
          -1.1238188743591309,
          -4.6898956298828125,
          1.0979171991348267,
          0.8459092378616333,
          -4.968747615814209,
          6.928309440612793,
          1.1917777061462402,
          1.5446250438690186,
          0.7525636553764343,
          3.7613799571990967,
          2.9054481983184814,
          -6.455833911895752,
          2.8807942867279053,
          -1.6432567834854126,
          1.9447966814041138,
          8.02217960357666,
          3.9510586261749268,
          9.2217378616333,
          7.265334129333496,
          3.04706072807312,
          1.9347994327545166,
          -3.8817272186279297,
          0.28255191445350647,
          5.651851654052734,
          3.937387228012085,
          -5.095502853393555,
          5.87984561920166,
          -1.5545835494995117,
          -7.0070013999938965,
          0.6072675585746765,
          -3.392767906188965,
          -6.453453063964844,
          -1.4256328344345093,
          5.9018988609313965,
          6.385435104370117,
          0.9220643639564514,
          5.030911445617676,
          -2.2682299613952637,
          3.015639305114746,
          1.9937260150909424,
          -5.363807201385498,
          -4.720303535461426,
          -0.23173531889915466,
          5.019434452056885,
          7.537792205810547,
          -5.744165420532227,
          -5.32526159286499,
          9.461579322814941,
          5.93631649017334,
          1.4872167110443115,
          -6.6897053718566895,
          -4.64494514465332,
          -3.517077684402466,
          5.967365264892578,
          5.402466773986816,
          0.5404078364372253,
          -0.17285151779651642,
          4.47487211227417,
          -4.342257499694824,
          6.806950569152832,
          -6.4844183921813965,
          3.8578433990478516,
          3.9687881469726562,
          8.022296905517578,
          5.853386402130127,
          3.8547704219818115,
          1.9260103702545166,
          8.032856941223145,
          5.356247901916504,
          -5.365828990936279,
          5.13809061050415,
          7.47110652923584,
          -6.974934101104736,
          -0.2504054307937622,
          -5.219537734985352,
          6.622610569000244,
          -2.327204942703247,
          -2.067291021347046,
          -2.807706594467163,
          2.2790579795837402,
          -1.0983597040176392,
          4.994619846343994,
          -1.9978147745132446,
          1.9669502973556519,
          5.662543773651123,
          1.8329966068267822,
          -3.089451551437378,
          3.5673987865448,
          2.783888578414917,
          -5.9991865158081055,
          -7.065826892852783,
          -5.492610454559326,
          -3.284515142440796,
          -3.1920957565307617,
          2.072007656097412,
          1.3496286869049072,
          0.20406393706798553,
          5.865321159362793,
          -5.500466346740723,
          2.7502996921539307,
          -5.285703182220459,
          1.0631277561187744,
          -6.7512664794921875,
          3.5621261596679688,
          0.06003038212656975,
          -1.0395562648773193,
          3.3482666015625,
          -7.776995658874512,
          -7.294532775878906,
          -5.705078125,
          0.034600626677274704,
          4.511804580688477,
          2.1195030212402344,
          1.7067368030548096,
          4.889853477478027,
          -0.8565137386322021,
          2.0247960090637207,
          -1.0932445526123047,
          -1.486138939857483,
          -6.017490863800049,
          -1.595755934715271,
          -2.4451987743377686,
          -5.21171760559082,
          -4.497762203216553,
          5.112973690032959,
          8.10075855255127,
          5.332426071166992,
          5.652719020843506,
          3.0004427433013916,
          2.9698708057403564,
          1.895197868347168,
          5.942652702331543,
          -5.564403057098389,
          6.173801898956299,
          -5.228571891784668,
          5.700991630554199,
          6.139286994934082,
          2.9820516109466553,
          -6.05691385269165,
          7.535104751586914,
          -4.08740758895874,
          -1.2679007053375244,
          -5.0942769050598145,
          0.6946320533752441,
          -5.817478179931641,
          -0.46573615074157715,
          2.436532497406006,
          -5.927886486053467,
          4.129651069641113,
          -4.352199077606201,
          4.638468265533447,
          2.830900192260742,
          2.5726706981658936,
          6.133701801300049,
          -0.3887019157409668,
          0.22788549959659576,
          -5.316425323486328,
          3.4429657459259033,
          -1.243006706237793,
          -1.5996936559677124,
          6.893048286437988,
          -5.291744232177734,
          1.1287323236465454,
          0.3915250897407532,
          -4.306918144226074,
          2.890685796737671
         ]
        },
        {
         "hovertemplate": "Dominant_Topic=Topic 1<br>0=%{x}<br>1=%{y}<br>2=%{z}<extra></extra>",
         "legendgroup": "Topic 1",
         "marker": {
          "color": "#EF553B",
          "opacity": 0.7,
          "symbol": "circle"
         },
         "mode": "markers",
         "name": "Topic 1",
         "scene": "scene",
         "showlegend": true,
         "type": "scatter3d",
         "x": [
          7.641842365264893,
          4.102890968322754,
          7.808037757873535,
          7.1995697021484375,
          7.128889560699463,
          7.656080722808838,
          7.508945941925049,
          7.3481574058532715,
          7.495352268218994,
          7.4450836181640625,
          7.156859397888184,
          7.506394863128662,
          7.380504608154297,
          3.9599955081939697,
          7.814398288726807,
          7.690023422241211,
          7.142459869384766,
          7.580115795135498,
          7.169531345367432,
          7.810420513153076,
          7.7913947105407715,
          7.490285396575928,
          7.757818222045898,
          7.267428874969482
         ],
         "y": [
          0.03219747543334961,
          4.4254841804504395,
          -0.3397531509399414,
          -0.08960752189159393,
          -0.06668457388877869,
          -0.45342081785202026,
          -0.4376337230205536,
          -0.11574728786945343,
          0.02891816757619381,
          0.033819593489170074,
          -0.2091238647699356,
          0.0848337933421135,
          -0.370588093996048,
          4.434963703155518,
          -0.08292940258979797,
          -0.13620176911354065,
          -0.15010711550712585,
          -0.4799002707004547,
          -0.14972259104251862,
          -0.133977472782135,
          -0.06392011791467667,
          0.1247280016541481,
          -0.4066113829612732,
          -0.16963276267051697
         ],
         "z": [
          -11.77329158782959,
          10.6737060546875,
          -11.504772186279297,
          -11.03266716003418,
          -11.061616897583008,
          -11.515174865722656,
          -11.671541213989258,
          -11.902263641357422,
          -11.909518241882324,
          -11.240784645080566,
          -11.13348388671875,
          -11.668197631835938,
          -11.707658767700195,
          10.697265625,
          -11.607221603393555,
          -11.877314567565918,
          -11.214593887329102,
          -11.567852973937988,
          -10.9649076461792,
          -11.209230422973633,
          -11.532227516174316,
          -11.400477409362793,
          -11.566619873046875,
          -11.717374801635742
         ]
        },
        {
         "hovertemplate": "Dominant_Topic=Topic 2<br>0=%{x}<br>1=%{y}<br>2=%{z}<extra></extra>",
         "legendgroup": "Topic 2",
         "marker": {
          "color": "#00cc96",
          "opacity": 0.7,
          "symbol": "circle"
         },
         "mode": "markers",
         "name": "Topic 2",
         "scene": "scene",
         "showlegend": true,
         "type": "scatter3d",
         "x": [
          3.793018102645874,
          3.7938711643218994
         ],
         "y": [
          4.274158000946045,
          4.2073822021484375
         ],
         "z": [
          10.66142463684082,
          10.680153846740723
         ]
        },
        {
         "hovertemplate": "Dominant_Topic=Topic 3<br>0=%{x}<br>1=%{y}<br>2=%{z}<extra></extra>",
         "legendgroup": "Topic 3",
         "marker": {
          "color": "#ab63fa",
          "opacity": 0.7,
          "symbol": "circle"
         },
         "mode": "markers",
         "name": "Topic 3",
         "scene": "scene",
         "showlegend": true,
         "type": "scatter3d",
         "x": [
          7.109039306640625,
          6.082005977630615,
          6.921473503112793,
          5.361324310302734,
          3.5054714679718018,
          6.64267110824585,
          5.082533836364746,
          3.7938647270202637,
          3.5599470138549805,
          6.814904689788818,
          5.114086151123047,
          4.170962333679199,
          5.684042930603027,
          4.084198951721191,
          6.6108245849609375,
          5.030047416687012,
          3.4464058876037598,
          3.6091184616088867,
          6.796652793884277,
          6.503861427307129,
          3.2903027534484863,
          4.91639518737793,
          6.111459732055664,
          6.460031986236572,
          4.059848308563232,
          6.820647716522217,
          6.075565814971924,
          4.757596969604492
         ],
         "y": [
          -1.8620834350585938,
          -4.5661516189575195,
          -2.834451675415039,
          -6.678863048553467,
          -2.5120410919189453,
          -1.23140549659729,
          -4.099562644958496,
          4.207322120666504,
          -1.670054316520691,
          -2.900190591812134,
          -5.215707302093506,
          1.1480343341827393,
          -5.458820343017578,
          0.9783769845962524,
          -2.4989755153656006,
          -6.635746479034424,
          -3.3016157150268555,
          -1.9938477277755737,
          -1.422601580619812,
          -3.2621865272521973,
          -7.886558532714844,
          -6.728231430053711,
          -4.715162754058838,
          -3.2249269485473633,
          1.0387437343597412,
          -2.810814619064331,
          -4.7036638259887695,
          -6.888843059539795
         ],
         "z": [
          1.7331067323684692,
          -0.5288574695587158,
          2.329066753387451,
          -1.4930825233459473,
          6.4108452796936035,
          2.6075854301452637,
          6.076693058013916,
          10.680142402648926,
          6.920582294464111,
          1.5841126441955566,
          1.2538270950317383,
          7.673415184020996,
          -1.9394205808639526,
          7.617493629455566,
          1.4091514348983765,
          -1.9274406433105469,
          5.956845760345459,
          6.339829444885254,
          2.65529727935791,
          0.7906510233879089,
          -1.5808314085006714,
          -2.310748338699341,
          -0.7353342771530151,
          0.6533432006835938,
          7.670592308044434,
          2.833854913711548,
          -0.8071385025978088,
          -2.432537317276001
         ]
        }
       ],
       "layout": {
        "height": 800,
        "legend": {
         "title": {
          "text": "Dominant_Topic"
         },
         "tracegroupgap": 0
        },
        "scene": {
         "aspectmode": "auto",
         "aspectratio": {
          "x": 0.9205082271095487,
          "y": 0.8790976638584753,
          "z": 1.2357630335779703
         },
         "camera": {
          "center": {
           "x": 0,
           "y": 0,
           "z": 0
          },
          "eye": {
           "x": 0.04122528310057336,
           "y": 0.041225283100573364,
           "z": 0.04122528310057336
          },
          "projection": {
           "type": "perspective"
          },
          "up": {
           "x": -0.03769442079277614,
           "y": 0.03917321945625509,
           "z": 0.9985212013365211
          }
         },
         "domain": {
          "x": [
           0,
           1
          ],
          "y": [
           0,
           1
          ]
         },
         "xaxis": {
          "title": {
           "text": "0"
          },
          "type": "linear"
         },
         "yaxis": {
          "title": {
           "text": "1"
          },
          "type": "linear"
         },
         "zaxis": {
          "title": {
           "text": "2"
          },
          "type": "linear"
         }
        },
        "template": {
         "data": {
          "bar": [
           {
            "error_x": {
             "color": "#2a3f5f"
            },
            "error_y": {
             "color": "#2a3f5f"
            },
            "marker": {
             "line": {
              "color": "#E5ECF6",
              "width": 0.5
             },
             "pattern": {
              "fillmode": "overlay",
              "size": 10,
              "solidity": 0.2
             }
            },
            "type": "bar"
           }
          ],
          "barpolar": [
           {
            "marker": {
             "line": {
              "color": "#E5ECF6",
              "width": 0.5
             },
             "pattern": {
              "fillmode": "overlay",
              "size": 10,
              "solidity": 0.2
             }
            },
            "type": "barpolar"
           }
          ],
          "carpet": [
           {
            "aaxis": {
             "endlinecolor": "#2a3f5f",
             "gridcolor": "white",
             "linecolor": "white",
             "minorgridcolor": "white",
             "startlinecolor": "#2a3f5f"
            },
            "baxis": {
             "endlinecolor": "#2a3f5f",
             "gridcolor": "white",
             "linecolor": "white",
             "minorgridcolor": "white",
             "startlinecolor": "#2a3f5f"
            },
            "type": "carpet"
           }
          ],
          "choropleth": [
           {
            "colorbar": {
             "outlinewidth": 0,
             "ticks": ""
            },
            "type": "choropleth"
           }
          ],
          "contour": [
           {
            "colorbar": {
             "outlinewidth": 0,
             "ticks": ""
            },
            "colorscale": [
             [
              0,
              "#0d0887"
             ],
             [
              0.1111111111111111,
              "#46039f"
             ],
             [
              0.2222222222222222,
              "#7201a8"
             ],
             [
              0.3333333333333333,
              "#9c179e"
             ],
             [
              0.4444444444444444,
              "#bd3786"
             ],
             [
              0.5555555555555556,
              "#d8576b"
             ],
             [
              0.6666666666666666,
              "#ed7953"
             ],
             [
              0.7777777777777778,
              "#fb9f3a"
             ],
             [
              0.8888888888888888,
              "#fdca26"
             ],
             [
              1,
              "#f0f921"
             ]
            ],
            "type": "contour"
           }
          ],
          "contourcarpet": [
           {
            "colorbar": {
             "outlinewidth": 0,
             "ticks": ""
            },
            "type": "contourcarpet"
           }
          ],
          "heatmap": [
           {
            "colorbar": {
             "outlinewidth": 0,
             "ticks": ""
            },
            "colorscale": [
             [
              0,
              "#0d0887"
             ],
             [
              0.1111111111111111,
              "#46039f"
             ],
             [
              0.2222222222222222,
              "#7201a8"
             ],
             [
              0.3333333333333333,
              "#9c179e"
             ],
             [
              0.4444444444444444,
              "#bd3786"
             ],
             [
              0.5555555555555556,
              "#d8576b"
             ],
             [
              0.6666666666666666,
              "#ed7953"
             ],
             [
              0.7777777777777778,
              "#fb9f3a"
             ],
             [
              0.8888888888888888,
              "#fdca26"
             ],
             [
              1,
              "#f0f921"
             ]
            ],
            "type": "heatmap"
           }
          ],
          "heatmapgl": [
           {
            "colorbar": {
             "outlinewidth": 0,
             "ticks": ""
            },
            "colorscale": [
             [
              0,
              "#0d0887"
             ],
             [
              0.1111111111111111,
              "#46039f"
             ],
             [
              0.2222222222222222,
              "#7201a8"
             ],
             [
              0.3333333333333333,
              "#9c179e"
             ],
             [
              0.4444444444444444,
              "#bd3786"
             ],
             [
              0.5555555555555556,
              "#d8576b"
             ],
             [
              0.6666666666666666,
              "#ed7953"
             ],
             [
              0.7777777777777778,
              "#fb9f3a"
             ],
             [
              0.8888888888888888,
              "#fdca26"
             ],
             [
              1,
              "#f0f921"
             ]
            ],
            "type": "heatmapgl"
           }
          ],
          "histogram": [
           {
            "marker": {
             "pattern": {
              "fillmode": "overlay",
              "size": 10,
              "solidity": 0.2
             }
            },
            "type": "histogram"
           }
          ],
          "histogram2d": [
           {
            "colorbar": {
             "outlinewidth": 0,
             "ticks": ""
            },
            "colorscale": [
             [
              0,
              "#0d0887"
             ],
             [
              0.1111111111111111,
              "#46039f"
             ],
             [
              0.2222222222222222,
              "#7201a8"
             ],
             [
              0.3333333333333333,
              "#9c179e"
             ],
             [
              0.4444444444444444,
              "#bd3786"
             ],
             [
              0.5555555555555556,
              "#d8576b"
             ],
             [
              0.6666666666666666,
              "#ed7953"
             ],
             [
              0.7777777777777778,
              "#fb9f3a"
             ],
             [
              0.8888888888888888,
              "#fdca26"
             ],
             [
              1,
              "#f0f921"
             ]
            ],
            "type": "histogram2d"
           }
          ],
          "histogram2dcontour": [
           {
            "colorbar": {
             "outlinewidth": 0,
             "ticks": ""
            },
            "colorscale": [
             [
              0,
              "#0d0887"
             ],
             [
              0.1111111111111111,
              "#46039f"
             ],
             [
              0.2222222222222222,
              "#7201a8"
             ],
             [
              0.3333333333333333,
              "#9c179e"
             ],
             [
              0.4444444444444444,
              "#bd3786"
             ],
             [
              0.5555555555555556,
              "#d8576b"
             ],
             [
              0.6666666666666666,
              "#ed7953"
             ],
             [
              0.7777777777777778,
              "#fb9f3a"
             ],
             [
              0.8888888888888888,
              "#fdca26"
             ],
             [
              1,
              "#f0f921"
             ]
            ],
            "type": "histogram2dcontour"
           }
          ],
          "mesh3d": [
           {
            "colorbar": {
             "outlinewidth": 0,
             "ticks": ""
            },
            "type": "mesh3d"
           }
          ],
          "parcoords": [
           {
            "line": {
             "colorbar": {
              "outlinewidth": 0,
              "ticks": ""
             }
            },
            "type": "parcoords"
           }
          ],
          "pie": [
           {
            "automargin": true,
            "type": "pie"
           }
          ],
          "scatter": [
           {
            "fillpattern": {
             "fillmode": "overlay",
             "size": 10,
             "solidity": 0.2
            },
            "type": "scatter"
           }
          ],
          "scatter3d": [
           {
            "line": {
             "colorbar": {
              "outlinewidth": 0,
              "ticks": ""
             }
            },
            "marker": {
             "colorbar": {
              "outlinewidth": 0,
              "ticks": ""
             }
            },
            "type": "scatter3d"
           }
          ],
          "scattercarpet": [
           {
            "marker": {
             "colorbar": {
              "outlinewidth": 0,
              "ticks": ""
             }
            },
            "type": "scattercarpet"
           }
          ],
          "scattergeo": [
           {
            "marker": {
             "colorbar": {
              "outlinewidth": 0,
              "ticks": ""
             }
            },
            "type": "scattergeo"
           }
          ],
          "scattergl": [
           {
            "marker": {
             "colorbar": {
              "outlinewidth": 0,
              "ticks": ""
             }
            },
            "type": "scattergl"
           }
          ],
          "scattermapbox": [
           {
            "marker": {
             "colorbar": {
              "outlinewidth": 0,
              "ticks": ""
             }
            },
            "type": "scattermapbox"
           }
          ],
          "scatterpolar": [
           {
            "marker": {
             "colorbar": {
              "outlinewidth": 0,
              "ticks": ""
             }
            },
            "type": "scatterpolar"
           }
          ],
          "scatterpolargl": [
           {
            "marker": {
             "colorbar": {
              "outlinewidth": 0,
              "ticks": ""
             }
            },
            "type": "scatterpolargl"
           }
          ],
          "scatterternary": [
           {
            "marker": {
             "colorbar": {
              "outlinewidth": 0,
              "ticks": ""
             }
            },
            "type": "scatterternary"
           }
          ],
          "surface": [
           {
            "colorbar": {
             "outlinewidth": 0,
             "ticks": ""
            },
            "colorscale": [
             [
              0,
              "#0d0887"
             ],
             [
              0.1111111111111111,
              "#46039f"
             ],
             [
              0.2222222222222222,
              "#7201a8"
             ],
             [
              0.3333333333333333,
              "#9c179e"
             ],
             [
              0.4444444444444444,
              "#bd3786"
             ],
             [
              0.5555555555555556,
              "#d8576b"
             ],
             [
              0.6666666666666666,
              "#ed7953"
             ],
             [
              0.7777777777777778,
              "#fb9f3a"
             ],
             [
              0.8888888888888888,
              "#fdca26"
             ],
             [
              1,
              "#f0f921"
             ]
            ],
            "type": "surface"
           }
          ],
          "table": [
           {
            "cells": {
             "fill": {
              "color": "#EBF0F8"
             },
             "line": {
              "color": "white"
             }
            },
            "header": {
             "fill": {
              "color": "#C8D4E3"
             },
             "line": {
              "color": "white"
             }
            },
            "type": "table"
           }
          ]
         },
         "layout": {
          "annotationdefaults": {
           "arrowcolor": "#2a3f5f",
           "arrowhead": 0,
           "arrowwidth": 1
          },
          "autotypenumbers": "strict",
          "coloraxis": {
           "colorbar": {
            "outlinewidth": 0,
            "ticks": ""
           }
          },
          "colorscale": {
           "diverging": [
            [
             0,
             "#8e0152"
            ],
            [
             0.1,
             "#c51b7d"
            ],
            [
             0.2,
             "#de77ae"
            ],
            [
             0.3,
             "#f1b6da"
            ],
            [
             0.4,
             "#fde0ef"
            ],
            [
             0.5,
             "#f7f7f7"
            ],
            [
             0.6,
             "#e6f5d0"
            ],
            [
             0.7,
             "#b8e186"
            ],
            [
             0.8,
             "#7fbc41"
            ],
            [
             0.9,
             "#4d9221"
            ],
            [
             1,
             "#276419"
            ]
           ],
           "sequential": [
            [
             0,
             "#0d0887"
            ],
            [
             0.1111111111111111,
             "#46039f"
            ],
            [
             0.2222222222222222,
             "#7201a8"
            ],
            [
             0.3333333333333333,
             "#9c179e"
            ],
            [
             0.4444444444444444,
             "#bd3786"
            ],
            [
             0.5555555555555556,
             "#d8576b"
            ],
            [
             0.6666666666666666,
             "#ed7953"
            ],
            [
             0.7777777777777778,
             "#fb9f3a"
            ],
            [
             0.8888888888888888,
             "#fdca26"
            ],
            [
             1,
             "#f0f921"
            ]
           ],
           "sequentialminus": [
            [
             0,
             "#0d0887"
            ],
            [
             0.1111111111111111,
             "#46039f"
            ],
            [
             0.2222222222222222,
             "#7201a8"
            ],
            [
             0.3333333333333333,
             "#9c179e"
            ],
            [
             0.4444444444444444,
             "#bd3786"
            ],
            [
             0.5555555555555556,
             "#d8576b"
            ],
            [
             0.6666666666666666,
             "#ed7953"
            ],
            [
             0.7777777777777778,
             "#fb9f3a"
            ],
            [
             0.8888888888888888,
             "#fdca26"
            ],
            [
             1,
             "#f0f921"
            ]
           ]
          },
          "colorway": [
           "#636efa",
           "#EF553B",
           "#00cc96",
           "#ab63fa",
           "#FFA15A",
           "#19d3f3",
           "#FF6692",
           "#B6E880",
           "#FF97FF",
           "#FECB52"
          ],
          "font": {
           "color": "#2a3f5f"
          },
          "geo": {
           "bgcolor": "white",
           "lakecolor": "white",
           "landcolor": "#E5ECF6",
           "showlakes": true,
           "showland": true,
           "subunitcolor": "white"
          },
          "hoverlabel": {
           "align": "left"
          },
          "hovermode": "closest",
          "mapbox": {
           "style": "light"
          },
          "paper_bgcolor": "white",
          "plot_bgcolor": "#E5ECF6",
          "polar": {
           "angularaxis": {
            "gridcolor": "white",
            "linecolor": "white",
            "ticks": ""
           },
           "bgcolor": "#E5ECF6",
           "radialaxis": {
            "gridcolor": "white",
            "linecolor": "white",
            "ticks": ""
           }
          },
          "scene": {
           "xaxis": {
            "backgroundcolor": "#E5ECF6",
            "gridcolor": "white",
            "gridwidth": 2,
            "linecolor": "white",
            "showbackground": true,
            "ticks": "",
            "zerolinecolor": "white"
           },
           "yaxis": {
            "backgroundcolor": "#E5ECF6",
            "gridcolor": "white",
            "gridwidth": 2,
            "linecolor": "white",
            "showbackground": true,
            "ticks": "",
            "zerolinecolor": "white"
           },
           "zaxis": {
            "backgroundcolor": "#E5ECF6",
            "gridcolor": "white",
            "gridwidth": 2,
            "linecolor": "white",
            "showbackground": true,
            "ticks": "",
            "zerolinecolor": "white"
           }
          },
          "shapedefaults": {
           "line": {
            "color": "#2a3f5f"
           }
          },
          "ternary": {
           "aaxis": {
            "gridcolor": "white",
            "linecolor": "white",
            "ticks": ""
           },
           "baxis": {
            "gridcolor": "white",
            "linecolor": "white",
            "ticks": ""
           },
           "bgcolor": "#E5ECF6",
           "caxis": {
            "gridcolor": "white",
            "linecolor": "white",
            "ticks": ""
           }
          },
          "title": {
           "x": 0.05
          },
          "xaxis": {
           "automargin": true,
           "gridcolor": "white",
           "linecolor": "white",
           "ticks": "",
           "title": {
            "standoff": 15
           },
           "zerolinecolor": "white",
           "zerolinewidth": 2
          },
          "yaxis": {
           "automargin": true,
           "gridcolor": "white",
           "linecolor": "white",
           "ticks": "",
           "title": {
            "standoff": 15
           },
           "zerolinecolor": "white",
           "zerolinewidth": 2
          }
         }
        },
        "title": {
         "text": "3d TSNE Plot for Topic Model"
        },
        "width": 900
       }
      },
      "image/png": "[encoded data removed]",
      "text/html": [
       "<div>                            <div id=\"96e0e2f1-5f60-4286-ad62-6b8ab539bb32\" class=\"plotly-graph-div\" style=\"height:800px; width:900px;\"></div>            <script type=\"text/javascript\">                require([\"plotly\"], function(Plotly) {                    window.PLOTLYENV=window.PLOTLYENV || {};                                    if (document.getElementById(\"96e0e2f1-5f60-4286-ad62-6b8ab539bb32\")) {                    Plotly.newPlot(                        \"96e0e2f1-5f60-4286-ad62-6b8ab539bb32\",                        [{\"hovertemplate\":\"Dominant_Topic=Topic 0<br>0=%{x}<br>1=%{y}<br>2=%{z}<extra></extra>\",\"legendgroup\":\"Topic 0\",\"marker\":{\"color\":\"#636efa\",\"opacity\":0.7,\"symbol\":\"circle\"},\"mode\":\"markers\",\"name\":\"Topic 0\",\"scene\":\"scene\",\"showlegend\":true,\"x\":[6.001829147338867,-4.778372764587402,-3.7392525672912598,1.4080777168273926,2.192953109741211,-1.2149271965026855,-8.305623054504395,-3.8964951038360596,-4.267335891723633,-6.372071743011475,5.267628192901611,-1.6395015716552734,-8.60438060760498,-4.086887836456299,-7.149917125701904,-0.361798495054245,3.578003406524658,-1.4424715042114258,4.616064548492432,-6.825150489807129,4.930667877197266,-2.1688599586486816,1.1815788745880127,6.141861438751221,5.718390941619873,1.9944796562194824,5.228160858154297,3.09076189994812,-1.2012659311294556,1.1074342727661133,1.7381349802017212,0.3267080783843994,-3.4117636680603027,-7.940670013427734,-6.235749244689941,-1.4172202348709106,-1.9999476671218872,4.546195983886719,-7.951354026794434,2.1907641887664795,3.2734644412994385,1.713593602180481,-0.6341820955276489,1.9520800113677979,-3.3581783771514893,-2.6483523845672607,3.3558666706085205,-0.5877718925476074,-0.5711732506752014,1.4112846851348877,4.578512191772461,-7.014801025390625,-0.8084805011749268,-7.007964611053467,3.4638495445251465,-3.4383010864257812,1.1455878019332886,3.7680869102478027,1.4497952461242676,-2.604661703109741,5.892529487609863,5.684525012969971,3.2176003456115723,-1.6384540796279907,0.5273888111114502,-2.7011771202087402,-0.8411045074462891,2.1608102321624756,0.5698314905166626,-0.4071042537689209,4.051991939544678,2.618170976638794,-5.183659076690674,0.9854193925857544,3.840928316116333,2.6598308086395264,5.258362293243408,-0.96585613489151,2.9146628379821777,-4.634398460388184,3.7956650257110596,-0.04883559048175812,-2.7712767124176025,-7.683533668518066,-4.193605422973633,-2.2612061500549316,3.4840574264526367,-7.177612781524658,0.13682766258716583,4.5130133628845215,-0.4138166308403015,-0.4786216914653778,3.674257755279541,3.072540044784546,5.713766098022461,-0.8732741475105286,3.3808910846710205,0.22547389566898346,2.5609183311462402,-6.019314289093018,-7.845655918121338,-6.008455276489258,-3.235189914703369,-4.286032199859619,-3.0830440521240234,2.382812738418579,3.7343266010284424,0.25054827332496643,4.230710029602051,-4.322865962982178,0.6559169292449951,-0.9984946250915527,-2.471888303756714,1.181169867515564,3.4047677516937256,-3.9233365058898926,2.203991174697876,-7.039844036102295,0.9286286234855652,2.012557029724121,1.7995476722717285,-4.930397987365723,-0.9259502291679382,-4.007643699645996,0.4531513750553131,5.600405693054199,6.4615912437438965,1.6108956336975098,5.196483612060547,-1.6220673322677612,-1.5632503032684326,-2.5433542728424072,-1.8807411193847656,-0.02977066859602928,-5.209747314453125,-7.564445495605469,-1.9220541715621948,6.2876973152160645,-6.782597064971924,-2.5700864791870117,2.7729709148406982,4.626178741455078,3.638044834136963,3.6539361476898193,3.343046188354492,-1.3190960884094238,-6.221253871917725,-3.340420961380005,-1.0763729810714722,2.222242593765259,2.581923484802246,4.981382369995117,4.515778541564941,2.420849323272705,-1.342139482498169,3.4170966148376465,3.380768060684204,2.088883638381958,-4.705590724945068,-0.27571648359298706,-7.657163619995117,1.5150009393692017,0.20604996383190155,-3.1837127208709717,-3.3986093997955322,-5.516824245452881,-4.266358852386475,4.245916843414307,-5.513869285583496,-3.1684505939483643,-3.2269225120544434,0.389019638299942,0.8201801776885986,5.804972171783447,2.3032689094543457,-3.9226222038269043,1.9403433799743652,4.015892505645752,-1.185261845588684,3.868370771408081,-5.398861885070801,3.407149314880371,-2.046006917953491,4.362610340118408,-0.6459642648696899,-3.5999138355255127,-2.756477117538452,4.899914741516113,-6.976441383361816,-2.5055038928985596,-0.8148168325424194,4.881528377532959,3.3736343383789062,-1.388646125793457,1.4623562097549438,1.6152652502059937,5.028061866760254,-2.5648276805877686,-0.9361215233802795,1.2303826808929443,-5.8080525398254395,-6.5762410163879395,2.633301258087158,-3.149700403213501,1.5369142293930054,-5.244915962219238,-3.7863147258758545,4.374387264251709,-4.660017967224121,3.2963767051696777,-2.2966532707214355,2.71195125579834,2.0064358711242676,-0.26103705167770386,4.321929454803467,5.912214756011963,3.6964869499206543,-5.7960991859436035,4.9807562828063965,3.794126272201538,-2.22475266456604,-5.214371204376221,-5.514281749725342,-2.683913469314575,3.923079490661621,0.9334073662757874,3.2541959285736084,-5.966443061828613,-1.5686417818069458,-5.601443290710449,-4.238855361938477,2.1050174236297607,-5.399446964263916,-6.933445453643799,-3.2282633781433105,-1.597927451133728,-8.127530097961426,-3.096453905105591,-0.4025210440158844,-3.627044916152954,-6.7762885093688965,2.8737893104553223,5.146713733673096,-2.6381607055664062,-2.673997640609741,-4.29189920425415,-2.805936098098755,-6.533462047576904,3.077805995941162,0.35028403997421265,1.0602436065673828,0.8408284187316895,-3.6766297817230225,4.463512420654297,2.855856418609619,4.7088117599487305,-1.668676495552063,-1.139627456665039,3.1780314445495605,0.983637809753418,3.166982889175415,-3.933156967163086,-3.1863982677459717,3.8138833045959473,-0.49974778294563293,0.7571043968200684,-2.774404764175415,-2.451225519180298,6.667206287384033,-1.1844329833984375,-6.736835956573486,-6.839939117431641,5.982143878936768,3.894127607345581,2.1210505962371826,-4.4338483810424805,-2.421971559524536,0.750088095664978,5.72627592086792,4.382308006286621,5.761613368988037,-0.9572851061820984,-0.9096491932868958,-4.213769912719727,2.918881416320801,-2.152984619140625,3.3161911964416504,2.9971837997436523,1.6218801736831665,-2.686901807785034,-6.180555820465088,1.8343178033828735,4.4186248779296875,-1.7498975992202759,-3.600661516189575,-3.5485951900482178,-7.6705498695373535,1.490994930267334,4.091023921966553,6.097970962524414,2.73229718208313,-7.37568998336792,-8.853686332702637,-1.7147361040115356,3.7217626571655273,-0.7372382879257202,-2.7202017307281494,2.9948678016662598,-4.360417366027832,-0.6053600907325745,6.224655628204346,-1.3947746753692627,-6.3342366218566895,0.9417448043823242,3.093259811401367,-0.17286083102226257,-1.6409353017807007,-4.403293609619141,-6.885200500488281,-6.739224910736084,-2.167346477508545,0.1390797346830368,-7.8922247886657715,-3.2726049423217773,3.6532180309295654,-0.24347922205924988,4.110778331756592,-6.568719387054443,1.6091634035110474,-2.7231948375701904,-8.209189414978027,5.150179862976074,-0.8434774875640869,-3.1054816246032715,2.571668863296509,6.674617290496826,3.4141993522644043,-1.6583526134490967,3.335261344909668,6.075188159942627,3.8705759048461914,-2.340940237045288,3.5574467182159424,0.05189136415719986,6.467630386352539,-0.7396544814109802,4.553639888763428,4.255910873413086,-5.035372734069824,-0.38965949416160583,5.923418045043945,1.1653270721435547,-3.7970786094665527,3.6529810428619385,-4.208327293395996,-2.70611310005188,-3.480313539505005,-3.4255359172821045,2.6814165115356445,-7.172332763671875,-7.982414722442627,-0.8496053814888,2.81347918510437,-3.9270071983337402,2.6579246520996094,2.1328084468841553,-6.538381099700928,-8.346183776855469,0.7378396391868591,-0.32652074098587036,2.8677637577056885,-6.482478618621826,-4.585681915283203,-6.902915954589844,-3.782184600830078,4.313727378845215,-5.064853668212891,-7.139669418334961,3.262732982635498,3.4234507083892822,-0.4023396968841553,2.2790236473083496,-5.777903079986572,-4.624853610992432,-3.348269462585449,-0.4000353217124939,4.014402389526367,-0.99888676404953,4.6494622230529785,-0.5526909232139587,-6.932174205780029,3.935953140258789,6.26517391204834,1.3863204717636108,-3.264197826385498,0.8481423258781433,-1.9961519241333008,0.0954815074801445,5.214623928070068,3.0476133823394775,-0.6219882965087891,5.126465797424316,2.628309965133667,2.2358481884002686,-5.181131839752197,2.334045648574829,-0.9685049653053284,-3.746285915374756,1.4562677145004272,-2.3412997722625732,3.534468173980713,1.2328928709030151,-8.250033378601074,-2.6810495853424072,2.0395493507385254,-0.6856169700622559,-5.719554901123047,-1.9577375650405884,3.7313618659973145,3.577057361602783,0.5362581610679626,6.559205055236816,-0.5324714779853821,-3.9160027503967285,5.907938003540039,-0.48865488171577454,2.7518997192382812,4.865683078765869,-5.232640743255615,3.103501319885254,-2.4863858222961426,-5.808850288391113,6.714634895324707,5.090001583099365,5.146435260772705,-5.3648200035095215,1.9768970012664795,-0.1984948068857193,-8.083934783935547,3.75154709815979,-1.8747787475585938,4.915703773498535,3.1894350051879883,-6.35842752456665,-3.299018144607544,-2.363105058670044,3.721536159515381,-1.8925232887268066,6.671170711517334,-3.11588716506958,-3.3906240463256836,-5.961155891418457,-7.683696746826172,-2.2619359493255615,4.1857171058654785,4.347947597503662,-2.816258430480957,-3.3104116916656494,-0.6768258213996887,0.5784397125244141,3.6596527099609375,-7.441366672515869,-3.3957109451293945,4.44407320022583,-1.817252516746521,1.401222825050354,-6.70816707611084,4.157262325286865,-1.6950784921646118,2.4559710025787354,-5.21459436416626,-2.599958896636963,3.289353132247925,2.5048842430114746,-1.6721408367156982,3.093308448791504,4.709228038787842,4.1971259117126465,1.6613370180130005,0.27687910199165344,-4.366799354553223,-5.40731143951416,-5.926015377044678,-7.751826763153076,2.462141990661621,-0.6351116299629211,0.728960394859314,-4.603990077972412,0.8978220224380493,4.11728572845459,2.241450548171997,-1.0464165210723877,-3.968090295791626,2.971064567565918,4.416333198547363,-6.968813419342041,1.312787652015686,-0.21991290152072906,6.365265846252441,-3.2954654693603516,2.4874656200408936,1.68009352684021,-6.906439781188965,4.3834733963012695,3.4065041542053223,-3.529757022857666,-4.536243438720703,-0.16099688410758972,-0.5072378516197205,3.0108578205108643,3.397947072982788,-0.5102351307868958,3.3453755378723145,3.389296293258667,-4.170822620391846,1.7151439189910889,6.076711177825928,3.046771287918091,1.921664834022522,-1.2584948539733887,-0.8889452219009399,-3.8219008445739746,-0.5383957028388977,-5.266705513000488,-7.473255634307861,-3.4800848960876465,-4.440275192260742,1.235758900642395,-7.443697929382324,4.841744422912598,1.748249888420105,-2.1541192531585693,2.0380682945251465,4.5715484619140625,2.1234469413757324,-0.7686790227890015,5.20794677734375,-7.3306169509887695,3.830606698989868,1.6362417936325073,-0.36403727531433105,-1.1498661041259766,3.0435643196105957,3.814060926437378,-0.08766157925128937,3.6905598640441895,-5.570427417755127,5.0267744064331055,-1.4535263776779175,-5.890744686126709,3.298755168914795,1.8337610960006714,0.6202895641326904,0.843295693397522,3.357898473739624,-6.6133713722229,4.05703067779541,-1.7388713359832764,-5.963886260986328,0.21877117455005646,-0.8760776519775391,-2.7776856422424316,-5.631444931030273,-6.445006370544434,4.081680774688721,4.921955108642578,-2.5054731369018555,4.333274841308594,6.068706035614014,-1.8217941522598267,-7.120308876037598,-8.9197998046875,1.2382513284683228,2.0961592197418213,3.588944911956787,-5.3913116455078125,4.275952339172363,-6.521590709686279,0.04648219048976898,3.604433298110962,4.2867960929870605,4.294667720794678,-4.625187873840332,-3.879723072052002,-3.958531141281128,-0.25267452001571655,-1.0719760656356812,6.668051242828369,4.6992268562316895,-0.486062228679657,5.832609176635742,3.065547227859497,-1.0732020139694214,-6.310243606567383,1.6161423921585083,5.117001533508301,-4.486042022705078,-3.0179603099823,5.628829002380371,0.7171223759651184,-6.354765892028809,-6.621770858764648,3.3467319011688232,-0.22656579315662384,-6.434356689453125,-2.8503429889678955,-5.093557357788086,-4.435956001281738,-4.392597198486328,-0.6828217506408691,-0.8577244281768799,3.8889846801757812,-4.15565299987793,-7.083316326141357,1.5192209482192993,2.148761749267578,5.203721046447754,-2.6440258026123047,3.7483012676239014,-6.127444744110107,3.436563014984131,-5.0897955894470215,4.013441562652588,4.877011299133301,1.442319393157959,2.848134994506836,1.1740838289260864,-3.1225218772888184,1.2855198383331299,-0.489791601896286,-0.499496728181839,3.2162435054779053,4.133935928344727,2.211472511291504,-0.21812120079994202,-5.180930137634277,2.68052339553833,6.295663833618164,3.0779964923858643,-0.4605940878391266,1.5319701433181763,5.747851848602295,5.14260721206665,-1.646580457687378,-2.6353490352630615,-3.3129992485046387,-1.539547085762024,2.133159637451172,-3.037278890609741,-2.434706926345825,-6.7499847412109375,-7.533815383911133,3.289125919342041,3.123337507247925,-4.159585952758789,-1.1889972686767578,6.581353187561035,3.221122980117798,2.3816733360290527,3.11503267288208,0.055427514016628265,-3.505253314971924,6.166447162628174,-6.119979381561279,4.149396896362305,-6.829585075378418,-3.165330410003662,-6.448013782501221,-2.7675459384918213,-2.682335376739502,4.493089199066162,-3.8896000385284424,-0.31702855229377747,-3.4472625255584717,-3.7519683837890625,0.4672892987728119,1.3641908168792725,-0.7907909154891968,3.789137840270996,-1.4935023784637451,-3.217410087585449,5.753426551818848,-0.2059570848941803,3.3224687576293945,3.9660797119140625,0.252494752407074,2.590517520904541,6.224627494812012,2.204969644546509,2.7144391536712646,5.1400580406188965,0.874557375907898,3.2129290103912354,-0.33154091238975525,3.6678755283355713,2.8276336193084717,-6.2942705154418945,3.141749382019043,-3.255686044692993,0.8594772219657898,-3.794708490371704,0.7183389067649841,-1.4726576805114746,-3.556119680404663,-3.378922462463379,5.187434673309326,0.16970059275627136,5.866008281707764,1.9649254083633423,1.1296128034591675,-6.723677158355713,3.2838921546936035,3.162666082382202,0.5966662764549255,-3.6320130825042725,0.8634243607521057,4.462226390838623,4.356692790985107,2.866450071334839,-1.9747998714447021,4.242393970489502,1.3442145586013794,-1.3135722875595093,4.783477783203125,3.9850759506225586,5.153253555297852,-5.922430515289307,-0.17764146625995636,-6.170557022094727,-7.806339740753174,-7.135456085205078,-2.3903121948242188,-1.2413007020950317,-0.4373911917209625,-5.198044300079346,-6.661404609680176,-5.735177516937256,-6.924147605895996,-1.1074188947677612,-4.245418548583984,0.40465545654296875,-3.461310863494873,5.265397548675537,-4.301483154296875,4.3390703201293945,-7.26276159286499,-0.9481533169746399,-1.550085425376892,0.9317840337753296,2.5474584102630615,-3.9784891605377197,-2.931424140930176,-6.405573844909668,-6.293249130249023,-2.2920444011688232,-0.1814117729663849,1.4065600633621216,1.0114331245422363,2.6378469467163086,-0.8469724655151367,5.396650314331055,-1.4605309963226318,-0.3541659116744995,-1.4108179807662964,5.193846225738525,-7.384692668914795,4.78164529800415,2.1366732120513916,0.8781686425209045,0.7843357920646667,3.160759925842285,-6.041830062866211,0.5639167428016663,-1.8268043994903564,-1.0492680072784424,1.658498764038086,4.568235874176025,-2.3875558376312256,5.922833442687988,5.047388076782227,-3.9746763706207275,-1.936070203781128,1.243190050125122,5.263089656829834,-5.0375142097473145,3.107651472091675,-1.853736162185669,5.814148902893066,-0.7866114974021912,-4.1604132652282715,3.3875136375427246,-6.090683937072754,0.8206005096435547,2.8142528533935547,1.4218817949295044,4.7092156410217285,2.528485059738159,3.9625210762023926,-0.007006406784057617,2.374389410018921,-2.5264456272125244,-5.428689002990723,4.061818599700928,4.892542362213135,-1.3146729469299316,-9.025181770324707,-4.873337268829346,-1.7311939001083374,-7.7815446853637695,-1.245116114616394,1.529056191444397,-2.55016827583313,-2.018305540084839,-4.953371047973633,1.8802292346954346,-2.928891658782959,4.985632419586182,4.925237655639648,-1.6951161623001099,-4.205295562744141,-3.845257520675659,-7.574875354766846,3.5189478397369385,5.3455705642700195,3.8299624919891357,-6.7502031326293945,-4.273090362548828,3.8382272720336914,-5.757747173309326,-1.4295991659164429,-5.237832069396973,-2.8013155460357666,-6.313922882080078,-4.021091461181641,0.6857557892799377,2.0261480808258057,-3.7284655570983887,-2.9430642127990723,1.6881455183029175,1.1550167798995972,-2.0035223960876465,5.711536884307861,-1.45180344581604,4.709161758422852,-6.577812194824219,2.842857837677002,-2.0112273693084717,2.4074652194976807,0.4882200360298157,-7.963143825531006,3.575010061264038,4.647104740142822,-2.18562388420105,4.3657941818237305,-7.616040229797363,1.0471913814544678,3.0967676639556885,-3.128725290298462,-2.2324037551879883,2.3721542358398438,-2.5474300384521484,-0.9375430941581726,4.095730781555176,5.709851264953613,2.246975898742676,-1.745277762413025,-3.01764178276062,-5.984134674072266,-3.3045809268951416,-5.195337772369385,-3.7665932178497314,-7.734262943267822,1.3459736108779907,-0.053323980420827866,-1.6937280893325806,1.6924465894699097,6.708878993988037,2.3187673091888428,-1.365892767906189,-5.0489115715026855,-0.6191005706787109,5.912873268127441,-3.643120527267456,2.2762255668640137,5.695079326629639,3.6717662811279297,2.6992390155792236,-1.658037543296814,-4.906814098358154,-3.4964232444763184,4.406139373779297,3.5083980560302734,1.455820918083191,-2.437917709350586,-5.655182838439941,1.8233518600463867,-2.607121706008911,-3.3021254539489746,-0.0905391126871109,-6.099976062774658,3.935589551925659,3.2159814834594727,0.6478695273399353,0.6941386461257935,4.878117084503174,2.4780356884002686,-0.8116984963417053,2.606856107711792,1.6771469116210938,6.182146072387695,-2.0708303451538086,2.545858860015869,-5.571102142333984,-5.3618645668029785,-4.967752456665039,3.6254780292510986,-4.238797664642334,0.6207641959190369,-6.908811092376709,0.7370010018348694,1.7033013105392456,4.833935737609863,-7.522674083709717,5.490252494812012,-8.16188907623291,1.5820221900939941,-4.416236400604248,-6.373000144958496,0.4149594008922577,1.0840280055999756,-1.0990968942642212,1.0083810091018677,2.796719551086426,-5.4020609855651855,-3.2550816535949707,3.3543150424957275,-3.315001964569092,6.470024108886719,-3.1693921089172363,1.4522528648376465,3.5457348823547363,-1.3805724382400513,-2.8937277793884277,-4.373501777648926,-4.984797954559326,3.800706624984741],\"y\":[-2.4757823944091797,-3.8025481700897217,-1.497843861579895,1.695256233215332,-3.98142147064209,-3.077314615249634,-3.2329859733581543,-3.2022643089294434,-4.641375541687012,2.7272603511810303,3.84428071975708,0.6655720472335815,-3.442807912826538,-3.151071310043335,-6.099548816680908,5.0767502784729,3.1389236450195312,-1.893170714378357,2.9704604148864746,0.27178114652633667,-2.8990659713745117,-2.2113184928894043,-1.0212923288345337,-1.080345630645752,-2.76564621925354,-1.013399600982666,-1.513037085533142,2.316807985305786,-3.1915998458862305,-2.996480703353882,-0.08759299665689468,3.014230251312256,1.4023349285125732,0.12116289883852005,-4.350857734680176,-2.7874341011047363,1.1024881601333618,3.6431949138641357,-3.6917364597320557,4.476004123687744,1.1708688735961914,5.273846626281738,5.23093318939209,4.81037712097168,6.009428024291992,0.022988853976130486,2.707871437072754,5.90709114074707,5.874209880828857,-0.6726913452148438,-0.12401122599840164,-0.6095132231712341,5.958842754364014,-5.945958137512207,4.323007106781006,2.585660457611084,1.5276408195495605,3.940446376800537,0.5110964775085449,3.9741363525390625,2.2142763137817383,-2.7375452518463135,6.857283592224121,-5.148824214935303,3.1166775226593018,3.6818864345550537,2.866600751876831,5.091224670410156,-4.527451992034912,5.412905216217041,-6.347479820251465,-7.288674354553223,1.2729164361953735,1.5115160942077637,4.085653305053711,-6.202285289764404,-2.8280529975891113,2.2016987800598145,2.401390314102173,-5.256956100463867,-4.168196201324463,2.187643527984619,4.329427719116211,-3.20395827293396,-4.070886611938477,-3.5265262126922607,7.2814836502075195,-0.7021717429161072,-5.220118999481201,3.3570282459259033,4.349384784698486,-2.2612197399139404,-1.1336442232131958,-7.0612874031066895,2.188473701477051,-4.9310431480407715,-2.665055990219116,7.445610046386719,-0.8235515356063843,-2.464995861053467,-3.8048980236053467,-4.344925880432129,-0.6816328763961792,0.43005770444869995,-0.24196723103523254,-3.3623623847961426,3.0646331310272217,2.6463844776153564,4.8695902824401855,-2.956650495529175,1.580069899559021,2.435375213623047,3.386366128921509,-0.3677467405796051,6.450244426727295,-0.5021762251853943,-1.2068803310394287,3.2400240898132324,7.177921295166016,2.805710792541504,2.5288383960723877,-3.9458322525024414,3.0328238010406494,-4.908185005187988,-1.087642788887024,0.04186484217643738,3.407116413116455,-5.121360778808594,-1.3995692729949951,-5.350287437438965,1.500453233718872,-2.934739589691162,4.755557537078857,5.238404750823975,-5.3501057624816895,-1.3068442344665527,-1.1426668167114258,0.41762328147888184,3.1671998500823975,3.901601552963257,-3.355618715286255,2.646517276763916,0.31249934434890747,4.5174970626831055,1.905461072921753,-2.5650856494903564,-2.5040626525878906,3.242579460144043,-2.6254072189331055,-0.940565824508667,-0.6309496760368347,3.1417348384857178,0.6286741495132446,1.3386865854263306,-3.363511323928833,-1.9122076034545898,-6.577063083648682,-0.3676086664199829,-6.026277542114258,2.463088035583496,-0.7852784395217896,-0.5628920793533325,2.307868242263794,2.288691759109497,5.999624252319336,-3.6635921001434326,2.45961332321167,5.510488033294678,-3.729686737060547,6.530239105224609,4.845033168792725,1.800801396369934,-0.4879212975502014,2.288585662841797,-4.278195381164551,3.1225028038024902,-1.0513944625854492,3.3409910202026367,-2.344818353652954,-6.167280197143555,-2.1032016277313232,7.169345855712891,-1.0536648035049438,-0.21888934075832367,5.31966495513916,0.9799591302871704,0.4029799699783325,-3.4818544387817383,1.0758466720581055,1.0545622110366821,1.8390649557113647,3.3342769145965576,4.406590461730957,-2.6922121047973633,0.5273736119270325,6.237549781799316,-5.4867706298828125,1.0594756603240967,-2.6001482009887695,1.3330183029174805,-6.351605415344238,-1.5541423559188843,-7.189376354217529,0.7364272475242615,-7.342759609222412,-2.920654058456421,-4.483975887298584,3.929964065551758,2.2829208374023438,-5.62716007232666,7.250699520111084,-4.450780868530273,-3.6541736125946045,-4.757234573364258,-6.145629405975342,5.673635959625244,-1.7696975469589233,-5.523657321929932,4.252163887023926,3.5621018409729004,7.278031826019287,1.141148567199707,-5.004871845245361,-3.802081346511841,0.7621262073516846,-1.3822301626205444,-3.808234930038452,-2.4865617752075195,-1.1181336641311646,-3.747009515762329,-3.6019976139068604,0.6814727783203125,-3.606532096862793,-0.6737382411956787,1.0440466403961182,3.5620617866516113,-2.8613240718841553,-0.23481082916259766,-1.7564977407455444,-4.371374130249023,-2.9406096935272217,-4.473087787628174,3.4400222301483154,0.6806914806365967,-3.8814897537231445,0.4161294102668762,3.4050045013427734,4.551048278808594,3.286754608154297,1.611655592918396,4.965939044952393,3.039499044418335,2.0612382888793945,-7.293328285217285,0.45853158831596375,-1.8097771406173706,-0.999880850315094,5.226566791534424,-3.635244846343994,-1.3145443201065063,-1.0848548412322998,2.602200508117676,5.489800930023193,3.8638174533843994,5.7545881271362305,2.171416997909546,-0.04239099100232124,-3.6661694049835205,0.07105591148138046,0.5909460186958313,3.9068667888641357,-2.6732521057128906,-1.7864203453063965,-3.6838531494140625,-7.2666850090026855,1.4675413370132446,-1.0304145812988281,-1.049759030342102,-2.418292760848999,-1.5283697843551636,3.729196786880493,-4.829041957855225,-4.733262538909912,0.452921986579895,1.4150869846343994,4.755092620849609,-1.4212619066238403,4.891070365905762,-3.587726354598999,5.208792209625244,-2.432739734649658,3.9943931102752686,2.758596181869507,-4.939048767089844,6.241035461425781,5.210087299346924,2.242063283920288,-4.406782627105713,-5.966582298278809,1.6395362615585327,-5.474435806274414,-3.855070114135742,-3.286895990371704,5.291750907897949,3.096312999725342,6.305844306945801,-2.419485569000244,-3.9667088985443115,2.965453863143921,5.718738555908203,2.1781206130981445,3.378909111022949,0.5837063789367676,1.4965288639068604,-5.121580123901367,-1.2894257307052612,5.696275234222412,-3.9619572162628174,0.06970682740211487,3.18070125579834,-3.256908655166626,-1.2269299030303955,0.14358599483966827,2.505654811859131,4.516671657562256,5.95192289352417,-1.1114099025726318,-5.807493209838867,3.5268170833587646,-0.10955693572759628,-2.9548180103302,-4.091157913208008,0.8866081237792969,6.646853923797607,-5.669490337371826,0.0685630515217781,3.3370521068573,-4.4300103187561035,-0.43769529461860657,0.8297426104545593,2.8476786613464355,-2.3273568153381348,4.012523651123047,-3.078599452972412,2.7989025115966797,5.371506690979004,-6.689642429351807,-5.119442939758301,-0.3633192181587219,0.7289683222770691,1.338860034942627,-7.186859607696533,2.3701791763305664,4.516271114349365,0.022747661918401718,-2.2375800609588623,-4.325318813323975,-1.430898666381836,-4.038368225097656,-6.0829291343688965,-0.00036805274430662394,-4.4335856437683105,-7.431098937988281,0.7902361750602722,6.406396389007568,4.3545708656311035,-1.3392287492752075,-2.945981025695801,-1.1933035850524902,-2.0866851806640625,1.424801230430603,0.8365434408187866,-3.7502293586730957,-6.104974746704102,-4.537612438201904,-4.934726715087891,-4.336172103881836,-2.530349016189575,4.6748785972595215,6.907135009765625,3.4257144927978516,2.4085474014282227,-2.636585235595703,2.3372802734375,1.6549220085144043,-4.780581474304199,0.543347954750061,-2.3733179569244385,-1.9989893436431885,5.630742073059082,3.1523613929748535,3.3686046600341797,-1.2198065519332886,-3.055847644805908,4.391536712646484,5.901063442230225,-2.506528377532959,5.118274688720703,3.970366954803467,-2.9295461177825928,-2.1462364196777344,-4.022960186004639,-6.1974077224731445,-0.20723272860050201,1.870019793510437,5.916311264038086,0.320220023393631,-3.7681031227111816,1.7299432754516602,-3.0271060466766357,6.553387641906738,6.076841354370117,2.903270959854126,5.00547981262207,-0.9404550790786743,5.24405574798584,-4.347851753234863,7.63024377822876,2.8951711654663086,3.153468132019043,7.802096843719482,-0.12127562612295151,5.023173809051514,5.9217376708984375,2.380985736846924,-3.32371187210083,3.4270684719085693,-0.12267454713582993,-0.9730472564697266,-1.273879885673523,-2.4335262775421143,-4.829715728759766,0.054395031183958054,-1.1161373853683472,-4.343052864074707,-5.17064094543457,-7.6057820320129395,-3.565540313720703,-2.3180365562438965,3.9331629276275635,-3.0478105545043945,-4.811045169830322,-4.3869500160217285,1.447356939315796,1.1059281826019287,5.221167087554932,1.363098382949829,-3.4969775676727295,4.174444198608398,-2.4531946182250977,-1.3322434425354004,-4.085052490234375,-3.8643341064453125,4.432806491851807,-6.214680194854736,6.095785617828369,1.4093303680419922,6.484792232513428,0.2715633809566498,-1.3051338195800781,-5.305282115936279,-3.3971328735351562,3.597353219985962,2.4217660427093506,-0.3886156678199768,5.12826681137085,-6.09854793548584,-7.089064598083496,-3.3027167320251465,-7.949110507965088,1.49451744556427,-2.6290225982666016,-5.007380962371826,-5.458384037017822,7.3523478507995605,-7.4637298583984375,3.5085887908935547,-4.567572116851807,-3.457227945327759,3.7633416652679443,2.2040083408355713,3.33595871925354,-2.406954288482666,-6.152007579803467,-4.384645462036133,5.943098545074463,3.4282751083374023,-4.400032043457031,6.790732383728027,-5.745442867279053,-0.28394171595573425,0.5051013231277466,-3.5908100605010986,5.8155198097229,4.416757583618164,0.7527695298194885,5.321807384490967,4.7620697021484375,4.9731340408325195,1.6090600490570068,-3.2523138523101807,-1.193304181098938,3.3835630416870117,-6.087583065032959,-4.3183488845825195,0.8655431270599365,-4.218453884124756,2.4821982383728027,-4.464141845703125,4.186180591583252,2.946824789047241,2.0266852378845215,-1.8784401416778564,1.167258620262146,1.753957986831665,-4.236423969268799,-4.313773155212402,-1.575906753540039,1.257154107093811,-0.11657781153917313,0.07840734720230103,-6.042205810546875,6.049514293670654,-0.6396482586860657,-6.138499736785889,-1.2238528728485107,-2.7750651836395264,5.282966136932373,-6.137310028076172,-0.21523071825504303,-4.176747798919678,-4.440945148468018,-0.7793658971786499,2.5864522457122803,-7.487321376800537,1.951795220375061,-3.794799566268921,0.43013328313827515,-3.2827601432800293,-0.2582989037036896,-4.250805377960205,-4.834073066711426,-5.636395454406738,-6.4109578132629395,-4.871121406555176,2.850720167160034,-5.5195159912109375,-6.038421154022217,-2.1889021396636963,-4.2883124351501465,2.358785390853882,5.142198085784912,-2.4800539016723633,-0.7535214424133301,4.026777267456055,3.1150171756744385,3.912416458129883,3.1034300327301025,-5.299289703369141,6.954855442047119,3.7630600929260254,-3.054600715637207,-5.159935474395752,3.6691200733184814,1.5279337167739868,3.0109639167785645,1.5284144878387451,4.215205669403076,5.466782093048096,-2.4434547424316406,-2.2836313247680664,-3.2775189876556396,-0.587888240814209,-0.9983440041542053,3.1641368865966797,-4.977038383483887,4.071871757507324,2.8178369998931885,7.312394618988037,0.3542272448539734,-5.584371089935303,-5.4974517822265625,-3.8015215396881104,3.4754860401153564,4.648932456970215,6.77973747253418,-1.913953185081482,4.372217655181885,-0.04568677023053169,-1.5986311435699463,-2.600184917449951,-4.140049934387207,-0.3058025538921356,0.5212391018867493,-1.400646686553955,-5.12832498550415,1.1688666343688965,1.6844017505645752,-0.7343105673789978,5.96396017074585,4.421433448791504,-1.657050371170044,-2.083251476287842,-4.5840744972229,3.8385868072509766,1.3409769535064697,-4.114293575286865,4.487504959106445,-3.9152748584747314,7.164819240570068,4.8322906494140625,2.898435115814209,-2.6136648654937744,-2.257685422897339,3.0111618041992188,-4.18269157409668,-4.265753269195557,6.905879020690918,-4.793982028961182,-2.7456812858581543,1.9929710626602173,-5.110818386077881,1.736735224723816,-2.7136995792388916,6.596255779266357,-1.8474138975143433,1.5289489030838013,6.81988525390625,-2.494727849960327,4.39802360534668,1.8750813007354736,-1.101750373840332,-4.4020562171936035,4.7134246826171875,-2.3555822372436523,1.9619801044464111,-4.386224746704102,-2.8463265895843506,-7.973637580871582,5.530869483947754,0.3860779404640198,-0.22698469460010529,3.146959066390991,-2.245269298553467,3.022183418273926,2.2425661087036133,-2.182852268218994,-4.591060161590576,1.834358811378479,-0.6414802670478821,-0.6989762187004089,3.7140533924102783,-1.905248761177063,6.783768653869629,2.8576877117156982,0.7144224047660828,2.3668432235717773,-1.7279495000839233,6.372434139251709,-3.5059642791748047,5.621401309967041,-2.0676846504211426,-0.8009063005447388,-4.260068893432617,-6.296529769897461,-4.7332940101623535,-4.3369011878967285,1.8854093551635742,0.021272258833050728,4.888370513916016,-1.576879620552063,-2.218768835067749,5.586832523345947,2.1288156509399414,3.3761942386627197,-1.3004428148269653,3.1342034339904785,4.7807183265686035,1.6764763593673706,-3.8576228618621826,2.434645175933838,2.550847291946411,4.884136199951172,6.53096342086792,3.464597225189209,5.1045145988464355,0.07907629758119583,5.221121311187744,2.418802499771118,4.972187519073486,-1.9699136018753052,-0.9235826134681702,6.468056678771973,4.493871212005615,-4.7584733963012695,-3.3224945068359375,-2.448180675506592,-1.8120206594467163,0.5248960852622986,-3.602108955383301,-1.7296143770217896,5.9186320304870605,-3.0225319862365723,-1.4484459161758423,6.236252784729004,3.5713460445404053,2.9309775829315186,0.6881884932518005,-1.587918996810913,6.324918270111084,3.8850934505462646,-1.5493779182434082,2.7526180744171143,-2.2429044246673584,2.291471242904663,1.190772533416748,2.68764066696167,-0.3822852075099945,-4.0107741355896,5.026734828948975,-6.083906173706055,-2.6660659313201904,-3.1666479110717773,-4.612975597381592,-5.5418171882629395,-4.386533260345459,-0.8976468443870544,1.8061269521713257,-6.05065393447876,2.96416974067688,-6.0820441246032715,4.042619228363037,-2.914677619934082,-4.852295875549316,-2.233691692352295,-3.488172769546509,-5.824813365936279,3.854931592941284,3.0022549629211426,-4.9178338050842285,2.27333664894104,-2.6115493774414062,-3.5752644538879395,-2.6206722259521484,2.687379837036133,-4.4590983390808105,-2.141115427017212,3.2033474445343018,-1.0818108320236206,6.231820106506348,2.5082080364227295,0.17477354407310486,-5.56878137588501,2.2824554443359375,3.2191383838653564,5.043119430541992,6.345442295074463,-2.9241044521331787,-8.21382999420166,-3.562351703643799,-2.877138376235962,-2.942561388015747,-1.5376787185668945,-2.6824190616607666,-1.4116524457931519,1.1731740236282349,4.05824613571167,5.959394454956055,1.476654052734375,-6.413045883178711,-2.3589627742767334,-3.9868054389953613,7.868194103240967,3.7966830730438232,-0.04410472512245178,-3.4422409534454346,-6.615688800811768,4.521006107330322,1.1674292087554932,-4.282313823699951,-0.8820362687110901,-3.3596818447113037,4.936710834503174,-4.046250820159912,1.9179902076721191,-0.3526494801044464,-1.0046669244766235,2.6261909008026123,4.443239212036133,-4.198089122772217,2.635352849960327,-1.2626235485076904,7.014203071594238,6.008879661560059,5.250690937042236,3.508603811264038,-0.6114233732223511,3.25081205368042,-1.7598342895507812,4.531954765319824,0.3738364577293396,0.033917512744665146,1.0218596458435059,-4.161683559417725,-3.2055718898773193,-3.0704925060272217,-5.590449333190918,7.510861396789551,-1.3565038442611694,3.3526358604431152,-0.8590660095214844,2.765486240386963,7.456982135772705,-5.118369102478027,-1.0057542324066162,1.8615158796310425,2.7426235675811768,-3.124091863632202,-3.301839828491211,-2.644934892654419,2.6366679668426514,3.343430280685425,0.24785958230495453,-4.064626216888428,0.7418006062507629,-4.051006317138672,-2.714655637741089,4.097935676574707,-5.218045234680176,-4.692281723022461,-1.9839463233947754,-2.0892014503479004,2.2745065689086914,-4.987178325653076,-2.318105459213257,2.983931303024292,6.298542499542236,-4.121761798858643,-3.8840839862823486,-1.1759557723999023,2.4717986583709717,1.54961359500885,-5.532181739807129,3.508617639541626,-5.853835105895996,3.3317830562591553,6.60019063949585,-0.14044156670570374,-2.1876602172851562,0.69207763671875,3.089556932449341,3.5356855392456055,2.041919469833374,-0.11649593710899353,2.250566005706787,-1.3523343801498413,-3.898453950881958,6.289181709289551,-4.356597900390625,3.0003714561462402,7.22501277923584,-5.029801845550537,-6.9359283447265625,-1.1588445901870728,5.427108287811279,-4.289530277252197,3.2905099391937256,-5.001368522644043,-0.5650745034217834,1.1235947608947754,1.3054742813110352,-0.03761274740099907,-0.47260433435440063,2.2780537605285645,6.804037094116211,4.339683532714844,3.2074735164642334,5.3243937492370605,-3.4606099128723145,-4.058137893676758,2.0463616847991943,2.3267321586608887,1.3924381732940674,-0.6161628365516663,1.80122709274292,-0.17317962646484375,3.40976619720459,1.4915046691894531,-0.03578105568885803,1.233122706413269,1.5526305437088013,2.7270753383636475,5.113804817199707,-0.7906351089477539,-5.231059551239014,-4.311683654785156,0.7653284668922424,6.612210273742676,7.354579448699951,-3.9765992164611816,-0.9771478176116943,-2.2504734992980957,-0.9687350988388062,-0.6862722635269165,-4.289620876312256,-0.04053540900349617,-2.8241817951202393,-3.949441432952881,5.685702323913574,-0.39762020111083984,-3.9719231128692627,5.149878978729248,3.457439661026001,-5.08313512802124,1.7197407484054565,-3.794025421142578,-4.625814914703369,-3.270411252975464,-3.0012521743774414,-3.031585931777954,-5.84073543548584,-3.6484196186065674,2.4289228916168213,-1.7312170267105103,0.163497656583786,5.679622650146484,-3.611865997314453,-3.8558106422424316,-1.5301685333251953,-5.659069061279297,3.4848549365997314,6.904670238494873,-0.5147241950035095,-5.314271450042725,5.1276535987854,6.508215427398682,-2.9157469272613525,3.2185964584350586,-2.6196670532226562,-2.629096031188965,4.7410359382629395,-1.8701136112213135,5.845263481140137,-2.804811716079712,0.7914817333221436,3.6641461849212646],\"z\":[1.2252215147018433,2.7986409664154053,2.34145450592041,-0.43917137384414673,3.5633785724639893,7.271881580352783,-4.7288689613342285,1.2513716220855713,6.296678066253662,-3.480006694793701,5.925772190093994,-2.046632766723633,-4.986388206481934,1.222779393196106,5.410716533660889,-1.3999494314193726,-0.7233595252037048,0.6194478273391724,7.919259548187256,-6.896556854248047,4.31807279586792,-4.428910255432129,3.7002108097076416,2.7861218452453613,0.6066229343414307,4.979068279266357,1.0107917785644531,4.2390265464782715,4.0722246170043945,6.171357154846191,-2.2549896240234375,-2.411850690841675,-5.682984828948975,-5.492665767669678,-0.11698601394891739,7.114047050476074,-1.9052397012710571,8.801671981811523,-5.615842342376709,3.198246479034424,2.7122955322265625,-0.15858222544193268,-2.554762125015259,-0.2032364010810852,-2.2711150646209717,3.601396322250366,1.1770707368850708,-2.615318775177002,-0.13928183913230896,7.857985019683838,-1.6261022090911865,-5.017973899841309,-2.944549798965454,5.990501403808594,7.645364284515381,1.0125728845596313,-0.34345102310180664,10.362472534179688,-3.874237537384033,0.1813402771949768,1.9887707233428955,0.5468385219573975,-1.3202565908432007,4.375779151916504,-1.0412310361862183,-3.894524097442627,0.7443012595176697,0.524012565612793,5.21315336227417,-2.5318050384521484,-0.06425006687641144,-3.285170555114746,-4.533188819885254,0.4260384738445282,9.419464111328125,-3.749969482421875,2.0878825187683105,-4.209202289581299,2.102494716644287,6.00001335144043,-2.1054532527923584,-3.1574532985687256,-2.5576043128967285,-5.206263065338135,2.0875327587127686,6.934066295623779,-1.3523675203323364,-5.185080051422119,-4.567149639129639,8.520524024963379,4.201550006866455,7.3473615646362305,6.675535202026367,-2.5873730182647705,0.6529339551925659,-3.805081605911255,5.303829669952393,-1.6678324937820435,3.7926158905029297,-5.077188968658447,-5.607911109924316,-4.152695655822754,2.7925751209259033,-1.060300588607788,2.926931619644165,4.266756057739258,9.95727252960205,-3.6380133628845215,3.094604730606079,-1.2654286623001099,-1.8907103538513184,-2.11708402633667,-1.976537823677063,7.216254711151123,0.46679258346557617,-1.2927086353302002,3.5641896724700928,-4.427743911743164,-1.9958460330963135,0.5366159677505493,0.3349619507789612,2.859225273132324,-4.294171333312988,6.1599531173706055,6.709881782531738,2.9435312747955322,3.3747098445892334,-4.326345443725586,1.363897442817688,4.340602874755859,-7.973641395568848,-1.7807071208953857,-3.9146981239318848,-2.3645269870758057,-4.522899627685547,-6.905355930328369,-2.461108446121216,4.2135009765625,-4.922265529632568,-1.4267604351043701,4.752890586853027,4.631718158721924,0.896701455116272,8.437283515930176,2.4753007888793945,7.146037578582764,-5.341455936431885,-1.8065518140792847,5.200869083404541,3.0393946170806885,-2.1824190616607666,6.316959857940674,-1.3726500272750854,-1.5952774286270142,-1.7442163228988647,-3.918609857559204,-2.503478527069092,8.019039154052734,5.899358749389648,-4.39200496673584,-6.196945667266846,6.966280460357666,-2.563297986984253,-6.270816802978516,-0.03616153448820114,-1.3378233909606934,-5.779051780700684,3.0938854217529297,-1.2233637571334839,-1.5384601354599,-1.087142825126648,-0.9354615807533264,-4.758567810058594,1.7174456119537354,3.238642454147339,-3.389587163925171,-4.014213562011719,9.307905197143555,1.6075482368469238,-3.4582340717315674,-6.574489593505859,-1.372033953666687,-2.6857638359069824,-1.2801569700241089,1.1553956270217896,-7.124048233032227,2.370227813720703,6.0114336013793945,-6.387098789215088,-2.088029623031616,-4.166416645050049,7.220665454864502,7.450959205627441,4.422014236450195,-1.7541351318359375,-1.4871102571487427,-1.8434627056121826,-1.9631609916687012,5.08797025680542,-1.3370031118392944,5.617397785186768,-6.9991068840026855,-3.4308226108551025,3.326795816421509,-3.899702548980713,-0.7977322936058044,3.7392616271972656,6.739879131317139,-6.816462993621826,-2.7898385524749756,-1.7641642093658447,5.555248737335205,3.76287841796875,5.486515045166016,0.31573739647865295,-1.0187851190567017,3.5365240573883057,5.257256507873535,6.23443603515625,9.502166748046875,-0.5482065081596375,-4.784696102142334,4.614740371704102,2.321453809738159,-0.08976748585700989,1.9279712438583374,-2.6277594566345215,-2.2043633460998535,0.813598096370697,-0.7933864593505859,3.81954026222229,-0.1247929185628891,-0.949211835861206,-5.321990489959717,-5.812867641448975,-1.5518237352371216,-3.9470579624176025,-6.21942138671875,4.424056529998779,1.8524713516235352,-4.069430351257324,-3.374311923980713,4.863243579864502,2.063244581222534,6.65681266784668,-1.116830587387085,-2.679267406463623,-4.294132232666016,2.639488935470581,-5.41088342666626,2.801335334777832,-1.1699079275131226,-6.195881366729736,-2.475604295730591,3.0663421154022217,-1.237596869468689,0.5634145736694336,2.4702422618865967,-2.530094623565674,3.3896090984344482,-1.8996508121490479,0.8067203760147095,-1.6263200044631958,10.304827690124512,-0.2781248688697815,-2.4530434608459473,3.1365387439727783,5.120211601257324,-10.448673248291016,-1.6331101655960083,-4.121732711791992,-6.39484167098999,2.2337703704833984,5.9247026443481445,-3.7756669521331787,-5.540247917175293,-4.874724388122559,1.9892637729644775,1.9516453742980957,-1.6626911163330078,1.8642209768295288,-3.9302210807800293,-4.106774806976318,-5.182223796844482,1.907831072807312,1.4613556861877441,-3.3542449474334717,6.576885223388672,3.409648895263672,-2.0503664016723633,-2.1829593181610107,-0.9376123547554016,8.774979591369629,4.345564365386963,0.11094887554645538,-0.40387803316116333,-5.178518295288086,-0.9381076097488403,-0.5496190786361694,3.225677728652954,-0.6814599633216858,-5.274366855621338,-4.908266067504883,-3.4589152336120605,10.015087127685547,-2.692220449447632,-6.2137451171875,-3.3972108364105225,-3.7268660068511963,-0.35052362084388733,0.4309772253036499,-1.5680381059646606,-6.485653877258301,0.7089374661445618,-3.555307388305664,-4.882396697998047,-3.396684408187866,3.504067897796631,-5.595614433288574,-5.7699408531188965,-5.442197322845459,-4.442996978759766,-5.711631774902344,-3.1690380573272705,8.437312126159668,1.8663489818572998,-1.6430598497390747,4.604010581970215,-1.2158719301223755,3.2046473026275635,-4.035120487213135,6.001958847045898,-1.4261220693588257,0.20202603936195374,-3.8798041343688965,-10.45405101776123,3.751368522644043,-3.0390446186065674,-1.0991406440734863,4.922643661499023,5.758403301239014,-4.46259880065918,8.30739688873291,5.597541809082031,3.465662717819214,2.643528699874878,-2.2347679138183594,-2.0753767490386963,-7.444504737854004,-0.888688862323761,3.5960488319396973,-3.8422601222991943,-5.883828639984131,8.437209129333496,-1.1155624389648438,-5.376832485198975,1.853186011314392,-1.2492656707763672,5.566661357879639,5.191214561462402,-5.679948806762695,-5.442348480224609,-3.1952483654022217,-4.945512294769287,-1.1338276863098145,2.277935028076172,-5.149464130401611,-4.231085300445557,3.9193837642669678,7.296902179718018,2.0658364295959473,-6.350330352783203,2.8162331581115723,5.457718372344971,6.244178771972656,-1.6379172801971436,1.88056480884552,-6.05144739151001,7.102134704589844,-1.0500125885009766,-3.829535722732544,2.0241899490356445,-5.4629225730896,1.6809636354446411,-5.555908203125,5.0248847007751465,-0.5162719488143921,7.327057361602783,-1.387025237083435,0.9835763573646545,-4.360856056213379,9.49216365814209,2.69417142868042,-1.4779545068740845,-1.220379114151001,0.9424159526824951,4.1790571212768555,3.006338119506836,6.193315505981445,-4.464589595794678,7.2551350593566895,4.977447509765625,-3.7655110359191895,3.060497283935547,-5.055503845214844,-0.6372916102409363,-2.44321870803833,4.49159049987793,-0.34491488337516785,-5.518624305725098,0.1810029000043869,-1.333870530128479,-4.596915245056152,-1.8709478378295898,4.764585494995117,1.9380759000778198,1.1555864810943604,-1.6146260499954224,9.771917343139648,3.7709357738494873,2.2259140014648438,3.5652525424957275,3.373201608657837,-0.6643617749214172,2.0486485958099365,7.550403118133545,2.541440486907959,-0.6983984112739563,-7.358226299285889,-2.7473950386047363,-4.28516960144043,-4.743024826049805,-10.524970054626465,1.3205580711364746,0.5140527486801147,-4.5937299728393555,-2.066953182220459,7.7819061279296875,-6.480513572692871,9.904176712036133,3.092837333679199,-1.5539406538009644,-3.213507652282715,-4.892202377319336,-8.134021759033203,-2.364440679550171,7.833708763122559,-2.3216190338134766,-0.6884152293205261,-6.304790496826172,-5.439883708953857,-0.5343015789985657,-5.273438930511475,1.0689254999160767,-3.5600426197052,0.8037489056587219,-2.5754873752593994,0.6313486695289612,-2.0170834064483643,0.5792285203933716,-1.4390990734100342,-5.928519248962402,-2.691602945327759,8.736656188964844,-3.7799923419952393,0.4919094145298004,5.863184452056885,-3.0134012699127197,3.0156567096710205,-2.2298576831817627,-6.572436809539795,-6.044148921966553,-3.3083584308624268,-3.7961196899414062,-1.9842661619186401,-1.282414436340332,8.022146224975586,5.761531829833984,3.4970881938934326,0.28447699546813965,1.6743768453598022,-5.205641746520996,-6.442988872528076,4.59174919128418,5.38437032699585,0.03249432519078255,-1.3852834701538086,3.8410720825195312,-1.2144436836242676,-1.715281367301941,7.907315731048584,-1.9009544849395752,1.4496690034866333,-1.8190975189208984,2.717444896697998,-3.7433760166168213,0.37758928537368774,3.410776138305664,-1.2165354490280151,-3.4575302600860596,-2.089479923248291,-3.02754282951355,-5.941869735717773,-1.3345160484313965,-3.333991527557373,-3.3500285148620605,3.1458005905151367,-2.746289014816284,-5.067974090576172,2.9695379734039307,2.2058041095733643,-5.5011796951293945,3.0779998302459717,2.0196056365966797,-6.012485027313232,-0.8677052855491638,-0.48298266530036926,2.8737361431121826,-1.3095533847808838,-2.8613884449005127,-3.2111599445343018,5.819049835205078,2.507157564163208,-7.448653221130371,5.157477855682373,-5.816605567932129,-5.191137313842773,1.2968037128448486,5.1991286277771,-0.848591148853302,-4.363473415374756,-2.770045280456543,7.473120212554932,4.2024688720703125,-3.6114766597747803,-2.396024227142334,4.764191150665283,-5.7311320304870605,2.9599764347076416,-2.671903133392334,-5.070793151855469,-3.36181378364563,-3.390371322631836,-1.8541513681411743,5.607968330383301,5.377020359039307,5.65848970413208,-2.583719491958618,3.6275343894958496,-5.928959846496582,0.944298505783081,-0.8480212092399597,7.30927848815918,-5.142213821411133,7.063877582550049,-5.202744483947754,2.7101705074310303,0.49338117241859436,4.755324840545654,-1.7030514478683472,4.550416469573975,-5.760769844055176,5.652864456176758,-5.201534271240234,0.5515319108963013,7.494008541107178,-1.6612721681594849,8.434138298034668,-0.9658815860748291,-4.731210708618164,-5.959035873413086,-4.845097541809082,7.0854573249816895,3.830785036087036,5.848227500915527,4.794272422790527,9.06241226196289,-3.4677934646606445,-2.916992664337158,7.393700122833252,0.2695345878601074,-0.07973209768533707,1.7918789386749268,-0.017491990700364113,-1.3294479846954346,-2.229182720184326,-4.137839317321777,-0.46066421270370483,-0.8442294597625732,-4.246697902679443,1.3893321752548218,-3.0899739265441895,-2.8089070320129395,-4.296597957611084,-2.71771240234375,4.8549933433532715,-6.033667087554932,-5.390039443969727,2.3953959941864014,-3.060763359069824,-4.0132904052734375,-4.500059604644775,4.360246658325195,4.58028507232666,-5.562106132507324,-7.500172138214111,1.8822977542877197,-1.6473946571350098,1.7903852462768555,-0.0897960439324379,-0.44685953855514526,5.970127105712891,2.8141307830810547,-6.301965236663818,0.5039685368537903,-4.3272504806518555,0.5598272681236267,0.017941316589713097,5.643722057342529,-5.6087422370910645,2.51073956489563,-5.081010341644287,-0.7750409245491028,-1.7201136350631714,3.054666519165039,4.551054954528809,0.5231083631515503,-0.5841109156608582,-1.866505742073059,0.46168646216392517,-4.894824981689453,2.234732151031494,5.675592422485352,1.3656364679336548,5.522894859313965,-5.63845682144165,-4.302687168121338,0.8461406826972961,-1.6085312366485596,1.3687649965286255,-1.8068828582763672,2.8596749305725098,4.602705478668213,4.337507724761963,-6.64793062210083,-5.879432678222656,3.783494710922241,3.7965805530548096,-1.325940489768982,-5.123963356018066,-4.409131050109863,-4.431451797485352,-2.48545241355896,-1.4010894298553467,0.5613195300102234,-2.3079707622528076,2.951078176498413,2.3994758129119873,-1.3152656555175781,5.749382019042969,2.687227725982666,-6.4423017501831055,2.7941231727600098,-0.2133338451385498,0.7150564789772034,-5.4168243408203125,6.185054779052734,-3.1639857292175293,3.081851005554199,-1.5450712442398071,-1.491398811340332,-6.555851936340332,-0.7147395610809326,0.8189487457275391,0.17438577115535736,-5.5913472175598145,-1.013102412223816,1.4459261894226074,7.364469051361084,3.8513400554656982,0.7422510385513306,1.4255462884902954,1.5514086484909058,0.897077739238739,8.986930847167969,2.841622829437256,2.981722116470337,-1.1687005758285522,1.4693907499313354,1.9639402627944946,-0.8480194807052612,-5.343118667602539,1.0675009489059448,3.671159505844116,-2.2609877586364746,6.09511137008667,-5.0603346824646,5.575163841247559,-6.965911388397217,-4.853198051452637,2.0449860095977783,-3.0936267375946045,4.371951103210449,-1.2822544574737549,-1.5170304775238037,5.835830211639404,-3.5876286029815674,5.493686199188232,-3.215142250061035,2.9059386253356934,-4.947304725646973,-2.7154581546783447,3.1356313228607178,5.488832950592041,0.5412536859512329,1.2281173467636108,8.661996841430664,1.0886883735656738,-4.096888542175293,-3.5011191368103027,0.3272629380226135,-1.6558613777160645,7.199828624725342,-1.3850826025009155,-2.0104312896728516,0.8442471623420715,-6.425726413726807,-5.35121488571167,5.41038179397583,-4.876753330230713,5.492696285247803,-4.004683971405029,2.506883382797241,5.25800085067749,-6.291487216949463,-6.203402042388916,5.982790946960449,-6.065645694732666,-1.8971105813980103,6.180042266845703,-1.3545504808425903,-5.936965465545654,0.4861558973789215,2.003384590148926,8.11864185333252,-5.526939868927002,4.294875621795654,-0.7207180261611938,6.169053077697754,1.4723126888275146,-4.095833778381348,3.2090702056884766,5.156746864318848,-3.4687023162841797,0.6200642585754395,3.353813886642456,3.040853977203369,6.523059368133545,-2.061436891555786,7.4470438957214355,2.1102850437164307,-4.4936628341674805,-4.884847640991211,4.609071254730225,1.03211510181427,-6.262956619262695,7.751426696777344,3.4632890224456787,-5.41917085647583,-4.109792232513428,4.571972846984863,-3.6263375282287598,2.1753666400909424,0.4685932397842407,-2.7297496795654297,3.442471742630005,-2.060325860977173,1.3332020044326782,5.290980815887451,-0.685874879360199,-1.1238188743591309,-4.6898956298828125,1.0979171991348267,0.8459092378616333,-4.968747615814209,6.928309440612793,1.1917777061462402,1.5446250438690186,0.7525636553764343,3.7613799571990967,2.9054481983184814,-6.455833911895752,2.8807942867279053,-1.6432567834854126,1.9447966814041138,8.02217960357666,3.9510586261749268,9.2217378616333,7.265334129333496,3.04706072807312,1.9347994327545166,-3.8817272186279297,0.28255191445350647,5.651851654052734,3.937387228012085,-5.095502853393555,5.87984561920166,-1.5545835494995117,-7.0070013999938965,0.6072675585746765,-3.392767906188965,-6.453453063964844,-1.4256328344345093,5.9018988609313965,6.385435104370117,0.9220643639564514,5.030911445617676,-2.2682299613952637,3.015639305114746,1.9937260150909424,-5.363807201385498,-4.720303535461426,-0.23173531889915466,5.019434452056885,7.537792205810547,-5.744165420532227,-5.32526159286499,9.461579322814941,5.93631649017334,1.4872167110443115,-6.6897053718566895,-4.64494514465332,-3.517077684402466,5.967365264892578,5.402466773986816,0.5404078364372253,-0.17285151779651642,4.47487211227417,-4.342257499694824,6.806950569152832,-6.4844183921813965,3.8578433990478516,3.9687881469726562,8.022296905517578,5.853386402130127,3.8547704219818115,1.9260103702545166,8.032856941223145,5.356247901916504,-5.365828990936279,5.13809061050415,7.47110652923584,-6.974934101104736,-0.2504054307937622,-5.219537734985352,6.622610569000244,-2.327204942703247,-2.067291021347046,-2.807706594467163,2.2790579795837402,-1.0983597040176392,4.994619846343994,-1.9978147745132446,1.9669502973556519,5.662543773651123,1.8329966068267822,-3.089451551437378,3.5673987865448,2.783888578414917,-5.9991865158081055,-7.065826892852783,-5.492610454559326,-3.284515142440796,-3.1920957565307617,2.072007656097412,1.3496286869049072,0.20406393706798553,5.865321159362793,-5.500466346740723,2.7502996921539307,-5.285703182220459,1.0631277561187744,-6.7512664794921875,3.5621261596679688,0.06003038212656975,-1.0395562648773193,3.3482666015625,-7.776995658874512,-7.294532775878906,-5.705078125,0.034600626677274704,4.511804580688477,2.1195030212402344,1.7067368030548096,4.889853477478027,-0.8565137386322021,2.0247960090637207,-1.0932445526123047,-1.486138939857483,-6.017490863800049,-1.595755934715271,-2.4451987743377686,-5.21171760559082,-4.497762203216553,5.112973690032959,8.10075855255127,5.332426071166992,5.652719020843506,3.0004427433013916,2.9698708057403564,1.895197868347168,5.942652702331543,-5.564403057098389,6.173801898956299,-5.228571891784668,5.700991630554199,6.139286994934082,2.9820516109466553,-6.05691385269165,7.535104751586914,-4.08740758895874,-1.2679007053375244,-5.0942769050598145,0.6946320533752441,-5.817478179931641,-0.46573615074157715,2.436532497406006,-5.927886486053467,4.129651069641113,-4.352199077606201,4.638468265533447,2.830900192260742,2.5726706981658936,6.133701801300049,-0.3887019157409668,0.22788549959659576,-5.316425323486328,3.4429657459259033,-1.243006706237793,-1.5996936559677124,6.893048286437988,-5.291744232177734,1.1287323236465454,0.3915250897407532,-4.306918144226074,2.890685796737671],\"type\":\"scatter3d\"},{\"hovertemplate\":\"Dominant_Topic=Topic 1<br>0=%{x}<br>1=%{y}<br>2=%{z}<extra></extra>\",\"legendgroup\":\"Topic 1\",\"marker\":{\"color\":\"#EF553B\",\"opacity\":0.7,\"symbol\":\"circle\"},\"mode\":\"markers\",\"name\":\"Topic 1\",\"scene\":\"scene\",\"showlegend\":true,\"x\":[7.641842365264893,4.102890968322754,7.808037757873535,7.1995697021484375,7.128889560699463,7.656080722808838,7.508945941925049,7.3481574058532715,7.495352268218994,7.4450836181640625,7.156859397888184,7.506394863128662,7.380504608154297,3.9599955081939697,7.814398288726807,7.690023422241211,7.142459869384766,7.580115795135498,7.169531345367432,7.810420513153076,7.7913947105407715,7.490285396575928,7.757818222045898,7.267428874969482],\"y\":[0.03219747543334961,4.4254841804504395,-0.3397531509399414,-0.08960752189159393,-0.06668457388877869,-0.45342081785202026,-0.4376337230205536,-0.11574728786945343,0.02891816757619381,0.033819593489170074,-0.2091238647699356,0.0848337933421135,-0.370588093996048,4.434963703155518,-0.08292940258979797,-0.13620176911354065,-0.15010711550712585,-0.4799002707004547,-0.14972259104251862,-0.133977472782135,-0.06392011791467667,0.1247280016541481,-0.4066113829612732,-0.16963276267051697],\"z\":[-11.77329158782959,10.6737060546875,-11.504772186279297,-11.03266716003418,-11.061616897583008,-11.515174865722656,-11.671541213989258,-11.902263641357422,-11.909518241882324,-11.240784645080566,-11.13348388671875,-11.668197631835938,-11.707658767700195,10.697265625,-11.607221603393555,-11.877314567565918,-11.214593887329102,-11.567852973937988,-10.9649076461792,-11.209230422973633,-11.532227516174316,-11.400477409362793,-11.566619873046875,-11.717374801635742],\"type\":\"scatter3d\"},{\"hovertemplate\":\"Dominant_Topic=Topic 2<br>0=%{x}<br>1=%{y}<br>2=%{z}<extra></extra>\",\"legendgroup\":\"Topic 2\",\"marker\":{\"color\":\"#00cc96\",\"opacity\":0.7,\"symbol\":\"circle\"},\"mode\":\"markers\",\"name\":\"Topic 2\",\"scene\":\"scene\",\"showlegend\":true,\"x\":[3.793018102645874,3.7938711643218994],\"y\":[4.274158000946045,4.2073822021484375],\"z\":[10.66142463684082,10.680153846740723],\"type\":\"scatter3d\"},{\"hovertemplate\":\"Dominant_Topic=Topic 3<br>0=%{x}<br>1=%{y}<br>2=%{z}<extra></extra>\",\"legendgroup\":\"Topic 3\",\"marker\":{\"color\":\"#ab63fa\",\"opacity\":0.7,\"symbol\":\"circle\"},\"mode\":\"markers\",\"name\":\"Topic 3\",\"scene\":\"scene\",\"showlegend\":true,\"x\":[7.109039306640625,6.082005977630615,6.921473503112793,5.361324310302734,3.5054714679718018,6.64267110824585,5.082533836364746,3.7938647270202637,3.5599470138549805,6.814904689788818,5.114086151123047,4.170962333679199,5.684042930603027,4.084198951721191,6.6108245849609375,5.030047416687012,3.4464058876037598,3.6091184616088867,6.796652793884277,6.503861427307129,3.2903027534484863,4.91639518737793,6.111459732055664,6.460031986236572,4.059848308563232,6.820647716522217,6.075565814971924,4.757596969604492],\"y\":[-1.8620834350585938,-4.5661516189575195,-2.834451675415039,-6.678863048553467,-2.5120410919189453,-1.23140549659729,-4.099562644958496,4.207322120666504,-1.670054316520691,-2.900190591812134,-5.215707302093506,1.1480343341827393,-5.458820343017578,0.9783769845962524,-2.4989755153656006,-6.635746479034424,-3.3016157150268555,-1.9938477277755737,-1.422601580619812,-3.2621865272521973,-7.886558532714844,-6.728231430053711,-4.715162754058838,-3.2249269485473633,1.0387437343597412,-2.810814619064331,-4.7036638259887695,-6.888843059539795],\"z\":[1.7331067323684692,-0.5288574695587158,2.329066753387451,-1.4930825233459473,6.4108452796936035,2.6075854301452637,6.076693058013916,10.680142402648926,6.920582294464111,1.5841126441955566,1.2538270950317383,7.673415184020996,-1.9394205808639526,7.617493629455566,1.4091514348983765,-1.9274406433105469,5.956845760345459,6.339829444885254,2.65529727935791,0.7906510233879089,-1.5808314085006714,-2.310748338699341,-0.7353342771530151,0.6533432006835938,7.670592308044434,2.833854913711548,-0.8071385025978088,-2.432537317276001],\"type\":\"scatter3d\"}],                        {\"template\":{\"data\":{\"histogram2dcontour\":[{\"type\":\"histogram2dcontour\",\"colorbar\":{\"outlinewidth\":0,\"ticks\":\"\"},\"colorscale\":[[0.0,\"#0d0887\"],[0.1111111111111111,\"#46039f\"],[0.2222222222222222,\"#7201a8\"],[0.3333333333333333,\"#9c179e\"],[0.4444444444444444,\"#bd3786\"],[0.5555555555555556,\"#d8576b\"],[0.6666666666666666,\"#ed7953\"],[0.7777777777777778,\"#fb9f3a\"],[0.8888888888888888,\"#fdca26\"],[1.0,\"#f0f921\"]]}],\"choropleth\":[{\"type\":\"choropleth\",\"colorbar\":{\"outlinewidth\":0,\"ticks\":\"\"}}],\"histogram2d\":[{\"type\":\"histogram2d\",\"colorbar\":{\"outlinewidth\":0,\"ticks\":\"\"},\"colorscale\":[[0.0,\"#0d0887\"],[0.1111111111111111,\"#46039f\"],[0.2222222222222222,\"#7201a8\"],[0.3333333333333333,\"#9c179e\"],[0.4444444444444444,\"#bd3786\"],[0.5555555555555556,\"#d8576b\"],[0.6666666666666666,\"#ed7953\"],[0.7777777777777778,\"#fb9f3a\"],[0.8888888888888888,\"#fdca26\"],[1.0,\"#f0f921\"]]}],\"heatmap\":[{\"type\":\"heatmap\",\"colorbar\":{\"outlinewidth\":0,\"ticks\":\"\"},\"colorscale\":[[0.0,\"#0d0887\"],[0.1111111111111111,\"#46039f\"],[0.2222222222222222,\"#7201a8\"],[0.3333333333333333,\"#9c179e\"],[0.4444444444444444,\"#bd3786\"],[0.5555555555555556,\"#d8576b\"],[0.6666666666666666,\"#ed7953\"],[0.7777777777777778,\"#fb9f3a\"],[0.8888888888888888,\"#fdca26\"],[1.0,\"#f0f921\"]]}],\"heatmapgl\":[{\"type\":\"heatmapgl\",\"colorbar\":{\"outlinewidth\":0,\"ticks\":\"\"},\"colorscale\":[[0.0,\"#0d0887\"],[0.1111111111111111,\"#46039f\"],[0.2222222222222222,\"#7201a8\"],[0.3333333333333333,\"#9c179e\"],[0.4444444444444444,\"#bd3786\"],[0.5555555555555556,\"#d8576b\"],[0.6666666666666666,\"#ed7953\"],[0.7777777777777778,\"#fb9f3a\"],[0.8888888888888888,\"#fdca26\"],[1.0,\"#f0f921\"]]}],\"contourcarpet\":[{\"type\":\"contourcarpet\",\"colorbar\":{\"outlinewidth\":0,\"ticks\":\"\"}}],\"contour\":[{\"type\":\"contour\",\"colorbar\":{\"outlinewidth\":0,\"ticks\":\"\"},\"colorscale\":[[0.0,\"#0d0887\"],[0.1111111111111111,\"#46039f\"],[0.2222222222222222,\"#7201a8\"],[0.3333333333333333,\"#9c179e\"],[0.4444444444444444,\"#bd3786\"],[0.5555555555555556,\"#d8576b\"],[0.6666666666666666,\"#ed7953\"],[0.7777777777777778,\"#fb9f3a\"],[0.8888888888888888,\"#fdca26\"],[1.0,\"#f0f921\"]]}],\"surface\":[{\"type\":\"surface\",\"colorbar\":{\"outlinewidth\":0,\"ticks\":\"\"},\"colorscale\":[[0.0,\"#0d0887\"],[0.1111111111111111,\"#46039f\"],[0.2222222222222222,\"#7201a8\"],[0.3333333333333333,\"#9c179e\"],[0.4444444444444444,\"#bd3786\"],[0.5555555555555556,\"#d8576b\"],[0.6666666666666666,\"#ed7953\"],[0.7777777777777778,\"#fb9f3a\"],[0.8888888888888888,\"#fdca26\"],[1.0,\"#f0f921\"]]}],\"mesh3d\":[{\"type\":\"mesh3d\",\"colorbar\":{\"outlinewidth\":0,\"ticks\":\"\"}}],\"scatter\":[{\"fillpattern\":{\"fillmode\":\"overlay\",\"size\":10,\"solidity\":0.2},\"type\":\"scatter\"}],\"parcoords\":[{\"type\":\"parcoords\",\"line\":{\"colorbar\":{\"outlinewidth\":0,\"ticks\":\"\"}}}],\"scatterpolargl\":[{\"type\":\"scatterpolargl\",\"marker\":{\"colorbar\":{\"outlinewidth\":0,\"ticks\":\"\"}}}],\"bar\":[{\"error_x\":{\"color\":\"#2a3f5f\"},\"error_y\":{\"color\":\"#2a3f5f\"},\"marker\":{\"line\":{\"color\":\"#E5ECF6\",\"width\":0.5},\"pattern\":{\"fillmode\":\"overlay\",\"size\":10,\"solidity\":0.2}},\"type\":\"bar\"}],\"scattergeo\":[{\"type\":\"scattergeo\",\"marker\":{\"colorbar\":{\"outlinewidth\":0,\"ticks\":\"\"}}}],\"scatterpolar\":[{\"type\":\"scatterpolar\",\"marker\":{\"colorbar\":{\"outlinewidth\":0,\"ticks\":\"\"}}}],\"histogram\":[{\"marker\":{\"pattern\":{\"fillmode\":\"overlay\",\"size\":10,\"solidity\":0.2}},\"type\":\"histogram\"}],\"scattergl\":[{\"type\":\"scattergl\",\"marker\":{\"colorbar\":{\"outlinewidth\":0,\"ticks\":\"\"}}}],\"scatter3d\":[{\"type\":\"scatter3d\",\"line\":{\"colorbar\":{\"outlinewidth\":0,\"ticks\":\"\"}},\"marker\":{\"colorbar\":{\"outlinewidth\":0,\"ticks\":\"\"}}}],\"scattermapbox\":[{\"type\":\"scattermapbox\",\"marker\":{\"colorbar\":{\"outlinewidth\":0,\"ticks\":\"\"}}}],\"scatterternary\":[{\"type\":\"scatterternary\",\"marker\":{\"colorbar\":{\"outlinewidth\":0,\"ticks\":\"\"}}}],\"scattercarpet\":[{\"type\":\"scattercarpet\",\"marker\":{\"colorbar\":{\"outlinewidth\":0,\"ticks\":\"\"}}}],\"carpet\":[{\"aaxis\":{\"endlinecolor\":\"#2a3f5f\",\"gridcolor\":\"white\",\"linecolor\":\"white\",\"minorgridcolor\":\"white\",\"startlinecolor\":\"#2a3f5f\"},\"baxis\":{\"endlinecolor\":\"#2a3f5f\",\"gridcolor\":\"white\",\"linecolor\":\"white\",\"minorgridcolor\":\"white\",\"startlinecolor\":\"#2a3f5f\"},\"type\":\"carpet\"}],\"table\":[{\"cells\":{\"fill\":{\"color\":\"#EBF0F8\"},\"line\":{\"color\":\"white\"}},\"header\":{\"fill\":{\"color\":\"#C8D4E3\"},\"line\":{\"color\":\"white\"}},\"type\":\"table\"}],\"barpolar\":[{\"marker\":{\"line\":{\"color\":\"#E5ECF6\",\"width\":0.5},\"pattern\":{\"fillmode\":\"overlay\",\"size\":10,\"solidity\":0.2}},\"type\":\"barpolar\"}],\"pie\":[{\"automargin\":true,\"type\":\"pie\"}]},\"layout\":{\"autotypenumbers\":\"strict\",\"colorway\":[\"#636efa\",\"#EF553B\",\"#00cc96\",\"#ab63fa\",\"#FFA15A\",\"#19d3f3\",\"#FF6692\",\"#B6E880\",\"#FF97FF\",\"#FECB52\"],\"font\":{\"color\":\"#2a3f5f\"},\"hovermode\":\"closest\",\"hoverlabel\":{\"align\":\"left\"},\"paper_bgcolor\":\"white\",\"plot_bgcolor\":\"#E5ECF6\",\"polar\":{\"bgcolor\":\"#E5ECF6\",\"angularaxis\":{\"gridcolor\":\"white\",\"linecolor\":\"white\",\"ticks\":\"\"},\"radialaxis\":{\"gridcolor\":\"white\",\"linecolor\":\"white\",\"ticks\":\"\"}},\"ternary\":{\"bgcolor\":\"#E5ECF6\",\"aaxis\":{\"gridcolor\":\"white\",\"linecolor\":\"white\",\"ticks\":\"\"},\"baxis\":{\"gridcolor\":\"white\",\"linecolor\":\"white\",\"ticks\":\"\"},\"caxis\":{\"gridcolor\":\"white\",\"linecolor\":\"white\",\"ticks\":\"\"}},\"coloraxis\":{\"colorbar\":{\"outlinewidth\":0,\"ticks\":\"\"}},\"colorscale\":{\"sequential\":[[0.0,\"#0d0887\"],[0.1111111111111111,\"#46039f\"],[0.2222222222222222,\"#7201a8\"],[0.3333333333333333,\"#9c179e\"],[0.4444444444444444,\"#bd3786\"],[0.5555555555555556,\"#d8576b\"],[0.6666666666666666,\"#ed7953\"],[0.7777777777777778,\"#fb9f3a\"],[0.8888888888888888,\"#fdca26\"],[1.0,\"#f0f921\"]],\"sequentialminus\":[[0.0,\"#0d0887\"],[0.1111111111111111,\"#46039f\"],[0.2222222222222222,\"#7201a8\"],[0.3333333333333333,\"#9c179e\"],[0.4444444444444444,\"#bd3786\"],[0.5555555555555556,\"#d8576b\"],[0.6666666666666666,\"#ed7953\"],[0.7777777777777778,\"#fb9f3a\"],[0.8888888888888888,\"#fdca26\"],[1.0,\"#f0f921\"]],\"diverging\":[[0,\"#8e0152\"],[0.1,\"#c51b7d\"],[0.2,\"#de77ae\"],[0.3,\"#f1b6da\"],[0.4,\"#fde0ef\"],[0.5,\"#f7f7f7\"],[0.6,\"#e6f5d0\"],[0.7,\"#b8e186\"],[0.8,\"#7fbc41\"],[0.9,\"#4d9221\"],[1,\"#276419\"]]},\"xaxis\":{\"gridcolor\":\"white\",\"linecolor\":\"white\",\"ticks\":\"\",\"title\":{\"standoff\":15},\"zerolinecolor\":\"white\",\"automargin\":true,\"zerolinewidth\":2},\"yaxis\":{\"gridcolor\":\"white\",\"linecolor\":\"white\",\"ticks\":\"\",\"title\":{\"standoff\":15},\"zerolinecolor\":\"white\",\"automargin\":true,\"zerolinewidth\":2},\"scene\":{\"xaxis\":{\"backgroundcolor\":\"#E5ECF6\",\"gridcolor\":\"white\",\"linecolor\":\"white\",\"showbackground\":true,\"ticks\":\"\",\"zerolinecolor\":\"white\",\"gridwidth\":2},\"yaxis\":{\"backgroundcolor\":\"#E5ECF6\",\"gridcolor\":\"white\",\"linecolor\":\"white\",\"showbackground\":true,\"ticks\":\"\",\"zerolinecolor\":\"white\",\"gridwidth\":2},\"zaxis\":{\"backgroundcolor\":\"#E5ECF6\",\"gridcolor\":\"white\",\"linecolor\":\"white\",\"showbackground\":true,\"ticks\":\"\",\"zerolinecolor\":\"white\",\"gridwidth\":2}},\"shapedefaults\":{\"line\":{\"color\":\"#2a3f5f\"}},\"annotationdefaults\":{\"arrowcolor\":\"#2a3f5f\",\"arrowhead\":0,\"arrowwidth\":1},\"geo\":{\"bgcolor\":\"white\",\"landcolor\":\"#E5ECF6\",\"subunitcolor\":\"white\",\"showland\":true,\"showlakes\":true,\"lakecolor\":\"white\"},\"title\":{\"x\":0.05},\"mapbox\":{\"style\":\"light\"}}},\"scene\":{\"domain\":{\"x\":[0.0,1.0],\"y\":[0.0,1.0]},\"xaxis\":{\"title\":{\"text\":\"0\"}},\"yaxis\":{\"title\":{\"text\":\"1\"}},\"zaxis\":{\"title\":{\"text\":\"2\"}}},\"legend\":{\"title\":{\"text\":\"Dominant_Topic\"},\"tracegroupgap\":0},\"title\":{\"text\":\"3d TSNE Plot for Topic Model\"},\"height\":800,\"width\":900},                        {\"responsive\": true}                    ).then(function(){\n",
       "                            \n",
       "var gd = document.getElementById('96e0e2f1-5f60-4286-ad62-6b8ab539bb32');\n",
       "var x = new MutationObserver(function (mutations, observer) {{\n",
       "        var display = window.getComputedStyle(gd).display;\n",
       "        if (!display || display === 'none') {{\n",
       "            console.log([gd, 'removed!']);\n",
       "            Plotly.purge(gd);\n",
       "            observer.disconnect();\n",
       "        }}\n",
       "}});\n",
       "\n",
       "// Listen for the removal of the full notebook cells\n",
       "var notebookContainer = gd.closest('#notebook-container');\n",
       "if (notebookContainer) {{\n",
       "    x.observe(notebookContainer, {childList: true});\n",
       "}}\n",
       "\n",
       "// Listen for the clearing of the current output cell\n",
       "var outputEl = gd.closest('.output');\n",
       "if (outputEl) {{\n",
       "    x.observe(outputEl, {childList: true});\n",
       "}}\n",
       "\n",
       "                        })                };                });            </script>        </div>"
      ]
     },
     "metadata": {},
     "output_type": "display_data"
    }
   ],
   "source": [
    "plot_model(lsi, plot = 'tsne')"
   ]
  },
  {
   "cell_type": "markdown",
   "id": "74944f4a-f21c-457d-b8b8-e80c3ee7f054",
   "metadata": {},
   "source": [
    "### [UMAP: Uniform Manifold Approximation and Projection for Dimension Reduction](https://umap-learn.readthedocs.io/en/latest/index.html)"
   ]
  },
  {
   "cell_type": "code",
   "execution_count": 29,
   "id": "4c0a1fd8-bf81-41ae-ad06-b8822f8e2c87",
   "metadata": {},
   "outputs": [
    {
     "data": {
      "text/html": [
       "        <script type=\"text/javascript\">\n",
       "        window.PlotlyConfig = {MathJaxConfig: 'local'};\n",
       "        if (window.MathJax) {MathJax.Hub.Config({SVG: {font: \"STIX-Web\"}});}\n",
       "        if (typeof require !== 'undefined') {\n",
       "        require.undef(\"plotly\");\n",
       "        requirejs.config({\n",
       "            paths: {\n",
       "                'plotly': ['https://cdn.plot.ly/plotly-2.11.1.min']\n",
       "            }\n",
       "        });\n",
       "        require(['plotly'], function(Plotly) {\n",
       "            window._Plotly = Plotly;\n",
       "        });\n",
       "        }\n",
       "        </script>\n",
       "        "
      ]
     },
     "metadata": {},
     "output_type": "display_data"
    },
    {
     "data": {
      "image/png": "[encoded data removed]",
      "text/plain": [
       "<Figure size 720x432 with 1 Axes>"
      ]
     },
     "metadata": {},
     "output_type": "display_data"
    }
   ],
   "source": [
    "plot_model(lda, plot = 'umap')"
   ]
  },
  {
   "cell_type": "code",
   "execution_count": 30,
   "id": "83ed463f-e1e1-4a7e-8cf9-780fbf307e33",
   "metadata": {},
   "outputs": [
    {
     "data": {
      "application/vnd.jupyter.widget-view+json": {
       "model_id": "08041f846b8c4360877d9884732e8522",
       "version_major": 2,
       "version_minor": 0
      },
      "text/plain": [
       "interactive(children=(ToggleButtons(description='Plot Type:', icons=('',), options=(('Frequency Plot', 'freque…"
      ]
     },
     "metadata": {},
     "output_type": "display_data"
    }
   ],
   "source": [
    "evaluate_model(lda)"
   ]
  }
 ],
 "metadata": {
  "kernelspec": {
   "display_name": "Python 3 (ipykernel)",
   "language": "python",
   "name": "python3"
  },
  "language_info": {
   "codemirror_mode": {
    "name": "ipython",
    "version": 3
   },
   "file_extension": ".py",
   "mimetype": "text/x-python",
   "name": "python",
   "nbconvert_exporter": "python",
   "pygments_lexer": "ipython3",
   "version": "3.9.7"
  }
 },
 "nbformat": 4,
 "nbformat_minor": 5
}
