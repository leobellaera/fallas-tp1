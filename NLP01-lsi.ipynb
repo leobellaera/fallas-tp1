{
 "cells": [
  {
   "cell_type": "markdown",
   "id": "0047097e-bca0-4aab-ba94-abe9ce36b39a",
   "metadata": {
    "tags": []
   },
   "source": [
    "# LSI"
   ]
  },
  {
   "cell_type": "code",
   "execution_count": 1,
   "id": "592c7b5c",
   "metadata": {},
   "outputs": [],
   "source": [
    "import warnings\n",
    "warnings.filterwarnings('ignore')"
   ]
  },
  {
   "cell_type": "code",
   "execution_count": 2,
   "id": "6a6cf55d",
   "metadata": {},
   "outputs": [],
   "source": [
    "import pandas as pd"
   ]
  },
  {
   "cell_type": "code",
   "execution_count": 3,
   "id": "2c27f2e4",
   "metadata": {},
   "outputs": [],
   "source": [
    "import numpy as np"
   ]
  },
  {
   "cell_type": "code",
   "execution_count": 4,
   "id": "b172c4ce",
   "metadata": {},
   "outputs": [],
   "source": [
    "import pycaret as pc"
   ]
  },
  {
   "cell_type": "code",
   "execution_count": 5,
   "id": "e26aed0b",
   "metadata": {},
   "outputs": [],
   "source": [
    "import sklearn as sk"
   ]
  },
  {
   "cell_type": "code",
   "execution_count": 6,
   "id": "d88eab67",
   "metadata": {},
   "outputs": [],
   "source": [
    "from pycaret.nlp import *"
   ]
  },
  {
   "cell_type": "code",
   "execution_count": 7,
   "id": "b0da1c9a",
   "metadata": {},
   "outputs": [],
   "source": [
    "pd.set_option('display.max_columns', None)"
   ]
  },
  {
   "cell_type": "code",
   "execution_count": 8,
   "id": "2144cf21",
   "metadata": {},
   "outputs": [
    {
     "name": "stdout",
     "output_type": "stream",
     "text": [
      "Tokenization took: 39.55 ms\n",
      "Type conversion took: 45.39 ms\n",
      "Parser memory cleanup took: 0.01 ms\n"
     ]
    }
   ],
   "source": [
    "data = pd.read_csv(\"./kiva.csv\", sep=',', decimal='.', verbose= True, engine='c') "
   ]
  },
  {
   "cell_type": "code",
   "execution_count": 9,
   "id": "29221518",
   "metadata": {},
   "outputs": [
    {
     "data": {
      "text/plain": [
       "(6818, 7)"
      ]
     },
     "execution_count": 9,
     "metadata": {},
     "output_type": "execute_result"
    }
   ],
   "source": [
    "data.shape"
   ]
  },
  {
   "cell_type": "code",
   "execution_count": 10,
   "id": "623b9caa",
   "metadata": {},
   "outputs": [
    {
     "data": {
      "text/html": [
       "<div>\n",
       "<style scoped>\n",
       "    .dataframe tbody tr th:only-of-type {\n",
       "        vertical-align: middle;\n",
       "    }\n",
       "\n",
       "    .dataframe tbody tr th {\n",
       "        vertical-align: top;\n",
       "    }\n",
       "\n",
       "    .dataframe thead th {\n",
       "        text-align: right;\n",
       "    }\n",
       "</style>\n",
       "<table border=\"1\" class=\"dataframe\">\n",
       "  <thead>\n",
       "    <tr style=\"text-align: right;\">\n",
       "      <th></th>\n",
       "      <th>country</th>\n",
       "      <th>en</th>\n",
       "      <th>gender</th>\n",
       "      <th>loan_amount</th>\n",
       "      <th>nonpayment</th>\n",
       "      <th>sector</th>\n",
       "      <th>status</th>\n",
       "    </tr>\n",
       "  </thead>\n",
       "  <tbody>\n",
       "    <tr>\n",
       "      <th>0</th>\n",
       "      <td>Dominican Republic</td>\n",
       "      <td>\"Banco Esperanza\" is a group of 10 women looki...</td>\n",
       "      <td>F</td>\n",
       "      <td>1225</td>\n",
       "      <td>partner</td>\n",
       "      <td>Retail</td>\n",
       "      <td>0</td>\n",
       "    </tr>\n",
       "    <tr>\n",
       "      <th>1</th>\n",
       "      <td>Dominican Republic</td>\n",
       "      <td>\"Caminemos Hacia Adelante\" or \"Walking Forward...</td>\n",
       "      <td>F</td>\n",
       "      <td>1975</td>\n",
       "      <td>lender</td>\n",
       "      <td>Clothing</td>\n",
       "      <td>0</td>\n",
       "    </tr>\n",
       "    <tr>\n",
       "      <th>2</th>\n",
       "      <td>Dominican Republic</td>\n",
       "      <td>\"Creciendo Por La Union\" is a group of 10 peop...</td>\n",
       "      <td>F</td>\n",
       "      <td>2175</td>\n",
       "      <td>partner</td>\n",
       "      <td>Clothing</td>\n",
       "      <td>0</td>\n",
       "    </tr>\n",
       "    <tr>\n",
       "      <th>3</th>\n",
       "      <td>Dominican Republic</td>\n",
       "      <td>\"Cristo Vive\" (\"Christ lives\" is a group of 10...</td>\n",
       "      <td>F</td>\n",
       "      <td>1425</td>\n",
       "      <td>partner</td>\n",
       "      <td>Clothing</td>\n",
       "      <td>0</td>\n",
       "    </tr>\n",
       "    <tr>\n",
       "      <th>4</th>\n",
       "      <td>Dominican Republic</td>\n",
       "      <td>\"Cristo Vive\" is a large group of 35 people, 2...</td>\n",
       "      <td>F</td>\n",
       "      <td>4025</td>\n",
       "      <td>partner</td>\n",
       "      <td>Food</td>\n",
       "      <td>0</td>\n",
       "    </tr>\n",
       "  </tbody>\n",
       "</table>\n",
       "</div>"
      ],
      "text/plain": [
       "              country                                                 en  \\\n",
       "0  Dominican Republic  \"Banco Esperanza\" is a group of 10 women looki...   \n",
       "1  Dominican Republic  \"Caminemos Hacia Adelante\" or \"Walking Forward...   \n",
       "2  Dominican Republic  \"Creciendo Por La Union\" is a group of 10 peop...   \n",
       "3  Dominican Republic  \"Cristo Vive\" (\"Christ lives\" is a group of 10...   \n",
       "4  Dominican Republic  \"Cristo Vive\" is a large group of 35 people, 2...   \n",
       "\n",
       "  gender  loan_amount nonpayment    sector  status  \n",
       "0      F         1225    partner    Retail       0  \n",
       "1      F         1975     lender  Clothing       0  \n",
       "2      F         2175    partner  Clothing       0  \n",
       "3      F         1425    partner  Clothing       0  \n",
       "4      F         4025    partner      Food       0  "
      ]
     },
     "execution_count": 10,
     "metadata": {},
     "output_type": "execute_result"
    }
   ],
   "source": [
    "data.head()"
   ]
  },
  {
   "cell_type": "code",
   "execution_count": 11,
   "id": "289bc422",
   "metadata": {},
   "outputs": [],
   "source": [
    "data = data.sample(1000, random_state=786).reset_index(drop=True)"
   ]
  },
  {
   "cell_type": "code",
   "execution_count": 12,
   "id": "7662b5b7",
   "metadata": {},
   "outputs": [
    {
     "data": {
      "text/plain": [
       "(1000, 7)"
      ]
     },
     "execution_count": 12,
     "metadata": {},
     "output_type": "execute_result"
    }
   ],
   "source": [
    "data.shape"
   ]
  },
  {
   "cell_type": "code",
   "execution_count": 13,
   "id": "34e732d7",
   "metadata": {},
   "outputs": [
    {
     "data": {
      "text/html": [
       "<style type=\"text/css\">\n",
       "</style>\n",
       "<table id=\"T_09788_\">\n",
       "  <thead>\n",
       "    <tr>\n",
       "      <th class=\"col_heading level0 col0\" >Description</th>\n",
       "      <th class=\"col_heading level0 col1\" >Value</th>\n",
       "    </tr>\n",
       "  </thead>\n",
       "  <tbody>\n",
       "    <tr>\n",
       "      <td id=\"T_09788_row0_col0\" class=\"data row0 col0\" >session_id</td>\n",
       "      <td id=\"T_09788_row0_col1\" class=\"data row0 col1\" >101</td>\n",
       "    </tr>\n",
       "    <tr>\n",
       "      <td id=\"T_09788_row1_col0\" class=\"data row1 col0\" >Documents</td>\n",
       "      <td id=\"T_09788_row1_col1\" class=\"data row1 col1\" >1000</td>\n",
       "    </tr>\n",
       "    <tr>\n",
       "      <td id=\"T_09788_row2_col0\" class=\"data row2 col0\" >Vocab Size</td>\n",
       "      <td id=\"T_09788_row2_col1\" class=\"data row2 col1\" >4636</td>\n",
       "    </tr>\n",
       "    <tr>\n",
       "      <td id=\"T_09788_row3_col0\" class=\"data row3 col0\" >Custom Stopwords</td>\n",
       "      <td id=\"T_09788_row3_col1\" class=\"data row3 col1\" >True</td>\n",
       "    </tr>\n",
       "  </tbody>\n",
       "</table>\n"
      ],
      "text/plain": [
       "<pandas.io.formats.style.Styler at 0x13d57b070>"
      ]
     },
     "metadata": {},
     "output_type": "display_data"
    }
   ],
   "source": [
    "exp_nlp101 = setup(data = data, \n",
    "                   target = 'en', \n",
    "                   custom_stopwords = ['loan', 'income', 'usd', 'many', 'also', 'make', 'business', 'buy', \n",
    "                                       'sell', 'purchase','year', 'people', 'able', 'enable', 'old', 'woman',\n",
    "                                       'child', 'school'],\n",
    "                   session_id = 101,\n",
    "                   log_experiment = True,\n",
    "                   experiment_name = 'EX001')"
   ]
  },
  {
   "cell_type": "raw",
   "id": "04563699",
   "metadata": {},
   "source": [
    "data: pandas.Dataframe\n",
    "target: str - name of column containing text\n",
    "custom_stopwords: list\n",
    "html: bool, default = True - prevents runtime display of monitor\n",
    "session_id: int\n",
    "log_experiment: bool - MLFlow \n",
    "experiment_name: str \n",
    "experiment_custom_tags: dict - passed to the mlflow.set_tags to add new custom tags for the experiment\n",
    "log_plots: bool - certain plots are logged automatically in the MLFlow   \n",
    "log_data: bool - dataset is logged on the MLflow\n",
    "verbose: bool, default = True\n",
    "    Returns: Global variables that can be changed using the set_config function    "
   ]
  },
  {
   "cell_type": "code",
   "execution_count": 14,
   "id": "56a5ccec",
   "metadata": {},
   "outputs": [],
   "source": [
    "lsi = create_model('lsi', num_topics = 4, multi_core = True)"
   ]
  },
  {
   "cell_type": "raw",
   "id": "8b0c3ccc",
   "metadata": {},
   "source": [
    "Models available in the model library (ID - Name):\n",
    "'lda' - Latent Dirichlet Allocation\n",
    "'lsi' - Latent Semantic Indexing\n",
    "'hdp' - Hierarchical Dirichlet Process\n",
    "'rp'  - Random Projections\n",
    "'nmf' - Non-Negative Matrix Factorization"
   ]
  },
  {
   "cell_type": "raw",
   "id": "20314d7b",
   "metadata": {},
   "source": [
    "multi_core: bool\n",
    "topic_num: str - Topic number to be passed as a string\n",
    "save: string - Plot is saved as png file in the specified directory when the path to the directory is specified\n",
    "system: bool - Must remain True all times\n",
    "display_format: str - To display plots in Streamlit (https://www.streamlit.io/), set this to ‘streamlit’.    "
   ]
  },
  {
   "cell_type": "code",
   "execution_count": 15,
   "id": "60bb22d8",
   "metadata": {},
   "outputs": [
    {
     "name": "stdout",
     "output_type": "stream",
     "text": [
      "LsiModel(num_terms=4636, num_topics=4, decay=1.0, chunksize=20000)\n"
     ]
    }
   ],
   "source": [
    "print(lsi)"
   ]
  },
  {
   "cell_type": "code",
   "execution_count": 16,
   "id": "4d32dc82",
   "metadata": {},
   "outputs": [],
   "source": [
    "lsi_results = assign_model(lsi)"
   ]
  },
  {
   "cell_type": "code",
   "execution_count": 17,
   "id": "1d931907",
   "metadata": {},
   "outputs": [
    {
     "data": {
      "text/html": [
       "<div>\n",
       "<style scoped>\n",
       "    .dataframe tbody tr th:only-of-type {\n",
       "        vertical-align: middle;\n",
       "    }\n",
       "\n",
       "    .dataframe tbody tr th {\n",
       "        vertical-align: top;\n",
       "    }\n",
       "\n",
       "    .dataframe thead th {\n",
       "        text-align: right;\n",
       "    }\n",
       "</style>\n",
       "<table border=\"1\" class=\"dataframe\">\n",
       "  <thead>\n",
       "    <tr style=\"text-align: right;\">\n",
       "      <th></th>\n",
       "      <th>country</th>\n",
       "      <th>en</th>\n",
       "      <th>gender</th>\n",
       "      <th>loan_amount</th>\n",
       "      <th>nonpayment</th>\n",
       "      <th>sector</th>\n",
       "      <th>status</th>\n",
       "      <th>Topic_0</th>\n",
       "      <th>Topic_1</th>\n",
       "      <th>Topic_2</th>\n",
       "      <th>Topic_3</th>\n",
       "      <th>Dominant_Topic</th>\n",
       "    </tr>\n",
       "  </thead>\n",
       "  <tbody>\n",
       "    <tr>\n",
       "      <th>0</th>\n",
       "      <td>Kenya</td>\n",
       "      <td>praxide marry primary train tailor operate sma...</td>\n",
       "      <td>F</td>\n",
       "      <td>75</td>\n",
       "      <td>partner</td>\n",
       "      <td>Services</td>\n",
       "      <td>0</td>\n",
       "      <td>1.664004</td>\n",
       "      <td>-0.906823</td>\n",
       "      <td>-0.320738</td>\n",
       "      <td>1.404916</td>\n",
       "      <td>Topic 0</td>\n",
       "    </tr>\n",
       "    <tr>\n",
       "      <th>1</th>\n",
       "      <td>Kenya</td>\n",
       "      <td>gynaecology practitioner run live wife biologi...</td>\n",
       "      <td>M</td>\n",
       "      <td>1200</td>\n",
       "      <td>partner</td>\n",
       "      <td>Health</td>\n",
       "      <td>0</td>\n",
       "      <td>1.631761</td>\n",
       "      <td>-0.804836</td>\n",
       "      <td>0.423694</td>\n",
       "      <td>-0.297599</td>\n",
       "      <td>Topic 0</td>\n",
       "    </tr>\n",
       "    <tr>\n",
       "      <th>2</th>\n",
       "      <td>Dominican Republic</td>\n",
       "      <td>live boy girl range new use clothing support f...</td>\n",
       "      <td>F</td>\n",
       "      <td>150</td>\n",
       "      <td>partner</td>\n",
       "      <td>Clothing</td>\n",
       "      <td>0</td>\n",
       "      <td>2.422495</td>\n",
       "      <td>-0.606486</td>\n",
       "      <td>0.091512</td>\n",
       "      <td>0.380948</td>\n",
       "      <td>Topic 0</td>\n",
       "    </tr>\n",
       "    <tr>\n",
       "      <th>3</th>\n",
       "      <td>Kenya</td>\n",
       "      <td>phanice marry daughter secondary boy primary f...</td>\n",
       "      <td>F</td>\n",
       "      <td>150</td>\n",
       "      <td>lender</td>\n",
       "      <td>Services</td>\n",
       "      <td>1</td>\n",
       "      <td>1.336836</td>\n",
       "      <td>-0.750611</td>\n",
       "      <td>-0.180911</td>\n",
       "      <td>0.824824</td>\n",
       "      <td>Topic 0</td>\n",
       "    </tr>\n",
       "    <tr>\n",
       "      <th>4</th>\n",
       "      <td>Kenya</td>\n",
       "      <td>hotel last get good return competition increas...</td>\n",
       "      <td>F</td>\n",
       "      <td>300</td>\n",
       "      <td>lender</td>\n",
       "      <td>Food</td>\n",
       "      <td>1</td>\n",
       "      <td>1.163861</td>\n",
       "      <td>-0.906079</td>\n",
       "      <td>-0.120361</td>\n",
       "      <td>1.259996</td>\n",
       "      <td>Topic 3</td>\n",
       "    </tr>\n",
       "  </tbody>\n",
       "</table>\n",
       "</div>"
      ],
      "text/plain": [
       "              country                                                 en  \\\n",
       "0               Kenya  praxide marry primary train tailor operate sma...   \n",
       "1               Kenya  gynaecology practitioner run live wife biologi...   \n",
       "2  Dominican Republic  live boy girl range new use clothing support f...   \n",
       "3               Kenya  phanice marry daughter secondary boy primary f...   \n",
       "4               Kenya  hotel last get good return competition increas...   \n",
       "\n",
       "  gender  loan_amount nonpayment    sector  status   Topic_0   Topic_1  \\\n",
       "0      F           75    partner  Services       0  1.664004 -0.906823   \n",
       "1      M         1200    partner    Health       0  1.631761 -0.804836   \n",
       "2      F          150    partner  Clothing       0  2.422495 -0.606486   \n",
       "3      F          150     lender  Services       1  1.336836 -0.750611   \n",
       "4      F          300     lender      Food       1  1.163861 -0.906079   \n",
       "\n",
       "    Topic_2   Topic_3 Dominant_Topic  \n",
       "0 -0.320738  1.404916        Topic 0  \n",
       "1  0.423694 -0.297599        Topic 0  \n",
       "2  0.091512  0.380948        Topic 0  \n",
       "3 -0.180911  0.824824        Topic 0  \n",
       "4 -0.120361  1.259996        Topic 3  "
      ]
     },
     "execution_count": 17,
     "metadata": {},
     "output_type": "execute_result"
    }
   ],
   "source": [
    "lsi_results.head()"
   ]
  },
  {
   "cell_type": "code",
   "execution_count": 18,
   "id": "36a71f3e",
   "metadata": {},
   "outputs": [
    {
     "data": {
      "text/html": [
       "        <script type=\"text/javascript\">\n",
       "        window.PlotlyConfig = {MathJaxConfig: 'local'};\n",
       "        if (window.MathJax) {MathJax.Hub.Config({SVG: {font: \"STIX-Web\"}});}\n",
       "        if (typeof require !== 'undefined') {\n",
       "        require.undef(\"plotly\");\n",
       "        requirejs.config({\n",
       "            paths: {\n",
       "                'plotly': ['https://cdn.plot.ly/plotly-2.11.1.min']\n",
       "            }\n",
       "        });\n",
       "        require(['plotly'], function(Plotly) {\n",
       "            window._Plotly = Plotly;\n",
       "        });\n",
       "        }\n",
       "        </script>\n",
       "        "
      ]
     },
     "metadata": {},
     "output_type": "display_data"
    },
    {
     "data": {
      "application/vnd.plotly.v1+json": {
       "config": {
        "linkText": "Export to plot.ly",
        "plotlyServerURL": "https://plot.ly",
        "showLink": true
       },
       "data": [
        {
         "marker": {
          "color": "rgba(255, 153, 51, 0.6)",
          "line": {
           "color": "rgba(255, 153, 51, 1.0)",
           "width": 1
          }
         },
         "name": "count",
         "orientation": "v",
         "text": "",
         "type": "bar",
         "x": [
          "work",
          "family",
          "use",
          "start",
          "help",
          "group",
          "husband",
          "live",
          "small",
          "product",
          "well",
          "increase",
          "home",
          "customer",
          "good",
          "community",
          "marry",
          "need",
          "member",
          "request",
          "order",
          "hope",
          "expand",
          "new",
          "want",
          "time",
          "stock",
          "pay",
          "store",
          "provide",
          "grow",
          "go",
          "money",
          "get",
          "give",
          "improve",
          "market",
          "hard",
          "support",
          "sale",
          "clothing",
          "ago",
          "life",
          "entrepreneur",
          "run",
          "mother",
          "repay",
          "shop",
          "client",
          "first",
          "take",
          "clothe",
          "profit",
          "plan",
          "food",
          "area",
          "high",
          "continue",
          "education",
          "service",
          "house",
          "item",
          "capital",
          "invest",
          "large",
          "demand",
          "say",
          "day",
          "meet",
          "local",
          "operate",
          "offer",
          "fee",
          "month",
          "receive",
          "wife",
          "young",
          "supply",
          "currently",
          "age",
          "open",
          "keep",
          "begin",
          "still",
          "intend",
          "earn",
          "enough",
          "save",
          "experience",
          "milk",
          "attend",
          "second",
          "son",
          "farm",
          "daughter",
          "merchandise",
          "allow",
          "primary",
          "farmer",
          "due"
         ],
         "y": [
          584,
          526,
          509,
          476,
          434,
          421,
          417,
          402,
          396,
          387,
          370,
          335,
          311,
          306,
          306,
          301,
          298,
          287,
          259,
          258,
          254,
          244,
          240,
          240,
          236,
          235,
          234,
          233,
          232,
          220,
          214,
          206,
          204,
          198,
          197,
          196,
          188,
          188,
          187,
          184,
          180,
          178,
          177,
          176,
          174,
          172,
          171,
          169,
          169,
          169,
          168,
          167,
          165,
          165,
          163,
          159,
          154,
          152,
          149,
          147,
          142,
          140,
          139,
          139,
          135,
          134,
          132,
          128,
          128,
          127,
          126,
          125,
          125,
          124,
          124,
          122,
          120,
          118,
          115,
          114,
          114,
          113,
          111,
          111,
          110,
          110,
          109,
          105,
          104,
          103,
          102,
          101,
          101,
          100,
          98,
          98,
          97,
          96,
          95,
          94
         ]
        }
       ],
       "layout": {
        "autosize": true,
        "legend": {
         "bgcolor": "#F5F6F9",
         "font": {
          "color": "#4D5663"
         }
        },
        "paper_bgcolor": "#F5F6F9",
        "plot_bgcolor": "#F5F6F9",
        "template": {
         "data": {
          "bar": [
           {
            "error_x": {
             "color": "#2a3f5f"
            },
            "error_y": {
             "color": "#2a3f5f"
            },
            "marker": {
             "line": {
              "color": "#E5ECF6",
              "width": 0.5
             },
             "pattern": {
              "fillmode": "overlay",
              "size": 10,
              "solidity": 0.2
             }
            },
            "type": "bar"
           }
          ],
          "barpolar": [
           {
            "marker": {
             "line": {
              "color": "#E5ECF6",
              "width": 0.5
             },
             "pattern": {
              "fillmode": "overlay",
              "size": 10,
              "solidity": 0.2
             }
            },
            "type": "barpolar"
           }
          ],
          "carpet": [
           {
            "aaxis": {
             "endlinecolor": "#2a3f5f",
             "gridcolor": "white",
             "linecolor": "white",
             "minorgridcolor": "white",
             "startlinecolor": "#2a3f5f"
            },
            "baxis": {
             "endlinecolor": "#2a3f5f",
             "gridcolor": "white",
             "linecolor": "white",
             "minorgridcolor": "white",
             "startlinecolor": "#2a3f5f"
            },
            "type": "carpet"
           }
          ],
          "choropleth": [
           {
            "colorbar": {
             "outlinewidth": 0,
             "ticks": ""
            },
            "type": "choropleth"
           }
          ],
          "contour": [
           {
            "colorbar": {
             "outlinewidth": 0,
             "ticks": ""
            },
            "colorscale": [
             [
              0,
              "#0d0887"
             ],
             [
              0.1111111111111111,
              "#46039f"
             ],
             [
              0.2222222222222222,
              "#7201a8"
             ],
             [
              0.3333333333333333,
              "#9c179e"
             ],
             [
              0.4444444444444444,
              "#bd3786"
             ],
             [
              0.5555555555555556,
              "#d8576b"
             ],
             [
              0.6666666666666666,
              "#ed7953"
             ],
             [
              0.7777777777777778,
              "#fb9f3a"
             ],
             [
              0.8888888888888888,
              "#fdca26"
             ],
             [
              1,
              "#f0f921"
             ]
            ],
            "type": "contour"
           }
          ],
          "contourcarpet": [
           {
            "colorbar": {
             "outlinewidth": 0,
             "ticks": ""
            },
            "type": "contourcarpet"
           }
          ],
          "heatmap": [
           {
            "colorbar": {
             "outlinewidth": 0,
             "ticks": ""
            },
            "colorscale": [
             [
              0,
              "#0d0887"
             ],
             [
              0.1111111111111111,
              "#46039f"
             ],
             [
              0.2222222222222222,
              "#7201a8"
             ],
             [
              0.3333333333333333,
              "#9c179e"
             ],
             [
              0.4444444444444444,
              "#bd3786"
             ],
             [
              0.5555555555555556,
              "#d8576b"
             ],
             [
              0.6666666666666666,
              "#ed7953"
             ],
             [
              0.7777777777777778,
              "#fb9f3a"
             ],
             [
              0.8888888888888888,
              "#fdca26"
             ],
             [
              1,
              "#f0f921"
             ]
            ],
            "type": "heatmap"
           }
          ],
          "heatmapgl": [
           {
            "colorbar": {
             "outlinewidth": 0,
             "ticks": ""
            },
            "colorscale": [
             [
              0,
              "#0d0887"
             ],
             [
              0.1111111111111111,
              "#46039f"
             ],
             [
              0.2222222222222222,
              "#7201a8"
             ],
             [
              0.3333333333333333,
              "#9c179e"
             ],
             [
              0.4444444444444444,
              "#bd3786"
             ],
             [
              0.5555555555555556,
              "#d8576b"
             ],
             [
              0.6666666666666666,
              "#ed7953"
             ],
             [
              0.7777777777777778,
              "#fb9f3a"
             ],
             [
              0.8888888888888888,
              "#fdca26"
             ],
             [
              1,
              "#f0f921"
             ]
            ],
            "type": "heatmapgl"
           }
          ],
          "histogram": [
           {
            "marker": {
             "pattern": {
              "fillmode": "overlay",
              "size": 10,
              "solidity": 0.2
             }
            },
            "type": "histogram"
           }
          ],
          "histogram2d": [
           {
            "colorbar": {
             "outlinewidth": 0,
             "ticks": ""
            },
            "colorscale": [
             [
              0,
              "#0d0887"
             ],
             [
              0.1111111111111111,
              "#46039f"
             ],
             [
              0.2222222222222222,
              "#7201a8"
             ],
             [
              0.3333333333333333,
              "#9c179e"
             ],
             [
              0.4444444444444444,
              "#bd3786"
             ],
             [
              0.5555555555555556,
              "#d8576b"
             ],
             [
              0.6666666666666666,
              "#ed7953"
             ],
             [
              0.7777777777777778,
              "#fb9f3a"
             ],
             [
              0.8888888888888888,
              "#fdca26"
             ],
             [
              1,
              "#f0f921"
             ]
            ],
            "type": "histogram2d"
           }
          ],
          "histogram2dcontour": [
           {
            "colorbar": {
             "outlinewidth": 0,
             "ticks": ""
            },
            "colorscale": [
             [
              0,
              "#0d0887"
             ],
             [
              0.1111111111111111,
              "#46039f"
             ],
             [
              0.2222222222222222,
              "#7201a8"
             ],
             [
              0.3333333333333333,
              "#9c179e"
             ],
             [
              0.4444444444444444,
              "#bd3786"
             ],
             [
              0.5555555555555556,
              "#d8576b"
             ],
             [
              0.6666666666666666,
              "#ed7953"
             ],
             [
              0.7777777777777778,
              "#fb9f3a"
             ],
             [
              0.8888888888888888,
              "#fdca26"
             ],
             [
              1,
              "#f0f921"
             ]
            ],
            "type": "histogram2dcontour"
           }
          ],
          "mesh3d": [
           {
            "colorbar": {
             "outlinewidth": 0,
             "ticks": ""
            },
            "type": "mesh3d"
           }
          ],
          "parcoords": [
           {
            "line": {
             "colorbar": {
              "outlinewidth": 0,
              "ticks": ""
             }
            },
            "type": "parcoords"
           }
          ],
          "pie": [
           {
            "automargin": true,
            "type": "pie"
           }
          ],
          "scatter": [
           {
            "fillpattern": {
             "fillmode": "overlay",
             "size": 10,
             "solidity": 0.2
            },
            "type": "scatter"
           }
          ],
          "scatter3d": [
           {
            "line": {
             "colorbar": {
              "outlinewidth": 0,
              "ticks": ""
             }
            },
            "marker": {
             "colorbar": {
              "outlinewidth": 0,
              "ticks": ""
             }
            },
            "type": "scatter3d"
           }
          ],
          "scattercarpet": [
           {
            "marker": {
             "colorbar": {
              "outlinewidth": 0,
              "ticks": ""
             }
            },
            "type": "scattercarpet"
           }
          ],
          "scattergeo": [
           {
            "marker": {
             "colorbar": {
              "outlinewidth": 0,
              "ticks": ""
             }
            },
            "type": "scattergeo"
           }
          ],
          "scattergl": [
           {
            "marker": {
             "colorbar": {
              "outlinewidth": 0,
              "ticks": ""
             }
            },
            "type": "scattergl"
           }
          ],
          "scattermapbox": [
           {
            "marker": {
             "colorbar": {
              "outlinewidth": 0,
              "ticks": ""
             }
            },
            "type": "scattermapbox"
           }
          ],
          "scatterpolar": [
           {
            "marker": {
             "colorbar": {
              "outlinewidth": 0,
              "ticks": ""
             }
            },
            "type": "scatterpolar"
           }
          ],
          "scatterpolargl": [
           {
            "marker": {
             "colorbar": {
              "outlinewidth": 0,
              "ticks": ""
             }
            },
            "type": "scatterpolargl"
           }
          ],
          "scatterternary": [
           {
            "marker": {
             "colorbar": {
              "outlinewidth": 0,
              "ticks": ""
             }
            },
            "type": "scatterternary"
           }
          ],
          "surface": [
           {
            "colorbar": {
             "outlinewidth": 0,
             "ticks": ""
            },
            "colorscale": [
             [
              0,
              "#0d0887"
             ],
             [
              0.1111111111111111,
              "#46039f"
             ],
             [
              0.2222222222222222,
              "#7201a8"
             ],
             [
              0.3333333333333333,
              "#9c179e"
             ],
             [
              0.4444444444444444,
              "#bd3786"
             ],
             [
              0.5555555555555556,
              "#d8576b"
             ],
             [
              0.6666666666666666,
              "#ed7953"
             ],
             [
              0.7777777777777778,
              "#fb9f3a"
             ],
             [
              0.8888888888888888,
              "#fdca26"
             ],
             [
              1,
              "#f0f921"
             ]
            ],
            "type": "surface"
           }
          ],
          "table": [
           {
            "cells": {
             "fill": {
              "color": "#EBF0F8"
             },
             "line": {
              "color": "white"
             }
            },
            "header": {
             "fill": {
              "color": "#C8D4E3"
             },
             "line": {
              "color": "white"
             }
            },
            "type": "table"
           }
          ]
         },
         "layout": {
          "annotationdefaults": {
           "arrowcolor": "#2a3f5f",
           "arrowhead": 0,
           "arrowwidth": 1
          },
          "autotypenumbers": "strict",
          "coloraxis": {
           "colorbar": {
            "outlinewidth": 0,
            "ticks": ""
           }
          },
          "colorscale": {
           "diverging": [
            [
             0,
             "#8e0152"
            ],
            [
             0.1,
             "#c51b7d"
            ],
            [
             0.2,
             "#de77ae"
            ],
            [
             0.3,
             "#f1b6da"
            ],
            [
             0.4,
             "#fde0ef"
            ],
            [
             0.5,
             "#f7f7f7"
            ],
            [
             0.6,
             "#e6f5d0"
            ],
            [
             0.7,
             "#b8e186"
            ],
            [
             0.8,
             "#7fbc41"
            ],
            [
             0.9,
             "#4d9221"
            ],
            [
             1,
             "#276419"
            ]
           ],
           "sequential": [
            [
             0,
             "#0d0887"
            ],
            [
             0.1111111111111111,
             "#46039f"
            ],
            [
             0.2222222222222222,
             "#7201a8"
            ],
            [
             0.3333333333333333,
             "#9c179e"
            ],
            [
             0.4444444444444444,
             "#bd3786"
            ],
            [
             0.5555555555555556,
             "#d8576b"
            ],
            [
             0.6666666666666666,
             "#ed7953"
            ],
            [
             0.7777777777777778,
             "#fb9f3a"
            ],
            [
             0.8888888888888888,
             "#fdca26"
            ],
            [
             1,
             "#f0f921"
            ]
           ],
           "sequentialminus": [
            [
             0,
             "#0d0887"
            ],
            [
             0.1111111111111111,
             "#46039f"
            ],
            [
             0.2222222222222222,
             "#7201a8"
            ],
            [
             0.3333333333333333,
             "#9c179e"
            ],
            [
             0.4444444444444444,
             "#bd3786"
            ],
            [
             0.5555555555555556,
             "#d8576b"
            ],
            [
             0.6666666666666666,
             "#ed7953"
            ],
            [
             0.7777777777777778,
             "#fb9f3a"
            ],
            [
             0.8888888888888888,
             "#fdca26"
            ],
            [
             1,
             "#f0f921"
            ]
           ]
          },
          "colorway": [
           "#636efa",
           "#EF553B",
           "#00cc96",
           "#ab63fa",
           "#FFA15A",
           "#19d3f3",
           "#FF6692",
           "#B6E880",
           "#FF97FF",
           "#FECB52"
          ],
          "font": {
           "color": "#2a3f5f"
          },
          "geo": {
           "bgcolor": "white",
           "lakecolor": "white",
           "landcolor": "#E5ECF6",
           "showlakes": true,
           "showland": true,
           "subunitcolor": "white"
          },
          "hoverlabel": {
           "align": "left"
          },
          "hovermode": "closest",
          "mapbox": {
           "style": "light"
          },
          "paper_bgcolor": "white",
          "plot_bgcolor": "#E5ECF6",
          "polar": {
           "angularaxis": {
            "gridcolor": "white",
            "linecolor": "white",
            "ticks": ""
           },
           "bgcolor": "#E5ECF6",
           "radialaxis": {
            "gridcolor": "white",
            "linecolor": "white",
            "ticks": ""
           }
          },
          "scene": {
           "xaxis": {
            "backgroundcolor": "#E5ECF6",
            "gridcolor": "white",
            "gridwidth": 2,
            "linecolor": "white",
            "showbackground": true,
            "ticks": "",
            "zerolinecolor": "white"
           },
           "yaxis": {
            "backgroundcolor": "#E5ECF6",
            "gridcolor": "white",
            "gridwidth": 2,
            "linecolor": "white",
            "showbackground": true,
            "ticks": "",
            "zerolinecolor": "white"
           },
           "zaxis": {
            "backgroundcolor": "#E5ECF6",
            "gridcolor": "white",
            "gridwidth": 2,
            "linecolor": "white",
            "showbackground": true,
            "ticks": "",
            "zerolinecolor": "white"
           }
          },
          "shapedefaults": {
           "line": {
            "color": "#2a3f5f"
           }
          },
          "ternary": {
           "aaxis": {
            "gridcolor": "white",
            "linecolor": "white",
            "ticks": ""
           },
           "baxis": {
            "gridcolor": "white",
            "linecolor": "white",
            "ticks": ""
           },
           "bgcolor": "#E5ECF6",
           "caxis": {
            "gridcolor": "white",
            "linecolor": "white",
            "ticks": ""
           }
          },
          "title": {
           "x": 0.05
          },
          "xaxis": {
           "automargin": true,
           "gridcolor": "white",
           "linecolor": "white",
           "ticks": "",
           "title": {
            "standoff": 15
           },
           "zerolinecolor": "white",
           "zerolinewidth": 2
          },
          "yaxis": {
           "automargin": true,
           "gridcolor": "white",
           "linecolor": "white",
           "ticks": "",
           "title": {
            "standoff": 15
           },
           "zerolinecolor": "white",
           "zerolinewidth": 2
          }
         }
        },
        "title": {
         "font": {
          "color": "#4D5663"
         },
         "text": "Topic 0: Top 100 words after removing stop words"
        },
        "xaxis": {
         "autorange": true,
         "gridcolor": "#E1E5ED",
         "linecolor": "black",
         "range": [
          -0.5,
          99.5
         ],
         "showgrid": true,
         "tickfont": {
          "color": "#4D5663"
         },
         "title": {
          "font": {
           "color": "#4D5663"
          },
          "text": ""
         },
         "type": "category",
         "zerolinecolor": "#E1E5ED"
        },
        "yaxis": {
         "autorange": true,
         "gridcolor": "#E1E5ED",
         "linecolor": "black",
         "range": [
          0,
          614.7368421052631
         ],
         "showgrid": true,
         "tickfont": {
          "color": "#4D5663"
         },
         "title": {
          "font": {
           "color": "#4D5663"
          },
          "text": "Count"
         },
         "type": "linear",
         "zerolinecolor": "#E1E5ED"
        }
       }
      },
      "image/png": "[encoded data removed]",
      "text/html": [
       "<div>                            <div id=\"e879c260-1270-4653-ae01-28992be9a7bf\" class=\"plotly-graph-div\" style=\"height:525px; width:100%;\"></div>            <script type=\"text/javascript\">                require([\"plotly\"], function(Plotly) {                    window.PLOTLYENV=window.PLOTLYENV || {};\n",
       "                    window.PLOTLYENV.BASE_URL='https://plot.ly';                                    if (document.getElementById(\"e879c260-1270-4653-ae01-28992be9a7bf\")) {                    Plotly.newPlot(                        \"e879c260-1270-4653-ae01-28992be9a7bf\",                        [{\"marker\":{\"color\":\"rgba(255, 153, 51, 0.6)\",\"line\":{\"color\":\"rgba(255, 153, 51, 1.0)\",\"width\":1}},\"name\":\"count\",\"orientation\":\"v\",\"text\":\"\",\"x\":[\"work\",\"family\",\"use\",\"start\",\"help\",\"group\",\"husband\",\"live\",\"small\",\"product\",\"well\",\"increase\",\"home\",\"customer\",\"good\",\"community\",\"marry\",\"need\",\"member\",\"request\",\"order\",\"hope\",\"expand\",\"new\",\"want\",\"time\",\"stock\",\"pay\",\"store\",\"provide\",\"grow\",\"go\",\"money\",\"get\",\"give\",\"improve\",\"market\",\"hard\",\"support\",\"sale\",\"clothing\",\"ago\",\"life\",\"entrepreneur\",\"run\",\"mother\",\"repay\",\"shop\",\"client\",\"first\",\"take\",\"clothe\",\"profit\",\"plan\",\"food\",\"area\",\"high\",\"continue\",\"education\",\"service\",\"house\",\"item\",\"capital\",\"invest\",\"large\",\"demand\",\"say\",\"day\",\"meet\",\"local\",\"operate\",\"offer\",\"fee\",\"month\",\"receive\",\"wife\",\"young\",\"supply\",\"currently\",\"age\",\"open\",\"keep\",\"begin\",\"still\",\"intend\",\"earn\",\"enough\",\"save\",\"experience\",\"milk\",\"attend\",\"second\",\"son\",\"farm\",\"daughter\",\"merchandise\",\"allow\",\"primary\",\"farmer\",\"due\"],\"y\":[584,526,509,476,434,421,417,402,396,387,370,335,311,306,306,301,298,287,259,258,254,244,240,240,236,235,234,233,232,220,214,206,204,198,197,196,188,188,187,184,180,178,177,176,174,172,171,169,169,169,168,167,165,165,163,159,154,152,149,147,142,140,139,139,135,134,132,128,128,127,126,125,125,124,124,122,120,118,115,114,114,113,111,111,110,110,109,105,104,103,102,101,101,100,98,98,97,96,95,94],\"type\":\"bar\"}],                        {\"legend\":{\"bgcolor\":\"#F5F6F9\",\"font\":{\"color\":\"#4D5663\"}},\"paper_bgcolor\":\"#F5F6F9\",\"plot_bgcolor\":\"#F5F6F9\",\"template\":{\"data\":{\"barpolar\":[{\"marker\":{\"line\":{\"color\":\"#E5ECF6\",\"width\":0.5},\"pattern\":{\"fillmode\":\"overlay\",\"size\":10,\"solidity\":0.2}},\"type\":\"barpolar\"}],\"bar\":[{\"error_x\":{\"color\":\"#2a3f5f\"},\"error_y\":{\"color\":\"#2a3f5f\"},\"marker\":{\"line\":{\"color\":\"#E5ECF6\",\"width\":0.5},\"pattern\":{\"fillmode\":\"overlay\",\"size\":10,\"solidity\":0.2}},\"type\":\"bar\"}],\"carpet\":[{\"aaxis\":{\"endlinecolor\":\"#2a3f5f\",\"gridcolor\":\"white\",\"linecolor\":\"white\",\"minorgridcolor\":\"white\",\"startlinecolor\":\"#2a3f5f\"},\"baxis\":{\"endlinecolor\":\"#2a3f5f\",\"gridcolor\":\"white\",\"linecolor\":\"white\",\"minorgridcolor\":\"white\",\"startlinecolor\":\"#2a3f5f\"},\"type\":\"carpet\"}],\"choropleth\":[{\"colorbar\":{\"outlinewidth\":0,\"ticks\":\"\"},\"type\":\"choropleth\"}],\"contourcarpet\":[{\"colorbar\":{\"outlinewidth\":0,\"ticks\":\"\"},\"type\":\"contourcarpet\"}],\"contour\":[{\"colorbar\":{\"outlinewidth\":0,\"ticks\":\"\"},\"colorscale\":[[0.0,\"#0d0887\"],[0.1111111111111111,\"#46039f\"],[0.2222222222222222,\"#7201a8\"],[0.3333333333333333,\"#9c179e\"],[0.4444444444444444,\"#bd3786\"],[0.5555555555555556,\"#d8576b\"],[0.6666666666666666,\"#ed7953\"],[0.7777777777777778,\"#fb9f3a\"],[0.8888888888888888,\"#fdca26\"],[1.0,\"#f0f921\"]],\"type\":\"contour\"}],\"heatmapgl\":[{\"colorbar\":{\"outlinewidth\":0,\"ticks\":\"\"},\"colorscale\":[[0.0,\"#0d0887\"],[0.1111111111111111,\"#46039f\"],[0.2222222222222222,\"#7201a8\"],[0.3333333333333333,\"#9c179e\"],[0.4444444444444444,\"#bd3786\"],[0.5555555555555556,\"#d8576b\"],[0.6666666666666666,\"#ed7953\"],[0.7777777777777778,\"#fb9f3a\"],[0.8888888888888888,\"#fdca26\"],[1.0,\"#f0f921\"]],\"type\":\"heatmapgl\"}],\"heatmap\":[{\"colorbar\":{\"outlinewidth\":0,\"ticks\":\"\"},\"colorscale\":[[0.0,\"#0d0887\"],[0.1111111111111111,\"#46039f\"],[0.2222222222222222,\"#7201a8\"],[0.3333333333333333,\"#9c179e\"],[0.4444444444444444,\"#bd3786\"],[0.5555555555555556,\"#d8576b\"],[0.6666666666666666,\"#ed7953\"],[0.7777777777777778,\"#fb9f3a\"],[0.8888888888888888,\"#fdca26\"],[1.0,\"#f0f921\"]],\"type\":\"heatmap\"}],\"histogram2dcontour\":[{\"colorbar\":{\"outlinewidth\":0,\"ticks\":\"\"},\"colorscale\":[[0.0,\"#0d0887\"],[0.1111111111111111,\"#46039f\"],[0.2222222222222222,\"#7201a8\"],[0.3333333333333333,\"#9c179e\"],[0.4444444444444444,\"#bd3786\"],[0.5555555555555556,\"#d8576b\"],[0.6666666666666666,\"#ed7953\"],[0.7777777777777778,\"#fb9f3a\"],[0.8888888888888888,\"#fdca26\"],[1.0,\"#f0f921\"]],\"type\":\"histogram2dcontour\"}],\"histogram2d\":[{\"colorbar\":{\"outlinewidth\":0,\"ticks\":\"\"},\"colorscale\":[[0.0,\"#0d0887\"],[0.1111111111111111,\"#46039f\"],[0.2222222222222222,\"#7201a8\"],[0.3333333333333333,\"#9c179e\"],[0.4444444444444444,\"#bd3786\"],[0.5555555555555556,\"#d8576b\"],[0.6666666666666666,\"#ed7953\"],[0.7777777777777778,\"#fb9f3a\"],[0.8888888888888888,\"#fdca26\"],[1.0,\"#f0f921\"]],\"type\":\"histogram2d\"}],\"histogram\":[{\"marker\":{\"pattern\":{\"fillmode\":\"overlay\",\"size\":10,\"solidity\":0.2}},\"type\":\"histogram\"}],\"mesh3d\":[{\"colorbar\":{\"outlinewidth\":0,\"ticks\":\"\"},\"type\":\"mesh3d\"}],\"parcoords\":[{\"line\":{\"colorbar\":{\"outlinewidth\":0,\"ticks\":\"\"}},\"type\":\"parcoords\"}],\"pie\":[{\"automargin\":true,\"type\":\"pie\"}],\"scatter3d\":[{\"line\":{\"colorbar\":{\"outlinewidth\":0,\"ticks\":\"\"}},\"marker\":{\"colorbar\":{\"outlinewidth\":0,\"ticks\":\"\"}},\"type\":\"scatter3d\"}],\"scattercarpet\":[{\"marker\":{\"colorbar\":{\"outlinewidth\":0,\"ticks\":\"\"}},\"type\":\"scattercarpet\"}],\"scattergeo\":[{\"marker\":{\"colorbar\":{\"outlinewidth\":0,\"ticks\":\"\"}},\"type\":\"scattergeo\"}],\"scattergl\":[{\"marker\":{\"colorbar\":{\"outlinewidth\":0,\"ticks\":\"\"}},\"type\":\"scattergl\"}],\"scattermapbox\":[{\"marker\":{\"colorbar\":{\"outlinewidth\":0,\"ticks\":\"\"}},\"type\":\"scattermapbox\"}],\"scatterpolargl\":[{\"marker\":{\"colorbar\":{\"outlinewidth\":0,\"ticks\":\"\"}},\"type\":\"scatterpolargl\"}],\"scatterpolar\":[{\"marker\":{\"colorbar\":{\"outlinewidth\":0,\"ticks\":\"\"}},\"type\":\"scatterpolar\"}],\"scatter\":[{\"fillpattern\":{\"fillmode\":\"overlay\",\"size\":10,\"solidity\":0.2},\"type\":\"scatter\"}],\"scatterternary\":[{\"marker\":{\"colorbar\":{\"outlinewidth\":0,\"ticks\":\"\"}},\"type\":\"scatterternary\"}],\"surface\":[{\"colorbar\":{\"outlinewidth\":0,\"ticks\":\"\"},\"colorscale\":[[0.0,\"#0d0887\"],[0.1111111111111111,\"#46039f\"],[0.2222222222222222,\"#7201a8\"],[0.3333333333333333,\"#9c179e\"],[0.4444444444444444,\"#bd3786\"],[0.5555555555555556,\"#d8576b\"],[0.6666666666666666,\"#ed7953\"],[0.7777777777777778,\"#fb9f3a\"],[0.8888888888888888,\"#fdca26\"],[1.0,\"#f0f921\"]],\"type\":\"surface\"}],\"table\":[{\"cells\":{\"fill\":{\"color\":\"#EBF0F8\"},\"line\":{\"color\":\"white\"}},\"header\":{\"fill\":{\"color\":\"#C8D4E3\"},\"line\":{\"color\":\"white\"}},\"type\":\"table\"}]},\"layout\":{\"annotationdefaults\":{\"arrowcolor\":\"#2a3f5f\",\"arrowhead\":0,\"arrowwidth\":1},\"autotypenumbers\":\"strict\",\"coloraxis\":{\"colorbar\":{\"outlinewidth\":0,\"ticks\":\"\"}},\"colorscale\":{\"diverging\":[[0,\"#8e0152\"],[0.1,\"#c51b7d\"],[0.2,\"#de77ae\"],[0.3,\"#f1b6da\"],[0.4,\"#fde0ef\"],[0.5,\"#f7f7f7\"],[0.6,\"#e6f5d0\"],[0.7,\"#b8e186\"],[0.8,\"#7fbc41\"],[0.9,\"#4d9221\"],[1,\"#276419\"]],\"sequential\":[[0.0,\"#0d0887\"],[0.1111111111111111,\"#46039f\"],[0.2222222222222222,\"#7201a8\"],[0.3333333333333333,\"#9c179e\"],[0.4444444444444444,\"#bd3786\"],[0.5555555555555556,\"#d8576b\"],[0.6666666666666666,\"#ed7953\"],[0.7777777777777778,\"#fb9f3a\"],[0.8888888888888888,\"#fdca26\"],[1.0,\"#f0f921\"]],\"sequentialminus\":[[0.0,\"#0d0887\"],[0.1111111111111111,\"#46039f\"],[0.2222222222222222,\"#7201a8\"],[0.3333333333333333,\"#9c179e\"],[0.4444444444444444,\"#bd3786\"],[0.5555555555555556,\"#d8576b\"],[0.6666666666666666,\"#ed7953\"],[0.7777777777777778,\"#fb9f3a\"],[0.8888888888888888,\"#fdca26\"],[1.0,\"#f0f921\"]]},\"colorway\":[\"#636efa\",\"#EF553B\",\"#00cc96\",\"#ab63fa\",\"#FFA15A\",\"#19d3f3\",\"#FF6692\",\"#B6E880\",\"#FF97FF\",\"#FECB52\"],\"font\":{\"color\":\"#2a3f5f\"},\"geo\":{\"bgcolor\":\"white\",\"lakecolor\":\"white\",\"landcolor\":\"#E5ECF6\",\"showlakes\":true,\"showland\":true,\"subunitcolor\":\"white\"},\"hoverlabel\":{\"align\":\"left\"},\"hovermode\":\"closest\",\"mapbox\":{\"style\":\"light\"},\"paper_bgcolor\":\"white\",\"plot_bgcolor\":\"#E5ECF6\",\"polar\":{\"angularaxis\":{\"gridcolor\":\"white\",\"linecolor\":\"white\",\"ticks\":\"\"},\"bgcolor\":\"#E5ECF6\",\"radialaxis\":{\"gridcolor\":\"white\",\"linecolor\":\"white\",\"ticks\":\"\"}},\"scene\":{\"xaxis\":{\"backgroundcolor\":\"#E5ECF6\",\"gridcolor\":\"white\",\"gridwidth\":2,\"linecolor\":\"white\",\"showbackground\":true,\"ticks\":\"\",\"zerolinecolor\":\"white\"},\"yaxis\":{\"backgroundcolor\":\"#E5ECF6\",\"gridcolor\":\"white\",\"gridwidth\":2,\"linecolor\":\"white\",\"showbackground\":true,\"ticks\":\"\",\"zerolinecolor\":\"white\"},\"zaxis\":{\"backgroundcolor\":\"#E5ECF6\",\"gridcolor\":\"white\",\"gridwidth\":2,\"linecolor\":\"white\",\"showbackground\":true,\"ticks\":\"\",\"zerolinecolor\":\"white\"}},\"shapedefaults\":{\"line\":{\"color\":\"#2a3f5f\"}},\"ternary\":{\"aaxis\":{\"gridcolor\":\"white\",\"linecolor\":\"white\",\"ticks\":\"\"},\"baxis\":{\"gridcolor\":\"white\",\"linecolor\":\"white\",\"ticks\":\"\"},\"bgcolor\":\"#E5ECF6\",\"caxis\":{\"gridcolor\":\"white\",\"linecolor\":\"white\",\"ticks\":\"\"}},\"title\":{\"x\":0.05},\"xaxis\":{\"automargin\":true,\"gridcolor\":\"white\",\"linecolor\":\"white\",\"ticks\":\"\",\"title\":{\"standoff\":15},\"zerolinecolor\":\"white\",\"zerolinewidth\":2},\"yaxis\":{\"automargin\":true,\"gridcolor\":\"white\",\"linecolor\":\"white\",\"ticks\":\"\",\"title\":{\"standoff\":15},\"zerolinecolor\":\"white\",\"zerolinewidth\":2}}},\"title\":{\"font\":{\"color\":\"#4D5663\"},\"text\":\"Topic 0: Top 100 words after removing stop words\"},\"xaxis\":{\"gridcolor\":\"#E1E5ED\",\"linecolor\":\"black\",\"showgrid\":true,\"tickfont\":{\"color\":\"#4D5663\"},\"title\":{\"font\":{\"color\":\"#4D5663\"},\"text\":\"\"},\"zerolinecolor\":\"#E1E5ED\"},\"yaxis\":{\"gridcolor\":\"#E1E5ED\",\"linecolor\":\"black\",\"showgrid\":true,\"tickfont\":{\"color\":\"#4D5663\"},\"title\":{\"font\":{\"color\":\"#4D5663\"},\"text\":\"Count\"},\"zerolinecolor\":\"#E1E5ED\"}},                        {\"showLink\": true, \"linkText\": \"Export to plot.ly\", \"plotlyServerURL\": \"https://plot.ly\", \"responsive\": true}                    ).then(function(){\n",
       "                            \n",
       "var gd = document.getElementById('e879c260-1270-4653-ae01-28992be9a7bf');\n",
       "var x = new MutationObserver(function (mutations, observer) {{\n",
       "        var display = window.getComputedStyle(gd).display;\n",
       "        if (!display || display === 'none') {{\n",
       "            console.log([gd, 'removed!']);\n",
       "            Plotly.purge(gd);\n",
       "            observer.disconnect();\n",
       "        }}\n",
       "}});\n",
       "\n",
       "// Listen for the removal of the full notebook cells\n",
       "var notebookContainer = gd.closest('#notebook-container');\n",
       "if (notebookContainer) {{\n",
       "    x.observe(notebookContainer, {childList: true});\n",
       "}}\n",
       "\n",
       "// Listen for the clearing of the current output cell\n",
       "var outputEl = gd.closest('.output');\n",
       "if (outputEl) {{\n",
       "    x.observe(outputEl, {childList: true});\n",
       "}}\n",
       "\n",
       "                        })                };                });            </script>        </div>"
      ]
     },
     "metadata": {},
     "output_type": "display_data"
    }
   ],
   "source": [
    "plot_model(lsi)"
   ]
  },
  {
   "cell_type": "raw",
   "id": "ba224c76",
   "metadata": {},
   "source": [
    "List of available plots (ID - Name):\n",
    "Word Token Frequency - 'frequency'\n",
    "Word Distribution Plot - 'distribution'\n",
    "Bigram Frequency Plot - 'bigram'\n",
    "Trigram Frequency Plot - 'trigram'\n",
    "Sentiment Polarity Plot - 'sentiment'\n",
    "Part of Speech Frequency - 'pos'\n",
    "t-SNE (3d) Dimension Plot - 'tsne'\n",
    "Topic Model (pyLDAvis) - 'topic_model'\n",
    "Topic Infer Distribution - 'topic_distribution'\n",
    "Wordcloud - 'wordcloud'\n",
    "UMAP Dimensionality Plot - 'umap'"
   ]
  },
  {
   "cell_type": "code",
   "execution_count": 19,
   "id": "02305ba3",
   "metadata": {},
   "outputs": [
    {
     "data": {
      "text/html": [
       "        <script type=\"text/javascript\">\n",
       "        window.PlotlyConfig = {MathJaxConfig: 'local'};\n",
       "        if (window.MathJax) {MathJax.Hub.Config({SVG: {font: \"STIX-Web\"}});}\n",
       "        if (typeof require !== 'undefined') {\n",
       "        require.undef(\"plotly\");\n",
       "        requirejs.config({\n",
       "            paths: {\n",
       "                'plotly': ['https://cdn.plot.ly/plotly-2.11.1.min']\n",
       "            }\n",
       "        });\n",
       "        require(['plotly'], function(Plotly) {\n",
       "            window._Plotly = Plotly;\n",
       "        });\n",
       "        }\n",
       "        </script>\n",
       "        "
      ]
     },
     "metadata": {},
     "output_type": "display_data"
    },
    {
     "data": {
      "application/vnd.plotly.v1+json": {
       "config": {
        "linkText": "Export to plot.ly",
        "plotlyServerURL": "https://plot.ly",
        "showLink": true
       },
       "data": [
        {
         "marker": {
          "color": "rgba(255, 153, 51, 0.6)",
          "line": {
           "color": "rgba(255, 153, 51, 1.0)",
           "width": 1
          }
         },
         "name": "count",
         "orientation": "v",
         "text": "",
         "type": "bar",
         "x": [
          "work hard",
          "pay fee",
          "hard work",
          "increase stock",
          "start small",
          "group member",
          "husband work",
          "support family",
          "start ago",
          "member group",
          "live husband",
          "programs_information_microfinance_ecuador services_please_visit_href",
          "provide family",
          "mifex_offers_client microinsurance_access_training_educational",
          "microinsurance_access_training_educational programs_information_microfinance_ecuador",
          "run small",
          "may_represent_higher_default risk_willing_accept_additional",
          "plan use",
          "kenya_security_situation_communitie businesses_lenders_entrepreneur_aware",
          "well life",
          "businesses_lenders_entrepreneur_aware may_represent_higher_default",
          "risk_willing_accept_additional risk_making",
          "high demand",
          "provide well",
          "pay back",
          "operate small",
          "help husband",
          "enough money",
          "small store",
          "beauty product",
          "customer need",
          "intend use",
          "husband help",
          "want expand",
          "quality life",
          "request budget",
          "local community",
          "save money",
          "attract new",
          "large quantity",
          "add stock",
          "increase revenue",
          "family member",
          "increase profit",
          "rural area",
          "sale increase",
          "family need",
          "start help",
          "store home",
          "therefore request",
          "use clothe",
          "improve family",
          "need order",
          "meet customer",
          "marry primary",
          "improve quality",
          "familys need",
          "increase sale",
          "request second",
          "decide start",
          "boy girl",
          "month ago",
          "use money",
          "meet need",
          "continue grow",
          "use clothing",
          "small shop",
          "repay time",
          "local market",
          "bear ago",
          "good education",
          "continue improve",
          "use new",
          "meet demand",
          "help increase",
          "long time",
          "new product",
          "request use",
          "family live",
          "begin ago",
          "variety product",
          "marry live",
          "use follow",
          "help support",
          "give well",
          "family well",
          "receive first",
          "separate husband",
          "customer demand",
          "save enough",
          "keep work",
          "life family",
          "help family",
          "children education",
          "offer product",
          "money earn",
          "request intend",
          "well know",
          "join group",
          "wife work"
         ],
         "y": [
          70,
          63,
          62,
          48,
          48,
          47,
          46,
          41,
          40,
          38,
          38,
          38,
          35,
          34,
          32,
          29,
          28,
          28,
          28,
          28,
          28,
          28,
          27,
          27,
          25,
          25,
          24,
          24,
          24,
          24,
          24,
          23,
          22,
          22,
          21,
          21,
          21,
          20,
          19,
          19,
          19,
          19,
          18,
          18,
          18,
          18,
          18,
          18,
          18,
          18,
          18,
          18,
          18,
          18,
          18,
          17,
          17,
          17,
          17,
          16,
          16,
          16,
          16,
          16,
          16,
          16,
          16,
          16,
          16,
          16,
          16,
          15,
          15,
          15,
          15,
          15,
          15,
          15,
          14,
          14,
          14,
          14,
          14,
          14,
          14,
          14,
          14,
          14,
          14,
          14,
          14,
          14,
          13,
          13,
          13,
          13,
          13,
          13,
          13,
          13
         ]
        }
       ],
       "layout": {
        "autosize": true,
        "legend": {
         "bgcolor": "#F5F6F9",
         "font": {
          "color": "#4D5663"
         }
        },
        "paper_bgcolor": "#F5F6F9",
        "plot_bgcolor": "#F5F6F9",
        "template": {
         "data": {
          "bar": [
           {
            "error_x": {
             "color": "#2a3f5f"
            },
            "error_y": {
             "color": "#2a3f5f"
            },
            "marker": {
             "line": {
              "color": "#E5ECF6",
              "width": 0.5
             },
             "pattern": {
              "fillmode": "overlay",
              "size": 10,
              "solidity": 0.2
             }
            },
            "type": "bar"
           }
          ],
          "barpolar": [
           {
            "marker": {
             "line": {
              "color": "#E5ECF6",
              "width": 0.5
             },
             "pattern": {
              "fillmode": "overlay",
              "size": 10,
              "solidity": 0.2
             }
            },
            "type": "barpolar"
           }
          ],
          "carpet": [
           {
            "aaxis": {
             "endlinecolor": "#2a3f5f",
             "gridcolor": "white",
             "linecolor": "white",
             "minorgridcolor": "white",
             "startlinecolor": "#2a3f5f"
            },
            "baxis": {
             "endlinecolor": "#2a3f5f",
             "gridcolor": "white",
             "linecolor": "white",
             "minorgridcolor": "white",
             "startlinecolor": "#2a3f5f"
            },
            "type": "carpet"
           }
          ],
          "choropleth": [
           {
            "colorbar": {
             "outlinewidth": 0,
             "ticks": ""
            },
            "type": "choropleth"
           }
          ],
          "contour": [
           {
            "colorbar": {
             "outlinewidth": 0,
             "ticks": ""
            },
            "colorscale": [
             [
              0,
              "#0d0887"
             ],
             [
              0.1111111111111111,
              "#46039f"
             ],
             [
              0.2222222222222222,
              "#7201a8"
             ],
             [
              0.3333333333333333,
              "#9c179e"
             ],
             [
              0.4444444444444444,
              "#bd3786"
             ],
             [
              0.5555555555555556,
              "#d8576b"
             ],
             [
              0.6666666666666666,
              "#ed7953"
             ],
             [
              0.7777777777777778,
              "#fb9f3a"
             ],
             [
              0.8888888888888888,
              "#fdca26"
             ],
             [
              1,
              "#f0f921"
             ]
            ],
            "type": "contour"
           }
          ],
          "contourcarpet": [
           {
            "colorbar": {
             "outlinewidth": 0,
             "ticks": ""
            },
            "type": "contourcarpet"
           }
          ],
          "heatmap": [
           {
            "colorbar": {
             "outlinewidth": 0,
             "ticks": ""
            },
            "colorscale": [
             [
              0,
              "#0d0887"
             ],
             [
              0.1111111111111111,
              "#46039f"
             ],
             [
              0.2222222222222222,
              "#7201a8"
             ],
             [
              0.3333333333333333,
              "#9c179e"
             ],
             [
              0.4444444444444444,
              "#bd3786"
             ],
             [
              0.5555555555555556,
              "#d8576b"
             ],
             [
              0.6666666666666666,
              "#ed7953"
             ],
             [
              0.7777777777777778,
              "#fb9f3a"
             ],
             [
              0.8888888888888888,
              "#fdca26"
             ],
             [
              1,
              "#f0f921"
             ]
            ],
            "type": "heatmap"
           }
          ],
          "heatmapgl": [
           {
            "colorbar": {
             "outlinewidth": 0,
             "ticks": ""
            },
            "colorscale": [
             [
              0,
              "#0d0887"
             ],
             [
              0.1111111111111111,
              "#46039f"
             ],
             [
              0.2222222222222222,
              "#7201a8"
             ],
             [
              0.3333333333333333,
              "#9c179e"
             ],
             [
              0.4444444444444444,
              "#bd3786"
             ],
             [
              0.5555555555555556,
              "#d8576b"
             ],
             [
              0.6666666666666666,
              "#ed7953"
             ],
             [
              0.7777777777777778,
              "#fb9f3a"
             ],
             [
              0.8888888888888888,
              "#fdca26"
             ],
             [
              1,
              "#f0f921"
             ]
            ],
            "type": "heatmapgl"
           }
          ],
          "histogram": [
           {
            "marker": {
             "pattern": {
              "fillmode": "overlay",
              "size": 10,
              "solidity": 0.2
             }
            },
            "type": "histogram"
           }
          ],
          "histogram2d": [
           {
            "colorbar": {
             "outlinewidth": 0,
             "ticks": ""
            },
            "colorscale": [
             [
              0,
              "#0d0887"
             ],
             [
              0.1111111111111111,
              "#46039f"
             ],
             [
              0.2222222222222222,
              "#7201a8"
             ],
             [
              0.3333333333333333,
              "#9c179e"
             ],
             [
              0.4444444444444444,
              "#bd3786"
             ],
             [
              0.5555555555555556,
              "#d8576b"
             ],
             [
              0.6666666666666666,
              "#ed7953"
             ],
             [
              0.7777777777777778,
              "#fb9f3a"
             ],
             [
              0.8888888888888888,
              "#fdca26"
             ],
             [
              1,
              "#f0f921"
             ]
            ],
            "type": "histogram2d"
           }
          ],
          "histogram2dcontour": [
           {
            "colorbar": {
             "outlinewidth": 0,
             "ticks": ""
            },
            "colorscale": [
             [
              0,
              "#0d0887"
             ],
             [
              0.1111111111111111,
              "#46039f"
             ],
             [
              0.2222222222222222,
              "#7201a8"
             ],
             [
              0.3333333333333333,
              "#9c179e"
             ],
             [
              0.4444444444444444,
              "#bd3786"
             ],
             [
              0.5555555555555556,
              "#d8576b"
             ],
             [
              0.6666666666666666,
              "#ed7953"
             ],
             [
              0.7777777777777778,
              "#fb9f3a"
             ],
             [
              0.8888888888888888,
              "#fdca26"
             ],
             [
              1,
              "#f0f921"
             ]
            ],
            "type": "histogram2dcontour"
           }
          ],
          "mesh3d": [
           {
            "colorbar": {
             "outlinewidth": 0,
             "ticks": ""
            },
            "type": "mesh3d"
           }
          ],
          "parcoords": [
           {
            "line": {
             "colorbar": {
              "outlinewidth": 0,
              "ticks": ""
             }
            },
            "type": "parcoords"
           }
          ],
          "pie": [
           {
            "automargin": true,
            "type": "pie"
           }
          ],
          "scatter": [
           {
            "fillpattern": {
             "fillmode": "overlay",
             "size": 10,
             "solidity": 0.2
            },
            "type": "scatter"
           }
          ],
          "scatter3d": [
           {
            "line": {
             "colorbar": {
              "outlinewidth": 0,
              "ticks": ""
             }
            },
            "marker": {
             "colorbar": {
              "outlinewidth": 0,
              "ticks": ""
             }
            },
            "type": "scatter3d"
           }
          ],
          "scattercarpet": [
           {
            "marker": {
             "colorbar": {
              "outlinewidth": 0,
              "ticks": ""
             }
            },
            "type": "scattercarpet"
           }
          ],
          "scattergeo": [
           {
            "marker": {
             "colorbar": {
              "outlinewidth": 0,
              "ticks": ""
             }
            },
            "type": "scattergeo"
           }
          ],
          "scattergl": [
           {
            "marker": {
             "colorbar": {
              "outlinewidth": 0,
              "ticks": ""
             }
            },
            "type": "scattergl"
           }
          ],
          "scattermapbox": [
           {
            "marker": {
             "colorbar": {
              "outlinewidth": 0,
              "ticks": ""
             }
            },
            "type": "scattermapbox"
           }
          ],
          "scatterpolar": [
           {
            "marker": {
             "colorbar": {
              "outlinewidth": 0,
              "ticks": ""
             }
            },
            "type": "scatterpolar"
           }
          ],
          "scatterpolargl": [
           {
            "marker": {
             "colorbar": {
              "outlinewidth": 0,
              "ticks": ""
             }
            },
            "type": "scatterpolargl"
           }
          ],
          "scatterternary": [
           {
            "marker": {
             "colorbar": {
              "outlinewidth": 0,
              "ticks": ""
             }
            },
            "type": "scatterternary"
           }
          ],
          "surface": [
           {
            "colorbar": {
             "outlinewidth": 0,
             "ticks": ""
            },
            "colorscale": [
             [
              0,
              "#0d0887"
             ],
             [
              0.1111111111111111,
              "#46039f"
             ],
             [
              0.2222222222222222,
              "#7201a8"
             ],
             [
              0.3333333333333333,
              "#9c179e"
             ],
             [
              0.4444444444444444,
              "#bd3786"
             ],
             [
              0.5555555555555556,
              "#d8576b"
             ],
             [
              0.6666666666666666,
              "#ed7953"
             ],
             [
              0.7777777777777778,
              "#fb9f3a"
             ],
             [
              0.8888888888888888,
              "#fdca26"
             ],
             [
              1,
              "#f0f921"
             ]
            ],
            "type": "surface"
           }
          ],
          "table": [
           {
            "cells": {
             "fill": {
              "color": "#EBF0F8"
             },
             "line": {
              "color": "white"
             }
            },
            "header": {
             "fill": {
              "color": "#C8D4E3"
             },
             "line": {
              "color": "white"
             }
            },
            "type": "table"
           }
          ]
         },
         "layout": {
          "annotationdefaults": {
           "arrowcolor": "#2a3f5f",
           "arrowhead": 0,
           "arrowwidth": 1
          },
          "autotypenumbers": "strict",
          "coloraxis": {
           "colorbar": {
            "outlinewidth": 0,
            "ticks": ""
           }
          },
          "colorscale": {
           "diverging": [
            [
             0,
             "#8e0152"
            ],
            [
             0.1,
             "#c51b7d"
            ],
            [
             0.2,
             "#de77ae"
            ],
            [
             0.3,
             "#f1b6da"
            ],
            [
             0.4,
             "#fde0ef"
            ],
            [
             0.5,
             "#f7f7f7"
            ],
            [
             0.6,
             "#e6f5d0"
            ],
            [
             0.7,
             "#b8e186"
            ],
            [
             0.8,
             "#7fbc41"
            ],
            [
             0.9,
             "#4d9221"
            ],
            [
             1,
             "#276419"
            ]
           ],
           "sequential": [
            [
             0,
             "#0d0887"
            ],
            [
             0.1111111111111111,
             "#46039f"
            ],
            [
             0.2222222222222222,
             "#7201a8"
            ],
            [
             0.3333333333333333,
             "#9c179e"
            ],
            [
             0.4444444444444444,
             "#bd3786"
            ],
            [
             0.5555555555555556,
             "#d8576b"
            ],
            [
             0.6666666666666666,
             "#ed7953"
            ],
            [
             0.7777777777777778,
             "#fb9f3a"
            ],
            [
             0.8888888888888888,
             "#fdca26"
            ],
            [
             1,
             "#f0f921"
            ]
           ],
           "sequentialminus": [
            [
             0,
             "#0d0887"
            ],
            [
             0.1111111111111111,
             "#46039f"
            ],
            [
             0.2222222222222222,
             "#7201a8"
            ],
            [
             0.3333333333333333,
             "#9c179e"
            ],
            [
             0.4444444444444444,
             "#bd3786"
            ],
            [
             0.5555555555555556,
             "#d8576b"
            ],
            [
             0.6666666666666666,
             "#ed7953"
            ],
            [
             0.7777777777777778,
             "#fb9f3a"
            ],
            [
             0.8888888888888888,
             "#fdca26"
            ],
            [
             1,
             "#f0f921"
            ]
           ]
          },
          "colorway": [
           "#636efa",
           "#EF553B",
           "#00cc96",
           "#ab63fa",
           "#FFA15A",
           "#19d3f3",
           "#FF6692",
           "#B6E880",
           "#FF97FF",
           "#FECB52"
          ],
          "font": {
           "color": "#2a3f5f"
          },
          "geo": {
           "bgcolor": "white",
           "lakecolor": "white",
           "landcolor": "#E5ECF6",
           "showlakes": true,
           "showland": true,
           "subunitcolor": "white"
          },
          "hoverlabel": {
           "align": "left"
          },
          "hovermode": "closest",
          "mapbox": {
           "style": "light"
          },
          "paper_bgcolor": "white",
          "plot_bgcolor": "#E5ECF6",
          "polar": {
           "angularaxis": {
            "gridcolor": "white",
            "linecolor": "white",
            "ticks": ""
           },
           "bgcolor": "#E5ECF6",
           "radialaxis": {
            "gridcolor": "white",
            "linecolor": "white",
            "ticks": ""
           }
          },
          "scene": {
           "xaxis": {
            "backgroundcolor": "#E5ECF6",
            "gridcolor": "white",
            "gridwidth": 2,
            "linecolor": "white",
            "showbackground": true,
            "ticks": "",
            "zerolinecolor": "white"
           },
           "yaxis": {
            "backgroundcolor": "#E5ECF6",
            "gridcolor": "white",
            "gridwidth": 2,
            "linecolor": "white",
            "showbackground": true,
            "ticks": "",
            "zerolinecolor": "white"
           },
           "zaxis": {
            "backgroundcolor": "#E5ECF6",
            "gridcolor": "white",
            "gridwidth": 2,
            "linecolor": "white",
            "showbackground": true,
            "ticks": "",
            "zerolinecolor": "white"
           }
          },
          "shapedefaults": {
           "line": {
            "color": "#2a3f5f"
           }
          },
          "ternary": {
           "aaxis": {
            "gridcolor": "white",
            "linecolor": "white",
            "ticks": ""
           },
           "baxis": {
            "gridcolor": "white",
            "linecolor": "white",
            "ticks": ""
           },
           "bgcolor": "#E5ECF6",
           "caxis": {
            "gridcolor": "white",
            "linecolor": "white",
            "ticks": ""
           }
          },
          "title": {
           "x": 0.05
          },
          "xaxis": {
           "automargin": true,
           "gridcolor": "white",
           "linecolor": "white",
           "ticks": "",
           "title": {
            "standoff": 15
           },
           "zerolinecolor": "white",
           "zerolinewidth": 2
          },
          "yaxis": {
           "automargin": true,
           "gridcolor": "white",
           "linecolor": "white",
           "ticks": "",
           "title": {
            "standoff": 15
           },
           "zerolinecolor": "white",
           "zerolinewidth": 2
          }
         }
        },
        "title": {
         "font": {
          "color": "#4D5663"
         },
         "text": "Topic 0: Top 100 bigrams after removing stop words"
        },
        "xaxis": {
         "autorange": true,
         "gridcolor": "#E1E5ED",
         "linecolor": "black",
         "range": [
          -0.5,
          99.5
         ],
         "showgrid": true,
         "tickfont": {
          "color": "#4D5663"
         },
         "title": {
          "font": {
           "color": "#4D5663"
          },
          "text": ""
         },
         "type": "category",
         "zerolinecolor": "#E1E5ED"
        },
        "yaxis": {
         "autorange": true,
         "gridcolor": "#E1E5ED",
         "linecolor": "black",
         "range": [
          0,
          73.6842105263158
         ],
         "showgrid": true,
         "tickfont": {
          "color": "#4D5663"
         },
         "title": {
          "font": {
           "color": "#4D5663"
          },
          "text": "Count"
         },
         "type": "linear",
         "zerolinecolor": "#E1E5ED"
        }
       }
      },
      "image/png": "[encoded data removed]",
      "text/html": [
       "<div>                            <div id=\"ac50450f-a8cb-4787-b1af-dbdfb695bb9b\" class=\"plotly-graph-div\" style=\"height:525px; width:100%;\"></div>            <script type=\"text/javascript\">                require([\"plotly\"], function(Plotly) {                    window.PLOTLYENV=window.PLOTLYENV || {};\n",
       "                    window.PLOTLYENV.BASE_URL='https://plot.ly';                                    if (document.getElementById(\"ac50450f-a8cb-4787-b1af-dbdfb695bb9b\")) {                    Plotly.newPlot(                        \"ac50450f-a8cb-4787-b1af-dbdfb695bb9b\",                        [{\"marker\":{\"color\":\"rgba(255, 153, 51, 0.6)\",\"line\":{\"color\":\"rgba(255, 153, 51, 1.0)\",\"width\":1}},\"name\":\"count\",\"orientation\":\"v\",\"text\":\"\",\"x\":[\"work hard\",\"pay fee\",\"hard work\",\"increase stock\",\"start small\",\"group member\",\"husband work\",\"support family\",\"start ago\",\"member group\",\"live husband\",\"programs_information_microfinance_ecuador services_please_visit_href\",\"provide family\",\"mifex_offers_client microinsurance_access_training_educational\",\"microinsurance_access_training_educational programs_information_microfinance_ecuador\",\"run small\",\"may_represent_higher_default risk_willing_accept_additional\",\"plan use\",\"kenya_security_situation_communitie businesses_lenders_entrepreneur_aware\",\"well life\",\"businesses_lenders_entrepreneur_aware may_represent_higher_default\",\"risk_willing_accept_additional risk_making\",\"high demand\",\"provide well\",\"pay back\",\"operate small\",\"help husband\",\"enough money\",\"small store\",\"beauty product\",\"customer need\",\"intend use\",\"husband help\",\"want expand\",\"quality life\",\"request budget\",\"local community\",\"save money\",\"attract new\",\"large quantity\",\"add stock\",\"increase revenue\",\"family member\",\"increase profit\",\"rural area\",\"sale increase\",\"family need\",\"start help\",\"store home\",\"therefore request\",\"use clothe\",\"improve family\",\"need order\",\"meet customer\",\"marry primary\",\"improve quality\",\"familys need\",\"increase sale\",\"request second\",\"decide start\",\"boy girl\",\"month ago\",\"use money\",\"meet need\",\"continue grow\",\"use clothing\",\"small shop\",\"repay time\",\"local market\",\"bear ago\",\"good education\",\"continue improve\",\"use new\",\"meet demand\",\"help increase\",\"long time\",\"new product\",\"request use\",\"family live\",\"begin ago\",\"variety product\",\"marry live\",\"use follow\",\"help support\",\"give well\",\"family well\",\"receive first\",\"separate husband\",\"customer demand\",\"save enough\",\"keep work\",\"life family\",\"help family\",\"children education\",\"offer product\",\"money earn\",\"request intend\",\"well know\",\"join group\",\"wife work\"],\"y\":[70,63,62,48,48,47,46,41,40,38,38,38,35,34,32,29,28,28,28,28,28,28,27,27,25,25,24,24,24,24,24,23,22,22,21,21,21,20,19,19,19,19,18,18,18,18,18,18,18,18,18,18,18,18,18,17,17,17,17,16,16,16,16,16,16,16,16,16,16,16,16,15,15,15,15,15,15,15,14,14,14,14,14,14,14,14,14,14,14,14,14,14,13,13,13,13,13,13,13,13],\"type\":\"bar\"}],                        {\"legend\":{\"bgcolor\":\"#F5F6F9\",\"font\":{\"color\":\"#4D5663\"}},\"paper_bgcolor\":\"#F5F6F9\",\"plot_bgcolor\":\"#F5F6F9\",\"template\":{\"data\":{\"barpolar\":[{\"marker\":{\"line\":{\"color\":\"#E5ECF6\",\"width\":0.5},\"pattern\":{\"fillmode\":\"overlay\",\"size\":10,\"solidity\":0.2}},\"type\":\"barpolar\"}],\"bar\":[{\"error_x\":{\"color\":\"#2a3f5f\"},\"error_y\":{\"color\":\"#2a3f5f\"},\"marker\":{\"line\":{\"color\":\"#E5ECF6\",\"width\":0.5},\"pattern\":{\"fillmode\":\"overlay\",\"size\":10,\"solidity\":0.2}},\"type\":\"bar\"}],\"carpet\":[{\"aaxis\":{\"endlinecolor\":\"#2a3f5f\",\"gridcolor\":\"white\",\"linecolor\":\"white\",\"minorgridcolor\":\"white\",\"startlinecolor\":\"#2a3f5f\"},\"baxis\":{\"endlinecolor\":\"#2a3f5f\",\"gridcolor\":\"white\",\"linecolor\":\"white\",\"minorgridcolor\":\"white\",\"startlinecolor\":\"#2a3f5f\"},\"type\":\"carpet\"}],\"choropleth\":[{\"colorbar\":{\"outlinewidth\":0,\"ticks\":\"\"},\"type\":\"choropleth\"}],\"contourcarpet\":[{\"colorbar\":{\"outlinewidth\":0,\"ticks\":\"\"},\"type\":\"contourcarpet\"}],\"contour\":[{\"colorbar\":{\"outlinewidth\":0,\"ticks\":\"\"},\"colorscale\":[[0.0,\"#0d0887\"],[0.1111111111111111,\"#46039f\"],[0.2222222222222222,\"#7201a8\"],[0.3333333333333333,\"#9c179e\"],[0.4444444444444444,\"#bd3786\"],[0.5555555555555556,\"#d8576b\"],[0.6666666666666666,\"#ed7953\"],[0.7777777777777778,\"#fb9f3a\"],[0.8888888888888888,\"#fdca26\"],[1.0,\"#f0f921\"]],\"type\":\"contour\"}],\"heatmapgl\":[{\"colorbar\":{\"outlinewidth\":0,\"ticks\":\"\"},\"colorscale\":[[0.0,\"#0d0887\"],[0.1111111111111111,\"#46039f\"],[0.2222222222222222,\"#7201a8\"],[0.3333333333333333,\"#9c179e\"],[0.4444444444444444,\"#bd3786\"],[0.5555555555555556,\"#d8576b\"],[0.6666666666666666,\"#ed7953\"],[0.7777777777777778,\"#fb9f3a\"],[0.8888888888888888,\"#fdca26\"],[1.0,\"#f0f921\"]],\"type\":\"heatmapgl\"}],\"heatmap\":[{\"colorbar\":{\"outlinewidth\":0,\"ticks\":\"\"},\"colorscale\":[[0.0,\"#0d0887\"],[0.1111111111111111,\"#46039f\"],[0.2222222222222222,\"#7201a8\"],[0.3333333333333333,\"#9c179e\"],[0.4444444444444444,\"#bd3786\"],[0.5555555555555556,\"#d8576b\"],[0.6666666666666666,\"#ed7953\"],[0.7777777777777778,\"#fb9f3a\"],[0.8888888888888888,\"#fdca26\"],[1.0,\"#f0f921\"]],\"type\":\"heatmap\"}],\"histogram2dcontour\":[{\"colorbar\":{\"outlinewidth\":0,\"ticks\":\"\"},\"colorscale\":[[0.0,\"#0d0887\"],[0.1111111111111111,\"#46039f\"],[0.2222222222222222,\"#7201a8\"],[0.3333333333333333,\"#9c179e\"],[0.4444444444444444,\"#bd3786\"],[0.5555555555555556,\"#d8576b\"],[0.6666666666666666,\"#ed7953\"],[0.7777777777777778,\"#fb9f3a\"],[0.8888888888888888,\"#fdca26\"],[1.0,\"#f0f921\"]],\"type\":\"histogram2dcontour\"}],\"histogram2d\":[{\"colorbar\":{\"outlinewidth\":0,\"ticks\":\"\"},\"colorscale\":[[0.0,\"#0d0887\"],[0.1111111111111111,\"#46039f\"],[0.2222222222222222,\"#7201a8\"],[0.3333333333333333,\"#9c179e\"],[0.4444444444444444,\"#bd3786\"],[0.5555555555555556,\"#d8576b\"],[0.6666666666666666,\"#ed7953\"],[0.7777777777777778,\"#fb9f3a\"],[0.8888888888888888,\"#fdca26\"],[1.0,\"#f0f921\"]],\"type\":\"histogram2d\"}],\"histogram\":[{\"marker\":{\"pattern\":{\"fillmode\":\"overlay\",\"size\":10,\"solidity\":0.2}},\"type\":\"histogram\"}],\"mesh3d\":[{\"colorbar\":{\"outlinewidth\":0,\"ticks\":\"\"},\"type\":\"mesh3d\"}],\"parcoords\":[{\"line\":{\"colorbar\":{\"outlinewidth\":0,\"ticks\":\"\"}},\"type\":\"parcoords\"}],\"pie\":[{\"automargin\":true,\"type\":\"pie\"}],\"scatter3d\":[{\"line\":{\"colorbar\":{\"outlinewidth\":0,\"ticks\":\"\"}},\"marker\":{\"colorbar\":{\"outlinewidth\":0,\"ticks\":\"\"}},\"type\":\"scatter3d\"}],\"scattercarpet\":[{\"marker\":{\"colorbar\":{\"outlinewidth\":0,\"ticks\":\"\"}},\"type\":\"scattercarpet\"}],\"scattergeo\":[{\"marker\":{\"colorbar\":{\"outlinewidth\":0,\"ticks\":\"\"}},\"type\":\"scattergeo\"}],\"scattergl\":[{\"marker\":{\"colorbar\":{\"outlinewidth\":0,\"ticks\":\"\"}},\"type\":\"scattergl\"}],\"scattermapbox\":[{\"marker\":{\"colorbar\":{\"outlinewidth\":0,\"ticks\":\"\"}},\"type\":\"scattermapbox\"}],\"scatterpolargl\":[{\"marker\":{\"colorbar\":{\"outlinewidth\":0,\"ticks\":\"\"}},\"type\":\"scatterpolargl\"}],\"scatterpolar\":[{\"marker\":{\"colorbar\":{\"outlinewidth\":0,\"ticks\":\"\"}},\"type\":\"scatterpolar\"}],\"scatter\":[{\"fillpattern\":{\"fillmode\":\"overlay\",\"size\":10,\"solidity\":0.2},\"type\":\"scatter\"}],\"scatterternary\":[{\"marker\":{\"colorbar\":{\"outlinewidth\":0,\"ticks\":\"\"}},\"type\":\"scatterternary\"}],\"surface\":[{\"colorbar\":{\"outlinewidth\":0,\"ticks\":\"\"},\"colorscale\":[[0.0,\"#0d0887\"],[0.1111111111111111,\"#46039f\"],[0.2222222222222222,\"#7201a8\"],[0.3333333333333333,\"#9c179e\"],[0.4444444444444444,\"#bd3786\"],[0.5555555555555556,\"#d8576b\"],[0.6666666666666666,\"#ed7953\"],[0.7777777777777778,\"#fb9f3a\"],[0.8888888888888888,\"#fdca26\"],[1.0,\"#f0f921\"]],\"type\":\"surface\"}],\"table\":[{\"cells\":{\"fill\":{\"color\":\"#EBF0F8\"},\"line\":{\"color\":\"white\"}},\"header\":{\"fill\":{\"color\":\"#C8D4E3\"},\"line\":{\"color\":\"white\"}},\"type\":\"table\"}]},\"layout\":{\"annotationdefaults\":{\"arrowcolor\":\"#2a3f5f\",\"arrowhead\":0,\"arrowwidth\":1},\"autotypenumbers\":\"strict\",\"coloraxis\":{\"colorbar\":{\"outlinewidth\":0,\"ticks\":\"\"}},\"colorscale\":{\"diverging\":[[0,\"#8e0152\"],[0.1,\"#c51b7d\"],[0.2,\"#de77ae\"],[0.3,\"#f1b6da\"],[0.4,\"#fde0ef\"],[0.5,\"#f7f7f7\"],[0.6,\"#e6f5d0\"],[0.7,\"#b8e186\"],[0.8,\"#7fbc41\"],[0.9,\"#4d9221\"],[1,\"#276419\"]],\"sequential\":[[0.0,\"#0d0887\"],[0.1111111111111111,\"#46039f\"],[0.2222222222222222,\"#7201a8\"],[0.3333333333333333,\"#9c179e\"],[0.4444444444444444,\"#bd3786\"],[0.5555555555555556,\"#d8576b\"],[0.6666666666666666,\"#ed7953\"],[0.7777777777777778,\"#fb9f3a\"],[0.8888888888888888,\"#fdca26\"],[1.0,\"#f0f921\"]],\"sequentialminus\":[[0.0,\"#0d0887\"],[0.1111111111111111,\"#46039f\"],[0.2222222222222222,\"#7201a8\"],[0.3333333333333333,\"#9c179e\"],[0.4444444444444444,\"#bd3786\"],[0.5555555555555556,\"#d8576b\"],[0.6666666666666666,\"#ed7953\"],[0.7777777777777778,\"#fb9f3a\"],[0.8888888888888888,\"#fdca26\"],[1.0,\"#f0f921\"]]},\"colorway\":[\"#636efa\",\"#EF553B\",\"#00cc96\",\"#ab63fa\",\"#FFA15A\",\"#19d3f3\",\"#FF6692\",\"#B6E880\",\"#FF97FF\",\"#FECB52\"],\"font\":{\"color\":\"#2a3f5f\"},\"geo\":{\"bgcolor\":\"white\",\"lakecolor\":\"white\",\"landcolor\":\"#E5ECF6\",\"showlakes\":true,\"showland\":true,\"subunitcolor\":\"white\"},\"hoverlabel\":{\"align\":\"left\"},\"hovermode\":\"closest\",\"mapbox\":{\"style\":\"light\"},\"paper_bgcolor\":\"white\",\"plot_bgcolor\":\"#E5ECF6\",\"polar\":{\"angularaxis\":{\"gridcolor\":\"white\",\"linecolor\":\"white\",\"ticks\":\"\"},\"bgcolor\":\"#E5ECF6\",\"radialaxis\":{\"gridcolor\":\"white\",\"linecolor\":\"white\",\"ticks\":\"\"}},\"scene\":{\"xaxis\":{\"backgroundcolor\":\"#E5ECF6\",\"gridcolor\":\"white\",\"gridwidth\":2,\"linecolor\":\"white\",\"showbackground\":true,\"ticks\":\"\",\"zerolinecolor\":\"white\"},\"yaxis\":{\"backgroundcolor\":\"#E5ECF6\",\"gridcolor\":\"white\",\"gridwidth\":2,\"linecolor\":\"white\",\"showbackground\":true,\"ticks\":\"\",\"zerolinecolor\":\"white\"},\"zaxis\":{\"backgroundcolor\":\"#E5ECF6\",\"gridcolor\":\"white\",\"gridwidth\":2,\"linecolor\":\"white\",\"showbackground\":true,\"ticks\":\"\",\"zerolinecolor\":\"white\"}},\"shapedefaults\":{\"line\":{\"color\":\"#2a3f5f\"}},\"ternary\":{\"aaxis\":{\"gridcolor\":\"white\",\"linecolor\":\"white\",\"ticks\":\"\"},\"baxis\":{\"gridcolor\":\"white\",\"linecolor\":\"white\",\"ticks\":\"\"},\"bgcolor\":\"#E5ECF6\",\"caxis\":{\"gridcolor\":\"white\",\"linecolor\":\"white\",\"ticks\":\"\"}},\"title\":{\"x\":0.05},\"xaxis\":{\"automargin\":true,\"gridcolor\":\"white\",\"linecolor\":\"white\",\"ticks\":\"\",\"title\":{\"standoff\":15},\"zerolinecolor\":\"white\",\"zerolinewidth\":2},\"yaxis\":{\"automargin\":true,\"gridcolor\":\"white\",\"linecolor\":\"white\",\"ticks\":\"\",\"title\":{\"standoff\":15},\"zerolinecolor\":\"white\",\"zerolinewidth\":2}}},\"title\":{\"font\":{\"color\":\"#4D5663\"},\"text\":\"Topic 0: Top 100 bigrams after removing stop words\"},\"xaxis\":{\"gridcolor\":\"#E1E5ED\",\"linecolor\":\"black\",\"showgrid\":true,\"tickfont\":{\"color\":\"#4D5663\"},\"title\":{\"font\":{\"color\":\"#4D5663\"},\"text\":\"\"},\"zerolinecolor\":\"#E1E5ED\"},\"yaxis\":{\"gridcolor\":\"#E1E5ED\",\"linecolor\":\"black\",\"showgrid\":true,\"tickfont\":{\"color\":\"#4D5663\"},\"title\":{\"font\":{\"color\":\"#4D5663\"},\"text\":\"Count\"},\"zerolinecolor\":\"#E1E5ED\"}},                        {\"showLink\": true, \"linkText\": \"Export to plot.ly\", \"plotlyServerURL\": \"https://plot.ly\", \"responsive\": true}                    ).then(function(){\n",
       "                            \n",
       "var gd = document.getElementById('ac50450f-a8cb-4787-b1af-dbdfb695bb9b');\n",
       "var x = new MutationObserver(function (mutations, observer) {{\n",
       "        var display = window.getComputedStyle(gd).display;\n",
       "        if (!display || display === 'none') {{\n",
       "            console.log([gd, 'removed!']);\n",
       "            Plotly.purge(gd);\n",
       "            observer.disconnect();\n",
       "        }}\n",
       "}});\n",
       "\n",
       "// Listen for the removal of the full notebook cells\n",
       "var notebookContainer = gd.closest('#notebook-container');\n",
       "if (notebookContainer) {{\n",
       "    x.observe(notebookContainer, {childList: true});\n",
       "}}\n",
       "\n",
       "// Listen for the clearing of the current output cell\n",
       "var outputEl = gd.closest('.output');\n",
       "if (outputEl) {{\n",
       "    x.observe(outputEl, {childList: true});\n",
       "}}\n",
       "\n",
       "                        })                };                });            </script>        </div>"
      ]
     },
     "metadata": {},
     "output_type": "display_data"
    }
   ],
   "source": [
    "plot_model(model=lsi, plot = 'bigram')"
   ]
  },
  {
   "cell_type": "code",
   "execution_count": 20,
   "id": "2fb4fa3d",
   "metadata": {},
   "outputs": [
    {
     "data": {
      "text/html": [
       "        <script type=\"text/javascript\">\n",
       "        window.PlotlyConfig = {MathJaxConfig: 'local'};\n",
       "        if (window.MathJax) {MathJax.Hub.Config({SVG: {font: \"STIX-Web\"}});}\n",
       "        if (typeof require !== 'undefined') {\n",
       "        require.undef(\"plotly\");\n",
       "        requirejs.config({\n",
       "            paths: {\n",
       "                'plotly': ['https://cdn.plot.ly/plotly-2.11.1.min']\n",
       "            }\n",
       "        });\n",
       "        require(['plotly'], function(Plotly) {\n",
       "            window._Plotly = Plotly;\n",
       "        });\n",
       "        }\n",
       "        </script>\n",
       "        "
      ]
     },
     "metadata": {},
     "output_type": "display_data"
    },
    {
     "data": {
      "application/vnd.plotly.v1+json": {
       "config": {
        "linkText": "Export to plot.ly",
        "plotlyServerURL": "https://plot.ly",
        "showLink": true
       },
       "data": [
        {
         "marker": {
          "color": "rgba(255, 153, 51, 0.6)",
          "line": {
           "color": "rgba(255, 153, 51, 1.0)",
           "width": 1
          }
         },
         "name": "count",
         "orientation": "v",
         "text": "",
         "type": "bar",
         "x": [
          "vive",
          "actividade",
          "ante",
          "anteriore",
          "era",
          "familiar",
          "haca",
          "mejore",
          "mifex_offers_client",
          "pablo",
          "periodo",
          "services_please_visit_href",
          "servirn",
          "vender"
         ],
         "y": [
          2,
          1,
          1,
          1,
          1,
          1,
          1,
          1,
          1,
          1,
          1,
          1,
          1,
          1
         ]
        }
       ],
       "layout": {
        "autosize": true,
        "legend": {
         "bgcolor": "#F5F6F9",
         "font": {
          "color": "#4D5663"
         }
        },
        "paper_bgcolor": "#F5F6F9",
        "plot_bgcolor": "#F5F6F9",
        "template": {
         "data": {
          "bar": [
           {
            "error_x": {
             "color": "#2a3f5f"
            },
            "error_y": {
             "color": "#2a3f5f"
            },
            "marker": {
             "line": {
              "color": "#E5ECF6",
              "width": 0.5
             },
             "pattern": {
              "fillmode": "overlay",
              "size": 10,
              "solidity": 0.2
             }
            },
            "type": "bar"
           }
          ],
          "barpolar": [
           {
            "marker": {
             "line": {
              "color": "#E5ECF6",
              "width": 0.5
             },
             "pattern": {
              "fillmode": "overlay",
              "size": 10,
              "solidity": 0.2
             }
            },
            "type": "barpolar"
           }
          ],
          "carpet": [
           {
            "aaxis": {
             "endlinecolor": "#2a3f5f",
             "gridcolor": "white",
             "linecolor": "white",
             "minorgridcolor": "white",
             "startlinecolor": "#2a3f5f"
            },
            "baxis": {
             "endlinecolor": "#2a3f5f",
             "gridcolor": "white",
             "linecolor": "white",
             "minorgridcolor": "white",
             "startlinecolor": "#2a3f5f"
            },
            "type": "carpet"
           }
          ],
          "choropleth": [
           {
            "colorbar": {
             "outlinewidth": 0,
             "ticks": ""
            },
            "type": "choropleth"
           }
          ],
          "contour": [
           {
            "colorbar": {
             "outlinewidth": 0,
             "ticks": ""
            },
            "colorscale": [
             [
              0,
              "#0d0887"
             ],
             [
              0.1111111111111111,
              "#46039f"
             ],
             [
              0.2222222222222222,
              "#7201a8"
             ],
             [
              0.3333333333333333,
              "#9c179e"
             ],
             [
              0.4444444444444444,
              "#bd3786"
             ],
             [
              0.5555555555555556,
              "#d8576b"
             ],
             [
              0.6666666666666666,
              "#ed7953"
             ],
             [
              0.7777777777777778,
              "#fb9f3a"
             ],
             [
              0.8888888888888888,
              "#fdca26"
             ],
             [
              1,
              "#f0f921"
             ]
            ],
            "type": "contour"
           }
          ],
          "contourcarpet": [
           {
            "colorbar": {
             "outlinewidth": 0,
             "ticks": ""
            },
            "type": "contourcarpet"
           }
          ],
          "heatmap": [
           {
            "colorbar": {
             "outlinewidth": 0,
             "ticks": ""
            },
            "colorscale": [
             [
              0,
              "#0d0887"
             ],
             [
              0.1111111111111111,
              "#46039f"
             ],
             [
              0.2222222222222222,
              "#7201a8"
             ],
             [
              0.3333333333333333,
              "#9c179e"
             ],
             [
              0.4444444444444444,
              "#bd3786"
             ],
             [
              0.5555555555555556,
              "#d8576b"
             ],
             [
              0.6666666666666666,
              "#ed7953"
             ],
             [
              0.7777777777777778,
              "#fb9f3a"
             ],
             [
              0.8888888888888888,
              "#fdca26"
             ],
             [
              1,
              "#f0f921"
             ]
            ],
            "type": "heatmap"
           }
          ],
          "heatmapgl": [
           {
            "colorbar": {
             "outlinewidth": 0,
             "ticks": ""
            },
            "colorscale": [
             [
              0,
              "#0d0887"
             ],
             [
              0.1111111111111111,
              "#46039f"
             ],
             [
              0.2222222222222222,
              "#7201a8"
             ],
             [
              0.3333333333333333,
              "#9c179e"
             ],
             [
              0.4444444444444444,
              "#bd3786"
             ],
             [
              0.5555555555555556,
              "#d8576b"
             ],
             [
              0.6666666666666666,
              "#ed7953"
             ],
             [
              0.7777777777777778,
              "#fb9f3a"
             ],
             [
              0.8888888888888888,
              "#fdca26"
             ],
             [
              1,
              "#f0f921"
             ]
            ],
            "type": "heatmapgl"
           }
          ],
          "histogram": [
           {
            "marker": {
             "pattern": {
              "fillmode": "overlay",
              "size": 10,
              "solidity": 0.2
             }
            },
            "type": "histogram"
           }
          ],
          "histogram2d": [
           {
            "colorbar": {
             "outlinewidth": 0,
             "ticks": ""
            },
            "colorscale": [
             [
              0,
              "#0d0887"
             ],
             [
              0.1111111111111111,
              "#46039f"
             ],
             [
              0.2222222222222222,
              "#7201a8"
             ],
             [
              0.3333333333333333,
              "#9c179e"
             ],
             [
              0.4444444444444444,
              "#bd3786"
             ],
             [
              0.5555555555555556,
              "#d8576b"
             ],
             [
              0.6666666666666666,
              "#ed7953"
             ],
             [
              0.7777777777777778,
              "#fb9f3a"
             ],
             [
              0.8888888888888888,
              "#fdca26"
             ],
             [
              1,
              "#f0f921"
             ]
            ],
            "type": "histogram2d"
           }
          ],
          "histogram2dcontour": [
           {
            "colorbar": {
             "outlinewidth": 0,
             "ticks": ""
            },
            "colorscale": [
             [
              0,
              "#0d0887"
             ],
             [
              0.1111111111111111,
              "#46039f"
             ],
             [
              0.2222222222222222,
              "#7201a8"
             ],
             [
              0.3333333333333333,
              "#9c179e"
             ],
             [
              0.4444444444444444,
              "#bd3786"
             ],
             [
              0.5555555555555556,
              "#d8576b"
             ],
             [
              0.6666666666666666,
              "#ed7953"
             ],
             [
              0.7777777777777778,
              "#fb9f3a"
             ],
             [
              0.8888888888888888,
              "#fdca26"
             ],
             [
              1,
              "#f0f921"
             ]
            ],
            "type": "histogram2dcontour"
           }
          ],
          "mesh3d": [
           {
            "colorbar": {
             "outlinewidth": 0,
             "ticks": ""
            },
            "type": "mesh3d"
           }
          ],
          "parcoords": [
           {
            "line": {
             "colorbar": {
              "outlinewidth": 0,
              "ticks": ""
             }
            },
            "type": "parcoords"
           }
          ],
          "pie": [
           {
            "automargin": true,
            "type": "pie"
           }
          ],
          "scatter": [
           {
            "fillpattern": {
             "fillmode": "overlay",
             "size": 10,
             "solidity": 0.2
            },
            "type": "scatter"
           }
          ],
          "scatter3d": [
           {
            "line": {
             "colorbar": {
              "outlinewidth": 0,
              "ticks": ""
             }
            },
            "marker": {
             "colorbar": {
              "outlinewidth": 0,
              "ticks": ""
             }
            },
            "type": "scatter3d"
           }
          ],
          "scattercarpet": [
           {
            "marker": {
             "colorbar": {
              "outlinewidth": 0,
              "ticks": ""
             }
            },
            "type": "scattercarpet"
           }
          ],
          "scattergeo": [
           {
            "marker": {
             "colorbar": {
              "outlinewidth": 0,
              "ticks": ""
             }
            },
            "type": "scattergeo"
           }
          ],
          "scattergl": [
           {
            "marker": {
             "colorbar": {
              "outlinewidth": 0,
              "ticks": ""
             }
            },
            "type": "scattergl"
           }
          ],
          "scattermapbox": [
           {
            "marker": {
             "colorbar": {
              "outlinewidth": 0,
              "ticks": ""
             }
            },
            "type": "scattermapbox"
           }
          ],
          "scatterpolar": [
           {
            "marker": {
             "colorbar": {
              "outlinewidth": 0,
              "ticks": ""
             }
            },
            "type": "scatterpolar"
           }
          ],
          "scatterpolargl": [
           {
            "marker": {
             "colorbar": {
              "outlinewidth": 0,
              "ticks": ""
             }
            },
            "type": "scatterpolargl"
           }
          ],
          "scatterternary": [
           {
            "marker": {
             "colorbar": {
              "outlinewidth": 0,
              "ticks": ""
             }
            },
            "type": "scatterternary"
           }
          ],
          "surface": [
           {
            "colorbar": {
             "outlinewidth": 0,
             "ticks": ""
            },
            "colorscale": [
             [
              0,
              "#0d0887"
             ],
             [
              0.1111111111111111,
              "#46039f"
             ],
             [
              0.2222222222222222,
              "#7201a8"
             ],
             [
              0.3333333333333333,
              "#9c179e"
             ],
             [
              0.4444444444444444,
              "#bd3786"
             ],
             [
              0.5555555555555556,
              "#d8576b"
             ],
             [
              0.6666666666666666,
              "#ed7953"
             ],
             [
              0.7777777777777778,
              "#fb9f3a"
             ],
             [
              0.8888888888888888,
              "#fdca26"
             ],
             [
              1,
              "#f0f921"
             ]
            ],
            "type": "surface"
           }
          ],
          "table": [
           {
            "cells": {
             "fill": {
              "color": "#EBF0F8"
             },
             "line": {
              "color": "white"
             }
            },
            "header": {
             "fill": {
              "color": "#C8D4E3"
             },
             "line": {
              "color": "white"
             }
            },
            "type": "table"
           }
          ]
         },
         "layout": {
          "annotationdefaults": {
           "arrowcolor": "#2a3f5f",
           "arrowhead": 0,
           "arrowwidth": 1
          },
          "autotypenumbers": "strict",
          "coloraxis": {
           "colorbar": {
            "outlinewidth": 0,
            "ticks": ""
           }
          },
          "colorscale": {
           "diverging": [
            [
             0,
             "#8e0152"
            ],
            [
             0.1,
             "#c51b7d"
            ],
            [
             0.2,
             "#de77ae"
            ],
            [
             0.3,
             "#f1b6da"
            ],
            [
             0.4,
             "#fde0ef"
            ],
            [
             0.5,
             "#f7f7f7"
            ],
            [
             0.6,
             "#e6f5d0"
            ],
            [
             0.7,
             "#b8e186"
            ],
            [
             0.8,
             "#7fbc41"
            ],
            [
             0.9,
             "#4d9221"
            ],
            [
             1,
             "#276419"
            ]
           ],
           "sequential": [
            [
             0,
             "#0d0887"
            ],
            [
             0.1111111111111111,
             "#46039f"
            ],
            [
             0.2222222222222222,
             "#7201a8"
            ],
            [
             0.3333333333333333,
             "#9c179e"
            ],
            [
             0.4444444444444444,
             "#bd3786"
            ],
            [
             0.5555555555555556,
             "#d8576b"
            ],
            [
             0.6666666666666666,
             "#ed7953"
            ],
            [
             0.7777777777777778,
             "#fb9f3a"
            ],
            [
             0.8888888888888888,
             "#fdca26"
            ],
            [
             1,
             "#f0f921"
            ]
           ],
           "sequentialminus": [
            [
             0,
             "#0d0887"
            ],
            [
             0.1111111111111111,
             "#46039f"
            ],
            [
             0.2222222222222222,
             "#7201a8"
            ],
            [
             0.3333333333333333,
             "#9c179e"
            ],
            [
             0.4444444444444444,
             "#bd3786"
            ],
            [
             0.5555555555555556,
             "#d8576b"
            ],
            [
             0.6666666666666666,
             "#ed7953"
            ],
            [
             0.7777777777777778,
             "#fb9f3a"
            ],
            [
             0.8888888888888888,
             "#fdca26"
            ],
            [
             1,
             "#f0f921"
            ]
           ]
          },
          "colorway": [
           "#636efa",
           "#EF553B",
           "#00cc96",
           "#ab63fa",
           "#FFA15A",
           "#19d3f3",
           "#FF6692",
           "#B6E880",
           "#FF97FF",
           "#FECB52"
          ],
          "font": {
           "color": "#2a3f5f"
          },
          "geo": {
           "bgcolor": "white",
           "lakecolor": "white",
           "landcolor": "#E5ECF6",
           "showlakes": true,
           "showland": true,
           "subunitcolor": "white"
          },
          "hoverlabel": {
           "align": "left"
          },
          "hovermode": "closest",
          "mapbox": {
           "style": "light"
          },
          "paper_bgcolor": "white",
          "plot_bgcolor": "#E5ECF6",
          "polar": {
           "angularaxis": {
            "gridcolor": "white",
            "linecolor": "white",
            "ticks": ""
           },
           "bgcolor": "#E5ECF6",
           "radialaxis": {
            "gridcolor": "white",
            "linecolor": "white",
            "ticks": ""
           }
          },
          "scene": {
           "xaxis": {
            "backgroundcolor": "#E5ECF6",
            "gridcolor": "white",
            "gridwidth": 2,
            "linecolor": "white",
            "showbackground": true,
            "ticks": "",
            "zerolinecolor": "white"
           },
           "yaxis": {
            "backgroundcolor": "#E5ECF6",
            "gridcolor": "white",
            "gridwidth": 2,
            "linecolor": "white",
            "showbackground": true,
            "ticks": "",
            "zerolinecolor": "white"
           },
           "zaxis": {
            "backgroundcolor": "#E5ECF6",
            "gridcolor": "white",
            "gridwidth": 2,
            "linecolor": "white",
            "showbackground": true,
            "ticks": "",
            "zerolinecolor": "white"
           }
          },
          "shapedefaults": {
           "line": {
            "color": "#2a3f5f"
           }
          },
          "ternary": {
           "aaxis": {
            "gridcolor": "white",
            "linecolor": "white",
            "ticks": ""
           },
           "baxis": {
            "gridcolor": "white",
            "linecolor": "white",
            "ticks": ""
           },
           "bgcolor": "#E5ECF6",
           "caxis": {
            "gridcolor": "white",
            "linecolor": "white",
            "ticks": ""
           }
          },
          "title": {
           "x": 0.05
          },
          "xaxis": {
           "automargin": true,
           "gridcolor": "white",
           "linecolor": "white",
           "ticks": "",
           "title": {
            "standoff": 15
           },
           "zerolinecolor": "white",
           "zerolinewidth": 2
          },
          "yaxis": {
           "automargin": true,
           "gridcolor": "white",
           "linecolor": "white",
           "ticks": "",
           "title": {
            "standoff": 15
           },
           "zerolinecolor": "white",
           "zerolinewidth": 2
          }
         }
        },
        "title": {
         "font": {
          "color": "#4D5663"
         },
         "text": "Topic 2: Top 100 words after removing stop words"
        },
        "xaxis": {
         "autorange": true,
         "gridcolor": "#E1E5ED",
         "linecolor": "black",
         "range": [
          -0.5,
          13.5
         ],
         "showgrid": true,
         "tickfont": {
          "color": "#4D5663"
         },
         "title": {
          "font": {
           "color": "#4D5663"
          },
          "text": ""
         },
         "type": "category",
         "zerolinecolor": "#E1E5ED"
        },
        "yaxis": {
         "autorange": true,
         "gridcolor": "#E1E5ED",
         "linecolor": "black",
         "range": [
          0,
          2.1052631578947367
         ],
         "showgrid": true,
         "tickfont": {
          "color": "#4D5663"
         },
         "title": {
          "font": {
           "color": "#4D5663"
          },
          "text": "Count"
         },
         "type": "linear",
         "zerolinecolor": "#E1E5ED"
        }
       }
      },
      "image/png": "[encoded data removed]",
      "text/html": [
       "<div>                            <div id=\"332f9a28-0958-4958-97ef-c8c54822af16\" class=\"plotly-graph-div\" style=\"height:525px; width:100%;\"></div>            <script type=\"text/javascript\">                require([\"plotly\"], function(Plotly) {                    window.PLOTLYENV=window.PLOTLYENV || {};\n",
       "                    window.PLOTLYENV.BASE_URL='https://plot.ly';                                    if (document.getElementById(\"332f9a28-0958-4958-97ef-c8c54822af16\")) {                    Plotly.newPlot(                        \"332f9a28-0958-4958-97ef-c8c54822af16\",                        [{\"marker\":{\"color\":\"rgba(255, 153, 51, 0.6)\",\"line\":{\"color\":\"rgba(255, 153, 51, 1.0)\",\"width\":1}},\"name\":\"count\",\"orientation\":\"v\",\"text\":\"\",\"x\":[\"vive\",\"actividade\",\"ante\",\"anteriore\",\"era\",\"familiar\",\"haca\",\"mejore\",\"mifex_offers_client\",\"pablo\",\"periodo\",\"services_please_visit_href\",\"servirn\",\"vender\"],\"y\":[2,1,1,1,1,1,1,1,1,1,1,1,1,1],\"type\":\"bar\"}],                        {\"legend\":{\"bgcolor\":\"#F5F6F9\",\"font\":{\"color\":\"#4D5663\"}},\"paper_bgcolor\":\"#F5F6F9\",\"plot_bgcolor\":\"#F5F6F9\",\"template\":{\"data\":{\"barpolar\":[{\"marker\":{\"line\":{\"color\":\"#E5ECF6\",\"width\":0.5},\"pattern\":{\"fillmode\":\"overlay\",\"size\":10,\"solidity\":0.2}},\"type\":\"barpolar\"}],\"bar\":[{\"error_x\":{\"color\":\"#2a3f5f\"},\"error_y\":{\"color\":\"#2a3f5f\"},\"marker\":{\"line\":{\"color\":\"#E5ECF6\",\"width\":0.5},\"pattern\":{\"fillmode\":\"overlay\",\"size\":10,\"solidity\":0.2}},\"type\":\"bar\"}],\"carpet\":[{\"aaxis\":{\"endlinecolor\":\"#2a3f5f\",\"gridcolor\":\"white\",\"linecolor\":\"white\",\"minorgridcolor\":\"white\",\"startlinecolor\":\"#2a3f5f\"},\"baxis\":{\"endlinecolor\":\"#2a3f5f\",\"gridcolor\":\"white\",\"linecolor\":\"white\",\"minorgridcolor\":\"white\",\"startlinecolor\":\"#2a3f5f\"},\"type\":\"carpet\"}],\"choropleth\":[{\"colorbar\":{\"outlinewidth\":0,\"ticks\":\"\"},\"type\":\"choropleth\"}],\"contourcarpet\":[{\"colorbar\":{\"outlinewidth\":0,\"ticks\":\"\"},\"type\":\"contourcarpet\"}],\"contour\":[{\"colorbar\":{\"outlinewidth\":0,\"ticks\":\"\"},\"colorscale\":[[0.0,\"#0d0887\"],[0.1111111111111111,\"#46039f\"],[0.2222222222222222,\"#7201a8\"],[0.3333333333333333,\"#9c179e\"],[0.4444444444444444,\"#bd3786\"],[0.5555555555555556,\"#d8576b\"],[0.6666666666666666,\"#ed7953\"],[0.7777777777777778,\"#fb9f3a\"],[0.8888888888888888,\"#fdca26\"],[1.0,\"#f0f921\"]],\"type\":\"contour\"}],\"heatmapgl\":[{\"colorbar\":{\"outlinewidth\":0,\"ticks\":\"\"},\"colorscale\":[[0.0,\"#0d0887\"],[0.1111111111111111,\"#46039f\"],[0.2222222222222222,\"#7201a8\"],[0.3333333333333333,\"#9c179e\"],[0.4444444444444444,\"#bd3786\"],[0.5555555555555556,\"#d8576b\"],[0.6666666666666666,\"#ed7953\"],[0.7777777777777778,\"#fb9f3a\"],[0.8888888888888888,\"#fdca26\"],[1.0,\"#f0f921\"]],\"type\":\"heatmapgl\"}],\"heatmap\":[{\"colorbar\":{\"outlinewidth\":0,\"ticks\":\"\"},\"colorscale\":[[0.0,\"#0d0887\"],[0.1111111111111111,\"#46039f\"],[0.2222222222222222,\"#7201a8\"],[0.3333333333333333,\"#9c179e\"],[0.4444444444444444,\"#bd3786\"],[0.5555555555555556,\"#d8576b\"],[0.6666666666666666,\"#ed7953\"],[0.7777777777777778,\"#fb9f3a\"],[0.8888888888888888,\"#fdca26\"],[1.0,\"#f0f921\"]],\"type\":\"heatmap\"}],\"histogram2dcontour\":[{\"colorbar\":{\"outlinewidth\":0,\"ticks\":\"\"},\"colorscale\":[[0.0,\"#0d0887\"],[0.1111111111111111,\"#46039f\"],[0.2222222222222222,\"#7201a8\"],[0.3333333333333333,\"#9c179e\"],[0.4444444444444444,\"#bd3786\"],[0.5555555555555556,\"#d8576b\"],[0.6666666666666666,\"#ed7953\"],[0.7777777777777778,\"#fb9f3a\"],[0.8888888888888888,\"#fdca26\"],[1.0,\"#f0f921\"]],\"type\":\"histogram2dcontour\"}],\"histogram2d\":[{\"colorbar\":{\"outlinewidth\":0,\"ticks\":\"\"},\"colorscale\":[[0.0,\"#0d0887\"],[0.1111111111111111,\"#46039f\"],[0.2222222222222222,\"#7201a8\"],[0.3333333333333333,\"#9c179e\"],[0.4444444444444444,\"#bd3786\"],[0.5555555555555556,\"#d8576b\"],[0.6666666666666666,\"#ed7953\"],[0.7777777777777778,\"#fb9f3a\"],[0.8888888888888888,\"#fdca26\"],[1.0,\"#f0f921\"]],\"type\":\"histogram2d\"}],\"histogram\":[{\"marker\":{\"pattern\":{\"fillmode\":\"overlay\",\"size\":10,\"solidity\":0.2}},\"type\":\"histogram\"}],\"mesh3d\":[{\"colorbar\":{\"outlinewidth\":0,\"ticks\":\"\"},\"type\":\"mesh3d\"}],\"parcoords\":[{\"line\":{\"colorbar\":{\"outlinewidth\":0,\"ticks\":\"\"}},\"type\":\"parcoords\"}],\"pie\":[{\"automargin\":true,\"type\":\"pie\"}],\"scatter3d\":[{\"line\":{\"colorbar\":{\"outlinewidth\":0,\"ticks\":\"\"}},\"marker\":{\"colorbar\":{\"outlinewidth\":0,\"ticks\":\"\"}},\"type\":\"scatter3d\"}],\"scattercarpet\":[{\"marker\":{\"colorbar\":{\"outlinewidth\":0,\"ticks\":\"\"}},\"type\":\"scattercarpet\"}],\"scattergeo\":[{\"marker\":{\"colorbar\":{\"outlinewidth\":0,\"ticks\":\"\"}},\"type\":\"scattergeo\"}],\"scattergl\":[{\"marker\":{\"colorbar\":{\"outlinewidth\":0,\"ticks\":\"\"}},\"type\":\"scattergl\"}],\"scattermapbox\":[{\"marker\":{\"colorbar\":{\"outlinewidth\":0,\"ticks\":\"\"}},\"type\":\"scattermapbox\"}],\"scatterpolargl\":[{\"marker\":{\"colorbar\":{\"outlinewidth\":0,\"ticks\":\"\"}},\"type\":\"scatterpolargl\"}],\"scatterpolar\":[{\"marker\":{\"colorbar\":{\"outlinewidth\":0,\"ticks\":\"\"}},\"type\":\"scatterpolar\"}],\"scatter\":[{\"fillpattern\":{\"fillmode\":\"overlay\",\"size\":10,\"solidity\":0.2},\"type\":\"scatter\"}],\"scatterternary\":[{\"marker\":{\"colorbar\":{\"outlinewidth\":0,\"ticks\":\"\"}},\"type\":\"scatterternary\"}],\"surface\":[{\"colorbar\":{\"outlinewidth\":0,\"ticks\":\"\"},\"colorscale\":[[0.0,\"#0d0887\"],[0.1111111111111111,\"#46039f\"],[0.2222222222222222,\"#7201a8\"],[0.3333333333333333,\"#9c179e\"],[0.4444444444444444,\"#bd3786\"],[0.5555555555555556,\"#d8576b\"],[0.6666666666666666,\"#ed7953\"],[0.7777777777777778,\"#fb9f3a\"],[0.8888888888888888,\"#fdca26\"],[1.0,\"#f0f921\"]],\"type\":\"surface\"}],\"table\":[{\"cells\":{\"fill\":{\"color\":\"#EBF0F8\"},\"line\":{\"color\":\"white\"}},\"header\":{\"fill\":{\"color\":\"#C8D4E3\"},\"line\":{\"color\":\"white\"}},\"type\":\"table\"}]},\"layout\":{\"annotationdefaults\":{\"arrowcolor\":\"#2a3f5f\",\"arrowhead\":0,\"arrowwidth\":1},\"autotypenumbers\":\"strict\",\"coloraxis\":{\"colorbar\":{\"outlinewidth\":0,\"ticks\":\"\"}},\"colorscale\":{\"diverging\":[[0,\"#8e0152\"],[0.1,\"#c51b7d\"],[0.2,\"#de77ae\"],[0.3,\"#f1b6da\"],[0.4,\"#fde0ef\"],[0.5,\"#f7f7f7\"],[0.6,\"#e6f5d0\"],[0.7,\"#b8e186\"],[0.8,\"#7fbc41\"],[0.9,\"#4d9221\"],[1,\"#276419\"]],\"sequential\":[[0.0,\"#0d0887\"],[0.1111111111111111,\"#46039f\"],[0.2222222222222222,\"#7201a8\"],[0.3333333333333333,\"#9c179e\"],[0.4444444444444444,\"#bd3786\"],[0.5555555555555556,\"#d8576b\"],[0.6666666666666666,\"#ed7953\"],[0.7777777777777778,\"#fb9f3a\"],[0.8888888888888888,\"#fdca26\"],[1.0,\"#f0f921\"]],\"sequentialminus\":[[0.0,\"#0d0887\"],[0.1111111111111111,\"#46039f\"],[0.2222222222222222,\"#7201a8\"],[0.3333333333333333,\"#9c179e\"],[0.4444444444444444,\"#bd3786\"],[0.5555555555555556,\"#d8576b\"],[0.6666666666666666,\"#ed7953\"],[0.7777777777777778,\"#fb9f3a\"],[0.8888888888888888,\"#fdca26\"],[1.0,\"#f0f921\"]]},\"colorway\":[\"#636efa\",\"#EF553B\",\"#00cc96\",\"#ab63fa\",\"#FFA15A\",\"#19d3f3\",\"#FF6692\",\"#B6E880\",\"#FF97FF\",\"#FECB52\"],\"font\":{\"color\":\"#2a3f5f\"},\"geo\":{\"bgcolor\":\"white\",\"lakecolor\":\"white\",\"landcolor\":\"#E5ECF6\",\"showlakes\":true,\"showland\":true,\"subunitcolor\":\"white\"},\"hoverlabel\":{\"align\":\"left\"},\"hovermode\":\"closest\",\"mapbox\":{\"style\":\"light\"},\"paper_bgcolor\":\"white\",\"plot_bgcolor\":\"#E5ECF6\",\"polar\":{\"angularaxis\":{\"gridcolor\":\"white\",\"linecolor\":\"white\",\"ticks\":\"\"},\"bgcolor\":\"#E5ECF6\",\"radialaxis\":{\"gridcolor\":\"white\",\"linecolor\":\"white\",\"ticks\":\"\"}},\"scene\":{\"xaxis\":{\"backgroundcolor\":\"#E5ECF6\",\"gridcolor\":\"white\",\"gridwidth\":2,\"linecolor\":\"white\",\"showbackground\":true,\"ticks\":\"\",\"zerolinecolor\":\"white\"},\"yaxis\":{\"backgroundcolor\":\"#E5ECF6\",\"gridcolor\":\"white\",\"gridwidth\":2,\"linecolor\":\"white\",\"showbackground\":true,\"ticks\":\"\",\"zerolinecolor\":\"white\"},\"zaxis\":{\"backgroundcolor\":\"#E5ECF6\",\"gridcolor\":\"white\",\"gridwidth\":2,\"linecolor\":\"white\",\"showbackground\":true,\"ticks\":\"\",\"zerolinecolor\":\"white\"}},\"shapedefaults\":{\"line\":{\"color\":\"#2a3f5f\"}},\"ternary\":{\"aaxis\":{\"gridcolor\":\"white\",\"linecolor\":\"white\",\"ticks\":\"\"},\"baxis\":{\"gridcolor\":\"white\",\"linecolor\":\"white\",\"ticks\":\"\"},\"bgcolor\":\"#E5ECF6\",\"caxis\":{\"gridcolor\":\"white\",\"linecolor\":\"white\",\"ticks\":\"\"}},\"title\":{\"x\":0.05},\"xaxis\":{\"automargin\":true,\"gridcolor\":\"white\",\"linecolor\":\"white\",\"ticks\":\"\",\"title\":{\"standoff\":15},\"zerolinecolor\":\"white\",\"zerolinewidth\":2},\"yaxis\":{\"automargin\":true,\"gridcolor\":\"white\",\"linecolor\":\"white\",\"ticks\":\"\",\"title\":{\"standoff\":15},\"zerolinecolor\":\"white\",\"zerolinewidth\":2}}},\"title\":{\"font\":{\"color\":\"#4D5663\"},\"text\":\"Topic 2: Top 100 words after removing stop words\"},\"xaxis\":{\"gridcolor\":\"#E1E5ED\",\"linecolor\":\"black\",\"showgrid\":true,\"tickfont\":{\"color\":\"#4D5663\"},\"title\":{\"font\":{\"color\":\"#4D5663\"},\"text\":\"\"},\"zerolinecolor\":\"#E1E5ED\"},\"yaxis\":{\"gridcolor\":\"#E1E5ED\",\"linecolor\":\"black\",\"showgrid\":true,\"tickfont\":{\"color\":\"#4D5663\"},\"title\":{\"font\":{\"color\":\"#4D5663\"},\"text\":\"Count\"},\"zerolinecolor\":\"#E1E5ED\"}},                        {\"showLink\": true, \"linkText\": \"Export to plot.ly\", \"plotlyServerURL\": \"https://plot.ly\", \"responsive\": true}                    ).then(function(){\n",
       "                            \n",
       "var gd = document.getElementById('332f9a28-0958-4958-97ef-c8c54822af16');\n",
       "var x = new MutationObserver(function (mutations, observer) {{\n",
       "        var display = window.getComputedStyle(gd).display;\n",
       "        if (!display || display === 'none') {{\n",
       "            console.log([gd, 'removed!']);\n",
       "            Plotly.purge(gd);\n",
       "            observer.disconnect();\n",
       "        }}\n",
       "}});\n",
       "\n",
       "// Listen for the removal of the full notebook cells\n",
       "var notebookContainer = gd.closest('#notebook-container');\n",
       "if (notebookContainer) {{\n",
       "    x.observe(notebookContainer, {childList: true});\n",
       "}}\n",
       "\n",
       "// Listen for the clearing of the current output cell\n",
       "var outputEl = gd.closest('.output');\n",
       "if (outputEl) {{\n",
       "    x.observe(outputEl, {childList: true});\n",
       "}}\n",
       "\n",
       "                        })                };                });            </script>        </div>"
      ]
     },
     "metadata": {},
     "output_type": "display_data"
    }
   ],
   "source": [
    "plot_model(lsi, plot = 'frequency', topic_num = 'Topic 2')"
   ]
  },
  {
   "cell_type": "code",
   "execution_count": 21,
   "id": "7bb2e0d1",
   "metadata": {},
   "outputs": [
    {
     "data": {
      "text/html": [
       "        <script type=\"text/javascript\">\n",
       "        window.PlotlyConfig = {MathJaxConfig: 'local'};\n",
       "        if (window.MathJax) {MathJax.Hub.Config({SVG: {font: \"STIX-Web\"}});}\n",
       "        if (typeof require !== 'undefined') {\n",
       "        require.undef(\"plotly\");\n",
       "        requirejs.config({\n",
       "            paths: {\n",
       "                'plotly': ['https://cdn.plot.ly/plotly-2.11.1.min']\n",
       "            }\n",
       "        });\n",
       "        require(['plotly'], function(Plotly) {\n",
       "            window._Plotly = Plotly;\n",
       "        });\n",
       "        }\n",
       "        </script>\n",
       "        "
      ]
     },
     "metadata": {},
     "output_type": "display_data"
    },
    {
     "data": {
      "application/vnd.plotly.v1+json": {
       "config": {
        "plotlyServerURL": "https://plot.ly"
       },
       "data": [
        {
         "alignmentgroup": "True",
         "customdata": [
          [
           "use, work, small, family, group, help, rice, start, live, husband"
          ],
          [
           "rice, farmer, land, sector, small, crop, work, farm, area, start"
          ],
          [
           "group, member, product, use, home, help, work, pay, order, husband"
          ],
          [
           "work, group, stock, family, high, increase, member, request, husband, home"
          ]
         ],
         "hovertemplate": "Topic=%{x}<br>Documents=%{y}<br>Keyword=%{customdata[0]}<extra></extra>",
         "legendgroup": "",
         "marker": {
          "color": "#636efa",
          "pattern": {
           "shape": ""
          }
         },
         "name": "",
         "offsetgroup": "",
         "orientation": "v",
         "showlegend": false,
         "textposition": "auto",
         "type": "bar",
         "x": [
          "Topic 0",
          "Topic 1",
          "Topic 2",
          "Topic 3"
         ],
         "xaxis": "x",
         "y": [
          946,
          24,
          2,
          28
         ],
         "yaxis": "y"
        }
       ],
       "layout": {
        "autosize": true,
        "barmode": "relative",
        "legend": {
         "tracegroupgap": 0
        },
        "template": {
         "data": {
          "bar": [
           {
            "error_x": {
             "color": "#2a3f5f"
            },
            "error_y": {
             "color": "#2a3f5f"
            },
            "marker": {
             "line": {
              "color": "#E5ECF6",
              "width": 0.5
             },
             "pattern": {
              "fillmode": "overlay",
              "size": 10,
              "solidity": 0.2
             }
            },
            "type": "bar"
           }
          ],
          "barpolar": [
           {
            "marker": {
             "line": {
              "color": "#E5ECF6",
              "width": 0.5
             },
             "pattern": {
              "fillmode": "overlay",
              "size": 10,
              "solidity": 0.2
             }
            },
            "type": "barpolar"
           }
          ],
          "carpet": [
           {
            "aaxis": {
             "endlinecolor": "#2a3f5f",
             "gridcolor": "white",
             "linecolor": "white",
             "minorgridcolor": "white",
             "startlinecolor": "#2a3f5f"
            },
            "baxis": {
             "endlinecolor": "#2a3f5f",
             "gridcolor": "white",
             "linecolor": "white",
             "minorgridcolor": "white",
             "startlinecolor": "#2a3f5f"
            },
            "type": "carpet"
           }
          ],
          "choropleth": [
           {
            "colorbar": {
             "outlinewidth": 0,
             "ticks": ""
            },
            "type": "choropleth"
           }
          ],
          "contour": [
           {
            "colorbar": {
             "outlinewidth": 0,
             "ticks": ""
            },
            "colorscale": [
             [
              0,
              "#0d0887"
             ],
             [
              0.1111111111111111,
              "#46039f"
             ],
             [
              0.2222222222222222,
              "#7201a8"
             ],
             [
              0.3333333333333333,
              "#9c179e"
             ],
             [
              0.4444444444444444,
              "#bd3786"
             ],
             [
              0.5555555555555556,
              "#d8576b"
             ],
             [
              0.6666666666666666,
              "#ed7953"
             ],
             [
              0.7777777777777778,
              "#fb9f3a"
             ],
             [
              0.8888888888888888,
              "#fdca26"
             ],
             [
              1,
              "#f0f921"
             ]
            ],
            "type": "contour"
           }
          ],
          "contourcarpet": [
           {
            "colorbar": {
             "outlinewidth": 0,
             "ticks": ""
            },
            "type": "contourcarpet"
           }
          ],
          "heatmap": [
           {
            "colorbar": {
             "outlinewidth": 0,
             "ticks": ""
            },
            "colorscale": [
             [
              0,
              "#0d0887"
             ],
             [
              0.1111111111111111,
              "#46039f"
             ],
             [
              0.2222222222222222,
              "#7201a8"
             ],
             [
              0.3333333333333333,
              "#9c179e"
             ],
             [
              0.4444444444444444,
              "#bd3786"
             ],
             [
              0.5555555555555556,
              "#d8576b"
             ],
             [
              0.6666666666666666,
              "#ed7953"
             ],
             [
              0.7777777777777778,
              "#fb9f3a"
             ],
             [
              0.8888888888888888,
              "#fdca26"
             ],
             [
              1,
              "#f0f921"
             ]
            ],
            "type": "heatmap"
           }
          ],
          "heatmapgl": [
           {
            "colorbar": {
             "outlinewidth": 0,
             "ticks": ""
            },
            "colorscale": [
             [
              0,
              "#0d0887"
             ],
             [
              0.1111111111111111,
              "#46039f"
             ],
             [
              0.2222222222222222,
              "#7201a8"
             ],
             [
              0.3333333333333333,
              "#9c179e"
             ],
             [
              0.4444444444444444,
              "#bd3786"
             ],
             [
              0.5555555555555556,
              "#d8576b"
             ],
             [
              0.6666666666666666,
              "#ed7953"
             ],
             [
              0.7777777777777778,
              "#fb9f3a"
             ],
             [
              0.8888888888888888,
              "#fdca26"
             ],
             [
              1,
              "#f0f921"
             ]
            ],
            "type": "heatmapgl"
           }
          ],
          "histogram": [
           {
            "marker": {
             "pattern": {
              "fillmode": "overlay",
              "size": 10,
              "solidity": 0.2
             }
            },
            "type": "histogram"
           }
          ],
          "histogram2d": [
           {
            "colorbar": {
             "outlinewidth": 0,
             "ticks": ""
            },
            "colorscale": [
             [
              0,
              "#0d0887"
             ],
             [
              0.1111111111111111,
              "#46039f"
             ],
             [
              0.2222222222222222,
              "#7201a8"
             ],
             [
              0.3333333333333333,
              "#9c179e"
             ],
             [
              0.4444444444444444,
              "#bd3786"
             ],
             [
              0.5555555555555556,
              "#d8576b"
             ],
             [
              0.6666666666666666,
              "#ed7953"
             ],
             [
              0.7777777777777778,
              "#fb9f3a"
             ],
             [
              0.8888888888888888,
              "#fdca26"
             ],
             [
              1,
              "#f0f921"
             ]
            ],
            "type": "histogram2d"
           }
          ],
          "histogram2dcontour": [
           {
            "colorbar": {
             "outlinewidth": 0,
             "ticks": ""
            },
            "colorscale": [
             [
              0,
              "#0d0887"
             ],
             [
              0.1111111111111111,
              "#46039f"
             ],
             [
              0.2222222222222222,
              "#7201a8"
             ],
             [
              0.3333333333333333,
              "#9c179e"
             ],
             [
              0.4444444444444444,
              "#bd3786"
             ],
             [
              0.5555555555555556,
              "#d8576b"
             ],
             [
              0.6666666666666666,
              "#ed7953"
             ],
             [
              0.7777777777777778,
              "#fb9f3a"
             ],
             [
              0.8888888888888888,
              "#fdca26"
             ],
             [
              1,
              "#f0f921"
             ]
            ],
            "type": "histogram2dcontour"
           }
          ],
          "mesh3d": [
           {
            "colorbar": {
             "outlinewidth": 0,
             "ticks": ""
            },
            "type": "mesh3d"
           }
          ],
          "parcoords": [
           {
            "line": {
             "colorbar": {
              "outlinewidth": 0,
              "ticks": ""
             }
            },
            "type": "parcoords"
           }
          ],
          "pie": [
           {
            "automargin": true,
            "type": "pie"
           }
          ],
          "scatter": [
           {
            "fillpattern": {
             "fillmode": "overlay",
             "size": 10,
             "solidity": 0.2
            },
            "type": "scatter"
           }
          ],
          "scatter3d": [
           {
            "line": {
             "colorbar": {
              "outlinewidth": 0,
              "ticks": ""
             }
            },
            "marker": {
             "colorbar": {
              "outlinewidth": 0,
              "ticks": ""
             }
            },
            "type": "scatter3d"
           }
          ],
          "scattercarpet": [
           {
            "marker": {
             "colorbar": {
              "outlinewidth": 0,
              "ticks": ""
             }
            },
            "type": "scattercarpet"
           }
          ],
          "scattergeo": [
           {
            "marker": {
             "colorbar": {
              "outlinewidth": 0,
              "ticks": ""
             }
            },
            "type": "scattergeo"
           }
          ],
          "scattergl": [
           {
            "marker": {
             "colorbar": {
              "outlinewidth": 0,
              "ticks": ""
             }
            },
            "type": "scattergl"
           }
          ],
          "scattermapbox": [
           {
            "marker": {
             "colorbar": {
              "outlinewidth": 0,
              "ticks": ""
             }
            },
            "type": "scattermapbox"
           }
          ],
          "scatterpolar": [
           {
            "marker": {
             "colorbar": {
              "outlinewidth": 0,
              "ticks": ""
             }
            },
            "type": "scatterpolar"
           }
          ],
          "scatterpolargl": [
           {
            "marker": {
             "colorbar": {
              "outlinewidth": 0,
              "ticks": ""
             }
            },
            "type": "scatterpolargl"
           }
          ],
          "scatterternary": [
           {
            "marker": {
             "colorbar": {
              "outlinewidth": 0,
              "ticks": ""
             }
            },
            "type": "scatterternary"
           }
          ],
          "surface": [
           {
            "colorbar": {
             "outlinewidth": 0,
             "ticks": ""
            },
            "colorscale": [
             [
              0,
              "#0d0887"
             ],
             [
              0.1111111111111111,
              "#46039f"
             ],
             [
              0.2222222222222222,
              "#7201a8"
             ],
             [
              0.3333333333333333,
              "#9c179e"
             ],
             [
              0.4444444444444444,
              "#bd3786"
             ],
             [
              0.5555555555555556,
              "#d8576b"
             ],
             [
              0.6666666666666666,
              "#ed7953"
             ],
             [
              0.7777777777777778,
              "#fb9f3a"
             ],
             [
              0.8888888888888888,
              "#fdca26"
             ],
             [
              1,
              "#f0f921"
             ]
            ],
            "type": "surface"
           }
          ],
          "table": [
           {
            "cells": {
             "fill": {
              "color": "#EBF0F8"
             },
             "line": {
              "color": "white"
             }
            },
            "header": {
             "fill": {
              "color": "#C8D4E3"
             },
             "line": {
              "color": "white"
             }
            },
            "type": "table"
           }
          ]
         },
         "layout": {
          "annotationdefaults": {
           "arrowcolor": "#2a3f5f",
           "arrowhead": 0,
           "arrowwidth": 1
          },
          "autotypenumbers": "strict",
          "coloraxis": {
           "colorbar": {
            "outlinewidth": 0,
            "ticks": ""
           }
          },
          "colorscale": {
           "diverging": [
            [
             0,
             "#8e0152"
            ],
            [
             0.1,
             "#c51b7d"
            ],
            [
             0.2,
             "#de77ae"
            ],
            [
             0.3,
             "#f1b6da"
            ],
            [
             0.4,
             "#fde0ef"
            ],
            [
             0.5,
             "#f7f7f7"
            ],
            [
             0.6,
             "#e6f5d0"
            ],
            [
             0.7,
             "#b8e186"
            ],
            [
             0.8,
             "#7fbc41"
            ],
            [
             0.9,
             "#4d9221"
            ],
            [
             1,
             "#276419"
            ]
           ],
           "sequential": [
            [
             0,
             "#0d0887"
            ],
            [
             0.1111111111111111,
             "#46039f"
            ],
            [
             0.2222222222222222,
             "#7201a8"
            ],
            [
             0.3333333333333333,
             "#9c179e"
            ],
            [
             0.4444444444444444,
             "#bd3786"
            ],
            [
             0.5555555555555556,
             "#d8576b"
            ],
            [
             0.6666666666666666,
             "#ed7953"
            ],
            [
             0.7777777777777778,
             "#fb9f3a"
            ],
            [
             0.8888888888888888,
             "#fdca26"
            ],
            [
             1,
             "#f0f921"
            ]
           ],
           "sequentialminus": [
            [
             0,
             "#0d0887"
            ],
            [
             0.1111111111111111,
             "#46039f"
            ],
            [
             0.2222222222222222,
             "#7201a8"
            ],
            [
             0.3333333333333333,
             "#9c179e"
            ],
            [
             0.4444444444444444,
             "#bd3786"
            ],
            [
             0.5555555555555556,
             "#d8576b"
            ],
            [
             0.6666666666666666,
             "#ed7953"
            ],
            [
             0.7777777777777778,
             "#fb9f3a"
            ],
            [
             0.8888888888888888,
             "#fdca26"
            ],
            [
             1,
             "#f0f921"
            ]
           ]
          },
          "colorway": [
           "#636efa",
           "#EF553B",
           "#00cc96",
           "#ab63fa",
           "#FFA15A",
           "#19d3f3",
           "#FF6692",
           "#B6E880",
           "#FF97FF",
           "#FECB52"
          ],
          "font": {
           "color": "#2a3f5f"
          },
          "geo": {
           "bgcolor": "white",
           "lakecolor": "white",
           "landcolor": "#E5ECF6",
           "showlakes": true,
           "showland": true,
           "subunitcolor": "white"
          },
          "hoverlabel": {
           "align": "left"
          },
          "hovermode": "closest",
          "mapbox": {
           "style": "light"
          },
          "paper_bgcolor": "white",
          "plot_bgcolor": "#E5ECF6",
          "polar": {
           "angularaxis": {
            "gridcolor": "white",
            "linecolor": "white",
            "ticks": ""
           },
           "bgcolor": "#E5ECF6",
           "radialaxis": {
            "gridcolor": "white",
            "linecolor": "white",
            "ticks": ""
           }
          },
          "scene": {
           "xaxis": {
            "backgroundcolor": "#E5ECF6",
            "gridcolor": "white",
            "gridwidth": 2,
            "linecolor": "white",
            "showbackground": true,
            "ticks": "",
            "zerolinecolor": "white"
           },
           "yaxis": {
            "backgroundcolor": "#E5ECF6",
            "gridcolor": "white",
            "gridwidth": 2,
            "linecolor": "white",
            "showbackground": true,
            "ticks": "",
            "zerolinecolor": "white"
           },
           "zaxis": {
            "backgroundcolor": "#E5ECF6",
            "gridcolor": "white",
            "gridwidth": 2,
            "linecolor": "white",
            "showbackground": true,
            "ticks": "",
            "zerolinecolor": "white"
           }
          },
          "shapedefaults": {
           "line": {
            "color": "#2a3f5f"
           }
          },
          "ternary": {
           "aaxis": {
            "gridcolor": "white",
            "linecolor": "white",
            "ticks": ""
           },
           "baxis": {
            "gridcolor": "white",
            "linecolor": "white",
            "ticks": ""
           },
           "bgcolor": "#E5ECF6",
           "caxis": {
            "gridcolor": "white",
            "linecolor": "white",
            "ticks": ""
           }
          },
          "title": {
           "x": 0.05
          },
          "xaxis": {
           "automargin": true,
           "gridcolor": "white",
           "linecolor": "white",
           "ticks": "",
           "title": {
            "standoff": 15
           },
           "zerolinecolor": "white",
           "zerolinewidth": 2
          },
          "yaxis": {
           "automargin": true,
           "gridcolor": "white",
           "linecolor": "white",
           "ticks": "",
           "title": {
            "standoff": 15
           },
           "zerolinecolor": "white",
           "zerolinewidth": 2
          }
         }
        },
        "title": {
         "text": "Document Distribution by Topics"
        },
        "xaxis": {
         "anchor": "y",
         "autorange": true,
         "domain": [
          0,
          1
         ],
         "range": [
          -0.5,
          3.5
         ],
         "title": {
          "text": "Topic"
         },
         "type": "category"
        },
        "yaxis": {
         "anchor": "x",
         "autorange": true,
         "domain": [
          0,
          1
         ],
         "range": [
          0,
          995.7894736842105
         ],
         "title": {
          "text": "Documents"
         },
         "type": "linear"
        }
       }
      },
      "image/png": "[encoded data removed]",
      "text/html": [
       "<div>                            <div id=\"1894b91f-6bb7-424b-842b-c83c7111a132\" class=\"plotly-graph-div\" style=\"height:525px; width:100%;\"></div>            <script type=\"text/javascript\">                require([\"plotly\"], function(Plotly) {                    window.PLOTLYENV=window.PLOTLYENV || {};                                    if (document.getElementById(\"1894b91f-6bb7-424b-842b-c83c7111a132\")) {                    Plotly.newPlot(                        \"1894b91f-6bb7-424b-842b-c83c7111a132\",                        [{\"alignmentgroup\":\"True\",\"customdata\":[[\"use, work, small, family, group, help, rice, start, live, husband\"],[\"rice, farmer, land, sector, small, crop, work, farm, area, start\"],[\"group, member, product, use, home, help, work, pay, order, husband\"],[\"work, group, stock, family, high, increase, member, request, husband, home\"]],\"hovertemplate\":\"Topic=%{x}<br>Documents=%{y}<br>Keyword=%{customdata[0]}<extra></extra>\",\"legendgroup\":\"\",\"marker\":{\"color\":\"#636efa\",\"pattern\":{\"shape\":\"\"}},\"name\":\"\",\"offsetgroup\":\"\",\"orientation\":\"v\",\"showlegend\":false,\"textposition\":\"auto\",\"x\":[\"Topic 0\",\"Topic 1\",\"Topic 2\",\"Topic 3\"],\"xaxis\":\"x\",\"y\":[946,24,2,28],\"yaxis\":\"y\",\"type\":\"bar\"}],                        {\"template\":{\"data\":{\"histogram2dcontour\":[{\"type\":\"histogram2dcontour\",\"colorbar\":{\"outlinewidth\":0,\"ticks\":\"\"},\"colorscale\":[[0.0,\"#0d0887\"],[0.1111111111111111,\"#46039f\"],[0.2222222222222222,\"#7201a8\"],[0.3333333333333333,\"#9c179e\"],[0.4444444444444444,\"#bd3786\"],[0.5555555555555556,\"#d8576b\"],[0.6666666666666666,\"#ed7953\"],[0.7777777777777778,\"#fb9f3a\"],[0.8888888888888888,\"#fdca26\"],[1.0,\"#f0f921\"]]}],\"choropleth\":[{\"type\":\"choropleth\",\"colorbar\":{\"outlinewidth\":0,\"ticks\":\"\"}}],\"histogram2d\":[{\"type\":\"histogram2d\",\"colorbar\":{\"outlinewidth\":0,\"ticks\":\"\"},\"colorscale\":[[0.0,\"#0d0887\"],[0.1111111111111111,\"#46039f\"],[0.2222222222222222,\"#7201a8\"],[0.3333333333333333,\"#9c179e\"],[0.4444444444444444,\"#bd3786\"],[0.5555555555555556,\"#d8576b\"],[0.6666666666666666,\"#ed7953\"],[0.7777777777777778,\"#fb9f3a\"],[0.8888888888888888,\"#fdca26\"],[1.0,\"#f0f921\"]]}],\"heatmap\":[{\"type\":\"heatmap\",\"colorbar\":{\"outlinewidth\":0,\"ticks\":\"\"},\"colorscale\":[[0.0,\"#0d0887\"],[0.1111111111111111,\"#46039f\"],[0.2222222222222222,\"#7201a8\"],[0.3333333333333333,\"#9c179e\"],[0.4444444444444444,\"#bd3786\"],[0.5555555555555556,\"#d8576b\"],[0.6666666666666666,\"#ed7953\"],[0.7777777777777778,\"#fb9f3a\"],[0.8888888888888888,\"#fdca26\"],[1.0,\"#f0f921\"]]}],\"heatmapgl\":[{\"type\":\"heatmapgl\",\"colorbar\":{\"outlinewidth\":0,\"ticks\":\"\"},\"colorscale\":[[0.0,\"#0d0887\"],[0.1111111111111111,\"#46039f\"],[0.2222222222222222,\"#7201a8\"],[0.3333333333333333,\"#9c179e\"],[0.4444444444444444,\"#bd3786\"],[0.5555555555555556,\"#d8576b\"],[0.6666666666666666,\"#ed7953\"],[0.7777777777777778,\"#fb9f3a\"],[0.8888888888888888,\"#fdca26\"],[1.0,\"#f0f921\"]]}],\"contourcarpet\":[{\"type\":\"contourcarpet\",\"colorbar\":{\"outlinewidth\":0,\"ticks\":\"\"}}],\"contour\":[{\"type\":\"contour\",\"colorbar\":{\"outlinewidth\":0,\"ticks\":\"\"},\"colorscale\":[[0.0,\"#0d0887\"],[0.1111111111111111,\"#46039f\"],[0.2222222222222222,\"#7201a8\"],[0.3333333333333333,\"#9c179e\"],[0.4444444444444444,\"#bd3786\"],[0.5555555555555556,\"#d8576b\"],[0.6666666666666666,\"#ed7953\"],[0.7777777777777778,\"#fb9f3a\"],[0.8888888888888888,\"#fdca26\"],[1.0,\"#f0f921\"]]}],\"surface\":[{\"type\":\"surface\",\"colorbar\":{\"outlinewidth\":0,\"ticks\":\"\"},\"colorscale\":[[0.0,\"#0d0887\"],[0.1111111111111111,\"#46039f\"],[0.2222222222222222,\"#7201a8\"],[0.3333333333333333,\"#9c179e\"],[0.4444444444444444,\"#bd3786\"],[0.5555555555555556,\"#d8576b\"],[0.6666666666666666,\"#ed7953\"],[0.7777777777777778,\"#fb9f3a\"],[0.8888888888888888,\"#fdca26\"],[1.0,\"#f0f921\"]]}],\"mesh3d\":[{\"type\":\"mesh3d\",\"colorbar\":{\"outlinewidth\":0,\"ticks\":\"\"}}],\"scatter\":[{\"fillpattern\":{\"fillmode\":\"overlay\",\"size\":10,\"solidity\":0.2},\"type\":\"scatter\"}],\"parcoords\":[{\"type\":\"parcoords\",\"line\":{\"colorbar\":{\"outlinewidth\":0,\"ticks\":\"\"}}}],\"scatterpolargl\":[{\"type\":\"scatterpolargl\",\"marker\":{\"colorbar\":{\"outlinewidth\":0,\"ticks\":\"\"}}}],\"bar\":[{\"error_x\":{\"color\":\"#2a3f5f\"},\"error_y\":{\"color\":\"#2a3f5f\"},\"marker\":{\"line\":{\"color\":\"#E5ECF6\",\"width\":0.5},\"pattern\":{\"fillmode\":\"overlay\",\"size\":10,\"solidity\":0.2}},\"type\":\"bar\"}],\"scattergeo\":[{\"type\":\"scattergeo\",\"marker\":{\"colorbar\":{\"outlinewidth\":0,\"ticks\":\"\"}}}],\"scatterpolar\":[{\"type\":\"scatterpolar\",\"marker\":{\"colorbar\":{\"outlinewidth\":0,\"ticks\":\"\"}}}],\"histogram\":[{\"marker\":{\"pattern\":{\"fillmode\":\"overlay\",\"size\":10,\"solidity\":0.2}},\"type\":\"histogram\"}],\"scattergl\":[{\"type\":\"scattergl\",\"marker\":{\"colorbar\":{\"outlinewidth\":0,\"ticks\":\"\"}}}],\"scatter3d\":[{\"type\":\"scatter3d\",\"line\":{\"colorbar\":{\"outlinewidth\":0,\"ticks\":\"\"}},\"marker\":{\"colorbar\":{\"outlinewidth\":0,\"ticks\":\"\"}}}],\"scattermapbox\":[{\"type\":\"scattermapbox\",\"marker\":{\"colorbar\":{\"outlinewidth\":0,\"ticks\":\"\"}}}],\"scatterternary\":[{\"type\":\"scatterternary\",\"marker\":{\"colorbar\":{\"outlinewidth\":0,\"ticks\":\"\"}}}],\"scattercarpet\":[{\"type\":\"scattercarpet\",\"marker\":{\"colorbar\":{\"outlinewidth\":0,\"ticks\":\"\"}}}],\"carpet\":[{\"aaxis\":{\"endlinecolor\":\"#2a3f5f\",\"gridcolor\":\"white\",\"linecolor\":\"white\",\"minorgridcolor\":\"white\",\"startlinecolor\":\"#2a3f5f\"},\"baxis\":{\"endlinecolor\":\"#2a3f5f\",\"gridcolor\":\"white\",\"linecolor\":\"white\",\"minorgridcolor\":\"white\",\"startlinecolor\":\"#2a3f5f\"},\"type\":\"carpet\"}],\"table\":[{\"cells\":{\"fill\":{\"color\":\"#EBF0F8\"},\"line\":{\"color\":\"white\"}},\"header\":{\"fill\":{\"color\":\"#C8D4E3\"},\"line\":{\"color\":\"white\"}},\"type\":\"table\"}],\"barpolar\":[{\"marker\":{\"line\":{\"color\":\"#E5ECF6\",\"width\":0.5},\"pattern\":{\"fillmode\":\"overlay\",\"size\":10,\"solidity\":0.2}},\"type\":\"barpolar\"}],\"pie\":[{\"automargin\":true,\"type\":\"pie\"}]},\"layout\":{\"autotypenumbers\":\"strict\",\"colorway\":[\"#636efa\",\"#EF553B\",\"#00cc96\",\"#ab63fa\",\"#FFA15A\",\"#19d3f3\",\"#FF6692\",\"#B6E880\",\"#FF97FF\",\"#FECB52\"],\"font\":{\"color\":\"#2a3f5f\"},\"hovermode\":\"closest\",\"hoverlabel\":{\"align\":\"left\"},\"paper_bgcolor\":\"white\",\"plot_bgcolor\":\"#E5ECF6\",\"polar\":{\"bgcolor\":\"#E5ECF6\",\"angularaxis\":{\"gridcolor\":\"white\",\"linecolor\":\"white\",\"ticks\":\"\"},\"radialaxis\":{\"gridcolor\":\"white\",\"linecolor\":\"white\",\"ticks\":\"\"}},\"ternary\":{\"bgcolor\":\"#E5ECF6\",\"aaxis\":{\"gridcolor\":\"white\",\"linecolor\":\"white\",\"ticks\":\"\"},\"baxis\":{\"gridcolor\":\"white\",\"linecolor\":\"white\",\"ticks\":\"\"},\"caxis\":{\"gridcolor\":\"white\",\"linecolor\":\"white\",\"ticks\":\"\"}},\"coloraxis\":{\"colorbar\":{\"outlinewidth\":0,\"ticks\":\"\"}},\"colorscale\":{\"sequential\":[[0.0,\"#0d0887\"],[0.1111111111111111,\"#46039f\"],[0.2222222222222222,\"#7201a8\"],[0.3333333333333333,\"#9c179e\"],[0.4444444444444444,\"#bd3786\"],[0.5555555555555556,\"#d8576b\"],[0.6666666666666666,\"#ed7953\"],[0.7777777777777778,\"#fb9f3a\"],[0.8888888888888888,\"#fdca26\"],[1.0,\"#f0f921\"]],\"sequentialminus\":[[0.0,\"#0d0887\"],[0.1111111111111111,\"#46039f\"],[0.2222222222222222,\"#7201a8\"],[0.3333333333333333,\"#9c179e\"],[0.4444444444444444,\"#bd3786\"],[0.5555555555555556,\"#d8576b\"],[0.6666666666666666,\"#ed7953\"],[0.7777777777777778,\"#fb9f3a\"],[0.8888888888888888,\"#fdca26\"],[1.0,\"#f0f921\"]],\"diverging\":[[0,\"#8e0152\"],[0.1,\"#c51b7d\"],[0.2,\"#de77ae\"],[0.3,\"#f1b6da\"],[0.4,\"#fde0ef\"],[0.5,\"#f7f7f7\"],[0.6,\"#e6f5d0\"],[0.7,\"#b8e186\"],[0.8,\"#7fbc41\"],[0.9,\"#4d9221\"],[1,\"#276419\"]]},\"xaxis\":{\"gridcolor\":\"white\",\"linecolor\":\"white\",\"ticks\":\"\",\"title\":{\"standoff\":15},\"zerolinecolor\":\"white\",\"automargin\":true,\"zerolinewidth\":2},\"yaxis\":{\"gridcolor\":\"white\",\"linecolor\":\"white\",\"ticks\":\"\",\"title\":{\"standoff\":15},\"zerolinecolor\":\"white\",\"automargin\":true,\"zerolinewidth\":2},\"scene\":{\"xaxis\":{\"backgroundcolor\":\"#E5ECF6\",\"gridcolor\":\"white\",\"linecolor\":\"white\",\"showbackground\":true,\"ticks\":\"\",\"zerolinecolor\":\"white\",\"gridwidth\":2},\"yaxis\":{\"backgroundcolor\":\"#E5ECF6\",\"gridcolor\":\"white\",\"linecolor\":\"white\",\"showbackground\":true,\"ticks\":\"\",\"zerolinecolor\":\"white\",\"gridwidth\":2},\"zaxis\":{\"backgroundcolor\":\"#E5ECF6\",\"gridcolor\":\"white\",\"linecolor\":\"white\",\"showbackground\":true,\"ticks\":\"\",\"zerolinecolor\":\"white\",\"gridwidth\":2}},\"shapedefaults\":{\"line\":{\"color\":\"#2a3f5f\"}},\"annotationdefaults\":{\"arrowcolor\":\"#2a3f5f\",\"arrowhead\":0,\"arrowwidth\":1},\"geo\":{\"bgcolor\":\"white\",\"landcolor\":\"#E5ECF6\",\"subunitcolor\":\"white\",\"showland\":true,\"showlakes\":true,\"lakecolor\":\"white\"},\"title\":{\"x\":0.05},\"mapbox\":{\"style\":\"light\"}}},\"xaxis\":{\"anchor\":\"y\",\"domain\":[0.0,1.0],\"title\":{\"text\":\"Topic\"}},\"yaxis\":{\"anchor\":\"x\",\"domain\":[0.0,1.0],\"title\":{\"text\":\"Documents\"}},\"legend\":{\"tracegroupgap\":0},\"title\":{\"text\":\"Document Distribution by Topics\"},\"barmode\":\"relative\"},                        {\"responsive\": true}                    ).then(function(){\n",
       "                            \n",
       "var gd = document.getElementById('1894b91f-6bb7-424b-842b-c83c7111a132');\n",
       "var x = new MutationObserver(function (mutations, observer) {{\n",
       "        var display = window.getComputedStyle(gd).display;\n",
       "        if (!display || display === 'none') {{\n",
       "            console.log([gd, 'removed!']);\n",
       "            Plotly.purge(gd);\n",
       "            observer.disconnect();\n",
       "        }}\n",
       "}});\n",
       "\n",
       "// Listen for the removal of the full notebook cells\n",
       "var notebookContainer = gd.closest('#notebook-container');\n",
       "if (notebookContainer) {{\n",
       "    x.observe(notebookContainer, {childList: true});\n",
       "}}\n",
       "\n",
       "// Listen for the clearing of the current output cell\n",
       "var outputEl = gd.closest('.output');\n",
       "if (outputEl) {{\n",
       "    x.observe(outputEl, {childList: true});\n",
       "}}\n",
       "\n",
       "                        })                };                });            </script>        </div>"
      ]
     },
     "metadata": {},
     "output_type": "display_data"
    }
   ],
   "source": [
    "plot_model(lsi, plot = 'topic_distribution')"
   ]
  },
  {
   "cell_type": "code",
   "execution_count": 27,
   "id": "ef375231",
   "metadata": {
    "scrolled": true
   },
   "outputs": [
    {
     "data": {
      "text/html": [
       "        <script type=\"text/javascript\">\n",
       "        window.PlotlyConfig = {MathJaxConfig: 'local'};\n",
       "        if (window.MathJax) {MathJax.Hub.Config({SVG: {font: \"STIX-Web\"}});}\n",
       "        if (typeof require !== 'undefined') {\n",
       "        require.undef(\"plotly\");\n",
       "        requirejs.config({\n",
       "            paths: {\n",
       "                'plotly': ['https://cdn.plot.ly/plotly-2.11.1.min']\n",
       "            }\n",
       "        });\n",
       "        require(['plotly'], function(Plotly) {\n",
       "            window._Plotly = Plotly;\n",
       "        });\n",
       "        }\n",
       "        </script>\n",
       "        "
      ]
     },
     "metadata": {},
     "output_type": "display_data"
    },
    {
     "data": {
      "application/vnd.plotly.v1+json": {
       "config": {
        "plotlyServerURL": "https://plot.ly"
       },
       "data": [
        {
         "hovertemplate": "Dominant_Topic=Topic 0<br>0=%{x}<br>1=%{y}<br>2=%{z}<extra></extra>",
         "legendgroup": "Topic 0",
         "marker": {
          "color": "#636efa",
          "opacity": 0.7,
          "symbol": "circle"
         },
         "mode": "markers",
         "name": "Topic 0",
         "scene": "scene",
         "showlegend": true,
         "type": "scatter3d",
         "x": [
          -3.662583589553833,
          2.260333776473999,
          2.464406728744507,
          -0.7556429505348206,
          -0.48858508467674255,
          4.358168601989746,
          -1.1745085716247559,
          0.9406236410140991,
          4.311532497406006,
          1.2279295921325684,
          2.944117307662964,
          -0.877768874168396,
          -1.3016268014907837,
          1.033326506614685,
          4.388236999511719,
          0.3490073084831238,
          -1.074600100517273,
          -0.1558159738779068,
          4.526466369628906,
          -2.109311103820801,
          -0.010553973726928234,
          -3.6957571506500244,
          1.3556807041168213,
          -2.0839550495147705,
          -4.046010971069336,
          2.0328521728515625,
          -3.0109777450561523,
          2.11841082572937,
          1.7673797607421875,
          2.4624133110046387,
          -2.709779739379883,
          -1.3274872303009033,
          -2.5201210975646973,
          -0.5296480059623718,
          0.607822835445404,
          4.450988292694092,
          -0.4102998375892639,
          5.4527082443237305,
          -2.2247931957244873,
          2.542245626449585,
          0.3872451186180115,
          0.39977380633354187,
          -0.4516207277774811,
          0.433647096157074,
          1.6970187425613403,
          3.7049927711486816,
          -0.278152197599411,
          -0.010620643384754658,
          1.397634506225586,
          4.737887859344482,
          -4.0618767738342285,
          -0.9627572894096375,
          -0.16584135591983795,
          4.830142974853516,
          5.406841278076172,
          3.0757431983947754,
          -0.5772577524185181,
          7.182854652404785,
          -3.7617766857147217,
          2.3999078273773193,
          -0.7989882230758667,
          -4.047144889831543,
          4.006420135498047,
          1.3550502061843872,
          -0.3433898687362671,
          -0.7527111172676086,
          1.5103504657745361,
          0.9993594884872437,
          1.2925176620483398,
          -0.35055750608444214,
          -5.213022708892822,
          -7.347899913787842,
          -0.7740796208381653,
          0.16608834266662598,
          6.466081619262695,
          -7.270729064941406,
          -2.6651711463928223,
          -2.3376200199127197,
          0.5553022027015686,
          3.9747226238250732,
          -5.686021327972412,
          -1.9818577766418457,
          0.5715938806533813,
          -1.865951657295227,
          1.3141326904296875,
          4.3701581954956055,
          4.286543846130371,
          -1.0511568784713745,
          -6.2140116691589355,
          5.157007217407227,
          5.037951469421387,
          4.460526943206787,
          2.6574666500091553,
          -6.941100597381592,
          -1.8010419607162476,
          -5.010232925415039,
          0.9807887673377991,
          1.2831584215164185,
          0.8880547285079956,
          -2.3327980041503906,
          -2.3313722610473633,
          -2.43867564201355,
          2.9974451065063477,
          0.9854193925857544,
          3.2124223709106445,
          0.24948127567768097,
          6.622091770172119,
          -2.41171932220459,
          1.8738970756530762,
          -0.5831747055053711,
          -1.3789944648742676,
          -0.6695491671562195,
          0.5476506352424622,
          4.494389057159424,
          4.013064384460449,
          0.24884818494319916,
          0.7465729713439941,
          1.0678319931030273,
          0.6620562076568604,
          -0.08082381635904312,
          -0.1755964308977127,
          2.3208632469177246,
          -2.1497490406036377,
          3.9569332599639893,
          4.084872722625732,
          -1.1300777196884155,
          4.3056440353393555,
          -6.7114338874816895,
          -2.6928861141204834,
          1.225063681602478,
          5.9300336837768555,
          -1.8150951862335205,
          -0.8635616302490234,
          -0.289982408285141,
          -3.5494308471679688,
          -2.387277603149414,
          -1.8544576168060303,
          -0.2351119965314865,
          0.5361387729644775,
          1.2055177688598633,
          0.4634510576725006,
          1.7967911958694458,
          -1.5675405263900757,
          5.957527160644531,
          0.4239024519920349,
          4.533447265625,
          -2.4543769359588623,
          1.0815500020980835,
          2.8435025215148926,
          0.3630061745643616,
          -3.4550082683563232,
          3.162038803100586,
          -3.569664239883423,
          -2.3681788444519043,
          -2.5549709796905518,
          -5.829087257385254,
          -6.830440998077393,
          4.6738433837890625,
          3.577505350112915,
          -2.7691216468811035,
          -1.6029778718948364,
          4.065340518951416,
          -1.6195499897003174,
          -2.74055552482605,
          3.4069137573242188,
          -0.337379515171051,
          -1.7703250646591187,
          2.3140244483947754,
          -0.28478890657424927,
          2.3861589431762695,
          2.124879837036133,
          -0.5837241411209106,
          -4.629182815551758,
          -0.9341045618057251,
          -0.9065457582473755,
          0.15107962489128113,
          -4.820580959320068,
          6.049468517303467,
          0.2583954632282257,
          -7.632416725158691,
          -3.617879629135132,
          4.261796951293945,
          -1.9145474433898926,
          -3.7244577407836914,
          2.5329744815826416,
          -3.7055578231811523,
          3.000793933868408,
          0.7899183034896851,
          -1.275007963180542,
          -0.29674196243286133,
          -2.504737377166748,
          3.9557530879974365,
          5.342040538787842,
          2.3456974029541016,
          -2.0433313846588135,
          0.22317710518836975,
          -6.695629596710205,
          -0.16370771825313568,
          2.6984832286834717,
          -1.4455945491790771,
          3.744863271713257,
          -3.106295108795166,
          -7.425887107849121,
          3.417039155960083,
          -7.299253463745117,
          0.26140663027763367,
          2.1718978881835938,
          4.083357334136963,
          -2.3716468811035156,
          -6.6129045486450195,
          2.0091207027435303,
          0.6088753342628479,
          -0.1058441698551178,
          1.7693557739257812,
          -4.972329616546631,
          6.218454360961914,
          -0.06852877140045166,
          3.843477964401245,
          3.4547841548919678,
          6.396173477172852,
          2.8403494358062744,
          -1.0075311660766602,
          3.4543468952178955,
          0.8843536972999573,
          -2.2141494750976562,
          0.075539231300354,
          -5.700449466705322,
          -0.21685251593589783,
          0.4111882150173187,
          0.06479879468679428,
          2.8611066341400146,
          -1.1936427354812622,
          -0.09082511067390442,
          -1.2771143913269043,
          -2.8381869792938232,
          0.42039865255355835,
          -0.539727509021759,
          -3.758305788040161,
          2.3228559494018555,
          0.7155142426490784,
          -1.3683401346206665,
          -6.32582426071167,
          2.068235397338867,
          2.800405979156494,
          4.188159942626953,
          0.957615077495575,
          0.1810995638370514,
          1.4206929206848145,
          1.2224162817001343,
          -4.188842296600342,
          3.0613324642181396,
          -0.596086859703064,
          -2.535461664199829,
          -7.657784938812256,
          0.625573992729187,
          -4.3774189949035645,
          0.3220451772212982,
          3.9500691890716553,
          -5.483880043029785,
          1.0743122100830078,
          -3.8284225463867188,
          3.321178674697876,
          1.928040623664856,
          7.0853071212768555,
          1.3074301481246948,
          -1.8415462970733643,
          3.122702121734619,
          2.9487709999084473,
          17.286945343017578,
          -0.8038783669471741,
          1.4022032022476196,
          -2.9943008422851562,
          -2.6310951709747314,
          0.8745238184928894,
          -7.468657493591309,
          -1.863618016242981,
          -3.4123785495758057,
          0.24319946765899658,
          -2.921917676925659,
          -4.395156383514404,
          -0.10119270533323288,
          -5.0270843505859375,
          -5.146632671356201,
          -2.0903384685516357,
          0.037579748779535294,
          3.34287691116333,
          -5.140236854553223,
          5.054642200469971,
          -0.18299254775047302,
          1.2208869457244873,
          -0.07703939080238342,
          -0.48658761382102966,
          5.233082294464111,
          1.472477912902832,
          3.739948272705078,
          2.9430789947509766,
          0.4379453957080841,
          -3.753920316696167,
          -5.445664882659912,
          0.03665991500020027,
          -4.665858745574951,
          -2.3322720527648926,
          -1.0435996055603027,
          -0.4024621844291687,
          6.6839375495910645,
          0.23847395181655884,
          -4.844746112823486,
          -6.184406757354736,
          0.06373605132102966,
          1.2522516250610352,
          -2.184000015258789,
          0.2586311101913452,
          -1.9295331239700317,
          0.47833558917045593,
          -6.8669233322143555,
          -4.622183322906494,
          -0.24316123127937317,
          2.5366196632385254,
          -1.176667332649231,
          -0.12367206066846848,
          -4.899287700653076,
          -4.381516456604004,
          -0.7001467347145081,
          -0.25841355323791504,
          5.958391189575195,
          3.149228096008301,
          -4.116907119750977,
          3.6069695949554443,
          -0.6869111657142639,
          3.072942018508911,
          -0.5984594821929932,
          0.37946832180023193,
          -0.697814404964447,
          3.6540935039520264,
          -7.081828594207764,
          17.282506942749023,
          1.9433047771453857,
          -3.800179958343506,
          -3.0738563537597656,
          0.9278320670127869,
          3.193014621734619,
          -3.6886978149414062,
          5.756923198699951,
          2.459676504135132,
          0.8387173414230347,
          3.9502017498016357,
          -7.25489616394043,
          -6.323993682861328,
          -3.7564895153045654,
          -0.5559192299842834,
          0.033204734325408936,
          -6.99312686920166,
          -2.11140513420105,
          5.958391189575195,
          0.742614209651947,
          -4.143864154815674,
          0.6703908443450928,
          -0.36476901173591614,
          0.8314543962478638,
          4.238661766052246,
          -0.7036452293395996,
          -6.060918807983398,
          -7.440371036529541,
          -1.9267008304595947,
          3.434703826904297,
          1.852816104888916,
          -1.634898066520691,
          -0.6635441780090332,
          1.650654673576355,
          4.434666156768799,
          0.19655178487300873,
          -1.6417913436889648,
          2.1988673210144043,
          4.2927937507629395,
          4.082139492034912,
          -5.938289642333984,
          1.4745663404464722,
          -2.4942216873168945,
          5.220710277557373,
          4.206932544708252,
          -1.9452413320541382,
          0.783750057220459,
          -2.8108086585998535,
          4.481528282165527,
          -2.3288142681121826,
          1.4565434455871582,
          -2.6578116416931152,
          4.62066650390625,
          -4.532336711883545,
          2.410768985748291,
          1.0244852304458618,
          6.250026226043701,
          -2.2779242992401123,
          -3.50591778755188,
          1.8868472576141357,
          1.623423457145691,
          2.5177977085113525,
          3.8648874759674072,
          3.210803270339966,
          -6.522458553314209,
          4.501760005950928,
          -0.2250574231147766,
          -7.261944770812988,
          0.6633796691894531,
          -0.9278496503829956,
          3.204160213470459,
          -1.6890206336975098,
          3.0628814697265625,
          -0.702319860458374,
          -4.760880947113037,
          4.1400604248046875,
          0.3374609649181366,
          1.4566893577575684,
          1.2877906560897827,
          1.8738315105438232,
          3.2293102741241455,
          1.2660712003707886,
          2.1017239093780518,
          6.428794860839844,
          1.8114469051361084,
          3.800595760345459,
          -1.208997130393982,
          4.463298797607422,
          3.213116407394409,
          -0.7054767608642578,
          4.1446123123168945,
          1.4220153093338013,
          -3.611828565597534,
          -3.835414171218872,
          -4.469218730926514,
          -3.5240566730499268,
          -3.176527738571167,
          17.26009178161621,
          -2.5608177185058594,
          -4.4623003005981445,
          -3.4473488330841064,
          -6.215900421142578,
          4.087381362915039,
          -2.2279038429260254,
          6.839549541473389,
          1.3904118537902832,
          -6.1250739097595215,
          -6.347393035888672,
          -0.36632415652275085,
          -4.582982540130615,
          0.775837242603302,
          4.45857572555542,
          -2.749033212661743,
          -0.5178984999656677,
          -4.730299949645996,
          -3.4708092212677,
          0.282978892326355,
          -2.173659563064575,
          3.027146577835083,
          -7.890578269958496,
          2.1476426124572754,
          -0.41412651538848877,
          4.032942295074463,
          -1.5102839469909668,
          -1.1697157621383667,
          -5.6242523193359375,
          -2.613508939743042,
          0.5595035552978516,
          5.0849761962890625,
          -2.5930044651031494,
          1.2027812004089355,
          4.512278079986572,
          -7.8255934715271,
          1.134899377822876,
          -6.727847576141357,
          -2.217104911804199,
          -4.857891082763672,
          -6.730113983154297,
          -6.903165817260742,
          1.5603939294815063,
          -6.105772972106934,
          4.708317279815674,
          0.20677585899829865,
          -0.07826601713895798,
          1.0285379886627197,
          4.130712985992432,
          -0.4150131344795227,
          -3.366182565689087,
          4.0519795417785645,
          0.6060858368873596,
          1.59951913356781,
          -0.6394767761230469,
          2.6889140605926514,
          1.150539517402649,
          -6.26261568069458,
          4.536430358886719,
          -1.1097620725631714,
          0.9408891201019287,
          3.4355628490448,
          1.2487212419509888,
          0.5422655940055847,
          1.2007064819335938,
          4.44835090637207,
          6.416780471801758,
          -0.8168901801109314,
          -4.651888370513916,
          -4.004015922546387,
          -0.07723885029554367,
          -6.22202205657959,
          -6.503880023956299,
          -0.9193185567855835,
          2.2119438648223877,
          -1.5291662216186523,
          -5.955043315887451,
          1.9101974964141846,
          0.580282986164093,
          -3.632352590560913,
          -0.44865134358406067,
          -0.2368386685848236,
          -2.2453391551971436,
          -3.741887092590332,
          -5.713473796844482,
          -0.35760968923568726,
          -1.8621934652328491,
          -2.0584590435028076,
          -2.4424967765808105,
          3.101092576980591,
          3.8688290119171143,
          -3.751786947250366,
          4.342979431152344,
          -3.653367280960083,
          -3.3649110794067383,
          1.9893887042999268,
          4.3601789474487305,
          -3.734604835510254,
          -6.4041900634765625,
          -3.3602192401885986,
          4.111876487731934,
          1.4712175130844116,
          -7.438035488128662,
          -1.2060394287109375,
          -0.2462911456823349,
          -0.9095762968063354,
          -1.3898965120315552,
          -3.23088002204895,
          -5.932555675506592,
          -4.511210918426514,
          -6.94469690322876,
          -6.480838298797607,
          1.7391512393951416,
          3.01226544380188,
          4.040407657623291,
          -7.495131492614746,
          1.9790679216384888,
          -3.8148672580718994,
          -0.5524025559425354,
          0.020615875720977783,
          3.8443684577941895,
          -5.060083389282227,
          4.949985027313232,
          0.20879243314266205,
          1.0963430404663086,
          1.8498533964157104,
          3.652270793914795,
          0.9712126851081848,
          4.832560062408447,
          -4.736414909362793,
          4.236283779144287,
          0.34561988711357117,
          -1.4996625185012817,
          4.028652667999268,
          0.2111656665802002,
          5.467196941375732,
          6.321342468261719,
          -4.17767858505249,
          -2.3332810401916504,
          -0.9574392437934875,
          4.268731117248535,
          1.0803048610687256,
          3.5041608810424805,
          3.5399410724639893,
          5.934020042419434,
          1.3555288314819336,
          0.22736652195453644,
          3.8108482360839844,
          -4.736831188201904,
          -4.960607051849365,
          1.4229671955108643,
          2.9569010734558105,
          2.2777323722839355,
          0.6175204515457153,
          -3.8899154663085938,
          -0.31252238154411316,
          -3.5697743892669678,
          -4.13454532623291,
          -3.4847912788391113,
          -6.0816168785095215,
          -2.156151056289673,
          -0.3269011080265045,
          -3.841277599334717,
          -0.7990055084228516,
          -2.327462911605835,
          -2.371419906616211,
          -1.9167009592056274,
          -0.8708187341690063,
          1.487705111503601,
          -1.22652268409729,
          0.49907076358795166,
          1.1142258644104004,
          0.14823172986507416,
          -4.167150974273682,
          1.5892119407653809,
          2.2281055450439453,
          1.2575323581695557,
          2.3329710960388184,
          1.334944486618042,
          3.3683085441589355,
          2.506535768508911,
          -2.594862222671509,
          0.025780390948057175,
          -6.58186674118042,
          -4.418298721313477,
          3.3389570713043213,
          0.13400964438915253,
          -2.795856475830078,
          0.4347063899040222,
          -3.937436819076538,
          -2.449449062347412,
          -5.171128749847412,
          3.5812511444091797,
          0.9450497031211853,
          0.16752450168132782,
          3.1718544960021973,
          -3.502159833908081,
          1.7149221897125244,
          -3.265840768814087,
          -0.7920029759407043,
          0.26418396830558777,
          1.9170397520065308,
          2.837157726287842,
          -1.3319392204284668,
          -6.906301021575928,
          -4.227179050445557,
          -6.5637407302856445,
          2.700448513031006,
          -2.151603937149048,
          -1.447521686553955,
          1.730472207069397,
          2.5934245586395264,
          -3.004230260848999,
          -2.3982861042022705,
          2.145751953125,
          -0.5421088337898254,
          0.8966736197471619,
          -3.429340362548828,
          -0.6920515298843384,
          1.5238829851150513,
          -4.674407482147217,
          4.026303291320801,
          3.4396731853485107,
          -1.3110052347183228,
          0.18588218092918396,
          -0.9136305451393127,
          3.496584415435791,
          1.0659232139587402,
          3.6829919815063477,
          -4.476327419281006,
          -2.012139320373535,
          0.52030348777771,
          -4.660338878631592,
          -3.118525743484497,
          3.839752435684204,
          1.164894700050354,
          3.0781636238098145,
          1.5051308870315552,
          -4.333123207092285,
          -4.431567192077637,
          0.8492048978805542,
          2.768717050552368,
          2.9405999183654785,
          -5.4671711921691895,
          -0.6804745197296143,
          2.7231767177581787,
          4.149334907531738,
          1.4368587732315063,
          2.671149492263794,
          -1.0232744216918945,
          2.552154302597046,
          4.224595069885254,
          5.871128082275391,
          3.6248488426208496,
          0.5452470183372498,
          6.340752601623535,
          0.4250563979148865,
          1.9511877298355103,
          -4.398957252502441,
          -5.306537628173828,
          4.049081325531006,
          4.788106441497803,
          -6.007197380065918,
          1.5698044300079346,
          -2.160968780517578,
          1.7229461669921875,
          -3.9245665073394775,
          -6.091020107269287,
          2.1558778285980225,
          -0.9225896596908569,
          2.197129964828491,
          -0.3320891857147217,
          2.4181838035583496,
          2.8147776126861572,
          -2.3079349994659424,
          1.455510139465332,
          -4.4449310302734375,
          3.3970947265625,
          0.768298864364624,
          -4.669314384460449,
          1.3484690189361572,
          2.5045087337493896,
          2.779078245162964,
          1.6680448055267334,
          5.097532749176025,
          -2.0768377780914307,
          -6.671548843383789,
          -0.39918217062950134,
          -4.895212650299072,
          -3.446558952331543,
          4.306421756744385,
          -5.849569797515869,
          -6.327486515045166,
          -4.232100963592529,
          -2.730452299118042,
          -3.7768595218658447,
          3.9086570739746094,
          1.0255095958709717,
          4.4530720710754395,
          -0.8790079355239868,
          0.7127602100372314,
          1.6260786056518555,
          -3.5624754428863525,
          -3.27805495262146,
          4.232791423797607,
          0.03710176423192024,
          -0.26320362091064453,
          4.083383560180664,
          -0.7584444284439087,
          -4.325441837310791,
          -4.217116832733154,
          1.960705280303955,
          4.75682258605957,
          -2.85442852973938,
          2.291314125061035,
          0.9074137210845947,
          3.4392666816711426,
          3.5186026096343994,
          -0.60597825050354,
          3.258345127105713,
          4.056817054748535,
          1.0249003171920776,
          2.2871761322021484,
          4.325974464416504,
          3.380427598953247,
          2.833009719848633,
          -6.798187255859375,
          4.116336345672607,
          -2.740172863006592,
          -4.388352394104004,
          -4.635641098022461,
          2.498187780380249,
          -2.94588041305542,
          -0.9613338708877563,
          4.6335039138793945,
          3.5675830841064453,
          -4.553152084350586,
          -6.664574146270752,
          0.6017771363258362,
          -1.887757658958435,
          3.814587354660034,
          2.135556221008301,
          -2.01922345161438,
          -0.11395818740129471,
          -7.0879082679748535,
          3.352396249771118,
          1.407564401626587,
          -5.295705795288086,
          0.24625615775585175,
          -4.472921371459961,
          1.67948317527771,
          -4.141110420227051,
          -0.9276382923126221,
          3.399351119995117,
          0.8858056664466858,
          -0.9225186705589294,
          2.090219259262085,
          2.501648426055908,
          1.023348093032837,
          -2.812891960144043,
          3.5970892906188965,
          3.512957811355591,
          2.4029862880706787,
          4.708255290985107,
          1.1095941066741943,
          5.9883623123168945,
          4.410367012023926,
          2.4839069843292236,
          2.4726204872131348,
          -0.6792483329772949,
          -1.894453763961792,
          0.19495488703250885,
          1.7056232690811157,
          -0.9988409280776978,
          3.841304302215576,
          1.9782673120498657,
          -2.368152618408203,
          1.7692664861679077,
          -4.0631422996521,
          -3.007045030593872,
          2.211092710494995,
          4.114126205444336,
          3.2250797748565674,
          2.4198715686798096,
          2.0256905555725098,
          -5.819455146789551,
          1.1348992586135864,
          1.8985600471496582,
          -1.574609637260437,
          1.1806719303131104,
          -2.290611505508423,
          -0.2575598657131195,
          3.9567971229553223,
          -3.1144936084747314,
          -3.527050256729126,
          6.5045318603515625,
          4.488624572753906,
          -0.7743139266967773,
          -3.7314302921295166,
          -3.4834177494049072,
          0.9868726134300232,
          3.7746098041534424,
          2.3574461936950684,
          0.05610956624150276,
          3.605243444442749,
          2.487544536590576,
          -6.238603115081787,
          3.808572769165039,
          -3.4626073837280273,
          0.3537497818470001,
          0.778770923614502,
          4.708349704742432,
          4.547611713409424,
          2.2943902015686035,
          4.315701007843018,
          4.607896327972412,
          2.475841999053955,
          -0.18531252443790436,
          2.9271011352539062,
          4.332968711853027,
          -3.887878656387329,
          -2.945531129837036,
          0.3774472773075104,
          3.6252615451812744,
          -5.41976261138916,
          1.85701584815979,
          -3.3102681636810303,
          1.1556999683380127,
          2.6253573894500732,
          1.5638446807861328,
          -6.939584255218506,
          -2.4583091735839844,
          4.982265949249268,
          -0.18126830458641052,
          -0.07096996158361435,
          2.8939127922058105,
          3.033454656600952,
          -1.946606993675232,
          -3.447006940841675,
          -0.7043688297271729,
          -3.6980793476104736,
          -1.9987614154815674,
          4.3463287353515625,
          1.4646670818328857,
          -0.37271955609321594,
          5.050130844116211,
          -5.439456939697266,
          2.2418935298919678,
          -3.4120073318481445,
          -1.4733327627182007,
          -3.2344396114349365,
          0.8980923891067505,
          -2.3850345611572266,
          -3.1223230361938477,
          1.9670907258987427,
          -4.714267730712891,
          -3.579350709915161,
          -2.5505526065826416,
          -2.0231873989105225,
          2.330617904663086,
          2.439030647277832,
          1.6415561437606812,
          3.627620220184326,
          -3.827695846557617,
          2.8039815425872803,
          2.7952821254730225,
          1.5202986001968384,
          -3.641702890396118,
          -3.9584615230560303,
          -4.767918109893799,
          -5.114776134490967,
          -4.46307897567749,
          -0.2529129683971405,
          4.662245273590088,
          2.73681378364563,
          0.9653878211975098,
          3.1990678310394287,
          -1.7520835399627686,
          0.17799724638462067,
          4.93632173538208,
          -0.5118142366409302,
          4.539366245269775,
          -1.2416093349456787,
          0.7227845191955566,
          4.180797576904297,
          0.0346306636929512,
          -2.827212333679199,
          3.736743450164795,
          -6.884176731109619,
          -5.296459674835205,
          0.5020288228988647,
          -3.4817416667938232,
          -0.6402947902679443,
          0.40087890625,
          1.8835355043411255,
          -3.3625845909118652,
          1.8164558410644531,
          -6.687385082244873,
          4.702723026275635,
          3.3609366416931152,
          -0.10408013314008713,
          4.420682430267334,
          2.7562222480773926,
          4.014880657196045,
          -4.080626964569092,
          4.3126749992370605,
          -0.9925156235694885,
          -3.4295992851257324,
          4.899298667907715,
          -4.578721046447754,
          3.928820848464966,
          0.7300691604614258,
          -0.9113608002662659,
          1.240423321723938
         ],
         "y": [
          -4.879308223724365,
          4.304052352905273,
          2.8316774368286133,
          -1.9027568101882935,
          -2.2018964290618896,
          -0.6337323188781738,
          9.990523338317871,
          3.8920400142669678,
          2.8608529567718506,
          5.750697612762451,
          -8.32623291015625,
          1.7626677751541138,
          10.424845695495605,
          4.051560878753662,
          6.1976542472839355,
          -1.160254955291748,
          -4.107415199279785,
          1.5487622022628784,
          -8.161537170410156,
          8.37529182434082,
          -5.594419956207275,
          4.1860432624816895,
          -2.178961753845215,
          -6.13316011428833,
          -4.290124893188477,
          -3.3105387687683105,
          -4.503594875335693,
          -5.3218183517456055,
          0.49300000071525574,
          -2.401336669921875,
          -0.622075617313385,
          -0.4980437457561493,
          4.565480709075928,
          8.801910400390625,
          6.835687160491943,
          -0.487468957901001,
          1.8342076539993286,
          -8.781454086303711,
          10.219951629638672,
          -5.177797317504883,
          -4.47220516204834,
          -3.8865315914154053,
          -0.07627508789300919,
          -3.467902898788452,
          2.112126350402832,
          0.905096173286438,
          -4.714707851409912,
          -0.012171318754553795,
          -2.529733180999756,
          -3.8637070655822754,
          -3.4332385063171387,
          8.079270362854004,
          0.35369154810905457,
          5.791498184204102,
          -7.835793972015381,
          1.2910041809082031,
          -1.6611226797103882,
          -8.893768310546875,
          -0.3250320851802826,
          0.5432546138763428,
          -6.796674728393555,
          -4.2507147789001465,
          -1.1748275756835938,
          1.3756071329116821,
          -1.3758950233459473,
          2.6513307094573975,
          -0.9094749689102173,
          -4.099676609039307,
          -1.099898338317871,
          -0.2498750537633896,
          -1.3357837200164795,
          1.3876328468322754,
          5.671988487243652,
          -1.8244824409484863,
          -8.672016143798828,
          1.1339008808135986,
          -4.589755535125732,
          1.6702373027801514,
          -4.477636814117432,
          3.4908227920532227,
          -1.1518394947052002,
          0.39280033111572266,
          1.9442120790481567,
          9.643842697143555,
          4.1350321769714355,
          0.5441130995750427,
          -0.42491546273231506,
          8.318269729614258,
          3.267825126647949,
          -8.498661994934082,
          -3.7075891494750977,
          -1.558609127998352,
          -5.328317165374756,
          0.6631654500961304,
          -6.322150230407715,
          3.738862991333008,
          -4.092336177825928,
          -0.9753398299217224,
          -3.5013086795806885,
          7.912014961242676,
          10.17000961303711,
          8.230664253234863,
          2.017820119857788,
          3.77545428276062,
          1.6430983543395996,
          -2.7670466899871826,
          -8.274198532104492,
          0.22590582072734833,
          -7.038633346557617,
          5.079665660858154,
          -0.4999730885028839,
          0.6328170895576477,
          1.5467345714569092,
          -3.5153865814208984,
          -3.1584279537200928,
          3.864835500717163,
          -3.024193286895752,
          6.496638774871826,
          -1.1008570194244385,
          -3.305560350418091,
          -2.9024393558502197,
          4.469954967498779,
          1.4389485120773315,
          2.765298843383789,
          -2.462751626968384,
          -6.150897979736328,
          -4.385499477386475,
          1.8692357540130615,
          -4.656162261962891,
          1.4307986497879028,
          0.5145260095596313,
          3.7236642837524414,
          1.8099243640899658,
          -0.6169103384017944,
          8.056864738464355,
          9.551319122314453,
          2.80029296875,
          -7.122145175933838,
          6.510749816894531,
          1.2547775506973267,
          -3.287199020385742,
          -6.866721153259277,
          -3.8429222106933594,
          -8.401862144470215,
          -4.782493591308594,
          -0.6417852640151978,
          8.204593658447266,
          2.3082051277160645,
          -0.1864493191242218,
          -2.896275043487549,
          -1.2950619459152222,
          -7.940464973449707,
          -3.8238251209259033,
          -2.028773784637451,
          2.7527048587799072,
          -0.9264688491821289,
          0.1918538212776184,
          -4.628849983215332,
          3.82993745803833,
          1.0430957078933716,
          9.158683776855469,
          -3.6722874641418457,
          -0.13610093295574188,
          4.3522515296936035,
          0.9006648063659668,
          6.419872760772705,
          4.985526084899902,
          -7.394918918609619,
          6.395895004272461,
          1.5153563022613525,
          1.5014594793319702,
          -0.8588314056396484,
          1.0306440591812134,
          -6.720214366912842,
          -2.1017942428588867,
          3.545041084289551,
          0.04675840213894844,
          -8.385869979858398,
          1.134797215461731,
          -0.029248720034956932,
          7.83488130569458,
          -0.5826185941696167,
          2.965444564819336,
          -3.391580581665039,
          -2.290130853652954,
          5.44478702545166,
          1.763073444366455,
          -5.691265106201172,
          8.026301383972168,
          2.3687281608581543,
          1.6252353191375732,
          -8.28813648223877,
          -7.749354839324951,
          0.3822023868560791,
          -0.8718918561935425,
          -1.4348880052566528,
          -1.8597283363342285,
          2.374110460281372,
          -0.291106253862381,
          -1.1915056705474854,
          5.024896621704102,
          8.81943130493164,
          1.3922746181488037,
          0.5872921347618103,
          2.573683261871338,
          5.693917751312256,
          3.309950828552246,
          -8.008612632751465,
          5.840362548828125,
          0.03709319606423378,
          0.8872641324996948,
          -3.3649284839630127,
          -2.183980703353882,
          -0.378553569316864,
          -1.77734375,
          -0.5445817708969116,
          -4.386318683624268,
          4.886768817901611,
          -8.415684700012207,
          -8.389824867248535,
          0.05896430462598801,
          5.834638595581055,
          4.702497959136963,
          2.6555137634277344,
          -3.8951151371002197,
          -1.3222590684890747,
          -0.6389473080635071,
          6.781820297241211,
          1.3274598121643066,
          6.3111042976379395,
          3.3936407566070557,
          -2.213965654373169,
          6.143659591674805,
          8.153857231140137,
          4.5833611488342285,
          0.547683835029602,
          9.366226196289062,
          5.068845272064209,
          -0.7709062695503235,
          3.8136279582977295,
          8.332561492919922,
          0.207760751247406,
          -7.670669078826904,
          1.7575418949127197,
          1.107741117477417,
          3.7968244552612305,
          2.1830644607543945,
          5.460290431976318,
          -5.1776628494262695,
          1.4137064218521118,
          -4.144502639770508,
          -1.5591329336166382,
          4.7864909172058105,
          -0.5077518820762634,
          -3.938838481903076,
          -3.0702290534973145,
          1.4634721279144287,
          -2.289552927017212,
          -0.6521246433258057,
          -1.81133234500885,
          -1.808800220489502,
          1.376253604888916,
          1.659353256225586,
          -8.871395111083984,
          -2.354097366333008,
          -0.6049737334251404,
          1.1626391410827637,
          1.3840703964233398,
          1.0892137289047241,
          1.239952564239502,
          5.848002910614014,
          9.189626693725586,
          -5.531485080718994,
          -4.71049690246582,
          1.9914536476135254,
          5.370162010192871,
          4.1970953941345215,
          -1.191217303276062,
          -4.994561672210693,
          -2.731907367706299,
          -7.38908576965332,
          3.8217952251434326,
          3.8119113445281982,
          5.3672003746032715,
          -3.9894580841064453,
          -0.844964861869812,
          -1.2209516763687134,
          -7.445878028869629,
          -1.7219634056091309,
          1.5017690658569336,
          6.9294657707214355,
          -2.943613290786743,
          -8.218581199645996,
          1.416920781135559,
          0.9707606434822083,
          1.3409698009490967,
          7.702715873718262,
          0.5401499271392822,
          -1.3304405212402344,
          -6.662750720977783,
          -0.23002760112285614,
          9.649977684020996,
          10.547867774963379,
          1.3739427328109741,
          -8.30274486541748,
          0.21301676332950592,
          5.455536842346191,
          -0.06810154020786285,
          4.1034955978393555,
          -2.3674821853637695,
          -6.427493572235107,
          0.43393492698669434,
          7.6879730224609375,
          -1.9009718894958496,
          0.3025277256965637,
          2.2775497436523438,
          1.2545665502548218,
          3.77488112449646,
          7.957749843597412,
          6.852054595947266,
          4.942277431488037,
          1.8026922941207886,
          8.845401763916016,
          3.080125093460083,
          -8.401673316955566,
          -3.0596561431884766,
          -2.6852920055389404,
          5.9052863121032715,
          -2.2837836742401123,
          1.0784516334533691,
          9.511116027832031,
          -5.99869966506958,
          0.7725558280944824,
          0.3989923894405365,
          1.07273268699646,
          1.0782766342163086,
          -5.84891939163208,
          3.9612207412719727,
          -2.5324246883392334,
          -7.332613468170166,
          -6.696168422698975,
          4.382554531097412,
          -7.987377166748047,
          -1.2075557708740234,
          -6.821940898895264,
          -2.7393295764923096,
          -0.8827046751976013,
          -1.2300009727478027,
          7.311400890350342,
          0.19024284183979034,
          -6.814111709594727,
          2.824751853942871,
          4.6621246337890625,
          -8.401673316955566,
          3.8637936115264893,
          5.042213439941406,
          3.6762759685516357,
          3.736969232559204,
          -3.3934671878814697,
          6.300020694732666,
          8.956363677978516,
          4.174734115600586,
          1.2380123138427734,
          4.894069194793701,
          -1.7343099117279053,
          -4.608750820159912,
          7.9813432693481445,
          9.709447860717773,
          -1.802400827407837,
          -1.7296178340911865,
          -4.012572288513184,
          7.668632984161377,
          4.107889652252197,
          5.965237140655518,
          2.422959804534912,
          -1.5030442476272583,
          5.078875541687012,
          9.268818855285645,
          -7.70149040222168,
          -1.3060472011566162,
          0.6456802487373352,
          -3.924654960632324,
          7.921947956085205,
          0.13028380274772644,
          4.37513542175293,
          -0.08450666069984436,
          -3.7205276489257812,
          -1.0536091327667236,
          -2.8859825134277344,
          -2.449040412902832,
          6.412689208984375,
          -8.406157493591309,
          -6.152052879333496,
          0.3473687767982483,
          1.695491075515747,
          -3.9254488945007324,
          0.9511014819145203,
          -3.483644485473633,
          -8.451645851135254,
          -0.066312775015831,
          -1.4421545267105103,
          -5.870061874389648,
          1.1641815900802612,
          -3.1933774948120117,
          5.684086322784424,
          -2.5064544677734375,
          1.465741515159607,
          2.775834321975708,
          -1.998544692993164,
          5.046111583709717,
          -2.921395778656006,
          -1.3906745910644531,
          7.708689212799072,
          1.4217820167541504,
          -3.294077157974243,
          -2.4841089248657227,
          5.915482997894287,
          0.5344066023826599,
          -8.111234664916992,
          -5.917878150939941,
          -5.21131706237793,
          -6.851221084594727,
          -3.118180513381958,
          1.6966606378555298,
          -6.8617143630981445,
          -1.3174841403961182,
          -4.865254878997803,
          -4.1298627853393555,
          7.648712158203125,
          -1.3140969276428223,
          4.486489295959473,
          8.468231201171875,
          1.0250983238220215,
          -4.659081935882568,
          -3.1974639892578125,
          8.150413513183594,
          1.6123255491256714,
          -1.6054048538208008,
          10.180499076843262,
          -8.696542739868164,
          1.391695261001587,
          -2.1033058166503906,
          -0.16522373259067535,
          6.745233058929443,
          5.576889991760254,
          1.3611825704574585,
          -6.6914567947387695,
          3.560591459274292,
          -7.499996185302734,
          5.83173131942749,
          5.353534698486328,
          6.652510166168213,
          9.915165901184082,
          -0.492532879114151,
          -0.24945931136608124,
          -7.559218406677246,
          2.753340721130371,
          0.3516283333301544,
          1.0582456588745117,
          -0.46956202387809753,
          -0.8764414191246033,
          9.804533958435059,
          2.664036273956299,
          -8.060039520263672,
          2.995039939880371,
          -3.506639003753662,
          5.638381481170654,
          -0.11088129132986069,
          1.3440604209899902,
          1.370306134223938,
          6.446295738220215,
          5.349963665008545,
          0.005680963397026062,
          1.0222669839859009,
          0.5168696641921997,
          0.27868714928627014,
          -8.546089172363281,
          -4.918119430541992,
          -1.8206745386123657,
          -1.9452353715896606,
          0.3249949514865875,
          5.4716925621032715,
          8.351959228515625,
          7.056951522827148,
          -3.0658159255981445,
          -2.4955179691314697,
          -1.5568599700927734,
          3.968665838241577,
          -1.3472402095794678,
          -1.019477128982544,
          -4.7763166427612305,
          1.2496260404586792,
          4.010006904602051,
          -1.8737776279449463,
          -6.8730573654174805,
          7.043283939361572,
          -3.4762661457061768,
          -3.3080382347106934,
          0.1389966905117035,
          3.4969990253448486,
          -0.35170605778694153,
          -0.0863325297832489,
          6.987931728363037,
          -1.2746397256851196,
          -0.34081706404685974,
          3.865121364593506,
          4.107329845428467,
          0.18647536635398865,
          3.7540335655212402,
          -5.55405330657959,
          -5.183508396148682,
          1.893941044807434,
          -3.676264524459839,
          -4.343357086181641,
          5.245082378387451,
          0.2423562854528427,
          -3.666619300842285,
          -3.4404871463775635,
          -1.7671679258346558,
          2.0240235328674316,
          1.7665627002716064,
          3.0916507244110107,
          -3.073690176010132,
          7.601592540740967,
          6.595193862915039,
          5.543907165527344,
          6.689298152923584,
          -3.715761184692383,
          6.550159931182861,
          -4.003780841827393,
          1.416277289390564,
          4.292243003845215,
          -4.250982761383057,
          -6.65943717956543,
          2.0088632106781006,
          0.7125699520111084,
          -5.932577133178711,
          8.261068344116211,
          -3.5332841873168945,
          -0.4367665946483612,
          3.5630645751953125,
          3.7743003368377686,
          0.47173741459846497,
          -0.4840050935745239,
          -0.5319169759750366,
          -6.376023292541504,
          4.537110805511475,
          -1.4039140939712524,
          0.5581128597259521,
          8.800873756408691,
          -4.4152913093566895,
          -3.219583749771118,
          -2.473203420639038,
          1.238549828529358,
          -7.397563934326172,
          6.509881973266602,
          -6.311672210693359,
          -0.13726280629634857,
          5.153972625732422,
          -0.8779926300048828,
          0.3530237078666687,
          5.535332202911377,
          4.481829643249512,
          6.163455486297607,
          -4.576602458953857,
          -8.272525787353516,
          2.0154521465301514,
          -8.772899627685547,
          -0.530640721321106,
          4.083259105682373,
          9.123600959777832,
          10.575943946838379,
          -3.4586641788482666,
          -3.1055591106414795,
          -6.642303466796875,
          4.519351959228516,
          -8.889577865600586,
          5.83924674987793,
          -0.3275485932826996,
          -6.014455318450928,
          -1.9462733268737793,
          -1.864951729774475,
          4.536303520202637,
          1.7032853364944458,
          2.306796073913574,
          -0.3600704073905945,
          3.0070676803588867,
          -7.208060264587402,
          -3.953483819961548,
          2.4207630157470703,
          -4.763088703155518,
          -0.18449659645557404,
          1.916121482849121,
          6.7916460037231445,
          -0.05276988819241524,
          -5.605015754699707,
          5.721417427062988,
          4.007616996765137,
          -5.6848297119140625,
          -0.6453434824943542,
          5.232354164123535,
          7.905773639678955,
          -3.971700429916382,
          -0.1557215452194214,
          6.2531914710998535,
          4.894326686859131,
          5.02414083480835,
          2.8866872787475586,
          4.368130207061768,
          -1.2086440324783325,
          -1.109180212020874,
          -6.815309524536133,
          3.367891788482666,
          9.22006893157959,
          -3.0659844875335693,
          1.0547171831130981,
          -3.295201063156128,
          0.08825119584798813,
          -4.40863561630249,
          8.311158180236816,
          -4.902197360992432,
          8.079172134399414,
          -4.098654270172119,
          -2.6831295490264893,
          -5.365756511688232,
          -3.643921375274658,
          -2.0339787006378174,
          0.875153124332428,
          0.3706737458705902,
          -1.6609432697296143,
          1.6895852088928223,
          -3.4128811359405518,
          -4.850865840911865,
          -3.713038921356201,
          -1.1526641845703125,
          5.886331081390381,
          0.6728107333183289,
          -4.83540153503418,
          0.6007408499717712,
          -2.5599308013916016,
          -0.8503496646881104,
          -6.167707443237305,
          -7.464602470397949,
          0.49461445212364197,
          3.822000503540039,
          4.30373477935791,
          0.5792199969291687,
          -2.0952818393707275,
          2.1993911266326904,
          4.165805816650391,
          7.644394874572754,
          6.732475280761719,
          -1.3669674396514893,
          -1.2964153289794922,
          1.5651506185531616,
          1.4649341106414795,
          -6.596312999725342,
          -3.288949728012085,
          -1.753617763519287,
          -3.9165613651275635,
          -3.508455753326416,
          6.108457565307617,
          -6.299774169921875,
          6.737305164337158,
          -1.7085115909576416,
          9.572550773620605,
          1.849330186843872,
          5.994755744934082,
          1.1485577821731567,
          1.280684471130371,
          -2.8724477291107178,
          6.540132522583008,
          -2.3261470794677734,
          1.330075740814209,
          1.6062490940093994,
          1.9061843156814575,
          -2.1292521953582764,
          -2.04709529876709,
          -6.698109149932861,
          1.0402263402938843,
          1.2801216840744019,
          -6.761259078979492,
          -2.645613431930542,
          -3.5583837032318115,
          -8.287393569946289,
          -3.5231173038482666,
          -3.558579683303833,
          -0.03917466104030609,
          -3.655205488204956,
          -4.862356185913086,
          -3.5240478515625,
          1.3392457962036133,
          -3.6835973262786865,
          -3.252955913543701,
          -0.779538094997406,
          -3.8049139976501465,
          8.13193130493164,
          -4.200597286224365,
          5.227391719818115,
          2.1726467609405518,
          3.0596415996551514,
          -0.6351032853126526,
          0.5768707990646362,
          3.869511842727661,
          1.7144407033920288,
          -8.124774932861328,
          0.09554606676101685,
          -7.113957405090332,
          -0.1253965198993683,
          -4.978672027587891,
          6.19059419631958,
          -1.391182541847229,
          -5.208596229553223,
          -1.88914155960083,
          1.5572115182876587,
          -1.951386570930481,
          -8.178373336791992,
          -4.2523040771484375,
          0.3113018870353699,
          1.6461971998214722,
          -1.7374757528305054,
          0.30889463424682617,
          -0.4954995810985565,
          -2.1183724403381348,
          -0.870180070400238,
          -3.31461501121521,
          7.799052715301514,
          1.6509485244750977,
          5.328201770782471,
          7.430054187774658,
          6.149416923522949,
          2.3908259868621826,
          1.0193471908569336,
          -0.11670012772083282,
          7.595364570617676,
          9.273993492126465,
          4.65564489364624,
          6.880880355834961,
          0.43724584579467773,
          2.9771370887756348,
          -0.8372124433517456,
          6.068111896514893,
          -3.563575267791748,
          3.785526990890503,
          -7.8621039390563965,
          9.886275291442871,
          -0.13775722682476044,
          0.2254820466041565,
          -2.726552963256836,
          -4.0005669593811035,
          4.086437225341797,
          1.056358814239502,
          5.476317882537842,
          5.846551418304443,
          0.3417287766933441,
          -3.4371426105499268,
          -5.240263938903809,
          -2.442915201187134,
          1.242302417755127,
          -0.8884889483451843,
          -4.685264587402344,
          3.833294630050659,
          2.5205483436584473,
          0.32580164074897766,
          -4.5234293937683105,
          8.265482902526855,
          -8.776981353759766,
          -5.567808151245117,
          1.0947518348693848,
          2.982541561126709,
          -3.751350164413452,
          7.918201446533203,
          -5.236989974975586,
          -0.18616287410259247,
          1.7717849016189575,
          -1.8035407066345215,
          -0.9877753257751465,
          -0.5330198407173157,
          -7.444185256958008,
          -2.707523822784424,
          3.975142478942871,
          4.4748406410217285,
          -3.5322818756103516,
          -3.546661138534546,
          5.516969680786133,
          -5.171160697937012,
          1.4105784893035889,
          -6.8489251136779785,
          -1.5668206214904785,
          3.5453338623046875,
          -5.261654853820801,
          8.08047866821289,
          -5.230966567993164,
          -1.874536395072937,
          -4.118617057800293,
          -8.546110153198242,
          -3.5862650871276855,
          -8.261906623840332,
          -2.103630542755127,
          -5.139464855194092,
          1.6952232122421265,
          6.037786960601807,
          -4.246883392333984,
          -5.682072639465332,
          0.646266758441925,
          10.690658569335938,
          3.8521509170532227,
          0.32001590728759766,
          9.796591758728027,
          -0.6714760065078735,
          0.0036893626675009727,
          3.746534824371338,
          0.45492300391197205,
          3.7744574546813965,
          -3.667971134185791,
          1.2796462774276733,
          -7.300474643707275,
          -2.3989245891571045,
          1.3440605401992798,
          3.7157342433929443,
          4.387874126434326,
          7.039256572723389,
          -3.296556234359741,
          -6.353094100952148,
          -6.3913140296936035,
          9.379046440124512,
          6.566662311553955,
          -8.691802978515625,
          4.503194808959961,
          2.1013314723968506,
          7.704674243927002,
          4.7956223487854,
          5.879258155822754,
          2.8715834617614746,
          -1.925722360610962,
          -3.3399124145507812,
          1.2299108505249023,
          2.160240411758423,
          1.343375563621521,
          -3.1241815090179443,
          3.398139238357544,
          -6.882702350616455,
          1.4713828563690186,
          -8.54595947265625,
          5.44473934173584,
          -5.421039581298828,
          -1.4468348026275635,
          -5.011333465576172,
          -1.7597863674163818,
          8.569738388061523,
          -6.342060089111328,
          -8.29919719696045,
          3.8406968116760254,
          -3.876145124435425,
          7.664759635925293,
          -2.9220190048217773,
          -0.5644327998161316,
          1.7887297868728638,
          4.347624778747559,
          -4.334117889404297,
          0.66034334897995,
          0.4749775230884552,
          -0.4910532534122467,
          -5.415393352508545,
          -6.93082857131958,
          2.127314329147339,
          2.617849588394165,
          5.497881889343262,
          1.9609479904174805,
          6.306560516357422,
          5.468294143676758,
          8.680351257324219,
          -0.013106429018080235,
          0.36929038166999817,
          -1.7417898178100586,
          -3.7447612285614014,
          -6.966673851013184,
          -7.0170745849609375,
          4.327228546142578,
          4.649281978607178,
          1.8865625858306885,
          -6.6163330078125,
          5.20836877822876,
          -3.238232135772705,
          -5.9628729820251465,
          -2.941528558731079,
          -5.175527095794678,
          3.7245428562164307,
          7.035351753234863,
          4.691019535064697,
          -4.679019451141357,
          -5.893836498260498,
          -4.197149276733398,
          1.6174724102020264,
          4.804121971130371,
          0.16782119870185852,
          1.7680259943008423,
          1.3070200681686401,
          -0.828716516494751,
          8.896615028381348,
          -2.6153695583343506,
          -1.2065246105194092,
          1.5114797353744507,
          1.1246241331100464,
          -5.553398609161377,
          -5.138218879699707,
          -0.4204927384853363,
          -3.3615128993988037,
          -5.002257347106934,
          -6.562549114227295,
          2.2994306087493896,
          -7.07266092300415,
          5.688345909118652,
          4.020745754241943,
          5.6147565841674805,
          -4.351924419403076,
          2.890129327774048,
          -0.8636258840560913,
          9.241229057312012,
          -2.493748903274536,
          1.9654297828674316,
          -2.5046441555023193,
          7.475393295288086,
          -4.5293779373168945,
          9.10854434967041,
          -3.747878313064575,
          4.0474162101745605,
          9.057482719421387,
          -1.4808588027954102,
          2.546207904815674,
          0.4956388473510742,
          -5.2585883140563965,
          -3.3923630714416504,
          4.146639347076416,
          1.0947681665420532,
          -2.932882785797119,
          5.774656295776367,
          -4.57908821105957,
          3.9517011642456055,
          0.19457629323005676,
          -7.891174793243408,
          3.6831846237182617,
          -0.19084371626377106,
          4.488406181335449,
          5.564453601837158,
          -6.030412673950195
         ],
         "z": [
          3.1408562660217285,
          3.9915575981140137,
          1.9081206321716309,
          -2.009406566619873,
          5.238472938537598,
          6.110262870788574,
          -1.0243266820907593,
          2.708719253540039,
          6.607619285583496,
          -5.157190799713135,
          0.30559042096138,
          -2.2350401878356934,
          -1.0203949213027954,
          2.6318507194519043,
          7.1613240242004395,
          -5.952591896057129,
          -3.7981984615325928,
          1.4003276824951172,
          1.9330085515975952,
          -4.944520473480225,
          4.095288276672363,
          -1.06956148147583,
          2.5924954414367676,
          2.827590227127075,
          3.012450933456421,
          3.330303430557251,
          2.091439723968506,
          0.168246790766716,
          4.509975433349609,
          5.655439376831055,
          -1.0098092555999756,
          -4.227989673614502,
          -4.903596878051758,
          -4.182290554046631,
          2.688330888748169,
          5.759920120239258,
          -2.5667216777801514,
          1.8190370798110962,
          -1.0678662061691284,
          -2.510385513305664,
          0.31137412786483765,
          -4.861645221710205,
          -6.5300679206848145,
          -4.145721912384033,
          -7.192434310913086,
          1.420343041419983,
          -1.8338425159454346,
          -7.205010890960693,
          -6.315078258514404,
          4.577917575836182,
          -0.5907379388809204,
          -3.219524621963501,
          -7.390810012817383,
          7.353540897369385,
          0.3600323498249054,
          -2.626743793487549,
          -1.8708140850067139,
          2.2025821208953857,
          -2.760340452194214,
          -4.59145450592041,
          0.10589496791362762,
          2.946751594543457,
          -1.8559067249298096,
          6.272147178649902,
          -3.7758805751800537,
          -5.819723129272461,
          -3.2610878944396973,
          -4.0034966468811035,
          6.3823933601379395,
          -6.70794677734375,
          5.453394889831543,
          4.318248748779297,
          -4.34572172164917,
          -1.5754810571670532,
          1.5962990522384644,
          3.1806459426879883,
          3.8279430866241455,
          -4.5455098152160645,
          -1.1318845748901367,
          6.9507856369018555,
          2.4854397773742676,
          -3.909445285797119,
          -5.762472629547119,
          -1.208250641822815,
          3.873913049697876,
          6.208314895629883,
          -1.976798176765442,
          -3.2460787296295166,
          1.611211895942688,
          1.9078559875488281,
          -3.861948251724243,
          5.507052421569824,
          4.495892524719238,
          4.565634727478027,
          -0.6541411280632019,
          1.6904609203338623,
          5.045910835266113,
          -8.226639747619629,
          2.572462797164917,
          -1.5893436670303345,
          -0.9628978371620178,
          0.4758535921573639,
          1.498831868171692,
          -1.7339873313903809,
          1.2509231567382812,
          5.056131839752197,
          2.6954853534698486,
          -4.51625394821167,
          -1.9499411582946777,
          1.0645283460617065,
          -2.529144525527954,
          -3.782592535018921,
          -4.686802387237549,
          3.9468483924865723,
          -2.1396210193634033,
          -1.0290940999984741,
          2.734522581100464,
          -6.165265083312988,
          -8.340742111206055,
          -2.4178717136383057,
          -2.304689407348633,
          4.134334564208984,
          -5.351545333862305,
          6.789130687713623,
          4.22664737701416,
          1.965065598487854,
          -1.5939269065856934,
          1.8142306804656982,
          2.1792073249816895,
          6.4261884689331055,
          -2.1618645191192627,
          0.9223900437355042,
          -6.737143039703369,
          -6.542540073394775,
          1.1961860656738281,
          -3.7133116722106934,
          -0.9277225732803345,
          2.805236577987671,
          -6.334238052368164,
          -4.950287818908691,
          5.314824104309082,
          0.5072795748710632,
          0.1855352818965912,
          0.6720566749572754,
          -0.42538708448410034,
          5.589127540588379,
          -1.728124737739563,
          -4.493163108825684,
          4.6330885887146,
          2.2674059867858887,
          -0.551874041557312,
          1.0670051574707031,
          -1.1279900074005127,
          -2.143545150756836,
          1.443190574645996,
          -0.3814305067062378,
          4.246323585510254,
          4.4681878089904785,
          7.542975902557373,
          -4.789200305938721,
          -3.7716739177703857,
          3.990912914276123,
          -3.705026626586914,
          -5.959894180297852,
          -6.320150375366211,
          1.4951189756393433,
          -5.950289249420166,
          -2.3121683597564697,
          1.6137157678604126,
          -7.38154411315918,
          -5.685461044311523,
          -2.5380825996398926,
          -2.44675350189209,
          -0.1470372974872589,
          5.345276355743408,
          -5.185204029083252,
          -1.3871771097183228,
          2.190882682800293,
          2.328044891357422,
          3.4431545734405518,
          -2.6286540031433105,
          -1.9293750524520874,
          -1.1272468566894531,
          -0.370524525642395,
          -5.4135565757751465,
          -5.218029499053955,
          0.4711845815181732,
          6.118484020233154,
          -5.370134353637695,
          -2.658707857131958,
          -4.171856880187988,
          1.3373862504959106,
          0.15139992535114288,
          4.255136966705322,
          -1.4146298170089722,
          -7.324311256408691,
          3.8770248889923096,
          -2.60636043548584,
          4.566181659698486,
          -2.1125404834747314,
          7.581284046173096,
          -3.4660797119140625,
          4.1567063331604,
          0.4311922490596771,
          3.9020557403564453,
          1.2289588451385498,
          5.173813343048096,
          0.43277791142463684,
          -6.364756107330322,
          3.2819085121154785,
          -8.212873458862305,
          6.635631561279297,
          5.0288872718811035,
          6.667194366455078,
          5.513419151306152,
          -2.055138111114502,
          3.277289390563965,
          6.686892032623291,
          0.04334007948637009,
          2.0574185848236084,
          -7.749608993530273,
          -4.367465496063232,
          5.919048309326172,
          3.8899874687194824,
          -0.6293194890022278,
          1.86533522605896,
          1.8408434391021729,
          -0.03902919590473175,
          0.8159074187278748,
          1.8616210222244263,
          4.447735786437988,
          -0.9464960098266602,
          1.6725153923034668,
          -3.3192641735076904,
          -4.661733150482178,
          -4.6411237716674805,
          -0.896090567111969,
          -3.790262222290039,
          3.5180721282958984,
          4.040150165557861,
          -0.7364904880523682,
          1.9311670064926147,
          0.08711156249046326,
          0.06234858185052872,
          6.317070960998535,
          -1.7547539472579956,
          -4.99176025390625,
          -7.159524917602539,
          -1.5480402708053589,
          -4.584471702575684,
          -3.9547383785247803,
          -3.6684482097625732,
          -5.764328956604004,
          5.008027076721191,
          1.0871922969818115,
          1.142096996307373,
          0.5867708325386047,
          -4.99227237701416,
          1.736451506614685,
          2.6604151725769043,
          -0.06202888861298561,
          -2.7467753887176514,
          -6.453328609466553,
          2.252396583557129,
          -6.210737228393555,
          -3.4269046783447266,
          1.1866956949234009,
          5.363214015960693,
          -0.06827498972415924,
          -1.9272483587265015,
          -6.5237908363342285,
          -2.2267708778381348,
          3.1098005771636963,
          6.171082019805908,
          3.9772720336914062,
          -4.979795932769775,
          -2.3258321285247803,
          1.5684832334518433,
          3.4515645503997803,
          0.6638384461402893,
          -1.1116598844528198,
          1.5312198400497437,
          1.364958643913269,
          -3.9024107456207275,
          -0.4367084205150604,
          -4.873917579650879,
          -0.451278954744339,
          -0.7835789918899536,
          4.755641937255859,
          -6.3834991455078125,
          -0.09665017575025558,
          -4.135436058044434,
          2.5076160430908203,
          6.071291923522949,
          -6.471654415130615,
          -5.720425605773926,
          -5.764714241027832,
          3.0790340900421143,
          4.869808197021484,
          2.0347564220428467,
          4.269671440124512,
          -0.677130401134491,
          -1.1371545791625977,
          -7.022994041442871,
          2.6971843242645264,
          -7.5898919105529785,
          -1.8972631692886353,
          1.520957589149475,
          -5.269010066986084,
          -6.2652058601379395,
          -0.2443060725927353,
          -4.478711128234863,
          -4.932840347290039,
          -1.5011568069458008,
          2.421292304992676,
          -1.9149081707000732,
          -7.367558479309082,
          4.555628299713135,
          -4.088424205780029,
          -6.793554306030273,
          -0.7275307774543762,
          -1.699860692024231,
          -4.31921911239624,
          -4.452626705169678,
          0.6720227599143982,
          -5.4776082038879395,
          0.25637632608413696,
          6.515237808227539,
          -3.742467164993286,
          1.2755465507507324,
          -0.8734197020530701,
          6.384467601776123,
          -2.065889358520508,
          -6.84950065612793,
          2.619924545288086,
          -0.07495895773172379,
          -0.8482205867767334,
          1.5870611667633057,
          -0.19511084258556366,
          2.874626398086548,
          0.7440474629402161,
          -0.9986798763275146,
          1.0026240348815918,
          5.3143534660339355,
          2.4696855545043945,
          -4.955996513366699,
          4.635450839996338,
          3.3392207622528076,
          -4.533013343811035,
          -1.6084400415420532,
          1.8684571981430054,
          3.7443206310272217,
          -5.88733434677124,
          0.6720227599143982,
          -1.4131208658218384,
          -1.5985647439956665,
          4.016380310058594,
          -0.17651186883449554,
          6.300231456756592,
          7.024576187133789,
          -4.1863694190979,
          0.3840809762477875,
          4.519106388092041,
          -4.045581340789795,
          -2.0524649620056152,
          -2.941859245300293,
          -2.6298794746398926,
          -1.0013569593429565,
          2.8193774223327637,
          5.343250751495361,
          -0.3642237186431885,
          -5.091683864593506,
          3.9747273921966553,
          7.209063529968262,
          6.533838272094727,
          3.4383363723754883,
          3.897218942642212,
          -2.1931796073913574,
          -0.2638668417930603,
          -1.8536956310272217,
          -5.410681247711182,
          -1.287673830986023,
          -1.625097393989563,
          -1.982939600944519,
          -5.080410957336426,
          6.428021430969238,
          -0.6425443291664124,
          5.5513715744018555,
          1.211379885673523,
          -5.68912410736084,
          -6.038727760314941,
          2.2472503185272217,
          2.9055328369140625,
          1.6409008502960205,
          -5.333483695983887,
          -5.342259883880615,
          3.9266889095306396,
          -4.461385250091553,
          0.3237558603286743,
          0.06820959597826004,
          5.347364902496338,
          5.565299987792969,
          3.159142255783081,
          1.6118017435073853,
          -5.130459308624268,
          -2.256868600845337,
          -2.0671584606170654,
          4.994655132293701,
          -1.9920295476913452,
          -0.9761939644813538,
          -1.9798420667648315,
          -7.131485939025879,
          -6.104567050933838,
          -6.139067649841309,
          3.1649603843688965,
          -5.135342121124268,
          3.4365859031677246,
          -8.589186668395996,
          2.7397661209106445,
          -0.6536717414855957,
          -6.185503005981445,
          2.932880401611328,
          -4.645344257354736,
          -6.457280158996582,
          -0.0030501431319862604,
          6.522856712341309,
          -1.8069519996643066,
          -0.1746390461921692,
          -3.9916303157806396,
          -0.25248292088508606,
          -0.8304593563079834,
          0.5801448225975037,
          -0.12185268849134445,
          1.8992173671722412,
          4.223742485046387,
          0.9917283058166504,
          5.167573928833008,
          6.869590759277344,
          -2.7017853260040283,
          1.9580315351486206,
          3.7764129638671875,
          3.424063205718994,
          1.996213674545288,
          -4.799736499786377,
          -5.793679237365723,
          -6.531677722930908,
          3.0399844646453857,
          1.1682361364364624,
          5.268412113189697,
          -1.9461344480514526,
          -2.4527781009674072,
          2.255976915359497,
          -0.7035533785820007,
          -4.750304698944092,
          3.4672205448150635,
          -3.1308536529541016,
          -3.2044146060943604,
          -6.55294132232666,
          -1.7632458209991455,
          0.7250840067863464,
          3.7875447273254395,
          -1.4357681274414062,
          -5.224707126617432,
          2.772632598876953,
          -2.223970890045166,
          -4.3907470703125,
          7.438834190368652,
          4.493619918823242,
          3.9640464782714844,
          5.435969352722168,
          -5.618007659912109,
          -1.6163406372070312,
          2.4797277450561523,
          2.499861001968384,
          -8.442985534667969,
          5.617112636566162,
          1.5682388544082642,
          6.712536334991455,
          4.696251392364502,
          -3.963304042816162,
          -1.8672513961791992,
          -6.558577060699463,
          -2.359443426132202,
          6.7021164894104,
          6.4983696937561035,
          -6.2992024421691895,
          -4.147451877593994,
          5.082345485687256,
          -7.53487491607666,
          4.074024200439453,
          4.354041576385498,
          -1.9488929510116577,
          3.1365339756011963,
          -1.1685508489608765,
          -1.8193256855010986,
          -3.667137861251831,
          -4.56980037689209,
          -4.228076934814453,
          -2.0451111793518066,
          -3.8516459465026855,
          1.594099998474121,
          -0.8288567662239075,
          -7.073077201843262,
          4.578641891479492,
          1.8954757452011108,
          -3.177516222000122,
          4.557206153869629,
          -3.990492105484009,
          0.6366214156150818,
          -2.1346497535705566,
          -1.4629619121551514,
          -5.034738540649414,
          3.170814037322998,
          -0.0507177896797657,
          -5.444035530090332,
          2.9986050128936768,
          3.752058267593384,
          2.782304286956787,
          -1.9683781862258911,
          -1.9414966106414795,
          -2.2483632564544678,
          7.566904544830322,
          -5.446325778961182,
          -4.32212495803833,
          7.028012752532959,
          -2.761627435684204,
          -1.2034707069396973,
          -4.307386875152588,
          7.052967071533203,
          -0.16944138705730438,
          1.0385239124298096,
          1.6937683820724487,
          4.510688781738281,
          0.335178405046463,
          4.25616979598999,
          -3.4128270149230957,
          5.215951919555664,
          -4.5169758796691895,
          4.485788345336914,
          -1.3053935766220093,
          0.4666041433811188,
          1.8169043064117432,
          2.940720319747925,
          4.521357536315918,
          6.850075721740723,
          0.5005354285240173,
          6.918269634246826,
          3.9529271125793457,
          3.3869097232818604,
          -0.5276792645454407,
          -1.6407774686813354,
          -4.573467254638672,
          5.763819694519043,
          -2.4067180156707764,
          0.2649753987789154,
          -6.425812244415283,
          -1.6960088014602661,
          -3.667313814163208,
          6.210766315460205,
          -7.784905910491943,
          1.335869312286377,
          -1.1241586208343506,
          6.603388786315918,
          -6.890079975128174,
          -0.9182732105255127,
          1.7602874040603638,
          -2.8769187927246094,
          1.0939408540725708,
          -2.028989791870117,
          -1.0072152614593506,
          -2.3462367057800293,
          -1.1194002628326416,
          4.06296968460083,
          2.68818998336792,
          0.4663199484348297,
          6.004194736480713,
          1.5322905778884888,
          -5.23942756652832,
          -8.752148628234863,
          3.6512749195098877,
          5.005964756011963,
          4.730153560638428,
          3.440845251083374,
          -3.919433116912842,
          -5.615951061248779,
          -7.86752986907959,
          -1.0771206617355347,
          5.413110256195068,
          -0.31036609411239624,
          -1.3510273694992065,
          3.3169515132904053,
          1.8457152843475342,
          -1.7157596349716187,
          -3.705037832260132,
          -0.5083870887756348,
          6.722537994384766,
          -4.976088523864746,
          -4.9788594245910645,
          2.235912322998047,
          -7.675946235656738,
          -6.875535011291504,
          -2.012749433517456,
          4.034151077270508,
          6.0309600830078125,
          -7.224758625030518,
          -5.596103668212891,
          3.705496311187744,
          -5.61139440536499,
          3.562037229537964,
          -7.381319522857666,
          -5.601372718811035,
          0.816744863986969,
          3.0622174739837646,
          -2.5493929386138916,
          -2.693286180496216,
          1.106152057647705,
          4.189763069152832,
          -7.184422016143799,
          6.900570869445801,
          -1.65713369846344,
          -0.4698614478111267,
          0.703669011592865,
          -1.7317883968353271,
          1.6700637340545654,
          -4.5979838371276855,
          3.904752254486084,
          -1.5319734811782837,
          -7.282919883728027,
          0.9565356969833374,
          -4.739473342895508,
          -4.613439083099365,
          2.1152682304382324,
          6.531185150146484,
          -2.996096611022949,
          4.639865875244141,
          -5.520876884460449,
          1.3366659879684448,
          3.2606518268585205,
          5.869448661804199,
          -5.430944442749023,
          -1.2819900512695312,
          2.11307430267334,
          0.2221774458885193,
          3.8105239868164062,
          -6.759506702423096,
          -5.7371296882629395,
          3.4606683254241943,
          5.8827314376831055,
          -3.0218656063079834,
          -2.772329092025757,
          -2.782522439956665,
          -6.6222004890441895,
          0.37682926654815674,
          -1.7905298471450806,
          -3.1148743629455566,
          -2.362301826477051,
          3.5802481174468994,
          2.757164716720581,
          -2.01435923576355,
          5.964211463928223,
          -4.730401039123535,
          -2.385103225708008,
          2.5559113025665283,
          2.569638729095459,
          5.829949855804443,
          0.03157518431544304,
          6.397149562835693,
          -4.2629008293151855,
          1.0999791622161865,
          -5.909605979919434,
          0.8041775226593018,
          -2.361563205718994,
          -6.165101051330566,
          -2.3070476055145264,
          -3.766976833343506,
          -2.219782829284668,
          -3.53169322013855,
          -4.942849636077881,
          2.5664141178131104,
          4.918473720550537,
          -2.6241915225982666,
          -0.5094057321548462,
          -4.930397033691406,
          -2.3575024604797363,
          1.90140962600708,
          -4.450813293457031,
          1.3584731817245483,
          -2.052501916885376,
          -1.589331030845642,
          -3.07135272026062,
          1.543768048286438,
          -2.3613202571868896,
          -2.4571661949157715,
          -3.8725807666778564,
          2.865255117416382,
          5.96832275390625,
          -1.6174554824829102,
          4.4279961585998535,
          -4.705745697021484,
          0.18459780514240265,
          1.9303679466247559,
          -7.651223182678223,
          4.504528045654297,
          -0.19410191476345062,
          -7.082244396209717,
          0.4753264784812927,
          -4.672898769378662,
          3.3059327602386475,
          -0.5847784280776978,
          -4.645142078399658,
          -6.96661901473999,
          -0.014500857330858707,
          -0.8054159283638,
          4.590972423553467,
          -2.616260290145874,
          -1.333822250366211,
          2.5130040645599365,
          1.0448499917984009,
          1.1654226779937744,
          -6.802147388458252,
          5.456143379211426,
          1.2164082527160645,
          6.139745235443115,
          3.342888593673706,
          3.735424280166626,
          4.441840171813965,
          -3.6155176162719727,
          -4.741128444671631,
          7.189802169799805,
          -6.245552062988281,
          7.1922502517700195,
          -6.170981407165527,
          3.3822996616363525,
          6.61340856552124,
          -2.348276376724243,
          -1.424795389175415,
          7.343261241912842,
          -7.548616409301758,
          -4.218878269195557,
          6.788484573364258,
          -3.125990867614746,
          -1.638673186302185,
          3.5882673263549805,
          2.5968408584594727,
          2.189042806625366,
          -0.3032996356487274,
          3.744605779647827,
          -4.1151123046875,
          3.9800400733947754,
          -3.0929713249206543,
          -5.038518905639648,
          1.0164238214492798,
          6.6177191734313965,
          -4.7423624992370605,
          -3.8936614990234375,
          -4.344766139984131,
          -4.487576484680176,
          5.756213188171387,
          5.77787971496582,
          6.645252227783203,
          3.8863003253936768,
          -0.4237326681613922,
          -1.723548173904419,
          4.353394985198975,
          2.018253803253174,
          -5.4376325607299805,
          0.9874787330627441,
          -3.636381149291992,
          -4.460350036621094,
          2.8959507942199707,
          4.3817219734191895,
          0.46399638056755066,
          -6.246700763702393,
          -4.362265110015869,
          -1.9107699394226074,
          4.652007579803467,
          4.666706562042236,
          -4.765997409820557,
          2.7160186767578125,
          3.4968225955963135,
          -0.6569567918777466,
          -0.22709006071090698,
          -4.145025253295898,
          4.174288272857666,
          -5.116244792938232,
          3.919715404510498,
          0.9290651082992554,
          -0.4780934453010559,
          -4.773593902587891,
          4.910337448120117,
          -0.7811415195465088,
          -3.3430697917938232,
          -5.292869567871094,
          -1.4022412300109863,
          -4.007369518280029,
          1.5683047771453857,
          2.474487066268921,
          2.205073356628418,
          5.068690776824951,
          -2.5294244289398193,
          0.2049483358860016,
          -2.9879539012908936,
          -0.62678062915802,
          6.2023162841796875,
          4.43779993057251,
          -1.4318863153457642,
          7.15245246887207,
          -8.444009780883789,
          -3.7461440563201904,
          -3.83213472366333,
          -1.313393235206604,
          -6.417588710784912,
          -8.309046745300293,
          6.754087924957275,
          4.0847649574279785,
          -2.0049567222595215,
          0.7669051289558411,
          1.6828871965408325,
          3.9640464782714844,
          2.627032518386841,
          -5.844087600708008,
          -6.463953495025635,
          -0.3142670691013336,
          5.479097843170166,
          3.4474000930786133,
          -0.7130185961723328,
          -1.3121124505996704,
          1.608228325843811,
          6.7967329025268555,
          4.269107341766357,
          -2.7711894512176514,
          -1.3511931896209717,
          -4.772911548614502,
          6.749640941619873,
          4.617830276489258,
          -2.58461594581604,
          -6.626988410949707,
          5.357646465301514,
          0.8157694339752197,
          4.4085259437561035,
          -6.110813140869141,
          1.642446756362915,
          6.395610809326172,
          1.568261981010437,
          7.229706287384033,
          -0.9203152060508728,
          -6.31866455078125,
          4.3204498291015625,
          4.459593772888184,
          -4.603976249694824,
          0.14976833760738373,
          1.236925482749939,
          -5.9442315101623535,
          0.05089809373021126,
          -5.786454200744629,
          4.453994274139404,
          2.0615532398223877,
          -7.368997573852539,
          1.5935754776000977,
          -1.630553960800171,
          -7.899995803833008,
          6.5791215896606445,
          4.915778160095215,
          2.376647472381592,
          -1.8285646438598633,
          4.109766006469727,
          -5.110504627227783,
          5.302389144897461,
          1.4353734254837036,
          -5.003577709197998,
          -5.509364604949951,
          -4.027230739593506,
          -1.6138813495635986,
          -4.0053911209106445,
          -6.424811363220215,
          -3.320671796798706,
          4.90622615814209,
          -1.6523419618606567,
          -0.4900072515010834,
          4.1585564613342285,
          -4.950979709625244,
          -0.4179685115814209,
          -5.438355922698975,
          2.249814033508301,
          -0.6854873299598694,
          -0.33896398544311523,
          -1.3017522096633911,
          -5.468147277832031,
          -4.712764263153076,
          -4.789150714874268,
          -1.0543919801712036,
          0.09016207605600357,
          -3.8752081394195557,
          1.0152136087417603,
          6.249241828918457,
          3.0832831859588623,
          -0.02622414007782936,
          -7.278506278991699,
          -7.997931957244873,
          -0.8547472953796387,
          0.10205427557229996,
          0.6498605012893677,
          -2.2807118892669678,
          -2.1540863513946533,
          5.968240261077881,
          4.28299617767334,
          4.899715900421143,
          6.279433727264404,
          -3.8423080444335938,
          2.3306381702423096,
          3.8487906455993652,
          -1.4112805128097534,
          -6.832119941711426,
          6.842751979827881,
          -5.073997974395752,
          6.155679702758789,
          6.5103864669799805,
          4.2176642417907715,
          -1.7745856046676636,
          6.353031635284424,
          2.5657122135162354,
          2.6599576473236084,
          -5.864545822143555,
          2.1476216316223145,
          -4.423282146453857,
          -5.163597106933594,
          3.667712450027466,
          -0.9392836093902588,
          3.2137651443481445,
          2.1741483211517334,
          1.3538280725479126,
          -5.185641288757324,
          1.715709924697876,
          7.018980503082275,
          -5.654941558837891,
          -2.1114304065704346,
          -1.0477710962295532,
          -1.3688266277313232,
          0.88264000415802,
          1.2222687005996704,
          -0.33685916662216187,
          -1.7524775266647339,
          -5.90968132019043,
          1.8616961240768433,
          -3.802027463912964,
          -1.4962925910949707
         ]
        },
        {
         "hovertemplate": "Dominant_Topic=Topic 1<br>0=%{x}<br>1=%{y}<br>2=%{z}<extra></extra>",
         "legendgroup": "Topic 1",
         "marker": {
          "color": "#EF553B",
          "opacity": 0.7,
          "symbol": "circle"
         },
         "mode": "markers",
         "name": "Topic 1",
         "scene": "scene",
         "showlegend": true,
         "type": "scatter3d",
         "x": [
          16.908660888671875,
          7.344158172607422,
          16.46131134033203,
          16.934627532958984,
          17.028575897216797,
          16.482152938842773,
          16.644603729248047,
          17.053728103637695,
          17.041379928588867,
          16.91887664794922,
          16.94251251220703,
          17.006418228149414,
          16.792377471923828,
          7.4588398933410645,
          16.66122817993164,
          16.765199661254883,
          16.99823570251465,
          16.53451919555664,
          16.89159393310547,
          16.49746322631836,
          16.677082061767578,
          16.988367080688477,
          16.46900749206543,
          17.0223445892334
         ],
         "y": [
          0.006586448755115271,
          -9.55251693725586,
          0.11378779262304306,
          0.5653796195983887,
          0.5381805300712585,
          0.05077807605266571,
          -0.11753982305526733,
          -0.20096689462661743,
          -0.1361185759305954,
          0.49543076753616333,
          0.4104454219341278,
          0.14458879828453064,
          -0.1402536779642105,
          -9.449422836303711,
          0.1371297389268875,
          -0.15765264630317688,
          0.3973968029022217,
          -0.026784874498844147,
          0.5969049334526062,
          0.45569097995758057,
          0.22675800323486328,
          0.394268274307251,
          0.000431867316365242,
          -0.07311786711215973
         ],
         "z": [
          -1.2832815647125244,
          2.074768304824829,
          -1.0880743265151978,
          -0.5817901492118835,
          -0.5720193982124329,
          -0.8998349905014038,
          -0.8510746359825134,
          -1.028183102607727,
          -1.220721960067749,
          -0.9535474181175232,
          -0.5342832207679749,
          -1.1899904012680054,
          -0.81098473072052,
          2.0369341373443604,
          -1.2812747955322266,
          -1.2561442852020264,
          -0.6173840761184692,
          -0.8403411507606506,
          -0.5073100328445435,
          -1.0561954975128174,
          -1.2512266635894775,
          -1.0917909145355225,
          -1.0143476724624634,
          -0.8604254126548767
         ]
        },
        {
         "hovertemplate": "Dominant_Topic=Topic 2<br>0=%{x}<br>1=%{y}<br>2=%{z}<extra></extra>",
         "legendgroup": "Topic 2",
         "marker": {
          "color": "#00cc96",
          "opacity": 0.7,
          "symbol": "circle"
         },
         "mode": "markers",
         "name": "Topic 2",
         "scene": "scene",
         "showlegend": true,
         "type": "scatter3d",
         "x": [
          7.488002777099609,
          7.4933180809021,
          7.4880051612854
         ],
         "y": [
          -9.183757781982422,
          -9.210389137268066,
          -9.183806419372559
         ],
         "z": [
          2.1625823974609375,
          2.0984907150268555,
          2.162475824356079
         ]
        },
        {
         "hovertemplate": "Dominant_Topic=Topic 3<br>0=%{x}<br>1=%{y}<br>2=%{z}<extra></extra>",
         "legendgroup": "Topic 3",
         "marker": {
          "color": "#ab63fa",
          "opacity": 0.7,
          "symbol": "circle"
         },
         "mode": "markers",
         "name": "Topic 3",
         "scene": "scene",
         "showlegend": true,
         "type": "scatter3d",
         "x": [
          -3.65164852142334,
          -5.848262310028076,
          -3.6309401988983154,
          -7.092412948608398,
          1.937117338180542,
          -2.583779811859131,
          0.43663519620895386,
          2.6827282905578613,
          -4.079702377319336,
          -4.249359607696533,
          4.067651271820068,
          -7.0803022384643555,
          4.003708839416504,
          -3.8719825744628906,
          -7.242988109588623,
          1.2112641334533691,
          2.0874199867248535,
          -2.715291976928711,
          -4.597161293029785,
          -6.613430976867676,
          -7.505993366241455,
          -6.083926200866699,
          -4.652524471282959,
          4.077418327331543,
          -3.255626916885376,
          -6.11142635345459,
          -7.6024556159973145
         ],
         "y": [
          -6.245375156402588,
          -3.5734593868255615,
          -5.958998203277588,
          -1.8614907264709473,
          -4.672102928161621,
          -6.466099262237549,
          -5.906312942504883,
          -5.124408721923828,
          -5.5402679443359375,
          -3.1165475845336914,
          -6.878696918487549,
          -2.417689800262451,
          -6.718175411224365,
          -5.452769756317139,
          -1.4282594919204712,
          -4.309112071990967,
          -4.854050636291504,
          -6.535183906555176,
          -4.841277599334717,
          0.37919893860816956,
          -1.1685742139816284,
          -3.468815565109253,
          -4.759823799133301,
          -6.743648529052734,
          -6.113070487976074,
          -3.4169461727142334,
          -0.9145602583885193
         ],
         "z": [
          3.017613649368286,
          3.9302875995635986,
          4.132567405700684,
          5.118451118469238,
          5.499934196472168,
          2.853888988494873,
          6.489983558654785,
          5.074869155883789,
          3.7734625339508057,
          5.3275346755981445,
          3.230189800262451,
          3.876370668411255,
          3.32700514793396,
          3.320368766784668,
          4.81691312789917,
          5.915576457977295,
          5.038150787353516,
          3.068176031112671,
          3.6178810596466064,
          5.837748050689697,
          4.663950443267822,
          3.947920322418213,
          3.506227731704712,
          3.2977757453918457,
          4.374921798706055,
          3.892881155014038,
          4.72609806060791
         ]
        }
       ],
       "layout": {
        "height": 800,
        "legend": {
         "title": {
          "text": "Dominant_Topic"
         },
         "tracegroupgap": 0
        },
        "scene": {
         "aspectmode": "auto",
         "aspectratio": {
          "x": 1.2422909046687285,
          "y": 0.9988239193028086,
          "z": 0.8059122559209301
         },
         "domain": {
          "x": [
           0,
           1
          ],
          "y": [
           0,
           1
          ]
         },
         "xaxis": {
          "title": {
           "text": "0"
          },
          "type": "linear"
         },
         "yaxis": {
          "title": {
           "text": "1"
          },
          "type": "linear"
         },
         "zaxis": {
          "title": {
           "text": "2"
          },
          "type": "linear"
         }
        },
        "template": {
         "data": {
          "bar": [
           {
            "error_x": {
             "color": "#2a3f5f"
            },
            "error_y": {
             "color": "#2a3f5f"
            },
            "marker": {
             "line": {
              "color": "#E5ECF6",
              "width": 0.5
             },
             "pattern": {
              "fillmode": "overlay",
              "size": 10,
              "solidity": 0.2
             }
            },
            "type": "bar"
           }
          ],
          "barpolar": [
           {
            "marker": {
             "line": {
              "color": "#E5ECF6",
              "width": 0.5
             },
             "pattern": {
              "fillmode": "overlay",
              "size": 10,
              "solidity": 0.2
             }
            },
            "type": "barpolar"
           }
          ],
          "carpet": [
           {
            "aaxis": {
             "endlinecolor": "#2a3f5f",
             "gridcolor": "white",
             "linecolor": "white",
             "minorgridcolor": "white",
             "startlinecolor": "#2a3f5f"
            },
            "baxis": {
             "endlinecolor": "#2a3f5f",
             "gridcolor": "white",
             "linecolor": "white",
             "minorgridcolor": "white",
             "startlinecolor": "#2a3f5f"
            },
            "type": "carpet"
           }
          ],
          "choropleth": [
           {
            "colorbar": {
             "outlinewidth": 0,
             "ticks": ""
            },
            "type": "choropleth"
           }
          ],
          "contour": [
           {
            "colorbar": {
             "outlinewidth": 0,
             "ticks": ""
            },
            "colorscale": [
             [
              0,
              "#0d0887"
             ],
             [
              0.1111111111111111,
              "#46039f"
             ],
             [
              0.2222222222222222,
              "#7201a8"
             ],
             [
              0.3333333333333333,
              "#9c179e"
             ],
             [
              0.4444444444444444,
              "#bd3786"
             ],
             [
              0.5555555555555556,
              "#d8576b"
             ],
             [
              0.6666666666666666,
              "#ed7953"
             ],
             [
              0.7777777777777778,
              "#fb9f3a"
             ],
             [
              0.8888888888888888,
              "#fdca26"
             ],
             [
              1,
              "#f0f921"
             ]
            ],
            "type": "contour"
           }
          ],
          "contourcarpet": [
           {
            "colorbar": {
             "outlinewidth": 0,
             "ticks": ""
            },
            "type": "contourcarpet"
           }
          ],
          "heatmap": [
           {
            "colorbar": {
             "outlinewidth": 0,
             "ticks": ""
            },
            "colorscale": [
             [
              0,
              "#0d0887"
             ],
             [
              0.1111111111111111,
              "#46039f"
             ],
             [
              0.2222222222222222,
              "#7201a8"
             ],
             [
              0.3333333333333333,
              "#9c179e"
             ],
             [
              0.4444444444444444,
              "#bd3786"
             ],
             [
              0.5555555555555556,
              "#d8576b"
             ],
             [
              0.6666666666666666,
              "#ed7953"
             ],
             [
              0.7777777777777778,
              "#fb9f3a"
             ],
             [
              0.8888888888888888,
              "#fdca26"
             ],
             [
              1,
              "#f0f921"
             ]
            ],
            "type": "heatmap"
           }
          ],
          "heatmapgl": [
           {
            "colorbar": {
             "outlinewidth": 0,
             "ticks": ""
            },
            "colorscale": [
             [
              0,
              "#0d0887"
             ],
             [
              0.1111111111111111,
              "#46039f"
             ],
             [
              0.2222222222222222,
              "#7201a8"
             ],
             [
              0.3333333333333333,
              "#9c179e"
             ],
             [
              0.4444444444444444,
              "#bd3786"
             ],
             [
              0.5555555555555556,
              "#d8576b"
             ],
             [
              0.6666666666666666,
              "#ed7953"
             ],
             [
              0.7777777777777778,
              "#fb9f3a"
             ],
             [
              0.8888888888888888,
              "#fdca26"
             ],
             [
              1,
              "#f0f921"
             ]
            ],
            "type": "heatmapgl"
           }
          ],
          "histogram": [
           {
            "marker": {
             "pattern": {
              "fillmode": "overlay",
              "size": 10,
              "solidity": 0.2
             }
            },
            "type": "histogram"
           }
          ],
          "histogram2d": [
           {
            "colorbar": {
             "outlinewidth": 0,
             "ticks": ""
            },
            "colorscale": [
             [
              0,
              "#0d0887"
             ],
             [
              0.1111111111111111,
              "#46039f"
             ],
             [
              0.2222222222222222,
              "#7201a8"
             ],
             [
              0.3333333333333333,
              "#9c179e"
             ],
             [
              0.4444444444444444,
              "#bd3786"
             ],
             [
              0.5555555555555556,
              "#d8576b"
             ],
             [
              0.6666666666666666,
              "#ed7953"
             ],
             [
              0.7777777777777778,
              "#fb9f3a"
             ],
             [
              0.8888888888888888,
              "#fdca26"
             ],
             [
              1,
              "#f0f921"
             ]
            ],
            "type": "histogram2d"
           }
          ],
          "histogram2dcontour": [
           {
            "colorbar": {
             "outlinewidth": 0,
             "ticks": ""
            },
            "colorscale": [
             [
              0,
              "#0d0887"
             ],
             [
              0.1111111111111111,
              "#46039f"
             ],
             [
              0.2222222222222222,
              "#7201a8"
             ],
             [
              0.3333333333333333,
              "#9c179e"
             ],
             [
              0.4444444444444444,
              "#bd3786"
             ],
             [
              0.5555555555555556,
              "#d8576b"
             ],
             [
              0.6666666666666666,
              "#ed7953"
             ],
             [
              0.7777777777777778,
              "#fb9f3a"
             ],
             [
              0.8888888888888888,
              "#fdca26"
             ],
             [
              1,
              "#f0f921"
             ]
            ],
            "type": "histogram2dcontour"
           }
          ],
          "mesh3d": [
           {
            "colorbar": {
             "outlinewidth": 0,
             "ticks": ""
            },
            "type": "mesh3d"
           }
          ],
          "parcoords": [
           {
            "line": {
             "colorbar": {
              "outlinewidth": 0,
              "ticks": ""
             }
            },
            "type": "parcoords"
           }
          ],
          "pie": [
           {
            "automargin": true,
            "type": "pie"
           }
          ],
          "scatter": [
           {
            "fillpattern": {
             "fillmode": "overlay",
             "size": 10,
             "solidity": 0.2
            },
            "type": "scatter"
           }
          ],
          "scatter3d": [
           {
            "line": {
             "colorbar": {
              "outlinewidth": 0,
              "ticks": ""
             }
            },
            "marker": {
             "colorbar": {
              "outlinewidth": 0,
              "ticks": ""
             }
            },
            "type": "scatter3d"
           }
          ],
          "scattercarpet": [
           {
            "marker": {
             "colorbar": {
              "outlinewidth": 0,
              "ticks": ""
             }
            },
            "type": "scattercarpet"
           }
          ],
          "scattergeo": [
           {
            "marker": {
             "colorbar": {
              "outlinewidth": 0,
              "ticks": ""
             }
            },
            "type": "scattergeo"
           }
          ],
          "scattergl": [
           {
            "marker": {
             "colorbar": {
              "outlinewidth": 0,
              "ticks": ""
             }
            },
            "type": "scattergl"
           }
          ],
          "scattermapbox": [
           {
            "marker": {
             "colorbar": {
              "outlinewidth": 0,
              "ticks": ""
             }
            },
            "type": "scattermapbox"
           }
          ],
          "scatterpolar": [
           {
            "marker": {
             "colorbar": {
              "outlinewidth": 0,
              "ticks": ""
             }
            },
            "type": "scatterpolar"
           }
          ],
          "scatterpolargl": [
           {
            "marker": {
             "colorbar": {
              "outlinewidth": 0,
              "ticks": ""
             }
            },
            "type": "scatterpolargl"
           }
          ],
          "scatterternary": [
           {
            "marker": {
             "colorbar": {
              "outlinewidth": 0,
              "ticks": ""
             }
            },
            "type": "scatterternary"
           }
          ],
          "surface": [
           {
            "colorbar": {
             "outlinewidth": 0,
             "ticks": ""
            },
            "colorscale": [
             [
              0,
              "#0d0887"
             ],
             [
              0.1111111111111111,
              "#46039f"
             ],
             [
              0.2222222222222222,
              "#7201a8"
             ],
             [
              0.3333333333333333,
              "#9c179e"
             ],
             [
              0.4444444444444444,
              "#bd3786"
             ],
             [
              0.5555555555555556,
              "#d8576b"
             ],
             [
              0.6666666666666666,
              "#ed7953"
             ],
             [
              0.7777777777777778,
              "#fb9f3a"
             ],
             [
              0.8888888888888888,
              "#fdca26"
             ],
             [
              1,
              "#f0f921"
             ]
            ],
            "type": "surface"
           }
          ],
          "table": [
           {
            "cells": {
             "fill": {
              "color": "#EBF0F8"
             },
             "line": {
              "color": "white"
             }
            },
            "header": {
             "fill": {
              "color": "#C8D4E3"
             },
             "line": {
              "color": "white"
             }
            },
            "type": "table"
           }
          ]
         },
         "layout": {
          "annotationdefaults": {
           "arrowcolor": "#2a3f5f",
           "arrowhead": 0,
           "arrowwidth": 1
          },
          "autotypenumbers": "strict",
          "coloraxis": {
           "colorbar": {
            "outlinewidth": 0,
            "ticks": ""
           }
          },
          "colorscale": {
           "diverging": [
            [
             0,
             "#8e0152"
            ],
            [
             0.1,
             "#c51b7d"
            ],
            [
             0.2,
             "#de77ae"
            ],
            [
             0.3,
             "#f1b6da"
            ],
            [
             0.4,
             "#fde0ef"
            ],
            [
             0.5,
             "#f7f7f7"
            ],
            [
             0.6,
             "#e6f5d0"
            ],
            [
             0.7,
             "#b8e186"
            ],
            [
             0.8,
             "#7fbc41"
            ],
            [
             0.9,
             "#4d9221"
            ],
            [
             1,
             "#276419"
            ]
           ],
           "sequential": [
            [
             0,
             "#0d0887"
            ],
            [
             0.1111111111111111,
             "#46039f"
            ],
            [
             0.2222222222222222,
             "#7201a8"
            ],
            [
             0.3333333333333333,
             "#9c179e"
            ],
            [
             0.4444444444444444,
             "#bd3786"
            ],
            [
             0.5555555555555556,
             "#d8576b"
            ],
            [
             0.6666666666666666,
             "#ed7953"
            ],
            [
             0.7777777777777778,
             "#fb9f3a"
            ],
            [
             0.8888888888888888,
             "#fdca26"
            ],
            [
             1,
             "#f0f921"
            ]
           ],
           "sequentialminus": [
            [
             0,
             "#0d0887"
            ],
            [
             0.1111111111111111,
             "#46039f"
            ],
            [
             0.2222222222222222,
             "#7201a8"
            ],
            [
             0.3333333333333333,
             "#9c179e"
            ],
            [
             0.4444444444444444,
             "#bd3786"
            ],
            [
             0.5555555555555556,
             "#d8576b"
            ],
            [
             0.6666666666666666,
             "#ed7953"
            ],
            [
             0.7777777777777778,
             "#fb9f3a"
            ],
            [
             0.8888888888888888,
             "#fdca26"
            ],
            [
             1,
             "#f0f921"
            ]
           ]
          },
          "colorway": [
           "#636efa",
           "#EF553B",
           "#00cc96",
           "#ab63fa",
           "#FFA15A",
           "#19d3f3",
           "#FF6692",
           "#B6E880",
           "#FF97FF",
           "#FECB52"
          ],
          "font": {
           "color": "#2a3f5f"
          },
          "geo": {
           "bgcolor": "white",
           "lakecolor": "white",
           "landcolor": "#E5ECF6",
           "showlakes": true,
           "showland": true,
           "subunitcolor": "white"
          },
          "hoverlabel": {
           "align": "left"
          },
          "hovermode": "closest",
          "mapbox": {
           "style": "light"
          },
          "paper_bgcolor": "white",
          "plot_bgcolor": "#E5ECF6",
          "polar": {
           "angularaxis": {
            "gridcolor": "white",
            "linecolor": "white",
            "ticks": ""
           },
           "bgcolor": "#E5ECF6",
           "radialaxis": {
            "gridcolor": "white",
            "linecolor": "white",
            "ticks": ""
           }
          },
          "scene": {
           "xaxis": {
            "backgroundcolor": "#E5ECF6",
            "gridcolor": "white",
            "gridwidth": 2,
            "linecolor": "white",
            "showbackground": true,
            "ticks": "",
            "zerolinecolor": "white"
           },
           "yaxis": {
            "backgroundcolor": "#E5ECF6",
            "gridcolor": "white",
            "gridwidth": 2,
            "linecolor": "white",
            "showbackground": true,
            "ticks": "",
            "zerolinecolor": "white"
           },
           "zaxis": {
            "backgroundcolor": "#E5ECF6",
            "gridcolor": "white",
            "gridwidth": 2,
            "linecolor": "white",
            "showbackground": true,
            "ticks": "",
            "zerolinecolor": "white"
           }
          },
          "shapedefaults": {
           "line": {
            "color": "#2a3f5f"
           }
          },
          "ternary": {
           "aaxis": {
            "gridcolor": "white",
            "linecolor": "white",
            "ticks": ""
           },
           "baxis": {
            "gridcolor": "white",
            "linecolor": "white",
            "ticks": ""
           },
           "bgcolor": "#E5ECF6",
           "caxis": {
            "gridcolor": "white",
            "linecolor": "white",
            "ticks": ""
           }
          },
          "title": {
           "x": 0.05
          },
          "xaxis": {
           "automargin": true,
           "gridcolor": "white",
           "linecolor": "white",
           "ticks": "",
           "title": {
            "standoff": 15
           },
           "zerolinecolor": "white",
           "zerolinewidth": 2
          },
          "yaxis": {
           "automargin": true,
           "gridcolor": "white",
           "linecolor": "white",
           "ticks": "",
           "title": {
            "standoff": 15
           },
           "zerolinecolor": "white",
           "zerolinewidth": 2
          }
         }
        },
        "title": {
         "text": "3d TSNE Plot for Topic Model"
        },
        "width": 900
       }
      },
      "image/png": "[encoded data removed]",
      "text/html": [
       "<div>                            <div id=\"92f49929-5bdc-435c-a466-4975a0ea8979\" class=\"plotly-graph-div\" style=\"height:800px; width:900px;\"></div>            <script type=\"text/javascript\">                require([\"plotly\"], function(Plotly) {                    window.PLOTLYENV=window.PLOTLYENV || {};                                    if (document.getElementById(\"92f49929-5bdc-435c-a466-4975a0ea8979\")) {                    Plotly.newPlot(                        \"92f49929-5bdc-435c-a466-4975a0ea8979\",                        [{\"hovertemplate\":\"Dominant_Topic=Topic 0<br>0=%{x}<br>1=%{y}<br>2=%{z}<extra></extra>\",\"legendgroup\":\"Topic 0\",\"marker\":{\"color\":\"#636efa\",\"opacity\":0.7,\"symbol\":\"circle\"},\"mode\":\"markers\",\"name\":\"Topic 0\",\"scene\":\"scene\",\"showlegend\":true,\"x\":[-3.662583589553833,2.260333776473999,2.464406728744507,-0.7556429505348206,-0.48858508467674255,4.358168601989746,-1.1745085716247559,0.9406236410140991,4.311532497406006,1.2279295921325684,2.944117307662964,-0.877768874168396,-1.3016268014907837,1.033326506614685,4.388236999511719,0.3490073084831238,-1.074600100517273,-0.1558159738779068,4.526466369628906,-2.109311103820801,-0.010553973726928234,-3.6957571506500244,1.3556807041168213,-2.0839550495147705,-4.046010971069336,2.0328521728515625,-3.0109777450561523,2.11841082572937,1.7673797607421875,2.4624133110046387,-2.709779739379883,-1.3274872303009033,-2.5201210975646973,-0.5296480059623718,0.607822835445404,4.450988292694092,-0.4102998375892639,5.4527082443237305,-2.2247931957244873,2.542245626449585,0.3872451186180115,0.39977380633354187,-0.4516207277774811,0.433647096157074,1.6970187425613403,3.7049927711486816,-0.278152197599411,-0.010620643384754658,1.397634506225586,4.737887859344482,-4.0618767738342285,-0.9627572894096375,-0.16584135591983795,4.830142974853516,5.406841278076172,3.0757431983947754,-0.5772577524185181,7.182854652404785,-3.7617766857147217,2.3999078273773193,-0.7989882230758667,-4.047144889831543,4.006420135498047,1.3550502061843872,-0.3433898687362671,-0.7527111172676086,1.5103504657745361,0.9993594884872437,1.2925176620483398,-0.35055750608444214,-5.213022708892822,-7.347899913787842,-0.7740796208381653,0.16608834266662598,6.466081619262695,-7.270729064941406,-2.6651711463928223,-2.3376200199127197,0.5553022027015686,3.9747226238250732,-5.686021327972412,-1.9818577766418457,0.5715938806533813,-1.865951657295227,1.3141326904296875,4.3701581954956055,4.286543846130371,-1.0511568784713745,-6.2140116691589355,5.157007217407227,5.037951469421387,4.460526943206787,2.6574666500091553,-6.941100597381592,-1.8010419607162476,-5.010232925415039,0.9807887673377991,1.2831584215164185,0.8880547285079956,-2.3327980041503906,-2.3313722610473633,-2.43867564201355,2.9974451065063477,0.9854193925857544,3.2124223709106445,0.24948127567768097,6.622091770172119,-2.41171932220459,1.8738970756530762,-0.5831747055053711,-1.3789944648742676,-0.6695491671562195,0.5476506352424622,4.494389057159424,4.013064384460449,0.24884818494319916,0.7465729713439941,1.0678319931030273,0.6620562076568604,-0.08082381635904312,-0.1755964308977127,2.3208632469177246,-2.1497490406036377,3.9569332599639893,4.084872722625732,-1.1300777196884155,4.3056440353393555,-6.7114338874816895,-2.6928861141204834,1.225063681602478,5.9300336837768555,-1.8150951862335205,-0.8635616302490234,-0.289982408285141,-3.5494308471679688,-2.387277603149414,-1.8544576168060303,-0.2351119965314865,0.5361387729644775,1.2055177688598633,0.4634510576725006,1.7967911958694458,-1.5675405263900757,5.957527160644531,0.4239024519920349,4.533447265625,-2.4543769359588623,1.0815500020980835,2.8435025215148926,0.3630061745643616,-3.4550082683563232,3.162038803100586,-3.569664239883423,-2.3681788444519043,-2.5549709796905518,-5.829087257385254,-6.830440998077393,4.6738433837890625,3.577505350112915,-2.7691216468811035,-1.6029778718948364,4.065340518951416,-1.6195499897003174,-2.74055552482605,3.4069137573242188,-0.337379515171051,-1.7703250646591187,2.3140244483947754,-0.28478890657424927,2.3861589431762695,2.124879837036133,-0.5837241411209106,-4.629182815551758,-0.9341045618057251,-0.9065457582473755,0.15107962489128113,-4.820580959320068,6.049468517303467,0.2583954632282257,-7.632416725158691,-3.617879629135132,4.261796951293945,-1.9145474433898926,-3.7244577407836914,2.5329744815826416,-3.7055578231811523,3.000793933868408,0.7899183034896851,-1.275007963180542,-0.29674196243286133,-2.504737377166748,3.9557530879974365,5.342040538787842,2.3456974029541016,-2.0433313846588135,0.22317710518836975,-6.695629596710205,-0.16370771825313568,2.6984832286834717,-1.4455945491790771,3.744863271713257,-3.106295108795166,-7.425887107849121,3.417039155960083,-7.299253463745117,0.26140663027763367,2.1718978881835938,4.083357334136963,-2.3716468811035156,-6.6129045486450195,2.0091207027435303,0.6088753342628479,-0.1058441698551178,1.7693557739257812,-4.972329616546631,6.218454360961914,-0.06852877140045166,3.843477964401245,3.4547841548919678,6.396173477172852,2.8403494358062744,-1.0075311660766602,3.4543468952178955,0.8843536972999573,-2.2141494750976562,0.075539231300354,-5.700449466705322,-0.21685251593589783,0.4111882150173187,0.06479879468679428,2.8611066341400146,-1.1936427354812622,-0.09082511067390442,-1.2771143913269043,-2.8381869792938232,0.42039865255355835,-0.539727509021759,-3.758305788040161,2.3228559494018555,0.7155142426490784,-1.3683401346206665,-6.32582426071167,2.068235397338867,2.800405979156494,4.188159942626953,0.957615077495575,0.1810995638370514,1.4206929206848145,1.2224162817001343,-4.188842296600342,3.0613324642181396,-0.596086859703064,-2.535461664199829,-7.657784938812256,0.625573992729187,-4.3774189949035645,0.3220451772212982,3.9500691890716553,-5.483880043029785,1.0743122100830078,-3.8284225463867188,3.321178674697876,1.928040623664856,7.0853071212768555,1.3074301481246948,-1.8415462970733643,3.122702121734619,2.9487709999084473,17.286945343017578,-0.8038783669471741,1.4022032022476196,-2.9943008422851562,-2.6310951709747314,0.8745238184928894,-7.468657493591309,-1.863618016242981,-3.4123785495758057,0.24319946765899658,-2.921917676925659,-4.395156383514404,-0.10119270533323288,-5.0270843505859375,-5.146632671356201,-2.0903384685516357,0.037579748779535294,3.34287691116333,-5.140236854553223,5.054642200469971,-0.18299254775047302,1.2208869457244873,-0.07703939080238342,-0.48658761382102966,5.233082294464111,1.472477912902832,3.739948272705078,2.9430789947509766,0.4379453957080841,-3.753920316696167,-5.445664882659912,0.03665991500020027,-4.665858745574951,-2.3322720527648926,-1.0435996055603027,-0.4024621844291687,6.6839375495910645,0.23847395181655884,-4.844746112823486,-6.184406757354736,0.06373605132102966,1.2522516250610352,-2.184000015258789,0.2586311101913452,-1.9295331239700317,0.47833558917045593,-6.8669233322143555,-4.622183322906494,-0.24316123127937317,2.5366196632385254,-1.176667332649231,-0.12367206066846848,-4.899287700653076,-4.381516456604004,-0.7001467347145081,-0.25841355323791504,5.958391189575195,3.149228096008301,-4.116907119750977,3.6069695949554443,-0.6869111657142639,3.072942018508911,-0.5984594821929932,0.37946832180023193,-0.697814404964447,3.6540935039520264,-7.081828594207764,17.282506942749023,1.9433047771453857,-3.800179958343506,-3.0738563537597656,0.9278320670127869,3.193014621734619,-3.6886978149414062,5.756923198699951,2.459676504135132,0.8387173414230347,3.9502017498016357,-7.25489616394043,-6.323993682861328,-3.7564895153045654,-0.5559192299842834,0.033204734325408936,-6.99312686920166,-2.11140513420105,5.958391189575195,0.742614209651947,-4.143864154815674,0.6703908443450928,-0.36476901173591614,0.8314543962478638,4.238661766052246,-0.7036452293395996,-6.060918807983398,-7.440371036529541,-1.9267008304595947,3.434703826904297,1.852816104888916,-1.634898066520691,-0.6635441780090332,1.650654673576355,4.434666156768799,0.19655178487300873,-1.6417913436889648,2.1988673210144043,4.2927937507629395,4.082139492034912,-5.938289642333984,1.4745663404464722,-2.4942216873168945,5.220710277557373,4.206932544708252,-1.9452413320541382,0.783750057220459,-2.8108086585998535,4.481528282165527,-2.3288142681121826,1.4565434455871582,-2.6578116416931152,4.62066650390625,-4.532336711883545,2.410768985748291,1.0244852304458618,6.250026226043701,-2.2779242992401123,-3.50591778755188,1.8868472576141357,1.623423457145691,2.5177977085113525,3.8648874759674072,3.210803270339966,-6.522458553314209,4.501760005950928,-0.2250574231147766,-7.261944770812988,0.6633796691894531,-0.9278496503829956,3.204160213470459,-1.6890206336975098,3.0628814697265625,-0.702319860458374,-4.760880947113037,4.1400604248046875,0.3374609649181366,1.4566893577575684,1.2877906560897827,1.8738315105438232,3.2293102741241455,1.2660712003707886,2.1017239093780518,6.428794860839844,1.8114469051361084,3.800595760345459,-1.208997130393982,4.463298797607422,3.213116407394409,-0.7054767608642578,4.1446123123168945,1.4220153093338013,-3.611828565597534,-3.835414171218872,-4.469218730926514,-3.5240566730499268,-3.176527738571167,17.26009178161621,-2.5608177185058594,-4.4623003005981445,-3.4473488330841064,-6.215900421142578,4.087381362915039,-2.2279038429260254,6.839549541473389,1.3904118537902832,-6.1250739097595215,-6.347393035888672,-0.36632415652275085,-4.582982540130615,0.775837242603302,4.45857572555542,-2.749033212661743,-0.5178984999656677,-4.730299949645996,-3.4708092212677,0.282978892326355,-2.173659563064575,3.027146577835083,-7.890578269958496,2.1476426124572754,-0.41412651538848877,4.032942295074463,-1.5102839469909668,-1.1697157621383667,-5.6242523193359375,-2.613508939743042,0.5595035552978516,5.0849761962890625,-2.5930044651031494,1.2027812004089355,4.512278079986572,-7.8255934715271,1.134899377822876,-6.727847576141357,-2.217104911804199,-4.857891082763672,-6.730113983154297,-6.903165817260742,1.5603939294815063,-6.105772972106934,4.708317279815674,0.20677585899829865,-0.07826601713895798,1.0285379886627197,4.130712985992432,-0.4150131344795227,-3.366182565689087,4.0519795417785645,0.6060858368873596,1.59951913356781,-0.6394767761230469,2.6889140605926514,1.150539517402649,-6.26261568069458,4.536430358886719,-1.1097620725631714,0.9408891201019287,3.4355628490448,1.2487212419509888,0.5422655940055847,1.2007064819335938,4.44835090637207,6.416780471801758,-0.8168901801109314,-4.651888370513916,-4.004015922546387,-0.07723885029554367,-6.22202205657959,-6.503880023956299,-0.9193185567855835,2.2119438648223877,-1.5291662216186523,-5.955043315887451,1.9101974964141846,0.580282986164093,-3.632352590560913,-0.44865134358406067,-0.2368386685848236,-2.2453391551971436,-3.741887092590332,-5.713473796844482,-0.35760968923568726,-1.8621934652328491,-2.0584590435028076,-2.4424967765808105,3.101092576980591,3.8688290119171143,-3.751786947250366,4.342979431152344,-3.653367280960083,-3.3649110794067383,1.9893887042999268,4.3601789474487305,-3.734604835510254,-6.4041900634765625,-3.3602192401885986,4.111876487731934,1.4712175130844116,-7.438035488128662,-1.2060394287109375,-0.2462911456823349,-0.9095762968063354,-1.3898965120315552,-3.23088002204895,-5.932555675506592,-4.511210918426514,-6.94469690322876,-6.480838298797607,1.7391512393951416,3.01226544380188,4.040407657623291,-7.495131492614746,1.9790679216384888,-3.8148672580718994,-0.5524025559425354,0.020615875720977783,3.8443684577941895,-5.060083389282227,4.949985027313232,0.20879243314266205,1.0963430404663086,1.8498533964157104,3.652270793914795,0.9712126851081848,4.832560062408447,-4.736414909362793,4.236283779144287,0.34561988711357117,-1.4996625185012817,4.028652667999268,0.2111656665802002,5.467196941375732,6.321342468261719,-4.17767858505249,-2.3332810401916504,-0.9574392437934875,4.268731117248535,1.0803048610687256,3.5041608810424805,3.5399410724639893,5.934020042419434,1.3555288314819336,0.22736652195453644,3.8108482360839844,-4.736831188201904,-4.960607051849365,1.4229671955108643,2.9569010734558105,2.2777323722839355,0.6175204515457153,-3.8899154663085938,-0.31252238154411316,-3.5697743892669678,-4.13454532623291,-3.4847912788391113,-6.0816168785095215,-2.156151056289673,-0.3269011080265045,-3.841277599334717,-0.7990055084228516,-2.327462911605835,-2.371419906616211,-1.9167009592056274,-0.8708187341690063,1.487705111503601,-1.22652268409729,0.49907076358795166,1.1142258644104004,0.14823172986507416,-4.167150974273682,1.5892119407653809,2.2281055450439453,1.2575323581695557,2.3329710960388184,1.334944486618042,3.3683085441589355,2.506535768508911,-2.594862222671509,0.025780390948057175,-6.58186674118042,-4.418298721313477,3.3389570713043213,0.13400964438915253,-2.795856475830078,0.4347063899040222,-3.937436819076538,-2.449449062347412,-5.171128749847412,3.5812511444091797,0.9450497031211853,0.16752450168132782,3.1718544960021973,-3.502159833908081,1.7149221897125244,-3.265840768814087,-0.7920029759407043,0.26418396830558777,1.9170397520065308,2.837157726287842,-1.3319392204284668,-6.906301021575928,-4.227179050445557,-6.5637407302856445,2.700448513031006,-2.151603937149048,-1.447521686553955,1.730472207069397,2.5934245586395264,-3.004230260848999,-2.3982861042022705,2.145751953125,-0.5421088337898254,0.8966736197471619,-3.429340362548828,-0.6920515298843384,1.5238829851150513,-4.674407482147217,4.026303291320801,3.4396731853485107,-1.3110052347183228,0.18588218092918396,-0.9136305451393127,3.496584415435791,1.0659232139587402,3.6829919815063477,-4.476327419281006,-2.012139320373535,0.52030348777771,-4.660338878631592,-3.118525743484497,3.839752435684204,1.164894700050354,3.0781636238098145,1.5051308870315552,-4.333123207092285,-4.431567192077637,0.8492048978805542,2.768717050552368,2.9405999183654785,-5.4671711921691895,-0.6804745197296143,2.7231767177581787,4.149334907531738,1.4368587732315063,2.671149492263794,-1.0232744216918945,2.552154302597046,4.224595069885254,5.871128082275391,3.6248488426208496,0.5452470183372498,6.340752601623535,0.4250563979148865,1.9511877298355103,-4.398957252502441,-5.306537628173828,4.049081325531006,4.788106441497803,-6.007197380065918,1.5698044300079346,-2.160968780517578,1.7229461669921875,-3.9245665073394775,-6.091020107269287,2.1558778285980225,-0.9225896596908569,2.197129964828491,-0.3320891857147217,2.4181838035583496,2.8147776126861572,-2.3079349994659424,1.455510139465332,-4.4449310302734375,3.3970947265625,0.768298864364624,-4.669314384460449,1.3484690189361572,2.5045087337493896,2.779078245162964,1.6680448055267334,5.097532749176025,-2.0768377780914307,-6.671548843383789,-0.39918217062950134,-4.895212650299072,-3.446558952331543,4.306421756744385,-5.849569797515869,-6.327486515045166,-4.232100963592529,-2.730452299118042,-3.7768595218658447,3.9086570739746094,1.0255095958709717,4.4530720710754395,-0.8790079355239868,0.7127602100372314,1.6260786056518555,-3.5624754428863525,-3.27805495262146,4.232791423797607,0.03710176423192024,-0.26320362091064453,4.083383560180664,-0.7584444284439087,-4.325441837310791,-4.217116832733154,1.960705280303955,4.75682258605957,-2.85442852973938,2.291314125061035,0.9074137210845947,3.4392666816711426,3.5186026096343994,-0.60597825050354,3.258345127105713,4.056817054748535,1.0249003171920776,2.2871761322021484,4.325974464416504,3.380427598953247,2.833009719848633,-6.798187255859375,4.116336345672607,-2.740172863006592,-4.388352394104004,-4.635641098022461,2.498187780380249,-2.94588041305542,-0.9613338708877563,4.6335039138793945,3.5675830841064453,-4.553152084350586,-6.664574146270752,0.6017771363258362,-1.887757658958435,3.814587354660034,2.135556221008301,-2.01922345161438,-0.11395818740129471,-7.0879082679748535,3.352396249771118,1.407564401626587,-5.295705795288086,0.24625615775585175,-4.472921371459961,1.67948317527771,-4.141110420227051,-0.9276382923126221,3.399351119995117,0.8858056664466858,-0.9225186705589294,2.090219259262085,2.501648426055908,1.023348093032837,-2.812891960144043,3.5970892906188965,3.512957811355591,2.4029862880706787,4.708255290985107,1.1095941066741943,5.9883623123168945,4.410367012023926,2.4839069843292236,2.4726204872131348,-0.6792483329772949,-1.894453763961792,0.19495488703250885,1.7056232690811157,-0.9988409280776978,3.841304302215576,1.9782673120498657,-2.368152618408203,1.7692664861679077,-4.0631422996521,-3.007045030593872,2.211092710494995,4.114126205444336,3.2250797748565674,2.4198715686798096,2.0256905555725098,-5.819455146789551,1.1348992586135864,1.8985600471496582,-1.574609637260437,1.1806719303131104,-2.290611505508423,-0.2575598657131195,3.9567971229553223,-3.1144936084747314,-3.527050256729126,6.5045318603515625,4.488624572753906,-0.7743139266967773,-3.7314302921295166,-3.4834177494049072,0.9868726134300232,3.7746098041534424,2.3574461936950684,0.05610956624150276,3.605243444442749,2.487544536590576,-6.238603115081787,3.808572769165039,-3.4626073837280273,0.3537497818470001,0.778770923614502,4.708349704742432,4.547611713409424,2.2943902015686035,4.315701007843018,4.607896327972412,2.475841999053955,-0.18531252443790436,2.9271011352539062,4.332968711853027,-3.887878656387329,-2.945531129837036,0.3774472773075104,3.6252615451812744,-5.41976261138916,1.85701584815979,-3.3102681636810303,1.1556999683380127,2.6253573894500732,1.5638446807861328,-6.939584255218506,-2.4583091735839844,4.982265949249268,-0.18126830458641052,-0.07096996158361435,2.8939127922058105,3.033454656600952,-1.946606993675232,-3.447006940841675,-0.7043688297271729,-3.6980793476104736,-1.9987614154815674,4.3463287353515625,1.4646670818328857,-0.37271955609321594,5.050130844116211,-5.439456939697266,2.2418935298919678,-3.4120073318481445,-1.4733327627182007,-3.2344396114349365,0.8980923891067505,-2.3850345611572266,-3.1223230361938477,1.9670907258987427,-4.714267730712891,-3.579350709915161,-2.5505526065826416,-2.0231873989105225,2.330617904663086,2.439030647277832,1.6415561437606812,3.627620220184326,-3.827695846557617,2.8039815425872803,2.7952821254730225,1.5202986001968384,-3.641702890396118,-3.9584615230560303,-4.767918109893799,-5.114776134490967,-4.46307897567749,-0.2529129683971405,4.662245273590088,2.73681378364563,0.9653878211975098,3.1990678310394287,-1.7520835399627686,0.17799724638462067,4.93632173538208,-0.5118142366409302,4.539366245269775,-1.2416093349456787,0.7227845191955566,4.180797576904297,0.0346306636929512,-2.827212333679199,3.736743450164795,-6.884176731109619,-5.296459674835205,0.5020288228988647,-3.4817416667938232,-0.6402947902679443,0.40087890625,1.8835355043411255,-3.3625845909118652,1.8164558410644531,-6.687385082244873,4.702723026275635,3.3609366416931152,-0.10408013314008713,4.420682430267334,2.7562222480773926,4.014880657196045,-4.080626964569092,4.3126749992370605,-0.9925156235694885,-3.4295992851257324,4.899298667907715,-4.578721046447754,3.928820848464966,0.7300691604614258,-0.9113608002662659,1.240423321723938],\"y\":[-4.879308223724365,4.304052352905273,2.8316774368286133,-1.9027568101882935,-2.2018964290618896,-0.6337323188781738,9.990523338317871,3.8920400142669678,2.8608529567718506,5.750697612762451,-8.32623291015625,1.7626677751541138,10.424845695495605,4.051560878753662,6.1976542472839355,-1.160254955291748,-4.107415199279785,1.5487622022628784,-8.161537170410156,8.37529182434082,-5.594419956207275,4.1860432624816895,-2.178961753845215,-6.13316011428833,-4.290124893188477,-3.3105387687683105,-4.503594875335693,-5.3218183517456055,0.49300000071525574,-2.401336669921875,-0.622075617313385,-0.4980437457561493,4.565480709075928,8.801910400390625,6.835687160491943,-0.487468957901001,1.8342076539993286,-8.781454086303711,10.219951629638672,-5.177797317504883,-4.47220516204834,-3.8865315914154053,-0.07627508789300919,-3.467902898788452,2.112126350402832,0.905096173286438,-4.714707851409912,-0.012171318754553795,-2.529733180999756,-3.8637070655822754,-3.4332385063171387,8.079270362854004,0.35369154810905457,5.791498184204102,-7.835793972015381,1.2910041809082031,-1.6611226797103882,-8.893768310546875,-0.3250320851802826,0.5432546138763428,-6.796674728393555,-4.2507147789001465,-1.1748275756835938,1.3756071329116821,-1.3758950233459473,2.6513307094573975,-0.9094749689102173,-4.099676609039307,-1.099898338317871,-0.2498750537633896,-1.3357837200164795,1.3876328468322754,5.671988487243652,-1.8244824409484863,-8.672016143798828,1.1339008808135986,-4.589755535125732,1.6702373027801514,-4.477636814117432,3.4908227920532227,-1.1518394947052002,0.39280033111572266,1.9442120790481567,9.643842697143555,4.1350321769714355,0.5441130995750427,-0.42491546273231506,8.318269729614258,3.267825126647949,-8.498661994934082,-3.7075891494750977,-1.558609127998352,-5.328317165374756,0.6631654500961304,-6.322150230407715,3.738862991333008,-4.092336177825928,-0.9753398299217224,-3.5013086795806885,7.912014961242676,10.17000961303711,8.230664253234863,2.017820119857788,3.77545428276062,1.6430983543395996,-2.7670466899871826,-8.274198532104492,0.22590582072734833,-7.038633346557617,5.079665660858154,-0.4999730885028839,0.6328170895576477,1.5467345714569092,-3.5153865814208984,-3.1584279537200928,3.864835500717163,-3.024193286895752,6.496638774871826,-1.1008570194244385,-3.305560350418091,-2.9024393558502197,4.469954967498779,1.4389485120773315,2.765298843383789,-2.462751626968384,-6.150897979736328,-4.385499477386475,1.8692357540130615,-4.656162261962891,1.4307986497879028,0.5145260095596313,3.7236642837524414,1.8099243640899658,-0.6169103384017944,8.056864738464355,9.551319122314453,2.80029296875,-7.122145175933838,6.510749816894531,1.2547775506973267,-3.287199020385742,-6.866721153259277,-3.8429222106933594,-8.401862144470215,-4.782493591308594,-0.6417852640151978,8.204593658447266,2.3082051277160645,-0.1864493191242218,-2.896275043487549,-1.2950619459152222,-7.940464973449707,-3.8238251209259033,-2.028773784637451,2.7527048587799072,-0.9264688491821289,0.1918538212776184,-4.628849983215332,3.82993745803833,1.0430957078933716,9.158683776855469,-3.6722874641418457,-0.13610093295574188,4.3522515296936035,0.9006648063659668,6.419872760772705,4.985526084899902,-7.394918918609619,6.395895004272461,1.5153563022613525,1.5014594793319702,-0.8588314056396484,1.0306440591812134,-6.720214366912842,-2.1017942428588867,3.545041084289551,0.04675840213894844,-8.385869979858398,1.134797215461731,-0.029248720034956932,7.83488130569458,-0.5826185941696167,2.965444564819336,-3.391580581665039,-2.290130853652954,5.44478702545166,1.763073444366455,-5.691265106201172,8.026301383972168,2.3687281608581543,1.6252353191375732,-8.28813648223877,-7.749354839324951,0.3822023868560791,-0.8718918561935425,-1.4348880052566528,-1.8597283363342285,2.374110460281372,-0.291106253862381,-1.1915056705474854,5.024896621704102,8.81943130493164,1.3922746181488037,0.5872921347618103,2.573683261871338,5.693917751312256,3.309950828552246,-8.008612632751465,5.840362548828125,0.03709319606423378,0.8872641324996948,-3.3649284839630127,-2.183980703353882,-0.378553569316864,-1.77734375,-0.5445817708969116,-4.386318683624268,4.886768817901611,-8.415684700012207,-8.389824867248535,0.05896430462598801,5.834638595581055,4.702497959136963,2.6555137634277344,-3.8951151371002197,-1.3222590684890747,-0.6389473080635071,6.781820297241211,1.3274598121643066,6.3111042976379395,3.3936407566070557,-2.213965654373169,6.143659591674805,8.153857231140137,4.5833611488342285,0.547683835029602,9.366226196289062,5.068845272064209,-0.7709062695503235,3.8136279582977295,8.332561492919922,0.207760751247406,-7.670669078826904,1.7575418949127197,1.107741117477417,3.7968244552612305,2.1830644607543945,5.460290431976318,-5.1776628494262695,1.4137064218521118,-4.144502639770508,-1.5591329336166382,4.7864909172058105,-0.5077518820762634,-3.938838481903076,-3.0702290534973145,1.4634721279144287,-2.289552927017212,-0.6521246433258057,-1.81133234500885,-1.808800220489502,1.376253604888916,1.659353256225586,-8.871395111083984,-2.354097366333008,-0.6049737334251404,1.1626391410827637,1.3840703964233398,1.0892137289047241,1.239952564239502,5.848002910614014,9.189626693725586,-5.531485080718994,-4.71049690246582,1.9914536476135254,5.370162010192871,4.1970953941345215,-1.191217303276062,-4.994561672210693,-2.731907367706299,-7.38908576965332,3.8217952251434326,3.8119113445281982,5.3672003746032715,-3.9894580841064453,-0.844964861869812,-1.2209516763687134,-7.445878028869629,-1.7219634056091309,1.5017690658569336,6.9294657707214355,-2.943613290786743,-8.218581199645996,1.416920781135559,0.9707606434822083,1.3409698009490967,7.702715873718262,0.5401499271392822,-1.3304405212402344,-6.662750720977783,-0.23002760112285614,9.649977684020996,10.547867774963379,1.3739427328109741,-8.30274486541748,0.21301676332950592,5.455536842346191,-0.06810154020786285,4.1034955978393555,-2.3674821853637695,-6.427493572235107,0.43393492698669434,7.6879730224609375,-1.9009718894958496,0.3025277256965637,2.2775497436523438,1.2545665502548218,3.77488112449646,7.957749843597412,6.852054595947266,4.942277431488037,1.8026922941207886,8.845401763916016,3.080125093460083,-8.401673316955566,-3.0596561431884766,-2.6852920055389404,5.9052863121032715,-2.2837836742401123,1.0784516334533691,9.511116027832031,-5.99869966506958,0.7725558280944824,0.3989923894405365,1.07273268699646,1.0782766342163086,-5.84891939163208,3.9612207412719727,-2.5324246883392334,-7.332613468170166,-6.696168422698975,4.382554531097412,-7.987377166748047,-1.2075557708740234,-6.821940898895264,-2.7393295764923096,-0.8827046751976013,-1.2300009727478027,7.311400890350342,0.19024284183979034,-6.814111709594727,2.824751853942871,4.6621246337890625,-8.401673316955566,3.8637936115264893,5.042213439941406,3.6762759685516357,3.736969232559204,-3.3934671878814697,6.300020694732666,8.956363677978516,4.174734115600586,1.2380123138427734,4.894069194793701,-1.7343099117279053,-4.608750820159912,7.9813432693481445,9.709447860717773,-1.802400827407837,-1.7296178340911865,-4.012572288513184,7.668632984161377,4.107889652252197,5.965237140655518,2.422959804534912,-1.5030442476272583,5.078875541687012,9.268818855285645,-7.70149040222168,-1.3060472011566162,0.6456802487373352,-3.924654960632324,7.921947956085205,0.13028380274772644,4.37513542175293,-0.08450666069984436,-3.7205276489257812,-1.0536091327667236,-2.8859825134277344,-2.449040412902832,6.412689208984375,-8.406157493591309,-6.152052879333496,0.3473687767982483,1.695491075515747,-3.9254488945007324,0.9511014819145203,-3.483644485473633,-8.451645851135254,-0.066312775015831,-1.4421545267105103,-5.870061874389648,1.1641815900802612,-3.1933774948120117,5.684086322784424,-2.5064544677734375,1.465741515159607,2.775834321975708,-1.998544692993164,5.046111583709717,-2.921395778656006,-1.3906745910644531,7.708689212799072,1.4217820167541504,-3.294077157974243,-2.4841089248657227,5.915482997894287,0.5344066023826599,-8.111234664916992,-5.917878150939941,-5.21131706237793,-6.851221084594727,-3.118180513381958,1.6966606378555298,-6.8617143630981445,-1.3174841403961182,-4.865254878997803,-4.1298627853393555,7.648712158203125,-1.3140969276428223,4.486489295959473,8.468231201171875,1.0250983238220215,-4.659081935882568,-3.1974639892578125,8.150413513183594,1.6123255491256714,-1.6054048538208008,10.180499076843262,-8.696542739868164,1.391695261001587,-2.1033058166503906,-0.16522373259067535,6.745233058929443,5.576889991760254,1.3611825704574585,-6.6914567947387695,3.560591459274292,-7.499996185302734,5.83173131942749,5.353534698486328,6.652510166168213,9.915165901184082,-0.492532879114151,-0.24945931136608124,-7.559218406677246,2.753340721130371,0.3516283333301544,1.0582456588745117,-0.46956202387809753,-0.8764414191246033,9.804533958435059,2.664036273956299,-8.060039520263672,2.995039939880371,-3.506639003753662,5.638381481170654,-0.11088129132986069,1.3440604209899902,1.370306134223938,6.446295738220215,5.349963665008545,0.005680963397026062,1.0222669839859009,0.5168696641921997,0.27868714928627014,-8.546089172363281,-4.918119430541992,-1.8206745386123657,-1.9452353715896606,0.3249949514865875,5.4716925621032715,8.351959228515625,7.056951522827148,-3.0658159255981445,-2.4955179691314697,-1.5568599700927734,3.968665838241577,-1.3472402095794678,-1.019477128982544,-4.7763166427612305,1.2496260404586792,4.010006904602051,-1.8737776279449463,-6.8730573654174805,7.043283939361572,-3.4762661457061768,-3.3080382347106934,0.1389966905117035,3.4969990253448486,-0.35170605778694153,-0.0863325297832489,6.987931728363037,-1.2746397256851196,-0.34081706404685974,3.865121364593506,4.107329845428467,0.18647536635398865,3.7540335655212402,-5.55405330657959,-5.183508396148682,1.893941044807434,-3.676264524459839,-4.343357086181641,5.245082378387451,0.2423562854528427,-3.666619300842285,-3.4404871463775635,-1.7671679258346558,2.0240235328674316,1.7665627002716064,3.0916507244110107,-3.073690176010132,7.601592540740967,6.595193862915039,5.543907165527344,6.689298152923584,-3.715761184692383,6.550159931182861,-4.003780841827393,1.416277289390564,4.292243003845215,-4.250982761383057,-6.65943717956543,2.0088632106781006,0.7125699520111084,-5.932577133178711,8.261068344116211,-3.5332841873168945,-0.4367665946483612,3.5630645751953125,3.7743003368377686,0.47173741459846497,-0.4840050935745239,-0.5319169759750366,-6.376023292541504,4.537110805511475,-1.4039140939712524,0.5581128597259521,8.800873756408691,-4.4152913093566895,-3.219583749771118,-2.473203420639038,1.238549828529358,-7.397563934326172,6.509881973266602,-6.311672210693359,-0.13726280629634857,5.153972625732422,-0.8779926300048828,0.3530237078666687,5.535332202911377,4.481829643249512,6.163455486297607,-4.576602458953857,-8.272525787353516,2.0154521465301514,-8.772899627685547,-0.530640721321106,4.083259105682373,9.123600959777832,10.575943946838379,-3.4586641788482666,-3.1055591106414795,-6.642303466796875,4.519351959228516,-8.889577865600586,5.83924674987793,-0.3275485932826996,-6.014455318450928,-1.9462733268737793,-1.864951729774475,4.536303520202637,1.7032853364944458,2.306796073913574,-0.3600704073905945,3.0070676803588867,-7.208060264587402,-3.953483819961548,2.4207630157470703,-4.763088703155518,-0.18449659645557404,1.916121482849121,6.7916460037231445,-0.05276988819241524,-5.605015754699707,5.721417427062988,4.007616996765137,-5.6848297119140625,-0.6453434824943542,5.232354164123535,7.905773639678955,-3.971700429916382,-0.1557215452194214,6.2531914710998535,4.894326686859131,5.02414083480835,2.8866872787475586,4.368130207061768,-1.2086440324783325,-1.109180212020874,-6.815309524536133,3.367891788482666,9.22006893157959,-3.0659844875335693,1.0547171831130981,-3.295201063156128,0.08825119584798813,-4.40863561630249,8.311158180236816,-4.902197360992432,8.079172134399414,-4.098654270172119,-2.6831295490264893,-5.365756511688232,-3.643921375274658,-2.0339787006378174,0.875153124332428,0.3706737458705902,-1.6609432697296143,1.6895852088928223,-3.4128811359405518,-4.850865840911865,-3.713038921356201,-1.1526641845703125,5.886331081390381,0.6728107333183289,-4.83540153503418,0.6007408499717712,-2.5599308013916016,-0.8503496646881104,-6.167707443237305,-7.464602470397949,0.49461445212364197,3.822000503540039,4.30373477935791,0.5792199969291687,-2.0952818393707275,2.1993911266326904,4.165805816650391,7.644394874572754,6.732475280761719,-1.3669674396514893,-1.2964153289794922,1.5651506185531616,1.4649341106414795,-6.596312999725342,-3.288949728012085,-1.753617763519287,-3.9165613651275635,-3.508455753326416,6.108457565307617,-6.299774169921875,6.737305164337158,-1.7085115909576416,9.572550773620605,1.849330186843872,5.994755744934082,1.1485577821731567,1.280684471130371,-2.8724477291107178,6.540132522583008,-2.3261470794677734,1.330075740814209,1.6062490940093994,1.9061843156814575,-2.1292521953582764,-2.04709529876709,-6.698109149932861,1.0402263402938843,1.2801216840744019,-6.761259078979492,-2.645613431930542,-3.5583837032318115,-8.287393569946289,-3.5231173038482666,-3.558579683303833,-0.03917466104030609,-3.655205488204956,-4.862356185913086,-3.5240478515625,1.3392457962036133,-3.6835973262786865,-3.252955913543701,-0.779538094997406,-3.8049139976501465,8.13193130493164,-4.200597286224365,5.227391719818115,2.1726467609405518,3.0596415996551514,-0.6351032853126526,0.5768707990646362,3.869511842727661,1.7144407033920288,-8.124774932861328,0.09554606676101685,-7.113957405090332,-0.1253965198993683,-4.978672027587891,6.19059419631958,-1.391182541847229,-5.208596229553223,-1.88914155960083,1.5572115182876587,-1.951386570930481,-8.178373336791992,-4.2523040771484375,0.3113018870353699,1.6461971998214722,-1.7374757528305054,0.30889463424682617,-0.4954995810985565,-2.1183724403381348,-0.870180070400238,-3.31461501121521,7.799052715301514,1.6509485244750977,5.328201770782471,7.430054187774658,6.149416923522949,2.3908259868621826,1.0193471908569336,-0.11670012772083282,7.595364570617676,9.273993492126465,4.65564489364624,6.880880355834961,0.43724584579467773,2.9771370887756348,-0.8372124433517456,6.068111896514893,-3.563575267791748,3.785526990890503,-7.8621039390563965,9.886275291442871,-0.13775722682476044,0.2254820466041565,-2.726552963256836,-4.0005669593811035,4.086437225341797,1.056358814239502,5.476317882537842,5.846551418304443,0.3417287766933441,-3.4371426105499268,-5.240263938903809,-2.442915201187134,1.242302417755127,-0.8884889483451843,-4.685264587402344,3.833294630050659,2.5205483436584473,0.32580164074897766,-4.5234293937683105,8.265482902526855,-8.776981353759766,-5.567808151245117,1.0947518348693848,2.982541561126709,-3.751350164413452,7.918201446533203,-5.236989974975586,-0.18616287410259247,1.7717849016189575,-1.8035407066345215,-0.9877753257751465,-0.5330198407173157,-7.444185256958008,-2.707523822784424,3.975142478942871,4.4748406410217285,-3.5322818756103516,-3.546661138534546,5.516969680786133,-5.171160697937012,1.4105784893035889,-6.8489251136779785,-1.5668206214904785,3.5453338623046875,-5.261654853820801,8.08047866821289,-5.230966567993164,-1.874536395072937,-4.118617057800293,-8.546110153198242,-3.5862650871276855,-8.261906623840332,-2.103630542755127,-5.139464855194092,1.6952232122421265,6.037786960601807,-4.246883392333984,-5.682072639465332,0.646266758441925,10.690658569335938,3.8521509170532227,0.32001590728759766,9.796591758728027,-0.6714760065078735,0.0036893626675009727,3.746534824371338,0.45492300391197205,3.7744574546813965,-3.667971134185791,1.2796462774276733,-7.300474643707275,-2.3989245891571045,1.3440605401992798,3.7157342433929443,4.387874126434326,7.039256572723389,-3.296556234359741,-6.353094100952148,-6.3913140296936035,9.379046440124512,6.566662311553955,-8.691802978515625,4.503194808959961,2.1013314723968506,7.704674243927002,4.7956223487854,5.879258155822754,2.8715834617614746,-1.925722360610962,-3.3399124145507812,1.2299108505249023,2.160240411758423,1.343375563621521,-3.1241815090179443,3.398139238357544,-6.882702350616455,1.4713828563690186,-8.54595947265625,5.44473934173584,-5.421039581298828,-1.4468348026275635,-5.011333465576172,-1.7597863674163818,8.569738388061523,-6.342060089111328,-8.29919719696045,3.8406968116760254,-3.876145124435425,7.664759635925293,-2.9220190048217773,-0.5644327998161316,1.7887297868728638,4.347624778747559,-4.334117889404297,0.66034334897995,0.4749775230884552,-0.4910532534122467,-5.415393352508545,-6.93082857131958,2.127314329147339,2.617849588394165,5.497881889343262,1.9609479904174805,6.306560516357422,5.468294143676758,8.680351257324219,-0.013106429018080235,0.36929038166999817,-1.7417898178100586,-3.7447612285614014,-6.966673851013184,-7.0170745849609375,4.327228546142578,4.649281978607178,1.8865625858306885,-6.6163330078125,5.20836877822876,-3.238232135772705,-5.9628729820251465,-2.941528558731079,-5.175527095794678,3.7245428562164307,7.035351753234863,4.691019535064697,-4.679019451141357,-5.893836498260498,-4.197149276733398,1.6174724102020264,4.804121971130371,0.16782119870185852,1.7680259943008423,1.3070200681686401,-0.828716516494751,8.896615028381348,-2.6153695583343506,-1.2065246105194092,1.5114797353744507,1.1246241331100464,-5.553398609161377,-5.138218879699707,-0.4204927384853363,-3.3615128993988037,-5.002257347106934,-6.562549114227295,2.2994306087493896,-7.07266092300415,5.688345909118652,4.020745754241943,5.6147565841674805,-4.351924419403076,2.890129327774048,-0.8636258840560913,9.241229057312012,-2.493748903274536,1.9654297828674316,-2.5046441555023193,7.475393295288086,-4.5293779373168945,9.10854434967041,-3.747878313064575,4.0474162101745605,9.057482719421387,-1.4808588027954102,2.546207904815674,0.4956388473510742,-5.2585883140563965,-3.3923630714416504,4.146639347076416,1.0947681665420532,-2.932882785797119,5.774656295776367,-4.57908821105957,3.9517011642456055,0.19457629323005676,-7.891174793243408,3.6831846237182617,-0.19084371626377106,4.488406181335449,5.564453601837158,-6.030412673950195],\"z\":[3.1408562660217285,3.9915575981140137,1.9081206321716309,-2.009406566619873,5.238472938537598,6.110262870788574,-1.0243266820907593,2.708719253540039,6.607619285583496,-5.157190799713135,0.30559042096138,-2.2350401878356934,-1.0203949213027954,2.6318507194519043,7.1613240242004395,-5.952591896057129,-3.7981984615325928,1.4003276824951172,1.9330085515975952,-4.944520473480225,4.095288276672363,-1.06956148147583,2.5924954414367676,2.827590227127075,3.012450933456421,3.330303430557251,2.091439723968506,0.168246790766716,4.509975433349609,5.655439376831055,-1.0098092555999756,-4.227989673614502,-4.903596878051758,-4.182290554046631,2.688330888748169,5.759920120239258,-2.5667216777801514,1.8190370798110962,-1.0678662061691284,-2.510385513305664,0.31137412786483765,-4.861645221710205,-6.5300679206848145,-4.145721912384033,-7.192434310913086,1.420343041419983,-1.8338425159454346,-7.205010890960693,-6.315078258514404,4.577917575836182,-0.5907379388809204,-3.219524621963501,-7.390810012817383,7.353540897369385,0.3600323498249054,-2.626743793487549,-1.8708140850067139,2.2025821208953857,-2.760340452194214,-4.59145450592041,0.10589496791362762,2.946751594543457,-1.8559067249298096,6.272147178649902,-3.7758805751800537,-5.819723129272461,-3.2610878944396973,-4.0034966468811035,6.3823933601379395,-6.70794677734375,5.453394889831543,4.318248748779297,-4.34572172164917,-1.5754810571670532,1.5962990522384644,3.1806459426879883,3.8279430866241455,-4.5455098152160645,-1.1318845748901367,6.9507856369018555,2.4854397773742676,-3.909445285797119,-5.762472629547119,-1.208250641822815,3.873913049697876,6.208314895629883,-1.976798176765442,-3.2460787296295166,1.611211895942688,1.9078559875488281,-3.861948251724243,5.507052421569824,4.495892524719238,4.565634727478027,-0.6541411280632019,1.6904609203338623,5.045910835266113,-8.226639747619629,2.572462797164917,-1.5893436670303345,-0.9628978371620178,0.4758535921573639,1.498831868171692,-1.7339873313903809,1.2509231567382812,5.056131839752197,2.6954853534698486,-4.51625394821167,-1.9499411582946777,1.0645283460617065,-2.529144525527954,-3.782592535018921,-4.686802387237549,3.9468483924865723,-2.1396210193634033,-1.0290940999984741,2.734522581100464,-6.165265083312988,-8.340742111206055,-2.4178717136383057,-2.304689407348633,4.134334564208984,-5.351545333862305,6.789130687713623,4.22664737701416,1.965065598487854,-1.5939269065856934,1.8142306804656982,2.1792073249816895,6.4261884689331055,-2.1618645191192627,0.9223900437355042,-6.737143039703369,-6.542540073394775,1.1961860656738281,-3.7133116722106934,-0.9277225732803345,2.805236577987671,-6.334238052368164,-4.950287818908691,5.314824104309082,0.5072795748710632,0.1855352818965912,0.6720566749572754,-0.42538708448410034,5.589127540588379,-1.728124737739563,-4.493163108825684,4.6330885887146,2.2674059867858887,-0.551874041557312,1.0670051574707031,-1.1279900074005127,-2.143545150756836,1.443190574645996,-0.3814305067062378,4.246323585510254,4.4681878089904785,7.542975902557373,-4.789200305938721,-3.7716739177703857,3.990912914276123,-3.705026626586914,-5.959894180297852,-6.320150375366211,1.4951189756393433,-5.950289249420166,-2.3121683597564697,1.6137157678604126,-7.38154411315918,-5.685461044311523,-2.5380825996398926,-2.44675350189209,-0.1470372974872589,5.345276355743408,-5.185204029083252,-1.3871771097183228,2.190882682800293,2.328044891357422,3.4431545734405518,-2.6286540031433105,-1.9293750524520874,-1.1272468566894531,-0.370524525642395,-5.4135565757751465,-5.218029499053955,0.4711845815181732,6.118484020233154,-5.370134353637695,-2.658707857131958,-4.171856880187988,1.3373862504959106,0.15139992535114288,4.255136966705322,-1.4146298170089722,-7.324311256408691,3.8770248889923096,-2.60636043548584,4.566181659698486,-2.1125404834747314,7.581284046173096,-3.4660797119140625,4.1567063331604,0.4311922490596771,3.9020557403564453,1.2289588451385498,5.173813343048096,0.43277791142463684,-6.364756107330322,3.2819085121154785,-8.212873458862305,6.635631561279297,5.0288872718811035,6.667194366455078,5.513419151306152,-2.055138111114502,3.277289390563965,6.686892032623291,0.04334007948637009,2.0574185848236084,-7.749608993530273,-4.367465496063232,5.919048309326172,3.8899874687194824,-0.6293194890022278,1.86533522605896,1.8408434391021729,-0.03902919590473175,0.8159074187278748,1.8616210222244263,4.447735786437988,-0.9464960098266602,1.6725153923034668,-3.3192641735076904,-4.661733150482178,-4.6411237716674805,-0.896090567111969,-3.790262222290039,3.5180721282958984,4.040150165557861,-0.7364904880523682,1.9311670064926147,0.08711156249046326,0.06234858185052872,6.317070960998535,-1.7547539472579956,-4.99176025390625,-7.159524917602539,-1.5480402708053589,-4.584471702575684,-3.9547383785247803,-3.6684482097625732,-5.764328956604004,5.008027076721191,1.0871922969818115,1.142096996307373,0.5867708325386047,-4.99227237701416,1.736451506614685,2.6604151725769043,-0.06202888861298561,-2.7467753887176514,-6.453328609466553,2.252396583557129,-6.210737228393555,-3.4269046783447266,1.1866956949234009,5.363214015960693,-0.06827498972415924,-1.9272483587265015,-6.5237908363342285,-2.2267708778381348,3.1098005771636963,6.171082019805908,3.9772720336914062,-4.979795932769775,-2.3258321285247803,1.5684832334518433,3.4515645503997803,0.6638384461402893,-1.1116598844528198,1.5312198400497437,1.364958643913269,-3.9024107456207275,-0.4367084205150604,-4.873917579650879,-0.451278954744339,-0.7835789918899536,4.755641937255859,-6.3834991455078125,-0.09665017575025558,-4.135436058044434,2.5076160430908203,6.071291923522949,-6.471654415130615,-5.720425605773926,-5.764714241027832,3.0790340900421143,4.869808197021484,2.0347564220428467,4.269671440124512,-0.677130401134491,-1.1371545791625977,-7.022994041442871,2.6971843242645264,-7.5898919105529785,-1.8972631692886353,1.520957589149475,-5.269010066986084,-6.2652058601379395,-0.2443060725927353,-4.478711128234863,-4.932840347290039,-1.5011568069458008,2.421292304992676,-1.9149081707000732,-7.367558479309082,4.555628299713135,-4.088424205780029,-6.793554306030273,-0.7275307774543762,-1.699860692024231,-4.31921911239624,-4.452626705169678,0.6720227599143982,-5.4776082038879395,0.25637632608413696,6.515237808227539,-3.742467164993286,1.2755465507507324,-0.8734197020530701,6.384467601776123,-2.065889358520508,-6.84950065612793,2.619924545288086,-0.07495895773172379,-0.8482205867767334,1.5870611667633057,-0.19511084258556366,2.874626398086548,0.7440474629402161,-0.9986798763275146,1.0026240348815918,5.3143534660339355,2.4696855545043945,-4.955996513366699,4.635450839996338,3.3392207622528076,-4.533013343811035,-1.6084400415420532,1.8684571981430054,3.7443206310272217,-5.88733434677124,0.6720227599143982,-1.4131208658218384,-1.5985647439956665,4.016380310058594,-0.17651186883449554,6.300231456756592,7.024576187133789,-4.1863694190979,0.3840809762477875,4.519106388092041,-4.045581340789795,-2.0524649620056152,-2.941859245300293,-2.6298794746398926,-1.0013569593429565,2.8193774223327637,5.343250751495361,-0.3642237186431885,-5.091683864593506,3.9747273921966553,7.209063529968262,6.533838272094727,3.4383363723754883,3.897218942642212,-2.1931796073913574,-0.2638668417930603,-1.8536956310272217,-5.410681247711182,-1.287673830986023,-1.625097393989563,-1.982939600944519,-5.080410957336426,6.428021430969238,-0.6425443291664124,5.5513715744018555,1.211379885673523,-5.68912410736084,-6.038727760314941,2.2472503185272217,2.9055328369140625,1.6409008502960205,-5.333483695983887,-5.342259883880615,3.9266889095306396,-4.461385250091553,0.3237558603286743,0.06820959597826004,5.347364902496338,5.565299987792969,3.159142255783081,1.6118017435073853,-5.130459308624268,-2.256868600845337,-2.0671584606170654,4.994655132293701,-1.9920295476913452,-0.9761939644813538,-1.9798420667648315,-7.131485939025879,-6.104567050933838,-6.139067649841309,3.1649603843688965,-5.135342121124268,3.4365859031677246,-8.589186668395996,2.7397661209106445,-0.6536717414855957,-6.185503005981445,2.932880401611328,-4.645344257354736,-6.457280158996582,-0.0030501431319862604,6.522856712341309,-1.8069519996643066,-0.1746390461921692,-3.9916303157806396,-0.25248292088508606,-0.8304593563079834,0.5801448225975037,-0.12185268849134445,1.8992173671722412,4.223742485046387,0.9917283058166504,5.167573928833008,6.869590759277344,-2.7017853260040283,1.9580315351486206,3.7764129638671875,3.424063205718994,1.996213674545288,-4.799736499786377,-5.793679237365723,-6.531677722930908,3.0399844646453857,1.1682361364364624,5.268412113189697,-1.9461344480514526,-2.4527781009674072,2.255976915359497,-0.7035533785820007,-4.750304698944092,3.4672205448150635,-3.1308536529541016,-3.2044146060943604,-6.55294132232666,-1.7632458209991455,0.7250840067863464,3.7875447273254395,-1.4357681274414062,-5.224707126617432,2.772632598876953,-2.223970890045166,-4.3907470703125,7.438834190368652,4.493619918823242,3.9640464782714844,5.435969352722168,-5.618007659912109,-1.6163406372070312,2.4797277450561523,2.499861001968384,-8.442985534667969,5.617112636566162,1.5682388544082642,6.712536334991455,4.696251392364502,-3.963304042816162,-1.8672513961791992,-6.558577060699463,-2.359443426132202,6.7021164894104,6.4983696937561035,-6.2992024421691895,-4.147451877593994,5.082345485687256,-7.53487491607666,4.074024200439453,4.354041576385498,-1.9488929510116577,3.1365339756011963,-1.1685508489608765,-1.8193256855010986,-3.667137861251831,-4.56980037689209,-4.228076934814453,-2.0451111793518066,-3.8516459465026855,1.594099998474121,-0.8288567662239075,-7.073077201843262,4.578641891479492,1.8954757452011108,-3.177516222000122,4.557206153869629,-3.990492105484009,0.6366214156150818,-2.1346497535705566,-1.4629619121551514,-5.034738540649414,3.170814037322998,-0.0507177896797657,-5.444035530090332,2.9986050128936768,3.752058267593384,2.782304286956787,-1.9683781862258911,-1.9414966106414795,-2.2483632564544678,7.566904544830322,-5.446325778961182,-4.32212495803833,7.028012752532959,-2.761627435684204,-1.2034707069396973,-4.307386875152588,7.052967071533203,-0.16944138705730438,1.0385239124298096,1.6937683820724487,4.510688781738281,0.335178405046463,4.25616979598999,-3.4128270149230957,5.215951919555664,-4.5169758796691895,4.485788345336914,-1.3053935766220093,0.4666041433811188,1.8169043064117432,2.940720319747925,4.521357536315918,6.850075721740723,0.5005354285240173,6.918269634246826,3.9529271125793457,3.3869097232818604,-0.5276792645454407,-1.6407774686813354,-4.573467254638672,5.763819694519043,-2.4067180156707764,0.2649753987789154,-6.425812244415283,-1.6960088014602661,-3.667313814163208,6.210766315460205,-7.784905910491943,1.335869312286377,-1.1241586208343506,6.603388786315918,-6.890079975128174,-0.9182732105255127,1.7602874040603638,-2.8769187927246094,1.0939408540725708,-2.028989791870117,-1.0072152614593506,-2.3462367057800293,-1.1194002628326416,4.06296968460083,2.68818998336792,0.4663199484348297,6.004194736480713,1.5322905778884888,-5.23942756652832,-8.752148628234863,3.6512749195098877,5.005964756011963,4.730153560638428,3.440845251083374,-3.919433116912842,-5.615951061248779,-7.86752986907959,-1.0771206617355347,5.413110256195068,-0.31036609411239624,-1.3510273694992065,3.3169515132904053,1.8457152843475342,-1.7157596349716187,-3.705037832260132,-0.5083870887756348,6.722537994384766,-4.976088523864746,-4.9788594245910645,2.235912322998047,-7.675946235656738,-6.875535011291504,-2.012749433517456,4.034151077270508,6.0309600830078125,-7.224758625030518,-5.596103668212891,3.705496311187744,-5.61139440536499,3.562037229537964,-7.381319522857666,-5.601372718811035,0.816744863986969,3.0622174739837646,-2.5493929386138916,-2.693286180496216,1.106152057647705,4.189763069152832,-7.184422016143799,6.900570869445801,-1.65713369846344,-0.4698614478111267,0.703669011592865,-1.7317883968353271,1.6700637340545654,-4.5979838371276855,3.904752254486084,-1.5319734811782837,-7.282919883728027,0.9565356969833374,-4.739473342895508,-4.613439083099365,2.1152682304382324,6.531185150146484,-2.996096611022949,4.639865875244141,-5.520876884460449,1.3366659879684448,3.2606518268585205,5.869448661804199,-5.430944442749023,-1.2819900512695312,2.11307430267334,0.2221774458885193,3.8105239868164062,-6.759506702423096,-5.7371296882629395,3.4606683254241943,5.8827314376831055,-3.0218656063079834,-2.772329092025757,-2.782522439956665,-6.6222004890441895,0.37682926654815674,-1.7905298471450806,-3.1148743629455566,-2.362301826477051,3.5802481174468994,2.757164716720581,-2.01435923576355,5.964211463928223,-4.730401039123535,-2.385103225708008,2.5559113025665283,2.569638729095459,5.829949855804443,0.03157518431544304,6.397149562835693,-4.2629008293151855,1.0999791622161865,-5.909605979919434,0.8041775226593018,-2.361563205718994,-6.165101051330566,-2.3070476055145264,-3.766976833343506,-2.219782829284668,-3.53169322013855,-4.942849636077881,2.5664141178131104,4.918473720550537,-2.6241915225982666,-0.5094057321548462,-4.930397033691406,-2.3575024604797363,1.90140962600708,-4.450813293457031,1.3584731817245483,-2.052501916885376,-1.589331030845642,-3.07135272026062,1.543768048286438,-2.3613202571868896,-2.4571661949157715,-3.8725807666778564,2.865255117416382,5.96832275390625,-1.6174554824829102,4.4279961585998535,-4.705745697021484,0.18459780514240265,1.9303679466247559,-7.651223182678223,4.504528045654297,-0.19410191476345062,-7.082244396209717,0.4753264784812927,-4.672898769378662,3.3059327602386475,-0.5847784280776978,-4.645142078399658,-6.96661901473999,-0.014500857330858707,-0.8054159283638,4.590972423553467,-2.616260290145874,-1.333822250366211,2.5130040645599365,1.0448499917984009,1.1654226779937744,-6.802147388458252,5.456143379211426,1.2164082527160645,6.139745235443115,3.342888593673706,3.735424280166626,4.441840171813965,-3.6155176162719727,-4.741128444671631,7.189802169799805,-6.245552062988281,7.1922502517700195,-6.170981407165527,3.3822996616363525,6.61340856552124,-2.348276376724243,-1.424795389175415,7.343261241912842,-7.548616409301758,-4.218878269195557,6.788484573364258,-3.125990867614746,-1.638673186302185,3.5882673263549805,2.5968408584594727,2.189042806625366,-0.3032996356487274,3.744605779647827,-4.1151123046875,3.9800400733947754,-3.0929713249206543,-5.038518905639648,1.0164238214492798,6.6177191734313965,-4.7423624992370605,-3.8936614990234375,-4.344766139984131,-4.487576484680176,5.756213188171387,5.77787971496582,6.645252227783203,3.8863003253936768,-0.4237326681613922,-1.723548173904419,4.353394985198975,2.018253803253174,-5.4376325607299805,0.9874787330627441,-3.636381149291992,-4.460350036621094,2.8959507942199707,4.3817219734191895,0.46399638056755066,-6.246700763702393,-4.362265110015869,-1.9107699394226074,4.652007579803467,4.666706562042236,-4.765997409820557,2.7160186767578125,3.4968225955963135,-0.6569567918777466,-0.22709006071090698,-4.145025253295898,4.174288272857666,-5.116244792938232,3.919715404510498,0.9290651082992554,-0.4780934453010559,-4.773593902587891,4.910337448120117,-0.7811415195465088,-3.3430697917938232,-5.292869567871094,-1.4022412300109863,-4.007369518280029,1.5683047771453857,2.474487066268921,2.205073356628418,5.068690776824951,-2.5294244289398193,0.2049483358860016,-2.9879539012908936,-0.62678062915802,6.2023162841796875,4.43779993057251,-1.4318863153457642,7.15245246887207,-8.444009780883789,-3.7461440563201904,-3.83213472366333,-1.313393235206604,-6.417588710784912,-8.309046745300293,6.754087924957275,4.0847649574279785,-2.0049567222595215,0.7669051289558411,1.6828871965408325,3.9640464782714844,2.627032518386841,-5.844087600708008,-6.463953495025635,-0.3142670691013336,5.479097843170166,3.4474000930786133,-0.7130185961723328,-1.3121124505996704,1.608228325843811,6.7967329025268555,4.269107341766357,-2.7711894512176514,-1.3511931896209717,-4.772911548614502,6.749640941619873,4.617830276489258,-2.58461594581604,-6.626988410949707,5.357646465301514,0.8157694339752197,4.4085259437561035,-6.110813140869141,1.642446756362915,6.395610809326172,1.568261981010437,7.229706287384033,-0.9203152060508728,-6.31866455078125,4.3204498291015625,4.459593772888184,-4.603976249694824,0.14976833760738373,1.236925482749939,-5.9442315101623535,0.05089809373021126,-5.786454200744629,4.453994274139404,2.0615532398223877,-7.368997573852539,1.5935754776000977,-1.630553960800171,-7.899995803833008,6.5791215896606445,4.915778160095215,2.376647472381592,-1.8285646438598633,4.109766006469727,-5.110504627227783,5.302389144897461,1.4353734254837036,-5.003577709197998,-5.509364604949951,-4.027230739593506,-1.6138813495635986,-4.0053911209106445,-6.424811363220215,-3.320671796798706,4.90622615814209,-1.6523419618606567,-0.4900072515010834,4.1585564613342285,-4.950979709625244,-0.4179685115814209,-5.438355922698975,2.249814033508301,-0.6854873299598694,-0.33896398544311523,-1.3017522096633911,-5.468147277832031,-4.712764263153076,-4.789150714874268,-1.0543919801712036,0.09016207605600357,-3.8752081394195557,1.0152136087417603,6.249241828918457,3.0832831859588623,-0.02622414007782936,-7.278506278991699,-7.997931957244873,-0.8547472953796387,0.10205427557229996,0.6498605012893677,-2.2807118892669678,-2.1540863513946533,5.968240261077881,4.28299617767334,4.899715900421143,6.279433727264404,-3.8423080444335938,2.3306381702423096,3.8487906455993652,-1.4112805128097534,-6.832119941711426,6.842751979827881,-5.073997974395752,6.155679702758789,6.5103864669799805,4.2176642417907715,-1.7745856046676636,6.353031635284424,2.5657122135162354,2.6599576473236084,-5.864545822143555,2.1476216316223145,-4.423282146453857,-5.163597106933594,3.667712450027466,-0.9392836093902588,3.2137651443481445,2.1741483211517334,1.3538280725479126,-5.185641288757324,1.715709924697876,7.018980503082275,-5.654941558837891,-2.1114304065704346,-1.0477710962295532,-1.3688266277313232,0.88264000415802,1.2222687005996704,-0.33685916662216187,-1.7524775266647339,-5.90968132019043,1.8616961240768433,-3.802027463912964,-1.4962925910949707],\"type\":\"scatter3d\"},{\"hovertemplate\":\"Dominant_Topic=Topic 1<br>0=%{x}<br>1=%{y}<br>2=%{z}<extra></extra>\",\"legendgroup\":\"Topic 1\",\"marker\":{\"color\":\"#EF553B\",\"opacity\":0.7,\"symbol\":\"circle\"},\"mode\":\"markers\",\"name\":\"Topic 1\",\"scene\":\"scene\",\"showlegend\":true,\"x\":[16.908660888671875,7.344158172607422,16.46131134033203,16.934627532958984,17.028575897216797,16.482152938842773,16.644603729248047,17.053728103637695,17.041379928588867,16.91887664794922,16.94251251220703,17.006418228149414,16.792377471923828,7.4588398933410645,16.66122817993164,16.765199661254883,16.99823570251465,16.53451919555664,16.89159393310547,16.49746322631836,16.677082061767578,16.988367080688477,16.46900749206543,17.0223445892334],\"y\":[0.006586448755115271,-9.55251693725586,0.11378779262304306,0.5653796195983887,0.5381805300712585,0.05077807605266571,-0.11753982305526733,-0.20096689462661743,-0.1361185759305954,0.49543076753616333,0.4104454219341278,0.14458879828453064,-0.1402536779642105,-9.449422836303711,0.1371297389268875,-0.15765264630317688,0.3973968029022217,-0.026784874498844147,0.5969049334526062,0.45569097995758057,0.22675800323486328,0.394268274307251,0.000431867316365242,-0.07311786711215973],\"z\":[-1.2832815647125244,2.074768304824829,-1.0880743265151978,-0.5817901492118835,-0.5720193982124329,-0.8998349905014038,-0.8510746359825134,-1.028183102607727,-1.220721960067749,-0.9535474181175232,-0.5342832207679749,-1.1899904012680054,-0.81098473072052,2.0369341373443604,-1.2812747955322266,-1.2561442852020264,-0.6173840761184692,-0.8403411507606506,-0.5073100328445435,-1.0561954975128174,-1.2512266635894775,-1.0917909145355225,-1.0143476724624634,-0.8604254126548767],\"type\":\"scatter3d\"},{\"hovertemplate\":\"Dominant_Topic=Topic 2<br>0=%{x}<br>1=%{y}<br>2=%{z}<extra></extra>\",\"legendgroup\":\"Topic 2\",\"marker\":{\"color\":\"#00cc96\",\"opacity\":0.7,\"symbol\":\"circle\"},\"mode\":\"markers\",\"name\":\"Topic 2\",\"scene\":\"scene\",\"showlegend\":true,\"x\":[7.488002777099609,7.4933180809021,7.4880051612854],\"y\":[-9.183757781982422,-9.210389137268066,-9.183806419372559],\"z\":[2.1625823974609375,2.0984907150268555,2.162475824356079],\"type\":\"scatter3d\"},{\"hovertemplate\":\"Dominant_Topic=Topic 3<br>0=%{x}<br>1=%{y}<br>2=%{z}<extra></extra>\",\"legendgroup\":\"Topic 3\",\"marker\":{\"color\":\"#ab63fa\",\"opacity\":0.7,\"symbol\":\"circle\"},\"mode\":\"markers\",\"name\":\"Topic 3\",\"scene\":\"scene\",\"showlegend\":true,\"x\":[-3.65164852142334,-5.848262310028076,-3.6309401988983154,-7.092412948608398,1.937117338180542,-2.583779811859131,0.43663519620895386,2.6827282905578613,-4.079702377319336,-4.249359607696533,4.067651271820068,-7.0803022384643555,4.003708839416504,-3.8719825744628906,-7.242988109588623,1.2112641334533691,2.0874199867248535,-2.715291976928711,-4.597161293029785,-6.613430976867676,-7.505993366241455,-6.083926200866699,-4.652524471282959,4.077418327331543,-3.255626916885376,-6.11142635345459,-7.6024556159973145],\"y\":[-6.245375156402588,-3.5734593868255615,-5.958998203277588,-1.8614907264709473,-4.672102928161621,-6.466099262237549,-5.906312942504883,-5.124408721923828,-5.5402679443359375,-3.1165475845336914,-6.878696918487549,-2.417689800262451,-6.718175411224365,-5.452769756317139,-1.4282594919204712,-4.309112071990967,-4.854050636291504,-6.535183906555176,-4.841277599334717,0.37919893860816956,-1.1685742139816284,-3.468815565109253,-4.759823799133301,-6.743648529052734,-6.113070487976074,-3.4169461727142334,-0.9145602583885193],\"z\":[3.017613649368286,3.9302875995635986,4.132567405700684,5.118451118469238,5.499934196472168,2.853888988494873,6.489983558654785,5.074869155883789,3.7734625339508057,5.3275346755981445,3.230189800262451,3.876370668411255,3.32700514793396,3.320368766784668,4.81691312789917,5.915576457977295,5.038150787353516,3.068176031112671,3.6178810596466064,5.837748050689697,4.663950443267822,3.947920322418213,3.506227731704712,3.2977757453918457,4.374921798706055,3.892881155014038,4.72609806060791],\"type\":\"scatter3d\"}],                        {\"template\":{\"data\":{\"histogram2dcontour\":[{\"type\":\"histogram2dcontour\",\"colorbar\":{\"outlinewidth\":0,\"ticks\":\"\"},\"colorscale\":[[0.0,\"#0d0887\"],[0.1111111111111111,\"#46039f\"],[0.2222222222222222,\"#7201a8\"],[0.3333333333333333,\"#9c179e\"],[0.4444444444444444,\"#bd3786\"],[0.5555555555555556,\"#d8576b\"],[0.6666666666666666,\"#ed7953\"],[0.7777777777777778,\"#fb9f3a\"],[0.8888888888888888,\"#fdca26\"],[1.0,\"#f0f921\"]]}],\"choropleth\":[{\"type\":\"choropleth\",\"colorbar\":{\"outlinewidth\":0,\"ticks\":\"\"}}],\"histogram2d\":[{\"type\":\"histogram2d\",\"colorbar\":{\"outlinewidth\":0,\"ticks\":\"\"},\"colorscale\":[[0.0,\"#0d0887\"],[0.1111111111111111,\"#46039f\"],[0.2222222222222222,\"#7201a8\"],[0.3333333333333333,\"#9c179e\"],[0.4444444444444444,\"#bd3786\"],[0.5555555555555556,\"#d8576b\"],[0.6666666666666666,\"#ed7953\"],[0.7777777777777778,\"#fb9f3a\"],[0.8888888888888888,\"#fdca26\"],[1.0,\"#f0f921\"]]}],\"heatmap\":[{\"type\":\"heatmap\",\"colorbar\":{\"outlinewidth\":0,\"ticks\":\"\"},\"colorscale\":[[0.0,\"#0d0887\"],[0.1111111111111111,\"#46039f\"],[0.2222222222222222,\"#7201a8\"],[0.3333333333333333,\"#9c179e\"],[0.4444444444444444,\"#bd3786\"],[0.5555555555555556,\"#d8576b\"],[0.6666666666666666,\"#ed7953\"],[0.7777777777777778,\"#fb9f3a\"],[0.8888888888888888,\"#fdca26\"],[1.0,\"#f0f921\"]]}],\"heatmapgl\":[{\"type\":\"heatmapgl\",\"colorbar\":{\"outlinewidth\":0,\"ticks\":\"\"},\"colorscale\":[[0.0,\"#0d0887\"],[0.1111111111111111,\"#46039f\"],[0.2222222222222222,\"#7201a8\"],[0.3333333333333333,\"#9c179e\"],[0.4444444444444444,\"#bd3786\"],[0.5555555555555556,\"#d8576b\"],[0.6666666666666666,\"#ed7953\"],[0.7777777777777778,\"#fb9f3a\"],[0.8888888888888888,\"#fdca26\"],[1.0,\"#f0f921\"]]}],\"contourcarpet\":[{\"type\":\"contourcarpet\",\"colorbar\":{\"outlinewidth\":0,\"ticks\":\"\"}}],\"contour\":[{\"type\":\"contour\",\"colorbar\":{\"outlinewidth\":0,\"ticks\":\"\"},\"colorscale\":[[0.0,\"#0d0887\"],[0.1111111111111111,\"#46039f\"],[0.2222222222222222,\"#7201a8\"],[0.3333333333333333,\"#9c179e\"],[0.4444444444444444,\"#bd3786\"],[0.5555555555555556,\"#d8576b\"],[0.6666666666666666,\"#ed7953\"],[0.7777777777777778,\"#fb9f3a\"],[0.8888888888888888,\"#fdca26\"],[1.0,\"#f0f921\"]]}],\"surface\":[{\"type\":\"surface\",\"colorbar\":{\"outlinewidth\":0,\"ticks\":\"\"},\"colorscale\":[[0.0,\"#0d0887\"],[0.1111111111111111,\"#46039f\"],[0.2222222222222222,\"#7201a8\"],[0.3333333333333333,\"#9c179e\"],[0.4444444444444444,\"#bd3786\"],[0.5555555555555556,\"#d8576b\"],[0.6666666666666666,\"#ed7953\"],[0.7777777777777778,\"#fb9f3a\"],[0.8888888888888888,\"#fdca26\"],[1.0,\"#f0f921\"]]}],\"mesh3d\":[{\"type\":\"mesh3d\",\"colorbar\":{\"outlinewidth\":0,\"ticks\":\"\"}}],\"scatter\":[{\"fillpattern\":{\"fillmode\":\"overlay\",\"size\":10,\"solidity\":0.2},\"type\":\"scatter\"}],\"parcoords\":[{\"type\":\"parcoords\",\"line\":{\"colorbar\":{\"outlinewidth\":0,\"ticks\":\"\"}}}],\"scatterpolargl\":[{\"type\":\"scatterpolargl\",\"marker\":{\"colorbar\":{\"outlinewidth\":0,\"ticks\":\"\"}}}],\"bar\":[{\"error_x\":{\"color\":\"#2a3f5f\"},\"error_y\":{\"color\":\"#2a3f5f\"},\"marker\":{\"line\":{\"color\":\"#E5ECF6\",\"width\":0.5},\"pattern\":{\"fillmode\":\"overlay\",\"size\":10,\"solidity\":0.2}},\"type\":\"bar\"}],\"scattergeo\":[{\"type\":\"scattergeo\",\"marker\":{\"colorbar\":{\"outlinewidth\":0,\"ticks\":\"\"}}}],\"scatterpolar\":[{\"type\":\"scatterpolar\",\"marker\":{\"colorbar\":{\"outlinewidth\":0,\"ticks\":\"\"}}}],\"histogram\":[{\"marker\":{\"pattern\":{\"fillmode\":\"overlay\",\"size\":10,\"solidity\":0.2}},\"type\":\"histogram\"}],\"scattergl\":[{\"type\":\"scattergl\",\"marker\":{\"colorbar\":{\"outlinewidth\":0,\"ticks\":\"\"}}}],\"scatter3d\":[{\"type\":\"scatter3d\",\"line\":{\"colorbar\":{\"outlinewidth\":0,\"ticks\":\"\"}},\"marker\":{\"colorbar\":{\"outlinewidth\":0,\"ticks\":\"\"}}}],\"scattermapbox\":[{\"type\":\"scattermapbox\",\"marker\":{\"colorbar\":{\"outlinewidth\":0,\"ticks\":\"\"}}}],\"scatterternary\":[{\"type\":\"scatterternary\",\"marker\":{\"colorbar\":{\"outlinewidth\":0,\"ticks\":\"\"}}}],\"scattercarpet\":[{\"type\":\"scattercarpet\",\"marker\":{\"colorbar\":{\"outlinewidth\":0,\"ticks\":\"\"}}}],\"carpet\":[{\"aaxis\":{\"endlinecolor\":\"#2a3f5f\",\"gridcolor\":\"white\",\"linecolor\":\"white\",\"minorgridcolor\":\"white\",\"startlinecolor\":\"#2a3f5f\"},\"baxis\":{\"endlinecolor\":\"#2a3f5f\",\"gridcolor\":\"white\",\"linecolor\":\"white\",\"minorgridcolor\":\"white\",\"startlinecolor\":\"#2a3f5f\"},\"type\":\"carpet\"}],\"table\":[{\"cells\":{\"fill\":{\"color\":\"#EBF0F8\"},\"line\":{\"color\":\"white\"}},\"header\":{\"fill\":{\"color\":\"#C8D4E3\"},\"line\":{\"color\":\"white\"}},\"type\":\"table\"}],\"barpolar\":[{\"marker\":{\"line\":{\"color\":\"#E5ECF6\",\"width\":0.5},\"pattern\":{\"fillmode\":\"overlay\",\"size\":10,\"solidity\":0.2}},\"type\":\"barpolar\"}],\"pie\":[{\"automargin\":true,\"type\":\"pie\"}]},\"layout\":{\"autotypenumbers\":\"strict\",\"colorway\":[\"#636efa\",\"#EF553B\",\"#00cc96\",\"#ab63fa\",\"#FFA15A\",\"#19d3f3\",\"#FF6692\",\"#B6E880\",\"#FF97FF\",\"#FECB52\"],\"font\":{\"color\":\"#2a3f5f\"},\"hovermode\":\"closest\",\"hoverlabel\":{\"align\":\"left\"},\"paper_bgcolor\":\"white\",\"plot_bgcolor\":\"#E5ECF6\",\"polar\":{\"bgcolor\":\"#E5ECF6\",\"angularaxis\":{\"gridcolor\":\"white\",\"linecolor\":\"white\",\"ticks\":\"\"},\"radialaxis\":{\"gridcolor\":\"white\",\"linecolor\":\"white\",\"ticks\":\"\"}},\"ternary\":{\"bgcolor\":\"#E5ECF6\",\"aaxis\":{\"gridcolor\":\"white\",\"linecolor\":\"white\",\"ticks\":\"\"},\"baxis\":{\"gridcolor\":\"white\",\"linecolor\":\"white\",\"ticks\":\"\"},\"caxis\":{\"gridcolor\":\"white\",\"linecolor\":\"white\",\"ticks\":\"\"}},\"coloraxis\":{\"colorbar\":{\"outlinewidth\":0,\"ticks\":\"\"}},\"colorscale\":{\"sequential\":[[0.0,\"#0d0887\"],[0.1111111111111111,\"#46039f\"],[0.2222222222222222,\"#7201a8\"],[0.3333333333333333,\"#9c179e\"],[0.4444444444444444,\"#bd3786\"],[0.5555555555555556,\"#d8576b\"],[0.6666666666666666,\"#ed7953\"],[0.7777777777777778,\"#fb9f3a\"],[0.8888888888888888,\"#fdca26\"],[1.0,\"#f0f921\"]],\"sequentialminus\":[[0.0,\"#0d0887\"],[0.1111111111111111,\"#46039f\"],[0.2222222222222222,\"#7201a8\"],[0.3333333333333333,\"#9c179e\"],[0.4444444444444444,\"#bd3786\"],[0.5555555555555556,\"#d8576b\"],[0.6666666666666666,\"#ed7953\"],[0.7777777777777778,\"#fb9f3a\"],[0.8888888888888888,\"#fdca26\"],[1.0,\"#f0f921\"]],\"diverging\":[[0,\"#8e0152\"],[0.1,\"#c51b7d\"],[0.2,\"#de77ae\"],[0.3,\"#f1b6da\"],[0.4,\"#fde0ef\"],[0.5,\"#f7f7f7\"],[0.6,\"#e6f5d0\"],[0.7,\"#b8e186\"],[0.8,\"#7fbc41\"],[0.9,\"#4d9221\"],[1,\"#276419\"]]},\"xaxis\":{\"gridcolor\":\"white\",\"linecolor\":\"white\",\"ticks\":\"\",\"title\":{\"standoff\":15},\"zerolinecolor\":\"white\",\"automargin\":true,\"zerolinewidth\":2},\"yaxis\":{\"gridcolor\":\"white\",\"linecolor\":\"white\",\"ticks\":\"\",\"title\":{\"standoff\":15},\"zerolinecolor\":\"white\",\"automargin\":true,\"zerolinewidth\":2},\"scene\":{\"xaxis\":{\"backgroundcolor\":\"#E5ECF6\",\"gridcolor\":\"white\",\"linecolor\":\"white\",\"showbackground\":true,\"ticks\":\"\",\"zerolinecolor\":\"white\",\"gridwidth\":2},\"yaxis\":{\"backgroundcolor\":\"#E5ECF6\",\"gridcolor\":\"white\",\"linecolor\":\"white\",\"showbackground\":true,\"ticks\":\"\",\"zerolinecolor\":\"white\",\"gridwidth\":2},\"zaxis\":{\"backgroundcolor\":\"#E5ECF6\",\"gridcolor\":\"white\",\"linecolor\":\"white\",\"showbackground\":true,\"ticks\":\"\",\"zerolinecolor\":\"white\",\"gridwidth\":2}},\"shapedefaults\":{\"line\":{\"color\":\"#2a3f5f\"}},\"annotationdefaults\":{\"arrowcolor\":\"#2a3f5f\",\"arrowhead\":0,\"arrowwidth\":1},\"geo\":{\"bgcolor\":\"white\",\"landcolor\":\"#E5ECF6\",\"subunitcolor\":\"white\",\"showland\":true,\"showlakes\":true,\"lakecolor\":\"white\"},\"title\":{\"x\":0.05},\"mapbox\":{\"style\":\"light\"}}},\"scene\":{\"domain\":{\"x\":[0.0,1.0],\"y\":[0.0,1.0]},\"xaxis\":{\"title\":{\"text\":\"0\"}},\"yaxis\":{\"title\":{\"text\":\"1\"}},\"zaxis\":{\"title\":{\"text\":\"2\"}}},\"legend\":{\"title\":{\"text\":\"Dominant_Topic\"},\"tracegroupgap\":0},\"title\":{\"text\":\"3d TSNE Plot for Topic Model\"},\"height\":800,\"width\":900},                        {\"responsive\": true}                    ).then(function(){\n",
       "                            \n",
       "var gd = document.getElementById('92f49929-5bdc-435c-a466-4975a0ea8979');\n",
       "var x = new MutationObserver(function (mutations, observer) {{\n",
       "        var display = window.getComputedStyle(gd).display;\n",
       "        if (!display || display === 'none') {{\n",
       "            console.log([gd, 'removed!']);\n",
       "            Plotly.purge(gd);\n",
       "            observer.disconnect();\n",
       "        }}\n",
       "}});\n",
       "\n",
       "// Listen for the removal of the full notebook cells\n",
       "var notebookContainer = gd.closest('#notebook-container');\n",
       "if (notebookContainer) {{\n",
       "    x.observe(notebookContainer, {childList: true});\n",
       "}}\n",
       "\n",
       "// Listen for the clearing of the current output cell\n",
       "var outputEl = gd.closest('.output');\n",
       "if (outputEl) {{\n",
       "    x.observe(outputEl, {childList: true});\n",
       "}}\n",
       "\n",
       "                        })                };                });            </script>        </div>"
      ]
     },
     "metadata": {},
     "output_type": "display_data"
    }
   ],
   "source": [
    "plot_model(lsi, plot = 'tsne')"
   ]
  },
  {
   "cell_type": "code",
   "execution_count": 26,
   "id": "4c0a1fd8-bf81-41ae-ad06-b8822f8e2c87",
   "metadata": {},
   "outputs": [
    {
     "data": {
      "text/html": [
       "        <script type=\"text/javascript\">\n",
       "        window.PlotlyConfig = {MathJaxConfig: 'local'};\n",
       "        if (window.MathJax) {MathJax.Hub.Config({SVG: {font: \"STIX-Web\"}});}\n",
       "        if (typeof require !== 'undefined') {\n",
       "        require.undef(\"plotly\");\n",
       "        requirejs.config({\n",
       "            paths: {\n",
       "                'plotly': ['https://cdn.plot.ly/plotly-2.11.1.min']\n",
       "            }\n",
       "        });\n",
       "        require(['plotly'], function(Plotly) {\n",
       "            window._Plotly = Plotly;\n",
       "        });\n",
       "        }\n",
       "        </script>\n",
       "        "
      ]
     },
     "metadata": {},
     "output_type": "display_data"
    },
    {
     "data": {
      "image/png": "[encoded data removed]",
      "text/plain": [
       "<Figure size 720x432 with 1 Axes>"
      ]
     },
     "metadata": {},
     "output_type": "display_data"
    }
   ],
   "source": [
    "plot_model(lsi, plot = 'umap')"
   ]
  }
 ],
 "metadata": {
  "kernelspec": {
   "display_name": "Python 3 (ipykernel)",
   "language": "python",
   "name": "python3"
  },
  "language_info": {
   "codemirror_mode": {
    "name": "ipython",
    "version": 3
   },
   "file_extension": ".py",
   "mimetype": "text/x-python",
   "name": "python",
   "nbconvert_exporter": "python",
   "pygments_lexer": "ipython3",
   "version": "3.9.7"
  }
 },
 "nbformat": 4,
 "nbformat_minor": 5
}
