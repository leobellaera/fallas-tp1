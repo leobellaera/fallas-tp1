{
 "cells": [
  {
   "cell_type": "markdown",
   "id": "0047097e-bca0-4aab-ba94-abe9ce36b39a",
   "metadata": {
    "tags": []
   },
   "source": [
    "# LSI"
   ]
  },
  {
   "cell_type": "code",
   "execution_count": 1,
   "id": "592c7b5c",
   "metadata": {},
   "outputs": [],
   "source": [
    "import warnings\n",
    "warnings.filterwarnings('ignore')"
   ]
  },
  {
   "cell_type": "code",
   "execution_count": 2,
   "id": "6a6cf55d",
   "metadata": {},
   "outputs": [],
   "source": [
    "import pandas as pd"
   ]
  },
  {
   "cell_type": "code",
   "execution_count": 3,
   "id": "2c27f2e4",
   "metadata": {},
   "outputs": [],
   "source": [
    "import numpy as np"
   ]
  },
  {
   "cell_type": "code",
   "execution_count": 4,
   "id": "b172c4ce",
   "metadata": {},
   "outputs": [],
   "source": [
    "import pycaret as pc"
   ]
  },
  {
   "cell_type": "code",
   "execution_count": 5,
   "id": "e26aed0b",
   "metadata": {},
   "outputs": [],
   "source": [
    "import sklearn as sk"
   ]
  },
  {
   "cell_type": "code",
   "execution_count": 6,
   "id": "d88eab67",
   "metadata": {},
   "outputs": [],
   "source": [
    "from pycaret.nlp import *"
   ]
  },
  {
   "cell_type": "code",
   "execution_count": 7,
   "id": "b0da1c9a",
   "metadata": {},
   "outputs": [],
   "source": [
    "pd.set_option('display.max_columns', None)"
   ]
  },
  {
   "cell_type": "code",
   "execution_count": 8,
   "id": "2144cf21",
   "metadata": {},
   "outputs": [
    {
     "name": "stdout",
     "output_type": "stream",
     "text": [
      "Tokenization took: 34.19 ms\n",
      "Type conversion took: 37.94 ms\n",
      "Parser memory cleanup took: 0.01 ms\n"
     ]
    }
   ],
   "source": [
    "data = pd.read_csv(\"./kiva.csv\", sep=',', decimal='.', verbose= True, engine='c') "
   ]
  },
  {
   "cell_type": "code",
   "execution_count": 9,
   "id": "29221518",
   "metadata": {},
   "outputs": [
    {
     "data": {
      "text/plain": [
       "(6818, 7)"
      ]
     },
     "execution_count": 9,
     "metadata": {},
     "output_type": "execute_result"
    }
   ],
   "source": [
    "data.shape"
   ]
  },
  {
   "cell_type": "code",
   "execution_count": 10,
   "id": "623b9caa",
   "metadata": {},
   "outputs": [
    {
     "data": {
      "text/html": [
       "<div>\n",
       "<style scoped>\n",
       "    .dataframe tbody tr th:only-of-type {\n",
       "        vertical-align: middle;\n",
       "    }\n",
       "\n",
       "    .dataframe tbody tr th {\n",
       "        vertical-align: top;\n",
       "    }\n",
       "\n",
       "    .dataframe thead th {\n",
       "        text-align: right;\n",
       "    }\n",
       "</style>\n",
       "<table border=\"1\" class=\"dataframe\">\n",
       "  <thead>\n",
       "    <tr style=\"text-align: right;\">\n",
       "      <th></th>\n",
       "      <th>country</th>\n",
       "      <th>en</th>\n",
       "      <th>gender</th>\n",
       "      <th>loan_amount</th>\n",
       "      <th>nonpayment</th>\n",
       "      <th>sector</th>\n",
       "      <th>status</th>\n",
       "    </tr>\n",
       "  </thead>\n",
       "  <tbody>\n",
       "    <tr>\n",
       "      <th>0</th>\n",
       "      <td>Dominican Republic</td>\n",
       "      <td>\"Banco Esperanza\" is a group of 10 women looki...</td>\n",
       "      <td>F</td>\n",
       "      <td>1225</td>\n",
       "      <td>partner</td>\n",
       "      <td>Retail</td>\n",
       "      <td>0</td>\n",
       "    </tr>\n",
       "    <tr>\n",
       "      <th>1</th>\n",
       "      <td>Dominican Republic</td>\n",
       "      <td>\"Caminemos Hacia Adelante\" or \"Walking Forward...</td>\n",
       "      <td>F</td>\n",
       "      <td>1975</td>\n",
       "      <td>lender</td>\n",
       "      <td>Clothing</td>\n",
       "      <td>0</td>\n",
       "    </tr>\n",
       "    <tr>\n",
       "      <th>2</th>\n",
       "      <td>Dominican Republic</td>\n",
       "      <td>\"Creciendo Por La Union\" is a group of 10 peop...</td>\n",
       "      <td>F</td>\n",
       "      <td>2175</td>\n",
       "      <td>partner</td>\n",
       "      <td>Clothing</td>\n",
       "      <td>0</td>\n",
       "    </tr>\n",
       "    <tr>\n",
       "      <th>3</th>\n",
       "      <td>Dominican Republic</td>\n",
       "      <td>\"Cristo Vive\" (\"Christ lives\" is a group of 10...</td>\n",
       "      <td>F</td>\n",
       "      <td>1425</td>\n",
       "      <td>partner</td>\n",
       "      <td>Clothing</td>\n",
       "      <td>0</td>\n",
       "    </tr>\n",
       "    <tr>\n",
       "      <th>4</th>\n",
       "      <td>Dominican Republic</td>\n",
       "      <td>\"Cristo Vive\" is a large group of 35 people, 2...</td>\n",
       "      <td>F</td>\n",
       "      <td>4025</td>\n",
       "      <td>partner</td>\n",
       "      <td>Food</td>\n",
       "      <td>0</td>\n",
       "    </tr>\n",
       "  </tbody>\n",
       "</table>\n",
       "</div>"
      ],
      "text/plain": [
       "              country                                                 en  \\\n",
       "0  Dominican Republic  \"Banco Esperanza\" is a group of 10 women looki...   \n",
       "1  Dominican Republic  \"Caminemos Hacia Adelante\" or \"Walking Forward...   \n",
       "2  Dominican Republic  \"Creciendo Por La Union\" is a group of 10 peop...   \n",
       "3  Dominican Republic  \"Cristo Vive\" (\"Christ lives\" is a group of 10...   \n",
       "4  Dominican Republic  \"Cristo Vive\" is a large group of 35 people, 2...   \n",
       "\n",
       "  gender  loan_amount nonpayment    sector  status  \n",
       "0      F         1225    partner    Retail       0  \n",
       "1      F         1975     lender  Clothing       0  \n",
       "2      F         2175    partner  Clothing       0  \n",
       "3      F         1425    partner  Clothing       0  \n",
       "4      F         4025    partner      Food       0  "
      ]
     },
     "execution_count": 10,
     "metadata": {},
     "output_type": "execute_result"
    }
   ],
   "source": [
    "data.head()"
   ]
  },
  {
   "cell_type": "code",
   "execution_count": 11,
   "id": "289bc422",
   "metadata": {},
   "outputs": [],
   "source": [
    "data = data.sample(1000, random_state=786).reset_index(drop=True)"
   ]
  },
  {
   "cell_type": "code",
   "execution_count": 12,
   "id": "7662b5b7",
   "metadata": {},
   "outputs": [
    {
     "data": {
      "text/plain": [
       "(1000, 7)"
      ]
     },
     "execution_count": 12,
     "metadata": {},
     "output_type": "execute_result"
    }
   ],
   "source": [
    "data.shape"
   ]
  },
  {
   "cell_type": "code",
   "execution_count": 13,
   "id": "34e732d7",
   "metadata": {},
   "outputs": [
    {
     "data": {
      "text/html": [
       "<style type=\"text/css\">\n",
       "</style>\n",
       "<table id=\"T_8e250_\">\n",
       "  <thead>\n",
       "    <tr>\n",
       "      <th class=\"col_heading level0 col0\" >Description</th>\n",
       "      <th class=\"col_heading level0 col1\" >Value</th>\n",
       "    </tr>\n",
       "  </thead>\n",
       "  <tbody>\n",
       "    <tr>\n",
       "      <td id=\"T_8e250_row0_col0\" class=\"data row0 col0\" >session_id</td>\n",
       "      <td id=\"T_8e250_row0_col1\" class=\"data row0 col1\" >101</td>\n",
       "    </tr>\n",
       "    <tr>\n",
       "      <td id=\"T_8e250_row1_col0\" class=\"data row1 col0\" >Documents</td>\n",
       "      <td id=\"T_8e250_row1_col1\" class=\"data row1 col1\" >1000</td>\n",
       "    </tr>\n",
       "    <tr>\n",
       "      <td id=\"T_8e250_row2_col0\" class=\"data row2 col0\" >Vocab Size</td>\n",
       "      <td id=\"T_8e250_row2_col1\" class=\"data row2 col1\" >4636</td>\n",
       "    </tr>\n",
       "    <tr>\n",
       "      <td id=\"T_8e250_row3_col0\" class=\"data row3 col0\" >Custom Stopwords</td>\n",
       "      <td id=\"T_8e250_row3_col1\" class=\"data row3 col1\" >True</td>\n",
       "    </tr>\n",
       "  </tbody>\n",
       "</table>\n"
      ],
      "text/plain": [
       "<pandas.io.formats.style.Styler at 0x1407ade20>"
      ]
     },
     "metadata": {},
     "output_type": "display_data"
    }
   ],
   "source": [
    "exp_nlp101 = setup(data = data, \n",
    "                   target = 'en', \n",
    "                   custom_stopwords = ['loan', 'income', 'usd', 'many', 'also', 'make', 'business', 'buy', \n",
    "                                       'sell', 'purchase','year', 'people', 'able', 'enable', 'old', 'woman',\n",
    "                                       'child', 'school'],\n",
    "                   session_id = 101,\n",
    "                   log_experiment = True,\n",
    "                   experiment_name = 'EX001')"
   ]
  },
  {
   "cell_type": "raw",
   "id": "04563699",
   "metadata": {},
   "source": [
    "data: pandas.Dataframe\n",
    "target: str - name of column containing text\n",
    "custom_stopwords: list\n",
    "html: bool, default = True - prevents runtime display of monitor\n",
    "session_id: int\n",
    "log_experiment: bool - MLFlow \n",
    "experiment_name: str \n",
    "experiment_custom_tags: dict - passed to the mlflow.set_tags to add new custom tags for the experiment\n",
    "log_plots: bool - certain plots are logged automatically in the MLFlow   \n",
    "log_data: bool - dataset is logged on the MLflow\n",
    "verbose: bool, default = True\n",
    "    Returns: Global variables that can be changed using the set_config function    "
   ]
  },
  {
   "cell_type": "code",
   "execution_count": 14,
   "id": "56a5ccec",
   "metadata": {},
   "outputs": [],
   "source": [
    "lsi = create_model('lsi', num_topics = 4, multi_core = True)"
   ]
  },
  {
   "cell_type": "raw",
   "id": "8b0c3ccc",
   "metadata": {},
   "source": [
    "Models available in the model library (ID - Name):\n",
    "'lda' - Latent Dirichlet Allocation\n",
    "'lsi' - Latent Semantic Indexing\n",
    "'hdp' - Hierarchical Dirichlet Process\n",
    "'rp'  - Random Projections\n",
    "'nmf' - Non-Negative Matrix Factorization"
   ]
  },
  {
   "cell_type": "raw",
   "id": "20314d7b",
   "metadata": {},
   "source": [
    "multi_core: bool\n",
    "topic_num: str - Topic number to be passed as a string\n",
    "save: string - Plot is saved as png file in the specified directory when the path to the directory is specified\n",
    "system: bool - Must remain True all times\n",
    "display_format: str - To display plots in Streamlit (https://www.streamlit.io/), set this to ‘streamlit’.    "
   ]
  },
  {
   "cell_type": "code",
   "execution_count": 15,
   "id": "60bb22d8",
   "metadata": {},
   "outputs": [
    {
     "name": "stdout",
     "output_type": "stream",
     "text": [
      "LsiModel(num_terms=4636, num_topics=4, decay=1.0, chunksize=20000)\n"
     ]
    }
   ],
   "source": [
    "print(lsi)"
   ]
  },
  {
   "cell_type": "code",
   "execution_count": 16,
   "id": "4d32dc82",
   "metadata": {},
   "outputs": [],
   "source": [
    "lsi_results = assign_model(lsi)"
   ]
  },
  {
   "cell_type": "code",
   "execution_count": 17,
   "id": "1d931907",
   "metadata": {},
   "outputs": [
    {
     "data": {
      "text/html": [
       "<div>\n",
       "<style scoped>\n",
       "    .dataframe tbody tr th:only-of-type {\n",
       "        vertical-align: middle;\n",
       "    }\n",
       "\n",
       "    .dataframe tbody tr th {\n",
       "        vertical-align: top;\n",
       "    }\n",
       "\n",
       "    .dataframe thead th {\n",
       "        text-align: right;\n",
       "    }\n",
       "</style>\n",
       "<table border=\"1\" class=\"dataframe\">\n",
       "  <thead>\n",
       "    <tr style=\"text-align: right;\">\n",
       "      <th></th>\n",
       "      <th>country</th>\n",
       "      <th>en</th>\n",
       "      <th>gender</th>\n",
       "      <th>loan_amount</th>\n",
       "      <th>nonpayment</th>\n",
       "      <th>sector</th>\n",
       "      <th>status</th>\n",
       "      <th>Topic_0</th>\n",
       "      <th>Topic_1</th>\n",
       "      <th>Topic_2</th>\n",
       "      <th>Topic_3</th>\n",
       "      <th>Dominant_Topic</th>\n",
       "    </tr>\n",
       "  </thead>\n",
       "  <tbody>\n",
       "    <tr>\n",
       "      <th>0</th>\n",
       "      <td>Kenya</td>\n",
       "      <td>praxide marry primary train tailor operate sma...</td>\n",
       "      <td>F</td>\n",
       "      <td>75</td>\n",
       "      <td>partner</td>\n",
       "      <td>Services</td>\n",
       "      <td>0</td>\n",
       "      <td>1.664018</td>\n",
       "      <td>-0.906793</td>\n",
       "      <td>-0.319203</td>\n",
       "      <td>1.401158</td>\n",
       "      <td>Topic 0</td>\n",
       "    </tr>\n",
       "    <tr>\n",
       "      <th>1</th>\n",
       "      <td>Kenya</td>\n",
       "      <td>gynaecology practitioner run live wife biologi...</td>\n",
       "      <td>M</td>\n",
       "      <td>1200</td>\n",
       "      <td>partner</td>\n",
       "      <td>Health</td>\n",
       "      <td>0</td>\n",
       "      <td>1.631768</td>\n",
       "      <td>-0.804952</td>\n",
       "      <td>0.422545</td>\n",
       "      <td>-0.297189</td>\n",
       "      <td>Topic 0</td>\n",
       "    </tr>\n",
       "    <tr>\n",
       "      <th>2</th>\n",
       "      <td>Dominican Republic</td>\n",
       "      <td>live boy girl range new use clothing support f...</td>\n",
       "      <td>F</td>\n",
       "      <td>150</td>\n",
       "      <td>partner</td>\n",
       "      <td>Clothing</td>\n",
       "      <td>0</td>\n",
       "      <td>2.422474</td>\n",
       "      <td>-0.606609</td>\n",
       "      <td>0.089178</td>\n",
       "      <td>0.383732</td>\n",
       "      <td>Topic 0</td>\n",
       "    </tr>\n",
       "    <tr>\n",
       "      <th>3</th>\n",
       "      <td>Kenya</td>\n",
       "      <td>phanice marry daughter secondary boy primary f...</td>\n",
       "      <td>F</td>\n",
       "      <td>150</td>\n",
       "      <td>lender</td>\n",
       "      <td>Services</td>\n",
       "      <td>1</td>\n",
       "      <td>1.336811</td>\n",
       "      <td>-0.750427</td>\n",
       "      <td>-0.179105</td>\n",
       "      <td>0.823217</td>\n",
       "      <td>Topic 0</td>\n",
       "    </tr>\n",
       "    <tr>\n",
       "      <th>4</th>\n",
       "      <td>Kenya</td>\n",
       "      <td>hotel last get good return competition increas...</td>\n",
       "      <td>F</td>\n",
       "      <td>300</td>\n",
       "      <td>lender</td>\n",
       "      <td>Food</td>\n",
       "      <td>1</td>\n",
       "      <td>1.163862</td>\n",
       "      <td>-0.905844</td>\n",
       "      <td>-0.118675</td>\n",
       "      <td>1.258837</td>\n",
       "      <td>Topic 3</td>\n",
       "    </tr>\n",
       "  </tbody>\n",
       "</table>\n",
       "</div>"
      ],
      "text/plain": [
       "              country                                                 en  \\\n",
       "0               Kenya  praxide marry primary train tailor operate sma...   \n",
       "1               Kenya  gynaecology practitioner run live wife biologi...   \n",
       "2  Dominican Republic  live boy girl range new use clothing support f...   \n",
       "3               Kenya  phanice marry daughter secondary boy primary f...   \n",
       "4               Kenya  hotel last get good return competition increas...   \n",
       "\n",
       "  gender  loan_amount nonpayment    sector  status   Topic_0   Topic_1  \\\n",
       "0      F           75    partner  Services       0  1.664018 -0.906793   \n",
       "1      M         1200    partner    Health       0  1.631768 -0.804952   \n",
       "2      F          150    partner  Clothing       0  2.422474 -0.606609   \n",
       "3      F          150     lender  Services       1  1.336811 -0.750427   \n",
       "4      F          300     lender      Food       1  1.163862 -0.905844   \n",
       "\n",
       "    Topic_2   Topic_3 Dominant_Topic  \n",
       "0 -0.319203  1.401158        Topic 0  \n",
       "1  0.422545 -0.297189        Topic 0  \n",
       "2  0.089178  0.383732        Topic 0  \n",
       "3 -0.179105  0.823217        Topic 0  \n",
       "4 -0.118675  1.258837        Topic 3  "
      ]
     },
     "execution_count": 17,
     "metadata": {},
     "output_type": "execute_result"
    }
   ],
   "source": [
    "lsi_results.head()"
   ]
  },
  {
   "cell_type": "code",
   "execution_count": 18,
   "id": "36a71f3e",
   "metadata": {},
   "outputs": [
    {
     "data": {
      "text/html": [
       "        <script type=\"text/javascript\">\n",
       "        window.PlotlyConfig = {MathJaxConfig: 'local'};\n",
       "        if (window.MathJax) {MathJax.Hub.Config({SVG: {font: \"STIX-Web\"}});}\n",
       "        if (typeof require !== 'undefined') {\n",
       "        require.undef(\"plotly\");\n",
       "        requirejs.config({\n",
       "            paths: {\n",
       "                'plotly': ['https://cdn.plot.ly/plotly-2.11.1.min']\n",
       "            }\n",
       "        });\n",
       "        require(['plotly'], function(Plotly) {\n",
       "            window._Plotly = Plotly;\n",
       "        });\n",
       "        }\n",
       "        </script>\n",
       "        "
      ]
     },
     "metadata": {},
     "output_type": "display_data"
    },
    {
     "data": {
      "application/vnd.plotly.v1+json": {
       "config": {
        "linkText": "Export to plot.ly",
        "plotlyServerURL": "https://plot.ly",
        "showLink": true
       },
       "data": [
        {
         "marker": {
          "color": "rgba(255, 153, 51, 0.6)",
          "line": {
           "color": "rgba(255, 153, 51, 1.0)",
           "width": 1
          }
         },
         "name": "count",
         "orientation": "v",
         "text": "",
         "type": "bar",
         "x": [
          "work",
          "family",
          "use",
          "start",
          "help",
          "group",
          "husband",
          "live",
          "small",
          "product",
          "well",
          "increase",
          "home",
          "customer",
          "good",
          "community",
          "marry",
          "need",
          "member",
          "request",
          "order",
          "hope",
          "expand",
          "new",
          "want",
          "time",
          "stock",
          "pay",
          "store",
          "provide",
          "grow",
          "go",
          "money",
          "get",
          "give",
          "improve",
          "market",
          "hard",
          "support",
          "sale",
          "clothing",
          "ago",
          "life",
          "entrepreneur",
          "run",
          "mother",
          "repay",
          "shop",
          "client",
          "first",
          "take",
          "clothe",
          "profit",
          "plan",
          "food",
          "area",
          "high",
          "continue",
          "education",
          "service",
          "house",
          "item",
          "capital",
          "invest",
          "large",
          "demand",
          "say",
          "day",
          "meet",
          "local",
          "operate",
          "offer",
          "fee",
          "month",
          "receive",
          "wife",
          "young",
          "supply",
          "currently",
          "age",
          "open",
          "keep",
          "begin",
          "still",
          "intend",
          "earn",
          "enough",
          "save",
          "experience",
          "milk",
          "attend",
          "second",
          "son",
          "farm",
          "daughter",
          "merchandise",
          "allow",
          "primary",
          "farmer",
          "due"
         ],
         "y": [
          584,
          526,
          509,
          476,
          434,
          421,
          417,
          402,
          396,
          387,
          370,
          335,
          311,
          306,
          306,
          301,
          298,
          287,
          259,
          258,
          254,
          244,
          240,
          240,
          236,
          235,
          234,
          233,
          232,
          220,
          214,
          206,
          204,
          198,
          197,
          196,
          188,
          188,
          187,
          184,
          180,
          178,
          177,
          176,
          174,
          172,
          171,
          169,
          169,
          169,
          168,
          167,
          165,
          165,
          163,
          159,
          154,
          152,
          149,
          147,
          142,
          140,
          139,
          139,
          135,
          134,
          132,
          128,
          128,
          127,
          126,
          125,
          125,
          124,
          124,
          122,
          120,
          118,
          115,
          114,
          114,
          113,
          111,
          111,
          110,
          110,
          109,
          105,
          104,
          103,
          102,
          101,
          101,
          100,
          98,
          98,
          97,
          96,
          95,
          94
         ]
        }
       ],
       "layout": {
        "autosize": true,
        "legend": {
         "bgcolor": "#F5F6F9",
         "font": {
          "color": "#4D5663"
         }
        },
        "paper_bgcolor": "#F5F6F9",
        "plot_bgcolor": "#F5F6F9",
        "template": {
         "data": {
          "bar": [
           {
            "error_x": {
             "color": "#2a3f5f"
            },
            "error_y": {
             "color": "#2a3f5f"
            },
            "marker": {
             "line": {
              "color": "#E5ECF6",
              "width": 0.5
             },
             "pattern": {
              "fillmode": "overlay",
              "size": 10,
              "solidity": 0.2
             }
            },
            "type": "bar"
           }
          ],
          "barpolar": [
           {
            "marker": {
             "line": {
              "color": "#E5ECF6",
              "width": 0.5
             },
             "pattern": {
              "fillmode": "overlay",
              "size": 10,
              "solidity": 0.2
             }
            },
            "type": "barpolar"
           }
          ],
          "carpet": [
           {
            "aaxis": {
             "endlinecolor": "#2a3f5f",
             "gridcolor": "white",
             "linecolor": "white",
             "minorgridcolor": "white",
             "startlinecolor": "#2a3f5f"
            },
            "baxis": {
             "endlinecolor": "#2a3f5f",
             "gridcolor": "white",
             "linecolor": "white",
             "minorgridcolor": "white",
             "startlinecolor": "#2a3f5f"
            },
            "type": "carpet"
           }
          ],
          "choropleth": [
           {
            "colorbar": {
             "outlinewidth": 0,
             "ticks": ""
            },
            "type": "choropleth"
           }
          ],
          "contour": [
           {
            "colorbar": {
             "outlinewidth": 0,
             "ticks": ""
            },
            "colorscale": [
             [
              0,
              "#0d0887"
             ],
             [
              0.1111111111111111,
              "#46039f"
             ],
             [
              0.2222222222222222,
              "#7201a8"
             ],
             [
              0.3333333333333333,
              "#9c179e"
             ],
             [
              0.4444444444444444,
              "#bd3786"
             ],
             [
              0.5555555555555556,
              "#d8576b"
             ],
             [
              0.6666666666666666,
              "#ed7953"
             ],
             [
              0.7777777777777778,
              "#fb9f3a"
             ],
             [
              0.8888888888888888,
              "#fdca26"
             ],
             [
              1,
              "#f0f921"
             ]
            ],
            "type": "contour"
           }
          ],
          "contourcarpet": [
           {
            "colorbar": {
             "outlinewidth": 0,
             "ticks": ""
            },
            "type": "contourcarpet"
           }
          ],
          "heatmap": [
           {
            "colorbar": {
             "outlinewidth": 0,
             "ticks": ""
            },
            "colorscale": [
             [
              0,
              "#0d0887"
             ],
             [
              0.1111111111111111,
              "#46039f"
             ],
             [
              0.2222222222222222,
              "#7201a8"
             ],
             [
              0.3333333333333333,
              "#9c179e"
             ],
             [
              0.4444444444444444,
              "#bd3786"
             ],
             [
              0.5555555555555556,
              "#d8576b"
             ],
             [
              0.6666666666666666,
              "#ed7953"
             ],
             [
              0.7777777777777778,
              "#fb9f3a"
             ],
             [
              0.8888888888888888,
              "#fdca26"
             ],
             [
              1,
              "#f0f921"
             ]
            ],
            "type": "heatmap"
           }
          ],
          "heatmapgl": [
           {
            "colorbar": {
             "outlinewidth": 0,
             "ticks": ""
            },
            "colorscale": [
             [
              0,
              "#0d0887"
             ],
             [
              0.1111111111111111,
              "#46039f"
             ],
             [
              0.2222222222222222,
              "#7201a8"
             ],
             [
              0.3333333333333333,
              "#9c179e"
             ],
             [
              0.4444444444444444,
              "#bd3786"
             ],
             [
              0.5555555555555556,
              "#d8576b"
             ],
             [
              0.6666666666666666,
              "#ed7953"
             ],
             [
              0.7777777777777778,
              "#fb9f3a"
             ],
             [
              0.8888888888888888,
              "#fdca26"
             ],
             [
              1,
              "#f0f921"
             ]
            ],
            "type": "heatmapgl"
           }
          ],
          "histogram": [
           {
            "marker": {
             "pattern": {
              "fillmode": "overlay",
              "size": 10,
              "solidity": 0.2
             }
            },
            "type": "histogram"
           }
          ],
          "histogram2d": [
           {
            "colorbar": {
             "outlinewidth": 0,
             "ticks": ""
            },
            "colorscale": [
             [
              0,
              "#0d0887"
             ],
             [
              0.1111111111111111,
              "#46039f"
             ],
             [
              0.2222222222222222,
              "#7201a8"
             ],
             [
              0.3333333333333333,
              "#9c179e"
             ],
             [
              0.4444444444444444,
              "#bd3786"
             ],
             [
              0.5555555555555556,
              "#d8576b"
             ],
             [
              0.6666666666666666,
              "#ed7953"
             ],
             [
              0.7777777777777778,
              "#fb9f3a"
             ],
             [
              0.8888888888888888,
              "#fdca26"
             ],
             [
              1,
              "#f0f921"
             ]
            ],
            "type": "histogram2d"
           }
          ],
          "histogram2dcontour": [
           {
            "colorbar": {
             "outlinewidth": 0,
             "ticks": ""
            },
            "colorscale": [
             [
              0,
              "#0d0887"
             ],
             [
              0.1111111111111111,
              "#46039f"
             ],
             [
              0.2222222222222222,
              "#7201a8"
             ],
             [
              0.3333333333333333,
              "#9c179e"
             ],
             [
              0.4444444444444444,
              "#bd3786"
             ],
             [
              0.5555555555555556,
              "#d8576b"
             ],
             [
              0.6666666666666666,
              "#ed7953"
             ],
             [
              0.7777777777777778,
              "#fb9f3a"
             ],
             [
              0.8888888888888888,
              "#fdca26"
             ],
             [
              1,
              "#f0f921"
             ]
            ],
            "type": "histogram2dcontour"
           }
          ],
          "mesh3d": [
           {
            "colorbar": {
             "outlinewidth": 0,
             "ticks": ""
            },
            "type": "mesh3d"
           }
          ],
          "parcoords": [
           {
            "line": {
             "colorbar": {
              "outlinewidth": 0,
              "ticks": ""
             }
            },
            "type": "parcoords"
           }
          ],
          "pie": [
           {
            "automargin": true,
            "type": "pie"
           }
          ],
          "scatter": [
           {
            "fillpattern": {
             "fillmode": "overlay",
             "size": 10,
             "solidity": 0.2
            },
            "type": "scatter"
           }
          ],
          "scatter3d": [
           {
            "line": {
             "colorbar": {
              "outlinewidth": 0,
              "ticks": ""
             }
            },
            "marker": {
             "colorbar": {
              "outlinewidth": 0,
              "ticks": ""
             }
            },
            "type": "scatter3d"
           }
          ],
          "scattercarpet": [
           {
            "marker": {
             "colorbar": {
              "outlinewidth": 0,
              "ticks": ""
             }
            },
            "type": "scattercarpet"
           }
          ],
          "scattergeo": [
           {
            "marker": {
             "colorbar": {
              "outlinewidth": 0,
              "ticks": ""
             }
            },
            "type": "scattergeo"
           }
          ],
          "scattergl": [
           {
            "marker": {
             "colorbar": {
              "outlinewidth": 0,
              "ticks": ""
             }
            },
            "type": "scattergl"
           }
          ],
          "scattermapbox": [
           {
            "marker": {
             "colorbar": {
              "outlinewidth": 0,
              "ticks": ""
             }
            },
            "type": "scattermapbox"
           }
          ],
          "scatterpolar": [
           {
            "marker": {
             "colorbar": {
              "outlinewidth": 0,
              "ticks": ""
             }
            },
            "type": "scatterpolar"
           }
          ],
          "scatterpolargl": [
           {
            "marker": {
             "colorbar": {
              "outlinewidth": 0,
              "ticks": ""
             }
            },
            "type": "scatterpolargl"
           }
          ],
          "scatterternary": [
           {
            "marker": {
             "colorbar": {
              "outlinewidth": 0,
              "ticks": ""
             }
            },
            "type": "scatterternary"
           }
          ],
          "surface": [
           {
            "colorbar": {
             "outlinewidth": 0,
             "ticks": ""
            },
            "colorscale": [
             [
              0,
              "#0d0887"
             ],
             [
              0.1111111111111111,
              "#46039f"
             ],
             [
              0.2222222222222222,
              "#7201a8"
             ],
             [
              0.3333333333333333,
              "#9c179e"
             ],
             [
              0.4444444444444444,
              "#bd3786"
             ],
             [
              0.5555555555555556,
              "#d8576b"
             ],
             [
              0.6666666666666666,
              "#ed7953"
             ],
             [
              0.7777777777777778,
              "#fb9f3a"
             ],
             [
              0.8888888888888888,
              "#fdca26"
             ],
             [
              1,
              "#f0f921"
             ]
            ],
            "type": "surface"
           }
          ],
          "table": [
           {
            "cells": {
             "fill": {
              "color": "#EBF0F8"
             },
             "line": {
              "color": "white"
             }
            },
            "header": {
             "fill": {
              "color": "#C8D4E3"
             },
             "line": {
              "color": "white"
             }
            },
            "type": "table"
           }
          ]
         },
         "layout": {
          "annotationdefaults": {
           "arrowcolor": "#2a3f5f",
           "arrowhead": 0,
           "arrowwidth": 1
          },
          "autotypenumbers": "strict",
          "coloraxis": {
           "colorbar": {
            "outlinewidth": 0,
            "ticks": ""
           }
          },
          "colorscale": {
           "diverging": [
            [
             0,
             "#8e0152"
            ],
            [
             0.1,
             "#c51b7d"
            ],
            [
             0.2,
             "#de77ae"
            ],
            [
             0.3,
             "#f1b6da"
            ],
            [
             0.4,
             "#fde0ef"
            ],
            [
             0.5,
             "#f7f7f7"
            ],
            [
             0.6,
             "#e6f5d0"
            ],
            [
             0.7,
             "#b8e186"
            ],
            [
             0.8,
             "#7fbc41"
            ],
            [
             0.9,
             "#4d9221"
            ],
            [
             1,
             "#276419"
            ]
           ],
           "sequential": [
            [
             0,
             "#0d0887"
            ],
            [
             0.1111111111111111,
             "#46039f"
            ],
            [
             0.2222222222222222,
             "#7201a8"
            ],
            [
             0.3333333333333333,
             "#9c179e"
            ],
            [
             0.4444444444444444,
             "#bd3786"
            ],
            [
             0.5555555555555556,
             "#d8576b"
            ],
            [
             0.6666666666666666,
             "#ed7953"
            ],
            [
             0.7777777777777778,
             "#fb9f3a"
            ],
            [
             0.8888888888888888,
             "#fdca26"
            ],
            [
             1,
             "#f0f921"
            ]
           ],
           "sequentialminus": [
            [
             0,
             "#0d0887"
            ],
            [
             0.1111111111111111,
             "#46039f"
            ],
            [
             0.2222222222222222,
             "#7201a8"
            ],
            [
             0.3333333333333333,
             "#9c179e"
            ],
            [
             0.4444444444444444,
             "#bd3786"
            ],
            [
             0.5555555555555556,
             "#d8576b"
            ],
            [
             0.6666666666666666,
             "#ed7953"
            ],
            [
             0.7777777777777778,
             "#fb9f3a"
            ],
            [
             0.8888888888888888,
             "#fdca26"
            ],
            [
             1,
             "#f0f921"
            ]
           ]
          },
          "colorway": [
           "#636efa",
           "#EF553B",
           "#00cc96",
           "#ab63fa",
           "#FFA15A",
           "#19d3f3",
           "#FF6692",
           "#B6E880",
           "#FF97FF",
           "#FECB52"
          ],
          "font": {
           "color": "#2a3f5f"
          },
          "geo": {
           "bgcolor": "white",
           "lakecolor": "white",
           "landcolor": "#E5ECF6",
           "showlakes": true,
           "showland": true,
           "subunitcolor": "white"
          },
          "hoverlabel": {
           "align": "left"
          },
          "hovermode": "closest",
          "mapbox": {
           "style": "light"
          },
          "paper_bgcolor": "white",
          "plot_bgcolor": "#E5ECF6",
          "polar": {
           "angularaxis": {
            "gridcolor": "white",
            "linecolor": "white",
            "ticks": ""
           },
           "bgcolor": "#E5ECF6",
           "radialaxis": {
            "gridcolor": "white",
            "linecolor": "white",
            "ticks": ""
           }
          },
          "scene": {
           "xaxis": {
            "backgroundcolor": "#E5ECF6",
            "gridcolor": "white",
            "gridwidth": 2,
            "linecolor": "white",
            "showbackground": true,
            "ticks": "",
            "zerolinecolor": "white"
           },
           "yaxis": {
            "backgroundcolor": "#E5ECF6",
            "gridcolor": "white",
            "gridwidth": 2,
            "linecolor": "white",
            "showbackground": true,
            "ticks": "",
            "zerolinecolor": "white"
           },
           "zaxis": {
            "backgroundcolor": "#E5ECF6",
            "gridcolor": "white",
            "gridwidth": 2,
            "linecolor": "white",
            "showbackground": true,
            "ticks": "",
            "zerolinecolor": "white"
           }
          },
          "shapedefaults": {
           "line": {
            "color": "#2a3f5f"
           }
          },
          "ternary": {
           "aaxis": {
            "gridcolor": "white",
            "linecolor": "white",
            "ticks": ""
           },
           "baxis": {
            "gridcolor": "white",
            "linecolor": "white",
            "ticks": ""
           },
           "bgcolor": "#E5ECF6",
           "caxis": {
            "gridcolor": "white",
            "linecolor": "white",
            "ticks": ""
           }
          },
          "title": {
           "x": 0.05
          },
          "xaxis": {
           "automargin": true,
           "gridcolor": "white",
           "linecolor": "white",
           "ticks": "",
           "title": {
            "standoff": 15
           },
           "zerolinecolor": "white",
           "zerolinewidth": 2
          },
          "yaxis": {
           "automargin": true,
           "gridcolor": "white",
           "linecolor": "white",
           "ticks": "",
           "title": {
            "standoff": 15
           },
           "zerolinecolor": "white",
           "zerolinewidth": 2
          }
         }
        },
        "title": {
         "font": {
          "color": "#4D5663"
         },
         "text": "Topic 0: Top 100 words after removing stop words"
        },
        "xaxis": {
         "autorange": true,
         "gridcolor": "#E1E5ED",
         "linecolor": "black",
         "range": [
          -0.5,
          99.5
         ],
         "showgrid": true,
         "tickfont": {
          "color": "#4D5663"
         },
         "title": {
          "font": {
           "color": "#4D5663"
          },
          "text": ""
         },
         "type": "category",
         "zerolinecolor": "#E1E5ED"
        },
        "yaxis": {
         "autorange": true,
         "gridcolor": "#E1E5ED",
         "linecolor": "black",
         "range": [
          0,
          614.7368421052631
         ],
         "showgrid": true,
         "tickfont": {
          "color": "#4D5663"
         },
         "title": {
          "font": {
           "color": "#4D5663"
          },
          "text": "Count"
         },
         "type": "linear",
         "zerolinecolor": "#E1E5ED"
        }
       }
      },
      "image/png": "[encoded data removed]",
      "text/html": [
       "<div>                            <div id=\"3118a887-5952-46c8-99bc-f6ee686037d7\" class=\"plotly-graph-div\" style=\"height:525px; width:100%;\"></div>            <script type=\"text/javascript\">                require([\"plotly\"], function(Plotly) {                    window.PLOTLYENV=window.PLOTLYENV || {};\n",
       "                    window.PLOTLYENV.BASE_URL='https://plot.ly';                                    if (document.getElementById(\"3118a887-5952-46c8-99bc-f6ee686037d7\")) {                    Plotly.newPlot(                        \"3118a887-5952-46c8-99bc-f6ee686037d7\",                        [{\"marker\":{\"color\":\"rgba(255, 153, 51, 0.6)\",\"line\":{\"color\":\"rgba(255, 153, 51, 1.0)\",\"width\":1}},\"name\":\"count\",\"orientation\":\"v\",\"text\":\"\",\"x\":[\"work\",\"family\",\"use\",\"start\",\"help\",\"group\",\"husband\",\"live\",\"small\",\"product\",\"well\",\"increase\",\"home\",\"customer\",\"good\",\"community\",\"marry\",\"need\",\"member\",\"request\",\"order\",\"hope\",\"expand\",\"new\",\"want\",\"time\",\"stock\",\"pay\",\"store\",\"provide\",\"grow\",\"go\",\"money\",\"get\",\"give\",\"improve\",\"market\",\"hard\",\"support\",\"sale\",\"clothing\",\"ago\",\"life\",\"entrepreneur\",\"run\",\"mother\",\"repay\",\"shop\",\"client\",\"first\",\"take\",\"clothe\",\"profit\",\"plan\",\"food\",\"area\",\"high\",\"continue\",\"education\",\"service\",\"house\",\"item\",\"capital\",\"invest\",\"large\",\"demand\",\"say\",\"day\",\"meet\",\"local\",\"operate\",\"offer\",\"fee\",\"month\",\"receive\",\"wife\",\"young\",\"supply\",\"currently\",\"age\",\"open\",\"keep\",\"begin\",\"still\",\"intend\",\"earn\",\"enough\",\"save\",\"experience\",\"milk\",\"attend\",\"second\",\"son\",\"farm\",\"daughter\",\"merchandise\",\"allow\",\"primary\",\"farmer\",\"due\"],\"y\":[584,526,509,476,434,421,417,402,396,387,370,335,311,306,306,301,298,287,259,258,254,244,240,240,236,235,234,233,232,220,214,206,204,198,197,196,188,188,187,184,180,178,177,176,174,172,171,169,169,169,168,167,165,165,163,159,154,152,149,147,142,140,139,139,135,134,132,128,128,127,126,125,125,124,124,122,120,118,115,114,114,113,111,111,110,110,109,105,104,103,102,101,101,100,98,98,97,96,95,94],\"type\":\"bar\"}],                        {\"legend\":{\"bgcolor\":\"#F5F6F9\",\"font\":{\"color\":\"#4D5663\"}},\"paper_bgcolor\":\"#F5F6F9\",\"plot_bgcolor\":\"#F5F6F9\",\"template\":{\"data\":{\"barpolar\":[{\"marker\":{\"line\":{\"color\":\"#E5ECF6\",\"width\":0.5},\"pattern\":{\"fillmode\":\"overlay\",\"size\":10,\"solidity\":0.2}},\"type\":\"barpolar\"}],\"bar\":[{\"error_x\":{\"color\":\"#2a3f5f\"},\"error_y\":{\"color\":\"#2a3f5f\"},\"marker\":{\"line\":{\"color\":\"#E5ECF6\",\"width\":0.5},\"pattern\":{\"fillmode\":\"overlay\",\"size\":10,\"solidity\":0.2}},\"type\":\"bar\"}],\"carpet\":[{\"aaxis\":{\"endlinecolor\":\"#2a3f5f\",\"gridcolor\":\"white\",\"linecolor\":\"white\",\"minorgridcolor\":\"white\",\"startlinecolor\":\"#2a3f5f\"},\"baxis\":{\"endlinecolor\":\"#2a3f5f\",\"gridcolor\":\"white\",\"linecolor\":\"white\",\"minorgridcolor\":\"white\",\"startlinecolor\":\"#2a3f5f\"},\"type\":\"carpet\"}],\"choropleth\":[{\"colorbar\":{\"outlinewidth\":0,\"ticks\":\"\"},\"type\":\"choropleth\"}],\"contourcarpet\":[{\"colorbar\":{\"outlinewidth\":0,\"ticks\":\"\"},\"type\":\"contourcarpet\"}],\"contour\":[{\"colorbar\":{\"outlinewidth\":0,\"ticks\":\"\"},\"colorscale\":[[0.0,\"#0d0887\"],[0.1111111111111111,\"#46039f\"],[0.2222222222222222,\"#7201a8\"],[0.3333333333333333,\"#9c179e\"],[0.4444444444444444,\"#bd3786\"],[0.5555555555555556,\"#d8576b\"],[0.6666666666666666,\"#ed7953\"],[0.7777777777777778,\"#fb9f3a\"],[0.8888888888888888,\"#fdca26\"],[1.0,\"#f0f921\"]],\"type\":\"contour\"}],\"heatmapgl\":[{\"colorbar\":{\"outlinewidth\":0,\"ticks\":\"\"},\"colorscale\":[[0.0,\"#0d0887\"],[0.1111111111111111,\"#46039f\"],[0.2222222222222222,\"#7201a8\"],[0.3333333333333333,\"#9c179e\"],[0.4444444444444444,\"#bd3786\"],[0.5555555555555556,\"#d8576b\"],[0.6666666666666666,\"#ed7953\"],[0.7777777777777778,\"#fb9f3a\"],[0.8888888888888888,\"#fdca26\"],[1.0,\"#f0f921\"]],\"type\":\"heatmapgl\"}],\"heatmap\":[{\"colorbar\":{\"outlinewidth\":0,\"ticks\":\"\"},\"colorscale\":[[0.0,\"#0d0887\"],[0.1111111111111111,\"#46039f\"],[0.2222222222222222,\"#7201a8\"],[0.3333333333333333,\"#9c179e\"],[0.4444444444444444,\"#bd3786\"],[0.5555555555555556,\"#d8576b\"],[0.6666666666666666,\"#ed7953\"],[0.7777777777777778,\"#fb9f3a\"],[0.8888888888888888,\"#fdca26\"],[1.0,\"#f0f921\"]],\"type\":\"heatmap\"}],\"histogram2dcontour\":[{\"colorbar\":{\"outlinewidth\":0,\"ticks\":\"\"},\"colorscale\":[[0.0,\"#0d0887\"],[0.1111111111111111,\"#46039f\"],[0.2222222222222222,\"#7201a8\"],[0.3333333333333333,\"#9c179e\"],[0.4444444444444444,\"#bd3786\"],[0.5555555555555556,\"#d8576b\"],[0.6666666666666666,\"#ed7953\"],[0.7777777777777778,\"#fb9f3a\"],[0.8888888888888888,\"#fdca26\"],[1.0,\"#f0f921\"]],\"type\":\"histogram2dcontour\"}],\"histogram2d\":[{\"colorbar\":{\"outlinewidth\":0,\"ticks\":\"\"},\"colorscale\":[[0.0,\"#0d0887\"],[0.1111111111111111,\"#46039f\"],[0.2222222222222222,\"#7201a8\"],[0.3333333333333333,\"#9c179e\"],[0.4444444444444444,\"#bd3786\"],[0.5555555555555556,\"#d8576b\"],[0.6666666666666666,\"#ed7953\"],[0.7777777777777778,\"#fb9f3a\"],[0.8888888888888888,\"#fdca26\"],[1.0,\"#f0f921\"]],\"type\":\"histogram2d\"}],\"histogram\":[{\"marker\":{\"pattern\":{\"fillmode\":\"overlay\",\"size\":10,\"solidity\":0.2}},\"type\":\"histogram\"}],\"mesh3d\":[{\"colorbar\":{\"outlinewidth\":0,\"ticks\":\"\"},\"type\":\"mesh3d\"}],\"parcoords\":[{\"line\":{\"colorbar\":{\"outlinewidth\":0,\"ticks\":\"\"}},\"type\":\"parcoords\"}],\"pie\":[{\"automargin\":true,\"type\":\"pie\"}],\"scatter3d\":[{\"line\":{\"colorbar\":{\"outlinewidth\":0,\"ticks\":\"\"}},\"marker\":{\"colorbar\":{\"outlinewidth\":0,\"ticks\":\"\"}},\"type\":\"scatter3d\"}],\"scattercarpet\":[{\"marker\":{\"colorbar\":{\"outlinewidth\":0,\"ticks\":\"\"}},\"type\":\"scattercarpet\"}],\"scattergeo\":[{\"marker\":{\"colorbar\":{\"outlinewidth\":0,\"ticks\":\"\"}},\"type\":\"scattergeo\"}],\"scattergl\":[{\"marker\":{\"colorbar\":{\"outlinewidth\":0,\"ticks\":\"\"}},\"type\":\"scattergl\"}],\"scattermapbox\":[{\"marker\":{\"colorbar\":{\"outlinewidth\":0,\"ticks\":\"\"}},\"type\":\"scattermapbox\"}],\"scatterpolargl\":[{\"marker\":{\"colorbar\":{\"outlinewidth\":0,\"ticks\":\"\"}},\"type\":\"scatterpolargl\"}],\"scatterpolar\":[{\"marker\":{\"colorbar\":{\"outlinewidth\":0,\"ticks\":\"\"}},\"type\":\"scatterpolar\"}],\"scatter\":[{\"fillpattern\":{\"fillmode\":\"overlay\",\"size\":10,\"solidity\":0.2},\"type\":\"scatter\"}],\"scatterternary\":[{\"marker\":{\"colorbar\":{\"outlinewidth\":0,\"ticks\":\"\"}},\"type\":\"scatterternary\"}],\"surface\":[{\"colorbar\":{\"outlinewidth\":0,\"ticks\":\"\"},\"colorscale\":[[0.0,\"#0d0887\"],[0.1111111111111111,\"#46039f\"],[0.2222222222222222,\"#7201a8\"],[0.3333333333333333,\"#9c179e\"],[0.4444444444444444,\"#bd3786\"],[0.5555555555555556,\"#d8576b\"],[0.6666666666666666,\"#ed7953\"],[0.7777777777777778,\"#fb9f3a\"],[0.8888888888888888,\"#fdca26\"],[1.0,\"#f0f921\"]],\"type\":\"surface\"}],\"table\":[{\"cells\":{\"fill\":{\"color\":\"#EBF0F8\"},\"line\":{\"color\":\"white\"}},\"header\":{\"fill\":{\"color\":\"#C8D4E3\"},\"line\":{\"color\":\"white\"}},\"type\":\"table\"}]},\"layout\":{\"annotationdefaults\":{\"arrowcolor\":\"#2a3f5f\",\"arrowhead\":0,\"arrowwidth\":1},\"autotypenumbers\":\"strict\",\"coloraxis\":{\"colorbar\":{\"outlinewidth\":0,\"ticks\":\"\"}},\"colorscale\":{\"diverging\":[[0,\"#8e0152\"],[0.1,\"#c51b7d\"],[0.2,\"#de77ae\"],[0.3,\"#f1b6da\"],[0.4,\"#fde0ef\"],[0.5,\"#f7f7f7\"],[0.6,\"#e6f5d0\"],[0.7,\"#b8e186\"],[0.8,\"#7fbc41\"],[0.9,\"#4d9221\"],[1,\"#276419\"]],\"sequential\":[[0.0,\"#0d0887\"],[0.1111111111111111,\"#46039f\"],[0.2222222222222222,\"#7201a8\"],[0.3333333333333333,\"#9c179e\"],[0.4444444444444444,\"#bd3786\"],[0.5555555555555556,\"#d8576b\"],[0.6666666666666666,\"#ed7953\"],[0.7777777777777778,\"#fb9f3a\"],[0.8888888888888888,\"#fdca26\"],[1.0,\"#f0f921\"]],\"sequentialminus\":[[0.0,\"#0d0887\"],[0.1111111111111111,\"#46039f\"],[0.2222222222222222,\"#7201a8\"],[0.3333333333333333,\"#9c179e\"],[0.4444444444444444,\"#bd3786\"],[0.5555555555555556,\"#d8576b\"],[0.6666666666666666,\"#ed7953\"],[0.7777777777777778,\"#fb9f3a\"],[0.8888888888888888,\"#fdca26\"],[1.0,\"#f0f921\"]]},\"colorway\":[\"#636efa\",\"#EF553B\",\"#00cc96\",\"#ab63fa\",\"#FFA15A\",\"#19d3f3\",\"#FF6692\",\"#B6E880\",\"#FF97FF\",\"#FECB52\"],\"font\":{\"color\":\"#2a3f5f\"},\"geo\":{\"bgcolor\":\"white\",\"lakecolor\":\"white\",\"landcolor\":\"#E5ECF6\",\"showlakes\":true,\"showland\":true,\"subunitcolor\":\"white\"},\"hoverlabel\":{\"align\":\"left\"},\"hovermode\":\"closest\",\"mapbox\":{\"style\":\"light\"},\"paper_bgcolor\":\"white\",\"plot_bgcolor\":\"#E5ECF6\",\"polar\":{\"angularaxis\":{\"gridcolor\":\"white\",\"linecolor\":\"white\",\"ticks\":\"\"},\"bgcolor\":\"#E5ECF6\",\"radialaxis\":{\"gridcolor\":\"white\",\"linecolor\":\"white\",\"ticks\":\"\"}},\"scene\":{\"xaxis\":{\"backgroundcolor\":\"#E5ECF6\",\"gridcolor\":\"white\",\"gridwidth\":2,\"linecolor\":\"white\",\"showbackground\":true,\"ticks\":\"\",\"zerolinecolor\":\"white\"},\"yaxis\":{\"backgroundcolor\":\"#E5ECF6\",\"gridcolor\":\"white\",\"gridwidth\":2,\"linecolor\":\"white\",\"showbackground\":true,\"ticks\":\"\",\"zerolinecolor\":\"white\"},\"zaxis\":{\"backgroundcolor\":\"#E5ECF6\",\"gridcolor\":\"white\",\"gridwidth\":2,\"linecolor\":\"white\",\"showbackground\":true,\"ticks\":\"\",\"zerolinecolor\":\"white\"}},\"shapedefaults\":{\"line\":{\"color\":\"#2a3f5f\"}},\"ternary\":{\"aaxis\":{\"gridcolor\":\"white\",\"linecolor\":\"white\",\"ticks\":\"\"},\"baxis\":{\"gridcolor\":\"white\",\"linecolor\":\"white\",\"ticks\":\"\"},\"bgcolor\":\"#E5ECF6\",\"caxis\":{\"gridcolor\":\"white\",\"linecolor\":\"white\",\"ticks\":\"\"}},\"title\":{\"x\":0.05},\"xaxis\":{\"automargin\":true,\"gridcolor\":\"white\",\"linecolor\":\"white\",\"ticks\":\"\",\"title\":{\"standoff\":15},\"zerolinecolor\":\"white\",\"zerolinewidth\":2},\"yaxis\":{\"automargin\":true,\"gridcolor\":\"white\",\"linecolor\":\"white\",\"ticks\":\"\",\"title\":{\"standoff\":15},\"zerolinecolor\":\"white\",\"zerolinewidth\":2}}},\"title\":{\"font\":{\"color\":\"#4D5663\"},\"text\":\"Topic 0: Top 100 words after removing stop words\"},\"xaxis\":{\"gridcolor\":\"#E1E5ED\",\"linecolor\":\"black\",\"showgrid\":true,\"tickfont\":{\"color\":\"#4D5663\"},\"title\":{\"font\":{\"color\":\"#4D5663\"},\"text\":\"\"},\"zerolinecolor\":\"#E1E5ED\"},\"yaxis\":{\"gridcolor\":\"#E1E5ED\",\"linecolor\":\"black\",\"showgrid\":true,\"tickfont\":{\"color\":\"#4D5663\"},\"title\":{\"font\":{\"color\":\"#4D5663\"},\"text\":\"Count\"},\"zerolinecolor\":\"#E1E5ED\"}},                        {\"showLink\": true, \"linkText\": \"Export to plot.ly\", \"plotlyServerURL\": \"https://plot.ly\", \"responsive\": true}                    ).then(function(){\n",
       "                            \n",
       "var gd = document.getElementById('3118a887-5952-46c8-99bc-f6ee686037d7');\n",
       "var x = new MutationObserver(function (mutations, observer) {{\n",
       "        var display = window.getComputedStyle(gd).display;\n",
       "        if (!display || display === 'none') {{\n",
       "            console.log([gd, 'removed!']);\n",
       "            Plotly.purge(gd);\n",
       "            observer.disconnect();\n",
       "        }}\n",
       "}});\n",
       "\n",
       "// Listen for the removal of the full notebook cells\n",
       "var notebookContainer = gd.closest('#notebook-container');\n",
       "if (notebookContainer) {{\n",
       "    x.observe(notebookContainer, {childList: true});\n",
       "}}\n",
       "\n",
       "// Listen for the clearing of the current output cell\n",
       "var outputEl = gd.closest('.output');\n",
       "if (outputEl) {{\n",
       "    x.observe(outputEl, {childList: true});\n",
       "}}\n",
       "\n",
       "                        })                };                });            </script>        </div>"
      ]
     },
     "metadata": {},
     "output_type": "display_data"
    }
   ],
   "source": [
    "plot_model(lsi)"
   ]
  },
  {
   "cell_type": "raw",
   "id": "ba224c76",
   "metadata": {},
   "source": [
    "List of available plots (ID - Name):\n",
    "Word Token Frequency - 'frequency'\n",
    "Word Distribution Plot - 'distribution'\n",
    "Bigram Frequency Plot - 'bigram'\n",
    "Trigram Frequency Plot - 'trigram'\n",
    "Sentiment Polarity Plot - 'sentiment'\n",
    "Part of Speech Frequency - 'pos'\n",
    "t-SNE (3d) Dimension Plot - 'tsne'\n",
    "Topic Model (pyLDAvis) - 'topic_model'\n",
    "Topic Infer Distribution - 'topic_distribution'\n",
    "Wordcloud - 'wordcloud'\n",
    "UMAP Dimensionality Plot - 'umap'"
   ]
  },
  {
   "cell_type": "code",
   "execution_count": 19,
   "id": "02305ba3",
   "metadata": {},
   "outputs": [
    {
     "data": {
      "text/html": [
       "        <script type=\"text/javascript\">\n",
       "        window.PlotlyConfig = {MathJaxConfig: 'local'};\n",
       "        if (window.MathJax) {MathJax.Hub.Config({SVG: {font: \"STIX-Web\"}});}\n",
       "        if (typeof require !== 'undefined') {\n",
       "        require.undef(\"plotly\");\n",
       "        requirejs.config({\n",
       "            paths: {\n",
       "                'plotly': ['https://cdn.plot.ly/plotly-2.11.1.min']\n",
       "            }\n",
       "        });\n",
       "        require(['plotly'], function(Plotly) {\n",
       "            window._Plotly = Plotly;\n",
       "        });\n",
       "        }\n",
       "        </script>\n",
       "        "
      ]
     },
     "metadata": {},
     "output_type": "display_data"
    },
    {
     "data": {
      "application/vnd.plotly.v1+json": {
       "config": {
        "linkText": "Export to plot.ly",
        "plotlyServerURL": "https://plot.ly",
        "showLink": true
       },
       "data": [
        {
         "marker": {
          "color": "rgba(255, 153, 51, 0.6)",
          "line": {
           "color": "rgba(255, 153, 51, 1.0)",
           "width": 1
          }
         },
         "name": "count",
         "orientation": "v",
         "text": "",
         "type": "bar",
         "x": [
          "work hard",
          "pay fee",
          "hard work",
          "increase stock",
          "start small",
          "group member",
          "husband work",
          "support family",
          "start ago",
          "member group",
          "live husband",
          "programs_information_microfinance_ecuador services_please_visit_href",
          "provide family",
          "mifex_offers_client microinsurance_access_training_educational",
          "microinsurance_access_training_educational programs_information_microfinance_ecuador",
          "run small",
          "may_represent_higher_default risk_willing_accept_additional",
          "plan use",
          "kenya_security_situation_communitie businesses_lenders_entrepreneur_aware",
          "well life",
          "businesses_lenders_entrepreneur_aware may_represent_higher_default",
          "risk_willing_accept_additional risk_making",
          "high demand",
          "provide well",
          "pay back",
          "operate small",
          "help husband",
          "enough money",
          "small store",
          "beauty product",
          "customer need",
          "intend use",
          "husband help",
          "want expand",
          "quality life",
          "request budget",
          "local community",
          "save money",
          "attract new",
          "large quantity",
          "add stock",
          "increase revenue",
          "family member",
          "increase profit",
          "rural area",
          "sale increase",
          "family need",
          "start help",
          "store home",
          "therefore request",
          "use clothe",
          "improve family",
          "need order",
          "meet customer",
          "marry primary",
          "improve quality",
          "familys need",
          "increase sale",
          "request second",
          "decide start",
          "boy girl",
          "month ago",
          "use money",
          "meet need",
          "continue grow",
          "use clothing",
          "small shop",
          "repay time",
          "local market",
          "bear ago",
          "good education",
          "continue improve",
          "use new",
          "meet demand",
          "help increase",
          "long time",
          "new product",
          "request use",
          "family live",
          "begin ago",
          "variety product",
          "marry live",
          "use follow",
          "help support",
          "give well",
          "family well",
          "receive first",
          "separate husband",
          "customer demand",
          "save enough",
          "keep work",
          "life family",
          "help family",
          "children education",
          "offer product",
          "money earn",
          "request intend",
          "well know",
          "join group",
          "wife work"
         ],
         "y": [
          70,
          63,
          62,
          48,
          48,
          47,
          46,
          41,
          40,
          38,
          38,
          38,
          35,
          34,
          32,
          29,
          28,
          28,
          28,
          28,
          28,
          28,
          27,
          27,
          25,
          25,
          24,
          24,
          24,
          24,
          24,
          23,
          22,
          22,
          21,
          21,
          21,
          20,
          19,
          19,
          19,
          19,
          18,
          18,
          18,
          18,
          18,
          18,
          18,
          18,
          18,
          18,
          18,
          18,
          18,
          17,
          17,
          17,
          17,
          16,
          16,
          16,
          16,
          16,
          16,
          16,
          16,
          16,
          16,
          16,
          16,
          15,
          15,
          15,
          15,
          15,
          15,
          15,
          14,
          14,
          14,
          14,
          14,
          14,
          14,
          14,
          14,
          14,
          14,
          14,
          14,
          14,
          13,
          13,
          13,
          13,
          13,
          13,
          13,
          13
         ]
        }
       ],
       "layout": {
        "autosize": true,
        "legend": {
         "bgcolor": "#F5F6F9",
         "font": {
          "color": "#4D5663"
         }
        },
        "paper_bgcolor": "#F5F6F9",
        "plot_bgcolor": "#F5F6F9",
        "template": {
         "data": {
          "bar": [
           {
            "error_x": {
             "color": "#2a3f5f"
            },
            "error_y": {
             "color": "#2a3f5f"
            },
            "marker": {
             "line": {
              "color": "#E5ECF6",
              "width": 0.5
             },
             "pattern": {
              "fillmode": "overlay",
              "size": 10,
              "solidity": 0.2
             }
            },
            "type": "bar"
           }
          ],
          "barpolar": [
           {
            "marker": {
             "line": {
              "color": "#E5ECF6",
              "width": 0.5
             },
             "pattern": {
              "fillmode": "overlay",
              "size": 10,
              "solidity": 0.2
             }
            },
            "type": "barpolar"
           }
          ],
          "carpet": [
           {
            "aaxis": {
             "endlinecolor": "#2a3f5f",
             "gridcolor": "white",
             "linecolor": "white",
             "minorgridcolor": "white",
             "startlinecolor": "#2a3f5f"
            },
            "baxis": {
             "endlinecolor": "#2a3f5f",
             "gridcolor": "white",
             "linecolor": "white",
             "minorgridcolor": "white",
             "startlinecolor": "#2a3f5f"
            },
            "type": "carpet"
           }
          ],
          "choropleth": [
           {
            "colorbar": {
             "outlinewidth": 0,
             "ticks": ""
            },
            "type": "choropleth"
           }
          ],
          "contour": [
           {
            "colorbar": {
             "outlinewidth": 0,
             "ticks": ""
            },
            "colorscale": [
             [
              0,
              "#0d0887"
             ],
             [
              0.1111111111111111,
              "#46039f"
             ],
             [
              0.2222222222222222,
              "#7201a8"
             ],
             [
              0.3333333333333333,
              "#9c179e"
             ],
             [
              0.4444444444444444,
              "#bd3786"
             ],
             [
              0.5555555555555556,
              "#d8576b"
             ],
             [
              0.6666666666666666,
              "#ed7953"
             ],
             [
              0.7777777777777778,
              "#fb9f3a"
             ],
             [
              0.8888888888888888,
              "#fdca26"
             ],
             [
              1,
              "#f0f921"
             ]
            ],
            "type": "contour"
           }
          ],
          "contourcarpet": [
           {
            "colorbar": {
             "outlinewidth": 0,
             "ticks": ""
            },
            "type": "contourcarpet"
           }
          ],
          "heatmap": [
           {
            "colorbar": {
             "outlinewidth": 0,
             "ticks": ""
            },
            "colorscale": [
             [
              0,
              "#0d0887"
             ],
             [
              0.1111111111111111,
              "#46039f"
             ],
             [
              0.2222222222222222,
              "#7201a8"
             ],
             [
              0.3333333333333333,
              "#9c179e"
             ],
             [
              0.4444444444444444,
              "#bd3786"
             ],
             [
              0.5555555555555556,
              "#d8576b"
             ],
             [
              0.6666666666666666,
              "#ed7953"
             ],
             [
              0.7777777777777778,
              "#fb9f3a"
             ],
             [
              0.8888888888888888,
              "#fdca26"
             ],
             [
              1,
              "#f0f921"
             ]
            ],
            "type": "heatmap"
           }
          ],
          "heatmapgl": [
           {
            "colorbar": {
             "outlinewidth": 0,
             "ticks": ""
            },
            "colorscale": [
             [
              0,
              "#0d0887"
             ],
             [
              0.1111111111111111,
              "#46039f"
             ],
             [
              0.2222222222222222,
              "#7201a8"
             ],
             [
              0.3333333333333333,
              "#9c179e"
             ],
             [
              0.4444444444444444,
              "#bd3786"
             ],
             [
              0.5555555555555556,
              "#d8576b"
             ],
             [
              0.6666666666666666,
              "#ed7953"
             ],
             [
              0.7777777777777778,
              "#fb9f3a"
             ],
             [
              0.8888888888888888,
              "#fdca26"
             ],
             [
              1,
              "#f0f921"
             ]
            ],
            "type": "heatmapgl"
           }
          ],
          "histogram": [
           {
            "marker": {
             "pattern": {
              "fillmode": "overlay",
              "size": 10,
              "solidity": 0.2
             }
            },
            "type": "histogram"
           }
          ],
          "histogram2d": [
           {
            "colorbar": {
             "outlinewidth": 0,
             "ticks": ""
            },
            "colorscale": [
             [
              0,
              "#0d0887"
             ],
             [
              0.1111111111111111,
              "#46039f"
             ],
             [
              0.2222222222222222,
              "#7201a8"
             ],
             [
              0.3333333333333333,
              "#9c179e"
             ],
             [
              0.4444444444444444,
              "#bd3786"
             ],
             [
              0.5555555555555556,
              "#d8576b"
             ],
             [
              0.6666666666666666,
              "#ed7953"
             ],
             [
              0.7777777777777778,
              "#fb9f3a"
             ],
             [
              0.8888888888888888,
              "#fdca26"
             ],
             [
              1,
              "#f0f921"
             ]
            ],
            "type": "histogram2d"
           }
          ],
          "histogram2dcontour": [
           {
            "colorbar": {
             "outlinewidth": 0,
             "ticks": ""
            },
            "colorscale": [
             [
              0,
              "#0d0887"
             ],
             [
              0.1111111111111111,
              "#46039f"
             ],
             [
              0.2222222222222222,
              "#7201a8"
             ],
             [
              0.3333333333333333,
              "#9c179e"
             ],
             [
              0.4444444444444444,
              "#bd3786"
             ],
             [
              0.5555555555555556,
              "#d8576b"
             ],
             [
              0.6666666666666666,
              "#ed7953"
             ],
             [
              0.7777777777777778,
              "#fb9f3a"
             ],
             [
              0.8888888888888888,
              "#fdca26"
             ],
             [
              1,
              "#f0f921"
             ]
            ],
            "type": "histogram2dcontour"
           }
          ],
          "mesh3d": [
           {
            "colorbar": {
             "outlinewidth": 0,
             "ticks": ""
            },
            "type": "mesh3d"
           }
          ],
          "parcoords": [
           {
            "line": {
             "colorbar": {
              "outlinewidth": 0,
              "ticks": ""
             }
            },
            "type": "parcoords"
           }
          ],
          "pie": [
           {
            "automargin": true,
            "type": "pie"
           }
          ],
          "scatter": [
           {
            "fillpattern": {
             "fillmode": "overlay",
             "size": 10,
             "solidity": 0.2
            },
            "type": "scatter"
           }
          ],
          "scatter3d": [
           {
            "line": {
             "colorbar": {
              "outlinewidth": 0,
              "ticks": ""
             }
            },
            "marker": {
             "colorbar": {
              "outlinewidth": 0,
              "ticks": ""
             }
            },
            "type": "scatter3d"
           }
          ],
          "scattercarpet": [
           {
            "marker": {
             "colorbar": {
              "outlinewidth": 0,
              "ticks": ""
             }
            },
            "type": "scattercarpet"
           }
          ],
          "scattergeo": [
           {
            "marker": {
             "colorbar": {
              "outlinewidth": 0,
              "ticks": ""
             }
            },
            "type": "scattergeo"
           }
          ],
          "scattergl": [
           {
            "marker": {
             "colorbar": {
              "outlinewidth": 0,
              "ticks": ""
             }
            },
            "type": "scattergl"
           }
          ],
          "scattermapbox": [
           {
            "marker": {
             "colorbar": {
              "outlinewidth": 0,
              "ticks": ""
             }
            },
            "type": "scattermapbox"
           }
          ],
          "scatterpolar": [
           {
            "marker": {
             "colorbar": {
              "outlinewidth": 0,
              "ticks": ""
             }
            },
            "type": "scatterpolar"
           }
          ],
          "scatterpolargl": [
           {
            "marker": {
             "colorbar": {
              "outlinewidth": 0,
              "ticks": ""
             }
            },
            "type": "scatterpolargl"
           }
          ],
          "scatterternary": [
           {
            "marker": {
             "colorbar": {
              "outlinewidth": 0,
              "ticks": ""
             }
            },
            "type": "scatterternary"
           }
          ],
          "surface": [
           {
            "colorbar": {
             "outlinewidth": 0,
             "ticks": ""
            },
            "colorscale": [
             [
              0,
              "#0d0887"
             ],
             [
              0.1111111111111111,
              "#46039f"
             ],
             [
              0.2222222222222222,
              "#7201a8"
             ],
             [
              0.3333333333333333,
              "#9c179e"
             ],
             [
              0.4444444444444444,
              "#bd3786"
             ],
             [
              0.5555555555555556,
              "#d8576b"
             ],
             [
              0.6666666666666666,
              "#ed7953"
             ],
             [
              0.7777777777777778,
              "#fb9f3a"
             ],
             [
              0.8888888888888888,
              "#fdca26"
             ],
             [
              1,
              "#f0f921"
             ]
            ],
            "type": "surface"
           }
          ],
          "table": [
           {
            "cells": {
             "fill": {
              "color": "#EBF0F8"
             },
             "line": {
              "color": "white"
             }
            },
            "header": {
             "fill": {
              "color": "#C8D4E3"
             },
             "line": {
              "color": "white"
             }
            },
            "type": "table"
           }
          ]
         },
         "layout": {
          "annotationdefaults": {
           "arrowcolor": "#2a3f5f",
           "arrowhead": 0,
           "arrowwidth": 1
          },
          "autotypenumbers": "strict",
          "coloraxis": {
           "colorbar": {
            "outlinewidth": 0,
            "ticks": ""
           }
          },
          "colorscale": {
           "diverging": [
            [
             0,
             "#8e0152"
            ],
            [
             0.1,
             "#c51b7d"
            ],
            [
             0.2,
             "#de77ae"
            ],
            [
             0.3,
             "#f1b6da"
            ],
            [
             0.4,
             "#fde0ef"
            ],
            [
             0.5,
             "#f7f7f7"
            ],
            [
             0.6,
             "#e6f5d0"
            ],
            [
             0.7,
             "#b8e186"
            ],
            [
             0.8,
             "#7fbc41"
            ],
            [
             0.9,
             "#4d9221"
            ],
            [
             1,
             "#276419"
            ]
           ],
           "sequential": [
            [
             0,
             "#0d0887"
            ],
            [
             0.1111111111111111,
             "#46039f"
            ],
            [
             0.2222222222222222,
             "#7201a8"
            ],
            [
             0.3333333333333333,
             "#9c179e"
            ],
            [
             0.4444444444444444,
             "#bd3786"
            ],
            [
             0.5555555555555556,
             "#d8576b"
            ],
            [
             0.6666666666666666,
             "#ed7953"
            ],
            [
             0.7777777777777778,
             "#fb9f3a"
            ],
            [
             0.8888888888888888,
             "#fdca26"
            ],
            [
             1,
             "#f0f921"
            ]
           ],
           "sequentialminus": [
            [
             0,
             "#0d0887"
            ],
            [
             0.1111111111111111,
             "#46039f"
            ],
            [
             0.2222222222222222,
             "#7201a8"
            ],
            [
             0.3333333333333333,
             "#9c179e"
            ],
            [
             0.4444444444444444,
             "#bd3786"
            ],
            [
             0.5555555555555556,
             "#d8576b"
            ],
            [
             0.6666666666666666,
             "#ed7953"
            ],
            [
             0.7777777777777778,
             "#fb9f3a"
            ],
            [
             0.8888888888888888,
             "#fdca26"
            ],
            [
             1,
             "#f0f921"
            ]
           ]
          },
          "colorway": [
           "#636efa",
           "#EF553B",
           "#00cc96",
           "#ab63fa",
           "#FFA15A",
           "#19d3f3",
           "#FF6692",
           "#B6E880",
           "#FF97FF",
           "#FECB52"
          ],
          "font": {
           "color": "#2a3f5f"
          },
          "geo": {
           "bgcolor": "white",
           "lakecolor": "white",
           "landcolor": "#E5ECF6",
           "showlakes": true,
           "showland": true,
           "subunitcolor": "white"
          },
          "hoverlabel": {
           "align": "left"
          },
          "hovermode": "closest",
          "mapbox": {
           "style": "light"
          },
          "paper_bgcolor": "white",
          "plot_bgcolor": "#E5ECF6",
          "polar": {
           "angularaxis": {
            "gridcolor": "white",
            "linecolor": "white",
            "ticks": ""
           },
           "bgcolor": "#E5ECF6",
           "radialaxis": {
            "gridcolor": "white",
            "linecolor": "white",
            "ticks": ""
           }
          },
          "scene": {
           "xaxis": {
            "backgroundcolor": "#E5ECF6",
            "gridcolor": "white",
            "gridwidth": 2,
            "linecolor": "white",
            "showbackground": true,
            "ticks": "",
            "zerolinecolor": "white"
           },
           "yaxis": {
            "backgroundcolor": "#E5ECF6",
            "gridcolor": "white",
            "gridwidth": 2,
            "linecolor": "white",
            "showbackground": true,
            "ticks": "",
            "zerolinecolor": "white"
           },
           "zaxis": {
            "backgroundcolor": "#E5ECF6",
            "gridcolor": "white",
            "gridwidth": 2,
            "linecolor": "white",
            "showbackground": true,
            "ticks": "",
            "zerolinecolor": "white"
           }
          },
          "shapedefaults": {
           "line": {
            "color": "#2a3f5f"
           }
          },
          "ternary": {
           "aaxis": {
            "gridcolor": "white",
            "linecolor": "white",
            "ticks": ""
           },
           "baxis": {
            "gridcolor": "white",
            "linecolor": "white",
            "ticks": ""
           },
           "bgcolor": "#E5ECF6",
           "caxis": {
            "gridcolor": "white",
            "linecolor": "white",
            "ticks": ""
           }
          },
          "title": {
           "x": 0.05
          },
          "xaxis": {
           "automargin": true,
           "gridcolor": "white",
           "linecolor": "white",
           "ticks": "",
           "title": {
            "standoff": 15
           },
           "zerolinecolor": "white",
           "zerolinewidth": 2
          },
          "yaxis": {
           "automargin": true,
           "gridcolor": "white",
           "linecolor": "white",
           "ticks": "",
           "title": {
            "standoff": 15
           },
           "zerolinecolor": "white",
           "zerolinewidth": 2
          }
         }
        },
        "title": {
         "font": {
          "color": "#4D5663"
         },
         "text": "Topic 0: Top 100 bigrams after removing stop words"
        },
        "xaxis": {
         "autorange": true,
         "gridcolor": "#E1E5ED",
         "linecolor": "black",
         "range": [
          -0.5,
          99.5
         ],
         "showgrid": true,
         "tickfont": {
          "color": "#4D5663"
         },
         "title": {
          "font": {
           "color": "#4D5663"
          },
          "text": ""
         },
         "type": "category",
         "zerolinecolor": "#E1E5ED"
        },
        "yaxis": {
         "autorange": true,
         "gridcolor": "#E1E5ED",
         "linecolor": "black",
         "range": [
          0,
          73.6842105263158
         ],
         "showgrid": true,
         "tickfont": {
          "color": "#4D5663"
         },
         "title": {
          "font": {
           "color": "#4D5663"
          },
          "text": "Count"
         },
         "type": "linear",
         "zerolinecolor": "#E1E5ED"
        }
       }
      },
      "image/png": "[encoded data removed]",
      "text/html": [
       "<div>                            <div id=\"9fdec60e-6780-42e0-b2b8-4e14eddf197f\" class=\"plotly-graph-div\" style=\"height:525px; width:100%;\"></div>            <script type=\"text/javascript\">                require([\"plotly\"], function(Plotly) {                    window.PLOTLYENV=window.PLOTLYENV || {};\n",
       "                    window.PLOTLYENV.BASE_URL='https://plot.ly';                                    if (document.getElementById(\"9fdec60e-6780-42e0-b2b8-4e14eddf197f\")) {                    Plotly.newPlot(                        \"9fdec60e-6780-42e0-b2b8-4e14eddf197f\",                        [{\"marker\":{\"color\":\"rgba(255, 153, 51, 0.6)\",\"line\":{\"color\":\"rgba(255, 153, 51, 1.0)\",\"width\":1}},\"name\":\"count\",\"orientation\":\"v\",\"text\":\"\",\"x\":[\"work hard\",\"pay fee\",\"hard work\",\"increase stock\",\"start small\",\"group member\",\"husband work\",\"support family\",\"start ago\",\"member group\",\"live husband\",\"programs_information_microfinance_ecuador services_please_visit_href\",\"provide family\",\"mifex_offers_client microinsurance_access_training_educational\",\"microinsurance_access_training_educational programs_information_microfinance_ecuador\",\"run small\",\"may_represent_higher_default risk_willing_accept_additional\",\"plan use\",\"kenya_security_situation_communitie businesses_lenders_entrepreneur_aware\",\"well life\",\"businesses_lenders_entrepreneur_aware may_represent_higher_default\",\"risk_willing_accept_additional risk_making\",\"high demand\",\"provide well\",\"pay back\",\"operate small\",\"help husband\",\"enough money\",\"small store\",\"beauty product\",\"customer need\",\"intend use\",\"husband help\",\"want expand\",\"quality life\",\"request budget\",\"local community\",\"save money\",\"attract new\",\"large quantity\",\"add stock\",\"increase revenue\",\"family member\",\"increase profit\",\"rural area\",\"sale increase\",\"family need\",\"start help\",\"store home\",\"therefore request\",\"use clothe\",\"improve family\",\"need order\",\"meet customer\",\"marry primary\",\"improve quality\",\"familys need\",\"increase sale\",\"request second\",\"decide start\",\"boy girl\",\"month ago\",\"use money\",\"meet need\",\"continue grow\",\"use clothing\",\"small shop\",\"repay time\",\"local market\",\"bear ago\",\"good education\",\"continue improve\",\"use new\",\"meet demand\",\"help increase\",\"long time\",\"new product\",\"request use\",\"family live\",\"begin ago\",\"variety product\",\"marry live\",\"use follow\",\"help support\",\"give well\",\"family well\",\"receive first\",\"separate husband\",\"customer demand\",\"save enough\",\"keep work\",\"life family\",\"help family\",\"children education\",\"offer product\",\"money earn\",\"request intend\",\"well know\",\"join group\",\"wife work\"],\"y\":[70,63,62,48,48,47,46,41,40,38,38,38,35,34,32,29,28,28,28,28,28,28,27,27,25,25,24,24,24,24,24,23,22,22,21,21,21,20,19,19,19,19,18,18,18,18,18,18,18,18,18,18,18,18,18,17,17,17,17,16,16,16,16,16,16,16,16,16,16,16,16,15,15,15,15,15,15,15,14,14,14,14,14,14,14,14,14,14,14,14,14,14,13,13,13,13,13,13,13,13],\"type\":\"bar\"}],                        {\"legend\":{\"bgcolor\":\"#F5F6F9\",\"font\":{\"color\":\"#4D5663\"}},\"paper_bgcolor\":\"#F5F6F9\",\"plot_bgcolor\":\"#F5F6F9\",\"template\":{\"data\":{\"barpolar\":[{\"marker\":{\"line\":{\"color\":\"#E5ECF6\",\"width\":0.5},\"pattern\":{\"fillmode\":\"overlay\",\"size\":10,\"solidity\":0.2}},\"type\":\"barpolar\"}],\"bar\":[{\"error_x\":{\"color\":\"#2a3f5f\"},\"error_y\":{\"color\":\"#2a3f5f\"},\"marker\":{\"line\":{\"color\":\"#E5ECF6\",\"width\":0.5},\"pattern\":{\"fillmode\":\"overlay\",\"size\":10,\"solidity\":0.2}},\"type\":\"bar\"}],\"carpet\":[{\"aaxis\":{\"endlinecolor\":\"#2a3f5f\",\"gridcolor\":\"white\",\"linecolor\":\"white\",\"minorgridcolor\":\"white\",\"startlinecolor\":\"#2a3f5f\"},\"baxis\":{\"endlinecolor\":\"#2a3f5f\",\"gridcolor\":\"white\",\"linecolor\":\"white\",\"minorgridcolor\":\"white\",\"startlinecolor\":\"#2a3f5f\"},\"type\":\"carpet\"}],\"choropleth\":[{\"colorbar\":{\"outlinewidth\":0,\"ticks\":\"\"},\"type\":\"choropleth\"}],\"contourcarpet\":[{\"colorbar\":{\"outlinewidth\":0,\"ticks\":\"\"},\"type\":\"contourcarpet\"}],\"contour\":[{\"colorbar\":{\"outlinewidth\":0,\"ticks\":\"\"},\"colorscale\":[[0.0,\"#0d0887\"],[0.1111111111111111,\"#46039f\"],[0.2222222222222222,\"#7201a8\"],[0.3333333333333333,\"#9c179e\"],[0.4444444444444444,\"#bd3786\"],[0.5555555555555556,\"#d8576b\"],[0.6666666666666666,\"#ed7953\"],[0.7777777777777778,\"#fb9f3a\"],[0.8888888888888888,\"#fdca26\"],[1.0,\"#f0f921\"]],\"type\":\"contour\"}],\"heatmapgl\":[{\"colorbar\":{\"outlinewidth\":0,\"ticks\":\"\"},\"colorscale\":[[0.0,\"#0d0887\"],[0.1111111111111111,\"#46039f\"],[0.2222222222222222,\"#7201a8\"],[0.3333333333333333,\"#9c179e\"],[0.4444444444444444,\"#bd3786\"],[0.5555555555555556,\"#d8576b\"],[0.6666666666666666,\"#ed7953\"],[0.7777777777777778,\"#fb9f3a\"],[0.8888888888888888,\"#fdca26\"],[1.0,\"#f0f921\"]],\"type\":\"heatmapgl\"}],\"heatmap\":[{\"colorbar\":{\"outlinewidth\":0,\"ticks\":\"\"},\"colorscale\":[[0.0,\"#0d0887\"],[0.1111111111111111,\"#46039f\"],[0.2222222222222222,\"#7201a8\"],[0.3333333333333333,\"#9c179e\"],[0.4444444444444444,\"#bd3786\"],[0.5555555555555556,\"#d8576b\"],[0.6666666666666666,\"#ed7953\"],[0.7777777777777778,\"#fb9f3a\"],[0.8888888888888888,\"#fdca26\"],[1.0,\"#f0f921\"]],\"type\":\"heatmap\"}],\"histogram2dcontour\":[{\"colorbar\":{\"outlinewidth\":0,\"ticks\":\"\"},\"colorscale\":[[0.0,\"#0d0887\"],[0.1111111111111111,\"#46039f\"],[0.2222222222222222,\"#7201a8\"],[0.3333333333333333,\"#9c179e\"],[0.4444444444444444,\"#bd3786\"],[0.5555555555555556,\"#d8576b\"],[0.6666666666666666,\"#ed7953\"],[0.7777777777777778,\"#fb9f3a\"],[0.8888888888888888,\"#fdca26\"],[1.0,\"#f0f921\"]],\"type\":\"histogram2dcontour\"}],\"histogram2d\":[{\"colorbar\":{\"outlinewidth\":0,\"ticks\":\"\"},\"colorscale\":[[0.0,\"#0d0887\"],[0.1111111111111111,\"#46039f\"],[0.2222222222222222,\"#7201a8\"],[0.3333333333333333,\"#9c179e\"],[0.4444444444444444,\"#bd3786\"],[0.5555555555555556,\"#d8576b\"],[0.6666666666666666,\"#ed7953\"],[0.7777777777777778,\"#fb9f3a\"],[0.8888888888888888,\"#fdca26\"],[1.0,\"#f0f921\"]],\"type\":\"histogram2d\"}],\"histogram\":[{\"marker\":{\"pattern\":{\"fillmode\":\"overlay\",\"size\":10,\"solidity\":0.2}},\"type\":\"histogram\"}],\"mesh3d\":[{\"colorbar\":{\"outlinewidth\":0,\"ticks\":\"\"},\"type\":\"mesh3d\"}],\"parcoords\":[{\"line\":{\"colorbar\":{\"outlinewidth\":0,\"ticks\":\"\"}},\"type\":\"parcoords\"}],\"pie\":[{\"automargin\":true,\"type\":\"pie\"}],\"scatter3d\":[{\"line\":{\"colorbar\":{\"outlinewidth\":0,\"ticks\":\"\"}},\"marker\":{\"colorbar\":{\"outlinewidth\":0,\"ticks\":\"\"}},\"type\":\"scatter3d\"}],\"scattercarpet\":[{\"marker\":{\"colorbar\":{\"outlinewidth\":0,\"ticks\":\"\"}},\"type\":\"scattercarpet\"}],\"scattergeo\":[{\"marker\":{\"colorbar\":{\"outlinewidth\":0,\"ticks\":\"\"}},\"type\":\"scattergeo\"}],\"scattergl\":[{\"marker\":{\"colorbar\":{\"outlinewidth\":0,\"ticks\":\"\"}},\"type\":\"scattergl\"}],\"scattermapbox\":[{\"marker\":{\"colorbar\":{\"outlinewidth\":0,\"ticks\":\"\"}},\"type\":\"scattermapbox\"}],\"scatterpolargl\":[{\"marker\":{\"colorbar\":{\"outlinewidth\":0,\"ticks\":\"\"}},\"type\":\"scatterpolargl\"}],\"scatterpolar\":[{\"marker\":{\"colorbar\":{\"outlinewidth\":0,\"ticks\":\"\"}},\"type\":\"scatterpolar\"}],\"scatter\":[{\"fillpattern\":{\"fillmode\":\"overlay\",\"size\":10,\"solidity\":0.2},\"type\":\"scatter\"}],\"scatterternary\":[{\"marker\":{\"colorbar\":{\"outlinewidth\":0,\"ticks\":\"\"}},\"type\":\"scatterternary\"}],\"surface\":[{\"colorbar\":{\"outlinewidth\":0,\"ticks\":\"\"},\"colorscale\":[[0.0,\"#0d0887\"],[0.1111111111111111,\"#46039f\"],[0.2222222222222222,\"#7201a8\"],[0.3333333333333333,\"#9c179e\"],[0.4444444444444444,\"#bd3786\"],[0.5555555555555556,\"#d8576b\"],[0.6666666666666666,\"#ed7953\"],[0.7777777777777778,\"#fb9f3a\"],[0.8888888888888888,\"#fdca26\"],[1.0,\"#f0f921\"]],\"type\":\"surface\"}],\"table\":[{\"cells\":{\"fill\":{\"color\":\"#EBF0F8\"},\"line\":{\"color\":\"white\"}},\"header\":{\"fill\":{\"color\":\"#C8D4E3\"},\"line\":{\"color\":\"white\"}},\"type\":\"table\"}]},\"layout\":{\"annotationdefaults\":{\"arrowcolor\":\"#2a3f5f\",\"arrowhead\":0,\"arrowwidth\":1},\"autotypenumbers\":\"strict\",\"coloraxis\":{\"colorbar\":{\"outlinewidth\":0,\"ticks\":\"\"}},\"colorscale\":{\"diverging\":[[0,\"#8e0152\"],[0.1,\"#c51b7d\"],[0.2,\"#de77ae\"],[0.3,\"#f1b6da\"],[0.4,\"#fde0ef\"],[0.5,\"#f7f7f7\"],[0.6,\"#e6f5d0\"],[0.7,\"#b8e186\"],[0.8,\"#7fbc41\"],[0.9,\"#4d9221\"],[1,\"#276419\"]],\"sequential\":[[0.0,\"#0d0887\"],[0.1111111111111111,\"#46039f\"],[0.2222222222222222,\"#7201a8\"],[0.3333333333333333,\"#9c179e\"],[0.4444444444444444,\"#bd3786\"],[0.5555555555555556,\"#d8576b\"],[0.6666666666666666,\"#ed7953\"],[0.7777777777777778,\"#fb9f3a\"],[0.8888888888888888,\"#fdca26\"],[1.0,\"#f0f921\"]],\"sequentialminus\":[[0.0,\"#0d0887\"],[0.1111111111111111,\"#46039f\"],[0.2222222222222222,\"#7201a8\"],[0.3333333333333333,\"#9c179e\"],[0.4444444444444444,\"#bd3786\"],[0.5555555555555556,\"#d8576b\"],[0.6666666666666666,\"#ed7953\"],[0.7777777777777778,\"#fb9f3a\"],[0.8888888888888888,\"#fdca26\"],[1.0,\"#f0f921\"]]},\"colorway\":[\"#636efa\",\"#EF553B\",\"#00cc96\",\"#ab63fa\",\"#FFA15A\",\"#19d3f3\",\"#FF6692\",\"#B6E880\",\"#FF97FF\",\"#FECB52\"],\"font\":{\"color\":\"#2a3f5f\"},\"geo\":{\"bgcolor\":\"white\",\"lakecolor\":\"white\",\"landcolor\":\"#E5ECF6\",\"showlakes\":true,\"showland\":true,\"subunitcolor\":\"white\"},\"hoverlabel\":{\"align\":\"left\"},\"hovermode\":\"closest\",\"mapbox\":{\"style\":\"light\"},\"paper_bgcolor\":\"white\",\"plot_bgcolor\":\"#E5ECF6\",\"polar\":{\"angularaxis\":{\"gridcolor\":\"white\",\"linecolor\":\"white\",\"ticks\":\"\"},\"bgcolor\":\"#E5ECF6\",\"radialaxis\":{\"gridcolor\":\"white\",\"linecolor\":\"white\",\"ticks\":\"\"}},\"scene\":{\"xaxis\":{\"backgroundcolor\":\"#E5ECF6\",\"gridcolor\":\"white\",\"gridwidth\":2,\"linecolor\":\"white\",\"showbackground\":true,\"ticks\":\"\",\"zerolinecolor\":\"white\"},\"yaxis\":{\"backgroundcolor\":\"#E5ECF6\",\"gridcolor\":\"white\",\"gridwidth\":2,\"linecolor\":\"white\",\"showbackground\":true,\"ticks\":\"\",\"zerolinecolor\":\"white\"},\"zaxis\":{\"backgroundcolor\":\"#E5ECF6\",\"gridcolor\":\"white\",\"gridwidth\":2,\"linecolor\":\"white\",\"showbackground\":true,\"ticks\":\"\",\"zerolinecolor\":\"white\"}},\"shapedefaults\":{\"line\":{\"color\":\"#2a3f5f\"}},\"ternary\":{\"aaxis\":{\"gridcolor\":\"white\",\"linecolor\":\"white\",\"ticks\":\"\"},\"baxis\":{\"gridcolor\":\"white\",\"linecolor\":\"white\",\"ticks\":\"\"},\"bgcolor\":\"#E5ECF6\",\"caxis\":{\"gridcolor\":\"white\",\"linecolor\":\"white\",\"ticks\":\"\"}},\"title\":{\"x\":0.05},\"xaxis\":{\"automargin\":true,\"gridcolor\":\"white\",\"linecolor\":\"white\",\"ticks\":\"\",\"title\":{\"standoff\":15},\"zerolinecolor\":\"white\",\"zerolinewidth\":2},\"yaxis\":{\"automargin\":true,\"gridcolor\":\"white\",\"linecolor\":\"white\",\"ticks\":\"\",\"title\":{\"standoff\":15},\"zerolinecolor\":\"white\",\"zerolinewidth\":2}}},\"title\":{\"font\":{\"color\":\"#4D5663\"},\"text\":\"Topic 0: Top 100 bigrams after removing stop words\"},\"xaxis\":{\"gridcolor\":\"#E1E5ED\",\"linecolor\":\"black\",\"showgrid\":true,\"tickfont\":{\"color\":\"#4D5663\"},\"title\":{\"font\":{\"color\":\"#4D5663\"},\"text\":\"\"},\"zerolinecolor\":\"#E1E5ED\"},\"yaxis\":{\"gridcolor\":\"#E1E5ED\",\"linecolor\":\"black\",\"showgrid\":true,\"tickfont\":{\"color\":\"#4D5663\"},\"title\":{\"font\":{\"color\":\"#4D5663\"},\"text\":\"Count\"},\"zerolinecolor\":\"#E1E5ED\"}},                        {\"showLink\": true, \"linkText\": \"Export to plot.ly\", \"plotlyServerURL\": \"https://plot.ly\", \"responsive\": true}                    ).then(function(){\n",
       "                            \n",
       "var gd = document.getElementById('9fdec60e-6780-42e0-b2b8-4e14eddf197f');\n",
       "var x = new MutationObserver(function (mutations, observer) {{\n",
       "        var display = window.getComputedStyle(gd).display;\n",
       "        if (!display || display === 'none') {{\n",
       "            console.log([gd, 'removed!']);\n",
       "            Plotly.purge(gd);\n",
       "            observer.disconnect();\n",
       "        }}\n",
       "}});\n",
       "\n",
       "// Listen for the removal of the full notebook cells\n",
       "var notebookContainer = gd.closest('#notebook-container');\n",
       "if (notebookContainer) {{\n",
       "    x.observe(notebookContainer, {childList: true});\n",
       "}}\n",
       "\n",
       "// Listen for the clearing of the current output cell\n",
       "var outputEl = gd.closest('.output');\n",
       "if (outputEl) {{\n",
       "    x.observe(outputEl, {childList: true});\n",
       "}}\n",
       "\n",
       "                        })                };                });            </script>        </div>"
      ]
     },
     "metadata": {},
     "output_type": "display_data"
    }
   ],
   "source": [
    "plot_model(model=lsi, plot = 'bigram')"
   ]
  },
  {
   "cell_type": "code",
   "execution_count": 20,
   "id": "2fb4fa3d",
   "metadata": {},
   "outputs": [
    {
     "data": {
      "text/html": [
       "        <script type=\"text/javascript\">\n",
       "        window.PlotlyConfig = {MathJaxConfig: 'local'};\n",
       "        if (window.MathJax) {MathJax.Hub.Config({SVG: {font: \"STIX-Web\"}});}\n",
       "        if (typeof require !== 'undefined') {\n",
       "        require.undef(\"plotly\");\n",
       "        requirejs.config({\n",
       "            paths: {\n",
       "                'plotly': ['https://cdn.plot.ly/plotly-2.11.1.min']\n",
       "            }\n",
       "        });\n",
       "        require(['plotly'], function(Plotly) {\n",
       "            window._Plotly = Plotly;\n",
       "        });\n",
       "        }\n",
       "        </script>\n",
       "        "
      ]
     },
     "metadata": {},
     "output_type": "display_data"
    },
    {
     "data": {
      "application/vnd.plotly.v1+json": {
       "config": {
        "linkText": "Export to plot.ly",
        "plotlyServerURL": "https://plot.ly",
        "showLink": true
       },
       "data": [
        {
         "marker": {
          "color": "rgba(255, 153, 51, 0.6)",
          "line": {
           "color": "rgba(255, 153, 51, 1.0)",
           "width": 1
          }
         },
         "name": "count",
         "orientation": "v",
         "text": "",
         "type": "bar",
         "x": [
          "vive",
          "ante",
          "vender",
          "sin",
          "servirn",
          "services_please_visit_href",
          "pue",
          "periodo",
          "pablo",
          "mucho",
          "actividade",
          "mejore",
          "haca",
          "familiar",
          "era",
          "colindante",
          "cliente",
          "atend",
          "anteriore",
          "mifex_offers_client"
         ],
         "y": [
          2,
          1,
          1,
          1,
          1,
          1,
          1,
          1,
          1,
          1,
          1,
          1,
          1,
          1,
          1,
          1,
          1,
          1,
          1,
          1
         ]
        }
       ],
       "layout": {
        "autosize": true,
        "legend": {
         "bgcolor": "#F5F6F9",
         "font": {
          "color": "#4D5663"
         }
        },
        "paper_bgcolor": "#F5F6F9",
        "plot_bgcolor": "#F5F6F9",
        "template": {
         "data": {
          "bar": [
           {
            "error_x": {
             "color": "#2a3f5f"
            },
            "error_y": {
             "color": "#2a3f5f"
            },
            "marker": {
             "line": {
              "color": "#E5ECF6",
              "width": 0.5
             },
             "pattern": {
              "fillmode": "overlay",
              "size": 10,
              "solidity": 0.2
             }
            },
            "type": "bar"
           }
          ],
          "barpolar": [
           {
            "marker": {
             "line": {
              "color": "#E5ECF6",
              "width": 0.5
             },
             "pattern": {
              "fillmode": "overlay",
              "size": 10,
              "solidity": 0.2
             }
            },
            "type": "barpolar"
           }
          ],
          "carpet": [
           {
            "aaxis": {
             "endlinecolor": "#2a3f5f",
             "gridcolor": "white",
             "linecolor": "white",
             "minorgridcolor": "white",
             "startlinecolor": "#2a3f5f"
            },
            "baxis": {
             "endlinecolor": "#2a3f5f",
             "gridcolor": "white",
             "linecolor": "white",
             "minorgridcolor": "white",
             "startlinecolor": "#2a3f5f"
            },
            "type": "carpet"
           }
          ],
          "choropleth": [
           {
            "colorbar": {
             "outlinewidth": 0,
             "ticks": ""
            },
            "type": "choropleth"
           }
          ],
          "contour": [
           {
            "colorbar": {
             "outlinewidth": 0,
             "ticks": ""
            },
            "colorscale": [
             [
              0,
              "#0d0887"
             ],
             [
              0.1111111111111111,
              "#46039f"
             ],
             [
              0.2222222222222222,
              "#7201a8"
             ],
             [
              0.3333333333333333,
              "#9c179e"
             ],
             [
              0.4444444444444444,
              "#bd3786"
             ],
             [
              0.5555555555555556,
              "#d8576b"
             ],
             [
              0.6666666666666666,
              "#ed7953"
             ],
             [
              0.7777777777777778,
              "#fb9f3a"
             ],
             [
              0.8888888888888888,
              "#fdca26"
             ],
             [
              1,
              "#f0f921"
             ]
            ],
            "type": "contour"
           }
          ],
          "contourcarpet": [
           {
            "colorbar": {
             "outlinewidth": 0,
             "ticks": ""
            },
            "type": "contourcarpet"
           }
          ],
          "heatmap": [
           {
            "colorbar": {
             "outlinewidth": 0,
             "ticks": ""
            },
            "colorscale": [
             [
              0,
              "#0d0887"
             ],
             [
              0.1111111111111111,
              "#46039f"
             ],
             [
              0.2222222222222222,
              "#7201a8"
             ],
             [
              0.3333333333333333,
              "#9c179e"
             ],
             [
              0.4444444444444444,
              "#bd3786"
             ],
             [
              0.5555555555555556,
              "#d8576b"
             ],
             [
              0.6666666666666666,
              "#ed7953"
             ],
             [
              0.7777777777777778,
              "#fb9f3a"
             ],
             [
              0.8888888888888888,
              "#fdca26"
             ],
             [
              1,
              "#f0f921"
             ]
            ],
            "type": "heatmap"
           }
          ],
          "heatmapgl": [
           {
            "colorbar": {
             "outlinewidth": 0,
             "ticks": ""
            },
            "colorscale": [
             [
              0,
              "#0d0887"
             ],
             [
              0.1111111111111111,
              "#46039f"
             ],
             [
              0.2222222222222222,
              "#7201a8"
             ],
             [
              0.3333333333333333,
              "#9c179e"
             ],
             [
              0.4444444444444444,
              "#bd3786"
             ],
             [
              0.5555555555555556,
              "#d8576b"
             ],
             [
              0.6666666666666666,
              "#ed7953"
             ],
             [
              0.7777777777777778,
              "#fb9f3a"
             ],
             [
              0.8888888888888888,
              "#fdca26"
             ],
             [
              1,
              "#f0f921"
             ]
            ],
            "type": "heatmapgl"
           }
          ],
          "histogram": [
           {
            "marker": {
             "pattern": {
              "fillmode": "overlay",
              "size": 10,
              "solidity": 0.2
             }
            },
            "type": "histogram"
           }
          ],
          "histogram2d": [
           {
            "colorbar": {
             "outlinewidth": 0,
             "ticks": ""
            },
            "colorscale": [
             [
              0,
              "#0d0887"
             ],
             [
              0.1111111111111111,
              "#46039f"
             ],
             [
              0.2222222222222222,
              "#7201a8"
             ],
             [
              0.3333333333333333,
              "#9c179e"
             ],
             [
              0.4444444444444444,
              "#bd3786"
             ],
             [
              0.5555555555555556,
              "#d8576b"
             ],
             [
              0.6666666666666666,
              "#ed7953"
             ],
             [
              0.7777777777777778,
              "#fb9f3a"
             ],
             [
              0.8888888888888888,
              "#fdca26"
             ],
             [
              1,
              "#f0f921"
             ]
            ],
            "type": "histogram2d"
           }
          ],
          "histogram2dcontour": [
           {
            "colorbar": {
             "outlinewidth": 0,
             "ticks": ""
            },
            "colorscale": [
             [
              0,
              "#0d0887"
             ],
             [
              0.1111111111111111,
              "#46039f"
             ],
             [
              0.2222222222222222,
              "#7201a8"
             ],
             [
              0.3333333333333333,
              "#9c179e"
             ],
             [
              0.4444444444444444,
              "#bd3786"
             ],
             [
              0.5555555555555556,
              "#d8576b"
             ],
             [
              0.6666666666666666,
              "#ed7953"
             ],
             [
              0.7777777777777778,
              "#fb9f3a"
             ],
             [
              0.8888888888888888,
              "#fdca26"
             ],
             [
              1,
              "#f0f921"
             ]
            ],
            "type": "histogram2dcontour"
           }
          ],
          "mesh3d": [
           {
            "colorbar": {
             "outlinewidth": 0,
             "ticks": ""
            },
            "type": "mesh3d"
           }
          ],
          "parcoords": [
           {
            "line": {
             "colorbar": {
              "outlinewidth": 0,
              "ticks": ""
             }
            },
            "type": "parcoords"
           }
          ],
          "pie": [
           {
            "automargin": true,
            "type": "pie"
           }
          ],
          "scatter": [
           {
            "fillpattern": {
             "fillmode": "overlay",
             "size": 10,
             "solidity": 0.2
            },
            "type": "scatter"
           }
          ],
          "scatter3d": [
           {
            "line": {
             "colorbar": {
              "outlinewidth": 0,
              "ticks": ""
             }
            },
            "marker": {
             "colorbar": {
              "outlinewidth": 0,
              "ticks": ""
             }
            },
            "type": "scatter3d"
           }
          ],
          "scattercarpet": [
           {
            "marker": {
             "colorbar": {
              "outlinewidth": 0,
              "ticks": ""
             }
            },
            "type": "scattercarpet"
           }
          ],
          "scattergeo": [
           {
            "marker": {
             "colorbar": {
              "outlinewidth": 0,
              "ticks": ""
             }
            },
            "type": "scattergeo"
           }
          ],
          "scattergl": [
           {
            "marker": {
             "colorbar": {
              "outlinewidth": 0,
              "ticks": ""
             }
            },
            "type": "scattergl"
           }
          ],
          "scattermapbox": [
           {
            "marker": {
             "colorbar": {
              "outlinewidth": 0,
              "ticks": ""
             }
            },
            "type": "scattermapbox"
           }
          ],
          "scatterpolar": [
           {
            "marker": {
             "colorbar": {
              "outlinewidth": 0,
              "ticks": ""
             }
            },
            "type": "scatterpolar"
           }
          ],
          "scatterpolargl": [
           {
            "marker": {
             "colorbar": {
              "outlinewidth": 0,
              "ticks": ""
             }
            },
            "type": "scatterpolargl"
           }
          ],
          "scatterternary": [
           {
            "marker": {
             "colorbar": {
              "outlinewidth": 0,
              "ticks": ""
             }
            },
            "type": "scatterternary"
           }
          ],
          "surface": [
           {
            "colorbar": {
             "outlinewidth": 0,
             "ticks": ""
            },
            "colorscale": [
             [
              0,
              "#0d0887"
             ],
             [
              0.1111111111111111,
              "#46039f"
             ],
             [
              0.2222222222222222,
              "#7201a8"
             ],
             [
              0.3333333333333333,
              "#9c179e"
             ],
             [
              0.4444444444444444,
              "#bd3786"
             ],
             [
              0.5555555555555556,
              "#d8576b"
             ],
             [
              0.6666666666666666,
              "#ed7953"
             ],
             [
              0.7777777777777778,
              "#fb9f3a"
             ],
             [
              0.8888888888888888,
              "#fdca26"
             ],
             [
              1,
              "#f0f921"
             ]
            ],
            "type": "surface"
           }
          ],
          "table": [
           {
            "cells": {
             "fill": {
              "color": "#EBF0F8"
             },
             "line": {
              "color": "white"
             }
            },
            "header": {
             "fill": {
              "color": "#C8D4E3"
             },
             "line": {
              "color": "white"
             }
            },
            "type": "table"
           }
          ]
         },
         "layout": {
          "annotationdefaults": {
           "arrowcolor": "#2a3f5f",
           "arrowhead": 0,
           "arrowwidth": 1
          },
          "autotypenumbers": "strict",
          "coloraxis": {
           "colorbar": {
            "outlinewidth": 0,
            "ticks": ""
           }
          },
          "colorscale": {
           "diverging": [
            [
             0,
             "#8e0152"
            ],
            [
             0.1,
             "#c51b7d"
            ],
            [
             0.2,
             "#de77ae"
            ],
            [
             0.3,
             "#f1b6da"
            ],
            [
             0.4,
             "#fde0ef"
            ],
            [
             0.5,
             "#f7f7f7"
            ],
            [
             0.6,
             "#e6f5d0"
            ],
            [
             0.7,
             "#b8e186"
            ],
            [
             0.8,
             "#7fbc41"
            ],
            [
             0.9,
             "#4d9221"
            ],
            [
             1,
             "#276419"
            ]
           ],
           "sequential": [
            [
             0,
             "#0d0887"
            ],
            [
             0.1111111111111111,
             "#46039f"
            ],
            [
             0.2222222222222222,
             "#7201a8"
            ],
            [
             0.3333333333333333,
             "#9c179e"
            ],
            [
             0.4444444444444444,
             "#bd3786"
            ],
            [
             0.5555555555555556,
             "#d8576b"
            ],
            [
             0.6666666666666666,
             "#ed7953"
            ],
            [
             0.7777777777777778,
             "#fb9f3a"
            ],
            [
             0.8888888888888888,
             "#fdca26"
            ],
            [
             1,
             "#f0f921"
            ]
           ],
           "sequentialminus": [
            [
             0,
             "#0d0887"
            ],
            [
             0.1111111111111111,
             "#46039f"
            ],
            [
             0.2222222222222222,
             "#7201a8"
            ],
            [
             0.3333333333333333,
             "#9c179e"
            ],
            [
             0.4444444444444444,
             "#bd3786"
            ],
            [
             0.5555555555555556,
             "#d8576b"
            ],
            [
             0.6666666666666666,
             "#ed7953"
            ],
            [
             0.7777777777777778,
             "#fb9f3a"
            ],
            [
             0.8888888888888888,
             "#fdca26"
            ],
            [
             1,
             "#f0f921"
            ]
           ]
          },
          "colorway": [
           "#636efa",
           "#EF553B",
           "#00cc96",
           "#ab63fa",
           "#FFA15A",
           "#19d3f3",
           "#FF6692",
           "#B6E880",
           "#FF97FF",
           "#FECB52"
          ],
          "font": {
           "color": "#2a3f5f"
          },
          "geo": {
           "bgcolor": "white",
           "lakecolor": "white",
           "landcolor": "#E5ECF6",
           "showlakes": true,
           "showland": true,
           "subunitcolor": "white"
          },
          "hoverlabel": {
           "align": "left"
          },
          "hovermode": "closest",
          "mapbox": {
           "style": "light"
          },
          "paper_bgcolor": "white",
          "plot_bgcolor": "#E5ECF6",
          "polar": {
           "angularaxis": {
            "gridcolor": "white",
            "linecolor": "white",
            "ticks": ""
           },
           "bgcolor": "#E5ECF6",
           "radialaxis": {
            "gridcolor": "white",
            "linecolor": "white",
            "ticks": ""
           }
          },
          "scene": {
           "xaxis": {
            "backgroundcolor": "#E5ECF6",
            "gridcolor": "white",
            "gridwidth": 2,
            "linecolor": "white",
            "showbackground": true,
            "ticks": "",
            "zerolinecolor": "white"
           },
           "yaxis": {
            "backgroundcolor": "#E5ECF6",
            "gridcolor": "white",
            "gridwidth": 2,
            "linecolor": "white",
            "showbackground": true,
            "ticks": "",
            "zerolinecolor": "white"
           },
           "zaxis": {
            "backgroundcolor": "#E5ECF6",
            "gridcolor": "white",
            "gridwidth": 2,
            "linecolor": "white",
            "showbackground": true,
            "ticks": "",
            "zerolinecolor": "white"
           }
          },
          "shapedefaults": {
           "line": {
            "color": "#2a3f5f"
           }
          },
          "ternary": {
           "aaxis": {
            "gridcolor": "white",
            "linecolor": "white",
            "ticks": ""
           },
           "baxis": {
            "gridcolor": "white",
            "linecolor": "white",
            "ticks": ""
           },
           "bgcolor": "#E5ECF6",
           "caxis": {
            "gridcolor": "white",
            "linecolor": "white",
            "ticks": ""
           }
          },
          "title": {
           "x": 0.05
          },
          "xaxis": {
           "automargin": true,
           "gridcolor": "white",
           "linecolor": "white",
           "ticks": "",
           "title": {
            "standoff": 15
           },
           "zerolinecolor": "white",
           "zerolinewidth": 2
          },
          "yaxis": {
           "automargin": true,
           "gridcolor": "white",
           "linecolor": "white",
           "ticks": "",
           "title": {
            "standoff": 15
           },
           "zerolinecolor": "white",
           "zerolinewidth": 2
          }
         }
        },
        "title": {
         "font": {
          "color": "#4D5663"
         },
         "text": "Topic 2: Top 100 words after removing stop words"
        },
        "xaxis": {
         "autorange": true,
         "gridcolor": "#E1E5ED",
         "linecolor": "black",
         "range": [
          -0.5,
          19.5
         ],
         "showgrid": true,
         "tickfont": {
          "color": "#4D5663"
         },
         "title": {
          "font": {
           "color": "#4D5663"
          },
          "text": ""
         },
         "type": "category",
         "zerolinecolor": "#E1E5ED"
        },
        "yaxis": {
         "autorange": true,
         "gridcolor": "#E1E5ED",
         "linecolor": "black",
         "range": [
          0,
          2.1052631578947367
         ],
         "showgrid": true,
         "tickfont": {
          "color": "#4D5663"
         },
         "title": {
          "font": {
           "color": "#4D5663"
          },
          "text": "Count"
         },
         "type": "linear",
         "zerolinecolor": "#E1E5ED"
        }
       }
      },
      "image/png": "[encoded data removed]",
      "text/html": [
       "<div>                            <div id=\"683f5edb-3f0c-4340-837b-ad46f50a7c61\" class=\"plotly-graph-div\" style=\"height:525px; width:100%;\"></div>            <script type=\"text/javascript\">                require([\"plotly\"], function(Plotly) {                    window.PLOTLYENV=window.PLOTLYENV || {};\n",
       "                    window.PLOTLYENV.BASE_URL='https://plot.ly';                                    if (document.getElementById(\"683f5edb-3f0c-4340-837b-ad46f50a7c61\")) {                    Plotly.newPlot(                        \"683f5edb-3f0c-4340-837b-ad46f50a7c61\",                        [{\"marker\":{\"color\":\"rgba(255, 153, 51, 0.6)\",\"line\":{\"color\":\"rgba(255, 153, 51, 1.0)\",\"width\":1}},\"name\":\"count\",\"orientation\":\"v\",\"text\":\"\",\"x\":[\"vive\",\"ante\",\"vender\",\"sin\",\"servirn\",\"services_please_visit_href\",\"pue\",\"periodo\",\"pablo\",\"mucho\",\"actividade\",\"mejore\",\"haca\",\"familiar\",\"era\",\"colindante\",\"cliente\",\"atend\",\"anteriore\",\"mifex_offers_client\"],\"y\":[2,1,1,1,1,1,1,1,1,1,1,1,1,1,1,1,1,1,1,1],\"type\":\"bar\"}],                        {\"legend\":{\"bgcolor\":\"#F5F6F9\",\"font\":{\"color\":\"#4D5663\"}},\"paper_bgcolor\":\"#F5F6F9\",\"plot_bgcolor\":\"#F5F6F9\",\"template\":{\"data\":{\"barpolar\":[{\"marker\":{\"line\":{\"color\":\"#E5ECF6\",\"width\":0.5},\"pattern\":{\"fillmode\":\"overlay\",\"size\":10,\"solidity\":0.2}},\"type\":\"barpolar\"}],\"bar\":[{\"error_x\":{\"color\":\"#2a3f5f\"},\"error_y\":{\"color\":\"#2a3f5f\"},\"marker\":{\"line\":{\"color\":\"#E5ECF6\",\"width\":0.5},\"pattern\":{\"fillmode\":\"overlay\",\"size\":10,\"solidity\":0.2}},\"type\":\"bar\"}],\"carpet\":[{\"aaxis\":{\"endlinecolor\":\"#2a3f5f\",\"gridcolor\":\"white\",\"linecolor\":\"white\",\"minorgridcolor\":\"white\",\"startlinecolor\":\"#2a3f5f\"},\"baxis\":{\"endlinecolor\":\"#2a3f5f\",\"gridcolor\":\"white\",\"linecolor\":\"white\",\"minorgridcolor\":\"white\",\"startlinecolor\":\"#2a3f5f\"},\"type\":\"carpet\"}],\"choropleth\":[{\"colorbar\":{\"outlinewidth\":0,\"ticks\":\"\"},\"type\":\"choropleth\"}],\"contourcarpet\":[{\"colorbar\":{\"outlinewidth\":0,\"ticks\":\"\"},\"type\":\"contourcarpet\"}],\"contour\":[{\"colorbar\":{\"outlinewidth\":0,\"ticks\":\"\"},\"colorscale\":[[0.0,\"#0d0887\"],[0.1111111111111111,\"#46039f\"],[0.2222222222222222,\"#7201a8\"],[0.3333333333333333,\"#9c179e\"],[0.4444444444444444,\"#bd3786\"],[0.5555555555555556,\"#d8576b\"],[0.6666666666666666,\"#ed7953\"],[0.7777777777777778,\"#fb9f3a\"],[0.8888888888888888,\"#fdca26\"],[1.0,\"#f0f921\"]],\"type\":\"contour\"}],\"heatmapgl\":[{\"colorbar\":{\"outlinewidth\":0,\"ticks\":\"\"},\"colorscale\":[[0.0,\"#0d0887\"],[0.1111111111111111,\"#46039f\"],[0.2222222222222222,\"#7201a8\"],[0.3333333333333333,\"#9c179e\"],[0.4444444444444444,\"#bd3786\"],[0.5555555555555556,\"#d8576b\"],[0.6666666666666666,\"#ed7953\"],[0.7777777777777778,\"#fb9f3a\"],[0.8888888888888888,\"#fdca26\"],[1.0,\"#f0f921\"]],\"type\":\"heatmapgl\"}],\"heatmap\":[{\"colorbar\":{\"outlinewidth\":0,\"ticks\":\"\"},\"colorscale\":[[0.0,\"#0d0887\"],[0.1111111111111111,\"#46039f\"],[0.2222222222222222,\"#7201a8\"],[0.3333333333333333,\"#9c179e\"],[0.4444444444444444,\"#bd3786\"],[0.5555555555555556,\"#d8576b\"],[0.6666666666666666,\"#ed7953\"],[0.7777777777777778,\"#fb9f3a\"],[0.8888888888888888,\"#fdca26\"],[1.0,\"#f0f921\"]],\"type\":\"heatmap\"}],\"histogram2dcontour\":[{\"colorbar\":{\"outlinewidth\":0,\"ticks\":\"\"},\"colorscale\":[[0.0,\"#0d0887\"],[0.1111111111111111,\"#46039f\"],[0.2222222222222222,\"#7201a8\"],[0.3333333333333333,\"#9c179e\"],[0.4444444444444444,\"#bd3786\"],[0.5555555555555556,\"#d8576b\"],[0.6666666666666666,\"#ed7953\"],[0.7777777777777778,\"#fb9f3a\"],[0.8888888888888888,\"#fdca26\"],[1.0,\"#f0f921\"]],\"type\":\"histogram2dcontour\"}],\"histogram2d\":[{\"colorbar\":{\"outlinewidth\":0,\"ticks\":\"\"},\"colorscale\":[[0.0,\"#0d0887\"],[0.1111111111111111,\"#46039f\"],[0.2222222222222222,\"#7201a8\"],[0.3333333333333333,\"#9c179e\"],[0.4444444444444444,\"#bd3786\"],[0.5555555555555556,\"#d8576b\"],[0.6666666666666666,\"#ed7953\"],[0.7777777777777778,\"#fb9f3a\"],[0.8888888888888888,\"#fdca26\"],[1.0,\"#f0f921\"]],\"type\":\"histogram2d\"}],\"histogram\":[{\"marker\":{\"pattern\":{\"fillmode\":\"overlay\",\"size\":10,\"solidity\":0.2}},\"type\":\"histogram\"}],\"mesh3d\":[{\"colorbar\":{\"outlinewidth\":0,\"ticks\":\"\"},\"type\":\"mesh3d\"}],\"parcoords\":[{\"line\":{\"colorbar\":{\"outlinewidth\":0,\"ticks\":\"\"}},\"type\":\"parcoords\"}],\"pie\":[{\"automargin\":true,\"type\":\"pie\"}],\"scatter3d\":[{\"line\":{\"colorbar\":{\"outlinewidth\":0,\"ticks\":\"\"}},\"marker\":{\"colorbar\":{\"outlinewidth\":0,\"ticks\":\"\"}},\"type\":\"scatter3d\"}],\"scattercarpet\":[{\"marker\":{\"colorbar\":{\"outlinewidth\":0,\"ticks\":\"\"}},\"type\":\"scattercarpet\"}],\"scattergeo\":[{\"marker\":{\"colorbar\":{\"outlinewidth\":0,\"ticks\":\"\"}},\"type\":\"scattergeo\"}],\"scattergl\":[{\"marker\":{\"colorbar\":{\"outlinewidth\":0,\"ticks\":\"\"}},\"type\":\"scattergl\"}],\"scattermapbox\":[{\"marker\":{\"colorbar\":{\"outlinewidth\":0,\"ticks\":\"\"}},\"type\":\"scattermapbox\"}],\"scatterpolargl\":[{\"marker\":{\"colorbar\":{\"outlinewidth\":0,\"ticks\":\"\"}},\"type\":\"scatterpolargl\"}],\"scatterpolar\":[{\"marker\":{\"colorbar\":{\"outlinewidth\":0,\"ticks\":\"\"}},\"type\":\"scatterpolar\"}],\"scatter\":[{\"fillpattern\":{\"fillmode\":\"overlay\",\"size\":10,\"solidity\":0.2},\"type\":\"scatter\"}],\"scatterternary\":[{\"marker\":{\"colorbar\":{\"outlinewidth\":0,\"ticks\":\"\"}},\"type\":\"scatterternary\"}],\"surface\":[{\"colorbar\":{\"outlinewidth\":0,\"ticks\":\"\"},\"colorscale\":[[0.0,\"#0d0887\"],[0.1111111111111111,\"#46039f\"],[0.2222222222222222,\"#7201a8\"],[0.3333333333333333,\"#9c179e\"],[0.4444444444444444,\"#bd3786\"],[0.5555555555555556,\"#d8576b\"],[0.6666666666666666,\"#ed7953\"],[0.7777777777777778,\"#fb9f3a\"],[0.8888888888888888,\"#fdca26\"],[1.0,\"#f0f921\"]],\"type\":\"surface\"}],\"table\":[{\"cells\":{\"fill\":{\"color\":\"#EBF0F8\"},\"line\":{\"color\":\"white\"}},\"header\":{\"fill\":{\"color\":\"#C8D4E3\"},\"line\":{\"color\":\"white\"}},\"type\":\"table\"}]},\"layout\":{\"annotationdefaults\":{\"arrowcolor\":\"#2a3f5f\",\"arrowhead\":0,\"arrowwidth\":1},\"autotypenumbers\":\"strict\",\"coloraxis\":{\"colorbar\":{\"outlinewidth\":0,\"ticks\":\"\"}},\"colorscale\":{\"diverging\":[[0,\"#8e0152\"],[0.1,\"#c51b7d\"],[0.2,\"#de77ae\"],[0.3,\"#f1b6da\"],[0.4,\"#fde0ef\"],[0.5,\"#f7f7f7\"],[0.6,\"#e6f5d0\"],[0.7,\"#b8e186\"],[0.8,\"#7fbc41\"],[0.9,\"#4d9221\"],[1,\"#276419\"]],\"sequential\":[[0.0,\"#0d0887\"],[0.1111111111111111,\"#46039f\"],[0.2222222222222222,\"#7201a8\"],[0.3333333333333333,\"#9c179e\"],[0.4444444444444444,\"#bd3786\"],[0.5555555555555556,\"#d8576b\"],[0.6666666666666666,\"#ed7953\"],[0.7777777777777778,\"#fb9f3a\"],[0.8888888888888888,\"#fdca26\"],[1.0,\"#f0f921\"]],\"sequentialminus\":[[0.0,\"#0d0887\"],[0.1111111111111111,\"#46039f\"],[0.2222222222222222,\"#7201a8\"],[0.3333333333333333,\"#9c179e\"],[0.4444444444444444,\"#bd3786\"],[0.5555555555555556,\"#d8576b\"],[0.6666666666666666,\"#ed7953\"],[0.7777777777777778,\"#fb9f3a\"],[0.8888888888888888,\"#fdca26\"],[1.0,\"#f0f921\"]]},\"colorway\":[\"#636efa\",\"#EF553B\",\"#00cc96\",\"#ab63fa\",\"#FFA15A\",\"#19d3f3\",\"#FF6692\",\"#B6E880\",\"#FF97FF\",\"#FECB52\"],\"font\":{\"color\":\"#2a3f5f\"},\"geo\":{\"bgcolor\":\"white\",\"lakecolor\":\"white\",\"landcolor\":\"#E5ECF6\",\"showlakes\":true,\"showland\":true,\"subunitcolor\":\"white\"},\"hoverlabel\":{\"align\":\"left\"},\"hovermode\":\"closest\",\"mapbox\":{\"style\":\"light\"},\"paper_bgcolor\":\"white\",\"plot_bgcolor\":\"#E5ECF6\",\"polar\":{\"angularaxis\":{\"gridcolor\":\"white\",\"linecolor\":\"white\",\"ticks\":\"\"},\"bgcolor\":\"#E5ECF6\",\"radialaxis\":{\"gridcolor\":\"white\",\"linecolor\":\"white\",\"ticks\":\"\"}},\"scene\":{\"xaxis\":{\"backgroundcolor\":\"#E5ECF6\",\"gridcolor\":\"white\",\"gridwidth\":2,\"linecolor\":\"white\",\"showbackground\":true,\"ticks\":\"\",\"zerolinecolor\":\"white\"},\"yaxis\":{\"backgroundcolor\":\"#E5ECF6\",\"gridcolor\":\"white\",\"gridwidth\":2,\"linecolor\":\"white\",\"showbackground\":true,\"ticks\":\"\",\"zerolinecolor\":\"white\"},\"zaxis\":{\"backgroundcolor\":\"#E5ECF6\",\"gridcolor\":\"white\",\"gridwidth\":2,\"linecolor\":\"white\",\"showbackground\":true,\"ticks\":\"\",\"zerolinecolor\":\"white\"}},\"shapedefaults\":{\"line\":{\"color\":\"#2a3f5f\"}},\"ternary\":{\"aaxis\":{\"gridcolor\":\"white\",\"linecolor\":\"white\",\"ticks\":\"\"},\"baxis\":{\"gridcolor\":\"white\",\"linecolor\":\"white\",\"ticks\":\"\"},\"bgcolor\":\"#E5ECF6\",\"caxis\":{\"gridcolor\":\"white\",\"linecolor\":\"white\",\"ticks\":\"\"}},\"title\":{\"x\":0.05},\"xaxis\":{\"automargin\":true,\"gridcolor\":\"white\",\"linecolor\":\"white\",\"ticks\":\"\",\"title\":{\"standoff\":15},\"zerolinecolor\":\"white\",\"zerolinewidth\":2},\"yaxis\":{\"automargin\":true,\"gridcolor\":\"white\",\"linecolor\":\"white\",\"ticks\":\"\",\"title\":{\"standoff\":15},\"zerolinecolor\":\"white\",\"zerolinewidth\":2}}},\"title\":{\"font\":{\"color\":\"#4D5663\"},\"text\":\"Topic 2: Top 100 words after removing stop words\"},\"xaxis\":{\"gridcolor\":\"#E1E5ED\",\"linecolor\":\"black\",\"showgrid\":true,\"tickfont\":{\"color\":\"#4D5663\"},\"title\":{\"font\":{\"color\":\"#4D5663\"},\"text\":\"\"},\"zerolinecolor\":\"#E1E5ED\"},\"yaxis\":{\"gridcolor\":\"#E1E5ED\",\"linecolor\":\"black\",\"showgrid\":true,\"tickfont\":{\"color\":\"#4D5663\"},\"title\":{\"font\":{\"color\":\"#4D5663\"},\"text\":\"Count\"},\"zerolinecolor\":\"#E1E5ED\"}},                        {\"showLink\": true, \"linkText\": \"Export to plot.ly\", \"plotlyServerURL\": \"https://plot.ly\", \"responsive\": true}                    ).then(function(){\n",
       "                            \n",
       "var gd = document.getElementById('683f5edb-3f0c-4340-837b-ad46f50a7c61');\n",
       "var x = new MutationObserver(function (mutations, observer) {{\n",
       "        var display = window.getComputedStyle(gd).display;\n",
       "        if (!display || display === 'none') {{\n",
       "            console.log([gd, 'removed!']);\n",
       "            Plotly.purge(gd);\n",
       "            observer.disconnect();\n",
       "        }}\n",
       "}});\n",
       "\n",
       "// Listen for the removal of the full notebook cells\n",
       "var notebookContainer = gd.closest('#notebook-container');\n",
       "if (notebookContainer) {{\n",
       "    x.observe(notebookContainer, {childList: true});\n",
       "}}\n",
       "\n",
       "// Listen for the clearing of the current output cell\n",
       "var outputEl = gd.closest('.output');\n",
       "if (outputEl) {{\n",
       "    x.observe(outputEl, {childList: true});\n",
       "}}\n",
       "\n",
       "                        })                };                });            </script>        </div>"
      ]
     },
     "metadata": {},
     "output_type": "display_data"
    }
   ],
   "source": [
    "plot_model(lsi, plot = 'frequency', topic_num = 'Topic 2')"
   ]
  },
  {
   "cell_type": "code",
   "execution_count": 21,
   "id": "7bb2e0d1",
   "metadata": {},
   "outputs": [
    {
     "data": {
      "text/html": [
       "        <script type=\"text/javascript\">\n",
       "        window.PlotlyConfig = {MathJaxConfig: 'local'};\n",
       "        if (window.MathJax) {MathJax.Hub.Config({SVG: {font: \"STIX-Web\"}});}\n",
       "        if (typeof require !== 'undefined') {\n",
       "        require.undef(\"plotly\");\n",
       "        requirejs.config({\n",
       "            paths: {\n",
       "                'plotly': ['https://cdn.plot.ly/plotly-2.11.1.min']\n",
       "            }\n",
       "        });\n",
       "        require(['plotly'], function(Plotly) {\n",
       "            window._Plotly = Plotly;\n",
       "        });\n",
       "        }\n",
       "        </script>\n",
       "        "
      ]
     },
     "metadata": {},
     "output_type": "display_data"
    },
    {
     "data": {
      "application/vnd.plotly.v1+json": {
       "config": {
        "plotlyServerURL": "https://plot.ly"
       },
       "data": [
        {
         "alignmentgroup": "True",
         "customdata": [
          [
           "use, work, small, family, group, help, rice, start, live, husband"
          ],
          [
           "rice, farmer, land, sector, small, crop, work, farm, area, start"
          ],
          [
           "group, member, product, use, home, help, work, pay, order, husband"
          ],
          [
           "work, group, stock, family, high, increase, member, request, home, husband"
          ]
         ],
         "hovertemplate": "Topic=%{x}<br>Documents=%{y}<br>Keyword=%{customdata[0]}<extra></extra>",
         "legendgroup": "",
         "marker": {
          "color": "#636efa",
          "pattern": {
           "shape": ""
          }
         },
         "name": "",
         "offsetgroup": "",
         "orientation": "v",
         "showlegend": false,
         "textposition": "auto",
         "type": "bar",
         "x": [
          "Topic 0",
          "Topic 1",
          "Topic 2",
          "Topic 3"
         ],
         "xaxis": "x",
         "y": [
          946,
          24,
          3,
          27
         ],
         "yaxis": "y"
        }
       ],
       "layout": {
        "autosize": true,
        "barmode": "relative",
        "legend": {
         "tracegroupgap": 0
        },
        "template": {
         "data": {
          "bar": [
           {
            "error_x": {
             "color": "#2a3f5f"
            },
            "error_y": {
             "color": "#2a3f5f"
            },
            "marker": {
             "line": {
              "color": "#E5ECF6",
              "width": 0.5
             },
             "pattern": {
              "fillmode": "overlay",
              "size": 10,
              "solidity": 0.2
             }
            },
            "type": "bar"
           }
          ],
          "barpolar": [
           {
            "marker": {
             "line": {
              "color": "#E5ECF6",
              "width": 0.5
             },
             "pattern": {
              "fillmode": "overlay",
              "size": 10,
              "solidity": 0.2
             }
            },
            "type": "barpolar"
           }
          ],
          "carpet": [
           {
            "aaxis": {
             "endlinecolor": "#2a3f5f",
             "gridcolor": "white",
             "linecolor": "white",
             "minorgridcolor": "white",
             "startlinecolor": "#2a3f5f"
            },
            "baxis": {
             "endlinecolor": "#2a3f5f",
             "gridcolor": "white",
             "linecolor": "white",
             "minorgridcolor": "white",
             "startlinecolor": "#2a3f5f"
            },
            "type": "carpet"
           }
          ],
          "choropleth": [
           {
            "colorbar": {
             "outlinewidth": 0,
             "ticks": ""
            },
            "type": "choropleth"
           }
          ],
          "contour": [
           {
            "colorbar": {
             "outlinewidth": 0,
             "ticks": ""
            },
            "colorscale": [
             [
              0,
              "#0d0887"
             ],
             [
              0.1111111111111111,
              "#46039f"
             ],
             [
              0.2222222222222222,
              "#7201a8"
             ],
             [
              0.3333333333333333,
              "#9c179e"
             ],
             [
              0.4444444444444444,
              "#bd3786"
             ],
             [
              0.5555555555555556,
              "#d8576b"
             ],
             [
              0.6666666666666666,
              "#ed7953"
             ],
             [
              0.7777777777777778,
              "#fb9f3a"
             ],
             [
              0.8888888888888888,
              "#fdca26"
             ],
             [
              1,
              "#f0f921"
             ]
            ],
            "type": "contour"
           }
          ],
          "contourcarpet": [
           {
            "colorbar": {
             "outlinewidth": 0,
             "ticks": ""
            },
            "type": "contourcarpet"
           }
          ],
          "heatmap": [
           {
            "colorbar": {
             "outlinewidth": 0,
             "ticks": ""
            },
            "colorscale": [
             [
              0,
              "#0d0887"
             ],
             [
              0.1111111111111111,
              "#46039f"
             ],
             [
              0.2222222222222222,
              "#7201a8"
             ],
             [
              0.3333333333333333,
              "#9c179e"
             ],
             [
              0.4444444444444444,
              "#bd3786"
             ],
             [
              0.5555555555555556,
              "#d8576b"
             ],
             [
              0.6666666666666666,
              "#ed7953"
             ],
             [
              0.7777777777777778,
              "#fb9f3a"
             ],
             [
              0.8888888888888888,
              "#fdca26"
             ],
             [
              1,
              "#f0f921"
             ]
            ],
            "type": "heatmap"
           }
          ],
          "heatmapgl": [
           {
            "colorbar": {
             "outlinewidth": 0,
             "ticks": ""
            },
            "colorscale": [
             [
              0,
              "#0d0887"
             ],
             [
              0.1111111111111111,
              "#46039f"
             ],
             [
              0.2222222222222222,
              "#7201a8"
             ],
             [
              0.3333333333333333,
              "#9c179e"
             ],
             [
              0.4444444444444444,
              "#bd3786"
             ],
             [
              0.5555555555555556,
              "#d8576b"
             ],
             [
              0.6666666666666666,
              "#ed7953"
             ],
             [
              0.7777777777777778,
              "#fb9f3a"
             ],
             [
              0.8888888888888888,
              "#fdca26"
             ],
             [
              1,
              "#f0f921"
             ]
            ],
            "type": "heatmapgl"
           }
          ],
          "histogram": [
           {
            "marker": {
             "pattern": {
              "fillmode": "overlay",
              "size": 10,
              "solidity": 0.2
             }
            },
            "type": "histogram"
           }
          ],
          "histogram2d": [
           {
            "colorbar": {
             "outlinewidth": 0,
             "ticks": ""
            },
            "colorscale": [
             [
              0,
              "#0d0887"
             ],
             [
              0.1111111111111111,
              "#46039f"
             ],
             [
              0.2222222222222222,
              "#7201a8"
             ],
             [
              0.3333333333333333,
              "#9c179e"
             ],
             [
              0.4444444444444444,
              "#bd3786"
             ],
             [
              0.5555555555555556,
              "#d8576b"
             ],
             [
              0.6666666666666666,
              "#ed7953"
             ],
             [
              0.7777777777777778,
              "#fb9f3a"
             ],
             [
              0.8888888888888888,
              "#fdca26"
             ],
             [
              1,
              "#f0f921"
             ]
            ],
            "type": "histogram2d"
           }
          ],
          "histogram2dcontour": [
           {
            "colorbar": {
             "outlinewidth": 0,
             "ticks": ""
            },
            "colorscale": [
             [
              0,
              "#0d0887"
             ],
             [
              0.1111111111111111,
              "#46039f"
             ],
             [
              0.2222222222222222,
              "#7201a8"
             ],
             [
              0.3333333333333333,
              "#9c179e"
             ],
             [
              0.4444444444444444,
              "#bd3786"
             ],
             [
              0.5555555555555556,
              "#d8576b"
             ],
             [
              0.6666666666666666,
              "#ed7953"
             ],
             [
              0.7777777777777778,
              "#fb9f3a"
             ],
             [
              0.8888888888888888,
              "#fdca26"
             ],
             [
              1,
              "#f0f921"
             ]
            ],
            "type": "histogram2dcontour"
           }
          ],
          "mesh3d": [
           {
            "colorbar": {
             "outlinewidth": 0,
             "ticks": ""
            },
            "type": "mesh3d"
           }
          ],
          "parcoords": [
           {
            "line": {
             "colorbar": {
              "outlinewidth": 0,
              "ticks": ""
             }
            },
            "type": "parcoords"
           }
          ],
          "pie": [
           {
            "automargin": true,
            "type": "pie"
           }
          ],
          "scatter": [
           {
            "fillpattern": {
             "fillmode": "overlay",
             "size": 10,
             "solidity": 0.2
            },
            "type": "scatter"
           }
          ],
          "scatter3d": [
           {
            "line": {
             "colorbar": {
              "outlinewidth": 0,
              "ticks": ""
             }
            },
            "marker": {
             "colorbar": {
              "outlinewidth": 0,
              "ticks": ""
             }
            },
            "type": "scatter3d"
           }
          ],
          "scattercarpet": [
           {
            "marker": {
             "colorbar": {
              "outlinewidth": 0,
              "ticks": ""
             }
            },
            "type": "scattercarpet"
           }
          ],
          "scattergeo": [
           {
            "marker": {
             "colorbar": {
              "outlinewidth": 0,
              "ticks": ""
             }
            },
            "type": "scattergeo"
           }
          ],
          "scattergl": [
           {
            "marker": {
             "colorbar": {
              "outlinewidth": 0,
              "ticks": ""
             }
            },
            "type": "scattergl"
           }
          ],
          "scattermapbox": [
           {
            "marker": {
             "colorbar": {
              "outlinewidth": 0,
              "ticks": ""
             }
            },
            "type": "scattermapbox"
           }
          ],
          "scatterpolar": [
           {
            "marker": {
             "colorbar": {
              "outlinewidth": 0,
              "ticks": ""
             }
            },
            "type": "scatterpolar"
           }
          ],
          "scatterpolargl": [
           {
            "marker": {
             "colorbar": {
              "outlinewidth": 0,
              "ticks": ""
             }
            },
            "type": "scatterpolargl"
           }
          ],
          "scatterternary": [
           {
            "marker": {
             "colorbar": {
              "outlinewidth": 0,
              "ticks": ""
             }
            },
            "type": "scatterternary"
           }
          ],
          "surface": [
           {
            "colorbar": {
             "outlinewidth": 0,
             "ticks": ""
            },
            "colorscale": [
             [
              0,
              "#0d0887"
             ],
             [
              0.1111111111111111,
              "#46039f"
             ],
             [
              0.2222222222222222,
              "#7201a8"
             ],
             [
              0.3333333333333333,
              "#9c179e"
             ],
             [
              0.4444444444444444,
              "#bd3786"
             ],
             [
              0.5555555555555556,
              "#d8576b"
             ],
             [
              0.6666666666666666,
              "#ed7953"
             ],
             [
              0.7777777777777778,
              "#fb9f3a"
             ],
             [
              0.8888888888888888,
              "#fdca26"
             ],
             [
              1,
              "#f0f921"
             ]
            ],
            "type": "surface"
           }
          ],
          "table": [
           {
            "cells": {
             "fill": {
              "color": "#EBF0F8"
             },
             "line": {
              "color": "white"
             }
            },
            "header": {
             "fill": {
              "color": "#C8D4E3"
             },
             "line": {
              "color": "white"
             }
            },
            "type": "table"
           }
          ]
         },
         "layout": {
          "annotationdefaults": {
           "arrowcolor": "#2a3f5f",
           "arrowhead": 0,
           "arrowwidth": 1
          },
          "autotypenumbers": "strict",
          "coloraxis": {
           "colorbar": {
            "outlinewidth": 0,
            "ticks": ""
           }
          },
          "colorscale": {
           "diverging": [
            [
             0,
             "#8e0152"
            ],
            [
             0.1,
             "#c51b7d"
            ],
            [
             0.2,
             "#de77ae"
            ],
            [
             0.3,
             "#f1b6da"
            ],
            [
             0.4,
             "#fde0ef"
            ],
            [
             0.5,
             "#f7f7f7"
            ],
            [
             0.6,
             "#e6f5d0"
            ],
            [
             0.7,
             "#b8e186"
            ],
            [
             0.8,
             "#7fbc41"
            ],
            [
             0.9,
             "#4d9221"
            ],
            [
             1,
             "#276419"
            ]
           ],
           "sequential": [
            [
             0,
             "#0d0887"
            ],
            [
             0.1111111111111111,
             "#46039f"
            ],
            [
             0.2222222222222222,
             "#7201a8"
            ],
            [
             0.3333333333333333,
             "#9c179e"
            ],
            [
             0.4444444444444444,
             "#bd3786"
            ],
            [
             0.5555555555555556,
             "#d8576b"
            ],
            [
             0.6666666666666666,
             "#ed7953"
            ],
            [
             0.7777777777777778,
             "#fb9f3a"
            ],
            [
             0.8888888888888888,
             "#fdca26"
            ],
            [
             1,
             "#f0f921"
            ]
           ],
           "sequentialminus": [
            [
             0,
             "#0d0887"
            ],
            [
             0.1111111111111111,
             "#46039f"
            ],
            [
             0.2222222222222222,
             "#7201a8"
            ],
            [
             0.3333333333333333,
             "#9c179e"
            ],
            [
             0.4444444444444444,
             "#bd3786"
            ],
            [
             0.5555555555555556,
             "#d8576b"
            ],
            [
             0.6666666666666666,
             "#ed7953"
            ],
            [
             0.7777777777777778,
             "#fb9f3a"
            ],
            [
             0.8888888888888888,
             "#fdca26"
            ],
            [
             1,
             "#f0f921"
            ]
           ]
          },
          "colorway": [
           "#636efa",
           "#EF553B",
           "#00cc96",
           "#ab63fa",
           "#FFA15A",
           "#19d3f3",
           "#FF6692",
           "#B6E880",
           "#FF97FF",
           "#FECB52"
          ],
          "font": {
           "color": "#2a3f5f"
          },
          "geo": {
           "bgcolor": "white",
           "lakecolor": "white",
           "landcolor": "#E5ECF6",
           "showlakes": true,
           "showland": true,
           "subunitcolor": "white"
          },
          "hoverlabel": {
           "align": "left"
          },
          "hovermode": "closest",
          "mapbox": {
           "style": "light"
          },
          "paper_bgcolor": "white",
          "plot_bgcolor": "#E5ECF6",
          "polar": {
           "angularaxis": {
            "gridcolor": "white",
            "linecolor": "white",
            "ticks": ""
           },
           "bgcolor": "#E5ECF6",
           "radialaxis": {
            "gridcolor": "white",
            "linecolor": "white",
            "ticks": ""
           }
          },
          "scene": {
           "xaxis": {
            "backgroundcolor": "#E5ECF6",
            "gridcolor": "white",
            "gridwidth": 2,
            "linecolor": "white",
            "showbackground": true,
            "ticks": "",
            "zerolinecolor": "white"
           },
           "yaxis": {
            "backgroundcolor": "#E5ECF6",
            "gridcolor": "white",
            "gridwidth": 2,
            "linecolor": "white",
            "showbackground": true,
            "ticks": "",
            "zerolinecolor": "white"
           },
           "zaxis": {
            "backgroundcolor": "#E5ECF6",
            "gridcolor": "white",
            "gridwidth": 2,
            "linecolor": "white",
            "showbackground": true,
            "ticks": "",
            "zerolinecolor": "white"
           }
          },
          "shapedefaults": {
           "line": {
            "color": "#2a3f5f"
           }
          },
          "ternary": {
           "aaxis": {
            "gridcolor": "white",
            "linecolor": "white",
            "ticks": ""
           },
           "baxis": {
            "gridcolor": "white",
            "linecolor": "white",
            "ticks": ""
           },
           "bgcolor": "#E5ECF6",
           "caxis": {
            "gridcolor": "white",
            "linecolor": "white",
            "ticks": ""
           }
          },
          "title": {
           "x": 0.05
          },
          "xaxis": {
           "automargin": true,
           "gridcolor": "white",
           "linecolor": "white",
           "ticks": "",
           "title": {
            "standoff": 15
           },
           "zerolinecolor": "white",
           "zerolinewidth": 2
          },
          "yaxis": {
           "automargin": true,
           "gridcolor": "white",
           "linecolor": "white",
           "ticks": "",
           "title": {
            "standoff": 15
           },
           "zerolinecolor": "white",
           "zerolinewidth": 2
          }
         }
        },
        "title": {
         "text": "Document Distribution by Topics"
        },
        "xaxis": {
         "anchor": "y",
         "autorange": true,
         "domain": [
          0,
          1
         ],
         "range": [
          -0.5,
          3.5
         ],
         "title": {
          "text": "Topic"
         },
         "type": "category"
        },
        "yaxis": {
         "anchor": "x",
         "autorange": true,
         "domain": [
          0,
          1
         ],
         "range": [
          0,
          995.7894736842105
         ],
         "title": {
          "text": "Documents"
         },
         "type": "linear"
        }
       }
      },
      "image/png": "[encoded data removed]",
      "text/html": [
       "<div>                            <div id=\"179a37da-43bb-4e5b-8998-20d239fb47a0\" class=\"plotly-graph-div\" style=\"height:525px; width:100%;\"></div>            <script type=\"text/javascript\">                require([\"plotly\"], function(Plotly) {                    window.PLOTLYENV=window.PLOTLYENV || {};                                    if (document.getElementById(\"179a37da-43bb-4e5b-8998-20d239fb47a0\")) {                    Plotly.newPlot(                        \"179a37da-43bb-4e5b-8998-20d239fb47a0\",                        [{\"alignmentgroup\":\"True\",\"customdata\":[[\"use, work, small, family, group, help, rice, start, live, husband\"],[\"rice, farmer, land, sector, small, crop, work, farm, area, start\"],[\"group, member, product, use, home, help, work, pay, order, husband\"],[\"work, group, stock, family, high, increase, member, request, home, husband\"]],\"hovertemplate\":\"Topic=%{x}<br>Documents=%{y}<br>Keyword=%{customdata[0]}<extra></extra>\",\"legendgroup\":\"\",\"marker\":{\"color\":\"#636efa\",\"pattern\":{\"shape\":\"\"}},\"name\":\"\",\"offsetgroup\":\"\",\"orientation\":\"v\",\"showlegend\":false,\"textposition\":\"auto\",\"x\":[\"Topic 0\",\"Topic 1\",\"Topic 2\",\"Topic 3\"],\"xaxis\":\"x\",\"y\":[946,24,3,27],\"yaxis\":\"y\",\"type\":\"bar\"}],                        {\"template\":{\"data\":{\"histogram2dcontour\":[{\"type\":\"histogram2dcontour\",\"colorbar\":{\"outlinewidth\":0,\"ticks\":\"\"},\"colorscale\":[[0.0,\"#0d0887\"],[0.1111111111111111,\"#46039f\"],[0.2222222222222222,\"#7201a8\"],[0.3333333333333333,\"#9c179e\"],[0.4444444444444444,\"#bd3786\"],[0.5555555555555556,\"#d8576b\"],[0.6666666666666666,\"#ed7953\"],[0.7777777777777778,\"#fb9f3a\"],[0.8888888888888888,\"#fdca26\"],[1.0,\"#f0f921\"]]}],\"choropleth\":[{\"type\":\"choropleth\",\"colorbar\":{\"outlinewidth\":0,\"ticks\":\"\"}}],\"histogram2d\":[{\"type\":\"histogram2d\",\"colorbar\":{\"outlinewidth\":0,\"ticks\":\"\"},\"colorscale\":[[0.0,\"#0d0887\"],[0.1111111111111111,\"#46039f\"],[0.2222222222222222,\"#7201a8\"],[0.3333333333333333,\"#9c179e\"],[0.4444444444444444,\"#bd3786\"],[0.5555555555555556,\"#d8576b\"],[0.6666666666666666,\"#ed7953\"],[0.7777777777777778,\"#fb9f3a\"],[0.8888888888888888,\"#fdca26\"],[1.0,\"#f0f921\"]]}],\"heatmap\":[{\"type\":\"heatmap\",\"colorbar\":{\"outlinewidth\":0,\"ticks\":\"\"},\"colorscale\":[[0.0,\"#0d0887\"],[0.1111111111111111,\"#46039f\"],[0.2222222222222222,\"#7201a8\"],[0.3333333333333333,\"#9c179e\"],[0.4444444444444444,\"#bd3786\"],[0.5555555555555556,\"#d8576b\"],[0.6666666666666666,\"#ed7953\"],[0.7777777777777778,\"#fb9f3a\"],[0.8888888888888888,\"#fdca26\"],[1.0,\"#f0f921\"]]}],\"heatmapgl\":[{\"type\":\"heatmapgl\",\"colorbar\":{\"outlinewidth\":0,\"ticks\":\"\"},\"colorscale\":[[0.0,\"#0d0887\"],[0.1111111111111111,\"#46039f\"],[0.2222222222222222,\"#7201a8\"],[0.3333333333333333,\"#9c179e\"],[0.4444444444444444,\"#bd3786\"],[0.5555555555555556,\"#d8576b\"],[0.6666666666666666,\"#ed7953\"],[0.7777777777777778,\"#fb9f3a\"],[0.8888888888888888,\"#fdca26\"],[1.0,\"#f0f921\"]]}],\"contourcarpet\":[{\"type\":\"contourcarpet\",\"colorbar\":{\"outlinewidth\":0,\"ticks\":\"\"}}],\"contour\":[{\"type\":\"contour\",\"colorbar\":{\"outlinewidth\":0,\"ticks\":\"\"},\"colorscale\":[[0.0,\"#0d0887\"],[0.1111111111111111,\"#46039f\"],[0.2222222222222222,\"#7201a8\"],[0.3333333333333333,\"#9c179e\"],[0.4444444444444444,\"#bd3786\"],[0.5555555555555556,\"#d8576b\"],[0.6666666666666666,\"#ed7953\"],[0.7777777777777778,\"#fb9f3a\"],[0.8888888888888888,\"#fdca26\"],[1.0,\"#f0f921\"]]}],\"surface\":[{\"type\":\"surface\",\"colorbar\":{\"outlinewidth\":0,\"ticks\":\"\"},\"colorscale\":[[0.0,\"#0d0887\"],[0.1111111111111111,\"#46039f\"],[0.2222222222222222,\"#7201a8\"],[0.3333333333333333,\"#9c179e\"],[0.4444444444444444,\"#bd3786\"],[0.5555555555555556,\"#d8576b\"],[0.6666666666666666,\"#ed7953\"],[0.7777777777777778,\"#fb9f3a\"],[0.8888888888888888,\"#fdca26\"],[1.0,\"#f0f921\"]]}],\"mesh3d\":[{\"type\":\"mesh3d\",\"colorbar\":{\"outlinewidth\":0,\"ticks\":\"\"}}],\"scatter\":[{\"fillpattern\":{\"fillmode\":\"overlay\",\"size\":10,\"solidity\":0.2},\"type\":\"scatter\"}],\"parcoords\":[{\"type\":\"parcoords\",\"line\":{\"colorbar\":{\"outlinewidth\":0,\"ticks\":\"\"}}}],\"scatterpolargl\":[{\"type\":\"scatterpolargl\",\"marker\":{\"colorbar\":{\"outlinewidth\":0,\"ticks\":\"\"}}}],\"bar\":[{\"error_x\":{\"color\":\"#2a3f5f\"},\"error_y\":{\"color\":\"#2a3f5f\"},\"marker\":{\"line\":{\"color\":\"#E5ECF6\",\"width\":0.5},\"pattern\":{\"fillmode\":\"overlay\",\"size\":10,\"solidity\":0.2}},\"type\":\"bar\"}],\"scattergeo\":[{\"type\":\"scattergeo\",\"marker\":{\"colorbar\":{\"outlinewidth\":0,\"ticks\":\"\"}}}],\"scatterpolar\":[{\"type\":\"scatterpolar\",\"marker\":{\"colorbar\":{\"outlinewidth\":0,\"ticks\":\"\"}}}],\"histogram\":[{\"marker\":{\"pattern\":{\"fillmode\":\"overlay\",\"size\":10,\"solidity\":0.2}},\"type\":\"histogram\"}],\"scattergl\":[{\"type\":\"scattergl\",\"marker\":{\"colorbar\":{\"outlinewidth\":0,\"ticks\":\"\"}}}],\"scatter3d\":[{\"type\":\"scatter3d\",\"line\":{\"colorbar\":{\"outlinewidth\":0,\"ticks\":\"\"}},\"marker\":{\"colorbar\":{\"outlinewidth\":0,\"ticks\":\"\"}}}],\"scattermapbox\":[{\"type\":\"scattermapbox\",\"marker\":{\"colorbar\":{\"outlinewidth\":0,\"ticks\":\"\"}}}],\"scatterternary\":[{\"type\":\"scatterternary\",\"marker\":{\"colorbar\":{\"outlinewidth\":0,\"ticks\":\"\"}}}],\"scattercarpet\":[{\"type\":\"scattercarpet\",\"marker\":{\"colorbar\":{\"outlinewidth\":0,\"ticks\":\"\"}}}],\"carpet\":[{\"aaxis\":{\"endlinecolor\":\"#2a3f5f\",\"gridcolor\":\"white\",\"linecolor\":\"white\",\"minorgridcolor\":\"white\",\"startlinecolor\":\"#2a3f5f\"},\"baxis\":{\"endlinecolor\":\"#2a3f5f\",\"gridcolor\":\"white\",\"linecolor\":\"white\",\"minorgridcolor\":\"white\",\"startlinecolor\":\"#2a3f5f\"},\"type\":\"carpet\"}],\"table\":[{\"cells\":{\"fill\":{\"color\":\"#EBF0F8\"},\"line\":{\"color\":\"white\"}},\"header\":{\"fill\":{\"color\":\"#C8D4E3\"},\"line\":{\"color\":\"white\"}},\"type\":\"table\"}],\"barpolar\":[{\"marker\":{\"line\":{\"color\":\"#E5ECF6\",\"width\":0.5},\"pattern\":{\"fillmode\":\"overlay\",\"size\":10,\"solidity\":0.2}},\"type\":\"barpolar\"}],\"pie\":[{\"automargin\":true,\"type\":\"pie\"}]},\"layout\":{\"autotypenumbers\":\"strict\",\"colorway\":[\"#636efa\",\"#EF553B\",\"#00cc96\",\"#ab63fa\",\"#FFA15A\",\"#19d3f3\",\"#FF6692\",\"#B6E880\",\"#FF97FF\",\"#FECB52\"],\"font\":{\"color\":\"#2a3f5f\"},\"hovermode\":\"closest\",\"hoverlabel\":{\"align\":\"left\"},\"paper_bgcolor\":\"white\",\"plot_bgcolor\":\"#E5ECF6\",\"polar\":{\"bgcolor\":\"#E5ECF6\",\"angularaxis\":{\"gridcolor\":\"white\",\"linecolor\":\"white\",\"ticks\":\"\"},\"radialaxis\":{\"gridcolor\":\"white\",\"linecolor\":\"white\",\"ticks\":\"\"}},\"ternary\":{\"bgcolor\":\"#E5ECF6\",\"aaxis\":{\"gridcolor\":\"white\",\"linecolor\":\"white\",\"ticks\":\"\"},\"baxis\":{\"gridcolor\":\"white\",\"linecolor\":\"white\",\"ticks\":\"\"},\"caxis\":{\"gridcolor\":\"white\",\"linecolor\":\"white\",\"ticks\":\"\"}},\"coloraxis\":{\"colorbar\":{\"outlinewidth\":0,\"ticks\":\"\"}},\"colorscale\":{\"sequential\":[[0.0,\"#0d0887\"],[0.1111111111111111,\"#46039f\"],[0.2222222222222222,\"#7201a8\"],[0.3333333333333333,\"#9c179e\"],[0.4444444444444444,\"#bd3786\"],[0.5555555555555556,\"#d8576b\"],[0.6666666666666666,\"#ed7953\"],[0.7777777777777778,\"#fb9f3a\"],[0.8888888888888888,\"#fdca26\"],[1.0,\"#f0f921\"]],\"sequentialminus\":[[0.0,\"#0d0887\"],[0.1111111111111111,\"#46039f\"],[0.2222222222222222,\"#7201a8\"],[0.3333333333333333,\"#9c179e\"],[0.4444444444444444,\"#bd3786\"],[0.5555555555555556,\"#d8576b\"],[0.6666666666666666,\"#ed7953\"],[0.7777777777777778,\"#fb9f3a\"],[0.8888888888888888,\"#fdca26\"],[1.0,\"#f0f921\"]],\"diverging\":[[0,\"#8e0152\"],[0.1,\"#c51b7d\"],[0.2,\"#de77ae\"],[0.3,\"#f1b6da\"],[0.4,\"#fde0ef\"],[0.5,\"#f7f7f7\"],[0.6,\"#e6f5d0\"],[0.7,\"#b8e186\"],[0.8,\"#7fbc41\"],[0.9,\"#4d9221\"],[1,\"#276419\"]]},\"xaxis\":{\"gridcolor\":\"white\",\"linecolor\":\"white\",\"ticks\":\"\",\"title\":{\"standoff\":15},\"zerolinecolor\":\"white\",\"automargin\":true,\"zerolinewidth\":2},\"yaxis\":{\"gridcolor\":\"white\",\"linecolor\":\"white\",\"ticks\":\"\",\"title\":{\"standoff\":15},\"zerolinecolor\":\"white\",\"automargin\":true,\"zerolinewidth\":2},\"scene\":{\"xaxis\":{\"backgroundcolor\":\"#E5ECF6\",\"gridcolor\":\"white\",\"linecolor\":\"white\",\"showbackground\":true,\"ticks\":\"\",\"zerolinecolor\":\"white\",\"gridwidth\":2},\"yaxis\":{\"backgroundcolor\":\"#E5ECF6\",\"gridcolor\":\"white\",\"linecolor\":\"white\",\"showbackground\":true,\"ticks\":\"\",\"zerolinecolor\":\"white\",\"gridwidth\":2},\"zaxis\":{\"backgroundcolor\":\"#E5ECF6\",\"gridcolor\":\"white\",\"linecolor\":\"white\",\"showbackground\":true,\"ticks\":\"\",\"zerolinecolor\":\"white\",\"gridwidth\":2}},\"shapedefaults\":{\"line\":{\"color\":\"#2a3f5f\"}},\"annotationdefaults\":{\"arrowcolor\":\"#2a3f5f\",\"arrowhead\":0,\"arrowwidth\":1},\"geo\":{\"bgcolor\":\"white\",\"landcolor\":\"#E5ECF6\",\"subunitcolor\":\"white\",\"showland\":true,\"showlakes\":true,\"lakecolor\":\"white\"},\"title\":{\"x\":0.05},\"mapbox\":{\"style\":\"light\"}}},\"xaxis\":{\"anchor\":\"y\",\"domain\":[0.0,1.0],\"title\":{\"text\":\"Topic\"}},\"yaxis\":{\"anchor\":\"x\",\"domain\":[0.0,1.0],\"title\":{\"text\":\"Documents\"}},\"legend\":{\"tracegroupgap\":0},\"title\":{\"text\":\"Document Distribution by Topics\"},\"barmode\":\"relative\"},                        {\"responsive\": true}                    ).then(function(){\n",
       "                            \n",
       "var gd = document.getElementById('179a37da-43bb-4e5b-8998-20d239fb47a0');\n",
       "var x = new MutationObserver(function (mutations, observer) {{\n",
       "        var display = window.getComputedStyle(gd).display;\n",
       "        if (!display || display === 'none') {{\n",
       "            console.log([gd, 'removed!']);\n",
       "            Plotly.purge(gd);\n",
       "            observer.disconnect();\n",
       "        }}\n",
       "}});\n",
       "\n",
       "// Listen for the removal of the full notebook cells\n",
       "var notebookContainer = gd.closest('#notebook-container');\n",
       "if (notebookContainer) {{\n",
       "    x.observe(notebookContainer, {childList: true});\n",
       "}}\n",
       "\n",
       "// Listen for the clearing of the current output cell\n",
       "var outputEl = gd.closest('.output');\n",
       "if (outputEl) {{\n",
       "    x.observe(outputEl, {childList: true});\n",
       "}}\n",
       "\n",
       "                        })                };                });            </script>        </div>"
      ]
     },
     "metadata": {},
     "output_type": "display_data"
    }
   ],
   "source": [
    "plot_model(lsi, plot = 'topic_distribution')"
   ]
  },
  {
   "cell_type": "code",
   "execution_count": 22,
   "id": "ef375231",
   "metadata": {
    "scrolled": true
   },
   "outputs": [
    {
     "data": {
      "text/html": [
       "        <script type=\"text/javascript\">\n",
       "        window.PlotlyConfig = {MathJaxConfig: 'local'};\n",
       "        if (window.MathJax) {MathJax.Hub.Config({SVG: {font: \"STIX-Web\"}});}\n",
       "        if (typeof require !== 'undefined') {\n",
       "        require.undef(\"plotly\");\n",
       "        requirejs.config({\n",
       "            paths: {\n",
       "                'plotly': ['https://cdn.plot.ly/plotly-2.11.1.min']\n",
       "            }\n",
       "        });\n",
       "        require(['plotly'], function(Plotly) {\n",
       "            window._Plotly = Plotly;\n",
       "        });\n",
       "        }\n",
       "        </script>\n",
       "        "
      ]
     },
     "metadata": {},
     "output_type": "display_data"
    },
    {
     "data": {
      "application/vnd.plotly.v1+json": {
       "config": {
        "plotlyServerURL": "https://plot.ly"
       },
       "data": [
        {
         "hovertemplate": "Dominant_Topic=Topic 0<br>0=%{x}<br>1=%{y}<br>2=%{z}<extra></extra>",
         "legendgroup": "Topic 0",
         "marker": {
          "color": "#636efa",
          "opacity": 0.7,
          "symbol": "circle"
         },
         "mode": "markers",
         "name": "Topic 0",
         "scene": "scene",
         "showlegend": true,
         "type": "scatter3d",
         "x": [
          -4.847388744354248,
          -1.8724555969238281,
          -0.27017149329185486,
          1.322799801826477,
          -5.445969581604004,
          -4.892566680908203,
          3.756626844406128,
          -1.022679090499878,
          -4.397663116455078,
          6.969249248504639,
          -2.0186145305633545,
          2.724905252456665,
          3.8438668251037598,
          -0.888726532459259,
          -4.111871242523193,
          5.407938480377197,
          1.1636828184127808,
          -0.695861279964447,
          -3.190483570098877,
          6.978516101837158,
          -5.306792736053467,
          1.8879759311676025,
          -2.676957845687866,
          -4.712989330291748,
          -4.606196403503418,
          -3.5897367000579834,
          -3.6874654293060303,
          -1.2934433221817017,
          -3.5069310665130615,
          -5.327041149139404,
          0.2529228925704956,
          3.7407259941101074,
          5.805628776550293,
          6.634965419769287,
          -0.21141819655895233,
          -4.508382797241211,
          3.130434036254883,
          -3.0690364837646484,
          3.871115207672119,
          1.3228001594543457,
          -1.4601043462753296,
          3.602400302886963,
          6.1081647872924805,
          3.005232095718384,
          7.827742576599121,
          -0.21386484801769257,
          0.36666494607925415,
          6.83977746963501,
          5.507261276245117,
          -4.454065322875977,
          -1.0839474201202393,
          5.454187393188477,
          7.105167388916016,
          -4.317707538604736,
          -1.4705379009246826,
          3.5084750652313232,
          1.300180435180664,
          -3.1165003776550293,
          1.9108928442001343,
          5.064232349395752,
          -2.1739418506622314,
          -4.5574798583984375,
          2.055628776550293,
          -4.966253757476807,
          3.217550039291382,
          6.318917751312256,
          3.2438743114471436,
          2.7884018421173096,
          -5.820093154907227,
          6.230100631713867,
          -5.940001487731934,
          -4.599297523498535,
          5.898418426513672,
          1.075771450996399,
          -2.632573127746582,
          -3.613372325897217,
          -5.151032447814941,
          4.535699844360352,
          -0.12225796282291412,
          -4.615728378295898,
          -3.417492389678955,
          3.6167101860046387,
          6.294095039367676,
          4.378638744354248,
          -1.9804532527923584,
          -4.636661529541016,
          2.417266607284546,
          5.528073310852051,
          -1.2983894348144531,
          -3.1224517822265625,
          3.470341920852661,
          -4.5990214347839355,
          -5.1918816566467285,
          -4.990711688995361,
          -1.508069634437561,
          -1.0567314624786377,
          -5.616870403289795,
          7.692936420440674,
          -3.1650660037994385,
          3.63543438911438,
          3.5880911350250244,
          1.742714524269104,
          -0.012197425588965416,
          3.1550896167755127,
          0.1453385353088379,
          -5.321141242980957,
          -3.5156564712524414,
          4.064278602600098,
          0.03951404243707657,
          0.6509935855865479,
          2.18843150138855,
          3.8402414321899414,
          5.1645331382751465,
          -3.8171255588531494,
          1.7838542461395264,
          2.4094462394714355,
          -3.1499335765838623,
          8.11779499053955,
          7.629858493804932,
          1.3676424026489258,
          1.3679306507110596,
          -1.952523946762085,
          5.240684986114502,
          -4.652905464172363,
          -3.821157217025757,
          -3.7764430046081543,
          0.9198552370071411,
          -1.9885666370391846,
          -3.7578439712524414,
          -5.118495464324951,
          6.17061710357666,
          0.16617970168590546,
          6.882057189941406,
          5.99590539932251,
          0.873001217842102,
          6.045300006866455,
          1.6440519094467163,
          -4.6858344078063965,
          8.193879127502441,
          5.418314456939697,
          -5.684027194976807,
          -2.096658706665039,
          -1.498274564743042,
          -1.793153166770935,
          -0.8416653871536255,
          -4.393119812011719,
          3.833534002304077,
          5.371857643127441,
          -3.640735626220703,
          -2.801312208175659,
          -0.3689618408679962,
          -2.59539532661438,
          -0.5696176886558533,
          1.1990336179733276,
          -0.983371376991272,
          -0.9789844155311584,
          -4.813315391540527,
          -4.608511447906494,
          -5.156937599182129,
          4.49424934387207,
          6.168895721435547,
          -3.97562837600708,
          6.65308141708374,
          3.4617843627929688,
          6.930252552032471,
          0.6554778218269348,
          7.007115840911865,
          0.31463274359703064,
          0.5421197414398193,
          7.934178352355957,
          6.307882308959961,
          2.1871912479400635,
          2.028006076812744,
          -1.9439313411712646,
          -5.6050262451171875,
          6.174476623535156,
          0.638927698135376,
          -3.188899040222168,
          -1.6337546110153198,
          -4.282725811004639,
          4.414183139801025,
          2.3226282596588135,
          1.870941400527954,
          -1.2076138257980347,
          4.918562412261963,
          6.262618541717529,
          0.8772068619728088,
          -7.138204574584961,
          7.420838832855225,
          3.395784378051758,
          4.165550231933594,
          -2.7801668643951416,
          -1.269765853881836,
          -3.192342758178711,
          0.7709278464317322,
          6.486367702484131,
          -5.115172386169434,
          3.3620047569274902,
          -3.6368441581726074,
          1.4863685369491577,
          -4.880343437194824,
          5.546942234039307,
          -4.461763858795166,
          0.5656278729438782,
          -3.8192942142486572,
          0.7986329197883606,
          -3.2560551166534424,
          -1.8547993898391724,
          7.574949264526367,
          -3.9367783069610596,
          8.412094116210938,
          -6.911925792694092,
          -5.181002140045166,
          -5.792932987213135,
          -6.173910617828369,
          2.4804835319519043,
          -4.275769233703613,
          -4.05060338973999,
          -1.694284200668335,
          -2.992849588394165,
          7.864336967468262,
          5.924046993255615,
          -3.4242136478424072,
          -2.509428024291992,
          -0.861136257648468,
          -2.108377456665039,
          -2.6917881965637207,
          2.1722779273986816,
          -0.08885426819324493,
          0.34002894163131714,
          -2.40608811378479,
          0.19243744015693665,
          0.44547951221466064,
          5.517512798309326,
          5.512876033782959,
          4.788934230804443,
          3.5594465732574463,
          4.729030609130859,
          -2.8979811668395996,
          -2.3349030017852783,
          3.0651590824127197,
          5.1950459480285645,
          -2.6079769134521484,
          1.2090637683868408,
          -4.61627721786499,
          3.1769115924835205,
          5.592062473297119,
          8.78858757019043,
          0.1971740573644638,
          4.226827621459961,
          3.052666425704956,
          3.014988422393799,
          6.661727428436279,
          -5.897402763366699,
          -1.9669524431228638,
          -2.747269630432129,
          0.13588851690292358,
          4.750149250030518,
          -2.595585346221924,
          -2.679072618484497,
          -1.0049346685409546,
          3.6786367893218994,
          7.035599231719971,
          -3.1738061904907227,
          -7.587283611297607,
          2.9003849029541016,
          0.030969757586717606,
          -3.8181161880493164,
          -10.353562355041504,
          2.2566826343536377,
          8.314517974853516,
          3.696730375289917,
          4.485872745513916,
          -6.858726501464844,
          6.210320472717285,
          3.072517156600952,
          -1.6923199892044067,
          -5.041642665863037,
          -4.232614994049072,
          -1.1231963634490967,
          -0.8754869103431702,
          -0.7557544112205505,
          5.184202671051025,
          -0.6872059106826782,
          4.9795002937316895,
          -0.9099964499473572,
          -4.87199592590332,
          -0.35302212834358215,
          6.823395729064941,
          2.289735794067383,
          3.040785074234009,
          -3.6009109020233154,
          -4.755713939666748,
          7.1385111808776855,
          6.455809116363525,
          7.993995666503906,
          -3.2007365226745605,
          -5.500937461853027,
          -3.804763078689575,
          -4.664465427398682,
          -4.79886531829834,
          -9.412394523620605,
          -4.8469014167785645,
          -3.511951446533203,
          7.306267261505127,
          2.8456649780273438,
          -2.31105375289917,
          6.411211967468262,
          5.489096641540527,
          -1.9662858247756958,
          4.571511745452881,
          6.822203636169434,
          1.0321595668792725,
          -3.109422206878662,
          -3.0339183807373047,
          7.38696813583374,
          -2.4753620624542236,
          -5.192158222198486,
          8.618743896484375,
          1.604457974433899,
          1.6315711736679077,
          6.740816116333008,
          5.283612251281738,
          -1.7931772470474243,
          -9.987494468688965,
          -1.6877942085266113,
          -3.6848654747009277,
          2.8176937103271484,
          -0.08530634641647339,
          3.5730397701263428,
          -7.526613235473633,
          2.245520830154419,
          -9.716756820678711,
          -3.0977087020874023,
          -10.345914840698242,
          -0.5097644925117493,
          -0.7063709497451782,
          -0.966138482093811,
          -4.600755214691162,
          -1.9878824949264526,
          1.8821971416473389,
          -5.657752513885498,
          -4.645995140075684,
          -4.085500240325928,
          4.566906452178955,
          -5.606553554534912,
          -4.321361541748047,
          6.029943943023682,
          1.6623903512954712,
          -9.98806381225586,
          -3.552910327911377,
          6.788642883300781,
          -1.7930907011032104,
          2.8441717624664307,
          2.5519659519195557,
          -2.3614695072174072,
          1.4612957239151,
          -6.576056003570557,
          -3.9816343784332275,
          6.650092601776123,
          0.13741986453533173,
          -4.110375881195068,
          4.045042991638184,
          2.031097888946533,
          -2.0775599479675293,
          4.759155750274658,
          3.7368810176849365,
          -2.7088685035705566,
          -4.503141403198242,
          -0.7478475570678711,
          7.014395236968994,
          -1.912488579750061,
          -4.222573280334473,
          -4.480992317199707,
          -4.463906764984131,
          -1.726738691329956,
          4.51765251159668,
          -0.876515805721283,
          2.0376956462860107,
          5.072493076324463,
          0.2535359859466553,
          3.6049115657806396,
          2.566136121749878,
          5.913565158843994,
          -5.537883758544922,
          -0.8802682161331177,
          -4.458068370819092,
          -2.8019943237304688,
          5.095861911773682,
          7.968863487243652,
          -3.209216594696045,
          -4.8427629470825195,
          -1.9173858165740967,
          6.022897720336914,
          4.175080299377441,
          -2.6876890659332275,
          3.8405470848083496,
          -2.0179383754730225,
          -1.1389716863632202,
          -4.404770851135254,
          -6.824285984039307,
          -3.5938758850097656,
          -2.216674566268921,
          6.606453895568848,
          2.018932342529297,
          2.3282649517059326,
          -3.036797523498535,
          1.2822529077529907,
          1.8904874324798584,
          1.7148447036743164,
          6.345513343811035,
          8.460075378417969,
          6.5770792961120605,
          -3.4647068977355957,
          4.713505744934082,
          -1.0903171300888062,
          8.65258502960205,
          -3.5450587272644043,
          -0.7193003296852112,
          4.96046781539917,
          -4.912408828735352,
          4.174323558807373,
          7.2988481521606445,
          -1.8270260095596313,
          -5.517691612243652,
          0.5357084274291992,
          -1.5189483165740967,
          5.600801944732666,
          -0.9154114127159119,
          1.777014970779419,
          1.6161316633224487,
          -10.311212539672852,
          -3.465202569961548,
          -5.474027633666992,
          1.1064146757125854,
          -5.94459342956543,
          5.27861213684082,
          -2.642411470413208,
          -2.900644063949585,
          4.950028419494629,
          -2.747770309448242,
          6.699683666229248,
          6.6933441162109375,
          6.829339027404785,
          -3.8752872943878174,
          -0.3063679039478302,
          -7.071279048919678,
          3.0346438884735107,
          3.5659244060516357,
          0.0964794009923935,
          3.7420566082000732,
          1.7275325059890747,
          -4.619555950164795,
          -4.406836986541748,
          1.0172710418701172,
          3.9927968978881836,
          7.07061767578125,
          1.944947361946106,
          -0.6636876463890076,
          -4.572552680969238,
          3.8265089988708496,
          6.011961460113525,
          -3.8379909992218018,
          2.772740602493286,
          3.3458640575408936,
          -4.481943130493164,
          -5.323308944702148,
          -2.888469696044922,
          -5.486764907836914,
          7.0808610916137695,
          2.5526440143585205,
          -3.2274038791656494,
          -2.9429678916931152,
          8.419645309448242,
          -5.879513263702393,
          -2.912336587905884,
          -7.524346351623535,
          -4.751500129699707,
          3.494572639465332,
          2.522542715072632,
          7.936278343200684,
          4.337993621826172,
          -3.5473339557647705,
          -6.690804481506348,
          5.536921501159668,
          3.331242799758911,
          -2.910477638244629,
          6.908639907836914,
          -4.982523441314697,
          -4.589256286621094,
          2.236043691635132,
          -1.3958085775375366,
          1.1710522174835205,
          -0.11543302983045578,
          5.848631858825684,
          3.5522572994232178,
          3.752821922302246,
          2.431311845779419,
          4.7366204261779785,
          -2.3359153270721436,
          0.3787250816822052,
          8.933401107788086,
          -5.457381248474121,
          -2.7357022762298584,
          4.226823806762695,
          -2.461678981781006,
          3.7122890949249268,
          -0.23073579370975494,
          0.7540314197540283,
          0.020269449800252914,
          4.879412651062012,
          -4.0198469161987305,
          -1.1867934465408325,
          6.548678398132324,
          -3.211686372756958,
          -5.360837459564209,
          -3.564383029937744,
          1.1445505619049072,
          2.3169639110565186,
          2.4554786682128906,
          -5.4600510597229,
          4.891387462615967,
          5.914294242858887,
          -3.904221534729004,
          3.896880626678467,
          2.793689250946045,
          3.3518855571746826,
          -3.9345614910125732,
          -1.5238553285598755,
          -1.3166182041168213,
          -0.6349372267723083,
          -4.628231525421143,
          -1.921579360961914,
          -4.357510089874268,
          3.49625301361084,
          -6.5292158126831055,
          6.742166996002197,
          -5.31813383102417,
          0.6584058403968811,
          -0.13073667883872986,
          -1.0685920715332031,
          -3.5335538387298584,
          -5.201101303100586,
          -6.026278018951416,
          -1.7041497230529785,
          -4.32370138168335,
          -5.168201446533203,
          -2.4083354473114014,
          2.634781837463379,
          0.24284684658050537,
          3.453503131866455,
          -5.235846996307373,
          1.9811354875564575,
          -1.327303409576416,
          8.229232788085938,
          -0.052510544657707214,
          3.8868513107299805,
          -3.563436508178711,
          7.261968612670898,
          3.5237245559692383,
          2.1679465770721436,
          -4.0060930252075195,
          -4.411929607391357,
          8.576114654541016,
          -3.1544220447540283,
          3.564038038253784,
          -2.3771843910217285,
          2.448517084121704,
          1.7104374170303345,
          4.669838905334473,
          4.049129009246826,
          -3.939736843109131,
          -3.0893290042877197,
          -1.6355538368225098,
          -3.5320231914520264,
          -2.7388885021209717,
          7.102321624755859,
          8.187548637390137,
          -4.382026672363281,
          -5.698070526123047,
          -5.389464378356934,
          -1.4539214372634888,
          4.874791145324707,
          6.5316548347473145,
          7.433290958404541,
          1.4814661741256714,
          -7.084044456481934,
          -1.3479756116867065,
          1.4792430400848389,
          -4.948030948638916,
          -2.5935068130493164,
          2.0746002197265625,
          5.682274341583252,
          0.2161751687526703,
          -7.914656639099121,
          6.255611419677734,
          5.7082624435424805,
          -3.9831976890563965,
          6.891803741455078,
          8.469849586486816,
          4.210272789001465,
          -4.732011318206787,
          -5.275681018829346,
          8.88497257232666,
          6.382578372955322,
          -1.5425759553909302,
          6.711982727050781,
          -1.6360440254211426,
          7.032507419586182,
          5.269979476928711,
          -2.043968677520752,
          -1.2041361331939697,
          4.853973865509033,
          1.6683083772659302,
          -1.5715335607528687,
          -5.468993186950684,
          7.452390670776367,
          -7.554400444030762,
          3.738632917404175,
          -0.8533231616020203,
          1.286063313484192,
          0.13839200139045715,
          -3.517775535583496,
          3.359254837036133,
          -4.419151782989502,
          0.9827383160591125,
          7.770876884460449,
          -1.3723337650299072,
          4.363636016845703,
          4.463809490203857,
          -3.00669264793396,
          -7.328063488006592,
          2.097804307937622,
          -3.942817449569702,
          6.963554859161377,
          -2.0007550716400146,
          -5.066276550292969,
          -6.113030433654785,
          4.856744766235352,
          0.6105383634567261,
          -3.959763765335083,
          -1.9694305658340454,
          -2.7049007415771484,
          7.172032356262207,
          6.481406211853027,
          -2.435338258743286,
          -6.0202155113220215,
          3.8669562339782715,
          3.4837963581085205,
          4.9723639488220215,
          8.681756973266602,
          -1.4974099397659302,
          1.9790338277816772,
          4.1347503662109375,
          2.669801950454712,
          -5.116890907287598,
          -3.608135223388672,
          2.016143560409546,
          -6.387149810791016,
          4.054372787475586,
          3.565270185470581,
          -4.513383865356445,
          -0.13805879652500153,
          -6.417721748352051,
          2.525730609893799,
          -4.565513610839844,
          6.20807409286499,
          0.1016375869512558,
          6.348978042602539,
          -2.3393921852111816,
          3.666623830795288,
          5.338097095489502,
          3.1914963722229004,
          4.693305015563965,
          1.9627165794372559,
          2.699554681777954,
          4.597912788391113,
          -3.496565103530884,
          -3.8064558506011963,
          3.444645643234253,
          -1.645426869392395,
          4.3771138191223145,
          1.880286693572998,
          -2.931442975997925,
          3.7767250537872314,
          -2.105802297592163,
          2.444004774093628,
          0.5596712231636047,
          1.857866644859314,
          -3.2346291542053223,
          1.9350863695144653,
          1.924372911453247,
          3.4713118076324463,
          -3.7372214794158936,
          -6.274359703063965,
          3.765070915222168,
          -4.942148685455322,
          5.72467565536499,
          -0.2841681241989136,
          -0.28981316089630127,
          6.862430095672607,
          -3.4026408195495605,
          1.5213570594787598,
          7.7356953620910645,
          -2.1626229286193848,
          4.161383628845215,
          -4.843381404876709,
          0.06668108701705933,
          3.4998161792755127,
          8.724113464355469,
          -1.2011820077896118,
          -0.46033117175102234,
          -4.198061466217041,
          3.5266640186309814,
          1.0675570964813232,
          -3.626190662384033,
          -2.459536552429199,
          -1.9632611274719238,
          6.974582672119141,
          -6.096675872802734,
          -1.5697730779647827,
          -4.885239124298096,
          -4.500077724456787,
          -4.5899271965026855,
          -5.681562900543213,
          5.462833881378174,
          4.491820812225342,
          -0.6807547807693481,
          8.453924179077148,
          -4.140527725219727,
          6.545232772827148,
          -2.551159381866455,
          -5.688701629638672,
          4.079273223876953,
          3.649651288986206,
          -4.666012763977051,
          9.35893726348877,
          4.2359490394592285,
          -4.5758376121521,
          2.720439910888672,
          2.8614501953125,
          -4.911200046539307,
          -0.76019287109375,
          -3.3109443187713623,
          2.9858591556549072,
          -2.90067720413208,
          4.263850688934326,
          -3.766730546951294,
          2.362370729446411,
          6.081953525543213,
          0.17980605363845825,
          -3.8140952587127686,
          6.588281631469727,
          4.342942237854004,
          3.8286349773406982,
          3.2639973163604736,
          -5.377333164215088,
          -5.864581108093262,
          -5.507059574127197,
          -5.27536678314209,
          1.066402792930603,
          1.8049659729003906,
          -3.278320074081421,
          -3.6087729930877686,
          7.59488582611084,
          -2.445693254470825,
          2.380498170852661,
          3.9901437759399414,
          -2.665099620819092,
          -4.95428466796875,
          1.7220782041549683,
          5.016213893890381,
          4.546800136566162,
          2.225442886352539,
          -4.72104549407959,
          -5.628895282745361,
          4.999015808105469,
          -4.402635097503662,
          -4.816720485687256,
          2.079509735107422,
          1.0705113410949707,
          3.213993549346924,
          -5.499840259552002,
          6.537735462188721,
          -4.457429885864258,
          -0.08613690733909607,
          -1.6855182647705078,
          4.490551948547363,
          -2.8811519145965576,
          -0.567351758480072,
          5.266265392303467,
          4.050858974456787,
          1.3988407850265503,
          2.995939016342163,
          -2.912306308746338,
          -3.0618457794189453,
          -3.180813789367676,
          -4.380422592163086,
          1.3234325647354126,
          0.9964838027954102,
          4.72979736328125,
          -0.9278447031974792,
          -7.294448375701904,
          -3.403453826904297,
          4.3702311515808105,
          -4.737037658691406,
          8.434779167175293,
          6.129214286804199,
          3.870023250579834,
          0.8179128170013428,
          6.835543155670166,
          8.39763355255127,
          -4.337897777557373,
          -4.19351863861084,
          2.8458714485168457,
          -2.3814923763275146,
          -3.5673701763153076,
          -2.8884694576263428,
          -0.8190197348594666,
          6.75809907913208,
          8.564156532287598,
          -0.9798133969306946,
          -6.8984527587890625,
          -4.272275924682617,
          3.129819631576538,
          2.836441993713379,
          -2.6414060592651367,
          -4.142877578735352,
          -3.3339991569519043,
          4.495689868927002,
          2.3586764335632324,
          6.621945381164551,
          -4.61800479888916,
          -4.253495693206787,
          1.5271565914154053,
          7.344937801361084,
          -3.6710546016693115,
          -1.0608271360397339,
          -4.220196723937988,
          6.3889312744140625,
          -3.470991611480713,
          -5.156737327575684,
          -2.912280797958374,
          -4.324417591094971,
          -0.26486390829086304,
          6.2722086906433105,
          -4.614834308624268,
          -4.035571098327637,
          7.024657726287842,
          2.266561508178711,
          -2.608707904815674,
          6.371644496917725,
          -1.566675066947937,
          7.995926380157471,
          -4.227761268615723,
          -2.8613176345825195,
          7.926538467407227,
          -0.5170173645019531,
          0.49593350291252136,
          8.161888122558594,
          -5.483386039733887,
          -5.670048713684082,
          -4.130253314971924,
          -1.388761043548584,
          2.7046475410461426,
          -3.067558765411377,
          5.766415596008301,
          -2.74920392036438,
          0.03055146522819996,
          6.484257221221924,
          6.5446553230285645,
          6.4336724281311035,
          1.1200485229492188,
          3.7053020000457764,
          6.2839531898498535,
          -6.565646171569824,
          0.6390407085418701,
          1.1113260984420776,
          -1.942044973373413,
          4.831817150115967,
          -1.7541598081588745,
          6.4023542404174805,
          -2.779046058654785,
          -1.457125186920166,
          -0.9996334314346313,
          0.10810316354036331,
          6.104233741760254,
          6.150901794433594,
          5.715401649475098,
          -0.6460849642753601,
          -1.3338021039962769,
          2.353165626525879,
          0.03187532722949982,
          -3.688265562057495,
          -3.325042486190796,
          1.2925745248794556,
          7.843731880187988,
          7.574664115905762,
          2.9902806282043457,
          -1.4681055545806885,
          -1.7053653001785278,
          1.9456276893615723,
          1.809054970741272,
          -7.1240458488464355,
          -4.6180853843688965,
          -3.9714086055755615,
          2.8582763671875,
          0.8186372518539429,
          3.902060031890869,
          3.172600269317627,
          8.2440824508667,
          -4.2881999015808105,
          6.481108665466309,
          -6.75734281539917,
          -4.31849479675293,
          4.086157321929932,
          -2.714524745941162,
          -3.945521116256714,
          -4.158419132232666,
          -3.8136935234069824,
          6.92427921295166,
          -5.80418062210083,
          -2.693613290786743,
          -1.7084633111953735,
          8.031466484069824,
          -4.345656394958496,
          0.34835147857666016,
          -2.9349746704101562,
          2.217257499694824,
          -2.5235142707824707,
          6.269913196563721,
          0.6393557190895081,
          0.4110957682132721,
          3.9140751361846924,
          -0.1170252189040184,
          5.318107604980469,
          -2.1417980194091797,
          -4.444794178009033,
          -6.522411346435547,
          3.5397467613220215,
          1.8260096311569214,
          -1.6078161001205444,
          6.203286647796631,
          -0.9131619930267334,
          -0.08419206738471985
         ],
         "y": [
          4.323631286621094,
          -4.928867816925049,
          -3.877622365951538,
          1.9629267454147339,
          -0.3061836361885071,
          -5.327363967895508,
          -2.711042642593384,
          -3.2581794261932373,
          -6.844134330749512,
          -2.0195531845092773,
          0.8259435892105103,
          0.5942408442497253,
          -2.8486104011535645,
          -3.3750431537628174,
          -8.332734107971191,
          1.7821178436279297,
          4.120742321014404,
          -0.9441628456115723,
          -1.0999213457107544,
          -0.24938219785690308,
          1.1197541952133179,
          1.7729344367980957,
          -1.0543581247329712,
          3.55766224861145,
          4.450732707977295,
          -1.379325032234192,
          4.043188095092773,
          0.3588715195655823,
          -3.1178910732269287,
          -2.866551399230957,
          2.4654316902160645,
          2.4336304664611816,
          1.620522379875183,
          -1.997872233390808,
          -4.097831726074219,
          -5.360438823699951,
          0.25783735513687134,
          -1.6137447357177734,
          -1.9449721574783325,
          0.6973468065261841,
          1.4438008069992065,
          2.5643067359924316,
          2.2102110385894775,
          2.1772732734680176,
          -0.3333222568035126,
          -3.822047710418701,
          2.734431743621826,
          2.0263783931732178,
          1.5600905418395996,
          -3.8004164695739746,
          4.8800048828125,
          -1.5986264944076538,
          2.056900978088379,
          -8.618881225585938,
          -1.504804015159607,
          -2.537079334259033,
          1.6592748165130615,
          -3.109506607055664,
          4.225153923034668,
          -1.096333622932434,
          3.4918181896209717,
          4.47495698928833,
          -2.3395113945007324,
          -3.6404595375061035,
          1.837343692779541,
          1.1069668531417847,
          -0.08958880603313446,
          1.9020766019821167,
          -2.6287996768951416,
          2.2569713592529297,
          3.3553106784820557,
          4.444143772125244,
          -0.47563862800598145,
          1.0431076288223267,
          -2.4488108158111572,
          4.827970504760742,
          3.102738618850708,
          2.4997663497924805,
          1.7421858310699463,
          -6.88649320602417,
          4.601356029510498,
          2.5267865657806396,
          0.27201196551322937,
          -1.849565029144287,
          -4.016695022583008,
          -5.853756427764893,
          -2.9044485092163086,
          -1.6180952787399292,
          3.533076524734497,
          -1.5007352828979492,
          -1.9300357103347778,
          -4.836925506591797,
          -1.4020106792449951,
          4.346803665161133,
          4.335509300231934,
          2.333843946456909,
          -0.6775206923484802,
          1.6681225299835205,
          -0.08732285350561142,
          -0.7629355788230896,
          -1.906338095664978,
          -1.3516887426376343,
          -3.865772008895874,
          -1.9462037086486816,
          -3.7970399856567383,
          -0.623284101486206,
          -3.0687243938446045,
          3.1562418937683105,
          1.9053804874420166,
          -1.9212169647216797,
          1.9226760864257812,
          1.2615762948989868,
          0.10143063962459564,
          -3.5423030853271484,
          -1.466394305229187,
          -1.5576704740524292,
          -0.25667285919189453,
          -1.9119389057159424,
          2.2819430828094482,
          2.1588118076324463,
          2.017538547515869,
          -5.079569339752197,
          2.6776232719421387,
          -6.5445475578308105,
          -3.731968641281128,
          3.0028865337371826,
          -1.41337251663208,
          4.443062782287598,
          3.7842485904693604,
          -3.597026824951172,
          4.462259292602539,
          -0.2694644629955292,
          1.821627140045166,
          2.315061330795288,
          -0.49222850799560547,
          -0.8433562517166138,
          0.668924868106842,
          2.378650188446045,
          -1.4048806428909302,
          -0.2578345835208893,
          -0.6559838652610779,
          1.1743426322937012,
          2.9052376747131348,
          -1.8605717420578003,
          1.7477787733078003,
          -5.310168266296387,
          -0.7548074126243591,
          -0.729744553565979,
          -3.784209728240967,
          0.20180165767669678,
          3.0887794494628906,
          0.2581322193145752,
          4.945291996002197,
          3.4361531734466553,
          0.739300549030304,
          3.606261730194092,
          4.544312953948975,
          -3.389852523803711,
          -6.828962802886963,
          3.2343881130218506,
          -1.34076726436615,
          -3.1293866634368896,
          2.2045469284057617,
          2.2745707035064697,
          -1.5516055822372437,
          -2.7607407569885254,
          1.080916404724121,
          1.8000441789627075,
          -2.8356051445007324,
          -0.6006441116333008,
          -0.9056544899940491,
          1.4774245023727417,
          4.292679786682129,
          3.6391987800598145,
          -0.034533895552158356,
          -0.21039129793643951,
          4.235569477081299,
          -2.3959851264953613,
          -1.4188288450241089,
          5.5575785636901855,
          0.6314268112182617,
          -2.809926986694336,
          0.7325342893600464,
          4.549651145935059,
          0.24133501946926117,
          2.388105630874634,
          -3.443997621536255,
          -0.12676450610160828,
          -0.7192690372467041,
          0.01908573880791664,
          2.547942876815796,
          -0.3808239996433258,
          -1.4202605485916138,
          -3.486829996109009,
          2.2365829944610596,
          2.4826056957244873,
          5.411499977111816,
          -0.12046187371015549,
          -3.6005754470825195,
          2.233656167984009,
          -7.434569358825684,
          0.020058855414390564,
          4.5617828369140625,
          -3.5086567401885986,
          4.04552698135376,
          -2.928576946258545,
          -4.787242889404297,
          -0.333160936832428,
          1.3755336999893188,
          4.696044445037842,
          0.2340046912431717,
          -1.1460565328598022,
          -0.5657089948654175,
          -3.402686357498169,
          3.3490800857543945,
          -4.451906681060791,
          0.925961971282959,
          -7.248691558837891,
          0.49940791726112366,
          -2.635481357574463,
          -0.2589765191078186,
          -0.3230677545070648,
          -6.639039993286133,
          -3.0505268573760986,
          3.705598831176758,
          -0.21171297132968903,
          5.034784317016602,
          -2.578579902648926,
          -1.1971001625061035,
          -3.1828320026397705,
          -5.200119972229004,
          2.179104804992676,
          -2.932382106781006,
          -1.3386995792388916,
          1.8427680730819702,
          0.5979199409484863,
          -3.069016695022583,
          2.202165126800537,
          -2.7590973377227783,
          -3.4217231273651123,
          -2.031491279602051,
          0.7550771236419678,
          4.91555643081665,
          -3.1773557662963867,
          -5.959664344787598,
          -1.9164485931396484,
          0.24727153778076172,
          -1.5096848011016846,
          1.566157579421997,
          4.193820476531982,
          0.17652447521686554,
          2.1014211177825928,
          1.7772364616394043,
          5.287454128265381,
          0.7866712808609009,
          4.129439830780029,
          -1.1157845258712769,
          -1.0971523523330688,
          4.643091678619385,
          -1.0081324577331543,
          3.7701427936553955,
          -2.7107956409454346,
          -0.5630309581756592,
          -3.0591492652893066,
          0.162544846534729,
          2.6920695304870605,
          -3.5617835521698,
          -4.7476325035095215,
          -2.6314518451690674,
          0.6654934883117676,
          -1.8255387544631958,
          -1.5794564485549927,
          -0.5864526629447937,
          -0.6394979357719421,
          0.7730085253715515,
          1.8269962072372437,
          -0.2679729163646698,
          3.6327693462371826,
          -1.613965630531311,
          3.482790231704712,
          2.343701124191284,
          2.5156447887420654,
          0.6722007393836975,
          1.750862717628479,
          -1.2232340574264526,
          3.5499868392944336,
          3.70939564704895,
          -1.0172207355499268,
          0.06520338356494904,
          -2.762031316757202,
          2.6778175830841064,
          -1.8543678522109985,
          -3.697706460952759,
          -1.8161646127700806,
          -1.5430141687393188,
          -1.9637136459350586,
          1.8063451051712036,
          3.7585463523864746,
          2.1577625274658203,
          2.806659460067749,
          -0.611009418964386,
          -2.4859206676483154,
          4.526262283325195,
          -3.1091020107269287,
          1.8476248979568481,
          2.507988214492798,
          4.825755596160889,
          -0.33572739362716675,
          1.6008062362670898,
          4.558809757232666,
          0.7390365600585938,
          -0.13435663282871246,
          0.790652871131897,
          5.072910308837891,
          -3.1789603233337402,
          1.7193031311035156,
          -5.1087260246276855,
          4.178783893585205,
          -0.8397627472877502,
          2.4356350898742676,
          3.556786060333252,
          -1.8128470182418823,
          0.15592437982559204,
          -1.8604753017425537,
          -2.5883562564849854,
          4.097437381744385,
          -7.375299453735352,
          2.4923157691955566,
          -3.5283865928649902,
          -3.0783417224884033,
          0.2830490171909332,
          0.8052413463592529,
          -2.253538131713867,
          4.89409065246582,
          -2.630202293395996,
          1.0260024070739746,
          1.2065397500991821,
          3.544694662094116,
          1.4316926002502441,
          -0.1716235727071762,
          1.6710423231124878,
          -1.2874491214752197,
          -3.2516839504241943,
          1.396907091140747,
          -0.9154592752456665,
          5.241137981414795,
          5.07591438293457,
          1.4663116931915283,
          0.7637841105461121,
          -2.7050697803497314,
          3.725985050201416,
          1.5085233449935913,
          -1.8605221509933472,
          -1.868292212486267,
          2.00018572807312,
          -3.3118643760681152,
          -1.245571255683899,
          -1.219246506690979,
          -8.20917797088623,
          -1.9046882390975952,
          3.3980629444122314,
          4.410811901092529,
          -3.101728916168213,
          -1.553826093673706,
          3.466034173965454,
          -1.1533775329589844,
          -3.0685577392578125,
          -1.5415735244750977,
          -4.690844535827637,
          1.6012717485427856,
          -0.3570948839187622,
          -4.788863658905029,
          -8.176849365234375,
          -6.443485736846924,
          4.768765449523926,
          -4.527508735656738,
          -1.1132475137710571,
          -1.2140916585922241,
          -2.4630966186523438,
          2.8691093921661377,
          1.3425681591033936,
          -0.33684682846069336,
          -3.2016589641571045,
          1.5941853523254395,
          -3.1839206218719482,
          3.965481996536255,
          -5.199672222137451,
          4.094000339508057,
          0.4998452365398407,
          -1.8714314699172974,
          -2.564863443374634,
          3.716601848602295,
          1.8657307624816895,
          -0.8978480696678162,
          1.734465479850769,
          -3.777935028076172,
          -0.6653581261634827,
          0.6416887044906616,
          3.9001054763793945,
          -4.874555587768555,
          0.969133198261261,
          4.818233966827393,
          0.2627730667591095,
          -0.13126440346240997,
          -0.964949369430542,
          1.3503689765930176,
          -5.280984401702881,
          1.9486591815948486,
          2.346574068069458,
          -1.7178962230682373,
          2.3093392848968506,
          -2.7633931636810303,
          -0.042951587587594986,
          -1.1984362602233887,
          -0.34927603602409363,
          -4.535239219665527,
          0.4363369941711426,
          -2.9938840866088867,
          1.0950233936309814,
          0.7880628108978271,
          3.0816962718963623,
          -1.334450125694275,
          -1.6506950855255127,
          1.3894317150115967,
          -4.990828990936279,
          1.3580412864685059,
          4.930301666259766,
          1.2555780410766602,
          3.4034454822540283,
          1.441796064376831,
          -0.8169633746147156,
          -2.6234371662139893,
          3.72868013381958,
          3.941553831100464,
          -0.5678545832633972,
          -4.928144931793213,
          -1.440804123878479,
          -2.953512191772461,
          -2.8500750064849854,
          -1.146554708480835,
          5.181642055511475,
          -1.1580438613891602,
          3.271034002304077,
          0.5862343311309814,
          -1.946391224861145,
          0.5904507637023926,
          1.997134804725647,
          2.2572274208068848,
          1.5222896337509155,
          -3.6210415363311768,
          -1.8459010124206543,
          1.1816579103469849,
          5.274261951446533,
          5.867251873016357,
          2.351254940032959,
          0.09381096810102463,
          -1.770054817199707,
          1.2482914924621582,
          1.3990169763565063,
          4.207064151763916,
          -1.466802954673767,
          -0.20836955308914185,
          -1.870110273361206,
          1.5962703227996826,
          1.590474009513855,
          -8.30151653289795,
          5.43241024017334,
          -2.7710623741149902,
          3.5696022510528564,
          0.8088304400444031,
          2.4781486988067627,
          5.050973892211914,
          4.724292755126953,
          0.8556216955184937,
          3.4426636695861816,
          -0.9979307651519775,
          -0.13942193984985352,
          -0.6345552206039429,
          0.9533708691596985,
          -3.135011672973633,
          -0.12417104840278625,
          0.1130463033914566,
          -8.216917037963867,
          -1.2356343269348145,
          1.3712323904037476,
          2.381715774536133,
          -5.47088098526001,
          1.731754183769226,
          4.68930721282959,
          -3.1841421127319336,
          0.9342920780181885,
          -3.4183011054992676,
          -1.7256697416305542,
          2.335314989089966,
          -2.3555049896240234,
          1.5803918838500977,
          -1.3017313480377197,
          -5.063395977020264,
          0.33434656262397766,
          3.8176887035369873,
          3.797485589981079,
          -0.8654237985610962,
          4.537979602813721,
          5.310761451721191,
          0.10207171738147736,
          -4.964090824127197,
          2.265474319458008,
          3.427948474884033,
          1.2764984369277954,
          2.1029160022735596,
          3.6695518493652344,
          0.9332494139671326,
          2.012854814529419,
          1.2630023956298828,
          1.981539011001587,
          5.387330055236816,
          0.8704596161842346,
          2.7722578048706055,
          1.4249646663665771,
          1.93604576587677,
          -6.121495246887207,
          -0.5512139797210693,
          1.2897273302078247,
          -8.405670166015625,
          1.674250602722168,
          0.5398013591766357,
          1.0141353607177734,
          -8.410868644714355,
          4.9400482177734375,
          4.72359561920166,
          0.6708882451057434,
          -3.0868630409240723,
          1.4057821035385132,
          4.288794994354248,
          1.5224261283874512,
          1.1173064708709717,
          -1.3645206689834595,
          1.1744847297668457,
          3.1274619102478027,
          3.5565080642700195,
          1.816084861755371,
          4.859558582305908,
          4.452932834625244,
          -3.3642029762268066,
          -0.0810873880982399,
          -7.337532043457031,
          5.879520416259766,
          -2.996800422668457,
          -0.16490338742733002,
          2.764968156814575,
          2.525622606277466,
          -4.009433269500732,
          4.57366943359375,
          -1.2661619186401367,
          -1.1045070886611938,
          2.1942341327667236,
          -0.5426377058029175,
          -7.058363914489746,
          1.742750883102417,
          -2.521158456802368,
          2.1690893173217773,
          -7.4074811935424805,
          -7.5979390144348145,
          -0.956914484500885,
          -0.5800727605819702,
          -0.2601708769798279,
          -1.4162431955337524,
          -4.56882381439209,
          2.231692314147949,
          -1.1396976709365845,
          -3.1931183338165283,
          -3.4148876667022705,
          -0.465813547372818,
          -0.3895666301250458,
          -6.664755821228027,
          -1.8976044654846191,
          -2.14462947845459,
          2.468475341796875,
          -1.8437587022781372,
          3.359531879425049,
          3.5799989700317383,
          -4.147806167602539,
          -2.198608636856079,
          -1.3924046754837036,
          1.8599739074707031,
          2.431040048599243,
          1.665834665298462,
          4.813808917999268,
          2.9363017082214355,
          4.065874099731445,
          5.019239902496338,
          1.4711816310882568,
          -1.512756586074829,
          3.5842673778533936,
          1.0018244981765747,
          1.0209532976150513,
          1.7353487014770508,
          3.4122607707977295,
          3.177823305130005,
          -1.5432407855987549,
          -1.6249008178710938,
          -0.015431663952767849,
          -2.7339510917663574,
          -0.7221130728721619,
          3.2078161239624023,
          -4.557201862335205,
          -1.5872266292572021,
          -3.9831156730651855,
          0.6130016446113586,
          0.8154602646827698,
          -0.3021082282066345,
          -4.487954616546631,
          -0.8656324148178101,
          2.151963472366333,
          4.872880458831787,
          3.9535608291625977,
          -0.8741023540496826,
          -0.35862118005752563,
          -0.5518323183059692,
          1.8073723316192627,
          -0.058342285454273224,
          4.2876296043396,
          3.7633554935455322,
          0.5035672187805176,
          -0.4911683201789856,
          1.1115102767944336,
          -1.0239098072052002,
          1.994451642036438,
          0.49142369627952576,
          3.2804574966430664,
          1.3784295320510864,
          -0.1662958413362503,
          0.7530896067619324,
          -3.3878562450408936,
          0.23270520567893982,
          4.947808265686035,
          4.76186466217041,
          3.622987747192383,
          0.2238064855337143,
          2.259964942932129,
          3.2337090969085693,
          1.5513858795166016,
          -3.617349624633789,
          2.888934850692749,
          1.861075758934021,
          -3.1672186851501465,
          -0.5018151998519897,
          -0.8604124188423157,
          1.961281657218933,
          -1.7836557626724243,
          -2.2636988162994385,
          3.9414258003234863,
          -2.33278751373291,
          -2.7682900428771973,
          1.1287473440170288,
          1.5384376049041748,
          1.2161073684692383,
          -1.6079691648483276,
          -1.0931652784347534,
          -0.415197491645813,
          2.0460691452026367,
          3.643388032913208,
          -3.947279691696167,
          2.9539997577667236,
          -1.1925694942474365,
          -5.982935428619385,
          -2.298682928085327,
          -3.508025646209717,
          -0.22956432402133942,
          4.038148403167725,
          1.823969841003418,
          1.9000049829483032,
          -2.373715877532959,
          -2.204038381576538,
          4.606520175933838,
          2.388097047805786,
          -0.1689070612192154,
          -1.5334506034851074,
          -3.1792025566101074,
          -2.1957483291625977,
          3.8348281383514404,
          0.2411523014307022,
          -1.448312520980835,
          -2.1887474060058594,
          -0.4443466067314148,
          0.5877119302749634,
          -4.874329566955566,
          1.6245009899139404,
          1.1659609079360962,
          4.245012283325195,
          4.736725807189941,
          -1.2152615785598755,
          -1.681089162826538,
          4.693883895874023,
          -1.5613930225372314,
          -0.9720343351364136,
          -1.0767961740493774,
          2.5465002059936523,
          4.481332302093506,
          -3.715179681777954,
          3.2075161933898926,
          -3.5128438472747803,
          -1.3171160221099854,
          -0.8097864985466003,
          0.8143577575683594,
          3.1960268020629883,
          0.7731716632843018,
          4.250182628631592,
          0.4763391315937042,
          -1.3092091083526611,
          3.6902382373809814,
          1.249829649925232,
          -2.7686946392059326,
          -2.3706772327423096,
          -0.2411840409040451,
          -1.7614116668701172,
          3.3557064533233643,
          4.698067665100098,
          1.4878658056259155,
          3.2803027629852295,
          1.9184869527816772,
          -5.351742744445801,
          5.07200288772583,
          4.7203874588012695,
          3.745689868927002,
          0.16947607696056366,
          3.804741859436035,
          3.4796767234802246,
          -2.2328689098358154,
          -8.37835693359375,
          1.418315052986145,
          -2.092939615249634,
          -3.372699737548828,
          0.6400296688079834,
          -0.6001518964767456,
          -7.658843994140625,
          -0.7933610081672668,
          1.1255728006362915,
          -6.734957695007324,
          1.781800389289856,
          1.7264858484268188,
          4.00025749206543,
          -4.056796073913574,
          -1.4961799383163452,
          -1.4521703720092773,
          -3.0643320083618164,
          0.16403840482234955,
          -3.0133891105651855,
          -0.45822739601135254,
          0.19392487406730652,
          -3.61096453666687,
          -7.6433305740356445,
          -1.9829037189483643,
          -1.1310970783233643,
          -1.1324728727340698,
          0.5613076090812683,
          -3.197783946990967,
          3.577855110168457,
          -5.182722091674805,
          3.1975314617156982,
          2.3572871685028076,
          3.472623109817505,
          -3.6261343955993652,
          4.006073951721191,
          -1.0767439603805542,
          -0.6673494577407837,
          0.301249235868454,
          4.566620349884033,
          3.6422195434570312,
          -0.30509012937545776,
          -1.726822018623352,
          0.8133547902107239,
          -0.6187469959259033,
          1.4707788228988647,
          -0.5969870090484619,
          5.133113384246826,
          -1.391337513923645,
          1.1175976991653442,
          4.639891624450684,
          -1.7134912014007568,
          2.117917060852051,
          1.157052755355835,
          3.862955331802368,
          -0.07277967035770416,
          -1.9290229082107544,
          -1.6785242557525635,
          3.778596878051758,
          0.16552819311618805,
          -5.093293190002441,
          1.557862639427185,
          0.050465457141399384,
          0.6325528621673584,
          -1.7343486547470093,
          0.7586692571640015,
          -0.9979532957077026,
          -0.21163322031497955,
          -2.39581561088562,
          -4.432936668395996,
          0.7341863512992859,
          -2.926745891571045,
          -1.0803049802780151,
          3.5933218002319336,
          0.3471745550632477,
          -3.1080853939056396,
          -3.1572184562683105,
          -6.964584827423096,
          0.5852712988853455,
          -0.9425718188285828,
          -0.25721800327301025,
          3.999659776687622,
          2.8157095909118652,
          0.28002628684043884,
          -7.066462516784668,
          -2.4747376441955566,
          -2.1728899478912354,
          1.0707865953445435,
          3.750694513320923,
          -2.771061897277832,
          -3.983353853225708,
          1.130468487739563,
          -2.1393678188323975,
          3.3783249855041504,
          1.2306667566299438,
          -1.7506386041641235,
          -0.9327479004859924,
          0.752029299736023,
          -2.4757189750671387,
          -7.684098720550537,
          -1.5181689262390137,
          0.8366631865501404,
          1.4432936906814575,
          -1.964889645576477,
          -6.419809341430664,
          -2.6462790966033936,
          2.0873448848724365,
          -1.7720751762390137,
          -4.656023025512695,
          4.842250823974609,
          -3.2868459224700928,
          3.238237142562866,
          2.128868818283081,
          -3.2077252864837646,
          -0.9981182217597961,
          -8.209423065185547,
          0.5707087516784668,
          -1.3237460851669312,
          -3.1363563537597656,
          -2.7667746543884277,
          -2.091991424560547,
          1.4893139600753784,
          -0.6788356900215149,
          3.4015254974365234,
          4.170381546020508,
          -1.8915259838104248,
          -3.2394542694091797,
          4.539093971252441,
          -0.264863520860672,
          0.6281079649925232,
          1.3036962747573853,
          -0.2983010709285736,
          -3.5564591884613037,
          4.7198944091796875,
          3.7627203464508057,
          0.07780676335096359,
          0.42442336678504944,
          -2.000361442565918,
          0.32765325903892517,
          -6.314597129821777,
          -3.8553056716918945,
          0.48464375734329224,
          2.234417676925659,
          -1.8444774150848389,
          3.7180349826812744,
          2.590059280395508,
          -1.1874009370803833,
          1.7710376977920532,
          -0.9301921725273132,
          3.0927205085754395,
          -5.092064380645752,
          3.452934503555298,
          4.116421222686768,
          2.131084680557251,
          -0.10736323893070221,
          4.6639251708984375,
          3.837071418762207,
          0.8580160140991211,
          4.267110347747803,
          1.4734169244766235,
          1.5731626749038696,
          4.0020318031311035,
          0.42030614614486694,
          1.232671856880188,
          -2.480146646499634,
          -6.913640975952148,
          2.063722848892212,
          -3.163390874862671,
          -0.8863834142684937,
          1.3318277597427368,
          -0.2868935465812683,
          4.122775077819824,
          4.123279571533203,
          4.477286338806152,
          4.035190105438232,
          0.7207593321800232,
          -3.11494779586792,
          -3.68330454826355,
          0.7332825660705566,
          -0.8377991318702698,
          2.6200144290924072,
          -0.5695997476577759,
          -0.0321408286690712,
          -7.555541515350342,
          0.14109590649604797,
          -0.6590141654014587,
          -6.7189459800720215,
          -0.8966758251190186,
          -2.288680076599121,
          -1.0136934518814087,
          4.21680212020874,
          4.53599739074707,
          -1.9615240097045898,
          -4.092987537384033,
          4.312932014465332,
          -4.417591571807861,
          -1.8972432613372803,
          3.593263864517212,
          -0.8736739754676819,
          -1.9608248472213745,
          2.9398245811462402,
          0.9540044069290161,
          -1.2907767295837402,
          -1.404401421546936,
          -1.0547083616256714,
          0.7980393171310425,
          1.8975049257278442,
          -0.4641503095626831,
          4.0630083084106445,
          -7.544610500335693,
          -1.349049687385559,
          -2.778228282928467,
          -1.5644798278808594,
          1.9579331874847412,
          -1.651708960533142,
          -0.854028582572937,
          -3.0717618465423584
         ],
         "z": [
          -2.093350410461426,
          2.9882864952087402,
          1.310176968574524,
          -1.9657872915267944,
          -1.0177059173583984,
          -1.9173355102539062,
          8.44212818145752,
          3.0452773571014404,
          1.1968351602554321,
          2.9651644229888916,
          -8.775470733642578,
          1.1681106090545654,
          8.83134651184082,
          3.1272132396698,
          4.180296897888184,
          -2.6549088954925537,
          -3.69299054145813,
          1.3519364595413208,
          -9.107544898986816,
          6.851506233215332,
          -4.266234397888184,
          4.721264362335205,
          -2.390148639678955,
          -3.9518933296203613,
          -1.4311273097991943,
          -3.540525197982788,
          -2.2967631816864014,
          -5.818417072296143,
          0.005394854582846165,
          -2.548689365386963,
          0.3774089515209198,
          -0.9497119188308716,
          3.775906801223755,
          6.631933689117432,
          5.723730087280273,
          -1.9042794704437256,
          0.9476051330566406,
          -10.079116821289062,
          9.207980155944824,
          -6.4377546310424805,
          -4.246830940246582,
          -4.71580171585083,
          -1.4871858358383179,
          -4.1951003074646,
          -0.8164442181587219,
          -0.7825474739074707,
          -4.52131462097168,
          -1.7604858875274658,
          -4.420221328735352,
          -5.123833656311035,
          -1.0668902397155762,
          6.359634876251221,
          -1.422054409980774,
          3.6738479137420654,
          -9.479172706604004,
          -1.1593728065490723,
          -1.830508828163147,
          -10.897342681884766,
          0.363227903842926,
          -1.9406217336654663,
          -5.655720233917236,
          -1.3897584676742554,
          -3.481773614883423,
          1.2777223587036133,
          -2.0502827167510986,
          1.1138126850128174,
          -2.459494113922119,
          -4.993986129760742,
          -0.729745626449585,
          -1.7100069522857666,
          2.053905963897705,
          5.302166938781738,
          3.9941155910491943,
          -2.2882704734802246,
          -10.494332313537598,
          4.813862323760986,
          -2.116898536682129,
          1.2776963710784912,
          -4.610147953033447,
          1.943831443786621,
          1.9826769828796387,
          0.17890100181102753,
          -0.11154548078775406,
          9.052467346191406,
          3.261503219604492,
          -0.8998849987983704,
          -3.0218470096588135,
          6.594826698303223,
          5.760034084320068,
          -9.691962242126465,
          -6.827489376068115,
          -2.8547918796539307,
          -5.344831943511963,
          4.550252914428711,
          -4.90085506439209,
          5.578941345214844,
          -3.348092794418335,
          -3.401580572128296,
          -3.2721071243286133,
          7.104034423828125,
          9.063929557800293,
          7.8455305099487305,
          0.3602684438228607,
          2.1070897579193115,
          -0.05482231080532074,
          -1.8835910558700562,
          -10.0589017868042,
          0.09524187445640564,
          -7.597177982330322,
          4.511442184448242,
          -0.588782012462616,
          -0.2776974141597748,
          -0.21430756151676178,
          -4.842013835906982,
          -5.2013936042785645,
          2.662707805633545,
          -2.7541964054107666,
          3.4826838970184326,
          -3.225839614868164,
          -3.555845022201538,
          -3.154465675354004,
          3.117924213409424,
          0.8183582425117493,
          1.2900055646896362,
          -3.713117837905884,
          -4.585638999938965,
          -6.2818732261657715,
          4.896581649780273,
          -2.563096523284912,
          1.416179895401001,
          4.295292854309082,
          3.877103328704834,
          0.2682899236679077,
          -1.9853111505508423,
          8.364151954650879,
          8.313688278198242,
          2.7500619888305664,
          -5.709803581237793,
          3.7076103687286377,
          -0.832466721534729,
          -2.373220682144165,
          -6.953170299530029,
          -2.765134572982788,
          -10.163375854492188,
          -4.6718339920043945,
          -2.1149580478668213,
          7.384093284606934,
          0.19205889105796814,
          -1.0663713216781616,
          -2.567318916320801,
          0.22729545831680298,
          -8.419393539428711,
          -1.7571817636489868,
          -1.1446175575256348,
          3.36586594581604,
          2.159897565841675,
          4.019632339477539,
          -5.759072303771973,
          2.5065295696258545,
          0.8896296620368958,
          7.516541957855225,
          -4.740843296051025,
          3.4353585243225098,
          -2.126085042953491,
          -2.497213840484619,
          5.6225409507751465,
          3.5431904792785645,
          -8.179545402526855,
          5.596391677856445,
          -1.7005399465560913,
          -1.2225253582000732,
          -1.27094566822052,
          2.1102728843688965,
          -5.572218894958496,
          -0.7041177749633789,
          1.5857309103012085,
          1.7929198741912842,
          -9.963305473327637,
          0.9202895760536194,
          4.080374240875244,
          7.487875461578369,
          -3.124725341796875,
          2.8791158199310303,
          -1.2429786920547485,
          -4.589789867401123,
          5.017524242401123,
          -0.05806154012680054,
          -4.388294219970703,
          6.0873565673828125,
          1.3369616270065308,
          1.397322416305542,
          -9.041067123413086,
          -9.398618698120117,
          -0.407316654920578,
          -0.3238573670387268,
          -3.082676649093628,
          2.147625684738159,
          1.2836006879806519,
          -1.1004905700683594,
          -1.0381096601486206,
          3.471306085586548,
          7.89733362197876,
          5.308146953582764,
          -1.3243286609649658,
          6.192258358001709,
          4.660861015319824,
          2.337236166000366,
          -8.982527732849121,
          4.480238437652588,
          3.5834720134735107,
          -2.197333335876465,
          -2.2546868324279785,
          -1.2249618768692017,
          -0.3199990689754486,
          1.6078723669052124,
          -4.103499889373779,
          -3.432774543762207,
          3.1780827045440674,
          -9.124957084655762,
          -10.15371322631836,
          -3.2168753147125244,
          4.239640712738037,
          3.0798158645629883,
          2.1752421855926514,
          -2.6015026569366455,
          -1.288200855255127,
          2.2036633491516113,
          5.54365873336792,
          0.8263383507728577,
          5.404451370239258,
          1.9859856367111206,
          -1.8177690505981445,
          5.301583766937256,
          6.543870449066162,
          3.998587131500244,
          -0.9969260096549988,
          7.676665782928467,
          4.990566253662109,
          -1.5046323537826538,
          3.2915499210357666,
          7.19419527053833,
          3.939873456954956,
          3.2911667823791504,
          -0.07887089997529984,
          -0.3122108280658722,
          2.1391313076019287,
          0.44870612025260925,
          2.228764057159424,
          -5.5943379402160645,
          1.9768424034118652,
          -6.115788459777832,
          -2.0560977458953857,
          3.7765989303588867,
          3.9831581115722656,
          -3.788133382797241,
          -0.4603852331638336,
          0.9205635786056519,
          -5.184179782867432,
          2.1202330589294434,
          -1.9273979663848877,
          0.036544572561979294,
          -1.2301025390625,
          -1.1527479887008667,
          -10.831945419311523,
          -4.322319030761719,
          -0.6331491470336914,
          -0.5043081045150757,
          0.3564857840538025,
          8.841522216796875,
          0.737525224685669,
          2.6969501972198486,
          9.286918640136719,
          8.383406639099121,
          -3.6002097129821777,
          4.126821041107178,
          4.318278789520264,
          -1.219569444656372,
          -2.4643983840942383,
          -7.398788928985596,
          -6.752740383148193,
          5.626482963562012,
          5.618152141571045,
          4.4433135986328125,
          -3.8082075119018555,
          -3.6444671154022217,
          1.320414662361145,
          -3.1127822399139404,
          -9.161120414733887,
          -0.9258180856704712,
          5.602013111114502,
          -3.284815549850464,
          -9.403088569641113,
          1.2188024520874023,
          -2.6385557651519775,
          -1.7781531810760498,
          4.883724212646484,
          2.7488811016082764,
          2.0908892154693604,
          -5.581162929534912,
          2.7498509883880615,
          -0.8545184135437012,
          10.006656646728516,
          5.2584028244018555,
          -10.11095905303955,
          -1.7732703685760498,
          6.16587495803833,
          2.9470791816711426,
          2.0939137935638428,
          -4.203322410583496,
          -4.730785846710205,
          -0.9856854677200317,
          6.165009498596191,
          -2.4889492988586426,
          3.7755966186523438,
          -11.305628776550293,
          -0.6298272013664246,
          2.4773175716400146,
          -3.9336764812469482,
          4.1926469802856445,
          6.006136894226074,
          2.8453149795532227,
          6.725631237030029,
          1.5284067392349243,
          -10.163446426391602,
          9.532035827636719,
          -0.4330276548862457,
          4.1515655517578125,
          -2.628873825073242,
          -0.5495246052742004,
          7.836989879608154,
          -4.389105796813965,
          0.2511816918849945,
          10.28322696685791,
          4.5676751136779785,
          8.851734161376953,
          -6.383220672607422,
          5.167740821838379,
          -0.9796745181083679,
          -6.466440677642822,
          -7.406604290008545,
          4.898862361907959,
          -4.544834613800049,
          -1.601243495941162,
          -6.0409040451049805,
          -5.55621337890625,
          3.393282651901245,
          2.3784096240997314,
          6.766645431518555,
          -0.1943424940109253,
          10.05500316619873,
          6.220381259918213,
          3.4387803077697754,
          -10.16334056854248,
          2.359034776687622,
          5.557828903198242,
          3.187049150466919,
          3.016470193862915,
          -2.4504683017730713,
          4.314274311065674,
          6.841463088989258,
          6.168868064880371,
          5.797830581665039,
          8.83244800567627,
          -3.7161309719085693,
          -5.779376983642578,
          6.665346145629883,
          8.00424575805664,
          -2.168510913848877,
          -3.016571283340454,
          -3.890789270401001,
          5.998030662536621,
          2.839754819869995,
          4.023681163787842,
          0.9042617678642273,
          1.9930377006530762,
          3.99765682220459,
          8.132951736450195,
          -9.367523193359375,
          -3.6958417892456055,
          0.024509791284799576,
          -4.272695541381836,
          7.335027694702148,
          -2.6110646724700928,
          3.494145154953003,
          0.03043290041387081,
          -2.212803602218628,
          -2.502976417541504,
          -0.2145041972398758,
          -4.71214485168457,
          3.458099603652954,
          -10.068634986877441,
          -3.8421263694763184,
          2.2125461101531982,
          -0.8667610883712769,
          -5.456154823303223,
          -0.05856476351618767,
          -6.067454814910889,
          -9.00053596496582,
          3.1843652725219727,
          -2.8016679286956787,
          -4.111105918884277,
          4.833436012268066,
          -3.082202911376953,
          3.9338769912719727,
          -4.31876277923584,
          1.3026682138442993,
          1.4476877450942993,
          -2.0703020095825195,
          5.978537082672119,
          -5.021708011627197,
          -3.0715203285217285,
          4.3428850173950195,
          -0.9722762107849121,
          -3.475292682647705,
          -5.037425518035889,
          4.746546268463135,
          -2.6120331287384033,
          -9.834891319274902,
          -6.338624000549316,
          -7.661020278930664,
          -4.927234649658203,
          -6.183567047119141,
          -1.7507878541946411,
          -7.8349127769470215,
          -2.3034234046936035,
          -5.475465297698975,
          -1.8437598943710327,
          7.1899895668029785,
          0.8131048083305359,
          4.939085483551025,
          8.428577423095703,
          8.913873672485352,
          -2.679032564163208,
          -0.051301438361406326,
          8.358799934387207,
          -2.4522953033447266,
          8.98393726348877,
          0.8313193321228027,
          -10.631573677062988,
          -3.16408371925354,
          2.9728455543518066,
          4.63618278503418,
          5.408980846405029,
          -0.8494617342948914,
          -7.62483549118042,
          4.248541355133057,
          -5.3799896240234375,
          6.433461666107178,
          5.341576099395752,
          5.655623912811279,
          9.320719718933105,
          -5.691103935241699,
          1.5530952215194702,
          4.026584148406982,
          -8.345946311950684,
          1.596676230430603,
          -3.3179543018341064,
          0.9323738813400269,
          0.20419567823410034,
          2.490845203399658,
          8.664493560791016,
          0.6299055218696594,
          -9.161688804626465,
          2.990046977996826,
          -4.694967746734619,
          3.6794543266296387,
          4.290171146392822,
          0.9417308568954468,
          5.206308841705322,
          5.098442077636719,
          6.140112400054932,
          3.466378927230835,
          4.397170543670654,
          -2.337322950363159,
          4.037236213684082,
          -9.572859764099121,
          -3.3322527408599854,
          -1.0038580894470215,
          -3.257418632507324,
          -2.282813310623169,
          3.219339609146118,
          7.853366851806641,
          5.035584926605225,
          -2.0283114910125732,
          -4.484127521514893,
          -0.4029042422771454,
          2.6606638431549072,
          -3.508242607116699,
          2.710891008377075,
          -5.825425624847412,
          0.8874384164810181,
          3.210899829864502,
          -3.6371676921844482,
          -7.110845565795898,
          4.6960320472717285,
          -4.7112650871276855,
          -6.145119667053223,
          -3.9891059398651123,
          2.261256217956543,
          2.000823736190796,
          1.1144366264343262,
          4.2327880859375,
          2.52752423286438,
          2.944112777709961,
          2.772756576538086,
          2.9144203662872314,
          -0.23279684782028198,
          5.820822238922119,
          -6.358143329620361,
          -5.272400856018066,
          1.9502071142196655,
          -2.6527602672576904,
          -3.901555299758911,
          4.103451728820801,
          2.492765426635742,
          0.07896102219820023,
          -2.5699708461761475,
          -1.2373262643814087,
          1.985007405281067,
          1.877991795539856,
          2.083552598953247,
          -5.891923904418945,
          7.04826021194458,
          4.535928726196289,
          5.535861015319824,
          6.639176368713379,
          -5.2463579177856445,
          4.492608547210693,
          -1.6649794578552246,
          4.278879642486572,
          5.25961446762085,
          -5.15628719329834,
          -6.64149808883667,
          5.851200103759766,
          0.03728311508893967,
          -4.21669864654541,
          6.277204513549805,
          -1.867242693901062,
          0.5644859075546265,
          5.621587753295898,
          5.385305404663086,
          4.04568338394165,
          3.3286330699920654,
          -0.405448853969574,
          -7.080316066741943,
          2.8145711421966553,
          2.9095494747161865,
          -0.2205674648284912,
          8.731562614440918,
          -4.0982255935668945,
          -3.8748021125793457,
          -3.2778573036193848,
          2.4896504878997803,
          -8.936074256896973,
          3.840280055999756,
          -6.529167175292969,
          -2.0748372077941895,
          3.430986166000366,
          -3.0896754264831543,
          -7.151366710662842,
          6.34486722946167,
          2.6349966526031494,
          3.6108832359313965,
          3.3994598388671875,
          -8.99622917175293,
          0.7487162351608276,
          -10.197704315185547,
          -4.142124652862549,
          4.875349521636963,
          7.951252460479736,
          8.82131290435791,
          -4.650025844573975,
          -3.004818916320801,
          -7.552363872528076,
          2.8934314250946045,
          -10.43430233001709,
          2.9690957069396973,
          -2.4327054023742676,
          -6.631021976470947,
          1.2803767919540405,
          1.375709891319275,
          3.4829068183898926,
          -1.0355100631713867,
          -0.5862389802932739,
          -2.492759943008423,
          3.7921245098114014,
          -5.222954273223877,
          -1.753800392150879,
          3.3370397090911865,
          -2.037716865539551,
          2.8019142150878906,
          1.9726250171661377,
          4.876768112182617,
          1.1244525909423828,
          -3.3778560161590576,
          4.64302921295166,
          3.218850612640381,
          -3.7923073768615723,
          -1.9304970502853394,
          2.0485658645629883,
          6.52825403213501,
          -3.1962153911590576,
          0.058423690497875214,
          3.499695062637329,
          4.67128324508667,
          3.865044593811035,
          -0.04668118432164192,
          3.440682888031006,
          -3.959472417831421,
          -3.033196449279785,
          -7.577644348144531,
          1.9228962659835815,
          8.147285461425781,
          -3.47807240486145,
          4.041237831115723,
          -0.16169416904449463,
          -3.3163349628448486,
          -2.8352715969085693,
          7.647965431213379,
          -4.774882793426514,
          8.473213195800781,
          -2.938997268676758,
          0.44526344537734985,
          -7.463822364807129,
          -3.1679277420043945,
          -2.450334310531616,
          -2.601463556289673,
          2.0682106018066406,
          -3.5181548595428467,
          1.7129374742507935,
          -2.454406261444092,
          -3.337113857269287,
          -4.940999984741211,
          -1.8631905317306519,
          4.208202362060547,
          3.904536247253418,
          -1.7287633419036865,
          4.581921577453613,
          -4.895676612854004,
          -0.2144569307565689,
          -4.426407814025879,
          -7.483762264251709,
          -0.49568626284599304,
          2.910696268081665,
          3.294451951980591,
          -0.2689175009727478,
          -0.7756836414337158,
          0.5483716726303101,
          4.199958801269531,
          5.92659330368042,
          3.3719325065612793,
          0.9375362992286682,
          -3.568824529647827,
          -1.1944433450698853,
          1.074059009552002,
          -5.309921741485596,
          -2.1596295833587646,
          -3.749138355255127,
          -3.0773203372955322,
          -6.0167460441589355,
          6.4619855880737305,
          -4.177758693695068,
          5.665177822113037,
          1.6004303693771362,
          9.279923439025879,
          0.4783809185028076,
          3.3741748332977295,
          -0.5181829929351807,
          -1.1573418378829956,
          -0.3949735164642334,
          6.807290077209473,
          -3.9509685039520264,
          -0.9180444478988647,
          -1.0887399911880493,
          3.2824573516845703,
          -2.472005844116211,
          -4.3902716636657715,
          -7.567996501922607,
          0.7058219909667969,
          -0.9737787246704102,
          -5.625618934631348,
          -4.813455581665039,
          -5.699005603790283,
          -9.841886520385742,
          -5.9808669090271,
          -3.3765857219696045,
          -4.0341925621032715,
          -3.931943893432617,
          -5.921363830566406,
          -0.7237207293510437,
          2.6976635456085205,
          -5.735299110412598,
          -6.135185241699219,
          2.532503128051758,
          -3.234279155731201,
          7.205872058868408,
          -3.9163453578948975,
          5.050985813140869,
          4.559904098510742,
          1.6503781080245972,
          -1.8906779289245605,
          -0.12904968857765198,
          3.1083922386169434,
          -1.4895261526107788,
          -8.502472877502441,
          -0.12929655611515045,
          -6.46958065032959,
          1.2730021476745605,
          -7.069104194641113,
          3.2142233848571777,
          0.8983520865440369,
          -5.549310207366943,
          -2.3453590869903564,
          -0.7974298000335693,
          -3.0387520790100098,
          -9.302606582641602,
          -2.7212204933166504,
          3.5028507709503174,
          -0.10223627090454102,
          1.6050727367401123,
          2.049797296524048,
          -1.7669079303741455,
          1.3897745609283447,
          2.7688698768615723,
          -0.22339162230491638,
          6.882842540740967,
          1.8853344917297363,
          -3.583726644515991,
          4.27214241027832,
          4.1170783042907715,
          0.8847814798355103,
          0.7677677869796753,
          -0.03846113011240959,
          7.29630184173584,
          8.659760475158691,
          2.90354585647583,
          4.003528594970703,
          -0.6921467185020447,
          1.419904351234436,
          -1.281550407409668,
          6.483372211456299,
          -0.6133756041526794,
          2.469367504119873,
          -8.92579174041748,
          9.37060546875,
          -0.9149940013885498,
          -1.4144105911254883,
          -3.6474790573120117,
          -5.8894243240356445,
          2.4363455772399902,
          -0.6933978199958801,
          3.597759246826172,
          3.2197744846343994,
          -1.9246405363082886,
          -6.229850769042969,
          -7.249515533447266,
          -2.7504043579101562,
          5.200930118560791,
          -1.9076110124588013,
          -2.1642603874206543,
          4.8946309089660645,
          3.5665528774261475,
          -0.5125055909156799,
          -2.3606786727905273,
          6.140876770019531,
          -9.828124046325684,
          -7.462935447692871,
          1.9625412225723267,
          6.018741607666016,
          -2.9952423572540283,
          7.284189224243164,
          -7.694703102111816,
          -2.391582727432251,
          1.7527356147766113,
          -0.9806334972381592,
          3.219863176345825,
          -3.373582363128662,
          -6.819228172302246,
          0.6533532738685608,
          2.8393003940582275,
          5.526217460632324,
          -4.914031505584717,
          -0.5180010795593262,
          3.786869764328003,
          -5.682034015655518,
          0.6862995624542236,
          -5.744350433349609,
          -3.635629653930664,
          2.345426321029663,
          -5.426877975463867,
          7.21135139465332,
          -7.4810638427734375,
          -3.726580858230591,
          -5.739606857299805,
          -9.572915077209473,
          -3.469661235809326,
          -9.831025123596191,
          -3.3738155364990234,
          -6.366245269775391,
          0.04288205876946449,
          4.498437881469727,
          -3.049476146697998,
          -4.057290077209473,
          0.15193001925945282,
          8.89005184173584,
          2.3472020626068115,
          -2.7013258934020996,
          8.524548530578613,
          -2.4927384853363037,
          1.07046377658844,
          2.928753614425659,
          -2.67187237739563,
          2.091557264328003,
          -4.288581848144531,
          -0.7169137001037598,
          -7.392378807067871,
          0.9141425490379333,
          0.9417308568954468,
          2.443272113800049,
          2.987494707107544,
          3.8186686038970947,
          -2.0275423526763916,
          -4.518332481384277,
          -7.065944194793701,
          8.9148530960083,
          6.596800804138184,
          -10.527026176452637,
          2.5735933780670166,
          2.5796217918395996,
          7.404481410980225,
          5.080875396728516,
          3.263373374938965,
          1.4599615335464478,
          -2.2951011657714844,
          -3.6771132946014404,
          -2.3924810886383057,
          1.2416117191314697,
          4.1328558921813965,
          -4.059782028198242,
          2.911803960800171,
          -5.98622465133667,
          1.6600661277770996,
          -9.57284164428711,
          3.4583613872528076,
          -6.2008209228515625,
          -4.9403767585754395,
          -6.073099136352539,
          -2.24121356010437,
          6.195389747619629,
          6.253627300262451,
          -9.242302894592285,
          3.5690689086914062,
          -2.056960105895996,
          4.878568172454834,
          -3.7945830821990967,
          2.2317161560058594,
          -1.209409236907959,
          5.260949611663818,
          -4.867141246795654,
          -2.628009796142578,
          0.48120027780532837,
          3.6300723552703857,
          -3.2625069618225098,
          -7.075440406799316,
          -6.84479284286499,
          2.2789816856384277,
          0.9029962420463562,
          3.9334607124328613,
          0.3059406280517578,
          4.946078777313232,
          4.845353126525879,
          6.6341872215271,
          0.8622301816940308,
          0.140947625041008,
          -5.219122886657715,
          -5.0841803550720215,
          -8.925418853759766,
          5.795875072479248,
          3.3151519298553467,
          1.8690894842147827,
          -5.270562171936035,
          4.534918308258057,
          -3.1186132431030273,
          -4.315023422241211,
          -1.2804031372070312,
          -5.914073944091797,
          4.213925838470459,
          6.419827938079834,
          3.9295828342437744,
          -3.436802625656128,
          -6.420575141906738,
          -4.8376641273498535,
          0.5428375005722046,
          3.135873556137085,
          2.4850149154663086,
          -0.08756374567747116,
          -2.0480873584747314,
          -3.3540329933166504,
          8.652311325073242,
          -0.46727612614631653,
          1.13853919506073,
          2.781096935272217,
          2.176816940307617,
          -3.743560314178467,
          -6.209083080291748,
          -1.1622220277786255,
          -5.803437232971191,
          -8.84591007232666,
          -4.625058650970459,
          8.65924072265625,
          3.400545358657837,
          2.1403143405914307,
          4.0272722244262695,
          -3.2323012351989746,
          1.2641462087631226,
          8.403207778930664,
          2.2099878787994385,
          -0.3102913498878479,
          0.7481916546821594,
          -2.115286350250244,
          6.905001640319824,
          -3.1308603286743164,
          5.2000932693481445,
          2.8898634910583496,
          4.638502597808838,
          -4.571484565734863,
          -8.88886547088623,
          -1.8976248502731323,
          4.579013347625732,
          -2.844879388809204,
          -1.8734381198883057,
          -6.405396938323975,
          3.6831398010253906,
          -7.374930381774902,
          -6.322406768798828,
          4.057844638824463,
          5.522346496582031,
          2.3276100158691406,
          -2.4900741577148438,
          -7.259119033813477,
          -5.006173610687256,
          1.944165825843811,
          -3.6100659370422363,
          -9.382989883422852,
          3.5110461711883545
         ]
        },
        {
         "hovertemplate": "Dominant_Topic=Topic 1<br>0=%{x}<br>1=%{y}<br>2=%{z}<extra></extra>",
         "legendgroup": "Topic 1",
         "marker": {
          "color": "#EF553B",
          "opacity": 0.7,
          "symbol": "circle"
         },
         "mode": "markers",
         "name": "Topic 1",
         "scene": "scene",
         "showlegend": true,
         "type": "scatter3d",
         "x": [
          -3.1329362392425537,
          -10.013104438781738,
          4.794561386108398,
          -9.444720268249512,
          -9.603311538696289,
          7.300926208496094,
          -9.454925537109375,
          -9.706241607666016,
          -3.69563627243042,
          7.076305389404297,
          -9.496991157531738,
          -9.879413604736328,
          -10.018791198730469,
          -9.597968101501465,
          -9.535453796386719,
          -3.045745372772217,
          -10.03612995147705,
          -10.047028541564941,
          -9.601641654968262,
          -9.8587646484375,
          -9.526351928710938,
          -9.868232727050781,
          -9.520591735839844,
          -9.792978286743164
         ],
         "y": [
          -2.9855542182922363,
          -2.520535469055176,
          0.07068052142858505,
          -2.357506513595581,
          -2.2249953746795654,
          -1.382934331893921,
          -2.8272790908813477,
          -2.714719772338867,
          2.288792610168457,
          1.6912918090820312,
          -2.707563638687134,
          -2.5537703037261963,
          -2.4589972496032715,
          -2.245471954345703,
          -2.6187498569488525,
          -3.0658152103424072,
          -2.6228911876678467,
          -2.249842643737793,
          -2.8459646701812744,
          -2.4998443126678467,
          -2.7503464221954346,
          -2.501708984375,
          -2.257658004760742,
          -2.490403890609741
         ],
         "z": [
          -11.51188850402832,
          9.568870544433594,
          -5.540307998657227,
          10.093330383300781,
          10.13724422454834,
          -3.1458661556243896,
          10.166400909423828,
          10.358198165893555,
          -5.745050430297852,
          -0.37821877002716064,
          10.041552543640137,
          9.608827590942383,
          9.499658584594727,
          10.248444557189941,
          10.415372848510742,
          -11.492278099060059,
          9.921350479125977,
          10.166716575622559,
          10.336099624633789,
          9.566360473632812,
          9.981707572937012,
          10.331108093261719,
          10.091171264648438,
          10.383124351501465
         ]
        },
        {
         "hovertemplate": "Dominant_Topic=Topic 2<br>0=%{x}<br>1=%{y}<br>2=%{z}<extra></extra>",
         "legendgroup": "Topic 2",
         "marker": {
          "color": "#00cc96",
          "opacity": 0.7,
          "symbol": "circle"
         },
         "mode": "markers",
         "name": "Topic 2",
         "scene": "scene",
         "showlegend": true,
         "type": "scatter3d",
         "x": [
          1.8996286392211914,
          -3.0934853553771973
         ],
         "y": [
          3.6096441745758057,
          -3.2090506553649902
         ],
         "z": [
          3.307800769805908,
          -11.267243385314941
         ]
        },
        {
         "hovertemplate": "Dominant_Topic=Topic 3<br>0=%{x}<br>1=%{y}<br>2=%{z}<extra></extra>",
         "legendgroup": "Topic 3",
         "marker": {
          "color": "#ab63fa",
          "opacity": 0.7,
          "symbol": "circle"
         },
         "mode": "markers",
         "name": "Topic 3",
         "scene": "scene",
         "showlegend": true,
         "type": "scatter3d",
         "x": [
          -6.324077129364014,
          -4.17254114151001,
          -5.673207759857178,
          -5.3257880210876465,
          -4.946112155914307,
          5.438695430755615,
          -5.512942314147949,
          -5.754049777984619,
          -6.135333061218262,
          -5.752551078796387,
          -6.470607757568359,
          -5.229414939880371,
          -6.34226655960083,
          -4.199748516082764,
          -5.535313129425049,
          -5.761674880981445,
          -6.166914463043213,
          -5.477560520172119,
          -5.445860385894775,
          -6.44166898727417,
          -2.0426876544952393,
          -5.926295280456543,
          -2.163196086883545,
          -5.273242473602295,
          -5.342322826385498,
          6.219854831695557,
          -6.051877021789551
         ],
         "y": [
          5.311464309692383,
          -1.572208046913147,
          -1.6752312183380127,
          5.011226177215576,
          4.106048107147217,
          1.53846275806427,
          5.417698860168457,
          5.507130146026611,
          4.410499572753906,
          4.754125118255615,
          3.459296226501465,
          4.841799259185791,
          4.078385353088379,
          -1.6580890417099,
          5.565335273742676,
          5.554561138153076,
          3.7699475288391113,
          5.577125072479248,
          4.966712474822998,
          -1.0313856601715088,
          -1.9419783353805542,
          5.37854528427124,
          4.038463592529297,
          4.644179344177246,
          5.978717803955078,
          -1.1318987607955933,
          -1.3688935041427612
         ],
         "z": [
          2.565857172012329,
          -7.583970546722412,
          -5.058743953704834,
          -1.4155880212783813,
          -3.9841392040252686,
          -4.20084285736084,
          0.25868773460388184,
          3.54388427734375,
          -2.782454252243042,
          -2.278333902359009,
          0.1444171816110611,
          -3.3015615940093994,
          -3.043416976928711,
          -7.4596452713012695,
          0.472284197807312,
          3.2657599449157715,
          4.408239364624023,
          0.51518714427948,
          -1.4929232597351074,
          -3.4778406620025635,
          -9.664295196533203,
          2.9428799152374268,
          -0.2727319598197937,
          -2.415217638015747,
          1.8488725423812866,
          6.2142252922058105,
          -4.225977420806885
         ]
        }
       ],
       "layout": {
        "height": 800,
        "legend": {
         "title": {
          "text": "Dominant_Topic"
         },
         "tracegroupgap": 0
        },
        "scene": {
         "aspectmode": "auto",
         "aspectratio": {
          "x": 1.0667742504016013,
          "y": 0.7899730152823109,
          "z": 1.1866297144136044
         },
         "domain": {
          "x": [
           0,
           1
          ],
          "y": [
           0,
           1
          ]
         },
         "xaxis": {
          "title": {
           "text": "0"
          },
          "type": "linear"
         },
         "yaxis": {
          "title": {
           "text": "1"
          },
          "type": "linear"
         },
         "zaxis": {
          "title": {
           "text": "2"
          },
          "type": "linear"
         }
        },
        "template": {
         "data": {
          "bar": [
           {
            "error_x": {
             "color": "#2a3f5f"
            },
            "error_y": {
             "color": "#2a3f5f"
            },
            "marker": {
             "line": {
              "color": "#E5ECF6",
              "width": 0.5
             },
             "pattern": {
              "fillmode": "overlay",
              "size": 10,
              "solidity": 0.2
             }
            },
            "type": "bar"
           }
          ],
          "barpolar": [
           {
            "marker": {
             "line": {
              "color": "#E5ECF6",
              "width": 0.5
             },
             "pattern": {
              "fillmode": "overlay",
              "size": 10,
              "solidity": 0.2
             }
            },
            "type": "barpolar"
           }
          ],
          "carpet": [
           {
            "aaxis": {
             "endlinecolor": "#2a3f5f",
             "gridcolor": "white",
             "linecolor": "white",
             "minorgridcolor": "white",
             "startlinecolor": "#2a3f5f"
            },
            "baxis": {
             "endlinecolor": "#2a3f5f",
             "gridcolor": "white",
             "linecolor": "white",
             "minorgridcolor": "white",
             "startlinecolor": "#2a3f5f"
            },
            "type": "carpet"
           }
          ],
          "choropleth": [
           {
            "colorbar": {
             "outlinewidth": 0,
             "ticks": ""
            },
            "type": "choropleth"
           }
          ],
          "contour": [
           {
            "colorbar": {
             "outlinewidth": 0,
             "ticks": ""
            },
            "colorscale": [
             [
              0,
              "#0d0887"
             ],
             [
              0.1111111111111111,
              "#46039f"
             ],
             [
              0.2222222222222222,
              "#7201a8"
             ],
             [
              0.3333333333333333,
              "#9c179e"
             ],
             [
              0.4444444444444444,
              "#bd3786"
             ],
             [
              0.5555555555555556,
              "#d8576b"
             ],
             [
              0.6666666666666666,
              "#ed7953"
             ],
             [
              0.7777777777777778,
              "#fb9f3a"
             ],
             [
              0.8888888888888888,
              "#fdca26"
             ],
             [
              1,
              "#f0f921"
             ]
            ],
            "type": "contour"
           }
          ],
          "contourcarpet": [
           {
            "colorbar": {
             "outlinewidth": 0,
             "ticks": ""
            },
            "type": "contourcarpet"
           }
          ],
          "heatmap": [
           {
            "colorbar": {
             "outlinewidth": 0,
             "ticks": ""
            },
            "colorscale": [
             [
              0,
              "#0d0887"
             ],
             [
              0.1111111111111111,
              "#46039f"
             ],
             [
              0.2222222222222222,
              "#7201a8"
             ],
             [
              0.3333333333333333,
              "#9c179e"
             ],
             [
              0.4444444444444444,
              "#bd3786"
             ],
             [
              0.5555555555555556,
              "#d8576b"
             ],
             [
              0.6666666666666666,
              "#ed7953"
             ],
             [
              0.7777777777777778,
              "#fb9f3a"
             ],
             [
              0.8888888888888888,
              "#fdca26"
             ],
             [
              1,
              "#f0f921"
             ]
            ],
            "type": "heatmap"
           }
          ],
          "heatmapgl": [
           {
            "colorbar": {
             "outlinewidth": 0,
             "ticks": ""
            },
            "colorscale": [
             [
              0,
              "#0d0887"
             ],
             [
              0.1111111111111111,
              "#46039f"
             ],
             [
              0.2222222222222222,
              "#7201a8"
             ],
             [
              0.3333333333333333,
              "#9c179e"
             ],
             [
              0.4444444444444444,
              "#bd3786"
             ],
             [
              0.5555555555555556,
              "#d8576b"
             ],
             [
              0.6666666666666666,
              "#ed7953"
             ],
             [
              0.7777777777777778,
              "#fb9f3a"
             ],
             [
              0.8888888888888888,
              "#fdca26"
             ],
             [
              1,
              "#f0f921"
             ]
            ],
            "type": "heatmapgl"
           }
          ],
          "histogram": [
           {
            "marker": {
             "pattern": {
              "fillmode": "overlay",
              "size": 10,
              "solidity": 0.2
             }
            },
            "type": "histogram"
           }
          ],
          "histogram2d": [
           {
            "colorbar": {
             "outlinewidth": 0,
             "ticks": ""
            },
            "colorscale": [
             [
              0,
              "#0d0887"
             ],
             [
              0.1111111111111111,
              "#46039f"
             ],
             [
              0.2222222222222222,
              "#7201a8"
             ],
             [
              0.3333333333333333,
              "#9c179e"
             ],
             [
              0.4444444444444444,
              "#bd3786"
             ],
             [
              0.5555555555555556,
              "#d8576b"
             ],
             [
              0.6666666666666666,
              "#ed7953"
             ],
             [
              0.7777777777777778,
              "#fb9f3a"
             ],
             [
              0.8888888888888888,
              "#fdca26"
             ],
             [
              1,
              "#f0f921"
             ]
            ],
            "type": "histogram2d"
           }
          ],
          "histogram2dcontour": [
           {
            "colorbar": {
             "outlinewidth": 0,
             "ticks": ""
            },
            "colorscale": [
             [
              0,
              "#0d0887"
             ],
             [
              0.1111111111111111,
              "#46039f"
             ],
             [
              0.2222222222222222,
              "#7201a8"
             ],
             [
              0.3333333333333333,
              "#9c179e"
             ],
             [
              0.4444444444444444,
              "#bd3786"
             ],
             [
              0.5555555555555556,
              "#d8576b"
             ],
             [
              0.6666666666666666,
              "#ed7953"
             ],
             [
              0.7777777777777778,
              "#fb9f3a"
             ],
             [
              0.8888888888888888,
              "#fdca26"
             ],
             [
              1,
              "#f0f921"
             ]
            ],
            "type": "histogram2dcontour"
           }
          ],
          "mesh3d": [
           {
            "colorbar": {
             "outlinewidth": 0,
             "ticks": ""
            },
            "type": "mesh3d"
           }
          ],
          "parcoords": [
           {
            "line": {
             "colorbar": {
              "outlinewidth": 0,
              "ticks": ""
             }
            },
            "type": "parcoords"
           }
          ],
          "pie": [
           {
            "automargin": true,
            "type": "pie"
           }
          ],
          "scatter": [
           {
            "fillpattern": {
             "fillmode": "overlay",
             "size": 10,
             "solidity": 0.2
            },
            "type": "scatter"
           }
          ],
          "scatter3d": [
           {
            "line": {
             "colorbar": {
              "outlinewidth": 0,
              "ticks": ""
             }
            },
            "marker": {
             "colorbar": {
              "outlinewidth": 0,
              "ticks": ""
             }
            },
            "type": "scatter3d"
           }
          ],
          "scattercarpet": [
           {
            "marker": {
             "colorbar": {
              "outlinewidth": 0,
              "ticks": ""
             }
            },
            "type": "scattercarpet"
           }
          ],
          "scattergeo": [
           {
            "marker": {
             "colorbar": {
              "outlinewidth": 0,
              "ticks": ""
             }
            },
            "type": "scattergeo"
           }
          ],
          "scattergl": [
           {
            "marker": {
             "colorbar": {
              "outlinewidth": 0,
              "ticks": ""
             }
            },
            "type": "scattergl"
           }
          ],
          "scattermapbox": [
           {
            "marker": {
             "colorbar": {
              "outlinewidth": 0,
              "ticks": ""
             }
            },
            "type": "scattermapbox"
           }
          ],
          "scatterpolar": [
           {
            "marker": {
             "colorbar": {
              "outlinewidth": 0,
              "ticks": ""
             }
            },
            "type": "scatterpolar"
           }
          ],
          "scatterpolargl": [
           {
            "marker": {
             "colorbar": {
              "outlinewidth": 0,
              "ticks": ""
             }
            },
            "type": "scatterpolargl"
           }
          ],
          "scatterternary": [
           {
            "marker": {
             "colorbar": {
              "outlinewidth": 0,
              "ticks": ""
             }
            },
            "type": "scatterternary"
           }
          ],
          "surface": [
           {
            "colorbar": {
             "outlinewidth": 0,
             "ticks": ""
            },
            "colorscale": [
             [
              0,
              "#0d0887"
             ],
             [
              0.1111111111111111,
              "#46039f"
             ],
             [
              0.2222222222222222,
              "#7201a8"
             ],
             [
              0.3333333333333333,
              "#9c179e"
             ],
             [
              0.4444444444444444,
              "#bd3786"
             ],
             [
              0.5555555555555556,
              "#d8576b"
             ],
             [
              0.6666666666666666,
              "#ed7953"
             ],
             [
              0.7777777777777778,
              "#fb9f3a"
             ],
             [
              0.8888888888888888,
              "#fdca26"
             ],
             [
              1,
              "#f0f921"
             ]
            ],
            "type": "surface"
           }
          ],
          "table": [
           {
            "cells": {
             "fill": {
              "color": "#EBF0F8"
             },
             "line": {
              "color": "white"
             }
            },
            "header": {
             "fill": {
              "color": "#C8D4E3"
             },
             "line": {
              "color": "white"
             }
            },
            "type": "table"
           }
          ]
         },
         "layout": {
          "annotationdefaults": {
           "arrowcolor": "#2a3f5f",
           "arrowhead": 0,
           "arrowwidth": 1
          },
          "autotypenumbers": "strict",
          "coloraxis": {
           "colorbar": {
            "outlinewidth": 0,
            "ticks": ""
           }
          },
          "colorscale": {
           "diverging": [
            [
             0,
             "#8e0152"
            ],
            [
             0.1,
             "#c51b7d"
            ],
            [
             0.2,
             "#de77ae"
            ],
            [
             0.3,
             "#f1b6da"
            ],
            [
             0.4,
             "#fde0ef"
            ],
            [
             0.5,
             "#f7f7f7"
            ],
            [
             0.6,
             "#e6f5d0"
            ],
            [
             0.7,
             "#b8e186"
            ],
            [
             0.8,
             "#7fbc41"
            ],
            [
             0.9,
             "#4d9221"
            ],
            [
             1,
             "#276419"
            ]
           ],
           "sequential": [
            [
             0,
             "#0d0887"
            ],
            [
             0.1111111111111111,
             "#46039f"
            ],
            [
             0.2222222222222222,
             "#7201a8"
            ],
            [
             0.3333333333333333,
             "#9c179e"
            ],
            [
             0.4444444444444444,
             "#bd3786"
            ],
            [
             0.5555555555555556,
             "#d8576b"
            ],
            [
             0.6666666666666666,
             "#ed7953"
            ],
            [
             0.7777777777777778,
             "#fb9f3a"
            ],
            [
             0.8888888888888888,
             "#fdca26"
            ],
            [
             1,
             "#f0f921"
            ]
           ],
           "sequentialminus": [
            [
             0,
             "#0d0887"
            ],
            [
             0.1111111111111111,
             "#46039f"
            ],
            [
             0.2222222222222222,
             "#7201a8"
            ],
            [
             0.3333333333333333,
             "#9c179e"
            ],
            [
             0.4444444444444444,
             "#bd3786"
            ],
            [
             0.5555555555555556,
             "#d8576b"
            ],
            [
             0.6666666666666666,
             "#ed7953"
            ],
            [
             0.7777777777777778,
             "#fb9f3a"
            ],
            [
             0.8888888888888888,
             "#fdca26"
            ],
            [
             1,
             "#f0f921"
            ]
           ]
          },
          "colorway": [
           "#636efa",
           "#EF553B",
           "#00cc96",
           "#ab63fa",
           "#FFA15A",
           "#19d3f3",
           "#FF6692",
           "#B6E880",
           "#FF97FF",
           "#FECB52"
          ],
          "font": {
           "color": "#2a3f5f"
          },
          "geo": {
           "bgcolor": "white",
           "lakecolor": "white",
           "landcolor": "#E5ECF6",
           "showlakes": true,
           "showland": true,
           "subunitcolor": "white"
          },
          "hoverlabel": {
           "align": "left"
          },
          "hovermode": "closest",
          "mapbox": {
           "style": "light"
          },
          "paper_bgcolor": "white",
          "plot_bgcolor": "#E5ECF6",
          "polar": {
           "angularaxis": {
            "gridcolor": "white",
            "linecolor": "white",
            "ticks": ""
           },
           "bgcolor": "#E5ECF6",
           "radialaxis": {
            "gridcolor": "white",
            "linecolor": "white",
            "ticks": ""
           }
          },
          "scene": {
           "xaxis": {
            "backgroundcolor": "#E5ECF6",
            "gridcolor": "white",
            "gridwidth": 2,
            "linecolor": "white",
            "showbackground": true,
            "ticks": "",
            "zerolinecolor": "white"
           },
           "yaxis": {
            "backgroundcolor": "#E5ECF6",
            "gridcolor": "white",
            "gridwidth": 2,
            "linecolor": "white",
            "showbackground": true,
            "ticks": "",
            "zerolinecolor": "white"
           },
           "zaxis": {
            "backgroundcolor": "#E5ECF6",
            "gridcolor": "white",
            "gridwidth": 2,
            "linecolor": "white",
            "showbackground": true,
            "ticks": "",
            "zerolinecolor": "white"
           }
          },
          "shapedefaults": {
           "line": {
            "color": "#2a3f5f"
           }
          },
          "ternary": {
           "aaxis": {
            "gridcolor": "white",
            "linecolor": "white",
            "ticks": ""
           },
           "baxis": {
            "gridcolor": "white",
            "linecolor": "white",
            "ticks": ""
           },
           "bgcolor": "#E5ECF6",
           "caxis": {
            "gridcolor": "white",
            "linecolor": "white",
            "ticks": ""
           }
          },
          "title": {
           "x": 0.05
          },
          "xaxis": {
           "automargin": true,
           "gridcolor": "white",
           "linecolor": "white",
           "ticks": "",
           "title": {
            "standoff": 15
           },
           "zerolinecolor": "white",
           "zerolinewidth": 2
          },
          "yaxis": {
           "automargin": true,
           "gridcolor": "white",
           "linecolor": "white",
           "ticks": "",
           "title": {
            "standoff": 15
           },
           "zerolinecolor": "white",
           "zerolinewidth": 2
          }
         }
        },
        "title": {
         "text": "3d TSNE Plot for Topic Model"
        },
        "width": 900
       }
      },
      "image/png": "[encoded data removed]",
      "text/html": [
       "<div>                            <div id=\"f1129fe5-edfa-4093-b891-7a433d78fd0a\" class=\"plotly-graph-div\" style=\"height:800px; width:900px;\"></div>            <script type=\"text/javascript\">                require([\"plotly\"], function(Plotly) {                    window.PLOTLYENV=window.PLOTLYENV || {};                                    if (document.getElementById(\"f1129fe5-edfa-4093-b891-7a433d78fd0a\")) {                    Plotly.newPlot(                        \"f1129fe5-edfa-4093-b891-7a433d78fd0a\",                        [{\"hovertemplate\":\"Dominant_Topic=Topic 0<br>0=%{x}<br>1=%{y}<br>2=%{z}<extra></extra>\",\"legendgroup\":\"Topic 0\",\"marker\":{\"color\":\"#636efa\",\"opacity\":0.7,\"symbol\":\"circle\"},\"mode\":\"markers\",\"name\":\"Topic 0\",\"scene\":\"scene\",\"showlegend\":true,\"x\":[-4.847388744354248,-1.8724555969238281,-0.27017149329185486,1.322799801826477,-5.445969581604004,-4.892566680908203,3.756626844406128,-1.022679090499878,-4.397663116455078,6.969249248504639,-2.0186145305633545,2.724905252456665,3.8438668251037598,-0.888726532459259,-4.111871242523193,5.407938480377197,1.1636828184127808,-0.695861279964447,-3.190483570098877,6.978516101837158,-5.306792736053467,1.8879759311676025,-2.676957845687866,-4.712989330291748,-4.606196403503418,-3.5897367000579834,-3.6874654293060303,-1.2934433221817017,-3.5069310665130615,-5.327041149139404,0.2529228925704956,3.7407259941101074,5.805628776550293,6.634965419769287,-0.21141819655895233,-4.508382797241211,3.130434036254883,-3.0690364837646484,3.871115207672119,1.3228001594543457,-1.4601043462753296,3.602400302886963,6.1081647872924805,3.005232095718384,7.827742576599121,-0.21386484801769257,0.36666494607925415,6.83977746963501,5.507261276245117,-4.454065322875977,-1.0839474201202393,5.454187393188477,7.105167388916016,-4.317707538604736,-1.4705379009246826,3.5084750652313232,1.300180435180664,-3.1165003776550293,1.9108928442001343,5.064232349395752,-2.1739418506622314,-4.5574798583984375,2.055628776550293,-4.966253757476807,3.217550039291382,6.318917751312256,3.2438743114471436,2.7884018421173096,-5.820093154907227,6.230100631713867,-5.940001487731934,-4.599297523498535,5.898418426513672,1.075771450996399,-2.632573127746582,-3.613372325897217,-5.151032447814941,4.535699844360352,-0.12225796282291412,-4.615728378295898,-3.417492389678955,3.6167101860046387,6.294095039367676,4.378638744354248,-1.9804532527923584,-4.636661529541016,2.417266607284546,5.528073310852051,-1.2983894348144531,-3.1224517822265625,3.470341920852661,-4.5990214347839355,-5.1918816566467285,-4.990711688995361,-1.508069634437561,-1.0567314624786377,-5.616870403289795,7.692936420440674,-3.1650660037994385,3.63543438911438,3.5880911350250244,1.742714524269104,-0.012197425588965416,3.1550896167755127,0.1453385353088379,-5.321141242980957,-3.5156564712524414,4.064278602600098,0.03951404243707657,0.6509935855865479,2.18843150138855,3.8402414321899414,5.1645331382751465,-3.8171255588531494,1.7838542461395264,2.4094462394714355,-3.1499335765838623,8.11779499053955,7.629858493804932,1.3676424026489258,1.3679306507110596,-1.952523946762085,5.240684986114502,-4.652905464172363,-3.821157217025757,-3.7764430046081543,0.9198552370071411,-1.9885666370391846,-3.7578439712524414,-5.118495464324951,6.17061710357666,0.16617970168590546,6.882057189941406,5.99590539932251,0.873001217842102,6.045300006866455,1.6440519094467163,-4.6858344078063965,8.193879127502441,5.418314456939697,-5.684027194976807,-2.096658706665039,-1.498274564743042,-1.793153166770935,-0.8416653871536255,-4.393119812011719,3.833534002304077,5.371857643127441,-3.640735626220703,-2.801312208175659,-0.3689618408679962,-2.59539532661438,-0.5696176886558533,1.1990336179733276,-0.983371376991272,-0.9789844155311584,-4.813315391540527,-4.608511447906494,-5.156937599182129,4.49424934387207,6.168895721435547,-3.97562837600708,6.65308141708374,3.4617843627929688,6.930252552032471,0.6554778218269348,7.007115840911865,0.31463274359703064,0.5421197414398193,7.934178352355957,6.307882308959961,2.1871912479400635,2.028006076812744,-1.9439313411712646,-5.6050262451171875,6.174476623535156,0.638927698135376,-3.188899040222168,-1.6337546110153198,-4.282725811004639,4.414183139801025,2.3226282596588135,1.870941400527954,-1.2076138257980347,4.918562412261963,6.262618541717529,0.8772068619728088,-7.138204574584961,7.420838832855225,3.395784378051758,4.165550231933594,-2.7801668643951416,-1.269765853881836,-3.192342758178711,0.7709278464317322,6.486367702484131,-5.115172386169434,3.3620047569274902,-3.6368441581726074,1.4863685369491577,-4.880343437194824,5.546942234039307,-4.461763858795166,0.5656278729438782,-3.8192942142486572,0.7986329197883606,-3.2560551166534424,-1.8547993898391724,7.574949264526367,-3.9367783069610596,8.412094116210938,-6.911925792694092,-5.181002140045166,-5.792932987213135,-6.173910617828369,2.4804835319519043,-4.275769233703613,-4.05060338973999,-1.694284200668335,-2.992849588394165,7.864336967468262,5.924046993255615,-3.4242136478424072,-2.509428024291992,-0.861136257648468,-2.108377456665039,-2.6917881965637207,2.1722779273986816,-0.08885426819324493,0.34002894163131714,-2.40608811378479,0.19243744015693665,0.44547951221466064,5.517512798309326,5.512876033782959,4.788934230804443,3.5594465732574463,4.729030609130859,-2.8979811668395996,-2.3349030017852783,3.0651590824127197,5.1950459480285645,-2.6079769134521484,1.2090637683868408,-4.61627721786499,3.1769115924835205,5.592062473297119,8.78858757019043,0.1971740573644638,4.226827621459961,3.052666425704956,3.014988422393799,6.661727428436279,-5.897402763366699,-1.9669524431228638,-2.747269630432129,0.13588851690292358,4.750149250030518,-2.595585346221924,-2.679072618484497,-1.0049346685409546,3.6786367893218994,7.035599231719971,-3.1738061904907227,-7.587283611297607,2.9003849029541016,0.030969757586717606,-3.8181161880493164,-10.353562355041504,2.2566826343536377,8.314517974853516,3.696730375289917,4.485872745513916,-6.858726501464844,6.210320472717285,3.072517156600952,-1.6923199892044067,-5.041642665863037,-4.232614994049072,-1.1231963634490967,-0.8754869103431702,-0.7557544112205505,5.184202671051025,-0.6872059106826782,4.9795002937316895,-0.9099964499473572,-4.87199592590332,-0.35302212834358215,6.823395729064941,2.289735794067383,3.040785074234009,-3.6009109020233154,-4.755713939666748,7.1385111808776855,6.455809116363525,7.993995666503906,-3.2007365226745605,-5.500937461853027,-3.804763078689575,-4.664465427398682,-4.79886531829834,-9.412394523620605,-4.8469014167785645,-3.511951446533203,7.306267261505127,2.8456649780273438,-2.31105375289917,6.411211967468262,5.489096641540527,-1.9662858247756958,4.571511745452881,6.822203636169434,1.0321595668792725,-3.109422206878662,-3.0339183807373047,7.38696813583374,-2.4753620624542236,-5.192158222198486,8.618743896484375,1.604457974433899,1.6315711736679077,6.740816116333008,5.283612251281738,-1.7931772470474243,-9.987494468688965,-1.6877942085266113,-3.6848654747009277,2.8176937103271484,-0.08530634641647339,3.5730397701263428,-7.526613235473633,2.245520830154419,-9.716756820678711,-3.0977087020874023,-10.345914840698242,-0.5097644925117493,-0.7063709497451782,-0.966138482093811,-4.600755214691162,-1.9878824949264526,1.8821971416473389,-5.657752513885498,-4.645995140075684,-4.085500240325928,4.566906452178955,-5.606553554534912,-4.321361541748047,6.029943943023682,1.6623903512954712,-9.98806381225586,-3.552910327911377,6.788642883300781,-1.7930907011032104,2.8441717624664307,2.5519659519195557,-2.3614695072174072,1.4612957239151,-6.576056003570557,-3.9816343784332275,6.650092601776123,0.13741986453533173,-4.110375881195068,4.045042991638184,2.031097888946533,-2.0775599479675293,4.759155750274658,3.7368810176849365,-2.7088685035705566,-4.503141403198242,-0.7478475570678711,7.014395236968994,-1.912488579750061,-4.222573280334473,-4.480992317199707,-4.463906764984131,-1.726738691329956,4.51765251159668,-0.876515805721283,2.0376956462860107,5.072493076324463,0.2535359859466553,3.6049115657806396,2.566136121749878,5.913565158843994,-5.537883758544922,-0.8802682161331177,-4.458068370819092,-2.8019943237304688,5.095861911773682,7.968863487243652,-3.209216594696045,-4.8427629470825195,-1.9173858165740967,6.022897720336914,4.175080299377441,-2.6876890659332275,3.8405470848083496,-2.0179383754730225,-1.1389716863632202,-4.404770851135254,-6.824285984039307,-3.5938758850097656,-2.216674566268921,6.606453895568848,2.018932342529297,2.3282649517059326,-3.036797523498535,1.2822529077529907,1.8904874324798584,1.7148447036743164,6.345513343811035,8.460075378417969,6.5770792961120605,-3.4647068977355957,4.713505744934082,-1.0903171300888062,8.65258502960205,-3.5450587272644043,-0.7193003296852112,4.96046781539917,-4.912408828735352,4.174323558807373,7.2988481521606445,-1.8270260095596313,-5.517691612243652,0.5357084274291992,-1.5189483165740967,5.600801944732666,-0.9154114127159119,1.777014970779419,1.6161316633224487,-10.311212539672852,-3.465202569961548,-5.474027633666992,1.1064146757125854,-5.94459342956543,5.27861213684082,-2.642411470413208,-2.900644063949585,4.950028419494629,-2.747770309448242,6.699683666229248,6.6933441162109375,6.829339027404785,-3.8752872943878174,-0.3063679039478302,-7.071279048919678,3.0346438884735107,3.5659244060516357,0.0964794009923935,3.7420566082000732,1.7275325059890747,-4.619555950164795,-4.406836986541748,1.0172710418701172,3.9927968978881836,7.07061767578125,1.944947361946106,-0.6636876463890076,-4.572552680969238,3.8265089988708496,6.011961460113525,-3.8379909992218018,2.772740602493286,3.3458640575408936,-4.481943130493164,-5.323308944702148,-2.888469696044922,-5.486764907836914,7.0808610916137695,2.5526440143585205,-3.2274038791656494,-2.9429678916931152,8.419645309448242,-5.879513263702393,-2.912336587905884,-7.524346351623535,-4.751500129699707,3.494572639465332,2.522542715072632,7.936278343200684,4.337993621826172,-3.5473339557647705,-6.690804481506348,5.536921501159668,3.331242799758911,-2.910477638244629,6.908639907836914,-4.982523441314697,-4.589256286621094,2.236043691635132,-1.3958085775375366,1.1710522174835205,-0.11543302983045578,5.848631858825684,3.5522572994232178,3.752821922302246,2.431311845779419,4.7366204261779785,-2.3359153270721436,0.3787250816822052,8.933401107788086,-5.457381248474121,-2.7357022762298584,4.226823806762695,-2.461678981781006,3.7122890949249268,-0.23073579370975494,0.7540314197540283,0.020269449800252914,4.879412651062012,-4.0198469161987305,-1.1867934465408325,6.548678398132324,-3.211686372756958,-5.360837459564209,-3.564383029937744,1.1445505619049072,2.3169639110565186,2.4554786682128906,-5.4600510597229,4.891387462615967,5.914294242858887,-3.904221534729004,3.896880626678467,2.793689250946045,3.3518855571746826,-3.9345614910125732,-1.5238553285598755,-1.3166182041168213,-0.6349372267723083,-4.628231525421143,-1.921579360961914,-4.357510089874268,3.49625301361084,-6.5292158126831055,6.742166996002197,-5.31813383102417,0.6584058403968811,-0.13073667883872986,-1.0685920715332031,-3.5335538387298584,-5.201101303100586,-6.026278018951416,-1.7041497230529785,-4.32370138168335,-5.168201446533203,-2.4083354473114014,2.634781837463379,0.24284684658050537,3.453503131866455,-5.235846996307373,1.9811354875564575,-1.327303409576416,8.229232788085938,-0.052510544657707214,3.8868513107299805,-3.563436508178711,7.261968612670898,3.5237245559692383,2.1679465770721436,-4.0060930252075195,-4.411929607391357,8.576114654541016,-3.1544220447540283,3.564038038253784,-2.3771843910217285,2.448517084121704,1.7104374170303345,4.669838905334473,4.049129009246826,-3.939736843109131,-3.0893290042877197,-1.6355538368225098,-3.5320231914520264,-2.7388885021209717,7.102321624755859,8.187548637390137,-4.382026672363281,-5.698070526123047,-5.389464378356934,-1.4539214372634888,4.874791145324707,6.5316548347473145,7.433290958404541,1.4814661741256714,-7.084044456481934,-1.3479756116867065,1.4792430400848389,-4.948030948638916,-2.5935068130493164,2.0746002197265625,5.682274341583252,0.2161751687526703,-7.914656639099121,6.255611419677734,5.7082624435424805,-3.9831976890563965,6.891803741455078,8.469849586486816,4.210272789001465,-4.732011318206787,-5.275681018829346,8.88497257232666,6.382578372955322,-1.5425759553909302,6.711982727050781,-1.6360440254211426,7.032507419586182,5.269979476928711,-2.043968677520752,-1.2041361331939697,4.853973865509033,1.6683083772659302,-1.5715335607528687,-5.468993186950684,7.452390670776367,-7.554400444030762,3.738632917404175,-0.8533231616020203,1.286063313484192,0.13839200139045715,-3.517775535583496,3.359254837036133,-4.419151782989502,0.9827383160591125,7.770876884460449,-1.3723337650299072,4.363636016845703,4.463809490203857,-3.00669264793396,-7.328063488006592,2.097804307937622,-3.942817449569702,6.963554859161377,-2.0007550716400146,-5.066276550292969,-6.113030433654785,4.856744766235352,0.6105383634567261,-3.959763765335083,-1.9694305658340454,-2.7049007415771484,7.172032356262207,6.481406211853027,-2.435338258743286,-6.0202155113220215,3.8669562339782715,3.4837963581085205,4.9723639488220215,8.681756973266602,-1.4974099397659302,1.9790338277816772,4.1347503662109375,2.669801950454712,-5.116890907287598,-3.608135223388672,2.016143560409546,-6.387149810791016,4.054372787475586,3.565270185470581,-4.513383865356445,-0.13805879652500153,-6.417721748352051,2.525730609893799,-4.565513610839844,6.20807409286499,0.1016375869512558,6.348978042602539,-2.3393921852111816,3.666623830795288,5.338097095489502,3.1914963722229004,4.693305015563965,1.9627165794372559,2.699554681777954,4.597912788391113,-3.496565103530884,-3.8064558506011963,3.444645643234253,-1.645426869392395,4.3771138191223145,1.880286693572998,-2.931442975997925,3.7767250537872314,-2.105802297592163,2.444004774093628,0.5596712231636047,1.857866644859314,-3.2346291542053223,1.9350863695144653,1.924372911453247,3.4713118076324463,-3.7372214794158936,-6.274359703063965,3.765070915222168,-4.942148685455322,5.72467565536499,-0.2841681241989136,-0.28981316089630127,6.862430095672607,-3.4026408195495605,1.5213570594787598,7.7356953620910645,-2.1626229286193848,4.161383628845215,-4.843381404876709,0.06668108701705933,3.4998161792755127,8.724113464355469,-1.2011820077896118,-0.46033117175102234,-4.198061466217041,3.5266640186309814,1.0675570964813232,-3.626190662384033,-2.459536552429199,-1.9632611274719238,6.974582672119141,-6.096675872802734,-1.5697730779647827,-4.885239124298096,-4.500077724456787,-4.5899271965026855,-5.681562900543213,5.462833881378174,4.491820812225342,-0.6807547807693481,8.453924179077148,-4.140527725219727,6.545232772827148,-2.551159381866455,-5.688701629638672,4.079273223876953,3.649651288986206,-4.666012763977051,9.35893726348877,4.2359490394592285,-4.5758376121521,2.720439910888672,2.8614501953125,-4.911200046539307,-0.76019287109375,-3.3109443187713623,2.9858591556549072,-2.90067720413208,4.263850688934326,-3.766730546951294,2.362370729446411,6.081953525543213,0.17980605363845825,-3.8140952587127686,6.588281631469727,4.342942237854004,3.8286349773406982,3.2639973163604736,-5.377333164215088,-5.864581108093262,-5.507059574127197,-5.27536678314209,1.066402792930603,1.8049659729003906,-3.278320074081421,-3.6087729930877686,7.59488582611084,-2.445693254470825,2.380498170852661,3.9901437759399414,-2.665099620819092,-4.95428466796875,1.7220782041549683,5.016213893890381,4.546800136566162,2.225442886352539,-4.72104549407959,-5.628895282745361,4.999015808105469,-4.402635097503662,-4.816720485687256,2.079509735107422,1.0705113410949707,3.213993549346924,-5.499840259552002,6.537735462188721,-4.457429885864258,-0.08613690733909607,-1.6855182647705078,4.490551948547363,-2.8811519145965576,-0.567351758480072,5.266265392303467,4.050858974456787,1.3988407850265503,2.995939016342163,-2.912306308746338,-3.0618457794189453,-3.180813789367676,-4.380422592163086,1.3234325647354126,0.9964838027954102,4.72979736328125,-0.9278447031974792,-7.294448375701904,-3.403453826904297,4.3702311515808105,-4.737037658691406,8.434779167175293,6.129214286804199,3.870023250579834,0.8179128170013428,6.835543155670166,8.39763355255127,-4.337897777557373,-4.19351863861084,2.8458714485168457,-2.3814923763275146,-3.5673701763153076,-2.8884694576263428,-0.8190197348594666,6.75809907913208,8.564156532287598,-0.9798133969306946,-6.8984527587890625,-4.272275924682617,3.129819631576538,2.836441993713379,-2.6414060592651367,-4.142877578735352,-3.3339991569519043,4.495689868927002,2.3586764335632324,6.621945381164551,-4.61800479888916,-4.253495693206787,1.5271565914154053,7.344937801361084,-3.6710546016693115,-1.0608271360397339,-4.220196723937988,6.3889312744140625,-3.470991611480713,-5.156737327575684,-2.912280797958374,-4.324417591094971,-0.26486390829086304,6.2722086906433105,-4.614834308624268,-4.035571098327637,7.024657726287842,2.266561508178711,-2.608707904815674,6.371644496917725,-1.566675066947937,7.995926380157471,-4.227761268615723,-2.8613176345825195,7.926538467407227,-0.5170173645019531,0.49593350291252136,8.161888122558594,-5.483386039733887,-5.670048713684082,-4.130253314971924,-1.388761043548584,2.7046475410461426,-3.067558765411377,5.766415596008301,-2.74920392036438,0.03055146522819996,6.484257221221924,6.5446553230285645,6.4336724281311035,1.1200485229492188,3.7053020000457764,6.2839531898498535,-6.565646171569824,0.6390407085418701,1.1113260984420776,-1.942044973373413,4.831817150115967,-1.7541598081588745,6.4023542404174805,-2.779046058654785,-1.457125186920166,-0.9996334314346313,0.10810316354036331,6.104233741760254,6.150901794433594,5.715401649475098,-0.6460849642753601,-1.3338021039962769,2.353165626525879,0.03187532722949982,-3.688265562057495,-3.325042486190796,1.2925745248794556,7.843731880187988,7.574664115905762,2.9902806282043457,-1.4681055545806885,-1.7053653001785278,1.9456276893615723,1.809054970741272,-7.1240458488464355,-4.6180853843688965,-3.9714086055755615,2.8582763671875,0.8186372518539429,3.902060031890869,3.172600269317627,8.2440824508667,-4.2881999015808105,6.481108665466309,-6.75734281539917,-4.31849479675293,4.086157321929932,-2.714524745941162,-3.945521116256714,-4.158419132232666,-3.8136935234069824,6.92427921295166,-5.80418062210083,-2.693613290786743,-1.7084633111953735,8.031466484069824,-4.345656394958496,0.34835147857666016,-2.9349746704101562,2.217257499694824,-2.5235142707824707,6.269913196563721,0.6393557190895081,0.4110957682132721,3.9140751361846924,-0.1170252189040184,5.318107604980469,-2.1417980194091797,-4.444794178009033,-6.522411346435547,3.5397467613220215,1.8260096311569214,-1.6078161001205444,6.203286647796631,-0.9131619930267334,-0.08419206738471985],\"y\":[4.323631286621094,-4.928867816925049,-3.877622365951538,1.9629267454147339,-0.3061836361885071,-5.327363967895508,-2.711042642593384,-3.2581794261932373,-6.844134330749512,-2.0195531845092773,0.8259435892105103,0.5942408442497253,-2.8486104011535645,-3.3750431537628174,-8.332734107971191,1.7821178436279297,4.120742321014404,-0.9441628456115723,-1.0999213457107544,-0.24938219785690308,1.1197541952133179,1.7729344367980957,-1.0543581247329712,3.55766224861145,4.450732707977295,-1.379325032234192,4.043188095092773,0.3588715195655823,-3.1178910732269287,-2.866551399230957,2.4654316902160645,2.4336304664611816,1.620522379875183,-1.997872233390808,-4.097831726074219,-5.360438823699951,0.25783735513687134,-1.6137447357177734,-1.9449721574783325,0.6973468065261841,1.4438008069992065,2.5643067359924316,2.2102110385894775,2.1772732734680176,-0.3333222568035126,-3.822047710418701,2.734431743621826,2.0263783931732178,1.5600905418395996,-3.8004164695739746,4.8800048828125,-1.5986264944076538,2.056900978088379,-8.618881225585938,-1.504804015159607,-2.537079334259033,1.6592748165130615,-3.109506607055664,4.225153923034668,-1.096333622932434,3.4918181896209717,4.47495698928833,-2.3395113945007324,-3.6404595375061035,1.837343692779541,1.1069668531417847,-0.08958880603313446,1.9020766019821167,-2.6287996768951416,2.2569713592529297,3.3553106784820557,4.444143772125244,-0.47563862800598145,1.0431076288223267,-2.4488108158111572,4.827970504760742,3.102738618850708,2.4997663497924805,1.7421858310699463,-6.88649320602417,4.601356029510498,2.5267865657806396,0.27201196551322937,-1.849565029144287,-4.016695022583008,-5.853756427764893,-2.9044485092163086,-1.6180952787399292,3.533076524734497,-1.5007352828979492,-1.9300357103347778,-4.836925506591797,-1.4020106792449951,4.346803665161133,4.335509300231934,2.333843946456909,-0.6775206923484802,1.6681225299835205,-0.08732285350561142,-0.7629355788230896,-1.906338095664978,-1.3516887426376343,-3.865772008895874,-1.9462037086486816,-3.7970399856567383,-0.623284101486206,-3.0687243938446045,3.1562418937683105,1.9053804874420166,-1.9212169647216797,1.9226760864257812,1.2615762948989868,0.10143063962459564,-3.5423030853271484,-1.466394305229187,-1.5576704740524292,-0.25667285919189453,-1.9119389057159424,2.2819430828094482,2.1588118076324463,2.017538547515869,-5.079569339752197,2.6776232719421387,-6.5445475578308105,-3.731968641281128,3.0028865337371826,-1.41337251663208,4.443062782287598,3.7842485904693604,-3.597026824951172,4.462259292602539,-0.2694644629955292,1.821627140045166,2.315061330795288,-0.49222850799560547,-0.8433562517166138,0.668924868106842,2.378650188446045,-1.4048806428909302,-0.2578345835208893,-0.6559838652610779,1.1743426322937012,2.9052376747131348,-1.8605717420578003,1.7477787733078003,-5.310168266296387,-0.7548074126243591,-0.729744553565979,-3.784209728240967,0.20180165767669678,3.0887794494628906,0.2581322193145752,4.945291996002197,3.4361531734466553,0.739300549030304,3.606261730194092,4.544312953948975,-3.389852523803711,-6.828962802886963,3.2343881130218506,-1.34076726436615,-3.1293866634368896,2.2045469284057617,2.2745707035064697,-1.5516055822372437,-2.7607407569885254,1.080916404724121,1.8000441789627075,-2.8356051445007324,-0.6006441116333008,-0.9056544899940491,1.4774245023727417,4.292679786682129,3.6391987800598145,-0.034533895552158356,-0.21039129793643951,4.235569477081299,-2.3959851264953613,-1.4188288450241089,5.5575785636901855,0.6314268112182617,-2.809926986694336,0.7325342893600464,4.549651145935059,0.24133501946926117,2.388105630874634,-3.443997621536255,-0.12676450610160828,-0.7192690372467041,0.01908573880791664,2.547942876815796,-0.3808239996433258,-1.4202605485916138,-3.486829996109009,2.2365829944610596,2.4826056957244873,5.411499977111816,-0.12046187371015549,-3.6005754470825195,2.233656167984009,-7.434569358825684,0.020058855414390564,4.5617828369140625,-3.5086567401885986,4.04552698135376,-2.928576946258545,-4.787242889404297,-0.333160936832428,1.3755336999893188,4.696044445037842,0.2340046912431717,-1.1460565328598022,-0.5657089948654175,-3.402686357498169,3.3490800857543945,-4.451906681060791,0.925961971282959,-7.248691558837891,0.49940791726112366,-2.635481357574463,-0.2589765191078186,-0.3230677545070648,-6.639039993286133,-3.0505268573760986,3.705598831176758,-0.21171297132968903,5.034784317016602,-2.578579902648926,-1.1971001625061035,-3.1828320026397705,-5.200119972229004,2.179104804992676,-2.932382106781006,-1.3386995792388916,1.8427680730819702,0.5979199409484863,-3.069016695022583,2.202165126800537,-2.7590973377227783,-3.4217231273651123,-2.031491279602051,0.7550771236419678,4.91555643081665,-3.1773557662963867,-5.959664344787598,-1.9164485931396484,0.24727153778076172,-1.5096848011016846,1.566157579421997,4.193820476531982,0.17652447521686554,2.1014211177825928,1.7772364616394043,5.287454128265381,0.7866712808609009,4.129439830780029,-1.1157845258712769,-1.0971523523330688,4.643091678619385,-1.0081324577331543,3.7701427936553955,-2.7107956409454346,-0.5630309581756592,-3.0591492652893066,0.162544846534729,2.6920695304870605,-3.5617835521698,-4.7476325035095215,-2.6314518451690674,0.6654934883117676,-1.8255387544631958,-1.5794564485549927,-0.5864526629447937,-0.6394979357719421,0.7730085253715515,1.8269962072372437,-0.2679729163646698,3.6327693462371826,-1.613965630531311,3.482790231704712,2.343701124191284,2.5156447887420654,0.6722007393836975,1.750862717628479,-1.2232340574264526,3.5499868392944336,3.70939564704895,-1.0172207355499268,0.06520338356494904,-2.762031316757202,2.6778175830841064,-1.8543678522109985,-3.697706460952759,-1.8161646127700806,-1.5430141687393188,-1.9637136459350586,1.8063451051712036,3.7585463523864746,2.1577625274658203,2.806659460067749,-0.611009418964386,-2.4859206676483154,4.526262283325195,-3.1091020107269287,1.8476248979568481,2.507988214492798,4.825755596160889,-0.33572739362716675,1.6008062362670898,4.558809757232666,0.7390365600585938,-0.13435663282871246,0.790652871131897,5.072910308837891,-3.1789603233337402,1.7193031311035156,-5.1087260246276855,4.178783893585205,-0.8397627472877502,2.4356350898742676,3.556786060333252,-1.8128470182418823,0.15592437982559204,-1.8604753017425537,-2.5883562564849854,4.097437381744385,-7.375299453735352,2.4923157691955566,-3.5283865928649902,-3.0783417224884033,0.2830490171909332,0.8052413463592529,-2.253538131713867,4.89409065246582,-2.630202293395996,1.0260024070739746,1.2065397500991821,3.544694662094116,1.4316926002502441,-0.1716235727071762,1.6710423231124878,-1.2874491214752197,-3.2516839504241943,1.396907091140747,-0.9154592752456665,5.241137981414795,5.07591438293457,1.4663116931915283,0.7637841105461121,-2.7050697803497314,3.725985050201416,1.5085233449935913,-1.8605221509933472,-1.868292212486267,2.00018572807312,-3.3118643760681152,-1.245571255683899,-1.219246506690979,-8.20917797088623,-1.9046882390975952,3.3980629444122314,4.410811901092529,-3.101728916168213,-1.553826093673706,3.466034173965454,-1.1533775329589844,-3.0685577392578125,-1.5415735244750977,-4.690844535827637,1.6012717485427856,-0.3570948839187622,-4.788863658905029,-8.176849365234375,-6.443485736846924,4.768765449523926,-4.527508735656738,-1.1132475137710571,-1.2140916585922241,-2.4630966186523438,2.8691093921661377,1.3425681591033936,-0.33684682846069336,-3.2016589641571045,1.5941853523254395,-3.1839206218719482,3.965481996536255,-5.199672222137451,4.094000339508057,0.4998452365398407,-1.8714314699172974,-2.564863443374634,3.716601848602295,1.8657307624816895,-0.8978480696678162,1.734465479850769,-3.777935028076172,-0.6653581261634827,0.6416887044906616,3.9001054763793945,-4.874555587768555,0.969133198261261,4.818233966827393,0.2627730667591095,-0.13126440346240997,-0.964949369430542,1.3503689765930176,-5.280984401702881,1.9486591815948486,2.346574068069458,-1.7178962230682373,2.3093392848968506,-2.7633931636810303,-0.042951587587594986,-1.1984362602233887,-0.34927603602409363,-4.535239219665527,0.4363369941711426,-2.9938840866088867,1.0950233936309814,0.7880628108978271,3.0816962718963623,-1.334450125694275,-1.6506950855255127,1.3894317150115967,-4.990828990936279,1.3580412864685059,4.930301666259766,1.2555780410766602,3.4034454822540283,1.441796064376831,-0.8169633746147156,-2.6234371662139893,3.72868013381958,3.941553831100464,-0.5678545832633972,-4.928144931793213,-1.440804123878479,-2.953512191772461,-2.8500750064849854,-1.146554708480835,5.181642055511475,-1.1580438613891602,3.271034002304077,0.5862343311309814,-1.946391224861145,0.5904507637023926,1.997134804725647,2.2572274208068848,1.5222896337509155,-3.6210415363311768,-1.8459010124206543,1.1816579103469849,5.274261951446533,5.867251873016357,2.351254940032959,0.09381096810102463,-1.770054817199707,1.2482914924621582,1.3990169763565063,4.207064151763916,-1.466802954673767,-0.20836955308914185,-1.870110273361206,1.5962703227996826,1.590474009513855,-8.30151653289795,5.43241024017334,-2.7710623741149902,3.5696022510528564,0.8088304400444031,2.4781486988067627,5.050973892211914,4.724292755126953,0.8556216955184937,3.4426636695861816,-0.9979307651519775,-0.13942193984985352,-0.6345552206039429,0.9533708691596985,-3.135011672973633,-0.12417104840278625,0.1130463033914566,-8.216917037963867,-1.2356343269348145,1.3712323904037476,2.381715774536133,-5.47088098526001,1.731754183769226,4.68930721282959,-3.1841421127319336,0.9342920780181885,-3.4183011054992676,-1.7256697416305542,2.335314989089966,-2.3555049896240234,1.5803918838500977,-1.3017313480377197,-5.063395977020264,0.33434656262397766,3.8176887035369873,3.797485589981079,-0.8654237985610962,4.537979602813721,5.310761451721191,0.10207171738147736,-4.964090824127197,2.265474319458008,3.427948474884033,1.2764984369277954,2.1029160022735596,3.6695518493652344,0.9332494139671326,2.012854814529419,1.2630023956298828,1.981539011001587,5.387330055236816,0.8704596161842346,2.7722578048706055,1.4249646663665771,1.93604576587677,-6.121495246887207,-0.5512139797210693,1.2897273302078247,-8.405670166015625,1.674250602722168,0.5398013591766357,1.0141353607177734,-8.410868644714355,4.9400482177734375,4.72359561920166,0.6708882451057434,-3.0868630409240723,1.4057821035385132,4.288794994354248,1.5224261283874512,1.1173064708709717,-1.3645206689834595,1.1744847297668457,3.1274619102478027,3.5565080642700195,1.816084861755371,4.859558582305908,4.452932834625244,-3.3642029762268066,-0.0810873880982399,-7.337532043457031,5.879520416259766,-2.996800422668457,-0.16490338742733002,2.764968156814575,2.525622606277466,-4.009433269500732,4.57366943359375,-1.2661619186401367,-1.1045070886611938,2.1942341327667236,-0.5426377058029175,-7.058363914489746,1.742750883102417,-2.521158456802368,2.1690893173217773,-7.4074811935424805,-7.5979390144348145,-0.956914484500885,-0.5800727605819702,-0.2601708769798279,-1.4162431955337524,-4.56882381439209,2.231692314147949,-1.1396976709365845,-3.1931183338165283,-3.4148876667022705,-0.465813547372818,-0.3895666301250458,-6.664755821228027,-1.8976044654846191,-2.14462947845459,2.468475341796875,-1.8437587022781372,3.359531879425049,3.5799989700317383,-4.147806167602539,-2.198608636856079,-1.3924046754837036,1.8599739074707031,2.431040048599243,1.665834665298462,4.813808917999268,2.9363017082214355,4.065874099731445,5.019239902496338,1.4711816310882568,-1.512756586074829,3.5842673778533936,1.0018244981765747,1.0209532976150513,1.7353487014770508,3.4122607707977295,3.177823305130005,-1.5432407855987549,-1.6249008178710938,-0.015431663952767849,-2.7339510917663574,-0.7221130728721619,3.2078161239624023,-4.557201862335205,-1.5872266292572021,-3.9831156730651855,0.6130016446113586,0.8154602646827698,-0.3021082282066345,-4.487954616546631,-0.8656324148178101,2.151963472366333,4.872880458831787,3.9535608291625977,-0.8741023540496826,-0.35862118005752563,-0.5518323183059692,1.8073723316192627,-0.058342285454273224,4.2876296043396,3.7633554935455322,0.5035672187805176,-0.4911683201789856,1.1115102767944336,-1.0239098072052002,1.994451642036438,0.49142369627952576,3.2804574966430664,1.3784295320510864,-0.1662958413362503,0.7530896067619324,-3.3878562450408936,0.23270520567893982,4.947808265686035,4.76186466217041,3.622987747192383,0.2238064855337143,2.259964942932129,3.2337090969085693,1.5513858795166016,-3.617349624633789,2.888934850692749,1.861075758934021,-3.1672186851501465,-0.5018151998519897,-0.8604124188423157,1.961281657218933,-1.7836557626724243,-2.2636988162994385,3.9414258003234863,-2.33278751373291,-2.7682900428771973,1.1287473440170288,1.5384376049041748,1.2161073684692383,-1.6079691648483276,-1.0931652784347534,-0.415197491645813,2.0460691452026367,3.643388032913208,-3.947279691696167,2.9539997577667236,-1.1925694942474365,-5.982935428619385,-2.298682928085327,-3.508025646209717,-0.22956432402133942,4.038148403167725,1.823969841003418,1.9000049829483032,-2.373715877532959,-2.204038381576538,4.606520175933838,2.388097047805786,-0.1689070612192154,-1.5334506034851074,-3.1792025566101074,-2.1957483291625977,3.8348281383514404,0.2411523014307022,-1.448312520980835,-2.1887474060058594,-0.4443466067314148,0.5877119302749634,-4.874329566955566,1.6245009899139404,1.1659609079360962,4.245012283325195,4.736725807189941,-1.2152615785598755,-1.681089162826538,4.693883895874023,-1.5613930225372314,-0.9720343351364136,-1.0767961740493774,2.5465002059936523,4.481332302093506,-3.715179681777954,3.2075161933898926,-3.5128438472747803,-1.3171160221099854,-0.8097864985466003,0.8143577575683594,3.1960268020629883,0.7731716632843018,4.250182628631592,0.4763391315937042,-1.3092091083526611,3.6902382373809814,1.249829649925232,-2.7686946392059326,-2.3706772327423096,-0.2411840409040451,-1.7614116668701172,3.3557064533233643,4.698067665100098,1.4878658056259155,3.2803027629852295,1.9184869527816772,-5.351742744445801,5.07200288772583,4.7203874588012695,3.745689868927002,0.16947607696056366,3.804741859436035,3.4796767234802246,-2.2328689098358154,-8.37835693359375,1.418315052986145,-2.092939615249634,-3.372699737548828,0.6400296688079834,-0.6001518964767456,-7.658843994140625,-0.7933610081672668,1.1255728006362915,-6.734957695007324,1.781800389289856,1.7264858484268188,4.00025749206543,-4.056796073913574,-1.4961799383163452,-1.4521703720092773,-3.0643320083618164,0.16403840482234955,-3.0133891105651855,-0.45822739601135254,0.19392487406730652,-3.61096453666687,-7.6433305740356445,-1.9829037189483643,-1.1310970783233643,-1.1324728727340698,0.5613076090812683,-3.197783946990967,3.577855110168457,-5.182722091674805,3.1975314617156982,2.3572871685028076,3.472623109817505,-3.6261343955993652,4.006073951721191,-1.0767439603805542,-0.6673494577407837,0.301249235868454,4.566620349884033,3.6422195434570312,-0.30509012937545776,-1.726822018623352,0.8133547902107239,-0.6187469959259033,1.4707788228988647,-0.5969870090484619,5.133113384246826,-1.391337513923645,1.1175976991653442,4.639891624450684,-1.7134912014007568,2.117917060852051,1.157052755355835,3.862955331802368,-0.07277967035770416,-1.9290229082107544,-1.6785242557525635,3.778596878051758,0.16552819311618805,-5.093293190002441,1.557862639427185,0.050465457141399384,0.6325528621673584,-1.7343486547470093,0.7586692571640015,-0.9979532957077026,-0.21163322031497955,-2.39581561088562,-4.432936668395996,0.7341863512992859,-2.926745891571045,-1.0803049802780151,3.5933218002319336,0.3471745550632477,-3.1080853939056396,-3.1572184562683105,-6.964584827423096,0.5852712988853455,-0.9425718188285828,-0.25721800327301025,3.999659776687622,2.8157095909118652,0.28002628684043884,-7.066462516784668,-2.4747376441955566,-2.1728899478912354,1.0707865953445435,3.750694513320923,-2.771061897277832,-3.983353853225708,1.130468487739563,-2.1393678188323975,3.3783249855041504,1.2306667566299438,-1.7506386041641235,-0.9327479004859924,0.752029299736023,-2.4757189750671387,-7.684098720550537,-1.5181689262390137,0.8366631865501404,1.4432936906814575,-1.964889645576477,-6.419809341430664,-2.6462790966033936,2.0873448848724365,-1.7720751762390137,-4.656023025512695,4.842250823974609,-3.2868459224700928,3.238237142562866,2.128868818283081,-3.2077252864837646,-0.9981182217597961,-8.209423065185547,0.5707087516784668,-1.3237460851669312,-3.1363563537597656,-2.7667746543884277,-2.091991424560547,1.4893139600753784,-0.6788356900215149,3.4015254974365234,4.170381546020508,-1.8915259838104248,-3.2394542694091797,4.539093971252441,-0.264863520860672,0.6281079649925232,1.3036962747573853,-0.2983010709285736,-3.5564591884613037,4.7198944091796875,3.7627203464508057,0.07780676335096359,0.42442336678504944,-2.000361442565918,0.32765325903892517,-6.314597129821777,-3.8553056716918945,0.48464375734329224,2.234417676925659,-1.8444774150848389,3.7180349826812744,2.590059280395508,-1.1874009370803833,1.7710376977920532,-0.9301921725273132,3.0927205085754395,-5.092064380645752,3.452934503555298,4.116421222686768,2.131084680557251,-0.10736323893070221,4.6639251708984375,3.837071418762207,0.8580160140991211,4.267110347747803,1.4734169244766235,1.5731626749038696,4.0020318031311035,0.42030614614486694,1.232671856880188,-2.480146646499634,-6.913640975952148,2.063722848892212,-3.163390874862671,-0.8863834142684937,1.3318277597427368,-0.2868935465812683,4.122775077819824,4.123279571533203,4.477286338806152,4.035190105438232,0.7207593321800232,-3.11494779586792,-3.68330454826355,0.7332825660705566,-0.8377991318702698,2.6200144290924072,-0.5695997476577759,-0.0321408286690712,-7.555541515350342,0.14109590649604797,-0.6590141654014587,-6.7189459800720215,-0.8966758251190186,-2.288680076599121,-1.0136934518814087,4.21680212020874,4.53599739074707,-1.9615240097045898,-4.092987537384033,4.312932014465332,-4.417591571807861,-1.8972432613372803,3.593263864517212,-0.8736739754676819,-1.9608248472213745,2.9398245811462402,0.9540044069290161,-1.2907767295837402,-1.404401421546936,-1.0547083616256714,0.7980393171310425,1.8975049257278442,-0.4641503095626831,4.0630083084106445,-7.544610500335693,-1.349049687385559,-2.778228282928467,-1.5644798278808594,1.9579331874847412,-1.651708960533142,-0.854028582572937,-3.0717618465423584],\"z\":[-2.093350410461426,2.9882864952087402,1.310176968574524,-1.9657872915267944,-1.0177059173583984,-1.9173355102539062,8.44212818145752,3.0452773571014404,1.1968351602554321,2.9651644229888916,-8.775470733642578,1.1681106090545654,8.83134651184082,3.1272132396698,4.180296897888184,-2.6549088954925537,-3.69299054145813,1.3519364595413208,-9.107544898986816,6.851506233215332,-4.266234397888184,4.721264362335205,-2.390148639678955,-3.9518933296203613,-1.4311273097991943,-3.540525197982788,-2.2967631816864014,-5.818417072296143,0.005394854582846165,-2.548689365386963,0.3774089515209198,-0.9497119188308716,3.775906801223755,6.631933689117432,5.723730087280273,-1.9042794704437256,0.9476051330566406,-10.079116821289062,9.207980155944824,-6.4377546310424805,-4.246830940246582,-4.71580171585083,-1.4871858358383179,-4.1951003074646,-0.8164442181587219,-0.7825474739074707,-4.52131462097168,-1.7604858875274658,-4.420221328735352,-5.123833656311035,-1.0668902397155762,6.359634876251221,-1.422054409980774,3.6738479137420654,-9.479172706604004,-1.1593728065490723,-1.830508828163147,-10.897342681884766,0.363227903842926,-1.9406217336654663,-5.655720233917236,-1.3897584676742554,-3.481773614883423,1.2777223587036133,-2.0502827167510986,1.1138126850128174,-2.459494113922119,-4.993986129760742,-0.729745626449585,-1.7100069522857666,2.053905963897705,5.302166938781738,3.9941155910491943,-2.2882704734802246,-10.494332313537598,4.813862323760986,-2.116898536682129,1.2776963710784912,-4.610147953033447,1.943831443786621,1.9826769828796387,0.17890100181102753,-0.11154548078775406,9.052467346191406,3.261503219604492,-0.8998849987983704,-3.0218470096588135,6.594826698303223,5.760034084320068,-9.691962242126465,-6.827489376068115,-2.8547918796539307,-5.344831943511963,4.550252914428711,-4.90085506439209,5.578941345214844,-3.348092794418335,-3.401580572128296,-3.2721071243286133,7.104034423828125,9.063929557800293,7.8455305099487305,0.3602684438228607,2.1070897579193115,-0.05482231080532074,-1.8835910558700562,-10.0589017868042,0.09524187445640564,-7.597177982330322,4.511442184448242,-0.588782012462616,-0.2776974141597748,-0.21430756151676178,-4.842013835906982,-5.2013936042785645,2.662707805633545,-2.7541964054107666,3.4826838970184326,-3.225839614868164,-3.555845022201538,-3.154465675354004,3.117924213409424,0.8183582425117493,1.2900055646896362,-3.713117837905884,-4.585638999938965,-6.2818732261657715,4.896581649780273,-2.563096523284912,1.416179895401001,4.295292854309082,3.877103328704834,0.2682899236679077,-1.9853111505508423,8.364151954650879,8.313688278198242,2.7500619888305664,-5.709803581237793,3.7076103687286377,-0.832466721534729,-2.373220682144165,-6.953170299530029,-2.765134572982788,-10.163375854492188,-4.6718339920043945,-2.1149580478668213,7.384093284606934,0.19205889105796814,-1.0663713216781616,-2.567318916320801,0.22729545831680298,-8.419393539428711,-1.7571817636489868,-1.1446175575256348,3.36586594581604,2.159897565841675,4.019632339477539,-5.759072303771973,2.5065295696258545,0.8896296620368958,7.516541957855225,-4.740843296051025,3.4353585243225098,-2.126085042953491,-2.497213840484619,5.6225409507751465,3.5431904792785645,-8.179545402526855,5.596391677856445,-1.7005399465560913,-1.2225253582000732,-1.27094566822052,2.1102728843688965,-5.572218894958496,-0.7041177749633789,1.5857309103012085,1.7929198741912842,-9.963305473327637,0.9202895760536194,4.080374240875244,7.487875461578369,-3.124725341796875,2.8791158199310303,-1.2429786920547485,-4.589789867401123,5.017524242401123,-0.05806154012680054,-4.388294219970703,6.0873565673828125,1.3369616270065308,1.397322416305542,-9.041067123413086,-9.398618698120117,-0.407316654920578,-0.3238573670387268,-3.082676649093628,2.147625684738159,1.2836006879806519,-1.1004905700683594,-1.0381096601486206,3.471306085586548,7.89733362197876,5.308146953582764,-1.3243286609649658,6.192258358001709,4.660861015319824,2.337236166000366,-8.982527732849121,4.480238437652588,3.5834720134735107,-2.197333335876465,-2.2546868324279785,-1.2249618768692017,-0.3199990689754486,1.6078723669052124,-4.103499889373779,-3.432774543762207,3.1780827045440674,-9.124957084655762,-10.15371322631836,-3.2168753147125244,4.239640712738037,3.0798158645629883,2.1752421855926514,-2.6015026569366455,-1.288200855255127,2.2036633491516113,5.54365873336792,0.8263383507728577,5.404451370239258,1.9859856367111206,-1.8177690505981445,5.301583766937256,6.543870449066162,3.998587131500244,-0.9969260096549988,7.676665782928467,4.990566253662109,-1.5046323537826538,3.2915499210357666,7.19419527053833,3.939873456954956,3.2911667823791504,-0.07887089997529984,-0.3122108280658722,2.1391313076019287,0.44870612025260925,2.228764057159424,-5.5943379402160645,1.9768424034118652,-6.115788459777832,-2.0560977458953857,3.7765989303588867,3.9831581115722656,-3.788133382797241,-0.4603852331638336,0.9205635786056519,-5.184179782867432,2.1202330589294434,-1.9273979663848877,0.036544572561979294,-1.2301025390625,-1.1527479887008667,-10.831945419311523,-4.322319030761719,-0.6331491470336914,-0.5043081045150757,0.3564857840538025,8.841522216796875,0.737525224685669,2.6969501972198486,9.286918640136719,8.383406639099121,-3.6002097129821777,4.126821041107178,4.318278789520264,-1.219569444656372,-2.4643983840942383,-7.398788928985596,-6.752740383148193,5.626482963562012,5.618152141571045,4.4433135986328125,-3.8082075119018555,-3.6444671154022217,1.320414662361145,-3.1127822399139404,-9.161120414733887,-0.9258180856704712,5.602013111114502,-3.284815549850464,-9.403088569641113,1.2188024520874023,-2.6385557651519775,-1.7781531810760498,4.883724212646484,2.7488811016082764,2.0908892154693604,-5.581162929534912,2.7498509883880615,-0.8545184135437012,10.006656646728516,5.2584028244018555,-10.11095905303955,-1.7732703685760498,6.16587495803833,2.9470791816711426,2.0939137935638428,-4.203322410583496,-4.730785846710205,-0.9856854677200317,6.165009498596191,-2.4889492988586426,3.7755966186523438,-11.305628776550293,-0.6298272013664246,2.4773175716400146,-3.9336764812469482,4.1926469802856445,6.006136894226074,2.8453149795532227,6.725631237030029,1.5284067392349243,-10.163446426391602,9.532035827636719,-0.4330276548862457,4.1515655517578125,-2.628873825073242,-0.5495246052742004,7.836989879608154,-4.389105796813965,0.2511816918849945,10.28322696685791,4.5676751136779785,8.851734161376953,-6.383220672607422,5.167740821838379,-0.9796745181083679,-6.466440677642822,-7.406604290008545,4.898862361907959,-4.544834613800049,-1.601243495941162,-6.0409040451049805,-5.55621337890625,3.393282651901245,2.3784096240997314,6.766645431518555,-0.1943424940109253,10.05500316619873,6.220381259918213,3.4387803077697754,-10.16334056854248,2.359034776687622,5.557828903198242,3.187049150466919,3.016470193862915,-2.4504683017730713,4.314274311065674,6.841463088989258,6.168868064880371,5.797830581665039,8.83244800567627,-3.7161309719085693,-5.779376983642578,6.665346145629883,8.00424575805664,-2.168510913848877,-3.016571283340454,-3.890789270401001,5.998030662536621,2.839754819869995,4.023681163787842,0.9042617678642273,1.9930377006530762,3.99765682220459,8.132951736450195,-9.367523193359375,-3.6958417892456055,0.024509791284799576,-4.272695541381836,7.335027694702148,-2.6110646724700928,3.494145154953003,0.03043290041387081,-2.212803602218628,-2.502976417541504,-0.2145041972398758,-4.71214485168457,3.458099603652954,-10.068634986877441,-3.8421263694763184,2.2125461101531982,-0.8667610883712769,-5.456154823303223,-0.05856476351618767,-6.067454814910889,-9.00053596496582,3.1843652725219727,-2.8016679286956787,-4.111105918884277,4.833436012268066,-3.082202911376953,3.9338769912719727,-4.31876277923584,1.3026682138442993,1.4476877450942993,-2.0703020095825195,5.978537082672119,-5.021708011627197,-3.0715203285217285,4.3428850173950195,-0.9722762107849121,-3.475292682647705,-5.037425518035889,4.746546268463135,-2.6120331287384033,-9.834891319274902,-6.338624000549316,-7.661020278930664,-4.927234649658203,-6.183567047119141,-1.7507878541946411,-7.8349127769470215,-2.3034234046936035,-5.475465297698975,-1.8437598943710327,7.1899895668029785,0.8131048083305359,4.939085483551025,8.428577423095703,8.913873672485352,-2.679032564163208,-0.051301438361406326,8.358799934387207,-2.4522953033447266,8.98393726348877,0.8313193321228027,-10.631573677062988,-3.16408371925354,2.9728455543518066,4.63618278503418,5.408980846405029,-0.8494617342948914,-7.62483549118042,4.248541355133057,-5.3799896240234375,6.433461666107178,5.341576099395752,5.655623912811279,9.320719718933105,-5.691103935241699,1.5530952215194702,4.026584148406982,-8.345946311950684,1.596676230430603,-3.3179543018341064,0.9323738813400269,0.20419567823410034,2.490845203399658,8.664493560791016,0.6299055218696594,-9.161688804626465,2.990046977996826,-4.694967746734619,3.6794543266296387,4.290171146392822,0.9417308568954468,5.206308841705322,5.098442077636719,6.140112400054932,3.466378927230835,4.397170543670654,-2.337322950363159,4.037236213684082,-9.572859764099121,-3.3322527408599854,-1.0038580894470215,-3.257418632507324,-2.282813310623169,3.219339609146118,7.853366851806641,5.035584926605225,-2.0283114910125732,-4.484127521514893,-0.4029042422771454,2.6606638431549072,-3.508242607116699,2.710891008377075,-5.825425624847412,0.8874384164810181,3.210899829864502,-3.6371676921844482,-7.110845565795898,4.6960320472717285,-4.7112650871276855,-6.145119667053223,-3.9891059398651123,2.261256217956543,2.000823736190796,1.1144366264343262,4.2327880859375,2.52752423286438,2.944112777709961,2.772756576538086,2.9144203662872314,-0.23279684782028198,5.820822238922119,-6.358143329620361,-5.272400856018066,1.9502071142196655,-2.6527602672576904,-3.901555299758911,4.103451728820801,2.492765426635742,0.07896102219820023,-2.5699708461761475,-1.2373262643814087,1.985007405281067,1.877991795539856,2.083552598953247,-5.891923904418945,7.04826021194458,4.535928726196289,5.535861015319824,6.639176368713379,-5.2463579177856445,4.492608547210693,-1.6649794578552246,4.278879642486572,5.25961446762085,-5.15628719329834,-6.64149808883667,5.851200103759766,0.03728311508893967,-4.21669864654541,6.277204513549805,-1.867242693901062,0.5644859075546265,5.621587753295898,5.385305404663086,4.04568338394165,3.3286330699920654,-0.405448853969574,-7.080316066741943,2.8145711421966553,2.9095494747161865,-0.2205674648284912,8.731562614440918,-4.0982255935668945,-3.8748021125793457,-3.2778573036193848,2.4896504878997803,-8.936074256896973,3.840280055999756,-6.529167175292969,-2.0748372077941895,3.430986166000366,-3.0896754264831543,-7.151366710662842,6.34486722946167,2.6349966526031494,3.6108832359313965,3.3994598388671875,-8.99622917175293,0.7487162351608276,-10.197704315185547,-4.142124652862549,4.875349521636963,7.951252460479736,8.82131290435791,-4.650025844573975,-3.004818916320801,-7.552363872528076,2.8934314250946045,-10.43430233001709,2.9690957069396973,-2.4327054023742676,-6.631021976470947,1.2803767919540405,1.375709891319275,3.4829068183898926,-1.0355100631713867,-0.5862389802932739,-2.492759943008423,3.7921245098114014,-5.222954273223877,-1.753800392150879,3.3370397090911865,-2.037716865539551,2.8019142150878906,1.9726250171661377,4.876768112182617,1.1244525909423828,-3.3778560161590576,4.64302921295166,3.218850612640381,-3.7923073768615723,-1.9304970502853394,2.0485658645629883,6.52825403213501,-3.1962153911590576,0.058423690497875214,3.499695062637329,4.67128324508667,3.865044593811035,-0.04668118432164192,3.440682888031006,-3.959472417831421,-3.033196449279785,-7.577644348144531,1.9228962659835815,8.147285461425781,-3.47807240486145,4.041237831115723,-0.16169416904449463,-3.3163349628448486,-2.8352715969085693,7.647965431213379,-4.774882793426514,8.473213195800781,-2.938997268676758,0.44526344537734985,-7.463822364807129,-3.1679277420043945,-2.450334310531616,-2.601463556289673,2.0682106018066406,-3.5181548595428467,1.7129374742507935,-2.454406261444092,-3.337113857269287,-4.940999984741211,-1.8631905317306519,4.208202362060547,3.904536247253418,-1.7287633419036865,4.581921577453613,-4.895676612854004,-0.2144569307565689,-4.426407814025879,-7.483762264251709,-0.49568626284599304,2.910696268081665,3.294451951980591,-0.2689175009727478,-0.7756836414337158,0.5483716726303101,4.199958801269531,5.92659330368042,3.3719325065612793,0.9375362992286682,-3.568824529647827,-1.1944433450698853,1.074059009552002,-5.309921741485596,-2.1596295833587646,-3.749138355255127,-3.0773203372955322,-6.0167460441589355,6.4619855880737305,-4.177758693695068,5.665177822113037,1.6004303693771362,9.279923439025879,0.4783809185028076,3.3741748332977295,-0.5181829929351807,-1.1573418378829956,-0.3949735164642334,6.807290077209473,-3.9509685039520264,-0.9180444478988647,-1.0887399911880493,3.2824573516845703,-2.472005844116211,-4.3902716636657715,-7.567996501922607,0.7058219909667969,-0.9737787246704102,-5.625618934631348,-4.813455581665039,-5.699005603790283,-9.841886520385742,-5.9808669090271,-3.3765857219696045,-4.0341925621032715,-3.931943893432617,-5.921363830566406,-0.7237207293510437,2.6976635456085205,-5.735299110412598,-6.135185241699219,2.532503128051758,-3.234279155731201,7.205872058868408,-3.9163453578948975,5.050985813140869,4.559904098510742,1.6503781080245972,-1.8906779289245605,-0.12904968857765198,3.1083922386169434,-1.4895261526107788,-8.502472877502441,-0.12929655611515045,-6.46958065032959,1.2730021476745605,-7.069104194641113,3.2142233848571777,0.8983520865440369,-5.549310207366943,-2.3453590869903564,-0.7974298000335693,-3.0387520790100098,-9.302606582641602,-2.7212204933166504,3.5028507709503174,-0.10223627090454102,1.6050727367401123,2.049797296524048,-1.7669079303741455,1.3897745609283447,2.7688698768615723,-0.22339162230491638,6.882842540740967,1.8853344917297363,-3.583726644515991,4.27214241027832,4.1170783042907715,0.8847814798355103,0.7677677869796753,-0.03846113011240959,7.29630184173584,8.659760475158691,2.90354585647583,4.003528594970703,-0.6921467185020447,1.419904351234436,-1.281550407409668,6.483372211456299,-0.6133756041526794,2.469367504119873,-8.92579174041748,9.37060546875,-0.9149940013885498,-1.4144105911254883,-3.6474790573120117,-5.8894243240356445,2.4363455772399902,-0.6933978199958801,3.597759246826172,3.2197744846343994,-1.9246405363082886,-6.229850769042969,-7.249515533447266,-2.7504043579101562,5.200930118560791,-1.9076110124588013,-2.1642603874206543,4.8946309089660645,3.5665528774261475,-0.5125055909156799,-2.3606786727905273,6.140876770019531,-9.828124046325684,-7.462935447692871,1.9625412225723267,6.018741607666016,-2.9952423572540283,7.284189224243164,-7.694703102111816,-2.391582727432251,1.7527356147766113,-0.9806334972381592,3.219863176345825,-3.373582363128662,-6.819228172302246,0.6533532738685608,2.8393003940582275,5.526217460632324,-4.914031505584717,-0.5180010795593262,3.786869764328003,-5.682034015655518,0.6862995624542236,-5.744350433349609,-3.635629653930664,2.345426321029663,-5.426877975463867,7.21135139465332,-7.4810638427734375,-3.726580858230591,-5.739606857299805,-9.572915077209473,-3.469661235809326,-9.831025123596191,-3.3738155364990234,-6.366245269775391,0.04288205876946449,4.498437881469727,-3.049476146697998,-4.057290077209473,0.15193001925945282,8.89005184173584,2.3472020626068115,-2.7013258934020996,8.524548530578613,-2.4927384853363037,1.07046377658844,2.928753614425659,-2.67187237739563,2.091557264328003,-4.288581848144531,-0.7169137001037598,-7.392378807067871,0.9141425490379333,0.9417308568954468,2.443272113800049,2.987494707107544,3.8186686038970947,-2.0275423526763916,-4.518332481384277,-7.065944194793701,8.9148530960083,6.596800804138184,-10.527026176452637,2.5735933780670166,2.5796217918395996,7.404481410980225,5.080875396728516,3.263373374938965,1.4599615335464478,-2.2951011657714844,-3.6771132946014404,-2.3924810886383057,1.2416117191314697,4.1328558921813965,-4.059782028198242,2.911803960800171,-5.98622465133667,1.6600661277770996,-9.57284164428711,3.4583613872528076,-6.2008209228515625,-4.9403767585754395,-6.073099136352539,-2.24121356010437,6.195389747619629,6.253627300262451,-9.242302894592285,3.5690689086914062,-2.056960105895996,4.878568172454834,-3.7945830821990967,2.2317161560058594,-1.209409236907959,5.260949611663818,-4.867141246795654,-2.628009796142578,0.48120027780532837,3.6300723552703857,-3.2625069618225098,-7.075440406799316,-6.84479284286499,2.2789816856384277,0.9029962420463562,3.9334607124328613,0.3059406280517578,4.946078777313232,4.845353126525879,6.6341872215271,0.8622301816940308,0.140947625041008,-5.219122886657715,-5.0841803550720215,-8.925418853759766,5.795875072479248,3.3151519298553467,1.8690894842147827,-5.270562171936035,4.534918308258057,-3.1186132431030273,-4.315023422241211,-1.2804031372070312,-5.914073944091797,4.213925838470459,6.419827938079834,3.9295828342437744,-3.436802625656128,-6.420575141906738,-4.8376641273498535,0.5428375005722046,3.135873556137085,2.4850149154663086,-0.08756374567747116,-2.0480873584747314,-3.3540329933166504,8.652311325073242,-0.46727612614631653,1.13853919506073,2.781096935272217,2.176816940307617,-3.743560314178467,-6.209083080291748,-1.1622220277786255,-5.803437232971191,-8.84591007232666,-4.625058650970459,8.65924072265625,3.400545358657837,2.1403143405914307,4.0272722244262695,-3.2323012351989746,1.2641462087631226,8.403207778930664,2.2099878787994385,-0.3102913498878479,0.7481916546821594,-2.115286350250244,6.905001640319824,-3.1308603286743164,5.2000932693481445,2.8898634910583496,4.638502597808838,-4.571484565734863,-8.88886547088623,-1.8976248502731323,4.579013347625732,-2.844879388809204,-1.8734381198883057,-6.405396938323975,3.6831398010253906,-7.374930381774902,-6.322406768798828,4.057844638824463,5.522346496582031,2.3276100158691406,-2.4900741577148438,-7.259119033813477,-5.006173610687256,1.944165825843811,-3.6100659370422363,-9.382989883422852,3.5110461711883545],\"type\":\"scatter3d\"},{\"hovertemplate\":\"Dominant_Topic=Topic 1<br>0=%{x}<br>1=%{y}<br>2=%{z}<extra></extra>\",\"legendgroup\":\"Topic 1\",\"marker\":{\"color\":\"#EF553B\",\"opacity\":0.7,\"symbol\":\"circle\"},\"mode\":\"markers\",\"name\":\"Topic 1\",\"scene\":\"scene\",\"showlegend\":true,\"x\":[-3.1329362392425537,-10.013104438781738,4.794561386108398,-9.444720268249512,-9.603311538696289,7.300926208496094,-9.454925537109375,-9.706241607666016,-3.69563627243042,7.076305389404297,-9.496991157531738,-9.879413604736328,-10.018791198730469,-9.597968101501465,-9.535453796386719,-3.045745372772217,-10.03612995147705,-10.047028541564941,-9.601641654968262,-9.8587646484375,-9.526351928710938,-9.868232727050781,-9.520591735839844,-9.792978286743164],\"y\":[-2.9855542182922363,-2.520535469055176,0.07068052142858505,-2.357506513595581,-2.2249953746795654,-1.382934331893921,-2.8272790908813477,-2.714719772338867,2.288792610168457,1.6912918090820312,-2.707563638687134,-2.5537703037261963,-2.4589972496032715,-2.245471954345703,-2.6187498569488525,-3.0658152103424072,-2.6228911876678467,-2.249842643737793,-2.8459646701812744,-2.4998443126678467,-2.7503464221954346,-2.501708984375,-2.257658004760742,-2.490403890609741],\"z\":[-11.51188850402832,9.568870544433594,-5.540307998657227,10.093330383300781,10.13724422454834,-3.1458661556243896,10.166400909423828,10.358198165893555,-5.745050430297852,-0.37821877002716064,10.041552543640137,9.608827590942383,9.499658584594727,10.248444557189941,10.415372848510742,-11.492278099060059,9.921350479125977,10.166716575622559,10.336099624633789,9.566360473632812,9.981707572937012,10.331108093261719,10.091171264648438,10.383124351501465],\"type\":\"scatter3d\"},{\"hovertemplate\":\"Dominant_Topic=Topic 2<br>0=%{x}<br>1=%{y}<br>2=%{z}<extra></extra>\",\"legendgroup\":\"Topic 2\",\"marker\":{\"color\":\"#00cc96\",\"opacity\":0.7,\"symbol\":\"circle\"},\"mode\":\"markers\",\"name\":\"Topic 2\",\"scene\":\"scene\",\"showlegend\":true,\"x\":[1.8996286392211914,-3.0934853553771973],\"y\":[3.6096441745758057,-3.2090506553649902],\"z\":[3.307800769805908,-11.267243385314941],\"type\":\"scatter3d\"},{\"hovertemplate\":\"Dominant_Topic=Topic 3<br>0=%{x}<br>1=%{y}<br>2=%{z}<extra></extra>\",\"legendgroup\":\"Topic 3\",\"marker\":{\"color\":\"#ab63fa\",\"opacity\":0.7,\"symbol\":\"circle\"},\"mode\":\"markers\",\"name\":\"Topic 3\",\"scene\":\"scene\",\"showlegend\":true,\"x\":[-6.324077129364014,-4.17254114151001,-5.673207759857178,-5.3257880210876465,-4.946112155914307,5.438695430755615,-5.512942314147949,-5.754049777984619,-6.135333061218262,-5.752551078796387,-6.470607757568359,-5.229414939880371,-6.34226655960083,-4.199748516082764,-5.535313129425049,-5.761674880981445,-6.166914463043213,-5.477560520172119,-5.445860385894775,-6.44166898727417,-2.0426876544952393,-5.926295280456543,-2.163196086883545,-5.273242473602295,-5.342322826385498,6.219854831695557,-6.051877021789551],\"y\":[5.311464309692383,-1.572208046913147,-1.6752312183380127,5.011226177215576,4.106048107147217,1.53846275806427,5.417698860168457,5.507130146026611,4.410499572753906,4.754125118255615,3.459296226501465,4.841799259185791,4.078385353088379,-1.6580890417099,5.565335273742676,5.554561138153076,3.7699475288391113,5.577125072479248,4.966712474822998,-1.0313856601715088,-1.9419783353805542,5.37854528427124,4.038463592529297,4.644179344177246,5.978717803955078,-1.1318987607955933,-1.3688935041427612],\"z\":[2.565857172012329,-7.583970546722412,-5.058743953704834,-1.4155880212783813,-3.9841392040252686,-4.20084285736084,0.25868773460388184,3.54388427734375,-2.782454252243042,-2.278333902359009,0.1444171816110611,-3.3015615940093994,-3.043416976928711,-7.4596452713012695,0.472284197807312,3.2657599449157715,4.408239364624023,0.51518714427948,-1.4929232597351074,-3.4778406620025635,-9.664295196533203,2.9428799152374268,-0.2727319598197937,-2.415217638015747,1.8488725423812866,6.2142252922058105,-4.225977420806885],\"type\":\"scatter3d\"}],                        {\"template\":{\"data\":{\"histogram2dcontour\":[{\"type\":\"histogram2dcontour\",\"colorbar\":{\"outlinewidth\":0,\"ticks\":\"\"},\"colorscale\":[[0.0,\"#0d0887\"],[0.1111111111111111,\"#46039f\"],[0.2222222222222222,\"#7201a8\"],[0.3333333333333333,\"#9c179e\"],[0.4444444444444444,\"#bd3786\"],[0.5555555555555556,\"#d8576b\"],[0.6666666666666666,\"#ed7953\"],[0.7777777777777778,\"#fb9f3a\"],[0.8888888888888888,\"#fdca26\"],[1.0,\"#f0f921\"]]}],\"choropleth\":[{\"type\":\"choropleth\",\"colorbar\":{\"outlinewidth\":0,\"ticks\":\"\"}}],\"histogram2d\":[{\"type\":\"histogram2d\",\"colorbar\":{\"outlinewidth\":0,\"ticks\":\"\"},\"colorscale\":[[0.0,\"#0d0887\"],[0.1111111111111111,\"#46039f\"],[0.2222222222222222,\"#7201a8\"],[0.3333333333333333,\"#9c179e\"],[0.4444444444444444,\"#bd3786\"],[0.5555555555555556,\"#d8576b\"],[0.6666666666666666,\"#ed7953\"],[0.7777777777777778,\"#fb9f3a\"],[0.8888888888888888,\"#fdca26\"],[1.0,\"#f0f921\"]]}],\"heatmap\":[{\"type\":\"heatmap\",\"colorbar\":{\"outlinewidth\":0,\"ticks\":\"\"},\"colorscale\":[[0.0,\"#0d0887\"],[0.1111111111111111,\"#46039f\"],[0.2222222222222222,\"#7201a8\"],[0.3333333333333333,\"#9c179e\"],[0.4444444444444444,\"#bd3786\"],[0.5555555555555556,\"#d8576b\"],[0.6666666666666666,\"#ed7953\"],[0.7777777777777778,\"#fb9f3a\"],[0.8888888888888888,\"#fdca26\"],[1.0,\"#f0f921\"]]}],\"heatmapgl\":[{\"type\":\"heatmapgl\",\"colorbar\":{\"outlinewidth\":0,\"ticks\":\"\"},\"colorscale\":[[0.0,\"#0d0887\"],[0.1111111111111111,\"#46039f\"],[0.2222222222222222,\"#7201a8\"],[0.3333333333333333,\"#9c179e\"],[0.4444444444444444,\"#bd3786\"],[0.5555555555555556,\"#d8576b\"],[0.6666666666666666,\"#ed7953\"],[0.7777777777777778,\"#fb9f3a\"],[0.8888888888888888,\"#fdca26\"],[1.0,\"#f0f921\"]]}],\"contourcarpet\":[{\"type\":\"contourcarpet\",\"colorbar\":{\"outlinewidth\":0,\"ticks\":\"\"}}],\"contour\":[{\"type\":\"contour\",\"colorbar\":{\"outlinewidth\":0,\"ticks\":\"\"},\"colorscale\":[[0.0,\"#0d0887\"],[0.1111111111111111,\"#46039f\"],[0.2222222222222222,\"#7201a8\"],[0.3333333333333333,\"#9c179e\"],[0.4444444444444444,\"#bd3786\"],[0.5555555555555556,\"#d8576b\"],[0.6666666666666666,\"#ed7953\"],[0.7777777777777778,\"#fb9f3a\"],[0.8888888888888888,\"#fdca26\"],[1.0,\"#f0f921\"]]}],\"surface\":[{\"type\":\"surface\",\"colorbar\":{\"outlinewidth\":0,\"ticks\":\"\"},\"colorscale\":[[0.0,\"#0d0887\"],[0.1111111111111111,\"#46039f\"],[0.2222222222222222,\"#7201a8\"],[0.3333333333333333,\"#9c179e\"],[0.4444444444444444,\"#bd3786\"],[0.5555555555555556,\"#d8576b\"],[0.6666666666666666,\"#ed7953\"],[0.7777777777777778,\"#fb9f3a\"],[0.8888888888888888,\"#fdca26\"],[1.0,\"#f0f921\"]]}],\"mesh3d\":[{\"type\":\"mesh3d\",\"colorbar\":{\"outlinewidth\":0,\"ticks\":\"\"}}],\"scatter\":[{\"fillpattern\":{\"fillmode\":\"overlay\",\"size\":10,\"solidity\":0.2},\"type\":\"scatter\"}],\"parcoords\":[{\"type\":\"parcoords\",\"line\":{\"colorbar\":{\"outlinewidth\":0,\"ticks\":\"\"}}}],\"scatterpolargl\":[{\"type\":\"scatterpolargl\",\"marker\":{\"colorbar\":{\"outlinewidth\":0,\"ticks\":\"\"}}}],\"bar\":[{\"error_x\":{\"color\":\"#2a3f5f\"},\"error_y\":{\"color\":\"#2a3f5f\"},\"marker\":{\"line\":{\"color\":\"#E5ECF6\",\"width\":0.5},\"pattern\":{\"fillmode\":\"overlay\",\"size\":10,\"solidity\":0.2}},\"type\":\"bar\"}],\"scattergeo\":[{\"type\":\"scattergeo\",\"marker\":{\"colorbar\":{\"outlinewidth\":0,\"ticks\":\"\"}}}],\"scatterpolar\":[{\"type\":\"scatterpolar\",\"marker\":{\"colorbar\":{\"outlinewidth\":0,\"ticks\":\"\"}}}],\"histogram\":[{\"marker\":{\"pattern\":{\"fillmode\":\"overlay\",\"size\":10,\"solidity\":0.2}},\"type\":\"histogram\"}],\"scattergl\":[{\"type\":\"scattergl\",\"marker\":{\"colorbar\":{\"outlinewidth\":0,\"ticks\":\"\"}}}],\"scatter3d\":[{\"type\":\"scatter3d\",\"line\":{\"colorbar\":{\"outlinewidth\":0,\"ticks\":\"\"}},\"marker\":{\"colorbar\":{\"outlinewidth\":0,\"ticks\":\"\"}}}],\"scattermapbox\":[{\"type\":\"scattermapbox\",\"marker\":{\"colorbar\":{\"outlinewidth\":0,\"ticks\":\"\"}}}],\"scatterternary\":[{\"type\":\"scatterternary\",\"marker\":{\"colorbar\":{\"outlinewidth\":0,\"ticks\":\"\"}}}],\"scattercarpet\":[{\"type\":\"scattercarpet\",\"marker\":{\"colorbar\":{\"outlinewidth\":0,\"ticks\":\"\"}}}],\"carpet\":[{\"aaxis\":{\"endlinecolor\":\"#2a3f5f\",\"gridcolor\":\"white\",\"linecolor\":\"white\",\"minorgridcolor\":\"white\",\"startlinecolor\":\"#2a3f5f\"},\"baxis\":{\"endlinecolor\":\"#2a3f5f\",\"gridcolor\":\"white\",\"linecolor\":\"white\",\"minorgridcolor\":\"white\",\"startlinecolor\":\"#2a3f5f\"},\"type\":\"carpet\"}],\"table\":[{\"cells\":{\"fill\":{\"color\":\"#EBF0F8\"},\"line\":{\"color\":\"white\"}},\"header\":{\"fill\":{\"color\":\"#C8D4E3\"},\"line\":{\"color\":\"white\"}},\"type\":\"table\"}],\"barpolar\":[{\"marker\":{\"line\":{\"color\":\"#E5ECF6\",\"width\":0.5},\"pattern\":{\"fillmode\":\"overlay\",\"size\":10,\"solidity\":0.2}},\"type\":\"barpolar\"}],\"pie\":[{\"automargin\":true,\"type\":\"pie\"}]},\"layout\":{\"autotypenumbers\":\"strict\",\"colorway\":[\"#636efa\",\"#EF553B\",\"#00cc96\",\"#ab63fa\",\"#FFA15A\",\"#19d3f3\",\"#FF6692\",\"#B6E880\",\"#FF97FF\",\"#FECB52\"],\"font\":{\"color\":\"#2a3f5f\"},\"hovermode\":\"closest\",\"hoverlabel\":{\"align\":\"left\"},\"paper_bgcolor\":\"white\",\"plot_bgcolor\":\"#E5ECF6\",\"polar\":{\"bgcolor\":\"#E5ECF6\",\"angularaxis\":{\"gridcolor\":\"white\",\"linecolor\":\"white\",\"ticks\":\"\"},\"radialaxis\":{\"gridcolor\":\"white\",\"linecolor\":\"white\",\"ticks\":\"\"}},\"ternary\":{\"bgcolor\":\"#E5ECF6\",\"aaxis\":{\"gridcolor\":\"white\",\"linecolor\":\"white\",\"ticks\":\"\"},\"baxis\":{\"gridcolor\":\"white\",\"linecolor\":\"white\",\"ticks\":\"\"},\"caxis\":{\"gridcolor\":\"white\",\"linecolor\":\"white\",\"ticks\":\"\"}},\"coloraxis\":{\"colorbar\":{\"outlinewidth\":0,\"ticks\":\"\"}},\"colorscale\":{\"sequential\":[[0.0,\"#0d0887\"],[0.1111111111111111,\"#46039f\"],[0.2222222222222222,\"#7201a8\"],[0.3333333333333333,\"#9c179e\"],[0.4444444444444444,\"#bd3786\"],[0.5555555555555556,\"#d8576b\"],[0.6666666666666666,\"#ed7953\"],[0.7777777777777778,\"#fb9f3a\"],[0.8888888888888888,\"#fdca26\"],[1.0,\"#f0f921\"]],\"sequentialminus\":[[0.0,\"#0d0887\"],[0.1111111111111111,\"#46039f\"],[0.2222222222222222,\"#7201a8\"],[0.3333333333333333,\"#9c179e\"],[0.4444444444444444,\"#bd3786\"],[0.5555555555555556,\"#d8576b\"],[0.6666666666666666,\"#ed7953\"],[0.7777777777777778,\"#fb9f3a\"],[0.8888888888888888,\"#fdca26\"],[1.0,\"#f0f921\"]],\"diverging\":[[0,\"#8e0152\"],[0.1,\"#c51b7d\"],[0.2,\"#de77ae\"],[0.3,\"#f1b6da\"],[0.4,\"#fde0ef\"],[0.5,\"#f7f7f7\"],[0.6,\"#e6f5d0\"],[0.7,\"#b8e186\"],[0.8,\"#7fbc41\"],[0.9,\"#4d9221\"],[1,\"#276419\"]]},\"xaxis\":{\"gridcolor\":\"white\",\"linecolor\":\"white\",\"ticks\":\"\",\"title\":{\"standoff\":15},\"zerolinecolor\":\"white\",\"automargin\":true,\"zerolinewidth\":2},\"yaxis\":{\"gridcolor\":\"white\",\"linecolor\":\"white\",\"ticks\":\"\",\"title\":{\"standoff\":15},\"zerolinecolor\":\"white\",\"automargin\":true,\"zerolinewidth\":2},\"scene\":{\"xaxis\":{\"backgroundcolor\":\"#E5ECF6\",\"gridcolor\":\"white\",\"linecolor\":\"white\",\"showbackground\":true,\"ticks\":\"\",\"zerolinecolor\":\"white\",\"gridwidth\":2},\"yaxis\":{\"backgroundcolor\":\"#E5ECF6\",\"gridcolor\":\"white\",\"linecolor\":\"white\",\"showbackground\":true,\"ticks\":\"\",\"zerolinecolor\":\"white\",\"gridwidth\":2},\"zaxis\":{\"backgroundcolor\":\"#E5ECF6\",\"gridcolor\":\"white\",\"linecolor\":\"white\",\"showbackground\":true,\"ticks\":\"\",\"zerolinecolor\":\"white\",\"gridwidth\":2}},\"shapedefaults\":{\"line\":{\"color\":\"#2a3f5f\"}},\"annotationdefaults\":{\"arrowcolor\":\"#2a3f5f\",\"arrowhead\":0,\"arrowwidth\":1},\"geo\":{\"bgcolor\":\"white\",\"landcolor\":\"#E5ECF6\",\"subunitcolor\":\"white\",\"showland\":true,\"showlakes\":true,\"lakecolor\":\"white\"},\"title\":{\"x\":0.05},\"mapbox\":{\"style\":\"light\"}}},\"scene\":{\"domain\":{\"x\":[0.0,1.0],\"y\":[0.0,1.0]},\"xaxis\":{\"title\":{\"text\":\"0\"}},\"yaxis\":{\"title\":{\"text\":\"1\"}},\"zaxis\":{\"title\":{\"text\":\"2\"}}},\"legend\":{\"title\":{\"text\":\"Dominant_Topic\"},\"tracegroupgap\":0},\"title\":{\"text\":\"3d TSNE Plot for Topic Model\"},\"height\":800,\"width\":900},                        {\"responsive\": true}                    ).then(function(){\n",
       "                            \n",
       "var gd = document.getElementById('f1129fe5-edfa-4093-b891-7a433d78fd0a');\n",
       "var x = new MutationObserver(function (mutations, observer) {{\n",
       "        var display = window.getComputedStyle(gd).display;\n",
       "        if (!display || display === 'none') {{\n",
       "            console.log([gd, 'removed!']);\n",
       "            Plotly.purge(gd);\n",
       "            observer.disconnect();\n",
       "        }}\n",
       "}});\n",
       "\n",
       "// Listen for the removal of the full notebook cells\n",
       "var notebookContainer = gd.closest('#notebook-container');\n",
       "if (notebookContainer) {{\n",
       "    x.observe(notebookContainer, {childList: true});\n",
       "}}\n",
       "\n",
       "// Listen for the clearing of the current output cell\n",
       "var outputEl = gd.closest('.output');\n",
       "if (outputEl) {{\n",
       "    x.observe(outputEl, {childList: true});\n",
       "}}\n",
       "\n",
       "                        })                };                });            </script>        </div>"
      ]
     },
     "metadata": {},
     "output_type": "display_data"
    }
   ],
   "source": [
    "plot_model(lsi, plot = 'tsne')"
   ]
  },
  {
   "cell_type": "code",
   "execution_count": 23,
   "id": "4c0a1fd8-bf81-41ae-ad06-b8822f8e2c87",
   "metadata": {},
   "outputs": [
    {
     "data": {
      "text/html": [
       "        <script type=\"text/javascript\">\n",
       "        window.PlotlyConfig = {MathJaxConfig: 'local'};\n",
       "        if (window.MathJax) {MathJax.Hub.Config({SVG: {font: \"STIX-Web\"}});}\n",
       "        if (typeof require !== 'undefined') {\n",
       "        require.undef(\"plotly\");\n",
       "        requirejs.config({\n",
       "            paths: {\n",
       "                'plotly': ['https://cdn.plot.ly/plotly-2.11.1.min']\n",
       "            }\n",
       "        });\n",
       "        require(['plotly'], function(Plotly) {\n",
       "            window._Plotly = Plotly;\n",
       "        });\n",
       "        }\n",
       "        </script>\n",
       "        "
      ]
     },
     "metadata": {},
     "output_type": "display_data"
    },
    {
     "data": {
      "image/png": "[encoded data removed]",
      "text/plain": [
       "<Figure size 720x432 with 1 Axes>"
      ]
     },
     "metadata": {},
     "output_type": "display_data"
    }
   ],
   "source": [
    "plot_model(lsi, plot = 'umap')"
   ]
  },
  {
   "cell_type": "code",
   "execution_count": null,
   "id": "37af93fb-1814-41c8-bd6b-5858a195281b",
   "metadata": {},
   "outputs": [],
   "source": []
  }
 ],
 "metadata": {
  "kernelspec": {
   "display_name": "Python 3 (ipykernel)",
   "language": "python",
   "name": "python3"
  },
  "language_info": {
   "codemirror_mode": {
    "name": "ipython",
    "version": 3
   },
   "file_extension": ".py",
   "mimetype": "text/x-python",
   "name": "python",
   "nbconvert_exporter": "python",
   "pygments_lexer": "ipython3",
   "version": "3.9.7"
  }
 },
 "nbformat": 4,
 "nbformat_minor": 5
}
