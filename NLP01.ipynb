{
 "cells": [
  {
   "cell_type": "markdown",
   "id": "b8895472-a3e6-4ddc-8e07-445ce98ccbd4",
   "metadata": {},
   "source": [
    "# LDA"
   ]
  },
  {
   "cell_type": "code",
   "execution_count": 1,
   "id": "592c7b5c",
   "metadata": {},
   "outputs": [],
   "source": [
    "import warnings\n",
    "warnings.filterwarnings('ignore')"
   ]
  },
  {
   "cell_type": "code",
   "execution_count": 2,
   "id": "6a6cf55d",
   "metadata": {},
   "outputs": [],
   "source": [
    "import pandas as pd"
   ]
  },
  {
   "cell_type": "code",
   "execution_count": 3,
   "id": "2c27f2e4",
   "metadata": {},
   "outputs": [],
   "source": [
    "import numpy as np"
   ]
  },
  {
   "cell_type": "code",
   "execution_count": 4,
   "id": "b172c4ce",
   "metadata": {},
   "outputs": [],
   "source": [
    "import pycaret as pc"
   ]
  },
  {
   "cell_type": "code",
   "execution_count": 5,
   "id": "e26aed0b",
   "metadata": {},
   "outputs": [],
   "source": [
    "import sklearn as sk"
   ]
  },
  {
   "cell_type": "code",
   "execution_count": 6,
   "id": "d88eab67",
   "metadata": {},
   "outputs": [],
   "source": [
    "from pycaret.nlp import *"
   ]
  },
  {
   "cell_type": "code",
   "execution_count": 7,
   "id": "b9783cf9",
   "metadata": {},
   "outputs": [
    {
     "data": {
      "text/plain": [
       "'1.22.3'"
      ]
     },
     "execution_count": 7,
     "metadata": {},
     "output_type": "execute_result"
    }
   ],
   "source": [
    "np.__version__"
   ]
  },
  {
   "cell_type": "code",
   "execution_count": 8,
   "id": "9213a461",
   "metadata": {},
   "outputs": [
    {
     "data": {
      "text/plain": [
       "'1.3.5'"
      ]
     },
     "execution_count": 8,
     "metadata": {},
     "output_type": "execute_result"
    }
   ],
   "source": [
    "pd.__version__"
   ]
  },
  {
   "cell_type": "code",
   "execution_count": 9,
   "id": "6cc964b0",
   "metadata": {},
   "outputs": [
    {
     "data": {
      "text/plain": [
       "'2.3.10'"
      ]
     },
     "execution_count": 9,
     "metadata": {},
     "output_type": "execute_result"
    }
   ],
   "source": [
    "pc.__version__"
   ]
  },
  {
   "cell_type": "code",
   "execution_count": 10,
   "id": "d87e11de",
   "metadata": {},
   "outputs": [
    {
     "data": {
      "text/plain": [
       "'0.23.2'"
      ]
     },
     "execution_count": 10,
     "metadata": {},
     "output_type": "execute_result"
    }
   ],
   "source": [
    "sk.__version__"
   ]
  },
  {
   "cell_type": "code",
   "execution_count": 11,
   "id": "b0da1c9a",
   "metadata": {},
   "outputs": [],
   "source": [
    "pd.set_option('display.max_columns', None)"
   ]
  },
  {
   "cell_type": "code",
   "execution_count": 12,
   "id": "2144cf21",
   "metadata": {},
   "outputs": [
    {
     "name": "stdout",
     "output_type": "stream",
     "text": [
      "Tokenization took: 39.76 ms\n",
      "Type conversion took: 40.71 ms\n",
      "Parser memory cleanup took: 0.01 ms\n"
     ]
    }
   ],
   "source": [
    "data = pd.read_csv(\"./kiva.csv\", sep=',', decimal='.', verbose= True, engine='c') "
   ]
  },
  {
   "cell_type": "code",
   "execution_count": 13,
   "id": "29221518",
   "metadata": {},
   "outputs": [
    {
     "data": {
      "text/plain": [
       "(6818, 7)"
      ]
     },
     "execution_count": 13,
     "metadata": {},
     "output_type": "execute_result"
    }
   ],
   "source": [
    "data.shape"
   ]
  },
  {
   "cell_type": "code",
   "execution_count": 14,
   "id": "623b9caa",
   "metadata": {},
   "outputs": [
    {
     "data": {
      "text/html": [
       "<div>\n",
       "<style scoped>\n",
       "    .dataframe tbody tr th:only-of-type {\n",
       "        vertical-align: middle;\n",
       "    }\n",
       "\n",
       "    .dataframe tbody tr th {\n",
       "        vertical-align: top;\n",
       "    }\n",
       "\n",
       "    .dataframe thead th {\n",
       "        text-align: right;\n",
       "    }\n",
       "</style>\n",
       "<table border=\"1\" class=\"dataframe\">\n",
       "  <thead>\n",
       "    <tr style=\"text-align: right;\">\n",
       "      <th></th>\n",
       "      <th>country</th>\n",
       "      <th>en</th>\n",
       "      <th>gender</th>\n",
       "      <th>loan_amount</th>\n",
       "      <th>nonpayment</th>\n",
       "      <th>sector</th>\n",
       "      <th>status</th>\n",
       "    </tr>\n",
       "  </thead>\n",
       "  <tbody>\n",
       "    <tr>\n",
       "      <th>0</th>\n",
       "      <td>Dominican Republic</td>\n",
       "      <td>\"Banco Esperanza\" is a group of 10 women looki...</td>\n",
       "      <td>F</td>\n",
       "      <td>1225</td>\n",
       "      <td>partner</td>\n",
       "      <td>Retail</td>\n",
       "      <td>0</td>\n",
       "    </tr>\n",
       "    <tr>\n",
       "      <th>1</th>\n",
       "      <td>Dominican Republic</td>\n",
       "      <td>\"Caminemos Hacia Adelante\" or \"Walking Forward...</td>\n",
       "      <td>F</td>\n",
       "      <td>1975</td>\n",
       "      <td>lender</td>\n",
       "      <td>Clothing</td>\n",
       "      <td>0</td>\n",
       "    </tr>\n",
       "    <tr>\n",
       "      <th>2</th>\n",
       "      <td>Dominican Republic</td>\n",
       "      <td>\"Creciendo Por La Union\" is a group of 10 peop...</td>\n",
       "      <td>F</td>\n",
       "      <td>2175</td>\n",
       "      <td>partner</td>\n",
       "      <td>Clothing</td>\n",
       "      <td>0</td>\n",
       "    </tr>\n",
       "    <tr>\n",
       "      <th>3</th>\n",
       "      <td>Dominican Republic</td>\n",
       "      <td>\"Cristo Vive\" (\"Christ lives\" is a group of 10...</td>\n",
       "      <td>F</td>\n",
       "      <td>1425</td>\n",
       "      <td>partner</td>\n",
       "      <td>Clothing</td>\n",
       "      <td>0</td>\n",
       "    </tr>\n",
       "    <tr>\n",
       "      <th>4</th>\n",
       "      <td>Dominican Republic</td>\n",
       "      <td>\"Cristo Vive\" is a large group of 35 people, 2...</td>\n",
       "      <td>F</td>\n",
       "      <td>4025</td>\n",
       "      <td>partner</td>\n",
       "      <td>Food</td>\n",
       "      <td>0</td>\n",
       "    </tr>\n",
       "  </tbody>\n",
       "</table>\n",
       "</div>"
      ],
      "text/plain": [
       "              country                                                 en  \\\n",
       "0  Dominican Republic  \"Banco Esperanza\" is a group of 10 women looki...   \n",
       "1  Dominican Republic  \"Caminemos Hacia Adelante\" or \"Walking Forward...   \n",
       "2  Dominican Republic  \"Creciendo Por La Union\" is a group of 10 peop...   \n",
       "3  Dominican Republic  \"Cristo Vive\" (\"Christ lives\" is a group of 10...   \n",
       "4  Dominican Republic  \"Cristo Vive\" is a large group of 35 people, 2...   \n",
       "\n",
       "  gender  loan_amount nonpayment    sector  status  \n",
       "0      F         1225    partner    Retail       0  \n",
       "1      F         1975     lender  Clothing       0  \n",
       "2      F         2175    partner  Clothing       0  \n",
       "3      F         1425    partner  Clothing       0  \n",
       "4      F         4025    partner      Food       0  "
      ]
     },
     "execution_count": 14,
     "metadata": {},
     "output_type": "execute_result"
    }
   ],
   "source": [
    "data.head()"
   ]
  },
  {
   "cell_type": "code",
   "execution_count": 15,
   "id": "289bc422",
   "metadata": {},
   "outputs": [],
   "source": [
    "data = data.sample(1000, random_state=786).reset_index(drop=True)"
   ]
  },
  {
   "cell_type": "code",
   "execution_count": 16,
   "id": "7662b5b7",
   "metadata": {},
   "outputs": [
    {
     "data": {
      "text/plain": [
       "(1000, 7)"
      ]
     },
     "execution_count": 16,
     "metadata": {},
     "output_type": "execute_result"
    }
   ],
   "source": [
    "data.shape"
   ]
  },
  {
   "cell_type": "code",
   "execution_count": 17,
   "id": "34e732d7",
   "metadata": {},
   "outputs": [
    {
     "data": {
      "text/html": [
       "<style type=\"text/css\">\n",
       "</style>\n",
       "<table id=\"T_25055_\">\n",
       "  <thead>\n",
       "    <tr>\n",
       "      <th class=\"col_heading level0 col0\" >Description</th>\n",
       "      <th class=\"col_heading level0 col1\" >Value</th>\n",
       "    </tr>\n",
       "  </thead>\n",
       "  <tbody>\n",
       "    <tr>\n",
       "      <td id=\"T_25055_row0_col0\" class=\"data row0 col0\" >session_id</td>\n",
       "      <td id=\"T_25055_row0_col1\" class=\"data row0 col1\" >101</td>\n",
       "    </tr>\n",
       "    <tr>\n",
       "      <td id=\"T_25055_row1_col0\" class=\"data row1 col0\" >Documents</td>\n",
       "      <td id=\"T_25055_row1_col1\" class=\"data row1 col1\" >1000</td>\n",
       "    </tr>\n",
       "    <tr>\n",
       "      <td id=\"T_25055_row2_col0\" class=\"data row2 col0\" >Vocab Size</td>\n",
       "      <td id=\"T_25055_row2_col1\" class=\"data row2 col1\" >4636</td>\n",
       "    </tr>\n",
       "    <tr>\n",
       "      <td id=\"T_25055_row3_col0\" class=\"data row3 col0\" >Custom Stopwords</td>\n",
       "      <td id=\"T_25055_row3_col1\" class=\"data row3 col1\" >True</td>\n",
       "    </tr>\n",
       "  </tbody>\n",
       "</table>\n"
      ],
      "text/plain": [
       "<pandas.io.formats.style.Styler at 0x13c8e3430>"
      ]
     },
     "metadata": {},
     "output_type": "display_data"
    }
   ],
   "source": [
    "exp_nlp101 = setup(data = data, \n",
    "                   target = 'en', \n",
    "                   custom_stopwords = ['loan', 'income', 'usd', 'many', 'also', 'make', 'business', 'buy', \n",
    "                                       'sell', 'purchase','year', 'people', 'able', 'enable', 'old', 'woman',\n",
    "                                       'child', 'school'],\n",
    "                   session_id = 101,\n",
    "                   log_experiment = True,\n",
    "                   experiment_name = 'EX001')"
   ]
  },
  {
   "cell_type": "raw",
   "id": "04563699",
   "metadata": {},
   "source": [
    "data: pandas.Dataframe\n",
    "target: str - name of column containing text\n",
    "custom_stopwords: list\n",
    "html: bool, default = True - prevents runtime display of monitor\n",
    "session_id: int\n",
    "log_experiment: bool - MLFlow \n",
    "experiment_name: str \n",
    "experiment_custom_tags: dict - passed to the mlflow.set_tags to add new custom tags for the experiment\n",
    "log_plots: bool - certain plots are logged automatically in the MLFlow   \n",
    "log_data: bool - dataset is logged on the MLflow\n",
    "verbose: bool, default = True\n",
    "    Returns: Global variables that can be changed using the set_config function    "
   ]
  },
  {
   "cell_type": "markdown",
   "id": "bc035586",
   "metadata": {
    "tags": []
   },
   "source": [
    "### [Evaluate Topic Models: Latent Dirichlet Allocation (LDA)](https://towardsdatascience.com/evaluate-topic-model-in-python-latent-dirichlet-allocation-lda-7d57484bb5d0)"
   ]
  },
  {
   "cell_type": "markdown",
   "id": "05ef2547",
   "metadata": {},
   "source": [
    "### [Evaluating Topic Models](https://www.youtube.com/watch?v=UkmIljRIG_M)"
   ]
  },
  {
   "cell_type": "markdown",
   "id": "878c2ac3",
   "metadata": {},
   "source": [
    "### [Latent Dirichlet Allocation](https://radimrehurek.com/gensim/models/ldamodel.html)"
   ]
  },
  {
   "cell_type": "code",
   "execution_count": 18,
   "id": "56a5ccec",
   "metadata": {},
   "outputs": [],
   "source": [
    "lda = create_model('lda', num_topics = 4, multi_core = True)"
   ]
  },
  {
   "cell_type": "raw",
   "id": "8b0c3ccc",
   "metadata": {},
   "source": [
    "Models available in the model library (ID - Name):\n",
    "'lda' - Latent Dirichlet Allocation\n",
    "'lsi' - Latent Semantic Indexing\n",
    "'hdp' - Hierarchical Dirichlet Process\n",
    "'rp'  - Random Projections\n",
    "'nmf' - Non-Negative Matrix Factorization"
   ]
  },
  {
   "cell_type": "raw",
   "id": "20314d7b",
   "metadata": {},
   "source": [
    "multi_core: bool\n",
    "topic_num: str - Topic number to be passed as a string\n",
    "save: string - Plot is saved as png file in the specified directory when the path to the directory is specified\n",
    "system: bool - Must remain True all times\n",
    "display_format: str - To display plots in Streamlit (https://www.streamlit.io/), set this to ‘streamlit’.    "
   ]
  },
  {
   "cell_type": "code",
   "execution_count": 19,
   "id": "60bb22d8",
   "metadata": {},
   "outputs": [
    {
     "name": "stdout",
     "output_type": "stream",
     "text": [
      "LdaModel(num_terms=4636, num_topics=4, decay=0.5, chunksize=100)\n"
     ]
    }
   ],
   "source": [
    "print(lda)"
   ]
  },
  {
   "cell_type": "code",
   "execution_count": 20,
   "id": "4d32dc82",
   "metadata": {},
   "outputs": [],
   "source": [
    "lda_results = assign_model(lda)"
   ]
  },
  {
   "cell_type": "code",
   "execution_count": 21,
   "id": "1d931907",
   "metadata": {},
   "outputs": [
    {
     "data": {
      "text/html": [
       "<div>\n",
       "<style scoped>\n",
       "    .dataframe tbody tr th:only-of-type {\n",
       "        vertical-align: middle;\n",
       "    }\n",
       "\n",
       "    .dataframe tbody tr th {\n",
       "        vertical-align: top;\n",
       "    }\n",
       "\n",
       "    .dataframe thead th {\n",
       "        text-align: right;\n",
       "    }\n",
       "</style>\n",
       "<table border=\"1\" class=\"dataframe\">\n",
       "  <thead>\n",
       "    <tr style=\"text-align: right;\">\n",
       "      <th></th>\n",
       "      <th>country</th>\n",
       "      <th>en</th>\n",
       "      <th>gender</th>\n",
       "      <th>loan_amount</th>\n",
       "      <th>nonpayment</th>\n",
       "      <th>sector</th>\n",
       "      <th>status</th>\n",
       "      <th>Topic_0</th>\n",
       "      <th>Topic_1</th>\n",
       "      <th>Topic_2</th>\n",
       "      <th>Topic_3</th>\n",
       "      <th>Dominant_Topic</th>\n",
       "      <th>Perc_Dominant_Topic</th>\n",
       "    </tr>\n",
       "  </thead>\n",
       "  <tbody>\n",
       "    <tr>\n",
       "      <th>0</th>\n",
       "      <td>Kenya</td>\n",
       "      <td>praxide marry primary train tailor operate sma...</td>\n",
       "      <td>F</td>\n",
       "      <td>75</td>\n",
       "      <td>partner</td>\n",
       "      <td>Services</td>\n",
       "      <td>0</td>\n",
       "      <td>0.006297</td>\n",
       "      <td>0.006051</td>\n",
       "      <td>0.006190</td>\n",
       "      <td>0.981462</td>\n",
       "      <td>Topic 3</td>\n",
       "      <td>0.98</td>\n",
       "    </tr>\n",
       "    <tr>\n",
       "      <th>1</th>\n",
       "      <td>Kenya</td>\n",
       "      <td>gynaecology practitioner run live wife biologi...</td>\n",
       "      <td>M</td>\n",
       "      <td>1200</td>\n",
       "      <td>partner</td>\n",
       "      <td>Health</td>\n",
       "      <td>0</td>\n",
       "      <td>0.005985</td>\n",
       "      <td>0.005807</td>\n",
       "      <td>0.005802</td>\n",
       "      <td>0.982406</td>\n",
       "      <td>Topic 3</td>\n",
       "      <td>0.98</td>\n",
       "    </tr>\n",
       "    <tr>\n",
       "      <th>2</th>\n",
       "      <td>Dominican Republic</td>\n",
       "      <td>live boy girl range new use clothing support f...</td>\n",
       "      <td>F</td>\n",
       "      <td>150</td>\n",
       "      <td>partner</td>\n",
       "      <td>Clothing</td>\n",
       "      <td>0</td>\n",
       "      <td>0.577693</td>\n",
       "      <td>0.007448</td>\n",
       "      <td>0.007646</td>\n",
       "      <td>0.407214</td>\n",
       "      <td>Topic 0</td>\n",
       "      <td>0.58</td>\n",
       "    </tr>\n",
       "    <tr>\n",
       "      <th>3</th>\n",
       "      <td>Kenya</td>\n",
       "      <td>phanice marry daughter secondary boy primary f...</td>\n",
       "      <td>F</td>\n",
       "      <td>150</td>\n",
       "      <td>lender</td>\n",
       "      <td>Services</td>\n",
       "      <td>1</td>\n",
       "      <td>0.140843</td>\n",
       "      <td>0.007104</td>\n",
       "      <td>0.007206</td>\n",
       "      <td>0.844847</td>\n",
       "      <td>Topic 3</td>\n",
       "      <td>0.84</td>\n",
       "    </tr>\n",
       "    <tr>\n",
       "      <th>4</th>\n",
       "      <td>Kenya</td>\n",
       "      <td>hotel last get good return competition increas...</td>\n",
       "      <td>F</td>\n",
       "      <td>300</td>\n",
       "      <td>lender</td>\n",
       "      <td>Food</td>\n",
       "      <td>1</td>\n",
       "      <td>0.020042</td>\n",
       "      <td>0.005747</td>\n",
       "      <td>0.005953</td>\n",
       "      <td>0.968259</td>\n",
       "      <td>Topic 3</td>\n",
       "      <td>0.97</td>\n",
       "    </tr>\n",
       "  </tbody>\n",
       "</table>\n",
       "</div>"
      ],
      "text/plain": [
       "              country                                                 en  \\\n",
       "0               Kenya  praxide marry primary train tailor operate sma...   \n",
       "1               Kenya  gynaecology practitioner run live wife biologi...   \n",
       "2  Dominican Republic  live boy girl range new use clothing support f...   \n",
       "3               Kenya  phanice marry daughter secondary boy primary f...   \n",
       "4               Kenya  hotel last get good return competition increas...   \n",
       "\n",
       "  gender  loan_amount nonpayment    sector  status   Topic_0   Topic_1  \\\n",
       "0      F           75    partner  Services       0  0.006297  0.006051   \n",
       "1      M         1200    partner    Health       0  0.005985  0.005807   \n",
       "2      F          150    partner  Clothing       0  0.577693  0.007448   \n",
       "3      F          150     lender  Services       1  0.140843  0.007104   \n",
       "4      F          300     lender      Food       1  0.020042  0.005747   \n",
       "\n",
       "    Topic_2   Topic_3 Dominant_Topic  Perc_Dominant_Topic  \n",
       "0  0.006190  0.981462        Topic 3                 0.98  \n",
       "1  0.005802  0.982406        Topic 3                 0.98  \n",
       "2  0.007646  0.407214        Topic 0                 0.58  \n",
       "3  0.007206  0.844847        Topic 3                 0.84  \n",
       "4  0.005953  0.968259        Topic 3                 0.97  "
      ]
     },
     "execution_count": 21,
     "metadata": {},
     "output_type": "execute_result"
    }
   ],
   "source": [
    "lda_results.head()"
   ]
  },
  {
   "cell_type": "code",
   "execution_count": 22,
   "id": "36a71f3e",
   "metadata": {},
   "outputs": [
    {
     "data": {
      "text/html": [
       "        <script type=\"text/javascript\">\n",
       "        window.PlotlyConfig = {MathJaxConfig: 'local'};\n",
       "        if (window.MathJax) {MathJax.Hub.Config({SVG: {font: \"STIX-Web\"}});}\n",
       "        if (typeof require !== 'undefined') {\n",
       "        require.undef(\"plotly\");\n",
       "        requirejs.config({\n",
       "            paths: {\n",
       "                'plotly': ['https://cdn.plot.ly/plotly-2.11.1.min']\n",
       "            }\n",
       "        });\n",
       "        require(['plotly'], function(Plotly) {\n",
       "            window._Plotly = Plotly;\n",
       "        });\n",
       "        }\n",
       "        </script>\n",
       "        "
      ]
     },
     "metadata": {},
     "output_type": "display_data"
    },
    {
     "data": {
      "application/vnd.plotly.v1+json": {
       "config": {
        "linkText": "Export to plot.ly",
        "plotlyServerURL": "https://plot.ly",
        "showLink": true
       },
       "data": [
        {
         "marker": {
          "color": "rgba(255, 153, 51, 0.6)",
          "line": {
           "color": "rgba(255, 153, 51, 1.0)",
           "width": 1
          }
         },
         "name": "count",
         "orientation": "v",
         "text": "",
         "type": "bar",
         "x": [
          "work",
          "use",
          "family",
          "start",
          "small",
          "help",
          "group",
          "live",
          "husband",
          "product",
          "well",
          "increase",
          "home",
          "customer",
          "marry",
          "good",
          "community",
          "need",
          "order",
          "request",
          "member",
          "pay",
          "hope",
          "grow",
          "expand",
          "stock",
          "want",
          "new",
          "time",
          "provide",
          "store",
          "area",
          "go",
          "money",
          "get",
          "rice",
          "support",
          "improve",
          "give",
          "market",
          "entrepreneur",
          "farmer",
          "hard",
          "sale",
          "life",
          "repay",
          "ago",
          "clothing",
          "run",
          "shop",
          "mother",
          "profit",
          "first",
          "client",
          "plan",
          "take",
          "clothe",
          "food",
          "high",
          "capital",
          "service",
          "education",
          "continue",
          "farm",
          "invest",
          "house",
          "item",
          "local",
          "fee",
          "demand",
          "young",
          "large",
          "wife",
          "operate",
          "meet",
          "say",
          "day",
          "receive",
          "month",
          "still",
          "supply",
          "offer",
          "part",
          "age",
          "currently",
          "open",
          "enough",
          "keep",
          "intend",
          "allow",
          "milk",
          "earn",
          "begin",
          "son",
          "land",
          "save",
          "primary",
          "experience",
          "attend",
          "second"
         ],
         "y": [
          602,
          583,
          560,
          483,
          470,
          469,
          465,
          425,
          423,
          390,
          373,
          350,
          320,
          316,
          313,
          313,
          310,
          296,
          285,
          272,
          269,
          266,
          262,
          260,
          256,
          255,
          245,
          243,
          240,
          234,
          233,
          214,
          212,
          211,
          210,
          202,
          202,
          201,
          200,
          200,
          197,
          193,
          191,
          187,
          186,
          185,
          181,
          180,
          177,
          175,
          173,
          172,
          171,
          170,
          170,
          170,
          167,
          167,
          165,
          164,
          163,
          161,
          158,
          151,
          149,
          144,
          142,
          141,
          139,
          139,
          136,
          136,
          135,
          133,
          132,
          132,
          131,
          129,
          127,
          126,
          125,
          125,
          124,
          123,
          117,
          116,
          116,
          115,
          115,
          114,
          114,
          114,
          112,
          112,
          112,
          111,
          107,
          106,
          105,
          105
         ]
        }
       ],
       "layout": {
        "autosize": true,
        "legend": {
         "bgcolor": "#F5F6F9",
         "font": {
          "color": "#4D5663"
         }
        },
        "paper_bgcolor": "#F5F6F9",
        "plot_bgcolor": "#F5F6F9",
        "template": {
         "data": {
          "bar": [
           {
            "error_x": {
             "color": "#2a3f5f"
            },
            "error_y": {
             "color": "#2a3f5f"
            },
            "marker": {
             "line": {
              "color": "#E5ECF6",
              "width": 0.5
             },
             "pattern": {
              "fillmode": "overlay",
              "size": 10,
              "solidity": 0.2
             }
            },
            "type": "bar"
           }
          ],
          "barpolar": [
           {
            "marker": {
             "line": {
              "color": "#E5ECF6",
              "width": 0.5
             },
             "pattern": {
              "fillmode": "overlay",
              "size": 10,
              "solidity": 0.2
             }
            },
            "type": "barpolar"
           }
          ],
          "carpet": [
           {
            "aaxis": {
             "endlinecolor": "#2a3f5f",
             "gridcolor": "white",
             "linecolor": "white",
             "minorgridcolor": "white",
             "startlinecolor": "#2a3f5f"
            },
            "baxis": {
             "endlinecolor": "#2a3f5f",
             "gridcolor": "white",
             "linecolor": "white",
             "minorgridcolor": "white",
             "startlinecolor": "#2a3f5f"
            },
            "type": "carpet"
           }
          ],
          "choropleth": [
           {
            "colorbar": {
             "outlinewidth": 0,
             "ticks": ""
            },
            "type": "choropleth"
           }
          ],
          "contour": [
           {
            "colorbar": {
             "outlinewidth": 0,
             "ticks": ""
            },
            "colorscale": [
             [
              0,
              "#0d0887"
             ],
             [
              0.1111111111111111,
              "#46039f"
             ],
             [
              0.2222222222222222,
              "#7201a8"
             ],
             [
              0.3333333333333333,
              "#9c179e"
             ],
             [
              0.4444444444444444,
              "#bd3786"
             ],
             [
              0.5555555555555556,
              "#d8576b"
             ],
             [
              0.6666666666666666,
              "#ed7953"
             ],
             [
              0.7777777777777778,
              "#fb9f3a"
             ],
             [
              0.8888888888888888,
              "#fdca26"
             ],
             [
              1,
              "#f0f921"
             ]
            ],
            "type": "contour"
           }
          ],
          "contourcarpet": [
           {
            "colorbar": {
             "outlinewidth": 0,
             "ticks": ""
            },
            "type": "contourcarpet"
           }
          ],
          "heatmap": [
           {
            "colorbar": {
             "outlinewidth": 0,
             "ticks": ""
            },
            "colorscale": [
             [
              0,
              "#0d0887"
             ],
             [
              0.1111111111111111,
              "#46039f"
             ],
             [
              0.2222222222222222,
              "#7201a8"
             ],
             [
              0.3333333333333333,
              "#9c179e"
             ],
             [
              0.4444444444444444,
              "#bd3786"
             ],
             [
              0.5555555555555556,
              "#d8576b"
             ],
             [
              0.6666666666666666,
              "#ed7953"
             ],
             [
              0.7777777777777778,
              "#fb9f3a"
             ],
             [
              0.8888888888888888,
              "#fdca26"
             ],
             [
              1,
              "#f0f921"
             ]
            ],
            "type": "heatmap"
           }
          ],
          "heatmapgl": [
           {
            "colorbar": {
             "outlinewidth": 0,
             "ticks": ""
            },
            "colorscale": [
             [
              0,
              "#0d0887"
             ],
             [
              0.1111111111111111,
              "#46039f"
             ],
             [
              0.2222222222222222,
              "#7201a8"
             ],
             [
              0.3333333333333333,
              "#9c179e"
             ],
             [
              0.4444444444444444,
              "#bd3786"
             ],
             [
              0.5555555555555556,
              "#d8576b"
             ],
             [
              0.6666666666666666,
              "#ed7953"
             ],
             [
              0.7777777777777778,
              "#fb9f3a"
             ],
             [
              0.8888888888888888,
              "#fdca26"
             ],
             [
              1,
              "#f0f921"
             ]
            ],
            "type": "heatmapgl"
           }
          ],
          "histogram": [
           {
            "marker": {
             "pattern": {
              "fillmode": "overlay",
              "size": 10,
              "solidity": 0.2
             }
            },
            "type": "histogram"
           }
          ],
          "histogram2d": [
           {
            "colorbar": {
             "outlinewidth": 0,
             "ticks": ""
            },
            "colorscale": [
             [
              0,
              "#0d0887"
             ],
             [
              0.1111111111111111,
              "#46039f"
             ],
             [
              0.2222222222222222,
              "#7201a8"
             ],
             [
              0.3333333333333333,
              "#9c179e"
             ],
             [
              0.4444444444444444,
              "#bd3786"
             ],
             [
              0.5555555555555556,
              "#d8576b"
             ],
             [
              0.6666666666666666,
              "#ed7953"
             ],
             [
              0.7777777777777778,
              "#fb9f3a"
             ],
             [
              0.8888888888888888,
              "#fdca26"
             ],
             [
              1,
              "#f0f921"
             ]
            ],
            "type": "histogram2d"
           }
          ],
          "histogram2dcontour": [
           {
            "colorbar": {
             "outlinewidth": 0,
             "ticks": ""
            },
            "colorscale": [
             [
              0,
              "#0d0887"
             ],
             [
              0.1111111111111111,
              "#46039f"
             ],
             [
              0.2222222222222222,
              "#7201a8"
             ],
             [
              0.3333333333333333,
              "#9c179e"
             ],
             [
              0.4444444444444444,
              "#bd3786"
             ],
             [
              0.5555555555555556,
              "#d8576b"
             ],
             [
              0.6666666666666666,
              "#ed7953"
             ],
             [
              0.7777777777777778,
              "#fb9f3a"
             ],
             [
              0.8888888888888888,
              "#fdca26"
             ],
             [
              1,
              "#f0f921"
             ]
            ],
            "type": "histogram2dcontour"
           }
          ],
          "mesh3d": [
           {
            "colorbar": {
             "outlinewidth": 0,
             "ticks": ""
            },
            "type": "mesh3d"
           }
          ],
          "parcoords": [
           {
            "line": {
             "colorbar": {
              "outlinewidth": 0,
              "ticks": ""
             }
            },
            "type": "parcoords"
           }
          ],
          "pie": [
           {
            "automargin": true,
            "type": "pie"
           }
          ],
          "scatter": [
           {
            "fillpattern": {
             "fillmode": "overlay",
             "size": 10,
             "solidity": 0.2
            },
            "type": "scatter"
           }
          ],
          "scatter3d": [
           {
            "line": {
             "colorbar": {
              "outlinewidth": 0,
              "ticks": ""
             }
            },
            "marker": {
             "colorbar": {
              "outlinewidth": 0,
              "ticks": ""
             }
            },
            "type": "scatter3d"
           }
          ],
          "scattercarpet": [
           {
            "marker": {
             "colorbar": {
              "outlinewidth": 0,
              "ticks": ""
             }
            },
            "type": "scattercarpet"
           }
          ],
          "scattergeo": [
           {
            "marker": {
             "colorbar": {
              "outlinewidth": 0,
              "ticks": ""
             }
            },
            "type": "scattergeo"
           }
          ],
          "scattergl": [
           {
            "marker": {
             "colorbar": {
              "outlinewidth": 0,
              "ticks": ""
             }
            },
            "type": "scattergl"
           }
          ],
          "scattermapbox": [
           {
            "marker": {
             "colorbar": {
              "outlinewidth": 0,
              "ticks": ""
             }
            },
            "type": "scattermapbox"
           }
          ],
          "scatterpolar": [
           {
            "marker": {
             "colorbar": {
              "outlinewidth": 0,
              "ticks": ""
             }
            },
            "type": "scatterpolar"
           }
          ],
          "scatterpolargl": [
           {
            "marker": {
             "colorbar": {
              "outlinewidth": 0,
              "ticks": ""
             }
            },
            "type": "scatterpolargl"
           }
          ],
          "scatterternary": [
           {
            "marker": {
             "colorbar": {
              "outlinewidth": 0,
              "ticks": ""
             }
            },
            "type": "scatterternary"
           }
          ],
          "surface": [
           {
            "colorbar": {
             "outlinewidth": 0,
             "ticks": ""
            },
            "colorscale": [
             [
              0,
              "#0d0887"
             ],
             [
              0.1111111111111111,
              "#46039f"
             ],
             [
              0.2222222222222222,
              "#7201a8"
             ],
             [
              0.3333333333333333,
              "#9c179e"
             ],
             [
              0.4444444444444444,
              "#bd3786"
             ],
             [
              0.5555555555555556,
              "#d8576b"
             ],
             [
              0.6666666666666666,
              "#ed7953"
             ],
             [
              0.7777777777777778,
              "#fb9f3a"
             ],
             [
              0.8888888888888888,
              "#fdca26"
             ],
             [
              1,
              "#f0f921"
             ]
            ],
            "type": "surface"
           }
          ],
          "table": [
           {
            "cells": {
             "fill": {
              "color": "#EBF0F8"
             },
             "line": {
              "color": "white"
             }
            },
            "header": {
             "fill": {
              "color": "#C8D4E3"
             },
             "line": {
              "color": "white"
             }
            },
            "type": "table"
           }
          ]
         },
         "layout": {
          "annotationdefaults": {
           "arrowcolor": "#2a3f5f",
           "arrowhead": 0,
           "arrowwidth": 1
          },
          "autotypenumbers": "strict",
          "coloraxis": {
           "colorbar": {
            "outlinewidth": 0,
            "ticks": ""
           }
          },
          "colorscale": {
           "diverging": [
            [
             0,
             "#8e0152"
            ],
            [
             0.1,
             "#c51b7d"
            ],
            [
             0.2,
             "#de77ae"
            ],
            [
             0.3,
             "#f1b6da"
            ],
            [
             0.4,
             "#fde0ef"
            ],
            [
             0.5,
             "#f7f7f7"
            ],
            [
             0.6,
             "#e6f5d0"
            ],
            [
             0.7,
             "#b8e186"
            ],
            [
             0.8,
             "#7fbc41"
            ],
            [
             0.9,
             "#4d9221"
            ],
            [
             1,
             "#276419"
            ]
           ],
           "sequential": [
            [
             0,
             "#0d0887"
            ],
            [
             0.1111111111111111,
             "#46039f"
            ],
            [
             0.2222222222222222,
             "#7201a8"
            ],
            [
             0.3333333333333333,
             "#9c179e"
            ],
            [
             0.4444444444444444,
             "#bd3786"
            ],
            [
             0.5555555555555556,
             "#d8576b"
            ],
            [
             0.6666666666666666,
             "#ed7953"
            ],
            [
             0.7777777777777778,
             "#fb9f3a"
            ],
            [
             0.8888888888888888,
             "#fdca26"
            ],
            [
             1,
             "#f0f921"
            ]
           ],
           "sequentialminus": [
            [
             0,
             "#0d0887"
            ],
            [
             0.1111111111111111,
             "#46039f"
            ],
            [
             0.2222222222222222,
             "#7201a8"
            ],
            [
             0.3333333333333333,
             "#9c179e"
            ],
            [
             0.4444444444444444,
             "#bd3786"
            ],
            [
             0.5555555555555556,
             "#d8576b"
            ],
            [
             0.6666666666666666,
             "#ed7953"
            ],
            [
             0.7777777777777778,
             "#fb9f3a"
            ],
            [
             0.8888888888888888,
             "#fdca26"
            ],
            [
             1,
             "#f0f921"
            ]
           ]
          },
          "colorway": [
           "#636efa",
           "#EF553B",
           "#00cc96",
           "#ab63fa",
           "#FFA15A",
           "#19d3f3",
           "#FF6692",
           "#B6E880",
           "#FF97FF",
           "#FECB52"
          ],
          "font": {
           "color": "#2a3f5f"
          },
          "geo": {
           "bgcolor": "white",
           "lakecolor": "white",
           "landcolor": "#E5ECF6",
           "showlakes": true,
           "showland": true,
           "subunitcolor": "white"
          },
          "hoverlabel": {
           "align": "left"
          },
          "hovermode": "closest",
          "mapbox": {
           "style": "light"
          },
          "paper_bgcolor": "white",
          "plot_bgcolor": "#E5ECF6",
          "polar": {
           "angularaxis": {
            "gridcolor": "white",
            "linecolor": "white",
            "ticks": ""
           },
           "bgcolor": "#E5ECF6",
           "radialaxis": {
            "gridcolor": "white",
            "linecolor": "white",
            "ticks": ""
           }
          },
          "scene": {
           "xaxis": {
            "backgroundcolor": "#E5ECF6",
            "gridcolor": "white",
            "gridwidth": 2,
            "linecolor": "white",
            "showbackground": true,
            "ticks": "",
            "zerolinecolor": "white"
           },
           "yaxis": {
            "backgroundcolor": "#E5ECF6",
            "gridcolor": "white",
            "gridwidth": 2,
            "linecolor": "white",
            "showbackground": true,
            "ticks": "",
            "zerolinecolor": "white"
           },
           "zaxis": {
            "backgroundcolor": "#E5ECF6",
            "gridcolor": "white",
            "gridwidth": 2,
            "linecolor": "white",
            "showbackground": true,
            "ticks": "",
            "zerolinecolor": "white"
           }
          },
          "shapedefaults": {
           "line": {
            "color": "#2a3f5f"
           }
          },
          "ternary": {
           "aaxis": {
            "gridcolor": "white",
            "linecolor": "white",
            "ticks": ""
           },
           "baxis": {
            "gridcolor": "white",
            "linecolor": "white",
            "ticks": ""
           },
           "bgcolor": "#E5ECF6",
           "caxis": {
            "gridcolor": "white",
            "linecolor": "white",
            "ticks": ""
           }
          },
          "title": {
           "x": 0.05
          },
          "xaxis": {
           "automargin": true,
           "gridcolor": "white",
           "linecolor": "white",
           "ticks": "",
           "title": {
            "standoff": 15
           },
           "zerolinecolor": "white",
           "zerolinewidth": 2
          },
          "yaxis": {
           "automargin": true,
           "gridcolor": "white",
           "linecolor": "white",
           "ticks": "",
           "title": {
            "standoff": 15
           },
           "zerolinecolor": "white",
           "zerolinewidth": 2
          }
         }
        },
        "title": {
         "font": {
          "color": "#4D5663"
         },
         "text": "Top 100 words after removing stop words"
        },
        "xaxis": {
         "autorange": true,
         "gridcolor": "#E1E5ED",
         "linecolor": "black",
         "range": [
          -0.5,
          99.5
         ],
         "showgrid": true,
         "tickfont": {
          "color": "#4D5663"
         },
         "title": {
          "font": {
           "color": "#4D5663"
          },
          "text": ""
         },
         "type": "category",
         "zerolinecolor": "#E1E5ED"
        },
        "yaxis": {
         "autorange": true,
         "gridcolor": "#E1E5ED",
         "linecolor": "black",
         "range": [
          0,
          633.6842105263158
         ],
         "showgrid": true,
         "tickfont": {
          "color": "#4D5663"
         },
         "title": {
          "font": {
           "color": "#4D5663"
          },
          "text": "Count"
         },
         "type": "linear",
         "zerolinecolor": "#E1E5ED"
        }
       }
      },
      "image/png": "[encoded data removed]",
      "text/html": [
       "<div>                            <div id=\"2fb6a23a-2d51-43af-820d-8296ce581378\" class=\"plotly-graph-div\" style=\"height:525px; width:100%;\"></div>            <script type=\"text/javascript\">                require([\"plotly\"], function(Plotly) {                    window.PLOTLYENV=window.PLOTLYENV || {};\n",
       "                    window.PLOTLYENV.BASE_URL='https://plot.ly';                                    if (document.getElementById(\"2fb6a23a-2d51-43af-820d-8296ce581378\")) {                    Plotly.newPlot(                        \"2fb6a23a-2d51-43af-820d-8296ce581378\",                        [{\"marker\":{\"color\":\"rgba(255, 153, 51, 0.6)\",\"line\":{\"color\":\"rgba(255, 153, 51, 1.0)\",\"width\":1}},\"name\":\"count\",\"orientation\":\"v\",\"text\":\"\",\"x\":[\"work\",\"use\",\"family\",\"start\",\"small\",\"help\",\"group\",\"live\",\"husband\",\"product\",\"well\",\"increase\",\"home\",\"customer\",\"marry\",\"good\",\"community\",\"need\",\"order\",\"request\",\"member\",\"pay\",\"hope\",\"grow\",\"expand\",\"stock\",\"want\",\"new\",\"time\",\"provide\",\"store\",\"area\",\"go\",\"money\",\"get\",\"rice\",\"support\",\"improve\",\"give\",\"market\",\"entrepreneur\",\"farmer\",\"hard\",\"sale\",\"life\",\"repay\",\"ago\",\"clothing\",\"run\",\"shop\",\"mother\",\"profit\",\"first\",\"client\",\"plan\",\"take\",\"clothe\",\"food\",\"high\",\"capital\",\"service\",\"education\",\"continue\",\"farm\",\"invest\",\"house\",\"item\",\"local\",\"fee\",\"demand\",\"young\",\"large\",\"wife\",\"operate\",\"meet\",\"say\",\"day\",\"receive\",\"month\",\"still\",\"supply\",\"offer\",\"part\",\"age\",\"currently\",\"open\",\"enough\",\"keep\",\"intend\",\"allow\",\"milk\",\"earn\",\"begin\",\"son\",\"land\",\"save\",\"primary\",\"experience\",\"attend\",\"second\"],\"y\":[602,583,560,483,470,469,465,425,423,390,373,350,320,316,313,313,310,296,285,272,269,266,262,260,256,255,245,243,240,234,233,214,212,211,210,202,202,201,200,200,197,193,191,187,186,185,181,180,177,175,173,172,171,170,170,170,167,167,165,164,163,161,158,151,149,144,142,141,139,139,136,136,135,133,132,132,131,129,127,126,125,125,124,123,117,116,116,115,115,114,114,114,112,112,112,111,107,106,105,105],\"type\":\"bar\"}],                        {\"legend\":{\"bgcolor\":\"#F5F6F9\",\"font\":{\"color\":\"#4D5663\"}},\"paper_bgcolor\":\"#F5F6F9\",\"plot_bgcolor\":\"#F5F6F9\",\"template\":{\"data\":{\"barpolar\":[{\"marker\":{\"line\":{\"color\":\"#E5ECF6\",\"width\":0.5},\"pattern\":{\"fillmode\":\"overlay\",\"size\":10,\"solidity\":0.2}},\"type\":\"barpolar\"}],\"bar\":[{\"error_x\":{\"color\":\"#2a3f5f\"},\"error_y\":{\"color\":\"#2a3f5f\"},\"marker\":{\"line\":{\"color\":\"#E5ECF6\",\"width\":0.5},\"pattern\":{\"fillmode\":\"overlay\",\"size\":10,\"solidity\":0.2}},\"type\":\"bar\"}],\"carpet\":[{\"aaxis\":{\"endlinecolor\":\"#2a3f5f\",\"gridcolor\":\"white\",\"linecolor\":\"white\",\"minorgridcolor\":\"white\",\"startlinecolor\":\"#2a3f5f\"},\"baxis\":{\"endlinecolor\":\"#2a3f5f\",\"gridcolor\":\"white\",\"linecolor\":\"white\",\"minorgridcolor\":\"white\",\"startlinecolor\":\"#2a3f5f\"},\"type\":\"carpet\"}],\"choropleth\":[{\"colorbar\":{\"outlinewidth\":0,\"ticks\":\"\"},\"type\":\"choropleth\"}],\"contourcarpet\":[{\"colorbar\":{\"outlinewidth\":0,\"ticks\":\"\"},\"type\":\"contourcarpet\"}],\"contour\":[{\"colorbar\":{\"outlinewidth\":0,\"ticks\":\"\"},\"colorscale\":[[0.0,\"#0d0887\"],[0.1111111111111111,\"#46039f\"],[0.2222222222222222,\"#7201a8\"],[0.3333333333333333,\"#9c179e\"],[0.4444444444444444,\"#bd3786\"],[0.5555555555555556,\"#d8576b\"],[0.6666666666666666,\"#ed7953\"],[0.7777777777777778,\"#fb9f3a\"],[0.8888888888888888,\"#fdca26\"],[1.0,\"#f0f921\"]],\"type\":\"contour\"}],\"heatmapgl\":[{\"colorbar\":{\"outlinewidth\":0,\"ticks\":\"\"},\"colorscale\":[[0.0,\"#0d0887\"],[0.1111111111111111,\"#46039f\"],[0.2222222222222222,\"#7201a8\"],[0.3333333333333333,\"#9c179e\"],[0.4444444444444444,\"#bd3786\"],[0.5555555555555556,\"#d8576b\"],[0.6666666666666666,\"#ed7953\"],[0.7777777777777778,\"#fb9f3a\"],[0.8888888888888888,\"#fdca26\"],[1.0,\"#f0f921\"]],\"type\":\"heatmapgl\"}],\"heatmap\":[{\"colorbar\":{\"outlinewidth\":0,\"ticks\":\"\"},\"colorscale\":[[0.0,\"#0d0887\"],[0.1111111111111111,\"#46039f\"],[0.2222222222222222,\"#7201a8\"],[0.3333333333333333,\"#9c179e\"],[0.4444444444444444,\"#bd3786\"],[0.5555555555555556,\"#d8576b\"],[0.6666666666666666,\"#ed7953\"],[0.7777777777777778,\"#fb9f3a\"],[0.8888888888888888,\"#fdca26\"],[1.0,\"#f0f921\"]],\"type\":\"heatmap\"}],\"histogram2dcontour\":[{\"colorbar\":{\"outlinewidth\":0,\"ticks\":\"\"},\"colorscale\":[[0.0,\"#0d0887\"],[0.1111111111111111,\"#46039f\"],[0.2222222222222222,\"#7201a8\"],[0.3333333333333333,\"#9c179e\"],[0.4444444444444444,\"#bd3786\"],[0.5555555555555556,\"#d8576b\"],[0.6666666666666666,\"#ed7953\"],[0.7777777777777778,\"#fb9f3a\"],[0.8888888888888888,\"#fdca26\"],[1.0,\"#f0f921\"]],\"type\":\"histogram2dcontour\"}],\"histogram2d\":[{\"colorbar\":{\"outlinewidth\":0,\"ticks\":\"\"},\"colorscale\":[[0.0,\"#0d0887\"],[0.1111111111111111,\"#46039f\"],[0.2222222222222222,\"#7201a8\"],[0.3333333333333333,\"#9c179e\"],[0.4444444444444444,\"#bd3786\"],[0.5555555555555556,\"#d8576b\"],[0.6666666666666666,\"#ed7953\"],[0.7777777777777778,\"#fb9f3a\"],[0.8888888888888888,\"#fdca26\"],[1.0,\"#f0f921\"]],\"type\":\"histogram2d\"}],\"histogram\":[{\"marker\":{\"pattern\":{\"fillmode\":\"overlay\",\"size\":10,\"solidity\":0.2}},\"type\":\"histogram\"}],\"mesh3d\":[{\"colorbar\":{\"outlinewidth\":0,\"ticks\":\"\"},\"type\":\"mesh3d\"}],\"parcoords\":[{\"line\":{\"colorbar\":{\"outlinewidth\":0,\"ticks\":\"\"}},\"type\":\"parcoords\"}],\"pie\":[{\"automargin\":true,\"type\":\"pie\"}],\"scatter3d\":[{\"line\":{\"colorbar\":{\"outlinewidth\":0,\"ticks\":\"\"}},\"marker\":{\"colorbar\":{\"outlinewidth\":0,\"ticks\":\"\"}},\"type\":\"scatter3d\"}],\"scattercarpet\":[{\"marker\":{\"colorbar\":{\"outlinewidth\":0,\"ticks\":\"\"}},\"type\":\"scattercarpet\"}],\"scattergeo\":[{\"marker\":{\"colorbar\":{\"outlinewidth\":0,\"ticks\":\"\"}},\"type\":\"scattergeo\"}],\"scattergl\":[{\"marker\":{\"colorbar\":{\"outlinewidth\":0,\"ticks\":\"\"}},\"type\":\"scattergl\"}],\"scattermapbox\":[{\"marker\":{\"colorbar\":{\"outlinewidth\":0,\"ticks\":\"\"}},\"type\":\"scattermapbox\"}],\"scatterpolargl\":[{\"marker\":{\"colorbar\":{\"outlinewidth\":0,\"ticks\":\"\"}},\"type\":\"scatterpolargl\"}],\"scatterpolar\":[{\"marker\":{\"colorbar\":{\"outlinewidth\":0,\"ticks\":\"\"}},\"type\":\"scatterpolar\"}],\"scatter\":[{\"fillpattern\":{\"fillmode\":\"overlay\",\"size\":10,\"solidity\":0.2},\"type\":\"scatter\"}],\"scatterternary\":[{\"marker\":{\"colorbar\":{\"outlinewidth\":0,\"ticks\":\"\"}},\"type\":\"scatterternary\"}],\"surface\":[{\"colorbar\":{\"outlinewidth\":0,\"ticks\":\"\"},\"colorscale\":[[0.0,\"#0d0887\"],[0.1111111111111111,\"#46039f\"],[0.2222222222222222,\"#7201a8\"],[0.3333333333333333,\"#9c179e\"],[0.4444444444444444,\"#bd3786\"],[0.5555555555555556,\"#d8576b\"],[0.6666666666666666,\"#ed7953\"],[0.7777777777777778,\"#fb9f3a\"],[0.8888888888888888,\"#fdca26\"],[1.0,\"#f0f921\"]],\"type\":\"surface\"}],\"table\":[{\"cells\":{\"fill\":{\"color\":\"#EBF0F8\"},\"line\":{\"color\":\"white\"}},\"header\":{\"fill\":{\"color\":\"#C8D4E3\"},\"line\":{\"color\":\"white\"}},\"type\":\"table\"}]},\"layout\":{\"annotationdefaults\":{\"arrowcolor\":\"#2a3f5f\",\"arrowhead\":0,\"arrowwidth\":1},\"autotypenumbers\":\"strict\",\"coloraxis\":{\"colorbar\":{\"outlinewidth\":0,\"ticks\":\"\"}},\"colorscale\":{\"diverging\":[[0,\"#8e0152\"],[0.1,\"#c51b7d\"],[0.2,\"#de77ae\"],[0.3,\"#f1b6da\"],[0.4,\"#fde0ef\"],[0.5,\"#f7f7f7\"],[0.6,\"#e6f5d0\"],[0.7,\"#b8e186\"],[0.8,\"#7fbc41\"],[0.9,\"#4d9221\"],[1,\"#276419\"]],\"sequential\":[[0.0,\"#0d0887\"],[0.1111111111111111,\"#46039f\"],[0.2222222222222222,\"#7201a8\"],[0.3333333333333333,\"#9c179e\"],[0.4444444444444444,\"#bd3786\"],[0.5555555555555556,\"#d8576b\"],[0.6666666666666666,\"#ed7953\"],[0.7777777777777778,\"#fb9f3a\"],[0.8888888888888888,\"#fdca26\"],[1.0,\"#f0f921\"]],\"sequentialminus\":[[0.0,\"#0d0887\"],[0.1111111111111111,\"#46039f\"],[0.2222222222222222,\"#7201a8\"],[0.3333333333333333,\"#9c179e\"],[0.4444444444444444,\"#bd3786\"],[0.5555555555555556,\"#d8576b\"],[0.6666666666666666,\"#ed7953\"],[0.7777777777777778,\"#fb9f3a\"],[0.8888888888888888,\"#fdca26\"],[1.0,\"#f0f921\"]]},\"colorway\":[\"#636efa\",\"#EF553B\",\"#00cc96\",\"#ab63fa\",\"#FFA15A\",\"#19d3f3\",\"#FF6692\",\"#B6E880\",\"#FF97FF\",\"#FECB52\"],\"font\":{\"color\":\"#2a3f5f\"},\"geo\":{\"bgcolor\":\"white\",\"lakecolor\":\"white\",\"landcolor\":\"#E5ECF6\",\"showlakes\":true,\"showland\":true,\"subunitcolor\":\"white\"},\"hoverlabel\":{\"align\":\"left\"},\"hovermode\":\"closest\",\"mapbox\":{\"style\":\"light\"},\"paper_bgcolor\":\"white\",\"plot_bgcolor\":\"#E5ECF6\",\"polar\":{\"angularaxis\":{\"gridcolor\":\"white\",\"linecolor\":\"white\",\"ticks\":\"\"},\"bgcolor\":\"#E5ECF6\",\"radialaxis\":{\"gridcolor\":\"white\",\"linecolor\":\"white\",\"ticks\":\"\"}},\"scene\":{\"xaxis\":{\"backgroundcolor\":\"#E5ECF6\",\"gridcolor\":\"white\",\"gridwidth\":2,\"linecolor\":\"white\",\"showbackground\":true,\"ticks\":\"\",\"zerolinecolor\":\"white\"},\"yaxis\":{\"backgroundcolor\":\"#E5ECF6\",\"gridcolor\":\"white\",\"gridwidth\":2,\"linecolor\":\"white\",\"showbackground\":true,\"ticks\":\"\",\"zerolinecolor\":\"white\"},\"zaxis\":{\"backgroundcolor\":\"#E5ECF6\",\"gridcolor\":\"white\",\"gridwidth\":2,\"linecolor\":\"white\",\"showbackground\":true,\"ticks\":\"\",\"zerolinecolor\":\"white\"}},\"shapedefaults\":{\"line\":{\"color\":\"#2a3f5f\"}},\"ternary\":{\"aaxis\":{\"gridcolor\":\"white\",\"linecolor\":\"white\",\"ticks\":\"\"},\"baxis\":{\"gridcolor\":\"white\",\"linecolor\":\"white\",\"ticks\":\"\"},\"bgcolor\":\"#E5ECF6\",\"caxis\":{\"gridcolor\":\"white\",\"linecolor\":\"white\",\"ticks\":\"\"}},\"title\":{\"x\":0.05},\"xaxis\":{\"automargin\":true,\"gridcolor\":\"white\",\"linecolor\":\"white\",\"ticks\":\"\",\"title\":{\"standoff\":15},\"zerolinecolor\":\"white\",\"zerolinewidth\":2},\"yaxis\":{\"automargin\":true,\"gridcolor\":\"white\",\"linecolor\":\"white\",\"ticks\":\"\",\"title\":{\"standoff\":15},\"zerolinecolor\":\"white\",\"zerolinewidth\":2}}},\"title\":{\"font\":{\"color\":\"#4D5663\"},\"text\":\"Top 100 words after removing stop words\"},\"xaxis\":{\"gridcolor\":\"#E1E5ED\",\"linecolor\":\"black\",\"showgrid\":true,\"tickfont\":{\"color\":\"#4D5663\"},\"title\":{\"font\":{\"color\":\"#4D5663\"},\"text\":\"\"},\"zerolinecolor\":\"#E1E5ED\"},\"yaxis\":{\"gridcolor\":\"#E1E5ED\",\"linecolor\":\"black\",\"showgrid\":true,\"tickfont\":{\"color\":\"#4D5663\"},\"title\":{\"font\":{\"color\":\"#4D5663\"},\"text\":\"Count\"},\"zerolinecolor\":\"#E1E5ED\"}},                        {\"showLink\": true, \"linkText\": \"Export to plot.ly\", \"plotlyServerURL\": \"https://plot.ly\", \"responsive\": true}                    ).then(function(){\n",
       "                            \n",
       "var gd = document.getElementById('2fb6a23a-2d51-43af-820d-8296ce581378');\n",
       "var x = new MutationObserver(function (mutations, observer) {{\n",
       "        var display = window.getComputedStyle(gd).display;\n",
       "        if (!display || display === 'none') {{\n",
       "            console.log([gd, 'removed!']);\n",
       "            Plotly.purge(gd);\n",
       "            observer.disconnect();\n",
       "        }}\n",
       "}});\n",
       "\n",
       "// Listen for the removal of the full notebook cells\n",
       "var notebookContainer = gd.closest('#notebook-container');\n",
       "if (notebookContainer) {{\n",
       "    x.observe(notebookContainer, {childList: true});\n",
       "}}\n",
       "\n",
       "// Listen for the clearing of the current output cell\n",
       "var outputEl = gd.closest('.output');\n",
       "if (outputEl) {{\n",
       "    x.observe(outputEl, {childList: true});\n",
       "}}\n",
       "\n",
       "                        })                };                });            </script>        </div>"
      ]
     },
     "metadata": {},
     "output_type": "display_data"
    }
   ],
   "source": [
    "plot_model()"
   ]
  },
  {
   "cell_type": "raw",
   "id": "ba224c76",
   "metadata": {},
   "source": [
    "List of available plots (ID - Name):\n",
    "Word Token Frequency - 'frequency'\n",
    "Word Distribution Plot - 'distribution'\n",
    "Bigram Frequency Plot - 'bigram'\n",
    "Trigram Frequency Plot - 'trigram'\n",
    "Sentiment Polarity Plot - 'sentiment'\n",
    "Part of Speech Frequency - 'pos'\n",
    "t-SNE (3d) Dimension Plot - 'tsne'\n",
    "Topic Model (pyLDAvis) - 'topic_model'\n",
    "Topic Infer Distribution - 'topic_distribution'\n",
    "Wordcloud - 'wordcloud'\n",
    "UMAP Dimensionality Plot - 'umap'"
   ]
  },
  {
   "cell_type": "code",
   "execution_count": 23,
   "id": "02305ba3",
   "metadata": {},
   "outputs": [
    {
     "data": {
      "text/html": [
       "        <script type=\"text/javascript\">\n",
       "        window.PlotlyConfig = {MathJaxConfig: 'local'};\n",
       "        if (window.MathJax) {MathJax.Hub.Config({SVG: {font: \"STIX-Web\"}});}\n",
       "        if (typeof require !== 'undefined') {\n",
       "        require.undef(\"plotly\");\n",
       "        requirejs.config({\n",
       "            paths: {\n",
       "                'plotly': ['https://cdn.plot.ly/plotly-2.11.1.min']\n",
       "            }\n",
       "        });\n",
       "        require(['plotly'], function(Plotly) {\n",
       "            window._Plotly = Plotly;\n",
       "        });\n",
       "        }\n",
       "        </script>\n",
       "        "
      ]
     },
     "metadata": {},
     "output_type": "display_data"
    },
    {
     "data": {
      "application/vnd.plotly.v1+json": {
       "config": {
        "linkText": "Export to plot.ly",
        "plotlyServerURL": "https://plot.ly",
        "showLink": true
       },
       "data": [
        {
         "marker": {
          "color": "rgba(255, 153, 51, 0.6)",
          "line": {
           "color": "rgba(255, 153, 51, 1.0)",
           "width": 1
          }
         },
         "name": "count",
         "orientation": "v",
         "text": "",
         "type": "bar",
         "x": [
          "work hard",
          "pay fee",
          "hard work",
          "increase stock",
          "start small",
          "group member",
          "support family",
          "husband work",
          "start ago",
          "provide family",
          "programs_information_microfinance_ecuador services_please_visit_href",
          "live husband",
          "member group",
          "mifex_offers_client microinsurance_access_training_educational",
          "rice farmer",
          "risk_willing_accept_additional risk_making",
          "may_represent_higher_default risk_willing_accept_additional",
          "kenya_security_situation_communitie businesses_lenders_entrepreneur_aware",
          "person group",
          "businesses_lenders_entrepreneur_aware may_represent_higher_default",
          "microinsurance_access_training_educational programs_information_microfinance_ecuador",
          "plan use",
          "run small",
          "well life",
          "high demand",
          "provide well",
          "capital first_months_r",
          "customer need",
          "group promoting_savings_often_forgotten",
          "marry primary",
          "operate small",
          "order farm",
          "pay back",
          "land order",
          "intend use",
          "enough money",
          "first_months_r debt_must_paid_seventh",
          "beauty product",
          "help husband",
          "small store",
          "mifex_rural_finance program",
          "therefore request",
          "want expand",
          "group cannot_fully_repay_borrower",
          "small farmers_produce_sack",
          "boleo_spanish_hand_sowe rice",
          "pay capital",
          "request budget",
          "area small",
          "rice grow",
          "debt_must_paid_seventh final_month",
          "husband help",
          "crop boleo_spanish_hand_sowe",
          "farmers_produce_sack land",
          "grow farmers_rent_machinery",
          "add stock",
          "local community",
          "save money",
          "quality life",
          "large quantity",
          "local market",
          "family need",
          "promoting_savings_often_forgotten micro_finance_program",
          "farmers_rent_machinery helps_gather_production",
          "rural area",
          "attract new",
          "micro_finance_program mifex_believes_imperative",
          "sector rice",
          "micro entrepreneur",
          "increase revenue",
          "communal_bank_others_guarantor person",
          "farmer association_works_cooperatively",
          "meet customer",
          "need order",
          "store home",
          "use clothe",
          "sale increase",
          "rural sector",
          "capital_reserved_future_investment team_evaluating_potential_sector",
          "start help",
          "rice production",
          "program rice",
          "family member",
          "improve family",
          "repay time",
          "increase profit",
          "use money",
          "familys need",
          "mifex_believes_imperative capital_reserved_future_investment",
          "boy girl",
          "loans_prepare_land part",
          "good education",
          "improve quality",
          "part communal_bank_others_guarantor",
          "increase sale",
          "request second",
          "small shop",
          "use clothing",
          "meet need",
          "continue grow"
         ],
         "y": [
          70,
          66,
          64,
          54,
          48,
          47,
          46,
          46,
          40,
          39,
          38,
          38,
          38,
          34,
          33,
          32,
          32,
          32,
          32,
          32,
          32,
          29,
          29,
          28,
          28,
          27,
          25,
          25,
          25,
          25,
          25,
          25,
          25,
          25,
          25,
          24,
          24,
          24,
          24,
          24,
          24,
          23,
          23,
          23,
          22,
          22,
          22,
          22,
          22,
          22,
          22,
          22,
          22,
          22,
          22,
          21,
          21,
          21,
          21,
          20,
          20,
          20,
          19,
          19,
          19,
          19,
          19,
          19,
          19,
          19,
          18,
          18,
          18,
          18,
          18,
          18,
          18,
          18,
          18,
          18,
          18,
          18,
          18,
          18,
          18,
          18,
          17,
          17,
          17,
          17,
          17,
          17,
          17,
          17,
          17,
          17,
          16,
          16,
          16,
          16
         ]
        }
       ],
       "layout": {
        "autosize": true,
        "legend": {
         "bgcolor": "#F5F6F9",
         "font": {
          "color": "#4D5663"
         }
        },
        "paper_bgcolor": "#F5F6F9",
        "plot_bgcolor": "#F5F6F9",
        "template": {
         "data": {
          "bar": [
           {
            "error_x": {
             "color": "#2a3f5f"
            },
            "error_y": {
             "color": "#2a3f5f"
            },
            "marker": {
             "line": {
              "color": "#E5ECF6",
              "width": 0.5
             },
             "pattern": {
              "fillmode": "overlay",
              "size": 10,
              "solidity": 0.2
             }
            },
            "type": "bar"
           }
          ],
          "barpolar": [
           {
            "marker": {
             "line": {
              "color": "#E5ECF6",
              "width": 0.5
             },
             "pattern": {
              "fillmode": "overlay",
              "size": 10,
              "solidity": 0.2
             }
            },
            "type": "barpolar"
           }
          ],
          "carpet": [
           {
            "aaxis": {
             "endlinecolor": "#2a3f5f",
             "gridcolor": "white",
             "linecolor": "white",
             "minorgridcolor": "white",
             "startlinecolor": "#2a3f5f"
            },
            "baxis": {
             "endlinecolor": "#2a3f5f",
             "gridcolor": "white",
             "linecolor": "white",
             "minorgridcolor": "white",
             "startlinecolor": "#2a3f5f"
            },
            "type": "carpet"
           }
          ],
          "choropleth": [
           {
            "colorbar": {
             "outlinewidth": 0,
             "ticks": ""
            },
            "type": "choropleth"
           }
          ],
          "contour": [
           {
            "colorbar": {
             "outlinewidth": 0,
             "ticks": ""
            },
            "colorscale": [
             [
              0,
              "#0d0887"
             ],
             [
              0.1111111111111111,
              "#46039f"
             ],
             [
              0.2222222222222222,
              "#7201a8"
             ],
             [
              0.3333333333333333,
              "#9c179e"
             ],
             [
              0.4444444444444444,
              "#bd3786"
             ],
             [
              0.5555555555555556,
              "#d8576b"
             ],
             [
              0.6666666666666666,
              "#ed7953"
             ],
             [
              0.7777777777777778,
              "#fb9f3a"
             ],
             [
              0.8888888888888888,
              "#fdca26"
             ],
             [
              1,
              "#f0f921"
             ]
            ],
            "type": "contour"
           }
          ],
          "contourcarpet": [
           {
            "colorbar": {
             "outlinewidth": 0,
             "ticks": ""
            },
            "type": "contourcarpet"
           }
          ],
          "heatmap": [
           {
            "colorbar": {
             "outlinewidth": 0,
             "ticks": ""
            },
            "colorscale": [
             [
              0,
              "#0d0887"
             ],
             [
              0.1111111111111111,
              "#46039f"
             ],
             [
              0.2222222222222222,
              "#7201a8"
             ],
             [
              0.3333333333333333,
              "#9c179e"
             ],
             [
              0.4444444444444444,
              "#bd3786"
             ],
             [
              0.5555555555555556,
              "#d8576b"
             ],
             [
              0.6666666666666666,
              "#ed7953"
             ],
             [
              0.7777777777777778,
              "#fb9f3a"
             ],
             [
              0.8888888888888888,
              "#fdca26"
             ],
             [
              1,
              "#f0f921"
             ]
            ],
            "type": "heatmap"
           }
          ],
          "heatmapgl": [
           {
            "colorbar": {
             "outlinewidth": 0,
             "ticks": ""
            },
            "colorscale": [
             [
              0,
              "#0d0887"
             ],
             [
              0.1111111111111111,
              "#46039f"
             ],
             [
              0.2222222222222222,
              "#7201a8"
             ],
             [
              0.3333333333333333,
              "#9c179e"
             ],
             [
              0.4444444444444444,
              "#bd3786"
             ],
             [
              0.5555555555555556,
              "#d8576b"
             ],
             [
              0.6666666666666666,
              "#ed7953"
             ],
             [
              0.7777777777777778,
              "#fb9f3a"
             ],
             [
              0.8888888888888888,
              "#fdca26"
             ],
             [
              1,
              "#f0f921"
             ]
            ],
            "type": "heatmapgl"
           }
          ],
          "histogram": [
           {
            "marker": {
             "pattern": {
              "fillmode": "overlay",
              "size": 10,
              "solidity": 0.2
             }
            },
            "type": "histogram"
           }
          ],
          "histogram2d": [
           {
            "colorbar": {
             "outlinewidth": 0,
             "ticks": ""
            },
            "colorscale": [
             [
              0,
              "#0d0887"
             ],
             [
              0.1111111111111111,
              "#46039f"
             ],
             [
              0.2222222222222222,
              "#7201a8"
             ],
             [
              0.3333333333333333,
              "#9c179e"
             ],
             [
              0.4444444444444444,
              "#bd3786"
             ],
             [
              0.5555555555555556,
              "#d8576b"
             ],
             [
              0.6666666666666666,
              "#ed7953"
             ],
             [
              0.7777777777777778,
              "#fb9f3a"
             ],
             [
              0.8888888888888888,
              "#fdca26"
             ],
             [
              1,
              "#f0f921"
             ]
            ],
            "type": "histogram2d"
           }
          ],
          "histogram2dcontour": [
           {
            "colorbar": {
             "outlinewidth": 0,
             "ticks": ""
            },
            "colorscale": [
             [
              0,
              "#0d0887"
             ],
             [
              0.1111111111111111,
              "#46039f"
             ],
             [
              0.2222222222222222,
              "#7201a8"
             ],
             [
              0.3333333333333333,
              "#9c179e"
             ],
             [
              0.4444444444444444,
              "#bd3786"
             ],
             [
              0.5555555555555556,
              "#d8576b"
             ],
             [
              0.6666666666666666,
              "#ed7953"
             ],
             [
              0.7777777777777778,
              "#fb9f3a"
             ],
             [
              0.8888888888888888,
              "#fdca26"
             ],
             [
              1,
              "#f0f921"
             ]
            ],
            "type": "histogram2dcontour"
           }
          ],
          "mesh3d": [
           {
            "colorbar": {
             "outlinewidth": 0,
             "ticks": ""
            },
            "type": "mesh3d"
           }
          ],
          "parcoords": [
           {
            "line": {
             "colorbar": {
              "outlinewidth": 0,
              "ticks": ""
             }
            },
            "type": "parcoords"
           }
          ],
          "pie": [
           {
            "automargin": true,
            "type": "pie"
           }
          ],
          "scatter": [
           {
            "fillpattern": {
             "fillmode": "overlay",
             "size": 10,
             "solidity": 0.2
            },
            "type": "scatter"
           }
          ],
          "scatter3d": [
           {
            "line": {
             "colorbar": {
              "outlinewidth": 0,
              "ticks": ""
             }
            },
            "marker": {
             "colorbar": {
              "outlinewidth": 0,
              "ticks": ""
             }
            },
            "type": "scatter3d"
           }
          ],
          "scattercarpet": [
           {
            "marker": {
             "colorbar": {
              "outlinewidth": 0,
              "ticks": ""
             }
            },
            "type": "scattercarpet"
           }
          ],
          "scattergeo": [
           {
            "marker": {
             "colorbar": {
              "outlinewidth": 0,
              "ticks": ""
             }
            },
            "type": "scattergeo"
           }
          ],
          "scattergl": [
           {
            "marker": {
             "colorbar": {
              "outlinewidth": 0,
              "ticks": ""
             }
            },
            "type": "scattergl"
           }
          ],
          "scattermapbox": [
           {
            "marker": {
             "colorbar": {
              "outlinewidth": 0,
              "ticks": ""
             }
            },
            "type": "scattermapbox"
           }
          ],
          "scatterpolar": [
           {
            "marker": {
             "colorbar": {
              "outlinewidth": 0,
              "ticks": ""
             }
            },
            "type": "scatterpolar"
           }
          ],
          "scatterpolargl": [
           {
            "marker": {
             "colorbar": {
              "outlinewidth": 0,
              "ticks": ""
             }
            },
            "type": "scatterpolargl"
           }
          ],
          "scatterternary": [
           {
            "marker": {
             "colorbar": {
              "outlinewidth": 0,
              "ticks": ""
             }
            },
            "type": "scatterternary"
           }
          ],
          "surface": [
           {
            "colorbar": {
             "outlinewidth": 0,
             "ticks": ""
            },
            "colorscale": [
             [
              0,
              "#0d0887"
             ],
             [
              0.1111111111111111,
              "#46039f"
             ],
             [
              0.2222222222222222,
              "#7201a8"
             ],
             [
              0.3333333333333333,
              "#9c179e"
             ],
             [
              0.4444444444444444,
              "#bd3786"
             ],
             [
              0.5555555555555556,
              "#d8576b"
             ],
             [
              0.6666666666666666,
              "#ed7953"
             ],
             [
              0.7777777777777778,
              "#fb9f3a"
             ],
             [
              0.8888888888888888,
              "#fdca26"
             ],
             [
              1,
              "#f0f921"
             ]
            ],
            "type": "surface"
           }
          ],
          "table": [
           {
            "cells": {
             "fill": {
              "color": "#EBF0F8"
             },
             "line": {
              "color": "white"
             }
            },
            "header": {
             "fill": {
              "color": "#C8D4E3"
             },
             "line": {
              "color": "white"
             }
            },
            "type": "table"
           }
          ]
         },
         "layout": {
          "annotationdefaults": {
           "arrowcolor": "#2a3f5f",
           "arrowhead": 0,
           "arrowwidth": 1
          },
          "autotypenumbers": "strict",
          "coloraxis": {
           "colorbar": {
            "outlinewidth": 0,
            "ticks": ""
           }
          },
          "colorscale": {
           "diverging": [
            [
             0,
             "#8e0152"
            ],
            [
             0.1,
             "#c51b7d"
            ],
            [
             0.2,
             "#de77ae"
            ],
            [
             0.3,
             "#f1b6da"
            ],
            [
             0.4,
             "#fde0ef"
            ],
            [
             0.5,
             "#f7f7f7"
            ],
            [
             0.6,
             "#e6f5d0"
            ],
            [
             0.7,
             "#b8e186"
            ],
            [
             0.8,
             "#7fbc41"
            ],
            [
             0.9,
             "#4d9221"
            ],
            [
             1,
             "#276419"
            ]
           ],
           "sequential": [
            [
             0,
             "#0d0887"
            ],
            [
             0.1111111111111111,
             "#46039f"
            ],
            [
             0.2222222222222222,
             "#7201a8"
            ],
            [
             0.3333333333333333,
             "#9c179e"
            ],
            [
             0.4444444444444444,
             "#bd3786"
            ],
            [
             0.5555555555555556,
             "#d8576b"
            ],
            [
             0.6666666666666666,
             "#ed7953"
            ],
            [
             0.7777777777777778,
             "#fb9f3a"
            ],
            [
             0.8888888888888888,
             "#fdca26"
            ],
            [
             1,
             "#f0f921"
            ]
           ],
           "sequentialminus": [
            [
             0,
             "#0d0887"
            ],
            [
             0.1111111111111111,
             "#46039f"
            ],
            [
             0.2222222222222222,
             "#7201a8"
            ],
            [
             0.3333333333333333,
             "#9c179e"
            ],
            [
             0.4444444444444444,
             "#bd3786"
            ],
            [
             0.5555555555555556,
             "#d8576b"
            ],
            [
             0.6666666666666666,
             "#ed7953"
            ],
            [
             0.7777777777777778,
             "#fb9f3a"
            ],
            [
             0.8888888888888888,
             "#fdca26"
            ],
            [
             1,
             "#f0f921"
            ]
           ]
          },
          "colorway": [
           "#636efa",
           "#EF553B",
           "#00cc96",
           "#ab63fa",
           "#FFA15A",
           "#19d3f3",
           "#FF6692",
           "#B6E880",
           "#FF97FF",
           "#FECB52"
          ],
          "font": {
           "color": "#2a3f5f"
          },
          "geo": {
           "bgcolor": "white",
           "lakecolor": "white",
           "landcolor": "#E5ECF6",
           "showlakes": true,
           "showland": true,
           "subunitcolor": "white"
          },
          "hoverlabel": {
           "align": "left"
          },
          "hovermode": "closest",
          "mapbox": {
           "style": "light"
          },
          "paper_bgcolor": "white",
          "plot_bgcolor": "#E5ECF6",
          "polar": {
           "angularaxis": {
            "gridcolor": "white",
            "linecolor": "white",
            "ticks": ""
           },
           "bgcolor": "#E5ECF6",
           "radialaxis": {
            "gridcolor": "white",
            "linecolor": "white",
            "ticks": ""
           }
          },
          "scene": {
           "xaxis": {
            "backgroundcolor": "#E5ECF6",
            "gridcolor": "white",
            "gridwidth": 2,
            "linecolor": "white",
            "showbackground": true,
            "ticks": "",
            "zerolinecolor": "white"
           },
           "yaxis": {
            "backgroundcolor": "#E5ECF6",
            "gridcolor": "white",
            "gridwidth": 2,
            "linecolor": "white",
            "showbackground": true,
            "ticks": "",
            "zerolinecolor": "white"
           },
           "zaxis": {
            "backgroundcolor": "#E5ECF6",
            "gridcolor": "white",
            "gridwidth": 2,
            "linecolor": "white",
            "showbackground": true,
            "ticks": "",
            "zerolinecolor": "white"
           }
          },
          "shapedefaults": {
           "line": {
            "color": "#2a3f5f"
           }
          },
          "ternary": {
           "aaxis": {
            "gridcolor": "white",
            "linecolor": "white",
            "ticks": ""
           },
           "baxis": {
            "gridcolor": "white",
            "linecolor": "white",
            "ticks": ""
           },
           "bgcolor": "#E5ECF6",
           "caxis": {
            "gridcolor": "white",
            "linecolor": "white",
            "ticks": ""
           }
          },
          "title": {
           "x": 0.05
          },
          "xaxis": {
           "automargin": true,
           "gridcolor": "white",
           "linecolor": "white",
           "ticks": "",
           "title": {
            "standoff": 15
           },
           "zerolinecolor": "white",
           "zerolinewidth": 2
          },
          "yaxis": {
           "automargin": true,
           "gridcolor": "white",
           "linecolor": "white",
           "ticks": "",
           "title": {
            "standoff": 15
           },
           "zerolinecolor": "white",
           "zerolinewidth": 2
          }
         }
        },
        "title": {
         "font": {
          "color": "#4D5663"
         },
         "text": "Top 100 bigrams after removing stop words"
        },
        "xaxis": {
         "autorange": true,
         "gridcolor": "#E1E5ED",
         "linecolor": "black",
         "range": [
          -0.5,
          99.5
         ],
         "showgrid": true,
         "tickfont": {
          "color": "#4D5663"
         },
         "title": {
          "font": {
           "color": "#4D5663"
          },
          "text": ""
         },
         "type": "category",
         "zerolinecolor": "#E1E5ED"
        },
        "yaxis": {
         "autorange": true,
         "gridcolor": "#E1E5ED",
         "linecolor": "black",
         "range": [
          0,
          73.6842105263158
         ],
         "showgrid": true,
         "tickfont": {
          "color": "#4D5663"
         },
         "title": {
          "font": {
           "color": "#4D5663"
          },
          "text": "Count"
         },
         "type": "linear",
         "zerolinecolor": "#E1E5ED"
        }
       }
      },
      "image/png": "[encoded data removed]",
      "text/html": [
       "<div>                            <div id=\"8857fa13-91da-4098-ad5e-4834c4d258b6\" class=\"plotly-graph-div\" style=\"height:525px; width:100%;\"></div>            <script type=\"text/javascript\">                require([\"plotly\"], function(Plotly) {                    window.PLOTLYENV=window.PLOTLYENV || {};\n",
       "                    window.PLOTLYENV.BASE_URL='https://plot.ly';                                    if (document.getElementById(\"8857fa13-91da-4098-ad5e-4834c4d258b6\")) {                    Plotly.newPlot(                        \"8857fa13-91da-4098-ad5e-4834c4d258b6\",                        [{\"marker\":{\"color\":\"rgba(255, 153, 51, 0.6)\",\"line\":{\"color\":\"rgba(255, 153, 51, 1.0)\",\"width\":1}},\"name\":\"count\",\"orientation\":\"v\",\"text\":\"\",\"x\":[\"work hard\",\"pay fee\",\"hard work\",\"increase stock\",\"start small\",\"group member\",\"support family\",\"husband work\",\"start ago\",\"provide family\",\"programs_information_microfinance_ecuador services_please_visit_href\",\"live husband\",\"member group\",\"mifex_offers_client microinsurance_access_training_educational\",\"rice farmer\",\"risk_willing_accept_additional risk_making\",\"may_represent_higher_default risk_willing_accept_additional\",\"kenya_security_situation_communitie businesses_lenders_entrepreneur_aware\",\"person group\",\"businesses_lenders_entrepreneur_aware may_represent_higher_default\",\"microinsurance_access_training_educational programs_information_microfinance_ecuador\",\"plan use\",\"run small\",\"well life\",\"high demand\",\"provide well\",\"capital first_months_r\",\"customer need\",\"group promoting_savings_often_forgotten\",\"marry primary\",\"operate small\",\"order farm\",\"pay back\",\"land order\",\"intend use\",\"enough money\",\"first_months_r debt_must_paid_seventh\",\"beauty product\",\"help husband\",\"small store\",\"mifex_rural_finance program\",\"therefore request\",\"want expand\",\"group cannot_fully_repay_borrower\",\"small farmers_produce_sack\",\"boleo_spanish_hand_sowe rice\",\"pay capital\",\"request budget\",\"area small\",\"rice grow\",\"debt_must_paid_seventh final_month\",\"husband help\",\"crop boleo_spanish_hand_sowe\",\"farmers_produce_sack land\",\"grow farmers_rent_machinery\",\"add stock\",\"local community\",\"save money\",\"quality life\",\"large quantity\",\"local market\",\"family need\",\"promoting_savings_often_forgotten micro_finance_program\",\"farmers_rent_machinery helps_gather_production\",\"rural area\",\"attract new\",\"micro_finance_program mifex_believes_imperative\",\"sector rice\",\"micro entrepreneur\",\"increase revenue\",\"communal_bank_others_guarantor person\",\"farmer association_works_cooperatively\",\"meet customer\",\"need order\",\"store home\",\"use clothe\",\"sale increase\",\"rural sector\",\"capital_reserved_future_investment team_evaluating_potential_sector\",\"start help\",\"rice production\",\"program rice\",\"family member\",\"improve family\",\"repay time\",\"increase profit\",\"use money\",\"familys need\",\"mifex_believes_imperative capital_reserved_future_investment\",\"boy girl\",\"loans_prepare_land part\",\"good education\",\"improve quality\",\"part communal_bank_others_guarantor\",\"increase sale\",\"request second\",\"small shop\",\"use clothing\",\"meet need\",\"continue grow\"],\"y\":[70,66,64,54,48,47,46,46,40,39,38,38,38,34,33,32,32,32,32,32,32,29,29,28,28,27,25,25,25,25,25,25,25,25,25,24,24,24,24,24,24,23,23,23,22,22,22,22,22,22,22,22,22,22,22,21,21,21,21,20,20,20,19,19,19,19,19,19,19,19,18,18,18,18,18,18,18,18,18,18,18,18,18,18,18,18,17,17,17,17,17,17,17,17,17,17,16,16,16,16],\"type\":\"bar\"}],                        {\"legend\":{\"bgcolor\":\"#F5F6F9\",\"font\":{\"color\":\"#4D5663\"}},\"paper_bgcolor\":\"#F5F6F9\",\"plot_bgcolor\":\"#F5F6F9\",\"template\":{\"data\":{\"barpolar\":[{\"marker\":{\"line\":{\"color\":\"#E5ECF6\",\"width\":0.5},\"pattern\":{\"fillmode\":\"overlay\",\"size\":10,\"solidity\":0.2}},\"type\":\"barpolar\"}],\"bar\":[{\"error_x\":{\"color\":\"#2a3f5f\"},\"error_y\":{\"color\":\"#2a3f5f\"},\"marker\":{\"line\":{\"color\":\"#E5ECF6\",\"width\":0.5},\"pattern\":{\"fillmode\":\"overlay\",\"size\":10,\"solidity\":0.2}},\"type\":\"bar\"}],\"carpet\":[{\"aaxis\":{\"endlinecolor\":\"#2a3f5f\",\"gridcolor\":\"white\",\"linecolor\":\"white\",\"minorgridcolor\":\"white\",\"startlinecolor\":\"#2a3f5f\"},\"baxis\":{\"endlinecolor\":\"#2a3f5f\",\"gridcolor\":\"white\",\"linecolor\":\"white\",\"minorgridcolor\":\"white\",\"startlinecolor\":\"#2a3f5f\"},\"type\":\"carpet\"}],\"choropleth\":[{\"colorbar\":{\"outlinewidth\":0,\"ticks\":\"\"},\"type\":\"choropleth\"}],\"contourcarpet\":[{\"colorbar\":{\"outlinewidth\":0,\"ticks\":\"\"},\"type\":\"contourcarpet\"}],\"contour\":[{\"colorbar\":{\"outlinewidth\":0,\"ticks\":\"\"},\"colorscale\":[[0.0,\"#0d0887\"],[0.1111111111111111,\"#46039f\"],[0.2222222222222222,\"#7201a8\"],[0.3333333333333333,\"#9c179e\"],[0.4444444444444444,\"#bd3786\"],[0.5555555555555556,\"#d8576b\"],[0.6666666666666666,\"#ed7953\"],[0.7777777777777778,\"#fb9f3a\"],[0.8888888888888888,\"#fdca26\"],[1.0,\"#f0f921\"]],\"type\":\"contour\"}],\"heatmapgl\":[{\"colorbar\":{\"outlinewidth\":0,\"ticks\":\"\"},\"colorscale\":[[0.0,\"#0d0887\"],[0.1111111111111111,\"#46039f\"],[0.2222222222222222,\"#7201a8\"],[0.3333333333333333,\"#9c179e\"],[0.4444444444444444,\"#bd3786\"],[0.5555555555555556,\"#d8576b\"],[0.6666666666666666,\"#ed7953\"],[0.7777777777777778,\"#fb9f3a\"],[0.8888888888888888,\"#fdca26\"],[1.0,\"#f0f921\"]],\"type\":\"heatmapgl\"}],\"heatmap\":[{\"colorbar\":{\"outlinewidth\":0,\"ticks\":\"\"},\"colorscale\":[[0.0,\"#0d0887\"],[0.1111111111111111,\"#46039f\"],[0.2222222222222222,\"#7201a8\"],[0.3333333333333333,\"#9c179e\"],[0.4444444444444444,\"#bd3786\"],[0.5555555555555556,\"#d8576b\"],[0.6666666666666666,\"#ed7953\"],[0.7777777777777778,\"#fb9f3a\"],[0.8888888888888888,\"#fdca26\"],[1.0,\"#f0f921\"]],\"type\":\"heatmap\"}],\"histogram2dcontour\":[{\"colorbar\":{\"outlinewidth\":0,\"ticks\":\"\"},\"colorscale\":[[0.0,\"#0d0887\"],[0.1111111111111111,\"#46039f\"],[0.2222222222222222,\"#7201a8\"],[0.3333333333333333,\"#9c179e\"],[0.4444444444444444,\"#bd3786\"],[0.5555555555555556,\"#d8576b\"],[0.6666666666666666,\"#ed7953\"],[0.7777777777777778,\"#fb9f3a\"],[0.8888888888888888,\"#fdca26\"],[1.0,\"#f0f921\"]],\"type\":\"histogram2dcontour\"}],\"histogram2d\":[{\"colorbar\":{\"outlinewidth\":0,\"ticks\":\"\"},\"colorscale\":[[0.0,\"#0d0887\"],[0.1111111111111111,\"#46039f\"],[0.2222222222222222,\"#7201a8\"],[0.3333333333333333,\"#9c179e\"],[0.4444444444444444,\"#bd3786\"],[0.5555555555555556,\"#d8576b\"],[0.6666666666666666,\"#ed7953\"],[0.7777777777777778,\"#fb9f3a\"],[0.8888888888888888,\"#fdca26\"],[1.0,\"#f0f921\"]],\"type\":\"histogram2d\"}],\"histogram\":[{\"marker\":{\"pattern\":{\"fillmode\":\"overlay\",\"size\":10,\"solidity\":0.2}},\"type\":\"histogram\"}],\"mesh3d\":[{\"colorbar\":{\"outlinewidth\":0,\"ticks\":\"\"},\"type\":\"mesh3d\"}],\"parcoords\":[{\"line\":{\"colorbar\":{\"outlinewidth\":0,\"ticks\":\"\"}},\"type\":\"parcoords\"}],\"pie\":[{\"automargin\":true,\"type\":\"pie\"}],\"scatter3d\":[{\"line\":{\"colorbar\":{\"outlinewidth\":0,\"ticks\":\"\"}},\"marker\":{\"colorbar\":{\"outlinewidth\":0,\"ticks\":\"\"}},\"type\":\"scatter3d\"}],\"scattercarpet\":[{\"marker\":{\"colorbar\":{\"outlinewidth\":0,\"ticks\":\"\"}},\"type\":\"scattercarpet\"}],\"scattergeo\":[{\"marker\":{\"colorbar\":{\"outlinewidth\":0,\"ticks\":\"\"}},\"type\":\"scattergeo\"}],\"scattergl\":[{\"marker\":{\"colorbar\":{\"outlinewidth\":0,\"ticks\":\"\"}},\"type\":\"scattergl\"}],\"scattermapbox\":[{\"marker\":{\"colorbar\":{\"outlinewidth\":0,\"ticks\":\"\"}},\"type\":\"scattermapbox\"}],\"scatterpolargl\":[{\"marker\":{\"colorbar\":{\"outlinewidth\":0,\"ticks\":\"\"}},\"type\":\"scatterpolargl\"}],\"scatterpolar\":[{\"marker\":{\"colorbar\":{\"outlinewidth\":0,\"ticks\":\"\"}},\"type\":\"scatterpolar\"}],\"scatter\":[{\"fillpattern\":{\"fillmode\":\"overlay\",\"size\":10,\"solidity\":0.2},\"type\":\"scatter\"}],\"scatterternary\":[{\"marker\":{\"colorbar\":{\"outlinewidth\":0,\"ticks\":\"\"}},\"type\":\"scatterternary\"}],\"surface\":[{\"colorbar\":{\"outlinewidth\":0,\"ticks\":\"\"},\"colorscale\":[[0.0,\"#0d0887\"],[0.1111111111111111,\"#46039f\"],[0.2222222222222222,\"#7201a8\"],[0.3333333333333333,\"#9c179e\"],[0.4444444444444444,\"#bd3786\"],[0.5555555555555556,\"#d8576b\"],[0.6666666666666666,\"#ed7953\"],[0.7777777777777778,\"#fb9f3a\"],[0.8888888888888888,\"#fdca26\"],[1.0,\"#f0f921\"]],\"type\":\"surface\"}],\"table\":[{\"cells\":{\"fill\":{\"color\":\"#EBF0F8\"},\"line\":{\"color\":\"white\"}},\"header\":{\"fill\":{\"color\":\"#C8D4E3\"},\"line\":{\"color\":\"white\"}},\"type\":\"table\"}]},\"layout\":{\"annotationdefaults\":{\"arrowcolor\":\"#2a3f5f\",\"arrowhead\":0,\"arrowwidth\":1},\"autotypenumbers\":\"strict\",\"coloraxis\":{\"colorbar\":{\"outlinewidth\":0,\"ticks\":\"\"}},\"colorscale\":{\"diverging\":[[0,\"#8e0152\"],[0.1,\"#c51b7d\"],[0.2,\"#de77ae\"],[0.3,\"#f1b6da\"],[0.4,\"#fde0ef\"],[0.5,\"#f7f7f7\"],[0.6,\"#e6f5d0\"],[0.7,\"#b8e186\"],[0.8,\"#7fbc41\"],[0.9,\"#4d9221\"],[1,\"#276419\"]],\"sequential\":[[0.0,\"#0d0887\"],[0.1111111111111111,\"#46039f\"],[0.2222222222222222,\"#7201a8\"],[0.3333333333333333,\"#9c179e\"],[0.4444444444444444,\"#bd3786\"],[0.5555555555555556,\"#d8576b\"],[0.6666666666666666,\"#ed7953\"],[0.7777777777777778,\"#fb9f3a\"],[0.8888888888888888,\"#fdca26\"],[1.0,\"#f0f921\"]],\"sequentialminus\":[[0.0,\"#0d0887\"],[0.1111111111111111,\"#46039f\"],[0.2222222222222222,\"#7201a8\"],[0.3333333333333333,\"#9c179e\"],[0.4444444444444444,\"#bd3786\"],[0.5555555555555556,\"#d8576b\"],[0.6666666666666666,\"#ed7953\"],[0.7777777777777778,\"#fb9f3a\"],[0.8888888888888888,\"#fdca26\"],[1.0,\"#f0f921\"]]},\"colorway\":[\"#636efa\",\"#EF553B\",\"#00cc96\",\"#ab63fa\",\"#FFA15A\",\"#19d3f3\",\"#FF6692\",\"#B6E880\",\"#FF97FF\",\"#FECB52\"],\"font\":{\"color\":\"#2a3f5f\"},\"geo\":{\"bgcolor\":\"white\",\"lakecolor\":\"white\",\"landcolor\":\"#E5ECF6\",\"showlakes\":true,\"showland\":true,\"subunitcolor\":\"white\"},\"hoverlabel\":{\"align\":\"left\"},\"hovermode\":\"closest\",\"mapbox\":{\"style\":\"light\"},\"paper_bgcolor\":\"white\",\"plot_bgcolor\":\"#E5ECF6\",\"polar\":{\"angularaxis\":{\"gridcolor\":\"white\",\"linecolor\":\"white\",\"ticks\":\"\"},\"bgcolor\":\"#E5ECF6\",\"radialaxis\":{\"gridcolor\":\"white\",\"linecolor\":\"white\",\"ticks\":\"\"}},\"scene\":{\"xaxis\":{\"backgroundcolor\":\"#E5ECF6\",\"gridcolor\":\"white\",\"gridwidth\":2,\"linecolor\":\"white\",\"showbackground\":true,\"ticks\":\"\",\"zerolinecolor\":\"white\"},\"yaxis\":{\"backgroundcolor\":\"#E5ECF6\",\"gridcolor\":\"white\",\"gridwidth\":2,\"linecolor\":\"white\",\"showbackground\":true,\"ticks\":\"\",\"zerolinecolor\":\"white\"},\"zaxis\":{\"backgroundcolor\":\"#E5ECF6\",\"gridcolor\":\"white\",\"gridwidth\":2,\"linecolor\":\"white\",\"showbackground\":true,\"ticks\":\"\",\"zerolinecolor\":\"white\"}},\"shapedefaults\":{\"line\":{\"color\":\"#2a3f5f\"}},\"ternary\":{\"aaxis\":{\"gridcolor\":\"white\",\"linecolor\":\"white\",\"ticks\":\"\"},\"baxis\":{\"gridcolor\":\"white\",\"linecolor\":\"white\",\"ticks\":\"\"},\"bgcolor\":\"#E5ECF6\",\"caxis\":{\"gridcolor\":\"white\",\"linecolor\":\"white\",\"ticks\":\"\"}},\"title\":{\"x\":0.05},\"xaxis\":{\"automargin\":true,\"gridcolor\":\"white\",\"linecolor\":\"white\",\"ticks\":\"\",\"title\":{\"standoff\":15},\"zerolinecolor\":\"white\",\"zerolinewidth\":2},\"yaxis\":{\"automargin\":true,\"gridcolor\":\"white\",\"linecolor\":\"white\",\"ticks\":\"\",\"title\":{\"standoff\":15},\"zerolinecolor\":\"white\",\"zerolinewidth\":2}}},\"title\":{\"font\":{\"color\":\"#4D5663\"},\"text\":\"Top 100 bigrams after removing stop words\"},\"xaxis\":{\"gridcolor\":\"#E1E5ED\",\"linecolor\":\"black\",\"showgrid\":true,\"tickfont\":{\"color\":\"#4D5663\"},\"title\":{\"font\":{\"color\":\"#4D5663\"},\"text\":\"\"},\"zerolinecolor\":\"#E1E5ED\"},\"yaxis\":{\"gridcolor\":\"#E1E5ED\",\"linecolor\":\"black\",\"showgrid\":true,\"tickfont\":{\"color\":\"#4D5663\"},\"title\":{\"font\":{\"color\":\"#4D5663\"},\"text\":\"Count\"},\"zerolinecolor\":\"#E1E5ED\"}},                        {\"showLink\": true, \"linkText\": \"Export to plot.ly\", \"plotlyServerURL\": \"https://plot.ly\", \"responsive\": true}                    ).then(function(){\n",
       "                            \n",
       "var gd = document.getElementById('8857fa13-91da-4098-ad5e-4834c4d258b6');\n",
       "var x = new MutationObserver(function (mutations, observer) {{\n",
       "        var display = window.getComputedStyle(gd).display;\n",
       "        if (!display || display === 'none') {{\n",
       "            console.log([gd, 'removed!']);\n",
       "            Plotly.purge(gd);\n",
       "            observer.disconnect();\n",
       "        }}\n",
       "}});\n",
       "\n",
       "// Listen for the removal of the full notebook cells\n",
       "var notebookContainer = gd.closest('#notebook-container');\n",
       "if (notebookContainer) {{\n",
       "    x.observe(notebookContainer, {childList: true});\n",
       "}}\n",
       "\n",
       "// Listen for the clearing of the current output cell\n",
       "var outputEl = gd.closest('.output');\n",
       "if (outputEl) {{\n",
       "    x.observe(outputEl, {childList: true});\n",
       "}}\n",
       "\n",
       "                        })                };                });            </script>        </div>"
      ]
     },
     "metadata": {},
     "output_type": "display_data"
    }
   ],
   "source": [
    "plot_model(plot = 'bigram')"
   ]
  },
  {
   "cell_type": "code",
   "execution_count": 24,
   "id": "2fb4fa3d",
   "metadata": {},
   "outputs": [
    {
     "data": {
      "text/html": [
       "        <script type=\"text/javascript\">\n",
       "        window.PlotlyConfig = {MathJaxConfig: 'local'};\n",
       "        if (window.MathJax) {MathJax.Hub.Config({SVG: {font: \"STIX-Web\"}});}\n",
       "        if (typeof require !== 'undefined') {\n",
       "        require.undef(\"plotly\");\n",
       "        requirejs.config({\n",
       "            paths: {\n",
       "                'plotly': ['https://cdn.plot.ly/plotly-2.11.1.min']\n",
       "            }\n",
       "        });\n",
       "        require(['plotly'], function(Plotly) {\n",
       "            window._Plotly = Plotly;\n",
       "        });\n",
       "        }\n",
       "        </script>\n",
       "        "
      ]
     },
     "metadata": {},
     "output_type": "display_data"
    },
    {
     "data": {
      "application/vnd.plotly.v1+json": {
       "config": {
        "linkText": "Export to plot.ly",
        "plotlyServerURL": "https://plot.ly",
        "showLink": true
       },
       "data": [
        {
         "marker": {
          "color": "rgba(255, 153, 51, 0.6)",
          "line": {
           "color": "rgba(255, 153, 51, 1.0)",
           "width": 1
          }
         },
         "name": "count",
         "orientation": "v",
         "text": "",
         "type": "bar",
         "x": [
          "rice",
          "group",
          "farmer",
          "small",
          "use",
          "land",
          "farm",
          "area",
          "grow",
          "sector",
          "crop",
          "member",
          "part",
          "order",
          "help",
          "marry",
          "live",
          "water",
          "person",
          "capital",
          "economy",
          "pay",
          "activity",
          "service",
          "hope",
          "production",
          "work",
          "promoting_savings_often_forgotten",
          "first_months_r",
          "program",
          "debt_must_paid_seventh",
          "often",
          "mifex_rural_finance",
          "cannot_fully_repay_borrower",
          "micro",
          "boleo_spanish_hand_sowe",
          "capital_reserved_future_investment",
          "farmers_produce_sack",
          "mifex_believes_imperative",
          "making_initial_expenditures_mifex",
          "local",
          "farmers_rent_machinery",
          "used_soil_seeds_fertilizer",
          "final_month",
          "family",
          "repayment_schedule_different_typical",
          "month",
          "high",
          "lands_removing_weeds_plowe",
          "helps_gather_production",
          "micro_finance_program",
          "entrepreneur",
          "farmers_see_profit",
          "communal_bank_others_guarantor",
          "rural",
          "milk",
          "access_credit",
          "dairy_cow",
          "team_evaluating_potential_sector",
          "still",
          "association_works_cooperatively",
          "plant",
          "provide",
          "loans_prepare_land",
          "life",
          "allow",
          "field",
          "types_crops_include",
          "sufficiently_fertile_rice",
          "baba_productive",
          "rice_production_appropriately",
          "since_days_gran",
          "risk_sector",
          "baba_fertile_though",
          "rivers_area_winter",
          "baba_baba_organize",
          "sector_lands_yield",
          "area_long_cultivation",
          "farmers_keep_livestock",
          "production_turned_main_economic",
          "lack_infrastructure_sector",
          "farming",
          "feed",
          "first_must_prepare",
          "farmers_benefit_presence",
          "grow_crops_plantain",
          "emergency_sources_food_commonly",
          "informal_farms_rice",
          "institution_count_formal_financial",
          "decades_baba_county_province",
          "production_summer_hand",
          "maize",
          "cycle_prefer_inv",
          "necessary_machinery_properly_plow",
          "often_ruined_generally_speake",
          "century_cacao_banana_producing",
          "prevent_flooding_crop",
          "prices_crops_risks_largest",
          "produce",
          "much_rain_drainage_system"
         ],
         "y": [
          163,
          133,
          124,
          96,
          90,
          87,
          78,
          71,
          71,
          67,
          67,
          47,
          44,
          37,
          37,
          33,
          33,
          32,
          31,
          30,
          30,
          29,
          29,
          28,
          27,
          26,
          26,
          25,
          25,
          25,
          24,
          24,
          24,
          23,
          23,
          22,
          22,
          22,
          22,
          22,
          22,
          22,
          22,
          22,
          22,
          21,
          21,
          21,
          20,
          19,
          19,
          19,
          18,
          18,
          18,
          18,
          18,
          18,
          18,
          18,
          18,
          17,
          17,
          17,
          17,
          17,
          16,
          15,
          15,
          15,
          15,
          15,
          15,
          15,
          15,
          15,
          15,
          15,
          15,
          15,
          15,
          15,
          15,
          15,
          15,
          15,
          15,
          15,
          15,
          15,
          15,
          15,
          15,
          15,
          15,
          15,
          15,
          15,
          15,
          15
         ]
        }
       ],
       "layout": {
        "autosize": true,
        "legend": {
         "bgcolor": "#F5F6F9",
         "font": {
          "color": "#4D5663"
         }
        },
        "paper_bgcolor": "#F5F6F9",
        "plot_bgcolor": "#F5F6F9",
        "template": {
         "data": {
          "bar": [
           {
            "error_x": {
             "color": "#2a3f5f"
            },
            "error_y": {
             "color": "#2a3f5f"
            },
            "marker": {
             "line": {
              "color": "#E5ECF6",
              "width": 0.5
             },
             "pattern": {
              "fillmode": "overlay",
              "size": 10,
              "solidity": 0.2
             }
            },
            "type": "bar"
           }
          ],
          "barpolar": [
           {
            "marker": {
             "line": {
              "color": "#E5ECF6",
              "width": 0.5
             },
             "pattern": {
              "fillmode": "overlay",
              "size": 10,
              "solidity": 0.2
             }
            },
            "type": "barpolar"
           }
          ],
          "carpet": [
           {
            "aaxis": {
             "endlinecolor": "#2a3f5f",
             "gridcolor": "white",
             "linecolor": "white",
             "minorgridcolor": "white",
             "startlinecolor": "#2a3f5f"
            },
            "baxis": {
             "endlinecolor": "#2a3f5f",
             "gridcolor": "white",
             "linecolor": "white",
             "minorgridcolor": "white",
             "startlinecolor": "#2a3f5f"
            },
            "type": "carpet"
           }
          ],
          "choropleth": [
           {
            "colorbar": {
             "outlinewidth": 0,
             "ticks": ""
            },
            "type": "choropleth"
           }
          ],
          "contour": [
           {
            "colorbar": {
             "outlinewidth": 0,
             "ticks": ""
            },
            "colorscale": [
             [
              0,
              "#0d0887"
             ],
             [
              0.1111111111111111,
              "#46039f"
             ],
             [
              0.2222222222222222,
              "#7201a8"
             ],
             [
              0.3333333333333333,
              "#9c179e"
             ],
             [
              0.4444444444444444,
              "#bd3786"
             ],
             [
              0.5555555555555556,
              "#d8576b"
             ],
             [
              0.6666666666666666,
              "#ed7953"
             ],
             [
              0.7777777777777778,
              "#fb9f3a"
             ],
             [
              0.8888888888888888,
              "#fdca26"
             ],
             [
              1,
              "#f0f921"
             ]
            ],
            "type": "contour"
           }
          ],
          "contourcarpet": [
           {
            "colorbar": {
             "outlinewidth": 0,
             "ticks": ""
            },
            "type": "contourcarpet"
           }
          ],
          "heatmap": [
           {
            "colorbar": {
             "outlinewidth": 0,
             "ticks": ""
            },
            "colorscale": [
             [
              0,
              "#0d0887"
             ],
             [
              0.1111111111111111,
              "#46039f"
             ],
             [
              0.2222222222222222,
              "#7201a8"
             ],
             [
              0.3333333333333333,
              "#9c179e"
             ],
             [
              0.4444444444444444,
              "#bd3786"
             ],
             [
              0.5555555555555556,
              "#d8576b"
             ],
             [
              0.6666666666666666,
              "#ed7953"
             ],
             [
              0.7777777777777778,
              "#fb9f3a"
             ],
             [
              0.8888888888888888,
              "#fdca26"
             ],
             [
              1,
              "#f0f921"
             ]
            ],
            "type": "heatmap"
           }
          ],
          "heatmapgl": [
           {
            "colorbar": {
             "outlinewidth": 0,
             "ticks": ""
            },
            "colorscale": [
             [
              0,
              "#0d0887"
             ],
             [
              0.1111111111111111,
              "#46039f"
             ],
             [
              0.2222222222222222,
              "#7201a8"
             ],
             [
              0.3333333333333333,
              "#9c179e"
             ],
             [
              0.4444444444444444,
              "#bd3786"
             ],
             [
              0.5555555555555556,
              "#d8576b"
             ],
             [
              0.6666666666666666,
              "#ed7953"
             ],
             [
              0.7777777777777778,
              "#fb9f3a"
             ],
             [
              0.8888888888888888,
              "#fdca26"
             ],
             [
              1,
              "#f0f921"
             ]
            ],
            "type": "heatmapgl"
           }
          ],
          "histogram": [
           {
            "marker": {
             "pattern": {
              "fillmode": "overlay",
              "size": 10,
              "solidity": 0.2
             }
            },
            "type": "histogram"
           }
          ],
          "histogram2d": [
           {
            "colorbar": {
             "outlinewidth": 0,
             "ticks": ""
            },
            "colorscale": [
             [
              0,
              "#0d0887"
             ],
             [
              0.1111111111111111,
              "#46039f"
             ],
             [
              0.2222222222222222,
              "#7201a8"
             ],
             [
              0.3333333333333333,
              "#9c179e"
             ],
             [
              0.4444444444444444,
              "#bd3786"
             ],
             [
              0.5555555555555556,
              "#d8576b"
             ],
             [
              0.6666666666666666,
              "#ed7953"
             ],
             [
              0.7777777777777778,
              "#fb9f3a"
             ],
             [
              0.8888888888888888,
              "#fdca26"
             ],
             [
              1,
              "#f0f921"
             ]
            ],
            "type": "histogram2d"
           }
          ],
          "histogram2dcontour": [
           {
            "colorbar": {
             "outlinewidth": 0,
             "ticks": ""
            },
            "colorscale": [
             [
              0,
              "#0d0887"
             ],
             [
              0.1111111111111111,
              "#46039f"
             ],
             [
              0.2222222222222222,
              "#7201a8"
             ],
             [
              0.3333333333333333,
              "#9c179e"
             ],
             [
              0.4444444444444444,
              "#bd3786"
             ],
             [
              0.5555555555555556,
              "#d8576b"
             ],
             [
              0.6666666666666666,
              "#ed7953"
             ],
             [
              0.7777777777777778,
              "#fb9f3a"
             ],
             [
              0.8888888888888888,
              "#fdca26"
             ],
             [
              1,
              "#f0f921"
             ]
            ],
            "type": "histogram2dcontour"
           }
          ],
          "mesh3d": [
           {
            "colorbar": {
             "outlinewidth": 0,
             "ticks": ""
            },
            "type": "mesh3d"
           }
          ],
          "parcoords": [
           {
            "line": {
             "colorbar": {
              "outlinewidth": 0,
              "ticks": ""
             }
            },
            "type": "parcoords"
           }
          ],
          "pie": [
           {
            "automargin": true,
            "type": "pie"
           }
          ],
          "scatter": [
           {
            "fillpattern": {
             "fillmode": "overlay",
             "size": 10,
             "solidity": 0.2
            },
            "type": "scatter"
           }
          ],
          "scatter3d": [
           {
            "line": {
             "colorbar": {
              "outlinewidth": 0,
              "ticks": ""
             }
            },
            "marker": {
             "colorbar": {
              "outlinewidth": 0,
              "ticks": ""
             }
            },
            "type": "scatter3d"
           }
          ],
          "scattercarpet": [
           {
            "marker": {
             "colorbar": {
              "outlinewidth": 0,
              "ticks": ""
             }
            },
            "type": "scattercarpet"
           }
          ],
          "scattergeo": [
           {
            "marker": {
             "colorbar": {
              "outlinewidth": 0,
              "ticks": ""
             }
            },
            "type": "scattergeo"
           }
          ],
          "scattergl": [
           {
            "marker": {
             "colorbar": {
              "outlinewidth": 0,
              "ticks": ""
             }
            },
            "type": "scattergl"
           }
          ],
          "scattermapbox": [
           {
            "marker": {
             "colorbar": {
              "outlinewidth": 0,
              "ticks": ""
             }
            },
            "type": "scattermapbox"
           }
          ],
          "scatterpolar": [
           {
            "marker": {
             "colorbar": {
              "outlinewidth": 0,
              "ticks": ""
             }
            },
            "type": "scatterpolar"
           }
          ],
          "scatterpolargl": [
           {
            "marker": {
             "colorbar": {
              "outlinewidth": 0,
              "ticks": ""
             }
            },
            "type": "scatterpolargl"
           }
          ],
          "scatterternary": [
           {
            "marker": {
             "colorbar": {
              "outlinewidth": 0,
              "ticks": ""
             }
            },
            "type": "scatterternary"
           }
          ],
          "surface": [
           {
            "colorbar": {
             "outlinewidth": 0,
             "ticks": ""
            },
            "colorscale": [
             [
              0,
              "#0d0887"
             ],
             [
              0.1111111111111111,
              "#46039f"
             ],
             [
              0.2222222222222222,
              "#7201a8"
             ],
             [
              0.3333333333333333,
              "#9c179e"
             ],
             [
              0.4444444444444444,
              "#bd3786"
             ],
             [
              0.5555555555555556,
              "#d8576b"
             ],
             [
              0.6666666666666666,
              "#ed7953"
             ],
             [
              0.7777777777777778,
              "#fb9f3a"
             ],
             [
              0.8888888888888888,
              "#fdca26"
             ],
             [
              1,
              "#f0f921"
             ]
            ],
            "type": "surface"
           }
          ],
          "table": [
           {
            "cells": {
             "fill": {
              "color": "#EBF0F8"
             },
             "line": {
              "color": "white"
             }
            },
            "header": {
             "fill": {
              "color": "#C8D4E3"
             },
             "line": {
              "color": "white"
             }
            },
            "type": "table"
           }
          ]
         },
         "layout": {
          "annotationdefaults": {
           "arrowcolor": "#2a3f5f",
           "arrowhead": 0,
           "arrowwidth": 1
          },
          "autotypenumbers": "strict",
          "coloraxis": {
           "colorbar": {
            "outlinewidth": 0,
            "ticks": ""
           }
          },
          "colorscale": {
           "diverging": [
            [
             0,
             "#8e0152"
            ],
            [
             0.1,
             "#c51b7d"
            ],
            [
             0.2,
             "#de77ae"
            ],
            [
             0.3,
             "#f1b6da"
            ],
            [
             0.4,
             "#fde0ef"
            ],
            [
             0.5,
             "#f7f7f7"
            ],
            [
             0.6,
             "#e6f5d0"
            ],
            [
             0.7,
             "#b8e186"
            ],
            [
             0.8,
             "#7fbc41"
            ],
            [
             0.9,
             "#4d9221"
            ],
            [
             1,
             "#276419"
            ]
           ],
           "sequential": [
            [
             0,
             "#0d0887"
            ],
            [
             0.1111111111111111,
             "#46039f"
            ],
            [
             0.2222222222222222,
             "#7201a8"
            ],
            [
             0.3333333333333333,
             "#9c179e"
            ],
            [
             0.4444444444444444,
             "#bd3786"
            ],
            [
             0.5555555555555556,
             "#d8576b"
            ],
            [
             0.6666666666666666,
             "#ed7953"
            ],
            [
             0.7777777777777778,
             "#fb9f3a"
            ],
            [
             0.8888888888888888,
             "#fdca26"
            ],
            [
             1,
             "#f0f921"
            ]
           ],
           "sequentialminus": [
            [
             0,
             "#0d0887"
            ],
            [
             0.1111111111111111,
             "#46039f"
            ],
            [
             0.2222222222222222,
             "#7201a8"
            ],
            [
             0.3333333333333333,
             "#9c179e"
            ],
            [
             0.4444444444444444,
             "#bd3786"
            ],
            [
             0.5555555555555556,
             "#d8576b"
            ],
            [
             0.6666666666666666,
             "#ed7953"
            ],
            [
             0.7777777777777778,
             "#fb9f3a"
            ],
            [
             0.8888888888888888,
             "#fdca26"
            ],
            [
             1,
             "#f0f921"
            ]
           ]
          },
          "colorway": [
           "#636efa",
           "#EF553B",
           "#00cc96",
           "#ab63fa",
           "#FFA15A",
           "#19d3f3",
           "#FF6692",
           "#B6E880",
           "#FF97FF",
           "#FECB52"
          ],
          "font": {
           "color": "#2a3f5f"
          },
          "geo": {
           "bgcolor": "white",
           "lakecolor": "white",
           "landcolor": "#E5ECF6",
           "showlakes": true,
           "showland": true,
           "subunitcolor": "white"
          },
          "hoverlabel": {
           "align": "left"
          },
          "hovermode": "closest",
          "mapbox": {
           "style": "light"
          },
          "paper_bgcolor": "white",
          "plot_bgcolor": "#E5ECF6",
          "polar": {
           "angularaxis": {
            "gridcolor": "white",
            "linecolor": "white",
            "ticks": ""
           },
           "bgcolor": "#E5ECF6",
           "radialaxis": {
            "gridcolor": "white",
            "linecolor": "white",
            "ticks": ""
           }
          },
          "scene": {
           "xaxis": {
            "backgroundcolor": "#E5ECF6",
            "gridcolor": "white",
            "gridwidth": 2,
            "linecolor": "white",
            "showbackground": true,
            "ticks": "",
            "zerolinecolor": "white"
           },
           "yaxis": {
            "backgroundcolor": "#E5ECF6",
            "gridcolor": "white",
            "gridwidth": 2,
            "linecolor": "white",
            "showbackground": true,
            "ticks": "",
            "zerolinecolor": "white"
           },
           "zaxis": {
            "backgroundcolor": "#E5ECF6",
            "gridcolor": "white",
            "gridwidth": 2,
            "linecolor": "white",
            "showbackground": true,
            "ticks": "",
            "zerolinecolor": "white"
           }
          },
          "shapedefaults": {
           "line": {
            "color": "#2a3f5f"
           }
          },
          "ternary": {
           "aaxis": {
            "gridcolor": "white",
            "linecolor": "white",
            "ticks": ""
           },
           "baxis": {
            "gridcolor": "white",
            "linecolor": "white",
            "ticks": ""
           },
           "bgcolor": "#E5ECF6",
           "caxis": {
            "gridcolor": "white",
            "linecolor": "white",
            "ticks": ""
           }
          },
          "title": {
           "x": 0.05
          },
          "xaxis": {
           "automargin": true,
           "gridcolor": "white",
           "linecolor": "white",
           "ticks": "",
           "title": {
            "standoff": 15
           },
           "zerolinecolor": "white",
           "zerolinewidth": 2
          },
          "yaxis": {
           "automargin": true,
           "gridcolor": "white",
           "linecolor": "white",
           "ticks": "",
           "title": {
            "standoff": 15
           },
           "zerolinecolor": "white",
           "zerolinewidth": 2
          }
         }
        },
        "title": {
         "font": {
          "color": "#4D5663"
         },
         "text": "Topic 1: Top 100 words after removing stop words"
        },
        "xaxis": {
         "autorange": true,
         "gridcolor": "#E1E5ED",
         "linecolor": "black",
         "range": [
          -0.5,
          99.5
         ],
         "showgrid": true,
         "tickfont": {
          "color": "#4D5663"
         },
         "title": {
          "font": {
           "color": "#4D5663"
          },
          "text": ""
         },
         "type": "category",
         "zerolinecolor": "#E1E5ED"
        },
        "yaxis": {
         "autorange": true,
         "gridcolor": "#E1E5ED",
         "linecolor": "black",
         "range": [
          0,
          171.57894736842104
         ],
         "showgrid": true,
         "tickfont": {
          "color": "#4D5663"
         },
         "title": {
          "font": {
           "color": "#4D5663"
          },
          "text": "Count"
         },
         "type": "linear",
         "zerolinecolor": "#E1E5ED"
        }
       }
      },
      "image/png": "[encoded data removed]",
      "text/html": [
       "<div>                            <div id=\"d6a44c39-a4c2-4408-b38d-85b6bae461cb\" class=\"plotly-graph-div\" style=\"height:525px; width:100%;\"></div>            <script type=\"text/javascript\">                require([\"plotly\"], function(Plotly) {                    window.PLOTLYENV=window.PLOTLYENV || {};\n",
       "                    window.PLOTLYENV.BASE_URL='https://plot.ly';                                    if (document.getElementById(\"d6a44c39-a4c2-4408-b38d-85b6bae461cb\")) {                    Plotly.newPlot(                        \"d6a44c39-a4c2-4408-b38d-85b6bae461cb\",                        [{\"marker\":{\"color\":\"rgba(255, 153, 51, 0.6)\",\"line\":{\"color\":\"rgba(255, 153, 51, 1.0)\",\"width\":1}},\"name\":\"count\",\"orientation\":\"v\",\"text\":\"\",\"x\":[\"rice\",\"group\",\"farmer\",\"small\",\"use\",\"land\",\"farm\",\"area\",\"grow\",\"sector\",\"crop\",\"member\",\"part\",\"order\",\"help\",\"marry\",\"live\",\"water\",\"person\",\"capital\",\"economy\",\"pay\",\"activity\",\"service\",\"hope\",\"production\",\"work\",\"promoting_savings_often_forgotten\",\"first_months_r\",\"program\",\"debt_must_paid_seventh\",\"often\",\"mifex_rural_finance\",\"cannot_fully_repay_borrower\",\"micro\",\"boleo_spanish_hand_sowe\",\"capital_reserved_future_investment\",\"farmers_produce_sack\",\"mifex_believes_imperative\",\"making_initial_expenditures_mifex\",\"local\",\"farmers_rent_machinery\",\"used_soil_seeds_fertilizer\",\"final_month\",\"family\",\"repayment_schedule_different_typical\",\"month\",\"high\",\"lands_removing_weeds_plowe\",\"helps_gather_production\",\"micro_finance_program\",\"entrepreneur\",\"farmers_see_profit\",\"communal_bank_others_guarantor\",\"rural\",\"milk\",\"access_credit\",\"dairy_cow\",\"team_evaluating_potential_sector\",\"still\",\"association_works_cooperatively\",\"plant\",\"provide\",\"loans_prepare_land\",\"life\",\"allow\",\"field\",\"types_crops_include\",\"sufficiently_fertile_rice\",\"baba_productive\",\"rice_production_appropriately\",\"since_days_gran\",\"risk_sector\",\"baba_fertile_though\",\"rivers_area_winter\",\"baba_baba_organize\",\"sector_lands_yield\",\"area_long_cultivation\",\"farmers_keep_livestock\",\"production_turned_main_economic\",\"lack_infrastructure_sector\",\"farming\",\"feed\",\"first_must_prepare\",\"farmers_benefit_presence\",\"grow_crops_plantain\",\"emergency_sources_food_commonly\",\"informal_farms_rice\",\"institution_count_formal_financial\",\"decades_baba_county_province\",\"production_summer_hand\",\"maize\",\"cycle_prefer_inv\",\"necessary_machinery_properly_plow\",\"often_ruined_generally_speake\",\"century_cacao_banana_producing\",\"prevent_flooding_crop\",\"prices_crops_risks_largest\",\"produce\",\"much_rain_drainage_system\"],\"y\":[163,133,124,96,90,87,78,71,71,67,67,47,44,37,37,33,33,32,31,30,30,29,29,28,27,26,26,25,25,25,24,24,24,23,23,22,22,22,22,22,22,22,22,22,22,21,21,21,20,19,19,19,18,18,18,18,18,18,18,18,18,17,17,17,17,17,16,15,15,15,15,15,15,15,15,15,15,15,15,15,15,15,15,15,15,15,15,15,15,15,15,15,15,15,15,15,15,15,15,15],\"type\":\"bar\"}],                        {\"legend\":{\"bgcolor\":\"#F5F6F9\",\"font\":{\"color\":\"#4D5663\"}},\"paper_bgcolor\":\"#F5F6F9\",\"plot_bgcolor\":\"#F5F6F9\",\"template\":{\"data\":{\"barpolar\":[{\"marker\":{\"line\":{\"color\":\"#E5ECF6\",\"width\":0.5},\"pattern\":{\"fillmode\":\"overlay\",\"size\":10,\"solidity\":0.2}},\"type\":\"barpolar\"}],\"bar\":[{\"error_x\":{\"color\":\"#2a3f5f\"},\"error_y\":{\"color\":\"#2a3f5f\"},\"marker\":{\"line\":{\"color\":\"#E5ECF6\",\"width\":0.5},\"pattern\":{\"fillmode\":\"overlay\",\"size\":10,\"solidity\":0.2}},\"type\":\"bar\"}],\"carpet\":[{\"aaxis\":{\"endlinecolor\":\"#2a3f5f\",\"gridcolor\":\"white\",\"linecolor\":\"white\",\"minorgridcolor\":\"white\",\"startlinecolor\":\"#2a3f5f\"},\"baxis\":{\"endlinecolor\":\"#2a3f5f\",\"gridcolor\":\"white\",\"linecolor\":\"white\",\"minorgridcolor\":\"white\",\"startlinecolor\":\"#2a3f5f\"},\"type\":\"carpet\"}],\"choropleth\":[{\"colorbar\":{\"outlinewidth\":0,\"ticks\":\"\"},\"type\":\"choropleth\"}],\"contourcarpet\":[{\"colorbar\":{\"outlinewidth\":0,\"ticks\":\"\"},\"type\":\"contourcarpet\"}],\"contour\":[{\"colorbar\":{\"outlinewidth\":0,\"ticks\":\"\"},\"colorscale\":[[0.0,\"#0d0887\"],[0.1111111111111111,\"#46039f\"],[0.2222222222222222,\"#7201a8\"],[0.3333333333333333,\"#9c179e\"],[0.4444444444444444,\"#bd3786\"],[0.5555555555555556,\"#d8576b\"],[0.6666666666666666,\"#ed7953\"],[0.7777777777777778,\"#fb9f3a\"],[0.8888888888888888,\"#fdca26\"],[1.0,\"#f0f921\"]],\"type\":\"contour\"}],\"heatmapgl\":[{\"colorbar\":{\"outlinewidth\":0,\"ticks\":\"\"},\"colorscale\":[[0.0,\"#0d0887\"],[0.1111111111111111,\"#46039f\"],[0.2222222222222222,\"#7201a8\"],[0.3333333333333333,\"#9c179e\"],[0.4444444444444444,\"#bd3786\"],[0.5555555555555556,\"#d8576b\"],[0.6666666666666666,\"#ed7953\"],[0.7777777777777778,\"#fb9f3a\"],[0.8888888888888888,\"#fdca26\"],[1.0,\"#f0f921\"]],\"type\":\"heatmapgl\"}],\"heatmap\":[{\"colorbar\":{\"outlinewidth\":0,\"ticks\":\"\"},\"colorscale\":[[0.0,\"#0d0887\"],[0.1111111111111111,\"#46039f\"],[0.2222222222222222,\"#7201a8\"],[0.3333333333333333,\"#9c179e\"],[0.4444444444444444,\"#bd3786\"],[0.5555555555555556,\"#d8576b\"],[0.6666666666666666,\"#ed7953\"],[0.7777777777777778,\"#fb9f3a\"],[0.8888888888888888,\"#fdca26\"],[1.0,\"#f0f921\"]],\"type\":\"heatmap\"}],\"histogram2dcontour\":[{\"colorbar\":{\"outlinewidth\":0,\"ticks\":\"\"},\"colorscale\":[[0.0,\"#0d0887\"],[0.1111111111111111,\"#46039f\"],[0.2222222222222222,\"#7201a8\"],[0.3333333333333333,\"#9c179e\"],[0.4444444444444444,\"#bd3786\"],[0.5555555555555556,\"#d8576b\"],[0.6666666666666666,\"#ed7953\"],[0.7777777777777778,\"#fb9f3a\"],[0.8888888888888888,\"#fdca26\"],[1.0,\"#f0f921\"]],\"type\":\"histogram2dcontour\"}],\"histogram2d\":[{\"colorbar\":{\"outlinewidth\":0,\"ticks\":\"\"},\"colorscale\":[[0.0,\"#0d0887\"],[0.1111111111111111,\"#46039f\"],[0.2222222222222222,\"#7201a8\"],[0.3333333333333333,\"#9c179e\"],[0.4444444444444444,\"#bd3786\"],[0.5555555555555556,\"#d8576b\"],[0.6666666666666666,\"#ed7953\"],[0.7777777777777778,\"#fb9f3a\"],[0.8888888888888888,\"#fdca26\"],[1.0,\"#f0f921\"]],\"type\":\"histogram2d\"}],\"histogram\":[{\"marker\":{\"pattern\":{\"fillmode\":\"overlay\",\"size\":10,\"solidity\":0.2}},\"type\":\"histogram\"}],\"mesh3d\":[{\"colorbar\":{\"outlinewidth\":0,\"ticks\":\"\"},\"type\":\"mesh3d\"}],\"parcoords\":[{\"line\":{\"colorbar\":{\"outlinewidth\":0,\"ticks\":\"\"}},\"type\":\"parcoords\"}],\"pie\":[{\"automargin\":true,\"type\":\"pie\"}],\"scatter3d\":[{\"line\":{\"colorbar\":{\"outlinewidth\":0,\"ticks\":\"\"}},\"marker\":{\"colorbar\":{\"outlinewidth\":0,\"ticks\":\"\"}},\"type\":\"scatter3d\"}],\"scattercarpet\":[{\"marker\":{\"colorbar\":{\"outlinewidth\":0,\"ticks\":\"\"}},\"type\":\"scattercarpet\"}],\"scattergeo\":[{\"marker\":{\"colorbar\":{\"outlinewidth\":0,\"ticks\":\"\"}},\"type\":\"scattergeo\"}],\"scattergl\":[{\"marker\":{\"colorbar\":{\"outlinewidth\":0,\"ticks\":\"\"}},\"type\":\"scattergl\"}],\"scattermapbox\":[{\"marker\":{\"colorbar\":{\"outlinewidth\":0,\"ticks\":\"\"}},\"type\":\"scattermapbox\"}],\"scatterpolargl\":[{\"marker\":{\"colorbar\":{\"outlinewidth\":0,\"ticks\":\"\"}},\"type\":\"scatterpolargl\"}],\"scatterpolar\":[{\"marker\":{\"colorbar\":{\"outlinewidth\":0,\"ticks\":\"\"}},\"type\":\"scatterpolar\"}],\"scatter\":[{\"fillpattern\":{\"fillmode\":\"overlay\",\"size\":10,\"solidity\":0.2},\"type\":\"scatter\"}],\"scatterternary\":[{\"marker\":{\"colorbar\":{\"outlinewidth\":0,\"ticks\":\"\"}},\"type\":\"scatterternary\"}],\"surface\":[{\"colorbar\":{\"outlinewidth\":0,\"ticks\":\"\"},\"colorscale\":[[0.0,\"#0d0887\"],[0.1111111111111111,\"#46039f\"],[0.2222222222222222,\"#7201a8\"],[0.3333333333333333,\"#9c179e\"],[0.4444444444444444,\"#bd3786\"],[0.5555555555555556,\"#d8576b\"],[0.6666666666666666,\"#ed7953\"],[0.7777777777777778,\"#fb9f3a\"],[0.8888888888888888,\"#fdca26\"],[1.0,\"#f0f921\"]],\"type\":\"surface\"}],\"table\":[{\"cells\":{\"fill\":{\"color\":\"#EBF0F8\"},\"line\":{\"color\":\"white\"}},\"header\":{\"fill\":{\"color\":\"#C8D4E3\"},\"line\":{\"color\":\"white\"}},\"type\":\"table\"}]},\"layout\":{\"annotationdefaults\":{\"arrowcolor\":\"#2a3f5f\",\"arrowhead\":0,\"arrowwidth\":1},\"autotypenumbers\":\"strict\",\"coloraxis\":{\"colorbar\":{\"outlinewidth\":0,\"ticks\":\"\"}},\"colorscale\":{\"diverging\":[[0,\"#8e0152\"],[0.1,\"#c51b7d\"],[0.2,\"#de77ae\"],[0.3,\"#f1b6da\"],[0.4,\"#fde0ef\"],[0.5,\"#f7f7f7\"],[0.6,\"#e6f5d0\"],[0.7,\"#b8e186\"],[0.8,\"#7fbc41\"],[0.9,\"#4d9221\"],[1,\"#276419\"]],\"sequential\":[[0.0,\"#0d0887\"],[0.1111111111111111,\"#46039f\"],[0.2222222222222222,\"#7201a8\"],[0.3333333333333333,\"#9c179e\"],[0.4444444444444444,\"#bd3786\"],[0.5555555555555556,\"#d8576b\"],[0.6666666666666666,\"#ed7953\"],[0.7777777777777778,\"#fb9f3a\"],[0.8888888888888888,\"#fdca26\"],[1.0,\"#f0f921\"]],\"sequentialminus\":[[0.0,\"#0d0887\"],[0.1111111111111111,\"#46039f\"],[0.2222222222222222,\"#7201a8\"],[0.3333333333333333,\"#9c179e\"],[0.4444444444444444,\"#bd3786\"],[0.5555555555555556,\"#d8576b\"],[0.6666666666666666,\"#ed7953\"],[0.7777777777777778,\"#fb9f3a\"],[0.8888888888888888,\"#fdca26\"],[1.0,\"#f0f921\"]]},\"colorway\":[\"#636efa\",\"#EF553B\",\"#00cc96\",\"#ab63fa\",\"#FFA15A\",\"#19d3f3\",\"#FF6692\",\"#B6E880\",\"#FF97FF\",\"#FECB52\"],\"font\":{\"color\":\"#2a3f5f\"},\"geo\":{\"bgcolor\":\"white\",\"lakecolor\":\"white\",\"landcolor\":\"#E5ECF6\",\"showlakes\":true,\"showland\":true,\"subunitcolor\":\"white\"},\"hoverlabel\":{\"align\":\"left\"},\"hovermode\":\"closest\",\"mapbox\":{\"style\":\"light\"},\"paper_bgcolor\":\"white\",\"plot_bgcolor\":\"#E5ECF6\",\"polar\":{\"angularaxis\":{\"gridcolor\":\"white\",\"linecolor\":\"white\",\"ticks\":\"\"},\"bgcolor\":\"#E5ECF6\",\"radialaxis\":{\"gridcolor\":\"white\",\"linecolor\":\"white\",\"ticks\":\"\"}},\"scene\":{\"xaxis\":{\"backgroundcolor\":\"#E5ECF6\",\"gridcolor\":\"white\",\"gridwidth\":2,\"linecolor\":\"white\",\"showbackground\":true,\"ticks\":\"\",\"zerolinecolor\":\"white\"},\"yaxis\":{\"backgroundcolor\":\"#E5ECF6\",\"gridcolor\":\"white\",\"gridwidth\":2,\"linecolor\":\"white\",\"showbackground\":true,\"ticks\":\"\",\"zerolinecolor\":\"white\"},\"zaxis\":{\"backgroundcolor\":\"#E5ECF6\",\"gridcolor\":\"white\",\"gridwidth\":2,\"linecolor\":\"white\",\"showbackground\":true,\"ticks\":\"\",\"zerolinecolor\":\"white\"}},\"shapedefaults\":{\"line\":{\"color\":\"#2a3f5f\"}},\"ternary\":{\"aaxis\":{\"gridcolor\":\"white\",\"linecolor\":\"white\",\"ticks\":\"\"},\"baxis\":{\"gridcolor\":\"white\",\"linecolor\":\"white\",\"ticks\":\"\"},\"bgcolor\":\"#E5ECF6\",\"caxis\":{\"gridcolor\":\"white\",\"linecolor\":\"white\",\"ticks\":\"\"}},\"title\":{\"x\":0.05},\"xaxis\":{\"automargin\":true,\"gridcolor\":\"white\",\"linecolor\":\"white\",\"ticks\":\"\",\"title\":{\"standoff\":15},\"zerolinecolor\":\"white\",\"zerolinewidth\":2},\"yaxis\":{\"automargin\":true,\"gridcolor\":\"white\",\"linecolor\":\"white\",\"ticks\":\"\",\"title\":{\"standoff\":15},\"zerolinecolor\":\"white\",\"zerolinewidth\":2}}},\"title\":{\"font\":{\"color\":\"#4D5663\"},\"text\":\"Topic 1: Top 100 words after removing stop words\"},\"xaxis\":{\"gridcolor\":\"#E1E5ED\",\"linecolor\":\"black\",\"showgrid\":true,\"tickfont\":{\"color\":\"#4D5663\"},\"title\":{\"font\":{\"color\":\"#4D5663\"},\"text\":\"\"},\"zerolinecolor\":\"#E1E5ED\"},\"yaxis\":{\"gridcolor\":\"#E1E5ED\",\"linecolor\":\"black\",\"showgrid\":true,\"tickfont\":{\"color\":\"#4D5663\"},\"title\":{\"font\":{\"color\":\"#4D5663\"},\"text\":\"Count\"},\"zerolinecolor\":\"#E1E5ED\"}},                        {\"showLink\": true, \"linkText\": \"Export to plot.ly\", \"plotlyServerURL\": \"https://plot.ly\", \"responsive\": true}                    ).then(function(){\n",
       "                            \n",
       "var gd = document.getElementById('d6a44c39-a4c2-4408-b38d-85b6bae461cb');\n",
       "var x = new MutationObserver(function (mutations, observer) {{\n",
       "        var display = window.getComputedStyle(gd).display;\n",
       "        if (!display || display === 'none') {{\n",
       "            console.log([gd, 'removed!']);\n",
       "            Plotly.purge(gd);\n",
       "            observer.disconnect();\n",
       "        }}\n",
       "}});\n",
       "\n",
       "// Listen for the removal of the full notebook cells\n",
       "var notebookContainer = gd.closest('#notebook-container');\n",
       "if (notebookContainer) {{\n",
       "    x.observe(notebookContainer, {childList: true});\n",
       "}}\n",
       "\n",
       "// Listen for the clearing of the current output cell\n",
       "var outputEl = gd.closest('.output');\n",
       "if (outputEl) {{\n",
       "    x.observe(outputEl, {childList: true});\n",
       "}}\n",
       "\n",
       "                        })                };                });            </script>        </div>"
      ]
     },
     "metadata": {},
     "output_type": "display_data"
    }
   ],
   "source": [
    "plot_model(lda, plot = 'frequency', topic_num = 'Topic 1')"
   ]
  },
  {
   "cell_type": "code",
   "execution_count": 25,
   "id": "7bb2e0d1",
   "metadata": {},
   "outputs": [
    {
     "data": {
      "text/html": [
       "        <script type=\"text/javascript\">\n",
       "        window.PlotlyConfig = {MathJaxConfig: 'local'};\n",
       "        if (window.MathJax) {MathJax.Hub.Config({SVG: {font: \"STIX-Web\"}});}\n",
       "        if (typeof require !== 'undefined') {\n",
       "        require.undef(\"plotly\");\n",
       "        requirejs.config({\n",
       "            paths: {\n",
       "                'plotly': ['https://cdn.plot.ly/plotly-2.11.1.min']\n",
       "            }\n",
       "        });\n",
       "        require(['plotly'], function(Plotly) {\n",
       "            window._Plotly = Plotly;\n",
       "        });\n",
       "        }\n",
       "        </script>\n",
       "        "
      ]
     },
     "metadata": {},
     "output_type": "display_data"
    },
    {
     "data": {
      "application/vnd.plotly.v1+json": {
       "config": {
        "plotlyServerURL": "https://plot.ly"
       },
       "data": [
        {
         "alignmentgroup": "True",
         "customdata": [
          [
           "product, work, husband, help, use, family, home, start, well, hope"
          ],
          [
           "rice, group, farmer, farm, small, use, area, land, crop, grow"
          ],
          [
           "group, pay, member, help, family, steer, come, market, increase, well"
          ],
          [
           "family, stock, work, start, request, use, increase, marry, expand, pay"
          ]
         ],
         "hovertemplate": "Topic=%{x}<br>Documents=%{y}<br>Keyword=%{customdata[0]}<extra></extra>",
         "legendgroup": "",
         "marker": {
          "color": "#636efa",
          "pattern": {
           "shape": ""
          }
         },
         "name": "",
         "offsetgroup": "",
         "orientation": "v",
         "showlegend": false,
         "textposition": "auto",
         "type": "bar",
         "x": [
          "Topic 0",
          "Topic 1",
          "Topic 2",
          "Topic 3"
         ],
         "xaxis": "x",
         "y": [
          486,
          71,
          77,
          366
         ],
         "yaxis": "y"
        }
       ],
       "layout": {
        "autosize": true,
        "barmode": "relative",
        "legend": {
         "tracegroupgap": 0
        },
        "template": {
         "data": {
          "bar": [
           {
            "error_x": {
             "color": "#2a3f5f"
            },
            "error_y": {
             "color": "#2a3f5f"
            },
            "marker": {
             "line": {
              "color": "#E5ECF6",
              "width": 0.5
             },
             "pattern": {
              "fillmode": "overlay",
              "size": 10,
              "solidity": 0.2
             }
            },
            "type": "bar"
           }
          ],
          "barpolar": [
           {
            "marker": {
             "line": {
              "color": "#E5ECF6",
              "width": 0.5
             },
             "pattern": {
              "fillmode": "overlay",
              "size": 10,
              "solidity": 0.2
             }
            },
            "type": "barpolar"
           }
          ],
          "carpet": [
           {
            "aaxis": {
             "endlinecolor": "#2a3f5f",
             "gridcolor": "white",
             "linecolor": "white",
             "minorgridcolor": "white",
             "startlinecolor": "#2a3f5f"
            },
            "baxis": {
             "endlinecolor": "#2a3f5f",
             "gridcolor": "white",
             "linecolor": "white",
             "minorgridcolor": "white",
             "startlinecolor": "#2a3f5f"
            },
            "type": "carpet"
           }
          ],
          "choropleth": [
           {
            "colorbar": {
             "outlinewidth": 0,
             "ticks": ""
            },
            "type": "choropleth"
           }
          ],
          "contour": [
           {
            "colorbar": {
             "outlinewidth": 0,
             "ticks": ""
            },
            "colorscale": [
             [
              0,
              "#0d0887"
             ],
             [
              0.1111111111111111,
              "#46039f"
             ],
             [
              0.2222222222222222,
              "#7201a8"
             ],
             [
              0.3333333333333333,
              "#9c179e"
             ],
             [
              0.4444444444444444,
              "#bd3786"
             ],
             [
              0.5555555555555556,
              "#d8576b"
             ],
             [
              0.6666666666666666,
              "#ed7953"
             ],
             [
              0.7777777777777778,
              "#fb9f3a"
             ],
             [
              0.8888888888888888,
              "#fdca26"
             ],
             [
              1,
              "#f0f921"
             ]
            ],
            "type": "contour"
           }
          ],
          "contourcarpet": [
           {
            "colorbar": {
             "outlinewidth": 0,
             "ticks": ""
            },
            "type": "contourcarpet"
           }
          ],
          "heatmap": [
           {
            "colorbar": {
             "outlinewidth": 0,
             "ticks": ""
            },
            "colorscale": [
             [
              0,
              "#0d0887"
             ],
             [
              0.1111111111111111,
              "#46039f"
             ],
             [
              0.2222222222222222,
              "#7201a8"
             ],
             [
              0.3333333333333333,
              "#9c179e"
             ],
             [
              0.4444444444444444,
              "#bd3786"
             ],
             [
              0.5555555555555556,
              "#d8576b"
             ],
             [
              0.6666666666666666,
              "#ed7953"
             ],
             [
              0.7777777777777778,
              "#fb9f3a"
             ],
             [
              0.8888888888888888,
              "#fdca26"
             ],
             [
              1,
              "#f0f921"
             ]
            ],
            "type": "heatmap"
           }
          ],
          "heatmapgl": [
           {
            "colorbar": {
             "outlinewidth": 0,
             "ticks": ""
            },
            "colorscale": [
             [
              0,
              "#0d0887"
             ],
             [
              0.1111111111111111,
              "#46039f"
             ],
             [
              0.2222222222222222,
              "#7201a8"
             ],
             [
              0.3333333333333333,
              "#9c179e"
             ],
             [
              0.4444444444444444,
              "#bd3786"
             ],
             [
              0.5555555555555556,
              "#d8576b"
             ],
             [
              0.6666666666666666,
              "#ed7953"
             ],
             [
              0.7777777777777778,
              "#fb9f3a"
             ],
             [
              0.8888888888888888,
              "#fdca26"
             ],
             [
              1,
              "#f0f921"
             ]
            ],
            "type": "heatmapgl"
           }
          ],
          "histogram": [
           {
            "marker": {
             "pattern": {
              "fillmode": "overlay",
              "size": 10,
              "solidity": 0.2
             }
            },
            "type": "histogram"
           }
          ],
          "histogram2d": [
           {
            "colorbar": {
             "outlinewidth": 0,
             "ticks": ""
            },
            "colorscale": [
             [
              0,
              "#0d0887"
             ],
             [
              0.1111111111111111,
              "#46039f"
             ],
             [
              0.2222222222222222,
              "#7201a8"
             ],
             [
              0.3333333333333333,
              "#9c179e"
             ],
             [
              0.4444444444444444,
              "#bd3786"
             ],
             [
              0.5555555555555556,
              "#d8576b"
             ],
             [
              0.6666666666666666,
              "#ed7953"
             ],
             [
              0.7777777777777778,
              "#fb9f3a"
             ],
             [
              0.8888888888888888,
              "#fdca26"
             ],
             [
              1,
              "#f0f921"
             ]
            ],
            "type": "histogram2d"
           }
          ],
          "histogram2dcontour": [
           {
            "colorbar": {
             "outlinewidth": 0,
             "ticks": ""
            },
            "colorscale": [
             [
              0,
              "#0d0887"
             ],
             [
              0.1111111111111111,
              "#46039f"
             ],
             [
              0.2222222222222222,
              "#7201a8"
             ],
             [
              0.3333333333333333,
              "#9c179e"
             ],
             [
              0.4444444444444444,
              "#bd3786"
             ],
             [
              0.5555555555555556,
              "#d8576b"
             ],
             [
              0.6666666666666666,
              "#ed7953"
             ],
             [
              0.7777777777777778,
              "#fb9f3a"
             ],
             [
              0.8888888888888888,
              "#fdca26"
             ],
             [
              1,
              "#f0f921"
             ]
            ],
            "type": "histogram2dcontour"
           }
          ],
          "mesh3d": [
           {
            "colorbar": {
             "outlinewidth": 0,
             "ticks": ""
            },
            "type": "mesh3d"
           }
          ],
          "parcoords": [
           {
            "line": {
             "colorbar": {
              "outlinewidth": 0,
              "ticks": ""
             }
            },
            "type": "parcoords"
           }
          ],
          "pie": [
           {
            "automargin": true,
            "type": "pie"
           }
          ],
          "scatter": [
           {
            "fillpattern": {
             "fillmode": "overlay",
             "size": 10,
             "solidity": 0.2
            },
            "type": "scatter"
           }
          ],
          "scatter3d": [
           {
            "line": {
             "colorbar": {
              "outlinewidth": 0,
              "ticks": ""
             }
            },
            "marker": {
             "colorbar": {
              "outlinewidth": 0,
              "ticks": ""
             }
            },
            "type": "scatter3d"
           }
          ],
          "scattercarpet": [
           {
            "marker": {
             "colorbar": {
              "outlinewidth": 0,
              "ticks": ""
             }
            },
            "type": "scattercarpet"
           }
          ],
          "scattergeo": [
           {
            "marker": {
             "colorbar": {
              "outlinewidth": 0,
              "ticks": ""
             }
            },
            "type": "scattergeo"
           }
          ],
          "scattergl": [
           {
            "marker": {
             "colorbar": {
              "outlinewidth": 0,
              "ticks": ""
             }
            },
            "type": "scattergl"
           }
          ],
          "scattermapbox": [
           {
            "marker": {
             "colorbar": {
              "outlinewidth": 0,
              "ticks": ""
             }
            },
            "type": "scattermapbox"
           }
          ],
          "scatterpolar": [
           {
            "marker": {
             "colorbar": {
              "outlinewidth": 0,
              "ticks": ""
             }
            },
            "type": "scatterpolar"
           }
          ],
          "scatterpolargl": [
           {
            "marker": {
             "colorbar": {
              "outlinewidth": 0,
              "ticks": ""
             }
            },
            "type": "scatterpolargl"
           }
          ],
          "scatterternary": [
           {
            "marker": {
             "colorbar": {
              "outlinewidth": 0,
              "ticks": ""
             }
            },
            "type": "scatterternary"
           }
          ],
          "surface": [
           {
            "colorbar": {
             "outlinewidth": 0,
             "ticks": ""
            },
            "colorscale": [
             [
              0,
              "#0d0887"
             ],
             [
              0.1111111111111111,
              "#46039f"
             ],
             [
              0.2222222222222222,
              "#7201a8"
             ],
             [
              0.3333333333333333,
              "#9c179e"
             ],
             [
              0.4444444444444444,
              "#bd3786"
             ],
             [
              0.5555555555555556,
              "#d8576b"
             ],
             [
              0.6666666666666666,
              "#ed7953"
             ],
             [
              0.7777777777777778,
              "#fb9f3a"
             ],
             [
              0.8888888888888888,
              "#fdca26"
             ],
             [
              1,
              "#f0f921"
             ]
            ],
            "type": "surface"
           }
          ],
          "table": [
           {
            "cells": {
             "fill": {
              "color": "#EBF0F8"
             },
             "line": {
              "color": "white"
             }
            },
            "header": {
             "fill": {
              "color": "#C8D4E3"
             },
             "line": {
              "color": "white"
             }
            },
            "type": "table"
           }
          ]
         },
         "layout": {
          "annotationdefaults": {
           "arrowcolor": "#2a3f5f",
           "arrowhead": 0,
           "arrowwidth": 1
          },
          "autotypenumbers": "strict",
          "coloraxis": {
           "colorbar": {
            "outlinewidth": 0,
            "ticks": ""
           }
          },
          "colorscale": {
           "diverging": [
            [
             0,
             "#8e0152"
            ],
            [
             0.1,
             "#c51b7d"
            ],
            [
             0.2,
             "#de77ae"
            ],
            [
             0.3,
             "#f1b6da"
            ],
            [
             0.4,
             "#fde0ef"
            ],
            [
             0.5,
             "#f7f7f7"
            ],
            [
             0.6,
             "#e6f5d0"
            ],
            [
             0.7,
             "#b8e186"
            ],
            [
             0.8,
             "#7fbc41"
            ],
            [
             0.9,
             "#4d9221"
            ],
            [
             1,
             "#276419"
            ]
           ],
           "sequential": [
            [
             0,
             "#0d0887"
            ],
            [
             0.1111111111111111,
             "#46039f"
            ],
            [
             0.2222222222222222,
             "#7201a8"
            ],
            [
             0.3333333333333333,
             "#9c179e"
            ],
            [
             0.4444444444444444,
             "#bd3786"
            ],
            [
             0.5555555555555556,
             "#d8576b"
            ],
            [
             0.6666666666666666,
             "#ed7953"
            ],
            [
             0.7777777777777778,
             "#fb9f3a"
            ],
            [
             0.8888888888888888,
             "#fdca26"
            ],
            [
             1,
             "#f0f921"
            ]
           ],
           "sequentialminus": [
            [
             0,
             "#0d0887"
            ],
            [
             0.1111111111111111,
             "#46039f"
            ],
            [
             0.2222222222222222,
             "#7201a8"
            ],
            [
             0.3333333333333333,
             "#9c179e"
            ],
            [
             0.4444444444444444,
             "#bd3786"
            ],
            [
             0.5555555555555556,
             "#d8576b"
            ],
            [
             0.6666666666666666,
             "#ed7953"
            ],
            [
             0.7777777777777778,
             "#fb9f3a"
            ],
            [
             0.8888888888888888,
             "#fdca26"
            ],
            [
             1,
             "#f0f921"
            ]
           ]
          },
          "colorway": [
           "#636efa",
           "#EF553B",
           "#00cc96",
           "#ab63fa",
           "#FFA15A",
           "#19d3f3",
           "#FF6692",
           "#B6E880",
           "#FF97FF",
           "#FECB52"
          ],
          "font": {
           "color": "#2a3f5f"
          },
          "geo": {
           "bgcolor": "white",
           "lakecolor": "white",
           "landcolor": "#E5ECF6",
           "showlakes": true,
           "showland": true,
           "subunitcolor": "white"
          },
          "hoverlabel": {
           "align": "left"
          },
          "hovermode": "closest",
          "mapbox": {
           "style": "light"
          },
          "paper_bgcolor": "white",
          "plot_bgcolor": "#E5ECF6",
          "polar": {
           "angularaxis": {
            "gridcolor": "white",
            "linecolor": "white",
            "ticks": ""
           },
           "bgcolor": "#E5ECF6",
           "radialaxis": {
            "gridcolor": "white",
            "linecolor": "white",
            "ticks": ""
           }
          },
          "scene": {
           "xaxis": {
            "backgroundcolor": "#E5ECF6",
            "gridcolor": "white",
            "gridwidth": 2,
            "linecolor": "white",
            "showbackground": true,
            "ticks": "",
            "zerolinecolor": "white"
           },
           "yaxis": {
            "backgroundcolor": "#E5ECF6",
            "gridcolor": "white",
            "gridwidth": 2,
            "linecolor": "white",
            "showbackground": true,
            "ticks": "",
            "zerolinecolor": "white"
           },
           "zaxis": {
            "backgroundcolor": "#E5ECF6",
            "gridcolor": "white",
            "gridwidth": 2,
            "linecolor": "white",
            "showbackground": true,
            "ticks": "",
            "zerolinecolor": "white"
           }
          },
          "shapedefaults": {
           "line": {
            "color": "#2a3f5f"
           }
          },
          "ternary": {
           "aaxis": {
            "gridcolor": "white",
            "linecolor": "white",
            "ticks": ""
           },
           "baxis": {
            "gridcolor": "white",
            "linecolor": "white",
            "ticks": ""
           },
           "bgcolor": "#E5ECF6",
           "caxis": {
            "gridcolor": "white",
            "linecolor": "white",
            "ticks": ""
           }
          },
          "title": {
           "x": 0.05
          },
          "xaxis": {
           "automargin": true,
           "gridcolor": "white",
           "linecolor": "white",
           "ticks": "",
           "title": {
            "standoff": 15
           },
           "zerolinecolor": "white",
           "zerolinewidth": 2
          },
          "yaxis": {
           "automargin": true,
           "gridcolor": "white",
           "linecolor": "white",
           "ticks": "",
           "title": {
            "standoff": 15
           },
           "zerolinecolor": "white",
           "zerolinewidth": 2
          }
         }
        },
        "title": {
         "text": "Document Distribution by Topics"
        },
        "xaxis": {
         "anchor": "y",
         "autorange": true,
         "domain": [
          0,
          1
         ],
         "range": [
          -0.5,
          3.5
         ],
         "title": {
          "text": "Topic"
         },
         "type": "category"
        },
        "yaxis": {
         "anchor": "x",
         "autorange": true,
         "domain": [
          0,
          1
         ],
         "range": [
          0,
          511.57894736842104
         ],
         "title": {
          "text": "Documents"
         },
         "type": "linear"
        }
       }
      },
      "image/png": "[encoded data removed]",
      "text/html": [
       "<div>                            <div id=\"aab17356-9854-42eb-8d98-ba27dc08a33b\" class=\"plotly-graph-div\" style=\"height:525px; width:100%;\"></div>            <script type=\"text/javascript\">                require([\"plotly\"], function(Plotly) {                    window.PLOTLYENV=window.PLOTLYENV || {};                                    if (document.getElementById(\"aab17356-9854-42eb-8d98-ba27dc08a33b\")) {                    Plotly.newPlot(                        \"aab17356-9854-42eb-8d98-ba27dc08a33b\",                        [{\"alignmentgroup\":\"True\",\"customdata\":[[\"product, work, husband, help, use, family, home, start, well, hope\"],[\"rice, group, farmer, farm, small, use, area, land, crop, grow\"],[\"group, pay, member, help, family, steer, come, market, increase, well\"],[\"family, stock, work, start, request, use, increase, marry, expand, pay\"]],\"hovertemplate\":\"Topic=%{x}<br>Documents=%{y}<br>Keyword=%{customdata[0]}<extra></extra>\",\"legendgroup\":\"\",\"marker\":{\"color\":\"#636efa\",\"pattern\":{\"shape\":\"\"}},\"name\":\"\",\"offsetgroup\":\"\",\"orientation\":\"v\",\"showlegend\":false,\"textposition\":\"auto\",\"x\":[\"Topic 0\",\"Topic 1\",\"Topic 2\",\"Topic 3\"],\"xaxis\":\"x\",\"y\":[486,71,77,366],\"yaxis\":\"y\",\"type\":\"bar\"}],                        {\"template\":{\"data\":{\"histogram2dcontour\":[{\"type\":\"histogram2dcontour\",\"colorbar\":{\"outlinewidth\":0,\"ticks\":\"\"},\"colorscale\":[[0.0,\"#0d0887\"],[0.1111111111111111,\"#46039f\"],[0.2222222222222222,\"#7201a8\"],[0.3333333333333333,\"#9c179e\"],[0.4444444444444444,\"#bd3786\"],[0.5555555555555556,\"#d8576b\"],[0.6666666666666666,\"#ed7953\"],[0.7777777777777778,\"#fb9f3a\"],[0.8888888888888888,\"#fdca26\"],[1.0,\"#f0f921\"]]}],\"choropleth\":[{\"type\":\"choropleth\",\"colorbar\":{\"outlinewidth\":0,\"ticks\":\"\"}}],\"histogram2d\":[{\"type\":\"histogram2d\",\"colorbar\":{\"outlinewidth\":0,\"ticks\":\"\"},\"colorscale\":[[0.0,\"#0d0887\"],[0.1111111111111111,\"#46039f\"],[0.2222222222222222,\"#7201a8\"],[0.3333333333333333,\"#9c179e\"],[0.4444444444444444,\"#bd3786\"],[0.5555555555555556,\"#d8576b\"],[0.6666666666666666,\"#ed7953\"],[0.7777777777777778,\"#fb9f3a\"],[0.8888888888888888,\"#fdca26\"],[1.0,\"#f0f921\"]]}],\"heatmap\":[{\"type\":\"heatmap\",\"colorbar\":{\"outlinewidth\":0,\"ticks\":\"\"},\"colorscale\":[[0.0,\"#0d0887\"],[0.1111111111111111,\"#46039f\"],[0.2222222222222222,\"#7201a8\"],[0.3333333333333333,\"#9c179e\"],[0.4444444444444444,\"#bd3786\"],[0.5555555555555556,\"#d8576b\"],[0.6666666666666666,\"#ed7953\"],[0.7777777777777778,\"#fb9f3a\"],[0.8888888888888888,\"#fdca26\"],[1.0,\"#f0f921\"]]}],\"heatmapgl\":[{\"type\":\"heatmapgl\",\"colorbar\":{\"outlinewidth\":0,\"ticks\":\"\"},\"colorscale\":[[0.0,\"#0d0887\"],[0.1111111111111111,\"#46039f\"],[0.2222222222222222,\"#7201a8\"],[0.3333333333333333,\"#9c179e\"],[0.4444444444444444,\"#bd3786\"],[0.5555555555555556,\"#d8576b\"],[0.6666666666666666,\"#ed7953\"],[0.7777777777777778,\"#fb9f3a\"],[0.8888888888888888,\"#fdca26\"],[1.0,\"#f0f921\"]]}],\"contourcarpet\":[{\"type\":\"contourcarpet\",\"colorbar\":{\"outlinewidth\":0,\"ticks\":\"\"}}],\"contour\":[{\"type\":\"contour\",\"colorbar\":{\"outlinewidth\":0,\"ticks\":\"\"},\"colorscale\":[[0.0,\"#0d0887\"],[0.1111111111111111,\"#46039f\"],[0.2222222222222222,\"#7201a8\"],[0.3333333333333333,\"#9c179e\"],[0.4444444444444444,\"#bd3786\"],[0.5555555555555556,\"#d8576b\"],[0.6666666666666666,\"#ed7953\"],[0.7777777777777778,\"#fb9f3a\"],[0.8888888888888888,\"#fdca26\"],[1.0,\"#f0f921\"]]}],\"surface\":[{\"type\":\"surface\",\"colorbar\":{\"outlinewidth\":0,\"ticks\":\"\"},\"colorscale\":[[0.0,\"#0d0887\"],[0.1111111111111111,\"#46039f\"],[0.2222222222222222,\"#7201a8\"],[0.3333333333333333,\"#9c179e\"],[0.4444444444444444,\"#bd3786\"],[0.5555555555555556,\"#d8576b\"],[0.6666666666666666,\"#ed7953\"],[0.7777777777777778,\"#fb9f3a\"],[0.8888888888888888,\"#fdca26\"],[1.0,\"#f0f921\"]]}],\"mesh3d\":[{\"type\":\"mesh3d\",\"colorbar\":{\"outlinewidth\":0,\"ticks\":\"\"}}],\"scatter\":[{\"fillpattern\":{\"fillmode\":\"overlay\",\"size\":10,\"solidity\":0.2},\"type\":\"scatter\"}],\"parcoords\":[{\"type\":\"parcoords\",\"line\":{\"colorbar\":{\"outlinewidth\":0,\"ticks\":\"\"}}}],\"scatterpolargl\":[{\"type\":\"scatterpolargl\",\"marker\":{\"colorbar\":{\"outlinewidth\":0,\"ticks\":\"\"}}}],\"bar\":[{\"error_x\":{\"color\":\"#2a3f5f\"},\"error_y\":{\"color\":\"#2a3f5f\"},\"marker\":{\"line\":{\"color\":\"#E5ECF6\",\"width\":0.5},\"pattern\":{\"fillmode\":\"overlay\",\"size\":10,\"solidity\":0.2}},\"type\":\"bar\"}],\"scattergeo\":[{\"type\":\"scattergeo\",\"marker\":{\"colorbar\":{\"outlinewidth\":0,\"ticks\":\"\"}}}],\"scatterpolar\":[{\"type\":\"scatterpolar\",\"marker\":{\"colorbar\":{\"outlinewidth\":0,\"ticks\":\"\"}}}],\"histogram\":[{\"marker\":{\"pattern\":{\"fillmode\":\"overlay\",\"size\":10,\"solidity\":0.2}},\"type\":\"histogram\"}],\"scattergl\":[{\"type\":\"scattergl\",\"marker\":{\"colorbar\":{\"outlinewidth\":0,\"ticks\":\"\"}}}],\"scatter3d\":[{\"type\":\"scatter3d\",\"line\":{\"colorbar\":{\"outlinewidth\":0,\"ticks\":\"\"}},\"marker\":{\"colorbar\":{\"outlinewidth\":0,\"ticks\":\"\"}}}],\"scattermapbox\":[{\"type\":\"scattermapbox\",\"marker\":{\"colorbar\":{\"outlinewidth\":0,\"ticks\":\"\"}}}],\"scatterternary\":[{\"type\":\"scatterternary\",\"marker\":{\"colorbar\":{\"outlinewidth\":0,\"ticks\":\"\"}}}],\"scattercarpet\":[{\"type\":\"scattercarpet\",\"marker\":{\"colorbar\":{\"outlinewidth\":0,\"ticks\":\"\"}}}],\"carpet\":[{\"aaxis\":{\"endlinecolor\":\"#2a3f5f\",\"gridcolor\":\"white\",\"linecolor\":\"white\",\"minorgridcolor\":\"white\",\"startlinecolor\":\"#2a3f5f\"},\"baxis\":{\"endlinecolor\":\"#2a3f5f\",\"gridcolor\":\"white\",\"linecolor\":\"white\",\"minorgridcolor\":\"white\",\"startlinecolor\":\"#2a3f5f\"},\"type\":\"carpet\"}],\"table\":[{\"cells\":{\"fill\":{\"color\":\"#EBF0F8\"},\"line\":{\"color\":\"white\"}},\"header\":{\"fill\":{\"color\":\"#C8D4E3\"},\"line\":{\"color\":\"white\"}},\"type\":\"table\"}],\"barpolar\":[{\"marker\":{\"line\":{\"color\":\"#E5ECF6\",\"width\":0.5},\"pattern\":{\"fillmode\":\"overlay\",\"size\":10,\"solidity\":0.2}},\"type\":\"barpolar\"}],\"pie\":[{\"automargin\":true,\"type\":\"pie\"}]},\"layout\":{\"autotypenumbers\":\"strict\",\"colorway\":[\"#636efa\",\"#EF553B\",\"#00cc96\",\"#ab63fa\",\"#FFA15A\",\"#19d3f3\",\"#FF6692\",\"#B6E880\",\"#FF97FF\",\"#FECB52\"],\"font\":{\"color\":\"#2a3f5f\"},\"hovermode\":\"closest\",\"hoverlabel\":{\"align\":\"left\"},\"paper_bgcolor\":\"white\",\"plot_bgcolor\":\"#E5ECF6\",\"polar\":{\"bgcolor\":\"#E5ECF6\",\"angularaxis\":{\"gridcolor\":\"white\",\"linecolor\":\"white\",\"ticks\":\"\"},\"radialaxis\":{\"gridcolor\":\"white\",\"linecolor\":\"white\",\"ticks\":\"\"}},\"ternary\":{\"bgcolor\":\"#E5ECF6\",\"aaxis\":{\"gridcolor\":\"white\",\"linecolor\":\"white\",\"ticks\":\"\"},\"baxis\":{\"gridcolor\":\"white\",\"linecolor\":\"white\",\"ticks\":\"\"},\"caxis\":{\"gridcolor\":\"white\",\"linecolor\":\"white\",\"ticks\":\"\"}},\"coloraxis\":{\"colorbar\":{\"outlinewidth\":0,\"ticks\":\"\"}},\"colorscale\":{\"sequential\":[[0.0,\"#0d0887\"],[0.1111111111111111,\"#46039f\"],[0.2222222222222222,\"#7201a8\"],[0.3333333333333333,\"#9c179e\"],[0.4444444444444444,\"#bd3786\"],[0.5555555555555556,\"#d8576b\"],[0.6666666666666666,\"#ed7953\"],[0.7777777777777778,\"#fb9f3a\"],[0.8888888888888888,\"#fdca26\"],[1.0,\"#f0f921\"]],\"sequentialminus\":[[0.0,\"#0d0887\"],[0.1111111111111111,\"#46039f\"],[0.2222222222222222,\"#7201a8\"],[0.3333333333333333,\"#9c179e\"],[0.4444444444444444,\"#bd3786\"],[0.5555555555555556,\"#d8576b\"],[0.6666666666666666,\"#ed7953\"],[0.7777777777777778,\"#fb9f3a\"],[0.8888888888888888,\"#fdca26\"],[1.0,\"#f0f921\"]],\"diverging\":[[0,\"#8e0152\"],[0.1,\"#c51b7d\"],[0.2,\"#de77ae\"],[0.3,\"#f1b6da\"],[0.4,\"#fde0ef\"],[0.5,\"#f7f7f7\"],[0.6,\"#e6f5d0\"],[0.7,\"#b8e186\"],[0.8,\"#7fbc41\"],[0.9,\"#4d9221\"],[1,\"#276419\"]]},\"xaxis\":{\"gridcolor\":\"white\",\"linecolor\":\"white\",\"ticks\":\"\",\"title\":{\"standoff\":15},\"zerolinecolor\":\"white\",\"automargin\":true,\"zerolinewidth\":2},\"yaxis\":{\"gridcolor\":\"white\",\"linecolor\":\"white\",\"ticks\":\"\",\"title\":{\"standoff\":15},\"zerolinecolor\":\"white\",\"automargin\":true,\"zerolinewidth\":2},\"scene\":{\"xaxis\":{\"backgroundcolor\":\"#E5ECF6\",\"gridcolor\":\"white\",\"linecolor\":\"white\",\"showbackground\":true,\"ticks\":\"\",\"zerolinecolor\":\"white\",\"gridwidth\":2},\"yaxis\":{\"backgroundcolor\":\"#E5ECF6\",\"gridcolor\":\"white\",\"linecolor\":\"white\",\"showbackground\":true,\"ticks\":\"\",\"zerolinecolor\":\"white\",\"gridwidth\":2},\"zaxis\":{\"backgroundcolor\":\"#E5ECF6\",\"gridcolor\":\"white\",\"linecolor\":\"white\",\"showbackground\":true,\"ticks\":\"\",\"zerolinecolor\":\"white\",\"gridwidth\":2}},\"shapedefaults\":{\"line\":{\"color\":\"#2a3f5f\"}},\"annotationdefaults\":{\"arrowcolor\":\"#2a3f5f\",\"arrowhead\":0,\"arrowwidth\":1},\"geo\":{\"bgcolor\":\"white\",\"landcolor\":\"#E5ECF6\",\"subunitcolor\":\"white\",\"showland\":true,\"showlakes\":true,\"lakecolor\":\"white\"},\"title\":{\"x\":0.05},\"mapbox\":{\"style\":\"light\"}}},\"xaxis\":{\"anchor\":\"y\",\"domain\":[0.0,1.0],\"title\":{\"text\":\"Topic\"}},\"yaxis\":{\"anchor\":\"x\",\"domain\":[0.0,1.0],\"title\":{\"text\":\"Documents\"}},\"legend\":{\"tracegroupgap\":0},\"title\":{\"text\":\"Document Distribution by Topics\"},\"barmode\":\"relative\"},                        {\"responsive\": true}                    ).then(function(){\n",
       "                            \n",
       "var gd = document.getElementById('aab17356-9854-42eb-8d98-ba27dc08a33b');\n",
       "var x = new MutationObserver(function (mutations, observer) {{\n",
       "        var display = window.getComputedStyle(gd).display;\n",
       "        if (!display || display === 'none') {{\n",
       "            console.log([gd, 'removed!']);\n",
       "            Plotly.purge(gd);\n",
       "            observer.disconnect();\n",
       "        }}\n",
       "}});\n",
       "\n",
       "// Listen for the removal of the full notebook cells\n",
       "var notebookContainer = gd.closest('#notebook-container');\n",
       "if (notebookContainer) {{\n",
       "    x.observe(notebookContainer, {childList: true});\n",
       "}}\n",
       "\n",
       "// Listen for the clearing of the current output cell\n",
       "var outputEl = gd.closest('.output');\n",
       "if (outputEl) {{\n",
       "    x.observe(outputEl, {childList: true});\n",
       "}}\n",
       "\n",
       "                        })                };                });            </script>        </div>"
      ]
     },
     "metadata": {},
     "output_type": "display_data"
    }
   ],
   "source": [
    "plot_model(lda, plot = 'topic_distribution')"
   ]
  },
  {
   "cell_type": "code",
   "execution_count": 26,
   "id": "ef375231",
   "metadata": {
    "scrolled": true
   },
   "outputs": [
    {
     "data": {
      "text/html": [
       "        <script type=\"text/javascript\">\n",
       "        window.PlotlyConfig = {MathJaxConfig: 'local'};\n",
       "        if (window.MathJax) {MathJax.Hub.Config({SVG: {font: \"STIX-Web\"}});}\n",
       "        if (typeof require !== 'undefined') {\n",
       "        require.undef(\"plotly\");\n",
       "        requirejs.config({\n",
       "            paths: {\n",
       "                'plotly': ['https://cdn.plot.ly/plotly-2.11.1.min']\n",
       "            }\n",
       "        });\n",
       "        require(['plotly'], function(Plotly) {\n",
       "            window._Plotly = Plotly;\n",
       "        });\n",
       "        }\n",
       "        </script>\n",
       "        "
      ]
     },
     "metadata": {},
     "output_type": "display_data"
    },
    {
     "data": {
      "application/vnd.plotly.v1+json": {
       "config": {
        "plotlyServerURL": "https://plot.ly"
       },
       "data": [
        {
         "hovertemplate": "Dominant_Topic=Topic 0<br>0=%{x}<br>1=%{y}<br>2=%{z}<extra></extra>",
         "legendgroup": "Topic 0",
         "marker": {
          "color": "#636efa",
          "opacity": 0.7,
          "symbol": "circle"
         },
         "mode": "markers",
         "name": "Topic 0",
         "scene": "scene",
         "showlegend": true,
         "type": "scatter3d",
         "x": [
          -7.360997200012207,
          -5.227132797241211,
          -9.370298385620117,
          -6.463721752166748,
          -5.555416107177734,
          -11.052780151367188,
          -5.715683460235596,
          0.8201280832290649,
          -2.941176176071167,
          -8.461773872375488,
          -12.503454208374023,
          0.3666841983795166,
          -5.577800750732422,
          -6.882870674133301,
          -10.103124618530273,
          -1.8484915494918823,
          -6.796497344970703,
          -6.731307029724121,
          -8.714377403259277,
          5.711419105529785,
          -6.62446928024292,
          -8.113619804382324,
          -3.5901074409484863,
          -4.02788782119751,
          -9.099874496459961,
          -4.501457691192627,
          -5.033721923828125,
          -13.49322509765625,
          8.157929420471191,
          -1.0244356393814087,
          -1.7299920320510864,
          -2.9461145401000977,
          -11.569867134094238,
          -9.829411506652832,
          -14.77200984954834,
          -6.187802791595459,
          -9.77661418914795,
          -12.418329238891602,
          -4.780359268188477,
          10.042789459228516,
          -10.640728950500488,
          -15.475653648376465,
          -15.425886154174805,
          -14.9042387008667,
          -10.304093360900879,
          2.8382856845855713,
          -2.690906047821045,
          2.3637044429779053,
          -7.317899703979492,
          7.552989959716797,
          -15.353225708007812,
          -15.22618579864502,
          -15.230472564697266,
          -7.7081499099731445,
          -9.287056922912598,
          -14.054386138916016,
          -8.93055534362793,
          -5.582881927490234,
          -12.496971130371094,
          -8.650334358215332,
          -5.624680995941162,
          5.553400993347168,
          -9.553138732910156,
          9.273433685302734,
          -14.995201110839844,
          -6.659007549285889,
          -14.544217109680176,
          -8.124336242675781,
          -10.761014938354492,
          -3.456890821456909,
          -2.1388282775878906,
          -2.816500425338745,
          -6.563628196716309,
          -3.1603472232818604,
          -8.558012008666992,
          -13.464865684509277,
          1.5657498836517334,
          -11.970142364501953,
          -15.337754249572754,
          2.3058884143829346,
          -10.521324157714844,
          5.865553855895996,
          -4.205753803253174,
          6.131533145904541,
          -6.126957416534424,
          -15.384342193603516,
          9.368000984191895,
          3.2663393020629883,
          5.944246768951416,
          -13.740209579467773,
          -14.338761329650879,
          -0.03627422824501991,
          -15.378985404968262,
          -10.08572769165039,
          7.563824653625488,
          -6.185633659362793,
          -7.007630825042725,
          -1.1094310283660889,
          -15.034364700317383,
          -10.341896057128906,
          1.1224840879440308,
          -5.706401824951172,
          9.791422843933105,
          -13.01520824432373,
          -7.170982837677002,
          -10.666289329528809,
          6.222340106964111,
          -1.2285618782043457,
          -1.5788768529891968,
          -4.594082355499268,
          -15.344147682189941,
          -8.075685501098633,
          -5.661130905151367,
          0.6613045930862427,
          -5.053979396820068,
          -5.3436055183410645,
          8.361055374145508,
          -10.908020973205566,
          8.155866622924805,
          9.246088981628418,
          -2.828376531600952,
          -15.381193161010742,
          -6.536453723907471,
          2.95793080329895,
          -15.38459300994873,
          -10.837248802185059,
          -6.113074779510498,
          -4.647349834442139,
          3.6957945823669434,
          -0.2762164771556854,
          -14.427837371826172,
          -0.3237335681915283,
          -5.8743767738342285,
          -10.260466575622559,
          -2.3655238151550293,
          -8.32967472076416,
          -8.258149147033691,
          -14.295656204223633,
          -1.3765079975128174,
          -14.506293296813965,
          -15.096548080444336,
          -11.163934707641602,
          -10.03376293182373,
          -7.629405975341797,
          -7.566283226013184,
          -7.171447277069092,
          -7.823256969451904,
          1.1565500497817993,
          -14.295105934143066,
          -14.525071144104004,
          -6.836685657501221,
          -1.8494099378585815,
          -14.068038940429688,
          -11.553959846496582,
          -9.141474723815918,
          -2.9176416397094727,
          5.17758846282959,
          -3.5424256324768066,
          -13.120624542236328,
          -4.278676509857178,
          -3.5615997314453125,
          -11.322491645812988,
          -6.882305145263672,
          6.229978561401367,
          -1.2014085054397583,
          -8.838476181030273,
          -6.436948299407959,
          1.5536741018295288,
          -13.28059196472168,
          -6.710973262786865,
          -7.226233959197998,
          -8.041162490844727,
          -15.088068008422852,
          -6.083989143371582,
          -15.075474739074707,
          0.3306284248828888,
          -4.473945140838623,
          -7.378253936767578,
          -5.136477470397949,
          -14.559553146362305,
          4.775900840759277,
          9.207955360412598,
          -5.918796062469482,
          -10.239048957824707,
          -9.921250343322754,
          -0.6819164752960205,
          -10.261460304260254,
          8.163215637207031,
          -12.735296249389648,
          2.952775239944458,
          -9.415523529052734,
          -7.2795257568359375,
          7.885864734649658,
          -6.37676477432251,
          -8.465185165405273,
          -2.2111263275146484,
          2.065310478210449,
          -12.774045944213867,
          -11.952153205871582,
          10.1476411819458,
          -8.432565689086914,
          -5.753447532653809,
          -10.267803192138672,
          -5.501323223114014,
          -3.932487964630127,
          -8.505393981933594,
          -4.758886337280273,
          -12.854520797729492,
          -12.189265251159668,
          1.9934418201446533,
          -6.240407466888428,
          -12.27325439453125,
          6.5356764793396,
          -6.212161064147949,
          7.694804668426514,
          -14.954031944274902,
          -9.857020378112793,
          -5.766762733459473,
          -10.401176452636719,
          5.129890441894531,
          -12.729643821716309,
          8.0756196975708,
          -7.758912086486816,
          -8.330741882324219,
          -6.594937324523926,
          -4.063077926635742,
          -5.693075656890869,
          -6.475654125213623,
          -4.518188953399658,
          -5.126073360443115,
          -6.485681533813477,
          -15.373867988586426,
          -12.785199165344238,
          0.39171653985977173,
          0.7844087481498718,
          -4.5444769859313965,
          -1.7005772590637207,
          9.659541130065918,
          -9.700929641723633,
          6.323540687561035,
          -9.208879470825195,
          4.0943427085876465,
          -5.692924976348877,
          8.6571044921875,
          -5.930092811584473,
          -15.370370864868164,
          -10.948909759521484,
          -4.494305610656738,
          -6.417625904083252,
          -5.68729305267334,
          -10.180975914001465,
          10.074739456176758,
          -9.321334838867188,
          -8.03635311126709,
          -7.62161922454834,
          -8.39948844909668,
          -7.816205024719238,
          -7.767953395843506,
          -12.907988548278809,
          -2.5901100635528564,
          -7.137786388397217,
          -5.871682167053223,
          -6.790793418884277,
          -14.112093925476074,
          -6.367076396942139,
          -4.007237434387207,
          1.968645691871643,
          -11.084778785705566,
          -7.757681369781494,
          6.631009101867676,
          -9.130210876464844,
          0.41530272364616394,
          -4.865900039672852,
          -9.603843688964844,
          -6.490078449249268,
          -15.18906021118164,
          -8.911401748657227,
          -0.17741988599300385,
          9.747262954711914,
          -6.308778285980225,
          -9.864192008972168,
          -14.206844329833984,
          -6.764933109283447,
          0.20612399280071259,
          0.5812749266624451,
          9.597335815429688,
          -6.127455711364746,
          -10.71144962310791,
          -9.467309951782227,
          6.872807025909424,
          -1.5217456817626953,
          3.438234567642212,
          5.608835220336914,
          -8.072160720825195,
          -11.881523132324219,
          3.4237606525421143,
          -13.285602569580078,
          -2.5826172828674316,
          -6.034625053405762,
          -7.422635078430176,
          -13.401987075805664,
          -6.950042247772217,
          -13.876801490783691,
          9.007493019104004,
          -10.460525512695312,
          -7.153034687042236,
          -4.615667819976807,
          -9.813638687133789,
          -5.113426208496094,
          7.347179889678955,
          -4.967239856719971,
          -8.75517749786377,
          -4.015069961547852,
          -10.266802787780762,
          -6.246829986572266,
          -5.911156177520752,
          -11.545432090759277,
          -11.256498336791992,
          -8.701922416687012,
          -13.23023509979248,
          -11.427006721496582,
          -6.195387363433838,
          1.4550071954727173,
          -13.339573860168457,
          -11.389993667602539,
          -14.718877792358398,
          -9.469403266906738,
          -10.607768058776855,
          -14.803177833557129,
          -4.704268932342529,
          -7.258232593536377,
          -9.306478500366211,
          -6.269250869750977,
          -11.250337600708008,
          -9.103301048278809,
          -9.425299644470215,
          -14.770950317382812,
          -9.185615539550781,
          -8.333320617675781,
          -10.367535591125488,
          -14.315559387207031,
          -5.296877861022949,
          -2.7423319816589355,
          10.010750770568848,
          -14.784483909606934,
          -4.612845420837402,
          -12.156144142150879,
          -6.340842247009277,
          -2.0690300464630127,
          -11.049158096313477,
          -11.392030715942383,
          -15.18451976776123,
          -1.9328891038894653,
          -14.277523040771484,
          -1.1181343793869019,
          -10.107770919799805,
          -6.73448371887207,
          -6.440195083618164,
          -13.485501289367676,
          1.857716679573059,
          -14.275390625,
          -10.67795467376709,
          6.145467758178711,
          -3.4576570987701416,
          4.533832550048828,
          9.866316795349121,
          9.196670532226562,
          -10.559929847717285,
          7.910658836364746,
          -11.072196960449219,
          -7.269601345062256,
          9.60222053527832,
          -5.002157688140869,
          -5.435990333557129,
          -10.057513236999512,
          -4.483754634857178,
          -5.323153018951416,
          -6.877925395965576,
          -15.341724395751953,
          -4.956516742706299,
          -1.1158943176269531,
          -9.618818283081055,
          -1.6042931079864502,
          -9.254530906677246,
          -1.3769773244857788,
          -9.726540565490723,
          -7.326005935668945,
          -10.003470420837402,
          -2.9872360229492188,
          -10.312137603759766,
          -11.078782081604004,
          -4.685441970825195,
          -12.4017333984375,
          -7.364621162414551,
          -14.253631591796875,
          -11.380623817443848,
          7.617379188537598,
          -15.281342506408691,
          -12.37295150756836,
          -7.952908515930176,
          -6.025667667388916,
          -4.0257697105407715,
          -14.652690887451172,
          -7.626984596252441,
          -9.650323867797852,
          -6.322543621063232,
          -2.6293487548828125,
          -10.311534881591797,
          -7.597078323364258,
          -4.750386714935303,
          4.460249900817871,
          -14.490959167480469,
          -5.202182769775391,
          -15.22088623046875,
          -8.573343276977539,
          -6.2640180587768555,
          -1.9240992069244385,
          -8.631815910339355,
          -1.3497425317764282,
          -15.423563003540039,
          1.4177427291870117,
          -8.270031929016113,
          -6.5972442626953125,
          -3.523399829864502,
          -1.5534443855285645,
          -9.700348854064941,
          -14.372045516967773,
          -13.731236457824707,
          -12.729742050170898,
          -9.540597915649414,
          -1.5333352088928223,
          -1.7313947677612305,
          3.727509021759033,
          -5.191056728363037,
          -15.309464454650879,
          -0.8145883679389954,
          -13.229775428771973,
          -9.914935111999512,
          -7.744339466094971,
          -6.330874443054199,
          -12.003198623657227,
          -1.514245629310608,
          0.9602499604225159,
          -7.774411678314209,
          -7.664152145385742,
          -6.0457305908203125,
          -2.3033905029296875,
          -4.257240295410156,
          -13.753342628479004,
          -2.482846260070801,
          7.085705280303955,
          -4.371942043304443,
          -11.74179744720459,
          -5.313817024230957,
          -14.400146484375,
          -8.789312362670898,
          -8.792325973510742,
          -11.748190879821777,
          -10.59797477722168,
          -11.086217880249023,
          -1.9824970960617065,
          -2.0310676097869873,
          -2.3492608070373535,
          -14.517977714538574,
          -14.611228942871094,
          2.8511545658111572,
          7.081729888916016,
          -9.478010177612305,
          -11.138626098632812,
          -4.374598503112793,
          3.442028522491455,
          -7.616147041320801,
          -8.81063461303711,
          1.2641003131866455,
          -14.291295051574707,
          -10.185042381286621,
          -5.781908988952637,
          -5.181901454925537,
          -0.9758663177490234,
          -11.269457817077637,
          -10.278707504272461,
          -2.7730822563171387,
          -1.6123616695404053,
          -8.0870361328125,
          -14.939871788024902,
          -14.524242401123047
         ],
         "y": [
          -7.178135395050049,
          6.855713844299316,
          -0.0884954109787941,
          6.08330774307251,
          3.5888490676879883,
          -1.3956454992294312,
          -7.290401458740234,
          -10.978830337524414,
          -9.531153678894043,
          0.9139674305915833,
          -3.919539213180542,
          -10.829751968383789,
          3.994292974472046,
          5.661495208740234,
          -1.0286251306533813,
          3.955392360687256,
          2.382218360900879,
          2.255880117416382,
          1.2065998315811157,
          -12.782772064208984,
          5.842787742614746,
          1.506881594657898,
          3.976558208465576,
          7.869907855987549,
          -6.1696906089782715,
          -8.628122329711914,
          -8.541167259216309,
          -2.98075532913208,
          -13.759592056274414,
          3.76471209526062,
          -9.889758110046387,
          4.045959949493408,
          -4.583404064178467,
          3.2760846614837646,
          0.6302879452705383,
          2.5429608821868896,
          -5.899289131164551,
          -3.888758420944214,
          3.7463042736053467,
          -14.596885681152344,
          -1.389136552810669,
          -0.3724544048309326,
          -1.489135980606079,
          -1.5152274370193481,
          -1.2458993196487427,
          -11.736422538757324,
          4.047371864318848,
          -11.543684005737305,
          2.362699031829834,
          -13.507667541503906,
          -0.4897315800189972,
          -0.8860927820205688,
          0.18838275969028473,
          1.7338167428970337,
          3.6645078659057617,
          1.5602000951766968,
          -6.265322685241699,
          6.59076452255249,
          -3.6719038486480713,
          1.9010071754455566,
          2.8280580043792725,
          -12.722044944763184,
          -5.922755241394043,
          -14.19176197052002,
          -1.4500582218170166,
          5.8051533699035645,
          -1.9141154289245605,
          4.715539455413818,
          -0.7604772448539734,
          3.987715482711792,
          -9.90690803527832,
          -9.608922004699707,
          6.1421685218811035,
          -9.42230224609375,
          1.2903200387954712,
          -3.0165209770202637,
          -11.41822338104248,
          -0.15094278752803802,
          0.00955499429255724,
          -11.558389663696289,
          -1.1754499673843384,
          -12.840044975280762,
          -9.023321151733398,
          -12.880517959594727,
          -7.767827987670898,
          -1.5673209428787231,
          -14.22802448272705,
          -11.897506713867188,
          -12.869242668151855,
          -2.77498459815979,
          -1.3045892715454102,
          -10.743111610412598,
          -0.32644855976104736,
          -5.6446051597595215,
          -13.47452163696289,
          3.100306510925293,
          -8.386693954467773,
          -10.321366310119629,
          -1.2638453245162964,
          -5.589317798614502,
          -11.09309196472168,
          3.3605432510375977,
          -14.437668800354004,
          -3.4186224937438965,
          2.2712554931640625,
          -0.8318638801574707,
          -12.98291301727295,
          3.809474468231201,
          -10.043736457824707,
          3.1288421154022217,
          -0.524702787399292,
          -6.840073108673096,
          3.459343433380127,
          -10.903079986572266,
          6.991072654724121,
          -9.239953994750977,
          -13.811779022216797,
          -5.063473224639893,
          -13.737374305725098,
          -14.17977523803711,
          4.037430763244629,
          -0.23814743757247925,
          2.8616158962249756,
          -11.771673202514648,
          -0.07897892594337463,
          -1.4316221475601196,
          -7.482159614562988,
          3.125058174133301,
          -11.898675918579102,
          4.9526686668396,
          -2.11543869972229,
          5.088192939758301,
          6.462794780731201,
          -5.408472061157227,
          4.039645195007324,
          4.545207977294922,
          1.1362762451171875,
          -1.2875674962997437,
          3.858572244644165,
          0.7610207200050354,
          -1.1470621824264526,
          -1.317864179611206,
          -0.5336315631866455,
          5.112900733947754,
          1.8808561563491821,
          2.2673416137695312,
          4.959219455718994,
          -11.137775421142578,
          -2.1554691791534424,
          0.7527210712432861,
          2.5810320377349854,
          -10.05130672454834,
          1.5687285661697388,
          -4.597075462341309,
          3.032457113265991,
          4.030385494232178,
          -12.577078819274902,
          -9.236878395080566,
          -3.7876830101013184,
          3.8478779792785645,
          -9.228279113769531,
          0.014165244065225124,
          2.276174783706665,
          -12.984819412231445,
          -10.303383827209473,
          2.9692375659942627,
          2.541764736175537,
          -11.452668190002441,
          0.6640369892120361,
          -7.481725692749023,
          2.2198522090911865,
          1.5389065742492676,
          -1.160293698310852,
          -7.845892906188965,
          -1.4798753261566162,
          -10.870123863220215,
          -8.94392204284668,
          -7.197235584259033,
          3.7075796127319336,
          -1.9619008302688599,
          -12.429491996765137,
          -14.147128105163574,
          3.206787347793579,
          -5.426454544067383,
          -5.498076438903809,
          4.371767520904541,
          -0.5958378911018372,
          -13.737272262573242,
          -3.4225480556488037,
          -11.778660774230957,
          0.8030559420585632,
          1.9615681171417236,
          -13.547626495361328,
          2.450338363647461,
          1.359365701675415,
          -9.828847885131836,
          -11.458771705627441,
          -3.4732816219329834,
          -0.18230123817920685,
          -14.6790189743042,
          4.383365154266357,
          6.4664225578308105,
          -0.7764033675193787,
          6.657327651977539,
          -9.03331184387207,
          -6.521856307983398,
          -8.599034309387207,
          -3.3969807624816895,
          0.2854117453098297,
          -11.45523452758789,
          3.0632402896881104,
          -4.042579650878906,
          -13.093775749206543,
          6.1436262130737305,
          -13.600728988647461,
          -1.3899296522140503,
          0.5746157765388489,
          -8.033504486083984,
          -5.5304412841796875,
          -12.561297416687012,
          -3.721470832824707,
          -13.692000389099121,
          -7.016922950744629,
          1.4070794582366943,
          5.859801769256592,
          -8.987201690673828,
          3.3777174949645996,
          2.4815077781677246,
          -8.665191650390625,
          6.937889575958252,
          5.9454731941223145,
          -0.06672044843435287,
          -3.889281749725342,
          -10.879227638244629,
          -11.114192008972168,
          7.402847766876221,
          -10.111482620239258,
          -14.36139965057373,
          0.6510277986526489,
          -13.015379905700684,
          3.791100025177002,
          -12.182687759399414,
          -7.979041576385498,
          -13.92638874053955,
          -7.9560933113098145,
          -0.017589803785085678,
          2.6346518993377686,
          7.446850776672363,
          5.183191299438477,
          6.590409755706787,
          -1.1363298892974854,
          -14.618481636047363,
          0.8616739511489868,
          -6.773287296295166,
          1.8400276899337769,
          1.3787444829940796,
          -6.871261119842529,
          4.996622085571289,
          -3.737004041671753,
          -9.788046836853027,
          2.0260257720947266,
          3.3642385005950928,
          5.735544204711914,
          -2.6245224475860596,
          2.4540228843688965,
          7.886471748352051,
          -11.241459846496582,
          -1.299601435661316,
          1.6822497844696045,
          -13.131387710571289,
          3.7986905574798584,
          -10.906646728515625,
          -8.612780570983887,
          -0.3342258632183075,
          2.872389793395996,
          -0.9779720306396484,
          1.095737099647522,
          -10.691689491271973,
          -14.412896156311035,
          -7.582085609436035,
          -5.73956298828125,
          -1.2809978723526,
          2.632331609725952,
          -10.861686706542969,
          -10.963396072387695,
          -14.328065872192383,
          3.809455633163452,
          -0.929561197757721,
          -0.1855970174074173,
          -13.220354080200195,
          -10.229019165039062,
          -11.945219039916992,
          -12.742695808410645,
          1.531355857849121,
          -4.318757057189941,
          -11.950766563415527,
          -3.1688232421875,
          4.0376482009887695,
          -7.897666931152344,
          -7.143836498260498,
          0.6959059238433838,
          5.624423503875732,
          0.7643817067146301,
          -14.084229469299316,
          -5.3242340087890625,
          -7.137455463409424,
          -8.728229522705078,
          -0.7456850409507751,
          -8.207108497619629,
          -13.42818546295166,
          -8.521381378173828,
          -6.376618385314941,
          -8.990449905395508,
          -0.817554235458374,
          4.119556427001953,
          3.407256603240967,
          -4.604655742645264,
          0.04516449570655823,
          4.241845607757568,
          -3.238964557647705,
          -4.688042163848877,
          6.139165878295898,
          -11.11213207244873,
          0.6773889064788818,
          -1.4772942066192627,
          0.6522585153579712,
          -5.955440521240234,
          2.841487407684326,
          -1.6132292747497559,
          7.264482498168945,
          2.2644643783569336,
          3.6573522090911865,
          6.097802639007568,
          0.0329262800514698,
          0.20964926481246948,
          -0.15952691435813904,
          -1.6516414880752563,
          3.776648998260498,
          4.065300464630127,
          -5.6685075759887695,
          -2.1881163120269775,
          3.5618703365325928,
          -9.513891220092773,
          -14.573186874389648,
          -1.635774850845337,
          -8.498705863952637,
          -0.10867143422365189,
          2.5551416873931885,
          -9.948253631591797,
          -1.2331008911132812,
          0.05364976078271866,
          0.2565672695636749,
          -9.928682327270508,
          0.7836501002311707,
          3.8033440113067627,
          0.46545615792274475,
          5.908540725708008,
          -8.332016944885254,
          0.7133712768554688,
          -11.170503616333008,
          -1.2796518802642822,
          2.7988669872283936,
          -12.946145057678223,
          -9.281806945800781,
          -12.338936805725098,
          -14.484781265258789,
          -14.153837203979492,
          -0.46735820174217224,
          -13.681827545166016,
          -1.4086893796920776,
          2.176156759262085,
          -14.331880569458008,
          3.050960063934326,
          -8.236137390136719,
          -5.442684173583984,
          4.369885444641113,
          3.561387538909912,
          -7.377284049987793,
          -0.010035751387476921,
          7.066346645355225,
          -10.390469551086426,
          -5.923930644989014,
          3.938265562057495,
          0.047106679528951645,
          -10.233661651611328,
          -0.41406869888305664,
          2.120727062225342,
          -0.9563803672790527,
          -9.501439094543457,
          -5.636180877685547,
          -1.2736059427261353,
          3.919682025909424,
          -3.490791082382202,
          -7.17854642868042,
          -1.265495777130127,
          0.014600696973502636,
          -13.506637573242188,
          -0.8151540160179138,
          -3.9673726558685303,
          1.4720778465270996,
          2.9027392864227295,
          3.893371820449829,
          -1.8176705837249756,
          -6.9226202964782715,
          -0.5477020144462585,
          6.279163360595703,
          -9.691170692443848,
          -0.5699864029884338,
          1.847428321838379,
          3.7392430305480957,
          -12.311965942382812,
          0.760545015335083,
          3.6087703704833984,
          -0.9872726202011108,
          1.2873902320861816,
          -7.613308429718018,
          -10.031068801879883,
          -6.460790634155273,
          -10.252482414245605,
          -1.6152604818344116,
          -11.425249099731445,
          4.581172943115234,
          2.7777533531188965,
          3.9779365062713623,
          3.9036526679992676,
          3.4203431606292725,
          -1.310886025428772,
          0.7503939867019653,
          -3.8642797470092773,
          3.5281383991241455,
          3.914341449737549,
          3.9519081115722656,
          -12.047303199768066,
          3.614436149597168,
          -0.6719917058944702,
          -10.516688346862793,
          -3.232375383377075,
          3.171736240386963,
          5.021417617797852,
          6.0521063804626465,
          -0.18597450852394104,
          -10.200443267822266,
          -11.192829132080078,
          4.999148845672607,
          5.083769798278809,
          3.157266616821289,
          4.485335350036621,
          7.652595043182373,
          -2.4301087856292725,
          -9.75527286529541,
          -13.304489135742188,
          -8.755282402038574,
          -4.441578388214111,
          -8.306722640991211,
          -2.096984624862671,
          4.12545919418335,
          1.1696281433105469,
          -4.4634928703308105,
          -0.809922456741333,
          -1.3573311567306519,
          -10.122368812561035,
          -9.931976318359375,
          4.068587779998779,
          -1.966644048690796,
          0.707531750202179,
          -11.732926368713379,
          -13.303032875061035,
          3.56790828704834,
          0.12519362568855286,
          -8.854225158691406,
          -11.956194877624512,
          1.8186719417572021,
          4.066022872924805,
          -11.079899787902832,
          -2.191770553588867,
          3.1077919006347656,
          4.65131950378418,
          -8.157440185546875,
          -10.378478050231934,
          -4.814122676849365,
          -0.7510443925857544,
          4.047109603881836,
          3.9152350425720215,
          1.332229733467102,
          0.4931907653808594,
          0.7389062643051147
         ],
         "z": [
          7.65225887298584,
          0.11172686517238617,
          -6.835723400115967,
          -0.3004167675971985,
          -8.113719940185547,
          -5.6663312911987305,
          6.915796279907227,
          0.6243475079536438,
          3.799898147583008,
          -6.9726128578186035,
          6.7609686851501465,
          1.1029890775680542,
          -7.545534610748291,
          0.7186703085899353,
          -6.122293949127197,
          -9.060325622558594,
          -4.581896781921387,
          -2.56788969039917,
          -1.7364535331726074,
          -0.0063101425766944885,
          0.6115368604660034,
          -2.0949714183807373,
          -8.709216117858887,
          -0.06745783239603043,
          8.017824172973633,
          5.623277187347412,
          6.159567832946777,
          5.881137371063232,
          -0.24960365891456604,
          -9.150968551635742,
          1.3639684915542603,
          -8.811386108398438,
          7.432260036468506,
          1.5087701082229614,
          1.3374266624450684,
          -2.558927536010742,
          8.063467979431152,
          6.908095359802246,
          -8.483502388000488,
          0.767286479473114,
          -5.856105804443359,
          2.7789359092712402,
          0.9023640751838684,
          3.8659000396728516,
          -6.0931220054626465,
          0.28473925590515137,
          -8.866594314575195,
          0.3790087401866913,
          -4.227301597595215,
          -0.11040286719799042,
          2.7916100025177,
          3.217557191848755,
          1.828253149986267,
          -7.160857677459717,
          1.456963300704956,
          2.6171021461486816,
          7.99806547164917,
          0.2299148291349411,
          6.922387599945068,
          -1.0778194665908813,
          -3.078646183013916,
          -0.00035865651443600655,
          8.038894653320312,
          -0.09001829475164413,
          -0.07067402452230453,
          0.5163072347640991,
          4.518398284912109,
          1.3031505346298218,
          -4.365114688873291,
          -8.752053260803223,
          2.9025816917419434,
          3.7759392261505127,
          -1.1364165544509888,
          4.011077880859375,
          -1.821542739868164,
          5.888845443725586,
          0.695749044418335,
          0.8394243717193604,
          2.17687726020813,
          0.4054928421974182,
          -6.363747596740723,
          -0.02037510648369789,
          5.259350776672363,
          -0.21650166809558868,
          7.009035587310791,
          0.7134385108947754,
          -0.07139663398265839,
          0.22034457325935364,
          -0.016750873997807503,
          5.563742637634277,
          -1.1806548833847046,
          1.408488392829895,
          2.5973968505859375,
          7.851980686187744,
          -0.11821683496236801,
          -8.091631889343262,
          7.681955337524414,
          2.0286219120025635,
          3.6318113803863525,
          8.06813907623291,
          0.808915376663208,
          -8.372179985046387,
          0.2541598975658417,
          6.506527423858643,
          -7.461779594421387,
          -6.232285022735596,
          -0.0012858519330620766,
          -9.140067100524902,
          1.7965768575668335,
          -3.9499385356903076,
          2.868626117706299,
          7.888783931732178,
          -8.388785362243652,
          1.132806658744812,
          0.06570669263601303,
          6.45225715637207,
          -0.14085282385349274,
          7.733206748962402,
          -0.14040949940681458,
          -0.08564387261867523,
          -8.857534408569336,
          2.5326619148254395,
          -7.81232213973999,
          0.24709635972976685,
          2.383786916732788,
          -5.772395133972168,
          7.083522319793701,
          -3.879563093185425,
          -0.2541900873184204,
          -3.809804916381836,
          4.674940586090088,
          -3.591047525405884,
          -0.3780354857444763,
          7.8616461753845215,
          -8.922805786132812,
          1.349174976348877,
          -6.998434543609619,
          -1.2240805625915527,
          -9.109532356262207,
          1.1127986907958984,
          3.5100440979003906,
          -5.285810947418213,
          -6.697254180908203,
          1.1053775548934937,
          -7.221772193908691,
          -7.497439384460449,
          1.1949424743652344,
          0.7190804481506348,
          4.884918212890625,
          1.1214863061904907,
          -7.657763481140137,
          2.640489339828491,
          2.7197628021240234,
          7.437893390655518,
          0.6715385913848877,
          -8.849884033203125,
          0.01721099577844143,
          4.507881164550781,
          7.083613872528076,
          -8.587374687194824,
          4.537062644958496,
          -0.0667915865778923,
          -3.613041877746582,
          -0.019445784389972687,
          2.1587588787078857,
          0.3192561864852905,
          -4.585875988006592,
          0.7329092025756836,
          0.10276427119970322,
          7.352555274963379,
          -7.412172794342041,
          -2.139146089553833,
          3.5301132202148438,
          6.991635322570801,
          0.06730086356401443,
          1.1988571882247925,
          5.570406913757324,
          7.661785125732422,
          -8.298454284667969,
          4.459898471832275,
          0.041125696152448654,
          -0.10665614902973175,
          -8.153717994689941,
          7.868910789489746,
          8.036707878112793,
          -8.734821319580078,
          -6.5390472412109375,
          -0.14174968004226685,
          6.407135009765625,
          0.2617793083190918,
          -1.4228832721710205,
          -2.5927836894989014,
          -0.06749897450208664,
          -2.563173770904541,
          -1.8597420454025269,
          2.7456586360931396,
          0.47549816966056824,
          6.699776649475098,
          0.8898929953575134,
          1.1257625818252563,
          1.3604172468185425,
          0.3043860197067261,
          -5.8996124267578125,
          0.23421697318553925,
          4.979217052459717,
          7.937129974365234,
          5.887211322784424,
          6.412167549133301,
          -0.6081434488296509,
          0.5457406640052795,
          -8.044046401977539,
          7.004794120788574,
          -0.04306847229599953,
          0.5266751646995544,
          -0.13799844682216644,
          3.8139309883117676,
          -1.2073185443878174,
          6.791237831115723,
          8.04433822631836,
          0.019359366968274117,
          7.114690780639648,
          -0.12293154746294022,
          7.794723033905029,
          -1.9504252672195435,
          0.5937255024909973,
          5.1273393630981445,
          -8.082319259643555,
          -2.5863497257232666,
          5.654898166656494,
          0.09645701944828033,
          0.5804487466812134,
          2.3105568885803223,
          6.578013896942139,
          1.0994676351547241,
          0.7414976954460144,
          -0.024269677698612213,
          2.4570889472961426,
          0.10501463711261749,
          -1.2880672216415405,
          -0.027578230947256088,
          1.4988943338394165,
          0.1036406084895134,
          6.716909408569336,
          -0.14862877130508423,
          6.871088981628418,
          2.3425540924072266,
          1.681239128112793,
          -0.027618566527962685,
          -0.04417775198817253,
          -0.45369595289230347,
          -6.163040637969971,
          0.8575605750083923,
          -1.4656044244766235,
          7.850854396820068,
          -6.236819744110107,
          -1.9049385786056519,
          7.789320945739746,
          1.178471565246582,
          6.439462661743164,
          3.8571383953094482,
          -2.524843454360962,
          -8.323298454284668,
          0.7041913866996765,
          5.032079219818115,
          -2.555203914642334,
          -0.07097280025482178,
          0.35471680760383606,
          -5.780592918395996,
          -6.579351902008057,
          -0.06288021057844162,
          1.46416175365448,
          1.1146667003631592,
          5.990437030792236,
          -6.784417629241943,
          -7.90648889541626,
          3.3019890785217285,
          -1.6438008546829224,
          1.5012445449829102,
          0.1940152645111084,
          7.143479347229004,
          8.07335376739502,
          -1.3501484394073486,
          -7.748523235321045,
          1.3008884191513062,
          1.1565476655960083,
          0.045904118567705154,
          -7.119837760925293,
          -6.245445728302002,
          -6.80171012878418,
          -0.06968814879655838,
          2.7239091396331787,
          0.17449739575386047,
          -0.005139537621289492,
          -2.123149871826172,
          7.236617565155029,
          0.19213014841079712,
          6.075581073760986,
          -8.908455848693848,
          6.958022117614746,
          7.672876358032227,
          0.2061120867729187,
          0.775556743144989,
          0.6087393760681152,
          -0.11315633356571198,
          7.887526512145996,
          7.561342239379883,
          5.7363386154174805,
          -6.609521865844727,
          6.255131721496582,
          -0.08300857245922089,
          6.09345006942749,
          7.9751811027526855,
          5.075286388397217,
          -6.587233543395996,
          -6.458780288696289,
          -8.244847297668457,
          7.440102577209473,
          -0.16823247075080872,
          1.4141279458999634,
          6.211902618408203,
          7.504561424255371,
          0.45958998799324036,
          0.8164737224578857,
          0.15397509932518005,
          -5.267360687255859,
          1.2655370235443115,
          8.041825294494629,
          1.6555544137954712,
          4.0912933349609375,
          -0.018771793693304062,
          -4.3124847412109375,
          1.4635252952575684,
          0.5155112743377686,
          -0.14438852667808533,
          -6.856341361999512,
          -6.840340614318848,
          4.145051002502441,
          1.4721976518630981,
          1.6536386013031006,
          8.023011207580566,
          4.835070610046387,
          -8.412461280822754,
          2.7510204315185547,
          0.6772525310516357,
          4.12038516998291,
          5.8308868408203125,
          0.9053105711936951,
          -3.975553512573242,
          2.9650020599365234,
          -5.303870677947998,
          -0.14167052507400513,
          1.846248745918274,
          2.3341708183288574,
          0.933670699596405,
          -9.1253080368042,
          -1.057989239692688,
          -0.2619936764240265,
          7.293188095092773,
          0.27265721559524536,
          0.44078323245048523,
          -1.2411878108978271,
          1.6586471796035767,
          -0.03205440938472748,
          4.449856758117676,
          0.05291386693716049,
          0.38639703392982483,
          -0.11175773292779922,
          -3.9224236011505127,
          -0.07088067382574081,
          -5.689916610717773,
          -7.398272514343262,
          0.05100658908486366,
          -3.70686674118042,
          6.50480842590332,
          8.074304580688477,
          -2.2232394218444824,
          -8.392595291137695,
          7.442265510559082,
          2.1543335914611816,
          0.03209798038005829,
          2.3491322994232178,
          8.052594184875488,
          -9.018489837646484,
          -6.845542907714844,
          2.319730758666992,
          -6.615988254547119,
          -7.390253067016602,
          -6.499588489532471,
          3.778315544128418,
          7.989038467407227,
          -5.765839099884033,
          -2.5760366916656494,
          6.676705837249756,
          7.652561664581299,
          -1.2459726333618164,
          -0.03778330609202385,
          -0.1533709615468979,
          3.0747721195220947,
          6.834666728973389,
          -7.061390399932861,
          -2.4602601528167725,
          -8.643017768859863,
          4.331185340881348,
          7.740574359893799,
          -6.648447036743164,
          -0.9744974970817566,
          3.470548629760742,
          -4.973533630371094,
          -7.2155866622924805,
          -2.8052427768707275,
          0.059438128024339676,
          1.0944679975509644,
          -8.416040420532227,
          3.6143317222595215,
          -1.8094650506973267,
          7.103140830993652,
          2.8816299438476562,
          7.958986282348633,
          2.3380229473114014,
          0.7723532319068909,
          0.6350583434104919,
          1.3349181413650513,
          -7.858524322509766,
          -8.739734649658203,
          -9.061223983764648,
          1.5488020181655884,
          -1.1286123991012573,
          0.481711745262146,
          6.577049732208252,
          1.5217256546020508,
          -9.062472343444824,
          -9.034878730773926,
          0.13666900992393494,
          -8.413479804992676,
          2.985686779022217,
          2.1419599056243896,
          6.161619186401367,
          1.468931794166565,
          1.170340895652771,
          0.5433293581008911,
          0.9375354647636414,
          2.564800977706909,
          0.9226603507995605,
          1.1847783327102661,
          1.1240097284317017,
          -8.185856819152832,
          -7.964427471160889,
          -0.05673544853925705,
          5.699299335479736,
          3.3875014781951904,
          -0.0694393441081047,
          5.498336315155029,
          7.330272197723389,
          6.408120632171631,
          4.711658954620361,
          1.4188024997711182,
          -1.6920560598373413,
          7.348837375640869,
          -5.850682258605957,
          -5.841100692749023,
          3.3201024532318115,
          2.839141607284546,
          -8.86764907836914,
          4.542482376098633,
          1.1713155508041382,
          0.27269360423088074,
          -0.06445030122995377,
          1.5121983289718628,
          -0.3604591190814972,
          5.494718074798584,
          0.20737197995185852,
          -6.045619010925293,
          1.4120692014694214,
          0.9063065648078918,
          4.877135276794434,
          1.6069163084030151,
          -1.1224801540374756,
          6.321335792541504,
          1.9746077060699463,
          7.57743501663208,
          -5.843332767486572,
          -8.848196029663086,
          -9.063512802124023,
          -6.705759048461914,
          1.4986233711242676,
          1.09963858127594
         ]
        },
        {
         "hovertemplate": "Dominant_Topic=Topic 1<br>0=%{x}<br>1=%{y}<br>2=%{z}<extra></extra>",
         "legendgroup": "Topic 1",
         "marker": {
          "color": "#EF553B",
          "opacity": 0.7,
          "symbol": "circle"
         },
         "mode": "markers",
         "name": "Topic 1",
         "scene": "scene",
         "showlegend": true,
         "type": "scatter3d",
         "x": [
          2.1796326637268066,
          3.123079299926758,
          2.0846757888793945,
          3.4254119396209717,
          0.8609092235565186,
          0.866470217704773,
          0.906673014163971,
          3.7449092864990234,
          1.8412894010543823,
          2.96669864654541,
          2.7434186935424805,
          1.1486707925796509,
          1.7320078611373901,
          0.6045306324958801,
          1.37900972366333,
          0.410040020942688,
          3.01452374458313,
          0.3731622099876404,
          0.8813184499740601,
          3.3869800567626953,
          1.178858757019043,
          0.6536431312561035,
          3.826105833053589,
          3.053088426589966,
          2.106842279434204,
          2.081200122833252,
          3.4576704502105713,
          1.2058753967285156,
          2.949376344680786,
          0.5979132652282715,
          1.9595311880111694,
          2.289909601211548,
          1.8413002490997314,
          1.1833279132843018,
          2.9515464305877686,
          3.2726237773895264,
          3.225255012512207,
          1.6478029489517212,
          2.9457757472991943,
          2.0789308547973633,
          0.3722494840621948,
          2.9692015647888184,
          1.2422099113464355,
          1.1624553203582764,
          1.40926992893219,
          0.8357439041137695,
          0.5784966349601746,
          1.0405093431472778,
          1.50434148311615,
          3.0947508811950684,
          0.7970368266105652,
          0.9167091250419617,
          1.0361084938049316,
          2.6076431274414062,
          1.0743367671966553,
          3.461289644241333,
          3.1017723083496094,
          1.1719788312911987,
          1.3455809354782104,
          0.5988446474075317,
          1.4187023639678955,
          1.0739779472351074,
          3.756162166595459,
          1.3734241724014282,
          1.9972494840621948,
          1.6430046558380127,
          2.667806625366211,
          1.4181209802627563,
          0.39172235131263733,
          0.46300700306892395,
          3.0062832832336426
         ],
         "y": [
          6.849356174468994,
          4.98576021194458,
          7.02665376663208,
          4.006320476531982,
          5.008487224578857,
          6.124846458435059,
          5.617201328277588,
          3.516282558441162,
          2.9834742546081543,
          5.413691997528076,
          4.184787750244141,
          5.065020561218262,
          2.7026562690734863,
          5.096187591552734,
          5.808513164520264,
          5.827906608581543,
          4.053432464599609,
          5.400432109832764,
          6.12790584564209,
          2.9754488468170166,
          5.440433502197266,
          5.071907997131348,
          3.436208486557007,
          5.127732276916504,
          6.784613609313965,
          7.049249172210693,
          3.755802631378174,
          5.12837028503418,
          4.090198993682861,
          5.331007957458496,
          2.7419486045837402,
          6.6718854904174805,
          4.955214023590088,
          5.602730751037598,
          4.090270519256592,
          3.9006311893463135,
          4.532893180847168,
          5.982058525085449,
          5.293026924133301,
          6.93462610244751,
          5.687558174133301,
          4.077548027038574,
          5.991262912750244,
          6.031383514404297,
          5.365074157714844,
          5.8155012130737305,
          6.006139755249023,
          5.462702751159668,
          5.920218467712402,
          4.96599006652832,
          5.822637557983398,
          5.301539897918701,
          5.461698055267334,
          4.327439785003662,
          5.166075229644775,
          3.5340816974639893,
          3.9933114051818848,
          5.437283039093018,
          5.741506099700928,
          5.534448623657227,
          5.710925102233887,
          5.4467082023620605,
          3.5046141147613525,
          5.340118408203125,
          4.744095325469971,
          5.9840850830078125,
          4.2818074226379395,
          5.457050323486328,
          5.3469953536987305,
          5.91752815246582,
          4.055009841918945
         ],
         "z": [
          6.0027337074279785,
          5.689688682556152,
          6.06162166595459,
          6.858914852142334,
          12.886351585388184,
          12.792866706848145,
          12.242865562438965,
          6.916272163391113,
          5.977853298187256,
          5.02910041809082,
          8.304007530212402,
          12.918384552001953,
          5.19332218170166,
          12.744441032409668,
          12.93707275390625,
          12.940632820129395,
          7.8703508377075195,
          12.71145248413086,
          12.808751106262207,
          5.7392258644104,
          11.367390632629395,
          12.73783016204834,
          6.809229373931885,
          5.763197898864746,
          6.617764949798584,
          6.011458396911621,
          7.2327046394348145,
          12.866073608398438,
          8.017672538757324,
          13.223244667053223,
          5.184635639190674,
          5.851755142211914,
          10.47468376159668,
          13.295687675476074,
          8.003398895263672,
          7.440713882446289,
          6.478086471557617,
          10.580678939819336,
          6.010454177856445,
          6.376212120056152,
          12.655969619750977,
          7.990200042724609,
          12.886520385742188,
          12.765140533447266,
          12.841952323913574,
          13.33767032623291,
          12.680273056030273,
          12.167826652526855,
          10.787226676940918,
          6.063343048095703,
          13.32777214050293,
          13.300673484802246,
          12.164673805236816,
          8.706094741821289,
          10.932247161865234,
          6.757318496704102,
          7.734139442443848,
          11.398821830749512,
          11.04569149017334,
          13.31686019897461,
          12.860623359680176,
          11.997342109680176,
          6.8979716300964355,
          13.007879257202148,
          10.215005874633789,
          10.590058326721191,
          8.581485748291016,
          10.798136711120605,
          12.733095169067383,
          12.685599327087402,
          7.911261558532715
         ]
        },
        {
         "hovertemplate": "Dominant_Topic=Topic 2<br>0=%{x}<br>1=%{y}<br>2=%{z}<extra></extra>",
         "legendgroup": "Topic 2",
         "marker": {
          "color": "#00cc96",
          "opacity": 0.7,
          "symbol": "circle"
         },
         "mode": "markers",
         "name": "Topic 2",
         "scene": "scene",
         "showlegend": true,
         "type": "scatter3d",
         "x": [
          0.8522224426269531,
          -3.3713595867156982,
          -1.674873948097229,
          -2.2380826473236084,
          2.4754419326782227,
          -0.6653915047645569,
          1.1962499618530273,
          -4.366628646850586,
          -3.095889091491699,
          0.09701631218194962,
          -1.560526967048645,
          -0.7585523128509521,
          2.3765320777893066,
          2.021275281906128,
          2.556725263595581,
          0.49752071499824524,
          -3.803992509841919,
          -3.1062047481536865,
          -0.31208568811416626,
          -1.3232932090759277,
          1.3499560356140137,
          -2.4694571495056152,
          0.7477712035179138,
          2.066763162612915,
          2.5135421752929688,
          1.0648243427276611,
          -0.7450469732284546,
          0.12804852426052094,
          -0.7612787485122681,
          0.3206946849822998,
          -0.9473083019256592,
          -1.114808440208435,
          -1.4073185920715332,
          1.4628069400787354,
          -2.7557501792907715,
          2.612595558166504,
          -1.3432177305221558,
          1.0808298587799072,
          -0.6716161966323853,
          -0.5377740859985352,
          2.260537624359131,
          -1.935471534729004,
          -1.0086839199066162,
          -1.334010362625122,
          -1.2459995746612549,
          -1.1192244291305542,
          -0.7689792513847351,
          2.0361385345458984,
          -0.7585723400115967,
          1.151159405708313,
          -0.7171652317047119,
          -0.7616626620292664,
          1.9575724601745605,
          -0.046184293925762177,
          -3.6769237518310547,
          -0.7583474516868591,
          -0.7031928300857544,
          -3.641815662384033,
          2.2407093048095703,
          -1.0487934350967407,
          2.2410318851470947,
          -3.6208105087280273,
          1.510450839996338,
          -3.374181032180786,
          -0.38895881175994873,
          -1.1134610176086426,
          1.9965996742248535,
          -3.1885461807250977,
          1.5336246490478516,
          -1.342368721961975,
          -0.8733476400375366,
          -0.9230093955993652,
          -0.5805047154426575,
          -0.6082404255867004,
          -2.5194270610809326,
          1.8019345998764038,
          2.0167880058288574
         ],
         "y": [
          9.82583236694336,
          8.547229766845703,
          10.73657512664795,
          9.948501586914062,
          7.684370040893555,
          11.276228904724121,
          9.334778785705566,
          4.294888973236084,
          8.89706039428711,
          10.614690780639648,
          10.890035629272461,
          11.632113456726074,
          6.6123504638671875,
          8.326905250549316,
          7.55453634262085,
          10.226927757263184,
          8.07663631439209,
          8.883548736572266,
          10.85350227355957,
          12.580460548400879,
          9.106338500976562,
          9.66518783569336,
          7.435449600219727,
          8.189922332763672,
          7.576062202453613,
          9.50403881072998,
          11.651127815246582,
          10.576510429382324,
          11.745518684387207,
          10.422317504882812,
          13.09040355682373,
          13.010690689086914,
          12.6779203414917,
          9.058918952941895,
          9.309151649475098,
          7.449417591094971,
          12.686408996582031,
          9.555329322814941,
          12.574670791625977,
          12.7323637008667,
          7.985561370849609,
          10.305315017700195,
          12.625691413879395,
          11.440284729003906,
          12.949472427368164,
          12.354947090148926,
          12.883023262023926,
          7.197723388671875,
          11.632148742675781,
          9.468063354492188,
          12.885469436645508,
          11.767394065856934,
          8.273926734924316,
          10.823512077331543,
          8.225627899169922,
          11.632674217224121,
          11.435796737670898,
          8.264842987060547,
          8.052206993103027,
          13.04586124420166,
          8.061811447143555,
          8.288054466247559,
          8.909805297851562,
          8.56960678100586,
          11.46609115600586,
          12.524173736572266,
          7.300565719604492,
          8.71997356414795,
          8.940044403076172,
          12.742878913879395,
          12.690457344055176,
          12.574920654296875,
          12.70035457611084,
          12.941071510314941,
          9.600054740905762,
          8.580598831176758,
          8.277599334716797
         ],
         "z": [
          -0.49390265345573425,
          -0.0391695611178875,
          0.44173210859298706,
          0.2589639127254486,
          -1.6203770637512207,
          0.5727902054786682,
          -0.14517557621002197,
          -2.349937677383423,
          0.032416585832834244,
          0.11165487766265869,
          0.4801144003868103,
          0.6498918533325195,
          5.418478012084961,
          -1.352461576461792,
          -1.6610751152038574,
          -0.25610730051994324,
          -0.07947912067174911,
          0.029602816328406334,
          0.30225029587745667,
          1.1375126838684082,
          -0.2732086181640625,
          0.1933092176914215,
          -2.0556044578552246,
          -1.4074245691299438,
          -1.6460893154144287,
          -0.11576314270496368,
          0.6495324969291687,
          1.3856658935546875,
          0.6681703329086304,
          -0.1439991593360901,
          0.710678219795227,
          0.6210254430770874,
          0.9419021010398865,
          -0.9295213222503662,
          0.11406413465738297,
          -1.682826280593872,
          0.6541074514389038,
          -0.6555514931678772,
          1.1867196559906006,
          0.924374520778656,
          -1.5124201774597168,
          0.34380149841308594,
          0.4503823220729828,
          0.5831465721130371,
          1.1147562265396118,
          1.1615664958953857,
          1.2335855960845947,
          5.8192138671875,
          0.6504363417625427,
          -0.7107643485069275,
          0.5781854391098022,
          0.6653884649276733,
          -1.3165464401245117,
          1.3128118515014648,
          -0.06117425113916397,
          0.6505585312843323,
          0.6089158654212952,
          -0.0577322393655777,
          -1.4879941940307617,
          1.1204063892364502,
          -1.485253930091858,
          -0.056408487260341644,
          -0.9356917142868042,
          -0.022784415632486343,
          1.096099615097046,
          1.2744287252426147,
          5.723072052001953,
          -0.025204967707395554,
          -0.9894093871116638,
          0.6522541642189026,
          1.3252713680267334,
          0.45827555656433105,
          0.6878989934921265,
          0.9292953014373779,
          0.1785110980272293,
          -1.1976752281188965,
          -1.3687512874603271
         ]
        },
        {
         "hovertemplate": "Dominant_Topic=Topic 3<br>0=%{x}<br>1=%{y}<br>2=%{z}<extra></extra>",
         "legendgroup": "Topic 3",
         "marker": {
          "color": "#ab63fa",
          "opacity": 0.7,
          "symbol": "circle"
         },
         "mode": "markers",
         "name": "Topic 3",
         "scene": "scene",
         "showlegend": true,
         "type": "scatter3d",
         "x": [
          3.2242684364318848,
          16.284412384033203,
          2.201075792312622,
          8.653237342834473,
          16.394182205200195,
          3.6293890476226807,
          6.296649932861328,
          17.037437438964844,
          15.9003324508667,
          3.0717897415161133,
          3.1231577396392822,
          6.664402484893799,
          1.0882327556610107,
          7.233613967895508,
          17.026268005371094,
          4.0254011154174805,
          16.314424514770508,
          5.464539051055908,
          15.741935729980469,
          17.012800216674805,
          4.445653438568115,
          -0.0001749314833432436,
          16.479084014892578,
          13.350001335144043,
          15.561386108398438,
          9.489397048950195,
          17.006067276000977,
          7.910312652587891,
          6.907970428466797,
          17.044883728027344,
          7.801869869232178,
          16.890050888061523,
          17.03505516052246,
          1.4353652000427246,
          17.04242515563965,
          7.673975944519043,
          16.426124572753906,
          6.347052097320557,
          4.9833455085754395,
          4.053981304168701,
          6.05778169631958,
          1.6399122476577759,
          6.018136024475098,
          4.193732261657715,
          5.646276473999023,
          14.579201698303223,
          3.0573155879974365,
          15.935449600219727,
          2.8241796493530273,
          0.006391262169927359,
          6.097399711608887,
          12.500170707702637,
          16.197742462158203,
          3.172178268432617,
          5.784093379974365,
          13.614880561828613,
          13.035606384277344,
          15.78995132446289,
          17.033905029296875,
          1.5536882877349854,
          15.698517799377441,
          1.0027769804000854,
          5.8661956787109375,
          15.353294372558594,
          5.1220197677612305,
          16.954408645629883,
          4.103212833404541,
          13.45398998260498,
          12.147366523742676,
          16.367197036743164,
          3.1829042434692383,
          7.550991535186768,
          6.370595455169678,
          16.70448875427246,
          3.8028976917266846,
          2.9383914470672607,
          7.38652229309082,
          16.9471378326416,
          4.689985752105713,
          12.215459823608398,
          4.399484157562256,
          10.307090759277344,
          15.387069702148438,
          4.837653636932373,
          16.10480308532715,
          15.286823272705078,
          -0.6321185827255249,
          14.749947547912598,
          5.519676685333252,
          14.777435302734375,
          5.577749729156494,
          12.98591136932373,
          8.618664741516113,
          5.529487133026123,
          5.048046112060547,
          14.560497283935547,
          9.118330955505371,
          13.018274307250977,
          8.383126258850098,
          15.801088333129883,
          9.826180458068848,
          16.548025131225586,
          5.928321838378906,
          8.699505805969238,
          13.70957088470459,
          16.849882125854492,
          17.02413558959961,
          9.738009452819824,
          9.509639739990234,
          9.341164588928223,
          7.1176042556762695,
          6.226952075958252,
          16.95629119873047,
          3.4501874446868896,
          2.675644636154175,
          12.948424339294434,
          14.622928619384766,
          16.87923812866211,
          16.03815460205078,
          16.40839195251465,
          11.94385051727295,
          16.717187881469727,
          -0.27116164565086365,
          3.426795721054077,
          0.7635670900344849,
          16.79435157775879,
          7.681334972381592,
          5.822264671325684,
          4.603377819061279,
          13.371617317199707,
          16.748123168945312,
          2.8545162677764893,
          5.173564910888672,
          3.2540862560272217,
          5.162859916687012,
          8.857522010803223,
          9.664201736450195,
          5.816338539123535,
          5.6344451904296875,
          9.508805274963379,
          6.031850337982178,
          16.53738784790039,
          16.460983276367188,
          8.142672538757324,
          4.529624938964844,
          9.509735107421875,
          9.200510025024414,
          1.7983099222183228,
          1.9156882762908936,
          2.9425954818725586,
          2.818207025527954,
          16.985624313354492,
          0.20253974199295044,
          3.0554211139678955,
          3.301250457763672,
          0.2913438081741333,
          6.376391410827637,
          6.074244976043701,
          6.09664249420166,
          12.580449104309082,
          8.043004035949707,
          8.097911834716797,
          5.308543682098389,
          4.912708282470703,
          5.169065475463867,
          16.93190574645996,
          15.278799057006836,
          1.892824649810791,
          1.699296474456787,
          16.905925750732422,
          16.778470993041992,
          9.157291412353516,
          17.048450469970703,
          2.6407015323638916,
          5.922699928283691,
          3.318561315536499,
          12.930033683776855,
          8.450918197631836,
          3.36020827293396,
          2.6372575759887695,
          8.777909278869629,
          4.8622002601623535,
          2.7990987300872803,
          5.051421642303467,
          3.8983657360076904,
          3.2650561332702637,
          6.50604772567749,
          15.660832405090332,
          8.144858360290527,
          5.839989185333252,
          16.677257537841797,
          15.007914543151855,
          -0.7164714932441711,
          8.116933822631836,
          9.189698219299316,
          15.159493446350098,
          16.037153244018555,
          9.545910835266113,
          16.715322494506836,
          16.49957275390625,
          16.145713806152344,
          5.164933681488037,
          2.5699410438537598,
          5.574702262878418,
          16.851726531982422,
          5.048539638519287,
          2.9072134494781494,
          15.170105934143066,
          15.557101249694824,
          3.726233959197998,
          7.099760055541992,
          14.512462615966797,
          5.819600582122803,
          6.823775768280029,
          16.365215301513672,
          16.477218627929688,
          9.461980819702148,
          8.092367172241211,
          2.3840808868408203,
          9.147085189819336,
          5.808106422424316,
          16.3403377532959,
          7.679290294647217,
          6.308656692504883,
          4.645207405090332,
          6.57520055770874,
          11.820650100708008,
          2.880950450897217,
          6.701862812042236,
          3.034562110900879,
          7.247615814208984,
          16.53190803527832,
          3.218660593032837,
          6.463119029998779,
          16.950366973876953,
          8.401357650756836,
          5.482304096221924,
          5.13218355178833,
          6.334287643432617,
          15.041801452636719,
          14.908958435058594,
          12.714164733886719,
          2.678600549697876,
          3.6187658309936523,
          15.163542747497559,
          16.965137481689453,
          7.881165027618408,
          2.2674856185913086,
          13.183451652526855,
          16.879819869995117,
          15.207324028015137,
          5.33882999420166,
          7.529348850250244,
          6.003886699676514,
          3.5924320220947266,
          15.059907913208008,
          17.047531127929688,
          6.018222332000732,
          1.257946491241455,
          6.6708984375,
          1.6528788805007935,
          16.825063705444336,
          6.801729202270508,
          2.735598564147949,
          8.729315757751465,
          6.04332160949707,
          16.049089431762695,
          2.75191068649292,
          8.98288631439209,
          7.129880905151367,
          5.5527496337890625,
          6.078171730041504,
          9.876009941101074,
          6.948417663574219,
          2.139916181564331,
          5.739903450012207,
          2.5193302631378174,
          3.1402530670166016,
          6.003103733062744,
          15.364614486694336,
          8.810026168823242,
          5.526399612426758,
          0.8770843148231506,
          9.705164909362793,
          4.914501667022705,
          1.2682164907455444,
          5.656595706939697,
          7.812735080718994,
          6.70838737487793,
          4.514730453491211,
          8.866342544555664,
          16.20241928100586,
          16.63365364074707,
          15.14555549621582,
          5.596252918243408,
          0.760891318321228,
          2.9618642330169678,
          15.063075065612793,
          12.235810279846191,
          5.422463417053223,
          16.742504119873047,
          16.217363357543945,
          0.4375258684158325,
          15.693360328674316,
          6.579507350921631,
          16.189502716064453,
          15.232155799865723,
          8.372115135192871,
          7.056229114532471,
          1.349880337715149,
          5.095197677612305,
          3.9004342555999756,
          -0.5838451385498047,
          15.028322219848633,
          6.865570545196533,
          3.1666781902313232,
          2.6056454181671143,
          15.446745872497559,
          6.976776123046875,
          3.6500046253204346,
          6.679905891418457,
          15.761896133422852,
          16.959796905517578,
          15.80123519897461,
          13.595208168029785,
          16.98760414123535,
          7.070716857910156,
          2.5864384174346924,
          5.7457098960876465,
          2.723466157913208,
          15.492531776428223,
          5.84557580947876,
          3.5363118648529053,
          16.816009521484375,
          16.61084747314453,
          7.792063236236572,
          16.478668212890625,
          7.351878643035889,
          16.29652214050293,
          16.86092758178711,
          5.136012077331543,
          6.642603874206543,
          16.649660110473633,
          17.051570892333984,
          7.270375728607178,
          12.647650718688965,
          11.807619094848633,
          6.236410140991211,
          5.0066680908203125,
          1.073255181312561,
          15.430237770080566,
          4.8902130126953125,
          9.215888023376465,
          17.048721313476562,
          5.474242687225342,
          16.817968368530273,
          6.450745105743408,
          12.68747615814209,
          4.309016227722168,
          3.6107425689697266,
          15.000332832336426,
          15.885326385498047,
          2.9508163928985596,
          3.4630467891693115,
          7.8172712326049805,
          16.195329666137695
         ],
         "y": [
          3.134002208709717,
          -1.2356587648391724,
          2.2374114990234375,
          3.027391195297241,
          -1.8551017045974731,
          4.757843017578125,
          1.347413420677185,
          -4.807114124298096,
          -9.531449317932129,
          5.3079729080200195,
          1.6553561687469482,
          1.0885275602340698,
          2.770508289337158,
          0.029404491186141968,
          -5.920276165008545,
          5.0439348220825195,
          -8.726210594177246,
          2.0434908866882324,
          -10.206160545349121,
          -4.32743501663208,
          2.8722164630889893,
          3.3327832221984863,
          -8.215522766113281,
          0.040105197578668594,
          -0.23012250661849976,
          0.7236347198486328,
          -4.251359939575195,
          1.4139511585235596,
          1.9915932416915894,
          -5.144801139831543,
          0.6001964211463928,
          -3.169569253921509,
          -4.781750679016113,
          5.241343975067139,
          -5.75479793548584,
          -0.03978952765464783,
          -1.7429935932159424,
          0.6521420478820801,
          2.4423842430114746,
          5.039385795593262,
          0.3703124225139618,
          2.460439682006836,
          1.5892360210418701,
          4.885845184326172,
          0.46686851978302,
          0.3387202322483063,
          6.253103256225586,
          -9.734381675720215,
          1.8029721975326538,
          3.341705560684204,
          3.5524964332580566,
          0.643592357635498,
          -9.540303230285645,
          6.440542697906494,
          1.746846318244934,
          -0.10500214993953705,
          0.7049981355667114,
          -9.732498168945312,
          -4.753113746643066,
          2.5084433555603027,
          -9.834697723388672,
          4.908812522888184,
          0.40087562799453735,
          -11.26202392578125,
          0.6229161024093628,
          -6.263871669769287,
          1.0651153326034546,
          -0.02981271967291832,
          0.617789626121521,
          -8.591826438903809,
          4.946244716644287,
          0.6602465510368347,
          2.8575892448425293,
          -7.39522123336792,
          5.45221471786499,
          1.7580145597457886,
          -0.01712571270763874,
          -6.339972019195557,
          4.451304912567139,
          -0.24358080327510834,
          2.9194493293762207,
          0.6002156734466553,
          -11.185004234313965,
          3.4122087955474854,
          -9.77808666229248,
          -11.437557220458984,
          3.6202611923217773,
          -11.821981430053711,
          3.858675003051758,
          -11.821004867553711,
          3.522357702255249,
          0.7042005062103271,
          0.3228004574775696,
          1.8132787942886353,
          2.4006025791168213,
          -11.868067741394043,
          0.1336706280708313,
          0.7060103416442871,
          0.3940362334251404,
          -9.985374450683594,
          0.12265994399785995,
          -7.955778121948242,
          1.6525681018829346,
          3.0803308486938477,
          -0.15202073752880096,
          -2.7448394298553467,
          -5.7382283210754395,
          0.6722123026847839,
          0.7118388414382935,
          0.13274462521076202,
          0.828468382358551,
          0.28066083788871765,
          -6.239085674285889,
          1.4377555847167969,
          1.0274044275283813,
          0.693791925907135,
          -11.859334945678711,
          -2.5867576599121094,
          -9.660481452941895,
          -1.4458670616149902,
          0.6497490406036377,
          -7.340909004211426,
          3.4586498737335205,
          1.4264204502105713,
          2.95259165763855,
          -1.970650553703308,
          -0.04437137022614479,
          1.7415887117385864,
          2.740631103515625,
          0.6826602220535278,
          -7.223686695098877,
          3.0233616828918457,
          2.287949800491333,
          6.204525470733643,
          2.288776159286499,
          3.009434461593628,
          2.4038805961608887,
          2.83748459815979,
          1.9166078567504883,
          0.7118358016014099,
          1.5332432985305786,
          -2.4567880630493164,
          -8.281516075134277,
          3.1293318271636963,
          0.8689399361610413,
          0.7118396162986755,
          2.837775230407715,
          5.430346965789795,
          5.191289901733398,
          6.810102462768555,
          1.780118703842163,
          -3.944674491882324,
          3.2368218898773193,
          5.603482723236084,
          1.5497301816940308,
          3.187133550643921,
          0.2206631898880005,
          1.5080137252807617,
          0.9184317588806152,
          0.6574416756629944,
          0.5227482318878174,
          0.9814692735671997,
          3.3371529579162598,
          0.705442488193512,
          2.3080217838287354,
          -3.438446283340454,
          -11.449731826782227,
          2.3250679969787598,
          2.430060386657715,
          -3.3624117374420166,
          -7.10705041885376,
          0.7861794233322144,
          -5.397636890411377,
          1.9039777517318726,
          1.617072343826294,
          2.793834686279297,
          0.6981024742126465,
          0.9067111015319824,
          5.978053092956543,
          1.6795029640197754,
          3.068617582321167,
          2.5405540466308594,
          1.8539289236068726,
          4.044459819793701,
          1.1909319162368774,
          2.9084813594818115,
          2.86281681060791,
          -0.32259461283683777,
          0.48052889108657837,
          1.7375174760818481,
          -7.51094913482666,
          -11.72391128540039,
          3.6306495666503906,
          -0.02795240841805935,
          0.7811009287834167,
          0.08508231490850449,
          -10.137431144714355,
          2.5824549198150635,
          -2.454610824584961,
          -8.094170570373535,
          -9.988277435302734,
          3.280782461166382,
          1.9023677110671997,
          2.3312861919403076,
          -2.6734673976898193,
          0.6504345536231995,
          2.858975648880005,
          0.08008500188589096,
          -10.72177791595459,
          1.2963098287582397,
          0.8341363668441772,
          0.35462087392807007,
          1.7710456848144531,
          1.1601529121398926,
          -2.0560684204101562,
          -1.6994733810424805,
          0.13343188166618347,
          1.001929521560669,
          2.775064706802368,
          0.19479282200336456,
          1.7821476459503174,
          -8.690603256225586,
          0.6322610378265381,
          1.3356881141662598,
          0.8066880702972412,
          0.17821554839611053,
          2.088078022003174,
          6.382774829864502,
          0.1337355375289917,
          5.313065528869629,
          0.7604326009750366,
          -8.008209228515625,
          6.037880897521973,
          1.2285449504852295,
          -3.6172029972076416,
          0.9168016314506531,
          2.0280332565307617,
          2.3164806365966797,
          1.316170334815979,
          0.14816252887248993,
          -11.770249366760254,
          0.6921124458312988,
          7.245738983154297,
          5.27487850189209,
          0.08252018690109253,
          -6.188225269317627,
          0.5665104389190674,
          2.0341403484344482,
          0.7133694887161255,
          -2.2969486713409424,
          0.0585319809615612,
          0.5557677149772644,
          -0.03461744636297226,
          0.34983938932418823,
          5.514961242675781,
          -11.695497512817383,
          -5.835881233215332,
          1.5445295572280884,
          4.527932167053223,
          0.676457405090332,
          2.45194673538208,
          -2.0536649227142334,
          0.21449391543865204,
          7.22078275680542,
          2.911560535430908,
          1.5302644968032837,
          -9.447510719299316,
          6.918720722198486,
          2.9686279296875,
          0.8147556185722351,
          2.0160140991210938,
          1.508270263671875,
          0.6414833068847656,
          0.9106963872909546,
          2.1790683269500732,
          3.4535884857177734,
          5.747237205505371,
          5.068917274475098,
          1.7769368886947632,
          -11.248448371887207,
          0.2604336142539978,
          1.9986902475357056,
          2.8880088329315186,
          0.6738114356994629,
          2.494002342224121,
          2.725646734237671,
          3.656676769256592,
          -0.059552665799856186,
          0.15321215987205505,
          4.3846001625061035,
          3.001217842102051,
          -1.1085833311080933,
          -2.349277973175049,
          -11.584628105163574,
          3.8086295127868652,
          2.9523332118988037,
          6.318295478820801,
          -11.694622039794922,
          -0.2537907660007477,
          2.085533857345581,
          -7.240318775177002,
          -8.986144065856934,
          5.047247886657715,
          -10.529038429260254,
          0.15203507244586945,
          -9.520633697509766,
          0.042449913918972015,
          0.9336943626403809,
          0.09979687631130219,
          2.616978645324707,
          3.3186614513397217,
          2.3158631324768066,
          3.599148988723755,
          -0.037893347442150116,
          0.8091934323310852,
          4.966362476348877,
          3.331174850463867,
          -0.13283030688762665,
          0.9006221294403076,
          0.3370584547519684,
          1.0782235860824585,
          -10.442699432373047,
          -6.106971740722656,
          -0.5192421078681946,
          -0.09860380738973618,
          -5.877705097198486,
          3.217670202255249,
          4.935058116912842,
          2.9049267768859863,
          7.266489028930664,
          -10.980012893676758,
          1.7485074996948242,
          2.5101261138916016,
          -6.950204372406006,
          -2.6085891723632812,
          0.5921531915664673,
          -1.8460209369659424,
          0.7192894220352173,
          -1.2471427917480469,
          -3.1299943923950195,
          4.1100664138793945,
          3.2654788494110107,
          -1.741154432296753,
          -5.435979843139648,
          0.7492980360984802,
          0.6724995970726013,
          2.112262010574341,
          0.2877444624900818,
          4.0961503982543945,
          4.860725402832031,
          -0.11297082901000977,
          4.070559501647949,
          2.796506881713867,
          -5.112117290496826,
          0.5067601799964905,
          -2.7838757038116455,
          1.2310938835144043,
          0.6664814352989197,
          0.9857770800590515,
          1.2842249870300293,
          0.16619929671287537,
          -10.322816848754883,
          5.4742431640625,
          5.9099860191345215,
          3.158252477645874,
          -1.0935261249542236
         ],
         "z": [
          4.758302211761475,
          -2.9511144161224365,
          -8.127557754516602,
          -3.621077299118042,
          -3.0904104709625244,
          -2.4764492511749268,
          2.6377875804901123,
          -4.203742980957031,
          -6.245834827423096,
          -2.4377052783966064,
          -8.795802116394043,
          1.8552956581115723,
          -9.18433952331543,
          -6.234195232391357,
          -4.522863864898682,
          -2.158102512359619,
          -5.772006034851074,
          5.140260219573975,
          -6.181818962097168,
          -4.028991222381592,
          6.292469501495361,
          -9.226469993591309,
          -5.554669380187988,
          -4.866250038146973,
          -2.750856637954712,
          -3.779393434524536,
          -4.007181644439697,
          -2.8709192276000977,
          -1.5442779064178467,
          -4.32350492477417,
          -0.3811585009098053,
          -3.5800962448120117,
          -4.206117630004883,
          -3.2905361652374268,
          -4.657474994659424,
          -5.97390079498291,
          -3.0719175338745117,
          -6.12611198425293,
          5.825961112976074,
          -2.1604223251342773,
          -6.862760066986084,
          -9.105657577514648,
          3.9038989543914795,
          -2.178818941116333,
          -7.205821514129639,
          -2.916205406188965,
          -1.950204610824585,
          -5.939940452575684,
          -8.877779960632324,
          -9.213305473327637,
          -2.6364729404449463,
          -3.5261428356170654,
          -6.096494197845459,
          -1.960663914680481,
          4.029904365539551,
          -5.068488597869873,
          -3.288839340209961,
          -6.033156394958496,
          -4.187732219696045,
          -9.105084419250488,
          -6.2794342041015625,
          -3.80975604057312,
          -7.049795627593994,
          -6.699443817138672,
          -7.60495662689209,
          -4.745672225952148,
          -8.271689414978027,
          -4.989793300628662,
          -3.5929360389709473,
          -5.714267730712891,
          4.651248931884766,
          0.10133341699838638,
          -3.273344039916992,
          -5.210796356201172,
          -2.1208951473236084,
          -8.856337547302246,
          -6.175806999206543,
          -4.776834964752197,
          -2.2502858638763428,
          -2.277221918106079,
          6.351602077484131,
          -3.785858392715454,
          -6.66985559463501,
          -2.6389224529266357,
          -5.972423553466797,
          -6.797054290771484,
          -9.181818962097168,
          -7.378640651702881,
          -2.4184072017669678,
          -7.3502197265625,
          -2.0632264614105225,
          -3.3236753940582275,
          -1.4361419677734375,
          4.1753249168396,
          5.791788578033447,
          -7.574659824371338,
          -4.939244270324707,
          -3.3040757179260254,
          -1.1529866456985474,
          -6.478147029876709,
          -2.4886529445648193,
          -5.447109222412109,
          4.013237953186035,
          -3.631322145462036,
          -5.110148906707764,
          -3.270362377166748,
          -4.579587459564209,
          -3.79372239112854,
          -3.798940658569336,
          -2.0648868083953857,
          1.0373902320861816,
          -6.823032379150391,
          -4.737713813781738,
          -8.6267728805542,
          -8.519698143005371,
          -3.367084264755249,
          -7.513768672943115,
          -3.1998250484466553,
          -6.397787094116211,
          -3.0503926277160645,
          -3.6316020488739014,
          -5.188430309295654,
          -9.213549613952637,
          -8.613143920898438,
          -9.199174880981445,
          -3.259687900543213,
          -5.975935459136963,
          4.1377716064453125,
          6.16331672668457,
          -3.1872549057006836,
          -5.13735818862915,
          4.123878479003906,
          5.602042198181152,
          -1.9913384914398193,
          5.589743614196777,
          -3.6731340885162354,
          -3.8187930583953857,
          -1.0873034000396729,
          4.858130931854248,
          -3.799168109893799,
          3.3306961059570312,
          -3.1847352981567383,
          -5.581099987030029,
          -3.466695547103882,
          -8.011202812194824,
          -3.7989144325256348,
          -3.7498056888580322,
          -3.002073287963867,
          -3.109694719314575,
          -1.8627405166625977,
          -8.834904670715332,
          -3.8864986896514893,
          -9.22110366821289,
          -0.7835057377815247,
          -8.721721649169922,
          -9.226003646850586,
          -6.751644611358643,
          3.3908541202545166,
          -5.977554798126221,
          -3.4875240325927734,
          -0.7575074434280396,
          -3.624289035797119,
          -1.1850039958953857,
          -7.759836673736572,
          5.6487860679626465,
          -3.6888022422790527,
          -6.7995195388793945,
          -9.052252769470215,
          -9.080819129943848,
          -3.7269325256347656,
          -5.092240810394287,
          -3.7666192054748535,
          -4.4073920249938965,
          -8.942391395568848,
          3.7515153884887695,
          4.8612141609191895,
          -3.3583602905273438,
          -3.659402847290039,
          -2.024322986602783,
          -8.56205940246582,
          -3.652508020401001,
          5.957707405090332,
          -8.941902160644531,
          -2.2635514736175537,
          -8.41023063659668,
          5.50659704208374,
          -2.3576431274414062,
          -2.763774871826172,
          -0.869395911693573,
          3.3581011295318604,
          -5.258188724517822,
          -7.108726501464844,
          -9.194488525390625,
          -5.666682720184326,
          -3.770937442779541,
          -2.861842632293701,
          -6.3975934982299805,
          -3.806303024291992,
          -3.1231882572174072,
          -5.502981662750244,
          -6.207972049713135,
          -0.6475523114204407,
          -8.877847671508789,
          1.4266457557678223,
          -3.5520100593566895,
          -7.657585144042969,
          5.230960845947266,
          -2.847642183303833,
          -6.467396259307861,
          -8.505084037780762,
          1.0481799840927124,
          -2.935671806335449,
          4.4616899490356445,
          -4.993378639221191,
          -4.767536640167236,
          -3.0088768005371094,
          -2.2077889442443848,
          -3.607304573059082,
          5.006937503814697,
          -1.999999761581421,
          4.482766628265381,
          -5.759485244750977,
          -0.1584344357252121,
          2.692187547683716,
          -7.923922061920166,
          -6.614797115325928,
          -3.698969841003418,
          -1.517875075340271,
          -6.562994003295898,
          4.606616973876953,
          0.7320646643638611,
          -5.467500686645508,
          -1.9959584474563599,
          2.21774959564209,
          -3.779186725616455,
          -3.663254976272583,
          5.155416965484619,
          5.625099182128906,
          2.632887363433838,
          -2.846510887145996,
          -7.181551456451416,
          -3.417323350906372,
          -1.7341667413711548,
          -1.7114667892456055,
          -2.8486154079437256,
          -4.727901458740234,
          -0.4825834035873413,
          -8.84831714630127,
          -3.228790283203125,
          -3.4590418338775635,
          -2.8011627197265625,
          -7.446116924285889,
          -6.082422256469727,
          -6.970142364501953,
          -1.962119460105896,
          -7.054348945617676,
          -4.558188438415527,
          3.272022247314453,
          -4.403514862060547,
          0.8972091674804688,
          -9.080572128295898,
          -3.2878971099853516,
          -6.3339033126831055,
          -1.7496049404144287,
          -3.646418571472168,
          3.549506902694702,
          -6.132087707519531,
          -1.7964932918548584,
          -3.702502965927124,
          0.9644016623497009,
          4.980161190032959,
          3.3160147666931152,
          -3.799431085586548,
          1.302433729171753,
          -9.025091171264648,
          -2.2066094875335693,
          -2.4795703887939453,
          4.563120365142822,
          1.8113067150115967,
          -6.696810722351074,
          -1.6171228885650635,
          4.985713958740234,
          -9.199992179870605,
          -3.800598382949829,
          5.887380123138428,
          -9.088602066040039,
          -2.450748920440674,
          -5.901649475097656,
          -6.524860858917236,
          -2.1920034885406494,
          -3.6755712032318115,
          -2.918009042739868,
          -3.625258684158325,
          -6.904292583465576,
          -2.4431509971618652,
          -9.203441619873047,
          -1.9181305170059204,
          -7.0511040687561035,
          -2.263154983520508,
          5.238406658172607,
          -5.144777774810791,
          -5.866926193237305,
          -3.6569764614105225,
          -6.469917297363281,
          -6.656104564666748,
          -6.140839576721191,
          -2.7662951946258545,
          -3.65177845954895,
          -6.278531074523926,
          -9.152267456054688,
          -0.5658643245697021,
          3.303327798843384,
          -9.191243171691895,
          -3.763277053833008,
          1.094973087310791,
          4.790655612945557,
          4.157468795776367,
          -2.783905267715454,
          1.2873221635818481,
          -8.140585899353027,
          1.8004106283187866,
          -6.423228740692139,
          -4.70614767074585,
          -2.798689365386963,
          -5.068582534790039,
          -4.547800540924072,
          -3.072983741760254,
          -2.9126665592193604,
          -3.272648811340332,
          -1.743630051612854,
          -6.5606608390808105,
          4.371511936187744,
          3.4617109298706055,
          -5.024409770965576,
          -3.497504472732544,
          -0.32940924167633057,
          -3.6043975353240967,
          0.5205082893371582,
          -2.9556076526641846,
          -3.7202577590942383,
          -2.3185980319976807,
          -2.8869893550872803,
          -3.132941961288452,
          -4.416411399841309,
          0.664811909198761,
          -3.4440135955810547,
          -3.7021450996398926,
          -6.7970356941223145,
          -2.2617435455322266,
          -3.8767483234405518,
          -2.7599599361419678,
          -2.2185866832733154,
          -3.752253293991089,
          -4.305776596069336,
          -7.359254360198975,
          -3.6534407138824463,
          2.288597345352173,
          -3.4520416259765625,
          -8.1613187789917,
          -8.150898933410645,
          -2.891223907470703,
          -6.323338031768799,
          4.858398914337158,
          -2.047903537750244,
          -3.3582937717437744,
          -2.9192938804626465
         ]
        }
       ],
       "layout": {
        "height": 800,
        "legend": {
         "title": {
          "text": "Dominant_Topic"
         },
         "tracegroupgap": 0
        },
        "scene": {
         "aspectmode": "auto",
         "aspectratio": {
          "x": 1.1907925941300128,
          "y": 1.0166137185159296,
          "z": 0.8260529929975462
         },
         "camera": {
          "center": {
           "x": 0,
           "y": 0,
           "z": 0
          },
          "eye": {
           "x": 1.4302255322760216,
           "y": 1.4115431827037288,
           "z": 1.9497826535145513
          },
          "projection": {
           "type": "perspective"
          },
          "up": {
           "x": 0.004056821900618642,
           "y": -0.004040430325701757,
           "z": 0.999983608425083
          }
         },
         "domain": {
          "x": [
           0,
           1
          ],
          "y": [
           0,
           1
          ]
         },
         "xaxis": {
          "title": {
           "text": "0"
          },
          "type": "linear"
         },
         "yaxis": {
          "title": {
           "text": "1"
          },
          "type": "linear"
         },
         "zaxis": {
          "title": {
           "text": "2"
          },
          "type": "linear"
         }
        },
        "template": {
         "data": {
          "bar": [
           {
            "error_x": {
             "color": "#2a3f5f"
            },
            "error_y": {
             "color": "#2a3f5f"
            },
            "marker": {
             "line": {
              "color": "#E5ECF6",
              "width": 0.5
             },
             "pattern": {
              "fillmode": "overlay",
              "size": 10,
              "solidity": 0.2
             }
            },
            "type": "bar"
           }
          ],
          "barpolar": [
           {
            "marker": {
             "line": {
              "color": "#E5ECF6",
              "width": 0.5
             },
             "pattern": {
              "fillmode": "overlay",
              "size": 10,
              "solidity": 0.2
             }
            },
            "type": "barpolar"
           }
          ],
          "carpet": [
           {
            "aaxis": {
             "endlinecolor": "#2a3f5f",
             "gridcolor": "white",
             "linecolor": "white",
             "minorgridcolor": "white",
             "startlinecolor": "#2a3f5f"
            },
            "baxis": {
             "endlinecolor": "#2a3f5f",
             "gridcolor": "white",
             "linecolor": "white",
             "minorgridcolor": "white",
             "startlinecolor": "#2a3f5f"
            },
            "type": "carpet"
           }
          ],
          "choropleth": [
           {
            "colorbar": {
             "outlinewidth": 0,
             "ticks": ""
            },
            "type": "choropleth"
           }
          ],
          "contour": [
           {
            "colorbar": {
             "outlinewidth": 0,
             "ticks": ""
            },
            "colorscale": [
             [
              0,
              "#0d0887"
             ],
             [
              0.1111111111111111,
              "#46039f"
             ],
             [
              0.2222222222222222,
              "#7201a8"
             ],
             [
              0.3333333333333333,
              "#9c179e"
             ],
             [
              0.4444444444444444,
              "#bd3786"
             ],
             [
              0.5555555555555556,
              "#d8576b"
             ],
             [
              0.6666666666666666,
              "#ed7953"
             ],
             [
              0.7777777777777778,
              "#fb9f3a"
             ],
             [
              0.8888888888888888,
              "#fdca26"
             ],
             [
              1,
              "#f0f921"
             ]
            ],
            "type": "contour"
           }
          ],
          "contourcarpet": [
           {
            "colorbar": {
             "outlinewidth": 0,
             "ticks": ""
            },
            "type": "contourcarpet"
           }
          ],
          "heatmap": [
           {
            "colorbar": {
             "outlinewidth": 0,
             "ticks": ""
            },
            "colorscale": [
             [
              0,
              "#0d0887"
             ],
             [
              0.1111111111111111,
              "#46039f"
             ],
             [
              0.2222222222222222,
              "#7201a8"
             ],
             [
              0.3333333333333333,
              "#9c179e"
             ],
             [
              0.4444444444444444,
              "#bd3786"
             ],
             [
              0.5555555555555556,
              "#d8576b"
             ],
             [
              0.6666666666666666,
              "#ed7953"
             ],
             [
              0.7777777777777778,
              "#fb9f3a"
             ],
             [
              0.8888888888888888,
              "#fdca26"
             ],
             [
              1,
              "#f0f921"
             ]
            ],
            "type": "heatmap"
           }
          ],
          "heatmapgl": [
           {
            "colorbar": {
             "outlinewidth": 0,
             "ticks": ""
            },
            "colorscale": [
             [
              0,
              "#0d0887"
             ],
             [
              0.1111111111111111,
              "#46039f"
             ],
             [
              0.2222222222222222,
              "#7201a8"
             ],
             [
              0.3333333333333333,
              "#9c179e"
             ],
             [
              0.4444444444444444,
              "#bd3786"
             ],
             [
              0.5555555555555556,
              "#d8576b"
             ],
             [
              0.6666666666666666,
              "#ed7953"
             ],
             [
              0.7777777777777778,
              "#fb9f3a"
             ],
             [
              0.8888888888888888,
              "#fdca26"
             ],
             [
              1,
              "#f0f921"
             ]
            ],
            "type": "heatmapgl"
           }
          ],
          "histogram": [
           {
            "marker": {
             "pattern": {
              "fillmode": "overlay",
              "size": 10,
              "solidity": 0.2
             }
            },
            "type": "histogram"
           }
          ],
          "histogram2d": [
           {
            "colorbar": {
             "outlinewidth": 0,
             "ticks": ""
            },
            "colorscale": [
             [
              0,
              "#0d0887"
             ],
             [
              0.1111111111111111,
              "#46039f"
             ],
             [
              0.2222222222222222,
              "#7201a8"
             ],
             [
              0.3333333333333333,
              "#9c179e"
             ],
             [
              0.4444444444444444,
              "#bd3786"
             ],
             [
              0.5555555555555556,
              "#d8576b"
             ],
             [
              0.6666666666666666,
              "#ed7953"
             ],
             [
              0.7777777777777778,
              "#fb9f3a"
             ],
             [
              0.8888888888888888,
              "#fdca26"
             ],
             [
              1,
              "#f0f921"
             ]
            ],
            "type": "histogram2d"
           }
          ],
          "histogram2dcontour": [
           {
            "colorbar": {
             "outlinewidth": 0,
             "ticks": ""
            },
            "colorscale": [
             [
              0,
              "#0d0887"
             ],
             [
              0.1111111111111111,
              "#46039f"
             ],
             [
              0.2222222222222222,
              "#7201a8"
             ],
             [
              0.3333333333333333,
              "#9c179e"
             ],
             [
              0.4444444444444444,
              "#bd3786"
             ],
             [
              0.5555555555555556,
              "#d8576b"
             ],
             [
              0.6666666666666666,
              "#ed7953"
             ],
             [
              0.7777777777777778,
              "#fb9f3a"
             ],
             [
              0.8888888888888888,
              "#fdca26"
             ],
             [
              1,
              "#f0f921"
             ]
            ],
            "type": "histogram2dcontour"
           }
          ],
          "mesh3d": [
           {
            "colorbar": {
             "outlinewidth": 0,
             "ticks": ""
            },
            "type": "mesh3d"
           }
          ],
          "parcoords": [
           {
            "line": {
             "colorbar": {
              "outlinewidth": 0,
              "ticks": ""
             }
            },
            "type": "parcoords"
           }
          ],
          "pie": [
           {
            "automargin": true,
            "type": "pie"
           }
          ],
          "scatter": [
           {
            "fillpattern": {
             "fillmode": "overlay",
             "size": 10,
             "solidity": 0.2
            },
            "type": "scatter"
           }
          ],
          "scatter3d": [
           {
            "line": {
             "colorbar": {
              "outlinewidth": 0,
              "ticks": ""
             }
            },
            "marker": {
             "colorbar": {
              "outlinewidth": 0,
              "ticks": ""
             }
            },
            "type": "scatter3d"
           }
          ],
          "scattercarpet": [
           {
            "marker": {
             "colorbar": {
              "outlinewidth": 0,
              "ticks": ""
             }
            },
            "type": "scattercarpet"
           }
          ],
          "scattergeo": [
           {
            "marker": {
             "colorbar": {
              "outlinewidth": 0,
              "ticks": ""
             }
            },
            "type": "scattergeo"
           }
          ],
          "scattergl": [
           {
            "marker": {
             "colorbar": {
              "outlinewidth": 0,
              "ticks": ""
             }
            },
            "type": "scattergl"
           }
          ],
          "scattermapbox": [
           {
            "marker": {
             "colorbar": {
              "outlinewidth": 0,
              "ticks": ""
             }
            },
            "type": "scattermapbox"
           }
          ],
          "scatterpolar": [
           {
            "marker": {
             "colorbar": {
              "outlinewidth": 0,
              "ticks": ""
             }
            },
            "type": "scatterpolar"
           }
          ],
          "scatterpolargl": [
           {
            "marker": {
             "colorbar": {
              "outlinewidth": 0,
              "ticks": ""
             }
            },
            "type": "scatterpolargl"
           }
          ],
          "scatterternary": [
           {
            "marker": {
             "colorbar": {
              "outlinewidth": 0,
              "ticks": ""
             }
            },
            "type": "scatterternary"
           }
          ],
          "surface": [
           {
            "colorbar": {
             "outlinewidth": 0,
             "ticks": ""
            },
            "colorscale": [
             [
              0,
              "#0d0887"
             ],
             [
              0.1111111111111111,
              "#46039f"
             ],
             [
              0.2222222222222222,
              "#7201a8"
             ],
             [
              0.3333333333333333,
              "#9c179e"
             ],
             [
              0.4444444444444444,
              "#bd3786"
             ],
             [
              0.5555555555555556,
              "#d8576b"
             ],
             [
              0.6666666666666666,
              "#ed7953"
             ],
             [
              0.7777777777777778,
              "#fb9f3a"
             ],
             [
              0.8888888888888888,
              "#fdca26"
             ],
             [
              1,
              "#f0f921"
             ]
            ],
            "type": "surface"
           }
          ],
          "table": [
           {
            "cells": {
             "fill": {
              "color": "#EBF0F8"
             },
             "line": {
              "color": "white"
             }
            },
            "header": {
             "fill": {
              "color": "#C8D4E3"
             },
             "line": {
              "color": "white"
             }
            },
            "type": "table"
           }
          ]
         },
         "layout": {
          "annotationdefaults": {
           "arrowcolor": "#2a3f5f",
           "arrowhead": 0,
           "arrowwidth": 1
          },
          "autotypenumbers": "strict",
          "coloraxis": {
           "colorbar": {
            "outlinewidth": 0,
            "ticks": ""
           }
          },
          "colorscale": {
           "diverging": [
            [
             0,
             "#8e0152"
            ],
            [
             0.1,
             "#c51b7d"
            ],
            [
             0.2,
             "#de77ae"
            ],
            [
             0.3,
             "#f1b6da"
            ],
            [
             0.4,
             "#fde0ef"
            ],
            [
             0.5,
             "#f7f7f7"
            ],
            [
             0.6,
             "#e6f5d0"
            ],
            [
             0.7,
             "#b8e186"
            ],
            [
             0.8,
             "#7fbc41"
            ],
            [
             0.9,
             "#4d9221"
            ],
            [
             1,
             "#276419"
            ]
           ],
           "sequential": [
            [
             0,
             "#0d0887"
            ],
            [
             0.1111111111111111,
             "#46039f"
            ],
            [
             0.2222222222222222,
             "#7201a8"
            ],
            [
             0.3333333333333333,
             "#9c179e"
            ],
            [
             0.4444444444444444,
             "#bd3786"
            ],
            [
             0.5555555555555556,
             "#d8576b"
            ],
            [
             0.6666666666666666,
             "#ed7953"
            ],
            [
             0.7777777777777778,
             "#fb9f3a"
            ],
            [
             0.8888888888888888,
             "#fdca26"
            ],
            [
             1,
             "#f0f921"
            ]
           ],
           "sequentialminus": [
            [
             0,
             "#0d0887"
            ],
            [
             0.1111111111111111,
             "#46039f"
            ],
            [
             0.2222222222222222,
             "#7201a8"
            ],
            [
             0.3333333333333333,
             "#9c179e"
            ],
            [
             0.4444444444444444,
             "#bd3786"
            ],
            [
             0.5555555555555556,
             "#d8576b"
            ],
            [
             0.6666666666666666,
             "#ed7953"
            ],
            [
             0.7777777777777778,
             "#fb9f3a"
            ],
            [
             0.8888888888888888,
             "#fdca26"
            ],
            [
             1,
             "#f0f921"
            ]
           ]
          },
          "colorway": [
           "#636efa",
           "#EF553B",
           "#00cc96",
           "#ab63fa",
           "#FFA15A",
           "#19d3f3",
           "#FF6692",
           "#B6E880",
           "#FF97FF",
           "#FECB52"
          ],
          "font": {
           "color": "#2a3f5f"
          },
          "geo": {
           "bgcolor": "white",
           "lakecolor": "white",
           "landcolor": "#E5ECF6",
           "showlakes": true,
           "showland": true,
           "subunitcolor": "white"
          },
          "hoverlabel": {
           "align": "left"
          },
          "hovermode": "closest",
          "mapbox": {
           "style": "light"
          },
          "paper_bgcolor": "white",
          "plot_bgcolor": "#E5ECF6",
          "polar": {
           "angularaxis": {
            "gridcolor": "white",
            "linecolor": "white",
            "ticks": ""
           },
           "bgcolor": "#E5ECF6",
           "radialaxis": {
            "gridcolor": "white",
            "linecolor": "white",
            "ticks": ""
           }
          },
          "scene": {
           "xaxis": {
            "backgroundcolor": "#E5ECF6",
            "gridcolor": "white",
            "gridwidth": 2,
            "linecolor": "white",
            "showbackground": true,
            "ticks": "",
            "zerolinecolor": "white"
           },
           "yaxis": {
            "backgroundcolor": "#E5ECF6",
            "gridcolor": "white",
            "gridwidth": 2,
            "linecolor": "white",
            "showbackground": true,
            "ticks": "",
            "zerolinecolor": "white"
           },
           "zaxis": {
            "backgroundcolor": "#E5ECF6",
            "gridcolor": "white",
            "gridwidth": 2,
            "linecolor": "white",
            "showbackground": true,
            "ticks": "",
            "zerolinecolor": "white"
           }
          },
          "shapedefaults": {
           "line": {
            "color": "#2a3f5f"
           }
          },
          "ternary": {
           "aaxis": {
            "gridcolor": "white",
            "linecolor": "white",
            "ticks": ""
           },
           "baxis": {
            "gridcolor": "white",
            "linecolor": "white",
            "ticks": ""
           },
           "bgcolor": "#E5ECF6",
           "caxis": {
            "gridcolor": "white",
            "linecolor": "white",
            "ticks": ""
           }
          },
          "title": {
           "x": 0.05
          },
          "xaxis": {
           "automargin": true,
           "gridcolor": "white",
           "linecolor": "white",
           "ticks": "",
           "title": {
            "standoff": 15
           },
           "zerolinecolor": "white",
           "zerolinewidth": 2
          },
          "yaxis": {
           "automargin": true,
           "gridcolor": "white",
           "linecolor": "white",
           "ticks": "",
           "title": {
            "standoff": 15
           },
           "zerolinecolor": "white",
           "zerolinewidth": 2
          }
         }
        },
        "title": {
         "text": "3d TSNE Plot for Topic Model"
        },
        "width": 900
       }
      },
      "image/png": "[encoded data removed]",
      "text/html": [
       "<div>                            <div id=\"34e640cc-dc57-44c5-9aff-c45c2f3a2cb3\" class=\"plotly-graph-div\" style=\"height:800px; width:900px;\"></div>            <script type=\"text/javascript\">                require([\"plotly\"], function(Plotly) {                    window.PLOTLYENV=window.PLOTLYENV || {};                                    if (document.getElementById(\"34e640cc-dc57-44c5-9aff-c45c2f3a2cb3\")) {                    Plotly.newPlot(                        \"34e640cc-dc57-44c5-9aff-c45c2f3a2cb3\",                        [{\"hovertemplate\":\"Dominant_Topic=Topic 0<br>0=%{x}<br>1=%{y}<br>2=%{z}<extra></extra>\",\"legendgroup\":\"Topic 0\",\"marker\":{\"color\":\"#636efa\",\"opacity\":0.7,\"symbol\":\"circle\"},\"mode\":\"markers\",\"name\":\"Topic 0\",\"scene\":\"scene\",\"showlegend\":true,\"x\":[-7.360997200012207,-5.227132797241211,-9.370298385620117,-6.463721752166748,-5.555416107177734,-11.052780151367188,-5.715683460235596,0.8201280832290649,-2.941176176071167,-8.461773872375488,-12.503454208374023,0.3666841983795166,-5.577800750732422,-6.882870674133301,-10.103124618530273,-1.8484915494918823,-6.796497344970703,-6.731307029724121,-8.714377403259277,5.711419105529785,-6.62446928024292,-8.113619804382324,-3.5901074409484863,-4.02788782119751,-9.099874496459961,-4.501457691192627,-5.033721923828125,-13.49322509765625,8.157929420471191,-1.0244356393814087,-1.7299920320510864,-2.9461145401000977,-11.569867134094238,-9.829411506652832,-14.77200984954834,-6.187802791595459,-9.77661418914795,-12.418329238891602,-4.780359268188477,10.042789459228516,-10.640728950500488,-15.475653648376465,-15.425886154174805,-14.9042387008667,-10.304093360900879,2.8382856845855713,-2.690906047821045,2.3637044429779053,-7.317899703979492,7.552989959716797,-15.353225708007812,-15.22618579864502,-15.230472564697266,-7.7081499099731445,-9.287056922912598,-14.054386138916016,-8.93055534362793,-5.582881927490234,-12.496971130371094,-8.650334358215332,-5.624680995941162,5.553400993347168,-9.553138732910156,9.273433685302734,-14.995201110839844,-6.659007549285889,-14.544217109680176,-8.124336242675781,-10.761014938354492,-3.456890821456909,-2.1388282775878906,-2.816500425338745,-6.563628196716309,-3.1603472232818604,-8.558012008666992,-13.464865684509277,1.5657498836517334,-11.970142364501953,-15.337754249572754,2.3058884143829346,-10.521324157714844,5.865553855895996,-4.205753803253174,6.131533145904541,-6.126957416534424,-15.384342193603516,9.368000984191895,3.2663393020629883,5.944246768951416,-13.740209579467773,-14.338761329650879,-0.03627422824501991,-15.378985404968262,-10.08572769165039,7.563824653625488,-6.185633659362793,-7.007630825042725,-1.1094310283660889,-15.034364700317383,-10.341896057128906,1.1224840879440308,-5.706401824951172,9.791422843933105,-13.01520824432373,-7.170982837677002,-10.666289329528809,6.222340106964111,-1.2285618782043457,-1.5788768529891968,-4.594082355499268,-15.344147682189941,-8.075685501098633,-5.661130905151367,0.6613045930862427,-5.053979396820068,-5.3436055183410645,8.361055374145508,-10.908020973205566,8.155866622924805,9.246088981628418,-2.828376531600952,-15.381193161010742,-6.536453723907471,2.95793080329895,-15.38459300994873,-10.837248802185059,-6.113074779510498,-4.647349834442139,3.6957945823669434,-0.2762164771556854,-14.427837371826172,-0.3237335681915283,-5.8743767738342285,-10.260466575622559,-2.3655238151550293,-8.32967472076416,-8.258149147033691,-14.295656204223633,-1.3765079975128174,-14.506293296813965,-15.096548080444336,-11.163934707641602,-10.03376293182373,-7.629405975341797,-7.566283226013184,-7.171447277069092,-7.823256969451904,1.1565500497817993,-14.295105934143066,-14.525071144104004,-6.836685657501221,-1.8494099378585815,-14.068038940429688,-11.553959846496582,-9.141474723815918,-2.9176416397094727,5.17758846282959,-3.5424256324768066,-13.120624542236328,-4.278676509857178,-3.5615997314453125,-11.322491645812988,-6.882305145263672,6.229978561401367,-1.2014085054397583,-8.838476181030273,-6.436948299407959,1.5536741018295288,-13.28059196472168,-6.710973262786865,-7.226233959197998,-8.041162490844727,-15.088068008422852,-6.083989143371582,-15.075474739074707,0.3306284248828888,-4.473945140838623,-7.378253936767578,-5.136477470397949,-14.559553146362305,4.775900840759277,9.207955360412598,-5.918796062469482,-10.239048957824707,-9.921250343322754,-0.6819164752960205,-10.261460304260254,8.163215637207031,-12.735296249389648,2.952775239944458,-9.415523529052734,-7.2795257568359375,7.885864734649658,-6.37676477432251,-8.465185165405273,-2.2111263275146484,2.065310478210449,-12.774045944213867,-11.952153205871582,10.1476411819458,-8.432565689086914,-5.753447532653809,-10.267803192138672,-5.501323223114014,-3.932487964630127,-8.505393981933594,-4.758886337280273,-12.854520797729492,-12.189265251159668,1.9934418201446533,-6.240407466888428,-12.27325439453125,6.5356764793396,-6.212161064147949,7.694804668426514,-14.954031944274902,-9.857020378112793,-5.766762733459473,-10.401176452636719,5.129890441894531,-12.729643821716309,8.0756196975708,-7.758912086486816,-8.330741882324219,-6.594937324523926,-4.063077926635742,-5.693075656890869,-6.475654125213623,-4.518188953399658,-5.126073360443115,-6.485681533813477,-15.373867988586426,-12.785199165344238,0.39171653985977173,0.7844087481498718,-4.5444769859313965,-1.7005772590637207,9.659541130065918,-9.700929641723633,6.323540687561035,-9.208879470825195,4.0943427085876465,-5.692924976348877,8.6571044921875,-5.930092811584473,-15.370370864868164,-10.948909759521484,-4.494305610656738,-6.417625904083252,-5.68729305267334,-10.180975914001465,10.074739456176758,-9.321334838867188,-8.03635311126709,-7.62161922454834,-8.39948844909668,-7.816205024719238,-7.767953395843506,-12.907988548278809,-2.5901100635528564,-7.137786388397217,-5.871682167053223,-6.790793418884277,-14.112093925476074,-6.367076396942139,-4.007237434387207,1.968645691871643,-11.084778785705566,-7.757681369781494,6.631009101867676,-9.130210876464844,0.41530272364616394,-4.865900039672852,-9.603843688964844,-6.490078449249268,-15.18906021118164,-8.911401748657227,-0.17741988599300385,9.747262954711914,-6.308778285980225,-9.864192008972168,-14.206844329833984,-6.764933109283447,0.20612399280071259,0.5812749266624451,9.597335815429688,-6.127455711364746,-10.71144962310791,-9.467309951782227,6.872807025909424,-1.5217456817626953,3.438234567642212,5.608835220336914,-8.072160720825195,-11.881523132324219,3.4237606525421143,-13.285602569580078,-2.5826172828674316,-6.034625053405762,-7.422635078430176,-13.401987075805664,-6.950042247772217,-13.876801490783691,9.007493019104004,-10.460525512695312,-7.153034687042236,-4.615667819976807,-9.813638687133789,-5.113426208496094,7.347179889678955,-4.967239856719971,-8.75517749786377,-4.015069961547852,-10.266802787780762,-6.246829986572266,-5.911156177520752,-11.545432090759277,-11.256498336791992,-8.701922416687012,-13.23023509979248,-11.427006721496582,-6.195387363433838,1.4550071954727173,-13.339573860168457,-11.389993667602539,-14.718877792358398,-9.469403266906738,-10.607768058776855,-14.803177833557129,-4.704268932342529,-7.258232593536377,-9.306478500366211,-6.269250869750977,-11.250337600708008,-9.103301048278809,-9.425299644470215,-14.770950317382812,-9.185615539550781,-8.333320617675781,-10.367535591125488,-14.315559387207031,-5.296877861022949,-2.7423319816589355,10.010750770568848,-14.784483909606934,-4.612845420837402,-12.156144142150879,-6.340842247009277,-2.0690300464630127,-11.049158096313477,-11.392030715942383,-15.18451976776123,-1.9328891038894653,-14.277523040771484,-1.1181343793869019,-10.107770919799805,-6.73448371887207,-6.440195083618164,-13.485501289367676,1.857716679573059,-14.275390625,-10.67795467376709,6.145467758178711,-3.4576570987701416,4.533832550048828,9.866316795349121,9.196670532226562,-10.559929847717285,7.910658836364746,-11.072196960449219,-7.269601345062256,9.60222053527832,-5.002157688140869,-5.435990333557129,-10.057513236999512,-4.483754634857178,-5.323153018951416,-6.877925395965576,-15.341724395751953,-4.956516742706299,-1.1158943176269531,-9.618818283081055,-1.6042931079864502,-9.254530906677246,-1.3769773244857788,-9.726540565490723,-7.326005935668945,-10.003470420837402,-2.9872360229492188,-10.312137603759766,-11.078782081604004,-4.685441970825195,-12.4017333984375,-7.364621162414551,-14.253631591796875,-11.380623817443848,7.617379188537598,-15.281342506408691,-12.37295150756836,-7.952908515930176,-6.025667667388916,-4.0257697105407715,-14.652690887451172,-7.626984596252441,-9.650323867797852,-6.322543621063232,-2.6293487548828125,-10.311534881591797,-7.597078323364258,-4.750386714935303,4.460249900817871,-14.490959167480469,-5.202182769775391,-15.22088623046875,-8.573343276977539,-6.2640180587768555,-1.9240992069244385,-8.631815910339355,-1.3497425317764282,-15.423563003540039,1.4177427291870117,-8.270031929016113,-6.5972442626953125,-3.523399829864502,-1.5534443855285645,-9.700348854064941,-14.372045516967773,-13.731236457824707,-12.729742050170898,-9.540597915649414,-1.5333352088928223,-1.7313947677612305,3.727509021759033,-5.191056728363037,-15.309464454650879,-0.8145883679389954,-13.229775428771973,-9.914935111999512,-7.744339466094971,-6.330874443054199,-12.003198623657227,-1.514245629310608,0.9602499604225159,-7.774411678314209,-7.664152145385742,-6.0457305908203125,-2.3033905029296875,-4.257240295410156,-13.753342628479004,-2.482846260070801,7.085705280303955,-4.371942043304443,-11.74179744720459,-5.313817024230957,-14.400146484375,-8.789312362670898,-8.792325973510742,-11.748190879821777,-10.59797477722168,-11.086217880249023,-1.9824970960617065,-2.0310676097869873,-2.3492608070373535,-14.517977714538574,-14.611228942871094,2.8511545658111572,7.081729888916016,-9.478010177612305,-11.138626098632812,-4.374598503112793,3.442028522491455,-7.616147041320801,-8.81063461303711,1.2641003131866455,-14.291295051574707,-10.185042381286621,-5.781908988952637,-5.181901454925537,-0.9758663177490234,-11.269457817077637,-10.278707504272461,-2.7730822563171387,-1.6123616695404053,-8.0870361328125,-14.939871788024902,-14.524242401123047],\"y\":[-7.178135395050049,6.855713844299316,-0.0884954109787941,6.08330774307251,3.5888490676879883,-1.3956454992294312,-7.290401458740234,-10.978830337524414,-9.531153678894043,0.9139674305915833,-3.919539213180542,-10.829751968383789,3.994292974472046,5.661495208740234,-1.0286251306533813,3.955392360687256,2.382218360900879,2.255880117416382,1.2065998315811157,-12.782772064208984,5.842787742614746,1.506881594657898,3.976558208465576,7.869907855987549,-6.1696906089782715,-8.628122329711914,-8.541167259216309,-2.98075532913208,-13.759592056274414,3.76471209526062,-9.889758110046387,4.045959949493408,-4.583404064178467,3.2760846614837646,0.6302879452705383,2.5429608821868896,-5.899289131164551,-3.888758420944214,3.7463042736053467,-14.596885681152344,-1.389136552810669,-0.3724544048309326,-1.489135980606079,-1.5152274370193481,-1.2458993196487427,-11.736422538757324,4.047371864318848,-11.543684005737305,2.362699031829834,-13.507667541503906,-0.4897315800189972,-0.8860927820205688,0.18838275969028473,1.7338167428970337,3.6645078659057617,1.5602000951766968,-6.265322685241699,6.59076452255249,-3.6719038486480713,1.9010071754455566,2.8280580043792725,-12.722044944763184,-5.922755241394043,-14.19176197052002,-1.4500582218170166,5.8051533699035645,-1.9141154289245605,4.715539455413818,-0.7604772448539734,3.987715482711792,-9.90690803527832,-9.608922004699707,6.1421685218811035,-9.42230224609375,1.2903200387954712,-3.0165209770202637,-11.41822338104248,-0.15094278752803802,0.00955499429255724,-11.558389663696289,-1.1754499673843384,-12.840044975280762,-9.023321151733398,-12.880517959594727,-7.767827987670898,-1.5673209428787231,-14.22802448272705,-11.897506713867188,-12.869242668151855,-2.77498459815979,-1.3045892715454102,-10.743111610412598,-0.32644855976104736,-5.6446051597595215,-13.47452163696289,3.100306510925293,-8.386693954467773,-10.321366310119629,-1.2638453245162964,-5.589317798614502,-11.09309196472168,3.3605432510375977,-14.437668800354004,-3.4186224937438965,2.2712554931640625,-0.8318638801574707,-12.98291301727295,3.809474468231201,-10.043736457824707,3.1288421154022217,-0.524702787399292,-6.840073108673096,3.459343433380127,-10.903079986572266,6.991072654724121,-9.239953994750977,-13.811779022216797,-5.063473224639893,-13.737374305725098,-14.17977523803711,4.037430763244629,-0.23814743757247925,2.8616158962249756,-11.771673202514648,-0.07897892594337463,-1.4316221475601196,-7.482159614562988,3.125058174133301,-11.898675918579102,4.9526686668396,-2.11543869972229,5.088192939758301,6.462794780731201,-5.408472061157227,4.039645195007324,4.545207977294922,1.1362762451171875,-1.2875674962997437,3.858572244644165,0.7610207200050354,-1.1470621824264526,-1.317864179611206,-0.5336315631866455,5.112900733947754,1.8808561563491821,2.2673416137695312,4.959219455718994,-11.137775421142578,-2.1554691791534424,0.7527210712432861,2.5810320377349854,-10.05130672454834,1.5687285661697388,-4.597075462341309,3.032457113265991,4.030385494232178,-12.577078819274902,-9.236878395080566,-3.7876830101013184,3.8478779792785645,-9.228279113769531,0.014165244065225124,2.276174783706665,-12.984819412231445,-10.303383827209473,2.9692375659942627,2.541764736175537,-11.452668190002441,0.6640369892120361,-7.481725692749023,2.2198522090911865,1.5389065742492676,-1.160293698310852,-7.845892906188965,-1.4798753261566162,-10.870123863220215,-8.94392204284668,-7.197235584259033,3.7075796127319336,-1.9619008302688599,-12.429491996765137,-14.147128105163574,3.206787347793579,-5.426454544067383,-5.498076438903809,4.371767520904541,-0.5958378911018372,-13.737272262573242,-3.4225480556488037,-11.778660774230957,0.8030559420585632,1.9615681171417236,-13.547626495361328,2.450338363647461,1.359365701675415,-9.828847885131836,-11.458771705627441,-3.4732816219329834,-0.18230123817920685,-14.6790189743042,4.383365154266357,6.4664225578308105,-0.7764033675193787,6.657327651977539,-9.03331184387207,-6.521856307983398,-8.599034309387207,-3.3969807624816895,0.2854117453098297,-11.45523452758789,3.0632402896881104,-4.042579650878906,-13.093775749206543,6.1436262130737305,-13.600728988647461,-1.3899296522140503,0.5746157765388489,-8.033504486083984,-5.5304412841796875,-12.561297416687012,-3.721470832824707,-13.692000389099121,-7.016922950744629,1.4070794582366943,5.859801769256592,-8.987201690673828,3.3777174949645996,2.4815077781677246,-8.665191650390625,6.937889575958252,5.9454731941223145,-0.06672044843435287,-3.889281749725342,-10.879227638244629,-11.114192008972168,7.402847766876221,-10.111482620239258,-14.36139965057373,0.6510277986526489,-13.015379905700684,3.791100025177002,-12.182687759399414,-7.979041576385498,-13.92638874053955,-7.9560933113098145,-0.017589803785085678,2.6346518993377686,7.446850776672363,5.183191299438477,6.590409755706787,-1.1363298892974854,-14.618481636047363,0.8616739511489868,-6.773287296295166,1.8400276899337769,1.3787444829940796,-6.871261119842529,4.996622085571289,-3.737004041671753,-9.788046836853027,2.0260257720947266,3.3642385005950928,5.735544204711914,-2.6245224475860596,2.4540228843688965,7.886471748352051,-11.241459846496582,-1.299601435661316,1.6822497844696045,-13.131387710571289,3.7986905574798584,-10.906646728515625,-8.612780570983887,-0.3342258632183075,2.872389793395996,-0.9779720306396484,1.095737099647522,-10.691689491271973,-14.412896156311035,-7.582085609436035,-5.73956298828125,-1.2809978723526,2.632331609725952,-10.861686706542969,-10.963396072387695,-14.328065872192383,3.809455633163452,-0.929561197757721,-0.1855970174074173,-13.220354080200195,-10.229019165039062,-11.945219039916992,-12.742695808410645,1.531355857849121,-4.318757057189941,-11.950766563415527,-3.1688232421875,4.0376482009887695,-7.897666931152344,-7.143836498260498,0.6959059238433838,5.624423503875732,0.7643817067146301,-14.084229469299316,-5.3242340087890625,-7.137455463409424,-8.728229522705078,-0.7456850409507751,-8.207108497619629,-13.42818546295166,-8.521381378173828,-6.376618385314941,-8.990449905395508,-0.817554235458374,4.119556427001953,3.407256603240967,-4.604655742645264,0.04516449570655823,4.241845607757568,-3.238964557647705,-4.688042163848877,6.139165878295898,-11.11213207244873,0.6773889064788818,-1.4772942066192627,0.6522585153579712,-5.955440521240234,2.841487407684326,-1.6132292747497559,7.264482498168945,2.2644643783569336,3.6573522090911865,6.097802639007568,0.0329262800514698,0.20964926481246948,-0.15952691435813904,-1.6516414880752563,3.776648998260498,4.065300464630127,-5.6685075759887695,-2.1881163120269775,3.5618703365325928,-9.513891220092773,-14.573186874389648,-1.635774850845337,-8.498705863952637,-0.10867143422365189,2.5551416873931885,-9.948253631591797,-1.2331008911132812,0.05364976078271866,0.2565672695636749,-9.928682327270508,0.7836501002311707,3.8033440113067627,0.46545615792274475,5.908540725708008,-8.332016944885254,0.7133712768554688,-11.170503616333008,-1.2796518802642822,2.7988669872283936,-12.946145057678223,-9.281806945800781,-12.338936805725098,-14.484781265258789,-14.153837203979492,-0.46735820174217224,-13.681827545166016,-1.4086893796920776,2.176156759262085,-14.331880569458008,3.050960063934326,-8.236137390136719,-5.442684173583984,4.369885444641113,3.561387538909912,-7.377284049987793,-0.010035751387476921,7.066346645355225,-10.390469551086426,-5.923930644989014,3.938265562057495,0.047106679528951645,-10.233661651611328,-0.41406869888305664,2.120727062225342,-0.9563803672790527,-9.501439094543457,-5.636180877685547,-1.2736059427261353,3.919682025909424,-3.490791082382202,-7.17854642868042,-1.265495777130127,0.014600696973502636,-13.506637573242188,-0.8151540160179138,-3.9673726558685303,1.4720778465270996,2.9027392864227295,3.893371820449829,-1.8176705837249756,-6.9226202964782715,-0.5477020144462585,6.279163360595703,-9.691170692443848,-0.5699864029884338,1.847428321838379,3.7392430305480957,-12.311965942382812,0.760545015335083,3.6087703704833984,-0.9872726202011108,1.2873902320861816,-7.613308429718018,-10.031068801879883,-6.460790634155273,-10.252482414245605,-1.6152604818344116,-11.425249099731445,4.581172943115234,2.7777533531188965,3.9779365062713623,3.9036526679992676,3.4203431606292725,-1.310886025428772,0.7503939867019653,-3.8642797470092773,3.5281383991241455,3.914341449737549,3.9519081115722656,-12.047303199768066,3.614436149597168,-0.6719917058944702,-10.516688346862793,-3.232375383377075,3.171736240386963,5.021417617797852,6.0521063804626465,-0.18597450852394104,-10.200443267822266,-11.192829132080078,4.999148845672607,5.083769798278809,3.157266616821289,4.485335350036621,7.652595043182373,-2.4301087856292725,-9.75527286529541,-13.304489135742188,-8.755282402038574,-4.441578388214111,-8.306722640991211,-2.096984624862671,4.12545919418335,1.1696281433105469,-4.4634928703308105,-0.809922456741333,-1.3573311567306519,-10.122368812561035,-9.931976318359375,4.068587779998779,-1.966644048690796,0.707531750202179,-11.732926368713379,-13.303032875061035,3.56790828704834,0.12519362568855286,-8.854225158691406,-11.956194877624512,1.8186719417572021,4.066022872924805,-11.079899787902832,-2.191770553588867,3.1077919006347656,4.65131950378418,-8.157440185546875,-10.378478050231934,-4.814122676849365,-0.7510443925857544,4.047109603881836,3.9152350425720215,1.332229733467102,0.4931907653808594,0.7389062643051147],\"z\":[7.65225887298584,0.11172686517238617,-6.835723400115967,-0.3004167675971985,-8.113719940185547,-5.6663312911987305,6.915796279907227,0.6243475079536438,3.799898147583008,-6.9726128578186035,6.7609686851501465,1.1029890775680542,-7.545534610748291,0.7186703085899353,-6.122293949127197,-9.060325622558594,-4.581896781921387,-2.56788969039917,-1.7364535331726074,-0.0063101425766944885,0.6115368604660034,-2.0949714183807373,-8.709216117858887,-0.06745783239603043,8.017824172973633,5.623277187347412,6.159567832946777,5.881137371063232,-0.24960365891456604,-9.150968551635742,1.3639684915542603,-8.811386108398438,7.432260036468506,1.5087701082229614,1.3374266624450684,-2.558927536010742,8.063467979431152,6.908095359802246,-8.483502388000488,0.767286479473114,-5.856105804443359,2.7789359092712402,0.9023640751838684,3.8659000396728516,-6.0931220054626465,0.28473925590515137,-8.866594314575195,0.3790087401866913,-4.227301597595215,-0.11040286719799042,2.7916100025177,3.217557191848755,1.828253149986267,-7.160857677459717,1.456963300704956,2.6171021461486816,7.99806547164917,0.2299148291349411,6.922387599945068,-1.0778194665908813,-3.078646183013916,-0.00035865651443600655,8.038894653320312,-0.09001829475164413,-0.07067402452230453,0.5163072347640991,4.518398284912109,1.3031505346298218,-4.365114688873291,-8.752053260803223,2.9025816917419434,3.7759392261505127,-1.1364165544509888,4.011077880859375,-1.821542739868164,5.888845443725586,0.695749044418335,0.8394243717193604,2.17687726020813,0.4054928421974182,-6.363747596740723,-0.02037510648369789,5.259350776672363,-0.21650166809558868,7.009035587310791,0.7134385108947754,-0.07139663398265839,0.22034457325935364,-0.016750873997807503,5.563742637634277,-1.1806548833847046,1.408488392829895,2.5973968505859375,7.851980686187744,-0.11821683496236801,-8.091631889343262,7.681955337524414,2.0286219120025635,3.6318113803863525,8.06813907623291,0.808915376663208,-8.372179985046387,0.2541598975658417,6.506527423858643,-7.461779594421387,-6.232285022735596,-0.0012858519330620766,-9.140067100524902,1.7965768575668335,-3.9499385356903076,2.868626117706299,7.888783931732178,-8.388785362243652,1.132806658744812,0.06570669263601303,6.45225715637207,-0.14085282385349274,7.733206748962402,-0.14040949940681458,-0.08564387261867523,-8.857534408569336,2.5326619148254395,-7.81232213973999,0.24709635972976685,2.383786916732788,-5.772395133972168,7.083522319793701,-3.879563093185425,-0.2541900873184204,-3.809804916381836,4.674940586090088,-3.591047525405884,-0.3780354857444763,7.8616461753845215,-8.922805786132812,1.349174976348877,-6.998434543609619,-1.2240805625915527,-9.109532356262207,1.1127986907958984,3.5100440979003906,-5.285810947418213,-6.697254180908203,1.1053775548934937,-7.221772193908691,-7.497439384460449,1.1949424743652344,0.7190804481506348,4.884918212890625,1.1214863061904907,-7.657763481140137,2.640489339828491,2.7197628021240234,7.437893390655518,0.6715385913848877,-8.849884033203125,0.01721099577844143,4.507881164550781,7.083613872528076,-8.587374687194824,4.537062644958496,-0.0667915865778923,-3.613041877746582,-0.019445784389972687,2.1587588787078857,0.3192561864852905,-4.585875988006592,0.7329092025756836,0.10276427119970322,7.352555274963379,-7.412172794342041,-2.139146089553833,3.5301132202148438,6.991635322570801,0.06730086356401443,1.1988571882247925,5.570406913757324,7.661785125732422,-8.298454284667969,4.459898471832275,0.041125696152448654,-0.10665614902973175,-8.153717994689941,7.868910789489746,8.036707878112793,-8.734821319580078,-6.5390472412109375,-0.14174968004226685,6.407135009765625,0.2617793083190918,-1.4228832721710205,-2.5927836894989014,-0.06749897450208664,-2.563173770904541,-1.8597420454025269,2.7456586360931396,0.47549816966056824,6.699776649475098,0.8898929953575134,1.1257625818252563,1.3604172468185425,0.3043860197067261,-5.8996124267578125,0.23421697318553925,4.979217052459717,7.937129974365234,5.887211322784424,6.412167549133301,-0.6081434488296509,0.5457406640052795,-8.044046401977539,7.004794120788574,-0.04306847229599953,0.5266751646995544,-0.13799844682216644,3.8139309883117676,-1.2073185443878174,6.791237831115723,8.04433822631836,0.019359366968274117,7.114690780639648,-0.12293154746294022,7.794723033905029,-1.9504252672195435,0.5937255024909973,5.1273393630981445,-8.082319259643555,-2.5863497257232666,5.654898166656494,0.09645701944828033,0.5804487466812134,2.3105568885803223,6.578013896942139,1.0994676351547241,0.7414976954460144,-0.024269677698612213,2.4570889472961426,0.10501463711261749,-1.2880672216415405,-0.027578230947256088,1.4988943338394165,0.1036406084895134,6.716909408569336,-0.14862877130508423,6.871088981628418,2.3425540924072266,1.681239128112793,-0.027618566527962685,-0.04417775198817253,-0.45369595289230347,-6.163040637969971,0.8575605750083923,-1.4656044244766235,7.850854396820068,-6.236819744110107,-1.9049385786056519,7.789320945739746,1.178471565246582,6.439462661743164,3.8571383953094482,-2.524843454360962,-8.323298454284668,0.7041913866996765,5.032079219818115,-2.555203914642334,-0.07097280025482178,0.35471680760383606,-5.780592918395996,-6.579351902008057,-0.06288021057844162,1.46416175365448,1.1146667003631592,5.990437030792236,-6.784417629241943,-7.90648889541626,3.3019890785217285,-1.6438008546829224,1.5012445449829102,0.1940152645111084,7.143479347229004,8.07335376739502,-1.3501484394073486,-7.748523235321045,1.3008884191513062,1.1565476655960083,0.045904118567705154,-7.119837760925293,-6.245445728302002,-6.80171012878418,-0.06968814879655838,2.7239091396331787,0.17449739575386047,-0.005139537621289492,-2.123149871826172,7.236617565155029,0.19213014841079712,6.075581073760986,-8.908455848693848,6.958022117614746,7.672876358032227,0.2061120867729187,0.775556743144989,0.6087393760681152,-0.11315633356571198,7.887526512145996,7.561342239379883,5.7363386154174805,-6.609521865844727,6.255131721496582,-0.08300857245922089,6.09345006942749,7.9751811027526855,5.075286388397217,-6.587233543395996,-6.458780288696289,-8.244847297668457,7.440102577209473,-0.16823247075080872,1.4141279458999634,6.211902618408203,7.504561424255371,0.45958998799324036,0.8164737224578857,0.15397509932518005,-5.267360687255859,1.2655370235443115,8.041825294494629,1.6555544137954712,4.0912933349609375,-0.018771793693304062,-4.3124847412109375,1.4635252952575684,0.5155112743377686,-0.14438852667808533,-6.856341361999512,-6.840340614318848,4.145051002502441,1.4721976518630981,1.6536386013031006,8.023011207580566,4.835070610046387,-8.412461280822754,2.7510204315185547,0.6772525310516357,4.12038516998291,5.8308868408203125,0.9053105711936951,-3.975553512573242,2.9650020599365234,-5.303870677947998,-0.14167052507400513,1.846248745918274,2.3341708183288574,0.933670699596405,-9.1253080368042,-1.057989239692688,-0.2619936764240265,7.293188095092773,0.27265721559524536,0.44078323245048523,-1.2411878108978271,1.6586471796035767,-0.03205440938472748,4.449856758117676,0.05291386693716049,0.38639703392982483,-0.11175773292779922,-3.9224236011505127,-0.07088067382574081,-5.689916610717773,-7.398272514343262,0.05100658908486366,-3.70686674118042,6.50480842590332,8.074304580688477,-2.2232394218444824,-8.392595291137695,7.442265510559082,2.1543335914611816,0.03209798038005829,2.3491322994232178,8.052594184875488,-9.018489837646484,-6.845542907714844,2.319730758666992,-6.615988254547119,-7.390253067016602,-6.499588489532471,3.778315544128418,7.989038467407227,-5.765839099884033,-2.5760366916656494,6.676705837249756,7.652561664581299,-1.2459726333618164,-0.03778330609202385,-0.1533709615468979,3.0747721195220947,6.834666728973389,-7.061390399932861,-2.4602601528167725,-8.643017768859863,4.331185340881348,7.740574359893799,-6.648447036743164,-0.9744974970817566,3.470548629760742,-4.973533630371094,-7.2155866622924805,-2.8052427768707275,0.059438128024339676,1.0944679975509644,-8.416040420532227,3.6143317222595215,-1.8094650506973267,7.103140830993652,2.8816299438476562,7.958986282348633,2.3380229473114014,0.7723532319068909,0.6350583434104919,1.3349181413650513,-7.858524322509766,-8.739734649658203,-9.061223983764648,1.5488020181655884,-1.1286123991012573,0.481711745262146,6.577049732208252,1.5217256546020508,-9.062472343444824,-9.034878730773926,0.13666900992393494,-8.413479804992676,2.985686779022217,2.1419599056243896,6.161619186401367,1.468931794166565,1.170340895652771,0.5433293581008911,0.9375354647636414,2.564800977706909,0.9226603507995605,1.1847783327102661,1.1240097284317017,-8.185856819152832,-7.964427471160889,-0.05673544853925705,5.699299335479736,3.3875014781951904,-0.0694393441081047,5.498336315155029,7.330272197723389,6.408120632171631,4.711658954620361,1.4188024997711182,-1.6920560598373413,7.348837375640869,-5.850682258605957,-5.841100692749023,3.3201024532318115,2.839141607284546,-8.86764907836914,4.542482376098633,1.1713155508041382,0.27269360423088074,-0.06445030122995377,1.5121983289718628,-0.3604591190814972,5.494718074798584,0.20737197995185852,-6.045619010925293,1.4120692014694214,0.9063065648078918,4.877135276794434,1.6069163084030151,-1.1224801540374756,6.321335792541504,1.9746077060699463,7.57743501663208,-5.843332767486572,-8.848196029663086,-9.063512802124023,-6.705759048461914,1.4986233711242676,1.09963858127594],\"type\":\"scatter3d\"},{\"hovertemplate\":\"Dominant_Topic=Topic 1<br>0=%{x}<br>1=%{y}<br>2=%{z}<extra></extra>\",\"legendgroup\":\"Topic 1\",\"marker\":{\"color\":\"#EF553B\",\"opacity\":0.7,\"symbol\":\"circle\"},\"mode\":\"markers\",\"name\":\"Topic 1\",\"scene\":\"scene\",\"showlegend\":true,\"x\":[2.1796326637268066,3.123079299926758,2.0846757888793945,3.4254119396209717,0.8609092235565186,0.866470217704773,0.906673014163971,3.7449092864990234,1.8412894010543823,2.96669864654541,2.7434186935424805,1.1486707925796509,1.7320078611373901,0.6045306324958801,1.37900972366333,0.410040020942688,3.01452374458313,0.3731622099876404,0.8813184499740601,3.3869800567626953,1.178858757019043,0.6536431312561035,3.826105833053589,3.053088426589966,2.106842279434204,2.081200122833252,3.4576704502105713,1.2058753967285156,2.949376344680786,0.5979132652282715,1.9595311880111694,2.289909601211548,1.8413002490997314,1.1833279132843018,2.9515464305877686,3.2726237773895264,3.225255012512207,1.6478029489517212,2.9457757472991943,2.0789308547973633,0.3722494840621948,2.9692015647888184,1.2422099113464355,1.1624553203582764,1.40926992893219,0.8357439041137695,0.5784966349601746,1.0405093431472778,1.50434148311615,3.0947508811950684,0.7970368266105652,0.9167091250419617,1.0361084938049316,2.6076431274414062,1.0743367671966553,3.461289644241333,3.1017723083496094,1.1719788312911987,1.3455809354782104,0.5988446474075317,1.4187023639678955,1.0739779472351074,3.756162166595459,1.3734241724014282,1.9972494840621948,1.6430046558380127,2.667806625366211,1.4181209802627563,0.39172235131263733,0.46300700306892395,3.0062832832336426],\"y\":[6.849356174468994,4.98576021194458,7.02665376663208,4.006320476531982,5.008487224578857,6.124846458435059,5.617201328277588,3.516282558441162,2.9834742546081543,5.413691997528076,4.184787750244141,5.065020561218262,2.7026562690734863,5.096187591552734,5.808513164520264,5.827906608581543,4.053432464599609,5.400432109832764,6.12790584564209,2.9754488468170166,5.440433502197266,5.071907997131348,3.436208486557007,5.127732276916504,6.784613609313965,7.049249172210693,3.755802631378174,5.12837028503418,4.090198993682861,5.331007957458496,2.7419486045837402,6.6718854904174805,4.955214023590088,5.602730751037598,4.090270519256592,3.9006311893463135,4.532893180847168,5.982058525085449,5.293026924133301,6.93462610244751,5.687558174133301,4.077548027038574,5.991262912750244,6.031383514404297,5.365074157714844,5.8155012130737305,6.006139755249023,5.462702751159668,5.920218467712402,4.96599006652832,5.822637557983398,5.301539897918701,5.461698055267334,4.327439785003662,5.166075229644775,3.5340816974639893,3.9933114051818848,5.437283039093018,5.741506099700928,5.534448623657227,5.710925102233887,5.4467082023620605,3.5046141147613525,5.340118408203125,4.744095325469971,5.9840850830078125,4.2818074226379395,5.457050323486328,5.3469953536987305,5.91752815246582,4.055009841918945],\"z\":[6.0027337074279785,5.689688682556152,6.06162166595459,6.858914852142334,12.886351585388184,12.792866706848145,12.242865562438965,6.916272163391113,5.977853298187256,5.02910041809082,8.304007530212402,12.918384552001953,5.19332218170166,12.744441032409668,12.93707275390625,12.940632820129395,7.8703508377075195,12.71145248413086,12.808751106262207,5.7392258644104,11.367390632629395,12.73783016204834,6.809229373931885,5.763197898864746,6.617764949798584,6.011458396911621,7.2327046394348145,12.866073608398438,8.017672538757324,13.223244667053223,5.184635639190674,5.851755142211914,10.47468376159668,13.295687675476074,8.003398895263672,7.440713882446289,6.478086471557617,10.580678939819336,6.010454177856445,6.376212120056152,12.655969619750977,7.990200042724609,12.886520385742188,12.765140533447266,12.841952323913574,13.33767032623291,12.680273056030273,12.167826652526855,10.787226676940918,6.063343048095703,13.32777214050293,13.300673484802246,12.164673805236816,8.706094741821289,10.932247161865234,6.757318496704102,7.734139442443848,11.398821830749512,11.04569149017334,13.31686019897461,12.860623359680176,11.997342109680176,6.8979716300964355,13.007879257202148,10.215005874633789,10.590058326721191,8.581485748291016,10.798136711120605,12.733095169067383,12.685599327087402,7.911261558532715],\"type\":\"scatter3d\"},{\"hovertemplate\":\"Dominant_Topic=Topic 2<br>0=%{x}<br>1=%{y}<br>2=%{z}<extra></extra>\",\"legendgroup\":\"Topic 2\",\"marker\":{\"color\":\"#00cc96\",\"opacity\":0.7,\"symbol\":\"circle\"},\"mode\":\"markers\",\"name\":\"Topic 2\",\"scene\":\"scene\",\"showlegend\":true,\"x\":[0.8522224426269531,-3.3713595867156982,-1.674873948097229,-2.2380826473236084,2.4754419326782227,-0.6653915047645569,1.1962499618530273,-4.366628646850586,-3.095889091491699,0.09701631218194962,-1.560526967048645,-0.7585523128509521,2.3765320777893066,2.021275281906128,2.556725263595581,0.49752071499824524,-3.803992509841919,-3.1062047481536865,-0.31208568811416626,-1.3232932090759277,1.3499560356140137,-2.4694571495056152,0.7477712035179138,2.066763162612915,2.5135421752929688,1.0648243427276611,-0.7450469732284546,0.12804852426052094,-0.7612787485122681,0.3206946849822998,-0.9473083019256592,-1.114808440208435,-1.4073185920715332,1.4628069400787354,-2.7557501792907715,2.612595558166504,-1.3432177305221558,1.0808298587799072,-0.6716161966323853,-0.5377740859985352,2.260537624359131,-1.935471534729004,-1.0086839199066162,-1.334010362625122,-1.2459995746612549,-1.1192244291305542,-0.7689792513847351,2.0361385345458984,-0.7585723400115967,1.151159405708313,-0.7171652317047119,-0.7616626620292664,1.9575724601745605,-0.046184293925762177,-3.6769237518310547,-0.7583474516868591,-0.7031928300857544,-3.641815662384033,2.2407093048095703,-1.0487934350967407,2.2410318851470947,-3.6208105087280273,1.510450839996338,-3.374181032180786,-0.38895881175994873,-1.1134610176086426,1.9965996742248535,-3.1885461807250977,1.5336246490478516,-1.342368721961975,-0.8733476400375366,-0.9230093955993652,-0.5805047154426575,-0.6082404255867004,-2.5194270610809326,1.8019345998764038,2.0167880058288574],\"y\":[9.82583236694336,8.547229766845703,10.73657512664795,9.948501586914062,7.684370040893555,11.276228904724121,9.334778785705566,4.294888973236084,8.89706039428711,10.614690780639648,10.890035629272461,11.632113456726074,6.6123504638671875,8.326905250549316,7.55453634262085,10.226927757263184,8.07663631439209,8.883548736572266,10.85350227355957,12.580460548400879,9.106338500976562,9.66518783569336,7.435449600219727,8.189922332763672,7.576062202453613,9.50403881072998,11.651127815246582,10.576510429382324,11.745518684387207,10.422317504882812,13.09040355682373,13.010690689086914,12.6779203414917,9.058918952941895,9.309151649475098,7.449417591094971,12.686408996582031,9.555329322814941,12.574670791625977,12.7323637008667,7.985561370849609,10.305315017700195,12.625691413879395,11.440284729003906,12.949472427368164,12.354947090148926,12.883023262023926,7.197723388671875,11.632148742675781,9.468063354492188,12.885469436645508,11.767394065856934,8.273926734924316,10.823512077331543,8.225627899169922,11.632674217224121,11.435796737670898,8.264842987060547,8.052206993103027,13.04586124420166,8.061811447143555,8.288054466247559,8.909805297851562,8.56960678100586,11.46609115600586,12.524173736572266,7.300565719604492,8.71997356414795,8.940044403076172,12.742878913879395,12.690457344055176,12.574920654296875,12.70035457611084,12.941071510314941,9.600054740905762,8.580598831176758,8.277599334716797],\"z\":[-0.49390265345573425,-0.0391695611178875,0.44173210859298706,0.2589639127254486,-1.6203770637512207,0.5727902054786682,-0.14517557621002197,-2.349937677383423,0.032416585832834244,0.11165487766265869,0.4801144003868103,0.6498918533325195,5.418478012084961,-1.352461576461792,-1.6610751152038574,-0.25610730051994324,-0.07947912067174911,0.029602816328406334,0.30225029587745667,1.1375126838684082,-0.2732086181640625,0.1933092176914215,-2.0556044578552246,-1.4074245691299438,-1.6460893154144287,-0.11576314270496368,0.6495324969291687,1.3856658935546875,0.6681703329086304,-0.1439991593360901,0.710678219795227,0.6210254430770874,0.9419021010398865,-0.9295213222503662,0.11406413465738297,-1.682826280593872,0.6541074514389038,-0.6555514931678772,1.1867196559906006,0.924374520778656,-1.5124201774597168,0.34380149841308594,0.4503823220729828,0.5831465721130371,1.1147562265396118,1.1615664958953857,1.2335855960845947,5.8192138671875,0.6504363417625427,-0.7107643485069275,0.5781854391098022,0.6653884649276733,-1.3165464401245117,1.3128118515014648,-0.06117425113916397,0.6505585312843323,0.6089158654212952,-0.0577322393655777,-1.4879941940307617,1.1204063892364502,-1.485253930091858,-0.056408487260341644,-0.9356917142868042,-0.022784415632486343,1.096099615097046,1.2744287252426147,5.723072052001953,-0.025204967707395554,-0.9894093871116638,0.6522541642189026,1.3252713680267334,0.45827555656433105,0.6878989934921265,0.9292953014373779,0.1785110980272293,-1.1976752281188965,-1.3687512874603271],\"type\":\"scatter3d\"},{\"hovertemplate\":\"Dominant_Topic=Topic 3<br>0=%{x}<br>1=%{y}<br>2=%{z}<extra></extra>\",\"legendgroup\":\"Topic 3\",\"marker\":{\"color\":\"#ab63fa\",\"opacity\":0.7,\"symbol\":\"circle\"},\"mode\":\"markers\",\"name\":\"Topic 3\",\"scene\":\"scene\",\"showlegend\":true,\"x\":[3.2242684364318848,16.284412384033203,2.201075792312622,8.653237342834473,16.394182205200195,3.6293890476226807,6.296649932861328,17.037437438964844,15.9003324508667,3.0717897415161133,3.1231577396392822,6.664402484893799,1.0882327556610107,7.233613967895508,17.026268005371094,4.0254011154174805,16.314424514770508,5.464539051055908,15.741935729980469,17.012800216674805,4.445653438568115,-0.0001749314833432436,16.479084014892578,13.350001335144043,15.561386108398438,9.489397048950195,17.006067276000977,7.910312652587891,6.907970428466797,17.044883728027344,7.801869869232178,16.890050888061523,17.03505516052246,1.4353652000427246,17.04242515563965,7.673975944519043,16.426124572753906,6.347052097320557,4.9833455085754395,4.053981304168701,6.05778169631958,1.6399122476577759,6.018136024475098,4.193732261657715,5.646276473999023,14.579201698303223,3.0573155879974365,15.935449600219727,2.8241796493530273,0.006391262169927359,6.097399711608887,12.500170707702637,16.197742462158203,3.172178268432617,5.784093379974365,13.614880561828613,13.035606384277344,15.78995132446289,17.033905029296875,1.5536882877349854,15.698517799377441,1.0027769804000854,5.8661956787109375,15.353294372558594,5.1220197677612305,16.954408645629883,4.103212833404541,13.45398998260498,12.147366523742676,16.367197036743164,3.1829042434692383,7.550991535186768,6.370595455169678,16.70448875427246,3.8028976917266846,2.9383914470672607,7.38652229309082,16.9471378326416,4.689985752105713,12.215459823608398,4.399484157562256,10.307090759277344,15.387069702148438,4.837653636932373,16.10480308532715,15.286823272705078,-0.6321185827255249,14.749947547912598,5.519676685333252,14.777435302734375,5.577749729156494,12.98591136932373,8.618664741516113,5.529487133026123,5.048046112060547,14.560497283935547,9.118330955505371,13.018274307250977,8.383126258850098,15.801088333129883,9.826180458068848,16.548025131225586,5.928321838378906,8.699505805969238,13.70957088470459,16.849882125854492,17.02413558959961,9.738009452819824,9.509639739990234,9.341164588928223,7.1176042556762695,6.226952075958252,16.95629119873047,3.4501874446868896,2.675644636154175,12.948424339294434,14.622928619384766,16.87923812866211,16.03815460205078,16.40839195251465,11.94385051727295,16.717187881469727,-0.27116164565086365,3.426795721054077,0.7635670900344849,16.79435157775879,7.681334972381592,5.822264671325684,4.603377819061279,13.371617317199707,16.748123168945312,2.8545162677764893,5.173564910888672,3.2540862560272217,5.162859916687012,8.857522010803223,9.664201736450195,5.816338539123535,5.6344451904296875,9.508805274963379,6.031850337982178,16.53738784790039,16.460983276367188,8.142672538757324,4.529624938964844,9.509735107421875,9.200510025024414,1.7983099222183228,1.9156882762908936,2.9425954818725586,2.818207025527954,16.985624313354492,0.20253974199295044,3.0554211139678955,3.301250457763672,0.2913438081741333,6.376391410827637,6.074244976043701,6.09664249420166,12.580449104309082,8.043004035949707,8.097911834716797,5.308543682098389,4.912708282470703,5.169065475463867,16.93190574645996,15.278799057006836,1.892824649810791,1.699296474456787,16.905925750732422,16.778470993041992,9.157291412353516,17.048450469970703,2.6407015323638916,5.922699928283691,3.318561315536499,12.930033683776855,8.450918197631836,3.36020827293396,2.6372575759887695,8.777909278869629,4.8622002601623535,2.7990987300872803,5.051421642303467,3.8983657360076904,3.2650561332702637,6.50604772567749,15.660832405090332,8.144858360290527,5.839989185333252,16.677257537841797,15.007914543151855,-0.7164714932441711,8.116933822631836,9.189698219299316,15.159493446350098,16.037153244018555,9.545910835266113,16.715322494506836,16.49957275390625,16.145713806152344,5.164933681488037,2.5699410438537598,5.574702262878418,16.851726531982422,5.048539638519287,2.9072134494781494,15.170105934143066,15.557101249694824,3.726233959197998,7.099760055541992,14.512462615966797,5.819600582122803,6.823775768280029,16.365215301513672,16.477218627929688,9.461980819702148,8.092367172241211,2.3840808868408203,9.147085189819336,5.808106422424316,16.3403377532959,7.679290294647217,6.308656692504883,4.645207405090332,6.57520055770874,11.820650100708008,2.880950450897217,6.701862812042236,3.034562110900879,7.247615814208984,16.53190803527832,3.218660593032837,6.463119029998779,16.950366973876953,8.401357650756836,5.482304096221924,5.13218355178833,6.334287643432617,15.041801452636719,14.908958435058594,12.714164733886719,2.678600549697876,3.6187658309936523,15.163542747497559,16.965137481689453,7.881165027618408,2.2674856185913086,13.183451652526855,16.879819869995117,15.207324028015137,5.33882999420166,7.529348850250244,6.003886699676514,3.5924320220947266,15.059907913208008,17.047531127929688,6.018222332000732,1.257946491241455,6.6708984375,1.6528788805007935,16.825063705444336,6.801729202270508,2.735598564147949,8.729315757751465,6.04332160949707,16.049089431762695,2.75191068649292,8.98288631439209,7.129880905151367,5.5527496337890625,6.078171730041504,9.876009941101074,6.948417663574219,2.139916181564331,5.739903450012207,2.5193302631378174,3.1402530670166016,6.003103733062744,15.364614486694336,8.810026168823242,5.526399612426758,0.8770843148231506,9.705164909362793,4.914501667022705,1.2682164907455444,5.656595706939697,7.812735080718994,6.70838737487793,4.514730453491211,8.866342544555664,16.20241928100586,16.63365364074707,15.14555549621582,5.596252918243408,0.760891318321228,2.9618642330169678,15.063075065612793,12.235810279846191,5.422463417053223,16.742504119873047,16.217363357543945,0.4375258684158325,15.693360328674316,6.579507350921631,16.189502716064453,15.232155799865723,8.372115135192871,7.056229114532471,1.349880337715149,5.095197677612305,3.9004342555999756,-0.5838451385498047,15.028322219848633,6.865570545196533,3.1666781902313232,2.6056454181671143,15.446745872497559,6.976776123046875,3.6500046253204346,6.679905891418457,15.761896133422852,16.959796905517578,15.80123519897461,13.595208168029785,16.98760414123535,7.070716857910156,2.5864384174346924,5.7457098960876465,2.723466157913208,15.492531776428223,5.84557580947876,3.5363118648529053,16.816009521484375,16.61084747314453,7.792063236236572,16.478668212890625,7.351878643035889,16.29652214050293,16.86092758178711,5.136012077331543,6.642603874206543,16.649660110473633,17.051570892333984,7.270375728607178,12.647650718688965,11.807619094848633,6.236410140991211,5.0066680908203125,1.073255181312561,15.430237770080566,4.8902130126953125,9.215888023376465,17.048721313476562,5.474242687225342,16.817968368530273,6.450745105743408,12.68747615814209,4.309016227722168,3.6107425689697266,15.000332832336426,15.885326385498047,2.9508163928985596,3.4630467891693115,7.8172712326049805,16.195329666137695],\"y\":[3.134002208709717,-1.2356587648391724,2.2374114990234375,3.027391195297241,-1.8551017045974731,4.757843017578125,1.347413420677185,-4.807114124298096,-9.531449317932129,5.3079729080200195,1.6553561687469482,1.0885275602340698,2.770508289337158,0.029404491186141968,-5.920276165008545,5.0439348220825195,-8.726210594177246,2.0434908866882324,-10.206160545349121,-4.32743501663208,2.8722164630889893,3.3327832221984863,-8.215522766113281,0.040105197578668594,-0.23012250661849976,0.7236347198486328,-4.251359939575195,1.4139511585235596,1.9915932416915894,-5.144801139831543,0.6001964211463928,-3.169569253921509,-4.781750679016113,5.241343975067139,-5.75479793548584,-0.03978952765464783,-1.7429935932159424,0.6521420478820801,2.4423842430114746,5.039385795593262,0.3703124225139618,2.460439682006836,1.5892360210418701,4.885845184326172,0.46686851978302,0.3387202322483063,6.253103256225586,-9.734381675720215,1.8029721975326538,3.341705560684204,3.5524964332580566,0.643592357635498,-9.540303230285645,6.440542697906494,1.746846318244934,-0.10500214993953705,0.7049981355667114,-9.732498168945312,-4.753113746643066,2.5084433555603027,-9.834697723388672,4.908812522888184,0.40087562799453735,-11.26202392578125,0.6229161024093628,-6.263871669769287,1.0651153326034546,-0.02981271967291832,0.617789626121521,-8.591826438903809,4.946244716644287,0.6602465510368347,2.8575892448425293,-7.39522123336792,5.45221471786499,1.7580145597457886,-0.01712571270763874,-6.339972019195557,4.451304912567139,-0.24358080327510834,2.9194493293762207,0.6002156734466553,-11.185004234313965,3.4122087955474854,-9.77808666229248,-11.437557220458984,3.6202611923217773,-11.821981430053711,3.858675003051758,-11.821004867553711,3.522357702255249,0.7042005062103271,0.3228004574775696,1.8132787942886353,2.4006025791168213,-11.868067741394043,0.1336706280708313,0.7060103416442871,0.3940362334251404,-9.985374450683594,0.12265994399785995,-7.955778121948242,1.6525681018829346,3.0803308486938477,-0.15202073752880096,-2.7448394298553467,-5.7382283210754395,0.6722123026847839,0.7118388414382935,0.13274462521076202,0.828468382358551,0.28066083788871765,-6.239085674285889,1.4377555847167969,1.0274044275283813,0.693791925907135,-11.859334945678711,-2.5867576599121094,-9.660481452941895,-1.4458670616149902,0.6497490406036377,-7.340909004211426,3.4586498737335205,1.4264204502105713,2.95259165763855,-1.970650553703308,-0.04437137022614479,1.7415887117385864,2.740631103515625,0.6826602220535278,-7.223686695098877,3.0233616828918457,2.287949800491333,6.204525470733643,2.288776159286499,3.009434461593628,2.4038805961608887,2.83748459815979,1.9166078567504883,0.7118358016014099,1.5332432985305786,-2.4567880630493164,-8.281516075134277,3.1293318271636963,0.8689399361610413,0.7118396162986755,2.837775230407715,5.430346965789795,5.191289901733398,6.810102462768555,1.780118703842163,-3.944674491882324,3.2368218898773193,5.603482723236084,1.5497301816940308,3.187133550643921,0.2206631898880005,1.5080137252807617,0.9184317588806152,0.6574416756629944,0.5227482318878174,0.9814692735671997,3.3371529579162598,0.705442488193512,2.3080217838287354,-3.438446283340454,-11.449731826782227,2.3250679969787598,2.430060386657715,-3.3624117374420166,-7.10705041885376,0.7861794233322144,-5.397636890411377,1.9039777517318726,1.617072343826294,2.793834686279297,0.6981024742126465,0.9067111015319824,5.978053092956543,1.6795029640197754,3.068617582321167,2.5405540466308594,1.8539289236068726,4.044459819793701,1.1909319162368774,2.9084813594818115,2.86281681060791,-0.32259461283683777,0.48052889108657837,1.7375174760818481,-7.51094913482666,-11.72391128540039,3.6306495666503906,-0.02795240841805935,0.7811009287834167,0.08508231490850449,-10.137431144714355,2.5824549198150635,-2.454610824584961,-8.094170570373535,-9.988277435302734,3.280782461166382,1.9023677110671997,2.3312861919403076,-2.6734673976898193,0.6504345536231995,2.858975648880005,0.08008500188589096,-10.72177791595459,1.2963098287582397,0.8341363668441772,0.35462087392807007,1.7710456848144531,1.1601529121398926,-2.0560684204101562,-1.6994733810424805,0.13343188166618347,1.001929521560669,2.775064706802368,0.19479282200336456,1.7821476459503174,-8.690603256225586,0.6322610378265381,1.3356881141662598,0.8066880702972412,0.17821554839611053,2.088078022003174,6.382774829864502,0.1337355375289917,5.313065528869629,0.7604326009750366,-8.008209228515625,6.037880897521973,1.2285449504852295,-3.6172029972076416,0.9168016314506531,2.0280332565307617,2.3164806365966797,1.316170334815979,0.14816252887248993,-11.770249366760254,0.6921124458312988,7.245738983154297,5.27487850189209,0.08252018690109253,-6.188225269317627,0.5665104389190674,2.0341403484344482,0.7133694887161255,-2.2969486713409424,0.0585319809615612,0.5557677149772644,-0.03461744636297226,0.34983938932418823,5.514961242675781,-11.695497512817383,-5.835881233215332,1.5445295572280884,4.527932167053223,0.676457405090332,2.45194673538208,-2.0536649227142334,0.21449391543865204,7.22078275680542,2.911560535430908,1.5302644968032837,-9.447510719299316,6.918720722198486,2.9686279296875,0.8147556185722351,2.0160140991210938,1.508270263671875,0.6414833068847656,0.9106963872909546,2.1790683269500732,3.4535884857177734,5.747237205505371,5.068917274475098,1.7769368886947632,-11.248448371887207,0.2604336142539978,1.9986902475357056,2.8880088329315186,0.6738114356994629,2.494002342224121,2.725646734237671,3.656676769256592,-0.059552665799856186,0.15321215987205505,4.3846001625061035,3.001217842102051,-1.1085833311080933,-2.349277973175049,-11.584628105163574,3.8086295127868652,2.9523332118988037,6.318295478820801,-11.694622039794922,-0.2537907660007477,2.085533857345581,-7.240318775177002,-8.986144065856934,5.047247886657715,-10.529038429260254,0.15203507244586945,-9.520633697509766,0.042449913918972015,0.9336943626403809,0.09979687631130219,2.616978645324707,3.3186614513397217,2.3158631324768066,3.599148988723755,-0.037893347442150116,0.8091934323310852,4.966362476348877,3.331174850463867,-0.13283030688762665,0.9006221294403076,0.3370584547519684,1.0782235860824585,-10.442699432373047,-6.106971740722656,-0.5192421078681946,-0.09860380738973618,-5.877705097198486,3.217670202255249,4.935058116912842,2.9049267768859863,7.266489028930664,-10.980012893676758,1.7485074996948242,2.5101261138916016,-6.950204372406006,-2.6085891723632812,0.5921531915664673,-1.8460209369659424,0.7192894220352173,-1.2471427917480469,-3.1299943923950195,4.1100664138793945,3.2654788494110107,-1.741154432296753,-5.435979843139648,0.7492980360984802,0.6724995970726013,2.112262010574341,0.2877444624900818,4.0961503982543945,4.860725402832031,-0.11297082901000977,4.070559501647949,2.796506881713867,-5.112117290496826,0.5067601799964905,-2.7838757038116455,1.2310938835144043,0.6664814352989197,0.9857770800590515,1.2842249870300293,0.16619929671287537,-10.322816848754883,5.4742431640625,5.9099860191345215,3.158252477645874,-1.0935261249542236],\"z\":[4.758302211761475,-2.9511144161224365,-8.127557754516602,-3.621077299118042,-3.0904104709625244,-2.4764492511749268,2.6377875804901123,-4.203742980957031,-6.245834827423096,-2.4377052783966064,-8.795802116394043,1.8552956581115723,-9.18433952331543,-6.234195232391357,-4.522863864898682,-2.158102512359619,-5.772006034851074,5.140260219573975,-6.181818962097168,-4.028991222381592,6.292469501495361,-9.226469993591309,-5.554669380187988,-4.866250038146973,-2.750856637954712,-3.779393434524536,-4.007181644439697,-2.8709192276000977,-1.5442779064178467,-4.32350492477417,-0.3811585009098053,-3.5800962448120117,-4.206117630004883,-3.2905361652374268,-4.657474994659424,-5.97390079498291,-3.0719175338745117,-6.12611198425293,5.825961112976074,-2.1604223251342773,-6.862760066986084,-9.105657577514648,3.9038989543914795,-2.178818941116333,-7.205821514129639,-2.916205406188965,-1.950204610824585,-5.939940452575684,-8.877779960632324,-9.213305473327637,-2.6364729404449463,-3.5261428356170654,-6.096494197845459,-1.960663914680481,4.029904365539551,-5.068488597869873,-3.288839340209961,-6.033156394958496,-4.187732219696045,-9.105084419250488,-6.2794342041015625,-3.80975604057312,-7.049795627593994,-6.699443817138672,-7.60495662689209,-4.745672225952148,-8.271689414978027,-4.989793300628662,-3.5929360389709473,-5.714267730712891,4.651248931884766,0.10133341699838638,-3.273344039916992,-5.210796356201172,-2.1208951473236084,-8.856337547302246,-6.175806999206543,-4.776834964752197,-2.2502858638763428,-2.277221918106079,6.351602077484131,-3.785858392715454,-6.66985559463501,-2.6389224529266357,-5.972423553466797,-6.797054290771484,-9.181818962097168,-7.378640651702881,-2.4184072017669678,-7.3502197265625,-2.0632264614105225,-3.3236753940582275,-1.4361419677734375,4.1753249168396,5.791788578033447,-7.574659824371338,-4.939244270324707,-3.3040757179260254,-1.1529866456985474,-6.478147029876709,-2.4886529445648193,-5.447109222412109,4.013237953186035,-3.631322145462036,-5.110148906707764,-3.270362377166748,-4.579587459564209,-3.79372239112854,-3.798940658569336,-2.0648868083953857,1.0373902320861816,-6.823032379150391,-4.737713813781738,-8.6267728805542,-8.519698143005371,-3.367084264755249,-7.513768672943115,-3.1998250484466553,-6.397787094116211,-3.0503926277160645,-3.6316020488739014,-5.188430309295654,-9.213549613952637,-8.613143920898438,-9.199174880981445,-3.259687900543213,-5.975935459136963,4.1377716064453125,6.16331672668457,-3.1872549057006836,-5.13735818862915,4.123878479003906,5.602042198181152,-1.9913384914398193,5.589743614196777,-3.6731340885162354,-3.8187930583953857,-1.0873034000396729,4.858130931854248,-3.799168109893799,3.3306961059570312,-3.1847352981567383,-5.581099987030029,-3.466695547103882,-8.011202812194824,-3.7989144325256348,-3.7498056888580322,-3.002073287963867,-3.109694719314575,-1.8627405166625977,-8.834904670715332,-3.8864986896514893,-9.22110366821289,-0.7835057377815247,-8.721721649169922,-9.226003646850586,-6.751644611358643,3.3908541202545166,-5.977554798126221,-3.4875240325927734,-0.7575074434280396,-3.624289035797119,-1.1850039958953857,-7.759836673736572,5.6487860679626465,-3.6888022422790527,-6.7995195388793945,-9.052252769470215,-9.080819129943848,-3.7269325256347656,-5.092240810394287,-3.7666192054748535,-4.4073920249938965,-8.942391395568848,3.7515153884887695,4.8612141609191895,-3.3583602905273438,-3.659402847290039,-2.024322986602783,-8.56205940246582,-3.652508020401001,5.957707405090332,-8.941902160644531,-2.2635514736175537,-8.41023063659668,5.50659704208374,-2.3576431274414062,-2.763774871826172,-0.869395911693573,3.3581011295318604,-5.258188724517822,-7.108726501464844,-9.194488525390625,-5.666682720184326,-3.770937442779541,-2.861842632293701,-6.3975934982299805,-3.806303024291992,-3.1231882572174072,-5.502981662750244,-6.207972049713135,-0.6475523114204407,-8.877847671508789,1.4266457557678223,-3.5520100593566895,-7.657585144042969,5.230960845947266,-2.847642183303833,-6.467396259307861,-8.505084037780762,1.0481799840927124,-2.935671806335449,4.4616899490356445,-4.993378639221191,-4.767536640167236,-3.0088768005371094,-2.2077889442443848,-3.607304573059082,5.006937503814697,-1.999999761581421,4.482766628265381,-5.759485244750977,-0.1584344357252121,2.692187547683716,-7.923922061920166,-6.614797115325928,-3.698969841003418,-1.517875075340271,-6.562994003295898,4.606616973876953,0.7320646643638611,-5.467500686645508,-1.9959584474563599,2.21774959564209,-3.779186725616455,-3.663254976272583,5.155416965484619,5.625099182128906,2.632887363433838,-2.846510887145996,-7.181551456451416,-3.417323350906372,-1.7341667413711548,-1.7114667892456055,-2.8486154079437256,-4.727901458740234,-0.4825834035873413,-8.84831714630127,-3.228790283203125,-3.4590418338775635,-2.8011627197265625,-7.446116924285889,-6.082422256469727,-6.970142364501953,-1.962119460105896,-7.054348945617676,-4.558188438415527,3.272022247314453,-4.403514862060547,0.8972091674804688,-9.080572128295898,-3.2878971099853516,-6.3339033126831055,-1.7496049404144287,-3.646418571472168,3.549506902694702,-6.132087707519531,-1.7964932918548584,-3.702502965927124,0.9644016623497009,4.980161190032959,3.3160147666931152,-3.799431085586548,1.302433729171753,-9.025091171264648,-2.2066094875335693,-2.4795703887939453,4.563120365142822,1.8113067150115967,-6.696810722351074,-1.6171228885650635,4.985713958740234,-9.199992179870605,-3.800598382949829,5.887380123138428,-9.088602066040039,-2.450748920440674,-5.901649475097656,-6.524860858917236,-2.1920034885406494,-3.6755712032318115,-2.918009042739868,-3.625258684158325,-6.904292583465576,-2.4431509971618652,-9.203441619873047,-1.9181305170059204,-7.0511040687561035,-2.263154983520508,5.238406658172607,-5.144777774810791,-5.866926193237305,-3.6569764614105225,-6.469917297363281,-6.656104564666748,-6.140839576721191,-2.7662951946258545,-3.65177845954895,-6.278531074523926,-9.152267456054688,-0.5658643245697021,3.303327798843384,-9.191243171691895,-3.763277053833008,1.094973087310791,4.790655612945557,4.157468795776367,-2.783905267715454,1.2873221635818481,-8.140585899353027,1.8004106283187866,-6.423228740692139,-4.70614767074585,-2.798689365386963,-5.068582534790039,-4.547800540924072,-3.072983741760254,-2.9126665592193604,-3.272648811340332,-1.743630051612854,-6.5606608390808105,4.371511936187744,3.4617109298706055,-5.024409770965576,-3.497504472732544,-0.32940924167633057,-3.6043975353240967,0.5205082893371582,-2.9556076526641846,-3.7202577590942383,-2.3185980319976807,-2.8869893550872803,-3.132941961288452,-4.416411399841309,0.664811909198761,-3.4440135955810547,-3.7021450996398926,-6.7970356941223145,-2.2617435455322266,-3.8767483234405518,-2.7599599361419678,-2.2185866832733154,-3.752253293991089,-4.305776596069336,-7.359254360198975,-3.6534407138824463,2.288597345352173,-3.4520416259765625,-8.1613187789917,-8.150898933410645,-2.891223907470703,-6.323338031768799,4.858398914337158,-2.047903537750244,-3.3582937717437744,-2.9192938804626465],\"type\":\"scatter3d\"}],                        {\"template\":{\"data\":{\"histogram2dcontour\":[{\"type\":\"histogram2dcontour\",\"colorbar\":{\"outlinewidth\":0,\"ticks\":\"\"},\"colorscale\":[[0.0,\"#0d0887\"],[0.1111111111111111,\"#46039f\"],[0.2222222222222222,\"#7201a8\"],[0.3333333333333333,\"#9c179e\"],[0.4444444444444444,\"#bd3786\"],[0.5555555555555556,\"#d8576b\"],[0.6666666666666666,\"#ed7953\"],[0.7777777777777778,\"#fb9f3a\"],[0.8888888888888888,\"#fdca26\"],[1.0,\"#f0f921\"]]}],\"choropleth\":[{\"type\":\"choropleth\",\"colorbar\":{\"outlinewidth\":0,\"ticks\":\"\"}}],\"histogram2d\":[{\"type\":\"histogram2d\",\"colorbar\":{\"outlinewidth\":0,\"ticks\":\"\"},\"colorscale\":[[0.0,\"#0d0887\"],[0.1111111111111111,\"#46039f\"],[0.2222222222222222,\"#7201a8\"],[0.3333333333333333,\"#9c179e\"],[0.4444444444444444,\"#bd3786\"],[0.5555555555555556,\"#d8576b\"],[0.6666666666666666,\"#ed7953\"],[0.7777777777777778,\"#fb9f3a\"],[0.8888888888888888,\"#fdca26\"],[1.0,\"#f0f921\"]]}],\"heatmap\":[{\"type\":\"heatmap\",\"colorbar\":{\"outlinewidth\":0,\"ticks\":\"\"},\"colorscale\":[[0.0,\"#0d0887\"],[0.1111111111111111,\"#46039f\"],[0.2222222222222222,\"#7201a8\"],[0.3333333333333333,\"#9c179e\"],[0.4444444444444444,\"#bd3786\"],[0.5555555555555556,\"#d8576b\"],[0.6666666666666666,\"#ed7953\"],[0.7777777777777778,\"#fb9f3a\"],[0.8888888888888888,\"#fdca26\"],[1.0,\"#f0f921\"]]}],\"heatmapgl\":[{\"type\":\"heatmapgl\",\"colorbar\":{\"outlinewidth\":0,\"ticks\":\"\"},\"colorscale\":[[0.0,\"#0d0887\"],[0.1111111111111111,\"#46039f\"],[0.2222222222222222,\"#7201a8\"],[0.3333333333333333,\"#9c179e\"],[0.4444444444444444,\"#bd3786\"],[0.5555555555555556,\"#d8576b\"],[0.6666666666666666,\"#ed7953\"],[0.7777777777777778,\"#fb9f3a\"],[0.8888888888888888,\"#fdca26\"],[1.0,\"#f0f921\"]]}],\"contourcarpet\":[{\"type\":\"contourcarpet\",\"colorbar\":{\"outlinewidth\":0,\"ticks\":\"\"}}],\"contour\":[{\"type\":\"contour\",\"colorbar\":{\"outlinewidth\":0,\"ticks\":\"\"},\"colorscale\":[[0.0,\"#0d0887\"],[0.1111111111111111,\"#46039f\"],[0.2222222222222222,\"#7201a8\"],[0.3333333333333333,\"#9c179e\"],[0.4444444444444444,\"#bd3786\"],[0.5555555555555556,\"#d8576b\"],[0.6666666666666666,\"#ed7953\"],[0.7777777777777778,\"#fb9f3a\"],[0.8888888888888888,\"#fdca26\"],[1.0,\"#f0f921\"]]}],\"surface\":[{\"type\":\"surface\",\"colorbar\":{\"outlinewidth\":0,\"ticks\":\"\"},\"colorscale\":[[0.0,\"#0d0887\"],[0.1111111111111111,\"#46039f\"],[0.2222222222222222,\"#7201a8\"],[0.3333333333333333,\"#9c179e\"],[0.4444444444444444,\"#bd3786\"],[0.5555555555555556,\"#d8576b\"],[0.6666666666666666,\"#ed7953\"],[0.7777777777777778,\"#fb9f3a\"],[0.8888888888888888,\"#fdca26\"],[1.0,\"#f0f921\"]]}],\"mesh3d\":[{\"type\":\"mesh3d\",\"colorbar\":{\"outlinewidth\":0,\"ticks\":\"\"}}],\"scatter\":[{\"fillpattern\":{\"fillmode\":\"overlay\",\"size\":10,\"solidity\":0.2},\"type\":\"scatter\"}],\"parcoords\":[{\"type\":\"parcoords\",\"line\":{\"colorbar\":{\"outlinewidth\":0,\"ticks\":\"\"}}}],\"scatterpolargl\":[{\"type\":\"scatterpolargl\",\"marker\":{\"colorbar\":{\"outlinewidth\":0,\"ticks\":\"\"}}}],\"bar\":[{\"error_x\":{\"color\":\"#2a3f5f\"},\"error_y\":{\"color\":\"#2a3f5f\"},\"marker\":{\"line\":{\"color\":\"#E5ECF6\",\"width\":0.5},\"pattern\":{\"fillmode\":\"overlay\",\"size\":10,\"solidity\":0.2}},\"type\":\"bar\"}],\"scattergeo\":[{\"type\":\"scattergeo\",\"marker\":{\"colorbar\":{\"outlinewidth\":0,\"ticks\":\"\"}}}],\"scatterpolar\":[{\"type\":\"scatterpolar\",\"marker\":{\"colorbar\":{\"outlinewidth\":0,\"ticks\":\"\"}}}],\"histogram\":[{\"marker\":{\"pattern\":{\"fillmode\":\"overlay\",\"size\":10,\"solidity\":0.2}},\"type\":\"histogram\"}],\"scattergl\":[{\"type\":\"scattergl\",\"marker\":{\"colorbar\":{\"outlinewidth\":0,\"ticks\":\"\"}}}],\"scatter3d\":[{\"type\":\"scatter3d\",\"line\":{\"colorbar\":{\"outlinewidth\":0,\"ticks\":\"\"}},\"marker\":{\"colorbar\":{\"outlinewidth\":0,\"ticks\":\"\"}}}],\"scattermapbox\":[{\"type\":\"scattermapbox\",\"marker\":{\"colorbar\":{\"outlinewidth\":0,\"ticks\":\"\"}}}],\"scatterternary\":[{\"type\":\"scatterternary\",\"marker\":{\"colorbar\":{\"outlinewidth\":0,\"ticks\":\"\"}}}],\"scattercarpet\":[{\"type\":\"scattercarpet\",\"marker\":{\"colorbar\":{\"outlinewidth\":0,\"ticks\":\"\"}}}],\"carpet\":[{\"aaxis\":{\"endlinecolor\":\"#2a3f5f\",\"gridcolor\":\"white\",\"linecolor\":\"white\",\"minorgridcolor\":\"white\",\"startlinecolor\":\"#2a3f5f\"},\"baxis\":{\"endlinecolor\":\"#2a3f5f\",\"gridcolor\":\"white\",\"linecolor\":\"white\",\"minorgridcolor\":\"white\",\"startlinecolor\":\"#2a3f5f\"},\"type\":\"carpet\"}],\"table\":[{\"cells\":{\"fill\":{\"color\":\"#EBF0F8\"},\"line\":{\"color\":\"white\"}},\"header\":{\"fill\":{\"color\":\"#C8D4E3\"},\"line\":{\"color\":\"white\"}},\"type\":\"table\"}],\"barpolar\":[{\"marker\":{\"line\":{\"color\":\"#E5ECF6\",\"width\":0.5},\"pattern\":{\"fillmode\":\"overlay\",\"size\":10,\"solidity\":0.2}},\"type\":\"barpolar\"}],\"pie\":[{\"automargin\":true,\"type\":\"pie\"}]},\"layout\":{\"autotypenumbers\":\"strict\",\"colorway\":[\"#636efa\",\"#EF553B\",\"#00cc96\",\"#ab63fa\",\"#FFA15A\",\"#19d3f3\",\"#FF6692\",\"#B6E880\",\"#FF97FF\",\"#FECB52\"],\"font\":{\"color\":\"#2a3f5f\"},\"hovermode\":\"closest\",\"hoverlabel\":{\"align\":\"left\"},\"paper_bgcolor\":\"white\",\"plot_bgcolor\":\"#E5ECF6\",\"polar\":{\"bgcolor\":\"#E5ECF6\",\"angularaxis\":{\"gridcolor\":\"white\",\"linecolor\":\"white\",\"ticks\":\"\"},\"radialaxis\":{\"gridcolor\":\"white\",\"linecolor\":\"white\",\"ticks\":\"\"}},\"ternary\":{\"bgcolor\":\"#E5ECF6\",\"aaxis\":{\"gridcolor\":\"white\",\"linecolor\":\"white\",\"ticks\":\"\"},\"baxis\":{\"gridcolor\":\"white\",\"linecolor\":\"white\",\"ticks\":\"\"},\"caxis\":{\"gridcolor\":\"white\",\"linecolor\":\"white\",\"ticks\":\"\"}},\"coloraxis\":{\"colorbar\":{\"outlinewidth\":0,\"ticks\":\"\"}},\"colorscale\":{\"sequential\":[[0.0,\"#0d0887\"],[0.1111111111111111,\"#46039f\"],[0.2222222222222222,\"#7201a8\"],[0.3333333333333333,\"#9c179e\"],[0.4444444444444444,\"#bd3786\"],[0.5555555555555556,\"#d8576b\"],[0.6666666666666666,\"#ed7953\"],[0.7777777777777778,\"#fb9f3a\"],[0.8888888888888888,\"#fdca26\"],[1.0,\"#f0f921\"]],\"sequentialminus\":[[0.0,\"#0d0887\"],[0.1111111111111111,\"#46039f\"],[0.2222222222222222,\"#7201a8\"],[0.3333333333333333,\"#9c179e\"],[0.4444444444444444,\"#bd3786\"],[0.5555555555555556,\"#d8576b\"],[0.6666666666666666,\"#ed7953\"],[0.7777777777777778,\"#fb9f3a\"],[0.8888888888888888,\"#fdca26\"],[1.0,\"#f0f921\"]],\"diverging\":[[0,\"#8e0152\"],[0.1,\"#c51b7d\"],[0.2,\"#de77ae\"],[0.3,\"#f1b6da\"],[0.4,\"#fde0ef\"],[0.5,\"#f7f7f7\"],[0.6,\"#e6f5d0\"],[0.7,\"#b8e186\"],[0.8,\"#7fbc41\"],[0.9,\"#4d9221\"],[1,\"#276419\"]]},\"xaxis\":{\"gridcolor\":\"white\",\"linecolor\":\"white\",\"ticks\":\"\",\"title\":{\"standoff\":15},\"zerolinecolor\":\"white\",\"automargin\":true,\"zerolinewidth\":2},\"yaxis\":{\"gridcolor\":\"white\",\"linecolor\":\"white\",\"ticks\":\"\",\"title\":{\"standoff\":15},\"zerolinecolor\":\"white\",\"automargin\":true,\"zerolinewidth\":2},\"scene\":{\"xaxis\":{\"backgroundcolor\":\"#E5ECF6\",\"gridcolor\":\"white\",\"linecolor\":\"white\",\"showbackground\":true,\"ticks\":\"\",\"zerolinecolor\":\"white\",\"gridwidth\":2},\"yaxis\":{\"backgroundcolor\":\"#E5ECF6\",\"gridcolor\":\"white\",\"linecolor\":\"white\",\"showbackground\":true,\"ticks\":\"\",\"zerolinecolor\":\"white\",\"gridwidth\":2},\"zaxis\":{\"backgroundcolor\":\"#E5ECF6\",\"gridcolor\":\"white\",\"linecolor\":\"white\",\"showbackground\":true,\"ticks\":\"\",\"zerolinecolor\":\"white\",\"gridwidth\":2}},\"shapedefaults\":{\"line\":{\"color\":\"#2a3f5f\"}},\"annotationdefaults\":{\"arrowcolor\":\"#2a3f5f\",\"arrowhead\":0,\"arrowwidth\":1},\"geo\":{\"bgcolor\":\"white\",\"landcolor\":\"#E5ECF6\",\"subunitcolor\":\"white\",\"showland\":true,\"showlakes\":true,\"lakecolor\":\"white\"},\"title\":{\"x\":0.05},\"mapbox\":{\"style\":\"light\"}}},\"scene\":{\"domain\":{\"x\":[0.0,1.0],\"y\":[0.0,1.0]},\"xaxis\":{\"title\":{\"text\":\"0\"}},\"yaxis\":{\"title\":{\"text\":\"1\"}},\"zaxis\":{\"title\":{\"text\":\"2\"}}},\"legend\":{\"title\":{\"text\":\"Dominant_Topic\"},\"tracegroupgap\":0},\"title\":{\"text\":\"3d TSNE Plot for Topic Model\"},\"height\":800,\"width\":900},                        {\"responsive\": true}                    ).then(function(){\n",
       "                            \n",
       "var gd = document.getElementById('34e640cc-dc57-44c5-9aff-c45c2f3a2cb3');\n",
       "var x = new MutationObserver(function (mutations, observer) {{\n",
       "        var display = window.getComputedStyle(gd).display;\n",
       "        if (!display || display === 'none') {{\n",
       "            console.log([gd, 'removed!']);\n",
       "            Plotly.purge(gd);\n",
       "            observer.disconnect();\n",
       "        }}\n",
       "}});\n",
       "\n",
       "// Listen for the removal of the full notebook cells\n",
       "var notebookContainer = gd.closest('#notebook-container');\n",
       "if (notebookContainer) {{\n",
       "    x.observe(notebookContainer, {childList: true});\n",
       "}}\n",
       "\n",
       "// Listen for the clearing of the current output cell\n",
       "var outputEl = gd.closest('.output');\n",
       "if (outputEl) {{\n",
       "    x.observe(outputEl, {childList: true});\n",
       "}}\n",
       "\n",
       "                        })                };                });            </script>        </div>"
      ]
     },
     "metadata": {},
     "output_type": "display_data"
    }
   ],
   "source": [
    "plot_model(lda, plot = 'tsne')"
   ]
  },
  {
   "cell_type": "markdown",
   "id": "a9ace867",
   "metadata": {},
   "source": [
    "### [UMAP: Uniform Manifold Approximation and Projection for Dimension Reduction](https://umap-learn.readthedocs.io/en/latest/index.html)"
   ]
  },
  {
   "cell_type": "code",
   "execution_count": 27,
   "id": "b2bfa0ff",
   "metadata": {},
   "outputs": [
    {
     "data": {
      "text/html": [
       "        <script type=\"text/javascript\">\n",
       "        window.PlotlyConfig = {MathJaxConfig: 'local'};\n",
       "        if (window.MathJax) {MathJax.Hub.Config({SVG: {font: \"STIX-Web\"}});}\n",
       "        if (typeof require !== 'undefined') {\n",
       "        require.undef(\"plotly\");\n",
       "        requirejs.config({\n",
       "            paths: {\n",
       "                'plotly': ['https://cdn.plot.ly/plotly-2.11.1.min']\n",
       "            }\n",
       "        });\n",
       "        require(['plotly'], function(Plotly) {\n",
       "            window._Plotly = Plotly;\n",
       "        });\n",
       "        }\n",
       "        </script>\n",
       "        "
      ]
     },
     "metadata": {},
     "output_type": "display_data"
    },
    {
     "data": {
      "image/png": "[encoded data removed]",
      "text/plain": [
       "<Figure size 720x432 with 1 Axes>"
      ]
     },
     "metadata": {},
     "output_type": "display_data"
    }
   ],
   "source": [
    "plot_model(lda, plot = 'umap')"
   ]
  },
  {
   "cell_type": "code",
   "execution_count": null,
   "id": "a7386533",
   "metadata": {},
   "outputs": [],
   "source": [
    "evaluate_model(lda)"
   ]
  },
  {
   "cell_type": "code",
   "execution_count": null,
   "id": "f45a40b0",
   "metadata": {},
   "outputs": [],
   "source": [
    "save_model(lda,'./NLP01')"
   ]
  },
  {
   "cell_type": "code",
   "execution_count": null,
   "id": "392a103d",
   "metadata": {},
   "outputs": [],
   "source": [
    "saved_lda = load_model('./NLP01')"
   ]
  },
  {
   "cell_type": "code",
   "execution_count": null,
   "id": "841c37bd",
   "metadata": {},
   "outputs": [],
   "source": [
    "print(saved_lda)"
   ]
  },
  {
   "cell_type": "code",
   "execution_count": null,
   "id": "85ff8183",
   "metadata": {},
   "outputs": [],
   "source": [
    "# !mlflow ui "
   ]
  },
  {
   "cell_type": "markdown",
   "id": "b85738f7",
   "metadata": {},
   "source": [
    "________________________________"
   ]
  }
 ],
 "metadata": {
  "kernelspec": {
   "display_name": "Python 3 (ipykernel)",
   "language": "python",
   "name": "python3"
  },
  "language_info": {
   "codemirror_mode": {
    "name": "ipython",
    "version": 3
   },
   "file_extension": ".py",
   "mimetype": "text/x-python",
   "name": "python",
   "nbconvert_exporter": "python",
   "pygments_lexer": "ipython3",
   "version": "3.9.7"
  }
 },
 "nbformat": 4,
 "nbformat_minor": 5
}
