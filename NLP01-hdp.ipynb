{
 "cells": [
  {
   "cell_type": "markdown",
   "id": "0047097e-bca0-4aab-ba94-abe9ce36b39a",
   "metadata": {
    "tags": []
   },
   "source": [
    "# HDP"
   ]
  },
  {
   "cell_type": "code",
   "execution_count": 1,
   "id": "592c7b5c",
   "metadata": {},
   "outputs": [],
   "source": [
    "import warnings\n",
    "warnings.filterwarnings('ignore')"
   ]
  },
  {
   "cell_type": "code",
   "execution_count": 2,
   "id": "6a6cf55d",
   "metadata": {},
   "outputs": [],
   "source": [
    "import pandas as pd"
   ]
  },
  {
   "cell_type": "code",
   "execution_count": 3,
   "id": "2c27f2e4",
   "metadata": {},
   "outputs": [],
   "source": [
    "import numpy as np"
   ]
  },
  {
   "cell_type": "code",
   "execution_count": 4,
   "id": "b172c4ce",
   "metadata": {},
   "outputs": [],
   "source": [
    "import pycaret as pc"
   ]
  },
  {
   "cell_type": "code",
   "execution_count": 5,
   "id": "e26aed0b",
   "metadata": {},
   "outputs": [],
   "source": [
    "import sklearn as sk"
   ]
  },
  {
   "cell_type": "code",
   "execution_count": 6,
   "id": "d88eab67",
   "metadata": {},
   "outputs": [],
   "source": [
    "from pycaret.nlp import *"
   ]
  },
  {
   "cell_type": "code",
   "execution_count": 7,
   "id": "b0da1c9a",
   "metadata": {},
   "outputs": [],
   "source": [
    "pd.set_option('display.max_columns', None)"
   ]
  },
  {
   "cell_type": "code",
   "execution_count": 8,
   "id": "2144cf21",
   "metadata": {},
   "outputs": [
    {
     "name": "stdout",
     "output_type": "stream",
     "text": [
      "Tokenization took: 37.11 ms\n",
      "Type conversion took: 39.08 ms\n",
      "Parser memory cleanup took: 0.01 ms\n"
     ]
    }
   ],
   "source": [
    "data = pd.read_csv(\"./kiva.csv\", sep=',', decimal='.', verbose= True, engine='c') "
   ]
  },
  {
   "cell_type": "code",
   "execution_count": 9,
   "id": "29221518",
   "metadata": {},
   "outputs": [
    {
     "data": {
      "text/plain": [
       "(6818, 7)"
      ]
     },
     "execution_count": 9,
     "metadata": {},
     "output_type": "execute_result"
    }
   ],
   "source": [
    "data.shape"
   ]
  },
  {
   "cell_type": "code",
   "execution_count": 10,
   "id": "623b9caa",
   "metadata": {},
   "outputs": [
    {
     "data": {
      "text/html": [
       "<div>\n",
       "<style scoped>\n",
       "    .dataframe tbody tr th:only-of-type {\n",
       "        vertical-align: middle;\n",
       "    }\n",
       "\n",
       "    .dataframe tbody tr th {\n",
       "        vertical-align: top;\n",
       "    }\n",
       "\n",
       "    .dataframe thead th {\n",
       "        text-align: right;\n",
       "    }\n",
       "</style>\n",
       "<table border=\"1\" class=\"dataframe\">\n",
       "  <thead>\n",
       "    <tr style=\"text-align: right;\">\n",
       "      <th></th>\n",
       "      <th>country</th>\n",
       "      <th>en</th>\n",
       "      <th>gender</th>\n",
       "      <th>loan_amount</th>\n",
       "      <th>nonpayment</th>\n",
       "      <th>sector</th>\n",
       "      <th>status</th>\n",
       "    </tr>\n",
       "  </thead>\n",
       "  <tbody>\n",
       "    <tr>\n",
       "      <th>0</th>\n",
       "      <td>Dominican Republic</td>\n",
       "      <td>\"Banco Esperanza\" is a group of 10 women looki...</td>\n",
       "      <td>F</td>\n",
       "      <td>1225</td>\n",
       "      <td>partner</td>\n",
       "      <td>Retail</td>\n",
       "      <td>0</td>\n",
       "    </tr>\n",
       "    <tr>\n",
       "      <th>1</th>\n",
       "      <td>Dominican Republic</td>\n",
       "      <td>\"Caminemos Hacia Adelante\" or \"Walking Forward...</td>\n",
       "      <td>F</td>\n",
       "      <td>1975</td>\n",
       "      <td>lender</td>\n",
       "      <td>Clothing</td>\n",
       "      <td>0</td>\n",
       "    </tr>\n",
       "    <tr>\n",
       "      <th>2</th>\n",
       "      <td>Dominican Republic</td>\n",
       "      <td>\"Creciendo Por La Union\" is a group of 10 peop...</td>\n",
       "      <td>F</td>\n",
       "      <td>2175</td>\n",
       "      <td>partner</td>\n",
       "      <td>Clothing</td>\n",
       "      <td>0</td>\n",
       "    </tr>\n",
       "    <tr>\n",
       "      <th>3</th>\n",
       "      <td>Dominican Republic</td>\n",
       "      <td>\"Cristo Vive\" (\"Christ lives\" is a group of 10...</td>\n",
       "      <td>F</td>\n",
       "      <td>1425</td>\n",
       "      <td>partner</td>\n",
       "      <td>Clothing</td>\n",
       "      <td>0</td>\n",
       "    </tr>\n",
       "    <tr>\n",
       "      <th>4</th>\n",
       "      <td>Dominican Republic</td>\n",
       "      <td>\"Cristo Vive\" is a large group of 35 people, 2...</td>\n",
       "      <td>F</td>\n",
       "      <td>4025</td>\n",
       "      <td>partner</td>\n",
       "      <td>Food</td>\n",
       "      <td>0</td>\n",
       "    </tr>\n",
       "  </tbody>\n",
       "</table>\n",
       "</div>"
      ],
      "text/plain": [
       "              country                                                 en  \\\n",
       "0  Dominican Republic  \"Banco Esperanza\" is a group of 10 women looki...   \n",
       "1  Dominican Republic  \"Caminemos Hacia Adelante\" or \"Walking Forward...   \n",
       "2  Dominican Republic  \"Creciendo Por La Union\" is a group of 10 peop...   \n",
       "3  Dominican Republic  \"Cristo Vive\" (\"Christ lives\" is a group of 10...   \n",
       "4  Dominican Republic  \"Cristo Vive\" is a large group of 35 people, 2...   \n",
       "\n",
       "  gender  loan_amount nonpayment    sector  status  \n",
       "0      F         1225    partner    Retail       0  \n",
       "1      F         1975     lender  Clothing       0  \n",
       "2      F         2175    partner  Clothing       0  \n",
       "3      F         1425    partner  Clothing       0  \n",
       "4      F         4025    partner      Food       0  "
      ]
     },
     "execution_count": 10,
     "metadata": {},
     "output_type": "execute_result"
    }
   ],
   "source": [
    "data.head()"
   ]
  },
  {
   "cell_type": "code",
   "execution_count": 11,
   "id": "289bc422",
   "metadata": {},
   "outputs": [],
   "source": [
    "data = data.sample(1000, random_state=786).reset_index(drop=True)"
   ]
  },
  {
   "cell_type": "code",
   "execution_count": 12,
   "id": "7662b5b7",
   "metadata": {},
   "outputs": [
    {
     "data": {
      "text/plain": [
       "(1000, 7)"
      ]
     },
     "execution_count": 12,
     "metadata": {},
     "output_type": "execute_result"
    }
   ],
   "source": [
    "data.shape"
   ]
  },
  {
   "cell_type": "code",
   "execution_count": 13,
   "id": "34e732d7",
   "metadata": {},
   "outputs": [
    {
     "data": {
      "text/html": [
       "<style type=\"text/css\">\n",
       "</style>\n",
       "<table id=\"T_1d152_\">\n",
       "  <thead>\n",
       "    <tr>\n",
       "      <th class=\"col_heading level0 col0\" >Description</th>\n",
       "      <th class=\"col_heading level0 col1\" >Value</th>\n",
       "    </tr>\n",
       "  </thead>\n",
       "  <tbody>\n",
       "    <tr>\n",
       "      <td id=\"T_1d152_row0_col0\" class=\"data row0 col0\" >session_id</td>\n",
       "      <td id=\"T_1d152_row0_col1\" class=\"data row0 col1\" >101</td>\n",
       "    </tr>\n",
       "    <tr>\n",
       "      <td id=\"T_1d152_row1_col0\" class=\"data row1 col0\" >Documents</td>\n",
       "      <td id=\"T_1d152_row1_col1\" class=\"data row1 col1\" >1000</td>\n",
       "    </tr>\n",
       "    <tr>\n",
       "      <td id=\"T_1d152_row2_col0\" class=\"data row2 col0\" >Vocab Size</td>\n",
       "      <td id=\"T_1d152_row2_col1\" class=\"data row2 col1\" >4636</td>\n",
       "    </tr>\n",
       "    <tr>\n",
       "      <td id=\"T_1d152_row3_col0\" class=\"data row3 col0\" >Custom Stopwords</td>\n",
       "      <td id=\"T_1d152_row3_col1\" class=\"data row3 col1\" >True</td>\n",
       "    </tr>\n",
       "  </tbody>\n",
       "</table>\n"
      ],
      "text/plain": [
       "<pandas.io.formats.style.Styler at 0x13ab8d370>"
      ]
     },
     "metadata": {},
     "output_type": "display_data"
    }
   ],
   "source": [
    "exp_nlp101 = setup(data = data, \n",
    "                   target = 'en', \n",
    "                   custom_stopwords = ['loan', 'income', 'usd', 'many', 'also', 'make', 'business', 'buy', \n",
    "                                       'sell', 'purchase','year', 'people', 'able', 'enable', 'old', 'woman',\n",
    "                                       'child', 'school'],\n",
    "                   session_id = 101,\n",
    "                   log_experiment = True,\n",
    "                   experiment_name = 'EX001')"
   ]
  },
  {
   "cell_type": "raw",
   "id": "04563699",
   "metadata": {},
   "source": [
    "data: pandas.Dataframe\n",
    "target: str - name of column containing text\n",
    "custom_stopwords: list\n",
    "html: bool, default = True - prevents runtime display of monitor\n",
    "session_id: int\n",
    "log_experiment: bool - MLFlow \n",
    "experiment_name: str \n",
    "experiment_custom_tags: dict - passed to the mlflow.set_tags to add new custom tags for the experiment\n",
    "log_plots: bool - certain plots are logged automatically in the MLFlow   \n",
    "log_data: bool - dataset is logged on the MLflow\n",
    "verbose: bool, default = True\n",
    "    Returns: Global variables that can be changed using the set_config function    "
   ]
  },
  {
   "cell_type": "code",
   "execution_count": 14,
   "id": "56a5ccec",
   "metadata": {},
   "outputs": [],
   "source": [
    "hdp = create_model('hdp', num_topics = 4, multi_core = True)"
   ]
  },
  {
   "cell_type": "raw",
   "id": "8b0c3ccc",
   "metadata": {},
   "source": [
    "Models available in the model library (ID - Name):\n",
    "'lda' - Latent Dirichlet Allocation\n",
    "'lsi' - Latent Semantic Indexing\n",
    "'hdp' - Hierarchical Dirichlet Process\n",
    "'rp'  - Random Projections\n",
    "'nmf' - Non-Negative Matrix Factorization"
   ]
  },
  {
   "cell_type": "raw",
   "id": "20314d7b",
   "metadata": {},
   "source": [
    "multi_core: bool\n",
    "topic_num: str - Topic number to be passed as a string\n",
    "save: string - Plot is saved as png file in the specified directory when the path to the directory is specified\n",
    "system: bool - Must remain True all times\n",
    "display_format: str - To display plots in Streamlit (https://www.streamlit.io/), set this to ‘streamlit’.    "
   ]
  },
  {
   "cell_type": "code",
   "execution_count": 15,
   "id": "60bb22d8",
   "metadata": {},
   "outputs": [
    {
     "name": "stdout",
     "output_type": "stream",
     "text": [
      "<gensim.models.hdpmodel.HdpModel object at 0x13155ff40>\n"
     ]
    }
   ],
   "source": [
    "print(hdp)"
   ]
  },
  {
   "cell_type": "code",
   "execution_count": 16,
   "id": "4d32dc82",
   "metadata": {},
   "outputs": [],
   "source": [
    "hdp_results = assign_model(hdp)"
   ]
  },
  {
   "cell_type": "code",
   "execution_count": 17,
   "id": "1d931907",
   "metadata": {},
   "outputs": [
    {
     "data": {
      "text/html": [
       "<div>\n",
       "<style scoped>\n",
       "    .dataframe tbody tr th:only-of-type {\n",
       "        vertical-align: middle;\n",
       "    }\n",
       "\n",
       "    .dataframe tbody tr th {\n",
       "        vertical-align: top;\n",
       "    }\n",
       "\n",
       "    .dataframe thead th {\n",
       "        text-align: right;\n",
       "    }\n",
       "</style>\n",
       "<table border=\"1\" class=\"dataframe\">\n",
       "  <thead>\n",
       "    <tr style=\"text-align: right;\">\n",
       "      <th></th>\n",
       "      <th>country</th>\n",
       "      <th>en</th>\n",
       "      <th>gender</th>\n",
       "      <th>loan_amount</th>\n",
       "      <th>nonpayment</th>\n",
       "      <th>sector</th>\n",
       "      <th>status</th>\n",
       "      <th>Topic_0</th>\n",
       "      <th>Topic_1</th>\n",
       "      <th>Topic_2</th>\n",
       "      <th>Topic_3</th>\n",
       "      <th>Dominant_Topic</th>\n",
       "    </tr>\n",
       "  </thead>\n",
       "  <tbody>\n",
       "    <tr>\n",
       "      <th>0</th>\n",
       "      <td>Kenya</td>\n",
       "      <td>praxide marry primary train tailor operate sma...</td>\n",
       "      <td>F</td>\n",
       "      <td>75</td>\n",
       "      <td>partner</td>\n",
       "      <td>Services</td>\n",
       "      <td>0</td>\n",
       "      <td>0.463218</td>\n",
       "      <td>0.527411</td>\n",
       "      <td>0.000000</td>\n",
       "      <td>0.0</td>\n",
       "      <td>Topic 1</td>\n",
       "    </tr>\n",
       "    <tr>\n",
       "      <th>1</th>\n",
       "      <td>Kenya</td>\n",
       "      <td>gynaecology practitioner run live wife biologi...</td>\n",
       "      <td>M</td>\n",
       "      <td>1200</td>\n",
       "      <td>partner</td>\n",
       "      <td>Health</td>\n",
       "      <td>0</td>\n",
       "      <td>0.560904</td>\n",
       "      <td>0.217935</td>\n",
       "      <td>0.218298</td>\n",
       "      <td>0.0</td>\n",
       "      <td>Topic 0</td>\n",
       "    </tr>\n",
       "    <tr>\n",
       "      <th>2</th>\n",
       "      <td>Dominican Republic</td>\n",
       "      <td>live boy girl range new use clothing support f...</td>\n",
       "      <td>F</td>\n",
       "      <td>150</td>\n",
       "      <td>partner</td>\n",
       "      <td>Clothing</td>\n",
       "      <td>0</td>\n",
       "      <td>0.617427</td>\n",
       "      <td>0.000000</td>\n",
       "      <td>0.371941</td>\n",
       "      <td>0.0</td>\n",
       "      <td>Topic 0</td>\n",
       "    </tr>\n",
       "    <tr>\n",
       "      <th>3</th>\n",
       "      <td>Kenya</td>\n",
       "      <td>phanice marry daughter secondary boy primary f...</td>\n",
       "      <td>F</td>\n",
       "      <td>150</td>\n",
       "      <td>lender</td>\n",
       "      <td>Services</td>\n",
       "      <td>1</td>\n",
       "      <td>0.982208</td>\n",
       "      <td>0.000000</td>\n",
       "      <td>0.000000</td>\n",
       "      <td>0.0</td>\n",
       "      <td>Topic 0</td>\n",
       "    </tr>\n",
       "    <tr>\n",
       "      <th>4</th>\n",
       "      <td>Kenya</td>\n",
       "      <td>hotel last get good return competition increas...</td>\n",
       "      <td>F</td>\n",
       "      <td>300</td>\n",
       "      <td>lender</td>\n",
       "      <td>Food</td>\n",
       "      <td>1</td>\n",
       "      <td>0.916345</td>\n",
       "      <td>0.000000</td>\n",
       "      <td>0.075221</td>\n",
       "      <td>0.0</td>\n",
       "      <td>Topic 0</td>\n",
       "    </tr>\n",
       "  </tbody>\n",
       "</table>\n",
       "</div>"
      ],
      "text/plain": [
       "              country                                                 en  \\\n",
       "0               Kenya  praxide marry primary train tailor operate sma...   \n",
       "1               Kenya  gynaecology practitioner run live wife biologi...   \n",
       "2  Dominican Republic  live boy girl range new use clothing support f...   \n",
       "3               Kenya  phanice marry daughter secondary boy primary f...   \n",
       "4               Kenya  hotel last get good return competition increas...   \n",
       "\n",
       "  gender  loan_amount nonpayment    sector  status   Topic_0   Topic_1  \\\n",
       "0      F           75    partner  Services       0  0.463218  0.527411   \n",
       "1      M         1200    partner    Health       0  0.560904  0.217935   \n",
       "2      F          150    partner  Clothing       0  0.617427  0.000000   \n",
       "3      F          150     lender  Services       1  0.982208  0.000000   \n",
       "4      F          300     lender      Food       1  0.916345  0.000000   \n",
       "\n",
       "    Topic_2  Topic_3 Dominant_Topic  \n",
       "0  0.000000      0.0        Topic 1  \n",
       "1  0.218298      0.0        Topic 0  \n",
       "2  0.371941      0.0        Topic 0  \n",
       "3  0.000000      0.0        Topic 0  \n",
       "4  0.075221      0.0        Topic 0  "
      ]
     },
     "execution_count": 17,
     "metadata": {},
     "output_type": "execute_result"
    }
   ],
   "source": [
    "hdp_results.head()"
   ]
  },
  {
   "cell_type": "code",
   "execution_count": 18,
   "id": "36a71f3e",
   "metadata": {},
   "outputs": [
    {
     "data": {
      "text/html": [
       "        <script type=\"text/javascript\">\n",
       "        window.PlotlyConfig = {MathJaxConfig: 'local'};\n",
       "        if (window.MathJax) {MathJax.Hub.Config({SVG: {font: \"STIX-Web\"}});}\n",
       "        if (typeof require !== 'undefined') {\n",
       "        require.undef(\"plotly\");\n",
       "        requirejs.config({\n",
       "            paths: {\n",
       "                'plotly': ['https://cdn.plot.ly/plotly-2.11.1.min']\n",
       "            }\n",
       "        });\n",
       "        require(['plotly'], function(Plotly) {\n",
       "            window._Plotly = Plotly;\n",
       "        });\n",
       "        }\n",
       "        </script>\n",
       "        "
      ]
     },
     "metadata": {},
     "output_type": "display_data"
    },
    {
     "data": {
      "application/vnd.plotly.v1+json": {
       "config": {
        "linkText": "Export to plot.ly",
        "plotlyServerURL": "https://plot.ly",
        "showLink": true
       },
       "data": [
        {
         "marker": {
          "color": "rgba(255, 153, 51, 0.6)",
          "line": {
           "color": "rgba(255, 153, 51, 1.0)",
           "width": 1
          }
         },
         "name": "count",
         "orientation": "v",
         "text": "",
         "type": "bar",
         "x": [
          "work",
          "family",
          "use",
          "start",
          "help",
          "group",
          "husband",
          "live",
          "small",
          "product",
          "well",
          "increase",
          "customer",
          "marry",
          "home",
          "good",
          "community",
          "need",
          "request",
          "member",
          "stock",
          "order",
          "hope",
          "pay",
          "expand",
          "want",
          "time",
          "new",
          "provide",
          "store",
          "grow",
          "go",
          "money",
          "market",
          "get",
          "support",
          "give",
          "improve",
          "sale",
          "hard",
          "life",
          "entrepreneur",
          "clothing",
          "repay",
          "clothe",
          "ago",
          "first",
          "run",
          "client",
          "shop",
          "take",
          "food",
          "profit",
          "mother",
          "plan",
          "high",
          "area",
          "continue",
          "education",
          "house",
          "item",
          "invest",
          "local",
          "large",
          "demand",
          "capital",
          "service",
          "fee",
          "say",
          "day",
          "meet",
          "wife",
          "receive",
          "young",
          "operate",
          "supply",
          "offer",
          "month",
          "enough",
          "age",
          "earn",
          "milk",
          "still",
          "keep",
          "intend",
          "currently",
          "begin",
          "open",
          "save",
          "attend",
          "experience",
          "daughter",
          "second",
          "merchandise",
          "primary",
          "farm",
          "farmer",
          "shoe",
          "allow",
          "add"
         ],
         "y": [
          543,
          517,
          475,
          451,
          405,
          401,
          393,
          376,
          375,
          361,
          339,
          313,
          295,
          287,
          283,
          281,
          272,
          270,
          252,
          252,
          238,
          235,
          232,
          231,
          230,
          227,
          225,
          219,
          217,
          210,
          203,
          196,
          195,
          192,
          188,
          183,
          182,
          181,
          175,
          173,
          171,
          170,
          169,
          164,
          162,
          162,
          161,
          160,
          159,
          159,
          158,
          158,
          158,
          153,
          152,
          152,
          149,
          148,
          141,
          138,
          137,
          132,
          131,
          130,
          127,
          127,
          127,
          124,
          123,
          123,
          123,
          121,
          120,
          120,
          119,
          116,
          115,
          115,
          112,
          110,
          110,
          107,
          107,
          104,
          103,
          102,
          101,
          101,
          100,
          97,
          97,
          95,
          94,
          94,
          93,
          93,
          92,
          92,
          92,
          92
         ]
        }
       ],
       "layout": {
        "autosize": true,
        "legend": {
         "bgcolor": "#F5F6F9",
         "font": {
          "color": "#4D5663"
         }
        },
        "paper_bgcolor": "#F5F6F9",
        "plot_bgcolor": "#F5F6F9",
        "template": {
         "data": {
          "bar": [
           {
            "error_x": {
             "color": "#2a3f5f"
            },
            "error_y": {
             "color": "#2a3f5f"
            },
            "marker": {
             "line": {
              "color": "#E5ECF6",
              "width": 0.5
             },
             "pattern": {
              "fillmode": "overlay",
              "size": 10,
              "solidity": 0.2
             }
            },
            "type": "bar"
           }
          ],
          "barpolar": [
           {
            "marker": {
             "line": {
              "color": "#E5ECF6",
              "width": 0.5
             },
             "pattern": {
              "fillmode": "overlay",
              "size": 10,
              "solidity": 0.2
             }
            },
            "type": "barpolar"
           }
          ],
          "carpet": [
           {
            "aaxis": {
             "endlinecolor": "#2a3f5f",
             "gridcolor": "white",
             "linecolor": "white",
             "minorgridcolor": "white",
             "startlinecolor": "#2a3f5f"
            },
            "baxis": {
             "endlinecolor": "#2a3f5f",
             "gridcolor": "white",
             "linecolor": "white",
             "minorgridcolor": "white",
             "startlinecolor": "#2a3f5f"
            },
            "type": "carpet"
           }
          ],
          "choropleth": [
           {
            "colorbar": {
             "outlinewidth": 0,
             "ticks": ""
            },
            "type": "choropleth"
           }
          ],
          "contour": [
           {
            "colorbar": {
             "outlinewidth": 0,
             "ticks": ""
            },
            "colorscale": [
             [
              0,
              "#0d0887"
             ],
             [
              0.1111111111111111,
              "#46039f"
             ],
             [
              0.2222222222222222,
              "#7201a8"
             ],
             [
              0.3333333333333333,
              "#9c179e"
             ],
             [
              0.4444444444444444,
              "#bd3786"
             ],
             [
              0.5555555555555556,
              "#d8576b"
             ],
             [
              0.6666666666666666,
              "#ed7953"
             ],
             [
              0.7777777777777778,
              "#fb9f3a"
             ],
             [
              0.8888888888888888,
              "#fdca26"
             ],
             [
              1,
              "#f0f921"
             ]
            ],
            "type": "contour"
           }
          ],
          "contourcarpet": [
           {
            "colorbar": {
             "outlinewidth": 0,
             "ticks": ""
            },
            "type": "contourcarpet"
           }
          ],
          "heatmap": [
           {
            "colorbar": {
             "outlinewidth": 0,
             "ticks": ""
            },
            "colorscale": [
             [
              0,
              "#0d0887"
             ],
             [
              0.1111111111111111,
              "#46039f"
             ],
             [
              0.2222222222222222,
              "#7201a8"
             ],
             [
              0.3333333333333333,
              "#9c179e"
             ],
             [
              0.4444444444444444,
              "#bd3786"
             ],
             [
              0.5555555555555556,
              "#d8576b"
             ],
             [
              0.6666666666666666,
              "#ed7953"
             ],
             [
              0.7777777777777778,
              "#fb9f3a"
             ],
             [
              0.8888888888888888,
              "#fdca26"
             ],
             [
              1,
              "#f0f921"
             ]
            ],
            "type": "heatmap"
           }
          ],
          "heatmapgl": [
           {
            "colorbar": {
             "outlinewidth": 0,
             "ticks": ""
            },
            "colorscale": [
             [
              0,
              "#0d0887"
             ],
             [
              0.1111111111111111,
              "#46039f"
             ],
             [
              0.2222222222222222,
              "#7201a8"
             ],
             [
              0.3333333333333333,
              "#9c179e"
             ],
             [
              0.4444444444444444,
              "#bd3786"
             ],
             [
              0.5555555555555556,
              "#d8576b"
             ],
             [
              0.6666666666666666,
              "#ed7953"
             ],
             [
              0.7777777777777778,
              "#fb9f3a"
             ],
             [
              0.8888888888888888,
              "#fdca26"
             ],
             [
              1,
              "#f0f921"
             ]
            ],
            "type": "heatmapgl"
           }
          ],
          "histogram": [
           {
            "marker": {
             "pattern": {
              "fillmode": "overlay",
              "size": 10,
              "solidity": 0.2
             }
            },
            "type": "histogram"
           }
          ],
          "histogram2d": [
           {
            "colorbar": {
             "outlinewidth": 0,
             "ticks": ""
            },
            "colorscale": [
             [
              0,
              "#0d0887"
             ],
             [
              0.1111111111111111,
              "#46039f"
             ],
             [
              0.2222222222222222,
              "#7201a8"
             ],
             [
              0.3333333333333333,
              "#9c179e"
             ],
             [
              0.4444444444444444,
              "#bd3786"
             ],
             [
              0.5555555555555556,
              "#d8576b"
             ],
             [
              0.6666666666666666,
              "#ed7953"
             ],
             [
              0.7777777777777778,
              "#fb9f3a"
             ],
             [
              0.8888888888888888,
              "#fdca26"
             ],
             [
              1,
              "#f0f921"
             ]
            ],
            "type": "histogram2d"
           }
          ],
          "histogram2dcontour": [
           {
            "colorbar": {
             "outlinewidth": 0,
             "ticks": ""
            },
            "colorscale": [
             [
              0,
              "#0d0887"
             ],
             [
              0.1111111111111111,
              "#46039f"
             ],
             [
              0.2222222222222222,
              "#7201a8"
             ],
             [
              0.3333333333333333,
              "#9c179e"
             ],
             [
              0.4444444444444444,
              "#bd3786"
             ],
             [
              0.5555555555555556,
              "#d8576b"
             ],
             [
              0.6666666666666666,
              "#ed7953"
             ],
             [
              0.7777777777777778,
              "#fb9f3a"
             ],
             [
              0.8888888888888888,
              "#fdca26"
             ],
             [
              1,
              "#f0f921"
             ]
            ],
            "type": "histogram2dcontour"
           }
          ],
          "mesh3d": [
           {
            "colorbar": {
             "outlinewidth": 0,
             "ticks": ""
            },
            "type": "mesh3d"
           }
          ],
          "parcoords": [
           {
            "line": {
             "colorbar": {
              "outlinewidth": 0,
              "ticks": ""
             }
            },
            "type": "parcoords"
           }
          ],
          "pie": [
           {
            "automargin": true,
            "type": "pie"
           }
          ],
          "scatter": [
           {
            "fillpattern": {
             "fillmode": "overlay",
             "size": 10,
             "solidity": 0.2
            },
            "type": "scatter"
           }
          ],
          "scatter3d": [
           {
            "line": {
             "colorbar": {
              "outlinewidth": 0,
              "ticks": ""
             }
            },
            "marker": {
             "colorbar": {
              "outlinewidth": 0,
              "ticks": ""
             }
            },
            "type": "scatter3d"
           }
          ],
          "scattercarpet": [
           {
            "marker": {
             "colorbar": {
              "outlinewidth": 0,
              "ticks": ""
             }
            },
            "type": "scattercarpet"
           }
          ],
          "scattergeo": [
           {
            "marker": {
             "colorbar": {
              "outlinewidth": 0,
              "ticks": ""
             }
            },
            "type": "scattergeo"
           }
          ],
          "scattergl": [
           {
            "marker": {
             "colorbar": {
              "outlinewidth": 0,
              "ticks": ""
             }
            },
            "type": "scattergl"
           }
          ],
          "scattermapbox": [
           {
            "marker": {
             "colorbar": {
              "outlinewidth": 0,
              "ticks": ""
             }
            },
            "type": "scattermapbox"
           }
          ],
          "scatterpolar": [
           {
            "marker": {
             "colorbar": {
              "outlinewidth": 0,
              "ticks": ""
             }
            },
            "type": "scatterpolar"
           }
          ],
          "scatterpolargl": [
           {
            "marker": {
             "colorbar": {
              "outlinewidth": 0,
              "ticks": ""
             }
            },
            "type": "scatterpolargl"
           }
          ],
          "scatterternary": [
           {
            "marker": {
             "colorbar": {
              "outlinewidth": 0,
              "ticks": ""
             }
            },
            "type": "scatterternary"
           }
          ],
          "surface": [
           {
            "colorbar": {
             "outlinewidth": 0,
             "ticks": ""
            },
            "colorscale": [
             [
              0,
              "#0d0887"
             ],
             [
              0.1111111111111111,
              "#46039f"
             ],
             [
              0.2222222222222222,
              "#7201a8"
             ],
             [
              0.3333333333333333,
              "#9c179e"
             ],
             [
              0.4444444444444444,
              "#bd3786"
             ],
             [
              0.5555555555555556,
              "#d8576b"
             ],
             [
              0.6666666666666666,
              "#ed7953"
             ],
             [
              0.7777777777777778,
              "#fb9f3a"
             ],
             [
              0.8888888888888888,
              "#fdca26"
             ],
             [
              1,
              "#f0f921"
             ]
            ],
            "type": "surface"
           }
          ],
          "table": [
           {
            "cells": {
             "fill": {
              "color": "#EBF0F8"
             },
             "line": {
              "color": "white"
             }
            },
            "header": {
             "fill": {
              "color": "#C8D4E3"
             },
             "line": {
              "color": "white"
             }
            },
            "type": "table"
           }
          ]
         },
         "layout": {
          "annotationdefaults": {
           "arrowcolor": "#2a3f5f",
           "arrowhead": 0,
           "arrowwidth": 1
          },
          "autotypenumbers": "strict",
          "coloraxis": {
           "colorbar": {
            "outlinewidth": 0,
            "ticks": ""
           }
          },
          "colorscale": {
           "diverging": [
            [
             0,
             "#8e0152"
            ],
            [
             0.1,
             "#c51b7d"
            ],
            [
             0.2,
             "#de77ae"
            ],
            [
             0.3,
             "#f1b6da"
            ],
            [
             0.4,
             "#fde0ef"
            ],
            [
             0.5,
             "#f7f7f7"
            ],
            [
             0.6,
             "#e6f5d0"
            ],
            [
             0.7,
             "#b8e186"
            ],
            [
             0.8,
             "#7fbc41"
            ],
            [
             0.9,
             "#4d9221"
            ],
            [
             1,
             "#276419"
            ]
           ],
           "sequential": [
            [
             0,
             "#0d0887"
            ],
            [
             0.1111111111111111,
             "#46039f"
            ],
            [
             0.2222222222222222,
             "#7201a8"
            ],
            [
             0.3333333333333333,
             "#9c179e"
            ],
            [
             0.4444444444444444,
             "#bd3786"
            ],
            [
             0.5555555555555556,
             "#d8576b"
            ],
            [
             0.6666666666666666,
             "#ed7953"
            ],
            [
             0.7777777777777778,
             "#fb9f3a"
            ],
            [
             0.8888888888888888,
             "#fdca26"
            ],
            [
             1,
             "#f0f921"
            ]
           ],
           "sequentialminus": [
            [
             0,
             "#0d0887"
            ],
            [
             0.1111111111111111,
             "#46039f"
            ],
            [
             0.2222222222222222,
             "#7201a8"
            ],
            [
             0.3333333333333333,
             "#9c179e"
            ],
            [
             0.4444444444444444,
             "#bd3786"
            ],
            [
             0.5555555555555556,
             "#d8576b"
            ],
            [
             0.6666666666666666,
             "#ed7953"
            ],
            [
             0.7777777777777778,
             "#fb9f3a"
            ],
            [
             0.8888888888888888,
             "#fdca26"
            ],
            [
             1,
             "#f0f921"
            ]
           ]
          },
          "colorway": [
           "#636efa",
           "#EF553B",
           "#00cc96",
           "#ab63fa",
           "#FFA15A",
           "#19d3f3",
           "#FF6692",
           "#B6E880",
           "#FF97FF",
           "#FECB52"
          ],
          "font": {
           "color": "#2a3f5f"
          },
          "geo": {
           "bgcolor": "white",
           "lakecolor": "white",
           "landcolor": "#E5ECF6",
           "showlakes": true,
           "showland": true,
           "subunitcolor": "white"
          },
          "hoverlabel": {
           "align": "left"
          },
          "hovermode": "closest",
          "mapbox": {
           "style": "light"
          },
          "paper_bgcolor": "white",
          "plot_bgcolor": "#E5ECF6",
          "polar": {
           "angularaxis": {
            "gridcolor": "white",
            "linecolor": "white",
            "ticks": ""
           },
           "bgcolor": "#E5ECF6",
           "radialaxis": {
            "gridcolor": "white",
            "linecolor": "white",
            "ticks": ""
           }
          },
          "scene": {
           "xaxis": {
            "backgroundcolor": "#E5ECF6",
            "gridcolor": "white",
            "gridwidth": 2,
            "linecolor": "white",
            "showbackground": true,
            "ticks": "",
            "zerolinecolor": "white"
           },
           "yaxis": {
            "backgroundcolor": "#E5ECF6",
            "gridcolor": "white",
            "gridwidth": 2,
            "linecolor": "white",
            "showbackground": true,
            "ticks": "",
            "zerolinecolor": "white"
           },
           "zaxis": {
            "backgroundcolor": "#E5ECF6",
            "gridcolor": "white",
            "gridwidth": 2,
            "linecolor": "white",
            "showbackground": true,
            "ticks": "",
            "zerolinecolor": "white"
           }
          },
          "shapedefaults": {
           "line": {
            "color": "#2a3f5f"
           }
          },
          "ternary": {
           "aaxis": {
            "gridcolor": "white",
            "linecolor": "white",
            "ticks": ""
           },
           "baxis": {
            "gridcolor": "white",
            "linecolor": "white",
            "ticks": ""
           },
           "bgcolor": "#E5ECF6",
           "caxis": {
            "gridcolor": "white",
            "linecolor": "white",
            "ticks": ""
           }
          },
          "title": {
           "x": 0.05
          },
          "xaxis": {
           "automargin": true,
           "gridcolor": "white",
           "linecolor": "white",
           "ticks": "",
           "title": {
            "standoff": 15
           },
           "zerolinecolor": "white",
           "zerolinewidth": 2
          },
          "yaxis": {
           "automargin": true,
           "gridcolor": "white",
           "linecolor": "white",
           "ticks": "",
           "title": {
            "standoff": 15
           },
           "zerolinecolor": "white",
           "zerolinewidth": 2
          }
         }
        },
        "title": {
         "font": {
          "color": "#4D5663"
         },
         "text": "Topic 0: Top 100 words after removing stop words"
        },
        "xaxis": {
         "autorange": true,
         "gridcolor": "#E1E5ED",
         "linecolor": "black",
         "range": [
          -0.5,
          99.5
         ],
         "showgrid": true,
         "tickfont": {
          "color": "#4D5663"
         },
         "title": {
          "font": {
           "color": "#4D5663"
          },
          "text": ""
         },
         "type": "category",
         "zerolinecolor": "#E1E5ED"
        },
        "yaxis": {
         "autorange": true,
         "gridcolor": "#E1E5ED",
         "linecolor": "black",
         "range": [
          0,
          571.578947368421
         ],
         "showgrid": true,
         "tickfont": {
          "color": "#4D5663"
         },
         "title": {
          "font": {
           "color": "#4D5663"
          },
          "text": "Count"
         },
         "type": "linear",
         "zerolinecolor": "#E1E5ED"
        }
       }
      },
      "image/png": "[encoded data removed]",
      "text/html": [
       "<div>                            <div id=\"74a7660b-2591-47a2-b41d-a9f10da597a1\" class=\"plotly-graph-div\" style=\"height:525px; width:100%;\"></div>            <script type=\"text/javascript\">                require([\"plotly\"], function(Plotly) {                    window.PLOTLYENV=window.PLOTLYENV || {};\n",
       "                    window.PLOTLYENV.BASE_URL='https://plot.ly';                                    if (document.getElementById(\"74a7660b-2591-47a2-b41d-a9f10da597a1\")) {                    Plotly.newPlot(                        \"74a7660b-2591-47a2-b41d-a9f10da597a1\",                        [{\"marker\":{\"color\":\"rgba(255, 153, 51, 0.6)\",\"line\":{\"color\":\"rgba(255, 153, 51, 1.0)\",\"width\":1}},\"name\":\"count\",\"orientation\":\"v\",\"text\":\"\",\"x\":[\"work\",\"family\",\"use\",\"start\",\"help\",\"group\",\"husband\",\"live\",\"small\",\"product\",\"well\",\"increase\",\"customer\",\"marry\",\"home\",\"good\",\"community\",\"need\",\"request\",\"member\",\"stock\",\"order\",\"hope\",\"pay\",\"expand\",\"want\",\"time\",\"new\",\"provide\",\"store\",\"grow\",\"go\",\"money\",\"market\",\"get\",\"support\",\"give\",\"improve\",\"sale\",\"hard\",\"life\",\"entrepreneur\",\"clothing\",\"repay\",\"clothe\",\"ago\",\"first\",\"run\",\"client\",\"shop\",\"take\",\"food\",\"profit\",\"mother\",\"plan\",\"high\",\"area\",\"continue\",\"education\",\"house\",\"item\",\"invest\",\"local\",\"large\",\"demand\",\"capital\",\"service\",\"fee\",\"say\",\"day\",\"meet\",\"wife\",\"receive\",\"young\",\"operate\",\"supply\",\"offer\",\"month\",\"enough\",\"age\",\"earn\",\"milk\",\"still\",\"keep\",\"intend\",\"currently\",\"begin\",\"open\",\"save\",\"attend\",\"experience\",\"daughter\",\"second\",\"merchandise\",\"primary\",\"farm\",\"farmer\",\"shoe\",\"allow\",\"add\"],\"y\":[543,517,475,451,405,401,393,376,375,361,339,313,295,287,283,281,272,270,252,252,238,235,232,231,230,227,225,219,217,210,203,196,195,192,188,183,182,181,175,173,171,170,169,164,162,162,161,160,159,159,158,158,158,153,152,152,149,148,141,138,137,132,131,130,127,127,127,124,123,123,123,121,120,120,119,116,115,115,112,110,110,107,107,104,103,102,101,101,100,97,97,95,94,94,93,93,92,92,92,92],\"type\":\"bar\"}],                        {\"legend\":{\"bgcolor\":\"#F5F6F9\",\"font\":{\"color\":\"#4D5663\"}},\"paper_bgcolor\":\"#F5F6F9\",\"plot_bgcolor\":\"#F5F6F9\",\"template\":{\"data\":{\"barpolar\":[{\"marker\":{\"line\":{\"color\":\"#E5ECF6\",\"width\":0.5},\"pattern\":{\"fillmode\":\"overlay\",\"size\":10,\"solidity\":0.2}},\"type\":\"barpolar\"}],\"bar\":[{\"error_x\":{\"color\":\"#2a3f5f\"},\"error_y\":{\"color\":\"#2a3f5f\"},\"marker\":{\"line\":{\"color\":\"#E5ECF6\",\"width\":0.5},\"pattern\":{\"fillmode\":\"overlay\",\"size\":10,\"solidity\":0.2}},\"type\":\"bar\"}],\"carpet\":[{\"aaxis\":{\"endlinecolor\":\"#2a3f5f\",\"gridcolor\":\"white\",\"linecolor\":\"white\",\"minorgridcolor\":\"white\",\"startlinecolor\":\"#2a3f5f\"},\"baxis\":{\"endlinecolor\":\"#2a3f5f\",\"gridcolor\":\"white\",\"linecolor\":\"white\",\"minorgridcolor\":\"white\",\"startlinecolor\":\"#2a3f5f\"},\"type\":\"carpet\"}],\"choropleth\":[{\"colorbar\":{\"outlinewidth\":0,\"ticks\":\"\"},\"type\":\"choropleth\"}],\"contourcarpet\":[{\"colorbar\":{\"outlinewidth\":0,\"ticks\":\"\"},\"type\":\"contourcarpet\"}],\"contour\":[{\"colorbar\":{\"outlinewidth\":0,\"ticks\":\"\"},\"colorscale\":[[0.0,\"#0d0887\"],[0.1111111111111111,\"#46039f\"],[0.2222222222222222,\"#7201a8\"],[0.3333333333333333,\"#9c179e\"],[0.4444444444444444,\"#bd3786\"],[0.5555555555555556,\"#d8576b\"],[0.6666666666666666,\"#ed7953\"],[0.7777777777777778,\"#fb9f3a\"],[0.8888888888888888,\"#fdca26\"],[1.0,\"#f0f921\"]],\"type\":\"contour\"}],\"heatmapgl\":[{\"colorbar\":{\"outlinewidth\":0,\"ticks\":\"\"},\"colorscale\":[[0.0,\"#0d0887\"],[0.1111111111111111,\"#46039f\"],[0.2222222222222222,\"#7201a8\"],[0.3333333333333333,\"#9c179e\"],[0.4444444444444444,\"#bd3786\"],[0.5555555555555556,\"#d8576b\"],[0.6666666666666666,\"#ed7953\"],[0.7777777777777778,\"#fb9f3a\"],[0.8888888888888888,\"#fdca26\"],[1.0,\"#f0f921\"]],\"type\":\"heatmapgl\"}],\"heatmap\":[{\"colorbar\":{\"outlinewidth\":0,\"ticks\":\"\"},\"colorscale\":[[0.0,\"#0d0887\"],[0.1111111111111111,\"#46039f\"],[0.2222222222222222,\"#7201a8\"],[0.3333333333333333,\"#9c179e\"],[0.4444444444444444,\"#bd3786\"],[0.5555555555555556,\"#d8576b\"],[0.6666666666666666,\"#ed7953\"],[0.7777777777777778,\"#fb9f3a\"],[0.8888888888888888,\"#fdca26\"],[1.0,\"#f0f921\"]],\"type\":\"heatmap\"}],\"histogram2dcontour\":[{\"colorbar\":{\"outlinewidth\":0,\"ticks\":\"\"},\"colorscale\":[[0.0,\"#0d0887\"],[0.1111111111111111,\"#46039f\"],[0.2222222222222222,\"#7201a8\"],[0.3333333333333333,\"#9c179e\"],[0.4444444444444444,\"#bd3786\"],[0.5555555555555556,\"#d8576b\"],[0.6666666666666666,\"#ed7953\"],[0.7777777777777778,\"#fb9f3a\"],[0.8888888888888888,\"#fdca26\"],[1.0,\"#f0f921\"]],\"type\":\"histogram2dcontour\"}],\"histogram2d\":[{\"colorbar\":{\"outlinewidth\":0,\"ticks\":\"\"},\"colorscale\":[[0.0,\"#0d0887\"],[0.1111111111111111,\"#46039f\"],[0.2222222222222222,\"#7201a8\"],[0.3333333333333333,\"#9c179e\"],[0.4444444444444444,\"#bd3786\"],[0.5555555555555556,\"#d8576b\"],[0.6666666666666666,\"#ed7953\"],[0.7777777777777778,\"#fb9f3a\"],[0.8888888888888888,\"#fdca26\"],[1.0,\"#f0f921\"]],\"type\":\"histogram2d\"}],\"histogram\":[{\"marker\":{\"pattern\":{\"fillmode\":\"overlay\",\"size\":10,\"solidity\":0.2}},\"type\":\"histogram\"}],\"mesh3d\":[{\"colorbar\":{\"outlinewidth\":0,\"ticks\":\"\"},\"type\":\"mesh3d\"}],\"parcoords\":[{\"line\":{\"colorbar\":{\"outlinewidth\":0,\"ticks\":\"\"}},\"type\":\"parcoords\"}],\"pie\":[{\"automargin\":true,\"type\":\"pie\"}],\"scatter3d\":[{\"line\":{\"colorbar\":{\"outlinewidth\":0,\"ticks\":\"\"}},\"marker\":{\"colorbar\":{\"outlinewidth\":0,\"ticks\":\"\"}},\"type\":\"scatter3d\"}],\"scattercarpet\":[{\"marker\":{\"colorbar\":{\"outlinewidth\":0,\"ticks\":\"\"}},\"type\":\"scattercarpet\"}],\"scattergeo\":[{\"marker\":{\"colorbar\":{\"outlinewidth\":0,\"ticks\":\"\"}},\"type\":\"scattergeo\"}],\"scattergl\":[{\"marker\":{\"colorbar\":{\"outlinewidth\":0,\"ticks\":\"\"}},\"type\":\"scattergl\"}],\"scattermapbox\":[{\"marker\":{\"colorbar\":{\"outlinewidth\":0,\"ticks\":\"\"}},\"type\":\"scattermapbox\"}],\"scatterpolargl\":[{\"marker\":{\"colorbar\":{\"outlinewidth\":0,\"ticks\":\"\"}},\"type\":\"scatterpolargl\"}],\"scatterpolar\":[{\"marker\":{\"colorbar\":{\"outlinewidth\":0,\"ticks\":\"\"}},\"type\":\"scatterpolar\"}],\"scatter\":[{\"fillpattern\":{\"fillmode\":\"overlay\",\"size\":10,\"solidity\":0.2},\"type\":\"scatter\"}],\"scatterternary\":[{\"marker\":{\"colorbar\":{\"outlinewidth\":0,\"ticks\":\"\"}},\"type\":\"scatterternary\"}],\"surface\":[{\"colorbar\":{\"outlinewidth\":0,\"ticks\":\"\"},\"colorscale\":[[0.0,\"#0d0887\"],[0.1111111111111111,\"#46039f\"],[0.2222222222222222,\"#7201a8\"],[0.3333333333333333,\"#9c179e\"],[0.4444444444444444,\"#bd3786\"],[0.5555555555555556,\"#d8576b\"],[0.6666666666666666,\"#ed7953\"],[0.7777777777777778,\"#fb9f3a\"],[0.8888888888888888,\"#fdca26\"],[1.0,\"#f0f921\"]],\"type\":\"surface\"}],\"table\":[{\"cells\":{\"fill\":{\"color\":\"#EBF0F8\"},\"line\":{\"color\":\"white\"}},\"header\":{\"fill\":{\"color\":\"#C8D4E3\"},\"line\":{\"color\":\"white\"}},\"type\":\"table\"}]},\"layout\":{\"annotationdefaults\":{\"arrowcolor\":\"#2a3f5f\",\"arrowhead\":0,\"arrowwidth\":1},\"autotypenumbers\":\"strict\",\"coloraxis\":{\"colorbar\":{\"outlinewidth\":0,\"ticks\":\"\"}},\"colorscale\":{\"diverging\":[[0,\"#8e0152\"],[0.1,\"#c51b7d\"],[0.2,\"#de77ae\"],[0.3,\"#f1b6da\"],[0.4,\"#fde0ef\"],[0.5,\"#f7f7f7\"],[0.6,\"#e6f5d0\"],[0.7,\"#b8e186\"],[0.8,\"#7fbc41\"],[0.9,\"#4d9221\"],[1,\"#276419\"]],\"sequential\":[[0.0,\"#0d0887\"],[0.1111111111111111,\"#46039f\"],[0.2222222222222222,\"#7201a8\"],[0.3333333333333333,\"#9c179e\"],[0.4444444444444444,\"#bd3786\"],[0.5555555555555556,\"#d8576b\"],[0.6666666666666666,\"#ed7953\"],[0.7777777777777778,\"#fb9f3a\"],[0.8888888888888888,\"#fdca26\"],[1.0,\"#f0f921\"]],\"sequentialminus\":[[0.0,\"#0d0887\"],[0.1111111111111111,\"#46039f\"],[0.2222222222222222,\"#7201a8\"],[0.3333333333333333,\"#9c179e\"],[0.4444444444444444,\"#bd3786\"],[0.5555555555555556,\"#d8576b\"],[0.6666666666666666,\"#ed7953\"],[0.7777777777777778,\"#fb9f3a\"],[0.8888888888888888,\"#fdca26\"],[1.0,\"#f0f921\"]]},\"colorway\":[\"#636efa\",\"#EF553B\",\"#00cc96\",\"#ab63fa\",\"#FFA15A\",\"#19d3f3\",\"#FF6692\",\"#B6E880\",\"#FF97FF\",\"#FECB52\"],\"font\":{\"color\":\"#2a3f5f\"},\"geo\":{\"bgcolor\":\"white\",\"lakecolor\":\"white\",\"landcolor\":\"#E5ECF6\",\"showlakes\":true,\"showland\":true,\"subunitcolor\":\"white\"},\"hoverlabel\":{\"align\":\"left\"},\"hovermode\":\"closest\",\"mapbox\":{\"style\":\"light\"},\"paper_bgcolor\":\"white\",\"plot_bgcolor\":\"#E5ECF6\",\"polar\":{\"angularaxis\":{\"gridcolor\":\"white\",\"linecolor\":\"white\",\"ticks\":\"\"},\"bgcolor\":\"#E5ECF6\",\"radialaxis\":{\"gridcolor\":\"white\",\"linecolor\":\"white\",\"ticks\":\"\"}},\"scene\":{\"xaxis\":{\"backgroundcolor\":\"#E5ECF6\",\"gridcolor\":\"white\",\"gridwidth\":2,\"linecolor\":\"white\",\"showbackground\":true,\"ticks\":\"\",\"zerolinecolor\":\"white\"},\"yaxis\":{\"backgroundcolor\":\"#E5ECF6\",\"gridcolor\":\"white\",\"gridwidth\":2,\"linecolor\":\"white\",\"showbackground\":true,\"ticks\":\"\",\"zerolinecolor\":\"white\"},\"zaxis\":{\"backgroundcolor\":\"#E5ECF6\",\"gridcolor\":\"white\",\"gridwidth\":2,\"linecolor\":\"white\",\"showbackground\":true,\"ticks\":\"\",\"zerolinecolor\":\"white\"}},\"shapedefaults\":{\"line\":{\"color\":\"#2a3f5f\"}},\"ternary\":{\"aaxis\":{\"gridcolor\":\"white\",\"linecolor\":\"white\",\"ticks\":\"\"},\"baxis\":{\"gridcolor\":\"white\",\"linecolor\":\"white\",\"ticks\":\"\"},\"bgcolor\":\"#E5ECF6\",\"caxis\":{\"gridcolor\":\"white\",\"linecolor\":\"white\",\"ticks\":\"\"}},\"title\":{\"x\":0.05},\"xaxis\":{\"automargin\":true,\"gridcolor\":\"white\",\"linecolor\":\"white\",\"ticks\":\"\",\"title\":{\"standoff\":15},\"zerolinecolor\":\"white\",\"zerolinewidth\":2},\"yaxis\":{\"automargin\":true,\"gridcolor\":\"white\",\"linecolor\":\"white\",\"ticks\":\"\",\"title\":{\"standoff\":15},\"zerolinecolor\":\"white\",\"zerolinewidth\":2}}},\"title\":{\"font\":{\"color\":\"#4D5663\"},\"text\":\"Topic 0: Top 100 words after removing stop words\"},\"xaxis\":{\"gridcolor\":\"#E1E5ED\",\"linecolor\":\"black\",\"showgrid\":true,\"tickfont\":{\"color\":\"#4D5663\"},\"title\":{\"font\":{\"color\":\"#4D5663\"},\"text\":\"\"},\"zerolinecolor\":\"#E1E5ED\"},\"yaxis\":{\"gridcolor\":\"#E1E5ED\",\"linecolor\":\"black\",\"showgrid\":true,\"tickfont\":{\"color\":\"#4D5663\"},\"title\":{\"font\":{\"color\":\"#4D5663\"},\"text\":\"Count\"},\"zerolinecolor\":\"#E1E5ED\"}},                        {\"showLink\": true, \"linkText\": \"Export to plot.ly\", \"plotlyServerURL\": \"https://plot.ly\", \"responsive\": true}                    ).then(function(){\n",
       "                            \n",
       "var gd = document.getElementById('74a7660b-2591-47a2-b41d-a9f10da597a1');\n",
       "var x = new MutationObserver(function (mutations, observer) {{\n",
       "        var display = window.getComputedStyle(gd).display;\n",
       "        if (!display || display === 'none') {{\n",
       "            console.log([gd, 'removed!']);\n",
       "            Plotly.purge(gd);\n",
       "            observer.disconnect();\n",
       "        }}\n",
       "}});\n",
       "\n",
       "// Listen for the removal of the full notebook cells\n",
       "var notebookContainer = gd.closest('#notebook-container');\n",
       "if (notebookContainer) {{\n",
       "    x.observe(notebookContainer, {childList: true});\n",
       "}}\n",
       "\n",
       "// Listen for the clearing of the current output cell\n",
       "var outputEl = gd.closest('.output');\n",
       "if (outputEl) {{\n",
       "    x.observe(outputEl, {childList: true});\n",
       "}}\n",
       "\n",
       "                        })                };                });            </script>        </div>"
      ]
     },
     "metadata": {},
     "output_type": "display_data"
    }
   ],
   "source": [
    "plot_model(hdp)"
   ]
  },
  {
   "cell_type": "raw",
   "id": "ba224c76",
   "metadata": {},
   "source": [
    "List of available plots (ID - Name):\n",
    "Word Token Frequency - 'frequency'\n",
    "Word Distribution Plot - 'distribution'\n",
    "Bigram Frequency Plot - 'bigram'\n",
    "Trigram Frequency Plot - 'trigram'\n",
    "Sentiment Polarity Plot - 'sentiment'\n",
    "Part of Speech Frequency - 'pos'\n",
    "t-SNE (3d) Dimension Plot - 'tsne'\n",
    "Topic Model (pyLDAvis) - 'topic_model'\n",
    "Topic Infer Distribution - 'topic_distribution'\n",
    "Wordcloud - 'wordcloud'\n",
    "UMAP Dimensionality Plot - 'umap'"
   ]
  },
  {
   "cell_type": "code",
   "execution_count": 19,
   "id": "02305ba3",
   "metadata": {},
   "outputs": [
    {
     "data": {
      "text/html": [
       "        <script type=\"text/javascript\">\n",
       "        window.PlotlyConfig = {MathJaxConfig: 'local'};\n",
       "        if (window.MathJax) {MathJax.Hub.Config({SVG: {font: \"STIX-Web\"}});}\n",
       "        if (typeof require !== 'undefined') {\n",
       "        require.undef(\"plotly\");\n",
       "        requirejs.config({\n",
       "            paths: {\n",
       "                'plotly': ['https://cdn.plot.ly/plotly-2.11.1.min']\n",
       "            }\n",
       "        });\n",
       "        require(['plotly'], function(Plotly) {\n",
       "            window._Plotly = Plotly;\n",
       "        });\n",
       "        }\n",
       "        </script>\n",
       "        "
      ]
     },
     "metadata": {},
     "output_type": "display_data"
    },
    {
     "data": {
      "application/vnd.plotly.v1+json": {
       "config": {
        "linkText": "Export to plot.ly",
        "plotlyServerURL": "https://plot.ly",
        "showLink": true
       },
       "data": [
        {
         "marker": {
          "color": "rgba(255, 153, 51, 0.6)",
          "line": {
           "color": "rgba(255, 153, 51, 1.0)",
           "width": 1
          }
         },
         "name": "count",
         "orientation": "v",
         "text": "",
         "type": "bar",
         "x": [
          "work hard",
          "pay fee",
          "hard work",
          "increase stock",
          "group member",
          "start small",
          "support family",
          "husband work",
          "provide family",
          "start ago",
          "live husband",
          "member group",
          "programs_information_microfinance_ecuador services_please_visit_href",
          "mifex_offers_client microinsurance_access_training_educational",
          "microinsurance_access_training_educational programs_information_microfinance_ecuador",
          "plan use",
          "well life",
          "kenya_security_situation_communitie businesses_lenders_entrepreneur_aware",
          "may_represent_higher_default risk_willing_accept_additional",
          "run small",
          "risk_willing_accept_additional risk_making",
          "provide well",
          "businesses_lenders_entrepreneur_aware may_represent_higher_default",
          "pay back",
          "marry primary",
          "small store",
          "customer need",
          "high demand",
          "enough money",
          "want expand",
          "help husband",
          "intend use",
          "beauty product",
          "therefore request",
          "operate small",
          "add stock",
          "husband help",
          "request budget",
          "local community",
          "quality life",
          "family need",
          "large quantity",
          "save money",
          "local market",
          "repay time",
          "increase profit",
          "rural area",
          "meet customer",
          "family member",
          "sale increase",
          "store home",
          "start help",
          "attract new",
          "use clothe",
          "increase sale",
          "need order",
          "boy girl",
          "familys need",
          "increase revenue",
          "good education",
          "decide start",
          "request second",
          "continue grow",
          "request intend",
          "use clothing",
          "use follow",
          "request use",
          "use money",
          "new product",
          "continue improve",
          "improve family",
          "long time",
          "meet demand",
          "month ago",
          "customer demand",
          "receive first",
          "family live",
          "meet need",
          "improve quality",
          "family well",
          "money earn",
          "life family",
          "use new",
          "variety product",
          "small shop",
          "give well",
          "clothe shoe",
          "expand request",
          "improve life",
          "save enough",
          "marry live",
          "use invest",
          "help support",
          "wife work",
          "stock shop",
          "use second",
          "start work",
          "begin ago",
          "plan increase",
          "keep work"
         ],
         "y": [
          65,
          65,
          55,
          50,
          47,
          47,
          44,
          42,
          39,
          38,
          37,
          37,
          34,
          32,
          30,
          29,
          27,
          26,
          26,
          26,
          26,
          26,
          26,
          24,
          24,
          24,
          24,
          24,
          23,
          23,
          23,
          22,
          22,
          22,
          21,
          21,
          21,
          20,
          20,
          20,
          20,
          20,
          19,
          19,
          18,
          18,
          18,
          18,
          17,
          17,
          17,
          17,
          17,
          17,
          17,
          16,
          16,
          16,
          16,
          16,
          16,
          16,
          16,
          15,
          15,
          15,
          15,
          15,
          15,
          15,
          15,
          15,
          15,
          15,
          15,
          14,
          14,
          14,
          14,
          14,
          14,
          14,
          14,
          14,
          14,
          14,
          13,
          13,
          13,
          13,
          13,
          13,
          13,
          13,
          12,
          12,
          12,
          12,
          12,
          12
         ]
        }
       ],
       "layout": {
        "autosize": true,
        "legend": {
         "bgcolor": "#F5F6F9",
         "font": {
          "color": "#4D5663"
         }
        },
        "paper_bgcolor": "#F5F6F9",
        "plot_bgcolor": "#F5F6F9",
        "template": {
         "data": {
          "bar": [
           {
            "error_x": {
             "color": "#2a3f5f"
            },
            "error_y": {
             "color": "#2a3f5f"
            },
            "marker": {
             "line": {
              "color": "#E5ECF6",
              "width": 0.5
             },
             "pattern": {
              "fillmode": "overlay",
              "size": 10,
              "solidity": 0.2
             }
            },
            "type": "bar"
           }
          ],
          "barpolar": [
           {
            "marker": {
             "line": {
              "color": "#E5ECF6",
              "width": 0.5
             },
             "pattern": {
              "fillmode": "overlay",
              "size": 10,
              "solidity": 0.2
             }
            },
            "type": "barpolar"
           }
          ],
          "carpet": [
           {
            "aaxis": {
             "endlinecolor": "#2a3f5f",
             "gridcolor": "white",
             "linecolor": "white",
             "minorgridcolor": "white",
             "startlinecolor": "#2a3f5f"
            },
            "baxis": {
             "endlinecolor": "#2a3f5f",
             "gridcolor": "white",
             "linecolor": "white",
             "minorgridcolor": "white",
             "startlinecolor": "#2a3f5f"
            },
            "type": "carpet"
           }
          ],
          "choropleth": [
           {
            "colorbar": {
             "outlinewidth": 0,
             "ticks": ""
            },
            "type": "choropleth"
           }
          ],
          "contour": [
           {
            "colorbar": {
             "outlinewidth": 0,
             "ticks": ""
            },
            "colorscale": [
             [
              0,
              "#0d0887"
             ],
             [
              0.1111111111111111,
              "#46039f"
             ],
             [
              0.2222222222222222,
              "#7201a8"
             ],
             [
              0.3333333333333333,
              "#9c179e"
             ],
             [
              0.4444444444444444,
              "#bd3786"
             ],
             [
              0.5555555555555556,
              "#d8576b"
             ],
             [
              0.6666666666666666,
              "#ed7953"
             ],
             [
              0.7777777777777778,
              "#fb9f3a"
             ],
             [
              0.8888888888888888,
              "#fdca26"
             ],
             [
              1,
              "#f0f921"
             ]
            ],
            "type": "contour"
           }
          ],
          "contourcarpet": [
           {
            "colorbar": {
             "outlinewidth": 0,
             "ticks": ""
            },
            "type": "contourcarpet"
           }
          ],
          "heatmap": [
           {
            "colorbar": {
             "outlinewidth": 0,
             "ticks": ""
            },
            "colorscale": [
             [
              0,
              "#0d0887"
             ],
             [
              0.1111111111111111,
              "#46039f"
             ],
             [
              0.2222222222222222,
              "#7201a8"
             ],
             [
              0.3333333333333333,
              "#9c179e"
             ],
             [
              0.4444444444444444,
              "#bd3786"
             ],
             [
              0.5555555555555556,
              "#d8576b"
             ],
             [
              0.6666666666666666,
              "#ed7953"
             ],
             [
              0.7777777777777778,
              "#fb9f3a"
             ],
             [
              0.8888888888888888,
              "#fdca26"
             ],
             [
              1,
              "#f0f921"
             ]
            ],
            "type": "heatmap"
           }
          ],
          "heatmapgl": [
           {
            "colorbar": {
             "outlinewidth": 0,
             "ticks": ""
            },
            "colorscale": [
             [
              0,
              "#0d0887"
             ],
             [
              0.1111111111111111,
              "#46039f"
             ],
             [
              0.2222222222222222,
              "#7201a8"
             ],
             [
              0.3333333333333333,
              "#9c179e"
             ],
             [
              0.4444444444444444,
              "#bd3786"
             ],
             [
              0.5555555555555556,
              "#d8576b"
             ],
             [
              0.6666666666666666,
              "#ed7953"
             ],
             [
              0.7777777777777778,
              "#fb9f3a"
             ],
             [
              0.8888888888888888,
              "#fdca26"
             ],
             [
              1,
              "#f0f921"
             ]
            ],
            "type": "heatmapgl"
           }
          ],
          "histogram": [
           {
            "marker": {
             "pattern": {
              "fillmode": "overlay",
              "size": 10,
              "solidity": 0.2
             }
            },
            "type": "histogram"
           }
          ],
          "histogram2d": [
           {
            "colorbar": {
             "outlinewidth": 0,
             "ticks": ""
            },
            "colorscale": [
             [
              0,
              "#0d0887"
             ],
             [
              0.1111111111111111,
              "#46039f"
             ],
             [
              0.2222222222222222,
              "#7201a8"
             ],
             [
              0.3333333333333333,
              "#9c179e"
             ],
             [
              0.4444444444444444,
              "#bd3786"
             ],
             [
              0.5555555555555556,
              "#d8576b"
             ],
             [
              0.6666666666666666,
              "#ed7953"
             ],
             [
              0.7777777777777778,
              "#fb9f3a"
             ],
             [
              0.8888888888888888,
              "#fdca26"
             ],
             [
              1,
              "#f0f921"
             ]
            ],
            "type": "histogram2d"
           }
          ],
          "histogram2dcontour": [
           {
            "colorbar": {
             "outlinewidth": 0,
             "ticks": ""
            },
            "colorscale": [
             [
              0,
              "#0d0887"
             ],
             [
              0.1111111111111111,
              "#46039f"
             ],
             [
              0.2222222222222222,
              "#7201a8"
             ],
             [
              0.3333333333333333,
              "#9c179e"
             ],
             [
              0.4444444444444444,
              "#bd3786"
             ],
             [
              0.5555555555555556,
              "#d8576b"
             ],
             [
              0.6666666666666666,
              "#ed7953"
             ],
             [
              0.7777777777777778,
              "#fb9f3a"
             ],
             [
              0.8888888888888888,
              "#fdca26"
             ],
             [
              1,
              "#f0f921"
             ]
            ],
            "type": "histogram2dcontour"
           }
          ],
          "mesh3d": [
           {
            "colorbar": {
             "outlinewidth": 0,
             "ticks": ""
            },
            "type": "mesh3d"
           }
          ],
          "parcoords": [
           {
            "line": {
             "colorbar": {
              "outlinewidth": 0,
              "ticks": ""
             }
            },
            "type": "parcoords"
           }
          ],
          "pie": [
           {
            "automargin": true,
            "type": "pie"
           }
          ],
          "scatter": [
           {
            "fillpattern": {
             "fillmode": "overlay",
             "size": 10,
             "solidity": 0.2
            },
            "type": "scatter"
           }
          ],
          "scatter3d": [
           {
            "line": {
             "colorbar": {
              "outlinewidth": 0,
              "ticks": ""
             }
            },
            "marker": {
             "colorbar": {
              "outlinewidth": 0,
              "ticks": ""
             }
            },
            "type": "scatter3d"
           }
          ],
          "scattercarpet": [
           {
            "marker": {
             "colorbar": {
              "outlinewidth": 0,
              "ticks": ""
             }
            },
            "type": "scattercarpet"
           }
          ],
          "scattergeo": [
           {
            "marker": {
             "colorbar": {
              "outlinewidth": 0,
              "ticks": ""
             }
            },
            "type": "scattergeo"
           }
          ],
          "scattergl": [
           {
            "marker": {
             "colorbar": {
              "outlinewidth": 0,
              "ticks": ""
             }
            },
            "type": "scattergl"
           }
          ],
          "scattermapbox": [
           {
            "marker": {
             "colorbar": {
              "outlinewidth": 0,
              "ticks": ""
             }
            },
            "type": "scattermapbox"
           }
          ],
          "scatterpolar": [
           {
            "marker": {
             "colorbar": {
              "outlinewidth": 0,
              "ticks": ""
             }
            },
            "type": "scatterpolar"
           }
          ],
          "scatterpolargl": [
           {
            "marker": {
             "colorbar": {
              "outlinewidth": 0,
              "ticks": ""
             }
            },
            "type": "scatterpolargl"
           }
          ],
          "scatterternary": [
           {
            "marker": {
             "colorbar": {
              "outlinewidth": 0,
              "ticks": ""
             }
            },
            "type": "scatterternary"
           }
          ],
          "surface": [
           {
            "colorbar": {
             "outlinewidth": 0,
             "ticks": ""
            },
            "colorscale": [
             [
              0,
              "#0d0887"
             ],
             [
              0.1111111111111111,
              "#46039f"
             ],
             [
              0.2222222222222222,
              "#7201a8"
             ],
             [
              0.3333333333333333,
              "#9c179e"
             ],
             [
              0.4444444444444444,
              "#bd3786"
             ],
             [
              0.5555555555555556,
              "#d8576b"
             ],
             [
              0.6666666666666666,
              "#ed7953"
             ],
             [
              0.7777777777777778,
              "#fb9f3a"
             ],
             [
              0.8888888888888888,
              "#fdca26"
             ],
             [
              1,
              "#f0f921"
             ]
            ],
            "type": "surface"
           }
          ],
          "table": [
           {
            "cells": {
             "fill": {
              "color": "#EBF0F8"
             },
             "line": {
              "color": "white"
             }
            },
            "header": {
             "fill": {
              "color": "#C8D4E3"
             },
             "line": {
              "color": "white"
             }
            },
            "type": "table"
           }
          ]
         },
         "layout": {
          "annotationdefaults": {
           "arrowcolor": "#2a3f5f",
           "arrowhead": 0,
           "arrowwidth": 1
          },
          "autotypenumbers": "strict",
          "coloraxis": {
           "colorbar": {
            "outlinewidth": 0,
            "ticks": ""
           }
          },
          "colorscale": {
           "diverging": [
            [
             0,
             "#8e0152"
            ],
            [
             0.1,
             "#c51b7d"
            ],
            [
             0.2,
             "#de77ae"
            ],
            [
             0.3,
             "#f1b6da"
            ],
            [
             0.4,
             "#fde0ef"
            ],
            [
             0.5,
             "#f7f7f7"
            ],
            [
             0.6,
             "#e6f5d0"
            ],
            [
             0.7,
             "#b8e186"
            ],
            [
             0.8,
             "#7fbc41"
            ],
            [
             0.9,
             "#4d9221"
            ],
            [
             1,
             "#276419"
            ]
           ],
           "sequential": [
            [
             0,
             "#0d0887"
            ],
            [
             0.1111111111111111,
             "#46039f"
            ],
            [
             0.2222222222222222,
             "#7201a8"
            ],
            [
             0.3333333333333333,
             "#9c179e"
            ],
            [
             0.4444444444444444,
             "#bd3786"
            ],
            [
             0.5555555555555556,
             "#d8576b"
            ],
            [
             0.6666666666666666,
             "#ed7953"
            ],
            [
             0.7777777777777778,
             "#fb9f3a"
            ],
            [
             0.8888888888888888,
             "#fdca26"
            ],
            [
             1,
             "#f0f921"
            ]
           ],
           "sequentialminus": [
            [
             0,
             "#0d0887"
            ],
            [
             0.1111111111111111,
             "#46039f"
            ],
            [
             0.2222222222222222,
             "#7201a8"
            ],
            [
             0.3333333333333333,
             "#9c179e"
            ],
            [
             0.4444444444444444,
             "#bd3786"
            ],
            [
             0.5555555555555556,
             "#d8576b"
            ],
            [
             0.6666666666666666,
             "#ed7953"
            ],
            [
             0.7777777777777778,
             "#fb9f3a"
            ],
            [
             0.8888888888888888,
             "#fdca26"
            ],
            [
             1,
             "#f0f921"
            ]
           ]
          },
          "colorway": [
           "#636efa",
           "#EF553B",
           "#00cc96",
           "#ab63fa",
           "#FFA15A",
           "#19d3f3",
           "#FF6692",
           "#B6E880",
           "#FF97FF",
           "#FECB52"
          ],
          "font": {
           "color": "#2a3f5f"
          },
          "geo": {
           "bgcolor": "white",
           "lakecolor": "white",
           "landcolor": "#E5ECF6",
           "showlakes": true,
           "showland": true,
           "subunitcolor": "white"
          },
          "hoverlabel": {
           "align": "left"
          },
          "hovermode": "closest",
          "mapbox": {
           "style": "light"
          },
          "paper_bgcolor": "white",
          "plot_bgcolor": "#E5ECF6",
          "polar": {
           "angularaxis": {
            "gridcolor": "white",
            "linecolor": "white",
            "ticks": ""
           },
           "bgcolor": "#E5ECF6",
           "radialaxis": {
            "gridcolor": "white",
            "linecolor": "white",
            "ticks": ""
           }
          },
          "scene": {
           "xaxis": {
            "backgroundcolor": "#E5ECF6",
            "gridcolor": "white",
            "gridwidth": 2,
            "linecolor": "white",
            "showbackground": true,
            "ticks": "",
            "zerolinecolor": "white"
           },
           "yaxis": {
            "backgroundcolor": "#E5ECF6",
            "gridcolor": "white",
            "gridwidth": 2,
            "linecolor": "white",
            "showbackground": true,
            "ticks": "",
            "zerolinecolor": "white"
           },
           "zaxis": {
            "backgroundcolor": "#E5ECF6",
            "gridcolor": "white",
            "gridwidth": 2,
            "linecolor": "white",
            "showbackground": true,
            "ticks": "",
            "zerolinecolor": "white"
           }
          },
          "shapedefaults": {
           "line": {
            "color": "#2a3f5f"
           }
          },
          "ternary": {
           "aaxis": {
            "gridcolor": "white",
            "linecolor": "white",
            "ticks": ""
           },
           "baxis": {
            "gridcolor": "white",
            "linecolor": "white",
            "ticks": ""
           },
           "bgcolor": "#E5ECF6",
           "caxis": {
            "gridcolor": "white",
            "linecolor": "white",
            "ticks": ""
           }
          },
          "title": {
           "x": 0.05
          },
          "xaxis": {
           "automargin": true,
           "gridcolor": "white",
           "linecolor": "white",
           "ticks": "",
           "title": {
            "standoff": 15
           },
           "zerolinecolor": "white",
           "zerolinewidth": 2
          },
          "yaxis": {
           "automargin": true,
           "gridcolor": "white",
           "linecolor": "white",
           "ticks": "",
           "title": {
            "standoff": 15
           },
           "zerolinecolor": "white",
           "zerolinewidth": 2
          }
         }
        },
        "title": {
         "font": {
          "color": "#4D5663"
         },
         "text": "Topic 0: Top 100 bigrams after removing stop words"
        },
        "xaxis": {
         "autorange": true,
         "gridcolor": "#E1E5ED",
         "linecolor": "black",
         "range": [
          -0.5,
          99.5
         ],
         "showgrid": true,
         "tickfont": {
          "color": "#4D5663"
         },
         "title": {
          "font": {
           "color": "#4D5663"
          },
          "text": ""
         },
         "type": "category",
         "zerolinecolor": "#E1E5ED"
        },
        "yaxis": {
         "autorange": true,
         "gridcolor": "#E1E5ED",
         "linecolor": "black",
         "range": [
          0,
          68.42105263157895
         ],
         "showgrid": true,
         "tickfont": {
          "color": "#4D5663"
         },
         "title": {
          "font": {
           "color": "#4D5663"
          },
          "text": "Count"
         },
         "type": "linear",
         "zerolinecolor": "#E1E5ED"
        }
       }
      },
      "image/png": "[encoded data removed]",
      "text/html": [
       "<div>                            <div id=\"c5bbd416-574a-4abe-ab3f-9c9e29ed854c\" class=\"plotly-graph-div\" style=\"height:525px; width:100%;\"></div>            <script type=\"text/javascript\">                require([\"plotly\"], function(Plotly) {                    window.PLOTLYENV=window.PLOTLYENV || {};\n",
       "                    window.PLOTLYENV.BASE_URL='https://plot.ly';                                    if (document.getElementById(\"c5bbd416-574a-4abe-ab3f-9c9e29ed854c\")) {                    Plotly.newPlot(                        \"c5bbd416-574a-4abe-ab3f-9c9e29ed854c\",                        [{\"marker\":{\"color\":\"rgba(255, 153, 51, 0.6)\",\"line\":{\"color\":\"rgba(255, 153, 51, 1.0)\",\"width\":1}},\"name\":\"count\",\"orientation\":\"v\",\"text\":\"\",\"x\":[\"work hard\",\"pay fee\",\"hard work\",\"increase stock\",\"group member\",\"start small\",\"support family\",\"husband work\",\"provide family\",\"start ago\",\"live husband\",\"member group\",\"programs_information_microfinance_ecuador services_please_visit_href\",\"mifex_offers_client microinsurance_access_training_educational\",\"microinsurance_access_training_educational programs_information_microfinance_ecuador\",\"plan use\",\"well life\",\"kenya_security_situation_communitie businesses_lenders_entrepreneur_aware\",\"may_represent_higher_default risk_willing_accept_additional\",\"run small\",\"risk_willing_accept_additional risk_making\",\"provide well\",\"businesses_lenders_entrepreneur_aware may_represent_higher_default\",\"pay back\",\"marry primary\",\"small store\",\"customer need\",\"high demand\",\"enough money\",\"want expand\",\"help husband\",\"intend use\",\"beauty product\",\"therefore request\",\"operate small\",\"add stock\",\"husband help\",\"request budget\",\"local community\",\"quality life\",\"family need\",\"large quantity\",\"save money\",\"local market\",\"repay time\",\"increase profit\",\"rural area\",\"meet customer\",\"family member\",\"sale increase\",\"store home\",\"start help\",\"attract new\",\"use clothe\",\"increase sale\",\"need order\",\"boy girl\",\"familys need\",\"increase revenue\",\"good education\",\"decide start\",\"request second\",\"continue grow\",\"request intend\",\"use clothing\",\"use follow\",\"request use\",\"use money\",\"new product\",\"continue improve\",\"improve family\",\"long time\",\"meet demand\",\"month ago\",\"customer demand\",\"receive first\",\"family live\",\"meet need\",\"improve quality\",\"family well\",\"money earn\",\"life family\",\"use new\",\"variety product\",\"small shop\",\"give well\",\"clothe shoe\",\"expand request\",\"improve life\",\"save enough\",\"marry live\",\"use invest\",\"help support\",\"wife work\",\"stock shop\",\"use second\",\"start work\",\"begin ago\",\"plan increase\",\"keep work\"],\"y\":[65,65,55,50,47,47,44,42,39,38,37,37,34,32,30,29,27,26,26,26,26,26,26,24,24,24,24,24,23,23,23,22,22,22,21,21,21,20,20,20,20,20,19,19,18,18,18,18,17,17,17,17,17,17,17,16,16,16,16,16,16,16,16,15,15,15,15,15,15,15,15,15,15,15,15,14,14,14,14,14,14,14,14,14,14,14,13,13,13,13,13,13,13,13,12,12,12,12,12,12],\"type\":\"bar\"}],                        {\"legend\":{\"bgcolor\":\"#F5F6F9\",\"font\":{\"color\":\"#4D5663\"}},\"paper_bgcolor\":\"#F5F6F9\",\"plot_bgcolor\":\"#F5F6F9\",\"template\":{\"data\":{\"barpolar\":[{\"marker\":{\"line\":{\"color\":\"#E5ECF6\",\"width\":0.5},\"pattern\":{\"fillmode\":\"overlay\",\"size\":10,\"solidity\":0.2}},\"type\":\"barpolar\"}],\"bar\":[{\"error_x\":{\"color\":\"#2a3f5f\"},\"error_y\":{\"color\":\"#2a3f5f\"},\"marker\":{\"line\":{\"color\":\"#E5ECF6\",\"width\":0.5},\"pattern\":{\"fillmode\":\"overlay\",\"size\":10,\"solidity\":0.2}},\"type\":\"bar\"}],\"carpet\":[{\"aaxis\":{\"endlinecolor\":\"#2a3f5f\",\"gridcolor\":\"white\",\"linecolor\":\"white\",\"minorgridcolor\":\"white\",\"startlinecolor\":\"#2a3f5f\"},\"baxis\":{\"endlinecolor\":\"#2a3f5f\",\"gridcolor\":\"white\",\"linecolor\":\"white\",\"minorgridcolor\":\"white\",\"startlinecolor\":\"#2a3f5f\"},\"type\":\"carpet\"}],\"choropleth\":[{\"colorbar\":{\"outlinewidth\":0,\"ticks\":\"\"},\"type\":\"choropleth\"}],\"contourcarpet\":[{\"colorbar\":{\"outlinewidth\":0,\"ticks\":\"\"},\"type\":\"contourcarpet\"}],\"contour\":[{\"colorbar\":{\"outlinewidth\":0,\"ticks\":\"\"},\"colorscale\":[[0.0,\"#0d0887\"],[0.1111111111111111,\"#46039f\"],[0.2222222222222222,\"#7201a8\"],[0.3333333333333333,\"#9c179e\"],[0.4444444444444444,\"#bd3786\"],[0.5555555555555556,\"#d8576b\"],[0.6666666666666666,\"#ed7953\"],[0.7777777777777778,\"#fb9f3a\"],[0.8888888888888888,\"#fdca26\"],[1.0,\"#f0f921\"]],\"type\":\"contour\"}],\"heatmapgl\":[{\"colorbar\":{\"outlinewidth\":0,\"ticks\":\"\"},\"colorscale\":[[0.0,\"#0d0887\"],[0.1111111111111111,\"#46039f\"],[0.2222222222222222,\"#7201a8\"],[0.3333333333333333,\"#9c179e\"],[0.4444444444444444,\"#bd3786\"],[0.5555555555555556,\"#d8576b\"],[0.6666666666666666,\"#ed7953\"],[0.7777777777777778,\"#fb9f3a\"],[0.8888888888888888,\"#fdca26\"],[1.0,\"#f0f921\"]],\"type\":\"heatmapgl\"}],\"heatmap\":[{\"colorbar\":{\"outlinewidth\":0,\"ticks\":\"\"},\"colorscale\":[[0.0,\"#0d0887\"],[0.1111111111111111,\"#46039f\"],[0.2222222222222222,\"#7201a8\"],[0.3333333333333333,\"#9c179e\"],[0.4444444444444444,\"#bd3786\"],[0.5555555555555556,\"#d8576b\"],[0.6666666666666666,\"#ed7953\"],[0.7777777777777778,\"#fb9f3a\"],[0.8888888888888888,\"#fdca26\"],[1.0,\"#f0f921\"]],\"type\":\"heatmap\"}],\"histogram2dcontour\":[{\"colorbar\":{\"outlinewidth\":0,\"ticks\":\"\"},\"colorscale\":[[0.0,\"#0d0887\"],[0.1111111111111111,\"#46039f\"],[0.2222222222222222,\"#7201a8\"],[0.3333333333333333,\"#9c179e\"],[0.4444444444444444,\"#bd3786\"],[0.5555555555555556,\"#d8576b\"],[0.6666666666666666,\"#ed7953\"],[0.7777777777777778,\"#fb9f3a\"],[0.8888888888888888,\"#fdca26\"],[1.0,\"#f0f921\"]],\"type\":\"histogram2dcontour\"}],\"histogram2d\":[{\"colorbar\":{\"outlinewidth\":0,\"ticks\":\"\"},\"colorscale\":[[0.0,\"#0d0887\"],[0.1111111111111111,\"#46039f\"],[0.2222222222222222,\"#7201a8\"],[0.3333333333333333,\"#9c179e\"],[0.4444444444444444,\"#bd3786\"],[0.5555555555555556,\"#d8576b\"],[0.6666666666666666,\"#ed7953\"],[0.7777777777777778,\"#fb9f3a\"],[0.8888888888888888,\"#fdca26\"],[1.0,\"#f0f921\"]],\"type\":\"histogram2d\"}],\"histogram\":[{\"marker\":{\"pattern\":{\"fillmode\":\"overlay\",\"size\":10,\"solidity\":0.2}},\"type\":\"histogram\"}],\"mesh3d\":[{\"colorbar\":{\"outlinewidth\":0,\"ticks\":\"\"},\"type\":\"mesh3d\"}],\"parcoords\":[{\"line\":{\"colorbar\":{\"outlinewidth\":0,\"ticks\":\"\"}},\"type\":\"parcoords\"}],\"pie\":[{\"automargin\":true,\"type\":\"pie\"}],\"scatter3d\":[{\"line\":{\"colorbar\":{\"outlinewidth\":0,\"ticks\":\"\"}},\"marker\":{\"colorbar\":{\"outlinewidth\":0,\"ticks\":\"\"}},\"type\":\"scatter3d\"}],\"scattercarpet\":[{\"marker\":{\"colorbar\":{\"outlinewidth\":0,\"ticks\":\"\"}},\"type\":\"scattercarpet\"}],\"scattergeo\":[{\"marker\":{\"colorbar\":{\"outlinewidth\":0,\"ticks\":\"\"}},\"type\":\"scattergeo\"}],\"scattergl\":[{\"marker\":{\"colorbar\":{\"outlinewidth\":0,\"ticks\":\"\"}},\"type\":\"scattergl\"}],\"scattermapbox\":[{\"marker\":{\"colorbar\":{\"outlinewidth\":0,\"ticks\":\"\"}},\"type\":\"scattermapbox\"}],\"scatterpolargl\":[{\"marker\":{\"colorbar\":{\"outlinewidth\":0,\"ticks\":\"\"}},\"type\":\"scatterpolargl\"}],\"scatterpolar\":[{\"marker\":{\"colorbar\":{\"outlinewidth\":0,\"ticks\":\"\"}},\"type\":\"scatterpolar\"}],\"scatter\":[{\"fillpattern\":{\"fillmode\":\"overlay\",\"size\":10,\"solidity\":0.2},\"type\":\"scatter\"}],\"scatterternary\":[{\"marker\":{\"colorbar\":{\"outlinewidth\":0,\"ticks\":\"\"}},\"type\":\"scatterternary\"}],\"surface\":[{\"colorbar\":{\"outlinewidth\":0,\"ticks\":\"\"},\"colorscale\":[[0.0,\"#0d0887\"],[0.1111111111111111,\"#46039f\"],[0.2222222222222222,\"#7201a8\"],[0.3333333333333333,\"#9c179e\"],[0.4444444444444444,\"#bd3786\"],[0.5555555555555556,\"#d8576b\"],[0.6666666666666666,\"#ed7953\"],[0.7777777777777778,\"#fb9f3a\"],[0.8888888888888888,\"#fdca26\"],[1.0,\"#f0f921\"]],\"type\":\"surface\"}],\"table\":[{\"cells\":{\"fill\":{\"color\":\"#EBF0F8\"},\"line\":{\"color\":\"white\"}},\"header\":{\"fill\":{\"color\":\"#C8D4E3\"},\"line\":{\"color\":\"white\"}},\"type\":\"table\"}]},\"layout\":{\"annotationdefaults\":{\"arrowcolor\":\"#2a3f5f\",\"arrowhead\":0,\"arrowwidth\":1},\"autotypenumbers\":\"strict\",\"coloraxis\":{\"colorbar\":{\"outlinewidth\":0,\"ticks\":\"\"}},\"colorscale\":{\"diverging\":[[0,\"#8e0152\"],[0.1,\"#c51b7d\"],[0.2,\"#de77ae\"],[0.3,\"#f1b6da\"],[0.4,\"#fde0ef\"],[0.5,\"#f7f7f7\"],[0.6,\"#e6f5d0\"],[0.7,\"#b8e186\"],[0.8,\"#7fbc41\"],[0.9,\"#4d9221\"],[1,\"#276419\"]],\"sequential\":[[0.0,\"#0d0887\"],[0.1111111111111111,\"#46039f\"],[0.2222222222222222,\"#7201a8\"],[0.3333333333333333,\"#9c179e\"],[0.4444444444444444,\"#bd3786\"],[0.5555555555555556,\"#d8576b\"],[0.6666666666666666,\"#ed7953\"],[0.7777777777777778,\"#fb9f3a\"],[0.8888888888888888,\"#fdca26\"],[1.0,\"#f0f921\"]],\"sequentialminus\":[[0.0,\"#0d0887\"],[0.1111111111111111,\"#46039f\"],[0.2222222222222222,\"#7201a8\"],[0.3333333333333333,\"#9c179e\"],[0.4444444444444444,\"#bd3786\"],[0.5555555555555556,\"#d8576b\"],[0.6666666666666666,\"#ed7953\"],[0.7777777777777778,\"#fb9f3a\"],[0.8888888888888888,\"#fdca26\"],[1.0,\"#f0f921\"]]},\"colorway\":[\"#636efa\",\"#EF553B\",\"#00cc96\",\"#ab63fa\",\"#FFA15A\",\"#19d3f3\",\"#FF6692\",\"#B6E880\",\"#FF97FF\",\"#FECB52\"],\"font\":{\"color\":\"#2a3f5f\"},\"geo\":{\"bgcolor\":\"white\",\"lakecolor\":\"white\",\"landcolor\":\"#E5ECF6\",\"showlakes\":true,\"showland\":true,\"subunitcolor\":\"white\"},\"hoverlabel\":{\"align\":\"left\"},\"hovermode\":\"closest\",\"mapbox\":{\"style\":\"light\"},\"paper_bgcolor\":\"white\",\"plot_bgcolor\":\"#E5ECF6\",\"polar\":{\"angularaxis\":{\"gridcolor\":\"white\",\"linecolor\":\"white\",\"ticks\":\"\"},\"bgcolor\":\"#E5ECF6\",\"radialaxis\":{\"gridcolor\":\"white\",\"linecolor\":\"white\",\"ticks\":\"\"}},\"scene\":{\"xaxis\":{\"backgroundcolor\":\"#E5ECF6\",\"gridcolor\":\"white\",\"gridwidth\":2,\"linecolor\":\"white\",\"showbackground\":true,\"ticks\":\"\",\"zerolinecolor\":\"white\"},\"yaxis\":{\"backgroundcolor\":\"#E5ECF6\",\"gridcolor\":\"white\",\"gridwidth\":2,\"linecolor\":\"white\",\"showbackground\":true,\"ticks\":\"\",\"zerolinecolor\":\"white\"},\"zaxis\":{\"backgroundcolor\":\"#E5ECF6\",\"gridcolor\":\"white\",\"gridwidth\":2,\"linecolor\":\"white\",\"showbackground\":true,\"ticks\":\"\",\"zerolinecolor\":\"white\"}},\"shapedefaults\":{\"line\":{\"color\":\"#2a3f5f\"}},\"ternary\":{\"aaxis\":{\"gridcolor\":\"white\",\"linecolor\":\"white\",\"ticks\":\"\"},\"baxis\":{\"gridcolor\":\"white\",\"linecolor\":\"white\",\"ticks\":\"\"},\"bgcolor\":\"#E5ECF6\",\"caxis\":{\"gridcolor\":\"white\",\"linecolor\":\"white\",\"ticks\":\"\"}},\"title\":{\"x\":0.05},\"xaxis\":{\"automargin\":true,\"gridcolor\":\"white\",\"linecolor\":\"white\",\"ticks\":\"\",\"title\":{\"standoff\":15},\"zerolinecolor\":\"white\",\"zerolinewidth\":2},\"yaxis\":{\"automargin\":true,\"gridcolor\":\"white\",\"linecolor\":\"white\",\"ticks\":\"\",\"title\":{\"standoff\":15},\"zerolinecolor\":\"white\",\"zerolinewidth\":2}}},\"title\":{\"font\":{\"color\":\"#4D5663\"},\"text\":\"Topic 0: Top 100 bigrams after removing stop words\"},\"xaxis\":{\"gridcolor\":\"#E1E5ED\",\"linecolor\":\"black\",\"showgrid\":true,\"tickfont\":{\"color\":\"#4D5663\"},\"title\":{\"font\":{\"color\":\"#4D5663\"},\"text\":\"\"},\"zerolinecolor\":\"#E1E5ED\"},\"yaxis\":{\"gridcolor\":\"#E1E5ED\",\"linecolor\":\"black\",\"showgrid\":true,\"tickfont\":{\"color\":\"#4D5663\"},\"title\":{\"font\":{\"color\":\"#4D5663\"},\"text\":\"Count\"},\"zerolinecolor\":\"#E1E5ED\"}},                        {\"showLink\": true, \"linkText\": \"Export to plot.ly\", \"plotlyServerURL\": \"https://plot.ly\", \"responsive\": true}                    ).then(function(){\n",
       "                            \n",
       "var gd = document.getElementById('c5bbd416-574a-4abe-ab3f-9c9e29ed854c');\n",
       "var x = new MutationObserver(function (mutations, observer) {{\n",
       "        var display = window.getComputedStyle(gd).display;\n",
       "        if (!display || display === 'none') {{\n",
       "            console.log([gd, 'removed!']);\n",
       "            Plotly.purge(gd);\n",
       "            observer.disconnect();\n",
       "        }}\n",
       "}});\n",
       "\n",
       "// Listen for the removal of the full notebook cells\n",
       "var notebookContainer = gd.closest('#notebook-container');\n",
       "if (notebookContainer) {{\n",
       "    x.observe(notebookContainer, {childList: true});\n",
       "}}\n",
       "\n",
       "// Listen for the clearing of the current output cell\n",
       "var outputEl = gd.closest('.output');\n",
       "if (outputEl) {{\n",
       "    x.observe(outputEl, {childList: true});\n",
       "}}\n",
       "\n",
       "                        })                };                });            </script>        </div>"
      ]
     },
     "metadata": {},
     "output_type": "display_data"
    }
   ],
   "source": [
    "plot_model(model=hdp, plot = 'bigram')"
   ]
  },
  {
   "cell_type": "code",
   "execution_count": 20,
   "id": "2fb4fa3d",
   "metadata": {},
   "outputs": [
    {
     "data": {
      "text/html": [
       "        <script type=\"text/javascript\">\n",
       "        window.PlotlyConfig = {MathJaxConfig: 'local'};\n",
       "        if (window.MathJax) {MathJax.Hub.Config({SVG: {font: \"STIX-Web\"}});}\n",
       "        if (typeof require !== 'undefined') {\n",
       "        require.undef(\"plotly\");\n",
       "        requirejs.config({\n",
       "            paths: {\n",
       "                'plotly': ['https://cdn.plot.ly/plotly-2.11.1.min']\n",
       "            }\n",
       "        });\n",
       "        require(['plotly'], function(Plotly) {\n",
       "            window._Plotly = Plotly;\n",
       "        });\n",
       "        }\n",
       "        </script>\n",
       "        "
      ]
     },
     "metadata": {},
     "output_type": "display_data"
    },
    {
     "data": {
      "application/vnd.plotly.v1+json": {
       "config": {
        "linkText": "Export to plot.ly",
        "plotlyServerURL": "https://plot.ly",
        "showLink": true
       },
       "data": [
        {
         "marker": {
          "color": "rgba(255, 153, 51, 0.6)",
          "line": {
           "color": "rgba(255, 153, 51, 1.0)",
           "width": 1
          }
         },
         "name": "count",
         "orientation": "v",
         "text": "",
         "type": "bar",
         "x": [
          "work",
          "use",
          "home",
          "community",
          "increase",
          "well",
          "store",
          "good",
          "family",
          "product",
          "live",
          "help",
          "start",
          "new",
          "order",
          "need",
          "husband",
          "customer",
          "marry",
          "small",
          "improve",
          "service",
          "plan",
          "open",
          "son",
          "expand",
          "get",
          "mother",
          "request",
          "repay",
          "quality",
          "second",
          "capital",
          "grow",
          "hope",
          "hard",
          "activity",
          "ago",
          "education",
          "go",
          "support",
          "give",
          "currently",
          "fee",
          "begin",
          "client",
          "money",
          "cereal",
          "take",
          "time",
          "fruit",
          "shop",
          "due",
          "serve",
          "keep",
          "area",
          "want",
          "vegetable",
          "translated_spanish",
          "offer",
          "would",
          "shoe",
          "pay",
          "say",
          "style",
          "sale",
          "set",
          "computer",
          "attend",
          "know",
          "goal",
          "challenge",
          "group",
          "high",
          "care",
          "stock",
          "life",
          "place",
          "call",
          "month",
          "thank",
          "brick",
          "bear",
          "phone",
          "maintain",
          "main",
          "save",
          "rice",
          "provide",
          "price",
          "move",
          "invest",
          "first",
          "entrepreneur",
          "dream",
          "day",
          "cow",
          "college",
          "clothing",
          "would_like"
         ],
         "y": [
          33,
          27,
          25,
          25,
          24,
          23,
          22,
          22,
          22,
          21,
          19,
          19,
          18,
          18,
          17,
          17,
          17,
          16,
          15,
          15,
          15,
          14,
          14,
          14,
          13,
          13,
          12,
          12,
          12,
          12,
          12,
          11,
          11,
          11,
          11,
          11,
          11,
          10,
          10,
          10,
          10,
          10,
          10,
          9,
          9,
          9,
          9,
          9,
          9,
          9,
          9,
          8,
          8,
          8,
          8,
          8,
          8,
          8,
          8,
          8,
          8,
          8,
          8,
          7,
          7,
          7,
          7,
          7,
          7,
          7,
          7,
          7,
          7,
          7,
          7,
          7,
          7,
          7,
          7,
          7,
          7,
          7,
          7,
          7,
          7,
          6,
          6,
          6,
          6,
          6,
          6,
          6,
          6,
          6,
          6,
          6,
          6,
          6,
          6,
          6
         ]
        }
       ],
       "layout": {
        "autosize": true,
        "legend": {
         "bgcolor": "#F5F6F9",
         "font": {
          "color": "#4D5663"
         }
        },
        "paper_bgcolor": "#F5F6F9",
        "plot_bgcolor": "#F5F6F9",
        "template": {
         "data": {
          "bar": [
           {
            "error_x": {
             "color": "#2a3f5f"
            },
            "error_y": {
             "color": "#2a3f5f"
            },
            "marker": {
             "line": {
              "color": "#E5ECF6",
              "width": 0.5
             },
             "pattern": {
              "fillmode": "overlay",
              "size": 10,
              "solidity": 0.2
             }
            },
            "type": "bar"
           }
          ],
          "barpolar": [
           {
            "marker": {
             "line": {
              "color": "#E5ECF6",
              "width": 0.5
             },
             "pattern": {
              "fillmode": "overlay",
              "size": 10,
              "solidity": 0.2
             }
            },
            "type": "barpolar"
           }
          ],
          "carpet": [
           {
            "aaxis": {
             "endlinecolor": "#2a3f5f",
             "gridcolor": "white",
             "linecolor": "white",
             "minorgridcolor": "white",
             "startlinecolor": "#2a3f5f"
            },
            "baxis": {
             "endlinecolor": "#2a3f5f",
             "gridcolor": "white",
             "linecolor": "white",
             "minorgridcolor": "white",
             "startlinecolor": "#2a3f5f"
            },
            "type": "carpet"
           }
          ],
          "choropleth": [
           {
            "colorbar": {
             "outlinewidth": 0,
             "ticks": ""
            },
            "type": "choropleth"
           }
          ],
          "contour": [
           {
            "colorbar": {
             "outlinewidth": 0,
             "ticks": ""
            },
            "colorscale": [
             [
              0,
              "#0d0887"
             ],
             [
              0.1111111111111111,
              "#46039f"
             ],
             [
              0.2222222222222222,
              "#7201a8"
             ],
             [
              0.3333333333333333,
              "#9c179e"
             ],
             [
              0.4444444444444444,
              "#bd3786"
             ],
             [
              0.5555555555555556,
              "#d8576b"
             ],
             [
              0.6666666666666666,
              "#ed7953"
             ],
             [
              0.7777777777777778,
              "#fb9f3a"
             ],
             [
              0.8888888888888888,
              "#fdca26"
             ],
             [
              1,
              "#f0f921"
             ]
            ],
            "type": "contour"
           }
          ],
          "contourcarpet": [
           {
            "colorbar": {
             "outlinewidth": 0,
             "ticks": ""
            },
            "type": "contourcarpet"
           }
          ],
          "heatmap": [
           {
            "colorbar": {
             "outlinewidth": 0,
             "ticks": ""
            },
            "colorscale": [
             [
              0,
              "#0d0887"
             ],
             [
              0.1111111111111111,
              "#46039f"
             ],
             [
              0.2222222222222222,
              "#7201a8"
             ],
             [
              0.3333333333333333,
              "#9c179e"
             ],
             [
              0.4444444444444444,
              "#bd3786"
             ],
             [
              0.5555555555555556,
              "#d8576b"
             ],
             [
              0.6666666666666666,
              "#ed7953"
             ],
             [
              0.7777777777777778,
              "#fb9f3a"
             ],
             [
              0.8888888888888888,
              "#fdca26"
             ],
             [
              1,
              "#f0f921"
             ]
            ],
            "type": "heatmap"
           }
          ],
          "heatmapgl": [
           {
            "colorbar": {
             "outlinewidth": 0,
             "ticks": ""
            },
            "colorscale": [
             [
              0,
              "#0d0887"
             ],
             [
              0.1111111111111111,
              "#46039f"
             ],
             [
              0.2222222222222222,
              "#7201a8"
             ],
             [
              0.3333333333333333,
              "#9c179e"
             ],
             [
              0.4444444444444444,
              "#bd3786"
             ],
             [
              0.5555555555555556,
              "#d8576b"
             ],
             [
              0.6666666666666666,
              "#ed7953"
             ],
             [
              0.7777777777777778,
              "#fb9f3a"
             ],
             [
              0.8888888888888888,
              "#fdca26"
             ],
             [
              1,
              "#f0f921"
             ]
            ],
            "type": "heatmapgl"
           }
          ],
          "histogram": [
           {
            "marker": {
             "pattern": {
              "fillmode": "overlay",
              "size": 10,
              "solidity": 0.2
             }
            },
            "type": "histogram"
           }
          ],
          "histogram2d": [
           {
            "colorbar": {
             "outlinewidth": 0,
             "ticks": ""
            },
            "colorscale": [
             [
              0,
              "#0d0887"
             ],
             [
              0.1111111111111111,
              "#46039f"
             ],
             [
              0.2222222222222222,
              "#7201a8"
             ],
             [
              0.3333333333333333,
              "#9c179e"
             ],
             [
              0.4444444444444444,
              "#bd3786"
             ],
             [
              0.5555555555555556,
              "#d8576b"
             ],
             [
              0.6666666666666666,
              "#ed7953"
             ],
             [
              0.7777777777777778,
              "#fb9f3a"
             ],
             [
              0.8888888888888888,
              "#fdca26"
             ],
             [
              1,
              "#f0f921"
             ]
            ],
            "type": "histogram2d"
           }
          ],
          "histogram2dcontour": [
           {
            "colorbar": {
             "outlinewidth": 0,
             "ticks": ""
            },
            "colorscale": [
             [
              0,
              "#0d0887"
             ],
             [
              0.1111111111111111,
              "#46039f"
             ],
             [
              0.2222222222222222,
              "#7201a8"
             ],
             [
              0.3333333333333333,
              "#9c179e"
             ],
             [
              0.4444444444444444,
              "#bd3786"
             ],
             [
              0.5555555555555556,
              "#d8576b"
             ],
             [
              0.6666666666666666,
              "#ed7953"
             ],
             [
              0.7777777777777778,
              "#fb9f3a"
             ],
             [
              0.8888888888888888,
              "#fdca26"
             ],
             [
              1,
              "#f0f921"
             ]
            ],
            "type": "histogram2dcontour"
           }
          ],
          "mesh3d": [
           {
            "colorbar": {
             "outlinewidth": 0,
             "ticks": ""
            },
            "type": "mesh3d"
           }
          ],
          "parcoords": [
           {
            "line": {
             "colorbar": {
              "outlinewidth": 0,
              "ticks": ""
             }
            },
            "type": "parcoords"
           }
          ],
          "pie": [
           {
            "automargin": true,
            "type": "pie"
           }
          ],
          "scatter": [
           {
            "fillpattern": {
             "fillmode": "overlay",
             "size": 10,
             "solidity": 0.2
            },
            "type": "scatter"
           }
          ],
          "scatter3d": [
           {
            "line": {
             "colorbar": {
              "outlinewidth": 0,
              "ticks": ""
             }
            },
            "marker": {
             "colorbar": {
              "outlinewidth": 0,
              "ticks": ""
             }
            },
            "type": "scatter3d"
           }
          ],
          "scattercarpet": [
           {
            "marker": {
             "colorbar": {
              "outlinewidth": 0,
              "ticks": ""
             }
            },
            "type": "scattercarpet"
           }
          ],
          "scattergeo": [
           {
            "marker": {
             "colorbar": {
              "outlinewidth": 0,
              "ticks": ""
             }
            },
            "type": "scattergeo"
           }
          ],
          "scattergl": [
           {
            "marker": {
             "colorbar": {
              "outlinewidth": 0,
              "ticks": ""
             }
            },
            "type": "scattergl"
           }
          ],
          "scattermapbox": [
           {
            "marker": {
             "colorbar": {
              "outlinewidth": 0,
              "ticks": ""
             }
            },
            "type": "scattermapbox"
           }
          ],
          "scatterpolar": [
           {
            "marker": {
             "colorbar": {
              "outlinewidth": 0,
              "ticks": ""
             }
            },
            "type": "scatterpolar"
           }
          ],
          "scatterpolargl": [
           {
            "marker": {
             "colorbar": {
              "outlinewidth": 0,
              "ticks": ""
             }
            },
            "type": "scatterpolargl"
           }
          ],
          "scatterternary": [
           {
            "marker": {
             "colorbar": {
              "outlinewidth": 0,
              "ticks": ""
             }
            },
            "type": "scatterternary"
           }
          ],
          "surface": [
           {
            "colorbar": {
             "outlinewidth": 0,
             "ticks": ""
            },
            "colorscale": [
             [
              0,
              "#0d0887"
             ],
             [
              0.1111111111111111,
              "#46039f"
             ],
             [
              0.2222222222222222,
              "#7201a8"
             ],
             [
              0.3333333333333333,
              "#9c179e"
             ],
             [
              0.4444444444444444,
              "#bd3786"
             ],
             [
              0.5555555555555556,
              "#d8576b"
             ],
             [
              0.6666666666666666,
              "#ed7953"
             ],
             [
              0.7777777777777778,
              "#fb9f3a"
             ],
             [
              0.8888888888888888,
              "#fdca26"
             ],
             [
              1,
              "#f0f921"
             ]
            ],
            "type": "surface"
           }
          ],
          "table": [
           {
            "cells": {
             "fill": {
              "color": "#EBF0F8"
             },
             "line": {
              "color": "white"
             }
            },
            "header": {
             "fill": {
              "color": "#C8D4E3"
             },
             "line": {
              "color": "white"
             }
            },
            "type": "table"
           }
          ]
         },
         "layout": {
          "annotationdefaults": {
           "arrowcolor": "#2a3f5f",
           "arrowhead": 0,
           "arrowwidth": 1
          },
          "autotypenumbers": "strict",
          "coloraxis": {
           "colorbar": {
            "outlinewidth": 0,
            "ticks": ""
           }
          },
          "colorscale": {
           "diverging": [
            [
             0,
             "#8e0152"
            ],
            [
             0.1,
             "#c51b7d"
            ],
            [
             0.2,
             "#de77ae"
            ],
            [
             0.3,
             "#f1b6da"
            ],
            [
             0.4,
             "#fde0ef"
            ],
            [
             0.5,
             "#f7f7f7"
            ],
            [
             0.6,
             "#e6f5d0"
            ],
            [
             0.7,
             "#b8e186"
            ],
            [
             0.8,
             "#7fbc41"
            ],
            [
             0.9,
             "#4d9221"
            ],
            [
             1,
             "#276419"
            ]
           ],
           "sequential": [
            [
             0,
             "#0d0887"
            ],
            [
             0.1111111111111111,
             "#46039f"
            ],
            [
             0.2222222222222222,
             "#7201a8"
            ],
            [
             0.3333333333333333,
             "#9c179e"
            ],
            [
             0.4444444444444444,
             "#bd3786"
            ],
            [
             0.5555555555555556,
             "#d8576b"
            ],
            [
             0.6666666666666666,
             "#ed7953"
            ],
            [
             0.7777777777777778,
             "#fb9f3a"
            ],
            [
             0.8888888888888888,
             "#fdca26"
            ],
            [
             1,
             "#f0f921"
            ]
           ],
           "sequentialminus": [
            [
             0,
             "#0d0887"
            ],
            [
             0.1111111111111111,
             "#46039f"
            ],
            [
             0.2222222222222222,
             "#7201a8"
            ],
            [
             0.3333333333333333,
             "#9c179e"
            ],
            [
             0.4444444444444444,
             "#bd3786"
            ],
            [
             0.5555555555555556,
             "#d8576b"
            ],
            [
             0.6666666666666666,
             "#ed7953"
            ],
            [
             0.7777777777777778,
             "#fb9f3a"
            ],
            [
             0.8888888888888888,
             "#fdca26"
            ],
            [
             1,
             "#f0f921"
            ]
           ]
          },
          "colorway": [
           "#636efa",
           "#EF553B",
           "#00cc96",
           "#ab63fa",
           "#FFA15A",
           "#19d3f3",
           "#FF6692",
           "#B6E880",
           "#FF97FF",
           "#FECB52"
          ],
          "font": {
           "color": "#2a3f5f"
          },
          "geo": {
           "bgcolor": "white",
           "lakecolor": "white",
           "landcolor": "#E5ECF6",
           "showlakes": true,
           "showland": true,
           "subunitcolor": "white"
          },
          "hoverlabel": {
           "align": "left"
          },
          "hovermode": "closest",
          "mapbox": {
           "style": "light"
          },
          "paper_bgcolor": "white",
          "plot_bgcolor": "#E5ECF6",
          "polar": {
           "angularaxis": {
            "gridcolor": "white",
            "linecolor": "white",
            "ticks": ""
           },
           "bgcolor": "#E5ECF6",
           "radialaxis": {
            "gridcolor": "white",
            "linecolor": "white",
            "ticks": ""
           }
          },
          "scene": {
           "xaxis": {
            "backgroundcolor": "#E5ECF6",
            "gridcolor": "white",
            "gridwidth": 2,
            "linecolor": "white",
            "showbackground": true,
            "ticks": "",
            "zerolinecolor": "white"
           },
           "yaxis": {
            "backgroundcolor": "#E5ECF6",
            "gridcolor": "white",
            "gridwidth": 2,
            "linecolor": "white",
            "showbackground": true,
            "ticks": "",
            "zerolinecolor": "white"
           },
           "zaxis": {
            "backgroundcolor": "#E5ECF6",
            "gridcolor": "white",
            "gridwidth": 2,
            "linecolor": "white",
            "showbackground": true,
            "ticks": "",
            "zerolinecolor": "white"
           }
          },
          "shapedefaults": {
           "line": {
            "color": "#2a3f5f"
           }
          },
          "ternary": {
           "aaxis": {
            "gridcolor": "white",
            "linecolor": "white",
            "ticks": ""
           },
           "baxis": {
            "gridcolor": "white",
            "linecolor": "white",
            "ticks": ""
           },
           "bgcolor": "#E5ECF6",
           "caxis": {
            "gridcolor": "white",
            "linecolor": "white",
            "ticks": ""
           }
          },
          "title": {
           "x": 0.05
          },
          "xaxis": {
           "automargin": true,
           "gridcolor": "white",
           "linecolor": "white",
           "ticks": "",
           "title": {
            "standoff": 15
           },
           "zerolinecolor": "white",
           "zerolinewidth": 2
          },
          "yaxis": {
           "automargin": true,
           "gridcolor": "white",
           "linecolor": "white",
           "ticks": "",
           "title": {
            "standoff": 15
           },
           "zerolinecolor": "white",
           "zerolinewidth": 2
          }
         }
        },
        "title": {
         "font": {
          "color": "#4D5663"
         },
         "text": "Topic 2: Top 100 words after removing stop words"
        },
        "xaxis": {
         "autorange": true,
         "gridcolor": "#E1E5ED",
         "linecolor": "black",
         "range": [
          -0.5,
          99.5
         ],
         "showgrid": true,
         "tickfont": {
          "color": "#4D5663"
         },
         "title": {
          "font": {
           "color": "#4D5663"
          },
          "text": ""
         },
         "type": "category",
         "zerolinecolor": "#E1E5ED"
        },
        "yaxis": {
         "autorange": true,
         "gridcolor": "#E1E5ED",
         "linecolor": "black",
         "range": [
          0,
          34.73684210526316
         ],
         "showgrid": true,
         "tickfont": {
          "color": "#4D5663"
         },
         "title": {
          "font": {
           "color": "#4D5663"
          },
          "text": "Count"
         },
         "type": "linear",
         "zerolinecolor": "#E1E5ED"
        }
       }
      },
      "image/png": "[encoded data removed]",
      "text/html": [
       "<div>                            <div id=\"5d7eb391-28d8-469e-8ac9-d1fa005f5ee8\" class=\"plotly-graph-div\" style=\"height:525px; width:100%;\"></div>            <script type=\"text/javascript\">                require([\"plotly\"], function(Plotly) {                    window.PLOTLYENV=window.PLOTLYENV || {};\n",
       "                    window.PLOTLYENV.BASE_URL='https://plot.ly';                                    if (document.getElementById(\"5d7eb391-28d8-469e-8ac9-d1fa005f5ee8\")) {                    Plotly.newPlot(                        \"5d7eb391-28d8-469e-8ac9-d1fa005f5ee8\",                        [{\"marker\":{\"color\":\"rgba(255, 153, 51, 0.6)\",\"line\":{\"color\":\"rgba(255, 153, 51, 1.0)\",\"width\":1}},\"name\":\"count\",\"orientation\":\"v\",\"text\":\"\",\"x\":[\"work\",\"use\",\"home\",\"community\",\"increase\",\"well\",\"store\",\"good\",\"family\",\"product\",\"live\",\"help\",\"start\",\"new\",\"order\",\"need\",\"husband\",\"customer\",\"marry\",\"small\",\"improve\",\"service\",\"plan\",\"open\",\"son\",\"expand\",\"get\",\"mother\",\"request\",\"repay\",\"quality\",\"second\",\"capital\",\"grow\",\"hope\",\"hard\",\"activity\",\"ago\",\"education\",\"go\",\"support\",\"give\",\"currently\",\"fee\",\"begin\",\"client\",\"money\",\"cereal\",\"take\",\"time\",\"fruit\",\"shop\",\"due\",\"serve\",\"keep\",\"area\",\"want\",\"vegetable\",\"translated_spanish\",\"offer\",\"would\",\"shoe\",\"pay\",\"say\",\"style\",\"sale\",\"set\",\"computer\",\"attend\",\"know\",\"goal\",\"challenge\",\"group\",\"high\",\"care\",\"stock\",\"life\",\"place\",\"call\",\"month\",\"thank\",\"brick\",\"bear\",\"phone\",\"maintain\",\"main\",\"save\",\"rice\",\"provide\",\"price\",\"move\",\"invest\",\"first\",\"entrepreneur\",\"dream\",\"day\",\"cow\",\"college\",\"clothing\",\"would_like\"],\"y\":[33,27,25,25,24,23,22,22,22,21,19,19,18,18,17,17,17,16,15,15,15,14,14,14,13,13,12,12,12,12,12,11,11,11,11,11,11,10,10,10,10,10,10,9,9,9,9,9,9,9,9,8,8,8,8,8,8,8,8,8,8,8,8,7,7,7,7,7,7,7,7,7,7,7,7,7,7,7,7,7,7,7,7,7,7,6,6,6,6,6,6,6,6,6,6,6,6,6,6,6],\"type\":\"bar\"}],                        {\"legend\":{\"bgcolor\":\"#F5F6F9\",\"font\":{\"color\":\"#4D5663\"}},\"paper_bgcolor\":\"#F5F6F9\",\"plot_bgcolor\":\"#F5F6F9\",\"template\":{\"data\":{\"barpolar\":[{\"marker\":{\"line\":{\"color\":\"#E5ECF6\",\"width\":0.5},\"pattern\":{\"fillmode\":\"overlay\",\"size\":10,\"solidity\":0.2}},\"type\":\"barpolar\"}],\"bar\":[{\"error_x\":{\"color\":\"#2a3f5f\"},\"error_y\":{\"color\":\"#2a3f5f\"},\"marker\":{\"line\":{\"color\":\"#E5ECF6\",\"width\":0.5},\"pattern\":{\"fillmode\":\"overlay\",\"size\":10,\"solidity\":0.2}},\"type\":\"bar\"}],\"carpet\":[{\"aaxis\":{\"endlinecolor\":\"#2a3f5f\",\"gridcolor\":\"white\",\"linecolor\":\"white\",\"minorgridcolor\":\"white\",\"startlinecolor\":\"#2a3f5f\"},\"baxis\":{\"endlinecolor\":\"#2a3f5f\",\"gridcolor\":\"white\",\"linecolor\":\"white\",\"minorgridcolor\":\"white\",\"startlinecolor\":\"#2a3f5f\"},\"type\":\"carpet\"}],\"choropleth\":[{\"colorbar\":{\"outlinewidth\":0,\"ticks\":\"\"},\"type\":\"choropleth\"}],\"contourcarpet\":[{\"colorbar\":{\"outlinewidth\":0,\"ticks\":\"\"},\"type\":\"contourcarpet\"}],\"contour\":[{\"colorbar\":{\"outlinewidth\":0,\"ticks\":\"\"},\"colorscale\":[[0.0,\"#0d0887\"],[0.1111111111111111,\"#46039f\"],[0.2222222222222222,\"#7201a8\"],[0.3333333333333333,\"#9c179e\"],[0.4444444444444444,\"#bd3786\"],[0.5555555555555556,\"#d8576b\"],[0.6666666666666666,\"#ed7953\"],[0.7777777777777778,\"#fb9f3a\"],[0.8888888888888888,\"#fdca26\"],[1.0,\"#f0f921\"]],\"type\":\"contour\"}],\"heatmapgl\":[{\"colorbar\":{\"outlinewidth\":0,\"ticks\":\"\"},\"colorscale\":[[0.0,\"#0d0887\"],[0.1111111111111111,\"#46039f\"],[0.2222222222222222,\"#7201a8\"],[0.3333333333333333,\"#9c179e\"],[0.4444444444444444,\"#bd3786\"],[0.5555555555555556,\"#d8576b\"],[0.6666666666666666,\"#ed7953\"],[0.7777777777777778,\"#fb9f3a\"],[0.8888888888888888,\"#fdca26\"],[1.0,\"#f0f921\"]],\"type\":\"heatmapgl\"}],\"heatmap\":[{\"colorbar\":{\"outlinewidth\":0,\"ticks\":\"\"},\"colorscale\":[[0.0,\"#0d0887\"],[0.1111111111111111,\"#46039f\"],[0.2222222222222222,\"#7201a8\"],[0.3333333333333333,\"#9c179e\"],[0.4444444444444444,\"#bd3786\"],[0.5555555555555556,\"#d8576b\"],[0.6666666666666666,\"#ed7953\"],[0.7777777777777778,\"#fb9f3a\"],[0.8888888888888888,\"#fdca26\"],[1.0,\"#f0f921\"]],\"type\":\"heatmap\"}],\"histogram2dcontour\":[{\"colorbar\":{\"outlinewidth\":0,\"ticks\":\"\"},\"colorscale\":[[0.0,\"#0d0887\"],[0.1111111111111111,\"#46039f\"],[0.2222222222222222,\"#7201a8\"],[0.3333333333333333,\"#9c179e\"],[0.4444444444444444,\"#bd3786\"],[0.5555555555555556,\"#d8576b\"],[0.6666666666666666,\"#ed7953\"],[0.7777777777777778,\"#fb9f3a\"],[0.8888888888888888,\"#fdca26\"],[1.0,\"#f0f921\"]],\"type\":\"histogram2dcontour\"}],\"histogram2d\":[{\"colorbar\":{\"outlinewidth\":0,\"ticks\":\"\"},\"colorscale\":[[0.0,\"#0d0887\"],[0.1111111111111111,\"#46039f\"],[0.2222222222222222,\"#7201a8\"],[0.3333333333333333,\"#9c179e\"],[0.4444444444444444,\"#bd3786\"],[0.5555555555555556,\"#d8576b\"],[0.6666666666666666,\"#ed7953\"],[0.7777777777777778,\"#fb9f3a\"],[0.8888888888888888,\"#fdca26\"],[1.0,\"#f0f921\"]],\"type\":\"histogram2d\"}],\"histogram\":[{\"marker\":{\"pattern\":{\"fillmode\":\"overlay\",\"size\":10,\"solidity\":0.2}},\"type\":\"histogram\"}],\"mesh3d\":[{\"colorbar\":{\"outlinewidth\":0,\"ticks\":\"\"},\"type\":\"mesh3d\"}],\"parcoords\":[{\"line\":{\"colorbar\":{\"outlinewidth\":0,\"ticks\":\"\"}},\"type\":\"parcoords\"}],\"pie\":[{\"automargin\":true,\"type\":\"pie\"}],\"scatter3d\":[{\"line\":{\"colorbar\":{\"outlinewidth\":0,\"ticks\":\"\"}},\"marker\":{\"colorbar\":{\"outlinewidth\":0,\"ticks\":\"\"}},\"type\":\"scatter3d\"}],\"scattercarpet\":[{\"marker\":{\"colorbar\":{\"outlinewidth\":0,\"ticks\":\"\"}},\"type\":\"scattercarpet\"}],\"scattergeo\":[{\"marker\":{\"colorbar\":{\"outlinewidth\":0,\"ticks\":\"\"}},\"type\":\"scattergeo\"}],\"scattergl\":[{\"marker\":{\"colorbar\":{\"outlinewidth\":0,\"ticks\":\"\"}},\"type\":\"scattergl\"}],\"scattermapbox\":[{\"marker\":{\"colorbar\":{\"outlinewidth\":0,\"ticks\":\"\"}},\"type\":\"scattermapbox\"}],\"scatterpolargl\":[{\"marker\":{\"colorbar\":{\"outlinewidth\":0,\"ticks\":\"\"}},\"type\":\"scatterpolargl\"}],\"scatterpolar\":[{\"marker\":{\"colorbar\":{\"outlinewidth\":0,\"ticks\":\"\"}},\"type\":\"scatterpolar\"}],\"scatter\":[{\"fillpattern\":{\"fillmode\":\"overlay\",\"size\":10,\"solidity\":0.2},\"type\":\"scatter\"}],\"scatterternary\":[{\"marker\":{\"colorbar\":{\"outlinewidth\":0,\"ticks\":\"\"}},\"type\":\"scatterternary\"}],\"surface\":[{\"colorbar\":{\"outlinewidth\":0,\"ticks\":\"\"},\"colorscale\":[[0.0,\"#0d0887\"],[0.1111111111111111,\"#46039f\"],[0.2222222222222222,\"#7201a8\"],[0.3333333333333333,\"#9c179e\"],[0.4444444444444444,\"#bd3786\"],[0.5555555555555556,\"#d8576b\"],[0.6666666666666666,\"#ed7953\"],[0.7777777777777778,\"#fb9f3a\"],[0.8888888888888888,\"#fdca26\"],[1.0,\"#f0f921\"]],\"type\":\"surface\"}],\"table\":[{\"cells\":{\"fill\":{\"color\":\"#EBF0F8\"},\"line\":{\"color\":\"white\"}},\"header\":{\"fill\":{\"color\":\"#C8D4E3\"},\"line\":{\"color\":\"white\"}},\"type\":\"table\"}]},\"layout\":{\"annotationdefaults\":{\"arrowcolor\":\"#2a3f5f\",\"arrowhead\":0,\"arrowwidth\":1},\"autotypenumbers\":\"strict\",\"coloraxis\":{\"colorbar\":{\"outlinewidth\":0,\"ticks\":\"\"}},\"colorscale\":{\"diverging\":[[0,\"#8e0152\"],[0.1,\"#c51b7d\"],[0.2,\"#de77ae\"],[0.3,\"#f1b6da\"],[0.4,\"#fde0ef\"],[0.5,\"#f7f7f7\"],[0.6,\"#e6f5d0\"],[0.7,\"#b8e186\"],[0.8,\"#7fbc41\"],[0.9,\"#4d9221\"],[1,\"#276419\"]],\"sequential\":[[0.0,\"#0d0887\"],[0.1111111111111111,\"#46039f\"],[0.2222222222222222,\"#7201a8\"],[0.3333333333333333,\"#9c179e\"],[0.4444444444444444,\"#bd3786\"],[0.5555555555555556,\"#d8576b\"],[0.6666666666666666,\"#ed7953\"],[0.7777777777777778,\"#fb9f3a\"],[0.8888888888888888,\"#fdca26\"],[1.0,\"#f0f921\"]],\"sequentialminus\":[[0.0,\"#0d0887\"],[0.1111111111111111,\"#46039f\"],[0.2222222222222222,\"#7201a8\"],[0.3333333333333333,\"#9c179e\"],[0.4444444444444444,\"#bd3786\"],[0.5555555555555556,\"#d8576b\"],[0.6666666666666666,\"#ed7953\"],[0.7777777777777778,\"#fb9f3a\"],[0.8888888888888888,\"#fdca26\"],[1.0,\"#f0f921\"]]},\"colorway\":[\"#636efa\",\"#EF553B\",\"#00cc96\",\"#ab63fa\",\"#FFA15A\",\"#19d3f3\",\"#FF6692\",\"#B6E880\",\"#FF97FF\",\"#FECB52\"],\"font\":{\"color\":\"#2a3f5f\"},\"geo\":{\"bgcolor\":\"white\",\"lakecolor\":\"white\",\"landcolor\":\"#E5ECF6\",\"showlakes\":true,\"showland\":true,\"subunitcolor\":\"white\"},\"hoverlabel\":{\"align\":\"left\"},\"hovermode\":\"closest\",\"mapbox\":{\"style\":\"light\"},\"paper_bgcolor\":\"white\",\"plot_bgcolor\":\"#E5ECF6\",\"polar\":{\"angularaxis\":{\"gridcolor\":\"white\",\"linecolor\":\"white\",\"ticks\":\"\"},\"bgcolor\":\"#E5ECF6\",\"radialaxis\":{\"gridcolor\":\"white\",\"linecolor\":\"white\",\"ticks\":\"\"}},\"scene\":{\"xaxis\":{\"backgroundcolor\":\"#E5ECF6\",\"gridcolor\":\"white\",\"gridwidth\":2,\"linecolor\":\"white\",\"showbackground\":true,\"ticks\":\"\",\"zerolinecolor\":\"white\"},\"yaxis\":{\"backgroundcolor\":\"#E5ECF6\",\"gridcolor\":\"white\",\"gridwidth\":2,\"linecolor\":\"white\",\"showbackground\":true,\"ticks\":\"\",\"zerolinecolor\":\"white\"},\"zaxis\":{\"backgroundcolor\":\"#E5ECF6\",\"gridcolor\":\"white\",\"gridwidth\":2,\"linecolor\":\"white\",\"showbackground\":true,\"ticks\":\"\",\"zerolinecolor\":\"white\"}},\"shapedefaults\":{\"line\":{\"color\":\"#2a3f5f\"}},\"ternary\":{\"aaxis\":{\"gridcolor\":\"white\",\"linecolor\":\"white\",\"ticks\":\"\"},\"baxis\":{\"gridcolor\":\"white\",\"linecolor\":\"white\",\"ticks\":\"\"},\"bgcolor\":\"#E5ECF6\",\"caxis\":{\"gridcolor\":\"white\",\"linecolor\":\"white\",\"ticks\":\"\"}},\"title\":{\"x\":0.05},\"xaxis\":{\"automargin\":true,\"gridcolor\":\"white\",\"linecolor\":\"white\",\"ticks\":\"\",\"title\":{\"standoff\":15},\"zerolinecolor\":\"white\",\"zerolinewidth\":2},\"yaxis\":{\"automargin\":true,\"gridcolor\":\"white\",\"linecolor\":\"white\",\"ticks\":\"\",\"title\":{\"standoff\":15},\"zerolinecolor\":\"white\",\"zerolinewidth\":2}}},\"title\":{\"font\":{\"color\":\"#4D5663\"},\"text\":\"Topic 2: Top 100 words after removing stop words\"},\"xaxis\":{\"gridcolor\":\"#E1E5ED\",\"linecolor\":\"black\",\"showgrid\":true,\"tickfont\":{\"color\":\"#4D5663\"},\"title\":{\"font\":{\"color\":\"#4D5663\"},\"text\":\"\"},\"zerolinecolor\":\"#E1E5ED\"},\"yaxis\":{\"gridcolor\":\"#E1E5ED\",\"linecolor\":\"black\",\"showgrid\":true,\"tickfont\":{\"color\":\"#4D5663\"},\"title\":{\"font\":{\"color\":\"#4D5663\"},\"text\":\"Count\"},\"zerolinecolor\":\"#E1E5ED\"}},                        {\"showLink\": true, \"linkText\": \"Export to plot.ly\", \"plotlyServerURL\": \"https://plot.ly\", \"responsive\": true}                    ).then(function(){\n",
       "                            \n",
       "var gd = document.getElementById('5d7eb391-28d8-469e-8ac9-d1fa005f5ee8');\n",
       "var x = new MutationObserver(function (mutations, observer) {{\n",
       "        var display = window.getComputedStyle(gd).display;\n",
       "        if (!display || display === 'none') {{\n",
       "            console.log([gd, 'removed!']);\n",
       "            Plotly.purge(gd);\n",
       "            observer.disconnect();\n",
       "        }}\n",
       "}});\n",
       "\n",
       "// Listen for the removal of the full notebook cells\n",
       "var notebookContainer = gd.closest('#notebook-container');\n",
       "if (notebookContainer) {{\n",
       "    x.observe(notebookContainer, {childList: true});\n",
       "}}\n",
       "\n",
       "// Listen for the clearing of the current output cell\n",
       "var outputEl = gd.closest('.output');\n",
       "if (outputEl) {{\n",
       "    x.observe(outputEl, {childList: true});\n",
       "}}\n",
       "\n",
       "                        })                };                });            </script>        </div>"
      ]
     },
     "metadata": {},
     "output_type": "display_data"
    }
   ],
   "source": [
    "plot_model(hdp, plot = 'frequency', topic_num = 'Topic 2')"
   ]
  },
  {
   "cell_type": "code",
   "execution_count": 21,
   "id": "7bb2e0d1",
   "metadata": {},
   "outputs": [
    {
     "data": {
      "text/html": [
       "        <script type=\"text/javascript\">\n",
       "        window.PlotlyConfig = {MathJaxConfig: 'local'};\n",
       "        if (window.MathJax) {MathJax.Hub.Config({SVG: {font: \"STIX-Web\"}});}\n",
       "        if (typeof require !== 'undefined') {\n",
       "        require.undef(\"plotly\");\n",
       "        requirejs.config({\n",
       "            paths: {\n",
       "                'plotly': ['https://cdn.plot.ly/plotly-2.11.1.min']\n",
       "            }\n",
       "        });\n",
       "        require(['plotly'], function(Plotly) {\n",
       "            window._Plotly = Plotly;\n",
       "        });\n",
       "        }\n",
       "        </script>\n",
       "        "
      ]
     },
     "metadata": {},
     "output_type": "display_data"
    },
    {
     "data": {
      "application/vnd.plotly.v1+json": {
       "config": {
        "plotlyServerURL": "https://plot.ly"
       },
       "data": [
        {
         "alignmentgroup": "True",
         "customdata": [
          [
           "work, group, top, small, family, certain, medical, rinse, talente, start"
          ],
          [
           "jacinto, faith, continune, decorate, apply, trinitario, filled, reinforce, till, nairobi"
          ],
          [
           "move, work, raise, dissapoint, necessary, wathenge, fare, increase, unpaid, instability"
          ],
          [
           "intensify, healthcare, boiler, lowland, dry, chic, background, main_economic_activity, embu, package"
          ]
         ],
         "hovertemplate": "Topic=%{x}<br>Documents=%{y}<br>Keyword=%{customdata[0]}<extra></extra>",
         "legendgroup": "",
         "marker": {
          "color": "#636efa",
          "pattern": {
           "shape": ""
          }
         },
         "name": "",
         "offsetgroup": "",
         "orientation": "v",
         "showlegend": false,
         "textposition": "auto",
         "type": "bar",
         "x": [
          "Topic 0",
          "Topic 1",
          "Topic 2",
          "Topic 3"
         ],
         "xaxis": "x",
         "y": [
          874,
          63,
          61,
          2
         ],
         "yaxis": "y"
        }
       ],
       "layout": {
        "autosize": true,
        "barmode": "relative",
        "legend": {
         "tracegroupgap": 0
        },
        "template": {
         "data": {
          "bar": [
           {
            "error_x": {
             "color": "#2a3f5f"
            },
            "error_y": {
             "color": "#2a3f5f"
            },
            "marker": {
             "line": {
              "color": "#E5ECF6",
              "width": 0.5
             },
             "pattern": {
              "fillmode": "overlay",
              "size": 10,
              "solidity": 0.2
             }
            },
            "type": "bar"
           }
          ],
          "barpolar": [
           {
            "marker": {
             "line": {
              "color": "#E5ECF6",
              "width": 0.5
             },
             "pattern": {
              "fillmode": "overlay",
              "size": 10,
              "solidity": 0.2
             }
            },
            "type": "barpolar"
           }
          ],
          "carpet": [
           {
            "aaxis": {
             "endlinecolor": "#2a3f5f",
             "gridcolor": "white",
             "linecolor": "white",
             "minorgridcolor": "white",
             "startlinecolor": "#2a3f5f"
            },
            "baxis": {
             "endlinecolor": "#2a3f5f",
             "gridcolor": "white",
             "linecolor": "white",
             "minorgridcolor": "white",
             "startlinecolor": "#2a3f5f"
            },
            "type": "carpet"
           }
          ],
          "choropleth": [
           {
            "colorbar": {
             "outlinewidth": 0,
             "ticks": ""
            },
            "type": "choropleth"
           }
          ],
          "contour": [
           {
            "colorbar": {
             "outlinewidth": 0,
             "ticks": ""
            },
            "colorscale": [
             [
              0,
              "#0d0887"
             ],
             [
              0.1111111111111111,
              "#46039f"
             ],
             [
              0.2222222222222222,
              "#7201a8"
             ],
             [
              0.3333333333333333,
              "#9c179e"
             ],
             [
              0.4444444444444444,
              "#bd3786"
             ],
             [
              0.5555555555555556,
              "#d8576b"
             ],
             [
              0.6666666666666666,
              "#ed7953"
             ],
             [
              0.7777777777777778,
              "#fb9f3a"
             ],
             [
              0.8888888888888888,
              "#fdca26"
             ],
             [
              1,
              "#f0f921"
             ]
            ],
            "type": "contour"
           }
          ],
          "contourcarpet": [
           {
            "colorbar": {
             "outlinewidth": 0,
             "ticks": ""
            },
            "type": "contourcarpet"
           }
          ],
          "heatmap": [
           {
            "colorbar": {
             "outlinewidth": 0,
             "ticks": ""
            },
            "colorscale": [
             [
              0,
              "#0d0887"
             ],
             [
              0.1111111111111111,
              "#46039f"
             ],
             [
              0.2222222222222222,
              "#7201a8"
             ],
             [
              0.3333333333333333,
              "#9c179e"
             ],
             [
              0.4444444444444444,
              "#bd3786"
             ],
             [
              0.5555555555555556,
              "#d8576b"
             ],
             [
              0.6666666666666666,
              "#ed7953"
             ],
             [
              0.7777777777777778,
              "#fb9f3a"
             ],
             [
              0.8888888888888888,
              "#fdca26"
             ],
             [
              1,
              "#f0f921"
             ]
            ],
            "type": "heatmap"
           }
          ],
          "heatmapgl": [
           {
            "colorbar": {
             "outlinewidth": 0,
             "ticks": ""
            },
            "colorscale": [
             [
              0,
              "#0d0887"
             ],
             [
              0.1111111111111111,
              "#46039f"
             ],
             [
              0.2222222222222222,
              "#7201a8"
             ],
             [
              0.3333333333333333,
              "#9c179e"
             ],
             [
              0.4444444444444444,
              "#bd3786"
             ],
             [
              0.5555555555555556,
              "#d8576b"
             ],
             [
              0.6666666666666666,
              "#ed7953"
             ],
             [
              0.7777777777777778,
              "#fb9f3a"
             ],
             [
              0.8888888888888888,
              "#fdca26"
             ],
             [
              1,
              "#f0f921"
             ]
            ],
            "type": "heatmapgl"
           }
          ],
          "histogram": [
           {
            "marker": {
             "pattern": {
              "fillmode": "overlay",
              "size": 10,
              "solidity": 0.2
             }
            },
            "type": "histogram"
           }
          ],
          "histogram2d": [
           {
            "colorbar": {
             "outlinewidth": 0,
             "ticks": ""
            },
            "colorscale": [
             [
              0,
              "#0d0887"
             ],
             [
              0.1111111111111111,
              "#46039f"
             ],
             [
              0.2222222222222222,
              "#7201a8"
             ],
             [
              0.3333333333333333,
              "#9c179e"
             ],
             [
              0.4444444444444444,
              "#bd3786"
             ],
             [
              0.5555555555555556,
              "#d8576b"
             ],
             [
              0.6666666666666666,
              "#ed7953"
             ],
             [
              0.7777777777777778,
              "#fb9f3a"
             ],
             [
              0.8888888888888888,
              "#fdca26"
             ],
             [
              1,
              "#f0f921"
             ]
            ],
            "type": "histogram2d"
           }
          ],
          "histogram2dcontour": [
           {
            "colorbar": {
             "outlinewidth": 0,
             "ticks": ""
            },
            "colorscale": [
             [
              0,
              "#0d0887"
             ],
             [
              0.1111111111111111,
              "#46039f"
             ],
             [
              0.2222222222222222,
              "#7201a8"
             ],
             [
              0.3333333333333333,
              "#9c179e"
             ],
             [
              0.4444444444444444,
              "#bd3786"
             ],
             [
              0.5555555555555556,
              "#d8576b"
             ],
             [
              0.6666666666666666,
              "#ed7953"
             ],
             [
              0.7777777777777778,
              "#fb9f3a"
             ],
             [
              0.8888888888888888,
              "#fdca26"
             ],
             [
              1,
              "#f0f921"
             ]
            ],
            "type": "histogram2dcontour"
           }
          ],
          "mesh3d": [
           {
            "colorbar": {
             "outlinewidth": 0,
             "ticks": ""
            },
            "type": "mesh3d"
           }
          ],
          "parcoords": [
           {
            "line": {
             "colorbar": {
              "outlinewidth": 0,
              "ticks": ""
             }
            },
            "type": "parcoords"
           }
          ],
          "pie": [
           {
            "automargin": true,
            "type": "pie"
           }
          ],
          "scatter": [
           {
            "fillpattern": {
             "fillmode": "overlay",
             "size": 10,
             "solidity": 0.2
            },
            "type": "scatter"
           }
          ],
          "scatter3d": [
           {
            "line": {
             "colorbar": {
              "outlinewidth": 0,
              "ticks": ""
             }
            },
            "marker": {
             "colorbar": {
              "outlinewidth": 0,
              "ticks": ""
             }
            },
            "type": "scatter3d"
           }
          ],
          "scattercarpet": [
           {
            "marker": {
             "colorbar": {
              "outlinewidth": 0,
              "ticks": ""
             }
            },
            "type": "scattercarpet"
           }
          ],
          "scattergeo": [
           {
            "marker": {
             "colorbar": {
              "outlinewidth": 0,
              "ticks": ""
             }
            },
            "type": "scattergeo"
           }
          ],
          "scattergl": [
           {
            "marker": {
             "colorbar": {
              "outlinewidth": 0,
              "ticks": ""
             }
            },
            "type": "scattergl"
           }
          ],
          "scattermapbox": [
           {
            "marker": {
             "colorbar": {
              "outlinewidth": 0,
              "ticks": ""
             }
            },
            "type": "scattermapbox"
           }
          ],
          "scatterpolar": [
           {
            "marker": {
             "colorbar": {
              "outlinewidth": 0,
              "ticks": ""
             }
            },
            "type": "scatterpolar"
           }
          ],
          "scatterpolargl": [
           {
            "marker": {
             "colorbar": {
              "outlinewidth": 0,
              "ticks": ""
             }
            },
            "type": "scatterpolargl"
           }
          ],
          "scatterternary": [
           {
            "marker": {
             "colorbar": {
              "outlinewidth": 0,
              "ticks": ""
             }
            },
            "type": "scatterternary"
           }
          ],
          "surface": [
           {
            "colorbar": {
             "outlinewidth": 0,
             "ticks": ""
            },
            "colorscale": [
             [
              0,
              "#0d0887"
             ],
             [
              0.1111111111111111,
              "#46039f"
             ],
             [
              0.2222222222222222,
              "#7201a8"
             ],
             [
              0.3333333333333333,
              "#9c179e"
             ],
             [
              0.4444444444444444,
              "#bd3786"
             ],
             [
              0.5555555555555556,
              "#d8576b"
             ],
             [
              0.6666666666666666,
              "#ed7953"
             ],
             [
              0.7777777777777778,
              "#fb9f3a"
             ],
             [
              0.8888888888888888,
              "#fdca26"
             ],
             [
              1,
              "#f0f921"
             ]
            ],
            "type": "surface"
           }
          ],
          "table": [
           {
            "cells": {
             "fill": {
              "color": "#EBF0F8"
             },
             "line": {
              "color": "white"
             }
            },
            "header": {
             "fill": {
              "color": "#C8D4E3"
             },
             "line": {
              "color": "white"
             }
            },
            "type": "table"
           }
          ]
         },
         "layout": {
          "annotationdefaults": {
           "arrowcolor": "#2a3f5f",
           "arrowhead": 0,
           "arrowwidth": 1
          },
          "autotypenumbers": "strict",
          "coloraxis": {
           "colorbar": {
            "outlinewidth": 0,
            "ticks": ""
           }
          },
          "colorscale": {
           "diverging": [
            [
             0,
             "#8e0152"
            ],
            [
             0.1,
             "#c51b7d"
            ],
            [
             0.2,
             "#de77ae"
            ],
            [
             0.3,
             "#f1b6da"
            ],
            [
             0.4,
             "#fde0ef"
            ],
            [
             0.5,
             "#f7f7f7"
            ],
            [
             0.6,
             "#e6f5d0"
            ],
            [
             0.7,
             "#b8e186"
            ],
            [
             0.8,
             "#7fbc41"
            ],
            [
             0.9,
             "#4d9221"
            ],
            [
             1,
             "#276419"
            ]
           ],
           "sequential": [
            [
             0,
             "#0d0887"
            ],
            [
             0.1111111111111111,
             "#46039f"
            ],
            [
             0.2222222222222222,
             "#7201a8"
            ],
            [
             0.3333333333333333,
             "#9c179e"
            ],
            [
             0.4444444444444444,
             "#bd3786"
            ],
            [
             0.5555555555555556,
             "#d8576b"
            ],
            [
             0.6666666666666666,
             "#ed7953"
            ],
            [
             0.7777777777777778,
             "#fb9f3a"
            ],
            [
             0.8888888888888888,
             "#fdca26"
            ],
            [
             1,
             "#f0f921"
            ]
           ],
           "sequentialminus": [
            [
             0,
             "#0d0887"
            ],
            [
             0.1111111111111111,
             "#46039f"
            ],
            [
             0.2222222222222222,
             "#7201a8"
            ],
            [
             0.3333333333333333,
             "#9c179e"
            ],
            [
             0.4444444444444444,
             "#bd3786"
            ],
            [
             0.5555555555555556,
             "#d8576b"
            ],
            [
             0.6666666666666666,
             "#ed7953"
            ],
            [
             0.7777777777777778,
             "#fb9f3a"
            ],
            [
             0.8888888888888888,
             "#fdca26"
            ],
            [
             1,
             "#f0f921"
            ]
           ]
          },
          "colorway": [
           "#636efa",
           "#EF553B",
           "#00cc96",
           "#ab63fa",
           "#FFA15A",
           "#19d3f3",
           "#FF6692",
           "#B6E880",
           "#FF97FF",
           "#FECB52"
          ],
          "font": {
           "color": "#2a3f5f"
          },
          "geo": {
           "bgcolor": "white",
           "lakecolor": "white",
           "landcolor": "#E5ECF6",
           "showlakes": true,
           "showland": true,
           "subunitcolor": "white"
          },
          "hoverlabel": {
           "align": "left"
          },
          "hovermode": "closest",
          "mapbox": {
           "style": "light"
          },
          "paper_bgcolor": "white",
          "plot_bgcolor": "#E5ECF6",
          "polar": {
           "angularaxis": {
            "gridcolor": "white",
            "linecolor": "white",
            "ticks": ""
           },
           "bgcolor": "#E5ECF6",
           "radialaxis": {
            "gridcolor": "white",
            "linecolor": "white",
            "ticks": ""
           }
          },
          "scene": {
           "xaxis": {
            "backgroundcolor": "#E5ECF6",
            "gridcolor": "white",
            "gridwidth": 2,
            "linecolor": "white",
            "showbackground": true,
            "ticks": "",
            "zerolinecolor": "white"
           },
           "yaxis": {
            "backgroundcolor": "#E5ECF6",
            "gridcolor": "white",
            "gridwidth": 2,
            "linecolor": "white",
            "showbackground": true,
            "ticks": "",
            "zerolinecolor": "white"
           },
           "zaxis": {
            "backgroundcolor": "#E5ECF6",
            "gridcolor": "white",
            "gridwidth": 2,
            "linecolor": "white",
            "showbackground": true,
            "ticks": "",
            "zerolinecolor": "white"
           }
          },
          "shapedefaults": {
           "line": {
            "color": "#2a3f5f"
           }
          },
          "ternary": {
           "aaxis": {
            "gridcolor": "white",
            "linecolor": "white",
            "ticks": ""
           },
           "baxis": {
            "gridcolor": "white",
            "linecolor": "white",
            "ticks": ""
           },
           "bgcolor": "#E5ECF6",
           "caxis": {
            "gridcolor": "white",
            "linecolor": "white",
            "ticks": ""
           }
          },
          "title": {
           "x": 0.05
          },
          "xaxis": {
           "automargin": true,
           "gridcolor": "white",
           "linecolor": "white",
           "ticks": "",
           "title": {
            "standoff": 15
           },
           "zerolinecolor": "white",
           "zerolinewidth": 2
          },
          "yaxis": {
           "automargin": true,
           "gridcolor": "white",
           "linecolor": "white",
           "ticks": "",
           "title": {
            "standoff": 15
           },
           "zerolinecolor": "white",
           "zerolinewidth": 2
          }
         }
        },
        "title": {
         "text": "Document Distribution by Topics"
        },
        "xaxis": {
         "anchor": "y",
         "autorange": true,
         "domain": [
          0,
          1
         ],
         "range": [
          -0.5,
          3.5
         ],
         "title": {
          "text": "Topic"
         },
         "type": "category"
        },
        "yaxis": {
         "anchor": "x",
         "autorange": true,
         "domain": [
          0,
          1
         ],
         "range": [
          0,
          920
         ],
         "title": {
          "text": "Documents"
         },
         "type": "linear"
        }
       }
      },
      "image/png": "[encoded data removed]",
      "text/html": [
       "<div>                            <div id=\"338c313c-64c4-47aa-8cd8-6ab5f2cd1525\" class=\"plotly-graph-div\" style=\"height:525px; width:100%;\"></div>            <script type=\"text/javascript\">                require([\"plotly\"], function(Plotly) {                    window.PLOTLYENV=window.PLOTLYENV || {};                                    if (document.getElementById(\"338c313c-64c4-47aa-8cd8-6ab5f2cd1525\")) {                    Plotly.newPlot(                        \"338c313c-64c4-47aa-8cd8-6ab5f2cd1525\",                        [{\"alignmentgroup\":\"True\",\"customdata\":[[\"work, group, top, small, family, certain, medical, rinse, talente, start\"],[\"jacinto, faith, continune, decorate, apply, trinitario, filled, reinforce, till, nairobi\"],[\"move, work, raise, dissapoint, necessary, wathenge, fare, increase, unpaid, instability\"],[\"intensify, healthcare, boiler, lowland, dry, chic, background, main_economic_activity, embu, package\"]],\"hovertemplate\":\"Topic=%{x}<br>Documents=%{y}<br>Keyword=%{customdata[0]}<extra></extra>\",\"legendgroup\":\"\",\"marker\":{\"color\":\"#636efa\",\"pattern\":{\"shape\":\"\"}},\"name\":\"\",\"offsetgroup\":\"\",\"orientation\":\"v\",\"showlegend\":false,\"textposition\":\"auto\",\"x\":[\"Topic 0\",\"Topic 1\",\"Topic 2\",\"Topic 3\"],\"xaxis\":\"x\",\"y\":[874,63,61,2],\"yaxis\":\"y\",\"type\":\"bar\"}],                        {\"template\":{\"data\":{\"histogram2dcontour\":[{\"type\":\"histogram2dcontour\",\"colorbar\":{\"outlinewidth\":0,\"ticks\":\"\"},\"colorscale\":[[0.0,\"#0d0887\"],[0.1111111111111111,\"#46039f\"],[0.2222222222222222,\"#7201a8\"],[0.3333333333333333,\"#9c179e\"],[0.4444444444444444,\"#bd3786\"],[0.5555555555555556,\"#d8576b\"],[0.6666666666666666,\"#ed7953\"],[0.7777777777777778,\"#fb9f3a\"],[0.8888888888888888,\"#fdca26\"],[1.0,\"#f0f921\"]]}],\"choropleth\":[{\"type\":\"choropleth\",\"colorbar\":{\"outlinewidth\":0,\"ticks\":\"\"}}],\"histogram2d\":[{\"type\":\"histogram2d\",\"colorbar\":{\"outlinewidth\":0,\"ticks\":\"\"},\"colorscale\":[[0.0,\"#0d0887\"],[0.1111111111111111,\"#46039f\"],[0.2222222222222222,\"#7201a8\"],[0.3333333333333333,\"#9c179e\"],[0.4444444444444444,\"#bd3786\"],[0.5555555555555556,\"#d8576b\"],[0.6666666666666666,\"#ed7953\"],[0.7777777777777778,\"#fb9f3a\"],[0.8888888888888888,\"#fdca26\"],[1.0,\"#f0f921\"]]}],\"heatmap\":[{\"type\":\"heatmap\",\"colorbar\":{\"outlinewidth\":0,\"ticks\":\"\"},\"colorscale\":[[0.0,\"#0d0887\"],[0.1111111111111111,\"#46039f\"],[0.2222222222222222,\"#7201a8\"],[0.3333333333333333,\"#9c179e\"],[0.4444444444444444,\"#bd3786\"],[0.5555555555555556,\"#d8576b\"],[0.6666666666666666,\"#ed7953\"],[0.7777777777777778,\"#fb9f3a\"],[0.8888888888888888,\"#fdca26\"],[1.0,\"#f0f921\"]]}],\"heatmapgl\":[{\"type\":\"heatmapgl\",\"colorbar\":{\"outlinewidth\":0,\"ticks\":\"\"},\"colorscale\":[[0.0,\"#0d0887\"],[0.1111111111111111,\"#46039f\"],[0.2222222222222222,\"#7201a8\"],[0.3333333333333333,\"#9c179e\"],[0.4444444444444444,\"#bd3786\"],[0.5555555555555556,\"#d8576b\"],[0.6666666666666666,\"#ed7953\"],[0.7777777777777778,\"#fb9f3a\"],[0.8888888888888888,\"#fdca26\"],[1.0,\"#f0f921\"]]}],\"contourcarpet\":[{\"type\":\"contourcarpet\",\"colorbar\":{\"outlinewidth\":0,\"ticks\":\"\"}}],\"contour\":[{\"type\":\"contour\",\"colorbar\":{\"outlinewidth\":0,\"ticks\":\"\"},\"colorscale\":[[0.0,\"#0d0887\"],[0.1111111111111111,\"#46039f\"],[0.2222222222222222,\"#7201a8\"],[0.3333333333333333,\"#9c179e\"],[0.4444444444444444,\"#bd3786\"],[0.5555555555555556,\"#d8576b\"],[0.6666666666666666,\"#ed7953\"],[0.7777777777777778,\"#fb9f3a\"],[0.8888888888888888,\"#fdca26\"],[1.0,\"#f0f921\"]]}],\"surface\":[{\"type\":\"surface\",\"colorbar\":{\"outlinewidth\":0,\"ticks\":\"\"},\"colorscale\":[[0.0,\"#0d0887\"],[0.1111111111111111,\"#46039f\"],[0.2222222222222222,\"#7201a8\"],[0.3333333333333333,\"#9c179e\"],[0.4444444444444444,\"#bd3786\"],[0.5555555555555556,\"#d8576b\"],[0.6666666666666666,\"#ed7953\"],[0.7777777777777778,\"#fb9f3a\"],[0.8888888888888888,\"#fdca26\"],[1.0,\"#f0f921\"]]}],\"mesh3d\":[{\"type\":\"mesh3d\",\"colorbar\":{\"outlinewidth\":0,\"ticks\":\"\"}}],\"scatter\":[{\"fillpattern\":{\"fillmode\":\"overlay\",\"size\":10,\"solidity\":0.2},\"type\":\"scatter\"}],\"parcoords\":[{\"type\":\"parcoords\",\"line\":{\"colorbar\":{\"outlinewidth\":0,\"ticks\":\"\"}}}],\"scatterpolargl\":[{\"type\":\"scatterpolargl\",\"marker\":{\"colorbar\":{\"outlinewidth\":0,\"ticks\":\"\"}}}],\"bar\":[{\"error_x\":{\"color\":\"#2a3f5f\"},\"error_y\":{\"color\":\"#2a3f5f\"},\"marker\":{\"line\":{\"color\":\"#E5ECF6\",\"width\":0.5},\"pattern\":{\"fillmode\":\"overlay\",\"size\":10,\"solidity\":0.2}},\"type\":\"bar\"}],\"scattergeo\":[{\"type\":\"scattergeo\",\"marker\":{\"colorbar\":{\"outlinewidth\":0,\"ticks\":\"\"}}}],\"scatterpolar\":[{\"type\":\"scatterpolar\",\"marker\":{\"colorbar\":{\"outlinewidth\":0,\"ticks\":\"\"}}}],\"histogram\":[{\"marker\":{\"pattern\":{\"fillmode\":\"overlay\",\"size\":10,\"solidity\":0.2}},\"type\":\"histogram\"}],\"scattergl\":[{\"type\":\"scattergl\",\"marker\":{\"colorbar\":{\"outlinewidth\":0,\"ticks\":\"\"}}}],\"scatter3d\":[{\"type\":\"scatter3d\",\"line\":{\"colorbar\":{\"outlinewidth\":0,\"ticks\":\"\"}},\"marker\":{\"colorbar\":{\"outlinewidth\":0,\"ticks\":\"\"}}}],\"scattermapbox\":[{\"type\":\"scattermapbox\",\"marker\":{\"colorbar\":{\"outlinewidth\":0,\"ticks\":\"\"}}}],\"scatterternary\":[{\"type\":\"scatterternary\",\"marker\":{\"colorbar\":{\"outlinewidth\":0,\"ticks\":\"\"}}}],\"scattercarpet\":[{\"type\":\"scattercarpet\",\"marker\":{\"colorbar\":{\"outlinewidth\":0,\"ticks\":\"\"}}}],\"carpet\":[{\"aaxis\":{\"endlinecolor\":\"#2a3f5f\",\"gridcolor\":\"white\",\"linecolor\":\"white\",\"minorgridcolor\":\"white\",\"startlinecolor\":\"#2a3f5f\"},\"baxis\":{\"endlinecolor\":\"#2a3f5f\",\"gridcolor\":\"white\",\"linecolor\":\"white\",\"minorgridcolor\":\"white\",\"startlinecolor\":\"#2a3f5f\"},\"type\":\"carpet\"}],\"table\":[{\"cells\":{\"fill\":{\"color\":\"#EBF0F8\"},\"line\":{\"color\":\"white\"}},\"header\":{\"fill\":{\"color\":\"#C8D4E3\"},\"line\":{\"color\":\"white\"}},\"type\":\"table\"}],\"barpolar\":[{\"marker\":{\"line\":{\"color\":\"#E5ECF6\",\"width\":0.5},\"pattern\":{\"fillmode\":\"overlay\",\"size\":10,\"solidity\":0.2}},\"type\":\"barpolar\"}],\"pie\":[{\"automargin\":true,\"type\":\"pie\"}]},\"layout\":{\"autotypenumbers\":\"strict\",\"colorway\":[\"#636efa\",\"#EF553B\",\"#00cc96\",\"#ab63fa\",\"#FFA15A\",\"#19d3f3\",\"#FF6692\",\"#B6E880\",\"#FF97FF\",\"#FECB52\"],\"font\":{\"color\":\"#2a3f5f\"},\"hovermode\":\"closest\",\"hoverlabel\":{\"align\":\"left\"},\"paper_bgcolor\":\"white\",\"plot_bgcolor\":\"#E5ECF6\",\"polar\":{\"bgcolor\":\"#E5ECF6\",\"angularaxis\":{\"gridcolor\":\"white\",\"linecolor\":\"white\",\"ticks\":\"\"},\"radialaxis\":{\"gridcolor\":\"white\",\"linecolor\":\"white\",\"ticks\":\"\"}},\"ternary\":{\"bgcolor\":\"#E5ECF6\",\"aaxis\":{\"gridcolor\":\"white\",\"linecolor\":\"white\",\"ticks\":\"\"},\"baxis\":{\"gridcolor\":\"white\",\"linecolor\":\"white\",\"ticks\":\"\"},\"caxis\":{\"gridcolor\":\"white\",\"linecolor\":\"white\",\"ticks\":\"\"}},\"coloraxis\":{\"colorbar\":{\"outlinewidth\":0,\"ticks\":\"\"}},\"colorscale\":{\"sequential\":[[0.0,\"#0d0887\"],[0.1111111111111111,\"#46039f\"],[0.2222222222222222,\"#7201a8\"],[0.3333333333333333,\"#9c179e\"],[0.4444444444444444,\"#bd3786\"],[0.5555555555555556,\"#d8576b\"],[0.6666666666666666,\"#ed7953\"],[0.7777777777777778,\"#fb9f3a\"],[0.8888888888888888,\"#fdca26\"],[1.0,\"#f0f921\"]],\"sequentialminus\":[[0.0,\"#0d0887\"],[0.1111111111111111,\"#46039f\"],[0.2222222222222222,\"#7201a8\"],[0.3333333333333333,\"#9c179e\"],[0.4444444444444444,\"#bd3786\"],[0.5555555555555556,\"#d8576b\"],[0.6666666666666666,\"#ed7953\"],[0.7777777777777778,\"#fb9f3a\"],[0.8888888888888888,\"#fdca26\"],[1.0,\"#f0f921\"]],\"diverging\":[[0,\"#8e0152\"],[0.1,\"#c51b7d\"],[0.2,\"#de77ae\"],[0.3,\"#f1b6da\"],[0.4,\"#fde0ef\"],[0.5,\"#f7f7f7\"],[0.6,\"#e6f5d0\"],[0.7,\"#b8e186\"],[0.8,\"#7fbc41\"],[0.9,\"#4d9221\"],[1,\"#276419\"]]},\"xaxis\":{\"gridcolor\":\"white\",\"linecolor\":\"white\",\"ticks\":\"\",\"title\":{\"standoff\":15},\"zerolinecolor\":\"white\",\"automargin\":true,\"zerolinewidth\":2},\"yaxis\":{\"gridcolor\":\"white\",\"linecolor\":\"white\",\"ticks\":\"\",\"title\":{\"standoff\":15},\"zerolinecolor\":\"white\",\"automargin\":true,\"zerolinewidth\":2},\"scene\":{\"xaxis\":{\"backgroundcolor\":\"#E5ECF6\",\"gridcolor\":\"white\",\"linecolor\":\"white\",\"showbackground\":true,\"ticks\":\"\",\"zerolinecolor\":\"white\",\"gridwidth\":2},\"yaxis\":{\"backgroundcolor\":\"#E5ECF6\",\"gridcolor\":\"white\",\"linecolor\":\"white\",\"showbackground\":true,\"ticks\":\"\",\"zerolinecolor\":\"white\",\"gridwidth\":2},\"zaxis\":{\"backgroundcolor\":\"#E5ECF6\",\"gridcolor\":\"white\",\"linecolor\":\"white\",\"showbackground\":true,\"ticks\":\"\",\"zerolinecolor\":\"white\",\"gridwidth\":2}},\"shapedefaults\":{\"line\":{\"color\":\"#2a3f5f\"}},\"annotationdefaults\":{\"arrowcolor\":\"#2a3f5f\",\"arrowhead\":0,\"arrowwidth\":1},\"geo\":{\"bgcolor\":\"white\",\"landcolor\":\"#E5ECF6\",\"subunitcolor\":\"white\",\"showland\":true,\"showlakes\":true,\"lakecolor\":\"white\"},\"title\":{\"x\":0.05},\"mapbox\":{\"style\":\"light\"}}},\"xaxis\":{\"anchor\":\"y\",\"domain\":[0.0,1.0],\"title\":{\"text\":\"Topic\"}},\"yaxis\":{\"anchor\":\"x\",\"domain\":[0.0,1.0],\"title\":{\"text\":\"Documents\"}},\"legend\":{\"tracegroupgap\":0},\"title\":{\"text\":\"Document Distribution by Topics\"},\"barmode\":\"relative\"},                        {\"responsive\": true}                    ).then(function(){\n",
       "                            \n",
       "var gd = document.getElementById('338c313c-64c4-47aa-8cd8-6ab5f2cd1525');\n",
       "var x = new MutationObserver(function (mutations, observer) {{\n",
       "        var display = window.getComputedStyle(gd).display;\n",
       "        if (!display || display === 'none') {{\n",
       "            console.log([gd, 'removed!']);\n",
       "            Plotly.purge(gd);\n",
       "            observer.disconnect();\n",
       "        }}\n",
       "}});\n",
       "\n",
       "// Listen for the removal of the full notebook cells\n",
       "var notebookContainer = gd.closest('#notebook-container');\n",
       "if (notebookContainer) {{\n",
       "    x.observe(notebookContainer, {childList: true});\n",
       "}}\n",
       "\n",
       "// Listen for the clearing of the current output cell\n",
       "var outputEl = gd.closest('.output');\n",
       "if (outputEl) {{\n",
       "    x.observe(outputEl, {childList: true});\n",
       "}}\n",
       "\n",
       "                        })                };                });            </script>        </div>"
      ]
     },
     "metadata": {},
     "output_type": "display_data"
    }
   ],
   "source": [
    "plot_model(hdp, plot = 'topic_distribution')"
   ]
  },
  {
   "cell_type": "code",
   "execution_count": 22,
   "id": "ef375231",
   "metadata": {
    "scrolled": true
   },
   "outputs": [
    {
     "data": {
      "text/html": [
       "        <script type=\"text/javascript\">\n",
       "        window.PlotlyConfig = {MathJaxConfig: 'local'};\n",
       "        if (window.MathJax) {MathJax.Hub.Config({SVG: {font: \"STIX-Web\"}});}\n",
       "        if (typeof require !== 'undefined') {\n",
       "        require.undef(\"plotly\");\n",
       "        requirejs.config({\n",
       "            paths: {\n",
       "                'plotly': ['https://cdn.plot.ly/plotly-2.11.1.min']\n",
       "            }\n",
       "        });\n",
       "        require(['plotly'], function(Plotly) {\n",
       "            window._Plotly = Plotly;\n",
       "        });\n",
       "        }\n",
       "        </script>\n",
       "        "
      ]
     },
     "metadata": {},
     "output_type": "display_data"
    },
    {
     "data": {
      "application/vnd.plotly.v1+json": {
       "config": {
        "plotlyServerURL": "https://plot.ly"
       },
       "data": [
        {
         "hovertemplate": "Dominant_Topic=Topic 0<br>0=%{x}<br>1=%{y}<br>2=%{z}<extra></extra>",
         "legendgroup": "Topic 0",
         "marker": {
          "color": "#636efa",
          "opacity": 0.7,
          "symbol": "circle"
         },
         "mode": "markers",
         "name": "Topic 0",
         "scene": "scene",
         "showlegend": true,
         "type": "scatter3d",
         "x": [
          8.109112739562988,
          -14.423093795776367,
          3.844024419784546,
          -12.43647575378418,
          -2.762430429458618,
          -14.985654830932617,
          -1.967140793800354,
          2.7211883068084717,
          -18.458343505859375,
          3.622098922729492,
          5.422012805938721,
          3.317692279815674,
          13.180099487304688,
          -16.63091468811035,
          10.68885326385498,
          -4.537786483764648,
          -17.139705657958984,
          3.656907081604004,
          9.375100135803223,
          2.9405243396759033,
          13.383340835571289,
          6.313223361968994,
          -3.383235454559326,
          6.025867938995361,
          8.165587425231934,
          2.536470651626587,
          -3.591911792755127,
          -1.6028262376785278,
          10.355871200561523,
          -4.5853095054626465,
          -16.647354125976562,
          -1.1019607782363892,
          7.755139350891113,
          -17.734365463256836,
          12.889686584472656,
          -18.440401077270508,
          6.849379062652588,
          -9.855236053466797,
          -3.0295746326446533,
          -10.460721969604492,
          -18.238981246948242,
          -18.561235427856445,
          -3.3605573177337646,
          -2.9954371452331543,
          1.8137949705123901,
          4.025352478027344,
          12.421457290649414,
          -14.409616470336914,
          -9.055952072143555,
          -9.663747787475586,
          -9.040637969970703,
          -13.654994010925293,
          3.0443460941314697,
          5.11946964263916,
          -2.343498468399048,
          3.9241750240325928,
          -20.225749969482422,
          -1.8339036703109741,
          1.0737816095352173,
          -19.52741050720215,
          1.5729783773422241,
          -15.677231788635254,
          6.118460655212402,
          1.7598800659179688,
          8.1487455368042,
          2.830897569656372,
          9.179105758666992,
          4.710062026977539,
          2.7133493423461914,
          2.575692892074585,
          -13.035822868347168,
          -17.751863479614258,
          -16.089242935180664,
          4.475015163421631,
          8.931962966918945,
          -2.4358043670654297,
          -13.807341575622559,
          5.469444751739502,
          1.0608731508255005,
          -18.28449058532715,
          -20.2421817779541,
          -15.918726921081543,
          3.624476194381714,
          -17.92706298828125,
          2.588585376739502,
          6.616898059844971,
          -2.164590835571289,
          -16.41584587097168,
          -14.56778621673584,
          2.103585958480835,
          9.153326034545898,
          12.160656929016113,
          -0.32429638504981995,
          -0.20858803391456604,
          0.5529196858406067,
          -0.0027742269448935986,
          3.8714563846588135,
          2.2155332565307617,
          5.365869998931885,
          1.762284278869629,
          4.649867534637451,
          1.5330114364624023,
          2.7243449687957764,
          -2.9759902954101562,
          -0.14571326971054077,
          5.608300685882568,
          0.5165191292762756,
          -8.661941528320312,
          -2.43585205078125,
          -18.05256462097168,
          -5.0252766609191895,
          0.2920471429824829,
          -17.43756675720215,
          2.920989990234375,
          1.8439152240753174,
          -0.7791792750358582,
          1.2997033596038818,
          4.821402549743652,
          6.540388107299805,
          6.7291412353515625,
          11.8616361618042,
          -12.033979415893555,
          -1.197656512260437,
          3.1118087768554688,
          -12.859673500061035,
          0.9360900521278381,
          -3.5149085521698,
          3.1079773902893066,
          -3.5586163997650146,
          -0.3481656014919281,
          9.311769485473633,
          2.4226932525634766,
          -13.926451683044434,
          2.681401014328003,
          0.33594202995300293,
          10.372612953186035,
          -8.289814949035645,
          -3.358656883239746,
          2.6986887454986572,
          4.6953935623168945,
          2.4290692806243896,
          6.593491554260254,
          -2.7005507946014404,
          -15.574410438537598,
          -0.092005155980587,
          4.761836051940918,
          2.045083999633789,
          -17.356327056884766,
          4.529883861541748,
          6.795258045196533,
          1.2409111261367798,
          -2.8375799655914307,
          3.2319259643554688,
          -0.9559757113456726,
          5.000473499298096,
          4.994398593902588,
          4.089186668395996,
          -3.6026687622070312,
          12.210198402404785,
          5.068713188171387,
          6.458573818206787,
          4.993267059326172,
          -16.501190185546875,
          -1.4449414014816284,
          4.327960968017578,
          6.011776924133301,
          -2.513801097869873,
          4.884745121002197,
          7.612754821777344,
          4.753184795379639,
          6.68363094329834,
          -8.720171928405762,
          11.576458930969238,
          13.074980735778809,
          3.559896945953369,
          -19.886207580566406,
          4.506808757781982,
          -14.36001205444336,
          -20.201765060424805,
          13.168694496154785,
          6.777862548828125,
          7.378292083740234,
          0.576524555683136,
          -0.2697245478630066,
          -2.4205679893493652,
          6.8327531814575195,
          5.265969753265381,
          -9.760537147521973,
          -1.4360198974609375,
          2.137732982635498,
          -17.58991813659668,
          -17.321062088012695,
          -2.766956329345703,
          -1.1518207788467407,
          1.5633277893066406,
          -17.492422103881836,
          7.347325325012207,
          6.793018341064453,
          5.350973129272461,
          -2.264995813369751,
          -19.195829391479492,
          12.867494583129883,
          -14.558462142944336,
          -19.2369327545166,
          -8.508346557617188,
          10.731640815734863,
          -2.3097431659698486,
          4.247560977935791,
          3.0605690479278564,
          3.429713487625122,
          0.7934966683387756,
          5.313418865203857,
          -16.811716079711914,
          3.3740203380584717,
          1.5450637340545654,
          12.75088882446289,
          -17.785938262939453,
          1.8689137697219849,
          13.220988273620605,
          3.226099967956543,
          1.8067054748535156,
          -0.6990014314651489,
          2.493436813354492,
          13.109972953796387,
          12.840073585510254,
          -0.11005061864852905,
          2.5504093170166016,
          6.012547969818115,
          4.960476875305176,
          10.229533195495605,
          4.910923004150391,
          4.690022945404053,
          4.7509541511535645,
          5.510732650756836,
          13.310193061828613,
          6.666042327880859,
          -6.2372236251831055,
          -19.13306427001953,
          -6.902964115142822,
          -12.465750694274902,
          -2.3430967330932617,
          5.523540019989014,
          10.374737739562988,
          -4.220152378082275,
          4.356401443481445,
          -10.464601516723633,
          -18.753711700439453,
          -9.679300308227539,
          5.5933122634887695,
          4.174229621887207,
          1.6321656703948975,
          -3.799332618713379,
          -0.602135419845581,
          3.44000244140625,
          -12.447663307189941,
          8.863499641418457,
          -8.279789924621582,
          4.45671272277832,
          -16.89717674255371,
          12.174898147583008,
          5.264420509338379,
          -2.2718448638916016,
          6.8379740715026855,
          -1.7376165390014648,
          2.7728302478790283,
          11.061075210571289,
          3.542454719543457,
          5.394279956817627,
          1.7356209754943848,
          3.7331738471984863,
          -0.19255363941192627,
          -16.436704635620117,
          6.611492156982422,
          -5.676005840301514,
          0.38152164220809937,
          1.847212553024292,
          6.732662200927734,
          2.6683313846588135,
          5.933650493621826,
          4.981764793395996,
          0.9943699836730957,
          1.6368814706802368,
          5.144496440887451,
          -4.497602939605713,
          13.460884094238281,
          3.049248218536377,
          7.976957321166992,
          9.300314903259277,
          -1.2410894632339478,
          -20.214887619018555,
          -2.4730114936828613,
          4.023209571838379,
          12.76649284362793,
          -16.979583740234375,
          12.949531555175781,
          -14.645169258117676,
          0.4045245945453644,
          4.151680946350098,
          -13.465227127075195,
          5.611047267913818,
          4.532873630523682,
          1.5819147825241089,
          -2.289393901824951,
          -2.9988718032836914,
          5.582951545715332,
          -8.319403648376465,
          -19.61562728881836,
          7.063103199005127,
          2.914471387863159,
          8.72847843170166,
          3.0605695247650146,
          -10.204597473144531,
          4.4695281982421875,
          -19.387130737304688,
          4.127731800079346,
          6.925521373748779,
          12.0043363571167,
          0.14134982228279114,
          4.158999443054199,
          5.03001070022583,
          11.556123733520508,
          -8.508414268493652,
          5.1021952629089355,
          2.4707491397857666,
          2.481656551361084,
          2.8952407836914062,
          -14.188169479370117,
          8.76059627532959,
          -12.445290565490723,
          0.037479061633348465,
          -0.9975640773773193,
          0.114122174680233,
          4.2971601486206055,
          -4.306828022003174,
          6.689268589019775,
          3.5153372287750244,
          3.0605688095092773,
          7.514904975891113,
          4.946752071380615,
          13.123398780822754,
          4.130919933319092,
          -0.15532608330249786,
          -4.676681041717529,
          9.232636451721191,
          3.2285115718841553,
          4.751555919647217,
          12.091171264648438,
          5.8713059425354,
          3.7949094772338867,
          -19.204429626464844,
          -20.118534088134766,
          1.467666506767273,
          2.4757795333862305,
          5.767521381378174,
          -18.98716163635254,
          4.221985816955566,
          6.782281398773193,
          5.179632663726807,
          6.58302116394043,
          -3.8307924270629883,
          6.844468593597412,
          2.5818610191345215,
          -2.524209976196289,
          -13.583597183227539,
          5.55544376373291,
          -14.288954734802246,
          -2.292776346206665,
          4.333014488220215,
          4.277132511138916,
          -6.255126953125,
          5.820656776428223,
          -12.745365142822266,
          -1.4413503408432007,
          -3.1554720401763916,
          -2.422297477722168,
          4.486407279968262,
          -19.317745208740234,
          -2.2687315940856934,
          -3.548632860183716,
          4.473332405090332,
          -5.6620707511901855,
          1.567684292793274,
          8.519464492797852,
          4.01608943939209,
          -16.91800308227539,
          12.893811225891113,
          -0.5883145332336426,
          -4.088129997253418,
          1.4142169952392578,
          3.1930954456329346,
          3.620018482208252,
          4.8308796882629395,
          4.058488368988037,
          -16.76939582824707,
          -15.446449279785156,
          3.916227102279663,
          -2.7055275440216064,
          -19.79121208190918,
          -1.4331791400909424,
          6.46338415145874,
          -0.6668265461921692,
          -19.950847625732422,
          0.3671593964099884,
          -4.084062099456787,
          4.159585475921631,
          -6.26210880279541,
          3.8122968673706055,
          11.152799606323242,
          -1.139065146446228,
          -0.09452790021896362,
          2.512880802154541,
          4.200990676879883,
          0.06408023834228516,
          4.530189037322998,
          1.045008659362793,
          3.0070128440856934,
          -0.22867096960544586,
          5.135007381439209,
          5.60008430480957,
          -3.4987921714782715,
          -0.8237858414649963,
          -3.514991044998169,
          3.050455093383789,
          -12.81665325164795,
          -2.242769241333008,
          -3.6900272369384766,
          1.2385505437850952,
          4.154250621795654,
          -20.202157974243164,
          12.564690589904785,
          11.116106986999512,
          -6.171303749084473,
          13.407248497009277,
          -4.3390703201293945,
          5.975074291229248,
          -18.51375389099121,
          9.134267807006836,
          -1.882303237915039,
          -15.660120964050293,
          4.866438865661621,
          -3.2345969676971436,
          4.246753215789795,
          0.75925213098526,
          6.743802547454834,
          -2.9928877353668213,
          12.521339416503906,
          6.298766136169434,
          3.6198582649230957,
          13.402204513549805,
          -20.223363876342773,
          -17.802095413208008,
          12.27348518371582,
          -13.989359855651855,
          -19.6220760345459,
          -3.846599817276001,
          6.530167102813721,
          -15.653055191040039,
          3.9763834476470947,
          3.8652422428131104,
          6.442792892456055,
          13.263161659240723,
          -19.785634994506836,
          9.498397827148438,
          2.0731189250946045,
          -2.1726648807525635,
          -18.269702911376953,
          -18.619558334350586,
          11.078255653381348,
          13.244586944580078,
          -10.249886512756348,
          -0.7718215584754944,
          5.147576332092285,
          4.758815288543701,
          4.075323104858398,
          6.207810401916504,
          -2.4650940895080566,
          12.985523223876953,
          2.437028408050537,
          6.477856159210205,
          4.966129302978516,
          4.247408390045166,
          13.459701538085938,
          11.46584415435791,
          -0.16502344608306885,
          -3.396146059036255,
          4.182528495788574,
          4.892053127288818,
          4.881533145904541,
          7.064455986022949,
          0.7768423557281494,
          4.287476539611816,
          2.2881417274475098,
          4.799222946166992,
          -3.5670623779296875,
          6.273767948150635,
          -3.047854423522949,
          4.561048984527588,
          -10.527914047241211,
          2.3703811168670654,
          -12.771536827087402,
          2.607616662979126,
          -2.6510837078094482,
          -12.315072059631348,
          -16.225751876831055,
          -6.162214756011963,
          4.998716354370117,
          2.89123272895813,
          -0.7159977555274963,
          2.431875467300415,
          0.16033120453357697,
          9.982353210449219,
          -0.7025663256645203,
          -19.006376266479492,
          11.493938446044922,
          -0.8491607904434204,
          2.5640976428985596,
          3.3167717456817627,
          -0.7687821388244629,
          3.2524733543395996,
          1.867126226425171,
          -0.007596178911626339,
          12.905285835266113,
          7.573096752166748,
          11.94886589050293,
          -10.918346405029297,
          -16.112239837646484,
          4.7327799797058105,
          6.651937961578369,
          2.3815810680389404,
          -1.5676301717758179,
          5.174924850463867,
          2.74102783203125,
          -19.248743057250977,
          -17.789613723754883,
          5.186605453491211,
          -15.293291091918945,
          2.243988037109375,
          5.385836124420166,
          -18.13091278076172,
          -18.63823127746582,
          -6.0202250480651855,
          2.9476137161254883,
          -3.421597957611084,
          -1.1134005784988403,
          0.42017099261283875,
          -1.3512015342712402,
          -8.29482650756836,
          -2.758410930633545,
          3.618494987487793,
          -0.24017460644245148,
          1.9686105251312256,
          2.8209471702575684,
          9.799029350280762,
          -8.773422241210938,
          4.5579657554626465,
          6.837681293487549,
          6.6915082931518555,
          6.330941677093506,
          6.730976581573486,
          9.450039863586426,
          5.37193489074707,
          -1.4252738952636719,
          1.050924301147461,
          3.337174654006958,
          11.808758735656738,
          9.102340698242188,
          3.4978649616241455,
          11.375786781311035,
          -10.08641242980957,
          4.16067361831665,
          -19.384891510009766,
          4.626509666442871,
          4.769778251647949,
          -1.639417290687561,
          5.345614433288574,
          13.26805305480957,
          -17.860370635986328,
          0.5804829597473145,
          1.2841707468032837,
          5.687447547912598,
          2.3689913749694824,
          -19.92523956298828,
          4.806439399719238,
          8.547590255737305,
          -19.591272354125977,
          -12.444226264953613,
          -20.187015533447266,
          1.9246737957000732,
          13.396162986755371,
          0.22579044103622437,
          -6.26542329788208,
          4.041015148162842,
          2.3346107006073,
          1.8484212160110474,
          4.913940906524658,
          5.3268609046936035,
          5.339208602905273,
          1.5325490236282349,
          -16.3173770904541,
          -0.7119624614715576,
          -15.036123275756836,
          5.964395999908447,
          -13.807888984680176,
          13.244640350341797,
          2.7361230850219727,
          -8.4858980178833,
          0.7882714867591858,
          -12.839585304260254,
          2.379197359085083,
          1.5528117418289185,
          3.7317545413970947,
          10.056353569030762,
          13.45114803314209,
          2.2515745162963867,
          7.6363844871521,
          6.060792446136475,
          0.9752572774887085,
          -13.81464958190918,
          -14.72523021697998,
          -6.918902397155762,
          -20.045589447021484,
          -2.354667901992798,
          1.4398128986358643,
          5.491794109344482,
          -0.7530112862586975,
          -17.73896598815918,
          -2.360568046569824,
          6.784718990325928,
          2.4870660305023193,
          6.880699157714844,
          -3.7158825397491455,
          4.1800336837768555,
          -1.2437678575515747,
          3.3854689598083496,
          2.844928503036499,
          7.562228679656982,
          11.302124977111816,
          13.320294380187988,
          11.116157531738281,
          -3.5527336597442627,
          6.846928119659424,
          -2.2821476459503174,
          -19.77263069152832,
          3.261579751968384,
          2.733895778656006,
          3.033092737197876,
          2.9186627864837646,
          14.235726356506348,
          4.876832962036133,
          -18.768695831298828,
          0.0009349792962893844,
          -17.006763458251953,
          6.776765823364258,
          4.624794960021973,
          2.148516893386841,
          3.9185826778411865,
          -15.891009330749512,
          11.088844299316406,
          3.706538677215576,
          6.821690559387207,
          -0.3683794438838959,
          -0.03884018212556839,
          8.401564598083496,
          4.994157314300537,
          1.2217161655426025,
          -2.471248149871826,
          1.5705267190933228,
          -0.6611237525939941,
          1.590401530265808,
          12.844358444213867,
          -16.664661407470703,
          3.499915838241577,
          -2.3885321617126465,
          -18.870418548583984,
          11.46856689453125,
          3.0453381538391113,
          -16.424938201904297,
          1.1307435035705566,
          4.13094425201416,
          12.637014389038086,
          4.708179473876953,
          13.001565933227539,
          -8.947745323181152,
          -4.796164035797119,
          4.794678688049316,
          8.175691604614258,
          -2.4981765747070312,
          -14.09172248840332,
          2.5085513591766357,
          12.735859870910645,
          2.314028263092041,
          -1.5103737115859985,
          11.038881301879883,
          13.396696090698242,
          -3.321110486984253,
          -11.672952651977539,
          4.248581409454346,
          -18.80085563659668,
          -18.817880630493164,
          4.921794891357422,
          9.735060691833496,
          8.576839447021484,
          -9.632440567016602,
          5.51918888092041,
          5.027988910675049,
          12.165055274963379,
          0.5373751521110535,
          13.24250316619873,
          -9.757014274597168,
          -2.836168050765991,
          -4.97360372543335,
          5.2544474601745605,
          4.869959354400635,
          4.527819633483887,
          -19.888675689697266,
          5.053984642028809,
          1.7934678792953491,
          -12.964412689208984,
          -0.23953786492347717,
          8.384204864501953,
          1.3525694608688354,
          6.49544095993042,
          -19.886703491210938,
          -8.370827674865723,
          11.29590129852295,
          1.0637962818145752,
          -19.930274963378906,
          -17.99993324279785,
          -3.846599817276001,
          -18.181459426879883,
          -16.176898956298828,
          2.6489429473876953,
          6.574903964996338,
          5.696535587310791,
          6.298763751983643,
          -0.8375365138053894,
          10.771821975708008,
          -11.056570053100586,
          2.055337905883789,
          -3.866405725479126,
          10.13282299041748,
          -0.9174386262893677,
          10.558887481689453,
          -12.19406509399414,
          -3.846599817276001,
          3.603955030441284,
          4.04800271987915,
          -9.620820999145508,
          2.0872576236724854,
          1.8300875425338745,
          3.3694610595703125,
          11.1937894821167,
          -17.001737594604492,
          13.372686386108398,
          5.377959251403809,
          0.9032880663871765,
          3.983700752258301,
          -2.7209131717681885,
          6.120296001434326,
          13.180145263671875,
          13.245564460754395,
          4.865547180175781,
          -16.23604965209961,
          13.413544654846191,
          6.735136985778809,
          -19.07676887512207,
          -18.540843963623047,
          4.80855131149292,
          -17.211503982543945,
          1.5158891677856445,
          2.579151153564453,
          -1.0957382917404175,
          2.492067337036133,
          -0.6957913637161255,
          5.194351673126221,
          -2.7602641582489014,
          -11.67019271850586,
          1.4768003225326538,
          -2.5907647609710693,
          1.45543372631073,
          7.151268482208252,
          -10.10440731048584,
          -11.021699905395508,
          10.901128768920898,
          -14.256851196289062,
          4.850473880767822,
          7.904723167419434,
          3.413395881652832,
          -6.922020435333252,
          -11.08591079711914,
          8.464691162109375,
          1.1550774574279785,
          -9.657119750976562,
          -5.798567771911621,
          2.7329113483428955,
          -3.476710319519043,
          5.871477127075195,
          -3.4166388511657715,
          -0.3139079511165619,
          -17.378019332885742,
          -12.07021713256836,
          8.615072250366211,
          2.2704920768737793,
          -3.480037212371826,
          -17.696542739868164,
          -13.382776260375977,
          4.7782158851623535,
          0.8386511206626892,
          -16.31401252746582,
          -4.225701332092285,
          10.676780700683594,
          2.6327435970306396,
          4.775038719177246,
          -2.2755825519561768,
          -10.834514617919922,
          1.3049933910369873,
          2.877326488494873,
          5.163166046142578,
          8.62011432647705,
          3.7287867069244385,
          4.626545429229736,
          6.794404029846191,
          -20.194414138793945,
          -0.24975581467151642,
          -2.284406900405884,
          -0.9320242404937744,
          -15.666455268859863,
          3.328646421432495,
          -1.067380666732788,
          0.1404624879360199,
          4.573276519775391,
          13.382163047790527,
          13.062981605529785,
          -3.1954264640808105,
          -1.1545443534851074,
          7.043125629425049,
          5.512171268463135,
          2.0532193183898926,
          0.9323928952217102,
          10.709627151489258,
          -20.0859317779541,
          3.4490511417388916,
          -0.9918712377548218,
          2.8172450065612793,
          0.9333546757698059,
          2.699355363845825,
          6.637354850769043,
          5.048229694366455,
          -3.4652528762817383,
          -13.189438819885254,
          -16.05781364440918,
          3.988917350769043,
          3.391165256500244,
          -1.4934382438659668,
          0.7650938630104065,
          6.6793999671936035,
          -17.455917358398438,
          4.507744789123535,
          2.2660374641418457,
          1.7161043882369995,
          13.215922355651855,
          5.152705669403076,
          -20.16660499572754,
          -17.30477523803711,
          5.002902984619141,
          2.4642865657806396,
          10.732213020324707,
          2.2868881225585938,
          1.7026981115341187,
          5.390341758728027,
          2.154378652572632,
          -17.995670318603516,
          -9.493948936462402,
          2.4645252227783203
         ],
         "y": [
          -5.058261871337891,
          -2.811328887939453,
          10.123043060302734,
          -3.551802158355713,
          2.342585563659668,
          -2.6190903186798096,
          5.091724872589111,
          -3.9113409519195557,
          -1.399863600730896,
          -5.489770412445068,
          -4.43063497543335,
          3.5759212970733643,
          -5.058296203613281,
          -2.0531861782073975,
          -4.511796951293945,
          -0.9530625343322754,
          -1.86309814453125,
          0.17238855361938477,
          -5.263431549072266,
          6.3610358238220215,
          -5.365594863891602,
          7.646276950836182,
          3.675534963607788,
          9.721771240234375,
          -4.723555564880371,
          -3.7378203868865967,
          3.2467494010925293,
          -3.0186338424682617,
          -5.385192394256592,
          -0.9466607570648193,
          -2.047468662261963,
          -3.1352250576019287,
          -4.990963459014893,
          -1.6442900896072388,
          -5.475467681884766,
          -1.4054052829742432,
          8.730049133300781,
          -4.309903621673584,
          4.197786808013916,
          -4.035165786743164,
          -1.4705125093460083,
          -1.368065357208252,
          3.748400926589966,
          4.235104084014893,
          -5.203436374664307,
          6.4496026039123535,
          -4.724003314971924,
          -2.8164544105529785,
          -4.527895450592041,
          -4.380105018615723,
          -4.531644344329834,
          -3.0328962802886963,
          -3.696286916732788,
          -4.356855869293213,
          1.389081358909607,
          -0.4019888937473297,
          -0.9476255178451538,
          5.319591045379639,
          8.51176929473877,
          -1.1140707731246948,
          -5.031834125518799,
          -2.394904136657715,
          9.525550842285156,
          9.333285331726074,
          -4.7316694259643555,
          3.188333034515381,
          -2.806105136871338,
          3.3604042530059814,
          -3.9066710472106934,
          2.358555555343628,
          -3.234524965286255,
          -1.6369504928588867,
          -2.2469770908355713,
          2.057041645050049,
          -4.608489036560059,
          4.752683639526367,
          -2.9940991401672363,
          0.09564737230539322,
          6.267158031463623,
          -1.455594539642334,
          -0.940941572189331,
          -2.3091259002685547,
          10.060437202453613,
          -1.574678659439087,
          1.8784643411636353,
          9.691282272338867,
          1.3105567693710327,
          -2.234541893005371,
          -2.756415843963623,
          6.340918064117432,
          -5.231908798217773,
          -4.670697212219238,
          -1.8860533237457275,
          4.966135025024414,
          7.701409816741943,
          -0.18886063992977142,
          3.3702826499938965,
          -3.452259063720703,
          6.755407333374023,
          9.296989440917969,
          0.5365848541259766,
          9.10158634185791,
          3.0656065940856934,
          1.271064043045044,
          -2.2100491523742676,
          -0.44375935196876526,
          -3.4269587993621826,
          -4.597886085510254,
          -0.15063080191612244,
          -1.5325225591659546,
          -1.2415705919265747,
          7.6620378494262695,
          -1.7522977590560913,
          1.3626627922058105,
          -3.6387641429901123,
          5.713715553283691,
          -3.553091526031494,
          1.0143429040908813,
          7.931563377380371,
          9.474759101867676,
          -5.497500896453857,
          -3.5216283798217773,
          1.9306480884552002,
          9.91089916229248,
          -3.435883045196533,
          -4.320866584777832,
          -0.4488295614719391,
          -5.413389682769775,
          -0.44562968611717224,
          -1.8759928941726685,
          -4.4625773429870605,
          1.1085574626922607,
          -2.9950904846191406,
          5.187262058258057,
          6.377244472503662,
          -5.386622428894043,
          -4.351632595062256,
          3.745739459991455,
          5.148351669311523,
          -4.2409138679504395,
          -0.860691487789154,
          9.754390716552734,
          4.541346073150635,
          -2.427912473678589,
          0.8132377862930298,
          2.768573522567749,
          1.9995802640914917,
          -1.7822232246398926,
          1.3157824277877808,
          9.243270874023438,
          6.277998447418213,
          1.3347070217132568,
          -5.404796600341797,
          5.636542320251465,
          3.2795217037200928,
          0.707904040813446,
          3.7502377033233643,
          -2.727281332015991,
          -5.504461288452148,
          6.576191425323486,
          9.887398719787598,
          2.9169554710388184,
          -2.1021366119384766,
          -3.057598352432251,
          2.5749521255493164,
          -4.5899434089660645,
          1.4186980724334717,
          10.432268142700195,
          -4.798573017120361,
          6.0260210037231445,
          -4.879843711853027,
          -4.611782073974609,
          -4.582866668701172,
          -5.454268932342529,
          -5.466723442077637,
          -0.8607417345046997,
          -5.342223644256592,
          -2.7756943702697754,
          -0.9240725636482239,
          -4.851234436035156,
          -4.777585506439209,
          8.146106719970703,
          6.166783332824707,
          4.168875694274902,
          1.4280085563659668,
          8.529597282409668,
          -0.14474110305309296,
          -4.17323637008667,
          -1.381234049797058,
          -5.283560276031494,
          -1.6955885887145996,
          -1.7954399585723877,
          -0.22548127174377441,
          -1.4999655485153198,
          -5.0581254959106445,
          -1.7317379713058472,
          -4.905355453491211,
          8.461542129516602,
          10.450328826904297,
          1.2651851177215576,
          -1.193258285522461,
          -5.487000942230225,
          -2.758978843688965,
          -1.1827174425125122,
          -4.506410598754883,
          -4.505249500274658,
          1.3473516702651978,
          6.263777256011963,
          -4.050987720489502,
          -5.403181552886963,
          -4.112121105194092,
          -4.4058451652526855,
          -1.9843759536743164,
          4.224001884460449,
          6.3159894943237305,
          -4.862037181854248,
          -1.6247644424438477,
          6.335836887359619,
          -5.449008464813232,
          1.3315964937210083,
          9.277619361877441,
          -3.2152554988861084,
          1.9779917001724243,
          -4.802194595336914,
          -5.49229097366333,
          -0.15987320244312286,
          -0.039603736251592636,
          -4.591347694396973,
          1.1783369779586792,
          -4.526779651641846,
          10.365347862243652,
          0.14662891626358032,
          6.392459392547607,
          -1.9759793281555176,
          -5.054786205291748,
          8.111576080322266,
          -2.0292255878448486,
          -1.2084269523620605,
          -3.3744571208953857,
          -3.4842236042022705,
          1.3780251741409302,
          -1.1380679607391357,
          -4.45378303527832,
          1.5996524095535278,
          4.197788715362549,
          -4.03381872177124,
          -1.3101072311401367,
          -4.420534133911133,
          -5.109267711639404,
          10.222623825073242,
          -5.106622695922852,
          -0.5909942388534546,
          5.484614372253418,
          -3.9294772148132324,
          -3.351612091064453,
          -5.189997673034668,
          -4.338359355926514,
          3.7130448818206787,
          -1.953137993812561,
          -4.678560256958008,
          0.019488731399178505,
          1.2515029907226562,
          8.76360034942627,
          5.227221965789795,
          -5.329818248748779,
          -5.4599175453186035,
          0.24187500774860382,
          0.3191432058811188,
          -2.750060796737671,
          1.0068371295928955,
          4.585065841674805,
          -2.1235482692718506,
          9.71683406829834,
          -1.6928330659866333,
          6.098049640655518,
          -5.1965813636779785,
          8.243582725524902,
          -3.6113698482513428,
          -3.415229082107544,
          2.75578236579895,
          -3.5051071643829346,
          1.5699987411499023,
          1.1350452899932861,
          1.102416753768921,
          -5.332915306091309,
          4.031665802001953,
          -4.731795310974121,
          -4.566395282745361,
          -1.2714860439300537,
          -0.9312565922737122,
          -0.16312465071678162,
          1.9914971590042114,
          -4.83172082901001,
          -1.9223368167877197,
          -4.7394609451293945,
          -2.728252649307251,
          7.748123645782471,
          -5.384932994842529,
          -3.0919981002807617,
          -0.3720450699329376,
          0.17206650972366333,
          9.100645065307617,
          1.4448089599609375,
          1.2593351602554321,
          10.327821731567383,
          -4.195008277893066,
          -1.0938225984573364,
          -4.84128475189209,
          1.1751370429992676,
          -5.1703996658325195,
          -4.050988674163818,
          -4.11745023727417,
          -4.179332256317139,
          -1.1462018489837646,
          -1.8768916130065918,
          -4.835037708282471,
          -5.507254123687744,
          6.026318550109863,
          6.367880344390869,
          6.4580888748168945,
          -5.487241744995117,
          -4.506720066070557,
          0.7880037426948547,
          9.673436164855957,
          3.901872396469116,
          3.8113462924957275,
          -2.898343324661255,
          -5.175162315368652,
          -3.1933963298797607,
          0.5517266988754272,
          -3.1507911682128906,
          -2.1497325897216797,
          10.271169662475586,
          1.4227396249771118,
          9.553640365600586,
          6.372124671936035,
          -4.050987720489502,
          -4.94002103805542,
          10.491333961486816,
          -5.5341644287109375,
          2.633235216140747,
          5.205277919769287,
          0.8809886574745178,
          -4.550502777099609,
          -3.961904287338257,
          1.6834886074066162,
          -5.503296852111816,
          7.20648193359375,
          6.358652591705322,
          -1.1901702880859375,
          -0.8944856524467468,
          -4.986282825469971,
          6.343596458435059,
          10.277962684631348,
          -1.245661973953247,
          -0.6527617573738098,
          8.410080909729004,
          10.423368453979492,
          9.757768630981445,
          2.64224910736084,
          8.668021202087402,
          1.2065186500549316,
          1.4168858528137207,
          -3.0545239448547363,
          10.394669532775879,
          -2.9662020206451416,
          1.3493708372116089,
          -4.144509792327881,
          6.353267669677734,
          -2.047152042388916,
          10.26285171508789,
          -3.256399154663086,
          -3.050579309463501,
          -0.32677897810935974,
          1.4261713027954102,
          10.306550979614258,
          -1.1602225303649902,
          1.293047308921814,
          3.3469293117523193,
          -5.314779281616211,
          -1.6642385721206665,
          -5.06252384185791,
          -4.692314147949219,
          -4.733876705169678,
          -1.945529818534851,
          -4.892592430114746,
          3.6955928802490234,
          -0.6809808611869812,
          8.98024845123291,
          2.041382312774658,
          3.5157597064971924,
          1.0834250450134277,
          -0.8087265491485596,
          -2.0002763271331787,
          -2.4702045917510986,
          3.990631341934204,
          4.536384105682373,
          -1.05198335647583,
          -0.9885050058364868,
          -4.69989013671875,
          -0.9079418182373047,
          -1.0153615474700928,
          7.684318542480469,
          -0.6751040816307068,
          4.58544921875,
          -2.0507404804229736,
          2.98462176322937,
          -5.420749664306641,
          -0.16406778991222382,
          5.968701362609863,
          -2.247982978820801,
          1.4466273784637451,
          7.477700233459473,
          6.652462005615234,
          -3.520777940750122,
          -5.4511847496032715,
          -1.9801160097122192,
          6.641922950744629,
          -0.5626464486122131,
          -2.7308144569396973,
          4.820221900939941,
          0.8008939623832703,
          -5.416709899902344,
          -3.187382221221924,
          1.2417739629745483,
          0.6470460295677185,
          8.745370864868164,
          2.125737428665161,
          -0.9242772459983826,
          -5.504581928253174,
          -5.456937789916992,
          -1.9843946695327759,
          -5.342215061187744,
          -2.813490152359009,
          10.21007251739502,
          -1.3827399015426636,
          -3.132817268371582,
          5.1393585205078125,
          -2.400158166885376,
          2.4696385860443115,
          3.94736385345459,
          -4.124901294708252,
          7.533231735229492,
          9.444315910339355,
          4.251745223999023,
          -4.768261909484863,
          10.006900787353516,
          0.3610626459121704,
          -5.162294387817383,
          -0.9275461435317993,
          -1.6184972524642944,
          -5.506336212158203,
          -2.8216896057128906,
          -1.0924313068389893,
          -0.570507824420929,
          7.9119462966918945,
          -2.4026694297790527,
          -2.3131656646728516,
          4.277073860168457,
          -4.698520183563232,
          -5.413820266723633,
          -0.8484066724777222,
          -4.559272289276123,
          -5.248602390289307,
          -2.9313502311706543,
          -1.4603629112243652,
          -1.3502479791641235,
          -5.4149603843688965,
          -4.988320350646973,
          -4.108424186706543,
          -3.2041807174682617,
          1.1350042819976807,
          6.601355075836182,
          10.20775318145752,
          10.072104454040527,
          -0.15518222749233246,
          -4.953228950500488,
          4.048681259155273,
          7.850567817687988,
          -5.270426273345947,
          6.481591701507568,
          -5.243926525115967,
          -5.479226589202881,
          -2.0669643878936768,
          3.6454267501831055,
          2.626710891723633,
          0.13084369897842407,
          1.4311823844909668,
          -4.84364652633667,
          8.13191032409668,
          8.835183143615723,
          -3.689347982406616,
          2.3436882495880127,
          3.2987899780273438,
          7.602194786071777,
          1.2277878522872925,
          -1.3823813199996948,
          -4.010562896728516,
          -1.4934988021850586,
          -3.4684596061706543,
          5.5120463371276855,
          4.5895891189575195,
          -3.3591692447662354,
          -2.3420217037200928,
          -1.9834398031234741,
          -4.323586940765381,
          0.9281453490257263,
          3.5177292823791504,
          -1.0314230918884277,
          -2.1189146041870117,
          -5.339818477630615,
          -1.8333674669265747,
          -1.2406964302062988,
          -4.555016994476318,
          -0.4513729214668274,
          9.712394714355469,
          2.4524734020233154,
          -1.693576693534851,
          9.949773788452148,
          9.385223388671875,
          6.002956867218018,
          -4.951575756072998,
          -4.777587890625,
          -4.635975360870361,
          -3.878404140472412,
          -2.121854543685913,
          10.419520378112793,
          -4.746312618255615,
          8.824446678161621,
          5.330611228942871,
          10.405359268188477,
          2.796360492706299,
          -1.1796886920928955,
          -1.624006986618042,
          -1.2999615669250488,
          -2.5197601318359375,
          4.692242622375488,
          6.771868705749512,
          -1.5062847137451172,
          -1.345033884048462,
          -1.9061152935028076,
          -3.8978288173675537,
          3.597862720489502,
          -2.0156641006469727,
          6.151226997375488,
          5.439280033111572,
          -4.357545852661133,
          -0.2318267822265625,
          -3.9793741703033447,
          5.930161476135254,
          5.912702560424805,
          5.085682392120361,
          -4.5530877113342285,
          -4.601256847381592,
          0.13806888461112976,
          9.003597259521484,
          -4.757020473480225,
          9.981364250183105,
          9.478026390075684,
          -5.273460388183594,
          -0.4989981949329376,
          -3.0609676837921143,
          6.2792792320251465,
          1.091945767402649,
          -5.497562885284424,
          -5.2251129150390625,
          -3.9583754539489746,
          -4.565792083740234,
          -4.161500930786133,
          1.7516709566116333,
          -1.1467461585998535,
          1.5472716093063354,
          0.9695100784301758,
          -0.9138659834861755,
          10.428966522216797,
          -5.412815570831299,
          -1.597723126411438,
          7.902681827545166,
          6.277228355407715,
          6.936558246612549,
          -3.750995397567749,
          -1.02459716796875,
          1.0830001831054688,
          -4.683098316192627,
          -1.0994584560394287,
          -3.408557891845703,
          -0.9196072816848755,
          9.418914794921875,
          -5.141639232635498,
          6.0872368812561035,
          -2.0466246604919434,
          6.221519470214844,
          -3.780574083328247,
          6.336155414581299,
          6.494004726409912,
          0.44418343901634216,
          -5.169372081756592,
          9.07735824584961,
          -2.2215709686279297,
          5.7426438331604,
          -2.603242874145508,
          -5.018416404724121,
          -2.99210524559021,
          -5.000270366668701,
          1.8901656866073608,
          -4.492565155029297,
          8.140490531921387,
          -3.1556742191314697,
          9.394829750061035,
          -3.593735694885254,
          0.8824899196624756,
          -4.532530784606934,
          -5.216936111450195,
          9.561369895935059,
          -4.776621341705322,
          -4.600015163421631,
          -3.5031819343566895,
          -2.9915153980255127,
          -2.701566457748413,
          -3.392625093460083,
          -0.9972009062767029,
          4.82445764541626,
          8.989726066589355,
          -1.5364327430725098,
          4.758808135986328,
          -1.6426618099212646,
          4.8155107498168945,
          8.366087913513184,
          3.7195663452148438,
          -4.80219030380249,
          -2.752174139022827,
          -4.106733798980713,
          1.6227772235870361,
          3.5679943561553955,
          -5.36018705368042,
          -4.784688949584961,
          -4.541904449462891,
          -5.3913092613220215,
          -5.463134288787842,
          -0.44577011466026306,
          8.875066757202148,
          1.248364806175232,
          -1.0596963167190552,
          -3.7958292961120605,
          -3.5910396575927734,
          6.340055465698242,
          9.848424911499023,
          -5.2057785987854,
          10.373427391052246,
          -1.3068492412567139,
          6.011627674102783,
          -1.91252601146698,
          8.362347602844238,
          2.4250521659851074,
          -0.05855090543627739,
          4.575927734375,
          -2.323932647705078,
          -5.457850933074951,
          6.394516468048096,
          9.09019947052002,
          4.057009220123291,
          -3.3385891914367676,
          -5.1127190589904785,
          2.926625967025757,
          8.708532333374023,
          1.4230022430419922,
          6.320627689361572,
          -1.3183412551879883,
          -5.122612953186035,
          -5.489194869995117,
          -2.0403125286102295,
          -3.9333925247192383,
          1.420987606048584,
          -1.2778375148773193,
          -5.478318691253662,
          4.320873737335205,
          -2.134312629699707,
          1.6181621551513672,
          -5.346039772033691,
          -5.497656345367432,
          -4.245158672332764,
          -5.47855281829834,
          -4.58189582824707,
          -1.0942667722702026,
          10.39049243927002,
          -4.757249355316162,
          4.728181838989258,
          -2.940685510635376,
          -3.686964273452759,
          -4.725376129150391,
          -1.6665380001068115,
          -1.0235223770141602,
          -4.506211280822754,
          -5.151280879974365,
          -2.744427442550659,
          -3.634692430496216,
          4.227935791015625,
          -1.297865390777588,
          -1.292966604232788,
          10.471714973449707,
          -4.534836292266846,
          -5.144774436950684,
          -4.310948371887207,
          6.895665645599365,
          6.546179294586182,
          -5.5061516761779785,
          7.877094268798828,
          -5.423911094665527,
          -4.1429548263549805,
          1.3361093997955322,
          -2.843247652053833,
          -5.149176120758057,
          1.262349009513855,
          6.2757673263549805,
          -0.8610841631889343,
          1.4947906732559204,
          9.317946434020996,
          -3.2673511505126953,
          -3.3043339252471924,
          -5.109699249267578,
          6.984587669372559,
          7.8714070320129395,
          -1.0319150686264038,
          -4.421029090881348,
          -4.487296104431152,
          -4.46943998336792,
          -0.8667700886726379,
          -1.5502203702926636,
          -0.5705077648162842,
          -1.4895986318588257,
          -2.2695767879486084,
          3.5514607429504395,
          -4.8494391441345215,
          10.328729629516602,
          10.006890296936035,
          4.8744025230407715,
          -5.433635711669922,
          -3.833209753036499,
          -5.235286235809326,
          -0.57828688621521,
          -5.360099792480469,
          -3.1660897731781006,
          -5.408269882202148,
          -3.463226556777954,
          -0.5705080032348633,
          -5.372504711151123,
          1.7903722524642944,
          -4.36096715927124,
          8.68060302734375,
          6.330389022827148,
          9.979928970336914,
          -4.517041206359863,
          -1.9139410257339478,
          -5.1023101806640625,
          -4.422122478485107,
          -4.272693157196045,
          -5.458343982696533,
          1.3719316720962524,
          10.113836288452148,
          -5.113376140594482,
          -5.003315448760986,
          6.728211879730225,
          -2.1160404682159424,
          -5.169743061065674,
          9.460530281066895,
          -1.222052812576294,
          -1.374472975730896,
          0.8253499269485474,
          -1.8358558416366577,
          -3.591881513595581,
          6.272840976715088,
          -3.1274425983428955,
          4.250726699829102,
          -0.9527767896652222,
          0.8589452505111694,
          2.335078477859497,
          -3.6357879638671875,
          -4.965795993804932,
          4.649165153503418,
          -4.9553070068359375,
          -4.861704349517822,
          -4.153301239013672,
          -3.844541072845459,
          -4.512227535247803,
          -2.750718593597412,
          1.0944099426269531,
          -5.020040035247803,
          6.129092693328857,
          -3.395470380783081,
          -3.823838472366333,
          -4.658637046813965,
          6.350015163421631,
          -4.301029205322266,
          -1.7731592655181885,
          3.6474955081939697,
          -2.7380530834198,
          -5.053983688354492,
          -2.7535462379455566,
          5.791210651397705,
          -1.7741981744766235,
          -3.5083792209625244,
          -4.632823467254639,
          9.603904724121094,
          3.4847676753997803,
          -1.6570649147033691,
          -3.115751266479492,
          6.279809474945068,
          -4.087072849273682,
          -2.041356086730957,
          1.5818665027618408,
          -4.496452808380127,
          -0.44799256324768066,
          -4.260760307312012,
          1.298596978187561,
          -3.906010389328003,
          6.277123928070068,
          6.35387659072876,
          -1.3132336139678955,
          -5.152214527130127,
          -4.963708877563477,
          3.0105485916137695,
          8.512052536010742,
          -1.0151787996292114,
          6.247319221496582,
          1.233610987663269,
          -1.2767250537872314,
          -2.3984172344207764,
          9.983914375305176,
          -3.137420415878296,
          -3.370537281036377,
          -5.295849323272705,
          -5.2992072105407715,
          -5.473022937774658,
          1.1031414270401,
          -1.2512121200561523,
          -4.844995975494385,
          -0.12633644044399261,
          -5.248204708099365,
          8.325482368469238,
          -4.477941036224365,
          -0.9870886206626892,
          6.3645734786987305,
          -0.20685000717639923,
          3.71520733833313,
          -4.307267665863037,
          -3.922098159790039,
          8.073577880859375,
          0.5093817710876465,
          -0.43964332342147827,
          -3.1762959957122803,
          -2.2596421241760254,
          -5.429027557373047,
          -5.471367835998535,
          5.365560531616211,
          8.091011047363281,
          9.580729484558105,
          -1.7452079057693481,
          -0.3776218891143799,
          -2.1428964138031006,
          -5.152229309082031,
          -5.447507858276367,
          -4.364621162414551,
          -0.9606572985649109,
          -1.8014004230499268,
          -5.258398532867432,
          1.1178196668624878,
          -5.425286293029785,
          1.7742154598236084,
          -4.747703552246094,
          0.027140621095895767,
          0.7493797540664673,
          -1.5497503280639648,
          -4.4314727783203125,
          4.769416809082031
         ],
         "z": [
          8.023832321166992,
          4.180942535400391,
          -1.1540851593017578,
          6.587283134460449,
          5.480426788330078,
          3.299274206161499,
          9.694684982299805,
          7.537285804748535,
          -5.477457046508789,
          -3.6523256301879883,
          8.050443649291992,
          -4.127293586730957,
          0.6613579988479614,
          -0.020426349714398384,
          -1.8707726001739502,
          7.729330062866211,
          -1.393170952796936,
          -4.405417442321777,
          7.639029026031494,
          8.911820411682129,
          3.7884955406188965,
          5.632766246795654,
          9.057385444641113,
          0.11678154021501541,
          -2.601552724838257,
          -4.8043718338012695,
          8.921045303344727,
          7.764444828033447,
          7.1589674949646,
          7.748096466064453,
          -0.06081565469503403,
          7.740544319152832,
          8.076062202453613,
          -3.2052600383758545,
          4.6192193031311035,
          -5.424893856048584,
          4.061842441558838,
          9.055389404296875,
          9.260971069335938,
          8.536643981933594,
          -4.801693916320801,
          -5.786396026611328,
          9.093711853027344,
          9.281266212463379,
          -5.4515061378479,
          8.296862602233887,
          -0.5196525454521179,
          4.1950788497924805,
          9.766214370727539,
          9.156941413879395,
          9.77144718170166,
          5.191557884216309,
          7.602633953094482,
          8.006612777709961,
          1.9135466814041138,
          -3.965684413909912,
          -10.056925773620605,
          9.831085205078125,
          -3.622626304626465,
          -8.375417709350586,
          -5.880107402801514,
          2.1034886837005615,
          -0.03143521025776863,
          -2.9421114921569824,
          -2.606766700744629,
          -5.355685710906982,
          -1.433585524559021,
          -0.43372899293899536,
          7.534315586090088,
          -6.161477088928223,
          5.914694309234619,
          -3.26271390914917,
          1.2890452146530151,
          -2.1192469596862793,
          -2.456275463104248,
          9.538579940795898,
          4.99343729019165,
          0.24178080260753632,
          9.786815643310547,
          -4.943888187408447,
          -10.198748588562012,
          1.6466960906982422,
          -1.3302550315856934,
          -3.829007625579834,
          -6.242239952087402,
          2.536586046218872,
          1.2708486318588257,
          0.6956363916397095,
          3.967430830001831,
          9.379277229309082,
          7.733907699584961,
          -0.7729215621948242,
          -1.29874849319458,
          -1.1263620853424072,
          -4.390700340270996,
          1.1160672903060913,
          -2.8292880058288574,
          -5.407689094543457,
          6.949879169464111,
          -2.71917724609375,
          3.0038630962371826,
          -3.0624279975891113,
          -5.612730026245117,
          3.91298770904541,
          -2.4748079776763916,
          -0.5400015711784363,
          7.668474197387695,
          10.030014038085938,
          6.904431343078613,
          -4.219801902770996,
          7.929415225982666,
          -4.708973407745361,
          -2.283203363418579,
          -5.6499924659729,
          7.649356365203857,
          9.90981388092041,
          7.648406028747559,
          2.340214967727661,
          5.23726224899292,
          2.893268346786499,
          5.981759548187256,
          6.984187602996826,
          1.555681586265564,
          -1.730592966079712,
          6.14240837097168,
          -7.747625827789307,
          7.201879501342773,
          -4.0264129638671875,
          7.215767860412598,
          -1.3360587358474731,
          -2.3076536655426025,
          -5.215353965759277,
          4.865849018096924,
          -4.073390960693359,
          10.320869445800781,
          7.151961803436279,
          10.511909484863281,
          9.090343475341797,
          -4.078379154205322,
          7.947305202484131,
          -6.219163417816162,
          2.535203695297241,
          9.446096420288086,
          2.290753126144409,
          1.6879632472991943,
          -0.482382208108902,
          -7.255163669586182,
          -2.0360841751098633,
          -2.5119147300720215,
          3.309051990509033,
          9.739845275878906,
          3.6147549152374268,
          -3.901630163192749,
          9.89039134979248,
          3.2096168994903564,
          -1.655519723892212,
          -1.9363396167755127,
          7.95562744140625,
          5.58340311050415,
          7.333583831787109,
          2.1154510974884033,
          2.7825734615325928,
          0.33764100074768066,
          7.75707483291626,
          -2.0956132411956787,
          8.114795684814453,
          2.810972213745117,
          -0.23537594079971313,
          -2.664562702178955,
          7.193784713745117,
          -2.743792772293091,
          10.021467208862305,
          -1.288371205329895,
          4.352978229522705,
          -3.686338424682617,
          -11.190001487731934,
          -3.2185580730438232,
          4.366847515106201,
          -10.480273246765137,
          0.51288902759552,
          8.151275634765625,
          3.0217084884643555,
          9.894947052001953,
          0.1219203919172287,
          2.561842918395996,
          4.303576946258545,
          -1.4403817653656006,
          9.295028686523438,
          -2.71574068069458,
          -5.05242919921875,
          -2.7531802654266357,
          -1.9292699098587036,
          6.992001056671143,
          -2.283297300338745,
          -5.900488376617432,
          -2.4524054527282715,
          8.120094299316406,
          4.485002040863037,
          0.29674091935157776,
          0.6776799559593201,
          -7.548333644866943,
          4.599782466888428,
          3.980513334274292,
          -7.65656852722168,
          10.179352760314941,
          -1.8472856283187866,
          1.5366761684417725,
          8.080352783203125,
          -4.008045196533203,
          -3.7481303215026855,
          -8.246000289916992,
          8.039864540100098,
          -0.4539223909378052,
          -3.4839563369750977,
          9.640522003173828,
          -0.12839914858341217,
          -3.381073236465454,
          9.489324569702148,
          3.750939130783081,
          -5.084726810455322,
          -2.9432570934295654,
          7.720311164855957,
          -6.408857822418213,
          0.4053783714771271,
          4.635363578796387,
          1.0446490049362183,
          -6.222019672393799,
          8.112509727478027,
          1.5025935173034668,
          -2.069695234298706,
          -0.2803404629230499,
          3.097792148590088,
          7.938542366027832,
          -2.257232904434204,
          0.98851478099823,
          4.968994617462158,
          8.333881378173828,
          -7.388716220855713,
          8.462876319885254,
          6.285850524902344,
          1.8150686025619507,
          -1.6608340740203857,
          -1.9719057083129883,
          8.500347137451172,
          -1.2295559644699097,
          8.534127235412598,
          -6.3570332527160645,
          9.3306245803833,
          -2.9138193130493164,
          -0.8814263343811035,
          -5.743157386779785,
          7.314633846282959,
          -2.5211856365203857,
          7.757415294647217,
          6.69917631149292,
          7.842249870300293,
          10.537452697753906,
          -1.0487816333770752,
          -0.6989534497261047,
          -0.7588380575180054,
          -1.313852310180664,
          0.45253804326057434,
          4.071267604827881,
          9.749499320983887,
          -4.344232082366943,
          6.632842540740967,
          -4.591104507446289,
          0.2181083709001541,
          -6.784148693084717,
          -4.18572473526001,
          -0.5608069896697998,
          0.6892488598823547,
          2.5680222511291504,
          8.165899276733398,
          9.891733169555664,
          -5.409169673919678,
          4.824791431427002,
          7.5528693199157715,
          -2.513925313949585,
          2.529245376586914,
          7.6533637046813965,
          -7.143929958343506,
          -0.1621115356683731,
          8.443171501159668,
          3.231391429901123,
          -4.373909950256348,
          -2.6183104515075684,
          -2.35978364944458,
          -1.839255452156067,
          -10.018465042114258,
          6.913914203643799,
          -3.3450539112091064,
          -0.0888693630695343,
          -0.9364579916000366,
          0.15350329875946045,
          3.865750789642334,
          -4.520933151245117,
          -3.3480191230773926,
          5.417367935180664,
          0.6780627369880676,
          3.3836159706115723,
          -2.928696632385254,
          2.5595078468322754,
          3.963047742843628,
          0.47753632068634033,
          11.221163749694824,
          -8.588517189025879,
          -2.7085039615631104,
          -5.676689624786377,
          7.877095699310303,
          -4.008044719696045,
          8.8014554977417,
          7.900768280029297,
          -8.038130760192871,
          -3.429612159729004,
          -2.7162632942199707,
          5.843575954437256,
          9.89388656616211,
          8.075897216796875,
          7.428821563720703,
          6.27808952331543,
          10.17529296875,
          -1.1328518390655518,
          -2.2353477478027344,
          -5.552821159362793,
          -1.3413808345794678,
          4.706732749938965,
          7.864334583282471,
          6.465660095214844,
          1.5425399541854858,
          7.733173847198486,
          -2.7556066513061523,
          -0.7758206725120544,
          8.471901893615723,
          2.131908893585205,
          8.563484191894531,
          -4.008045196533203,
          8.104048728942871,
          -0.11949378252029419,
          3.913302183151245,
          -2.649486541748047,
          -1.3085321187973022,
          8.455713272094727,
          -2.3676161766052246,
          7.7924604415893555,
          -1.5698573589324951,
          5.7353057861328125,
          6.286847114562988,
          8.372550964355469,
          -7.57740592956543,
          -10.729111671447754,
          -6.142110347747803,
          9.175040245056152,
          0.7809227108955383,
          -7.007534980773926,
          4.162215709686279,
          4.635371685028076,
          -0.001626170938834548,
          2.457124948501587,
          8.760370254516602,
          4.1571879386901855,
          -6.311679840087891,
          2.8600001335144043,
          5.2549967765808105,
          0.5736599564552307,
          4.46891975402832,
          1.6925053596496582,
          7.876488208770752,
          8.147692680358887,
          8.338732719421387,
          0.8745246529579163,
          6.0312042236328125,
          7.753940105438232,
          7.094935894012451,
          2.5264461040496826,
          -0.6261084079742432,
          -7.888038635253906,
          1.0601975917816162,
          8.956217765808105,
          -3.224975109100342,
          8.158402442932129,
          -5.88958740234375,
          -2.558793067932129,
          -3.336623430252075,
          -0.7575720548629761,
          0.0710601806640625,
          0.06564106792211533,
          7.449075222015381,
          -3.20100998878479,
          -5.034121036529541,
          -3.4337403774261475,
          2.285249710083008,
          4.401722431182861,
          -0.3418491780757904,
          2.5191099643707275,
          -2.28889799118042,
          9.436769485473633,
          -8.991514205932617,
          -1.6065809726715088,
          8.147212982177734,
          -0.13707435131072998,
          -9.377908706665039,
          -4.585413455963135,
          7.4470977783203125,
          -1.631895899772644,
          8.340526580810547,
          -3.3015592098236084,
          7.3731255531311035,
          0.28336259722709656,
          9.927635192871094,
          -5.479672431945801,
          -3.1744978427886963,
          -5.140120506286621,
          7.900189399719238,
          7.660107135772705,
          -4.124651908874512,
          -1.3060390949249268,
          7.341089725494385,
          1.2950668334960938,
          7.940200328826904,
          -2.0930745601654053,
          4.667474269866943,
          -4.078559398651123,
          6.375331401824951,
          0.6903197765350342,
          4.856553554534912,
          -3.4148168563842773,
          -2.961334705352783,
          -10.477588653564453,
          5.0960259437561035,
          6.7059502601623535,
          8.316001892089844,
          3.1223537921905518,
          8.102264404296875,
          1.1725268363952637,
          -5.643681526184082,
          -1.6450982093811035,
          9.714943885803223,
          2.1324045658111572,
          -0.04096492752432823,
          9.158207893371582,
          7.874180793762207,
          -4.214090347290039,
          2.928882122039795,
          9.315826416015625,
          -0.4068180322647095,
          1.7512272596359253,
          -4.462702751159668,
          1.7425034046173096,
          -10.382935523986816,
          -3.43168044090271,
          5.490193843841553,
          4.727080345153809,
          -8.603494644165039,
          7.331921577453613,
          5.26165771484375,
          2.147428512573242,
          -3.5075621604919434,
          -2.3146414756774902,
          8.146195411682129,
          3.349256992340088,
          -11.35444450378418,
          -2.306891918182373,
          -5.129430770874023,
          7.81480598449707,
          -4.897792339324951,
          -5.959899425506592,
          7.400473594665527,
          0.8956428170204163,
          8.743401527404785,
          7.725277423858643,
          -0.06839458644390106,
          7.3621826171875,
          -0.9605614542961121,
          1.5713939666748047,
          6.911343574523926,
          0.1297789067029953,
          -5.50820779800415,
          5.355269432067871,
          -3.069258689880371,
          7.850857734680176,
          2.3524041175842285,
          6.434365272521973,
          -1.4327518939971924,
          9.042803764343262,
          -2.4949755668640137,
          2.7004201412200928,
          2.0532655715942383,
          8.142083168029785,
          -4.0056376457214355,
          -1.1244577169418335,
          7.605546474456787,
          -0.6749619245529175,
          8.82676887512207,
          5.694578647613525,
          4.058770656585693,
          -2.9963479042053223,
          8.471590995788574,
          -6.058473587036133,
          6.463022708892822,
          -3.9225637912750244,
          9.47507381439209,
          6.476027011871338,
          1.019931674003601,
          8.313764572143555,
          7.996143817901611,
          -5.722359657287598,
          0.0848032534122467,
          -6.141502380371094,
          -2.8627068996429443,
          7.3612380027771,
          -2.3318097591400146,
          -7.056512355804443,
          -1.3450013399124146,
          0.21403072774410248,
          -2.1609575748443604,
          -4.6673383712768555,
          -1.9231884479522705,
          -1.6231098175048828,
          -2.740825891494751,
          9.92995834350586,
          0.07879190891981125,
          -2.659444808959961,
          -0.974432110786438,
          8.099828720092773,
          0.9155927300453186,
          -0.3740484118461609,
          8.14908218383789,
          -2.291120767593384,
          9.792404174804688,
          -0.03329050540924072,
          -5.6921844482421875,
          -7.689842700958252,
          -3.388664484024048,
          -2.2354400157928467,
          2.7842917442321777,
          -5.199739456176758,
          6.927534103393555,
          -4.464599609375,
          -6.012140274047852,
          8.274003982543945,
          7.8668904304504395,
          9.034003257751465,
          -3.55254864692688,
          9.941839218139648,
          9.82983112335205,
          10.499414443969727,
          6.990194797515869,
          7.784130096435547,
          9.94847583770752,
          -4.371824741363525,
          -3.920006036758423,
          -2.2242119312286377,
          10.060774803161621,
          3.3510327339172363,
          3.6500978469848633,
          8.14910888671875,
          1.810376524925232,
          2.8343746662139893,
          7.606837749481201,
          2.030411958694458,
          7.755664825439453,
          9.811816215515137,
          -4.903195381164551,
          6.031652450561523,
          7.753093242645264,
          7.77753210067749,
          -1.4545332193374634,
          8.894954681396484,
          -3.1428349018096924,
          -8.03134822845459,
          -2.100368022918701,
          2.5577049255371094,
          -2.2270562648773193,
          0.2522793114185333,
          3.561666488647461,
          -3.6190555095672607,
          -4.267293453216553,
          9.72610092163086,
          6.482696533203125,
          7.656322956085205,
          -9.274837493896484,
          2.40504789352417,
          -2.5506303310394287,
          -8.529635429382324,
          6.7094292640686035,
          -10.537073135375977,
          -2.696981906890869,
          1.5589383840560913,
          9.939778327941895,
          8.341251373291016,
          8.036872863769531,
          7.699764728546143,
          9.501333236694336,
          7.804780960083008,
          -0.38224875926971436,
          -2.9677011966705322,
          -3.066098690032959,
          1.0908502340316772,
          9.91918659210205,
          3.2148749828338623,
          -2.8455650806427,
          5.007290363311768,
          0.8454843163490295,
          -5.952504634857178,
          10.202117919921875,
          -3.9910507202148438,
          6.129125595092773,
          -2.2942590713500977,
          7.647029876708984,
          -4.20850133895874,
          -2.1343467235565186,
          2.167766571044922,
          -2.411818504333496,
          -2.655611753463745,
          8.115071296691895,
          7.655973434448242,
          4.982182025909424,
          3.726114273071289,
          8.464144706726074,
          -9.59416389465332,
          9.58105182647705,
          -3.1726198196411133,
          -2.0285255908966064,
          -1.9774162769317627,
          -3.221498727798462,
          9.575333595275879,
          4.559291839599609,
          -5.684183120727539,
          8.147276878356934,
          7.981496810913086,
          7.861823081970215,
          2.314743757247925,
          -3.9790053367614746,
          -4.27617883682251,
          -2.662195920944214,
          -1.4950493574142456,
          3.8682403564453125,
          6.611999988555908,
          7.213705539703369,
          3.858177423477173,
          0.3763650357723236,
          -8.948944091796875,
          7.610869407653809,
          7.655063152313232,
          8.85971736907959,
          -1.8802385330200195,
          3.531639814376831,
          -0.29732048511505127,
          -6.389737606048584,
          9.941865921020508,
          -1.0142351388931274,
          4.643861293792725,
          -1.2902024984359741,
          -7.050291061401367,
          -2.130972146987915,
          1.662493348121643,
          6.659328937530518,
          8.448829650878906,
          3.552112102508545,
          0.00461471127346158,
          7.6947503089904785,
          7.963886737823486,
          2.7882282733917236,
          -3.434583902359009,
          2.674795150756836,
          9.6322021484375,
          -0.7889283299446106,
          -5.829193592071533,
          4.636568069458008,
          -0.10374388843774796,
          -3.626755475997925,
          2.346724510192871,
          -6.680942535400391,
          6.4651288986206055,
          -4.141644477844238,
          0.5307989716529846,
          -6.549740791320801,
          -3.3441689014434814,
          5.0138139724731445,
          7.951295852661133,
          4.3844990730285645,
          9.950194358825684,
          7.838028430938721,
          -0.3478427231311798,
          -2.617298126220703,
          9.536154747009277,
          4.436002731323242,
          7.796934604644775,
          -0.204979807138443,
          -6.093867301940918,
          -1.9670584201812744,
          -1.670032024383545,
          1.663851261138916,
          7.916165828704834,
          7.345914363861084,
          -1.4437615871429443,
          -6.480380058288574,
          -6.528578281402588,
          -0.16295981407165527,
          -2.2312989234924316,
          7.914970397949219,
          9.41636848449707,
          6.780567646026611,
          7.327363967895508,
          5.631810665130615,
          -4.319630146026611,
          3.29301118850708,
          9.222593307495117,
          3.6157612800598145,
          8.21288013458252,
          -2.983468770980835,
          -1.5640841722488403,
          7.51279354095459,
          -11.186084747314453,
          0.14579899609088898,
          -2.7154505252838135,
          6.012742042541504,
          7.703475475311279,
          7.968389987945557,
          -4.159041881561279,
          5.32456636428833,
          -9.199810981750488,
          10.370224952697754,
          -1.4979653358459473,
          -7.352864742279053,
          -11.110882759094238,
          -4.055324554443359,
          7.3319220542907715,
          -4.622258186340332,
          0.7828043699264526,
          -5.49735689163208,
          -2.7458314895629883,
          0.7472624182701111,
          1.751224160194397,
          -2.1854465007781982,
          6.859715938568115,
          7.962826728820801,
          -5.149205684661865,
          7.34015417098999,
          7.273015022277832,
          7.72846794128418,
          7.03464937210083,
          6.779963493347168,
          7.3319220542907715,
          -3.611010789871216,
          -3.372040033340454,
          9.424049377441406,
          -2.534451961517334,
          9.508666038513184,
          -1.5326547622680664,
          -1.5648771524429321,
          -0.9984965324401855,
          1.3896008729934692,
          8.04743480682373,
          -7.857614994049072,
          -3.4482181072235107,
          3.3449149131774902,
          1.3643722534179688,
          0.5337834358215332,
          0.8337002992630005,
          7.618827819824219,
          1.1080784797668457,
          1.8149436712265015,
          3.0406785011291504,
          -7.248478889465332,
          -5.723979949951172,
          -2.1052069664001465,
          -1.6051576137542725,
          7.653530597686768,
          9.177155494689941,
          7.736362457275391,
          -5.235138416290283,
          -0.24332906305789948,
          -0.4661572277545929,
          5.454577922821045,
          7.349681377410889,
          -6.1267266273498535,
          9.493983268737793,
          -6.1793904304504395,
          8.136329650878906,
          8.877327919006348,
          7.997574329376221,
          -1.7607401609420776,
          4.345632076263428,
          2.1830482482910156,
          8.054512023925781,
          8.636480331420898,
          8.4654541015625,
          7.93316650390625,
          -2.546774387359619,
          9.84261703491211,
          9.122803688049316,
          8.20618724822998,
          -1.2396290302276611,
          7.938765048980713,
          -2.863337278366089,
          7.934158802032471,
          -2.3894782066345215,
          -2.102750539779663,
          6.937430381774902,
          -2.5182912349700928,
          -2.3964130878448486,
          9.00202465057373,
          -3.0871660709381104,
          5.51509952545166,
          7.807779788970947,
          -8.141924858093262,
          0.7342857718467712,
          8.495372772216797,
          -1.8640415668487549,
          -5.959846019744873,
          7.9574666023254395,
          1.1094428300857544,
          8.178287506103516,
          9.721447944641113,
          8.946028709411621,
          -2.2699434757232666,
          7.907906532287598,
          -3.503875494003296,
          -0.8401103615760803,
          4.480888843536377,
          -9.977117538452148,
          -3.034950017929077,
          0.27199482917785645,
          -1.1800930500030518,
          2.123910903930664,
          -1.5614534616470337,
          7.736870288848877,
          7.688058376312256,
          -3.187587261199951,
          2.5802056789398193,
          4.273133277893066,
          4.276925086975098,
          -1.5662325620651245,
          -2.7102530002593994,
          -0.33890196681022644,
          -5.154654502868652,
          -3.8048923015594482,
          -1.8460536003112793,
          -9.678705215454102,
          8.603174209594727,
          0.38666728138923645,
          -1.3258520364761353,
          -7.7611517906188965,
          7.8524298667907715,
          5.043272972106934,
          -1.6403037309646606,
          7.187938213348389,
          5.733027935028076,
          1.3549960851669312,
          -3.4281883239746094,
          -3.7909412384033203,
          9.803722381591797,
          -4.026215553283691,
          2.7362658977508545,
          -2.34112548828125,
          3.6704108715057373,
          -5.962344646453857,
          -5.593503952026367,
          3.5739388465881348,
          8.013167381286621,
          -9.855096817016602,
          -1.8847966194152832,
          -3.0584487915039062,
          -6.533404350280762,
          6.9464430809021,
          -6.809141635894775,
          -5.716111660003662,
          -0.7885069847106934,
          -7.10180139541626,
          -4.062816143035889,
          9.391008377075195,
          -4.80306339263916
         ]
        },
        {
         "hovertemplate": "Dominant_Topic=Topic 1<br>0=%{x}<br>1=%{y}<br>2=%{z}<extra></extra>",
         "legendgroup": "Topic 1",
         "marker": {
          "color": "#EF553B",
          "opacity": 0.7,
          "symbol": "circle"
         },
         "mode": "markers",
         "name": "Topic 1",
         "scene": "scene",
         "showlegend": true,
         "type": "scatter3d",
         "x": [
          -0.5231135487556458,
          -0.9390614032745361,
          -0.25498467683792114,
          1.7900302410125732,
          -1.3988245725631714,
          0.4643424451351166,
          -1.3173688650131226,
          -0.9831690788269043,
          -1.4189811944961548,
          -1.7101411819458008,
          -0.9853276014328003,
          -0.7705010771751404,
          -1.5310444831848145,
          -1.7440638542175293,
          -0.5703373551368713,
          -1.7346487045288086,
          -0.3246280252933502,
          -1.3620848655700684,
          -1.568669319152832,
          -0.17687955498695374,
          -1.6172304153442383,
          -1.6814998388290405,
          -1.2296730279922485,
          -1.3053562641143799,
          -0.292945921421051,
          -1.2816448211669922,
          1.7112617492675781,
          -1.2175968885421753,
          0.8408234715461731,
          -1.471930742263794,
          -0.7248226404190063,
          -0.6293365359306335,
          -1.5886609554290771,
          1.8134289979934692,
          -0.3593871593475342,
          -1.3076473474502563,
          1.5804938077926636,
          -1.3256679773330688,
          -1.3035786151885986,
          -0.49316978454589844,
          -1.7504878044128418,
          -0.4224156141281128,
          -1.2175122499465942,
          -1.536072850227356,
          0.982978343963623,
          -1.2780957221984863,
          1.7549506425857544,
          -0.22089801728725433,
          -0.9247816205024719,
          -0.9800420999526978,
          -0.858616054058075,
          1.6196568012237549,
          -0.26012957096099854,
          1.4737412929534912,
          -0.5112264752388,
          -0.8568845391273499,
          0.4355089068412781,
          -1.3341203927993774,
          -0.1955222636461258,
          -1.4628900289535522,
          -1.591842770576477,
          -1.2016547918319702,
          -1.086716651916504
         ],
         "y": [
          7.187859535217285,
          7.111286163330078,
          7.290261745452881,
          2.159689426422119,
          6.749573707580566,
          3.1124765872955322,
          6.383424282073975,
          6.664154052734375,
          6.704300403594971,
          6.582409858703613,
          7.090958118438721,
          7.170205116271973,
          6.054215431213379,
          6.190640926361084,
          7.209079742431641,
          6.118195533752441,
          7.257560729980469,
          6.788174629211426,
          6.577244758605957,
          7.316925525665283,
          6.321126937866211,
          6.571657657623291,
          5.35459041595459,
          6.314048767089844,
          4.316083908081055,
          6.4165191650390625,
          2.633687734603882,
          5.468856334686279,
          2.5070884227752686,
          6.705236911773682,
          7.1628642082214355,
          5.537042617797852,
          6.321435451507568,
          2.2227609157562256,
          7.209377765655518,
          6.627624988555908,
          5.400882720947266,
          6.826352596282959,
          5.82987117767334,
          4.492519378662109,
          6.1753106117248535,
          5.951270580291748,
          5.31446647644043,
          6.058928966522217,
          6.059586524963379,
          5.496739387512207,
          2.111813545227051,
          7.295566082000732,
          7.113820552825928,
          7.097908020019531,
          7.011467456817627,
          2.4782536029815674,
          4.217405319213867,
          5.476043701171875,
          7.174285411834717,
          5.066617012023926,
          3.1528005599975586,
          6.654866695404053,
          7.309166431427002,
          5.846592903137207,
          6.654264450073242,
          5.34230899810791,
          7.037524700164795
         ],
         "z": [
          -6.418483257293701,
          -7.397829055786133,
          -5.80136775970459,
          -7.76816987991333,
          -8.990988731384277,
          -9.519997596740723,
          -10.20514965057373,
          -7.925250053405762,
          -9.102663040161133,
          -9.839082717895508,
          -7.530689239501953,
          -6.95379114151001,
          -10.531987190246582,
          -9.876166343688965,
          -6.486640930175781,
          -10.188968658447266,
          -5.956050872802734,
          -8.837913513183594,
          -9.324207305908203,
          -5.641781806945801,
          -9.51134967803955,
          -9.433342933654785,
          -10.961695671081543,
          -9.529424667358398,
          -9.849610328674316,
          -10.10445499420166,
          -7.983766078948975,
          -10.63454532623291,
          -9.281445503234863,
          -9.235883712768555,
          -6.863298416137695,
          -2.695916175842285,
          -10.300705909729004,
          -7.731368541717529,
          -6.0793938636779785,
          -9.7389497756958,
          -5.378960132598877,
          -8.690577507019043,
          -10.127395629882812,
          -10.17082691192627,
          -9.953540802001953,
          -2.893498420715332,
          -11.014745712280273,
          -10.518518447875977,
          -5.45609712600708,
          -10.810759544372559,
          -7.834659576416016,
          -5.735028266906738,
          -7.361262798309326,
          -7.512216567993164,
          -7.285144805908203,
          -8.13500690460205,
          -9.918183326721191,
          -5.445915699005127,
          -6.411794185638428,
          -2.4444475173950195,
          -9.53919792175293,
          -9.728699684143066,
          -5.679869174957275,
          -10.729703903198242,
          -9.873894691467285,
          -10.87901496887207,
          -7.842440128326416
         ]
        },
        {
         "hovertemplate": "Dominant_Topic=Topic 2<br>0=%{x}<br>1=%{y}<br>2=%{z}<extra></extra>",
         "legendgroup": "Topic 2",
         "marker": {
          "color": "#00cc96",
          "opacity": 0.7,
          "symbol": "circle"
         },
         "mode": "markers",
         "name": "Topic 2",
         "scene": "scene",
         "showlegend": true,
         "type": "scatter3d",
         "x": [
          1.6104100942611694,
          1.2118303775787354,
          0.6818896532058716,
          0.3707311749458313,
          1.8251020908355713,
          1.1052908897399902,
          1.1938581466674805,
          0.530941367149353,
          0.7719535827636719,
          0.41461312770843506,
          0.7544808983802795,
          0.6917421817779541,
          1.9239109754562378,
          0.5601908564567566,
          1.787864327430725,
          0.883213222026825,
          0.4953063726425171,
          1.734708547592163,
          1.578196406364441,
          0.5107617378234863,
          0.7722952961921692,
          -1.2015020847320557,
          0.33590349555015564,
          0.40707656741142273,
          0.31255561113357544,
          0.4387791156768799,
          0.6492741703987122,
          0.7986445426940918,
          0.292581707239151,
          0.8688247799873352,
          1.8002558946609497,
          0.5859097838401794,
          0.33100587129592896,
          0.5140240788459778,
          0.6904083490371704,
          0.5851417183876038,
          0.5914139747619629,
          0.5305609703063965,
          0.7369643449783325,
          0.4531048536300659,
          0.4283331036567688,
          0.7638776898384094,
          0.39739990234375,
          0.665554940700531,
          0.8004139065742493,
          0.632482647895813,
          0.4315735697746277,
          0.7607581615447998,
          0.3415633738040924,
          0.32355543971061707,
          0.7240803837776184,
          0.29323235154151917,
          0.4648934304714203,
          0.4313108026981354,
          1.6426753997802734,
          0.775907039642334,
          0.4315297305583954,
          0.42090216279029846,
          0.4947163760662079,
          0.5666093230247498,
          0.4137416481971741
         ],
         "y": [
          1.775910496711731,
          -1.858207106590271,
          -3.3372435569763184,
          -1.1205929517745972,
          0.519393265247345,
          2.1983706951141357,
          1.9745402336120605,
          -3.5281574726104736,
          0.993093729019165,
          -1.8933273553848267,
          -4.072421550750732,
          -3.9721550941467285,
          -1.0600744485855103,
          -1.9884296655654907,
          0.9843990206718445,
          1.8983685970306396,
          -3.019174098968506,
          0.422317773103714,
          -1.0281310081481934,
          -2.699370861053467,
          -4.105621814727783,
          -1.9654358625411987,
          -0.7457926869392395,
          -1.6284602880477905,
          -0.5531235337257385,
          -2.9206926822662354,
          -0.6823911070823669,
          1.0586553812026978,
          -0.33774998784065247,
          0.04061479493975639,
          -1.129342794418335,
          -3.715989589691162,
          -0.703545093536377,
          -3.486868143081665,
          -0.24379543960094452,
          -3.310896158218384,
          -3.7787835597991943,
          -3.5188651084899902,
          0.3612184524536133,
          -2.9354159832000732,
          -3.187129259109497,
          -0.04317720979452133,
          -1.559348464012146,
          -3.932823896408081,
          -0.2620658576488495,
          -1.3496233224868774,
          -2.6557672023773193,
          1.6372536420822144,
          -0.7915675044059753,
          -0.6438263058662415,
          -3.551156520843506,
          -0.3683215379714966,
          -3.382406711578369,
          -2.8516428470611572,
          -1.3710132837295532,
          -0.8453998565673828,
          -2.6629788875579834,
          -2.7708230018615723,
          -2.082958221435547,
          -3.634032964706421,
          -2.2553791999816895
         ],
         "z": [
          -8.130306243896484,
          -8.699165344238281,
          -9.11866283416748,
          -11.612723350524902,
          -7.782044410705566,
          -9.00102424621582,
          -8.923508644104004,
          -9.436891555786133,
          -10.300224304199219,
          -10.988946914672852,
          -8.37956428527832,
          -8.619341850280762,
          -7.311103343963623,
          -10.418020248413086,
          -7.819564342498779,
          -9.564109802246094,
          -10.050392150878906,
          -7.998161315917969,
          -8.13854694366455,
          -10.149418830871582,
          -8.309806823730469,
          -3.5844364166259766,
          -11.969430923461914,
          -11.173975944519043,
          -12.177093505859375,
          -10.18840503692627,
          -10.716509819030762,
          -10.185159683227539,
          -12.384674072265625,
          -10.187342643737793,
          -7.578593730926514,
          -9.128240585327148,
          -12.013766288757324,
          -9.543096542358398,
          -10.702917098999023,
          -9.693296432495117,
          -9.070114135742188,
          -9.44015121459961,
          -10.540008544921875,
          -10.157037734985352,
          -9.895864486694336,
          -10.478659629821777,
          -11.253144264221191,
          -8.736154556274414,
          -10.344850540161133,
          -10.492783546447754,
          -10.457399368286133,
          -6.532803535461426,
          -11.920110702514648,
          -12.078914642333984,
          -8.828065872192383,
          -12.366374015808105,
          -9.652885437011719,
          -10.268669128417969,
          -7.859227180480957,
          -10.259256362915039,
          -10.453450202941895,
          -10.369181632995605,
          -10.57911205291748,
          -9.245800971984863,
          -10.763728141784668
         ]
        },
        {
         "hovertemplate": "Dominant_Topic=Topic 3<br>0=%{x}<br>1=%{y}<br>2=%{z}<extra></extra>",
         "legendgroup": "Topic 3",
         "marker": {
          "color": "#ab63fa",
          "opacity": 0.7,
          "symbol": "circle"
         },
         "mode": "markers",
         "name": "Topic 3",
         "scene": "scene",
         "showlegend": true,
         "type": "scatter3d",
         "x": [
          -2.126715660095215,
          -2.134873628616333
         ],
         "y": [
          0.42745956778526306,
          0.45213985443115234
         ],
         "z": [
          -2.159464120864868,
          -2.1290664672851562
         ]
        }
       ],
       "layout": {
        "height": 800,
        "legend": {
         "title": {
          "text": "Dominant_Topic"
         },
         "tracegroupgap": 0
        },
        "scene": {
         "aspectmode": "auto",
         "aspectratio": {
          "x": 1.4647054047924297,
          "y": 0.6808021535144786,
          "z": 1.0028334116918463
         },
         "camera": {
          "center": {
           "x": 0,
           "y": 0,
           "z": 0
          },
          "eye": {
           "x": 2.2032887998957,
           "y": 2.2032887998956996,
           "z": 2.2032887998957
          },
          "projection": {
           "type": "perspective"
          },
          "up": {
           "x": 0.004056821900618642,
           "y": -0.004040430325701757,
           "z": 0.999983608425083
          }
         },
         "domain": {
          "x": [
           0,
           1
          ],
          "y": [
           0,
           1
          ]
         },
         "xaxis": {
          "title": {
           "text": "0"
          },
          "type": "linear"
         },
         "yaxis": {
          "title": {
           "text": "1"
          },
          "type": "linear"
         },
         "zaxis": {
          "title": {
           "text": "2"
          },
          "type": "linear"
         }
        },
        "template": {
         "data": {
          "bar": [
           {
            "error_x": {
             "color": "#2a3f5f"
            },
            "error_y": {
             "color": "#2a3f5f"
            },
            "marker": {
             "line": {
              "color": "#E5ECF6",
              "width": 0.5
             },
             "pattern": {
              "fillmode": "overlay",
              "size": 10,
              "solidity": 0.2
             }
            },
            "type": "bar"
           }
          ],
          "barpolar": [
           {
            "marker": {
             "line": {
              "color": "#E5ECF6",
              "width": 0.5
             },
             "pattern": {
              "fillmode": "overlay",
              "size": 10,
              "solidity": 0.2
             }
            },
            "type": "barpolar"
           }
          ],
          "carpet": [
           {
            "aaxis": {
             "endlinecolor": "#2a3f5f",
             "gridcolor": "white",
             "linecolor": "white",
             "minorgridcolor": "white",
             "startlinecolor": "#2a3f5f"
            },
            "baxis": {
             "endlinecolor": "#2a3f5f",
             "gridcolor": "white",
             "linecolor": "white",
             "minorgridcolor": "white",
             "startlinecolor": "#2a3f5f"
            },
            "type": "carpet"
           }
          ],
          "choropleth": [
           {
            "colorbar": {
             "outlinewidth": 0,
             "ticks": ""
            },
            "type": "choropleth"
           }
          ],
          "contour": [
           {
            "colorbar": {
             "outlinewidth": 0,
             "ticks": ""
            },
            "colorscale": [
             [
              0,
              "#0d0887"
             ],
             [
              0.1111111111111111,
              "#46039f"
             ],
             [
              0.2222222222222222,
              "#7201a8"
             ],
             [
              0.3333333333333333,
              "#9c179e"
             ],
             [
              0.4444444444444444,
              "#bd3786"
             ],
             [
              0.5555555555555556,
              "#d8576b"
             ],
             [
              0.6666666666666666,
              "#ed7953"
             ],
             [
              0.7777777777777778,
              "#fb9f3a"
             ],
             [
              0.8888888888888888,
              "#fdca26"
             ],
             [
              1,
              "#f0f921"
             ]
            ],
            "type": "contour"
           }
          ],
          "contourcarpet": [
           {
            "colorbar": {
             "outlinewidth": 0,
             "ticks": ""
            },
            "type": "contourcarpet"
           }
          ],
          "heatmap": [
           {
            "colorbar": {
             "outlinewidth": 0,
             "ticks": ""
            },
            "colorscale": [
             [
              0,
              "#0d0887"
             ],
             [
              0.1111111111111111,
              "#46039f"
             ],
             [
              0.2222222222222222,
              "#7201a8"
             ],
             [
              0.3333333333333333,
              "#9c179e"
             ],
             [
              0.4444444444444444,
              "#bd3786"
             ],
             [
              0.5555555555555556,
              "#d8576b"
             ],
             [
              0.6666666666666666,
              "#ed7953"
             ],
             [
              0.7777777777777778,
              "#fb9f3a"
             ],
             [
              0.8888888888888888,
              "#fdca26"
             ],
             [
              1,
              "#f0f921"
             ]
            ],
            "type": "heatmap"
           }
          ],
          "heatmapgl": [
           {
            "colorbar": {
             "outlinewidth": 0,
             "ticks": ""
            },
            "colorscale": [
             [
              0,
              "#0d0887"
             ],
             [
              0.1111111111111111,
              "#46039f"
             ],
             [
              0.2222222222222222,
              "#7201a8"
             ],
             [
              0.3333333333333333,
              "#9c179e"
             ],
             [
              0.4444444444444444,
              "#bd3786"
             ],
             [
              0.5555555555555556,
              "#d8576b"
             ],
             [
              0.6666666666666666,
              "#ed7953"
             ],
             [
              0.7777777777777778,
              "#fb9f3a"
             ],
             [
              0.8888888888888888,
              "#fdca26"
             ],
             [
              1,
              "#f0f921"
             ]
            ],
            "type": "heatmapgl"
           }
          ],
          "histogram": [
           {
            "marker": {
             "pattern": {
              "fillmode": "overlay",
              "size": 10,
              "solidity": 0.2
             }
            },
            "type": "histogram"
           }
          ],
          "histogram2d": [
           {
            "colorbar": {
             "outlinewidth": 0,
             "ticks": ""
            },
            "colorscale": [
             [
              0,
              "#0d0887"
             ],
             [
              0.1111111111111111,
              "#46039f"
             ],
             [
              0.2222222222222222,
              "#7201a8"
             ],
             [
              0.3333333333333333,
              "#9c179e"
             ],
             [
              0.4444444444444444,
              "#bd3786"
             ],
             [
              0.5555555555555556,
              "#d8576b"
             ],
             [
              0.6666666666666666,
              "#ed7953"
             ],
             [
              0.7777777777777778,
              "#fb9f3a"
             ],
             [
              0.8888888888888888,
              "#fdca26"
             ],
             [
              1,
              "#f0f921"
             ]
            ],
            "type": "histogram2d"
           }
          ],
          "histogram2dcontour": [
           {
            "colorbar": {
             "outlinewidth": 0,
             "ticks": ""
            },
            "colorscale": [
             [
              0,
              "#0d0887"
             ],
             [
              0.1111111111111111,
              "#46039f"
             ],
             [
              0.2222222222222222,
              "#7201a8"
             ],
             [
              0.3333333333333333,
              "#9c179e"
             ],
             [
              0.4444444444444444,
              "#bd3786"
             ],
             [
              0.5555555555555556,
              "#d8576b"
             ],
             [
              0.6666666666666666,
              "#ed7953"
             ],
             [
              0.7777777777777778,
              "#fb9f3a"
             ],
             [
              0.8888888888888888,
              "#fdca26"
             ],
             [
              1,
              "#f0f921"
             ]
            ],
            "type": "histogram2dcontour"
           }
          ],
          "mesh3d": [
           {
            "colorbar": {
             "outlinewidth": 0,
             "ticks": ""
            },
            "type": "mesh3d"
           }
          ],
          "parcoords": [
           {
            "line": {
             "colorbar": {
              "outlinewidth": 0,
              "ticks": ""
             }
            },
            "type": "parcoords"
           }
          ],
          "pie": [
           {
            "automargin": true,
            "type": "pie"
           }
          ],
          "scatter": [
           {
            "fillpattern": {
             "fillmode": "overlay",
             "size": 10,
             "solidity": 0.2
            },
            "type": "scatter"
           }
          ],
          "scatter3d": [
           {
            "line": {
             "colorbar": {
              "outlinewidth": 0,
              "ticks": ""
             }
            },
            "marker": {
             "colorbar": {
              "outlinewidth": 0,
              "ticks": ""
             }
            },
            "type": "scatter3d"
           }
          ],
          "scattercarpet": [
           {
            "marker": {
             "colorbar": {
              "outlinewidth": 0,
              "ticks": ""
             }
            },
            "type": "scattercarpet"
           }
          ],
          "scattergeo": [
           {
            "marker": {
             "colorbar": {
              "outlinewidth": 0,
              "ticks": ""
             }
            },
            "type": "scattergeo"
           }
          ],
          "scattergl": [
           {
            "marker": {
             "colorbar": {
              "outlinewidth": 0,
              "ticks": ""
             }
            },
            "type": "scattergl"
           }
          ],
          "scattermapbox": [
           {
            "marker": {
             "colorbar": {
              "outlinewidth": 0,
              "ticks": ""
             }
            },
            "type": "scattermapbox"
           }
          ],
          "scatterpolar": [
           {
            "marker": {
             "colorbar": {
              "outlinewidth": 0,
              "ticks": ""
             }
            },
            "type": "scatterpolar"
           }
          ],
          "scatterpolargl": [
           {
            "marker": {
             "colorbar": {
              "outlinewidth": 0,
              "ticks": ""
             }
            },
            "type": "scatterpolargl"
           }
          ],
          "scatterternary": [
           {
            "marker": {
             "colorbar": {
              "outlinewidth": 0,
              "ticks": ""
             }
            },
            "type": "scatterternary"
           }
          ],
          "surface": [
           {
            "colorbar": {
             "outlinewidth": 0,
             "ticks": ""
            },
            "colorscale": [
             [
              0,
              "#0d0887"
             ],
             [
              0.1111111111111111,
              "#46039f"
             ],
             [
              0.2222222222222222,
              "#7201a8"
             ],
             [
              0.3333333333333333,
              "#9c179e"
             ],
             [
              0.4444444444444444,
              "#bd3786"
             ],
             [
              0.5555555555555556,
              "#d8576b"
             ],
             [
              0.6666666666666666,
              "#ed7953"
             ],
             [
              0.7777777777777778,
              "#fb9f3a"
             ],
             [
              0.8888888888888888,
              "#fdca26"
             ],
             [
              1,
              "#f0f921"
             ]
            ],
            "type": "surface"
           }
          ],
          "table": [
           {
            "cells": {
             "fill": {
              "color": "#EBF0F8"
             },
             "line": {
              "color": "white"
             }
            },
            "header": {
             "fill": {
              "color": "#C8D4E3"
             },
             "line": {
              "color": "white"
             }
            },
            "type": "table"
           }
          ]
         },
         "layout": {
          "annotationdefaults": {
           "arrowcolor": "#2a3f5f",
           "arrowhead": 0,
           "arrowwidth": 1
          },
          "autotypenumbers": "strict",
          "coloraxis": {
           "colorbar": {
            "outlinewidth": 0,
            "ticks": ""
           }
          },
          "colorscale": {
           "diverging": [
            [
             0,
             "#8e0152"
            ],
            [
             0.1,
             "#c51b7d"
            ],
            [
             0.2,
             "#de77ae"
            ],
            [
             0.3,
             "#f1b6da"
            ],
            [
             0.4,
             "#fde0ef"
            ],
            [
             0.5,
             "#f7f7f7"
            ],
            [
             0.6,
             "#e6f5d0"
            ],
            [
             0.7,
             "#b8e186"
            ],
            [
             0.8,
             "#7fbc41"
            ],
            [
             0.9,
             "#4d9221"
            ],
            [
             1,
             "#276419"
            ]
           ],
           "sequential": [
            [
             0,
             "#0d0887"
            ],
            [
             0.1111111111111111,
             "#46039f"
            ],
            [
             0.2222222222222222,
             "#7201a8"
            ],
            [
             0.3333333333333333,
             "#9c179e"
            ],
            [
             0.4444444444444444,
             "#bd3786"
            ],
            [
             0.5555555555555556,
             "#d8576b"
            ],
            [
             0.6666666666666666,
             "#ed7953"
            ],
            [
             0.7777777777777778,
             "#fb9f3a"
            ],
            [
             0.8888888888888888,
             "#fdca26"
            ],
            [
             1,
             "#f0f921"
            ]
           ],
           "sequentialminus": [
            [
             0,
             "#0d0887"
            ],
            [
             0.1111111111111111,
             "#46039f"
            ],
            [
             0.2222222222222222,
             "#7201a8"
            ],
            [
             0.3333333333333333,
             "#9c179e"
            ],
            [
             0.4444444444444444,
             "#bd3786"
            ],
            [
             0.5555555555555556,
             "#d8576b"
            ],
            [
             0.6666666666666666,
             "#ed7953"
            ],
            [
             0.7777777777777778,
             "#fb9f3a"
            ],
            [
             0.8888888888888888,
             "#fdca26"
            ],
            [
             1,
             "#f0f921"
            ]
           ]
          },
          "colorway": [
           "#636efa",
           "#EF553B",
           "#00cc96",
           "#ab63fa",
           "#FFA15A",
           "#19d3f3",
           "#FF6692",
           "#B6E880",
           "#FF97FF",
           "#FECB52"
          ],
          "font": {
           "color": "#2a3f5f"
          },
          "geo": {
           "bgcolor": "white",
           "lakecolor": "white",
           "landcolor": "#E5ECF6",
           "showlakes": true,
           "showland": true,
           "subunitcolor": "white"
          },
          "hoverlabel": {
           "align": "left"
          },
          "hovermode": "closest",
          "mapbox": {
           "style": "light"
          },
          "paper_bgcolor": "white",
          "plot_bgcolor": "#E5ECF6",
          "polar": {
           "angularaxis": {
            "gridcolor": "white",
            "linecolor": "white",
            "ticks": ""
           },
           "bgcolor": "#E5ECF6",
           "radialaxis": {
            "gridcolor": "white",
            "linecolor": "white",
            "ticks": ""
           }
          },
          "scene": {
           "xaxis": {
            "backgroundcolor": "#E5ECF6",
            "gridcolor": "white",
            "gridwidth": 2,
            "linecolor": "white",
            "showbackground": true,
            "ticks": "",
            "zerolinecolor": "white"
           },
           "yaxis": {
            "backgroundcolor": "#E5ECF6",
            "gridcolor": "white",
            "gridwidth": 2,
            "linecolor": "white",
            "showbackground": true,
            "ticks": "",
            "zerolinecolor": "white"
           },
           "zaxis": {
            "backgroundcolor": "#E5ECF6",
            "gridcolor": "white",
            "gridwidth": 2,
            "linecolor": "white",
            "showbackground": true,
            "ticks": "",
            "zerolinecolor": "white"
           }
          },
          "shapedefaults": {
           "line": {
            "color": "#2a3f5f"
           }
          },
          "ternary": {
           "aaxis": {
            "gridcolor": "white",
            "linecolor": "white",
            "ticks": ""
           },
           "baxis": {
            "gridcolor": "white",
            "linecolor": "white",
            "ticks": ""
           },
           "bgcolor": "#E5ECF6",
           "caxis": {
            "gridcolor": "white",
            "linecolor": "white",
            "ticks": ""
           }
          },
          "title": {
           "x": 0.05
          },
          "xaxis": {
           "automargin": true,
           "gridcolor": "white",
           "linecolor": "white",
           "ticks": "",
           "title": {
            "standoff": 15
           },
           "zerolinecolor": "white",
           "zerolinewidth": 2
          },
          "yaxis": {
           "automargin": true,
           "gridcolor": "white",
           "linecolor": "white",
           "ticks": "",
           "title": {
            "standoff": 15
           },
           "zerolinecolor": "white",
           "zerolinewidth": 2
          }
         }
        },
        "title": {
         "text": "3d TSNE Plot for Topic Model"
        },
        "width": 900
       }
      },
      "image/png": "[encoded data removed]",
      "text/html": [
       "<div>                            <div id=\"4de2fef0-a53a-48db-986b-715b7abd072e\" class=\"plotly-graph-div\" style=\"height:800px; width:900px;\"></div>            <script type=\"text/javascript\">                require([\"plotly\"], function(Plotly) {                    window.PLOTLYENV=window.PLOTLYENV || {};                                    if (document.getElementById(\"4de2fef0-a53a-48db-986b-715b7abd072e\")) {                    Plotly.newPlot(                        \"4de2fef0-a53a-48db-986b-715b7abd072e\",                        [{\"hovertemplate\":\"Dominant_Topic=Topic 0<br>0=%{x}<br>1=%{y}<br>2=%{z}<extra></extra>\",\"legendgroup\":\"Topic 0\",\"marker\":{\"color\":\"#636efa\",\"opacity\":0.7,\"symbol\":\"circle\"},\"mode\":\"markers\",\"name\":\"Topic 0\",\"scene\":\"scene\",\"showlegend\":true,\"x\":[8.109112739562988,-14.423093795776367,3.844024419784546,-12.43647575378418,-2.762430429458618,-14.985654830932617,-1.967140793800354,2.7211883068084717,-18.458343505859375,3.622098922729492,5.422012805938721,3.317692279815674,13.180099487304688,-16.63091468811035,10.68885326385498,-4.537786483764648,-17.139705657958984,3.656907081604004,9.375100135803223,2.9405243396759033,13.383340835571289,6.313223361968994,-3.383235454559326,6.025867938995361,8.165587425231934,2.536470651626587,-3.591911792755127,-1.6028262376785278,10.355871200561523,-4.5853095054626465,-16.647354125976562,-1.1019607782363892,7.755139350891113,-17.734365463256836,12.889686584472656,-18.440401077270508,6.849379062652588,-9.855236053466797,-3.0295746326446533,-10.460721969604492,-18.238981246948242,-18.561235427856445,-3.3605573177337646,-2.9954371452331543,1.8137949705123901,4.025352478027344,12.421457290649414,-14.409616470336914,-9.055952072143555,-9.663747787475586,-9.040637969970703,-13.654994010925293,3.0443460941314697,5.11946964263916,-2.343498468399048,3.9241750240325928,-20.225749969482422,-1.8339036703109741,1.0737816095352173,-19.52741050720215,1.5729783773422241,-15.677231788635254,6.118460655212402,1.7598800659179688,8.1487455368042,2.830897569656372,9.179105758666992,4.710062026977539,2.7133493423461914,2.575692892074585,-13.035822868347168,-17.751863479614258,-16.089242935180664,4.475015163421631,8.931962966918945,-2.4358043670654297,-13.807341575622559,5.469444751739502,1.0608731508255005,-18.28449058532715,-20.2421817779541,-15.918726921081543,3.624476194381714,-17.92706298828125,2.588585376739502,6.616898059844971,-2.164590835571289,-16.41584587097168,-14.56778621673584,2.103585958480835,9.153326034545898,12.160656929016113,-0.32429638504981995,-0.20858803391456604,0.5529196858406067,-0.0027742269448935986,3.8714563846588135,2.2155332565307617,5.365869998931885,1.762284278869629,4.649867534637451,1.5330114364624023,2.7243449687957764,-2.9759902954101562,-0.14571326971054077,5.608300685882568,0.5165191292762756,-8.661941528320312,-2.43585205078125,-18.05256462097168,-5.0252766609191895,0.2920471429824829,-17.43756675720215,2.920989990234375,1.8439152240753174,-0.7791792750358582,1.2997033596038818,4.821402549743652,6.540388107299805,6.7291412353515625,11.8616361618042,-12.033979415893555,-1.197656512260437,3.1118087768554688,-12.859673500061035,0.9360900521278381,-3.5149085521698,3.1079773902893066,-3.5586163997650146,-0.3481656014919281,9.311769485473633,2.4226932525634766,-13.926451683044434,2.681401014328003,0.33594202995300293,10.372612953186035,-8.289814949035645,-3.358656883239746,2.6986887454986572,4.6953935623168945,2.4290692806243896,6.593491554260254,-2.7005507946014404,-15.574410438537598,-0.092005155980587,4.761836051940918,2.045083999633789,-17.356327056884766,4.529883861541748,6.795258045196533,1.2409111261367798,-2.8375799655914307,3.2319259643554688,-0.9559757113456726,5.000473499298096,4.994398593902588,4.089186668395996,-3.6026687622070312,12.210198402404785,5.068713188171387,6.458573818206787,4.993267059326172,-16.501190185546875,-1.4449414014816284,4.327960968017578,6.011776924133301,-2.513801097869873,4.884745121002197,7.612754821777344,4.753184795379639,6.68363094329834,-8.720171928405762,11.576458930969238,13.074980735778809,3.559896945953369,-19.886207580566406,4.506808757781982,-14.36001205444336,-20.201765060424805,13.168694496154785,6.777862548828125,7.378292083740234,0.576524555683136,-0.2697245478630066,-2.4205679893493652,6.8327531814575195,5.265969753265381,-9.760537147521973,-1.4360198974609375,2.137732982635498,-17.58991813659668,-17.321062088012695,-2.766956329345703,-1.1518207788467407,1.5633277893066406,-17.492422103881836,7.347325325012207,6.793018341064453,5.350973129272461,-2.264995813369751,-19.195829391479492,12.867494583129883,-14.558462142944336,-19.2369327545166,-8.508346557617188,10.731640815734863,-2.3097431659698486,4.247560977935791,3.0605690479278564,3.429713487625122,0.7934966683387756,5.313418865203857,-16.811716079711914,3.3740203380584717,1.5450637340545654,12.75088882446289,-17.785938262939453,1.8689137697219849,13.220988273620605,3.226099967956543,1.8067054748535156,-0.6990014314651489,2.493436813354492,13.109972953796387,12.840073585510254,-0.11005061864852905,2.5504093170166016,6.012547969818115,4.960476875305176,10.229533195495605,4.910923004150391,4.690022945404053,4.7509541511535645,5.510732650756836,13.310193061828613,6.666042327880859,-6.2372236251831055,-19.13306427001953,-6.902964115142822,-12.465750694274902,-2.3430967330932617,5.523540019989014,10.374737739562988,-4.220152378082275,4.356401443481445,-10.464601516723633,-18.753711700439453,-9.679300308227539,5.5933122634887695,4.174229621887207,1.6321656703948975,-3.799332618713379,-0.602135419845581,3.44000244140625,-12.447663307189941,8.863499641418457,-8.279789924621582,4.45671272277832,-16.89717674255371,12.174898147583008,5.264420509338379,-2.2718448638916016,6.8379740715026855,-1.7376165390014648,2.7728302478790283,11.061075210571289,3.542454719543457,5.394279956817627,1.7356209754943848,3.7331738471984863,-0.19255363941192627,-16.436704635620117,6.611492156982422,-5.676005840301514,0.38152164220809937,1.847212553024292,6.732662200927734,2.6683313846588135,5.933650493621826,4.981764793395996,0.9943699836730957,1.6368814706802368,5.144496440887451,-4.497602939605713,13.460884094238281,3.049248218536377,7.976957321166992,9.300314903259277,-1.2410894632339478,-20.214887619018555,-2.4730114936828613,4.023209571838379,12.76649284362793,-16.979583740234375,12.949531555175781,-14.645169258117676,0.4045245945453644,4.151680946350098,-13.465227127075195,5.611047267913818,4.532873630523682,1.5819147825241089,-2.289393901824951,-2.9988718032836914,5.582951545715332,-8.319403648376465,-19.61562728881836,7.063103199005127,2.914471387863159,8.72847843170166,3.0605695247650146,-10.204597473144531,4.4695281982421875,-19.387130737304688,4.127731800079346,6.925521373748779,12.0043363571167,0.14134982228279114,4.158999443054199,5.03001070022583,11.556123733520508,-8.508414268493652,5.1021952629089355,2.4707491397857666,2.481656551361084,2.8952407836914062,-14.188169479370117,8.76059627532959,-12.445290565490723,0.037479061633348465,-0.9975640773773193,0.114122174680233,4.2971601486206055,-4.306828022003174,6.689268589019775,3.5153372287750244,3.0605688095092773,7.514904975891113,4.946752071380615,13.123398780822754,4.130919933319092,-0.15532608330249786,-4.676681041717529,9.232636451721191,3.2285115718841553,4.751555919647217,12.091171264648438,5.8713059425354,3.7949094772338867,-19.204429626464844,-20.118534088134766,1.467666506767273,2.4757795333862305,5.767521381378174,-18.98716163635254,4.221985816955566,6.782281398773193,5.179632663726807,6.58302116394043,-3.8307924270629883,6.844468593597412,2.5818610191345215,-2.524209976196289,-13.583597183227539,5.55544376373291,-14.288954734802246,-2.292776346206665,4.333014488220215,4.277132511138916,-6.255126953125,5.820656776428223,-12.745365142822266,-1.4413503408432007,-3.1554720401763916,-2.422297477722168,4.486407279968262,-19.317745208740234,-2.2687315940856934,-3.548632860183716,4.473332405090332,-5.6620707511901855,1.567684292793274,8.519464492797852,4.01608943939209,-16.91800308227539,12.893811225891113,-0.5883145332336426,-4.088129997253418,1.4142169952392578,3.1930954456329346,3.620018482208252,4.8308796882629395,4.058488368988037,-16.76939582824707,-15.446449279785156,3.916227102279663,-2.7055275440216064,-19.79121208190918,-1.4331791400909424,6.46338415145874,-0.6668265461921692,-19.950847625732422,0.3671593964099884,-4.084062099456787,4.159585475921631,-6.26210880279541,3.8122968673706055,11.152799606323242,-1.139065146446228,-0.09452790021896362,2.512880802154541,4.200990676879883,0.06408023834228516,4.530189037322998,1.045008659362793,3.0070128440856934,-0.22867096960544586,5.135007381439209,5.60008430480957,-3.4987921714782715,-0.8237858414649963,-3.514991044998169,3.050455093383789,-12.81665325164795,-2.242769241333008,-3.6900272369384766,1.2385505437850952,4.154250621795654,-20.202157974243164,12.564690589904785,11.116106986999512,-6.171303749084473,13.407248497009277,-4.3390703201293945,5.975074291229248,-18.51375389099121,9.134267807006836,-1.882303237915039,-15.660120964050293,4.866438865661621,-3.2345969676971436,4.246753215789795,0.75925213098526,6.743802547454834,-2.9928877353668213,12.521339416503906,6.298766136169434,3.6198582649230957,13.402204513549805,-20.223363876342773,-17.802095413208008,12.27348518371582,-13.989359855651855,-19.6220760345459,-3.846599817276001,6.530167102813721,-15.653055191040039,3.9763834476470947,3.8652422428131104,6.442792892456055,13.263161659240723,-19.785634994506836,9.498397827148438,2.0731189250946045,-2.1726648807525635,-18.269702911376953,-18.619558334350586,11.078255653381348,13.244586944580078,-10.249886512756348,-0.7718215584754944,5.147576332092285,4.758815288543701,4.075323104858398,6.207810401916504,-2.4650940895080566,12.985523223876953,2.437028408050537,6.477856159210205,4.966129302978516,4.247408390045166,13.459701538085938,11.46584415435791,-0.16502344608306885,-3.396146059036255,4.182528495788574,4.892053127288818,4.881533145904541,7.064455986022949,0.7768423557281494,4.287476539611816,2.2881417274475098,4.799222946166992,-3.5670623779296875,6.273767948150635,-3.047854423522949,4.561048984527588,-10.527914047241211,2.3703811168670654,-12.771536827087402,2.607616662979126,-2.6510837078094482,-12.315072059631348,-16.225751876831055,-6.162214756011963,4.998716354370117,2.89123272895813,-0.7159977555274963,2.431875467300415,0.16033120453357697,9.982353210449219,-0.7025663256645203,-19.006376266479492,11.493938446044922,-0.8491607904434204,2.5640976428985596,3.3167717456817627,-0.7687821388244629,3.2524733543395996,1.867126226425171,-0.007596178911626339,12.905285835266113,7.573096752166748,11.94886589050293,-10.918346405029297,-16.112239837646484,4.7327799797058105,6.651937961578369,2.3815810680389404,-1.5676301717758179,5.174924850463867,2.74102783203125,-19.248743057250977,-17.789613723754883,5.186605453491211,-15.293291091918945,2.243988037109375,5.385836124420166,-18.13091278076172,-18.63823127746582,-6.0202250480651855,2.9476137161254883,-3.421597957611084,-1.1134005784988403,0.42017099261283875,-1.3512015342712402,-8.29482650756836,-2.758410930633545,3.618494987487793,-0.24017460644245148,1.9686105251312256,2.8209471702575684,9.799029350280762,-8.773422241210938,4.5579657554626465,6.837681293487549,6.6915082931518555,6.330941677093506,6.730976581573486,9.450039863586426,5.37193489074707,-1.4252738952636719,1.050924301147461,3.337174654006958,11.808758735656738,9.102340698242188,3.4978649616241455,11.375786781311035,-10.08641242980957,4.16067361831665,-19.384891510009766,4.626509666442871,4.769778251647949,-1.639417290687561,5.345614433288574,13.26805305480957,-17.860370635986328,0.5804829597473145,1.2841707468032837,5.687447547912598,2.3689913749694824,-19.92523956298828,4.806439399719238,8.547590255737305,-19.591272354125977,-12.444226264953613,-20.187015533447266,1.9246737957000732,13.396162986755371,0.22579044103622437,-6.26542329788208,4.041015148162842,2.3346107006073,1.8484212160110474,4.913940906524658,5.3268609046936035,5.339208602905273,1.5325490236282349,-16.3173770904541,-0.7119624614715576,-15.036123275756836,5.964395999908447,-13.807888984680176,13.244640350341797,2.7361230850219727,-8.4858980178833,0.7882714867591858,-12.839585304260254,2.379197359085083,1.5528117418289185,3.7317545413970947,10.056353569030762,13.45114803314209,2.2515745162963867,7.6363844871521,6.060792446136475,0.9752572774887085,-13.81464958190918,-14.72523021697998,-6.918902397155762,-20.045589447021484,-2.354667901992798,1.4398128986358643,5.491794109344482,-0.7530112862586975,-17.73896598815918,-2.360568046569824,6.784718990325928,2.4870660305023193,6.880699157714844,-3.7158825397491455,4.1800336837768555,-1.2437678575515747,3.3854689598083496,2.844928503036499,7.562228679656982,11.302124977111816,13.320294380187988,11.116157531738281,-3.5527336597442627,6.846928119659424,-2.2821476459503174,-19.77263069152832,3.261579751968384,2.733895778656006,3.033092737197876,2.9186627864837646,14.235726356506348,4.876832962036133,-18.768695831298828,0.0009349792962893844,-17.006763458251953,6.776765823364258,4.624794960021973,2.148516893386841,3.9185826778411865,-15.891009330749512,11.088844299316406,3.706538677215576,6.821690559387207,-0.3683794438838959,-0.03884018212556839,8.401564598083496,4.994157314300537,1.2217161655426025,-2.471248149871826,1.5705267190933228,-0.6611237525939941,1.590401530265808,12.844358444213867,-16.664661407470703,3.499915838241577,-2.3885321617126465,-18.870418548583984,11.46856689453125,3.0453381538391113,-16.424938201904297,1.1307435035705566,4.13094425201416,12.637014389038086,4.708179473876953,13.001565933227539,-8.947745323181152,-4.796164035797119,4.794678688049316,8.175691604614258,-2.4981765747070312,-14.09172248840332,2.5085513591766357,12.735859870910645,2.314028263092041,-1.5103737115859985,11.038881301879883,13.396696090698242,-3.321110486984253,-11.672952651977539,4.248581409454346,-18.80085563659668,-18.817880630493164,4.921794891357422,9.735060691833496,8.576839447021484,-9.632440567016602,5.51918888092041,5.027988910675049,12.165055274963379,0.5373751521110535,13.24250316619873,-9.757014274597168,-2.836168050765991,-4.97360372543335,5.2544474601745605,4.869959354400635,4.527819633483887,-19.888675689697266,5.053984642028809,1.7934678792953491,-12.964412689208984,-0.23953786492347717,8.384204864501953,1.3525694608688354,6.49544095993042,-19.886703491210938,-8.370827674865723,11.29590129852295,1.0637962818145752,-19.930274963378906,-17.99993324279785,-3.846599817276001,-18.181459426879883,-16.176898956298828,2.6489429473876953,6.574903964996338,5.696535587310791,6.298763751983643,-0.8375365138053894,10.771821975708008,-11.056570053100586,2.055337905883789,-3.866405725479126,10.13282299041748,-0.9174386262893677,10.558887481689453,-12.19406509399414,-3.846599817276001,3.603955030441284,4.04800271987915,-9.620820999145508,2.0872576236724854,1.8300875425338745,3.3694610595703125,11.1937894821167,-17.001737594604492,13.372686386108398,5.377959251403809,0.9032880663871765,3.983700752258301,-2.7209131717681885,6.120296001434326,13.180145263671875,13.245564460754395,4.865547180175781,-16.23604965209961,13.413544654846191,6.735136985778809,-19.07676887512207,-18.540843963623047,4.80855131149292,-17.211503982543945,1.5158891677856445,2.579151153564453,-1.0957382917404175,2.492067337036133,-0.6957913637161255,5.194351673126221,-2.7602641582489014,-11.67019271850586,1.4768003225326538,-2.5907647609710693,1.45543372631073,7.151268482208252,-10.10440731048584,-11.021699905395508,10.901128768920898,-14.256851196289062,4.850473880767822,7.904723167419434,3.413395881652832,-6.922020435333252,-11.08591079711914,8.464691162109375,1.1550774574279785,-9.657119750976562,-5.798567771911621,2.7329113483428955,-3.476710319519043,5.871477127075195,-3.4166388511657715,-0.3139079511165619,-17.378019332885742,-12.07021713256836,8.615072250366211,2.2704920768737793,-3.480037212371826,-17.696542739868164,-13.382776260375977,4.7782158851623535,0.8386511206626892,-16.31401252746582,-4.225701332092285,10.676780700683594,2.6327435970306396,4.775038719177246,-2.2755825519561768,-10.834514617919922,1.3049933910369873,2.877326488494873,5.163166046142578,8.62011432647705,3.7287867069244385,4.626545429229736,6.794404029846191,-20.194414138793945,-0.24975581467151642,-2.284406900405884,-0.9320242404937744,-15.666455268859863,3.328646421432495,-1.067380666732788,0.1404624879360199,4.573276519775391,13.382163047790527,13.062981605529785,-3.1954264640808105,-1.1545443534851074,7.043125629425049,5.512171268463135,2.0532193183898926,0.9323928952217102,10.709627151489258,-20.0859317779541,3.4490511417388916,-0.9918712377548218,2.8172450065612793,0.9333546757698059,2.699355363845825,6.637354850769043,5.048229694366455,-3.4652528762817383,-13.189438819885254,-16.05781364440918,3.988917350769043,3.391165256500244,-1.4934382438659668,0.7650938630104065,6.6793999671936035,-17.455917358398438,4.507744789123535,2.2660374641418457,1.7161043882369995,13.215922355651855,5.152705669403076,-20.16660499572754,-17.30477523803711,5.002902984619141,2.4642865657806396,10.732213020324707,2.2868881225585938,1.7026981115341187,5.390341758728027,2.154378652572632,-17.995670318603516,-9.493948936462402,2.4645252227783203],\"y\":[-5.058261871337891,-2.811328887939453,10.123043060302734,-3.551802158355713,2.342585563659668,-2.6190903186798096,5.091724872589111,-3.9113409519195557,-1.399863600730896,-5.489770412445068,-4.43063497543335,3.5759212970733643,-5.058296203613281,-2.0531861782073975,-4.511796951293945,-0.9530625343322754,-1.86309814453125,0.17238855361938477,-5.263431549072266,6.3610358238220215,-5.365594863891602,7.646276950836182,3.675534963607788,9.721771240234375,-4.723555564880371,-3.7378203868865967,3.2467494010925293,-3.0186338424682617,-5.385192394256592,-0.9466607570648193,-2.047468662261963,-3.1352250576019287,-4.990963459014893,-1.6442900896072388,-5.475467681884766,-1.4054052829742432,8.730049133300781,-4.309903621673584,4.197786808013916,-4.035165786743164,-1.4705125093460083,-1.368065357208252,3.748400926589966,4.235104084014893,-5.203436374664307,6.4496026039123535,-4.724003314971924,-2.8164544105529785,-4.527895450592041,-4.380105018615723,-4.531644344329834,-3.0328962802886963,-3.696286916732788,-4.356855869293213,1.389081358909607,-0.4019888937473297,-0.9476255178451538,5.319591045379639,8.51176929473877,-1.1140707731246948,-5.031834125518799,-2.394904136657715,9.525550842285156,9.333285331726074,-4.7316694259643555,3.188333034515381,-2.806105136871338,3.3604042530059814,-3.9066710472106934,2.358555555343628,-3.234524965286255,-1.6369504928588867,-2.2469770908355713,2.057041645050049,-4.608489036560059,4.752683639526367,-2.9940991401672363,0.09564737230539322,6.267158031463623,-1.455594539642334,-0.940941572189331,-2.3091259002685547,10.060437202453613,-1.574678659439087,1.8784643411636353,9.691282272338867,1.3105567693710327,-2.234541893005371,-2.756415843963623,6.340918064117432,-5.231908798217773,-4.670697212219238,-1.8860533237457275,4.966135025024414,7.701409816741943,-0.18886063992977142,3.3702826499938965,-3.452259063720703,6.755407333374023,9.296989440917969,0.5365848541259766,9.10158634185791,3.0656065940856934,1.271064043045044,-2.2100491523742676,-0.44375935196876526,-3.4269587993621826,-4.597886085510254,-0.15063080191612244,-1.5325225591659546,-1.2415705919265747,7.6620378494262695,-1.7522977590560913,1.3626627922058105,-3.6387641429901123,5.713715553283691,-3.553091526031494,1.0143429040908813,7.931563377380371,9.474759101867676,-5.497500896453857,-3.5216283798217773,1.9306480884552002,9.91089916229248,-3.435883045196533,-4.320866584777832,-0.4488295614719391,-5.413389682769775,-0.44562968611717224,-1.8759928941726685,-4.4625773429870605,1.1085574626922607,-2.9950904846191406,5.187262058258057,6.377244472503662,-5.386622428894043,-4.351632595062256,3.745739459991455,5.148351669311523,-4.2409138679504395,-0.860691487789154,9.754390716552734,4.541346073150635,-2.427912473678589,0.8132377862930298,2.768573522567749,1.9995802640914917,-1.7822232246398926,1.3157824277877808,9.243270874023438,6.277998447418213,1.3347070217132568,-5.404796600341797,5.636542320251465,3.2795217037200928,0.707904040813446,3.7502377033233643,-2.727281332015991,-5.504461288452148,6.576191425323486,9.887398719787598,2.9169554710388184,-2.1021366119384766,-3.057598352432251,2.5749521255493164,-4.5899434089660645,1.4186980724334717,10.432268142700195,-4.798573017120361,6.0260210037231445,-4.879843711853027,-4.611782073974609,-4.582866668701172,-5.454268932342529,-5.466723442077637,-0.8607417345046997,-5.342223644256592,-2.7756943702697754,-0.9240725636482239,-4.851234436035156,-4.777585506439209,8.146106719970703,6.166783332824707,4.168875694274902,1.4280085563659668,8.529597282409668,-0.14474110305309296,-4.17323637008667,-1.381234049797058,-5.283560276031494,-1.6955885887145996,-1.7954399585723877,-0.22548127174377441,-1.4999655485153198,-5.0581254959106445,-1.7317379713058472,-4.905355453491211,8.461542129516602,10.450328826904297,1.2651851177215576,-1.193258285522461,-5.487000942230225,-2.758978843688965,-1.1827174425125122,-4.506410598754883,-4.505249500274658,1.3473516702651978,6.263777256011963,-4.050987720489502,-5.403181552886963,-4.112121105194092,-4.4058451652526855,-1.9843759536743164,4.224001884460449,6.3159894943237305,-4.862037181854248,-1.6247644424438477,6.335836887359619,-5.449008464813232,1.3315964937210083,9.277619361877441,-3.2152554988861084,1.9779917001724243,-4.802194595336914,-5.49229097366333,-0.15987320244312286,-0.039603736251592636,-4.591347694396973,1.1783369779586792,-4.526779651641846,10.365347862243652,0.14662891626358032,6.392459392547607,-1.9759793281555176,-5.054786205291748,8.111576080322266,-2.0292255878448486,-1.2084269523620605,-3.3744571208953857,-3.4842236042022705,1.3780251741409302,-1.1380679607391357,-4.45378303527832,1.5996524095535278,4.197788715362549,-4.03381872177124,-1.3101072311401367,-4.420534133911133,-5.109267711639404,10.222623825073242,-5.106622695922852,-0.5909942388534546,5.484614372253418,-3.9294772148132324,-3.351612091064453,-5.189997673034668,-4.338359355926514,3.7130448818206787,-1.953137993812561,-4.678560256958008,0.019488731399178505,1.2515029907226562,8.76360034942627,5.227221965789795,-5.329818248748779,-5.4599175453186035,0.24187500774860382,0.3191432058811188,-2.750060796737671,1.0068371295928955,4.585065841674805,-2.1235482692718506,9.71683406829834,-1.6928330659866333,6.098049640655518,-5.1965813636779785,8.243582725524902,-3.6113698482513428,-3.415229082107544,2.75578236579895,-3.5051071643829346,1.5699987411499023,1.1350452899932861,1.102416753768921,-5.332915306091309,4.031665802001953,-4.731795310974121,-4.566395282745361,-1.2714860439300537,-0.9312565922737122,-0.16312465071678162,1.9914971590042114,-4.83172082901001,-1.9223368167877197,-4.7394609451293945,-2.728252649307251,7.748123645782471,-5.384932994842529,-3.0919981002807617,-0.3720450699329376,0.17206650972366333,9.100645065307617,1.4448089599609375,1.2593351602554321,10.327821731567383,-4.195008277893066,-1.0938225984573364,-4.84128475189209,1.1751370429992676,-5.1703996658325195,-4.050988674163818,-4.11745023727417,-4.179332256317139,-1.1462018489837646,-1.8768916130065918,-4.835037708282471,-5.507254123687744,6.026318550109863,6.367880344390869,6.4580888748168945,-5.487241744995117,-4.506720066070557,0.7880037426948547,9.673436164855957,3.901872396469116,3.8113462924957275,-2.898343324661255,-5.175162315368652,-3.1933963298797607,0.5517266988754272,-3.1507911682128906,-2.1497325897216797,10.271169662475586,1.4227396249771118,9.553640365600586,6.372124671936035,-4.050987720489502,-4.94002103805542,10.491333961486816,-5.5341644287109375,2.633235216140747,5.205277919769287,0.8809886574745178,-4.550502777099609,-3.961904287338257,1.6834886074066162,-5.503296852111816,7.20648193359375,6.358652591705322,-1.1901702880859375,-0.8944856524467468,-4.986282825469971,6.343596458435059,10.277962684631348,-1.245661973953247,-0.6527617573738098,8.410080909729004,10.423368453979492,9.757768630981445,2.64224910736084,8.668021202087402,1.2065186500549316,1.4168858528137207,-3.0545239448547363,10.394669532775879,-2.9662020206451416,1.3493708372116089,-4.144509792327881,6.353267669677734,-2.047152042388916,10.26285171508789,-3.256399154663086,-3.050579309463501,-0.32677897810935974,1.4261713027954102,10.306550979614258,-1.1602225303649902,1.293047308921814,3.3469293117523193,-5.314779281616211,-1.6642385721206665,-5.06252384185791,-4.692314147949219,-4.733876705169678,-1.945529818534851,-4.892592430114746,3.6955928802490234,-0.6809808611869812,8.98024845123291,2.041382312774658,3.5157597064971924,1.0834250450134277,-0.8087265491485596,-2.0002763271331787,-2.4702045917510986,3.990631341934204,4.536384105682373,-1.05198335647583,-0.9885050058364868,-4.69989013671875,-0.9079418182373047,-1.0153615474700928,7.684318542480469,-0.6751040816307068,4.58544921875,-2.0507404804229736,2.98462176322937,-5.420749664306641,-0.16406778991222382,5.968701362609863,-2.247982978820801,1.4466273784637451,7.477700233459473,6.652462005615234,-3.520777940750122,-5.4511847496032715,-1.9801160097122192,6.641922950744629,-0.5626464486122131,-2.7308144569396973,4.820221900939941,0.8008939623832703,-5.416709899902344,-3.187382221221924,1.2417739629745483,0.6470460295677185,8.745370864868164,2.125737428665161,-0.9242772459983826,-5.504581928253174,-5.456937789916992,-1.9843946695327759,-5.342215061187744,-2.813490152359009,10.21007251739502,-1.3827399015426636,-3.132817268371582,5.1393585205078125,-2.400158166885376,2.4696385860443115,3.94736385345459,-4.124901294708252,7.533231735229492,9.444315910339355,4.251745223999023,-4.768261909484863,10.006900787353516,0.3610626459121704,-5.162294387817383,-0.9275461435317993,-1.6184972524642944,-5.506336212158203,-2.8216896057128906,-1.0924313068389893,-0.570507824420929,7.9119462966918945,-2.4026694297790527,-2.3131656646728516,4.277073860168457,-4.698520183563232,-5.413820266723633,-0.8484066724777222,-4.559272289276123,-5.248602390289307,-2.9313502311706543,-1.4603629112243652,-1.3502479791641235,-5.4149603843688965,-4.988320350646973,-4.108424186706543,-3.2041807174682617,1.1350042819976807,6.601355075836182,10.20775318145752,10.072104454040527,-0.15518222749233246,-4.953228950500488,4.048681259155273,7.850567817687988,-5.270426273345947,6.481591701507568,-5.243926525115967,-5.479226589202881,-2.0669643878936768,3.6454267501831055,2.626710891723633,0.13084369897842407,1.4311823844909668,-4.84364652633667,8.13191032409668,8.835183143615723,-3.689347982406616,2.3436882495880127,3.2987899780273438,7.602194786071777,1.2277878522872925,-1.3823813199996948,-4.010562896728516,-1.4934988021850586,-3.4684596061706543,5.5120463371276855,4.5895891189575195,-3.3591692447662354,-2.3420217037200928,-1.9834398031234741,-4.323586940765381,0.9281453490257263,3.5177292823791504,-1.0314230918884277,-2.1189146041870117,-5.339818477630615,-1.8333674669265747,-1.2406964302062988,-4.555016994476318,-0.4513729214668274,9.712394714355469,2.4524734020233154,-1.693576693534851,9.949773788452148,9.385223388671875,6.002956867218018,-4.951575756072998,-4.777587890625,-4.635975360870361,-3.878404140472412,-2.121854543685913,10.419520378112793,-4.746312618255615,8.824446678161621,5.330611228942871,10.405359268188477,2.796360492706299,-1.1796886920928955,-1.624006986618042,-1.2999615669250488,-2.5197601318359375,4.692242622375488,6.771868705749512,-1.5062847137451172,-1.345033884048462,-1.9061152935028076,-3.8978288173675537,3.597862720489502,-2.0156641006469727,6.151226997375488,5.439280033111572,-4.357545852661133,-0.2318267822265625,-3.9793741703033447,5.930161476135254,5.912702560424805,5.085682392120361,-4.5530877113342285,-4.601256847381592,0.13806888461112976,9.003597259521484,-4.757020473480225,9.981364250183105,9.478026390075684,-5.273460388183594,-0.4989981949329376,-3.0609676837921143,6.2792792320251465,1.091945767402649,-5.497562885284424,-5.2251129150390625,-3.9583754539489746,-4.565792083740234,-4.161500930786133,1.7516709566116333,-1.1467461585998535,1.5472716093063354,0.9695100784301758,-0.9138659834861755,10.428966522216797,-5.412815570831299,-1.597723126411438,7.902681827545166,6.277228355407715,6.936558246612549,-3.750995397567749,-1.02459716796875,1.0830001831054688,-4.683098316192627,-1.0994584560394287,-3.408557891845703,-0.9196072816848755,9.418914794921875,-5.141639232635498,6.0872368812561035,-2.0466246604919434,6.221519470214844,-3.780574083328247,6.336155414581299,6.494004726409912,0.44418343901634216,-5.169372081756592,9.07735824584961,-2.2215709686279297,5.7426438331604,-2.603242874145508,-5.018416404724121,-2.99210524559021,-5.000270366668701,1.8901656866073608,-4.492565155029297,8.140490531921387,-3.1556742191314697,9.394829750061035,-3.593735694885254,0.8824899196624756,-4.532530784606934,-5.216936111450195,9.561369895935059,-4.776621341705322,-4.600015163421631,-3.5031819343566895,-2.9915153980255127,-2.701566457748413,-3.392625093460083,-0.9972009062767029,4.82445764541626,8.989726066589355,-1.5364327430725098,4.758808135986328,-1.6426618099212646,4.8155107498168945,8.366087913513184,3.7195663452148438,-4.80219030380249,-2.752174139022827,-4.106733798980713,1.6227772235870361,3.5679943561553955,-5.36018705368042,-4.784688949584961,-4.541904449462891,-5.3913092613220215,-5.463134288787842,-0.44577011466026306,8.875066757202148,1.248364806175232,-1.0596963167190552,-3.7958292961120605,-3.5910396575927734,6.340055465698242,9.848424911499023,-5.2057785987854,10.373427391052246,-1.3068492412567139,6.011627674102783,-1.91252601146698,8.362347602844238,2.4250521659851074,-0.05855090543627739,4.575927734375,-2.323932647705078,-5.457850933074951,6.394516468048096,9.09019947052002,4.057009220123291,-3.3385891914367676,-5.1127190589904785,2.926625967025757,8.708532333374023,1.4230022430419922,6.320627689361572,-1.3183412551879883,-5.122612953186035,-5.489194869995117,-2.0403125286102295,-3.9333925247192383,1.420987606048584,-1.2778375148773193,-5.478318691253662,4.320873737335205,-2.134312629699707,1.6181621551513672,-5.346039772033691,-5.497656345367432,-4.245158672332764,-5.47855281829834,-4.58189582824707,-1.0942667722702026,10.39049243927002,-4.757249355316162,4.728181838989258,-2.940685510635376,-3.686964273452759,-4.725376129150391,-1.6665380001068115,-1.0235223770141602,-4.506211280822754,-5.151280879974365,-2.744427442550659,-3.634692430496216,4.227935791015625,-1.297865390777588,-1.292966604232788,10.471714973449707,-4.534836292266846,-5.144774436950684,-4.310948371887207,6.895665645599365,6.546179294586182,-5.5061516761779785,7.877094268798828,-5.423911094665527,-4.1429548263549805,1.3361093997955322,-2.843247652053833,-5.149176120758057,1.262349009513855,6.2757673263549805,-0.8610841631889343,1.4947906732559204,9.317946434020996,-3.2673511505126953,-3.3043339252471924,-5.109699249267578,6.984587669372559,7.8714070320129395,-1.0319150686264038,-4.421029090881348,-4.487296104431152,-4.46943998336792,-0.8667700886726379,-1.5502203702926636,-0.5705077648162842,-1.4895986318588257,-2.2695767879486084,3.5514607429504395,-4.8494391441345215,10.328729629516602,10.006890296936035,4.8744025230407715,-5.433635711669922,-3.833209753036499,-5.235286235809326,-0.57828688621521,-5.360099792480469,-3.1660897731781006,-5.408269882202148,-3.463226556777954,-0.5705080032348633,-5.372504711151123,1.7903722524642944,-4.36096715927124,8.68060302734375,6.330389022827148,9.979928970336914,-4.517041206359863,-1.9139410257339478,-5.1023101806640625,-4.422122478485107,-4.272693157196045,-5.458343982696533,1.3719316720962524,10.113836288452148,-5.113376140594482,-5.003315448760986,6.728211879730225,-2.1160404682159424,-5.169743061065674,9.460530281066895,-1.222052812576294,-1.374472975730896,0.8253499269485474,-1.8358558416366577,-3.591881513595581,6.272840976715088,-3.1274425983428955,4.250726699829102,-0.9527767896652222,0.8589452505111694,2.335078477859497,-3.6357879638671875,-4.965795993804932,4.649165153503418,-4.9553070068359375,-4.861704349517822,-4.153301239013672,-3.844541072845459,-4.512227535247803,-2.750718593597412,1.0944099426269531,-5.020040035247803,6.129092693328857,-3.395470380783081,-3.823838472366333,-4.658637046813965,6.350015163421631,-4.301029205322266,-1.7731592655181885,3.6474955081939697,-2.7380530834198,-5.053983688354492,-2.7535462379455566,5.791210651397705,-1.7741981744766235,-3.5083792209625244,-4.632823467254639,9.603904724121094,3.4847676753997803,-1.6570649147033691,-3.115751266479492,6.279809474945068,-4.087072849273682,-2.041356086730957,1.5818665027618408,-4.496452808380127,-0.44799256324768066,-4.260760307312012,1.298596978187561,-3.906010389328003,6.277123928070068,6.35387659072876,-1.3132336139678955,-5.152214527130127,-4.963708877563477,3.0105485916137695,8.512052536010742,-1.0151787996292114,6.247319221496582,1.233610987663269,-1.2767250537872314,-2.3984172344207764,9.983914375305176,-3.137420415878296,-3.370537281036377,-5.295849323272705,-5.2992072105407715,-5.473022937774658,1.1031414270401,-1.2512121200561523,-4.844995975494385,-0.12633644044399261,-5.248204708099365,8.325482368469238,-4.477941036224365,-0.9870886206626892,6.3645734786987305,-0.20685000717639923,3.71520733833313,-4.307267665863037,-3.922098159790039,8.073577880859375,0.5093817710876465,-0.43964332342147827,-3.1762959957122803,-2.2596421241760254,-5.429027557373047,-5.471367835998535,5.365560531616211,8.091011047363281,9.580729484558105,-1.7452079057693481,-0.3776218891143799,-2.1428964138031006,-5.152229309082031,-5.447507858276367,-4.364621162414551,-0.9606572985649109,-1.8014004230499268,-5.258398532867432,1.1178196668624878,-5.425286293029785,1.7742154598236084,-4.747703552246094,0.027140621095895767,0.7493797540664673,-1.5497503280639648,-4.4314727783203125,4.769416809082031],\"z\":[8.023832321166992,4.180942535400391,-1.1540851593017578,6.587283134460449,5.480426788330078,3.299274206161499,9.694684982299805,7.537285804748535,-5.477457046508789,-3.6523256301879883,8.050443649291992,-4.127293586730957,0.6613579988479614,-0.020426349714398384,-1.8707726001739502,7.729330062866211,-1.393170952796936,-4.405417442321777,7.639029026031494,8.911820411682129,3.7884955406188965,5.632766246795654,9.057385444641113,0.11678154021501541,-2.601552724838257,-4.8043718338012695,8.921045303344727,7.764444828033447,7.1589674949646,7.748096466064453,-0.06081565469503403,7.740544319152832,8.076062202453613,-3.2052600383758545,4.6192193031311035,-5.424893856048584,4.061842441558838,9.055389404296875,9.260971069335938,8.536643981933594,-4.801693916320801,-5.786396026611328,9.093711853027344,9.281266212463379,-5.4515061378479,8.296862602233887,-0.5196525454521179,4.1950788497924805,9.766214370727539,9.156941413879395,9.77144718170166,5.191557884216309,7.602633953094482,8.006612777709961,1.9135466814041138,-3.965684413909912,-10.056925773620605,9.831085205078125,-3.622626304626465,-8.375417709350586,-5.880107402801514,2.1034886837005615,-0.03143521025776863,-2.9421114921569824,-2.606766700744629,-5.355685710906982,-1.433585524559021,-0.43372899293899536,7.534315586090088,-6.161477088928223,5.914694309234619,-3.26271390914917,1.2890452146530151,-2.1192469596862793,-2.456275463104248,9.538579940795898,4.99343729019165,0.24178080260753632,9.786815643310547,-4.943888187408447,-10.198748588562012,1.6466960906982422,-1.3302550315856934,-3.829007625579834,-6.242239952087402,2.536586046218872,1.2708486318588257,0.6956363916397095,3.967430830001831,9.379277229309082,7.733907699584961,-0.7729215621948242,-1.29874849319458,-1.1263620853424072,-4.390700340270996,1.1160672903060913,-2.8292880058288574,-5.407689094543457,6.949879169464111,-2.71917724609375,3.0038630962371826,-3.0624279975891113,-5.612730026245117,3.91298770904541,-2.4748079776763916,-0.5400015711784363,7.668474197387695,10.030014038085938,6.904431343078613,-4.219801902770996,7.929415225982666,-4.708973407745361,-2.283203363418579,-5.6499924659729,7.649356365203857,9.90981388092041,7.648406028747559,2.340214967727661,5.23726224899292,2.893268346786499,5.981759548187256,6.984187602996826,1.555681586265564,-1.730592966079712,6.14240837097168,-7.747625827789307,7.201879501342773,-4.0264129638671875,7.215767860412598,-1.3360587358474731,-2.3076536655426025,-5.215353965759277,4.865849018096924,-4.073390960693359,10.320869445800781,7.151961803436279,10.511909484863281,9.090343475341797,-4.078379154205322,7.947305202484131,-6.219163417816162,2.535203695297241,9.446096420288086,2.290753126144409,1.6879632472991943,-0.482382208108902,-7.255163669586182,-2.0360841751098633,-2.5119147300720215,3.309051990509033,9.739845275878906,3.6147549152374268,-3.901630163192749,9.89039134979248,3.2096168994903564,-1.655519723892212,-1.9363396167755127,7.95562744140625,5.58340311050415,7.333583831787109,2.1154510974884033,2.7825734615325928,0.33764100074768066,7.75707483291626,-2.0956132411956787,8.114795684814453,2.810972213745117,-0.23537594079971313,-2.664562702178955,7.193784713745117,-2.743792772293091,10.021467208862305,-1.288371205329895,4.352978229522705,-3.686338424682617,-11.190001487731934,-3.2185580730438232,4.366847515106201,-10.480273246765137,0.51288902759552,8.151275634765625,3.0217084884643555,9.894947052001953,0.1219203919172287,2.561842918395996,4.303576946258545,-1.4403817653656006,9.295028686523438,-2.71574068069458,-5.05242919921875,-2.7531802654266357,-1.9292699098587036,6.992001056671143,-2.283297300338745,-5.900488376617432,-2.4524054527282715,8.120094299316406,4.485002040863037,0.29674091935157776,0.6776799559593201,-7.548333644866943,4.599782466888428,3.980513334274292,-7.65656852722168,10.179352760314941,-1.8472856283187866,1.5366761684417725,8.080352783203125,-4.008045196533203,-3.7481303215026855,-8.246000289916992,8.039864540100098,-0.4539223909378052,-3.4839563369750977,9.640522003173828,-0.12839914858341217,-3.381073236465454,9.489324569702148,3.750939130783081,-5.084726810455322,-2.9432570934295654,7.720311164855957,-6.408857822418213,0.4053783714771271,4.635363578796387,1.0446490049362183,-6.222019672393799,8.112509727478027,1.5025935173034668,-2.069695234298706,-0.2803404629230499,3.097792148590088,7.938542366027832,-2.257232904434204,0.98851478099823,4.968994617462158,8.333881378173828,-7.388716220855713,8.462876319885254,6.285850524902344,1.8150686025619507,-1.6608340740203857,-1.9719057083129883,8.500347137451172,-1.2295559644699097,8.534127235412598,-6.3570332527160645,9.3306245803833,-2.9138193130493164,-0.8814263343811035,-5.743157386779785,7.314633846282959,-2.5211856365203857,7.757415294647217,6.69917631149292,7.842249870300293,10.537452697753906,-1.0487816333770752,-0.6989534497261047,-0.7588380575180054,-1.313852310180664,0.45253804326057434,4.071267604827881,9.749499320983887,-4.344232082366943,6.632842540740967,-4.591104507446289,0.2181083709001541,-6.784148693084717,-4.18572473526001,-0.5608069896697998,0.6892488598823547,2.5680222511291504,8.165899276733398,9.891733169555664,-5.409169673919678,4.824791431427002,7.5528693199157715,-2.513925313949585,2.529245376586914,7.6533637046813965,-7.143929958343506,-0.1621115356683731,8.443171501159668,3.231391429901123,-4.373909950256348,-2.6183104515075684,-2.35978364944458,-1.839255452156067,-10.018465042114258,6.913914203643799,-3.3450539112091064,-0.0888693630695343,-0.9364579916000366,0.15350329875946045,3.865750789642334,-4.520933151245117,-3.3480191230773926,5.417367935180664,0.6780627369880676,3.3836159706115723,-2.928696632385254,2.5595078468322754,3.963047742843628,0.47753632068634033,11.221163749694824,-8.588517189025879,-2.7085039615631104,-5.676689624786377,7.877095699310303,-4.008044719696045,8.8014554977417,7.900768280029297,-8.038130760192871,-3.429612159729004,-2.7162632942199707,5.843575954437256,9.89388656616211,8.075897216796875,7.428821563720703,6.27808952331543,10.17529296875,-1.1328518390655518,-2.2353477478027344,-5.552821159362793,-1.3413808345794678,4.706732749938965,7.864334583282471,6.465660095214844,1.5425399541854858,7.733173847198486,-2.7556066513061523,-0.7758206725120544,8.471901893615723,2.131908893585205,8.563484191894531,-4.008045196533203,8.104048728942871,-0.11949378252029419,3.913302183151245,-2.649486541748047,-1.3085321187973022,8.455713272094727,-2.3676161766052246,7.7924604415893555,-1.5698573589324951,5.7353057861328125,6.286847114562988,8.372550964355469,-7.57740592956543,-10.729111671447754,-6.142110347747803,9.175040245056152,0.7809227108955383,-7.007534980773926,4.162215709686279,4.635371685028076,-0.001626170938834548,2.457124948501587,8.760370254516602,4.1571879386901855,-6.311679840087891,2.8600001335144043,5.2549967765808105,0.5736599564552307,4.46891975402832,1.6925053596496582,7.876488208770752,8.147692680358887,8.338732719421387,0.8745246529579163,6.0312042236328125,7.753940105438232,7.094935894012451,2.5264461040496826,-0.6261084079742432,-7.888038635253906,1.0601975917816162,8.956217765808105,-3.224975109100342,8.158402442932129,-5.88958740234375,-2.558793067932129,-3.336623430252075,-0.7575720548629761,0.0710601806640625,0.06564106792211533,7.449075222015381,-3.20100998878479,-5.034121036529541,-3.4337403774261475,2.285249710083008,4.401722431182861,-0.3418491780757904,2.5191099643707275,-2.28889799118042,9.436769485473633,-8.991514205932617,-1.6065809726715088,8.147212982177734,-0.13707435131072998,-9.377908706665039,-4.585413455963135,7.4470977783203125,-1.631895899772644,8.340526580810547,-3.3015592098236084,7.3731255531311035,0.28336259722709656,9.927635192871094,-5.479672431945801,-3.1744978427886963,-5.140120506286621,7.900189399719238,7.660107135772705,-4.124651908874512,-1.3060390949249268,7.341089725494385,1.2950668334960938,7.940200328826904,-2.0930745601654053,4.667474269866943,-4.078559398651123,6.375331401824951,0.6903197765350342,4.856553554534912,-3.4148168563842773,-2.961334705352783,-10.477588653564453,5.0960259437561035,6.7059502601623535,8.316001892089844,3.1223537921905518,8.102264404296875,1.1725268363952637,-5.643681526184082,-1.6450982093811035,9.714943885803223,2.1324045658111572,-0.04096492752432823,9.158207893371582,7.874180793762207,-4.214090347290039,2.928882122039795,9.315826416015625,-0.4068180322647095,1.7512272596359253,-4.462702751159668,1.7425034046173096,-10.382935523986816,-3.43168044090271,5.490193843841553,4.727080345153809,-8.603494644165039,7.331921577453613,5.26165771484375,2.147428512573242,-3.5075621604919434,-2.3146414756774902,8.146195411682129,3.349256992340088,-11.35444450378418,-2.306891918182373,-5.129430770874023,7.81480598449707,-4.897792339324951,-5.959899425506592,7.400473594665527,0.8956428170204163,8.743401527404785,7.725277423858643,-0.06839458644390106,7.3621826171875,-0.9605614542961121,1.5713939666748047,6.911343574523926,0.1297789067029953,-5.50820779800415,5.355269432067871,-3.069258689880371,7.850857734680176,2.3524041175842285,6.434365272521973,-1.4327518939971924,9.042803764343262,-2.4949755668640137,2.7004201412200928,2.0532655715942383,8.142083168029785,-4.0056376457214355,-1.1244577169418335,7.605546474456787,-0.6749619245529175,8.82676887512207,5.694578647613525,4.058770656585693,-2.9963479042053223,8.471590995788574,-6.058473587036133,6.463022708892822,-3.9225637912750244,9.47507381439209,6.476027011871338,1.019931674003601,8.313764572143555,7.996143817901611,-5.722359657287598,0.0848032534122467,-6.141502380371094,-2.8627068996429443,7.3612380027771,-2.3318097591400146,-7.056512355804443,-1.3450013399124146,0.21403072774410248,-2.1609575748443604,-4.6673383712768555,-1.9231884479522705,-1.6231098175048828,-2.740825891494751,9.92995834350586,0.07879190891981125,-2.659444808959961,-0.974432110786438,8.099828720092773,0.9155927300453186,-0.3740484118461609,8.14908218383789,-2.291120767593384,9.792404174804688,-0.03329050540924072,-5.6921844482421875,-7.689842700958252,-3.388664484024048,-2.2354400157928467,2.7842917442321777,-5.199739456176758,6.927534103393555,-4.464599609375,-6.012140274047852,8.274003982543945,7.8668904304504395,9.034003257751465,-3.55254864692688,9.941839218139648,9.82983112335205,10.499414443969727,6.990194797515869,7.784130096435547,9.94847583770752,-4.371824741363525,-3.920006036758423,-2.2242119312286377,10.060774803161621,3.3510327339172363,3.6500978469848633,8.14910888671875,1.810376524925232,2.8343746662139893,7.606837749481201,2.030411958694458,7.755664825439453,9.811816215515137,-4.903195381164551,6.031652450561523,7.753093242645264,7.77753210067749,-1.4545332193374634,8.894954681396484,-3.1428349018096924,-8.03134822845459,-2.100368022918701,2.5577049255371094,-2.2270562648773193,0.2522793114185333,3.561666488647461,-3.6190555095672607,-4.267293453216553,9.72610092163086,6.482696533203125,7.656322956085205,-9.274837493896484,2.40504789352417,-2.5506303310394287,-8.529635429382324,6.7094292640686035,-10.537073135375977,-2.696981906890869,1.5589383840560913,9.939778327941895,8.341251373291016,8.036872863769531,7.699764728546143,9.501333236694336,7.804780960083008,-0.38224875926971436,-2.9677011966705322,-3.066098690032959,1.0908502340316772,9.91918659210205,3.2148749828338623,-2.8455650806427,5.007290363311768,0.8454843163490295,-5.952504634857178,10.202117919921875,-3.9910507202148438,6.129125595092773,-2.2942590713500977,7.647029876708984,-4.20850133895874,-2.1343467235565186,2.167766571044922,-2.411818504333496,-2.655611753463745,8.115071296691895,7.655973434448242,4.982182025909424,3.726114273071289,8.464144706726074,-9.59416389465332,9.58105182647705,-3.1726198196411133,-2.0285255908966064,-1.9774162769317627,-3.221498727798462,9.575333595275879,4.559291839599609,-5.684183120727539,8.147276878356934,7.981496810913086,7.861823081970215,2.314743757247925,-3.9790053367614746,-4.27617883682251,-2.662195920944214,-1.4950493574142456,3.8682403564453125,6.611999988555908,7.213705539703369,3.858177423477173,0.3763650357723236,-8.948944091796875,7.610869407653809,7.655063152313232,8.85971736907959,-1.8802385330200195,3.531639814376831,-0.29732048511505127,-6.389737606048584,9.941865921020508,-1.0142351388931274,4.643861293792725,-1.2902024984359741,-7.050291061401367,-2.130972146987915,1.662493348121643,6.659328937530518,8.448829650878906,3.552112102508545,0.00461471127346158,7.6947503089904785,7.963886737823486,2.7882282733917236,-3.434583902359009,2.674795150756836,9.6322021484375,-0.7889283299446106,-5.829193592071533,4.636568069458008,-0.10374388843774796,-3.626755475997925,2.346724510192871,-6.680942535400391,6.4651288986206055,-4.141644477844238,0.5307989716529846,-6.549740791320801,-3.3441689014434814,5.0138139724731445,7.951295852661133,4.3844990730285645,9.950194358825684,7.838028430938721,-0.3478427231311798,-2.617298126220703,9.536154747009277,4.436002731323242,7.796934604644775,-0.204979807138443,-6.093867301940918,-1.9670584201812744,-1.670032024383545,1.663851261138916,7.916165828704834,7.345914363861084,-1.4437615871429443,-6.480380058288574,-6.528578281402588,-0.16295981407165527,-2.2312989234924316,7.914970397949219,9.41636848449707,6.780567646026611,7.327363967895508,5.631810665130615,-4.319630146026611,3.29301118850708,9.222593307495117,3.6157612800598145,8.21288013458252,-2.983468770980835,-1.5640841722488403,7.51279354095459,-11.186084747314453,0.14579899609088898,-2.7154505252838135,6.012742042541504,7.703475475311279,7.968389987945557,-4.159041881561279,5.32456636428833,-9.199810981750488,10.370224952697754,-1.4979653358459473,-7.352864742279053,-11.110882759094238,-4.055324554443359,7.3319220542907715,-4.622258186340332,0.7828043699264526,-5.49735689163208,-2.7458314895629883,0.7472624182701111,1.751224160194397,-2.1854465007781982,6.859715938568115,7.962826728820801,-5.149205684661865,7.34015417098999,7.273015022277832,7.72846794128418,7.03464937210083,6.779963493347168,7.3319220542907715,-3.611010789871216,-3.372040033340454,9.424049377441406,-2.534451961517334,9.508666038513184,-1.5326547622680664,-1.5648771524429321,-0.9984965324401855,1.3896008729934692,8.04743480682373,-7.857614994049072,-3.4482181072235107,3.3449149131774902,1.3643722534179688,0.5337834358215332,0.8337002992630005,7.618827819824219,1.1080784797668457,1.8149436712265015,3.0406785011291504,-7.248478889465332,-5.723979949951172,-2.1052069664001465,-1.6051576137542725,7.653530597686768,9.177155494689941,7.736362457275391,-5.235138416290283,-0.24332906305789948,-0.4661572277545929,5.454577922821045,7.349681377410889,-6.1267266273498535,9.493983268737793,-6.1793904304504395,8.136329650878906,8.877327919006348,7.997574329376221,-1.7607401609420776,4.345632076263428,2.1830482482910156,8.054512023925781,8.636480331420898,8.4654541015625,7.93316650390625,-2.546774387359619,9.84261703491211,9.122803688049316,8.20618724822998,-1.2396290302276611,7.938765048980713,-2.863337278366089,7.934158802032471,-2.3894782066345215,-2.102750539779663,6.937430381774902,-2.5182912349700928,-2.3964130878448486,9.00202465057373,-3.0871660709381104,5.51509952545166,7.807779788970947,-8.141924858093262,0.7342857718467712,8.495372772216797,-1.8640415668487549,-5.959846019744873,7.9574666023254395,1.1094428300857544,8.178287506103516,9.721447944641113,8.946028709411621,-2.2699434757232666,7.907906532287598,-3.503875494003296,-0.8401103615760803,4.480888843536377,-9.977117538452148,-3.034950017929077,0.27199482917785645,-1.1800930500030518,2.123910903930664,-1.5614534616470337,7.736870288848877,7.688058376312256,-3.187587261199951,2.5802056789398193,4.273133277893066,4.276925086975098,-1.5662325620651245,-2.7102530002593994,-0.33890196681022644,-5.154654502868652,-3.8048923015594482,-1.8460536003112793,-9.678705215454102,8.603174209594727,0.38666728138923645,-1.3258520364761353,-7.7611517906188965,7.8524298667907715,5.043272972106934,-1.6403037309646606,7.187938213348389,5.733027935028076,1.3549960851669312,-3.4281883239746094,-3.7909412384033203,9.803722381591797,-4.026215553283691,2.7362658977508545,-2.34112548828125,3.6704108715057373,-5.962344646453857,-5.593503952026367,3.5739388465881348,8.013167381286621,-9.855096817016602,-1.8847966194152832,-3.0584487915039062,-6.533404350280762,6.9464430809021,-6.809141635894775,-5.716111660003662,-0.7885069847106934,-7.10180139541626,-4.062816143035889,9.391008377075195,-4.80306339263916],\"type\":\"scatter3d\"},{\"hovertemplate\":\"Dominant_Topic=Topic 1<br>0=%{x}<br>1=%{y}<br>2=%{z}<extra></extra>\",\"legendgroup\":\"Topic 1\",\"marker\":{\"color\":\"#EF553B\",\"opacity\":0.7,\"symbol\":\"circle\"},\"mode\":\"markers\",\"name\":\"Topic 1\",\"scene\":\"scene\",\"showlegend\":true,\"x\":[-0.5231135487556458,-0.9390614032745361,-0.25498467683792114,1.7900302410125732,-1.3988245725631714,0.4643424451351166,-1.3173688650131226,-0.9831690788269043,-1.4189811944961548,-1.7101411819458008,-0.9853276014328003,-0.7705010771751404,-1.5310444831848145,-1.7440638542175293,-0.5703373551368713,-1.7346487045288086,-0.3246280252933502,-1.3620848655700684,-1.568669319152832,-0.17687955498695374,-1.6172304153442383,-1.6814998388290405,-1.2296730279922485,-1.3053562641143799,-0.292945921421051,-1.2816448211669922,1.7112617492675781,-1.2175968885421753,0.8408234715461731,-1.471930742263794,-0.7248226404190063,-0.6293365359306335,-1.5886609554290771,1.8134289979934692,-0.3593871593475342,-1.3076473474502563,1.5804938077926636,-1.3256679773330688,-1.3035786151885986,-0.49316978454589844,-1.7504878044128418,-0.4224156141281128,-1.2175122499465942,-1.536072850227356,0.982978343963623,-1.2780957221984863,1.7549506425857544,-0.22089801728725433,-0.9247816205024719,-0.9800420999526978,-0.858616054058075,1.6196568012237549,-0.26012957096099854,1.4737412929534912,-0.5112264752388,-0.8568845391273499,0.4355089068412781,-1.3341203927993774,-0.1955222636461258,-1.4628900289535522,-1.591842770576477,-1.2016547918319702,-1.086716651916504],\"y\":[7.187859535217285,7.111286163330078,7.290261745452881,2.159689426422119,6.749573707580566,3.1124765872955322,6.383424282073975,6.664154052734375,6.704300403594971,6.582409858703613,7.090958118438721,7.170205116271973,6.054215431213379,6.190640926361084,7.209079742431641,6.118195533752441,7.257560729980469,6.788174629211426,6.577244758605957,7.316925525665283,6.321126937866211,6.571657657623291,5.35459041595459,6.314048767089844,4.316083908081055,6.4165191650390625,2.633687734603882,5.468856334686279,2.5070884227752686,6.705236911773682,7.1628642082214355,5.537042617797852,6.321435451507568,2.2227609157562256,7.209377765655518,6.627624988555908,5.400882720947266,6.826352596282959,5.82987117767334,4.492519378662109,6.1753106117248535,5.951270580291748,5.31446647644043,6.058928966522217,6.059586524963379,5.496739387512207,2.111813545227051,7.295566082000732,7.113820552825928,7.097908020019531,7.011467456817627,2.4782536029815674,4.217405319213867,5.476043701171875,7.174285411834717,5.066617012023926,3.1528005599975586,6.654866695404053,7.309166431427002,5.846592903137207,6.654264450073242,5.34230899810791,7.037524700164795],\"z\":[-6.418483257293701,-7.397829055786133,-5.80136775970459,-7.76816987991333,-8.990988731384277,-9.519997596740723,-10.20514965057373,-7.925250053405762,-9.102663040161133,-9.839082717895508,-7.530689239501953,-6.95379114151001,-10.531987190246582,-9.876166343688965,-6.486640930175781,-10.188968658447266,-5.956050872802734,-8.837913513183594,-9.324207305908203,-5.641781806945801,-9.51134967803955,-9.433342933654785,-10.961695671081543,-9.529424667358398,-9.849610328674316,-10.10445499420166,-7.983766078948975,-10.63454532623291,-9.281445503234863,-9.235883712768555,-6.863298416137695,-2.695916175842285,-10.300705909729004,-7.731368541717529,-6.0793938636779785,-9.7389497756958,-5.378960132598877,-8.690577507019043,-10.127395629882812,-10.17082691192627,-9.953540802001953,-2.893498420715332,-11.014745712280273,-10.518518447875977,-5.45609712600708,-10.810759544372559,-7.834659576416016,-5.735028266906738,-7.361262798309326,-7.512216567993164,-7.285144805908203,-8.13500690460205,-9.918183326721191,-5.445915699005127,-6.411794185638428,-2.4444475173950195,-9.53919792175293,-9.728699684143066,-5.679869174957275,-10.729703903198242,-9.873894691467285,-10.87901496887207,-7.842440128326416],\"type\":\"scatter3d\"},{\"hovertemplate\":\"Dominant_Topic=Topic 2<br>0=%{x}<br>1=%{y}<br>2=%{z}<extra></extra>\",\"legendgroup\":\"Topic 2\",\"marker\":{\"color\":\"#00cc96\",\"opacity\":0.7,\"symbol\":\"circle\"},\"mode\":\"markers\",\"name\":\"Topic 2\",\"scene\":\"scene\",\"showlegend\":true,\"x\":[1.6104100942611694,1.2118303775787354,0.6818896532058716,0.3707311749458313,1.8251020908355713,1.1052908897399902,1.1938581466674805,0.530941367149353,0.7719535827636719,0.41461312770843506,0.7544808983802795,0.6917421817779541,1.9239109754562378,0.5601908564567566,1.787864327430725,0.883213222026825,0.4953063726425171,1.734708547592163,1.578196406364441,0.5107617378234863,0.7722952961921692,-1.2015020847320557,0.33590349555015564,0.40707656741142273,0.31255561113357544,0.4387791156768799,0.6492741703987122,0.7986445426940918,0.292581707239151,0.8688247799873352,1.8002558946609497,0.5859097838401794,0.33100587129592896,0.5140240788459778,0.6904083490371704,0.5851417183876038,0.5914139747619629,0.5305609703063965,0.7369643449783325,0.4531048536300659,0.4283331036567688,0.7638776898384094,0.39739990234375,0.665554940700531,0.8004139065742493,0.632482647895813,0.4315735697746277,0.7607581615447998,0.3415633738040924,0.32355543971061707,0.7240803837776184,0.29323235154151917,0.4648934304714203,0.4313108026981354,1.6426753997802734,0.775907039642334,0.4315297305583954,0.42090216279029846,0.4947163760662079,0.5666093230247498,0.4137416481971741],\"y\":[1.775910496711731,-1.858207106590271,-3.3372435569763184,-1.1205929517745972,0.519393265247345,2.1983706951141357,1.9745402336120605,-3.5281574726104736,0.993093729019165,-1.8933273553848267,-4.072421550750732,-3.9721550941467285,-1.0600744485855103,-1.9884296655654907,0.9843990206718445,1.8983685970306396,-3.019174098968506,0.422317773103714,-1.0281310081481934,-2.699370861053467,-4.105621814727783,-1.9654358625411987,-0.7457926869392395,-1.6284602880477905,-0.5531235337257385,-2.9206926822662354,-0.6823911070823669,1.0586553812026978,-0.33774998784065247,0.04061479493975639,-1.129342794418335,-3.715989589691162,-0.703545093536377,-3.486868143081665,-0.24379543960094452,-3.310896158218384,-3.7787835597991943,-3.5188651084899902,0.3612184524536133,-2.9354159832000732,-3.187129259109497,-0.04317720979452133,-1.559348464012146,-3.932823896408081,-0.2620658576488495,-1.3496233224868774,-2.6557672023773193,1.6372536420822144,-0.7915675044059753,-0.6438263058662415,-3.551156520843506,-0.3683215379714966,-3.382406711578369,-2.8516428470611572,-1.3710132837295532,-0.8453998565673828,-2.6629788875579834,-2.7708230018615723,-2.082958221435547,-3.634032964706421,-2.2553791999816895],\"z\":[-8.130306243896484,-8.699165344238281,-9.11866283416748,-11.612723350524902,-7.782044410705566,-9.00102424621582,-8.923508644104004,-9.436891555786133,-10.300224304199219,-10.988946914672852,-8.37956428527832,-8.619341850280762,-7.311103343963623,-10.418020248413086,-7.819564342498779,-9.564109802246094,-10.050392150878906,-7.998161315917969,-8.13854694366455,-10.149418830871582,-8.309806823730469,-3.5844364166259766,-11.969430923461914,-11.173975944519043,-12.177093505859375,-10.18840503692627,-10.716509819030762,-10.185159683227539,-12.384674072265625,-10.187342643737793,-7.578593730926514,-9.128240585327148,-12.013766288757324,-9.543096542358398,-10.702917098999023,-9.693296432495117,-9.070114135742188,-9.44015121459961,-10.540008544921875,-10.157037734985352,-9.895864486694336,-10.478659629821777,-11.253144264221191,-8.736154556274414,-10.344850540161133,-10.492783546447754,-10.457399368286133,-6.532803535461426,-11.920110702514648,-12.078914642333984,-8.828065872192383,-12.366374015808105,-9.652885437011719,-10.268669128417969,-7.859227180480957,-10.259256362915039,-10.453450202941895,-10.369181632995605,-10.57911205291748,-9.245800971984863,-10.763728141784668],\"type\":\"scatter3d\"},{\"hovertemplate\":\"Dominant_Topic=Topic 3<br>0=%{x}<br>1=%{y}<br>2=%{z}<extra></extra>\",\"legendgroup\":\"Topic 3\",\"marker\":{\"color\":\"#ab63fa\",\"opacity\":0.7,\"symbol\":\"circle\"},\"mode\":\"markers\",\"name\":\"Topic 3\",\"scene\":\"scene\",\"showlegend\":true,\"x\":[-2.126715660095215,-2.134873628616333],\"y\":[0.42745956778526306,0.45213985443115234],\"z\":[-2.159464120864868,-2.1290664672851562],\"type\":\"scatter3d\"}],                        {\"template\":{\"data\":{\"histogram2dcontour\":[{\"type\":\"histogram2dcontour\",\"colorbar\":{\"outlinewidth\":0,\"ticks\":\"\"},\"colorscale\":[[0.0,\"#0d0887\"],[0.1111111111111111,\"#46039f\"],[0.2222222222222222,\"#7201a8\"],[0.3333333333333333,\"#9c179e\"],[0.4444444444444444,\"#bd3786\"],[0.5555555555555556,\"#d8576b\"],[0.6666666666666666,\"#ed7953\"],[0.7777777777777778,\"#fb9f3a\"],[0.8888888888888888,\"#fdca26\"],[1.0,\"#f0f921\"]]}],\"choropleth\":[{\"type\":\"choropleth\",\"colorbar\":{\"outlinewidth\":0,\"ticks\":\"\"}}],\"histogram2d\":[{\"type\":\"histogram2d\",\"colorbar\":{\"outlinewidth\":0,\"ticks\":\"\"},\"colorscale\":[[0.0,\"#0d0887\"],[0.1111111111111111,\"#46039f\"],[0.2222222222222222,\"#7201a8\"],[0.3333333333333333,\"#9c179e\"],[0.4444444444444444,\"#bd3786\"],[0.5555555555555556,\"#d8576b\"],[0.6666666666666666,\"#ed7953\"],[0.7777777777777778,\"#fb9f3a\"],[0.8888888888888888,\"#fdca26\"],[1.0,\"#f0f921\"]]}],\"heatmap\":[{\"type\":\"heatmap\",\"colorbar\":{\"outlinewidth\":0,\"ticks\":\"\"},\"colorscale\":[[0.0,\"#0d0887\"],[0.1111111111111111,\"#46039f\"],[0.2222222222222222,\"#7201a8\"],[0.3333333333333333,\"#9c179e\"],[0.4444444444444444,\"#bd3786\"],[0.5555555555555556,\"#d8576b\"],[0.6666666666666666,\"#ed7953\"],[0.7777777777777778,\"#fb9f3a\"],[0.8888888888888888,\"#fdca26\"],[1.0,\"#f0f921\"]]}],\"heatmapgl\":[{\"type\":\"heatmapgl\",\"colorbar\":{\"outlinewidth\":0,\"ticks\":\"\"},\"colorscale\":[[0.0,\"#0d0887\"],[0.1111111111111111,\"#46039f\"],[0.2222222222222222,\"#7201a8\"],[0.3333333333333333,\"#9c179e\"],[0.4444444444444444,\"#bd3786\"],[0.5555555555555556,\"#d8576b\"],[0.6666666666666666,\"#ed7953\"],[0.7777777777777778,\"#fb9f3a\"],[0.8888888888888888,\"#fdca26\"],[1.0,\"#f0f921\"]]}],\"contourcarpet\":[{\"type\":\"contourcarpet\",\"colorbar\":{\"outlinewidth\":0,\"ticks\":\"\"}}],\"contour\":[{\"type\":\"contour\",\"colorbar\":{\"outlinewidth\":0,\"ticks\":\"\"},\"colorscale\":[[0.0,\"#0d0887\"],[0.1111111111111111,\"#46039f\"],[0.2222222222222222,\"#7201a8\"],[0.3333333333333333,\"#9c179e\"],[0.4444444444444444,\"#bd3786\"],[0.5555555555555556,\"#d8576b\"],[0.6666666666666666,\"#ed7953\"],[0.7777777777777778,\"#fb9f3a\"],[0.8888888888888888,\"#fdca26\"],[1.0,\"#f0f921\"]]}],\"surface\":[{\"type\":\"surface\",\"colorbar\":{\"outlinewidth\":0,\"ticks\":\"\"},\"colorscale\":[[0.0,\"#0d0887\"],[0.1111111111111111,\"#46039f\"],[0.2222222222222222,\"#7201a8\"],[0.3333333333333333,\"#9c179e\"],[0.4444444444444444,\"#bd3786\"],[0.5555555555555556,\"#d8576b\"],[0.6666666666666666,\"#ed7953\"],[0.7777777777777778,\"#fb9f3a\"],[0.8888888888888888,\"#fdca26\"],[1.0,\"#f0f921\"]]}],\"mesh3d\":[{\"type\":\"mesh3d\",\"colorbar\":{\"outlinewidth\":0,\"ticks\":\"\"}}],\"scatter\":[{\"fillpattern\":{\"fillmode\":\"overlay\",\"size\":10,\"solidity\":0.2},\"type\":\"scatter\"}],\"parcoords\":[{\"type\":\"parcoords\",\"line\":{\"colorbar\":{\"outlinewidth\":0,\"ticks\":\"\"}}}],\"scatterpolargl\":[{\"type\":\"scatterpolargl\",\"marker\":{\"colorbar\":{\"outlinewidth\":0,\"ticks\":\"\"}}}],\"bar\":[{\"error_x\":{\"color\":\"#2a3f5f\"},\"error_y\":{\"color\":\"#2a3f5f\"},\"marker\":{\"line\":{\"color\":\"#E5ECF6\",\"width\":0.5},\"pattern\":{\"fillmode\":\"overlay\",\"size\":10,\"solidity\":0.2}},\"type\":\"bar\"}],\"scattergeo\":[{\"type\":\"scattergeo\",\"marker\":{\"colorbar\":{\"outlinewidth\":0,\"ticks\":\"\"}}}],\"scatterpolar\":[{\"type\":\"scatterpolar\",\"marker\":{\"colorbar\":{\"outlinewidth\":0,\"ticks\":\"\"}}}],\"histogram\":[{\"marker\":{\"pattern\":{\"fillmode\":\"overlay\",\"size\":10,\"solidity\":0.2}},\"type\":\"histogram\"}],\"scattergl\":[{\"type\":\"scattergl\",\"marker\":{\"colorbar\":{\"outlinewidth\":0,\"ticks\":\"\"}}}],\"scatter3d\":[{\"type\":\"scatter3d\",\"line\":{\"colorbar\":{\"outlinewidth\":0,\"ticks\":\"\"}},\"marker\":{\"colorbar\":{\"outlinewidth\":0,\"ticks\":\"\"}}}],\"scattermapbox\":[{\"type\":\"scattermapbox\",\"marker\":{\"colorbar\":{\"outlinewidth\":0,\"ticks\":\"\"}}}],\"scatterternary\":[{\"type\":\"scatterternary\",\"marker\":{\"colorbar\":{\"outlinewidth\":0,\"ticks\":\"\"}}}],\"scattercarpet\":[{\"type\":\"scattercarpet\",\"marker\":{\"colorbar\":{\"outlinewidth\":0,\"ticks\":\"\"}}}],\"carpet\":[{\"aaxis\":{\"endlinecolor\":\"#2a3f5f\",\"gridcolor\":\"white\",\"linecolor\":\"white\",\"minorgridcolor\":\"white\",\"startlinecolor\":\"#2a3f5f\"},\"baxis\":{\"endlinecolor\":\"#2a3f5f\",\"gridcolor\":\"white\",\"linecolor\":\"white\",\"minorgridcolor\":\"white\",\"startlinecolor\":\"#2a3f5f\"},\"type\":\"carpet\"}],\"table\":[{\"cells\":{\"fill\":{\"color\":\"#EBF0F8\"},\"line\":{\"color\":\"white\"}},\"header\":{\"fill\":{\"color\":\"#C8D4E3\"},\"line\":{\"color\":\"white\"}},\"type\":\"table\"}],\"barpolar\":[{\"marker\":{\"line\":{\"color\":\"#E5ECF6\",\"width\":0.5},\"pattern\":{\"fillmode\":\"overlay\",\"size\":10,\"solidity\":0.2}},\"type\":\"barpolar\"}],\"pie\":[{\"automargin\":true,\"type\":\"pie\"}]},\"layout\":{\"autotypenumbers\":\"strict\",\"colorway\":[\"#636efa\",\"#EF553B\",\"#00cc96\",\"#ab63fa\",\"#FFA15A\",\"#19d3f3\",\"#FF6692\",\"#B6E880\",\"#FF97FF\",\"#FECB52\"],\"font\":{\"color\":\"#2a3f5f\"},\"hovermode\":\"closest\",\"hoverlabel\":{\"align\":\"left\"},\"paper_bgcolor\":\"white\",\"plot_bgcolor\":\"#E5ECF6\",\"polar\":{\"bgcolor\":\"#E5ECF6\",\"angularaxis\":{\"gridcolor\":\"white\",\"linecolor\":\"white\",\"ticks\":\"\"},\"radialaxis\":{\"gridcolor\":\"white\",\"linecolor\":\"white\",\"ticks\":\"\"}},\"ternary\":{\"bgcolor\":\"#E5ECF6\",\"aaxis\":{\"gridcolor\":\"white\",\"linecolor\":\"white\",\"ticks\":\"\"},\"baxis\":{\"gridcolor\":\"white\",\"linecolor\":\"white\",\"ticks\":\"\"},\"caxis\":{\"gridcolor\":\"white\",\"linecolor\":\"white\",\"ticks\":\"\"}},\"coloraxis\":{\"colorbar\":{\"outlinewidth\":0,\"ticks\":\"\"}},\"colorscale\":{\"sequential\":[[0.0,\"#0d0887\"],[0.1111111111111111,\"#46039f\"],[0.2222222222222222,\"#7201a8\"],[0.3333333333333333,\"#9c179e\"],[0.4444444444444444,\"#bd3786\"],[0.5555555555555556,\"#d8576b\"],[0.6666666666666666,\"#ed7953\"],[0.7777777777777778,\"#fb9f3a\"],[0.8888888888888888,\"#fdca26\"],[1.0,\"#f0f921\"]],\"sequentialminus\":[[0.0,\"#0d0887\"],[0.1111111111111111,\"#46039f\"],[0.2222222222222222,\"#7201a8\"],[0.3333333333333333,\"#9c179e\"],[0.4444444444444444,\"#bd3786\"],[0.5555555555555556,\"#d8576b\"],[0.6666666666666666,\"#ed7953\"],[0.7777777777777778,\"#fb9f3a\"],[0.8888888888888888,\"#fdca26\"],[1.0,\"#f0f921\"]],\"diverging\":[[0,\"#8e0152\"],[0.1,\"#c51b7d\"],[0.2,\"#de77ae\"],[0.3,\"#f1b6da\"],[0.4,\"#fde0ef\"],[0.5,\"#f7f7f7\"],[0.6,\"#e6f5d0\"],[0.7,\"#b8e186\"],[0.8,\"#7fbc41\"],[0.9,\"#4d9221\"],[1,\"#276419\"]]},\"xaxis\":{\"gridcolor\":\"white\",\"linecolor\":\"white\",\"ticks\":\"\",\"title\":{\"standoff\":15},\"zerolinecolor\":\"white\",\"automargin\":true,\"zerolinewidth\":2},\"yaxis\":{\"gridcolor\":\"white\",\"linecolor\":\"white\",\"ticks\":\"\",\"title\":{\"standoff\":15},\"zerolinecolor\":\"white\",\"automargin\":true,\"zerolinewidth\":2},\"scene\":{\"xaxis\":{\"backgroundcolor\":\"#E5ECF6\",\"gridcolor\":\"white\",\"linecolor\":\"white\",\"showbackground\":true,\"ticks\":\"\",\"zerolinecolor\":\"white\",\"gridwidth\":2},\"yaxis\":{\"backgroundcolor\":\"#E5ECF6\",\"gridcolor\":\"white\",\"linecolor\":\"white\",\"showbackground\":true,\"ticks\":\"\",\"zerolinecolor\":\"white\",\"gridwidth\":2},\"zaxis\":{\"backgroundcolor\":\"#E5ECF6\",\"gridcolor\":\"white\",\"linecolor\":\"white\",\"showbackground\":true,\"ticks\":\"\",\"zerolinecolor\":\"white\",\"gridwidth\":2}},\"shapedefaults\":{\"line\":{\"color\":\"#2a3f5f\"}},\"annotationdefaults\":{\"arrowcolor\":\"#2a3f5f\",\"arrowhead\":0,\"arrowwidth\":1},\"geo\":{\"bgcolor\":\"white\",\"landcolor\":\"#E5ECF6\",\"subunitcolor\":\"white\",\"showland\":true,\"showlakes\":true,\"lakecolor\":\"white\"},\"title\":{\"x\":0.05},\"mapbox\":{\"style\":\"light\"}}},\"scene\":{\"domain\":{\"x\":[0.0,1.0],\"y\":[0.0,1.0]},\"xaxis\":{\"title\":{\"text\":\"0\"}},\"yaxis\":{\"title\":{\"text\":\"1\"}},\"zaxis\":{\"title\":{\"text\":\"2\"}}},\"legend\":{\"title\":{\"text\":\"Dominant_Topic\"},\"tracegroupgap\":0},\"title\":{\"text\":\"3d TSNE Plot for Topic Model\"},\"height\":800,\"width\":900},                        {\"responsive\": true}                    ).then(function(){\n",
       "                            \n",
       "var gd = document.getElementById('4de2fef0-a53a-48db-986b-715b7abd072e');\n",
       "var x = new MutationObserver(function (mutations, observer) {{\n",
       "        var display = window.getComputedStyle(gd).display;\n",
       "        if (!display || display === 'none') {{\n",
       "            console.log([gd, 'removed!']);\n",
       "            Plotly.purge(gd);\n",
       "            observer.disconnect();\n",
       "        }}\n",
       "}});\n",
       "\n",
       "// Listen for the removal of the full notebook cells\n",
       "var notebookContainer = gd.closest('#notebook-container');\n",
       "if (notebookContainer) {{\n",
       "    x.observe(notebookContainer, {childList: true});\n",
       "}}\n",
       "\n",
       "// Listen for the clearing of the current output cell\n",
       "var outputEl = gd.closest('.output');\n",
       "if (outputEl) {{\n",
       "    x.observe(outputEl, {childList: true});\n",
       "}}\n",
       "\n",
       "                        })                };                });            </script>        </div>"
      ]
     },
     "metadata": {},
     "output_type": "display_data"
    }
   ],
   "source": [
    "plot_model(hdp, plot = 'tsne')"
   ]
  },
  {
   "cell_type": "code",
   "execution_count": 23,
   "id": "4c0a1fd8-bf81-41ae-ad06-b8822f8e2c87",
   "metadata": {},
   "outputs": [
    {
     "data": {
      "text/html": [
       "        <script type=\"text/javascript\">\n",
       "        window.PlotlyConfig = {MathJaxConfig: 'local'};\n",
       "        if (window.MathJax) {MathJax.Hub.Config({SVG: {font: \"STIX-Web\"}});}\n",
       "        if (typeof require !== 'undefined') {\n",
       "        require.undef(\"plotly\");\n",
       "        requirejs.config({\n",
       "            paths: {\n",
       "                'plotly': ['https://cdn.plot.ly/plotly-2.11.1.min']\n",
       "            }\n",
       "        });\n",
       "        require(['plotly'], function(Plotly) {\n",
       "            window._Plotly = Plotly;\n",
       "        });\n",
       "        }\n",
       "        </script>\n",
       "        "
      ]
     },
     "metadata": {},
     "output_type": "display_data"
    },
    {
     "data": {
      "image/png": "[encoded data removed]",
      "text/plain": [
       "<Figure size 720x432 with 1 Axes>"
      ]
     },
     "metadata": {},
     "output_type": "display_data"
    }
   ],
   "source": [
    "plot_model(hdp, plot = 'umap')"
   ]
  }
 ],
 "metadata": {
  "kernelspec": {
   "display_name": "Python 3 (ipykernel)",
   "language": "python",
   "name": "python3"
  },
  "language_info": {
   "codemirror_mode": {
    "name": "ipython",
    "version": 3
   },
   "file_extension": ".py",
   "mimetype": "text/x-python",
   "name": "python",
   "nbconvert_exporter": "python",
   "pygments_lexer": "ipython3",
   "version": "3.9.7"
  }
 },
 "nbformat": 4,
 "nbformat_minor": 5
}
